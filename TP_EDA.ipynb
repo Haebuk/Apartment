{
  "nbformat": 4,
  "nbformat_minor": 0,
  "metadata": {
    "colab": {
      "name": "TP_EDA.ipynb",
      "provenance": [],
      "mount_file_id": "1RNYa0pzHVzrr6FyQMunfdVoesR8FPc0Z",
      "authorship_tag": "ABX9TyMZ4kxsYypdKfz3UDwls0mI",
      "include_colab_link": true
    },
    "kernelspec": {
      "name": "python3",
      "display_name": "Python 3"
    },
    "language_info": {
      "name": "python"
    }
  },
  "cells": [
    {
      "cell_type": "markdown",
      "metadata": {
        "id": "view-in-github",
        "colab_type": "text"
      },
      "source": [
        "<a href=\"https://colab.research.google.com/github/Haebuk/dataminingTP/blob/main/TP_EDA.ipynb\" target=\"_parent\"><img src=\"https://colab.research.google.com/assets/colab-badge.svg\" alt=\"Open In Colab\"/></a>"
      ]
    },
    {
      "cell_type": "code",
      "metadata": {
        "id": "WVfYQkNBcH-s"
      },
      "source": [
        "import pandas as pd\n",
        "import numpy as np\n",
        "import seaborn as sns\n",
        "import matplotlib.pyplot as plt"
      ],
      "execution_count": 1,
      "outputs": []
    },
    {
      "cell_type": "code",
      "metadata": {
        "id": "8UJnDXwlcQO-"
      },
      "source": [
        "PATH = '/content/drive/MyDrive/input/dataminingTP/'\n",
        "train_df = pd.read_csv(PATH + 'train.csv')\n",
        "test_df = pd.read_csv(PATH + 'test.csv')"
      ],
      "execution_count": 2,
      "outputs": []
    },
    {
      "cell_type": "code",
      "metadata": {
        "colab": {
          "base_uri": "https://localhost:8080/"
        },
        "id": "GOk4CLovcek8",
        "outputId": "ce38b3f3-ecef-40b0-c0d9-fe32af6e6295"
      },
      "source": [
        "print(train_df.shape, test_df.shape)"
      ],
      "execution_count": 3,
      "outputs": [
        {
          "output_type": "stream",
          "text": [
            "(1216553, 13) (5463, 12)\n"
          ],
          "name": "stdout"
        }
      ]
    },
    {
      "cell_type": "code",
      "metadata": {
        "id": "Z_GgfcS6ch28",
        "colab": {
          "base_uri": "https://localhost:8080/",
          "height": 557
        },
        "outputId": "96fbce21-4b55-497a-ef85-9a1c4f55ae16"
      },
      "source": [
        "train_df.head()"
      ],
      "execution_count": 4,
      "outputs": [
        {
          "output_type": "execute_result",
          "data": {
            "text/html": [
              "<div>\n",
              "<style scoped>\n",
              "    .dataframe tbody tr th:only-of-type {\n",
              "        vertical-align: middle;\n",
              "    }\n",
              "\n",
              "    .dataframe tbody tr th {\n",
              "        vertical-align: top;\n",
              "    }\n",
              "\n",
              "    .dataframe thead th {\n",
              "        text-align: right;\n",
              "    }\n",
              "</style>\n",
              "<table border=\"1\" class=\"dataframe\">\n",
              "  <thead>\n",
              "    <tr style=\"text-align: right;\">\n",
              "      <th></th>\n",
              "      <th>transaction_id</th>\n",
              "      <th>apartment_id</th>\n",
              "      <th>city</th>\n",
              "      <th>dong</th>\n",
              "      <th>jibun</th>\n",
              "      <th>apt</th>\n",
              "      <th>addr_kr</th>\n",
              "      <th>exclusive_use_area</th>\n",
              "      <th>year_of_completion</th>\n",
              "      <th>transaction_year_month</th>\n",
              "      <th>transaction_date</th>\n",
              "      <th>floor</th>\n",
              "      <th>transaction_real_price</th>\n",
              "    </tr>\n",
              "  </thead>\n",
              "  <tbody>\n",
              "    <tr>\n",
              "      <th>0</th>\n",
              "      <td>0</td>\n",
              "      <td>7622</td>\n",
              "      <td>서울특별시</td>\n",
              "      <td>신교동</td>\n",
              "      <td>6-13</td>\n",
              "      <td>신현(101동)</td>\n",
              "      <td>신교동 6-13 신현(101동)</td>\n",
              "      <td>84.82</td>\n",
              "      <td>2002</td>\n",
              "      <td>200801</td>\n",
              "      <td>21~31</td>\n",
              "      <td>2</td>\n",
              "      <td>37500</td>\n",
              "    </tr>\n",
              "    <tr>\n",
              "      <th>1</th>\n",
              "      <td>1</td>\n",
              "      <td>5399</td>\n",
              "      <td>서울특별시</td>\n",
              "      <td>필운동</td>\n",
              "      <td>142</td>\n",
              "      <td>사직파크맨션</td>\n",
              "      <td>필운동 142 사직파크맨션</td>\n",
              "      <td>99.17</td>\n",
              "      <td>1973</td>\n",
              "      <td>200801</td>\n",
              "      <td>1~10</td>\n",
              "      <td>6</td>\n",
              "      <td>20000</td>\n",
              "    </tr>\n",
              "    <tr>\n",
              "      <th>2</th>\n",
              "      <td>2</td>\n",
              "      <td>3578</td>\n",
              "      <td>서울특별시</td>\n",
              "      <td>필운동</td>\n",
              "      <td>174-1</td>\n",
              "      <td>두레엘리시안</td>\n",
              "      <td>필운동 174-1 두레엘리시안</td>\n",
              "      <td>84.74</td>\n",
              "      <td>2007</td>\n",
              "      <td>200801</td>\n",
              "      <td>1~10</td>\n",
              "      <td>6</td>\n",
              "      <td>38500</td>\n",
              "    </tr>\n",
              "    <tr>\n",
              "      <th>3</th>\n",
              "      <td>3</td>\n",
              "      <td>10957</td>\n",
              "      <td>서울특별시</td>\n",
              "      <td>내수동</td>\n",
              "      <td>95</td>\n",
              "      <td>파크팰리스</td>\n",
              "      <td>내수동 95 파크팰리스</td>\n",
              "      <td>146.39</td>\n",
              "      <td>2003</td>\n",
              "      <td>200801</td>\n",
              "      <td>11~20</td>\n",
              "      <td>15</td>\n",
              "      <td>118000</td>\n",
              "    </tr>\n",
              "    <tr>\n",
              "      <th>4</th>\n",
              "      <td>4</td>\n",
              "      <td>10639</td>\n",
              "      <td>서울특별시</td>\n",
              "      <td>내수동</td>\n",
              "      <td>110-15</td>\n",
              "      <td>킹스매너</td>\n",
              "      <td>내수동 110-15 킹스매너</td>\n",
              "      <td>194.43</td>\n",
              "      <td>2004</td>\n",
              "      <td>200801</td>\n",
              "      <td>21~31</td>\n",
              "      <td>3</td>\n",
              "      <td>120000</td>\n",
              "    </tr>\n",
              "  </tbody>\n",
              "</table>\n",
              "</div>"
            ],
            "text/plain": [
              "   transaction_id  apartment_id  ... floor transaction_real_price\n",
              "0               0          7622  ...     2                  37500\n",
              "1               1          5399  ...     6                  20000\n",
              "2               2          3578  ...     6                  38500\n",
              "3               3         10957  ...    15                 118000\n",
              "4               4         10639  ...     3                 120000\n",
              "\n",
              "[5 rows x 13 columns]"
            ]
          },
          "metadata": {
            "tags": []
          },
          "execution_count": 4
        }
      ]
    },
    {
      "cell_type": "code",
      "metadata": {
        "id": "FjkuaILlcivc",
        "colab": {
          "base_uri": "https://localhost:8080/",
          "height": 294
        },
        "outputId": "78aae28d-1793-43df-ebde-db6a05bf37a8"
      },
      "source": [
        "test_df.head(3)"
      ],
      "execution_count": 5,
      "outputs": [
        {
          "output_type": "execute_result",
          "data": {
            "text/html": [
              "<div>\n",
              "<style scoped>\n",
              "    .dataframe tbody tr th:only-of-type {\n",
              "        vertical-align: middle;\n",
              "    }\n",
              "\n",
              "    .dataframe tbody tr th {\n",
              "        vertical-align: top;\n",
              "    }\n",
              "\n",
              "    .dataframe thead th {\n",
              "        text-align: right;\n",
              "    }\n",
              "</style>\n",
              "<table border=\"1\" class=\"dataframe\">\n",
              "  <thead>\n",
              "    <tr style=\"text-align: right;\">\n",
              "      <th></th>\n",
              "      <th>transaction_id</th>\n",
              "      <th>apartment_id</th>\n",
              "      <th>city</th>\n",
              "      <th>dong</th>\n",
              "      <th>jibun</th>\n",
              "      <th>apt</th>\n",
              "      <th>addr_kr</th>\n",
              "      <th>exclusive_use_area</th>\n",
              "      <th>year_of_completion</th>\n",
              "      <th>transaction_year_month</th>\n",
              "      <th>transaction_date</th>\n",
              "      <th>floor</th>\n",
              "    </tr>\n",
              "  </thead>\n",
              "  <tbody>\n",
              "    <tr>\n",
              "      <th>0</th>\n",
              "      <td>1145756</td>\n",
              "      <td>10453</td>\n",
              "      <td>서울특별시</td>\n",
              "      <td>목동</td>\n",
              "      <td>938</td>\n",
              "      <td>청학</td>\n",
              "      <td>목동 938 청학</td>\n",
              "      <td>35.55</td>\n",
              "      <td>2002</td>\n",
              "      <td>201711</td>\n",
              "      <td>11~20</td>\n",
              "      <td>2</td>\n",
              "    </tr>\n",
              "    <tr>\n",
              "      <th>1</th>\n",
              "      <td>1198704</td>\n",
              "      <td>989</td>\n",
              "      <td>부산광역시</td>\n",
              "      <td>초량동</td>\n",
              "      <td>1143-8</td>\n",
              "      <td>고관맨션</td>\n",
              "      <td>초량동 1143-8 고관맨션</td>\n",
              "      <td>68.72</td>\n",
              "      <td>1977</td>\n",
              "      <td>201708</td>\n",
              "      <td>21~31</td>\n",
              "      <td>2</td>\n",
              "    </tr>\n",
              "    <tr>\n",
              "      <th>2</th>\n",
              "      <td>1222384</td>\n",
              "      <td>8597</td>\n",
              "      <td>부산광역시</td>\n",
              "      <td>괴정동</td>\n",
              "      <td>447-13</td>\n",
              "      <td>우림그린</td>\n",
              "      <td>괴정동 447-13 우림그린</td>\n",
              "      <td>72.54</td>\n",
              "      <td>1989</td>\n",
              "      <td>201710</td>\n",
              "      <td>11~20</td>\n",
              "      <td>2</td>\n",
              "    </tr>\n",
              "  </tbody>\n",
              "</table>\n",
              "</div>"
            ],
            "text/plain": [
              "   transaction_id  apartment_id  ... transaction_date floor\n",
              "0         1145756         10453  ...            11~20     2\n",
              "1         1198704           989  ...            21~31     2\n",
              "2         1222384          8597  ...            11~20     2\n",
              "\n",
              "[3 rows x 12 columns]"
            ]
          },
          "metadata": {
            "tags": []
          },
          "execution_count": 5
        }
      ]
    },
    {
      "cell_type": "code",
      "metadata": {
        "id": "VAABZzbUckSk",
        "colab": {
          "base_uri": "https://localhost:8080/"
        },
        "outputId": "f874b627-7dca-45e1-9a8d-9c520133182f"
      },
      "source": [
        "train_df.info()"
      ],
      "execution_count": 6,
      "outputs": [
        {
          "output_type": "stream",
          "text": [
            "<class 'pandas.core.frame.DataFrame'>\n",
            "RangeIndex: 1216553 entries, 0 to 1216552\n",
            "Data columns (total 13 columns):\n",
            " #   Column                  Non-Null Count    Dtype  \n",
            "---  ------                  --------------    -----  \n",
            " 0   transaction_id          1216553 non-null  int64  \n",
            " 1   apartment_id            1216553 non-null  int64  \n",
            " 2   city                    1216553 non-null  object \n",
            " 3   dong                    1216553 non-null  object \n",
            " 4   jibun                   1216553 non-null  object \n",
            " 5   apt                     1216553 non-null  object \n",
            " 6   addr_kr                 1216553 non-null  object \n",
            " 7   exclusive_use_area      1216553 non-null  float64\n",
            " 8   year_of_completion      1216553 non-null  int64  \n",
            " 9   transaction_year_month  1216553 non-null  int64  \n",
            " 10  transaction_date        1216553 non-null  object \n",
            " 11  floor                   1216553 non-null  int64  \n",
            " 12  transaction_real_price  1216553 non-null  int64  \n",
            "dtypes: float64(1), int64(6), object(6)\n",
            "memory usage: 120.7+ MB\n"
          ],
          "name": "stdout"
        }
      ]
    },
    {
      "cell_type": "code",
      "metadata": {
        "id": "vFF0BC7ObxGU",
        "colab": {
          "base_uri": "https://localhost:8080/",
          "height": 309
        },
        "outputId": "080a45ec-001a-474e-a3c1-a7327878bdb9"
      },
      "source": [
        "train_df.describe()"
      ],
      "execution_count": 7,
      "outputs": [
        {
          "output_type": "execute_result",
          "data": {
            "text/html": [
              "<div>\n",
              "<style scoped>\n",
              "    .dataframe tbody tr th:only-of-type {\n",
              "        vertical-align: middle;\n",
              "    }\n",
              "\n",
              "    .dataframe tbody tr th {\n",
              "        vertical-align: top;\n",
              "    }\n",
              "\n",
              "    .dataframe thead th {\n",
              "        text-align: right;\n",
              "    }\n",
              "</style>\n",
              "<table border=\"1\" class=\"dataframe\">\n",
              "  <thead>\n",
              "    <tr style=\"text-align: right;\">\n",
              "      <th></th>\n",
              "      <th>transaction_id</th>\n",
              "      <th>apartment_id</th>\n",
              "      <th>exclusive_use_area</th>\n",
              "      <th>year_of_completion</th>\n",
              "      <th>transaction_year_month</th>\n",
              "      <th>floor</th>\n",
              "      <th>transaction_real_price</th>\n",
              "    </tr>\n",
              "  </thead>\n",
              "  <tbody>\n",
              "    <tr>\n",
              "      <th>count</th>\n",
              "      <td>1.216553e+06</td>\n",
              "      <td>1.216553e+06</td>\n",
              "      <td>1.216553e+06</td>\n",
              "      <td>1.216553e+06</td>\n",
              "      <td>1.216553e+06</td>\n",
              "      <td>1.216553e+06</td>\n",
              "      <td>1.216553e+06</td>\n",
              "    </tr>\n",
              "    <tr>\n",
              "      <th>mean</th>\n",
              "      <td>6.091530e+05</td>\n",
              "      <td>6.299685e+03</td>\n",
              "      <td>7.816549e+01</td>\n",
              "      <td>1.998297e+03</td>\n",
              "      <td>2.012984e+05</td>\n",
              "      <td>9.343291e+00</td>\n",
              "      <td>3.822769e+04</td>\n",
              "    </tr>\n",
              "    <tr>\n",
              "      <th>std</th>\n",
              "      <td>3.526198e+05</td>\n",
              "      <td>3.581169e+03</td>\n",
              "      <td>2.915113e+01</td>\n",
              "      <td>8.941347e+00</td>\n",
              "      <td>2.905732e+02</td>\n",
              "      <td>6.606500e+00</td>\n",
              "      <td>3.104898e+04</td>\n",
              "    </tr>\n",
              "    <tr>\n",
              "      <th>min</th>\n",
              "      <td>0.000000e+00</td>\n",
              "      <td>0.000000e+00</td>\n",
              "      <td>9.260000e+00</td>\n",
              "      <td>1.961000e+03</td>\n",
              "      <td>2.008010e+05</td>\n",
              "      <td>-4.000000e+00</td>\n",
              "      <td>1.000000e+02</td>\n",
              "    </tr>\n",
              "    <tr>\n",
              "      <th>25%</th>\n",
              "      <td>3.041380e+05</td>\n",
              "      <td>3.345000e+03</td>\n",
              "      <td>5.976000e+01</td>\n",
              "      <td>1.993000e+03</td>\n",
              "      <td>2.010100e+05</td>\n",
              "      <td>4.000000e+00</td>\n",
              "      <td>1.900000e+04</td>\n",
              "    </tr>\n",
              "    <tr>\n",
              "      <th>50%</th>\n",
              "      <td>6.082760e+05</td>\n",
              "      <td>5.964000e+03</td>\n",
              "      <td>8.241000e+01</td>\n",
              "      <td>1.999000e+03</td>\n",
              "      <td>2.013120e+05</td>\n",
              "      <td>8.000000e+00</td>\n",
              "      <td>3.090000e+04</td>\n",
              "    </tr>\n",
              "    <tr>\n",
              "      <th>75%</th>\n",
              "      <td>9.124140e+05</td>\n",
              "      <td>9.436000e+03</td>\n",
              "      <td>8.497000e+01</td>\n",
              "      <td>2.005000e+03</td>\n",
              "      <td>2.015110e+05</td>\n",
              "      <td>1.300000e+01</td>\n",
              "      <td>4.700000e+04</td>\n",
              "    </tr>\n",
              "    <tr>\n",
              "      <th>max</th>\n",
              "      <td>1.234827e+06</td>\n",
              "      <td>1.265800e+04</td>\n",
              "      <td>4.243200e+02</td>\n",
              "      <td>2.017000e+03</td>\n",
              "      <td>2.017110e+05</td>\n",
              "      <td>8.000000e+01</td>\n",
              "      <td>8.200000e+05</td>\n",
              "    </tr>\n",
              "  </tbody>\n",
              "</table>\n",
              "</div>"
            ],
            "text/plain": [
              "       transaction_id  apartment_id  ...         floor  transaction_real_price\n",
              "count    1.216553e+06  1.216553e+06  ...  1.216553e+06            1.216553e+06\n",
              "mean     6.091530e+05  6.299685e+03  ...  9.343291e+00            3.822769e+04\n",
              "std      3.526198e+05  3.581169e+03  ...  6.606500e+00            3.104898e+04\n",
              "min      0.000000e+00  0.000000e+00  ... -4.000000e+00            1.000000e+02\n",
              "25%      3.041380e+05  3.345000e+03  ...  4.000000e+00            1.900000e+04\n",
              "50%      6.082760e+05  5.964000e+03  ...  8.000000e+00            3.090000e+04\n",
              "75%      9.124140e+05  9.436000e+03  ...  1.300000e+01            4.700000e+04\n",
              "max      1.234827e+06  1.265800e+04  ...  8.000000e+01            8.200000e+05\n",
              "\n",
              "[8 rows x 7 columns]"
            ]
          },
          "metadata": {
            "tags": []
          },
          "execution_count": 7
        }
      ]
    },
    {
      "cell_type": "code",
      "metadata": {
        "colab": {
          "base_uri": "https://localhost:8080/",
          "height": 149
        },
        "id": "MyecJ5D9BcKy",
        "outputId": "c9621c7d-d1ec-443b-c5f1-9517d35d3e94"
      },
      "source": [
        "train_df.loc[(train_df['transaction_real_price']==820000)]"
      ],
      "execution_count": 62,
      "outputs": [
        {
          "output_type": "execute_result",
          "data": {
            "text/html": [
              "<div>\n",
              "<style scoped>\n",
              "    .dataframe tbody tr th:only-of-type {\n",
              "        vertical-align: middle;\n",
              "    }\n",
              "\n",
              "    .dataframe tbody tr th {\n",
              "        vertical-align: top;\n",
              "    }\n",
              "\n",
              "    .dataframe thead th {\n",
              "        text-align: right;\n",
              "    }\n",
              "</style>\n",
              "<table border=\"1\" class=\"dataframe\">\n",
              "  <thead>\n",
              "    <tr style=\"text-align: right;\">\n",
              "      <th></th>\n",
              "      <th>transaction_id</th>\n",
              "      <th>apartment_id</th>\n",
              "      <th>city</th>\n",
              "      <th>dong</th>\n",
              "      <th>jibun</th>\n",
              "      <th>apt</th>\n",
              "      <th>addr_kr</th>\n",
              "      <th>exclusive_use_area</th>\n",
              "      <th>year_of_completion</th>\n",
              "      <th>transaction_year_month</th>\n",
              "      <th>transaction_date</th>\n",
              "      <th>floor</th>\n",
              "      <th>transaction_real_price</th>\n",
              "    </tr>\n",
              "  </thead>\n",
              "  <tbody>\n",
              "    <tr>\n",
              "      <th>23603</th>\n",
              "      <td>23603</td>\n",
              "      <td>11320</td>\n",
              "      <td>서울특별시</td>\n",
              "      <td>한남동</td>\n",
              "      <td>810</td>\n",
              "      <td>한남더힐</td>\n",
              "      <td>한남동 810 한남더힐</td>\n",
              "      <td>244.749</td>\n",
              "      <td>2011</td>\n",
              "      <td>201612</td>\n",
              "      <td>21~31</td>\n",
              "      <td>3</td>\n",
              "      <td>820000</td>\n",
              "    </tr>\n",
              "  </tbody>\n",
              "</table>\n",
              "</div>"
            ],
            "text/plain": [
              "       transaction_id  apartment_id  ... floor transaction_real_price\n",
              "23603           23603         11320  ...     3                 820000\n",
              "\n",
              "[1 rows x 13 columns]"
            ]
          },
          "metadata": {
            "tags": []
          },
          "execution_count": 62
        }
      ]
    },
    {
      "cell_type": "code",
      "metadata": {
        "colab": {
          "base_uri": "https://localhost:8080/",
          "height": 132
        },
        "id": "HxN6BCylBuwx",
        "outputId": "a4da5266-5ea2-4195-c9b8-ac36e8d9ae1f"
      },
      "source": [
        "train_df.loc[(train_df['transaction_real_price']==100)]"
      ],
      "execution_count": 63,
      "outputs": [
        {
          "output_type": "execute_result",
          "data": {
            "text/html": [
              "<div>\n",
              "<style scoped>\n",
              "    .dataframe tbody tr th:only-of-type {\n",
              "        vertical-align: middle;\n",
              "    }\n",
              "\n",
              "    .dataframe tbody tr th {\n",
              "        vertical-align: top;\n",
              "    }\n",
              "\n",
              "    .dataframe thead th {\n",
              "        text-align: right;\n",
              "    }\n",
              "</style>\n",
              "<table border=\"1\" class=\"dataframe\">\n",
              "  <thead>\n",
              "    <tr style=\"text-align: right;\">\n",
              "      <th></th>\n",
              "      <th>transaction_id</th>\n",
              "      <th>apartment_id</th>\n",
              "      <th>city</th>\n",
              "      <th>dong</th>\n",
              "      <th>jibun</th>\n",
              "      <th>apt</th>\n",
              "      <th>addr_kr</th>\n",
              "      <th>exclusive_use_area</th>\n",
              "      <th>year_of_completion</th>\n",
              "      <th>transaction_year_month</th>\n",
              "      <th>transaction_date</th>\n",
              "      <th>floor</th>\n",
              "      <th>transaction_real_price</th>\n",
              "    </tr>\n",
              "  </thead>\n",
              "  <tbody>\n",
              "    <tr>\n",
              "      <th>722888</th>\n",
              "      <td>722888</td>\n",
              "      <td>6225</td>\n",
              "      <td>부산광역시</td>\n",
              "      <td>범전동</td>\n",
              "      <td>263-5</td>\n",
              "      <td>서면</td>\n",
              "      <td>범전동 263-5 서면</td>\n",
              "      <td>138.25</td>\n",
              "      <td>1974</td>\n",
              "      <td>201606</td>\n",
              "      <td>21~30</td>\n",
              "      <td>-1</td>\n",
              "      <td>100</td>\n",
              "    </tr>\n",
              "  </tbody>\n",
              "</table>\n",
              "</div>"
            ],
            "text/plain": [
              "        transaction_id  apartment_id  ... floor transaction_real_price\n",
              "722888          722888          6225  ...    -1                    100\n",
              "\n",
              "[1 rows x 13 columns]"
            ]
          },
          "metadata": {
            "tags": []
          },
          "execution_count": 63
        }
      ]
    },
    {
      "cell_type": "code",
      "metadata": {
        "id": "uHQTsUdAVmeo"
      },
      "source": [
        "seoul_df = train_df[train_df['city'] == '서울특별시']\n",
        "busan_df = train_df[train_df['city'] == '부산광역시']\n",
        "\n"
      ],
      "execution_count": 8,
      "outputs": []
    },
    {
      "cell_type": "code",
      "metadata": {
        "colab": {
          "base_uri": "https://localhost:8080/"
        },
        "id": "sYWJj8qWKSbu",
        "outputId": "e2654d9b-0784-429c-96ec-e0883f23c737"
      },
      "source": [
        "print(len(seoul_df), len(busan_df), len(seoul_df) + len(busan_df))"
      ],
      "execution_count": 9,
      "outputs": [
        {
          "output_type": "stream",
          "text": [
            "742285 474268 1216553\n"
          ],
          "name": "stdout"
        }
      ]
    },
    {
      "cell_type": "code",
      "metadata": {
        "colab": {
          "base_uri": "https://localhost:8080/"
        },
        "id": "_vORhvKnTWES",
        "outputId": "51f01d21-3ddd-44c2-d835-0cf2499fbfde"
      },
      "source": [
        "train_df['dong'].nunique()"
      ],
      "execution_count": 10,
      "outputs": [
        {
          "output_type": "execute_result",
          "data": {
            "text/plain": [
              "473"
            ]
          },
          "metadata": {
            "tags": []
          },
          "execution_count": 10
        }
      ]
    },
    {
      "cell_type": "code",
      "metadata": {
        "colab": {
          "base_uri": "https://localhost:8080/"
        },
        "id": "ZAQSsBSYTtlc",
        "outputId": "5dbd06a7-25ca-42b8-ccb0-d8e285cc92fb"
      },
      "source": [
        "train_df['apt'].nunique()"
      ],
      "execution_count": 11,
      "outputs": [
        {
          "output_type": "execute_result",
          "data": {
            "text/plain": [
              "10440"
            ]
          },
          "metadata": {
            "tags": []
          },
          "execution_count": 11
        }
      ]
    },
    {
      "cell_type": "code",
      "metadata": {
        "colab": {
          "base_uri": "https://localhost:8080/"
        },
        "id": "qSKYUweFwOgt",
        "outputId": "740868c7-e969-4f86-ee04-caae29f32681"
      },
      "source": [
        "# 서울\n",
        "seoul_df.loc[seoul_df['city'] == '서울특별시', 'dong'].value_counts()"
      ],
      "execution_count": 12,
      "outputs": [
        {
          "output_type": "execute_result",
          "data": {
            "text/plain": [
              "상계동    29346\n",
              "중계동    17079\n",
              "신정동    16902\n",
              "창동     15474\n",
              "구로동    14372\n",
              "       ...  \n",
              "주성동        2\n",
              "누상동        2\n",
              "옥인동        1\n",
              "구수동        1\n",
              "효제동        1\n",
              "Name: dong, Length: 330, dtype: int64"
            ]
          },
          "metadata": {
            "tags": []
          },
          "execution_count": 12
        }
      ]
    },
    {
      "cell_type": "code",
      "metadata": {
        "id": "ePrp8DifVPpD",
        "colab": {
          "base_uri": "https://localhost:8080/",
          "height": 248
        },
        "outputId": "357dcc04-3046-4503-c4b6-56018863d0f1"
      },
      "source": [
        "\n",
        "ratio = [34, 32, 16, 18]\n",
        "labels = ['Apple', 'Banana', 'Melon', 'Grapes']\n",
        "colors = ['#ff9999', '#ffc000', '#8fd9b6', '#d395d0']\n",
        "wedgeprops={'width': 0.7, 'edgecolor': 'w', 'linewidth': 5}\n",
        "\n",
        "plt.pie(ratio, labels=labels, autopct='%.1f%%', startangle=260, counterclock=False, colors=colors, wedgeprops=wedgeprops)\n",
        "plt.show()"
      ],
      "execution_count": 13,
      "outputs": [
        {
          "output_type": "display_data",
          "data": {
            "image/png": "[encoded data removed]",
            "text/plain": [
              "<Figure size 432x288 with 1 Axes>"
            ]
          },
          "metadata": {
            "tags": []
          }
        }
      ]
    },
    {
      "cell_type": "code",
      "metadata": {
        "colab": {
          "base_uri": "https://localhost:8080/",
          "height": 309
        },
        "id": "SU0YS9tPrFt-",
        "outputId": "d2c01a57-af0a-440a-e930-36924c4b60ea"
      },
      "source": [
        "test_df.describe()"
      ],
      "execution_count": 14,
      "outputs": [
        {
          "output_type": "execute_result",
          "data": {
            "text/html": [
              "<div>\n",
              "<style scoped>\n",
              "    .dataframe tbody tr th:only-of-type {\n",
              "        vertical-align: middle;\n",
              "    }\n",
              "\n",
              "    .dataframe tbody tr th {\n",
              "        vertical-align: top;\n",
              "    }\n",
              "\n",
              "    .dataframe thead th {\n",
              "        text-align: right;\n",
              "    }\n",
              "</style>\n",
              "<table border=\"1\" class=\"dataframe\">\n",
              "  <thead>\n",
              "    <tr style=\"text-align: right;\">\n",
              "      <th></th>\n",
              "      <th>transaction_id</th>\n",
              "      <th>apartment_id</th>\n",
              "      <th>exclusive_use_area</th>\n",
              "      <th>year_of_completion</th>\n",
              "      <th>transaction_year_month</th>\n",
              "      <th>floor</th>\n",
              "    </tr>\n",
              "  </thead>\n",
              "  <tbody>\n",
              "    <tr>\n",
              "      <th>count</th>\n",
              "      <td>5.463000e+03</td>\n",
              "      <td>5463.000000</td>\n",
              "      <td>5463.000000</td>\n",
              "      <td>5463.000000</td>\n",
              "      <td>5463.000000</td>\n",
              "      <td>5463.000000</td>\n",
              "    </tr>\n",
              "    <tr>\n",
              "      <th>mean</th>\n",
              "      <td>1.167126e+06</td>\n",
              "      <td>6287.570932</td>\n",
              "      <td>79.495250</td>\n",
              "      <td>2000.431082</td>\n",
              "      <td>201710.228446</td>\n",
              "      <td>8.266886</td>\n",
              "    </tr>\n",
              "    <tr>\n",
              "      <th>std</th>\n",
              "      <td>4.075365e+04</td>\n",
              "      <td>3624.756304</td>\n",
              "      <td>32.935434</td>\n",
              "      <td>9.982040</td>\n",
              "      <td>2.798195</td>\n",
              "      <td>6.082475</td>\n",
              "    </tr>\n",
              "    <tr>\n",
              "      <th>min</th>\n",
              "      <td>1.092791e+06</td>\n",
              "      <td>12.000000</td>\n",
              "      <td>10.321500</td>\n",
              "      <td>1961.000000</td>\n",
              "      <td>201701.000000</td>\n",
              "      <td>-1.000000</td>\n",
              "    </tr>\n",
              "    <tr>\n",
              "      <th>25%</th>\n",
              "      <td>1.134296e+06</td>\n",
              "      <td>3278.000000</td>\n",
              "      <td>59.760000</td>\n",
              "      <td>1995.000000</td>\n",
              "      <td>201709.000000</td>\n",
              "      <td>4.000000</td>\n",
              "    </tr>\n",
              "    <tr>\n",
              "      <th>50%</th>\n",
              "      <td>1.167937e+06</td>\n",
              "      <td>6091.000000</td>\n",
              "      <td>81.720000</td>\n",
              "      <td>2002.000000</td>\n",
              "      <td>201712.000000</td>\n",
              "      <td>7.000000</td>\n",
              "    </tr>\n",
              "    <tr>\n",
              "      <th>75%</th>\n",
              "      <td>1.202560e+06</td>\n",
              "      <td>9416.500000</td>\n",
              "      <td>84.970000</td>\n",
              "      <td>2007.000000</td>\n",
              "      <td>201712.000000</td>\n",
              "      <td>11.000000</td>\n",
              "    </tr>\n",
              "    <tr>\n",
              "      <th>max</th>\n",
              "      <td>1.234930e+06</td>\n",
              "      <td>12652.000000</td>\n",
              "      <td>273.860000</td>\n",
              "      <td>2017.000000</td>\n",
              "      <td>201712.000000</td>\n",
              "      <td>55.000000</td>\n",
              "    </tr>\n",
              "  </tbody>\n",
              "</table>\n",
              "</div>"
            ],
            "text/plain": [
              "       transaction_id  apartment_id  ...  transaction_year_month        floor\n",
              "count    5.463000e+03   5463.000000  ...             5463.000000  5463.000000\n",
              "mean     1.167126e+06   6287.570932  ...           201710.228446     8.266886\n",
              "std      4.075365e+04   3624.756304  ...                2.798195     6.082475\n",
              "min      1.092791e+06     12.000000  ...           201701.000000    -1.000000\n",
              "25%      1.134296e+06   3278.000000  ...           201709.000000     4.000000\n",
              "50%      1.167937e+06   6091.000000  ...           201712.000000     7.000000\n",
              "75%      1.202560e+06   9416.500000  ...           201712.000000    11.000000\n",
              "max      1.234930e+06  12652.000000  ...           201712.000000    55.000000\n",
              "\n",
              "[8 rows x 6 columns]"
            ]
          },
          "metadata": {
            "tags": []
          },
          "execution_count": 14
        }
      ]
    },
    {
      "cell_type": "code",
      "metadata": {
        "id": "YRx5rIl7KIOq",
        "colab": {
          "base_uri": "https://localhost:8080/",
          "height": 1000
        },
        "outputId": "95ed387e-59ad-49e1-ab08-4407c8115fbb"
      },
      "source": [
        "train_df"
      ],
      "execution_count": 15,
      "outputs": [
        {
          "output_type": "execute_result",
          "data": {
            "text/html": [
              "<div>\n",
              "<style scoped>\n",
              "    .dataframe tbody tr th:only-of-type {\n",
              "        vertical-align: middle;\n",
              "    }\n",
              "\n",
              "    .dataframe tbody tr th {\n",
              "        vertical-align: top;\n",
              "    }\n",
              "\n",
              "    .dataframe thead th {\n",
              "        text-align: right;\n",
              "    }\n",
              "</style>\n",
              "<table border=\"1\" class=\"dataframe\">\n",
              "  <thead>\n",
              "    <tr style=\"text-align: right;\">\n",
              "      <th></th>\n",
              "      <th>transaction_id</th>\n",
              "      <th>apartment_id</th>\n",
              "      <th>city</th>\n",
              "      <th>dong</th>\n",
              "      <th>jibun</th>\n",
              "      <th>apt</th>\n",
              "      <th>addr_kr</th>\n",
              "      <th>exclusive_use_area</th>\n",
              "      <th>year_of_completion</th>\n",
              "      <th>transaction_year_month</th>\n",
              "      <th>transaction_date</th>\n",
              "      <th>floor</th>\n",
              "      <th>transaction_real_price</th>\n",
              "    </tr>\n",
              "  </thead>\n",
              "  <tbody>\n",
              "    <tr>\n",
              "      <th>0</th>\n",
              "      <td>0</td>\n",
              "      <td>7622</td>\n",
              "      <td>서울특별시</td>\n",
              "      <td>신교동</td>\n",
              "      <td>6-13</td>\n",
              "      <td>신현(101동)</td>\n",
              "      <td>신교동 6-13 신현(101동)</td>\n",
              "      <td>84.8200</td>\n",
              "      <td>2002</td>\n",
              "      <td>200801</td>\n",
              "      <td>21~31</td>\n",
              "      <td>2</td>\n",
              "      <td>37500</td>\n",
              "    </tr>\n",
              "    <tr>\n",
              "      <th>1</th>\n",
              "      <td>1</td>\n",
              "      <td>5399</td>\n",
              "      <td>서울특별시</td>\n",
              "      <td>필운동</td>\n",
              "      <td>142</td>\n",
              "      <td>사직파크맨션</td>\n",
              "      <td>필운동 142 사직파크맨션</td>\n",
              "      <td>99.1700</td>\n",
              "      <td>1973</td>\n",
              "      <td>200801</td>\n",
              "      <td>1~10</td>\n",
              "      <td>6</td>\n",
              "      <td>20000</td>\n",
              "    </tr>\n",
              "    <tr>\n",
              "      <th>2</th>\n",
              "      <td>2</td>\n",
              "      <td>3578</td>\n",
              "      <td>서울특별시</td>\n",
              "      <td>필운동</td>\n",
              "      <td>174-1</td>\n",
              "      <td>두레엘리시안</td>\n",
              "      <td>필운동 174-1 두레엘리시안</td>\n",
              "      <td>84.7400</td>\n",
              "      <td>2007</td>\n",
              "      <td>200801</td>\n",
              "      <td>1~10</td>\n",
              "      <td>6</td>\n",
              "      <td>38500</td>\n",
              "    </tr>\n",
              "    <tr>\n",
              "      <th>3</th>\n",
              "      <td>3</td>\n",
              "      <td>10957</td>\n",
              "      <td>서울특별시</td>\n",
              "      <td>내수동</td>\n",
              "      <td>95</td>\n",
              "      <td>파크팰리스</td>\n",
              "      <td>내수동 95 파크팰리스</td>\n",
              "      <td>146.3900</td>\n",
              "      <td>2003</td>\n",
              "      <td>200801</td>\n",
              "      <td>11~20</td>\n",
              "      <td>15</td>\n",
              "      <td>118000</td>\n",
              "    </tr>\n",
              "    <tr>\n",
              "      <th>4</th>\n",
              "      <td>4</td>\n",
              "      <td>10639</td>\n",
              "      <td>서울특별시</td>\n",
              "      <td>내수동</td>\n",
              "      <td>110-15</td>\n",
              "      <td>킹스매너</td>\n",
              "      <td>내수동 110-15 킹스매너</td>\n",
              "      <td>194.4300</td>\n",
              "      <td>2004</td>\n",
              "      <td>200801</td>\n",
              "      <td>21~31</td>\n",
              "      <td>3</td>\n",
              "      <td>120000</td>\n",
              "    </tr>\n",
              "    <tr>\n",
              "      <th>...</th>\n",
              "      <td>...</td>\n",
              "      <td>...</td>\n",
              "      <td>...</td>\n",
              "      <td>...</td>\n",
              "      <td>...</td>\n",
              "      <td>...</td>\n",
              "      <td>...</td>\n",
              "      <td>...</td>\n",
              "      <td>...</td>\n",
              "      <td>...</td>\n",
              "      <td>...</td>\n",
              "      <td>...</td>\n",
              "      <td>...</td>\n",
              "    </tr>\n",
              "    <tr>\n",
              "      <th>1216548</th>\n",
              "      <td>1234823</td>\n",
              "      <td>9578</td>\n",
              "      <td>부산광역시</td>\n",
              "      <td>정관읍 용수리</td>\n",
              "      <td>1387</td>\n",
              "      <td>정관 동일스위트1차</td>\n",
              "      <td>정관읍 용수리 1387 정관 동일스위트1차</td>\n",
              "      <td>59.8245</td>\n",
              "      <td>2012</td>\n",
              "      <td>201711</td>\n",
              "      <td>11~20</td>\n",
              "      <td>3</td>\n",
              "      <td>22000</td>\n",
              "    </tr>\n",
              "    <tr>\n",
              "      <th>1216549</th>\n",
              "      <td>1234824</td>\n",
              "      <td>9578</td>\n",
              "      <td>부산광역시</td>\n",
              "      <td>정관읍 용수리</td>\n",
              "      <td>1387</td>\n",
              "      <td>정관 동일스위트1차</td>\n",
              "      <td>정관읍 용수리 1387 정관 동일스위트1차</td>\n",
              "      <td>84.9923</td>\n",
              "      <td>2012</td>\n",
              "      <td>201711</td>\n",
              "      <td>21~30</td>\n",
              "      <td>7</td>\n",
              "      <td>30750</td>\n",
              "    </tr>\n",
              "    <tr>\n",
              "      <th>1216550</th>\n",
              "      <td>1234825</td>\n",
              "      <td>9578</td>\n",
              "      <td>부산광역시</td>\n",
              "      <td>정관읍 용수리</td>\n",
              "      <td>1387</td>\n",
              "      <td>정관 동일스위트1차</td>\n",
              "      <td>정관읍 용수리 1387 정관 동일스위트1차</td>\n",
              "      <td>84.9923</td>\n",
              "      <td>2012</td>\n",
              "      <td>201711</td>\n",
              "      <td>21~30</td>\n",
              "      <td>9</td>\n",
              "      <td>29500</td>\n",
              "    </tr>\n",
              "    <tr>\n",
              "      <th>1216551</th>\n",
              "      <td>1234826</td>\n",
              "      <td>9586</td>\n",
              "      <td>부산광역시</td>\n",
              "      <td>정관읍 용수리</td>\n",
              "      <td>1364</td>\n",
              "      <td>정관신도시롯데캐슬</td>\n",
              "      <td>정관읍 용수리 1364 정관신도시롯데캐슬</td>\n",
              "      <td>101.7400</td>\n",
              "      <td>2008</td>\n",
              "      <td>201711</td>\n",
              "      <td>21~30</td>\n",
              "      <td>7</td>\n",
              "      <td>26700</td>\n",
              "    </tr>\n",
              "    <tr>\n",
              "      <th>1216552</th>\n",
              "      <td>1234827</td>\n",
              "      <td>9578</td>\n",
              "      <td>부산광역시</td>\n",
              "      <td>정관읍 용수리</td>\n",
              "      <td>1387</td>\n",
              "      <td>정관 동일스위트1차</td>\n",
              "      <td>정관읍 용수리 1387 정관 동일스위트1차</td>\n",
              "      <td>84.9923</td>\n",
              "      <td>2012</td>\n",
              "      <td>201711</td>\n",
              "      <td>21~30</td>\n",
              "      <td>16</td>\n",
              "      <td>28800</td>\n",
              "    </tr>\n",
              "  </tbody>\n",
              "</table>\n",
              "<p>1216553 rows × 13 columns</p>\n",
              "</div>"
            ],
            "text/plain": [
              "         transaction_id  apartment_id  ... floor transaction_real_price\n",
              "0                     0          7622  ...     2                  37500\n",
              "1                     1          5399  ...     6                  20000\n",
              "2                     2          3578  ...     6                  38500\n",
              "3                     3         10957  ...    15                 118000\n",
              "4                     4         10639  ...     3                 120000\n",
              "...                 ...           ...  ...   ...                    ...\n",
              "1216548         1234823          9578  ...     3                  22000\n",
              "1216549         1234824          9578  ...     7                  30750\n",
              "1216550         1234825          9578  ...     9                  29500\n",
              "1216551         1234826          9586  ...     7                  26700\n",
              "1216552         1234827          9578  ...    16                  28800\n",
              "\n",
              "[1216553 rows x 13 columns]"
            ]
          },
          "metadata": {
            "tags": []
          },
          "execution_count": 15
        }
      ]
    },
    {
      "cell_type": "code",
      "metadata": {
        "colab": {
          "base_uri": "https://localhost:8080/",
          "height": 504
        },
        "id": "zRJ1UWf1rIsM",
        "outputId": "54171497-7ee3-4707-de68-79c4c58c212f"
      },
      "source": [
        "plt.figure(figsize=(8, 8))\n",
        "plt.hist(train_df['transaction_real_price'], bins=50, color='#5a60f1')\n",
        "plt.title('Price', size=20)\n",
        "plt.show()"
      ],
      "execution_count": 16,
      "outputs": [
        {
          "output_type": "display_data",
          "data": {
            "image/png": "[encoded data removed]",
            "text/plain": [
              "<Figure size 576x576 with 1 Axes>"
            ]
          },
          "metadata": {
            "tags": [],
            "needs_background": "light"
          }
        }
      ]
    },
    {
      "cell_type": "code",
      "metadata": {
        "colab": {
          "base_uri": "https://localhost:8080/",
          "height": 504
        },
        "id": "_6t4htFrwUQv",
        "outputId": "594bf397-7b98-4173-f571-a56f050f8c6b"
      },
      "source": [
        "plt.figure(figsize=(8, 8))\n",
        "plt.hist(train_df['exclusive_use_area'], bins=50, color='#5a60f1')\n",
        "plt.title('Area', size=20)\n",
        "plt.show()"
      ],
      "execution_count": 17,
      "outputs": [
        {
          "output_type": "display_data",
          "data": {
            "image/png": "[encoded data removed]",
            "text/plain": [
              "<Figure size 576x576 with 1 Axes>"
            ]
          },
          "metadata": {
            "tags": [],
            "needs_background": "light"
          }
        }
      ]
    },
    {
      "cell_type": "code",
      "metadata": {
        "id": "Oo3GZn5vrhY9",
        "colab": {
          "base_uri": "https://localhost:8080/",
          "height": 738
        },
        "outputId": "92767ca8-5002-4048-a546-8dd01872713b"
      },
      "source": [
        "plt.figure(figsize=(12,12))\n",
        "sns.countplot(x='floor', data=train_df)\n",
        "plt.xticks(rotation=90)\n",
        "plt.title('Floor Distribution')\n",
        "plt.xlabel('floor',fontsize=15)\n",
        "plt.show()"
      ],
      "execution_count": 30,
      "outputs": [
        {
          "output_type": "display_data",
          "data": {
            "image/png": "[encoded data removed]",
            "text/plain": [
              "<Figure size 864x864 with 1 Axes>"
            ]
          },
          "metadata": {
            "tags": [],
            "needs_background": "light"
          }
        }
      ]
    },
    {
      "cell_type": "code",
      "metadata": {
        "colab": {
          "base_uri": "https://localhost:8080/"
        },
        "id": "Pq-BoYzt4vnG",
        "outputId": "50e555d6-79f3-4b97-834e-329dddd8c9f1"
      },
      "source": [
        "len(under)"
      ],
      "execution_count": 32,
      "outputs": [
        {
          "output_type": "execute_result",
          "data": {
            "text/plain": [
              "168"
            ]
          },
          "metadata": {
            "tags": []
          },
          "execution_count": 32
        }
      ]
    },
    {
      "cell_type": "code",
      "metadata": {
        "colab": {
          "base_uri": "https://localhost:8080/",
          "height": 518
        },
        "id": "uxeODVCx2yJ-",
        "outputId": "14e15dc5-9c60-4e27-d30e-cfa0f8556a85"
      },
      "source": [
        "under = train_df[train_df['floor']<0]\n",
        "plt.figure(figsize=(8,8))\n",
        "sns.countplot(x='floor', data=under)\n",
        "plt.title('Underground Distribution')\n",
        "plt.xlabel('floor',fontsize=15)\n",
        "plt.show()"
      ],
      "execution_count": 31,
      "outputs": [
        {
          "output_type": "display_data",
          "data": {
            "image/png": "[encoded data removed]",
            "text/plain": [
              "<Figure size 576x576 with 1 Axes>"
            ]
          },
          "metadata": {
            "tags": [],
            "needs_background": "light"
          }
        }
      ]
    },
    {
      "cell_type": "code",
      "metadata": {
        "colab": {
          "base_uri": "https://localhost:8080/",
          "height": 519
        },
        "id": "Q_XOQBbu5gPf",
        "outputId": "2e92055e-ebb7-4b5d-c941-70ace547c2f1"
      },
      "source": [
        "under[['floor', 'transaction_real_price']].corr()\n",
        "plt.figure(figsize=(8,8))\n",
        "sns.heatmap(under[['floor', 'transaction_real_price']].corr(),cmap='YlGnBu', annot=True)\n",
        "plt.title('Floor + Price Heatmap')"
      ],
      "execution_count": 59,
      "outputs": [
        {
          "output_type": "execute_result",
          "data": {
            "text/plain": [
              "Text(0.5, 1.0, 'Floor + Price Heatmap')"
            ]
          },
          "metadata": {
            "tags": []
          },
          "execution_count": 59
        },
        {
          "output_type": "display_data",
          "data": {
            "image/png": "[encoded data removed]",
            "text/plain": [
              "<Figure size 576x576 with 2 Axes>"
            ]
          },
          "metadata": {
            "tags": [],
            "needs_background": "light"
          }
        }
      ]
    },
    {
      "cell_type": "code",
      "metadata": {
        "id": "jaT5RARg7mPe"
      },
      "source": [
        ""
      ],
      "execution_count": null,
      "outputs": []
    }
  ]
}