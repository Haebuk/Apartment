{
  "nbformat": 4,
  "nbformat_minor": 2,
  "metadata": {
    "accelerator": "GPU",
    "colab": {
      "name": "TermProject.ipynb",
      "provenance": [],
      "collapsed_sections": [],
      "machine_shape": "hm",
      "include_colab_link": true
    },
    "kernelspec": {
      "name": "python3",
      "display_name": "Python 3.8.11 64-bit ('rjs': conda)"
    },
    "language_info": {
      "codemirror_mode": {
        "name": "ipython",
        "version": 3
      },
      "file_extension": ".py",
      "mimetype": "text/x-python",
      "name": "python",
      "nbconvert_exporter": "python",
      "pygments_lexer": "ipython3",
      "version": "3.8.11"
    },
    "toc": {
      "base_numbering": 1,
      "nav_menu": {},
      "number_sections": false,
      "sideBar": true,
      "skip_h1_title": false,
      "title_cell": "Table of Contents",
      "title_sidebar": "Contents",
      "toc_cell": false,
      "toc_position": {
        "height": "calc(100% - 180px)",
        "left": "10px",
        "top": "150px",
        "width": "383.997px"
      },
      "toc_section_display": true,
      "toc_window_display": false
    },
    "varInspector": {
      "cols": {
        "lenName": 16,
        "lenType": 16,
        "lenVar": 40
      },
      "kernels_config": {
        "python": {
          "delete_cmd_postfix": "",
          "delete_cmd_prefix": "del ",
          "library": "var_list.py",
          "varRefreshCmd": "print(var_dic_list())"
        },
        "r": {
          "delete_cmd_postfix": ") ",
          "delete_cmd_prefix": "rm(",
          "library": "var_list.r",
          "varRefreshCmd": "cat(var_dic_list()) "
        }
      },
      "types_to_exclude": [
        "module",
        "function",
        "builtin_function_or_method",
        "instance",
        "_Feature"
      ],
      "window_display": false
    },
    "interpreter": {
      "hash": "f32a3fc5fd8ce313736c63c098b3295430bdc02056cb973f73ff524111d36e55"
    }
  },
  "cells": [
    {
      "cell_type": "markdown",
      "source": [
        "# 아파트 실거래가 예측"
      ],
      "metadata": {
        "id": "smxWmS7tyuRz"
      }
    },
    {
      "cell_type": "code",
      "execution_count": 1,
      "source": [
        "import pandas as pd\n",
        "import numpy as np\n",
        "import matplotlib.pyplot as plt\n",
        "import seaborn as sns\n",
        "from tqdm import tqdm\n",
        "from sklearn.linear_model import LinearRegression, ElasticNet, Lasso, Ridge\n",
        "from sklearn.tree import DecisionTreeRegressor\n",
        "from sklearn.ensemble import RandomForestRegressor\n",
        "from sklearn.preprocessing import  LabelEncoder\n",
        "from sklearn.model_selection import TimeSeriesSplit\n",
        "from sklearn.metrics import mean_squared_error\n",
        "import xgboost as xgb\n",
        "import lightgbm as lgb\n",
        "import re\n",
        "import optuna\n",
        "from optuna.integration import XGBoostPruningCallback\n",
        "sns.set_theme(style=\"darkgrid\")\n"
      ],
      "outputs": [],
      "metadata": {
        "id": "gUwouTkEyuR3"
      }
    },
    {
      "cell_type": "markdown",
      "source": [
        "## Data Load"
      ],
      "metadata": {
        "id": "1TRIEY3TyuR4"
      }
    },
    {
      "cell_type": "code",
      "execution_count": 2,
      "source": [
        "train_df = pd.read_csv('./input/train.csv')\n",
        "test_df = pd.read_csv('./input/test.csv')"
      ],
      "outputs": [],
      "metadata": {
        "id": "nWFpn1T3yuR5"
      }
    },
    {
      "cell_type": "code",
      "execution_count": 3,
      "source": [
        "train_df.head(3)"
      ],
      "outputs": [
        {
          "output_type": "execute_result",
          "data": {
            "text/plain": [
              "   transaction_id  apartment_id   city dong  jibun       apt  \\\n",
              "0               0          7622  서울특별시  신교동   6-13  신현(101동)   \n",
              "1               1          5399  서울특별시  필운동    142    사직파크맨션   \n",
              "2               2          3578  서울특별시  필운동  174-1    두레엘리시안   \n",
              "\n",
              "             addr_kr  exclusive_use_area  year_of_completion  \\\n",
              "0  신교동 6-13 신현(101동)               84.82                2002   \n",
              "1     필운동 142 사직파크맨션               99.17                1973   \n",
              "2   필운동 174-1 두레엘리시안               84.74                2007   \n",
              "\n",
              "   transaction_year_month transaction_date  floor  transaction_real_price  \n",
              "0                  200801            21~31      2                   37500  \n",
              "1                  200801             1~10      6                   20000  \n",
              "2                  200801             1~10      6                   38500  "
            ],
            "text/html": [
              "<div>\n",
              "<style scoped>\n",
              "    .dataframe tbody tr th:only-of-type {\n",
              "        vertical-align: middle;\n",
              "    }\n",
              "\n",
              "    .dataframe tbody tr th {\n",
              "        vertical-align: top;\n",
              "    }\n",
              "\n",
              "    .dataframe thead th {\n",
              "        text-align: right;\n",
              "    }\n",
              "</style>\n",
              "<table border=\"1\" class=\"dataframe\">\n",
              "  <thead>\n",
              "    <tr style=\"text-align: right;\">\n",
              "      <th></th>\n",
              "      <th>transaction_id</th>\n",
              "      <th>apartment_id</th>\n",
              "      <th>city</th>\n",
              "      <th>dong</th>\n",
              "      <th>jibun</th>\n",
              "      <th>apt</th>\n",
              "      <th>addr_kr</th>\n",
              "      <th>exclusive_use_area</th>\n",
              "      <th>year_of_completion</th>\n",
              "      <th>transaction_year_month</th>\n",
              "      <th>transaction_date</th>\n",
              "      <th>floor</th>\n",
              "      <th>transaction_real_price</th>\n",
              "    </tr>\n",
              "  </thead>\n",
              "  <tbody>\n",
              "    <tr>\n",
              "      <th>0</th>\n",
              "      <td>0</td>\n",
              "      <td>7622</td>\n",
              "      <td>서울특별시</td>\n",
              "      <td>신교동</td>\n",
              "      <td>6-13</td>\n",
              "      <td>신현(101동)</td>\n",
              "      <td>신교동 6-13 신현(101동)</td>\n",
              "      <td>84.82</td>\n",
              "      <td>2002</td>\n",
              "      <td>200801</td>\n",
              "      <td>21~31</td>\n",
              "      <td>2</td>\n",
              "      <td>37500</td>\n",
              "    </tr>\n",
              "    <tr>\n",
              "      <th>1</th>\n",
              "      <td>1</td>\n",
              "      <td>5399</td>\n",
              "      <td>서울특별시</td>\n",
              "      <td>필운동</td>\n",
              "      <td>142</td>\n",
              "      <td>사직파크맨션</td>\n",
              "      <td>필운동 142 사직파크맨션</td>\n",
              "      <td>99.17</td>\n",
              "      <td>1973</td>\n",
              "      <td>200801</td>\n",
              "      <td>1~10</td>\n",
              "      <td>6</td>\n",
              "      <td>20000</td>\n",
              "    </tr>\n",
              "    <tr>\n",
              "      <th>2</th>\n",
              "      <td>2</td>\n",
              "      <td>3578</td>\n",
              "      <td>서울특별시</td>\n",
              "      <td>필운동</td>\n",
              "      <td>174-1</td>\n",
              "      <td>두레엘리시안</td>\n",
              "      <td>필운동 174-1 두레엘리시안</td>\n",
              "      <td>84.74</td>\n",
              "      <td>2007</td>\n",
              "      <td>200801</td>\n",
              "      <td>1~10</td>\n",
              "      <td>6</td>\n",
              "      <td>38500</td>\n",
              "    </tr>\n",
              "  </tbody>\n",
              "</table>\n",
              "</div>"
            ]
          },
          "metadata": {},
          "execution_count": 3
        }
      ],
      "metadata": {}
    },
    {
      "cell_type": "code",
      "execution_count": 4,
      "source": [
        "test_df.head(3)"
      ],
      "outputs": [
        {
          "output_type": "execute_result",
          "data": {
            "text/plain": [
              "   transaction_id  apartment_id   city dong   jibun   apt          addr_kr  \\\n",
              "0         1145756         10453  서울특별시   목동     938    청학        목동 938 청학   \n",
              "1         1198704           989  부산광역시  초량동  1143-8  고관맨션  초량동 1143-8 고관맨션   \n",
              "2         1222384          8597  부산광역시  괴정동  447-13  우림그린  괴정동 447-13 우림그린   \n",
              "\n",
              "   exclusive_use_area  year_of_completion  transaction_year_month  \\\n",
              "0               35.55                2002                  201711   \n",
              "1               68.72                1977                  201708   \n",
              "2               72.54                1989                  201710   \n",
              "\n",
              "  transaction_date  floor  \n",
              "0            11~20      2  \n",
              "1            21~31      2  \n",
              "2            11~20      2  "
            ],
            "text/html": [
              "<div>\n",
              "<style scoped>\n",
              "    .dataframe tbody tr th:only-of-type {\n",
              "        vertical-align: middle;\n",
              "    }\n",
              "\n",
              "    .dataframe tbody tr th {\n",
              "        vertical-align: top;\n",
              "    }\n",
              "\n",
              "    .dataframe thead th {\n",
              "        text-align: right;\n",
              "    }\n",
              "</style>\n",
              "<table border=\"1\" class=\"dataframe\">\n",
              "  <thead>\n",
              "    <tr style=\"text-align: right;\">\n",
              "      <th></th>\n",
              "      <th>transaction_id</th>\n",
              "      <th>apartment_id</th>\n",
              "      <th>city</th>\n",
              "      <th>dong</th>\n",
              "      <th>jibun</th>\n",
              "      <th>apt</th>\n",
              "      <th>addr_kr</th>\n",
              "      <th>exclusive_use_area</th>\n",
              "      <th>year_of_completion</th>\n",
              "      <th>transaction_year_month</th>\n",
              "      <th>transaction_date</th>\n",
              "      <th>floor</th>\n",
              "    </tr>\n",
              "  </thead>\n",
              "  <tbody>\n",
              "    <tr>\n",
              "      <th>0</th>\n",
              "      <td>1145756</td>\n",
              "      <td>10453</td>\n",
              "      <td>서울특별시</td>\n",
              "      <td>목동</td>\n",
              "      <td>938</td>\n",
              "      <td>청학</td>\n",
              "      <td>목동 938 청학</td>\n",
              "      <td>35.55</td>\n",
              "      <td>2002</td>\n",
              "      <td>201711</td>\n",
              "      <td>11~20</td>\n",
              "      <td>2</td>\n",
              "    </tr>\n",
              "    <tr>\n",
              "      <th>1</th>\n",
              "      <td>1198704</td>\n",
              "      <td>989</td>\n",
              "      <td>부산광역시</td>\n",
              "      <td>초량동</td>\n",
              "      <td>1143-8</td>\n",
              "      <td>고관맨션</td>\n",
              "      <td>초량동 1143-8 고관맨션</td>\n",
              "      <td>68.72</td>\n",
              "      <td>1977</td>\n",
              "      <td>201708</td>\n",
              "      <td>21~31</td>\n",
              "      <td>2</td>\n",
              "    </tr>\n",
              "    <tr>\n",
              "      <th>2</th>\n",
              "      <td>1222384</td>\n",
              "      <td>8597</td>\n",
              "      <td>부산광역시</td>\n",
              "      <td>괴정동</td>\n",
              "      <td>447-13</td>\n",
              "      <td>우림그린</td>\n",
              "      <td>괴정동 447-13 우림그린</td>\n",
              "      <td>72.54</td>\n",
              "      <td>1989</td>\n",
              "      <td>201710</td>\n",
              "      <td>11~20</td>\n",
              "      <td>2</td>\n",
              "    </tr>\n",
              "  </tbody>\n",
              "</table>\n",
              "</div>"
            ]
          },
          "metadata": {},
          "execution_count": 4
        }
      ],
      "metadata": {}
    },
    {
      "cell_type": "markdown",
      "source": [
        "- exclusive_use_area: 전용면적(한 세대만 독점적으로 사용하는 공간)\n",
        "- transaction_real_price: 실거래가(단위:만원, 타겟 값, train만 존재)\n",
        "- transaction_year_month: 거래년월\n",
        "- transaction_date: 거래일\n",
        "- floor: 층 \n",
        "\n",
        "- 데이터가 거래시간 순으로 이루어져 있습니다."
      ],
      "metadata": {
        "id": "rFlOm3HTyuR6"
      }
    },
    {
      "cell_type": "code",
      "execution_count": 5,
      "source": [
        "print(train_df.shape)\n",
        "print(test_df.shape)"
      ],
      "outputs": [
        {
          "output_type": "stream",
          "name": "stdout",
          "text": [
            "(1216553, 13)\n",
            "(5463, 12)\n"
          ]
        }
      ],
      "metadata": {}
    },
    {
      "cell_type": "markdown",
      "source": [
        "- 처음부터 train 데이터와 test데이터가 분리되어 있습니다. (id가 겹치지 않습니다.)\n",
        "    - train data: 1216552행 13열로 구성\n",
        "    - test data: 5463행 12열로 구성 (예측변수 'transaction_real_price'는 제외됨)"
      ],
      "metadata": {}
    },
    {
      "cell_type": "code",
      "execution_count": 6,
      "source": [
        "train_df.head(5)"
      ],
      "outputs": [
        {
          "output_type": "execute_result",
          "data": {
            "text/plain": [
              "   transaction_id  apartment_id   city dong   jibun       apt  \\\n",
              "0               0          7622  서울특별시  신교동    6-13  신현(101동)   \n",
              "1               1          5399  서울특별시  필운동     142    사직파크맨션   \n",
              "2               2          3578  서울특별시  필운동   174-1    두레엘리시안   \n",
              "3               3         10957  서울특별시  내수동      95     파크팰리스   \n",
              "4               4         10639  서울특별시  내수동  110-15      킹스매너   \n",
              "\n",
              "             addr_kr  exclusive_use_area  year_of_completion  \\\n",
              "0  신교동 6-13 신현(101동)               84.82                2002   \n",
              "1     필운동 142 사직파크맨션               99.17                1973   \n",
              "2   필운동 174-1 두레엘리시안               84.74                2007   \n",
              "3       내수동 95 파크팰리스              146.39                2003   \n",
              "4    내수동 110-15 킹스매너              194.43                2004   \n",
              "\n",
              "   transaction_year_month transaction_date  floor  transaction_real_price  \n",
              "0                  200801            21~31      2                   37500  \n",
              "1                  200801             1~10      6                   20000  \n",
              "2                  200801             1~10      6                   38500  \n",
              "3                  200801            11~20     15                  118000  \n",
              "4                  200801            21~31      3                  120000  "
            ],
            "text/html": [
              "<div>\n",
              "<style scoped>\n",
              "    .dataframe tbody tr th:only-of-type {\n",
              "        vertical-align: middle;\n",
              "    }\n",
              "\n",
              "    .dataframe tbody tr th {\n",
              "        vertical-align: top;\n",
              "    }\n",
              "\n",
              "    .dataframe thead th {\n",
              "        text-align: right;\n",
              "    }\n",
              "</style>\n",
              "<table border=\"1\" class=\"dataframe\">\n",
              "  <thead>\n",
              "    <tr style=\"text-align: right;\">\n",
              "      <th></th>\n",
              "      <th>transaction_id</th>\n",
              "      <th>apartment_id</th>\n",
              "      <th>city</th>\n",
              "      <th>dong</th>\n",
              "      <th>jibun</th>\n",
              "      <th>apt</th>\n",
              "      <th>addr_kr</th>\n",
              "      <th>exclusive_use_area</th>\n",
              "      <th>year_of_completion</th>\n",
              "      <th>transaction_year_month</th>\n",
              "      <th>transaction_date</th>\n",
              "      <th>floor</th>\n",
              "      <th>transaction_real_price</th>\n",
              "    </tr>\n",
              "  </thead>\n",
              "  <tbody>\n",
              "    <tr>\n",
              "      <th>0</th>\n",
              "      <td>0</td>\n",
              "      <td>7622</td>\n",
              "      <td>서울특별시</td>\n",
              "      <td>신교동</td>\n",
              "      <td>6-13</td>\n",
              "      <td>신현(101동)</td>\n",
              "      <td>신교동 6-13 신현(101동)</td>\n",
              "      <td>84.82</td>\n",
              "      <td>2002</td>\n",
              "      <td>200801</td>\n",
              "      <td>21~31</td>\n",
              "      <td>2</td>\n",
              "      <td>37500</td>\n",
              "    </tr>\n",
              "    <tr>\n",
              "      <th>1</th>\n",
              "      <td>1</td>\n",
              "      <td>5399</td>\n",
              "      <td>서울특별시</td>\n",
              "      <td>필운동</td>\n",
              "      <td>142</td>\n",
              "      <td>사직파크맨션</td>\n",
              "      <td>필운동 142 사직파크맨션</td>\n",
              "      <td>99.17</td>\n",
              "      <td>1973</td>\n",
              "      <td>200801</td>\n",
              "      <td>1~10</td>\n",
              "      <td>6</td>\n",
              "      <td>20000</td>\n",
              "    </tr>\n",
              "    <tr>\n",
              "      <th>2</th>\n",
              "      <td>2</td>\n",
              "      <td>3578</td>\n",
              "      <td>서울특별시</td>\n",
              "      <td>필운동</td>\n",
              "      <td>174-1</td>\n",
              "      <td>두레엘리시안</td>\n",
              "      <td>필운동 174-1 두레엘리시안</td>\n",
              "      <td>84.74</td>\n",
              "      <td>2007</td>\n",
              "      <td>200801</td>\n",
              "      <td>1~10</td>\n",
              "      <td>6</td>\n",
              "      <td>38500</td>\n",
              "    </tr>\n",
              "    <tr>\n",
              "      <th>3</th>\n",
              "      <td>3</td>\n",
              "      <td>10957</td>\n",
              "      <td>서울특별시</td>\n",
              "      <td>내수동</td>\n",
              "      <td>95</td>\n",
              "      <td>파크팰리스</td>\n",
              "      <td>내수동 95 파크팰리스</td>\n",
              "      <td>146.39</td>\n",
              "      <td>2003</td>\n",
              "      <td>200801</td>\n",
              "      <td>11~20</td>\n",
              "      <td>15</td>\n",
              "      <td>118000</td>\n",
              "    </tr>\n",
              "    <tr>\n",
              "      <th>4</th>\n",
              "      <td>4</td>\n",
              "      <td>10639</td>\n",
              "      <td>서울특별시</td>\n",
              "      <td>내수동</td>\n",
              "      <td>110-15</td>\n",
              "      <td>킹스매너</td>\n",
              "      <td>내수동 110-15 킹스매너</td>\n",
              "      <td>194.43</td>\n",
              "      <td>2004</td>\n",
              "      <td>200801</td>\n",
              "      <td>21~31</td>\n",
              "      <td>3</td>\n",
              "      <td>120000</td>\n",
              "    </tr>\n",
              "  </tbody>\n",
              "</table>\n",
              "</div>"
            ]
          },
          "metadata": {},
          "execution_count": 6
        }
      ],
      "metadata": {
        "id": "jxDarwA4f4GE",
        "colab": {
          "base_uri": "https://localhost:8080/",
          "height": 240
        },
        "outputId": "e41306ce-b636-45f9-f5bb-bff6aaf4bd92"
      }
    },
    {
      "cell_type": "code",
      "execution_count": 7,
      "source": [
        "train_df.describe() "
      ],
      "outputs": [
        {
          "output_type": "execute_result",
          "data": {
            "text/plain": [
              "       transaction_id  apartment_id  exclusive_use_area  year_of_completion  \\\n",
              "count    1.216553e+06  1.216553e+06        1.216553e+06        1.216553e+06   \n",
              "mean     6.091530e+05  6.299685e+03        7.816549e+01        1.998297e+03   \n",
              "std      3.526198e+05  3.581169e+03        2.915113e+01        8.941347e+00   \n",
              "min      0.000000e+00  0.000000e+00        9.260000e+00        1.961000e+03   \n",
              "25%      3.041380e+05  3.345000e+03        5.976000e+01        1.993000e+03   \n",
              "50%      6.082760e+05  5.964000e+03        8.241000e+01        1.999000e+03   \n",
              "75%      9.124140e+05  9.436000e+03        8.497000e+01        2.005000e+03   \n",
              "max      1.234827e+06  1.265800e+04        4.243200e+02        2.017000e+03   \n",
              "\n",
              "       transaction_year_month         floor  transaction_real_price  \n",
              "count            1.216553e+06  1.216553e+06            1.216553e+06  \n",
              "mean             2.012984e+05  9.343291e+00            3.822769e+04  \n",
              "std              2.905732e+02  6.606500e+00            3.104898e+04  \n",
              "min              2.008010e+05 -4.000000e+00            1.000000e+02  \n",
              "25%              2.010100e+05  4.000000e+00            1.900000e+04  \n",
              "50%              2.013120e+05  8.000000e+00            3.090000e+04  \n",
              "75%              2.015110e+05  1.300000e+01            4.700000e+04  \n",
              "max              2.017110e+05  8.000000e+01            8.200000e+05  "
            ],
            "text/html": [
              "<div>\n",
              "<style scoped>\n",
              "    .dataframe tbody tr th:only-of-type {\n",
              "        vertical-align: middle;\n",
              "    }\n",
              "\n",
              "    .dataframe tbody tr th {\n",
              "        vertical-align: top;\n",
              "    }\n",
              "\n",
              "    .dataframe thead th {\n",
              "        text-align: right;\n",
              "    }\n",
              "</style>\n",
              "<table border=\"1\" class=\"dataframe\">\n",
              "  <thead>\n",
              "    <tr style=\"text-align: right;\">\n",
              "      <th></th>\n",
              "      <th>transaction_id</th>\n",
              "      <th>apartment_id</th>\n",
              "      <th>exclusive_use_area</th>\n",
              "      <th>year_of_completion</th>\n",
              "      <th>transaction_year_month</th>\n",
              "      <th>floor</th>\n",
              "      <th>transaction_real_price</th>\n",
              "    </tr>\n",
              "  </thead>\n",
              "  <tbody>\n",
              "    <tr>\n",
              "      <th>count</th>\n",
              "      <td>1.216553e+06</td>\n",
              "      <td>1.216553e+06</td>\n",
              "      <td>1.216553e+06</td>\n",
              "      <td>1.216553e+06</td>\n",
              "      <td>1.216553e+06</td>\n",
              "      <td>1.216553e+06</td>\n",
              "      <td>1.216553e+06</td>\n",
              "    </tr>\n",
              "    <tr>\n",
              "      <th>mean</th>\n",
              "      <td>6.091530e+05</td>\n",
              "      <td>6.299685e+03</td>\n",
              "      <td>7.816549e+01</td>\n",
              "      <td>1.998297e+03</td>\n",
              "      <td>2.012984e+05</td>\n",
              "      <td>9.343291e+00</td>\n",
              "      <td>3.822769e+04</td>\n",
              "    </tr>\n",
              "    <tr>\n",
              "      <th>std</th>\n",
              "      <td>3.526198e+05</td>\n",
              "      <td>3.581169e+03</td>\n",
              "      <td>2.915113e+01</td>\n",
              "      <td>8.941347e+00</td>\n",
              "      <td>2.905732e+02</td>\n",
              "      <td>6.606500e+00</td>\n",
              "      <td>3.104898e+04</td>\n",
              "    </tr>\n",
              "    <tr>\n",
              "      <th>min</th>\n",
              "      <td>0.000000e+00</td>\n",
              "      <td>0.000000e+00</td>\n",
              "      <td>9.260000e+00</td>\n",
              "      <td>1.961000e+03</td>\n",
              "      <td>2.008010e+05</td>\n",
              "      <td>-4.000000e+00</td>\n",
              "      <td>1.000000e+02</td>\n",
              "    </tr>\n",
              "    <tr>\n",
              "      <th>25%</th>\n",
              "      <td>3.041380e+05</td>\n",
              "      <td>3.345000e+03</td>\n",
              "      <td>5.976000e+01</td>\n",
              "      <td>1.993000e+03</td>\n",
              "      <td>2.010100e+05</td>\n",
              "      <td>4.000000e+00</td>\n",
              "      <td>1.900000e+04</td>\n",
              "    </tr>\n",
              "    <tr>\n",
              "      <th>50%</th>\n",
              "      <td>6.082760e+05</td>\n",
              "      <td>5.964000e+03</td>\n",
              "      <td>8.241000e+01</td>\n",
              "      <td>1.999000e+03</td>\n",
              "      <td>2.013120e+05</td>\n",
              "      <td>8.000000e+00</td>\n",
              "      <td>3.090000e+04</td>\n",
              "    </tr>\n",
              "    <tr>\n",
              "      <th>75%</th>\n",
              "      <td>9.124140e+05</td>\n",
              "      <td>9.436000e+03</td>\n",
              "      <td>8.497000e+01</td>\n",
              "      <td>2.005000e+03</td>\n",
              "      <td>2.015110e+05</td>\n",
              "      <td>1.300000e+01</td>\n",
              "      <td>4.700000e+04</td>\n",
              "    </tr>\n",
              "    <tr>\n",
              "      <th>max</th>\n",
              "      <td>1.234827e+06</td>\n",
              "      <td>1.265800e+04</td>\n",
              "      <td>4.243200e+02</td>\n",
              "      <td>2.017000e+03</td>\n",
              "      <td>2.017110e+05</td>\n",
              "      <td>8.000000e+01</td>\n",
              "      <td>8.200000e+05</td>\n",
              "    </tr>\n",
              "  </tbody>\n",
              "</table>\n",
              "</div>"
            ]
          },
          "metadata": {},
          "execution_count": 7
        }
      ],
      "metadata": {
        "colab": {
          "base_uri": "https://localhost:8080/",
          "height": 289
        },
        "id": "ptHosUTEyuR7",
        "scrolled": false,
        "outputId": "7d304bfd-f974-44c9-9f5d-bc1071455dc1"
      }
    },
    {
      "cell_type": "code",
      "execution_count": 8,
      "source": [
        "train_df.info()"
      ],
      "outputs": [
        {
          "output_type": "stream",
          "name": "stdout",
          "text": [
            "<class 'pandas.core.frame.DataFrame'>\n",
            "RangeIndex: 1216553 entries, 0 to 1216552\n",
            "Data columns (total 13 columns):\n",
            " #   Column                  Non-Null Count    Dtype  \n",
            "---  ------                  --------------    -----  \n",
            " 0   transaction_id          1216553 non-null  int64  \n",
            " 1   apartment_id            1216553 non-null  int64  \n",
            " 2   city                    1216553 non-null  object \n",
            " 3   dong                    1216553 non-null  object \n",
            " 4   jibun                   1216553 non-null  object \n",
            " 5   apt                     1216553 non-null  object \n",
            " 6   addr_kr                 1216553 non-null  object \n",
            " 7   exclusive_use_area      1216553 non-null  float64\n",
            " 8   year_of_completion      1216553 non-null  int64  \n",
            " 9   transaction_year_month  1216553 non-null  int64  \n",
            " 10  transaction_date        1216553 non-null  object \n",
            " 11  floor                   1216553 non-null  int64  \n",
            " 12  transaction_real_price  1216553 non-null  int64  \n",
            "dtypes: float64(1), int64(6), object(6)\n",
            "memory usage: 120.7+ MB\n"
          ]
        }
      ],
      "metadata": {
        "colab": {
          "base_uri": "https://localhost:8080/"
        },
        "id": "GqBnjIEryuR8",
        "outputId": "e3c511d5-76a7-4fec-e586-e07e6db5d3bd"
      }
    },
    {
      "cell_type": "markdown",
      "source": [
        "- train_df 결측치는 없습니다.\n",
        "- 건물들은 1961년 ~ 2017년에 완공됐습니다.\n",
        "- 9.26m^2 ~ 424.32m^2 전용면적을 가지고 있습니다.\n",
        "- Floor의 경우 음의 값이 존재합니다.\n",
        "- 실거래가는 100만원부터 820억까지 존재합니다."
      ],
      "metadata": {
        "id": "cPo0KrA4yuR8"
      }
    },
    {
      "cell_type": "code",
      "execution_count": 9,
      "source": [
        "train_df.loc[train_df['transaction_real_price']==820000]"
      ],
      "outputs": [
        {
          "output_type": "execute_result",
          "data": {
            "text/plain": [
              "       transaction_id  apartment_id   city dong jibun   apt       addr_kr  \\\n",
              "23603           23603         11320  서울특별시  한남동   810  한남더힐  한남동 810 한남더힐   \n",
              "\n",
              "       exclusive_use_area  year_of_completion  transaction_year_month  \\\n",
              "23603             244.749                2011                  201612   \n",
              "\n",
              "      transaction_date  floor  transaction_real_price  \n",
              "23603            21~31      3                  820000  "
            ],
            "text/html": [
              "<div>\n",
              "<style scoped>\n",
              "    .dataframe tbody tr th:only-of-type {\n",
              "        vertical-align: middle;\n",
              "    }\n",
              "\n",
              "    .dataframe tbody tr th {\n",
              "        vertical-align: top;\n",
              "    }\n",
              "\n",
              "    .dataframe thead th {\n",
              "        text-align: right;\n",
              "    }\n",
              "</style>\n",
              "<table border=\"1\" class=\"dataframe\">\n",
              "  <thead>\n",
              "    <tr style=\"text-align: right;\">\n",
              "      <th></th>\n",
              "      <th>transaction_id</th>\n",
              "      <th>apartment_id</th>\n",
              "      <th>city</th>\n",
              "      <th>dong</th>\n",
              "      <th>jibun</th>\n",
              "      <th>apt</th>\n",
              "      <th>addr_kr</th>\n",
              "      <th>exclusive_use_area</th>\n",
              "      <th>year_of_completion</th>\n",
              "      <th>transaction_year_month</th>\n",
              "      <th>transaction_date</th>\n",
              "      <th>floor</th>\n",
              "      <th>transaction_real_price</th>\n",
              "    </tr>\n",
              "  </thead>\n",
              "  <tbody>\n",
              "    <tr>\n",
              "      <th>23603</th>\n",
              "      <td>23603</td>\n",
              "      <td>11320</td>\n",
              "      <td>서울특별시</td>\n",
              "      <td>한남동</td>\n",
              "      <td>810</td>\n",
              "      <td>한남더힐</td>\n",
              "      <td>한남동 810 한남더힐</td>\n",
              "      <td>244.749</td>\n",
              "      <td>2011</td>\n",
              "      <td>201612</td>\n",
              "      <td>21~31</td>\n",
              "      <td>3</td>\n",
              "      <td>820000</td>\n",
              "    </tr>\n",
              "  </tbody>\n",
              "</table>\n",
              "</div>"
            ]
          },
          "metadata": {},
          "execution_count": 9
        }
      ],
      "metadata": {
        "colab": {
          "base_uri": "https://localhost:8080/",
          "height": 147
        },
        "id": "1FwiQwyXyuR8",
        "scrolled": true,
        "outputId": "d84ed6be-d755-47f7-d954-2ad31dbfed2e"
      }
    },
    {
      "cell_type": "code",
      "execution_count": 10,
      "source": [
        "test_df.describe()"
      ],
      "outputs": [
        {
          "output_type": "execute_result",
          "data": {
            "text/plain": [
              "       transaction_id  apartment_id  exclusive_use_area  year_of_completion  \\\n",
              "count    5.463000e+03   5463.000000         5463.000000         5463.000000   \n",
              "mean     1.167126e+06   6287.570932           79.495250         2000.431082   \n",
              "std      4.075365e+04   3624.756304           32.935434            9.982040   \n",
              "min      1.092791e+06     12.000000           10.321500         1961.000000   \n",
              "25%      1.134296e+06   3278.000000           59.760000         1995.000000   \n",
              "50%      1.167937e+06   6091.000000           81.720000         2002.000000   \n",
              "75%      1.202560e+06   9416.500000           84.970000         2007.000000   \n",
              "max      1.234930e+06  12652.000000          273.860000         2017.000000   \n",
              "\n",
              "       transaction_year_month        floor  \n",
              "count             5463.000000  5463.000000  \n",
              "mean            201710.228446     8.266886  \n",
              "std                  2.798195     6.082475  \n",
              "min             201701.000000    -1.000000  \n",
              "25%             201709.000000     4.000000  \n",
              "50%             201712.000000     7.000000  \n",
              "75%             201712.000000    11.000000  \n",
              "max             201712.000000    55.000000  "
            ],
            "text/html": [
              "<div>\n",
              "<style scoped>\n",
              "    .dataframe tbody tr th:only-of-type {\n",
              "        vertical-align: middle;\n",
              "    }\n",
              "\n",
              "    .dataframe tbody tr th {\n",
              "        vertical-align: top;\n",
              "    }\n",
              "\n",
              "    .dataframe thead th {\n",
              "        text-align: right;\n",
              "    }\n",
              "</style>\n",
              "<table border=\"1\" class=\"dataframe\">\n",
              "  <thead>\n",
              "    <tr style=\"text-align: right;\">\n",
              "      <th></th>\n",
              "      <th>transaction_id</th>\n",
              "      <th>apartment_id</th>\n",
              "      <th>exclusive_use_area</th>\n",
              "      <th>year_of_completion</th>\n",
              "      <th>transaction_year_month</th>\n",
              "      <th>floor</th>\n",
              "    </tr>\n",
              "  </thead>\n",
              "  <tbody>\n",
              "    <tr>\n",
              "      <th>count</th>\n",
              "      <td>5.463000e+03</td>\n",
              "      <td>5463.000000</td>\n",
              "      <td>5463.000000</td>\n",
              "      <td>5463.000000</td>\n",
              "      <td>5463.000000</td>\n",
              "      <td>5463.000000</td>\n",
              "    </tr>\n",
              "    <tr>\n",
              "      <th>mean</th>\n",
              "      <td>1.167126e+06</td>\n",
              "      <td>6287.570932</td>\n",
              "      <td>79.495250</td>\n",
              "      <td>2000.431082</td>\n",
              "      <td>201710.228446</td>\n",
              "      <td>8.266886</td>\n",
              "    </tr>\n",
              "    <tr>\n",
              "      <th>std</th>\n",
              "      <td>4.075365e+04</td>\n",
              "      <td>3624.756304</td>\n",
              "      <td>32.935434</td>\n",
              "      <td>9.982040</td>\n",
              "      <td>2.798195</td>\n",
              "      <td>6.082475</td>\n",
              "    </tr>\n",
              "    <tr>\n",
              "      <th>min</th>\n",
              "      <td>1.092791e+06</td>\n",
              "      <td>12.000000</td>\n",
              "      <td>10.321500</td>\n",
              "      <td>1961.000000</td>\n",
              "      <td>201701.000000</td>\n",
              "      <td>-1.000000</td>\n",
              "    </tr>\n",
              "    <tr>\n",
              "      <th>25%</th>\n",
              "      <td>1.134296e+06</td>\n",
              "      <td>3278.000000</td>\n",
              "      <td>59.760000</td>\n",
              "      <td>1995.000000</td>\n",
              "      <td>201709.000000</td>\n",
              "      <td>4.000000</td>\n",
              "    </tr>\n",
              "    <tr>\n",
              "      <th>50%</th>\n",
              "      <td>1.167937e+06</td>\n",
              "      <td>6091.000000</td>\n",
              "      <td>81.720000</td>\n",
              "      <td>2002.000000</td>\n",
              "      <td>201712.000000</td>\n",
              "      <td>7.000000</td>\n",
              "    </tr>\n",
              "    <tr>\n",
              "      <th>75%</th>\n",
              "      <td>1.202560e+06</td>\n",
              "      <td>9416.500000</td>\n",
              "      <td>84.970000</td>\n",
              "      <td>2007.000000</td>\n",
              "      <td>201712.000000</td>\n",
              "      <td>11.000000</td>\n",
              "    </tr>\n",
              "    <tr>\n",
              "      <th>max</th>\n",
              "      <td>1.234930e+06</td>\n",
              "      <td>12652.000000</td>\n",
              "      <td>273.860000</td>\n",
              "      <td>2017.000000</td>\n",
              "      <td>201712.000000</td>\n",
              "      <td>55.000000</td>\n",
              "    </tr>\n",
              "  </tbody>\n",
              "</table>\n",
              "</div>"
            ]
          },
          "metadata": {},
          "execution_count": 10
        }
      ],
      "metadata": {
        "colab": {
          "base_uri": "https://localhost:8080/",
          "height": 302
        },
        "id": "qr4bAphkZtqZ",
        "outputId": "5aa2b1ec-f7e4-4009-d09e-237baab0cf95"
      }
    },
    {
      "cell_type": "markdown",
      "source": [
        "- test 데이터는 거래 연월이 2017년 데이터만 존재합니다.\n",
        "- 완공연도는 train과 동일합니다.\n",
        "- 층은 -1층부터 존재합니다."
      ],
      "metadata": {}
    },
    {
      "cell_type": "code",
      "execution_count": 11,
      "source": [
        "test_df.info()"
      ],
      "outputs": [
        {
          "output_type": "stream",
          "name": "stdout",
          "text": [
            "<class 'pandas.core.frame.DataFrame'>\n",
            "RangeIndex: 5463 entries, 0 to 5462\n",
            "Data columns (total 12 columns):\n",
            " #   Column                  Non-Null Count  Dtype  \n",
            "---  ------                  --------------  -----  \n",
            " 0   transaction_id          5463 non-null   int64  \n",
            " 1   apartment_id            5463 non-null   int64  \n",
            " 2   city                    5463 non-null   object \n",
            " 3   dong                    5463 non-null   object \n",
            " 4   jibun                   5463 non-null   object \n",
            " 5   apt                     5463 non-null   object \n",
            " 6   addr_kr                 5463 non-null   object \n",
            " 7   exclusive_use_area      5463 non-null   float64\n",
            " 8   year_of_completion      5463 non-null   int64  \n",
            " 9   transaction_year_month  5463 non-null   int64  \n",
            " 10  transaction_date        5463 non-null   object \n",
            " 11  floor                   5463 non-null   int64  \n",
            "dtypes: float64(1), int64(5), object(6)\n",
            "memory usage: 512.3+ KB\n"
          ]
        }
      ],
      "metadata": {
        "colab": {
          "base_uri": "https://localhost:8080/"
        },
        "id": "7WgJSSXUZtkJ",
        "outputId": "f9ccd750-b449-4469-c658-c2014af3f399"
      }
    },
    {
      "cell_type": "markdown",
      "source": [
        "- 마찬가지로 결측치는 없습니다."
      ],
      "metadata": {}
    },
    {
      "cell_type": "markdown",
      "source": [
        "## Preprocessing"
      ],
      "metadata": {
        "id": "23AHCSypXODz"
      }
    },
    {
      "cell_type": "markdown",
      "source": [
        "### apart"
      ],
      "metadata": {
        "id": "11SmTN0zVJAp"
      }
    },
    {
      "cell_type": "code",
      "execution_count": 12,
      "source": [
        "train_df.head(1)"
      ],
      "outputs": [
        {
          "output_type": "execute_result",
          "data": {
            "text/plain": [
              "   transaction_id  apartment_id   city dong jibun       apt  \\\n",
              "0               0          7622  서울특별시  신교동  6-13  신현(101동)   \n",
              "\n",
              "             addr_kr  exclusive_use_area  year_of_completion  \\\n",
              "0  신교동 6-13 신현(101동)               84.82                2002   \n",
              "\n",
              "   transaction_year_month transaction_date  floor  transaction_real_price  \n",
              "0                  200801            21~31      2                   37500  "
            ],
            "text/html": [
              "<div>\n",
              "<style scoped>\n",
              "    .dataframe tbody tr th:only-of-type {\n",
              "        vertical-align: middle;\n",
              "    }\n",
              "\n",
              "    .dataframe tbody tr th {\n",
              "        vertical-align: top;\n",
              "    }\n",
              "\n",
              "    .dataframe thead th {\n",
              "        text-align: right;\n",
              "    }\n",
              "</style>\n",
              "<table border=\"1\" class=\"dataframe\">\n",
              "  <thead>\n",
              "    <tr style=\"text-align: right;\">\n",
              "      <th></th>\n",
              "      <th>transaction_id</th>\n",
              "      <th>apartment_id</th>\n",
              "      <th>city</th>\n",
              "      <th>dong</th>\n",
              "      <th>jibun</th>\n",
              "      <th>apt</th>\n",
              "      <th>addr_kr</th>\n",
              "      <th>exclusive_use_area</th>\n",
              "      <th>year_of_completion</th>\n",
              "      <th>transaction_year_month</th>\n",
              "      <th>transaction_date</th>\n",
              "      <th>floor</th>\n",
              "      <th>transaction_real_price</th>\n",
              "    </tr>\n",
              "  </thead>\n",
              "  <tbody>\n",
              "    <tr>\n",
              "      <th>0</th>\n",
              "      <td>0</td>\n",
              "      <td>7622</td>\n",
              "      <td>서울특별시</td>\n",
              "      <td>신교동</td>\n",
              "      <td>6-13</td>\n",
              "      <td>신현(101동)</td>\n",
              "      <td>신교동 6-13 신현(101동)</td>\n",
              "      <td>84.82</td>\n",
              "      <td>2002</td>\n",
              "      <td>200801</td>\n",
              "      <td>21~31</td>\n",
              "      <td>2</td>\n",
              "      <td>37500</td>\n",
              "    </tr>\n",
              "  </tbody>\n",
              "</table>\n",
              "</div>"
            ]
          },
          "metadata": {},
          "execution_count": 12
        }
      ],
      "metadata": {}
    },
    {
      "cell_type": "markdown",
      "source": [
        "- 신현(101동)과 신현(102동)의 가격차이가 클까요?\n",
        "- apt 이름에 존재하는 괄호 + 괄호안 내용을 제거해서 통일하겠습니다."
      ],
      "metadata": {}
    },
    {
      "cell_type": "code",
      "execution_count": 13,
      "source": [
        "#괄호와 괄호안내용 제거\n",
        "regex = \"\\(.*\\)|\\s-\\s.*\"\n",
        "for i in tqdm(range(len(train_df))):\n",
        "   train_df.at[i, 'apt'] = re.sub(regex, '', train_df.at[i, 'apt'])\n",
        "for i in tqdm(range(len(test_df))):\n",
        "   test_df.at[i, 'apt'] = re.sub(regex, '', test_df.at[i, 'apt'])   "
      ],
      "outputs": [
        {
          "output_type": "stream",
          "name": "stderr",
          "text": [
            "100%|██████████| 1216553/1216553 [00:25<00:00, 48036.95it/s]\n",
            "100%|██████████| 5463/5463 [00:00<00:00, 68390.49it/s]\n"
          ]
        }
      ],
      "metadata": {
        "id": "hqTsDvMvXNr7"
      }
    },
    {
      "cell_type": "code",
      "execution_count": 14,
      "source": [
        "train_df['apt'].value_counts()[:20]"
      ],
      "outputs": [
        {
          "output_type": "execute_result",
          "data": {
            "text/plain": [
              "현대        17716\n",
              "한신        10135\n",
              "삼성         6771\n",
              "대우         6390\n",
              "신동아        6386\n",
              "두산         5801\n",
              "우성         5781\n",
              "주공2        5669\n",
              "삼성래미안      5483\n",
              "벽산         4651\n",
              "대림         4582\n",
              "동원로얄듀크     4430\n",
              "경남         4030\n",
              "삼환         3896\n",
              "극동         3771\n",
              "삼익         3583\n",
              "롯데캐슬       3570\n",
              "쌍용         3409\n",
              "코오롱        3320\n",
              "한양         3231\n",
              "Name: apt, dtype: int64"
            ]
          },
          "metadata": {},
          "execution_count": 14
        }
      ],
      "metadata": {
        "colab": {
          "base_uri": "https://localhost:8080/"
        },
        "id": "SV_-tgUVk8lo",
        "outputId": "4c83ff90-512c-4405-fbaf-3ae7abf61b74"
      }
    },
    {
      "cell_type": "markdown",
      "source": [
        "- 아파트 이름이 많이 겹치는 것을 알 수 있습니다.\n",
        "- 아파트별로 몇 채가 있는지를 나타내는 `apt_counts` 피쳐를 새로 만들겠습니다."
      ],
      "metadata": {}
    },
    {
      "cell_type": "code",
      "execution_count": 15,
      "source": [
        "# 같은 아파트 이름을 갖는 수를 저장하는 apt_counts 열 생성\n",
        "train_df['apt_counts'] = 0\n",
        "train_df.groupby('apt')['apt_counts'].count()\n",
        "train_df = pd.merge(train_df, train_df.groupby('apt')['apt_counts'].count(), on='apt', how='left').drop('apt_counts_x', axis=1).rename(columns={'apt_counts_y':'apt_counts'})\n",
        "\n",
        "test_df['apt_counts'] = 0\n",
        "test_df.groupby('apt')['apt_counts'].count()\n",
        "test_df = pd.merge(test_df, test_df.groupby('apt')['apt_counts'].count(), on='apt', how='left').drop('apt_counts_x', axis=1).rename(columns={'apt_counts_y':'apt_counts'})\n",
        "\n",
        "train_df.head(3)"
      ],
      "outputs": [
        {
          "output_type": "execute_result",
          "data": {
            "text/plain": [
              "   transaction_id  apartment_id   city dong  jibun     apt            addr_kr  \\\n",
              "0               0          7622  서울특별시  신교동   6-13      신현  신교동 6-13 신현(101동)   \n",
              "1               1          5399  서울특별시  필운동    142  사직파크맨션     필운동 142 사직파크맨션   \n",
              "2               2          3578  서울특별시  필운동  174-1  두레엘리시안   필운동 174-1 두레엘리시안   \n",
              "\n",
              "   exclusive_use_area  year_of_completion  transaction_year_month  \\\n",
              "0               84.82                2002                  200801   \n",
              "1               99.17                1973                  200801   \n",
              "2               84.74                2007                  200801   \n",
              "\n",
              "  transaction_date  floor  transaction_real_price  apt_counts  \n",
              "0            21~31      2                   37500          13  \n",
              "1             1~10      6                   20000           1  \n",
              "2             1~10      6                   38500          13  "
            ],
            "text/html": [
              "<div>\n",
              "<style scoped>\n",
              "    .dataframe tbody tr th:only-of-type {\n",
              "        vertical-align: middle;\n",
              "    }\n",
              "\n",
              "    .dataframe tbody tr th {\n",
              "        vertical-align: top;\n",
              "    }\n",
              "\n",
              "    .dataframe thead th {\n",
              "        text-align: right;\n",
              "    }\n",
              "</style>\n",
              "<table border=\"1\" class=\"dataframe\">\n",
              "  <thead>\n",
              "    <tr style=\"text-align: right;\">\n",
              "      <th></th>\n",
              "      <th>transaction_id</th>\n",
              "      <th>apartment_id</th>\n",
              "      <th>city</th>\n",
              "      <th>dong</th>\n",
              "      <th>jibun</th>\n",
              "      <th>apt</th>\n",
              "      <th>addr_kr</th>\n",
              "      <th>exclusive_use_area</th>\n",
              "      <th>year_of_completion</th>\n",
              "      <th>transaction_year_month</th>\n",
              "      <th>transaction_date</th>\n",
              "      <th>floor</th>\n",
              "      <th>transaction_real_price</th>\n",
              "      <th>apt_counts</th>\n",
              "    </tr>\n",
              "  </thead>\n",
              "  <tbody>\n",
              "    <tr>\n",
              "      <th>0</th>\n",
              "      <td>0</td>\n",
              "      <td>7622</td>\n",
              "      <td>서울특별시</td>\n",
              "      <td>신교동</td>\n",
              "      <td>6-13</td>\n",
              "      <td>신현</td>\n",
              "      <td>신교동 6-13 신현(101동)</td>\n",
              "      <td>84.82</td>\n",
              "      <td>2002</td>\n",
              "      <td>200801</td>\n",
              "      <td>21~31</td>\n",
              "      <td>2</td>\n",
              "      <td>37500</td>\n",
              "      <td>13</td>\n",
              "    </tr>\n",
              "    <tr>\n",
              "      <th>1</th>\n",
              "      <td>1</td>\n",
              "      <td>5399</td>\n",
              "      <td>서울특별시</td>\n",
              "      <td>필운동</td>\n",
              "      <td>142</td>\n",
              "      <td>사직파크맨션</td>\n",
              "      <td>필운동 142 사직파크맨션</td>\n",
              "      <td>99.17</td>\n",
              "      <td>1973</td>\n",
              "      <td>200801</td>\n",
              "      <td>1~10</td>\n",
              "      <td>6</td>\n",
              "      <td>20000</td>\n",
              "      <td>1</td>\n",
              "    </tr>\n",
              "    <tr>\n",
              "      <th>2</th>\n",
              "      <td>2</td>\n",
              "      <td>3578</td>\n",
              "      <td>서울특별시</td>\n",
              "      <td>필운동</td>\n",
              "      <td>174-1</td>\n",
              "      <td>두레엘리시안</td>\n",
              "      <td>필운동 174-1 두레엘리시안</td>\n",
              "      <td>84.74</td>\n",
              "      <td>2007</td>\n",
              "      <td>200801</td>\n",
              "      <td>1~10</td>\n",
              "      <td>6</td>\n",
              "      <td>38500</td>\n",
              "      <td>13</td>\n",
              "    </tr>\n",
              "  </tbody>\n",
              "</table>\n",
              "</div>"
            ]
          },
          "metadata": {},
          "execution_count": 15
        }
      ],
      "metadata": {
        "colab": {
          "base_uri": "https://localhost:8080/",
          "height": 138
        },
        "id": "vpJP6NDV35UF",
        "outputId": "87a1ffc9-e547-4dc4-9413-90dc07ca7cf7"
      }
    },
    {
      "cell_type": "markdown",
      "source": [
        "- 신교동 6-13 신현 (101동) 처럼 같은 아파트명을 갖는 아파트도 있지만, 필운동 142 사직파크맨션 같이 1개밖에 없는 아파트도 있습니다.\n",
        "- 숫자 하나, 글자 하나만 달라져도 비슷한 아파트가 다르게 나오는건 별로 좋은 것 같지 않다고 생각합니다.\n",
        "- top10 시공사 + 데이터에서 가장 많이 나오는 아파트 25개의 이름을 통일하겠습니다.\n",
        "- top10 시공사 정보는 구글 검색을 통해 선정했습니다. (구글링도 공공데이터..는 아니지만 끝난대회니까 넘어가주세요. 아래의 top 10 시공사를 보시면 이정도면 뭐,, 하고 고개를 끄덕이실거라 생각합니다.)"
      ],
      "metadata": {
        "id": "zpVvyOkDBmx0"
      }
    },
    {
      "cell_type": "code",
      "execution_count": 16,
      "source": [
        "# top 10 시공사 아파트 여부를 나타내는 컬럼 생성\n",
        "train_df['top10'] = 0\n",
        "test_df['top10'] = 0\n",
        "top10 = ['자이', '푸르지오', '더샵', '롯데캐슬', '이편한|e편한|e-편한',\n",
        "         '힐스테이트', '아이파크', '래미안', 'sk|SK|에스케이', '데시앙']\n",
        "\n",
        "train_df['apt'] = train_df['apt'].fillna('others')\n",
        "# top 10 시공사면 1, 아니면 0\n",
        "for i, brand in enumerate(top10):\n",
        "    train_df.loc[train_df['apt'].str.contains(brand), 'top10'] = 1\n",
        "    test_df.loc[test_df['apt'].str.contains(brand), 'top10'] = 1\n"
      ],
      "outputs": [],
      "metadata": {
        "id": "Tv03aoj2pLdG"
      }
    },
    {
      "cell_type": "code",
      "execution_count": 17,
      "source": [
        "train_df.head(1)"
      ],
      "outputs": [
        {
          "output_type": "execute_result",
          "data": {
            "text/plain": [
              "   transaction_id  apartment_id   city dong jibun apt            addr_kr  \\\n",
              "0               0          7622  서울특별시  신교동  6-13  신현  신교동 6-13 신현(101동)   \n",
              "\n",
              "   exclusive_use_area  year_of_completion  transaction_year_month  \\\n",
              "0               84.82                2002                  200801   \n",
              "\n",
              "  transaction_date  floor  transaction_real_price  apt_counts  top10  \n",
              "0            21~31      2                   37500          13      0  "
            ],
            "text/html": [
              "<div>\n",
              "<style scoped>\n",
              "    .dataframe tbody tr th:only-of-type {\n",
              "        vertical-align: middle;\n",
              "    }\n",
              "\n",
              "    .dataframe tbody tr th {\n",
              "        vertical-align: top;\n",
              "    }\n",
              "\n",
              "    .dataframe thead th {\n",
              "        text-align: right;\n",
              "    }\n",
              "</style>\n",
              "<table border=\"1\" class=\"dataframe\">\n",
              "  <thead>\n",
              "    <tr style=\"text-align: right;\">\n",
              "      <th></th>\n",
              "      <th>transaction_id</th>\n",
              "      <th>apartment_id</th>\n",
              "      <th>city</th>\n",
              "      <th>dong</th>\n",
              "      <th>jibun</th>\n",
              "      <th>apt</th>\n",
              "      <th>addr_kr</th>\n",
              "      <th>exclusive_use_area</th>\n",
              "      <th>year_of_completion</th>\n",
              "      <th>transaction_year_month</th>\n",
              "      <th>transaction_date</th>\n",
              "      <th>floor</th>\n",
              "      <th>transaction_real_price</th>\n",
              "      <th>apt_counts</th>\n",
              "      <th>top10</th>\n",
              "    </tr>\n",
              "  </thead>\n",
              "  <tbody>\n",
              "    <tr>\n",
              "      <th>0</th>\n",
              "      <td>0</td>\n",
              "      <td>7622</td>\n",
              "      <td>서울특별시</td>\n",
              "      <td>신교동</td>\n",
              "      <td>6-13</td>\n",
              "      <td>신현</td>\n",
              "      <td>신교동 6-13 신현(101동)</td>\n",
              "      <td>84.82</td>\n",
              "      <td>2002</td>\n",
              "      <td>200801</td>\n",
              "      <td>21~31</td>\n",
              "      <td>2</td>\n",
              "      <td>37500</td>\n",
              "      <td>13</td>\n",
              "      <td>0</td>\n",
              "    </tr>\n",
              "  </tbody>\n",
              "</table>\n",
              "</div>"
            ]
          },
          "metadata": {},
          "execution_count": 17
        }
      ],
      "metadata": {
        "colab": {
          "base_uri": "https://localhost:8080/",
          "height": 78
        },
        "id": "RNPils0FGIHT",
        "outputId": "5caf5500-9d12-48d2-dfd4-37be1a8d97b6"
      }
    },
    {
      "cell_type": "code",
      "execution_count": 18,
      "source": [
        "# 데이터에 많이 있는 아파트 대표 25개 리스트\n",
        "apt_names = ['그레이스', '양지', '쌍용', '현대', '한신', '삼성', '대우', '신동아', '두산', '주공',\n",
        "             '우성', '벽산', '동원로얄듀크','경남', '삼환', '쌍용', '삼익', '대림', '코오롱', '파크리오',\n",
        "             '엘지', '성원', '잠실', '동궁리치웰', '동성']\n",
        "# top 10 시공사 키워드와 25개 리스트를 통합\n",
        "apt_names_list = top10 + apt_names\n",
        "\n",
        "# `apt_names_list`의 키워드에 해당하는 아파트명이 있는지 여부를 나타내는 새로운 컬럼 생성\n",
        "train_df['transformed'] = False\n",
        "test_df['transformed'] = False\n",
        "\n",
        "# `apt_names_list`의 키워드에 아파트명이 포함되면 해당 키워드로 아파트명을 통일함\n",
        "# 그리고 `transformed` 컬럼값을 True로 변경\n",
        "for a in tqdm(apt_names_list):\n",
        "    train_df.loc[train_df['apt'].str.contains(a), 'apt'] = a\n",
        "    test_df.loc[test_df['apt'].str.contains(a), 'apt'] = a\n",
        "    train_df.loc[train_df['apt'].str.contains(a), 'transformed'] = True\n",
        "    test_df.loc[test_df['apt'].str.contains(a), 'transformed'] = True\n",
        "\n",
        "# 아파트 이름이 변경되지 않았을 경우(`transformed=False` 일 경우) 아파트명을 'others'로 변경\n",
        "for a in tqdm(apt_names):\n",
        "    train_df.loc[~train_df['transformed'], 'apt'] = 'others'\n",
        "    test_df.loc[~test_df['transformed'] , 'apt'] = 'others'"
      ],
      "outputs": [
        {
          "output_type": "stream",
          "name": "stderr",
          "text": [
            "100%|██████████| 35/35 [00:19<00:00,  1.80it/s]\n",
            "100%|██████████| 25/25 [00:00<00:00, 40.98it/s]\n"
          ]
        }
      ],
      "metadata": {
        "id": "6e_NdtpjTRhZ"
      }
    },
    {
      "cell_type": "code",
      "execution_count": 19,
      "source": [
        "train_df['apt'].value_counts()"
      ],
      "outputs": [
        {
          "output_type": "execute_result",
          "data": {
            "text/plain": [
              "others          653503\n",
              "현대               81824\n",
              "주공               65937\n",
              "래미안              32743\n",
              "한신               27481\n",
              "벽산               26968\n",
              "우성               24524\n",
              "롯데캐슬             24053\n",
              "삼성               20067\n",
              "sk|SK|에스케이       19709\n",
              "두산               19501\n",
              "삼익               18708\n",
              "푸르지오             18416\n",
              "쌍용               18256\n",
              "대림               18194\n",
              "대우               17786\n",
              "이편한|e편한|e-편한     14337\n",
              "신동아              14049\n",
              "힐스테이트            11985\n",
              "자이               11719\n",
              "엘지               10938\n",
              "경남               10875\n",
              "코오롱               8602\n",
              "아이파크              7989\n",
              "성원                7601\n",
              "더샵                6977\n",
              "삼환                6073\n",
              "동원로얄듀크            6070\n",
              "파크리오              3094\n",
              "잠실                2606\n",
              "동성                2228\n",
              "데시앙               2222\n",
              "양지                1033\n",
              "그레이스               393\n",
              "동궁리치웰               92\n",
              "Name: apt, dtype: int64"
            ]
          },
          "metadata": {},
          "execution_count": 19
        }
      ],
      "metadata": {
        "colab": {
          "base_uri": "https://localhost:8080/"
        },
        "id": "yOrr7w7CFjAh",
        "outputId": "1b1d5e77-a4e7-4a8c-ecd7-51d71a966358"
      }
    },
    {
      "cell_type": "markdown",
      "source": [
        "- 어마어마한 others 다음으로 현대가 가장 많네요\n",
        "- 잘 처리가 된 것 같습니다."
      ],
      "metadata": {}
    },
    {
      "cell_type": "code",
      "execution_count": 20,
      "source": [
        "print(train_df['apt'].nunique(), test_df['apt'].nunique())"
      ],
      "outputs": [
        {
          "output_type": "stream",
          "name": "stdout",
          "text": [
            "35 35\n"
          ]
        }
      ],
      "metadata": {
        "colab": {
          "base_uri": "https://localhost:8080/"
        },
        "id": "G0ZzfLbuKHsE",
        "outputId": "90de9464-dce2-4096-ccc1-55de6d62adba"
      }
    },
    {
      "cell_type": "markdown",
      "source": [
        "- 아파트가 35개로 잘 통일된 것을 확인할 수 있습니다.\n",
        "  \n",
        "- 아파트명을 통일했으니, 각 아파트의 평균 가격을 확인해보고, 이를 내림차순으로 라벨인코딩을 해줍니다."
      ],
      "metadata": {}
    },
    {
      "cell_type": "code",
      "execution_count": 21,
      "source": [
        "# 아파트별 가격의 평균 내림차순 정렬\n",
        "apt_price = train_df.groupby('apt')['transaction_real_price'].agg('mean').sort_values(ascending=False)\n",
        "print('변환전\\n', apt_price[:5])\n",
        "\n",
        "for i, a in enumerate(list(apt_price.index)):\n",
        "    train_df.loc[train_df['apt'] == a, 'apt'] = i # 라벨 인코딩\n",
        "    test_df.loc[test_df['apt'] == a, 'apt'] = i\n",
        "apt_price = train_df.groupby('apt')['transaction_real_price'].agg('mean').sort_values(ascending=False)\n",
        "print('변환후\\n', apt_price[:5])"
      ],
      "outputs": [
        {
          "output_type": "stream",
          "name": "stdout",
          "text": [
            "변환전\n",
            " apt\n",
            "잠실      91273.525326\n",
            "파크리오    88739.646736\n",
            "자이      79838.112467\n",
            "래미안     64184.531289\n",
            "아이파크    63115.982726\n",
            "Name: transaction_real_price, dtype: float64\n",
            "변환후\n",
            " apt\n",
            "0    91273.525326\n",
            "1    88739.646736\n",
            "2    79838.112467\n",
            "3    64184.531289\n",
            "4    63115.982726\n",
            "Name: transaction_real_price, dtype: float64\n"
          ]
        }
      ],
      "metadata": {
        "id": "ZqexdFHHunXZ",
        "colab": {
          "base_uri": "https://localhost:8080/",
          "height": 538
        },
        "outputId": "1f6e0b67-ea9a-4ed4-cae6-bfd10bf45c3f"
      }
    },
    {
      "cell_type": "markdown",
      "source": [
        "- 잠실, 파크리오, 자이, 래미안, 아이파크 순으로 평균 실거래가 높네요. (잠실은 아마 저때보다 훨씬 높겠죠)?\n",
        "- 라벨인코딩도 잘 된것을 확인합니다."
      ],
      "metadata": {}
    },
    {
      "cell_type": "markdown",
      "source": [
        "### date\n",
        "apt 전처리는 마쳤으니, 이번에는 date로 넘어가봅시다."
      ],
      "metadata": {
        "id": "wawdc1-NzQD3"
      }
    },
    {
      "cell_type": "code",
      "execution_count": 22,
      "source": [
        "train_df.head(1)"
      ],
      "outputs": [
        {
          "output_type": "execute_result",
          "data": {
            "text/plain": [
              "   transaction_id  apartment_id   city dong jibun apt            addr_kr  \\\n",
              "0               0          7622  서울특별시  신교동  6-13  23  신교동 6-13 신현(101동)   \n",
              "\n",
              "   exclusive_use_area  year_of_completion  transaction_year_month  \\\n",
              "0               84.82                2002                  200801   \n",
              "\n",
              "  transaction_date  floor  transaction_real_price  apt_counts  top10  \\\n",
              "0            21~31      2                   37500          13      0   \n",
              "\n",
              "   transformed  \n",
              "0        False  "
            ],
            "text/html": [
              "<div>\n",
              "<style scoped>\n",
              "    .dataframe tbody tr th:only-of-type {\n",
              "        vertical-align: middle;\n",
              "    }\n",
              "\n",
              "    .dataframe tbody tr th {\n",
              "        vertical-align: top;\n",
              "    }\n",
              "\n",
              "    .dataframe thead th {\n",
              "        text-align: right;\n",
              "    }\n",
              "</style>\n",
              "<table border=\"1\" class=\"dataframe\">\n",
              "  <thead>\n",
              "    <tr style=\"text-align: right;\">\n",
              "      <th></th>\n",
              "      <th>transaction_id</th>\n",
              "      <th>apartment_id</th>\n",
              "      <th>city</th>\n",
              "      <th>dong</th>\n",
              "      <th>jibun</th>\n",
              "      <th>apt</th>\n",
              "      <th>addr_kr</th>\n",
              "      <th>exclusive_use_area</th>\n",
              "      <th>year_of_completion</th>\n",
              "      <th>transaction_year_month</th>\n",
              "      <th>transaction_date</th>\n",
              "      <th>floor</th>\n",
              "      <th>transaction_real_price</th>\n",
              "      <th>apt_counts</th>\n",
              "      <th>top10</th>\n",
              "      <th>transformed</th>\n",
              "    </tr>\n",
              "  </thead>\n",
              "  <tbody>\n",
              "    <tr>\n",
              "      <th>0</th>\n",
              "      <td>0</td>\n",
              "      <td>7622</td>\n",
              "      <td>서울특별시</td>\n",
              "      <td>신교동</td>\n",
              "      <td>6-13</td>\n",
              "      <td>23</td>\n",
              "      <td>신교동 6-13 신현(101동)</td>\n",
              "      <td>84.82</td>\n",
              "      <td>2002</td>\n",
              "      <td>200801</td>\n",
              "      <td>21~31</td>\n",
              "      <td>2</td>\n",
              "      <td>37500</td>\n",
              "      <td>13</td>\n",
              "      <td>0</td>\n",
              "      <td>False</td>\n",
              "    </tr>\n",
              "  </tbody>\n",
              "</table>\n",
              "</div>"
            ]
          },
          "metadata": {},
          "execution_count": 22
        }
      ],
      "metadata": {}
    },
    {
      "cell_type": "code",
      "execution_count": 23,
      "source": [
        "train_df.describe()"
      ],
      "outputs": [
        {
          "output_type": "execute_result",
          "data": {
            "text/plain": [
              "       transaction_id  apartment_id  exclusive_use_area  year_of_completion  \\\n",
              "count    1.216553e+06  1.216553e+06        1.216553e+06        1.216553e+06   \n",
              "mean     6.091530e+05  6.299685e+03        7.816549e+01        1.998297e+03   \n",
              "std      3.526198e+05  3.581169e+03        2.915113e+01        8.941347e+00   \n",
              "min      0.000000e+00  0.000000e+00        9.260000e+00        1.961000e+03   \n",
              "25%      3.041380e+05  3.345000e+03        5.976000e+01        1.993000e+03   \n",
              "50%      6.082760e+05  5.964000e+03        8.241000e+01        1.999000e+03   \n",
              "75%      9.124140e+05  9.436000e+03        8.497000e+01        2.005000e+03   \n",
              "max      1.234827e+06  1.265800e+04        4.243200e+02        2.017000e+03   \n",
              "\n",
              "       transaction_year_month         floor  transaction_real_price  \\\n",
              "count            1.216553e+06  1.216553e+06            1.216553e+06   \n",
              "mean             2.012984e+05  9.343291e+00            3.822769e+04   \n",
              "std              2.905732e+02  6.606500e+00            3.104898e+04   \n",
              "min              2.008010e+05 -4.000000e+00            1.000000e+02   \n",
              "25%              2.010100e+05  4.000000e+00            1.900000e+04   \n",
              "50%              2.013120e+05  8.000000e+00            3.090000e+04   \n",
              "75%              2.015110e+05  1.300000e+01            4.700000e+04   \n",
              "max              2.017110e+05  8.000000e+01            8.200000e+05   \n",
              "\n",
              "         apt_counts         top10  \n",
              "count  1.216553e+06  1.216553e+06  \n",
              "mean   1.358148e+03  1.234225e-01  \n",
              "std    2.521461e+03  3.289217e-01  \n",
              "min    1.000000e+00  0.000000e+00  \n",
              "25%    2.130000e+02  0.000000e+00  \n",
              "50%    5.950000e+02  0.000000e+00  \n",
              "75%    1.366000e+03  0.000000e+00  \n",
              "max    1.771600e+04  1.000000e+00  "
            ],
            "text/html": [
              "<div>\n",
              "<style scoped>\n",
              "    .dataframe tbody tr th:only-of-type {\n",
              "        vertical-align: middle;\n",
              "    }\n",
              "\n",
              "    .dataframe tbody tr th {\n",
              "        vertical-align: top;\n",
              "    }\n",
              "\n",
              "    .dataframe thead th {\n",
              "        text-align: right;\n",
              "    }\n",
              "</style>\n",
              "<table border=\"1\" class=\"dataframe\">\n",
              "  <thead>\n",
              "    <tr style=\"text-align: right;\">\n",
              "      <th></th>\n",
              "      <th>transaction_id</th>\n",
              "      <th>apartment_id</th>\n",
              "      <th>exclusive_use_area</th>\n",
              "      <th>year_of_completion</th>\n",
              "      <th>transaction_year_month</th>\n",
              "      <th>floor</th>\n",
              "      <th>transaction_real_price</th>\n",
              "      <th>apt_counts</th>\n",
              "      <th>top10</th>\n",
              "    </tr>\n",
              "  </thead>\n",
              "  <tbody>\n",
              "    <tr>\n",
              "      <th>count</th>\n",
              "      <td>1.216553e+06</td>\n",
              "      <td>1.216553e+06</td>\n",
              "      <td>1.216553e+06</td>\n",
              "      <td>1.216553e+06</td>\n",
              "      <td>1.216553e+06</td>\n",
              "      <td>1.216553e+06</td>\n",
              "      <td>1.216553e+06</td>\n",
              "      <td>1.216553e+06</td>\n",
              "      <td>1.216553e+06</td>\n",
              "    </tr>\n",
              "    <tr>\n",
              "      <th>mean</th>\n",
              "      <td>6.091530e+05</td>\n",
              "      <td>6.299685e+03</td>\n",
              "      <td>7.816549e+01</td>\n",
              "      <td>1.998297e+03</td>\n",
              "      <td>2.012984e+05</td>\n",
              "      <td>9.343291e+00</td>\n",
              "      <td>3.822769e+04</td>\n",
              "      <td>1.358148e+03</td>\n",
              "      <td>1.234225e-01</td>\n",
              "    </tr>\n",
              "    <tr>\n",
              "      <th>std</th>\n",
              "      <td>3.526198e+05</td>\n",
              "      <td>3.581169e+03</td>\n",
              "      <td>2.915113e+01</td>\n",
              "      <td>8.941347e+00</td>\n",
              "      <td>2.905732e+02</td>\n",
              "      <td>6.606500e+00</td>\n",
              "      <td>3.104898e+04</td>\n",
              "      <td>2.521461e+03</td>\n",
              "      <td>3.289217e-01</td>\n",
              "    </tr>\n",
              "    <tr>\n",
              "      <th>min</th>\n",
              "      <td>0.000000e+00</td>\n",
              "      <td>0.000000e+00</td>\n",
              "      <td>9.260000e+00</td>\n",
              "      <td>1.961000e+03</td>\n",
              "      <td>2.008010e+05</td>\n",
              "      <td>-4.000000e+00</td>\n",
              "      <td>1.000000e+02</td>\n",
              "      <td>1.000000e+00</td>\n",
              "      <td>0.000000e+00</td>\n",
              "    </tr>\n",
              "    <tr>\n",
              "      <th>25%</th>\n",
              "      <td>3.041380e+05</td>\n",
              "      <td>3.345000e+03</td>\n",
              "      <td>5.976000e+01</td>\n",
              "      <td>1.993000e+03</td>\n",
              "      <td>2.010100e+05</td>\n",
              "      <td>4.000000e+00</td>\n",
              "      <td>1.900000e+04</td>\n",
              "      <td>2.130000e+02</td>\n",
              "      <td>0.000000e+00</td>\n",
              "    </tr>\n",
              "    <tr>\n",
              "      <th>50%</th>\n",
              "      <td>6.082760e+05</td>\n",
              "      <td>5.964000e+03</td>\n",
              "      <td>8.241000e+01</td>\n",
              "      <td>1.999000e+03</td>\n",
              "      <td>2.013120e+05</td>\n",
              "      <td>8.000000e+00</td>\n",
              "      <td>3.090000e+04</td>\n",
              "      <td>5.950000e+02</td>\n",
              "      <td>0.000000e+00</td>\n",
              "    </tr>\n",
              "    <tr>\n",
              "      <th>75%</th>\n",
              "      <td>9.124140e+05</td>\n",
              "      <td>9.436000e+03</td>\n",
              "      <td>8.497000e+01</td>\n",
              "      <td>2.005000e+03</td>\n",
              "      <td>2.015110e+05</td>\n",
              "      <td>1.300000e+01</td>\n",
              "      <td>4.700000e+04</td>\n",
              "      <td>1.366000e+03</td>\n",
              "      <td>0.000000e+00</td>\n",
              "    </tr>\n",
              "    <tr>\n",
              "      <th>max</th>\n",
              "      <td>1.234827e+06</td>\n",
              "      <td>1.265800e+04</td>\n",
              "      <td>4.243200e+02</td>\n",
              "      <td>2.017000e+03</td>\n",
              "      <td>2.017110e+05</td>\n",
              "      <td>8.000000e+01</td>\n",
              "      <td>8.200000e+05</td>\n",
              "      <td>1.771600e+04</td>\n",
              "      <td>1.000000e+00</td>\n",
              "    </tr>\n",
              "  </tbody>\n",
              "</table>\n",
              "</div>"
            ]
          },
          "metadata": {},
          "execution_count": 23
        }
      ],
      "metadata": {}
    },
    {
      "cell_type": "markdown",
      "source": [
        "- 날짜 관련 컬럼은 `year_of_completion`, `transaction_year_month`, `transaction_date`가 있습니다.\n",
        "- `transaction_date`는 0~10, 11~20, 21~30 총 세가지로 이루어져 있는데, 가격에 크게 영향을 미칠 것 같지 않아 제외합니다.\n",
        "각 컬럼의 최대/최소가\n",
        "- `year_of_completion`\n",
        "    - 최소연도: 1961년\n",
        "    - 최대연도: 2017년\n",
        "- `transaction_year_month`\n",
        "    - 최소연도: 2008년 1월\n",
        "    - 최대연도: 2017년 11월\n",
        "임을 확인합니다.\n",
        "- 최대연도에서 최소연도를 빼면 정수형 라벨인코딩이 완성되겠죠?\n",
        "- 사용하지 않을 열도 미리 제거하겠습니다.\n",
        "\n",
        "주의할 점은 test 데이터의 라벨인코딩입니다.\n",
        "- test 완공연도는 train 데이터와 동일하기 때문에 상관없습니다.\n",
        "- 대신 거래연월이 2017년 01월부터 12월까지로만 이루어져 있기 때문에, 최소값을 빼면 train 라벨인코딩과 다른 값이 됩니다.\n",
        "- 따라서 test의 거래연월에서 2017을 뺀 값에서 201701의 인코딩 값을 더해줍니다.\n"
      ],
      "metadata": {}
    },
    {
      "cell_type": "code",
      "execution_count": 22,
      "source": [
        "# test 시작 거래연월인 인덱스 저장\n",
        "test_start = train_df.loc[train_df['transaction_year_month'] == 201701, 'transaction_year_month'].index[0]"
      ],
      "outputs": [],
      "metadata": {}
    },
    {
      "cell_type": "code",
      "execution_count": 23,
      "source": [
        "# 완공연도에서 최소연도를 뺌으로써 완공연도 라벨인코딩\n",
        "print('변환전\\n', train_df['year_of_completion'].unique()[:5])\n",
        "train_df['year_of_completion'] = train_df['year_of_completion'] - train_df['year_of_completion'].min()\n",
        "test_df['year_of_completion'] = test_df['year_of_completion'] - test_df['year_of_completion'].min()\n",
        "print('변환후\\n', train_df['year_of_completion'].unique()[:5])\n",
        "\n",
        "# 연월 증가하는 순으로 라벨 인코딩\n",
        "print('train 변환전\\n', train_df['transaction_year_month'].unique()[:5])\n",
        "print('test 변환전\\n', test_df['transaction_year_month'].unique()[:5])\n",
        "le = LabelEncoder()\n",
        "train_df['transaction_year_month'] = le.fit_transform(train_df['transaction_year_month'])\n",
        "# test는 다음과 같이 처리\n",
        "test_df['transaction_year_month'] = test_df['transaction_year_month'] - test_df['transaction_year_month'].min() + train_df.at[test_start, 'transaction_year_month']\n",
        "print('train 변환후\\n', train_df['transaction_year_month'].unique()[:5])\n",
        "print('test 변환후\\n', test_df['transaction_year_month'].unique()[:5])\n",
        "\n",
        "# 필요없는 열 제거\n",
        "train_df = train_df.drop(['jibun', 'transaction_date', 'addr_kr'], axis=1)\n",
        "test_df = test_df.drop(['jibun', 'transaction_date', 'addr_kr'], axis=1)"
      ],
      "outputs": [
        {
          "output_type": "stream",
          "name": "stdout",
          "text": [
            "변환전\n",
            " [2002 1973 2007 2003 2004]\n",
            "변환후\n",
            " [41 12 46 42 43]\n",
            "train 변환전\n",
            " [200801 200802 200803 200804 200805]\n",
            "test 변환전\n",
            " [201711 201708 201710 201707 201712]\n",
            "train 변환후\n",
            " [0 1 2 3 4]\n",
            "test 변환후\n",
            " [118 115 117 114 119]\n"
          ]
        }
      ],
      "metadata": {
        "id": "OFOkDMGoCd35",
        "colab": {
          "base_uri": "https://localhost:8080/"
        },
        "outputId": "496a9a09-1774-4670-a8d0-deb85e4728d3"
      }
    },
    {
      "cell_type": "code",
      "execution_count": 24,
      "source": [
        "train_df.head(5)"
      ],
      "outputs": [
        {
          "output_type": "execute_result",
          "data": {
            "text/plain": [
              "   transaction_id  apartment_id   city dong apt  exclusive_use_area  \\\n",
              "0               0          7622  서울특별시  신교동  23               84.82   \n",
              "1               1          5399  서울특별시  필운동  23               99.17   \n",
              "2               2          3578  서울특별시  필운동  23               84.74   \n",
              "3               3         10957  서울특별시  내수동  23              146.39   \n",
              "4               4         10639  서울특별시  내수동  23              194.43   \n",
              "\n",
              "   year_of_completion  transaction_year_month  floor  transaction_real_price  \\\n",
              "0                  41                       0      2                   37500   \n",
              "1                  12                       0      6                   20000   \n",
              "2                  46                       0      6                   38500   \n",
              "3                  42                       0     15                  118000   \n",
              "4                  43                       0      3                  120000   \n",
              "\n",
              "   apt_counts  top10  transformed  \n",
              "0          13      0        False  \n",
              "1           1      0        False  \n",
              "2          13      0        False  \n",
              "3          55      0        False  \n",
              "4          15      0        False  "
            ],
            "text/html": [
              "<div>\n",
              "<style scoped>\n",
              "    .dataframe tbody tr th:only-of-type {\n",
              "        vertical-align: middle;\n",
              "    }\n",
              "\n",
              "    .dataframe tbody tr th {\n",
              "        vertical-align: top;\n",
              "    }\n",
              "\n",
              "    .dataframe thead th {\n",
              "        text-align: right;\n",
              "    }\n",
              "</style>\n",
              "<table border=\"1\" class=\"dataframe\">\n",
              "  <thead>\n",
              "    <tr style=\"text-align: right;\">\n",
              "      <th></th>\n",
              "      <th>transaction_id</th>\n",
              "      <th>apartment_id</th>\n",
              "      <th>city</th>\n",
              "      <th>dong</th>\n",
              "      <th>apt</th>\n",
              "      <th>exclusive_use_area</th>\n",
              "      <th>year_of_completion</th>\n",
              "      <th>transaction_year_month</th>\n",
              "      <th>floor</th>\n",
              "      <th>transaction_real_price</th>\n",
              "      <th>apt_counts</th>\n",
              "      <th>top10</th>\n",
              "      <th>transformed</th>\n",
              "    </tr>\n",
              "  </thead>\n",
              "  <tbody>\n",
              "    <tr>\n",
              "      <th>0</th>\n",
              "      <td>0</td>\n",
              "      <td>7622</td>\n",
              "      <td>서울특별시</td>\n",
              "      <td>신교동</td>\n",
              "      <td>23</td>\n",
              "      <td>84.82</td>\n",
              "      <td>41</td>\n",
              "      <td>0</td>\n",
              "      <td>2</td>\n",
              "      <td>37500</td>\n",
              "      <td>13</td>\n",
              "      <td>0</td>\n",
              "      <td>False</td>\n",
              "    </tr>\n",
              "    <tr>\n",
              "      <th>1</th>\n",
              "      <td>1</td>\n",
              "      <td>5399</td>\n",
              "      <td>서울특별시</td>\n",
              "      <td>필운동</td>\n",
              "      <td>23</td>\n",
              "      <td>99.17</td>\n",
              "      <td>12</td>\n",
              "      <td>0</td>\n",
              "      <td>6</td>\n",
              "      <td>20000</td>\n",
              "      <td>1</td>\n",
              "      <td>0</td>\n",
              "      <td>False</td>\n",
              "    </tr>\n",
              "    <tr>\n",
              "      <th>2</th>\n",
              "      <td>2</td>\n",
              "      <td>3578</td>\n",
              "      <td>서울특별시</td>\n",
              "      <td>필운동</td>\n",
              "      <td>23</td>\n",
              "      <td>84.74</td>\n",
              "      <td>46</td>\n",
              "      <td>0</td>\n",
              "      <td>6</td>\n",
              "      <td>38500</td>\n",
              "      <td>13</td>\n",
              "      <td>0</td>\n",
              "      <td>False</td>\n",
              "    </tr>\n",
              "    <tr>\n",
              "      <th>3</th>\n",
              "      <td>3</td>\n",
              "      <td>10957</td>\n",
              "      <td>서울특별시</td>\n",
              "      <td>내수동</td>\n",
              "      <td>23</td>\n",
              "      <td>146.39</td>\n",
              "      <td>42</td>\n",
              "      <td>0</td>\n",
              "      <td>15</td>\n",
              "      <td>118000</td>\n",
              "      <td>55</td>\n",
              "      <td>0</td>\n",
              "      <td>False</td>\n",
              "    </tr>\n",
              "    <tr>\n",
              "      <th>4</th>\n",
              "      <td>4</td>\n",
              "      <td>10639</td>\n",
              "      <td>서울특별시</td>\n",
              "      <td>내수동</td>\n",
              "      <td>23</td>\n",
              "      <td>194.43</td>\n",
              "      <td>43</td>\n",
              "      <td>0</td>\n",
              "      <td>3</td>\n",
              "      <td>120000</td>\n",
              "      <td>15</td>\n",
              "      <td>0</td>\n",
              "      <td>False</td>\n",
              "    </tr>\n",
              "  </tbody>\n",
              "</table>\n",
              "</div>"
            ]
          },
          "metadata": {},
          "execution_count": 24
        }
      ],
      "metadata": {
        "colab": {
          "base_uri": "https://localhost:8080/",
          "height": 289
        },
        "id": "I36E-yHw6cVd",
        "outputId": "884eb0d1-9774-424a-af6e-723110db99d5"
      }
    },
    {
      "cell_type": "code",
      "execution_count": 25,
      "source": [
        "test_df"
      ],
      "outputs": [
        {
          "output_type": "execute_result",
          "data": {
            "text/plain": [
              "      transaction_id  apartment_id   city dong apt  exclusive_use_area  \\\n",
              "0            1145756         10453  서울특별시   목동  23             35.5500   \n",
              "1            1198704           989  부산광역시  초량동  23             68.7200   \n",
              "2            1222384          8597  부산광역시  괴정동  23             72.5400   \n",
              "3            1179897         11086  서울특별시  대치동  23            111.5400   \n",
              "4            1223091          2121  부산광역시  다대동  10            119.6398   \n",
              "...              ...           ...    ...  ...  ..                 ...   \n",
              "5458         1174640          8965  서울특별시  양재동  23             84.0500   \n",
              "5459         1175575          3831  서울특별시  반포동   3             84.9300   \n",
              "5460         1157024          5550  서울특별시  구로동   3            110.1880   \n",
              "5461         1136863          3371  서울특별시  홍제동  23             92.4400   \n",
              "5462         1218921          6825  부산광역시  재송동  23             84.6400   \n",
              "\n",
              "      year_of_completion  transaction_year_month  floor  apt_counts  top10  \\\n",
              "0                     41                     118      2           1      0   \n",
              "1                     16                     115      2           1      0   \n",
              "2                     28                     117      2           1      0   \n",
              "3                     43                     114     10           2      0   \n",
              "4                     53                     119     21           3      1   \n",
              "...                  ...                     ...    ...         ...    ...   \n",
              "5458                  42                     117      7           1      0   \n",
              "5459                  48                     119      4           2      1   \n",
              "5460                  43                     119     23          23      1   \n",
              "5461                  44                     117      1           1      0   \n",
              "5462                  32                     119      7           1      0   \n",
              "\n",
              "      transformed  \n",
              "0           False  \n",
              "1           False  \n",
              "2           False  \n",
              "3           False  \n",
              "4            True  \n",
              "...           ...  \n",
              "5458        False  \n",
              "5459         True  \n",
              "5460         True  \n",
              "5461        False  \n",
              "5462        False  \n",
              "\n",
              "[5463 rows x 12 columns]"
            ],
            "text/html": [
              "<div>\n",
              "<style scoped>\n",
              "    .dataframe tbody tr th:only-of-type {\n",
              "        vertical-align: middle;\n",
              "    }\n",
              "\n",
              "    .dataframe tbody tr th {\n",
              "        vertical-align: top;\n",
              "    }\n",
              "\n",
              "    .dataframe thead th {\n",
              "        text-align: right;\n",
              "    }\n",
              "</style>\n",
              "<table border=\"1\" class=\"dataframe\">\n",
              "  <thead>\n",
              "    <tr style=\"text-align: right;\">\n",
              "      <th></th>\n",
              "      <th>transaction_id</th>\n",
              "      <th>apartment_id</th>\n",
              "      <th>city</th>\n",
              "      <th>dong</th>\n",
              "      <th>apt</th>\n",
              "      <th>exclusive_use_area</th>\n",
              "      <th>year_of_completion</th>\n",
              "      <th>transaction_year_month</th>\n",
              "      <th>floor</th>\n",
              "      <th>apt_counts</th>\n",
              "      <th>top10</th>\n",
              "      <th>transformed</th>\n",
              "    </tr>\n",
              "  </thead>\n",
              "  <tbody>\n",
              "    <tr>\n",
              "      <th>0</th>\n",
              "      <td>1145756</td>\n",
              "      <td>10453</td>\n",
              "      <td>서울특별시</td>\n",
              "      <td>목동</td>\n",
              "      <td>23</td>\n",
              "      <td>35.5500</td>\n",
              "      <td>41</td>\n",
              "      <td>118</td>\n",
              "      <td>2</td>\n",
              "      <td>1</td>\n",
              "      <td>0</td>\n",
              "      <td>False</td>\n",
              "    </tr>\n",
              "    <tr>\n",
              "      <th>1</th>\n",
              "      <td>1198704</td>\n",
              "      <td>989</td>\n",
              "      <td>부산광역시</td>\n",
              "      <td>초량동</td>\n",
              "      <td>23</td>\n",
              "      <td>68.7200</td>\n",
              "      <td>16</td>\n",
              "      <td>115</td>\n",
              "      <td>2</td>\n",
              "      <td>1</td>\n",
              "      <td>0</td>\n",
              "      <td>False</td>\n",
              "    </tr>\n",
              "    <tr>\n",
              "      <th>2</th>\n",
              "      <td>1222384</td>\n",
              "      <td>8597</td>\n",
              "      <td>부산광역시</td>\n",
              "      <td>괴정동</td>\n",
              "      <td>23</td>\n",
              "      <td>72.5400</td>\n",
              "      <td>28</td>\n",
              "      <td>117</td>\n",
              "      <td>2</td>\n",
              "      <td>1</td>\n",
              "      <td>0</td>\n",
              "      <td>False</td>\n",
              "    </tr>\n",
              "    <tr>\n",
              "      <th>3</th>\n",
              "      <td>1179897</td>\n",
              "      <td>11086</td>\n",
              "      <td>서울특별시</td>\n",
              "      <td>대치동</td>\n",
              "      <td>23</td>\n",
              "      <td>111.5400</td>\n",
              "      <td>43</td>\n",
              "      <td>114</td>\n",
              "      <td>10</td>\n",
              "      <td>2</td>\n",
              "      <td>0</td>\n",
              "      <td>False</td>\n",
              "    </tr>\n",
              "    <tr>\n",
              "      <th>4</th>\n",
              "      <td>1223091</td>\n",
              "      <td>2121</td>\n",
              "      <td>부산광역시</td>\n",
              "      <td>다대동</td>\n",
              "      <td>10</td>\n",
              "      <td>119.6398</td>\n",
              "      <td>53</td>\n",
              "      <td>119</td>\n",
              "      <td>21</td>\n",
              "      <td>3</td>\n",
              "      <td>1</td>\n",
              "      <td>True</td>\n",
              "    </tr>\n",
              "    <tr>\n",
              "      <th>...</th>\n",
              "      <td>...</td>\n",
              "      <td>...</td>\n",
              "      <td>...</td>\n",
              "      <td>...</td>\n",
              "      <td>...</td>\n",
              "      <td>...</td>\n",
              "      <td>...</td>\n",
              "      <td>...</td>\n",
              "      <td>...</td>\n",
              "      <td>...</td>\n",
              "      <td>...</td>\n",
              "      <td>...</td>\n",
              "    </tr>\n",
              "    <tr>\n",
              "      <th>5458</th>\n",
              "      <td>1174640</td>\n",
              "      <td>8965</td>\n",
              "      <td>서울특별시</td>\n",
              "      <td>양재동</td>\n",
              "      <td>23</td>\n",
              "      <td>84.0500</td>\n",
              "      <td>42</td>\n",
              "      <td>117</td>\n",
              "      <td>7</td>\n",
              "      <td>1</td>\n",
              "      <td>0</td>\n",
              "      <td>False</td>\n",
              "    </tr>\n",
              "    <tr>\n",
              "      <th>5459</th>\n",
              "      <td>1175575</td>\n",
              "      <td>3831</td>\n",
              "      <td>서울특별시</td>\n",
              "      <td>반포동</td>\n",
              "      <td>3</td>\n",
              "      <td>84.9300</td>\n",
              "      <td>48</td>\n",
              "      <td>119</td>\n",
              "      <td>4</td>\n",
              "      <td>2</td>\n",
              "      <td>1</td>\n",
              "      <td>True</td>\n",
              "    </tr>\n",
              "    <tr>\n",
              "      <th>5460</th>\n",
              "      <td>1157024</td>\n",
              "      <td>5550</td>\n",
              "      <td>서울특별시</td>\n",
              "      <td>구로동</td>\n",
              "      <td>3</td>\n",
              "      <td>110.1880</td>\n",
              "      <td>43</td>\n",
              "      <td>119</td>\n",
              "      <td>23</td>\n",
              "      <td>23</td>\n",
              "      <td>1</td>\n",
              "      <td>True</td>\n",
              "    </tr>\n",
              "    <tr>\n",
              "      <th>5461</th>\n",
              "      <td>1136863</td>\n",
              "      <td>3371</td>\n",
              "      <td>서울특별시</td>\n",
              "      <td>홍제동</td>\n",
              "      <td>23</td>\n",
              "      <td>92.4400</td>\n",
              "      <td>44</td>\n",
              "      <td>117</td>\n",
              "      <td>1</td>\n",
              "      <td>1</td>\n",
              "      <td>0</td>\n",
              "      <td>False</td>\n",
              "    </tr>\n",
              "    <tr>\n",
              "      <th>5462</th>\n",
              "      <td>1218921</td>\n",
              "      <td>6825</td>\n",
              "      <td>부산광역시</td>\n",
              "      <td>재송동</td>\n",
              "      <td>23</td>\n",
              "      <td>84.6400</td>\n",
              "      <td>32</td>\n",
              "      <td>119</td>\n",
              "      <td>7</td>\n",
              "      <td>1</td>\n",
              "      <td>0</td>\n",
              "      <td>False</td>\n",
              "    </tr>\n",
              "  </tbody>\n",
              "</table>\n",
              "<p>5463 rows × 12 columns</p>\n",
              "</div>"
            ]
          },
          "metadata": {},
          "execution_count": 25
        }
      ],
      "metadata": {}
    },
    {
      "cell_type": "code",
      "execution_count": 26,
      "source": [
        "train_df.describe()"
      ],
      "outputs": [
        {
          "output_type": "execute_result",
          "data": {
            "text/plain": [
              "       transaction_id  apartment_id  exclusive_use_area  year_of_completion  \\\n",
              "count    1.216553e+06  1.216553e+06        1.216553e+06        1.216553e+06   \n",
              "mean     6.091530e+05  6.299685e+03        7.816549e+01        3.729657e+01   \n",
              "std      3.526198e+05  3.581169e+03        2.915113e+01        8.941347e+00   \n",
              "min      0.000000e+00  0.000000e+00        9.260000e+00        0.000000e+00   \n",
              "25%      3.041380e+05  3.345000e+03        5.976000e+01        3.200000e+01   \n",
              "50%      6.082760e+05  5.964000e+03        8.241000e+01        3.800000e+01   \n",
              "75%      9.124140e+05  9.436000e+03        8.497000e+01        4.400000e+01   \n",
              "max      1.234827e+06  1.265800e+04        4.243200e+02        5.600000e+01   \n",
              "\n",
              "       transaction_year_month         floor  transaction_real_price  \\\n",
              "count            1.216553e+06  1.216553e+06            1.216553e+06   \n",
              "mean             6.437834e+01  9.343291e+00            3.822769e+04   \n",
              "std              3.509363e+01  6.606500e+00            3.104898e+04   \n",
              "min              0.000000e+00 -4.000000e+00            1.000000e+02   \n",
              "25%              3.300000e+01  4.000000e+00            1.900000e+04   \n",
              "50%              7.100000e+01  8.000000e+00            3.090000e+04   \n",
              "75%              9.400000e+01  1.300000e+01            4.700000e+04   \n",
              "max              1.180000e+02  8.000000e+01            8.200000e+05   \n",
              "\n",
              "         apt_counts         top10  \n",
              "count  1.216553e+06  1.216553e+06  \n",
              "mean   1.358148e+03  1.234225e-01  \n",
              "std    2.521461e+03  3.289217e-01  \n",
              "min    1.000000e+00  0.000000e+00  \n",
              "25%    2.130000e+02  0.000000e+00  \n",
              "50%    5.950000e+02  0.000000e+00  \n",
              "75%    1.366000e+03  0.000000e+00  \n",
              "max    1.771600e+04  1.000000e+00  "
            ],
            "text/html": [
              "<div>\n",
              "<style scoped>\n",
              "    .dataframe tbody tr th:only-of-type {\n",
              "        vertical-align: middle;\n",
              "    }\n",
              "\n",
              "    .dataframe tbody tr th {\n",
              "        vertical-align: top;\n",
              "    }\n",
              "\n",
              "    .dataframe thead th {\n",
              "        text-align: right;\n",
              "    }\n",
              "</style>\n",
              "<table border=\"1\" class=\"dataframe\">\n",
              "  <thead>\n",
              "    <tr style=\"text-align: right;\">\n",
              "      <th></th>\n",
              "      <th>transaction_id</th>\n",
              "      <th>apartment_id</th>\n",
              "      <th>exclusive_use_area</th>\n",
              "      <th>year_of_completion</th>\n",
              "      <th>transaction_year_month</th>\n",
              "      <th>floor</th>\n",
              "      <th>transaction_real_price</th>\n",
              "      <th>apt_counts</th>\n",
              "      <th>top10</th>\n",
              "    </tr>\n",
              "  </thead>\n",
              "  <tbody>\n",
              "    <tr>\n",
              "      <th>count</th>\n",
              "      <td>1.216553e+06</td>\n",
              "      <td>1.216553e+06</td>\n",
              "      <td>1.216553e+06</td>\n",
              "      <td>1.216553e+06</td>\n",
              "      <td>1.216553e+06</td>\n",
              "      <td>1.216553e+06</td>\n",
              "      <td>1.216553e+06</td>\n",
              "      <td>1.216553e+06</td>\n",
              "      <td>1.216553e+06</td>\n",
              "    </tr>\n",
              "    <tr>\n",
              "      <th>mean</th>\n",
              "      <td>6.091530e+05</td>\n",
              "      <td>6.299685e+03</td>\n",
              "      <td>7.816549e+01</td>\n",
              "      <td>3.729657e+01</td>\n",
              "      <td>6.437834e+01</td>\n",
              "      <td>9.343291e+00</td>\n",
              "      <td>3.822769e+04</td>\n",
              "      <td>1.358148e+03</td>\n",
              "      <td>1.234225e-01</td>\n",
              "    </tr>\n",
              "    <tr>\n",
              "      <th>std</th>\n",
              "      <td>3.526198e+05</td>\n",
              "      <td>3.581169e+03</td>\n",
              "      <td>2.915113e+01</td>\n",
              "      <td>8.941347e+00</td>\n",
              "      <td>3.509363e+01</td>\n",
              "      <td>6.606500e+00</td>\n",
              "      <td>3.104898e+04</td>\n",
              "      <td>2.521461e+03</td>\n",
              "      <td>3.289217e-01</td>\n",
              "    </tr>\n",
              "    <tr>\n",
              "      <th>min</th>\n",
              "      <td>0.000000e+00</td>\n",
              "      <td>0.000000e+00</td>\n",
              "      <td>9.260000e+00</td>\n",
              "      <td>0.000000e+00</td>\n",
              "      <td>0.000000e+00</td>\n",
              "      <td>-4.000000e+00</td>\n",
              "      <td>1.000000e+02</td>\n",
              "      <td>1.000000e+00</td>\n",
              "      <td>0.000000e+00</td>\n",
              "    </tr>\n",
              "    <tr>\n",
              "      <th>25%</th>\n",
              "      <td>3.041380e+05</td>\n",
              "      <td>3.345000e+03</td>\n",
              "      <td>5.976000e+01</td>\n",
              "      <td>3.200000e+01</td>\n",
              "      <td>3.300000e+01</td>\n",
              "      <td>4.000000e+00</td>\n",
              "      <td>1.900000e+04</td>\n",
              "      <td>2.130000e+02</td>\n",
              "      <td>0.000000e+00</td>\n",
              "    </tr>\n",
              "    <tr>\n",
              "      <th>50%</th>\n",
              "      <td>6.082760e+05</td>\n",
              "      <td>5.964000e+03</td>\n",
              "      <td>8.241000e+01</td>\n",
              "      <td>3.800000e+01</td>\n",
              "      <td>7.100000e+01</td>\n",
              "      <td>8.000000e+00</td>\n",
              "      <td>3.090000e+04</td>\n",
              "      <td>5.950000e+02</td>\n",
              "      <td>0.000000e+00</td>\n",
              "    </tr>\n",
              "    <tr>\n",
              "      <th>75%</th>\n",
              "      <td>9.124140e+05</td>\n",
              "      <td>9.436000e+03</td>\n",
              "      <td>8.497000e+01</td>\n",
              "      <td>4.400000e+01</td>\n",
              "      <td>9.400000e+01</td>\n",
              "      <td>1.300000e+01</td>\n",
              "      <td>4.700000e+04</td>\n",
              "      <td>1.366000e+03</td>\n",
              "      <td>0.000000e+00</td>\n",
              "    </tr>\n",
              "    <tr>\n",
              "      <th>max</th>\n",
              "      <td>1.234827e+06</td>\n",
              "      <td>1.265800e+04</td>\n",
              "      <td>4.243200e+02</td>\n",
              "      <td>5.600000e+01</td>\n",
              "      <td>1.180000e+02</td>\n",
              "      <td>8.000000e+01</td>\n",
              "      <td>8.200000e+05</td>\n",
              "      <td>1.771600e+04</td>\n",
              "      <td>1.000000e+00</td>\n",
              "    </tr>\n",
              "  </tbody>\n",
              "</table>\n",
              "</div>"
            ]
          },
          "metadata": {},
          "execution_count": 26
        }
      ],
      "metadata": {}
    },
    {
      "cell_type": "code",
      "execution_count": 27,
      "source": [
        "test_df.describe()"
      ],
      "outputs": [
        {
          "output_type": "execute_result",
          "data": {
            "text/plain": [
              "       transaction_id  apartment_id  exclusive_use_area  year_of_completion  \\\n",
              "count    5.463000e+03   5463.000000         5463.000000         5463.000000   \n",
              "mean     1.167126e+06   6287.570932           79.495250           39.431082   \n",
              "std      4.075365e+04   3624.756304           32.935434            9.982040   \n",
              "min      1.092791e+06     12.000000           10.321500            0.000000   \n",
              "25%      1.134296e+06   3278.000000           59.760000           34.000000   \n",
              "50%      1.167937e+06   6091.000000           81.720000           41.000000   \n",
              "75%      1.202560e+06   9416.500000           84.970000           46.000000   \n",
              "max      1.234930e+06  12652.000000          273.860000           56.000000   \n",
              "\n",
              "       transaction_year_month        floor   apt_counts        top10  \n",
              "count             5463.000000  5463.000000  5463.000000  5463.000000  \n",
              "mean               117.228446     8.266886     4.573861     0.119714  \n",
              "std                  2.798195     6.082475     8.417214     0.324657  \n",
              "min                108.000000    -1.000000     1.000000     0.000000  \n",
              "25%                116.000000     4.000000     1.000000     0.000000  \n",
              "50%                119.000000     7.000000     2.000000     0.000000  \n",
              "75%                119.000000    11.000000     4.000000     0.000000  \n",
              "max                119.000000    55.000000    61.000000     1.000000  "
            ],
            "text/html": [
              "<div>\n",
              "<style scoped>\n",
              "    .dataframe tbody tr th:only-of-type {\n",
              "        vertical-align: middle;\n",
              "    }\n",
              "\n",
              "    .dataframe tbody tr th {\n",
              "        vertical-align: top;\n",
              "    }\n",
              "\n",
              "    .dataframe thead th {\n",
              "        text-align: right;\n",
              "    }\n",
              "</style>\n",
              "<table border=\"1\" class=\"dataframe\">\n",
              "  <thead>\n",
              "    <tr style=\"text-align: right;\">\n",
              "      <th></th>\n",
              "      <th>transaction_id</th>\n",
              "      <th>apartment_id</th>\n",
              "      <th>exclusive_use_area</th>\n",
              "      <th>year_of_completion</th>\n",
              "      <th>transaction_year_month</th>\n",
              "      <th>floor</th>\n",
              "      <th>apt_counts</th>\n",
              "      <th>top10</th>\n",
              "    </tr>\n",
              "  </thead>\n",
              "  <tbody>\n",
              "    <tr>\n",
              "      <th>count</th>\n",
              "      <td>5.463000e+03</td>\n",
              "      <td>5463.000000</td>\n",
              "      <td>5463.000000</td>\n",
              "      <td>5463.000000</td>\n",
              "      <td>5463.000000</td>\n",
              "      <td>5463.000000</td>\n",
              "      <td>5463.000000</td>\n",
              "      <td>5463.000000</td>\n",
              "    </tr>\n",
              "    <tr>\n",
              "      <th>mean</th>\n",
              "      <td>1.167126e+06</td>\n",
              "      <td>6287.570932</td>\n",
              "      <td>79.495250</td>\n",
              "      <td>39.431082</td>\n",
              "      <td>117.228446</td>\n",
              "      <td>8.266886</td>\n",
              "      <td>4.573861</td>\n",
              "      <td>0.119714</td>\n",
              "    </tr>\n",
              "    <tr>\n",
              "      <th>std</th>\n",
              "      <td>4.075365e+04</td>\n",
              "      <td>3624.756304</td>\n",
              "      <td>32.935434</td>\n",
              "      <td>9.982040</td>\n",
              "      <td>2.798195</td>\n",
              "      <td>6.082475</td>\n",
              "      <td>8.417214</td>\n",
              "      <td>0.324657</td>\n",
              "    </tr>\n",
              "    <tr>\n",
              "      <th>min</th>\n",
              "      <td>1.092791e+06</td>\n",
              "      <td>12.000000</td>\n",
              "      <td>10.321500</td>\n",
              "      <td>0.000000</td>\n",
              "      <td>108.000000</td>\n",
              "      <td>-1.000000</td>\n",
              "      <td>1.000000</td>\n",
              "      <td>0.000000</td>\n",
              "    </tr>\n",
              "    <tr>\n",
              "      <th>25%</th>\n",
              "      <td>1.134296e+06</td>\n",
              "      <td>3278.000000</td>\n",
              "      <td>59.760000</td>\n",
              "      <td>34.000000</td>\n",
              "      <td>116.000000</td>\n",
              "      <td>4.000000</td>\n",
              "      <td>1.000000</td>\n",
              "      <td>0.000000</td>\n",
              "    </tr>\n",
              "    <tr>\n",
              "      <th>50%</th>\n",
              "      <td>1.167937e+06</td>\n",
              "      <td>6091.000000</td>\n",
              "      <td>81.720000</td>\n",
              "      <td>41.000000</td>\n",
              "      <td>119.000000</td>\n",
              "      <td>7.000000</td>\n",
              "      <td>2.000000</td>\n",
              "      <td>0.000000</td>\n",
              "    </tr>\n",
              "    <tr>\n",
              "      <th>75%</th>\n",
              "      <td>1.202560e+06</td>\n",
              "      <td>9416.500000</td>\n",
              "      <td>84.970000</td>\n",
              "      <td>46.000000</td>\n",
              "      <td>119.000000</td>\n",
              "      <td>11.000000</td>\n",
              "      <td>4.000000</td>\n",
              "      <td>0.000000</td>\n",
              "    </tr>\n",
              "    <tr>\n",
              "      <th>max</th>\n",
              "      <td>1.234930e+06</td>\n",
              "      <td>12652.000000</td>\n",
              "      <td>273.860000</td>\n",
              "      <td>56.000000</td>\n",
              "      <td>119.000000</td>\n",
              "      <td>55.000000</td>\n",
              "      <td>61.000000</td>\n",
              "      <td>1.000000</td>\n",
              "    </tr>\n",
              "  </tbody>\n",
              "</table>\n",
              "</div>"
            ]
          },
          "metadata": {},
          "execution_count": 27
        }
      ],
      "metadata": {}
    },
    {
      "cell_type": "markdown",
      "source": [
        "### dong\n",
        "- 이번에는 주소의 동입니다.\n",
        "- 먼저 서울과 부산에서 같은 이름을 가진 동이 있는지 확인해보겠습니다."
      ],
      "metadata": {
        "id": "A2MobnpAFtge"
      }
    },
    {
      "cell_type": "code",
      "execution_count": 36,
      "source": [
        "train_df = train_df.drop('dong', axis=1)\n",
        "test_df = test_df.drop('dong', axis=1)"
      ],
      "outputs": [],
      "metadata": {}
    },
    {
      "cell_type": "markdown",
      "source": [
        "### Floor"
      ],
      "metadata": {
        "id": "Clo1cRwm9Q96"
      }
    },
    {
      "cell_type": "code",
      "execution_count": 33,
      "source": [
        "train_df.describe()"
      ],
      "outputs": [
        {
          "output_type": "execute_result",
          "data": {
            "text/plain": [
              "       transaction_id  apartment_id  exclusive_use_area  year_of_completion  \\\n",
              "count    1.216553e+06  1.216553e+06        1.216553e+06        1.216553e+06   \n",
              "mean     6.091530e+05  6.299685e+03        7.816549e+01        3.729657e+01   \n",
              "std      3.526198e+05  3.581169e+03        2.915113e+01        8.941347e+00   \n",
              "min      0.000000e+00  0.000000e+00        9.260000e+00        0.000000e+00   \n",
              "25%      3.041380e+05  3.345000e+03        5.976000e+01        3.200000e+01   \n",
              "50%      6.082760e+05  5.964000e+03        8.241000e+01        3.800000e+01   \n",
              "75%      9.124140e+05  9.436000e+03        8.497000e+01        4.400000e+01   \n",
              "max      1.234827e+06  1.265800e+04        4.243200e+02        5.600000e+01   \n",
              "\n",
              "       transaction_year_month         floor  transaction_real_price  \\\n",
              "count            1.216553e+06  1.216553e+06            1.216553e+06   \n",
              "mean             6.437834e+01  9.343291e+00            3.822769e+04   \n",
              "std              3.509363e+01  6.606500e+00            3.104898e+04   \n",
              "min              0.000000e+00 -4.000000e+00            1.000000e+02   \n",
              "25%              3.300000e+01  4.000000e+00            1.900000e+04   \n",
              "50%              7.100000e+01  8.000000e+00            3.090000e+04   \n",
              "75%              9.400000e+01  1.300000e+01            4.700000e+04   \n",
              "max              1.180000e+02  8.000000e+01            8.200000e+05   \n",
              "\n",
              "         apt_counts         top10  \n",
              "count  1.216553e+06  1.216553e+06  \n",
              "mean   1.358148e+03  1.234225e-01  \n",
              "std    2.521461e+03  3.289217e-01  \n",
              "min    1.000000e+00  0.000000e+00  \n",
              "25%    2.130000e+02  0.000000e+00  \n",
              "50%    5.950000e+02  0.000000e+00  \n",
              "75%    1.366000e+03  0.000000e+00  \n",
              "max    1.771600e+04  1.000000e+00  "
            ],
            "text/html": [
              "<div>\n",
              "<style scoped>\n",
              "    .dataframe tbody tr th:only-of-type {\n",
              "        vertical-align: middle;\n",
              "    }\n",
              "\n",
              "    .dataframe tbody tr th {\n",
              "        vertical-align: top;\n",
              "    }\n",
              "\n",
              "    .dataframe thead th {\n",
              "        text-align: right;\n",
              "    }\n",
              "</style>\n",
              "<table border=\"1\" class=\"dataframe\">\n",
              "  <thead>\n",
              "    <tr style=\"text-align: right;\">\n",
              "      <th></th>\n",
              "      <th>transaction_id</th>\n",
              "      <th>apartment_id</th>\n",
              "      <th>exclusive_use_area</th>\n",
              "      <th>year_of_completion</th>\n",
              "      <th>transaction_year_month</th>\n",
              "      <th>floor</th>\n",
              "      <th>transaction_real_price</th>\n",
              "      <th>apt_counts</th>\n",
              "      <th>top10</th>\n",
              "    </tr>\n",
              "  </thead>\n",
              "  <tbody>\n",
              "    <tr>\n",
              "      <th>count</th>\n",
              "      <td>1.216553e+06</td>\n",
              "      <td>1.216553e+06</td>\n",
              "      <td>1.216553e+06</td>\n",
              "      <td>1.216553e+06</td>\n",
              "      <td>1.216553e+06</td>\n",
              "      <td>1.216553e+06</td>\n",
              "      <td>1.216553e+06</td>\n",
              "      <td>1.216553e+06</td>\n",
              "      <td>1.216553e+06</td>\n",
              "    </tr>\n",
              "    <tr>\n",
              "      <th>mean</th>\n",
              "      <td>6.091530e+05</td>\n",
              "      <td>6.299685e+03</td>\n",
              "      <td>7.816549e+01</td>\n",
              "      <td>3.729657e+01</td>\n",
              "      <td>6.437834e+01</td>\n",
              "      <td>9.343291e+00</td>\n",
              "      <td>3.822769e+04</td>\n",
              "      <td>1.358148e+03</td>\n",
              "      <td>1.234225e-01</td>\n",
              "    </tr>\n",
              "    <tr>\n",
              "      <th>std</th>\n",
              "      <td>3.526198e+05</td>\n",
              "      <td>3.581169e+03</td>\n",
              "      <td>2.915113e+01</td>\n",
              "      <td>8.941347e+00</td>\n",
              "      <td>3.509363e+01</td>\n",
              "      <td>6.606500e+00</td>\n",
              "      <td>3.104898e+04</td>\n",
              "      <td>2.521461e+03</td>\n",
              "      <td>3.289217e-01</td>\n",
              "    </tr>\n",
              "    <tr>\n",
              "      <th>min</th>\n",
              "      <td>0.000000e+00</td>\n",
              "      <td>0.000000e+00</td>\n",
              "      <td>9.260000e+00</td>\n",
              "      <td>0.000000e+00</td>\n",
              "      <td>0.000000e+00</td>\n",
              "      <td>-4.000000e+00</td>\n",
              "      <td>1.000000e+02</td>\n",
              "      <td>1.000000e+00</td>\n",
              "      <td>0.000000e+00</td>\n",
              "    </tr>\n",
              "    <tr>\n",
              "      <th>25%</th>\n",
              "      <td>3.041380e+05</td>\n",
              "      <td>3.345000e+03</td>\n",
              "      <td>5.976000e+01</td>\n",
              "      <td>3.200000e+01</td>\n",
              "      <td>3.300000e+01</td>\n",
              "      <td>4.000000e+00</td>\n",
              "      <td>1.900000e+04</td>\n",
              "      <td>2.130000e+02</td>\n",
              "      <td>0.000000e+00</td>\n",
              "    </tr>\n",
              "    <tr>\n",
              "      <th>50%</th>\n",
              "      <td>6.082760e+05</td>\n",
              "      <td>5.964000e+03</td>\n",
              "      <td>8.241000e+01</td>\n",
              "      <td>3.800000e+01</td>\n",
              "      <td>7.100000e+01</td>\n",
              "      <td>8.000000e+00</td>\n",
              "      <td>3.090000e+04</td>\n",
              "      <td>5.950000e+02</td>\n",
              "      <td>0.000000e+00</td>\n",
              "    </tr>\n",
              "    <tr>\n",
              "      <th>75%</th>\n",
              "      <td>9.124140e+05</td>\n",
              "      <td>9.436000e+03</td>\n",
              "      <td>8.497000e+01</td>\n",
              "      <td>4.400000e+01</td>\n",
              "      <td>9.400000e+01</td>\n",
              "      <td>1.300000e+01</td>\n",
              "      <td>4.700000e+04</td>\n",
              "      <td>1.366000e+03</td>\n",
              "      <td>0.000000e+00</td>\n",
              "    </tr>\n",
              "    <tr>\n",
              "      <th>max</th>\n",
              "      <td>1.234827e+06</td>\n",
              "      <td>1.265800e+04</td>\n",
              "      <td>4.243200e+02</td>\n",
              "      <td>5.600000e+01</td>\n",
              "      <td>1.180000e+02</td>\n",
              "      <td>8.000000e+01</td>\n",
              "      <td>8.200000e+05</td>\n",
              "      <td>1.771600e+04</td>\n",
              "      <td>1.000000e+00</td>\n",
              "    </tr>\n",
              "  </tbody>\n",
              "</table>\n",
              "</div>"
            ]
          },
          "metadata": {},
          "execution_count": 33
        }
      ],
      "metadata": {
        "colab": {
          "base_uri": "https://localhost:8080/",
          "height": 289
        },
        "id": "E52JpjJGEXsQ",
        "outputId": "d09ccb38-9ef0-4e58-e9f1-1b48c39f5ce6"
      }
    },
    {
      "cell_type": "markdown",
      "source": [
        "- 최소층이 -4층임을 확인할 수 있습니다.\n",
        "- 4를 더해서 라벨인코딩을 진행해줍니다.\n",
        "- test는 최소층이 -1층이었으니 맞게 변환합니다."
      ],
      "metadata": {}
    },
    {
      "cell_type": "code",
      "execution_count": 37,
      "source": [
        "# 최소값이 -4이므로 4를 더해서 음수를 없애고 순서형범주처리\n",
        "print('변환전\\n', train_df['floor'].values[:5])\n",
        "train_df['floor'] = train_df['floor'].map(lambda x: x+4)\n",
        "test_df['floor'] = test_df['floor'].map(lambda x: x+1)\n",
        "print('변환후\\n', train_df['floor'].values[:5])"
      ],
      "outputs": [
        {
          "output_type": "stream",
          "name": "stdout",
          "text": [
            "변환전\n",
            " [ 2  6  6 15  3]\n",
            "변환후\n",
            " [ 6 10 10 19  7]\n"
          ]
        }
      ],
      "metadata": {
        "colab": {
          "base_uri": "https://localhost:8080/"
        },
        "id": "nK9SRgPE9SXB",
        "outputId": "b5dd85c9-727d-45b3-bbe2-517823be3018"
      }
    },
    {
      "cell_type": "markdown",
      "source": [
        "### Price\n",
        "- 이제 타겟데이터를 살펴보겠습니다."
      ],
      "metadata": {
        "id": "VF5P_T3_yuR9"
      }
    },
    {
      "cell_type": "code",
      "execution_count": 38,
      "source": [
        "# train price\n",
        "plt.figure()\n",
        "sns.displot(train_df['transaction_real_price'], bins=30)\n",
        "plt.xlabel('Price(10000 won)')\n",
        "plt.title('Distribution of Price')\n",
        "plt.show()"
      ],
      "outputs": [
        {
          "output_type": "display_data",
          "data": {
            "text/plain": [
              "<Figure size 432x288 with 0 Axes>"
            ]
          },
          "metadata": {}
        },
        {
          "output_type": "display_data",
          "data": {
            "text/plain": [
              "<Figure size 360x360 with 1 Axes>"
            ],
            "image/png": "[encoded data removed]"
          },
          "metadata": {}
        }
      ],
      "metadata": {
        "colab": {
          "base_uri": "https://localhost:8080/",
          "height": 293
        },
        "id": "LBVn1yB1yuR9",
        "scrolled": true,
        "outputId": "b74d57ee-f27b-4005-b2d3-96ad4b93897d"
      }
    },
    {
      "cell_type": "markdown",
      "source": [
        "- 가격의 분포가 매우 왼쪽으로 치우친 것을 확인할 수 있습니다.\n",
        "- 타겟 변수의 이상치가 회귀모형을 사용한 예측에 큰 영향을 줄 수 있으니,\n",
        "    - 로그 변환으로 정규화한뒤, 나중에 다시 역변환하겠습니다!"
      ],
      "metadata": {
        "id": "ZLsEvIOVyuR-"
      }
    },
    {
      "cell_type": "code",
      "execution_count": 39,
      "source": [
        "# 가격 로그 변환 후 원래 가격 따로 저장\n",
        "train_df['log_price'] = np.log1p(train_df['transaction_real_price'])\n",
        "real_price = train_df['transaction_real_price'] # 원래 가격\n",
        "train_df.drop('transaction_real_price', axis=1, inplace=True)\n",
        "train_df.head(1)"
      ],
      "outputs": [
        {
          "output_type": "execute_result",
          "data": {
            "text/plain": [
              "   transaction_id  apartment_id   city apt  exclusive_use_area  \\\n",
              "0               0          7622  서울특별시  23               84.82   \n",
              "\n",
              "   year_of_completion  transaction_year_month  floor  apt_counts  top10  \\\n",
              "0                  41                       0      6          13      0   \n",
              "\n",
              "   transformed  log_price  \n",
              "0        False  10.532123  "
            ],
            "text/html": [
              "<div>\n",
              "<style scoped>\n",
              "    .dataframe tbody tr th:only-of-type {\n",
              "        vertical-align: middle;\n",
              "    }\n",
              "\n",
              "    .dataframe tbody tr th {\n",
              "        vertical-align: top;\n",
              "    }\n",
              "\n",
              "    .dataframe thead th {\n",
              "        text-align: right;\n",
              "    }\n",
              "</style>\n",
              "<table border=\"1\" class=\"dataframe\">\n",
              "  <thead>\n",
              "    <tr style=\"text-align: right;\">\n",
              "      <th></th>\n",
              "      <th>transaction_id</th>\n",
              "      <th>apartment_id</th>\n",
              "      <th>city</th>\n",
              "      <th>apt</th>\n",
              "      <th>exclusive_use_area</th>\n",
              "      <th>year_of_completion</th>\n",
              "      <th>transaction_year_month</th>\n",
              "      <th>floor</th>\n",
              "      <th>apt_counts</th>\n",
              "      <th>top10</th>\n",
              "      <th>transformed</th>\n",
              "      <th>log_price</th>\n",
              "    </tr>\n",
              "  </thead>\n",
              "  <tbody>\n",
              "    <tr>\n",
              "      <th>0</th>\n",
              "      <td>0</td>\n",
              "      <td>7622</td>\n",
              "      <td>서울특별시</td>\n",
              "      <td>23</td>\n",
              "      <td>84.82</td>\n",
              "      <td>41</td>\n",
              "      <td>0</td>\n",
              "      <td>6</td>\n",
              "      <td>13</td>\n",
              "      <td>0</td>\n",
              "      <td>False</td>\n",
              "      <td>10.532123</td>\n",
              "    </tr>\n",
              "  </tbody>\n",
              "</table>\n",
              "</div>"
            ]
          },
          "metadata": {},
          "execution_count": 39
        }
      ],
      "metadata": {
        "colab": {
          "base_uri": "https://localhost:8080/",
          "height": 78
        },
        "id": "m6K6o48uJ-K8",
        "outputId": "3458fa07-891c-4fbb-966b-7018d9757965"
      }
    },
    {
      "cell_type": "markdown",
      "source": [
        "- 잘 변환이 됐는지 그래프를 그려보겠습니다."
      ],
      "metadata": {}
    },
    {
      "cell_type": "code",
      "execution_count": 40,
      "source": [
        "f, (ax1, ax2) = plt.subplots(1,2,figsize=(12,6))\n",
        "\n",
        "ax1.hist(real_price, bins=30)\n",
        "ax1.set_title('Price Distribution')\n",
        "ax1.set_xlabel('Price')\n",
        "\n",
        "ax2.hist(train_df['log_price'], bins=30)\n",
        "ax2.set_title('Log Price Distribution')\n",
        "ax2.set_xlabel('Log Price')\n",
        "\n",
        "plt.show()"
      ],
      "outputs": [
        {
          "output_type": "display_data",
          "data": {
            "text/plain": [
              "<Figure size 864x432 with 2 Axes>"
            ],
            "image/png": "[encoded data removed]"
          },
          "metadata": {}
        }
      ],
      "metadata": {
        "colab": {
          "base_uri": "https://localhost:8080/",
          "height": 423
        },
        "id": "fZzNvGO7xHRX",
        "outputId": "64de9d88-9350-4265-f17f-51359260bd09"
      }
    },
    {
      "cell_type": "markdown",
      "source": [
        "- 가격이 정규분포처럼 잘 근사됐네요 :)"
      ],
      "metadata": {}
    },
    {
      "cell_type": "markdown",
      "source": [
        "### Area\n",
        "- 면적도 가격과 동일하게!"
      ],
      "metadata": {
        "id": "AVTeTEfRr15R"
      }
    },
    {
      "cell_type": "code",
      "execution_count": 41,
      "source": [
        "# train area\n",
        "plt.figure()\n",
        "sns.displot(train_df['exclusive_use_area'], bins=30)\n",
        "plt.xlabel('Area(Square meter)')\n",
        "plt.title('Distribution of Area')\n",
        "plt.show()"
      ],
      "outputs": [
        {
          "output_type": "display_data",
          "data": {
            "text/plain": [
              "<Figure size 432x288 with 0 Axes>"
            ]
          },
          "metadata": {}
        },
        {
          "output_type": "display_data",
          "data": {
            "text/plain": [
              "<Figure size 360x360 with 1 Axes>"
            ],
            "image/png": "[encoded data removed]"
          },
          "metadata": {}
        }
      ],
      "metadata": {
        "colab": {
          "base_uri": "https://localhost:8080/",
          "height": 295
        },
        "id": "EKSc4UJ6yuR-",
        "scrolled": false,
        "outputId": "7342cd98-a018-4468-9a09-8f238f27bb84"
      }
    },
    {
      "cell_type": "code",
      "execution_count": 42,
      "source": [
        "# 면적 로그 변환 후 원래 면적 따로 저장\n",
        "train_df['log_area'] = np.log1p(train_df['exclusive_use_area'])\n",
        "test_df['log_area'] = np.log1p(test_df['exclusive_use_area'])\n",
        "area = train_df['exclusive_use_area'] # 원래 가격\n",
        "train_df.drop('exclusive_use_area', axis=1, inplace=True)\n",
        "test_df.drop('exclusive_use_area', axis=1, inplace=True)\n",
        "train_df.head(1)"
      ],
      "outputs": [
        {
          "output_type": "execute_result",
          "data": {
            "text/plain": [
              "   transaction_id  apartment_id   city apt  year_of_completion  \\\n",
              "0               0          7622  서울특별시  23                  41   \n",
              "\n",
              "   transaction_year_month  floor  apt_counts  top10  transformed  log_price  \\\n",
              "0                       0      6          13      0        False  10.532123   \n",
              "\n",
              "   log_area  \n",
              "0  4.452252  "
            ],
            "text/html": [
              "<div>\n",
              "<style scoped>\n",
              "    .dataframe tbody tr th:only-of-type {\n",
              "        vertical-align: middle;\n",
              "    }\n",
              "\n",
              "    .dataframe tbody tr th {\n",
              "        vertical-align: top;\n",
              "    }\n",
              "\n",
              "    .dataframe thead th {\n",
              "        text-align: right;\n",
              "    }\n",
              "</style>\n",
              "<table border=\"1\" class=\"dataframe\">\n",
              "  <thead>\n",
              "    <tr style=\"text-align: right;\">\n",
              "      <th></th>\n",
              "      <th>transaction_id</th>\n",
              "      <th>apartment_id</th>\n",
              "      <th>city</th>\n",
              "      <th>apt</th>\n",
              "      <th>year_of_completion</th>\n",
              "      <th>transaction_year_month</th>\n",
              "      <th>floor</th>\n",
              "      <th>apt_counts</th>\n",
              "      <th>top10</th>\n",
              "      <th>transformed</th>\n",
              "      <th>log_price</th>\n",
              "      <th>log_area</th>\n",
              "    </tr>\n",
              "  </thead>\n",
              "  <tbody>\n",
              "    <tr>\n",
              "      <th>0</th>\n",
              "      <td>0</td>\n",
              "      <td>7622</td>\n",
              "      <td>서울특별시</td>\n",
              "      <td>23</td>\n",
              "      <td>41</td>\n",
              "      <td>0</td>\n",
              "      <td>6</td>\n",
              "      <td>13</td>\n",
              "      <td>0</td>\n",
              "      <td>False</td>\n",
              "      <td>10.532123</td>\n",
              "      <td>4.452252</td>\n",
              "    </tr>\n",
              "  </tbody>\n",
              "</table>\n",
              "</div>"
            ]
          },
          "metadata": {},
          "execution_count": 42
        }
      ],
      "metadata": {
        "colab": {
          "base_uri": "https://localhost:8080/",
          "height": 78
        },
        "id": "Mww8qNfzrmeU",
        "outputId": "cbfe2e36-0168-41be-d5c5-846eb3cf59e3"
      }
    },
    {
      "cell_type": "code",
      "execution_count": 43,
      "source": [
        "f, (ax1, ax2) = plt.subplots(1,2,figsize=(12,6))\n",
        "\n",
        "ax1.hist(area, bins=30)\n",
        "ax1.set_title('Distribution of Area')\n",
        "ax1.set_xlabel('Area')\n",
        "\n",
        "ax2.hist(train_df['log_area'], bins=30)\n",
        "ax2.set_title('Distribution of Log Area')\n",
        "ax2.set_xlabel('Area')\n",
        "\n",
        "plt.show()"
      ],
      "outputs": [
        {
          "output_type": "display_data",
          "data": {
            "text/plain": [
              "<Figure size 864x432 with 2 Axes>"
            ],
            "image/png": "[encoded data removed]"
          },
          "metadata": {}
        }
      ],
      "metadata": {
        "colab": {
          "base_uri": "https://localhost:8080/",
          "height": 296
        },
        "id": "XWFge8LqCf_8",
        "outputId": "7e6948d7-c682-4345-cb3a-f6bfecbe9530"
      }
    },
    {
      "cell_type": "markdown",
      "source": [
        "- 가격만큼 만족스럽진 않지만.. 그냥 쓰겠습니다 ㅎㅎ"
      ],
      "metadata": {}
    },
    {
      "cell_type": "markdown",
      "source": [
        "### Encoding\n",
        "- 인코딩은 이제 `city`만 진행하면 됩니다.\n",
        "- `city`는 서울특별시면 1, 부산광역시면 0으로 변환하겠습니다.\n",
        "- 학습에 사용하지 않을 피쳐들도 제거하겠습니다."
      ],
      "metadata": {
        "id": "RlvQNiQdEzQs"
      }
    },
    {
      "cell_type": "code",
      "execution_count": 44,
      "source": [
        "drop_col = ['transaction_id', 'apartment_id', 'apt_counts', 'transformed']\n",
        "\n",
        "train_df['city'] = train_df['city'].map(lambda x: 1 if x == '서울특별시' else 0)\n",
        "test_df['city'] = test_df['city'].map(lambda x: 1 if x == '서울특별시' else 0)"
      ],
      "outputs": [],
      "metadata": {
        "id": "jANAQVK291VZ"
      }
    },
    {
      "cell_type": "code",
      "execution_count": 45,
      "source": [
        "train_df.drop(drop_col, axis=1, inplace=True)\n",
        "test_df.drop(drop_col, axis=1, inplace=True)\n",
        "train_df.head(1)"
      ],
      "outputs": [
        {
          "output_type": "execute_result",
          "data": {
            "text/plain": [
              "   city apt  year_of_completion  transaction_year_month  floor  top10  \\\n",
              "0     1  23                  41                       0      6      0   \n",
              "\n",
              "   log_price  log_area  \n",
              "0  10.532123  4.452252  "
            ],
            "text/html": [
              "<div>\n",
              "<style scoped>\n",
              "    .dataframe tbody tr th:only-of-type {\n",
              "        vertical-align: middle;\n",
              "    }\n",
              "\n",
              "    .dataframe tbody tr th {\n",
              "        vertical-align: top;\n",
              "    }\n",
              "\n",
              "    .dataframe thead th {\n",
              "        text-align: right;\n",
              "    }\n",
              "</style>\n",
              "<table border=\"1\" class=\"dataframe\">\n",
              "  <thead>\n",
              "    <tr style=\"text-align: right;\">\n",
              "      <th></th>\n",
              "      <th>city</th>\n",
              "      <th>apt</th>\n",
              "      <th>year_of_completion</th>\n",
              "      <th>transaction_year_month</th>\n",
              "      <th>floor</th>\n",
              "      <th>top10</th>\n",
              "      <th>log_price</th>\n",
              "      <th>log_area</th>\n",
              "    </tr>\n",
              "  </thead>\n",
              "  <tbody>\n",
              "    <tr>\n",
              "      <th>0</th>\n",
              "      <td>1</td>\n",
              "      <td>23</td>\n",
              "      <td>41</td>\n",
              "      <td>0</td>\n",
              "      <td>6</td>\n",
              "      <td>0</td>\n",
              "      <td>10.532123</td>\n",
              "      <td>4.452252</td>\n",
              "    </tr>\n",
              "  </tbody>\n",
              "</table>\n",
              "</div>"
            ]
          },
          "metadata": {},
          "execution_count": 45
        }
      ],
      "metadata": {
        "colab": {
          "base_uri": "https://localhost:8080/",
          "height": 199
        },
        "id": "iM8tGHMMtPgt",
        "outputId": "fb0dee39-a1e7-46e0-c0e6-a60ca19a7d3c"
      }
    },
    {
      "cell_type": "code",
      "execution_count": 46,
      "source": [
        "test_df.head(1)"
      ],
      "outputs": [
        {
          "output_type": "execute_result",
          "data": {
            "text/plain": [
              "   city apt  year_of_completion  transaction_year_month  floor  top10  \\\n",
              "0     1  23                  41                     118      3      0   \n",
              "\n",
              "   log_area  \n",
              "0  3.598681  "
            ],
            "text/html": [
              "<div>\n",
              "<style scoped>\n",
              "    .dataframe tbody tr th:only-of-type {\n",
              "        vertical-align: middle;\n",
              "    }\n",
              "\n",
              "    .dataframe tbody tr th {\n",
              "        vertical-align: top;\n",
              "    }\n",
              "\n",
              "    .dataframe thead th {\n",
              "        text-align: right;\n",
              "    }\n",
              "</style>\n",
              "<table border=\"1\" class=\"dataframe\">\n",
              "  <thead>\n",
              "    <tr style=\"text-align: right;\">\n",
              "      <th></th>\n",
              "      <th>city</th>\n",
              "      <th>apt</th>\n",
              "      <th>year_of_completion</th>\n",
              "      <th>transaction_year_month</th>\n",
              "      <th>floor</th>\n",
              "      <th>top10</th>\n",
              "      <th>log_area</th>\n",
              "    </tr>\n",
              "  </thead>\n",
              "  <tbody>\n",
              "    <tr>\n",
              "      <th>0</th>\n",
              "      <td>1</td>\n",
              "      <td>23</td>\n",
              "      <td>41</td>\n",
              "      <td>118</td>\n",
              "      <td>3</td>\n",
              "      <td>0</td>\n",
              "      <td>3.598681</td>\n",
              "    </tr>\n",
              "  </tbody>\n",
              "</table>\n",
              "</div>"
            ]
          },
          "metadata": {},
          "execution_count": 46
        }
      ],
      "metadata": {}
    },
    {
      "cell_type": "code",
      "execution_count": 46,
      "source": [
        "train_df.info()"
      ],
      "outputs": [
        {
          "output_type": "stream",
          "name": "stdout",
          "text": [
            "<class 'pandas.core.frame.DataFrame'>\n",
            "Int64Index: 1216553 entries, 0 to 1216552\n",
            "Data columns (total 9 columns):\n",
            " #   Column                  Non-Null Count    Dtype  \n",
            "---  ------                  --------------    -----  \n",
            " 0   city                    1216553 non-null  int64  \n",
            " 1   dong                    1216553 non-null  object \n",
            " 2   apt                     1216553 non-null  object \n",
            " 3   year_of_completion      1216553 non-null  int64  \n",
            " 4   transaction_year_month  1216553 non-null  int64  \n",
            " 5   floor                   1216553 non-null  int64  \n",
            " 6   top10                   1216553 non-null  int64  \n",
            " 7   log_price               1216553 non-null  float64\n",
            " 8   log_area                1216553 non-null  float64\n",
            "dtypes: float64(2), int64(5), object(2)\n",
            "memory usage: 125.1+ MB\n"
          ]
        }
      ],
      "metadata": {}
    },
    {
      "cell_type": "markdown",
      "source": [
        "- `dong`과 `apt`는 정수여야 하는데 object 자료형입니다.\n",
        "- 후에 XGBoost와 LightGBM에서 오류가 발생하기 때문에, int 자료형으로 변환하겠습니다."
      ],
      "metadata": {}
    },
    {
      "cell_type": "code",
      "execution_count": 59,
      "source": [
        "# train_df['dong'] = train_df['dong'].astype('int64')\n",
        "train_df['apt'] = train_df['apt'].astype('int64')\n",
        "# test_df['dong'] = test_df['dong'].astype('int64')\n",
        "test_df['apt'] = test_df['apt'].astype('int64')\n",
        "train_df.info()"
      ],
      "outputs": [
        {
          "output_type": "stream",
          "name": "stdout",
          "text": [
            "<class 'pandas.core.frame.DataFrame'>\n",
            "Int64Index: 1216553 entries, 0 to 1216552\n",
            "Data columns (total 8 columns):\n",
            " #   Column                  Non-Null Count    Dtype  \n",
            "---  ------                  --------------    -----  \n",
            " 0   city                    1216553 non-null  int64  \n",
            " 1   apt                     1216553 non-null  int64  \n",
            " 2   year_of_completion      1216553 non-null  int64  \n",
            " 3   transaction_year_month  1216553 non-null  int64  \n",
            " 4   floor                   1216553 non-null  int64  \n",
            " 5   top10                   1216553 non-null  int64  \n",
            " 6   log_price               1216553 non-null  float64\n",
            " 7   log_area                1216553 non-null  float64\n",
            "dtypes: float64(2), int64(6)\n",
            "memory usage: 115.8 MB\n"
          ]
        }
      ],
      "metadata": {}
    },
    {
      "cell_type": "code",
      "execution_count": 60,
      "source": [
        "print(train_df.shape, test_df.shape)"
      ],
      "outputs": [
        {
          "output_type": "stream",
          "name": "stdout",
          "text": [
            "(1216553, 8) (5463, 7)\n"
          ]
        }
      ],
      "metadata": {
        "colab": {
          "base_uri": "https://localhost:8080/"
        },
        "id": "3X4UMl3AZQO0",
        "outputId": "82d5c3a6-8df3-42ae-8e9a-18167794a97e"
      }
    },
    {
      "cell_type": "code",
      "execution_count": 61,
      "source": [
        "train_X, train_y = train_df.drop(['log_price'], axis=1), train_df['log_price']\n",
        "print(train_X.shape, train_y.shape)"
      ],
      "outputs": [
        {
          "output_type": "stream",
          "name": "stdout",
          "text": [
            "(1216553, 7) (1216553,)\n"
          ]
        }
      ],
      "metadata": {}
    },
    {
      "cell_type": "code",
      "execution_count": 62,
      "source": [
        "def RMSE(y, y_pred):\n",
        "    rmse = mean_squared_error(y, y_pred) ** 0.5\n",
        "    return rmse\n",
        "\n",
        "def rmse_cv(model):\n",
        "    # cv별로 학습하는 함수\n",
        "    tscv = TimeSeriesSplit(n_splits=10)\n",
        "    rmse_list = []\n",
        "    model_name = model.__class__.__name__\n",
        "    for _, (train_index, test_index) in tqdm(enumerate(tscv.split(train_X), start=1), desc=f'{model_name} Cross Validations...', total=10):\n",
        "        X_train, X_test = train_X.iloc[train_index], train_X.iloc[test_index]\n",
        "        y_train, y_test = train_y.iloc[train_index], train_y.iloc[test_index]\n",
        "        clf = model.fit(X_train, y_train)\n",
        "        pred = clf.predict(X_test)\n",
        "        rmse = RMSE(y_test, pred) \n",
        "        rmse_list.append(rmse)\n",
        "    return model_name, rmse_list\n",
        "\n",
        "def print_rmse_score(model):\n",
        "    # cv별 프린팅, 평균 저장\n",
        "    model_name, score = rmse_cv(model)\n",
        "    for i, r in enumerate(score, start=1):\n",
        "        print(f'{i} FOLDS: {model_name} RMSLE: {r:.4f}')\n",
        "    print(f'\\n{model_name} mean RMSLE: {np.mean(score):.4f}')\n",
        "    print('='*40)\n",
        "    return model_name, np.mean(score)"
      ],
      "outputs": [],
      "metadata": {
        "id": "b1QCDF4M0A_K"
      }
    },
    {
      "cell_type": "markdown",
      "source": [
        "- 간단하게 모델을 정의합니다."
      ],
      "metadata": {}
    },
    {
      "cell_type": "code",
      "execution_count": 63,
      "source": [
        "reg = LinearRegression(n_jobs=-1)\n",
        "ridge = Ridge(alpha=0.8, random_state=1)\n",
        "lasso = Lasso(alpha = 0.01, random_state=1)\n",
        "Enet = ElasticNet(alpha=0.03, l1_ratio=0.01, random_state=1)\n",
        "DTree = DecisionTreeRegressor(max_depth=6, min_samples_split=10, min_samples_leaf=15, random_state=1)\n",
        "rf = RandomForestRegressor(n_estimators=500, criterion='mse', max_depth=9, min_samples_split=50,\n",
        "                           min_samples_leaf=5, random_state=1, n_jobs=-1)\n",
        "model_xgb = xgb.XGBRegressor(n_estimators=500, max_depth=9, min_child_weight=5, gamma=0.1, n_jobs=-1)\n",
        "model_lgb = lgb.LGBMRegressor(n_estimators=500, max_depth=9, min_child_weight=5, n_jobs=-1)"
      ],
      "outputs": [],
      "metadata": {
        "id": "NFaDSJHXcJUm"
      }
    },
    {
      "cell_type": "markdown",
      "source": [
        "- 학습을 시키고 성능을 테스트합니다.\n",
        "- i9-10980XE CPU를 사용했을 때, 아래의 CV 시간은 약 800초 정도 소요됩니다."
      ],
      "metadata": {}
    },
    {
      "cell_type": "code",
      "execution_count": 64,
      "source": [
        "models = []\n",
        "scores = []\n",
        "for model in [reg, ridge, lasso, Enet, DTree, model_lgb]:\n",
        "    model_name, mean_score = print_rmse_score(model)\n",
        "    models.append(model_name)\n",
        "    scores.append(mean_score)"
      ],
      "outputs": [
        {
          "output_type": "stream",
          "name": "stderr",
          "text": [
            "LinearRegression Cross Validations...: 100%|██████████| 10/10 [00:01<00:00,  7.66it/s]\n"
          ]
        },
        {
          "output_type": "stream",
          "name": "stdout",
          "text": [
            "1 FOLDS: LinearRegression RMSLE: 0.2785\n",
            "2 FOLDS: LinearRegression RMSLE: 0.3196\n",
            "3 FOLDS: LinearRegression RMSLE: 0.2591\n",
            "4 FOLDS: LinearRegression RMSLE: 0.5875\n",
            "5 FOLDS: LinearRegression RMSLE: 0.6013\n",
            "6 FOLDS: LinearRegression RMSLE: 0.3844\n",
            "7 FOLDS: LinearRegression RMSLE: 0.3536\n",
            "8 FOLDS: LinearRegression RMSLE: 0.3596\n",
            "9 FOLDS: LinearRegression RMSLE: 0.3179\n",
            "10 FOLDS: LinearRegression RMSLE: 0.4013\n",
            "\n",
            "LinearRegression mean RMSLE: 0.3863\n",
            "========================================\n"
          ]
        },
        {
          "output_type": "stream",
          "name": "stderr",
          "text": [
            "Ridge Cross Validations...: 100%|██████████| 10/10 [00:00<00:00, 12.11it/s]\n"
          ]
        },
        {
          "output_type": "stream",
          "name": "stdout",
          "text": [
            "1 FOLDS: Ridge RMSLE: 0.2785\n",
            "2 FOLDS: Ridge RMSLE: 0.3196\n",
            "3 FOLDS: Ridge RMSLE: 0.2591\n",
            "4 FOLDS: Ridge RMSLE: 0.5875\n",
            "5 FOLDS: Ridge RMSLE: 0.6013\n",
            "6 FOLDS: Ridge RMSLE: 0.3844\n",
            "7 FOLDS: Ridge RMSLE: 0.3536\n",
            "8 FOLDS: Ridge RMSLE: 0.3596\n",
            "9 FOLDS: Ridge RMSLE: 0.3179\n",
            "10 FOLDS: Ridge RMSLE: 0.4013\n",
            "\n",
            "Ridge mean RMSLE: 0.3863\n",
            "========================================\n"
          ]
        },
        {
          "output_type": "stream",
          "name": "stderr",
          "text": [
            "Lasso Cross Validations...: 100%|██████████| 10/10 [00:01<00:00,  6.95it/s]\n"
          ]
        },
        {
          "output_type": "stream",
          "name": "stdout",
          "text": [
            "1 FOLDS: Lasso RMSLE: 0.2852\n",
            "2 FOLDS: Lasso RMSLE: 0.3190\n",
            "3 FOLDS: Lasso RMSLE: 0.2586\n",
            "4 FOLDS: Lasso RMSLE: 0.5976\n",
            "5 FOLDS: Lasso RMSLE: 0.5993\n",
            "6 FOLDS: Lasso RMSLE: 0.5400\n",
            "7 FOLDS: Lasso RMSLE: 0.3609\n",
            "8 FOLDS: Lasso RMSLE: 0.3683\n",
            "9 FOLDS: Lasso RMSLE: 0.3201\n",
            "10 FOLDS: Lasso RMSLE: 0.3984\n",
            "\n",
            "Lasso mean RMSLE: 0.4047\n",
            "========================================\n"
          ]
        },
        {
          "output_type": "stream",
          "name": "stderr",
          "text": [
            "ElasticNet Cross Validations...: 100%|██████████| 10/10 [00:01<00:00,  6.34it/s]\n"
          ]
        },
        {
          "output_type": "stream",
          "name": "stdout",
          "text": [
            "1 FOLDS: ElasticNet RMSLE: 0.2972\n",
            "2 FOLDS: ElasticNet RMSLE: 0.3244\n",
            "3 FOLDS: ElasticNet RMSLE: 0.2631\n",
            "4 FOLDS: ElasticNet RMSLE: 0.6120\n",
            "5 FOLDS: ElasticNet RMSLE: 0.5996\n",
            "6 FOLDS: ElasticNet RMSLE: 0.5963\n",
            "7 FOLDS: ElasticNet RMSLE: 0.3797\n",
            "8 FOLDS: ElasticNet RMSLE: 0.3803\n",
            "9 FOLDS: ElasticNet RMSLE: 0.3291\n",
            "10 FOLDS: ElasticNet RMSLE: 0.3995\n",
            "\n",
            "ElasticNet mean RMSLE: 0.4181\n",
            "========================================\n"
          ]
        },
        {
          "output_type": "stream",
          "name": "stderr",
          "text": [
            "DecisionTreeRegressor Cross Validations...: 100%|██████████| 10/10 [00:06<00:00,  1.60it/s]\n"
          ]
        },
        {
          "output_type": "stream",
          "name": "stdout",
          "text": [
            "1 FOLDS: DecisionTreeRegressor RMSLE: 0.2585\n",
            "2 FOLDS: DecisionTreeRegressor RMSLE: 0.3219\n",
            "3 FOLDS: DecisionTreeRegressor RMSLE: 0.2574\n",
            "4 FOLDS: DecisionTreeRegressor RMSLE: 0.5501\n",
            "5 FOLDS: DecisionTreeRegressor RMSLE: 0.5564\n",
            "6 FOLDS: DecisionTreeRegressor RMSLE: 0.4270\n",
            "7 FOLDS: DecisionTreeRegressor RMSLE: 0.3207\n",
            "8 FOLDS: DecisionTreeRegressor RMSLE: 0.3126\n",
            "9 FOLDS: DecisionTreeRegressor RMSLE: 0.3222\n",
            "10 FOLDS: DecisionTreeRegressor RMSLE: 0.3917\n",
            "\n",
            "DecisionTreeRegressor mean RMSLE: 0.3719\n",
            "========================================\n"
          ]
        },
        {
          "output_type": "stream",
          "name": "stderr",
          "text": [
            "LGBMRegressor Cross Validations...: 100%|██████████| 10/10 [00:24<00:00,  2.43s/it]"
          ]
        },
        {
          "output_type": "stream",
          "name": "stdout",
          "text": [
            "1 FOLDS: LGBMRegressor RMSLE: 0.2449\n",
            "2 FOLDS: LGBMRegressor RMSLE: 0.3100\n",
            "3 FOLDS: LGBMRegressor RMSLE: 0.2366\n",
            "4 FOLDS: LGBMRegressor RMSLE: 0.5487\n",
            "5 FOLDS: LGBMRegressor RMSLE: 0.5052\n",
            "6 FOLDS: LGBMRegressor RMSLE: 0.2823\n",
            "7 FOLDS: LGBMRegressor RMSLE: 0.2855\n",
            "8 FOLDS: LGBMRegressor RMSLE: 0.2410\n",
            "9 FOLDS: LGBMRegressor RMSLE: 0.2624\n",
            "10 FOLDS: LGBMRegressor RMSLE: 0.2728\n",
            "\n",
            "LGBMRegressor mean RMSLE: 0.3189\n",
            "========================================\n"
          ]
        },
        {
          "output_type": "stream",
          "name": "stderr",
          "text": [
            "\n"
          ]
        }
      ],
      "metadata": {
        "colab": {
          "base_uri": "https://localhost:8080/"
        },
        "id": "x_OHU1WM1aAY",
        "outputId": "d3c6ad96-0560-4592-f9e3-d81501ab1fd9"
      }
    },
    {
      "cell_type": "code",
      "execution_count": 65,
      "source": [
        "result_df = pd.DataFrame({'Model': models, 'Score': scores}).reset_index(drop=True)\n",
        "result_df"
      ],
      "outputs": [
        {
          "output_type": "execute_result",
          "data": {
            "text/plain": [
              "                   Model     Score\n",
              "0       LinearRegression  0.386279\n",
              "1                  Ridge  0.386277\n",
              "2                  Lasso  0.404749\n",
              "3             ElasticNet  0.418120\n",
              "4  DecisionTreeRegressor  0.371851\n",
              "5          LGBMRegressor  0.318930"
            ],
            "text/html": [
              "<div>\n",
              "<style scoped>\n",
              "    .dataframe tbody tr th:only-of-type {\n",
              "        vertical-align: middle;\n",
              "    }\n",
              "\n",
              "    .dataframe tbody tr th {\n",
              "        vertical-align: top;\n",
              "    }\n",
              "\n",
              "    .dataframe thead th {\n",
              "        text-align: right;\n",
              "    }\n",
              "</style>\n",
              "<table border=\"1\" class=\"dataframe\">\n",
              "  <thead>\n",
              "    <tr style=\"text-align: right;\">\n",
              "      <th></th>\n",
              "      <th>Model</th>\n",
              "      <th>Score</th>\n",
              "    </tr>\n",
              "  </thead>\n",
              "  <tbody>\n",
              "    <tr>\n",
              "      <th>0</th>\n",
              "      <td>LinearRegression</td>\n",
              "      <td>0.386279</td>\n",
              "    </tr>\n",
              "    <tr>\n",
              "      <th>1</th>\n",
              "      <td>Ridge</td>\n",
              "      <td>0.386277</td>\n",
              "    </tr>\n",
              "    <tr>\n",
              "      <th>2</th>\n",
              "      <td>Lasso</td>\n",
              "      <td>0.404749</td>\n",
              "    </tr>\n",
              "    <tr>\n",
              "      <th>3</th>\n",
              "      <td>ElasticNet</td>\n",
              "      <td>0.418120</td>\n",
              "    </tr>\n",
              "    <tr>\n",
              "      <th>4</th>\n",
              "      <td>DecisionTreeRegressor</td>\n",
              "      <td>0.371851</td>\n",
              "    </tr>\n",
              "    <tr>\n",
              "      <th>5</th>\n",
              "      <td>LGBMRegressor</td>\n",
              "      <td>0.318930</td>\n",
              "    </tr>\n",
              "  </tbody>\n",
              "</table>\n",
              "</div>"
            ]
          },
          "metadata": {},
          "execution_count": 65
        }
      ],
      "metadata": {
        "colab": {
          "base_uri": "https://localhost:8080/",
          "height": 297
        },
        "id": "XhBskjS8SfGR",
        "outputId": "d3ba7e4d-712c-449d-9390-4849ba909674"
      }
    },
    {
      "cell_type": "code",
      "execution_count": 66,
      "source": [
        "f, ax = plt.subplots(figsize=(10, 6))\n",
        "plt.xticks(rotation='90')\n",
        "sns.barplot(x=result_df['Model'], y=result_df['Score'])\n",
        "plt.xlabel('Models', fontsize=15)\n",
        "plt.ylabel('Model Performance', fontsize=15)\n",
        "plt.ylim(0.3, 0.45)\n",
        "plt.title('RMSLE', fontsize=15)\n",
        "plt.show()"
      ],
      "outputs": [
        {
          "output_type": "display_data",
          "data": {
            "text/plain": [
              "<Figure size 720x432 with 1 Axes>"
            ],
            "image/png": "[encoded data removed]"
          },
          "metadata": {}
        }
      ],
      "metadata": {
        "colab": {
          "base_uri": "https://localhost:8080/",
          "height": 490
        },
        "id": "KCjf4sknda7P",
        "outputId": "c7c3d4b1-d57a-480a-aaa9-ec4bd2bf9884"
      }
    },
    {
      "cell_type": "markdown",
      "source": [
        "- CV 결과 LightGBM의 평균 RMSLE가 0.2395로 가장 작은 것을 알 수 있습니다.\n",
        "- 이제, LightGBM을 이용하여 하이퍼 파라미터 튜닝을 진행하겠습니다. "
      ],
      "metadata": {
        "id": "z47Xwazyz4Hv"
      }
    },
    {
      "cell_type": "markdown",
      "source": [
        "### Hyperparameter Tuning\n",
        "- 시간적 비용을 고려하여, 하이퍼 파라미터 튜닝에서는 TimeSeries CV를 사용하지 않겠습니다.\n",
        "- 대신 train 데이터를 8:2 비율로 분할하여 학습과 검증에 사용하겠습니다.\n",
        "- 마찬가지로 데이터가 섞이지 않게, 검증 데이터는 train 데이터의 마지막 20%을 사용하겠습니다."
      ],
      "metadata": {
        "id": "Ln1OZScO0avm"
      }
    },
    {
      "cell_type": "code",
      "execution_count": 68,
      "source": [
        "cut = int(len(train_df)*0.8)\n",
        "h_train = train_df[:cut]\n",
        "h_valid = train_df[cut:]\n",
        "\n",
        "h_train_X = h_train.drop(['log_price'], axis=1)\n",
        "h_train_y = h_train['log_price']\n",
        "h_valid_X = h_valid.drop(['log_price'], axis=1)\n",
        "h_valid_y = h_valid['log_price']\n",
        "print(h_train_X.shape, h_train_y.shape, h_valid_X.shape, h_valid_y.shape)"
      ],
      "outputs": [
        {
          "output_type": "stream",
          "name": "stdout",
          "text": [
            "(973242, 7) (973242,) (243311, 7) (243311,)\n"
          ]
        }
      ],
      "metadata": {
        "colab": {
          "base_uri": "https://localhost:8080/"
        },
        "id": "bjpjn-b-19G3",
        "outputId": "cea54506-8190-4da8-f15f-88b13ece2a05"
      }
    },
    {
      "cell_type": "code",
      "execution_count": 69,
      "source": [
        "h_train_X.head()"
      ],
      "outputs": [
        {
          "output_type": "execute_result",
          "data": {
            "text/plain": [
              "   city  apt  year_of_completion  transaction_year_month  floor  top10  \\\n",
              "0     1   23                  41                       0      6      0   \n",
              "1     1   23                  12                       0     10      0   \n",
              "2     1   23                  46                       0     10      0   \n",
              "3     1   23                  42                       0     19      0   \n",
              "4     1   23                  43                       0      7      0   \n",
              "\n",
              "   log_area  \n",
              "0  4.452252  \n",
              "1  4.606869  \n",
              "2  4.451319  \n",
              "3  4.993082  \n",
              "4  5.275202  "
            ],
            "text/html": [
              "<div>\n",
              "<style scoped>\n",
              "    .dataframe tbody tr th:only-of-type {\n",
              "        vertical-align: middle;\n",
              "    }\n",
              "\n",
              "    .dataframe tbody tr th {\n",
              "        vertical-align: top;\n",
              "    }\n",
              "\n",
              "    .dataframe thead th {\n",
              "        text-align: right;\n",
              "    }\n",
              "</style>\n",
              "<table border=\"1\" class=\"dataframe\">\n",
              "  <thead>\n",
              "    <tr style=\"text-align: right;\">\n",
              "      <th></th>\n",
              "      <th>city</th>\n",
              "      <th>apt</th>\n",
              "      <th>year_of_completion</th>\n",
              "      <th>transaction_year_month</th>\n",
              "      <th>floor</th>\n",
              "      <th>top10</th>\n",
              "      <th>log_area</th>\n",
              "    </tr>\n",
              "  </thead>\n",
              "  <tbody>\n",
              "    <tr>\n",
              "      <th>0</th>\n",
              "      <td>1</td>\n",
              "      <td>23</td>\n",
              "      <td>41</td>\n",
              "      <td>0</td>\n",
              "      <td>6</td>\n",
              "      <td>0</td>\n",
              "      <td>4.452252</td>\n",
              "    </tr>\n",
              "    <tr>\n",
              "      <th>1</th>\n",
              "      <td>1</td>\n",
              "      <td>23</td>\n",
              "      <td>12</td>\n",
              "      <td>0</td>\n",
              "      <td>10</td>\n",
              "      <td>0</td>\n",
              "      <td>4.606869</td>\n",
              "    </tr>\n",
              "    <tr>\n",
              "      <th>2</th>\n",
              "      <td>1</td>\n",
              "      <td>23</td>\n",
              "      <td>46</td>\n",
              "      <td>0</td>\n",
              "      <td>10</td>\n",
              "      <td>0</td>\n",
              "      <td>4.451319</td>\n",
              "    </tr>\n",
              "    <tr>\n",
              "      <th>3</th>\n",
              "      <td>1</td>\n",
              "      <td>23</td>\n",
              "      <td>42</td>\n",
              "      <td>0</td>\n",
              "      <td>19</td>\n",
              "      <td>0</td>\n",
              "      <td>4.993082</td>\n",
              "    </tr>\n",
              "    <tr>\n",
              "      <th>4</th>\n",
              "      <td>1</td>\n",
              "      <td>23</td>\n",
              "      <td>43</td>\n",
              "      <td>0</td>\n",
              "      <td>7</td>\n",
              "      <td>0</td>\n",
              "      <td>5.275202</td>\n",
              "    </tr>\n",
              "  </tbody>\n",
              "</table>\n",
              "</div>"
            ]
          },
          "metadata": {},
          "execution_count": 69
        }
      ],
      "metadata": {
        "colab": {
          "base_uri": "https://localhost:8080/",
          "height": 204
        },
        "id": "1iyD2ucAheDo",
        "outputId": "008f6dd8-ac0b-4d1e-dd57-82139dfa5a08"
      }
    },
    {
      "cell_type": "markdown",
      "source": [
        "- optuna를 사용하여 하이퍼 파라미터 튜닝을 진행합니다.\n",
        "- 약 20분 정도 진행됩니다."
      ],
      "metadata": {
        "id": "DXHdIn-8muf7"
      }
    },
    {
      "cell_type": "code",
      "execution_count": 70,
      "source": [
        "from optuna.samplers import TPESampler\n",
        "\n",
        "sampler = TPESampler(seed=10)\n",
        "\n",
        "def objective(trial):\n",
        "    dtrain = lgb.Dataset(h_train_X, label=h_train_y)\n",
        "    dtest = lgb.Dataset(h_valid_X, label=h_valid_y)\n",
        "\n",
        "    param = {\n",
        "        'objective': 'regression', # 회귀\n",
        "        'verbose': -1,\n",
        "        'metric': 'rmse', \n",
        "        'max_depth': trial.suggest_int('max_depth',3, 15),\n",
        "        'learning_rate': trial.suggest_loguniform(\"learning_rate\", 1e-8, 1e-2),\n",
        "        'n_estimators': trial.suggest_int('n_estimators', 100, 3000),\n",
        "        'min_child_samples': trial.suggest_int('min_child_samples', 5, 100),\n",
        "        'subsample': trial.suggest_loguniform('subsample', 0.4, 1),\n",
        "    }\n",
        "\n",
        "    model = lgb.LGBMRegressor(**param)\n",
        "    lgb_model = model.fit(h_train_X, h_train_y, eval_set=[(h_valid_X, h_valid_y)], verbose=0, early_stopping_rounds=25)\n",
        "    rmse = RMSE(h_valid_y, lgb_model.predict(h_valid_X))\n",
        "    return rmse\n",
        "        \n",
        "study_lgb = optuna.create_study(direction='minimize', sampler=sampler)\n",
        "study_lgb.optimize(objective, n_trials=100)"
      ],
      "outputs": [
        {
          "output_type": "stream",
          "name": "stderr",
          "text": [
            "\u001b[32m[I 2021-10-08 10:57:51,558]\u001b[0m A new study created in memory with name: no-name-d37338e4-1902-4b21-a53c-dd287827f21d\u001b[0m\n",
            "\u001b[32m[I 2021-10-08 10:58:09,824]\u001b[0m Trial 0 finished with value: 0.7371363074481336 and parameters: {'max_depth': 13, 'learning_rate': 1.3320229150659043e-08, 'n_estimators': 1938, 'min_child_samples': 76, 'subsample': 0.6315909175774905}. Best is trial 0 with value: 0.7371363074481336.\u001b[0m\n",
            "\u001b[32m[I 2021-10-08 10:58:28,595]\u001b[0m Trial 1 finished with value: 0.7369503664466275 and parameters: {'max_depth': 5, 'learning_rate': 1.5430400149097381e-07, 'n_estimators': 2306, 'min_child_samples': 21, 'subsample': 0.4337244827306443}. Best is trial 1 with value: 0.7369503664466275.\u001b[0m\n",
            "\u001b[32m[I 2021-10-08 10:58:29,766]\u001b[0m Trial 2 finished with value: 0.5049596870719305 and parameters: {'max_depth': 11, 'learning_rate': 0.005252427629146827, 'n_estimators': 111, 'min_child_samples': 54, 'subsample': 0.8422371309477078}. Best is trial 2 with value: 0.5049596870719305.\u001b[0m\n",
            "\u001b[32m[I 2021-10-08 10:58:38,638]\u001b[0m Trial 3 finished with value: 0.6363389062117464 and parameters: {'max_depth': 10, 'learning_rate': 0.00021405821746591817, 'n_estimators': 946, 'min_child_samples': 93, 'subsample': 0.7698715745641292}. Best is trial 2 with value: 0.5049596870719305.\u001b[0m\n",
            "\u001b[32m[I 2021-10-08 10:58:49,840]\u001b[0m Trial 4 finished with value: 0.7371031721908533 and parameters: {'max_depth': 10, 'learning_rate': 7.128863277996207e-08, 'n_estimators': 1183, 'min_child_samples': 69, 'subsample': 0.5996296351455978}. Best is trial 2 with value: 0.5049596870719305.\u001b[0m\n",
            "\u001b[32m[I 2021-10-08 10:59:05,034]\u001b[0m Trial 5 finished with value: 0.6937035169611847 and parameters: {'max_depth': 8, 'learning_rate': 5.08864167992051e-05, 'n_estimators': 1588, 'min_child_samples': 67, 'subsample': 0.6938050197112922}. Best is trial 2 with value: 0.5049596870719305.\u001b[0m\n",
            "\u001b[32m[I 2021-10-08 10:59:30,930]\u001b[0m Trial 6 finished with value: 0.7167604213692292 and parameters: {'max_depth': 13, 'learning_rate': 1.3485992516968212e-05, 'n_estimators': 2735, 'min_child_samples': 35, 'subsample': 0.4345676420333751}. Best is trial 2 with value: 0.5049596870719305.\u001b[0m\n",
            "\u001b[32m[I 2021-10-08 10:59:53,739]\u001b[0m Trial 7 finished with value: 0.7370825052734642 and parameters: {'max_depth': 6, 'learning_rate': 4.8295444901938926e-08, 'n_estimators': 2504, 'min_child_samples': 9, 'subsample': 0.7100430887666348}. Best is trial 2 with value: 0.5049596870719305.\u001b[0m\n",
            "\u001b[32m[I 2021-10-08 11:00:00,436]\u001b[0m Trial 8 finished with value: 0.5120867622964361 and parameters: {'max_depth': 10, 'learning_rate': 0.0008236106883720722, 'n_estimators': 677, 'min_child_samples': 87, 'subsample': 0.5520731753100153}. Best is trial 2 with value: 0.5049596870719305.\u001b[0m\n",
            "\u001b[32m[I 2021-10-08 11:00:25,183]\u001b[0m Trial 9 finished with value: 0.7362516664386806 and parameters: {'max_depth': 12, 'learning_rate': 5.967195151630884e-07, 'n_estimators': 2664, 'min_child_samples': 36, 'subsample': 0.46529289303849874}. Best is trial 2 with value: 0.5049596870719305.\u001b[0m\n",
            "\u001b[32m[I 2021-10-08 11:00:26,083]\u001b[0m Trial 10 finished with value: 0.4774981429661577 and parameters: {'max_depth': 3, 'learning_rate': 0.0072870796144518185, 'n_estimators': 125, 'min_child_samples': 50, 'subsample': 0.9370978022952946}. Best is trial 10 with value: 0.4774981429661577.\u001b[0m\n",
            "\u001b[32m[I 2021-10-08 11:00:26,942]\u001b[0m Trial 11 finished with value: 0.4324101215351813 and parameters: {'max_depth': 3, 'learning_rate': 0.009781360056777894, 'n_estimators': 134, 'min_child_samples': 50, 'subsample': 0.9778082962377218}. Best is trial 11 with value: 0.4324101215351813.\u001b[0m\n",
            "\u001b[32m[I 2021-10-08 11:00:27,810]\u001b[0m Trial 12 finished with value: 0.44559126807042576 and parameters: {'max_depth': 3, 'learning_rate': 0.007773589322284729, 'n_estimators': 151, 'min_child_samples': 46, 'subsample': 0.9989436234186678}. Best is trial 11 with value: 0.4324101215351813.\u001b[0m\n",
            "\u001b[32m[I 2021-10-08 11:00:30,663]\u001b[0m Trial 13 finished with value: 0.5754936305051381 and parameters: {'max_depth': 3, 'learning_rate': 0.0007774822178201122, 'n_estimators': 544, 'min_child_samples': 49, 'subsample': 0.9537507201053228}. Best is trial 11 with value: 0.4324101215351813.\u001b[0m\n",
            "\u001b[32m[I 2021-10-08 11:00:35,738]\u001b[0m Trial 14 finished with value: 0.7367325574869716 and parameters: {'max_depth': 15, 'learning_rate': 1.3688311942555357e-06, 'n_estimators': 540, 'min_child_samples': 34, 'subsample': 0.9796365205471652}. Best is trial 11 with value: 0.4324101215351813.\u001b[0m\n",
            "\u001b[32m[I 2021-10-08 11:00:46,619]\u001b[0m Trial 15 finished with value: 0.3552696380671547 and parameters: {'max_depth': 5, 'learning_rate': 0.0014612244189578791, 'n_estimators': 1196, 'min_child_samples': 59, 'subsample': 0.8379610960606707}. Best is trial 15 with value: 0.3552696380671547.\u001b[0m\n",
            "\u001b[32m[I 2021-10-08 11:01:03,203]\u001b[0m Trial 16 finished with value: 0.4734142085071351 and parameters: {'max_depth': 6, 'learning_rate': 0.0005201620776173726, 'n_estimators': 1379, 'min_child_samples': 60, 'subsample': 0.8387686631458969}. Best is trial 15 with value: 0.3552696380671547.\u001b[0m\n",
            "\u001b[32m[I 2021-10-08 11:01:18,489]\u001b[0m Trial 17 finished with value: 0.6712380452282246 and parameters: {'max_depth': 5, 'learning_rate': 6.790663195577422e-05, 'n_estimators': 1867, 'min_child_samples': 79, 'subsample': 0.8454918854124668}. Best is trial 15 with value: 0.3552696380671547.\u001b[0m\n",
            "\u001b[32m[I 2021-10-08 11:01:27,771]\u001b[0m Trial 18 finished with value: 0.3058529991931567 and parameters: {'max_depth': 8, 'learning_rate': 0.0034512962964751456, 'n_estimators': 964, 'min_child_samples': 23, 'subsample': 0.7551738281217694}. Best is trial 18 with value: 0.3058529991931567.\u001b[0m\n",
            "\u001b[32m[I 2021-10-08 11:01:37,373]\u001b[0m Trial 19 finished with value: 0.36568264291894725 and parameters: {'max_depth': 7, 'learning_rate': 0.00161512718936307, 'n_estimators': 955, 'min_child_samples': 11, 'subsample': 0.724819394965482}. Best is trial 18 with value: 0.3058529991931567.\u001b[0m\n",
            "\u001b[32m[I 2021-10-08 11:01:53,749]\u001b[0m Trial 20 finished with value: 0.731338359509944 and parameters: {'max_depth': 8, 'learning_rate': 6.125424702987992e-06, 'n_estimators': 1686, 'min_child_samples': 22, 'subsample': 0.5534573772272843}. Best is trial 18 with value: 0.3058529991931567.\u001b[0m\n",
            "\u001b[32m[I 2021-10-08 11:02:02,787]\u001b[0m Trial 21 finished with value: 0.35943157894817124 and parameters: {'max_depth': 7, 'learning_rate': 0.001724060926238623, 'n_estimators': 949, 'min_child_samples': 5, 'subsample': 0.740109878258889}. Best is trial 18 with value: 0.3058529991931567.\u001b[0m\n",
            "\u001b[32m[I 2021-10-08 11:02:13,719]\u001b[0m Trial 22 finished with value: 0.3171746256270124 and parameters: {'max_depth': 8, 'learning_rate': 0.0023549288428714593, 'n_estimators': 1159, 'min_child_samples': 5, 'subsample': 0.7917356137383066}. Best is trial 18 with value: 0.3058529991931567.\u001b[0m\n",
            "\u001b[32m[I 2021-10-08 11:02:25,744]\u001b[0m Trial 23 finished with value: 0.6528613004380137 and parameters: {'max_depth': 8, 'learning_rate': 0.00012967707814410406, 'n_estimators': 1276, 'min_child_samples': 18, 'subsample': 0.8092642887308649}. Best is trial 18 with value: 0.3058529991931567.\u001b[0m\n",
            "\u001b[32m[I 2021-10-08 11:02:34,685]\u001b[0m Trial 24 finished with value: 0.3275123795298175 and parameters: {'max_depth': 5, 'learning_rate': 0.002205304414520418, 'n_estimators': 1089, 'min_child_samples': 26, 'subsample': 0.6752964416666491}. Best is trial 18 with value: 0.3058529991931567.\u001b[0m\n",
            "\u001b[32m[I 2021-10-08 11:02:41,699]\u001b[0m Trial 25 finished with value: 0.6078804273532751 and parameters: {'max_depth': 9, 'learning_rate': 0.00036330919320330863, 'n_estimators': 745, 'min_child_samples': 27, 'subsample': 0.6739751780291229}. Best is trial 18 with value: 0.3058529991931567.\u001b[0m\n",
            "\u001b[32m[I 2021-10-08 11:02:55,311]\u001b[0m Trial 26 finished with value: 0.7212547516779839 and parameters: {'max_depth': 6, 'learning_rate': 1.9507033427198683e-05, 'n_estimators': 1468, 'min_child_samples': 16, 'subsample': 0.6414092338025281}. Best is trial 18 with value: 0.3058529991931567.\u001b[0m\n",
            "\u001b[32m[I 2021-10-08 11:03:05,323]\u001b[0m Trial 27 finished with value: 0.31291215319103405 and parameters: {'max_depth': 9, 'learning_rate': 0.0027594391216248524, 'n_estimators': 1064, 'min_child_samples': 26, 'subsample': 0.5618086936668583}. Best is trial 18 with value: 0.3058529991931567.\u001b[0m\n",
            "\u001b[32m[I 2021-10-08 11:03:08,719]\u001b[0m Trial 28 finished with value: 0.36893659670526585 and parameters: {'max_depth': 9, 'learning_rate': 0.004145217470794168, 'n_estimators': 361, 'min_child_samples': 11, 'subsample': 0.5729452107775888}. Best is trial 18 with value: 0.3058529991931567.\u001b[0m\n",
            "\u001b[32m[I 2021-10-08 11:03:29,053]\u001b[0m Trial 29 finished with value: 0.5315742013577891 and parameters: {'max_depth': 9, 'learning_rate': 0.0002313500778893693, 'n_estimators': 2117, 'min_child_samples': 40, 'subsample': 0.4780697087371365}. Best is trial 18 with value: 0.3058529991931567.\u001b[0m\n",
            "\u001b[32m[I 2021-10-08 11:03:45,669]\u001b[0m Trial 30 finished with value: 0.7337351110698014 and parameters: {'max_depth': 11, 'learning_rate': 3.43593828203132e-06, 'n_estimators': 1762, 'min_child_samples': 28, 'subsample': 0.6189750085150247}. Best is trial 18 with value: 0.3058529991931567.\u001b[0m\n",
            "\u001b[32m[I 2021-10-08 11:03:55,564]\u001b[0m Trial 31 finished with value: 0.31664439046713194 and parameters: {'max_depth': 7, 'learning_rate': 0.0025991521066344603, 'n_estimators': 1059, 'min_child_samples': 27, 'subsample': 0.5177433545349365}. Best is trial 18 with value: 0.3058529991931567.\u001b[0m\n",
            "\u001b[32m[I 2021-10-08 11:04:02,853]\u001b[0m Trial 32 finished with value: 0.32906632303869 and parameters: {'max_depth': 7, 'learning_rate': 0.0028925342058054443, 'n_estimators': 793, 'min_child_samples': 15, 'subsample': 0.4976744998689346}. Best is trial 18 with value: 0.3058529991931567.\u001b[0m\n",
            "\u001b[32m[I 2021-10-08 11:04:13,033]\u001b[0m Trial 33 finished with value: 0.42082327234074407 and parameters: {'max_depth': 8, 'learning_rate': 0.0009597873611230696, 'n_estimators': 1053, 'min_child_samples': 41, 'subsample': 0.5247492222324365}. Best is trial 18 with value: 0.3058529991931567.\u001b[0m\n",
            "\u001b[32m[I 2021-10-08 11:04:26,043]\u001b[0m Trial 34 finished with value: 0.2909958091665528 and parameters: {'max_depth': 11, 'learning_rate': 0.003763296834819172, 'n_estimators': 1417, 'min_child_samples': 5, 'subsample': 0.4111484383347534}. Best is trial 34 with value: 0.2909958091665528.\u001b[0m\n",
            "\u001b[32m[I 2021-10-08 11:04:51,106]\u001b[0m Trial 35 finished with value: 0.2809171469825959 and parameters: {'max_depth': 11, 'learning_rate': 0.0036777019548282176, 'n_estimators': 2985, 'min_child_samples': 23, 'subsample': 0.4168027083028591}. Best is trial 35 with value: 0.2809171469825959.\u001b[0m\n",
            "\u001b[32m[I 2021-10-08 11:05:11,856]\u001b[0m Trial 36 finished with value: 0.6147178282277147 and parameters: {'max_depth': 11, 'learning_rate': 0.00011667404859705454, 'n_estimators': 2175, 'min_child_samples': 22, 'subsample': 0.41823750489665346}. Best is trial 35 with value: 0.2809171469825959.\u001b[0m\n",
            "\u001b[32m[I 2021-10-08 11:05:26,268]\u001b[0m Trial 37 finished with value: 0.7371420351780572 and parameters: {'max_depth': 13, 'learning_rate': 1.0247621894239425e-08, 'n_estimators': 1532, 'min_child_samples': 16, 'subsample': 0.4124735401701441}. Best is trial 35 with value: 0.2809171469825959.\u001b[0m\n",
            "\u001b[32m[I 2021-10-08 11:05:39,258]\u001b[0m Trial 38 finished with value: 0.7134917950552806 and parameters: {'max_depth': 12, 'learning_rate': 3.1774767809458236e-05, 'n_estimators': 1352, 'min_child_samples': 30, 'subsample': 0.43872081432483284}. Best is trial 35 with value: 0.2809171469825959.\u001b[0m\n",
            "\u001b[32m[I 2021-10-08 11:06:05,877]\u001b[0m Trial 39 finished with value: 0.4400082044559307 and parameters: {'max_depth': 10, 'learning_rate': 0.00031550765850940887, 'n_estimators': 2819, 'min_child_samples': 21, 'subsample': 0.40241383463095753}. Best is trial 35 with value: 0.2809171469825959.\u001b[0m\n",
            "\u001b[32m[I 2021-10-08 11:06:25,471]\u001b[0m Trial 40 finished with value: 0.27954564060069004 and parameters: {'max_depth': 11, 'learning_rate': 0.005046875968987141, 'n_estimators': 2348, 'min_child_samples': 10, 'subsample': 0.4376583673307852}. Best is trial 40 with value: 0.27954564060069004.\u001b[0m\n",
            "\u001b[32m[I 2021-10-08 11:06:46,617]\u001b[0m Trial 41 finished with value: 0.2813221253312357 and parameters: {'max_depth': 11, 'learning_rate': 0.004290104676446703, 'n_estimators': 2480, 'min_child_samples': 10, 'subsample': 0.4568994911769673}. Best is trial 40 with value: 0.27954564060069004.\u001b[0m\n",
            "\u001b[32m[I 2021-10-08 11:07:07,198]\u001b[0m Trial 42 finished with value: 0.2784217004323107 and parameters: {'max_depth': 12, 'learning_rate': 0.004984509373168589, 'n_estimators': 2466, 'min_child_samples': 10, 'subsample': 0.4500796472648804}. Best is trial 42 with value: 0.2784217004323107.\u001b[0m\n",
            "\u001b[32m[I 2021-10-08 11:07:31,211]\u001b[0m Trial 43 finished with value: 0.27479751315280865 and parameters: {'max_depth': 14, 'learning_rate': 0.005264180141443096, 'n_estimators': 2959, 'min_child_samples': 9, 'subsample': 0.4548082607357947}. Best is trial 43 with value: 0.27479751315280865.\u001b[0m\n",
            "\u001b[32m[I 2021-10-08 11:07:53,669]\u001b[0m Trial 44 finished with value: 0.2690829982581605 and parameters: {'max_depth': 14, 'learning_rate': 0.007640014137220505, 'n_estimators': 2955, 'min_child_samples': 12, 'subsample': 0.46073306792727264}. Best is trial 44 with value: 0.2690829982581605.\u001b[0m\n",
            "\u001b[32m[I 2021-10-08 11:08:15,390]\u001b[0m Trial 45 finished with value: 0.2649944744756966 and parameters: {'max_depth': 15, 'learning_rate': 0.009903235281344848, 'n_estimators': 2969, 'min_child_samples': 14, 'subsample': 0.4485593726625884}. Best is trial 45 with value: 0.2649944744756966.\u001b[0m\n",
            "\u001b[32m[I 2021-10-08 11:08:38,258]\u001b[0m Trial 46 finished with value: 0.2702024675825861 and parameters: {'max_depth': 15, 'learning_rate': 0.007364072238196081, 'n_estimators': 2972, 'min_child_samples': 99, 'subsample': 0.4469928692972328}. Best is trial 45 with value: 0.2649944744756966.\u001b[0m\n",
            "\u001b[32m[I 2021-10-08 11:09:03,149]\u001b[0m Trial 47 finished with value: 0.2655506981297836 and parameters: {'max_depth': 15, 'learning_rate': 0.00997877249713746, 'n_estimators': 2961, 'min_child_samples': 96, 'subsample': 0.47763181321762777}. Best is trial 45 with value: 0.2649944744756966.\u001b[0m\n",
            "\u001b[32m[I 2021-10-08 11:09:27,364]\u001b[0m Trial 48 finished with value: 0.2654964552467189 and parameters: {'max_depth': 15, 'learning_rate': 0.009949781944814166, 'n_estimators': 2990, 'min_child_samples': 100, 'subsample': 0.48086398474640263}. Best is trial 45 with value: 0.2649944744756966.\u001b[0m\n",
            "\u001b[32m[I 2021-10-08 11:09:48,123]\u001b[0m Trial 49 finished with value: 0.2710798353887838 and parameters: {'max_depth': 15, 'learning_rate': 0.007528720019961511, 'n_estimators': 2651, 'min_child_samples': 99, 'subsample': 0.47672852184612885}. Best is trial 45 with value: 0.2649944744756966.\u001b[0m\n",
            "\u001b[32m[I 2021-10-08 11:10:18,125]\u001b[0m Trial 50 finished with value: 0.3129938200625161 and parameters: {'max_depth': 14, 'learning_rate': 0.001038618894585774, 'n_estimators': 2821, 'min_child_samples': 89, 'subsample': 0.5013005516473144}. Best is trial 45 with value: 0.2649944744756966.\u001b[0m\n",
            "\u001b[32m[I 2021-10-08 11:10:43,674]\u001b[0m Trial 51 finished with value: 0.27230268738203045 and parameters: {'max_depth': 15, 'learning_rate': 0.007005335624105012, 'n_estimators': 2653, 'min_child_samples': 97, 'subsample': 0.4721633932474176}. Best is trial 45 with value: 0.2649944744756966.\u001b[0m\n",
            "\u001b[32m[I 2021-10-08 11:11:05,894]\u001b[0m Trial 52 finished with value: 0.2674242938275586 and parameters: {'max_depth': 15, 'learning_rate': 0.009193614878520748, 'n_estimators': 2854, 'min_child_samples': 100, 'subsample': 0.4797475593507724}. Best is trial 45 with value: 0.2649944744756966.\u001b[0m\n",
            "\u001b[32m[I 2021-10-08 11:11:27,540]\u001b[0m Trial 53 finished with value: 0.2684407762751982 and parameters: {'max_depth': 14, 'learning_rate': 0.008344785497413, 'n_estimators': 2852, 'min_child_samples': 81, 'subsample': 0.4983878516156773}. Best is trial 45 with value: 0.2649944744756966.\u001b[0m\n",
            "\u001b[32m[I 2021-10-08 11:11:49,897]\u001b[0m Trial 54 finished with value: 0.2660533551516954 and parameters: {'max_depth': 14, 'learning_rate': 0.009802898754216074, 'n_estimators': 2839, 'min_child_samples': 84, 'subsample': 0.49704141956159253}. Best is trial 45 with value: 0.2649944744756966.\u001b[0m\n",
            "\u001b[32m[I 2021-10-08 11:12:27,252]\u001b[0m Trial 55 finished with value: 0.3690409796802793 and parameters: {'max_depth': 13, 'learning_rate': 0.0005357231885937999, 'n_estimators': 2796, 'min_child_samples': 80, 'subsample': 0.5354544233746799}. Best is trial 45 with value: 0.2649944744756966.\u001b[0m\n",
            "\u001b[32m[I 2021-10-08 11:12:51,328]\u001b[0m Trial 56 finished with value: 0.2685869600017214 and parameters: {'max_depth': 14, 'learning_rate': 0.009526282241907442, 'n_estimators': 2578, 'min_child_samples': 93, 'subsample': 0.5003206415153011}. Best is trial 45 with value: 0.2649944744756966.\u001b[0m\n",
            "\u001b[32m[I 2021-10-08 11:13:19,068]\u001b[0m Trial 57 finished with value: 0.7370234605727459 and parameters: {'max_depth': 15, 'learning_rate': 7.874436168346277e-08, 'n_estimators': 2859, 'min_child_samples': 85, 'subsample': 0.4943183044706504}. Best is trial 45 with value: 0.2649944744756966.\u001b[0m\n",
            "\u001b[32m[I 2021-10-08 11:13:45,736]\u001b[0m Trial 58 finished with value: 0.7367201525920454 and parameters: {'max_depth': 14, 'learning_rate': 2.7456591493487524e-07, 'n_estimators': 2772, 'min_child_samples': 72, 'subsample': 0.5952323227706906}. Best is trial 45 with value: 0.2649944744756966.\u001b[0m\n",
            "\u001b[32m[I 2021-10-08 11:14:08,364]\u001b[0m Trial 59 finished with value: 0.29704784921226296 and parameters: {'max_depth': 13, 'learning_rate': 0.0017542709404565055, 'n_estimators': 2372, 'min_child_samples': 94, 'subsample': 0.4821745689957252}. Best is trial 45 with value: 0.2649944744756966.\u001b[0m\n",
            "\u001b[32m[I 2021-10-08 11:14:33,175]\u001b[0m Trial 60 finished with value: 0.30626639796388205 and parameters: {'max_depth': 15, 'learning_rate': 0.0012321625592387293, 'n_estimators': 2686, 'min_child_samples': 84, 'subsample': 0.5364789529134426}. Best is trial 45 with value: 0.2649944744756966.\u001b[0m\n",
            "\u001b[32m[I 2021-10-08 11:14:53,300]\u001b[0m Trial 61 finished with value: 0.26924090948934803 and parameters: {'max_depth': 14, 'learning_rate': 0.008931464230903473, 'n_estimators': 2587, 'min_child_samples': 91, 'subsample': 0.5112409821769162}. Best is trial 45 with value: 0.2649944744756966.\u001b[0m\n",
            "\u001b[32m[I 2021-10-08 11:15:19,866]\u001b[0m Trial 62 finished with value: 0.7371107038528828 and parameters: {'max_depth': 14, 'learning_rate': 2.4646939456263826e-08, 'n_estimators': 2882, 'min_child_samples': 94, 'subsample': 0.5019442395715609}. Best is trial 45 with value: 0.2649944744756966.\u001b[0m\n",
            "\u001b[32m[I 2021-10-08 11:15:39,423]\u001b[0m Trial 63 finished with value: 0.26767580489675347 and parameters: {'max_depth': 15, 'learning_rate': 0.009804351209899817, 'n_estimators': 2572, 'min_child_samples': 82, 'subsample': 0.4914853089514196}. Best is trial 45 with value: 0.2649944744756966.\u001b[0m\n",
            "\u001b[32m[I 2021-10-08 11:16:00,059]\u001b[0m Trial 64 finished with value: 0.26723883832051504 and parameters: {'max_depth': 15, 'learning_rate': 0.009867093888221618, 'n_estimators': 2733, 'min_child_samples': 75, 'subsample': 0.4825455325901396}. Best is trial 45 with value: 0.2649944744756966.\u001b[0m\n",
            "\u001b[32m[I 2021-10-08 11:16:26,031]\u001b[0m Trial 65 finished with value: 0.358849319625497 and parameters: {'max_depth': 15, 'learning_rate': 0.0006012663747142349, 'n_estimators': 2738, 'min_child_samples': 75, 'subsample': 0.42959995364890324}. Best is trial 45 with value: 0.2649944744756966.\u001b[0m\n",
            "\u001b[32m[I 2021-10-08 11:16:49,596]\u001b[0m Trial 66 finished with value: 0.29111422803838366 and parameters: {'max_depth': 15, 'learning_rate': 0.0020958890655335062, 'n_estimators': 2534, 'min_child_samples': 59, 'subsample': 0.4803718553130184}. Best is trial 45 with value: 0.2649944744756966.\u001b[0m\n",
            "\u001b[32m[I 2021-10-08 11:17:08,341]\u001b[0m Trial 67 finished with value: 0.2809568864360836 and parameters: {'max_depth': 15, 'learning_rate': 0.00507991227985934, 'n_estimators': 2174, 'min_child_samples': 88, 'subsample': 0.5339703172654089}. Best is trial 45 with value: 0.2649944744756966.\u001b[0m\n",
            "\u001b[32m[I 2021-10-08 11:17:33,276]\u001b[0m Trial 68 finished with value: 0.2821884876275255 and parameters: {'max_depth': 15, 'learning_rate': 0.0033815365291027773, 'n_estimators': 2908, 'min_child_samples': 69, 'subsample': 0.4288947538701948}. Best is trial 45 with value: 0.2649944744756966.\u001b[0m\n",
            "\u001b[32m[I 2021-10-08 11:17:51,927]\u001b[0m Trial 69 finished with value: 0.26861133861579234 and parameters: {'max_depth': 14, 'learning_rate': 0.009875997496681515, 'n_estimators': 2407, 'min_child_samples': 96, 'subsample': 0.4680432628025677}. Best is trial 45 with value: 0.2649944744756966.\u001b[0m\n",
            "\u001b[32m[I 2021-10-08 11:18:24,516]\u001b[0m Trial 70 finished with value: 0.30071814660354484 and parameters: {'max_depth': 13, 'learning_rate': 0.0013831941807543112, 'n_estimators': 2702, 'min_child_samples': 63, 'subsample': 0.5834246146208287}. Best is trial 45 with value: 0.2649944744756966.\u001b[0m\n",
            "\u001b[32m[I 2021-10-08 11:18:54,122]\u001b[0m Trial 71 finished with value: 0.27190769597483805 and parameters: {'max_depth': 14, 'learning_rate': 0.006386446410337873, 'n_estimators': 2846, 'min_child_samples': 81, 'subsample': 0.4863838871626568}. Best is trial 45 with value: 0.2649944744756966.\u001b[0m\n",
            "\u001b[32m[I 2021-10-08 11:19:16,308]\u001b[0m Trial 72 finished with value: 0.2663291858151643 and parameters: {'max_depth': 15, 'learning_rate': 0.009926804833588695, 'n_estimators': 2903, 'min_child_samples': 83, 'subsample': 0.5526769829534407}. Best is trial 45 with value: 0.2649944744756966.\u001b[0m\n",
            "\u001b[32m[I 2021-10-08 11:19:39,628]\u001b[0m Trial 73 finished with value: 0.284688398321304 and parameters: {'max_depth': 15, 'learning_rate': 0.0029663413649321066, 'n_estimators': 2602, 'min_child_samples': 77, 'subsample': 0.5102458838100884}. Best is trial 45 with value: 0.2649944744756966.\u001b[0m\n",
            "\u001b[32m[I 2021-10-08 11:20:03,816]\u001b[0m Trial 74 finished with value: 0.2741490784313486 and parameters: {'max_depth': 15, 'learning_rate': 0.005422544541157816, 'n_estimators': 2999, 'min_child_samples': 100, 'subsample': 0.523316062668722}. Best is trial 45 with value: 0.2649944744756966.\u001b[0m\n",
            "\u001b[32m[I 2021-10-08 11:20:24,876]\u001b[0m Trial 75 finished with value: 0.26678945373192403 and parameters: {'max_depth': 13, 'learning_rate': 0.00981990890487847, 'n_estimators': 2749, 'min_child_samples': 85, 'subsample': 0.5491563950975945}. Best is trial 45 with value: 0.2649944744756966.\u001b[0m\n",
            "\u001b[32m[I 2021-10-08 11:20:55,794]\u001b[0m Trial 76 finished with value: 0.2884904314991441 and parameters: {'max_depth': 13, 'learning_rate': 0.002105877502465037, 'n_estimators': 2917, 'min_child_samples': 85, 'subsample': 0.556476999017402}. Best is trial 45 with value: 0.2649944744756966.\u001b[0m\n",
            "\u001b[32m[I 2021-10-08 11:21:24,652]\u001b[0m Trial 77 finished with value: 0.2802504628868527 and parameters: {'max_depth': 12, 'learning_rate': 0.004053921026085017, 'n_estimators': 2746, 'min_child_samples': 90, 'subsample': 0.5717168829794169}. Best is trial 45 with value: 0.2649944744756966.\u001b[0m\n",
            "\u001b[32m[I 2021-10-08 11:21:51,267]\u001b[0m Trial 78 finished with value: 0.7354530824260143 and parameters: {'max_depth': 14, 'learning_rate': 1.3118097725088215e-06, 'n_estimators': 2290, 'min_child_samples': 53, 'subsample': 0.6293508163007526}. Best is trial 45 with value: 0.2649944744756966.\u001b[0m\n",
            "\u001b[32m[I 2021-10-08 11:22:22,641]\u001b[0m Trial 79 finished with value: 0.27486616937263414 and parameters: {'max_depth': 13, 'learning_rate': 0.005808938579736151, 'n_estimators': 2748, 'min_child_samples': 91, 'subsample': 0.46509179550531465}. Best is trial 45 with value: 0.2649944744756966.\u001b[0m\n",
            "\u001b[32m[I 2021-10-08 11:22:49,901]\u001b[0m Trial 80 finished with value: 0.3325094501549677 and parameters: {'max_depth': 15, 'learning_rate': 0.0007548691917765495, 'n_estimators': 2904, 'min_child_samples': 96, 'subsample': 0.44452420540743576}. Best is trial 45 with value: 0.2649944744756966.\u001b[0m\n",
            "\u001b[32m[I 2021-10-08 11:23:14,352]\u001b[0m Trial 81 finished with value: 0.26718203547240027 and parameters: {'max_depth': 15, 'learning_rate': 0.009685029096561512, 'n_estimators': 2665, 'min_child_samples': 83, 'subsample': 0.4885171642111921}. Best is trial 45 with value: 0.2649944744756966.\u001b[0m\n",
            "\u001b[32m[I 2021-10-08 11:23:58,923]\u001b[0m Trial 82 finished with value: 0.28424996574727557 and parameters: {'max_depth': 15, 'learning_rate': 0.0030513517622543385, 'n_estimators': 2664, 'min_child_samples': 76, 'subsample': 0.5425005833396523}. Best is trial 45 with value: 0.2649944744756966.\u001b[0m\n",
            "\u001b[32m[I 2021-10-08 11:24:24,434]\u001b[0m Trial 83 finished with value: 0.27437488562396223 and parameters: {'max_depth': 14, 'learning_rate': 0.005599822054693017, 'n_estimators': 2906, 'min_child_samples': 72, 'subsample': 0.5126894666032685}. Best is trial 45 with value: 0.2649944744756966.\u001b[0m\n",
            "\u001b[32m[I 2021-10-08 11:24:47,826]\u001b[0m Trial 84 finished with value: 0.2667311355438677 and parameters: {'max_depth': 15, 'learning_rate': 0.009770823729346987, 'n_estimators': 2777, 'min_child_samples': 87, 'subsample': 0.4669820909456053}. Best is trial 45 with value: 0.2649944744756966.\u001b[0m\n",
            "\u001b[32m[I 2021-10-08 11:25:14,689]\u001b[0m Trial 85 finished with value: 0.2839165672310883 and parameters: {'max_depth': 14, 'learning_rate': 0.003421126165331593, 'n_estimators': 2445, 'min_child_samples': 87, 'subsample': 0.45917990480437265}. Best is trial 45 with value: 0.2649944744756966.\u001b[0m\n",
            "\u001b[32m[I 2021-10-08 11:25:33,102]\u001b[0m Trial 86 finished with value: 0.27762726523983516 and parameters: {'max_depth': 15, 'learning_rate': 0.006663412549817059, 'n_estimators': 1992, 'min_child_samples': 83, 'subsample': 0.4691299860162038}. Best is trial 45 with value: 0.2649944744756966.\u001b[0m\n",
            "\u001b[32m[I 2021-10-08 11:26:00,735]\u001b[0m Trial 87 finished with value: 0.2855828827669419 and parameters: {'max_depth': 14, 'learning_rate': 0.0024678957320057567, 'n_estimators': 2998, 'min_child_samples': 78, 'subsample': 0.5254994546532983}. Best is trial 45 with value: 0.2649944744756966.\u001b[0m\n",
            "\u001b[32m[I 2021-10-08 11:26:21,129]\u001b[0m Trial 88 finished with value: 0.2909062507438388 and parameters: {'max_depth': 4, 'learning_rate': 0.00458231816058311, 'n_estimators': 2774, 'min_child_samples': 74, 'subsample': 0.4235481185037064}. Best is trial 45 with value: 0.2649944744756966.\u001b[0m\n",
            "\u001b[32m[I 2021-10-08 11:26:47,855]\u001b[0m Trial 89 finished with value: 0.2947260911940849 and parameters: {'max_depth': 15, 'learning_rate': 0.001794656081725501, 'n_estimators': 2519, 'min_child_samples': 86, 'subsample': 0.4425368603988655}. Best is trial 45 with value: 0.2649944744756966.\u001b[0m\n",
            "\u001b[32m[I 2021-10-08 11:27:10,400]\u001b[0m Trial 90 finished with value: 0.273278697687914 and parameters: {'max_depth': 14, 'learning_rate': 0.006626275488155242, 'n_estimators': 2632, 'min_child_samples': 92, 'subsample': 0.45365681333835406}. Best is trial 45 with value: 0.2649944744756966.\u001b[0m\n",
            "\u001b[32m[I 2021-10-08 11:27:32,781]\u001b[0m Trial 91 finished with value: 0.26691685528674725 and parameters: {'max_depth': 15, 'learning_rate': 0.009399167244755442, 'n_estimators': 2839, 'min_child_samples': 97, 'subsample': 0.48571484722022273}. Best is trial 45 with value: 0.2649944744756966.\u001b[0m\n",
            "\u001b[32m[I 2021-10-08 11:28:02,915]\u001b[0m Trial 92 finished with value: 0.27943233508839876 and parameters: {'max_depth': 15, 'learning_rate': 0.004288751828039676, 'n_estimators': 2800, 'min_child_samples': 97, 'subsample': 0.48834471216983116}. Best is trial 45 with value: 0.2649944744756966.\u001b[0m\n",
            "\u001b[32m[I 2021-10-08 11:28:31,494]\u001b[0m Trial 93 finished with value: 0.26647439936696315 and parameters: {'max_depth': 15, 'learning_rate': 0.009843236448169595, 'n_estimators': 2714, 'min_child_samples': 88, 'subsample': 0.4720918262214297}. Best is trial 45 with value: 0.2649944744756966.\u001b[0m\n",
            "\u001b[32m[I 2021-10-08 11:28:59,724]\u001b[0m Trial 94 finished with value: 0.27097824425811073 and parameters: {'max_depth': 14, 'learning_rate': 0.006763572256811093, 'n_estimators': 2927, 'min_child_samples': 88, 'subsample': 0.5450039121903378}. Best is trial 45 with value: 0.2649944744756966.\u001b[0m\n",
            "\u001b[32m[I 2021-10-08 11:29:24,375]\u001b[0m Trial 95 finished with value: 0.2805355073453076 and parameters: {'max_depth': 15, 'learning_rate': 0.003940952615056754, 'n_estimators': 2818, 'min_child_samples': 94, 'subsample': 0.4671557720805089}. Best is trial 45 with value: 0.2649944744756966.\u001b[0m\n",
            "\u001b[32m[I 2021-10-08 11:29:44,551]\u001b[0m Trial 96 finished with value: 0.2664016595030832 and parameters: {'max_depth': 15, 'learning_rate': 0.009984454329482126, 'n_estimators': 2693, 'min_child_samples': 90, 'subsample': 0.4357964093625754}. Best is trial 45 with value: 0.2649944744756966.\u001b[0m\n",
            "\u001b[32m[I 2021-10-08 11:30:13,337]\u001b[0m Trial 97 finished with value: 0.27161079433542085 and parameters: {'max_depth': 14, 'learning_rate': 0.006458914474586378, 'n_estimators': 2940, 'min_child_samples': 89, 'subsample': 0.4341644431539378}. Best is trial 45 with value: 0.2649944744756966.\u001b[0m\n",
            "\u001b[32m[I 2021-10-08 11:30:45,040]\u001b[0m Trial 98 finished with value: 0.2872450799680218 and parameters: {'max_depth': 15, 'learning_rate': 0.0023329827629336225, 'n_estimators': 2855, 'min_child_samples': 97, 'subsample': 0.6068819000084141}. Best is trial 45 with value: 0.2649944744756966.\u001b[0m\n",
            "\u001b[32m[I 2021-10-08 11:31:04,785]\u001b[0m Trial 99 finished with value: 0.27961651443791113 and parameters: {'max_depth': 13, 'learning_rate': 0.005126456300558112, 'n_estimators': 2287, 'min_child_samples': 92, 'subsample': 0.6533414770330954}. Best is trial 45 with value: 0.2649944744756966.\u001b[0m\n"
          ]
        }
      ],
      "metadata": {
        "colab": {
          "base_uri": "https://localhost:8080/"
        },
        "id": "er7ibX98msMk",
        "outputId": "5e76430f-3828-442a-e255-680cc6c442f1"
      }
    },
    {
      "cell_type": "code",
      "execution_count": 71,
      "source": [
        "trial = study_lgb.best_trial\n",
        "trial_params = trial.params\n",
        "print('Best Trial: score {},\\nparams {}'.format(trial.value, trial_params))"
      ],
      "outputs": [
        {
          "output_type": "stream",
          "name": "stdout",
          "text": [
            "Best Trial: score 0.2649944744756966,\n",
            "params {'max_depth': 15, 'learning_rate': 0.009903235281344848, 'n_estimators': 2969, 'min_child_samples': 14, 'subsample': 0.4485593726625884}\n"
          ]
        }
      ],
      "metadata": {
        "colab": {
          "base_uri": "https://localhost:8080/"
        },
        "id": "B0jauzQWMOy9",
        "outputId": "11910d0a-eb80-4040-b047-f37873542c07"
      }
    },
    {
      "cell_type": "markdown",
      "source": [
        "- 처음에 LightGBM 평균 RMSLE가 0.2390임을 감안했을때, 매우 성능이 향상됐음을 알 수 있습니다."
      ],
      "metadata": {}
    },
    {
      "cell_type": "markdown",
      "source": [
        "## LightGBM Submission\n",
        "- 이제 test 셋을 사용해서 inference를 해보고 실제 점수를 Dacon에서 확인해볼시간입니다.\n",
        "- 먼저 train 데이터에서 진행한 모든 전처리를 test 데이터에도 적용합니다."
      ],
      "metadata": {
        "id": "DYUFSMYQ384-"
      }
    },
    {
      "cell_type": "code",
      "execution_count": 72,
      "source": [
        "train_df.head()"
      ],
      "outputs": [
        {
          "output_type": "execute_result",
          "data": {
            "text/plain": [
              "   city  apt  year_of_completion  transaction_year_month  floor  top10  \\\n",
              "0     1   23                  41                       0      6      0   \n",
              "1     1   23                  12                       0     10      0   \n",
              "2     1   23                  46                       0     10      0   \n",
              "3     1   23                  42                       0     19      0   \n",
              "4     1   23                  43                       0      7      0   \n",
              "\n",
              "   log_price  log_area  \n",
              "0  10.532123  4.452252  \n",
              "1   9.903538  4.606869  \n",
              "2  10.558439  4.451319  \n",
              "3  11.678448  4.993082  \n",
              "4  11.695255  5.275202  "
            ],
            "text/html": [
              "<div>\n",
              "<style scoped>\n",
              "    .dataframe tbody tr th:only-of-type {\n",
              "        vertical-align: middle;\n",
              "    }\n",
              "\n",
              "    .dataframe tbody tr th {\n",
              "        vertical-align: top;\n",
              "    }\n",
              "\n",
              "    .dataframe thead th {\n",
              "        text-align: right;\n",
              "    }\n",
              "</style>\n",
              "<table border=\"1\" class=\"dataframe\">\n",
              "  <thead>\n",
              "    <tr style=\"text-align: right;\">\n",
              "      <th></th>\n",
              "      <th>city</th>\n",
              "      <th>apt</th>\n",
              "      <th>year_of_completion</th>\n",
              "      <th>transaction_year_month</th>\n",
              "      <th>floor</th>\n",
              "      <th>top10</th>\n",
              "      <th>log_price</th>\n",
              "      <th>log_area</th>\n",
              "    </tr>\n",
              "  </thead>\n",
              "  <tbody>\n",
              "    <tr>\n",
              "      <th>0</th>\n",
              "      <td>1</td>\n",
              "      <td>23</td>\n",
              "      <td>41</td>\n",
              "      <td>0</td>\n",
              "      <td>6</td>\n",
              "      <td>0</td>\n",
              "      <td>10.532123</td>\n",
              "      <td>4.452252</td>\n",
              "    </tr>\n",
              "    <tr>\n",
              "      <th>1</th>\n",
              "      <td>1</td>\n",
              "      <td>23</td>\n",
              "      <td>12</td>\n",
              "      <td>0</td>\n",
              "      <td>10</td>\n",
              "      <td>0</td>\n",
              "      <td>9.903538</td>\n",
              "      <td>4.606869</td>\n",
              "    </tr>\n",
              "    <tr>\n",
              "      <th>2</th>\n",
              "      <td>1</td>\n",
              "      <td>23</td>\n",
              "      <td>46</td>\n",
              "      <td>0</td>\n",
              "      <td>10</td>\n",
              "      <td>0</td>\n",
              "      <td>10.558439</td>\n",
              "      <td>4.451319</td>\n",
              "    </tr>\n",
              "    <tr>\n",
              "      <th>3</th>\n",
              "      <td>1</td>\n",
              "      <td>23</td>\n",
              "      <td>42</td>\n",
              "      <td>0</td>\n",
              "      <td>19</td>\n",
              "      <td>0</td>\n",
              "      <td>11.678448</td>\n",
              "      <td>4.993082</td>\n",
              "    </tr>\n",
              "    <tr>\n",
              "      <th>4</th>\n",
              "      <td>1</td>\n",
              "      <td>23</td>\n",
              "      <td>43</td>\n",
              "      <td>0</td>\n",
              "      <td>7</td>\n",
              "      <td>0</td>\n",
              "      <td>11.695255</td>\n",
              "      <td>5.275202</td>\n",
              "    </tr>\n",
              "  </tbody>\n",
              "</table>\n",
              "</div>"
            ]
          },
          "metadata": {},
          "execution_count": 72
        }
      ],
      "metadata": {}
    },
    {
      "cell_type": "code",
      "execution_count": 73,
      "source": [
        "test_df.head()"
      ],
      "outputs": [
        {
          "output_type": "execute_result",
          "data": {
            "text/plain": [
              "   city  apt  year_of_completion  transaction_year_month  floor  top10  \\\n",
              "0     1   23                  41                     118      3      0   \n",
              "1     0   23                  16                     115      3      0   \n",
              "2     0   23                  28                     117      3      0   \n",
              "3     1   23                  43                     114     11      0   \n",
              "4     0   10                  53                     119     22      1   \n",
              "\n",
              "   log_area  \n",
              "0  3.598681  \n",
              "1  4.244487  \n",
              "2  4.297829  \n",
              "3  4.723309  \n",
              "4  4.792809  "
            ],
            "text/html": [
              "<div>\n",
              "<style scoped>\n",
              "    .dataframe tbody tr th:only-of-type {\n",
              "        vertical-align: middle;\n",
              "    }\n",
              "\n",
              "    .dataframe tbody tr th {\n",
              "        vertical-align: top;\n",
              "    }\n",
              "\n",
              "    .dataframe thead th {\n",
              "        text-align: right;\n",
              "    }\n",
              "</style>\n",
              "<table border=\"1\" class=\"dataframe\">\n",
              "  <thead>\n",
              "    <tr style=\"text-align: right;\">\n",
              "      <th></th>\n",
              "      <th>city</th>\n",
              "      <th>apt</th>\n",
              "      <th>year_of_completion</th>\n",
              "      <th>transaction_year_month</th>\n",
              "      <th>floor</th>\n",
              "      <th>top10</th>\n",
              "      <th>log_area</th>\n",
              "    </tr>\n",
              "  </thead>\n",
              "  <tbody>\n",
              "    <tr>\n",
              "      <th>0</th>\n",
              "      <td>1</td>\n",
              "      <td>23</td>\n",
              "      <td>41</td>\n",
              "      <td>118</td>\n",
              "      <td>3</td>\n",
              "      <td>0</td>\n",
              "      <td>3.598681</td>\n",
              "    </tr>\n",
              "    <tr>\n",
              "      <th>1</th>\n",
              "      <td>0</td>\n",
              "      <td>23</td>\n",
              "      <td>16</td>\n",
              "      <td>115</td>\n",
              "      <td>3</td>\n",
              "      <td>0</td>\n",
              "      <td>4.244487</td>\n",
              "    </tr>\n",
              "    <tr>\n",
              "      <th>2</th>\n",
              "      <td>0</td>\n",
              "      <td>23</td>\n",
              "      <td>28</td>\n",
              "      <td>117</td>\n",
              "      <td>3</td>\n",
              "      <td>0</td>\n",
              "      <td>4.297829</td>\n",
              "    </tr>\n",
              "    <tr>\n",
              "      <th>3</th>\n",
              "      <td>1</td>\n",
              "      <td>23</td>\n",
              "      <td>43</td>\n",
              "      <td>114</td>\n",
              "      <td>11</td>\n",
              "      <td>0</td>\n",
              "      <td>4.723309</td>\n",
              "    </tr>\n",
              "    <tr>\n",
              "      <th>4</th>\n",
              "      <td>0</td>\n",
              "      <td>10</td>\n",
              "      <td>53</td>\n",
              "      <td>119</td>\n",
              "      <td>22</td>\n",
              "      <td>1</td>\n",
              "      <td>4.792809</td>\n",
              "    </tr>\n",
              "  </tbody>\n",
              "</table>\n",
              "</div>"
            ]
          },
          "metadata": {},
          "execution_count": 73
        }
      ],
      "metadata": {}
    },
    {
      "cell_type": "code",
      "execution_count": 75,
      "source": [
        "\n",
        "final_lgb_model = lgb.LGBMRegressor(**trial_params)\n",
        "final_lgb_model.fit(train_X, train_y)\n",
        "final_lgb_pred = final_lgb_model.predict(test_df)"
      ],
      "outputs": [],
      "metadata": {
        "colab": {
          "base_uri": "https://localhost:8080/"
        },
        "id": "sZLpXN1eeG-6",
        "outputId": "45762c6a-d450-4f07-e187-529c0fa8e506"
      }
    },
    {
      "cell_type": "code",
      "execution_count": 76,
      "source": [
        "final_lgb_pred"
      ],
      "outputs": [
        {
          "output_type": "execute_result",
          "data": {
            "text/plain": [
              "array([ 9.84167782,  9.50950727,  9.46179336, ..., 11.28130007,\n",
              "       10.66449222,  9.97341697])"
            ]
          },
          "metadata": {},
          "execution_count": 76
        }
      ],
      "metadata": {
        "colab": {
          "base_uri": "https://localhost:8080/"
        },
        "id": "MavLjMu6kHFz",
        "outputId": "15feb884-080e-4cd1-b432-89cc69ecb030"
      }
    },
    {
      "cell_type": "code",
      "execution_count": 77,
      "source": [
        "plt.barh(train_X.columns, final_lgb_model.feature_importances_)"
      ],
      "outputs": [
        {
          "output_type": "execute_result",
          "data": {
            "text/plain": [
              "<BarContainer object of 7 artists>"
            ]
          },
          "metadata": {},
          "execution_count": 77
        },
        {
          "output_type": "display_data",
          "data": {
            "text/plain": [
              "<Figure size 432x288 with 1 Axes>"
            ],
            "image/png": "[encoded data removed]"
          },
          "metadata": {}
        }
      ],
      "metadata": {
        "colab": {
          "base_uri": "https://localhost:8080/",
          "height": 1000
        },
        "id": "hDinjAqWzZLd",
        "outputId": "3a9d6958-e61a-401c-fd09-03640f2fe117"
      }
    },
    {
      "cell_type": "markdown",
      "source": [
        "- 동, 완공연도, 면적, 아파트명 순으로 중요도가 높다고 나옵니다.\n",
        "- top 시공사는 별로 중요하지 않다고 하네요.."
      ],
      "metadata": {}
    },
    {
      "cell_type": "markdown",
      "source": [
        "## Submission\n",
        "- 이제 제출을 해봅시다.\n",
        "- 가격을 다시 역변환합니다."
      ],
      "metadata": {}
    },
    {
      "cell_type": "code",
      "execution_count": 78,
      "source": [
        "final_pred_sub = np.expm1(final_lgb_pred)\n",
        "final_pred_sub"
      ],
      "outputs": [
        {
          "output_type": "execute_result",
          "data": {
            "text/plain": [
              "array([18800.23465347, 13486.34703954, 12857.92450997, ...,\n",
              "       79323.32224339, 42807.51123102, 21447.64961527])"
            ]
          },
          "metadata": {},
          "execution_count": 78
        }
      ],
      "metadata": {
        "colab": {
          "base_uri": "https://localhost:8080/"
        },
        "id": "wSyQzIK6gX_D",
        "outputId": "86a54ed9-5393-489e-9795-732d3405dfbd"
      }
    },
    {
      "cell_type": "code",
      "execution_count": 79,
      "source": [
        "sub = pd.read_csv('./input/test.csv')\n",
        "sub_df = pd.DataFrame({'transaction_id': sub['transaction_id'], 'transaction_real_price': final_pred_sub})\n",
        "sub_df"
      ],
      "outputs": [
        {
          "output_type": "execute_result",
          "data": {
            "text/plain": [
              "      transaction_id  transaction_real_price\n",
              "0            1145756            18800.234653\n",
              "1            1198704            13486.347040\n",
              "2            1222384            12857.924510\n",
              "3            1179897            58182.963907\n",
              "4            1223091            53350.314435\n",
              "...              ...                     ...\n",
              "5458         1174640            47856.648864\n",
              "5459         1175575           103513.067892\n",
              "5460         1157024            79323.322243\n",
              "5461         1136863            42807.511231\n",
              "5462         1218921            21447.649615\n",
              "\n",
              "[5463 rows x 2 columns]"
            ],
            "text/html": [
              "<div>\n",
              "<style scoped>\n",
              "    .dataframe tbody tr th:only-of-type {\n",
              "        vertical-align: middle;\n",
              "    }\n",
              "\n",
              "    .dataframe tbody tr th {\n",
              "        vertical-align: top;\n",
              "    }\n",
              "\n",
              "    .dataframe thead th {\n",
              "        text-align: right;\n",
              "    }\n",
              "</style>\n",
              "<table border=\"1\" class=\"dataframe\">\n",
              "  <thead>\n",
              "    <tr style=\"text-align: right;\">\n",
              "      <th></th>\n",
              "      <th>transaction_id</th>\n",
              "      <th>transaction_real_price</th>\n",
              "    </tr>\n",
              "  </thead>\n",
              "  <tbody>\n",
              "    <tr>\n",
              "      <th>0</th>\n",
              "      <td>1145756</td>\n",
              "      <td>18800.234653</td>\n",
              "    </tr>\n",
              "    <tr>\n",
              "      <th>1</th>\n",
              "      <td>1198704</td>\n",
              "      <td>13486.347040</td>\n",
              "    </tr>\n",
              "    <tr>\n",
              "      <th>2</th>\n",
              "      <td>1222384</td>\n",
              "      <td>12857.924510</td>\n",
              "    </tr>\n",
              "    <tr>\n",
              "      <th>3</th>\n",
              "      <td>1179897</td>\n",
              "      <td>58182.963907</td>\n",
              "    </tr>\n",
              "    <tr>\n",
              "      <th>4</th>\n",
              "      <td>1223091</td>\n",
              "      <td>53350.314435</td>\n",
              "    </tr>\n",
              "    <tr>\n",
              "      <th>...</th>\n",
              "      <td>...</td>\n",
              "      <td>...</td>\n",
              "    </tr>\n",
              "    <tr>\n",
              "      <th>5458</th>\n",
              "      <td>1174640</td>\n",
              "      <td>47856.648864</td>\n",
              "    </tr>\n",
              "    <tr>\n",
              "      <th>5459</th>\n",
              "      <td>1175575</td>\n",
              "      <td>103513.067892</td>\n",
              "    </tr>\n",
              "    <tr>\n",
              "      <th>5460</th>\n",
              "      <td>1157024</td>\n",
              "      <td>79323.322243</td>\n",
              "    </tr>\n",
              "    <tr>\n",
              "      <th>5461</th>\n",
              "      <td>1136863</td>\n",
              "      <td>42807.511231</td>\n",
              "    </tr>\n",
              "    <tr>\n",
              "      <th>5462</th>\n",
              "      <td>1218921</td>\n",
              "      <td>21447.649615</td>\n",
              "    </tr>\n",
              "  </tbody>\n",
              "</table>\n",
              "<p>5463 rows × 2 columns</p>\n",
              "</div>"
            ]
          },
          "metadata": {},
          "execution_count": 79
        }
      ],
      "metadata": {
        "colab": {
          "base_uri": "https://localhost:8080/",
          "height": 419
        },
        "id": "pGjPIU4PiK74",
        "outputId": "ba4ad473-91fe-42c2-95d8-e0a47fbb57c4"
      }
    },
    {
      "cell_type": "code",
      "execution_count": 80,
      "source": [
        "sub_df.to_csv('submission_lgb_wo_dong.csv', index=False)"
      ],
      "outputs": [],
      "metadata": {
        "id": "-phPm_bkkRDe"
      }
    },
    {
      "cell_type": "markdown",
      "source": [
        "여기까지 따라오시느라 고생하셨습니다.\n",
        "\n",
        "긴 글 봐주셔서 감사합니다:)"
      ],
      "metadata": {}
    }
  ]
}