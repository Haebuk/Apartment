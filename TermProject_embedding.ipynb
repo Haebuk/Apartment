{
  "nbformat": 4,
  "nbformat_minor": 2,
  "metadata": {
    "accelerator": "GPU",
    "colab": {
      "name": "TermProject.ipynb",
      "provenance": [],
      "collapsed_sections": [],
      "machine_shape": "hm",
      "include_colab_link": true
    },
    "kernelspec": {
      "name": "python3",
      "display_name": "Python 3.8.11 64-bit ('rjs': conda)"
    },
    "language_info": {
      "codemirror_mode": {
        "name": "ipython",
        "version": 3
      },
      "file_extension": ".py",
      "mimetype": "text/x-python",
      "name": "python",
      "nbconvert_exporter": "python",
      "pygments_lexer": "ipython3",
      "version": "3.8.11"
    },
    "toc": {
      "base_numbering": 1,
      "nav_menu": {},
      "number_sections": false,
      "sideBar": true,
      "skip_h1_title": false,
      "title_cell": "Table of Contents",
      "title_sidebar": "Contents",
      "toc_cell": false,
      "toc_position": {
        "height": "calc(100% - 180px)",
        "left": "10px",
        "top": "150px",
        "width": "383.997px"
      },
      "toc_section_display": true,
      "toc_window_display": false
    },
    "varInspector": {
      "cols": {
        "lenName": 16,
        "lenType": 16,
        "lenVar": 40
      },
      "kernels_config": {
        "python": {
          "delete_cmd_postfix": "",
          "delete_cmd_prefix": "del ",
          "library": "var_list.py",
          "varRefreshCmd": "print(var_dic_list())"
        },
        "r": {
          "delete_cmd_postfix": ") ",
          "delete_cmd_prefix": "rm(",
          "library": "var_list.r",
          "varRefreshCmd": "cat(var_dic_list()) "
        }
      },
      "types_to_exclude": [
        "module",
        "function",
        "builtin_function_or_method",
        "instance",
        "_Feature"
      ],
      "window_display": false
    },
    "interpreter": {
      "hash": "f32a3fc5fd8ce313736c63c098b3295430bdc02056cb973f73ff524111d36e55"
    }
  },
  "cells": [
    {
      "cell_type": "markdown",
      "source": [
        "# 아파트 실거래가 예측"
      ],
      "metadata": {
        "id": "smxWmS7tyuRz"
      }
    },
    {
      "cell_type": "code",
      "execution_count": 1,
      "source": [
        "import pandas as pd\n",
        "import numpy as np\n",
        "import matplotlib.pyplot as plt\n",
        "import seaborn as sns\n",
        "from tqdm import tqdm\n",
        "from sklearn.linear_model import LinearRegression, ElasticNet, Lasso, Ridge\n",
        "from sklearn.tree import DecisionTreeRegressor\n",
        "from sklearn.ensemble import RandomForestRegressor\n",
        "from sklearn.preprocessing import  LabelEncoder\n",
        "from sklearn.model_selection import TimeSeriesSplit\n",
        "from sklearn.metrics import mean_squared_error\n",
        "from gensim.models.word2vec import Word2Vec\n",
        "import xgboost as xgb\n",
        "import lightgbm as lgb\n",
        "import re\n",
        "import optuna\n",
        "\n",
        "sns.set_theme(style=\"darkgrid\")\n"
      ],
      "outputs": [],
      "metadata": {
        "id": "gUwouTkEyuR3"
      }
    },
    {
      "cell_type": "markdown",
      "source": [
        "## Data Load"
      ],
      "metadata": {
        "id": "1TRIEY3TyuR4"
      }
    },
    {
      "cell_type": "code",
      "execution_count": 2,
      "source": [
        "train_df = pd.read_csv('./input/train.csv')\n",
        "test_df = pd.read_csv('./input/test.csv')"
      ],
      "outputs": [],
      "metadata": {
        "id": "nWFpn1T3yuR5"
      }
    },
    {
      "cell_type": "markdown",
      "source": [
        "### apart"
      ],
      "metadata": {
        "id": "11SmTN0zVJAp"
      }
    },
    {
      "cell_type": "code",
      "execution_count": 3,
      "source": [
        "#괄호와 괄호안내용 제거\n",
        "regex = \"\\(.*\\)|\\s-\\s.*\"\n",
        "for i in tqdm(range(len(train_df))):\n",
        "   train_df.at[i, 'apt'] = re.sub(regex, '', train_df.at[i, 'apt'])\n",
        "for i in tqdm(range(len(test_df))):\n",
        "   test_df.at[i, 'apt'] = re.sub(regex, '', test_df.at[i, 'apt'])   "
      ],
      "outputs": [
        {
          "output_type": "stream",
          "name": "stderr",
          "text": [
            "100%|██████████| 1216553/1216553 [00:24<00:00, 48730.01it/s]\n",
            "100%|██████████| 5463/5463 [00:00<00:00, 121724.19it/s]\n"
          ]
        }
      ],
      "metadata": {
        "id": "hqTsDvMvXNr7"
      }
    },
    {
      "cell_type": "code",
      "execution_count": 4,
      "source": [
        "# top 10 시공사 아파트 여부를 나타내는 컬럼 생성\n",
        "train_df['top10'] = 0\n",
        "test_df['top10'] = 0\n",
        "top10 = ['자이', '푸르지오', '더샵', '롯데캐슬', '이편한|e편한|e-편한',\n",
        "         '힐스테이트', '아이파크', '래미안', 'sk|SK|에스케이', '데시앙']\n",
        "\n",
        "train_df['apt'] = train_df['apt'].fillna('others')\n",
        "# top 10 시공사면 1, 아니면 0\n",
        "for i, brand in enumerate(top10):\n",
        "    train_df.loc[train_df['apt'].str.contains(brand), 'top10'] = 1\n",
        "    test_df.loc[test_df['apt'].str.contains(brand), 'top10'] = 1\n"
      ],
      "outputs": [],
      "metadata": {
        "id": "Tv03aoj2pLdG"
      }
    },
    {
      "cell_type": "code",
      "execution_count": 5,
      "source": [
        "# model = Word2Vec([train_df['apt'].values.tolist()], min_count=1, vector_size=1024, sg=1, epochs=100)\n",
        "# model.save('apt_w2v_1024_sg_100.model')"
      ],
      "outputs": [],
      "metadata": {
        "id": "6e_NdtpjTRhZ"
      }
    },
    {
      "cell_type": "code",
      "execution_count": 5,
      "source": [
        "apt_w2v = Word2Vec.load('apt_w2v_1024_sg_100.model')"
      ],
      "outputs": [],
      "metadata": {}
    },
    {
      "cell_type": "code",
      "execution_count": 6,
      "source": [
        "apt_w2v.wv.most_similar('현대')"
      ],
      "outputs": [
        {
          "output_type": "execute_result",
          "data": {
            "text/plain": [
              "[('삼성', 0.9643094539642334),\n",
              " ('구암하이빌', 0.9511270523071289),\n",
              " ('세종아파트', 0.9471513032913208),\n",
              " ('프라임1', 0.9401869177818298),\n",
              " ('그린빌', 0.9393579363822937),\n",
              " ('청호그린빌', 0.9378136396408081),\n",
              " ('프라임캐슬', 0.9373813271522522),\n",
              " ('무악다온채', 0.936416506767273),\n",
              " ('동산빌라', 0.9331886172294617),\n",
              " ('인왕산2차아이파크', 0.9328047037124634)]"
            ]
          },
          "metadata": {},
          "execution_count": 6
        }
      ],
      "metadata": {}
    },
    {
      "cell_type": "code",
      "execution_count": 7,
      "source": [
        "train_df['apt_embedded'] = train_df['apt'].apply(lambda x: apt_w2v.wv[x])"
      ],
      "outputs": [],
      "metadata": {}
    },
    {
      "cell_type": "code",
      "execution_count": 9,
      "source": [
        "train_df.head()"
      ],
      "outputs": [
        {
          "output_type": "execute_result",
          "data": {
            "text/plain": [
              "   transaction_id  apartment_id   city dong   jibun     apt  \\\n",
              "0               0          7622  서울특별시  신교동    6-13      신현   \n",
              "1               1          5399  서울특별시  필운동     142  사직파크맨션   \n",
              "2               2          3578  서울특별시  필운동   174-1  두레엘리시안   \n",
              "3               3         10957  서울특별시  내수동      95   파크팰리스   \n",
              "4               4         10639  서울특별시  내수동  110-15    킹스매너   \n",
              "\n",
              "             addr_kr  exclusive_use_area  year_of_completion  \\\n",
              "0  신교동 6-13 신현(101동)               84.82                2002   \n",
              "1     필운동 142 사직파크맨션               99.17                1973   \n",
              "2   필운동 174-1 두레엘리시안               84.74                2007   \n",
              "3       내수동 95 파크팰리스              146.39                2003   \n",
              "4    내수동 110-15 킹스매너              194.43                2004   \n",
              "\n",
              "   transaction_year_month transaction_date  floor  transaction_real_price  \\\n",
              "0                  200801            21~31      2                   37500   \n",
              "1                  200801             1~10      6                   20000   \n",
              "2                  200801             1~10      6                   38500   \n",
              "3                  200801            11~20     15                  118000   \n",
              "4                  200801            21~31      3                  120000   \n",
              "\n",
              "   top10                                       apt_embedded  \n",
              "0      0  [-0.10752576, -0.18122844, -0.07227908, 0.0448...  \n",
              "1      0  [-0.053165514, -0.1006416, -0.07624212, 0.0012...  \n",
              "2      0  [-0.06343027, -0.19215204, -0.06197246, 0.0544...  \n",
              "3      0  [-0.036577757, -0.24322, -0.1593426, 0.0263538...  \n",
              "4      0  [-0.02274445, -0.20998694, -0.12684277, 0.0276...  "
            ],
            "text/html": [
              "<div>\n",
              "<style scoped>\n",
              "    .dataframe tbody tr th:only-of-type {\n",
              "        vertical-align: middle;\n",
              "    }\n",
              "\n",
              "    .dataframe tbody tr th {\n",
              "        vertical-align: top;\n",
              "    }\n",
              "\n",
              "    .dataframe thead th {\n",
              "        text-align: right;\n",
              "    }\n",
              "</style>\n",
              "<table border=\"1\" class=\"dataframe\">\n",
              "  <thead>\n",
              "    <tr style=\"text-align: right;\">\n",
              "      <th></th>\n",
              "      <th>transaction_id</th>\n",
              "      <th>apartment_id</th>\n",
              "      <th>city</th>\n",
              "      <th>dong</th>\n",
              "      <th>jibun</th>\n",
              "      <th>apt</th>\n",
              "      <th>addr_kr</th>\n",
              "      <th>exclusive_use_area</th>\n",
              "      <th>year_of_completion</th>\n",
              "      <th>transaction_year_month</th>\n",
              "      <th>transaction_date</th>\n",
              "      <th>floor</th>\n",
              "      <th>transaction_real_price</th>\n",
              "      <th>top10</th>\n",
              "      <th>apt_embedded</th>\n",
              "    </tr>\n",
              "  </thead>\n",
              "  <tbody>\n",
              "    <tr>\n",
              "      <th>0</th>\n",
              "      <td>0</td>\n",
              "      <td>7622</td>\n",
              "      <td>서울특별시</td>\n",
              "      <td>신교동</td>\n",
              "      <td>6-13</td>\n",
              "      <td>신현</td>\n",
              "      <td>신교동 6-13 신현(101동)</td>\n",
              "      <td>84.82</td>\n",
              "      <td>2002</td>\n",
              "      <td>200801</td>\n",
              "      <td>21~31</td>\n",
              "      <td>2</td>\n",
              "      <td>37500</td>\n",
              "      <td>0</td>\n",
              "      <td>[-0.10752576, -0.18122844, -0.07227908, 0.0448...</td>\n",
              "    </tr>\n",
              "    <tr>\n",
              "      <th>1</th>\n",
              "      <td>1</td>\n",
              "      <td>5399</td>\n",
              "      <td>서울특별시</td>\n",
              "      <td>필운동</td>\n",
              "      <td>142</td>\n",
              "      <td>사직파크맨션</td>\n",
              "      <td>필운동 142 사직파크맨션</td>\n",
              "      <td>99.17</td>\n",
              "      <td>1973</td>\n",
              "      <td>200801</td>\n",
              "      <td>1~10</td>\n",
              "      <td>6</td>\n",
              "      <td>20000</td>\n",
              "      <td>0</td>\n",
              "      <td>[-0.053165514, -0.1006416, -0.07624212, 0.0012...</td>\n",
              "    </tr>\n",
              "    <tr>\n",
              "      <th>2</th>\n",
              "      <td>2</td>\n",
              "      <td>3578</td>\n",
              "      <td>서울특별시</td>\n",
              "      <td>필운동</td>\n",
              "      <td>174-1</td>\n",
              "      <td>두레엘리시안</td>\n",
              "      <td>필운동 174-1 두레엘리시안</td>\n",
              "      <td>84.74</td>\n",
              "      <td>2007</td>\n",
              "      <td>200801</td>\n",
              "      <td>1~10</td>\n",
              "      <td>6</td>\n",
              "      <td>38500</td>\n",
              "      <td>0</td>\n",
              "      <td>[-0.06343027, -0.19215204, -0.06197246, 0.0544...</td>\n",
              "    </tr>\n",
              "    <tr>\n",
              "      <th>3</th>\n",
              "      <td>3</td>\n",
              "      <td>10957</td>\n",
              "      <td>서울특별시</td>\n",
              "      <td>내수동</td>\n",
              "      <td>95</td>\n",
              "      <td>파크팰리스</td>\n",
              "      <td>내수동 95 파크팰리스</td>\n",
              "      <td>146.39</td>\n",
              "      <td>2003</td>\n",
              "      <td>200801</td>\n",
              "      <td>11~20</td>\n",
              "      <td>15</td>\n",
              "      <td>118000</td>\n",
              "      <td>0</td>\n",
              "      <td>[-0.036577757, -0.24322, -0.1593426, 0.0263538...</td>\n",
              "    </tr>\n",
              "    <tr>\n",
              "      <th>4</th>\n",
              "      <td>4</td>\n",
              "      <td>10639</td>\n",
              "      <td>서울특별시</td>\n",
              "      <td>내수동</td>\n",
              "      <td>110-15</td>\n",
              "      <td>킹스매너</td>\n",
              "      <td>내수동 110-15 킹스매너</td>\n",
              "      <td>194.43</td>\n",
              "      <td>2004</td>\n",
              "      <td>200801</td>\n",
              "      <td>21~31</td>\n",
              "      <td>3</td>\n",
              "      <td>120000</td>\n",
              "      <td>0</td>\n",
              "      <td>[-0.02274445, -0.20998694, -0.12684277, 0.0276...</td>\n",
              "    </tr>\n",
              "  </tbody>\n",
              "</table>\n",
              "</div>"
            ]
          },
          "metadata": {},
          "execution_count": 9
        }
      ],
      "metadata": {}
    },
    {
      "cell_type": "markdown",
      "source": [
        "### date\n",
        "apt 전처리는 마쳤으니, 이번에는 date로 넘어가봅시다."
      ],
      "metadata": {
        "id": "wawdc1-NzQD3"
      }
    },
    {
      "cell_type": "code",
      "execution_count": 8,
      "source": [
        "# test 시작 거래연월인 인덱스 저장\n",
        "test_start = train_df.loc[train_df['transaction_year_month'] == 201701, 'transaction_year_month'].index[0]"
      ],
      "outputs": [],
      "metadata": {}
    },
    {
      "cell_type": "code",
      "execution_count": 9,
      "source": [
        "# 완공연도에서 최소연도를 뺌으로써 완공연도 라벨인코딩\n",
        "print('변환전\\n', train_df['year_of_completion'].unique()[:5])\n",
        "train_df['year_of_completion'] = train_df['year_of_completion'] - train_df['year_of_completion'].min()\n",
        "test_df['year_of_completion'] = test_df['year_of_completion'] - test_df['year_of_completion'].min()\n",
        "print('변환후\\n', train_df['year_of_completion'].unique()[:5])\n",
        "\n",
        "# 연월 증가하는 순으로 라벨 인코딩\n",
        "print('train 변환전\\n', train_df['transaction_year_month'].unique()[:5])\n",
        "print('test 변환전\\n', test_df['transaction_year_month'].unique()[:5])\n",
        "le = LabelEncoder()\n",
        "train_df['transaction_year_month'] = le.fit_transform(train_df['transaction_year_month'])\n",
        "# test는 다음과 같이 처리\n",
        "test_df['transaction_year_month'] = test_df['transaction_year_month'] - test_df['transaction_year_month'].min() + train_df.at[test_start, 'transaction_year_month']\n",
        "print('train 변환후\\n', train_df['transaction_year_month'].unique()[:5])\n",
        "print('test 변환후\\n', test_df['transaction_year_month'].unique()[:5])\n",
        "\n",
        "# 필요없는 열 제거\n",
        "train_df = train_df.drop(['jibun', 'transaction_date', 'addr_kr'], axis=1)\n",
        "test_df = test_df.drop(['jibun', 'transaction_date', 'addr_kr'], axis=1)"
      ],
      "outputs": [
        {
          "output_type": "stream",
          "name": "stdout",
          "text": [
            "변환전\n",
            " [2002 1973 2007 2003 2004]\n",
            "변환후\n",
            " [41 12 46 42 43]\n",
            "train 변환전\n",
            " [200801 200802 200803 200804 200805]\n",
            "test 변환전\n",
            " [201711 201708 201710 201707 201712]\n",
            "train 변환후\n",
            " [0 1 2 3 4]\n",
            "test 변환후\n",
            " [118 115 117 114 119]\n"
          ]
        }
      ],
      "metadata": {
        "id": "OFOkDMGoCd35",
        "colab": {
          "base_uri": "https://localhost:8080/"
        },
        "outputId": "496a9a09-1774-4670-a8d0-deb85e4728d3"
      }
    },
    {
      "cell_type": "markdown",
      "source": [
        "### dong\n",
        "- 이번에는 주소의 동입니다.\n",
        "- 먼저 서울과 부산에서 같은 이름을 가진 동이 있는지 확인해보겠습니다."
      ],
      "metadata": {
        "id": "A2MobnpAFtge"
      }
    },
    {
      "cell_type": "code",
      "execution_count": 10,
      "source": [
        "seoul_set = set(train_df.loc[train_df['city']=='서울특별시', 'dong'])\n",
        "busan_set = set(train_df.loc[train_df['city']=='부산광역시', 'dong'])\n",
        "same_dong = seoul_set & busan_set \n",
        "print(same_dong)"
      ],
      "outputs": [
        {
          "output_type": "stream",
          "name": "stdout",
          "text": [
            "{'중동', '사직동', '부암동', '송정동'}\n"
          ]
        }
      ],
      "metadata": {
        "colab": {
          "base_uri": "https://localhost:8080/"
        },
        "id": "vQCgXMAfxAiq",
        "outputId": "007f59c5-b780-4061-abbd-100513827d8f"
      }
    },
    {
      "cell_type": "markdown",
      "source": [
        "- 서울과 부산에 중동, 부암동, 송정동, 사직동 총 네 동이 겹칩니다.\n",
        "- 접두사에 서울 또는 부산을 붙여 같은동을 분리하겠습니다."
      ],
      "metadata": {
        "id": "blkoRsDFLwGu"
      }
    },
    {
      "cell_type": "code",
      "execution_count": 11,
      "source": [
        "for d in same_dong:\n",
        "    train_df.loc[(train_df['city']=='서울특별시') & (train_df['dong']==d), 'dong'] = '서울' + d\n",
        "    train_df.loc[(train_df['city']=='부산광역시') & (train_df['dong']==d), 'dong'] = '부산' + d\n",
        "    test_df.loc[(test_df['city']=='서울특별시') & (test_df['dong']==d), 'dong'] = '서울' + d\n",
        "    test_df.loc[(test_df['city']=='부산광역시') & (test_df['dong']==d), 'dong'] = '부산' + d\n",
        "    \n",
        "\n",
        "seoul_set = set(train_df.loc[train_df['city']=='서울특별시', 'dong'])\n",
        "busan_set = set(train_df.loc[train_df['city']=='부산광역시', 'dong'])\n",
        "same_dong = seoul_set & busan_set\n",
        "print(same_dong)  "
      ],
      "outputs": [
        {
          "output_type": "stream",
          "name": "stdout",
          "text": [
            "set()\n"
          ]
        }
      ],
      "metadata": {
        "colab": {
          "base_uri": "https://localhost:8080/"
        },
        "id": "K0CXRKKrFzTY",
        "outputId": "de28ff2e-871c-46dd-ba81-514f005b597c"
      }
    },
    {
      "cell_type": "code",
      "execution_count": 12,
      "source": [
        "# model = Word2Vec([train_df['dong'].values.tolist()], min_count=1, vector_size=1024, sg=1, epochs=100)\n",
        "# model.save('dong_w2v_1024_sg_100.model')\n",
        "dong_w2v = Word2Vec.load('dong_w2v_1024_sg_100.model')\n",
        "train_df['dong_embedded'] = train_df['dong'].apply(lambda x: dong_w2v.wv[x])\n",
        "train_df.head()"
      ],
      "outputs": [
        {
          "output_type": "execute_result",
          "data": {
            "text/plain": [
              "   transaction_id  apartment_id   city dong     apt  exclusive_use_area  \\\n",
              "0               0          7622  서울특별시  신교동      신현               84.82   \n",
              "1               1          5399  서울특별시  필운동  사직파크맨션               99.17   \n",
              "2               2          3578  서울특별시  필운동  두레엘리시안               84.74   \n",
              "3               3         10957  서울특별시  내수동   파크팰리스              146.39   \n",
              "4               4         10639  서울특별시  내수동    킹스매너              194.43   \n",
              "\n",
              "   year_of_completion  transaction_year_month  floor  transaction_real_price  \\\n",
              "0                  41                       0      2                   37500   \n",
              "1                  12                       0      6                   20000   \n",
              "2                  46                       0      6                   38500   \n",
              "3                  42                       0     15                  118000   \n",
              "4                  43                       0      3                  120000   \n",
              "\n",
              "   top10                                       apt_embedded  \\\n",
              "0      0  [-0.10752576, -0.18122844, -0.07227908, 0.0448...   \n",
              "1      0  [-0.053165514, -0.1006416, -0.07624212, 0.0012...   \n",
              "2      0  [-0.06343027, -0.19215204, -0.06197246, 0.0544...   \n",
              "3      0  [-0.036577757, -0.24322, -0.1593426, 0.0263538...   \n",
              "4      0  [-0.02274445, -0.20998694, -0.12684277, 0.0276...   \n",
              "\n",
              "                                       dong_embedded  \n",
              "0  [0.17256321, -0.0375122, 0.09505555, 0.0194796...  \n",
              "1  [0.22832519, 0.015710473, 0.1406205, -0.012602...  \n",
              "2  [0.22832519, 0.015710473, 0.1406205, -0.012602...  \n",
              "3  [0.12117733, -0.03002017, 0.12184901, -0.05570...  \n",
              "4  [0.12117733, -0.03002017, 0.12184901, -0.05570...  "
            ],
            "text/html": [
              "<div>\n",
              "<style scoped>\n",
              "    .dataframe tbody tr th:only-of-type {\n",
              "        vertical-align: middle;\n",
              "    }\n",
              "\n",
              "    .dataframe tbody tr th {\n",
              "        vertical-align: top;\n",
              "    }\n",
              "\n",
              "    .dataframe thead th {\n",
              "        text-align: right;\n",
              "    }\n",
              "</style>\n",
              "<table border=\"1\" class=\"dataframe\">\n",
              "  <thead>\n",
              "    <tr style=\"text-align: right;\">\n",
              "      <th></th>\n",
              "      <th>transaction_id</th>\n",
              "      <th>apartment_id</th>\n",
              "      <th>city</th>\n",
              "      <th>dong</th>\n",
              "      <th>apt</th>\n",
              "      <th>exclusive_use_area</th>\n",
              "      <th>year_of_completion</th>\n",
              "      <th>transaction_year_month</th>\n",
              "      <th>floor</th>\n",
              "      <th>transaction_real_price</th>\n",
              "      <th>top10</th>\n",
              "      <th>apt_embedded</th>\n",
              "      <th>dong_embedded</th>\n",
              "    </tr>\n",
              "  </thead>\n",
              "  <tbody>\n",
              "    <tr>\n",
              "      <th>0</th>\n",
              "      <td>0</td>\n",
              "      <td>7622</td>\n",
              "      <td>서울특별시</td>\n",
              "      <td>신교동</td>\n",
              "      <td>신현</td>\n",
              "      <td>84.82</td>\n",
              "      <td>41</td>\n",
              "      <td>0</td>\n",
              "      <td>2</td>\n",
              "      <td>37500</td>\n",
              "      <td>0</td>\n",
              "      <td>[-0.10752576, -0.18122844, -0.07227908, 0.0448...</td>\n",
              "      <td>[0.17256321, -0.0375122, 0.09505555, 0.0194796...</td>\n",
              "    </tr>\n",
              "    <tr>\n",
              "      <th>1</th>\n",
              "      <td>1</td>\n",
              "      <td>5399</td>\n",
              "      <td>서울특별시</td>\n",
              "      <td>필운동</td>\n",
              "      <td>사직파크맨션</td>\n",
              "      <td>99.17</td>\n",
              "      <td>12</td>\n",
              "      <td>0</td>\n",
              "      <td>6</td>\n",
              "      <td>20000</td>\n",
              "      <td>0</td>\n",
              "      <td>[-0.053165514, -0.1006416, -0.07624212, 0.0012...</td>\n",
              "      <td>[0.22832519, 0.015710473, 0.1406205, -0.012602...</td>\n",
              "    </tr>\n",
              "    <tr>\n",
              "      <th>2</th>\n",
              "      <td>2</td>\n",
              "      <td>3578</td>\n",
              "      <td>서울특별시</td>\n",
              "      <td>필운동</td>\n",
              "      <td>두레엘리시안</td>\n",
              "      <td>84.74</td>\n",
              "      <td>46</td>\n",
              "      <td>0</td>\n",
              "      <td>6</td>\n",
              "      <td>38500</td>\n",
              "      <td>0</td>\n",
              "      <td>[-0.06343027, -0.19215204, -0.06197246, 0.0544...</td>\n",
              "      <td>[0.22832519, 0.015710473, 0.1406205, -0.012602...</td>\n",
              "    </tr>\n",
              "    <tr>\n",
              "      <th>3</th>\n",
              "      <td>3</td>\n",
              "      <td>10957</td>\n",
              "      <td>서울특별시</td>\n",
              "      <td>내수동</td>\n",
              "      <td>파크팰리스</td>\n",
              "      <td>146.39</td>\n",
              "      <td>42</td>\n",
              "      <td>0</td>\n",
              "      <td>15</td>\n",
              "      <td>118000</td>\n",
              "      <td>0</td>\n",
              "      <td>[-0.036577757, -0.24322, -0.1593426, 0.0263538...</td>\n",
              "      <td>[0.12117733, -0.03002017, 0.12184901, -0.05570...</td>\n",
              "    </tr>\n",
              "    <tr>\n",
              "      <th>4</th>\n",
              "      <td>4</td>\n",
              "      <td>10639</td>\n",
              "      <td>서울특별시</td>\n",
              "      <td>내수동</td>\n",
              "      <td>킹스매너</td>\n",
              "      <td>194.43</td>\n",
              "      <td>43</td>\n",
              "      <td>0</td>\n",
              "      <td>3</td>\n",
              "      <td>120000</td>\n",
              "      <td>0</td>\n",
              "      <td>[-0.02274445, -0.20998694, -0.12684277, 0.0276...</td>\n",
              "      <td>[0.12117733, -0.03002017, 0.12184901, -0.05570...</td>\n",
              "    </tr>\n",
              "  </tbody>\n",
              "</table>\n",
              "</div>"
            ]
          },
          "metadata": {},
          "execution_count": 12
        }
      ],
      "metadata": {
        "colab": {
          "base_uri": "https://localhost:8080/"
        },
        "id": "QXlhPfyKINGd",
        "outputId": "569b0615-54b9-4fa9-b902-1df3c1868092"
      }
    },
    {
      "cell_type": "markdown",
      "source": [
        "### Floor"
      ],
      "metadata": {
        "id": "Clo1cRwm9Q96"
      }
    },
    {
      "cell_type": "code",
      "execution_count": 15,
      "source": [
        "train_df.describe()"
      ],
      "outputs": [
        {
          "output_type": "execute_result",
          "data": {
            "text/plain": [
              "       transaction_id  apartment_id  exclusive_use_area  year_of_completion  \\\n",
              "count    1.216553e+06  1.216553e+06        1.216553e+06        1.216553e+06   \n",
              "mean     6.091530e+05  6.299685e+03        7.816549e+01        3.729657e+01   \n",
              "std      3.526198e+05  3.581169e+03        2.915113e+01        8.941347e+00   \n",
              "min      0.000000e+00  0.000000e+00        9.260000e+00        0.000000e+00   \n",
              "25%      3.041380e+05  3.345000e+03        5.976000e+01        3.200000e+01   \n",
              "50%      6.082760e+05  5.964000e+03        8.241000e+01        3.800000e+01   \n",
              "75%      9.124140e+05  9.436000e+03        8.497000e+01        4.400000e+01   \n",
              "max      1.234827e+06  1.265800e+04        4.243200e+02        5.600000e+01   \n",
              "\n",
              "       transaction_year_month         floor  transaction_real_price  \\\n",
              "count            1.216553e+06  1.216553e+06            1.216553e+06   \n",
              "mean             6.437834e+01  9.343291e+00            3.822769e+04   \n",
              "std              3.509363e+01  6.606500e+00            3.104898e+04   \n",
              "min              0.000000e+00 -4.000000e+00            1.000000e+02   \n",
              "25%              3.300000e+01  4.000000e+00            1.900000e+04   \n",
              "50%              7.100000e+01  8.000000e+00            3.090000e+04   \n",
              "75%              9.400000e+01  1.300000e+01            4.700000e+04   \n",
              "max              1.180000e+02  8.000000e+01            8.200000e+05   \n",
              "\n",
              "              top10  \n",
              "count  1.216553e+06  \n",
              "mean   1.234225e-01  \n",
              "std    3.289217e-01  \n",
              "min    0.000000e+00  \n",
              "25%    0.000000e+00  \n",
              "50%    0.000000e+00  \n",
              "75%    0.000000e+00  \n",
              "max    1.000000e+00  "
            ],
            "text/html": [
              "<div>\n",
              "<style scoped>\n",
              "    .dataframe tbody tr th:only-of-type {\n",
              "        vertical-align: middle;\n",
              "    }\n",
              "\n",
              "    .dataframe tbody tr th {\n",
              "        vertical-align: top;\n",
              "    }\n",
              "\n",
              "    .dataframe thead th {\n",
              "        text-align: right;\n",
              "    }\n",
              "</style>\n",
              "<table border=\"1\" class=\"dataframe\">\n",
              "  <thead>\n",
              "    <tr style=\"text-align: right;\">\n",
              "      <th></th>\n",
              "      <th>transaction_id</th>\n",
              "      <th>apartment_id</th>\n",
              "      <th>exclusive_use_area</th>\n",
              "      <th>year_of_completion</th>\n",
              "      <th>transaction_year_month</th>\n",
              "      <th>floor</th>\n",
              "      <th>transaction_real_price</th>\n",
              "      <th>top10</th>\n",
              "    </tr>\n",
              "  </thead>\n",
              "  <tbody>\n",
              "    <tr>\n",
              "      <th>count</th>\n",
              "      <td>1.216553e+06</td>\n",
              "      <td>1.216553e+06</td>\n",
              "      <td>1.216553e+06</td>\n",
              "      <td>1.216553e+06</td>\n",
              "      <td>1.216553e+06</td>\n",
              "      <td>1.216553e+06</td>\n",
              "      <td>1.216553e+06</td>\n",
              "      <td>1.216553e+06</td>\n",
              "    </tr>\n",
              "    <tr>\n",
              "      <th>mean</th>\n",
              "      <td>6.091530e+05</td>\n",
              "      <td>6.299685e+03</td>\n",
              "      <td>7.816549e+01</td>\n",
              "      <td>3.729657e+01</td>\n",
              "      <td>6.437834e+01</td>\n",
              "      <td>9.343291e+00</td>\n",
              "      <td>3.822769e+04</td>\n",
              "      <td>1.234225e-01</td>\n",
              "    </tr>\n",
              "    <tr>\n",
              "      <th>std</th>\n",
              "      <td>3.526198e+05</td>\n",
              "      <td>3.581169e+03</td>\n",
              "      <td>2.915113e+01</td>\n",
              "      <td>8.941347e+00</td>\n",
              "      <td>3.509363e+01</td>\n",
              "      <td>6.606500e+00</td>\n",
              "      <td>3.104898e+04</td>\n",
              "      <td>3.289217e-01</td>\n",
              "    </tr>\n",
              "    <tr>\n",
              "      <th>min</th>\n",
              "      <td>0.000000e+00</td>\n",
              "      <td>0.000000e+00</td>\n",
              "      <td>9.260000e+00</td>\n",
              "      <td>0.000000e+00</td>\n",
              "      <td>0.000000e+00</td>\n",
              "      <td>-4.000000e+00</td>\n",
              "      <td>1.000000e+02</td>\n",
              "      <td>0.000000e+00</td>\n",
              "    </tr>\n",
              "    <tr>\n",
              "      <th>25%</th>\n",
              "      <td>3.041380e+05</td>\n",
              "      <td>3.345000e+03</td>\n",
              "      <td>5.976000e+01</td>\n",
              "      <td>3.200000e+01</td>\n",
              "      <td>3.300000e+01</td>\n",
              "      <td>4.000000e+00</td>\n",
              "      <td>1.900000e+04</td>\n",
              "      <td>0.000000e+00</td>\n",
              "    </tr>\n",
              "    <tr>\n",
              "      <th>50%</th>\n",
              "      <td>6.082760e+05</td>\n",
              "      <td>5.964000e+03</td>\n",
              "      <td>8.241000e+01</td>\n",
              "      <td>3.800000e+01</td>\n",
              "      <td>7.100000e+01</td>\n",
              "      <td>8.000000e+00</td>\n",
              "      <td>3.090000e+04</td>\n",
              "      <td>0.000000e+00</td>\n",
              "    </tr>\n",
              "    <tr>\n",
              "      <th>75%</th>\n",
              "      <td>9.124140e+05</td>\n",
              "      <td>9.436000e+03</td>\n",
              "      <td>8.497000e+01</td>\n",
              "      <td>4.400000e+01</td>\n",
              "      <td>9.400000e+01</td>\n",
              "      <td>1.300000e+01</td>\n",
              "      <td>4.700000e+04</td>\n",
              "      <td>0.000000e+00</td>\n",
              "    </tr>\n",
              "    <tr>\n",
              "      <th>max</th>\n",
              "      <td>1.234827e+06</td>\n",
              "      <td>1.265800e+04</td>\n",
              "      <td>4.243200e+02</td>\n",
              "      <td>5.600000e+01</td>\n",
              "      <td>1.180000e+02</td>\n",
              "      <td>8.000000e+01</td>\n",
              "      <td>8.200000e+05</td>\n",
              "      <td>1.000000e+00</td>\n",
              "    </tr>\n",
              "  </tbody>\n",
              "</table>\n",
              "</div>"
            ]
          },
          "metadata": {},
          "execution_count": 15
        }
      ],
      "metadata": {
        "colab": {
          "base_uri": "https://localhost:8080/",
          "height": 289
        },
        "id": "E52JpjJGEXsQ",
        "outputId": "d09ccb38-9ef0-4e58-e9f1-1b48c39f5ce6"
      }
    },
    {
      "cell_type": "markdown",
      "source": [
        "- 최소층이 -4층임을 확인할 수 있습니다.\n",
        "- 4를 더해서 라벨인코딩을 진행해줍니다.\n",
        "- test는 최소층이 -1층이었으니 맞게 변환합니다."
      ],
      "metadata": {}
    },
    {
      "cell_type": "code",
      "execution_count": 13,
      "source": [
        "# 최소값이 -4이므로 4를 더해서 음수를 없애고 순서형범주처리\n",
        "print('변환전\\n', train_df['floor'].values[:5])\n",
        "train_df['floor'] = train_df['floor'].map(lambda x: x+4)\n",
        "test_df['floor'] = test_df['floor'].map(lambda x: x+1)\n",
        "print('변환후\\n', train_df['floor'].values[:5])"
      ],
      "outputs": [
        {
          "output_type": "stream",
          "name": "stdout",
          "text": [
            "변환전\n",
            " [ 2  6  6 15  3]\n",
            "변환후\n",
            " [ 6 10 10 19  7]\n"
          ]
        }
      ],
      "metadata": {
        "colab": {
          "base_uri": "https://localhost:8080/"
        },
        "id": "nK9SRgPE9SXB",
        "outputId": "b5dd85c9-727d-45b3-bbe2-517823be3018"
      }
    },
    {
      "cell_type": "markdown",
      "source": [
        "### Price\n",
        "- 이제 타겟데이터를 살펴보겠습니다."
      ],
      "metadata": {
        "id": "VF5P_T3_yuR9"
      }
    },
    {
      "cell_type": "markdown",
      "source": [
        "- 가격의 분포가 매우 왼쪽으로 치우친 것을 확인할 수 있습니다.\n",
        "- 타겟 변수의 이상치가 회귀모형을 사용한 예측에 큰 영향을 줄 수 있으니,\n",
        "    - 로그 변환으로 정규화한뒤, 나중에 다시 역변환하겠습니다!"
      ],
      "metadata": {
        "id": "ZLsEvIOVyuR-"
      }
    },
    {
      "cell_type": "code",
      "execution_count": 14,
      "source": [
        "# 가격 로그 변환 후 원래 가격 따로 저장\n",
        "train_df['log_price'] = np.log1p(train_df['transaction_real_price'])\n",
        "real_price = train_df['transaction_real_price'] # 원래 가격\n",
        "train_df.drop('transaction_real_price', axis=1, inplace=True)\n",
        "train_df.head(1)"
      ],
      "outputs": [
        {
          "output_type": "execute_result",
          "data": {
            "text/plain": [
              "   transaction_id  apartment_id   city dong apt  exclusive_use_area  \\\n",
              "0               0          7622  서울특별시  신교동  신현               84.82   \n",
              "\n",
              "   year_of_completion  transaction_year_month  floor  top10  \\\n",
              "0                  41                       0      6      0   \n",
              "\n",
              "                                        apt_embedded  \\\n",
              "0  [-0.10752576, -0.18122844, -0.07227908, 0.0448...   \n",
              "\n",
              "                                       dong_embedded  log_price  \n",
              "0  [0.17256321, -0.0375122, 0.09505555, 0.0194796...  10.532123  "
            ],
            "text/html": [
              "<div>\n",
              "<style scoped>\n",
              "    .dataframe tbody tr th:only-of-type {\n",
              "        vertical-align: middle;\n",
              "    }\n",
              "\n",
              "    .dataframe tbody tr th {\n",
              "        vertical-align: top;\n",
              "    }\n",
              "\n",
              "    .dataframe thead th {\n",
              "        text-align: right;\n",
              "    }\n",
              "</style>\n",
              "<table border=\"1\" class=\"dataframe\">\n",
              "  <thead>\n",
              "    <tr style=\"text-align: right;\">\n",
              "      <th></th>\n",
              "      <th>transaction_id</th>\n",
              "      <th>apartment_id</th>\n",
              "      <th>city</th>\n",
              "      <th>dong</th>\n",
              "      <th>apt</th>\n",
              "      <th>exclusive_use_area</th>\n",
              "      <th>year_of_completion</th>\n",
              "      <th>transaction_year_month</th>\n",
              "      <th>floor</th>\n",
              "      <th>top10</th>\n",
              "      <th>apt_embedded</th>\n",
              "      <th>dong_embedded</th>\n",
              "      <th>log_price</th>\n",
              "    </tr>\n",
              "  </thead>\n",
              "  <tbody>\n",
              "    <tr>\n",
              "      <th>0</th>\n",
              "      <td>0</td>\n",
              "      <td>7622</td>\n",
              "      <td>서울특별시</td>\n",
              "      <td>신교동</td>\n",
              "      <td>신현</td>\n",
              "      <td>84.82</td>\n",
              "      <td>41</td>\n",
              "      <td>0</td>\n",
              "      <td>6</td>\n",
              "      <td>0</td>\n",
              "      <td>[-0.10752576, -0.18122844, -0.07227908, 0.0448...</td>\n",
              "      <td>[0.17256321, -0.0375122, 0.09505555, 0.0194796...</td>\n",
              "      <td>10.532123</td>\n",
              "    </tr>\n",
              "  </tbody>\n",
              "</table>\n",
              "</div>"
            ]
          },
          "metadata": {},
          "execution_count": 14
        }
      ],
      "metadata": {
        "colab": {
          "base_uri": "https://localhost:8080/",
          "height": 78
        },
        "id": "m6K6o48uJ-K8",
        "outputId": "3458fa07-891c-4fbb-966b-7018d9757965"
      }
    },
    {
      "cell_type": "code",
      "execution_count": 15,
      "source": [
        "# 면적 로그 변환 후 원래 면적 따로 저장\n",
        "train_df['log_area'] = np.log1p(train_df['exclusive_use_area'])\n",
        "test_df['log_area'] = np.log1p(test_df['exclusive_use_area'])\n",
        "area = train_df['exclusive_use_area'] # 원래 가격\n",
        "train_df.drop('exclusive_use_area', axis=1, inplace=True)\n",
        "test_df.drop('exclusive_use_area', axis=1, inplace=True)\n",
        "train_df.head(1)"
      ],
      "outputs": [
        {
          "output_type": "execute_result",
          "data": {
            "text/plain": [
              "   transaction_id  apartment_id   city dong apt  year_of_completion  \\\n",
              "0               0          7622  서울특별시  신교동  신현                  41   \n",
              "\n",
              "   transaction_year_month  floor  top10  \\\n",
              "0                       0      6      0   \n",
              "\n",
              "                                        apt_embedded  \\\n",
              "0  [-0.10752576, -0.18122844, -0.07227908, 0.0448...   \n",
              "\n",
              "                                       dong_embedded  log_price  log_area  \n",
              "0  [0.17256321, -0.0375122, 0.09505555, 0.0194796...  10.532123  4.452252  "
            ],
            "text/html": [
              "<div>\n",
              "<style scoped>\n",
              "    .dataframe tbody tr th:only-of-type {\n",
              "        vertical-align: middle;\n",
              "    }\n",
              "\n",
              "    .dataframe tbody tr th {\n",
              "        vertical-align: top;\n",
              "    }\n",
              "\n",
              "    .dataframe thead th {\n",
              "        text-align: right;\n",
              "    }\n",
              "</style>\n",
              "<table border=\"1\" class=\"dataframe\">\n",
              "  <thead>\n",
              "    <tr style=\"text-align: right;\">\n",
              "      <th></th>\n",
              "      <th>transaction_id</th>\n",
              "      <th>apartment_id</th>\n",
              "      <th>city</th>\n",
              "      <th>dong</th>\n",
              "      <th>apt</th>\n",
              "      <th>year_of_completion</th>\n",
              "      <th>transaction_year_month</th>\n",
              "      <th>floor</th>\n",
              "      <th>top10</th>\n",
              "      <th>apt_embedded</th>\n",
              "      <th>dong_embedded</th>\n",
              "      <th>log_price</th>\n",
              "      <th>log_area</th>\n",
              "    </tr>\n",
              "  </thead>\n",
              "  <tbody>\n",
              "    <tr>\n",
              "      <th>0</th>\n",
              "      <td>0</td>\n",
              "      <td>7622</td>\n",
              "      <td>서울특별시</td>\n",
              "      <td>신교동</td>\n",
              "      <td>신현</td>\n",
              "      <td>41</td>\n",
              "      <td>0</td>\n",
              "      <td>6</td>\n",
              "      <td>0</td>\n",
              "      <td>[-0.10752576, -0.18122844, -0.07227908, 0.0448...</td>\n",
              "      <td>[0.17256321, -0.0375122, 0.09505555, 0.0194796...</td>\n",
              "      <td>10.532123</td>\n",
              "      <td>4.452252</td>\n",
              "    </tr>\n",
              "  </tbody>\n",
              "</table>\n",
              "</div>"
            ]
          },
          "metadata": {},
          "execution_count": 15
        }
      ],
      "metadata": {
        "colab": {
          "base_uri": "https://localhost:8080/",
          "height": 78
        },
        "id": "Mww8qNfzrmeU",
        "outputId": "cbfe2e36-0168-41be-d5c5-846eb3cf59e3"
      }
    },
    {
      "cell_type": "markdown",
      "source": [
        "### Encoding\n",
        "- 인코딩은 이제 `city`만 진행하면 됩니다.\n",
        "- `city`는 서울특별시면 1, 부산광역시면 0으로 변환하겠습니다.\n",
        "- 학습에 사용하지 않을 피쳐들도 제거하겠습니다."
      ],
      "metadata": {
        "id": "RlvQNiQdEzQs"
      }
    },
    {
      "cell_type": "code",
      "execution_count": 16,
      "source": [
        "drop_col = ['transaction_id', 'apartment_id', 'dong', 'apt']\n",
        "\n",
        "train_df['city'] = train_df['city'].map(lambda x: 1 if x == '서울특별시' else 0)\n",
        "test_df['city'] = test_df['city'].map(lambda x: 1 if x == '서울특별시' else 0)"
      ],
      "outputs": [],
      "metadata": {
        "id": "jANAQVK291VZ"
      }
    },
    {
      "cell_type": "code",
      "execution_count": 17,
      "source": [
        "train_df.drop(drop_col, axis=1, inplace=True)\n",
        "test_df.drop(drop_col, axis=1, inplace=True)\n",
        "train_df.head(1)"
      ],
      "outputs": [
        {
          "output_type": "execute_result",
          "data": {
            "text/plain": [
              "   city  year_of_completion  transaction_year_month  floor  top10  \\\n",
              "0     1                  41                       0      6      0   \n",
              "\n",
              "                                        apt_embedded  \\\n",
              "0  [-0.10752576, -0.18122844, -0.07227908, 0.0448...   \n",
              "\n",
              "                                       dong_embedded  log_price  log_area  \n",
              "0  [0.17256321, -0.0375122, 0.09505555, 0.0194796...  10.532123  4.452252  "
            ],
            "text/html": [
              "<div>\n",
              "<style scoped>\n",
              "    .dataframe tbody tr th:only-of-type {\n",
              "        vertical-align: middle;\n",
              "    }\n",
              "\n",
              "    .dataframe tbody tr th {\n",
              "        vertical-align: top;\n",
              "    }\n",
              "\n",
              "    .dataframe thead th {\n",
              "        text-align: right;\n",
              "    }\n",
              "</style>\n",
              "<table border=\"1\" class=\"dataframe\">\n",
              "  <thead>\n",
              "    <tr style=\"text-align: right;\">\n",
              "      <th></th>\n",
              "      <th>city</th>\n",
              "      <th>year_of_completion</th>\n",
              "      <th>transaction_year_month</th>\n",
              "      <th>floor</th>\n",
              "      <th>top10</th>\n",
              "      <th>apt_embedded</th>\n",
              "      <th>dong_embedded</th>\n",
              "      <th>log_price</th>\n",
              "      <th>log_area</th>\n",
              "    </tr>\n",
              "  </thead>\n",
              "  <tbody>\n",
              "    <tr>\n",
              "      <th>0</th>\n",
              "      <td>1</td>\n",
              "      <td>41</td>\n",
              "      <td>0</td>\n",
              "      <td>6</td>\n",
              "      <td>0</td>\n",
              "      <td>[-0.10752576, -0.18122844, -0.07227908, 0.0448...</td>\n",
              "      <td>[0.17256321, -0.0375122, 0.09505555, 0.0194796...</td>\n",
              "      <td>10.532123</td>\n",
              "      <td>4.452252</td>\n",
              "    </tr>\n",
              "  </tbody>\n",
              "</table>\n",
              "</div>"
            ]
          },
          "metadata": {},
          "execution_count": 17
        }
      ],
      "metadata": {
        "colab": {
          "base_uri": "https://localhost:8080/",
          "height": 199
        },
        "id": "iM8tGHMMtPgt",
        "outputId": "fb0dee39-a1e7-46e0-c0e6-a60ca19a7d3c"
      }
    },
    {
      "cell_type": "code",
      "execution_count": 21,
      "source": [
        "train_df.head()"
      ],
      "outputs": [
        {
          "output_type": "execute_result",
          "data": {
            "text/plain": [
              "   city  year_of_completion  transaction_year_month  floor  top10  \\\n",
              "0     1                  41                       0      6      0   \n",
              "1     1                  12                       0     10      0   \n",
              "2     1                  46                       0     10      0   \n",
              "3     1                  42                       0     19      0   \n",
              "4     1                  43                       0      7      0   \n",
              "\n",
              "                                        apt_embedded  \\\n",
              "0  [-0.10752576, -0.18122844, -0.07227908, 0.0448...   \n",
              "1  [-0.053165514, -0.1006416, -0.07624212, 0.0012...   \n",
              "2  [-0.06343027, -0.19215204, -0.06197246, 0.0544...   \n",
              "3  [-0.036577757, -0.24322, -0.1593426, 0.0263538...   \n",
              "4  [-0.02274445, -0.20998694, -0.12684277, 0.0276...   \n",
              "\n",
              "                                       dong_embedded  log_price  log_area  \n",
              "0  [0.17256321, -0.0375122, 0.09505555, 0.0194796...  10.532123  4.452252  \n",
              "1  [0.22832519, 0.015710473, 0.1406205, -0.012602...   9.903538  4.606869  \n",
              "2  [0.22832519, 0.015710473, 0.1406205, -0.012602...  10.558439  4.451319  \n",
              "3  [0.12117733, -0.03002017, 0.12184901, -0.05570...  11.678448  4.993082  \n",
              "4  [0.12117733, -0.03002017, 0.12184901, -0.05570...  11.695255  5.275202  "
            ],
            "text/html": [
              "<div>\n",
              "<style scoped>\n",
              "    .dataframe tbody tr th:only-of-type {\n",
              "        vertical-align: middle;\n",
              "    }\n",
              "\n",
              "    .dataframe tbody tr th {\n",
              "        vertical-align: top;\n",
              "    }\n",
              "\n",
              "    .dataframe thead th {\n",
              "        text-align: right;\n",
              "    }\n",
              "</style>\n",
              "<table border=\"1\" class=\"dataframe\">\n",
              "  <thead>\n",
              "    <tr style=\"text-align: right;\">\n",
              "      <th></th>\n",
              "      <th>city</th>\n",
              "      <th>year_of_completion</th>\n",
              "      <th>transaction_year_month</th>\n",
              "      <th>floor</th>\n",
              "      <th>top10</th>\n",
              "      <th>apt_embedded</th>\n",
              "      <th>dong_embedded</th>\n",
              "      <th>log_price</th>\n",
              "      <th>log_area</th>\n",
              "    </tr>\n",
              "  </thead>\n",
              "  <tbody>\n",
              "    <tr>\n",
              "      <th>0</th>\n",
              "      <td>1</td>\n",
              "      <td>41</td>\n",
              "      <td>0</td>\n",
              "      <td>6</td>\n",
              "      <td>0</td>\n",
              "      <td>[-0.10752576, -0.18122844, -0.07227908, 0.0448...</td>\n",
              "      <td>[0.17256321, -0.0375122, 0.09505555, 0.0194796...</td>\n",
              "      <td>10.532123</td>\n",
              "      <td>4.452252</td>\n",
              "    </tr>\n",
              "    <tr>\n",
              "      <th>1</th>\n",
              "      <td>1</td>\n",
              "      <td>12</td>\n",
              "      <td>0</td>\n",
              "      <td>10</td>\n",
              "      <td>0</td>\n",
              "      <td>[-0.053165514, -0.1006416, -0.07624212, 0.0012...</td>\n",
              "      <td>[0.22832519, 0.015710473, 0.1406205, -0.012602...</td>\n",
              "      <td>9.903538</td>\n",
              "      <td>4.606869</td>\n",
              "    </tr>\n",
              "    <tr>\n",
              "      <th>2</th>\n",
              "      <td>1</td>\n",
              "      <td>46</td>\n",
              "      <td>0</td>\n",
              "      <td>10</td>\n",
              "      <td>0</td>\n",
              "      <td>[-0.06343027, -0.19215204, -0.06197246, 0.0544...</td>\n",
              "      <td>[0.22832519, 0.015710473, 0.1406205, -0.012602...</td>\n",
              "      <td>10.558439</td>\n",
              "      <td>4.451319</td>\n",
              "    </tr>\n",
              "    <tr>\n",
              "      <th>3</th>\n",
              "      <td>1</td>\n",
              "      <td>42</td>\n",
              "      <td>0</td>\n",
              "      <td>19</td>\n",
              "      <td>0</td>\n",
              "      <td>[-0.036577757, -0.24322, -0.1593426, 0.0263538...</td>\n",
              "      <td>[0.12117733, -0.03002017, 0.12184901, -0.05570...</td>\n",
              "      <td>11.678448</td>\n",
              "      <td>4.993082</td>\n",
              "    </tr>\n",
              "    <tr>\n",
              "      <th>4</th>\n",
              "      <td>1</td>\n",
              "      <td>43</td>\n",
              "      <td>0</td>\n",
              "      <td>7</td>\n",
              "      <td>0</td>\n",
              "      <td>[-0.02274445, -0.20998694, -0.12684277, 0.0276...</td>\n",
              "      <td>[0.12117733, -0.03002017, 0.12184901, -0.05570...</td>\n",
              "      <td>11.695255</td>\n",
              "      <td>5.275202</td>\n",
              "    </tr>\n",
              "  </tbody>\n",
              "</table>\n",
              "</div>"
            ]
          },
          "metadata": {},
          "execution_count": 21
        }
      ],
      "metadata": {}
    },
    {
      "cell_type": "code",
      "execution_count": 18,
      "source": [
        "emb_apt = np.array(train_df['apt_embedded'].to_numpy().tolist())\n",
        "emb_dong = np.array(train_df['dong_embedded'].to_numpy().tolist())\n",
        "print(emb_apt[0])\n",
        "print(emb_dong[0])\n",
        "print(emb_apt.shape, emb_dong.shape)"
      ],
      "outputs": [
        {
          "output_type": "stream",
          "name": "stdout",
          "text": [
            "[-0.10752576 -0.18122844 -0.07227908 ... -0.21428467 -0.07581832\n",
            " -0.16598397]\n",
            "[ 0.17256321 -0.0375122   0.09505555 ... -0.1406364  -0.08027103\n",
            "  0.09223551]\n",
            "(1216553, 1024) (1216553, 1024)\n"
          ]
        }
      ],
      "metadata": {}
    },
    {
      "cell_type": "code",
      "execution_count": 19,
      "source": [
        "X_common = train_df.drop(['apt_embedded', 'dong_embedded'], axis=1)\n",
        "embedding = np.concatenate([emb_apt, emb_dong], axis=1)\n",
        "train_X = np.concatenate([X_common.drop('log_price', axis=1).to_numpy(), embedding], axis=1)\n",
        "train_y = train_df['log_price'].to_numpy()"
      ],
      "outputs": [],
      "metadata": {}
    },
    {
      "cell_type": "code",
      "execution_count": 24,
      "source": [
        "print(len(X_common.columns), len(embedding[0]))"
      ],
      "outputs": [
        {
          "output_type": "stream",
          "name": "stdout",
          "text": [
            "7 2048\n"
          ]
        }
      ],
      "metadata": {}
    },
    {
      "cell_type": "code",
      "execution_count": 26,
      "source": [
        "print(train_X.shape, train_y.shape)"
      ],
      "outputs": [
        {
          "output_type": "stream",
          "name": "stdout",
          "text": [
            "(1216553, 2054) (1216553,)\n"
          ]
        }
      ],
      "metadata": {
        "colab": {
          "base_uri": "https://localhost:8080/"
        },
        "id": "3X4UMl3AZQO0",
        "outputId": "82d5c3a6-8df3-42ae-8e9a-18167794a97e"
      }
    },
    {
      "cell_type": "code",
      "execution_count": null,
      "source": [
        "# import tensorflow as tf\n",
        "# train_df['apt_embedded'] = train_df['apt_embedded'].apply(lambda x: tf.reshape(x, [-1]).numpy())\n",
        "# train_df['dong_embedded'] = train_df['dong_embedded'].apply(lambda x: tf.reshape(x, [-1]).numpy())\n",
        "# train_X, train_y = train_df.drop(['log_price'], axis=1), train_df['log_price']\n",
        "# print(train_X.shape, train_y.shape)\n",
        "# train_df['apt_embedded'] = np.array(train_df['apt_embedded'].to_numpy().tolist())\n",
        "# train_df['dong_embedded'] = np.array(train_df['dong_embedded'].to_numpy().tolist())\n",
        "# train_df['apt_embedded']"
      ],
      "outputs": [],
      "metadata": {}
    },
    {
      "cell_type": "code",
      "execution_count": 20,
      "source": [
        "def RMSE(y, y_pred):\n",
        "    rmse = mean_squared_error(y, y_pred) ** 0.5\n",
        "    return rmse"
      ],
      "outputs": [],
      "metadata": {
        "id": "b1QCDF4M0A_K"
      }
    },
    {
      "cell_type": "markdown",
      "source": [
        "- 간단하게 모델을 정의합니다."
      ],
      "metadata": {}
    },
    {
      "cell_type": "code",
      "execution_count": 21,
      "source": [
        "cut = int(len(train_df)*0.8)\n",
        "h_train_X = train_X[:cut]\n",
        "h_train_y = train_y[:cut]\n",
        "h_valid_X = train_X[cut:]\n",
        "h_valid_y = train_y[cut:]\n",
        "\n",
        "# h_train = train_X[:cut]\n",
        "# h_valid = train_df[cut:]\n",
        "\n",
        "# h_train_X = h_train.drop('log_price', axis=1)\n",
        "# h_train_y = h_train['log_price']\n",
        "# h_valid_X = h_valid.drop('log_price', axis=1)\n",
        "# h_valid_y = h_valid['log_price']\n",
        "# # dataframe to numpy array\n",
        "# h_train_X, h_train_y, h_valid_X, h_valid_y = h_train_X.to_numpy(), h_train_y.to_numpy(), h_valid_X.to_numpy(), h_valid_y.to_numpy()\n",
        "print(h_train_X.shape, h_train_y.shape, h_valid_X.shape, h_valid_y.shape)"
      ],
      "outputs": [
        {
          "output_type": "stream",
          "name": "stdout",
          "text": [
            "(973242, 2054) (973242,) (243311, 2054) (243311,)\n"
          ]
        }
      ],
      "metadata": {
        "colab": {
          "base_uri": "https://localhost:8080/"
        },
        "id": "bjpjn-b-19G3",
        "outputId": "cea54506-8190-4da8-f15f-88b13ece2a05"
      }
    },
    {
      "cell_type": "code",
      "execution_count": 29,
      "source": [
        "h_train_X[0]"
      ],
      "outputs": [
        {
          "output_type": "execute_result",
          "data": {
            "text/plain": [
              "array([ 1.        , 41.        ,  0.        , ..., -0.1406364 ,\n",
              "       -0.08027103,  0.09223551])"
            ]
          },
          "metadata": {},
          "execution_count": 29
        }
      ],
      "metadata": {
        "colab": {
          "base_uri": "https://localhost:8080/",
          "height": 204
        },
        "id": "1iyD2ucAheDo",
        "outputId": "008f6dd8-ac0b-4d1e-dd57-82139dfa5a08"
      }
    },
    {
      "cell_type": "code",
      "execution_count": 30,
      "source": [
        "h_valid_X[0]"
      ],
      "outputs": [
        {
          "output_type": "execute_result",
          "data": {
            "text/plain": [
              "array([ 0.00000000e+00,  3.40000000e+01,  4.10000000e+01, ...,\n",
              "       -4.04775841e-04,  8.62445915e-04, -3.07057984e-04])"
            ]
          },
          "metadata": {},
          "execution_count": 30
        }
      ],
      "metadata": {}
    },
    {
      "cell_type": "code",
      "execution_count": 31,
      "source": [
        "h_valid_y[0]"
      ],
      "outputs": [
        {
          "output_type": "execute_result",
          "data": {
            "text/plain": [
              "9.680406499268875"
            ]
          },
          "metadata": {},
          "execution_count": 31
        }
      ],
      "metadata": {}
    },
    {
      "cell_type": "code",
      "execution_count": 23,
      "source": [
        "from optuna.samplers import TPESampler\n",
        "\n",
        "sampler = TPESampler(seed=10)\n",
        "\n",
        "def objective(trial):\n",
        "    dtrain = lgb.Dataset(h_train_X, label=h_train_y)\n",
        "    dtest = lgb.Dataset(h_valid_X, label=h_valid_y)\n",
        "\n",
        "    param = {\n",
        "        'objective': 'regression', # 회귀\n",
        "        'verbose': -1,\n",
        "        'device': 'gpu',\n",
        "        'metric': 'rmse', \n",
        "        'max_depth': trial.suggest_int('max_depth',3, 15),\n",
        "        'learning_rate': trial.suggest_loguniform(\"learning_rate\", 1e-8, 1e-2),\n",
        "        'n_estimators': trial.suggest_int('n_estimators', 100, 3000),\n",
        "        'min_child_samples': trial.suggest_int('min_child_samples', 5, 100),\n",
        "        'subsample': trial.suggest_loguniform('subsample', 0.4, 1),\n",
        "    }\n",
        "\n",
        "    model = lgb.LGBMRegressor(**param)\n",
        "    lgb_model = model.fit(h_train_X, h_train_y, eval_set=[(h_valid_X, h_valid_y)], verbose=0, early_stopping_rounds=25)\n",
        "    rmse = RMSE(h_valid_y, lgb_model.predict(h_valid_X))\n",
        "    return rmse\n",
        "        \n",
        "study_lgb = optuna.create_study(direction='minimize', sampler=sampler)\n",
        "study_lgb.optimize(objective, n_trials=100)"
      ],
      "outputs": [
        {
          "output_type": "stream",
          "name": "stderr",
          "text": [
            "\u001b[32m[I 2021-10-08 14:41:03,291]\u001b[0m A new study created in memory with name: no-name-47321b27-c1f8-46c1-bef4-6b52e2c9d64e\u001b[0m\n",
            "/home/kok/anaconda3/envs/rjs/lib/python3.8/site-packages/lightgbm/sklearn.py:726: UserWarning: 'early_stopping_rounds' argument is deprecated and will be removed in a future release of LightGBM. Pass 'early_stopping()' callback via 'callbacks' argument instead.\n",
            "  _log_warning(\"'early_stopping_rounds' argument is deprecated and will be removed in a future release of LightGBM. \"\n",
            "/home/kok/anaconda3/envs/rjs/lib/python3.8/site-packages/lightgbm/sklearn.py:736: UserWarning: 'verbose' argument is deprecated and will be removed in a future release of LightGBM. Pass 'log_evaluation()' callback via 'callbacks' argument instead.\n",
            "  _log_warning(\"'verbose' argument is deprecated and will be removed in a future release of LightGBM. \"\n"
          ]
        },
        {
          "output_type": "error",
          "ename": "KeyboardInterrupt",
          "evalue": "",
          "traceback": [
            "\u001b[0;31m---------------------------------------------------------------------------\u001b[0m",
            "\u001b[0;31mKeyboardInterrupt\u001b[0m                         Traceback (most recent call last)",
            "\u001b[0;32m/tmp/ipykernel_107023/598363990.py\u001b[0m in \u001b[0;36m<module>\u001b[0;34m\u001b[0m\n\u001b[1;32m     25\u001b[0m \u001b[0;34m\u001b[0m\u001b[0m\n\u001b[1;32m     26\u001b[0m \u001b[0mstudy_lgb\u001b[0m \u001b[0;34m=\u001b[0m \u001b[0moptuna\u001b[0m\u001b[0;34m.\u001b[0m\u001b[0mcreate_study\u001b[0m\u001b[0;34m(\u001b[0m\u001b[0mdirection\u001b[0m\u001b[0;34m=\u001b[0m\u001b[0;34m'minimize'\u001b[0m\u001b[0;34m,\u001b[0m \u001b[0msampler\u001b[0m\u001b[0;34m=\u001b[0m\u001b[0msampler\u001b[0m\u001b[0;34m)\u001b[0m\u001b[0;34m\u001b[0m\u001b[0;34m\u001b[0m\u001b[0m\n\u001b[0;32m---> 27\u001b[0;31m \u001b[0mstudy_lgb\u001b[0m\u001b[0;34m.\u001b[0m\u001b[0moptimize\u001b[0m\u001b[0;34m(\u001b[0m\u001b[0mobjective\u001b[0m\u001b[0;34m,\u001b[0m \u001b[0mn_trials\u001b[0m\u001b[0;34m=\u001b[0m\u001b[0;36m100\u001b[0m\u001b[0;34m)\u001b[0m\u001b[0;34m\u001b[0m\u001b[0;34m\u001b[0m\u001b[0m\n\u001b[0m",
            "\u001b[0;32m~/anaconda3/envs/rjs/lib/python3.8/site-packages/optuna/study/study.py\u001b[0m in \u001b[0;36moptimize\u001b[0;34m(self, func, n_trials, timeout, n_jobs, catch, callbacks, gc_after_trial, show_progress_bar)\u001b[0m\n\u001b[1;32m    398\u001b[0m             )\n\u001b[1;32m    399\u001b[0m \u001b[0;34m\u001b[0m\u001b[0m\n\u001b[0;32m--> 400\u001b[0;31m         _optimize(\n\u001b[0m\u001b[1;32m    401\u001b[0m             \u001b[0mstudy\u001b[0m\u001b[0;34m=\u001b[0m\u001b[0mself\u001b[0m\u001b[0;34m,\u001b[0m\u001b[0;34m\u001b[0m\u001b[0;34m\u001b[0m\u001b[0m\n\u001b[1;32m    402\u001b[0m             \u001b[0mfunc\u001b[0m\u001b[0;34m=\u001b[0m\u001b[0mfunc\u001b[0m\u001b[0;34m,\u001b[0m\u001b[0;34m\u001b[0m\u001b[0;34m\u001b[0m\u001b[0m\n",
            "\u001b[0;32m~/anaconda3/envs/rjs/lib/python3.8/site-packages/optuna/study/_optimize.py\u001b[0m in \u001b[0;36m_optimize\u001b[0;34m(study, func, n_trials, timeout, n_jobs, catch, callbacks, gc_after_trial, show_progress_bar)\u001b[0m\n\u001b[1;32m     64\u001b[0m     \u001b[0;32mtry\u001b[0m\u001b[0;34m:\u001b[0m\u001b[0;34m\u001b[0m\u001b[0;34m\u001b[0m\u001b[0m\n\u001b[1;32m     65\u001b[0m         \u001b[0;32mif\u001b[0m \u001b[0mn_jobs\u001b[0m \u001b[0;34m==\u001b[0m \u001b[0;36m1\u001b[0m\u001b[0;34m:\u001b[0m\u001b[0;34m\u001b[0m\u001b[0;34m\u001b[0m\u001b[0m\n\u001b[0;32m---> 66\u001b[0;31m             _optimize_sequential(\n\u001b[0m\u001b[1;32m     67\u001b[0m                 \u001b[0mstudy\u001b[0m\u001b[0;34m,\u001b[0m\u001b[0;34m\u001b[0m\u001b[0;34m\u001b[0m\u001b[0m\n\u001b[1;32m     68\u001b[0m                 \u001b[0mfunc\u001b[0m\u001b[0;34m,\u001b[0m\u001b[0;34m\u001b[0m\u001b[0;34m\u001b[0m\u001b[0m\n",
            "\u001b[0;32m~/anaconda3/envs/rjs/lib/python3.8/site-packages/optuna/study/_optimize.py\u001b[0m in \u001b[0;36m_optimize_sequential\u001b[0;34m(study, func, n_trials, timeout, catch, callbacks, gc_after_trial, reseed_sampler_rng, time_start, progress_bar)\u001b[0m\n\u001b[1;32m    161\u001b[0m \u001b[0;34m\u001b[0m\u001b[0m\n\u001b[1;32m    162\u001b[0m         \u001b[0;32mtry\u001b[0m\u001b[0;34m:\u001b[0m\u001b[0;34m\u001b[0m\u001b[0;34m\u001b[0m\u001b[0m\n\u001b[0;32m--> 163\u001b[0;31m             \u001b[0mtrial\u001b[0m \u001b[0;34m=\u001b[0m \u001b[0m_run_trial\u001b[0m\u001b[0;34m(\u001b[0m\u001b[0mstudy\u001b[0m\u001b[0;34m,\u001b[0m \u001b[0mfunc\u001b[0m\u001b[0;34m,\u001b[0m \u001b[0mcatch\u001b[0m\u001b[0;34m)\u001b[0m\u001b[0;34m\u001b[0m\u001b[0;34m\u001b[0m\u001b[0m\n\u001b[0m\u001b[1;32m    164\u001b[0m         \u001b[0;32mexcept\u001b[0m \u001b[0mException\u001b[0m\u001b[0;34m:\u001b[0m\u001b[0;34m\u001b[0m\u001b[0;34m\u001b[0m\u001b[0m\n\u001b[1;32m    165\u001b[0m             \u001b[0;32mraise\u001b[0m\u001b[0;34m\u001b[0m\u001b[0;34m\u001b[0m\u001b[0m\n",
            "\u001b[0;32m~/anaconda3/envs/rjs/lib/python3.8/site-packages/optuna/study/_optimize.py\u001b[0m in \u001b[0;36m_run_trial\u001b[0;34m(study, func, catch)\u001b[0m\n\u001b[1;32m    211\u001b[0m \u001b[0;34m\u001b[0m\u001b[0m\n\u001b[1;32m    212\u001b[0m     \u001b[0;32mtry\u001b[0m\u001b[0;34m:\u001b[0m\u001b[0;34m\u001b[0m\u001b[0;34m\u001b[0m\u001b[0m\n\u001b[0;32m--> 213\u001b[0;31m         \u001b[0mvalue_or_values\u001b[0m \u001b[0;34m=\u001b[0m \u001b[0mfunc\u001b[0m\u001b[0;34m(\u001b[0m\u001b[0mtrial\u001b[0m\u001b[0;34m)\u001b[0m\u001b[0;34m\u001b[0m\u001b[0;34m\u001b[0m\u001b[0m\n\u001b[0m\u001b[1;32m    214\u001b[0m     \u001b[0;32mexcept\u001b[0m \u001b[0mexceptions\u001b[0m\u001b[0;34m.\u001b[0m\u001b[0mTrialPruned\u001b[0m \u001b[0;32mas\u001b[0m \u001b[0me\u001b[0m\u001b[0;34m:\u001b[0m\u001b[0;34m\u001b[0m\u001b[0;34m\u001b[0m\u001b[0m\n\u001b[1;32m    215\u001b[0m         \u001b[0;31m# TODO(mamu): Handle multi-objective cases.\u001b[0m\u001b[0;34m\u001b[0m\u001b[0;34m\u001b[0m\u001b[0;34m\u001b[0m\u001b[0m\n",
            "\u001b[0;32m/tmp/ipykernel_107023/598363990.py\u001b[0m in \u001b[0;36mobjective\u001b[0;34m(trial)\u001b[0m\n\u001b[1;32m     20\u001b[0m \u001b[0;34m\u001b[0m\u001b[0m\n\u001b[1;32m     21\u001b[0m     \u001b[0mmodel\u001b[0m \u001b[0;34m=\u001b[0m \u001b[0mlgb\u001b[0m\u001b[0;34m.\u001b[0m\u001b[0mLGBMRegressor\u001b[0m\u001b[0;34m(\u001b[0m\u001b[0;34m**\u001b[0m\u001b[0mparam\u001b[0m\u001b[0;34m)\u001b[0m\u001b[0;34m\u001b[0m\u001b[0;34m\u001b[0m\u001b[0m\n\u001b[0;32m---> 22\u001b[0;31m     \u001b[0mlgb_model\u001b[0m \u001b[0;34m=\u001b[0m \u001b[0mmodel\u001b[0m\u001b[0;34m.\u001b[0m\u001b[0mfit\u001b[0m\u001b[0;34m(\u001b[0m\u001b[0mh_train_X\u001b[0m\u001b[0;34m,\u001b[0m \u001b[0mh_train_y\u001b[0m\u001b[0;34m,\u001b[0m \u001b[0meval_set\u001b[0m\u001b[0;34m=\u001b[0m\u001b[0;34m[\u001b[0m\u001b[0;34m(\u001b[0m\u001b[0mh_valid_X\u001b[0m\u001b[0;34m,\u001b[0m \u001b[0mh_valid_y\u001b[0m\u001b[0;34m)\u001b[0m\u001b[0;34m]\u001b[0m\u001b[0;34m,\u001b[0m \u001b[0mverbose\u001b[0m\u001b[0;34m=\u001b[0m\u001b[0;36m0\u001b[0m\u001b[0;34m,\u001b[0m \u001b[0mearly_stopping_rounds\u001b[0m\u001b[0;34m=\u001b[0m\u001b[0;36m25\u001b[0m\u001b[0;34m)\u001b[0m\u001b[0;34m\u001b[0m\u001b[0;34m\u001b[0m\u001b[0m\n\u001b[0m\u001b[1;32m     23\u001b[0m     \u001b[0mrmse\u001b[0m \u001b[0;34m=\u001b[0m \u001b[0mRMSE\u001b[0m\u001b[0;34m(\u001b[0m\u001b[0mh_valid_y\u001b[0m\u001b[0;34m,\u001b[0m \u001b[0mlgb_model\u001b[0m\u001b[0;34m.\u001b[0m\u001b[0mpredict\u001b[0m\u001b[0;34m(\u001b[0m\u001b[0mh_valid_X\u001b[0m\u001b[0;34m)\u001b[0m\u001b[0;34m)\u001b[0m\u001b[0;34m\u001b[0m\u001b[0;34m\u001b[0m\u001b[0m\n\u001b[1;32m     24\u001b[0m     \u001b[0;32mreturn\u001b[0m \u001b[0mrmse\u001b[0m\u001b[0;34m\u001b[0m\u001b[0;34m\u001b[0m\u001b[0m\n",
            "\u001b[0;32m~/anaconda3/envs/rjs/lib/python3.8/site-packages/lightgbm/sklearn.py\u001b[0m in \u001b[0;36mfit\u001b[0;34m(self, X, y, sample_weight, init_score, eval_set, eval_names, eval_sample_weight, eval_init_score, eval_metric, early_stopping_rounds, verbose, feature_name, categorical_feature, callbacks, init_model)\u001b[0m\n\u001b[1;32m    893\u001b[0m             callbacks=None, init_model=None):\n\u001b[1;32m    894\u001b[0m         \u001b[0;34m\"\"\"Docstring is inherited from the LGBMModel.\"\"\"\u001b[0m\u001b[0;34m\u001b[0m\u001b[0;34m\u001b[0m\u001b[0m\n\u001b[0;32m--> 895\u001b[0;31m         super().fit(X, y, sample_weight=sample_weight, init_score=init_score,\n\u001b[0m\u001b[1;32m    896\u001b[0m                     \u001b[0meval_set\u001b[0m\u001b[0;34m=\u001b[0m\u001b[0meval_set\u001b[0m\u001b[0;34m,\u001b[0m \u001b[0meval_names\u001b[0m\u001b[0;34m=\u001b[0m\u001b[0meval_names\u001b[0m\u001b[0;34m,\u001b[0m \u001b[0meval_sample_weight\u001b[0m\u001b[0;34m=\u001b[0m\u001b[0meval_sample_weight\u001b[0m\u001b[0;34m,\u001b[0m\u001b[0;34m\u001b[0m\u001b[0;34m\u001b[0m\u001b[0m\n\u001b[1;32m    897\u001b[0m                     \u001b[0meval_init_score\u001b[0m\u001b[0;34m=\u001b[0m\u001b[0meval_init_score\u001b[0m\u001b[0;34m,\u001b[0m \u001b[0meval_metric\u001b[0m\u001b[0;34m=\u001b[0m\u001b[0meval_metric\u001b[0m\u001b[0;34m,\u001b[0m\u001b[0;34m\u001b[0m\u001b[0;34m\u001b[0m\u001b[0m\n",
            "\u001b[0;32m~/anaconda3/envs/rjs/lib/python3.8/site-packages/lightgbm/sklearn.py\u001b[0m in \u001b[0;36mfit\u001b[0;34m(self, X, y, sample_weight, init_score, group, eval_set, eval_names, eval_sample_weight, eval_class_weight, eval_init_score, eval_group, eval_metric, early_stopping_rounds, verbose, feature_name, categorical_feature, callbacks, init_model)\u001b[0m\n\u001b[1;32m    746\u001b[0m         \u001b[0mcallbacks\u001b[0m\u001b[0;34m.\u001b[0m\u001b[0mappend\u001b[0m\u001b[0;34m(\u001b[0m\u001b[0mrecord_evaluation\u001b[0m\u001b[0;34m(\u001b[0m\u001b[0mevals_result\u001b[0m\u001b[0;34m)\u001b[0m\u001b[0;34m)\u001b[0m\u001b[0;34m\u001b[0m\u001b[0;34m\u001b[0m\u001b[0m\n\u001b[1;32m    747\u001b[0m \u001b[0;34m\u001b[0m\u001b[0m\n\u001b[0;32m--> 748\u001b[0;31m         self._Booster = train(\n\u001b[0m\u001b[1;32m    749\u001b[0m             \u001b[0mparams\u001b[0m\u001b[0;34m=\u001b[0m\u001b[0mparams\u001b[0m\u001b[0;34m,\u001b[0m\u001b[0;34m\u001b[0m\u001b[0;34m\u001b[0m\u001b[0m\n\u001b[1;32m    750\u001b[0m             \u001b[0mtrain_set\u001b[0m\u001b[0;34m=\u001b[0m\u001b[0mtrain_set\u001b[0m\u001b[0;34m,\u001b[0m\u001b[0;34m\u001b[0m\u001b[0;34m\u001b[0m\u001b[0m\n",
            "\u001b[0;32m~/anaconda3/envs/rjs/lib/python3.8/site-packages/lightgbm/engine.py\u001b[0m in \u001b[0;36mtrain\u001b[0;34m(params, train_set, num_boost_round, valid_sets, valid_names, fobj, feval, init_model, feature_name, categorical_feature, early_stopping_rounds, evals_result, verbose_eval, learning_rates, keep_training_booster, callbacks)\u001b[0m\n\u001b[1;32m    291\u001b[0m                                     evaluation_result_list=None))\n\u001b[1;32m    292\u001b[0m \u001b[0;34m\u001b[0m\u001b[0m\n\u001b[0;32m--> 293\u001b[0;31m         \u001b[0mbooster\u001b[0m\u001b[0;34m.\u001b[0m\u001b[0mupdate\u001b[0m\u001b[0;34m(\u001b[0m\u001b[0mfobj\u001b[0m\u001b[0;34m=\u001b[0m\u001b[0mfobj\u001b[0m\u001b[0;34m)\u001b[0m\u001b[0;34m\u001b[0m\u001b[0;34m\u001b[0m\u001b[0m\n\u001b[0m\u001b[1;32m    294\u001b[0m \u001b[0;34m\u001b[0m\u001b[0m\n\u001b[1;32m    295\u001b[0m         \u001b[0mevaluation_result_list\u001b[0m \u001b[0;34m=\u001b[0m \u001b[0;34m[\u001b[0m\u001b[0;34m]\u001b[0m\u001b[0;34m\u001b[0m\u001b[0;34m\u001b[0m\u001b[0m\n",
            "\u001b[0;32m~/anaconda3/envs/rjs/lib/python3.8/site-packages/lightgbm/basic.py\u001b[0m in \u001b[0;36mupdate\u001b[0;34m(self, train_set, fobj)\u001b[0m\n\u001b[1;32m   3019\u001b[0m             \u001b[0;32mif\u001b[0m \u001b[0mself\u001b[0m\u001b[0;34m.\u001b[0m\u001b[0m__set_objective_to_none\u001b[0m\u001b[0;34m:\u001b[0m\u001b[0;34m\u001b[0m\u001b[0;34m\u001b[0m\u001b[0m\n\u001b[1;32m   3020\u001b[0m                 \u001b[0;32mraise\u001b[0m \u001b[0mLightGBMError\u001b[0m\u001b[0;34m(\u001b[0m\u001b[0;34m'Cannot update due to null objective function.'\u001b[0m\u001b[0;34m)\u001b[0m\u001b[0;34m\u001b[0m\u001b[0;34m\u001b[0m\u001b[0m\n\u001b[0;32m-> 3021\u001b[0;31m             _safe_call(_LIB.LGBM_BoosterUpdateOneIter(\n\u001b[0m\u001b[1;32m   3022\u001b[0m                 \u001b[0mself\u001b[0m\u001b[0;34m.\u001b[0m\u001b[0mhandle\u001b[0m\u001b[0;34m,\u001b[0m\u001b[0;34m\u001b[0m\u001b[0;34m\u001b[0m\u001b[0m\n\u001b[1;32m   3023\u001b[0m                 ctypes.byref(is_finished)))\n",
            "\u001b[0;31mKeyboardInterrupt\u001b[0m: "
          ]
        }
      ],
      "metadata": {
        "colab": {
          "base_uri": "https://localhost:8080/"
        },
        "id": "er7ibX98msMk",
        "outputId": "5e76430f-3828-442a-e255-680cc6c442f1"
      }
    },
    {
      "cell_type": "code",
      "execution_count": null,
      "source": [
        "trial = study_lgb.best_trial\n",
        "trial_params = trial.params\n",
        "print('Best Trial: score {},\\nparams {}'.format(trial.value, trial_params))"
      ],
      "outputs": [],
      "metadata": {
        "colab": {
          "base_uri": "https://localhost:8080/"
        },
        "id": "B0jauzQWMOy9",
        "outputId": "11910d0a-eb80-4040-b047-f37873542c07"
      }
    },
    {
      "cell_type": "markdown",
      "source": [
        "- 처음에 LightGBM 평균 RMSLE가 0.2390임을 감안했을때, 매우 성능이 향상됐음을 알 수 있습니다."
      ],
      "metadata": {}
    },
    {
      "cell_type": "markdown",
      "source": [
        "## LightGBM Submission\n",
        "- 이제 test 셋을 사용해서 inference를 해보고 실제 점수를 Dacon에서 확인해볼시간입니다.\n",
        "- 먼저 train 데이터에서 진행한 모든 전처리를 test 데이터에도 적용합니다."
      ],
      "metadata": {
        "id": "DYUFSMYQ384-"
      }
    },
    {
      "cell_type": "code",
      "execution_count": null,
      "source": [
        "train_df.head()"
      ],
      "outputs": [],
      "metadata": {}
    },
    {
      "cell_type": "code",
      "execution_count": null,
      "source": [
        "test_df.head()"
      ],
      "outputs": [],
      "metadata": {}
    },
    {
      "cell_type": "code",
      "execution_count": null,
      "source": [
        "final_lgb_model = lgb.LGBMRegressor(**trial_params)\n",
        "final_lgb_model.fit(train_X, train_y)\n",
        "final_lgb_pred = final_lgb_model.predict(test_df)"
      ],
      "outputs": [],
      "metadata": {
        "colab": {
          "base_uri": "https://localhost:8080/"
        },
        "id": "sZLpXN1eeG-6",
        "outputId": "45762c6a-d450-4f07-e187-529c0fa8e506"
      }
    },
    {
      "cell_type": "code",
      "execution_count": null,
      "source": [
        "final_lgb_pred"
      ],
      "outputs": [],
      "metadata": {
        "colab": {
          "base_uri": "https://localhost:8080/"
        },
        "id": "MavLjMu6kHFz",
        "outputId": "15feb884-080e-4cd1-b432-89cc69ecb030"
      }
    },
    {
      "cell_type": "code",
      "execution_count": null,
      "source": [
        "plt.barh(train_X.columns, final_lgb_model.feature_importances_)"
      ],
      "outputs": [],
      "metadata": {
        "colab": {
          "base_uri": "https://localhost:8080/",
          "height": 1000
        },
        "id": "hDinjAqWzZLd",
        "outputId": "3a9d6958-e61a-401c-fd09-03640f2fe117"
      }
    },
    {
      "cell_type": "markdown",
      "source": [
        "- 동, 완공연도, 면적, 아파트명 순으로 중요도가 높다고 나옵니다.\n",
        "- top 시공사는 별로 중요하지 않다고 하네요.."
      ],
      "metadata": {}
    },
    {
      "cell_type": "markdown",
      "source": [
        "## Submission\n",
        "- 이제 제출을 해봅시다.\n",
        "- 가격을 다시 역변환합니다."
      ],
      "metadata": {}
    },
    {
      "cell_type": "code",
      "execution_count": null,
      "source": [
        "final_pred_sub = np.expm1(final_lgb_pred)\n",
        "final_pred_sub"
      ],
      "outputs": [],
      "metadata": {
        "colab": {
          "base_uri": "https://localhost:8080/"
        },
        "id": "wSyQzIK6gX_D",
        "outputId": "86a54ed9-5393-489e-9795-732d3405dfbd"
      }
    },
    {
      "cell_type": "code",
      "execution_count": null,
      "source": [
        "sub = pd.read_csv('./input/test.csv')\n",
        "sub_df = pd.DataFrame({'transaction_id': sub['transaction_id'], 'transaction_real_price': final_pred_sub})\n",
        "sub_df"
      ],
      "outputs": [],
      "metadata": {
        "colab": {
          "base_uri": "https://localhost:8080/",
          "height": 419
        },
        "id": "pGjPIU4PiK74",
        "outputId": "ba4ad473-91fe-42c2-95d8-e0a47fbb57c4"
      }
    },
    {
      "cell_type": "code",
      "execution_count": null,
      "source": [
        "sub_df.to_csv('submission_lgb.csv', index=False)"
      ],
      "outputs": [],
      "metadata": {
        "id": "-phPm_bkkRDe"
      }
    },
    {
      "cell_type": "markdown",
      "source": [
        "여기까지 따라오시느라 고생하셨습니다.\n",
        "\n",
        "긴 글 봐주셔서 감사합니다:)"
      ],
      "metadata": {}
    },
    {
      "cell_type": "code",
      "execution_count": null,
      "source": [
        "import pandas as pd\n",
        "import numpy as np\n",
        "import matplotlib.pyplot as plt\n",
        "import seaborn as sns\n",
        "from tqdm import tqdm\n",
        "from sklearn.linear_model import LinearRegression, ElasticNet, Lasso, Ridge\n",
        "from sklearn.tree import DecisionTreeRegressor\n",
        "from sklearn.ensemble import RandomForestRegressor\n",
        "from sklearn.preprocessing import  LabelEncoder\n",
        "from sklearn.model_selection import TimeSeriesSplit\n",
        "from sklearn.metrics import mean_squared_error\n",
        "import xgboost as xgb\n",
        "import lightgbm as lgb\n",
        "import re\n",
        "import optuna\n",
        "\n",
        "sns.set_theme(style=\"darkgrid\")\n"
      ],
      "outputs": [],
      "metadata": {
        "id": "gUwouTkEyuR3"
      }
    },
    {
      "cell_type": "markdown",
      "source": [
        "## Data Load"
      ],
      "metadata": {
        "id": "1TRIEY3TyuR4"
      }
    },
    {
      "cell_type": "code",
      "execution_count": null,
      "source": [
        "train_df = pd.read_csv('./input/train.csv')\n",
        "test_df = pd.read_csv('./input/test.csv')"
      ],
      "outputs": [],
      "metadata": {
        "id": "nWFpn1T3yuR5"
      }
    },
    {
      "cell_type": "code",
      "execution_count": null,
      "source": [
        "train_df.head(3)"
      ],
      "outputs": [],
      "metadata": {}
    },
    {
      "cell_type": "code",
      "execution_count": null,
      "source": [
        "test_df.head(3)"
      ],
      "outputs": [],
      "metadata": {}
    },
    {
      "cell_type": "markdown",
      "source": [
        "- exclusive_use_area: 전용면적(한 세대만 독점적으로 사용하는 공간)\n",
        "- transaction_real_price: 실거래가(단위:만원, 타겟 값, train만 존재)\n",
        "- transaction_year_month: 거래년월\n",
        "- transaction_date: 거래일\n",
        "- floor: 층 \n",
        "\n",
        "- 데이터가 거래시간 순으로 이루어져 있습니다."
      ],
      "metadata": {
        "id": "rFlOm3HTyuR6"
      }
    },
    {
      "cell_type": "code",
      "execution_count": null,
      "source": [
        "print(train_df.shape)\n",
        "print(test_df.shape)"
      ],
      "outputs": [],
      "metadata": {}
    },
    {
      "cell_type": "markdown",
      "source": [
        "- 처음부터 train 데이터와 test데이터가 분리되어 있습니다. (id가 겹치지 않습니다.)\n",
        "    - train data: 1216552행 13열로 구성\n",
        "    - test data: 5463행 12열로 구성 (예측변수 'transaction_real_price'는 제외됨)"
      ],
      "metadata": {}
    },
    {
      "cell_type": "code",
      "execution_count": null,
      "source": [
        "train_df.head(5)"
      ],
      "outputs": [],
      "metadata": {
        "id": "jxDarwA4f4GE",
        "colab": {
          "base_uri": "https://localhost:8080/",
          "height": 240
        },
        "outputId": "e41306ce-b636-45f9-f5bb-bff6aaf4bd92"
      }
    },
    {
      "cell_type": "code",
      "execution_count": null,
      "source": [
        "train_df.describe() "
      ],
      "outputs": [],
      "metadata": {
        "colab": {
          "base_uri": "https://localhost:8080/",
          "height": 289
        },
        "id": "ptHosUTEyuR7",
        "scrolled": false,
        "outputId": "7d304bfd-f974-44c9-9f5d-bc1071455dc1"
      }
    },
    {
      "cell_type": "code",
      "execution_count": null,
      "source": [
        "train_df.info()"
      ],
      "outputs": [],
      "metadata": {
        "colab": {
          "base_uri": "https://localhost:8080/"
        },
        "id": "GqBnjIEryuR8",
        "outputId": "e3c511d5-76a7-4fec-e586-e07e6db5d3bd"
      }
    },
    {
      "cell_type": "markdown",
      "source": [
        "- train_df 결측치는 없습니다.\n",
        "- 건물들은 1961년 ~ 2017년에 완공됐습니다.\n",
        "- 9.26m^2 ~ 424.32m^2 전용면적을 가지고 있습니다.\n",
        "- Floor의 경우 음의 값이 존재합니다.\n",
        "- 실거래가는 100만원부터 820억까지 존재합니다."
      ],
      "metadata": {
        "id": "cPo0KrA4yuR8"
      }
    },
    {
      "cell_type": "code",
      "execution_count": null,
      "source": [
        "train_df.loc[train_df['transaction_real_price']==820000]"
      ],
      "outputs": [],
      "metadata": {
        "colab": {
          "base_uri": "https://localhost:8080/",
          "height": 147
        },
        "id": "1FwiQwyXyuR8",
        "scrolled": true,
        "outputId": "d84ed6be-d755-47f7-d954-2ad31dbfed2e"
      }
    },
    {
      "cell_type": "code",
      "execution_count": null,
      "source": [
        "test_df.describe()"
      ],
      "outputs": [],
      "metadata": {
        "colab": {
          "base_uri": "https://localhost:8080/",
          "height": 302
        },
        "id": "qr4bAphkZtqZ",
        "outputId": "5aa2b1ec-f7e4-4009-d09e-237baab0cf95"
      }
    },
    {
      "cell_type": "markdown",
      "source": [
        "- test 데이터는 거래 연월이 2017년 데이터만 존재합니다.\n",
        "- 완공연도는 train과 동일합니다.\n",
        "- 층은 -1층부터 존재합니다."
      ],
      "metadata": {}
    },
    {
      "cell_type": "code",
      "execution_count": null,
      "source": [
        "test_df.info()"
      ],
      "outputs": [],
      "metadata": {
        "colab": {
          "base_uri": "https://localhost:8080/"
        },
        "id": "7WgJSSXUZtkJ",
        "outputId": "f9ccd750-b449-4469-c658-c2014af3f399"
      }
    },
    {
      "cell_type": "markdown",
      "source": [
        "- 마찬가지로 결측치는 없습니다."
      ],
      "metadata": {}
    },
    {
      "cell_type": "markdown",
      "source": [
        "## Preprocessing"
      ],
      "metadata": {
        "id": "23AHCSypXODz"
      }
    },
    {
      "cell_type": "markdown",
      "source": [
        "### apart"
      ],
      "metadata": {
        "id": "11SmTN0zVJAp"
      }
    },
    {
      "cell_type": "code",
      "execution_count": null,
      "source": [
        "rain_df.head(1)"
      ],
      "outputs": [],
      "metadata": {}
    },
    {
      "cell_type": "markdown",
      "source": [
        "- 신현(101동)과 신현(102동)의 가격차이가 클까요?\n",
        "- apt 이름에 존재하는 괄호 + 괄호안 내용을 제거해서 통일하겠습니다."
      ],
      "metadata": {}
    },
    {
      "cell_type": "code",
      "execution_count": null,
      "source": [
        "#괄호와 괄호안내용 제거\n",
        "regex = \"\\(.*\\)|\\s-\\s.*\"\n",
        "for i in tqdm(range(len(train_df))):\n",
        "   train_df.at[i, 'apt'] = re.sub(regex, '', train_df.at[i, 'apt'])\n",
        "for i in tqdm(range(len(test_df))):\n",
        "   test_df.at[i, 'apt'] = re.sub(regex, '', test_df.at[i, 'apt'])   "
      ],
      "outputs": [],
      "metadata": {
        "id": "hqTsDvMvXNr7"
      }
    },
    {
      "cell_type": "code",
      "execution_count": null,
      "source": [
        "train_df['apt'].value_counts()[:20]"
      ],
      "outputs": [],
      "metadata": {
        "colab": {
          "base_uri": "https://localhost:8080/"
        },
        "id": "SV_-tgUVk8lo",
        "outputId": "4c83ff90-512c-4405-fbaf-3ae7abf61b74"
      }
    },
    {
      "cell_type": "code",
      "execution_count": null,
      "source": [
        "train_df['apt'].nunique()"
      ],
      "outputs": [],
      "metadata": {}
    },
    {
      "cell_type": "code",
      "execution_count": null,
      "source": [
        "# top 10 시공사 아파트 여부를 나타내는 컬럼 생성\n",
        "train_df['top10'] = 0\n",
        "test_df['top10'] = 0\n",
        "top10 = ['자이', '푸르지오', '더샵', '롯데캐슬', '이편한|e편한|e-편한',\n",
        "         '힐스테이트', '아이파크', '래미안', 'sk|SK|에스케이', '데시앙']\n",
        "\n",
        "train_df['apt'] = train_df['apt'].fillna('others')\n",
        "# top 10 시공사면 1, 아니면 0\n",
        "for i, brand in enumerate(top10):\n",
        "    train_df.loc[train_df['apt'].str.contains(brand), 'top10'] = 1\n",
        "    test_df.loc[test_df['apt'].str.contains(brand), 'top10'] = 1\n"
      ],
      "outputs": [],
      "metadata": {
        "id": "Tv03aoj2pLdG"
      }
    },
    {
      "cell_type": "code",
      "execution_count": null,
      "source": [
        "train_df.head(1)"
      ],
      "outputs": [],
      "metadata": {
        "colab": {
          "base_uri": "https://localhost:8080/",
          "height": 78
        },
        "id": "RNPils0FGIHT",
        "outputId": "5caf5500-9d12-48d2-dfd4-37be1a8d97b6"
      }
    },
    {
      "cell_type": "code",
      "execution_count": null,
      "source": [
        "from gensim.models.word2vec import Word2Vec\n",
        "model = Word2Vec([train_df['apt'].values.tolist()], min_count=1, vector_size=1024, sg=1, epochs=100)\n",
        "model.save('apt_w2v_1024_sg_100.model')"
      ],
      "outputs": [],
      "metadata": {
        "id": "6e_NdtpjTRhZ"
      }
    },
    {
      "cell_type": "code",
      "execution_count": null,
      "source": [
        "apt_w2v = Word2Vec.load('apt_w2v_1024_sg_100.model')"
      ],
      "outputs": [],
      "metadata": {}
    },
    {
      "cell_type": "code",
      "execution_count": null,
      "source": [
        "apt_w2v.wv.most_similar('현대')"
      ],
      "outputs": [],
      "metadata": {}
    },
    {
      "cell_type": "code",
      "execution_count": null,
      "source": [
        "dong_w2v.wv.most_similar('신교동')[-1]"
      ],
      "outputs": [],
      "metadata": {}
    },
    {
      "cell_type": "code",
      "execution_count": null,
      "source": [
        "train_df['apt_embedded'] = train_df['apt'].apply(lambda x: apt_w2v.wv[x])"
      ],
      "outputs": [],
      "metadata": {}
    },
    {
      "cell_type": "code",
      "execution_count": null,
      "source": [
        "train_df.head()"
      ],
      "outputs": [],
      "metadata": {}
    },
    {
      "cell_type": "markdown",
      "source": [
        "### date\n",
        "apt 전처리는 마쳤으니, 이번에는 date로 넘어가봅시다."
      ],
      "metadata": {
        "id": "wawdc1-NzQD3"
      }
    },
    {
      "cell_type": "code",
      "execution_count": null,
      "source": [
        "train_df.head(1)"
      ],
      "outputs": [],
      "metadata": {}
    },
    {
      "cell_type": "code",
      "execution_count": null,
      "source": [
        "train_df.describe()"
      ],
      "outputs": [],
      "metadata": {}
    },
    {
      "cell_type": "markdown",
      "source": [
        "- 날짜 관련 컬럼은 `year_of_completion`, `transaction_year_month`, `transaction_date`가 있습니다.\n",
        "- `transaction_date`는 0~10, 11~20, 21~30 총 세가지로 이루어져 있는데, 가격에 크게 영향을 미칠 것 같지 않아 제외합니다.\n",
        "각 컬럼의 최대/최소가\n",
        "- `year_of_completion`\n",
        "    - 최소연도: 1961년\n",
        "    - 최대연도: 2017년\n",
        "- `transaction_year_month`\n",
        "    - 최소연도: 2008년 1월\n",
        "    - 최대연도: 2017년 11월\n",
        "임을 확인합니다.\n",
        "- 최대연도에서 최소연도를 빼면 정수형 라벨인코딩이 완성되겠죠?\n",
        "- 사용하지 않을 열도 미리 제거하겠습니다.\n",
        "\n",
        "주의할 점은 test 데이터의 라벨인코딩입니다.\n",
        "- test 완공연도는 train 데이터와 동일하기 때문에 상관없습니다.\n",
        "- 대신 거래연월이 2017년 01월부터 12월까지로만 이루어져 있기 때문에, 최소값을 빼면 train 라벨인코딩과 다른 값이 됩니다.\n",
        "- 따라서 test의 거래연월에서 2017을 뺀 값에서 201701의 인코딩 값을 더해줍니다.\n"
      ],
      "metadata": {}
    },
    {
      "cell_type": "code",
      "execution_count": null,
      "source": [
        "# test 시작 거래연월인 인덱스 저장\n",
        "test_start = train_df.loc[train_df['transaction_year_month'] == 201701, 'transaction_year_month'].index[0]"
      ],
      "outputs": [],
      "metadata": {}
    },
    {
      "cell_type": "code",
      "execution_count": null,
      "source": [
        "# 완공연도에서 최소연도를 뺌으로써 완공연도 라벨인코딩\n",
        "print('변환전\\n', train_df['year_of_completion'].unique()[:5])\n",
        "train_df['year_of_completion'] = train_df['year_of_completion'] - train_df['year_of_completion'].min()\n",
        "test_df['year_of_completion'] = test_df['year_of_completion'] - test_df['year_of_completion'].min()\n",
        "print('변환후\\n', train_df['year_of_completion'].unique()[:5])\n",
        "\n",
        "# 연월 증가하는 순으로 라벨 인코딩\n",
        "print('train 변환전\\n', train_df['transaction_year_month'].unique()[:5])\n",
        "print('test 변환전\\n', test_df['transaction_year_month'].unique()[:5])\n",
        "le = LabelEncoder()\n",
        "train_df['transaction_year_month'] = le.fit_transform(train_df['transaction_year_month'])\n",
        "# test는 다음과 같이 처리\n",
        "test_df['transaction_year_month'] = test_df['transaction_year_month'] - test_df['transaction_year_month'].min() + train_df.at[test_start, 'transaction_year_month']\n",
        "print('train 변환후\\n', train_df['transaction_year_month'].unique()[:5])\n",
        "print('test 변환후\\n', test_df['transaction_year_month'].unique()[:5])\n",
        "\n",
        "# 필요없는 열 제거\n",
        "train_df = train_df.drop(['jibun', 'transaction_date', 'addr_kr'], axis=1)\n",
        "test_df = test_df.drop(['jibun', 'transaction_date', 'addr_kr'], axis=1)"
      ],
      "outputs": [],
      "metadata": {
        "id": "OFOkDMGoCd35",
        "colab": {
          "base_uri": "https://localhost:8080/"
        },
        "outputId": "496a9a09-1774-4670-a8d0-deb85e4728d3"
      }
    },
    {
      "cell_type": "code",
      "execution_count": null,
      "source": [
        "train_df.head(5)"
      ],
      "outputs": [],
      "metadata": {
        "colab": {
          "base_uri": "https://localhost:8080/",
          "height": 289
        },
        "id": "I36E-yHw6cVd",
        "outputId": "884eb0d1-9774-424a-af6e-723110db99d5"
      }
    },
    {
      "cell_type": "code",
      "execution_count": null,
      "source": [
        "test_df"
      ],
      "outputs": [],
      "metadata": {}
    },
    {
      "cell_type": "code",
      "execution_count": null,
      "source": [
        "train_df.describe()"
      ],
      "outputs": [],
      "metadata": {}
    },
    {
      "cell_type": "code",
      "execution_count": null,
      "source": [
        "test_df.describe()"
      ],
      "outputs": [],
      "metadata": {}
    },
    {
      "cell_type": "markdown",
      "source": [
        "### dong\n",
        "- 이번에는 주소의 동입니다.\n",
        "- 먼저 서울과 부산에서 같은 이름을 가진 동이 있는지 확인해보겠습니다."
      ],
      "metadata": {
        "id": "A2MobnpAFtge"
      }
    },
    {
      "cell_type": "code",
      "execution_count": null,
      "source": [
        "seoul_set = set(train_df.loc[train_df['city']=='서울특별시', 'dong'])\n",
        "busan_set = set(train_df.loc[train_df['city']=='부산광역시', 'dong'])\n",
        "same_dong = seoul_set & busan_set \n",
        "print(same_dong)\n",
        "\n",
        "seoul_set = set(test_df.loc[test_df['city']=='서울특별시', 'dong'])\n",
        "busan_set = set(test_df.loc[test_df['city']=='부산광역시', 'dong'])\n",
        "same_dong = seoul_set & busan_set \n",
        "print(same_dong)"
      ],
      "outputs": [],
      "metadata": {
        "colab": {
          "base_uri": "https://localhost:8080/"
        },
        "id": "vQCgXMAfxAiq",
        "outputId": "007f59c5-b780-4061-abbd-100513827d8f"
      }
    },
    {
      "cell_type": "markdown",
      "source": [
        "- 서울과 부산에 중동, 부암동, 송정동, 사직동 총 네 동이 겹칩니다.\n",
        "- 접두사에 서울 또는 부산을 붙여 같은동을 분리하겠습니다."
      ],
      "metadata": {
        "id": "blkoRsDFLwGu"
      }
    },
    {
      "cell_type": "code",
      "execution_count": null,
      "source": [
        "for d in same_dong:\n",
        "    train_df.loc[(train_df['city']=='서울특별시') & (train_df['dong']==d), 'dong'] = '서울' + d\n",
        "    train_df.loc[(train_df['city']=='부산광역시') & (train_df['dong']==d), 'dong'] = '부산' + d\n",
        "    test_df.loc[(test_df['city']=='서울특별시') & (test_df['dong']==d), 'dong'] = '서울' + d\n",
        "    test_df.loc[(test_df['city']=='부산광역시') & (test_df['dong']==d), 'dong'] = '부산' + d\n",
        "    \n",
        "\n",
        "seoul_set = set(train_df.loc[train_df['city']=='서울특별시', 'dong'])\n",
        "busan_set = set(train_df.loc[train_df['city']=='부산광역시', 'dong'])\n",
        "same_dong = seoul_set & busan_set\n",
        "print(same_dong)  "
      ],
      "outputs": [],
      "metadata": {
        "colab": {
          "base_uri": "https://localhost:8080/"
        },
        "id": "K0CXRKKrFzTY",
        "outputId": "de28ff2e-871c-46dd-ba81-514f005b597c"
      }
    },
    {
      "cell_type": "markdown",
      "source": [
        "- 더 이상 겹치는 동이 없습니다.\n",
        "- 이번에는 동별로 평균 가격을 확인해보겠습니다.\n",
        "- 아파트 평균 가격을 확인하는 방법과 동일합니다."
      ],
      "metadata": {
        "id": "WnFIELvHLs39"
      }
    },
    {
      "cell_type": "code",
      "execution_count": null,
      "source": [
        "model = Word2Vec([train_df['dong'].values.tolist()], min_count=1, vector_size=1024, sg=1, epochs=100)\n",
        "model.save('dong_w2v_1024_sg_100.model')\n",
        "dong_w2v = Word2Vec.load('dong_w2v_1024_sg_100.model')\n",
        "train_df['dong_embedded'] = train_df['dong'].apply(lambda x: dong_w2v.wv[x])\n",
        "train_df"
      ],
      "outputs": [],
      "metadata": {
        "colab": {
          "base_uri": "https://localhost:8080/"
        },
        "id": "QXlhPfyKINGd",
        "outputId": "569b0615-54b9-4fa9-b902-1df3c1868092"
      }
    },
    {
      "cell_type": "markdown",
      "source": [
        "### Floor"
      ],
      "metadata": {
        "id": "Clo1cRwm9Q96"
      }
    },
    {
      "cell_type": "code",
      "execution_count": null,
      "source": [
        "train_df.describe()"
      ],
      "outputs": [],
      "metadata": {
        "colab": {
          "base_uri": "https://localhost:8080/",
          "height": 289
        },
        "id": "E52JpjJGEXsQ",
        "outputId": "d09ccb38-9ef0-4e58-e9f1-1b48c39f5ce6"
      }
    },
    {
      "cell_type": "markdown",
      "source": [
        "- 최소층이 -4층임을 확인할 수 있습니다.\n",
        "- 4를 더해서 라벨인코딩을 진행해줍니다.\n",
        "- test는 최소층이 -1층이었으니 맞게 변환합니다."
      ],
      "metadata": {}
    },
    {
      "cell_type": "code",
      "execution_count": null,
      "source": [
        "# 최소값이 -4이므로 4를 더해서 음수를 없애고 순서형범주처리\n",
        "print('변환전\\n', train_df['floor'].values[:5])\n",
        "train_df['floor'] = train_df['floor'].map(lambda x: x+4)\n",
        "test_df['floor'] = test_df['floor'].map(lambda x: x+1)\n",
        "print('변환후\\n', train_df['floor'].values[:5])"
      ],
      "outputs": [],
      "metadata": {
        "colab": {
          "base_uri": "https://localhost:8080/"
        },
        "id": "nK9SRgPE9SXB",
        "outputId": "b5dd85c9-727d-45b3-bbe2-517823be3018"
      }
    },
    {
      "cell_type": "markdown",
      "source": [
        "### Price\n",
        "- 이제 타겟데이터를 살펴보겠습니다."
      ],
      "metadata": {
        "id": "VF5P_T3_yuR9"
      }
    },
    {
      "cell_type": "code",
      "execution_count": null,
      "source": [
        "# train price\n",
        "plt.figure()\n",
        "sns.displot(train_df['transaction_real_price'], bins=30)\n",
        "plt.xlabel('Price(10000 won)')\n",
        "plt.title('Distribution of Price')\n",
        "plt.show()"
      ],
      "outputs": [],
      "metadata": {
        "colab": {
          "base_uri": "https://localhost:8080/",
          "height": 293
        },
        "id": "LBVn1yB1yuR9",
        "scrolled": true,
        "outputId": "b74d57ee-f27b-4005-b2d3-96ad4b93897d"
      }
    },
    {
      "cell_type": "markdown",
      "source": [
        "- 가격의 분포가 매우 왼쪽으로 치우친 것을 확인할 수 있습니다.\n",
        "- 타겟 변수의 이상치가 회귀모형을 사용한 예측에 큰 영향을 줄 수 있으니,\n",
        "    - 로그 변환으로 정규화한뒤, 나중에 다시 역변환하겠습니다!"
      ],
      "metadata": {
        "id": "ZLsEvIOVyuR-"
      }
    },
    {
      "cell_type": "code",
      "execution_count": null,
      "source": [
        "# 가격 로그 변환 후 원래 가격 따로 저장\n",
        "train_df['log_price'] = np.log1p(train_df['transaction_real_price'])\n",
        "real_price = train_df['transaction_real_price'] # 원래 가격\n",
        "train_df.drop('transaction_real_price', axis=1, inplace=True)\n",
        "train_df.head(1)"
      ],
      "outputs": [],
      "metadata": {
        "colab": {
          "base_uri": "https://localhost:8080/",
          "height": 78
        },
        "id": "m6K6o48uJ-K8",
        "outputId": "3458fa07-891c-4fbb-966b-7018d9757965"
      }
    },
    {
      "cell_type": "markdown",
      "source": [
        "- 잘 변환이 됐는지 그래프를 그려보겠습니다."
      ],
      "metadata": {}
    },
    {
      "cell_type": "code",
      "execution_count": null,
      "source": [
        "f, (ax1, ax2) = plt.subplots(1,2,figsize=(12,6))\n",
        "\n",
        "ax1.hist(real_price, bins=30)\n",
        "ax1.set_title('Price Distribution')\n",
        "ax1.set_xlabel('Price')\n",
        "\n",
        "ax2.hist(train_df['log_price'], bins=30)\n",
        "ax2.set_title('Log Price Distribution')\n",
        "ax2.set_xlabel('Log Price')\n",
        "\n",
        "plt.show()"
      ],
      "outputs": [],
      "metadata": {
        "colab": {
          "base_uri": "https://localhost:8080/",
          "height": 423
        },
        "id": "fZzNvGO7xHRX",
        "outputId": "64de9d88-9350-4265-f17f-51359260bd09"
      }
    },
    {
      "cell_type": "markdown",
      "source": [
        "- 가격이 정규분포처럼 잘 근사됐네요 :)"
      ],
      "metadata": {}
    },
    {
      "cell_type": "markdown",
      "source": [
        "### Area\n",
        "- 면적도 가격과 동일하게!"
      ],
      "metadata": {
        "id": "AVTeTEfRr15R"
      }
    },
    {
      "cell_type": "code",
      "execution_count": null,
      "source": [
        "# train area\n",
        "plt.figure()\n",
        "sns.displot(train_df['exclusive_use_area'], bins=30)\n",
        "plt.xlabel('Area(Square meter)')\n",
        "plt.title('Distribution of Area')\n",
        "plt.show()"
      ],
      "outputs": [],
      "metadata": {
        "colab": {
          "base_uri": "https://localhost:8080/",
          "height": 295
        },
        "id": "EKSc4UJ6yuR-",
        "scrolled": false,
        "outputId": "7342cd98-a018-4468-9a09-8f238f27bb84"
      }
    },
    {
      "cell_type": "code",
      "execution_count": null,
      "source": [
        "# 면적 로그 변환 후 원래 면적 따로 저장\n",
        "train_df['log_area'] = np.log1p(train_df['exclusive_use_area'])\n",
        "test_df['log_area'] = np.log1p(test_df['exclusive_use_area'])\n",
        "area = train_df['exclusive_use_area'] # 원래 가격\n",
        "train_df.drop('exclusive_use_area', axis=1, inplace=True)\n",
        "test_df.drop('exclusive_use_area', axis=1, inplace=True)\n",
        "train_df.head(1)"
      ],
      "outputs": [],
      "metadata": {
        "colab": {
          "base_uri": "https://localhost:8080/",
          "height": 78
        },
        "id": "Mww8qNfzrmeU",
        "outputId": "cbfe2e36-0168-41be-d5c5-846eb3cf59e3"
      }
    },
    {
      "cell_type": "code",
      "execution_count": null,
      "source": [
        "f, (ax1, ax2) = plt.subplots(1,2,figsize=(12,6))\n",
        "\n",
        "ax1.hist(area, bins=30)\n",
        "ax1.set_title('Distribution of Area')\n",
        "ax1.set_xlabel('Area')\n",
        "\n",
        "ax2.hist(train_df['log_area'], bins=30)\n",
        "ax2.set_title('Distribution of Log Area')\n",
        "ax2.set_xlabel('Area')\n",
        "\n",
        "plt.show()"
      ],
      "outputs": [],
      "metadata": {
        "colab": {
          "base_uri": "https://localhost:8080/",
          "height": 296
        },
        "id": "XWFge8LqCf_8",
        "outputId": "7e6948d7-c682-4345-cb3a-f6bfecbe9530"
      }
    },
    {
      "cell_type": "markdown",
      "source": [
        "- 가격만큼 만족스럽진 않지만.. 그냥 쓰겠습니다 ㅎㅎ"
      ],
      "metadata": {}
    },
    {
      "cell_type": "markdown",
      "source": [
        "### Encoding\n",
        "- 인코딩은 이제 `city`만 진행하면 됩니다.\n",
        "- `city`는 서울특별시면 1, 부산광역시면 0으로 변환하겠습니다.\n",
        "- 학습에 사용하지 않을 피쳐들도 제거하겠습니다."
      ],
      "metadata": {
        "id": "RlvQNiQdEzQs"
      }
    },
    {
      "cell_type": "code",
      "execution_count": null,
      "source": [
        "drop_col = ['transaction_id', 'apartment_id', 'dong', 'apt']\n",
        "\n",
        "train_df['city'] = train_df['city'].map(lambda x: 1 if x == '서울특별시' else 0)\n",
        "test_df['city'] = test_df['city'].map(lambda x: 1 if x == '서울특별시' else 0)"
      ],
      "outputs": [],
      "metadata": {
        "id": "jANAQVK291VZ"
      }
    },
    {
      "cell_type": "code",
      "execution_count": null,
      "source": [
        "train_df.drop(drop_col, axis=1, inplace=True)\n",
        "test_df.drop(drop_col, axis=1, inplace=True)\n",
        "train_df.head(1)"
      ],
      "outputs": [],
      "metadata": {
        "colab": {
          "base_uri": "https://localhost:8080/",
          "height": 199
        },
        "id": "iM8tGHMMtPgt",
        "outputId": "fb0dee39-a1e7-46e0-c0e6-a60ca19a7d3c"
      }
    },
    {
      "cell_type": "code",
      "execution_count": null,
      "source": [
        "test_df.head(1)"
      ],
      "outputs": [],
      "metadata": {}
    },
    {
      "cell_type": "code",
      "execution_count": null,
      "source": [
        "train_df.info()"
      ],
      "outputs": [],
      "metadata": {}
    },
    {
      "cell_type": "code",
      "execution_count": null,
      "source": [
        "print(train_df.shape, test_df.shape)"
      ],
      "outputs": [],
      "metadata": {
        "colab": {
          "base_uri": "https://localhost:8080/"
        },
        "id": "3X4UMl3AZQO0",
        "outputId": "82d5c3a6-8df3-42ae-8e9a-18167794a97e"
      }
    },
    {
      "cell_type": "code",
      "execution_count": 116,
      "source": [
        "import tensorflow as tf\n",
        "train_df['apt_embedded'] = train_df['apt_embedded'].apply(lambda x: tf.reshape(x, [-1]).numpy())\n",
        "train_df['dong_embedded'] = train_df['dong_embedded'].apply(lambda x: tf.reshape(x, [-1]).numpy())\n",
        "train_X, train_y = train_df.drop(['log_price', 'dong', 'apt'], axis=1), train_df['log_price']\n",
        "print(train_X.shape, train_y.shape)"
      ],
      "outputs": [],
      "metadata": {}
    },
    {
      "cell_type": "code",
      "execution_count": null,
      "source": [
        "def RMSE(y, y_pred):\n",
        "    rmse = mean_squared_error(y, y_pred) ** 0.5\n",
        "    return rmse"
      ],
      "outputs": [],
      "metadata": {
        "id": "b1QCDF4M0A_K"
      }
    },
    {
      "cell_type": "markdown",
      "source": [
        "- 간단하게 모델을 정의합니다."
      ],
      "metadata": {}
    },
    {
      "cell_type": "code",
      "execution_count": null,
      "source": [
        "reg = LinearRegression(n_jobs=-1)\n",
        "ridge = Ridge(alpha=0.8, random_state=1)\n",
        "lasso = Lasso(alpha = 0.01, random_state=1)\n",
        "Enet = ElasticNet(alpha=0.03, l1_ratio=0.01, random_state=1)\n",
        "DTree = DecisionTreeRegressor(max_depth=6, min_samples_split=10, min_samples_leaf=15, random_state=1)\n",
        "rf = RandomForestRegressor(n_estimators=500, criterion='mse', max_depth=9, min_samples_split=50,\n",
        "                           min_samples_leaf=5, random_state=1, n_jobs=-1)\n",
        "model_xgb = xgb.XGBRegressor(n_estimators=500, max_depth=9, min_child_weight=5, gamma=0.1, n_jobs=-1)\n",
        "model_lgb = lgb.LGBMRegressor(n_estimators=500, max_depth=9, min_child_weight=5, n_jobs=-1)"
      ],
      "outputs": [],
      "metadata": {
        "id": "NFaDSJHXcJUm"
      }
    },
    {
      "cell_type": "markdown",
      "source": [
        "- 학습을 시키고 성능을 테스트합니다.\n",
        "- i9-10980XE CPU를 사용했을 때, 아래의 CV 시간은 약 800초 정도 소요됩니다."
      ],
      "metadata": {}
    },
    {
      "cell_type": "code",
      "execution_count": null,
      "source": [
        "import tensorflow as tf\n",
        "for e in train_X['dong_embedded']:\n",
        "    print(tf.reshape(e, [-1]).numpy())\n",
        "    break"
      ],
      "outputs": [],
      "metadata": {}
    },
    {
      "cell_type": "code",
      "execution_count": null,
      "source": [
        "train_X['dong_embedded'][0"
      ],
      "outputs": [],
      "metadata": {}
    },
    {
      "cell_type": "code",
      "execution_count": null,
      "source": [
        "models = []\n",
        "scores = []\n",
        "train_data = lgb.Dataset(train_X, label=train_y)\n",
        "for model in [model_lgb]:\n",
        "    model_name, mean_score = print_rmse_score(model)\n",
        "    models.append(model_name)\n",
        "    scores.append(mean_score)"
      ],
      "outputs": [],
      "metadata": {
        "colab": {
          "base_uri": "https://localhost:8080/"
        },
        "id": "x_OHU1WM1aAY",
        "outputId": "d3c6ad96-0560-4592-f9e3-d81501ab1fd9"
      }
    },
    {
      "cell_type": "code",
      "execution_count": null,
      "source": [
        "result_df = pd.DataFrame({'Model': models, 'Score': scores}).reset_index(drop=True)\n",
        "result_df"
      ],
      "outputs": [],
      "metadata": {
        "colab": {
          "base_uri": "https://localhost:8080/",
          "height": 297
        },
        "id": "XhBskjS8SfGR",
        "outputId": "d3ba7e4d-712c-449d-9390-4849ba909674"
      }
    },
    {
      "cell_type": "code",
      "execution_count": null,
      "source": [
        "f, ax = plt.subplots(figsize=(10, 6))\n",
        "plt.xticks(rotation='90')\n",
        "sns.barplot(x=result_df['Model'], y=result_df['Score'])\n",
        "plt.xlabel('Models', fontsize=15)\n",
        "plt.ylabel('Model Performance', fontsize=15)\n",
        "plt.ylim(0.22, 0.32)\n",
        "plt.title('RMSLE', fontsize=15)\n",
        "plt.show()"
      ],
      "outputs": [],
      "metadata": {
        "colab": {
          "base_uri": "https://localhost:8080/",
          "height": 490
        },
        "id": "KCjf4sknda7P",
        "outputId": "c7c3d4b1-d57a-480a-aaa9-ec4bd2bf9884"
      }
    },
    {
      "cell_type": "markdown",
      "source": [
        "- CV 결과 LightGBM의 평균 RMSLE가 0.2395로 가장 작은 것을 알 수 있습니다.\n",
        "- 이제, LightGBM을 이용하여 하이퍼 파라미터 튜닝을 진행하겠습니다. "
      ],
      "metadata": {
        "id": "z47Xwazyz4Hv"
      }
    },
    {
      "cell_type": "markdown",
      "source": [
        "### Hyperparameter Tuning\n",
        "- 시간적 비용을 고려하여, 하이퍼 파라미터 튜닝에서는 TimeSeries CV를 사용하지 않겠습니다.\n",
        "- 대신 train 데이터를 8:2 비율로 분할하여 학습과 검증에 사용하겠습니다.\n",
        "- 마찬가지로 데이터가 섞이지 않게, 검증 데이터는 train 데이터의 마지막 20%을 사용하겠습니다."
      ],
      "metadata": {
        "id": "Ln1OZScO0avm"
      }
    },
    {
      "cell_type": "code",
      "execution_count": null,
      "source": [
        "cut = int(len(train_df)*0.8)\n",
        "h_train = train_df[:cut]\n",
        "h_valid = train_df[cut:]\n",
        "\n",
        "h_train_X = h_train.drop('log_price', axis=1)\n",
        "h_train_y = h_train['log_price']\n",
        "h_valid_X = h_valid.drop('log_price', axis=1)\n",
        "h_valid_y = h_valid['log_price']\n",
        "print(h_train_X.shape, h_train_y.shape, h_valid_X.shape, h_valid_y.shape)"
      ],
      "outputs": [],
      "metadata": {
        "colab": {
          "base_uri": "https://localhost:8080/"
        },
        "id": "bjpjn-b-19G3",
        "outputId": "cea54506-8190-4da8-f15f-88b13ece2a05"
      }
    },
    {
      "cell_type": "code",
      "execution_count": null,
      "source": [
        "h_train_X.head()"
      ],
      "outputs": [],
      "metadata": {
        "colab": {
          "base_uri": "https://localhost:8080/",
          "height": 204
        },
        "id": "1iyD2ucAheDo",
        "outputId": "008f6dd8-ac0b-4d1e-dd57-82139dfa5a08"
      }
    },
    {
      "cell_type": "markdown",
      "source": [
        "- optuna를 사용하여 하이퍼 파라미터 튜닝을 진행합니다.\n",
        "- 약 20분 정도 진행됩니다."
      ],
      "metadata": {
        "id": "DXHdIn-8muf7"
      }
    },
    {
      "cell_type": "code",
      "execution_count": null,
      "source": [
        "from optuna.samplers import TPESampler\n",
        "\n",
        "sampler = TPESampler(seed=10)\n",
        "\n",
        "def objective(trial):\n",
        "    dtrain = lgb.Dataset(h_train_X, label=h_train_y)\n",
        "    dtest = lgb.Dataset(h_valid_X, label=h_valid_y)\n",
        "\n",
        "    param = {\n",
        "        'objective': 'regression', # 회귀\n",
        "        'verbose': -1,\n",
        "        'metric': 'rmse', \n",
        "        'max_depth': trial.suggest_int('max_depth',3, 15),\n",
        "        'learning_rate': trial.suggest_loguniform(\"learning_rate\", 1e-8, 1e-2),\n",
        "        'n_estimators': trial.suggest_int('n_estimators', 100, 3000),\n",
        "        'min_child_samples': trial.suggest_int('min_child_samples', 5, 100),\n",
        "        'subsample': trial.suggest_loguniform('subsample', 0.4, 1),\n",
        "    }\n",
        "\n",
        "    model = lgb.LGBMRegressor(**param)\n",
        "    lgb_model = model.fit(h_train_X, h_train_y, eval_set=[(h_valid_X, h_valid_y)], verbose=0, early_stopping_rounds=25)\n",
        "    rmse = RMSE(h_valid_y, lgb_model.predict(h_valid_X))\n",
        "    return rmse\n",
        "        \n",
        "study_lgb = optuna.create_study(direction='minimize', sampler=sampler)\n",
        "study_lgb.optimize(objective, n_trials=100)"
      ],
      "outputs": [],
      "metadata": {
        "colab": {
          "base_uri": "https://localhost:8080/"
        },
        "id": "er7ibX98msMk",
        "outputId": "5e76430f-3828-442a-e255-680cc6c442f1"
      }
    },
    {
      "cell_type": "code",
      "execution_count": null,
      "source": [
        "trial = study_lgb.best_trial\n",
        "trial_params = trial.params\n",
        "print('Best Trial: score {},\\nparams {}'.format(trial.value, trial_params))"
      ],
      "outputs": [],
      "metadata": {
        "colab": {
          "base_uri": "https://localhost:8080/"
        },
        "id": "B0jauzQWMOy9",
        "outputId": "11910d0a-eb80-4040-b047-f37873542c07"
      }
    },
    {
      "cell_type": "markdown",
      "source": [
        "- 처음에 LightGBM 평균 RMSLE가 0.2390임을 감안했을때, 매우 성능이 향상됐음을 알 수 있습니다."
      ],
      "metadata": {}
    },
    {
      "cell_type": "markdown",
      "source": [
        "## LightGBM Submission\n",
        "- 이제 test 셋을 사용해서 inference를 해보고 실제 점수를 Dacon에서 확인해볼시간입니다.\n",
        "- 먼저 train 데이터에서 진행한 모든 전처리를 test 데이터에도 적용합니다."
      ],
      "metadata": {
        "id": "DYUFSMYQ384-"
      }
    },
    {
      "cell_type": "code",
      "execution_count": null,
      "source": [
        "train_df.head()"
      ],
      "outputs": [],
      "metadata": {}
    },
    {
      "cell_type": "code",
      "execution_count": null,
      "source": [
        "test_df.head()"
      ],
      "outputs": [],
      "metadata": {}
    },
    {
      "cell_type": "code",
      "execution_count": null,
      "source": [
        "final_lgb_model = lgb.LGBMRegressor(**trial_params)\n",
        "final_lgb_model.fit(train_X, train_y)\n",
        "final_lgb_pred = final_lgb_model.predict(test_df)"
      ],
      "outputs": [],
      "metadata": {
        "colab": {
          "base_uri": "https://localhost:8080/"
        },
        "id": "sZLpXN1eeG-6",
        "outputId": "45762c6a-d450-4f07-e187-529c0fa8e506"
      }
    },
    {
      "cell_type": "code",
      "execution_count": null,
      "source": [
        "final_lgb_pred"
      ],
      "outputs": [],
      "metadata": {
        "colab": {
          "base_uri": "https://localhost:8080/"
        },
        "id": "MavLjMu6kHFz",
        "outputId": "15feb884-080e-4cd1-b432-89cc69ecb030"
      }
    },
    {
      "cell_type": "code",
      "execution_count": null,
      "source": [
        "plt.barh(train_X.columns, final_lgb_model.feature_importances_)"
      ],
      "outputs": [],
      "metadata": {
        "colab": {
          "base_uri": "https://localhost:8080/",
          "height": 1000
        },
        "id": "hDinjAqWzZLd",
        "outputId": "3a9d6958-e61a-401c-fd09-03640f2fe117"
      }
    },
    {
      "cell_type": "markdown",
      "source": [
        "- 동, 완공연도, 면적, 아파트명 순으로 중요도가 높다고 나옵니다.\n",
        "- top 시공사는 별로 중요하지 않다고 하네요.."
      ],
      "metadata": {}
    },
    {
      "cell_type": "markdown",
      "source": [
        "## Submission\n",
        "- 이제 제출을 해봅시다.\n",
        "- 가격을 다시 역변환합니다."
      ],
      "metadata": {}
    },
    {
      "cell_type": "code",
      "execution_count": null,
      "source": [
        "final_pred_sub = np.expm1(final_lgb_pred)\n",
        "final_pred_sub"
      ],
      "outputs": [],
      "metadata": {
        "colab": {
          "base_uri": "https://localhost:8080/"
        },
        "id": "wSyQzIK6gX_D",
        "outputId": "86a54ed9-5393-489e-9795-732d3405dfbd"
      }
    },
    {
      "cell_type": "code",
      "execution_count": null,
      "source": [
        "sub = pd.read_csv('./input/test.csv')\n",
        "sub_df = pd.DataFrame({'transaction_id': sub['transaction_id'], 'transaction_real_price': final_pred_sub})\n",
        "sub_df"
      ],
      "outputs": [],
      "metadata": {
        "colab": {
          "base_uri": "https://localhost:8080/",
          "height": 419
        },
        "id": "pGjPIU4PiK74",
        "outputId": "ba4ad473-91fe-42c2-95d8-e0a47fbb57c4"
      }
    },
    {
      "cell_type": "code",
      "execution_count": null,
      "source": [
        "sub_df.to_csv('submission_lgb.csv', index=False)"
      ],
      "outputs": [],
      "metadata": {
        "id": "-phPm_bkkRDe"
      }
    },
    {
      "cell_type": "markdown",
      "source": [
        "여기까지 따라오시느라 고생하셨습니다.\n",
        "\n",
        "긴 글 봐주셔서 감사합니다:)"
      ],
      "metadata": {}
    },
    {
      "cell_type": "code",
      "execution_count": null,
      "source": [
        "trial = study_lgb.best_trial\n",
        "trial_params = trial.params\n",
        "print('Best Trial: score {},\\nparams {}'.format(trial.value, trial_params))"
      ],
      "outputs": [],
      "metadata": {
        "colab": {
          "base_uri": "https://localhost:8080/"
        },
        "id": "B0jauzQWMOy9",
        "outputId": "11910d0a-eb80-4040-b047-f37873542c07"
      }
    },
    {
      "cell_type": "markdown",
      "source": [
        "- 처음에 LightGBM 평균 RMSLE가 0.2390임을 감안했을때, 매우 성능이 향상됐음을 알 수 있습니다."
      ],
      "metadata": {}
    },
    {
      "cell_type": "markdown",
      "source": [
        "## LightGBM Submission\n",
        "- 이제 test 셋을 사용해서 inference를 해보고 실제 점수를 Dacon에서 확인해볼시간입니다.\n",
        "- 먼저 train 데이터에서 진행한 모든 전처리를 test 데이터에도 적용합니다."
      ],
      "metadata": {
        "id": "DYUFSMYQ384-"
      }
    },
    {
      "cell_type": "code",
      "execution_count": null,
      "source": [
        "train_df.head()"
      ],
      "outputs": [],
      "metadata": {}
    },
    {
      "cell_type": "code",
      "execution_count": null,
      "source": [
        "test_df.head()"
      ],
      "outputs": [],
      "metadata": {}
    },
    {
      "cell_type": "code",
      "execution_count": null,
      "source": [
        "final_lgb_model = lgb.LGBMRegressor(**trial_params)\n",
        "final_lgb_model.fit(train_X, train_y)\n",
        "final_lgb_pred = final_lgb_model.predict(test_df)"
      ],
      "outputs": [],
      "metadata": {
        "colab": {
          "base_uri": "https://localhost:8080/"
        },
        "id": "sZLpXN1eeG-6",
        "outputId": "45762c6a-d450-4f07-e187-529c0fa8e506"
      }
    },
    {
      "cell_type": "code",
      "execution_count": null,
      "source": [
        "final_lgb_pred"
      ],
      "outputs": [],
      "metadata": {
        "colab": {
          "base_uri": "https://localhost:8080/"
        },
        "id": "MavLjMu6kHFz",
        "outputId": "15feb884-080e-4cd1-b432-89cc69ecb030"
      }
    },
    {
      "cell_type": "code",
      "execution_count": null,
      "source": [
        "plt.barh(train_X.columns, final_lgb_model.feature_importances_)"
      ],
      "outputs": [],
      "metadata": {
        "colab": {
          "base_uri": "https://localhost:8080/",
          "height": 1000
        },
        "id": "hDinjAqWzZLd",
        "outputId": "3a9d6958-e61a-401c-fd09-03640f2fe117"
      }
    },
    {
      "cell_type": "markdown",
      "source": [
        "- 동, 완공연도, 면적, 아파트명 순으로 중요도가 높다고 나옵니다.\n",
        "- top 시공사는 별로 중요하지 않다고 하네요.."
      ],
      "metadata": {}
    },
    {
      "cell_type": "markdown",
      "source": [
        "## Submission\n",
        "- 이제 제출을 해봅시다.\n",
        "- 가격을 다시 역변환합니다."
      ],
      "metadata": {}
    },
    {
      "cell_type": "code",
      "execution_count": null,
      "source": [
        "final_pred_sub = np.expm1(final_lgb_pred)\n",
        "final_pred_sub"
      ],
      "outputs": [],
      "metadata": {
        "colab": {
          "base_uri": "https://localhost:8080/"
        },
        "id": "wSyQzIK6gX_D",
        "outputId": "86a54ed9-5393-489e-9795-732d3405dfbd"
      }
    },
    {
      "cell_type": "code",
      "execution_count": null,
      "source": [
        "sub = pd.read_csv('./input/test.csv')\n",
        "sub_df = pd.DataFrame({'transaction_id': sub['transaction_id'], 'transaction_real_price': final_pred_sub})\n",
        "sub_df"
      ],
      "outputs": [],
      "metadata": {
        "colab": {
          "base_uri": "https://localhost:8080/",
          "height": 419
        },
        "id": "pGjPIU4PiK74",
        "outputId": "ba4ad473-91fe-42c2-95d8-e0a47fbb57c4"
      }
    },
    {
      "cell_type": "code",
      "execution_count": null,
      "source": [
        "sub_df.to_csv('submission_lgb.csv', index=False)"
      ],
      "outputs": [],
      "metadata": {
        "id": "-phPm_bkkRDe"
      }
    },
    {
      "cell_type": "markdown",
      "source": [
        "여기까지 따라오시느라 고생하셨습니다.\n",
        "\n",
        "긴 글 봐주셔서 감사합니다:)"
      ],
      "metadata": {}
    }
  ]
}