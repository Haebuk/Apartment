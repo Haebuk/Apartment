{
  "cells": [
    {
      "cell_type": "markdown",
      "metadata": {
        "id": "smxWmS7tyuRz"
      },
      "source": [
        "# 아파트 실거래가 예측"
      ]
    },
    {
      "cell_type": "code",
      "execution_count": 3,
      "metadata": {
        "id": "gUwouTkEyuR3"
      },
      "outputs": [],
      "source": [
        "import pandas as pd\n",
        "import numpy as np\n",
        "import matplotlib.pyplot as plt\n",
        "import seaborn as sns\n",
        "from tqdm import tqdm\n",
        "from sklearn.linear_model import LinearRegression, ElasticNet, Lasso, Ridge\n",
        "from sklearn.tree import DecisionTreeRegressor\n",
        "from sklearn.ensemble import RandomForestRegressor\n",
        "from sklearn.preprocessing import  LabelEncoder\n",
        "from sklearn.model_selection import TimeSeriesSplit\n",
        "from sklearn.metrics import mean_squared_error\n",
        "from gensim.models.word2vec import Word2Vec\n",
        "from gensim.models import FastText\n",
        "import xgboost as xgb\n",
        "import lightgbm as lgb\n",
        "import re\n",
        "import optuna\n",
        "\n",
        "sns.set_theme(style=\"darkgrid\")\n"
      ]
    },
    {
      "cell_type": "markdown",
      "metadata": {
        "id": "1TRIEY3TyuR4"
      },
      "source": [
        "## Data Load"
      ]
    },
    {
      "cell_type": "code",
      "execution_count": 4,
      "metadata": {
        "id": "nWFpn1T3yuR5"
      },
      "outputs": [],
      "source": [
        "train_df = pd.read_csv('./input/train.csv')\n",
        "test_df = pd.read_csv('./input/test.csv')"
      ]
    },
    {
      "cell_type": "markdown",
      "metadata": {
        "id": "11SmTN0zVJAp"
      },
      "source": [
        "### apart"
      ]
    },
    {
      "cell_type": "code",
      "execution_count": 5,
      "metadata": {
        "id": "hqTsDvMvXNr7"
      },
      "outputs": [
        {
          "name": "stderr",
          "output_type": "stream",
          "text": [
            "100%|██████████| 1216553/1216553 [00:44<00:00, 27065.22it/s]\n",
            "100%|██████████| 5463/5463 [00:00<00:00, 70307.68it/s]\n"
          ]
        }
      ],
      "source": [
        "#괄호와 괄호안내용 제거\n",
        "regex = \"\\(.*\\)|\\s-\\s.*\"\n",
        "for i in tqdm(range(len(train_df))):\n",
        "   train_df.at[i, 'apt'] = re.sub(regex, '', train_df.at[i, 'apt'])\n",
        "for i in tqdm(range(len(test_df))):\n",
        "   test_df.at[i, 'apt'] = re.sub(regex, '', test_df.at[i, 'apt'])   "
      ]
    },
    {
      "cell_type": "code",
      "execution_count": 6,
      "metadata": {
        "id": "Tv03aoj2pLdG"
      },
      "outputs": [],
      "source": [
        "# top 10 시공사 아파트 여부를 나타내는 컬럼 생성\n",
        "train_df['top10'] = 0\n",
        "test_df['top10'] = 0\n",
        "top10 = ['자이', '푸르지오', '더샵', '롯데캐슬', '이편한|e편한|e-편한',\n",
        "         '힐스테이트', '아이파크', '래미안', 'sk|SK|에스케이', '데시앙']\n",
        "\n",
        "train_df['apt'] = train_df['apt'].fillna('others')\n",
        "# top 10 시공사면 1, 아니면 0\n",
        "for i, brand in enumerate(top10):\n",
        "    train_df.loc[train_df['apt'].str.contains(brand), 'top10'] = 1\n",
        "    test_df.loc[test_df['apt'].str.contains(brand), 'top10'] = 1\n"
      ]
    },
    {
      "cell_type": "code",
      "execution_count": 7,
      "metadata": {},
      "outputs": [
        {
          "data": {
            "text/plain": [
              "9374"
            ]
          },
          "execution_count": 7,
          "metadata": {},
          "output_type": "execute_result"
        }
      ],
      "source": [
        "train_df['apt'].nunique()"
      ]
    },
    {
      "cell_type": "code",
      "execution_count": 8,
      "metadata": {},
      "outputs": [
        {
          "data": {
            "text/plain": [
              "9.839685947207718"
            ]
          },
          "execution_count": 8,
          "metadata": {},
          "output_type": "execute_result"
        }
      ],
      "source": [
        "9374 ** 0.25"
      ]
    },
    {
      "cell_type": "code",
      "execution_count": 9,
      "metadata": {
        "id": "6e_NdtpjTRhZ"
      },
      "outputs": [],
      "source": [
        "vector_size = 32\n",
        "epochs = 100\n",
        "# model = Word2Vec([train_df['apt'].values.tolist()], min_count=1, vector_size=vector_size, sg=1, epochs=epochs)\n",
        "# model.save(f'apt_w2v_{vector_size}_sg_{epochs}.model')"
      ]
    },
    {
      "cell_type": "code",
      "execution_count": 10,
      "metadata": {},
      "outputs": [],
      "source": [
        "# model = FastText([train_df['apt'].values.tolist()], min_count=1, vector_size=vector_size, sg=1, epochs=epochs)\n",
        "# model.save(f'apt_ft_{vector_size}_sg_{epochs}.model')"
      ]
    },
    {
      "cell_type": "code",
      "execution_count": 9,
      "metadata": {},
      "outputs": [],
      "source": [
        "apt_w2v = Word2Vec.load(f'apt_w2v_{vector_size}_sg_{epochs}.model')"
      ]
    },
    {
      "cell_type": "code",
      "execution_count": 10,
      "metadata": {},
      "outputs": [
        {
          "data": {
            "text/plain": [
              "[('삼성', 0.9640912413597107),\n",
              " ('구암하이빌', 0.9485388994216919),\n",
              " ('세종아파트', 0.9439804553985596),\n",
              " ('청호그린빌', 0.9374281764030457),\n",
              " ('프라임1', 0.9370697140693665),\n",
              " ('그린빌', 0.9366737008094788),\n",
              " ('프라임캐슬', 0.9348333477973938),\n",
              " ('무악다온채', 0.9330804944038391),\n",
              " ('동산빌라', 0.9313090443611145),\n",
              " ('인왕산2차아이파크', 0.9302440285682678)]"
            ]
          },
          "execution_count": 10,
          "metadata": {},
          "output_type": "execute_result"
        }
      ],
      "source": [
        "apt_w2v.wv.most_similar('현대')"
      ]
    },
    {
      "cell_type": "code",
      "execution_count": 11,
      "metadata": {},
      "outputs": [],
      "source": [
        "train_df['apt_embedded'] = train_df['apt'].apply(lambda x: apt_w2v.wv[x])"
      ]
    },
    {
      "cell_type": "code",
      "execution_count": 12,
      "metadata": {},
      "outputs": [
        {
          "data": {
            "text/html": [
              "<div>\n",
              "<style scoped>\n",
              "    .dataframe tbody tr th:only-of-type {\n",
              "        vertical-align: middle;\n",
              "    }\n",
              "\n",
              "    .dataframe tbody tr th {\n",
              "        vertical-align: top;\n",
              "    }\n",
              "\n",
              "    .dataframe thead th {\n",
              "        text-align: right;\n",
              "    }\n",
              "</style>\n",
              "<table border=\"1\" class=\"dataframe\">\n",
              "  <thead>\n",
              "    <tr style=\"text-align: right;\">\n",
              "      <th></th>\n",
              "      <th>transaction_id</th>\n",
              "      <th>apartment_id</th>\n",
              "      <th>city</th>\n",
              "      <th>dong</th>\n",
              "      <th>jibun</th>\n",
              "      <th>apt</th>\n",
              "      <th>addr_kr</th>\n",
              "      <th>exclusive_use_area</th>\n",
              "      <th>year_of_completion</th>\n",
              "      <th>transaction_year_month</th>\n",
              "      <th>transaction_date</th>\n",
              "      <th>floor</th>\n",
              "      <th>transaction_real_price</th>\n",
              "      <th>top10</th>\n",
              "      <th>apt_embedded</th>\n",
              "    </tr>\n",
              "  </thead>\n",
              "  <tbody>\n",
              "    <tr>\n",
              "      <th>0</th>\n",
              "      <td>0</td>\n",
              "      <td>7622</td>\n",
              "      <td>서울특별시</td>\n",
              "      <td>신교동</td>\n",
              "      <td>6-13</td>\n",
              "      <td>신현</td>\n",
              "      <td>신교동 6-13 신현(101동)</td>\n",
              "      <td>84.82</td>\n",
              "      <td>2002</td>\n",
              "      <td>200801</td>\n",
              "      <td>21~31</td>\n",
              "      <td>2</td>\n",
              "      <td>37500</td>\n",
              "      <td>0</td>\n",
              "      <td>[-0.23254652, 0.042566862, -0.011055423, -0.13...</td>\n",
              "    </tr>\n",
              "    <tr>\n",
              "      <th>1</th>\n",
              "      <td>1</td>\n",
              "      <td>5399</td>\n",
              "      <td>서울특별시</td>\n",
              "      <td>필운동</td>\n",
              "      <td>142</td>\n",
              "      <td>사직파크맨션</td>\n",
              "      <td>필운동 142 사직파크맨션</td>\n",
              "      <td>99.17</td>\n",
              "      <td>1973</td>\n",
              "      <td>200801</td>\n",
              "      <td>1~10</td>\n",
              "      <td>6</td>\n",
              "      <td>20000</td>\n",
              "      <td>0</td>\n",
              "      <td>[-0.07257517, -0.036842454, -0.022608314, -0.1...</td>\n",
              "    </tr>\n",
              "    <tr>\n",
              "      <th>2</th>\n",
              "      <td>2</td>\n",
              "      <td>3578</td>\n",
              "      <td>서울특별시</td>\n",
              "      <td>필운동</td>\n",
              "      <td>174-1</td>\n",
              "      <td>두레엘리시안</td>\n",
              "      <td>필운동 174-1 두레엘리시안</td>\n",
              "      <td>84.74</td>\n",
              "      <td>2007</td>\n",
              "      <td>200801</td>\n",
              "      <td>1~10</td>\n",
              "      <td>6</td>\n",
              "      <td>38500</td>\n",
              "      <td>0</td>\n",
              "      <td>[-0.21846321, 0.035915352, -0.036925208, -0.11...</td>\n",
              "    </tr>\n",
              "    <tr>\n",
              "      <th>3</th>\n",
              "      <td>3</td>\n",
              "      <td>10957</td>\n",
              "      <td>서울특별시</td>\n",
              "      <td>내수동</td>\n",
              "      <td>95</td>\n",
              "      <td>파크팰리스</td>\n",
              "      <td>내수동 95 파크팰리스</td>\n",
              "      <td>146.39</td>\n",
              "      <td>2003</td>\n",
              "      <td>200801</td>\n",
              "      <td>11~20</td>\n",
              "      <td>15</td>\n",
              "      <td>118000</td>\n",
              "      <td>0</td>\n",
              "      <td>[-0.23255132, -0.03417889, -0.17498778, -0.340...</td>\n",
              "    </tr>\n",
              "    <tr>\n",
              "      <th>4</th>\n",
              "      <td>4</td>\n",
              "      <td>10639</td>\n",
              "      <td>서울특별시</td>\n",
              "      <td>내수동</td>\n",
              "      <td>110-15</td>\n",
              "      <td>킹스매너</td>\n",
              "      <td>내수동 110-15 킹스매너</td>\n",
              "      <td>194.43</td>\n",
              "      <td>2004</td>\n",
              "      <td>200801</td>\n",
              "      <td>21~31</td>\n",
              "      <td>3</td>\n",
              "      <td>120000</td>\n",
              "      <td>0</td>\n",
              "      <td>[-0.2133682, -0.054133132, -0.16826825, -0.256...</td>\n",
              "    </tr>\n",
              "  </tbody>\n",
              "</table>\n",
              "</div>"
            ],
            "text/plain": [
              "   transaction_id  apartment_id   city dong   jibun     apt  \\\n",
              "0               0          7622  서울특별시  신교동    6-13      신현   \n",
              "1               1          5399  서울특별시  필운동     142  사직파크맨션   \n",
              "2               2          3578  서울특별시  필운동   174-1  두레엘리시안   \n",
              "3               3         10957  서울특별시  내수동      95   파크팰리스   \n",
              "4               4         10639  서울특별시  내수동  110-15    킹스매너   \n",
              "\n",
              "             addr_kr  exclusive_use_area  year_of_completion  \\\n",
              "0  신교동 6-13 신현(101동)               84.82                2002   \n",
              "1     필운동 142 사직파크맨션               99.17                1973   \n",
              "2   필운동 174-1 두레엘리시안               84.74                2007   \n",
              "3       내수동 95 파크팰리스              146.39                2003   \n",
              "4    내수동 110-15 킹스매너              194.43                2004   \n",
              "\n",
              "   transaction_year_month transaction_date  floor  transaction_real_price  \\\n",
              "0                  200801            21~31      2                   37500   \n",
              "1                  200801             1~10      6                   20000   \n",
              "2                  200801             1~10      6                   38500   \n",
              "3                  200801            11~20     15                  118000   \n",
              "4                  200801            21~31      3                  120000   \n",
              "\n",
              "   top10                                       apt_embedded  \n",
              "0      0  [-0.23254652, 0.042566862, -0.011055423, -0.13...  \n",
              "1      0  [-0.07257517, -0.036842454, -0.022608314, -0.1...  \n",
              "2      0  [-0.21846321, 0.035915352, -0.036925208, -0.11...  \n",
              "3      0  [-0.23255132, -0.03417889, -0.17498778, -0.340...  \n",
              "4      0  [-0.2133682, -0.054133132, -0.16826825, -0.256...  "
            ]
          },
          "execution_count": 12,
          "metadata": {},
          "output_type": "execute_result"
        }
      ],
      "source": [
        "train_df.head()"
      ]
    },
    {
      "cell_type": "markdown",
      "metadata": {
        "id": "wawdc1-NzQD3"
      },
      "source": [
        "### date\n",
        "apt 전처리는 마쳤으니, 이번에는 date로 넘어가봅시다."
      ]
    },
    {
      "cell_type": "code",
      "execution_count": 13,
      "metadata": {},
      "outputs": [],
      "source": [
        "# test 시작 거래연월인 인덱스 저장\n",
        "test_start = train_df.loc[train_df['transaction_year_month'] == 201701, 'transaction_year_month'].index[0]"
      ]
    },
    {
      "cell_type": "code",
      "execution_count": 14,
      "metadata": {
        "colab": {
          "base_uri": "https://localhost:8080/"
        },
        "id": "OFOkDMGoCd35",
        "outputId": "496a9a09-1774-4670-a8d0-deb85e4728d3"
      },
      "outputs": [
        {
          "name": "stdout",
          "output_type": "stream",
          "text": [
            "변환전\n",
            " [2002 1973 2007 2003 2004]\n",
            "변환후\n",
            " [41 12 46 42 43]\n",
            "train 변환전\n",
            " [200801 200802 200803 200804 200805]\n",
            "test 변환전\n",
            " [201711 201708 201710 201707 201712]\n",
            "train 변환후\n",
            " [0 1 2 3 4]\n",
            "test 변환후\n",
            " [118 115 117 114 119]\n"
          ]
        }
      ],
      "source": [
        "# 완공연도에서 최소연도를 뺌으로써 완공연도 라벨인코딩\n",
        "print('변환전\\n', train_df['year_of_completion'].unique()[:5])\n",
        "train_df['year_of_completion'] = train_df['year_of_completion'] - train_df['year_of_completion'].min()\n",
        "test_df['year_of_completion'] = test_df['year_of_completion'] - test_df['year_of_completion'].min()\n",
        "print('변환후\\n', train_df['year_of_completion'].unique()[:5])\n",
        "\n",
        "# 연월 증가하는 순으로 라벨 인코딩\n",
        "print('train 변환전\\n', train_df['transaction_year_month'].unique()[:5])\n",
        "print('test 변환전\\n', test_df['transaction_year_month'].unique()[:5])\n",
        "le = LabelEncoder()\n",
        "train_df['transaction_year_month'] = le.fit_transform(train_df['transaction_year_month'])\n",
        "# test는 다음과 같이 처리\n",
        "test_df['transaction_year_month'] = test_df['transaction_year_month'] - test_df['transaction_year_month'].min() + train_df.at[test_start, 'transaction_year_month']\n",
        "print('train 변환후\\n', train_df['transaction_year_month'].unique()[:5])\n",
        "print('test 변환후\\n', test_df['transaction_year_month'].unique()[:5])\n",
        "\n",
        "# 필요없는 열 제거\n",
        "train_df = train_df.drop(['jibun', 'transaction_date', 'addr_kr'], axis=1)\n",
        "test_df = test_df.drop(['jibun', 'transaction_date', 'addr_kr'], axis=1)"
      ]
    },
    {
      "cell_type": "markdown",
      "metadata": {
        "id": "A2MobnpAFtge"
      },
      "source": [
        "### dong\n",
        "- 이번에는 주소의 동입니다.\n",
        "- 먼저 서울과 부산에서 같은 이름을 가진 동이 있는지 확인해보겠습니다."
      ]
    },
    {
      "cell_type": "code",
      "execution_count": 15,
      "metadata": {
        "colab": {
          "base_uri": "https://localhost:8080/"
        },
        "id": "vQCgXMAfxAiq",
        "outputId": "007f59c5-b780-4061-abbd-100513827d8f"
      },
      "outputs": [
        {
          "name": "stdout",
          "output_type": "stream",
          "text": [
            "{'사직동', '송정동', '중동', '부암동'}\n"
          ]
        }
      ],
      "source": [
        "seoul_set = set(train_df.loc[train_df['city']=='서울특별시', 'dong'])\n",
        "busan_set = set(train_df.loc[train_df['city']=='부산광역시', 'dong'])\n",
        "same_dong = seoul_set & busan_set \n",
        "print(same_dong)"
      ]
    },
    {
      "cell_type": "markdown",
      "metadata": {
        "id": "blkoRsDFLwGu"
      },
      "source": [
        "- 서울과 부산에 중동, 부암동, 송정동, 사직동 총 네 동이 겹칩니다.\n",
        "- 접두사에 서울 또는 부산을 붙여 같은동을 분리하겠습니다."
      ]
    },
    {
      "cell_type": "code",
      "execution_count": 16,
      "metadata": {
        "colab": {
          "base_uri": "https://localhost:8080/"
        },
        "id": "K0CXRKKrFzTY",
        "outputId": "de28ff2e-871c-46dd-ba81-514f005b597c"
      },
      "outputs": [
        {
          "name": "stdout",
          "output_type": "stream",
          "text": [
            "set()\n"
          ]
        }
      ],
      "source": [
        "for d in same_dong:\n",
        "    train_df.loc[(train_df['city']=='서울특별시') & (train_df['dong']==d), 'dong'] = '서울' + d\n",
        "    train_df.loc[(train_df['city']=='부산광역시') & (train_df['dong']==d), 'dong'] = '부산' + d\n",
        "    test_df.loc[(test_df['city']=='서울특별시') & (test_df['dong']==d), 'dong'] = '서울' + d\n",
        "    test_df.loc[(test_df['city']=='부산광역시') & (test_df['dong']==d), 'dong'] = '부산' + d\n",
        "    \n",
        "\n",
        "seoul_set = set(train_df.loc[train_df['city']=='서울특별시', 'dong'])\n",
        "busan_set = set(train_df.loc[train_df['city']=='부산광역시', 'dong'])\n",
        "same_dong = seoul_set & busan_set\n",
        "print(same_dong)  "
      ]
    },
    {
      "cell_type": "code",
      "execution_count": 17,
      "metadata": {
        "colab": {
          "base_uri": "https://localhost:8080/"
        },
        "id": "QXlhPfyKINGd",
        "outputId": "569b0615-54b9-4fa9-b902-1df3c1868092"
      },
      "outputs": [],
      "source": [
        "vector_size = 256\n",
        "epochs = 100\n",
        "# model = Word2Vec([train_df['dong'].values.tolist()], min_count=1, vector_size=vector_size, sg=1, epochs=epochs)\n",
        "# model.save(f'dong_w2v_{vector_size}_sg_{epochs}.model')\n",
        "model = FastText([train_df['dong'].values.tolist()], min_count=1, vector_size=vector_size, sg=1, epochs=epochs)\n",
        "model.save(f'dong_ft_{vector_size}_sg_{epochs}.model')\n",
        "# dong_w2v = Word2Vec.load(f'dong_w2v_{vector_size}_sg_{epochs}.model')\n",
        "# train_df['dong_embedded'] = train_df['dong'].apply(lambda x: dong_w2v.wv[x])\n",
        "# train_df.head()"
      ]
    },
    {
      "cell_type": "markdown",
      "metadata": {
        "id": "Clo1cRwm9Q96"
      },
      "source": [
        "### Floor"
      ]
    },
    {
      "cell_type": "code",
      "execution_count": 15,
      "metadata": {
        "colab": {
          "base_uri": "https://localhost:8080/",
          "height": 289
        },
        "id": "E52JpjJGEXsQ",
        "outputId": "d09ccb38-9ef0-4e58-e9f1-1b48c39f5ce6"
      },
      "outputs": [
        {
          "data": {
            "text/html": [
              "<div>\n",
              "<style scoped>\n",
              "    .dataframe tbody tr th:only-of-type {\n",
              "        vertical-align: middle;\n",
              "    }\n",
              "\n",
              "    .dataframe tbody tr th {\n",
              "        vertical-align: top;\n",
              "    }\n",
              "\n",
              "    .dataframe thead th {\n",
              "        text-align: right;\n",
              "    }\n",
              "</style>\n",
              "<table border=\"1\" class=\"dataframe\">\n",
              "  <thead>\n",
              "    <tr style=\"text-align: right;\">\n",
              "      <th></th>\n",
              "      <th>transaction_id</th>\n",
              "      <th>apartment_id</th>\n",
              "      <th>exclusive_use_area</th>\n",
              "      <th>year_of_completion</th>\n",
              "      <th>transaction_year_month</th>\n",
              "      <th>floor</th>\n",
              "      <th>transaction_real_price</th>\n",
              "      <th>top10</th>\n",
              "    </tr>\n",
              "  </thead>\n",
              "  <tbody>\n",
              "    <tr>\n",
              "      <th>count</th>\n",
              "      <td>1.216553e+06</td>\n",
              "      <td>1.216553e+06</td>\n",
              "      <td>1.216553e+06</td>\n",
              "      <td>1.216553e+06</td>\n",
              "      <td>1.216553e+06</td>\n",
              "      <td>1.216553e+06</td>\n",
              "      <td>1.216553e+06</td>\n",
              "      <td>1.216553e+06</td>\n",
              "    </tr>\n",
              "    <tr>\n",
              "      <th>mean</th>\n",
              "      <td>6.091530e+05</td>\n",
              "      <td>6.299685e+03</td>\n",
              "      <td>7.816549e+01</td>\n",
              "      <td>3.729657e+01</td>\n",
              "      <td>6.437834e+01</td>\n",
              "      <td>9.343291e+00</td>\n",
              "      <td>3.822769e+04</td>\n",
              "      <td>1.234225e-01</td>\n",
              "    </tr>\n",
              "    <tr>\n",
              "      <th>std</th>\n",
              "      <td>3.526198e+05</td>\n",
              "      <td>3.581169e+03</td>\n",
              "      <td>2.915113e+01</td>\n",
              "      <td>8.941347e+00</td>\n",
              "      <td>3.509363e+01</td>\n",
              "      <td>6.606500e+00</td>\n",
              "      <td>3.104898e+04</td>\n",
              "      <td>3.289217e-01</td>\n",
              "    </tr>\n",
              "    <tr>\n",
              "      <th>min</th>\n",
              "      <td>0.000000e+00</td>\n",
              "      <td>0.000000e+00</td>\n",
              "      <td>9.260000e+00</td>\n",
              "      <td>0.000000e+00</td>\n",
              "      <td>0.000000e+00</td>\n",
              "      <td>-4.000000e+00</td>\n",
              "      <td>1.000000e+02</td>\n",
              "      <td>0.000000e+00</td>\n",
              "    </tr>\n",
              "    <tr>\n",
              "      <th>25%</th>\n",
              "      <td>3.041380e+05</td>\n",
              "      <td>3.345000e+03</td>\n",
              "      <td>5.976000e+01</td>\n",
              "      <td>3.200000e+01</td>\n",
              "      <td>3.300000e+01</td>\n",
              "      <td>4.000000e+00</td>\n",
              "      <td>1.900000e+04</td>\n",
              "      <td>0.000000e+00</td>\n",
              "    </tr>\n",
              "    <tr>\n",
              "      <th>50%</th>\n",
              "      <td>6.082760e+05</td>\n",
              "      <td>5.964000e+03</td>\n",
              "      <td>8.241000e+01</td>\n",
              "      <td>3.800000e+01</td>\n",
              "      <td>7.100000e+01</td>\n",
              "      <td>8.000000e+00</td>\n",
              "      <td>3.090000e+04</td>\n",
              "      <td>0.000000e+00</td>\n",
              "    </tr>\n",
              "    <tr>\n",
              "      <th>75%</th>\n",
              "      <td>9.124140e+05</td>\n",
              "      <td>9.436000e+03</td>\n",
              "      <td>8.497000e+01</td>\n",
              "      <td>4.400000e+01</td>\n",
              "      <td>9.400000e+01</td>\n",
              "      <td>1.300000e+01</td>\n",
              "      <td>4.700000e+04</td>\n",
              "      <td>0.000000e+00</td>\n",
              "    </tr>\n",
              "    <tr>\n",
              "      <th>max</th>\n",
              "      <td>1.234827e+06</td>\n",
              "      <td>1.265800e+04</td>\n",
              "      <td>4.243200e+02</td>\n",
              "      <td>5.600000e+01</td>\n",
              "      <td>1.180000e+02</td>\n",
              "      <td>8.000000e+01</td>\n",
              "      <td>8.200000e+05</td>\n",
              "      <td>1.000000e+00</td>\n",
              "    </tr>\n",
              "  </tbody>\n",
              "</table>\n",
              "</div>"
            ],
            "text/plain": [
              "       transaction_id  apartment_id  exclusive_use_area  year_of_completion  \\\n",
              "count    1.216553e+06  1.216553e+06        1.216553e+06        1.216553e+06   \n",
              "mean     6.091530e+05  6.299685e+03        7.816549e+01        3.729657e+01   \n",
              "std      3.526198e+05  3.581169e+03        2.915113e+01        8.941347e+00   \n",
              "min      0.000000e+00  0.000000e+00        9.260000e+00        0.000000e+00   \n",
              "25%      3.041380e+05  3.345000e+03        5.976000e+01        3.200000e+01   \n",
              "50%      6.082760e+05  5.964000e+03        8.241000e+01        3.800000e+01   \n",
              "75%      9.124140e+05  9.436000e+03        8.497000e+01        4.400000e+01   \n",
              "max      1.234827e+06  1.265800e+04        4.243200e+02        5.600000e+01   \n",
              "\n",
              "       transaction_year_month         floor  transaction_real_price  \\\n",
              "count            1.216553e+06  1.216553e+06            1.216553e+06   \n",
              "mean             6.437834e+01  9.343291e+00            3.822769e+04   \n",
              "std              3.509363e+01  6.606500e+00            3.104898e+04   \n",
              "min              0.000000e+00 -4.000000e+00            1.000000e+02   \n",
              "25%              3.300000e+01  4.000000e+00            1.900000e+04   \n",
              "50%              7.100000e+01  8.000000e+00            3.090000e+04   \n",
              "75%              9.400000e+01  1.300000e+01            4.700000e+04   \n",
              "max              1.180000e+02  8.000000e+01            8.200000e+05   \n",
              "\n",
              "              top10  \n",
              "count  1.216553e+06  \n",
              "mean   1.234225e-01  \n",
              "std    3.289217e-01  \n",
              "min    0.000000e+00  \n",
              "25%    0.000000e+00  \n",
              "50%    0.000000e+00  \n",
              "75%    0.000000e+00  \n",
              "max    1.000000e+00  "
            ]
          },
          "execution_count": 15,
          "metadata": {},
          "output_type": "execute_result"
        }
      ],
      "source": [
        "train_df.describe()"
      ]
    },
    {
      "cell_type": "markdown",
      "metadata": {},
      "source": [
        "- 최소층이 -4층임을 확인할 수 있습니다.\n",
        "- 4를 더해서 라벨인코딩을 진행해줍니다.\n",
        "- test는 최소층이 -1층이었으니 맞게 변환합니다."
      ]
    },
    {
      "cell_type": "code",
      "execution_count": 16,
      "metadata": {
        "colab": {
          "base_uri": "https://localhost:8080/"
        },
        "id": "nK9SRgPE9SXB",
        "outputId": "b5dd85c9-727d-45b3-bbe2-517823be3018"
      },
      "outputs": [
        {
          "name": "stdout",
          "output_type": "stream",
          "text": [
            "변환전\n",
            " [ 2  6  6 15  3]\n",
            "변환후\n",
            " [ 6 10 10 19  7]\n"
          ]
        }
      ],
      "source": [
        "# 최소값이 -4이므로 4를 더해서 음수를 없애고 순서형범주처리\n",
        "print('변환전\\n', train_df['floor'].values[:5])\n",
        "train_df['floor'] = train_df['floor'].map(lambda x: x+4)\n",
        "test_df['floor'] = test_df['floor'].map(lambda x: x+1)\n",
        "print('변환후\\n', train_df['floor'].values[:5])"
      ]
    },
    {
      "cell_type": "markdown",
      "metadata": {
        "id": "ZLsEvIOVyuR-"
      },
      "source": [
        "- 가격의 분포가 매우 왼쪽으로 치우친 것을 확인할 수 있습니다.\n",
        "- 타겟 변수의 이상치가 회귀모형을 사용한 예측에 큰 영향을 줄 수 있으니,\n",
        "    - 로그 변환으로 정규화한뒤, 나중에 다시 역변환하겠습니다!"
      ]
    },
    {
      "cell_type": "code",
      "execution_count": 17,
      "metadata": {
        "colab": {
          "base_uri": "https://localhost:8080/",
          "height": 78
        },
        "id": "m6K6o48uJ-K8",
        "outputId": "3458fa07-891c-4fbb-966b-7018d9757965"
      },
      "outputs": [
        {
          "data": {
            "text/html": [
              "<div>\n",
              "<style scoped>\n",
              "    .dataframe tbody tr th:only-of-type {\n",
              "        vertical-align: middle;\n",
              "    }\n",
              "\n",
              "    .dataframe tbody tr th {\n",
              "        vertical-align: top;\n",
              "    }\n",
              "\n",
              "    .dataframe thead th {\n",
              "        text-align: right;\n",
              "    }\n",
              "</style>\n",
              "<table border=\"1\" class=\"dataframe\">\n",
              "  <thead>\n",
              "    <tr style=\"text-align: right;\">\n",
              "      <th></th>\n",
              "      <th>transaction_id</th>\n",
              "      <th>apartment_id</th>\n",
              "      <th>city</th>\n",
              "      <th>dong</th>\n",
              "      <th>apt</th>\n",
              "      <th>exclusive_use_area</th>\n",
              "      <th>year_of_completion</th>\n",
              "      <th>transaction_year_month</th>\n",
              "      <th>floor</th>\n",
              "      <th>top10</th>\n",
              "      <th>apt_embedded</th>\n",
              "      <th>dong_embedded</th>\n",
              "      <th>log_price</th>\n",
              "    </tr>\n",
              "  </thead>\n",
              "  <tbody>\n",
              "    <tr>\n",
              "      <th>0</th>\n",
              "      <td>0</td>\n",
              "      <td>7622</td>\n",
              "      <td>서울특별시</td>\n",
              "      <td>신교동</td>\n",
              "      <td>신현</td>\n",
              "      <td>84.82</td>\n",
              "      <td>41</td>\n",
              "      <td>0</td>\n",
              "      <td>6</td>\n",
              "      <td>0</td>\n",
              "      <td>[-0.23254652, 0.042566862, -0.011055423, -0.13...</td>\n",
              "      <td>[-0.020665638, 0.0018528725, 0.19737682, 0.051...</td>\n",
              "      <td>10.532123</td>\n",
              "    </tr>\n",
              "  </tbody>\n",
              "</table>\n",
              "</div>"
            ],
            "text/plain": [
              "   transaction_id  apartment_id   city dong apt  exclusive_use_area  \\\n",
              "0               0          7622  서울특별시  신교동  신현               84.82   \n",
              "\n",
              "   year_of_completion  transaction_year_month  floor  top10  \\\n",
              "0                  41                       0      6      0   \n",
              "\n",
              "                                        apt_embedded  \\\n",
              "0  [-0.23254652, 0.042566862, -0.011055423, -0.13...   \n",
              "\n",
              "                                       dong_embedded  log_price  \n",
              "0  [-0.020665638, 0.0018528725, 0.19737682, 0.051...  10.532123  "
            ]
          },
          "execution_count": 17,
          "metadata": {},
          "output_type": "execute_result"
        }
      ],
      "source": [
        "# 가격 로그 변환 후 원래 가격 따로 저장\n",
        "train_df['log_price'] = np.log1p(train_df['transaction_real_price'])\n",
        "real_price = train_df['transaction_real_price'] # 원래 가격\n",
        "train_df.drop('transaction_real_price', axis=1, inplace=True)\n",
        "train_df.head(1)"
      ]
    },
    {
      "cell_type": "code",
      "execution_count": 18,
      "metadata": {
        "colab": {
          "base_uri": "https://localhost:8080/",
          "height": 78
        },
        "id": "Mww8qNfzrmeU",
        "outputId": "cbfe2e36-0168-41be-d5c5-846eb3cf59e3"
      },
      "outputs": [
        {
          "data": {
            "text/html": [
              "<div>\n",
              "<style scoped>\n",
              "    .dataframe tbody tr th:only-of-type {\n",
              "        vertical-align: middle;\n",
              "    }\n",
              "\n",
              "    .dataframe tbody tr th {\n",
              "        vertical-align: top;\n",
              "    }\n",
              "\n",
              "    .dataframe thead th {\n",
              "        text-align: right;\n",
              "    }\n",
              "</style>\n",
              "<table border=\"1\" class=\"dataframe\">\n",
              "  <thead>\n",
              "    <tr style=\"text-align: right;\">\n",
              "      <th></th>\n",
              "      <th>transaction_id</th>\n",
              "      <th>apartment_id</th>\n",
              "      <th>city</th>\n",
              "      <th>dong</th>\n",
              "      <th>apt</th>\n",
              "      <th>year_of_completion</th>\n",
              "      <th>transaction_year_month</th>\n",
              "      <th>floor</th>\n",
              "      <th>top10</th>\n",
              "      <th>apt_embedded</th>\n",
              "      <th>dong_embedded</th>\n",
              "      <th>log_price</th>\n",
              "      <th>log_area</th>\n",
              "    </tr>\n",
              "  </thead>\n",
              "  <tbody>\n",
              "    <tr>\n",
              "      <th>0</th>\n",
              "      <td>0</td>\n",
              "      <td>7622</td>\n",
              "      <td>서울특별시</td>\n",
              "      <td>신교동</td>\n",
              "      <td>신현</td>\n",
              "      <td>41</td>\n",
              "      <td>0</td>\n",
              "      <td>6</td>\n",
              "      <td>0</td>\n",
              "      <td>[-0.23254652, 0.042566862, -0.011055423, -0.13...</td>\n",
              "      <td>[-0.020665638, 0.0018528725, 0.19737682, 0.051...</td>\n",
              "      <td>10.532123</td>\n",
              "      <td>4.452252</td>\n",
              "    </tr>\n",
              "  </tbody>\n",
              "</table>\n",
              "</div>"
            ],
            "text/plain": [
              "   transaction_id  apartment_id   city dong apt  year_of_completion  \\\n",
              "0               0          7622  서울특별시  신교동  신현                  41   \n",
              "\n",
              "   transaction_year_month  floor  top10  \\\n",
              "0                       0      6      0   \n",
              "\n",
              "                                        apt_embedded  \\\n",
              "0  [-0.23254652, 0.042566862, -0.011055423, -0.13...   \n",
              "\n",
              "                                       dong_embedded  log_price  log_area  \n",
              "0  [-0.020665638, 0.0018528725, 0.19737682, 0.051...  10.532123  4.452252  "
            ]
          },
          "execution_count": 18,
          "metadata": {},
          "output_type": "execute_result"
        }
      ],
      "source": [
        "# 면적 로그 변환 후 원래 면적 따로 저장\n",
        "train_df['log_area'] = np.log1p(train_df['exclusive_use_area'])\n",
        "test_df['log_area'] = np.log1p(test_df['exclusive_use_area'])\n",
        "area = train_df['exclusive_use_area'] # 원래 가격\n",
        "train_df.drop('exclusive_use_area', axis=1, inplace=True)\n",
        "test_df.drop('exclusive_use_area', axis=1, inplace=True)\n",
        "train_df.head(1)"
      ]
    },
    {
      "cell_type": "markdown",
      "metadata": {
        "id": "RlvQNiQdEzQs"
      },
      "source": [
        "### Encoding\n",
        "- 인코딩은 이제 `city`만 진행하면 됩니다.\n",
        "- `city`는 서울특별시면 1, 부산광역시면 0으로 변환하겠습니다.\n",
        "- 학습에 사용하지 않을 피쳐들도 제거하겠습니다."
      ]
    },
    {
      "cell_type": "code",
      "execution_count": 19,
      "metadata": {
        "id": "jANAQVK291VZ"
      },
      "outputs": [],
      "source": [
        "drop_col = ['transaction_id', 'apartment_id', 'dong', 'apt']\n",
        "\n",
        "train_df['city'] = train_df['city'].map(lambda x: 1 if x == '서울특별시' else 0)\n",
        "test_df['city'] = test_df['city'].map(lambda x: 1 if x == '서울특별시' else 0)"
      ]
    },
    {
      "cell_type": "code",
      "execution_count": 20,
      "metadata": {
        "colab": {
          "base_uri": "https://localhost:8080/",
          "height": 199
        },
        "id": "iM8tGHMMtPgt",
        "outputId": "fb0dee39-a1e7-46e0-c0e6-a60ca19a7d3c"
      },
      "outputs": [
        {
          "data": {
            "text/html": [
              "<div>\n",
              "<style scoped>\n",
              "    .dataframe tbody tr th:only-of-type {\n",
              "        vertical-align: middle;\n",
              "    }\n",
              "\n",
              "    .dataframe tbody tr th {\n",
              "        vertical-align: top;\n",
              "    }\n",
              "\n",
              "    .dataframe thead th {\n",
              "        text-align: right;\n",
              "    }\n",
              "</style>\n",
              "<table border=\"1\" class=\"dataframe\">\n",
              "  <thead>\n",
              "    <tr style=\"text-align: right;\">\n",
              "      <th></th>\n",
              "      <th>city</th>\n",
              "      <th>year_of_completion</th>\n",
              "      <th>transaction_year_month</th>\n",
              "      <th>floor</th>\n",
              "      <th>top10</th>\n",
              "      <th>apt_embedded</th>\n",
              "      <th>dong_embedded</th>\n",
              "      <th>log_price</th>\n",
              "      <th>log_area</th>\n",
              "    </tr>\n",
              "  </thead>\n",
              "  <tbody>\n",
              "    <tr>\n",
              "      <th>0</th>\n",
              "      <td>1</td>\n",
              "      <td>41</td>\n",
              "      <td>0</td>\n",
              "      <td>6</td>\n",
              "      <td>0</td>\n",
              "      <td>[-0.23254652, 0.042566862, -0.011055423, -0.13...</td>\n",
              "      <td>[-0.020665638, 0.0018528725, 0.19737682, 0.051...</td>\n",
              "      <td>10.532123</td>\n",
              "      <td>4.452252</td>\n",
              "    </tr>\n",
              "  </tbody>\n",
              "</table>\n",
              "</div>"
            ],
            "text/plain": [
              "   city  year_of_completion  transaction_year_month  floor  top10  \\\n",
              "0     1                  41                       0      6      0   \n",
              "\n",
              "                                        apt_embedded  \\\n",
              "0  [-0.23254652, 0.042566862, -0.011055423, -0.13...   \n",
              "\n",
              "                                       dong_embedded  log_price  log_area  \n",
              "0  [-0.020665638, 0.0018528725, 0.19737682, 0.051...  10.532123  4.452252  "
            ]
          },
          "execution_count": 20,
          "metadata": {},
          "output_type": "execute_result"
        }
      ],
      "source": [
        "train_df.drop(drop_col, axis=1, inplace=True)\n",
        "test_df.drop(drop_col, axis=1, inplace=True)\n",
        "train_df.head(1)"
      ]
    },
    {
      "cell_type": "code",
      "execution_count": 21,
      "metadata": {},
      "outputs": [
        {
          "data": {
            "text/html": [
              "<div>\n",
              "<style scoped>\n",
              "    .dataframe tbody tr th:only-of-type {\n",
              "        vertical-align: middle;\n",
              "    }\n",
              "\n",
              "    .dataframe tbody tr th {\n",
              "        vertical-align: top;\n",
              "    }\n",
              "\n",
              "    .dataframe thead th {\n",
              "        text-align: right;\n",
              "    }\n",
              "</style>\n",
              "<table border=\"1\" class=\"dataframe\">\n",
              "  <thead>\n",
              "    <tr style=\"text-align: right;\">\n",
              "      <th></th>\n",
              "      <th>city</th>\n",
              "      <th>year_of_completion</th>\n",
              "      <th>transaction_year_month</th>\n",
              "      <th>floor</th>\n",
              "      <th>top10</th>\n",
              "      <th>apt_embedded</th>\n",
              "      <th>dong_embedded</th>\n",
              "      <th>log_price</th>\n",
              "      <th>log_area</th>\n",
              "    </tr>\n",
              "  </thead>\n",
              "  <tbody>\n",
              "    <tr>\n",
              "      <th>0</th>\n",
              "      <td>1</td>\n",
              "      <td>41</td>\n",
              "      <td>0</td>\n",
              "      <td>6</td>\n",
              "      <td>0</td>\n",
              "      <td>[-0.23254652, 0.042566862, -0.011055423, -0.13...</td>\n",
              "      <td>[-0.020665638, 0.0018528725, 0.19737682, 0.051...</td>\n",
              "      <td>10.532123</td>\n",
              "      <td>4.452252</td>\n",
              "    </tr>\n",
              "    <tr>\n",
              "      <th>1</th>\n",
              "      <td>1</td>\n",
              "      <td>12</td>\n",
              "      <td>0</td>\n",
              "      <td>10</td>\n",
              "      <td>0</td>\n",
              "      <td>[-0.07257517, -0.036842454, -0.022608314, -0.1...</td>\n",
              "      <td>[-0.13813207, 0.05756776, 0.24997199, 0.156601...</td>\n",
              "      <td>9.903538</td>\n",
              "      <td>4.606869</td>\n",
              "    </tr>\n",
              "    <tr>\n",
              "      <th>2</th>\n",
              "      <td>1</td>\n",
              "      <td>46</td>\n",
              "      <td>0</td>\n",
              "      <td>10</td>\n",
              "      <td>0</td>\n",
              "      <td>[-0.21846321, 0.035915352, -0.036925208, -0.11...</td>\n",
              "      <td>[-0.13813207, 0.05756776, 0.24997199, 0.156601...</td>\n",
              "      <td>10.558439</td>\n",
              "      <td>4.451319</td>\n",
              "    </tr>\n",
              "    <tr>\n",
              "      <th>3</th>\n",
              "      <td>1</td>\n",
              "      <td>42</td>\n",
              "      <td>0</td>\n",
              "      <td>19</td>\n",
              "      <td>0</td>\n",
              "      <td>[-0.23255132, -0.03417889, -0.17498778, -0.340...</td>\n",
              "      <td>[-0.007641092, 0.033978105, 0.1266122, 0.16146...</td>\n",
              "      <td>11.678448</td>\n",
              "      <td>4.993082</td>\n",
              "    </tr>\n",
              "    <tr>\n",
              "      <th>4</th>\n",
              "      <td>1</td>\n",
              "      <td>43</td>\n",
              "      <td>0</td>\n",
              "      <td>7</td>\n",
              "      <td>0</td>\n",
              "      <td>[-0.2133682, -0.054133132, -0.16826825, -0.256...</td>\n",
              "      <td>[-0.007641092, 0.033978105, 0.1266122, 0.16146...</td>\n",
              "      <td>11.695255</td>\n",
              "      <td>5.275202</td>\n",
              "    </tr>\n",
              "  </tbody>\n",
              "</table>\n",
              "</div>"
            ],
            "text/plain": [
              "   city  year_of_completion  transaction_year_month  floor  top10  \\\n",
              "0     1                  41                       0      6      0   \n",
              "1     1                  12                       0     10      0   \n",
              "2     1                  46                       0     10      0   \n",
              "3     1                  42                       0     19      0   \n",
              "4     1                  43                       0      7      0   \n",
              "\n",
              "                                        apt_embedded  \\\n",
              "0  [-0.23254652, 0.042566862, -0.011055423, -0.13...   \n",
              "1  [-0.07257517, -0.036842454, -0.022608314, -0.1...   \n",
              "2  [-0.21846321, 0.035915352, -0.036925208, -0.11...   \n",
              "3  [-0.23255132, -0.03417889, -0.17498778, -0.340...   \n",
              "4  [-0.2133682, -0.054133132, -0.16826825, -0.256...   \n",
              "\n",
              "                                       dong_embedded  log_price  log_area  \n",
              "0  [-0.020665638, 0.0018528725, 0.19737682, 0.051...  10.532123  4.452252  \n",
              "1  [-0.13813207, 0.05756776, 0.24997199, 0.156601...   9.903538  4.606869  \n",
              "2  [-0.13813207, 0.05756776, 0.24997199, 0.156601...  10.558439  4.451319  \n",
              "3  [-0.007641092, 0.033978105, 0.1266122, 0.16146...  11.678448  4.993082  \n",
              "4  [-0.007641092, 0.033978105, 0.1266122, 0.16146...  11.695255  5.275202  "
            ]
          },
          "execution_count": 21,
          "metadata": {},
          "output_type": "execute_result"
        }
      ],
      "source": [
        "train_df.head()"
      ]
    },
    {
      "cell_type": "code",
      "execution_count": 22,
      "metadata": {},
      "outputs": [
        {
          "name": "stdout",
          "output_type": "stream",
          "text": [
            "[-0.23254652  0.04256686 -0.01105542 -0.13822897  0.24339215 -0.22995716\n",
            " -0.2311544   0.01147736 -0.358248    0.23215035  0.43959767 -0.15645029\n",
            " -0.19831434  0.00605765  0.042192    0.3321557   0.56391495 -0.62903017\n",
            " -0.3460328   0.01275607  0.44655827 -0.4327852   0.15890001 -0.20873517\n",
            "  0.5099378  -0.47281167 -0.1494761  -0.39175433  0.6341808  -0.5414246\n",
            " -0.47584584 -0.39650655 -0.18887365 -0.18573722  0.2007323  -0.31213656\n",
            "  0.7612993  -0.35426447 -0.2783838  -0.48215944  0.03613958  0.04039577\n",
            "  0.38860244 -0.02163618  0.95936424 -0.14018232  0.42479774  0.161514\n",
            "  0.38089067  0.497164    0.32227176  0.00699505  0.40709674 -0.63915235\n",
            "  0.27060488  0.12688789  0.02925548 -0.10456738  0.01827618  0.09853494\n",
            "  0.08399682  0.23287441  0.3078636   0.37072808 -0.72631013 -0.6930064\n",
            " -0.27152947 -0.23376872  0.30902606 -0.523639    0.66742545  0.09696272\n",
            " -0.272735    0.09943978 -0.12257459 -0.36623853  0.06546838  0.1550139\n",
            " -0.05706481 -0.45711136  0.0258328  -0.49973714  0.63772184 -0.5339963\n",
            "  0.5742643   0.6840711   0.03306483 -0.21117641  0.15849008  0.22441375\n",
            "  0.386992   -0.7519371   0.11506779  0.00525275  0.29931158 -0.0721093\n",
            "  0.1166859   0.06270286  0.03740576 -0.05721816  0.3648111  -0.0182489\n",
            "  0.19704361 -0.30995223  1.0319805   0.0466217   0.09485526  0.82442814\n",
            "  0.3899906  -0.83162355  0.5053422  -0.16234049 -0.22697924 -0.43084225\n",
            "  0.21174216  0.07034207  0.1720958   0.36020422  0.05898701  0.20500757\n",
            "  0.18451515 -0.20028238 -0.06646094 -0.14343226 -0.00703634  0.10777057\n",
            "  0.35985148 -0.19482204  0.01838407  0.46246642 -0.64090705 -0.06733786\n",
            "  0.2724489   0.28789133 -0.02390906  0.5950705   0.11779018 -0.05453617\n",
            "  0.7526781   0.1321946   0.2544358   0.4753236  -0.14992373 -0.43809584\n",
            "  0.03239641 -0.724934    0.09590799  0.01808677  0.46791628 -0.27390298\n",
            " -0.06325013  0.31982836  0.10307139  0.16232625 -0.24401757 -0.03821799\n",
            "  0.39293072 -0.16160303 -0.07495797  0.59441286 -0.0935312  -0.2977999\n",
            " -0.46112964 -0.46576604  0.6896444   0.22725695  0.6222154   0.02390095\n",
            "  0.75142646  0.13151695 -0.04387517 -0.47213733  0.06885193 -0.476823\n",
            " -0.01841076 -0.25838253 -0.5615164   0.18456635 -0.55866426  0.40142184\n",
            " -0.34911063 -0.05492833  0.7139293  -0.48369914  0.18666318  0.4934217\n",
            " -0.42199835  0.08369031 -0.7664944  -0.4233643  -0.24203748  0.09815317\n",
            " -0.08338564 -0.27813032 -0.22559595 -0.35911903  0.6048742   0.46083945\n",
            "  0.28167993  0.31486264 -0.6504907  -0.3890847   0.10505055 -0.04587484\n",
            " -0.2157603   0.087614    0.42657214  0.06243428  0.24240679 -0.4004217\n",
            " -0.11858745 -0.12668893 -0.01911181 -0.38296893  0.22000186  0.30904198\n",
            "  0.31044152 -0.49130997  0.05631475  0.4393679  -0.1937782  -0.70410955\n",
            "  0.40163925  0.04511965 -0.3568327  -0.22423227 -0.22206685  0.3388703\n",
            " -0.1364485   0.22315061  0.553144    0.10498932 -0.46827808  0.23836406\n",
            "  0.04291474  0.61720914 -0.21747367  0.17146452 -0.37282076  0.20882052\n",
            " -0.20878778  0.47236082 -0.14347275  0.02639399  0.09197883  0.268388\n",
            "  0.26412192  0.0672529  -0.79249156 -0.43082058 -0.44233868 -0.4706902\n",
            "  0.5299834   0.02644137 -0.01769883  0.09332361]\n",
            "[-0.02066564  0.00185287  0.19737682  0.0512749   0.3784523   0.01448416\n",
            "  0.56362545  0.14856513 -0.13729225  0.05700558  0.01095973 -0.30479464\n",
            "  0.1609647  -0.23041561 -0.08701696 -0.2137288   0.09852993 -0.0165586\n",
            "  0.04328696 -0.28863153  0.31244966  0.35933506 -0.1028919  -0.46603933\n",
            " -0.06235792 -0.14104553 -0.07945338 -0.50297123 -0.33420634  0.08249118\n",
            "  0.29154158  0.4848377  -0.26054677  0.0265443   0.02310266  0.34752145\n",
            "  0.30876312  0.00641244 -0.33328536  0.07586993 -0.25195906  0.45117047\n",
            "  0.37087753  0.08536362 -0.49277323  0.12429903  0.4212629  -0.19577016\n",
            "  0.18225178 -0.5210147  -0.10069975 -0.07581328 -0.39817002 -0.3357185\n",
            "  0.1435192   0.17027067  0.23711915  0.2703883  -0.14399643  0.2253466\n",
            "  0.28528216  0.45534956 -0.1375037  -0.18481424  0.02214279 -0.33406878\n",
            " -0.09645842 -0.19710809  0.40141523  0.15324225  0.04413746  0.37816024\n",
            " -0.1315627  -0.36676264  0.03502233 -0.15752256 -0.00971089 -0.47674254\n",
            " -0.07071508  0.05360424  0.27475163 -0.04406742 -0.23649244  0.31688297\n",
            " -0.32459414 -0.2567452  -0.30935082  0.09315779 -0.26633626  0.02631176\n",
            " -0.21257138  0.19989952  0.22646579  0.02426108  0.32925418  0.34201196\n",
            "  0.11301549  0.3506039   0.14511697 -0.29291818  0.17571352 -0.05542554\n",
            "  0.5621376  -0.03601788  0.17408115 -0.13567013  0.06396693 -0.07084946\n",
            "  0.19673444  0.2722452   0.11687352  0.11961108 -0.07581532  0.16404638\n",
            "  0.12336748 -0.05927637  0.00810839  0.22026266 -0.36035302  0.24483958\n",
            "  0.41859224 -0.24256228 -0.07856315 -0.38610327 -0.004221    0.14790972\n",
            " -0.5222613  -0.11205895 -0.32656792  0.2787091  -0.16835248 -0.24126859\n",
            "  0.16010174  0.13561887 -0.34048635 -0.20297746  0.44258168 -0.09220543\n",
            "  0.42831185  0.29212123  0.25264925 -0.2691881  -0.18348156 -0.13011491\n",
            " -0.3323369  -0.23594299  0.25375223 -0.1035063  -0.5149664  -0.04409491\n",
            " -0.28643015 -0.29510036 -0.02238142 -0.28965124 -0.44791445  0.31795758\n",
            " -0.6070936   0.12784418  0.00693047  0.27390665 -0.00181405 -0.27014992\n",
            " -0.12150203 -0.3122801   0.17733283  0.20139828 -0.0295545   0.21312414\n",
            " -0.35487804 -0.13299109  0.09511283 -0.2270655  -0.39088115 -0.00504264\n",
            "  0.17616016  0.05456696  0.17710346  0.2698607   0.6163808   0.69221854\n",
            " -0.0386791   0.3262815   0.15707628 -0.07195799  0.13162525 -0.38344097\n",
            "  0.13439836 -0.27510247  0.09015071  0.42100504  0.03692265 -0.05598845\n",
            "  0.12360965  0.460244    0.01221741  0.09085457 -0.29411852 -0.20709947\n",
            " -0.5949526  -0.18815264 -0.05777427  0.32455176  0.04527088  0.30775392\n",
            " -0.4179362   0.46868613 -0.16488208 -0.20928358  0.04401024  0.16122304\n",
            "  0.10644796  0.26927018 -0.27605113  0.11208095 -0.21385598 -0.07150514\n",
            " -0.07754401 -0.29226178 -0.0086474   0.17217258  0.31940767 -0.26097408\n",
            " -0.02819926 -0.00234156 -0.44631082  0.2577175  -0.04639415  0.34117857\n",
            "  0.05001409  0.19831653 -0.21961673  0.67640233  0.09915728  0.2295517\n",
            " -0.22910304  0.24330348  0.4031478   0.0270652  -0.32553396  0.30915537\n",
            "  0.16813281 -0.30794504 -0.3747555  -0.23399633 -0.10999953  0.13668999\n",
            "  0.39601353  0.21705638  0.5575573   0.0008172   0.06061925 -0.16260885\n",
            " -0.2269909   0.23303494 -0.14947568 -0.10033617]\n",
            "(1216553, 256) (1216553, 256)\n"
          ]
        }
      ],
      "source": [
        "emb_apt = np.array(train_df['apt_embedded'].to_numpy().tolist())\n",
        "emb_dong = np.array(train_df['dong_embedded'].to_numpy().tolist())\n",
        "print(emb_apt[0])\n",
        "print(emb_dong[0])\n",
        "print(emb_apt.shape, emb_dong.shape)"
      ]
    },
    {
      "cell_type": "code",
      "execution_count": 23,
      "metadata": {},
      "outputs": [],
      "source": [
        "X_common = train_df.drop(['apt_embedded', 'dong_embedded'], axis=1)\n",
        "embedding = np.concatenate([emb_apt, emb_dong], axis=1)\n",
        "train_X = np.concatenate([X_common.drop('log_price', axis=1).to_numpy(), embedding], axis=1)\n",
        "train_y = train_df['log_price'].to_numpy()"
      ]
    },
    {
      "cell_type": "code",
      "execution_count": 24,
      "metadata": {},
      "outputs": [
        {
          "name": "stdout",
          "output_type": "stream",
          "text": [
            "7 512\n"
          ]
        }
      ],
      "source": [
        "print(len(X_common.columns), len(embedding[0]))"
      ]
    },
    {
      "cell_type": "code",
      "execution_count": 25,
      "metadata": {
        "colab": {
          "base_uri": "https://localhost:8080/"
        },
        "id": "3X4UMl3AZQO0",
        "outputId": "82d5c3a6-8df3-42ae-8e9a-18167794a97e"
      },
      "outputs": [
        {
          "name": "stdout",
          "output_type": "stream",
          "text": [
            "(1216553, 518) (1216553,)\n"
          ]
        }
      ],
      "source": [
        "print(train_X.shape, train_y.shape)"
      ]
    },
    {
      "cell_type": "code",
      "execution_count": 26,
      "metadata": {
        "id": "b1QCDF4M0A_K"
      },
      "outputs": [],
      "source": [
        "def RMSE(y, y_pred):\n",
        "    rmse = mean_squared_error(y, y_pred) ** 0.5\n",
        "    return rmse"
      ]
    },
    {
      "cell_type": "markdown",
      "metadata": {},
      "source": [
        "- 간단하게 모델을 정의합니다."
      ]
    },
    {
      "cell_type": "code",
      "execution_count": 27,
      "metadata": {
        "colab": {
          "base_uri": "https://localhost:8080/"
        },
        "id": "bjpjn-b-19G3",
        "outputId": "cea54506-8190-4da8-f15f-88b13ece2a05"
      },
      "outputs": [
        {
          "name": "stdout",
          "output_type": "stream",
          "text": [
            "(973242, 518) (973242,) (243311, 518) (243311,)\n"
          ]
        }
      ],
      "source": [
        "cut = int(len(train_df)*0.8)\n",
        "h_train_X = train_X[:cut]\n",
        "h_train_y = train_y[:cut]\n",
        "h_valid_X = train_X[cut:]\n",
        "h_valid_y = train_y[cut:]\n",
        "\n",
        "# h_train = train_X[:cut]\n",
        "# h_valid = train_df[cut:]\n",
        "\n",
        "# h_train_X = h_train.drop('log_price', axis=1)\n",
        "# h_train_y = h_train['log_price']\n",
        "# h_valid_X = h_valid.drop('log_price', axis=1)\n",
        "# h_valid_y = h_valid['log_price']\n",
        "# # dataframe to numpy array\n",
        "# h_train_X, h_train_y, h_valid_X, h_valid_y = h_train_X.to_numpy(), h_train_y.to_numpy(), h_valid_X.to_numpy(), h_valid_y.to_numpy()\n",
        "print(h_train_X.shape, h_train_y.shape, h_valid_X.shape, h_valid_y.shape)"
      ]
    },
    {
      "cell_type": "code",
      "execution_count": 28,
      "metadata": {
        "colab": {
          "base_uri": "https://localhost:8080/",
          "height": 204
        },
        "id": "1iyD2ucAheDo",
        "outputId": "008f6dd8-ac0b-4d1e-dd57-82139dfa5a08"
      },
      "outputs": [
        {
          "data": {
            "text/plain": [
              "array([ 1.00000000e+00,  4.10000000e+01,  0.00000000e+00,  6.00000000e+00,\n",
              "        0.00000000e+00,  4.45225208e+00, -2.32546523e-01,  4.25668620e-02,\n",
              "       -1.10554229e-02, -1.38228968e-01,  2.43392155e-01, -2.29957163e-01,\n",
              "       -2.31154397e-01,  1.14773624e-02, -3.58247995e-01,  2.32150346e-01,\n",
              "        4.39597666e-01, -1.56450287e-01, -1.98314339e-01,  6.05765451e-03,\n",
              "        4.21920046e-02,  3.32155704e-01,  5.63914955e-01, -6.29030168e-01,\n",
              "       -3.46032798e-01,  1.27560673e-02,  4.46558267e-01, -4.32785213e-01,\n",
              "        1.58900008e-01, -2.08735168e-01,  5.09937823e-01, -4.72811669e-01,\n",
              "       -1.49476096e-01, -3.91754329e-01,  6.34180784e-01, -5.41424572e-01,\n",
              "       -4.75845844e-01, -3.96506548e-01, -1.88873649e-01, -1.85737222e-01,\n",
              "        2.00732306e-01, -3.12136561e-01,  7.61299312e-01, -3.54264468e-01,\n",
              "       -2.78383791e-01, -4.82159436e-01,  3.61395776e-02,  4.03957739e-02,\n",
              "        3.88602436e-01, -2.16361769e-02,  9.59364235e-01, -1.40182316e-01,\n",
              "        4.24797744e-01,  1.61513999e-01,  3.80890667e-01,  4.97164011e-01,\n",
              "        3.22271764e-01,  6.99505024e-03,  4.07096744e-01, -6.39152348e-01,\n",
              "        2.70604879e-01,  1.26887888e-01,  2.92554777e-02, -1.04567379e-01,\n",
              "        1.82761773e-02,  9.85349417e-02,  8.39968175e-02,  2.32874408e-01,\n",
              "        3.07863593e-01,  3.70728076e-01, -7.26310134e-01, -6.93006396e-01,\n",
              "       -2.71529466e-01, -2.33768716e-01,  3.09026062e-01, -5.23639023e-01,\n",
              "        6.67425454e-01,  9.69627202e-02, -2.72735000e-01,  9.94397774e-02,\n",
              "       -1.22574590e-01, -3.66238534e-01,  6.54683784e-02,  1.55013904e-01,\n",
              "       -5.70648126e-02, -4.57111359e-01,  2.58328039e-02, -4.99737144e-01,\n",
              "        6.37721837e-01, -5.33996284e-01,  5.74264288e-01,  6.84071124e-01,\n",
              "        3.30648273e-02, -2.11176410e-01,  1.58490077e-01,  2.24413753e-01,\n",
              "        3.86992007e-01, -7.51937091e-01,  1.15067787e-01,  5.25274500e-03,\n",
              "        2.99311578e-01, -7.21092969e-02,  1.16685897e-01,  6.27028644e-02,\n",
              "        3.74057628e-02, -5.72181642e-02,  3.64811093e-01, -1.82488970e-02,\n",
              "        1.97043613e-01, -3.09952229e-01,  1.03198051e+00,  4.66216952e-02,\n",
              "        9.48552638e-02,  8.24428141e-01,  3.89990598e-01, -8.31623554e-01,\n",
              "        5.05342185e-01, -1.62340492e-01, -2.26979241e-01, -4.30842251e-01,\n",
              "        2.11742163e-01,  7.03420714e-02,  1.72095805e-01,  3.60204220e-01,\n",
              "        5.89870103e-02,  2.05007568e-01,  1.84515148e-01, -2.00282380e-01,\n",
              "       -6.64609373e-02, -1.43432260e-01, -7.03634042e-03,  1.07770570e-01,\n",
              "        3.59851480e-01, -1.94822043e-01,  1.83840673e-02,  4.62466419e-01,\n",
              "       -6.40907049e-01, -6.73378557e-02,  2.72448897e-01,  2.87891328e-01,\n",
              "       -2.39090621e-02,  5.95070481e-01,  1.17790177e-01, -5.45361750e-02,\n",
              "        7.52678096e-01,  1.32194594e-01,  2.54435807e-01,  4.75323588e-01,\n",
              "       -1.49923727e-01, -4.38095838e-01,  3.23964134e-02, -7.24933982e-01,\n",
              "        9.59079862e-02,  1.80867705e-02,  4.67916280e-01, -2.73902982e-01,\n",
              "       -6.32501319e-02,  3.19828361e-01,  1.03071392e-01,  1.62326247e-01,\n",
              "       -2.44017571e-01, -3.82179916e-02,  3.92930716e-01, -1.61603034e-01,\n",
              "       -7.49579668e-02,  5.94412863e-01, -9.35311988e-02, -2.97799885e-01,\n",
              "       -4.61129636e-01, -4.65766042e-01,  6.89644396e-01,  2.27256954e-01,\n",
              "        6.22215390e-01,  2.39009522e-02,  7.51426458e-01,  1.31516948e-01,\n",
              "       -4.38751727e-02, -4.72137332e-01,  6.88519254e-02, -4.76823002e-01,\n",
              "       -1.84107553e-02, -2.58382529e-01, -5.61516404e-01,  1.84566349e-01,\n",
              "       -5.58664262e-01,  4.01421845e-01, -3.49110633e-01, -5.49283326e-02,\n",
              "        7.13929296e-01, -4.83699143e-01,  1.86663181e-01,  4.93421704e-01,\n",
              "       -4.21998352e-01,  8.36903080e-02, -7.66494393e-01, -4.23364311e-01,\n",
              "       -2.42037475e-01,  9.81531665e-02, -8.33856389e-02, -2.78130323e-01,\n",
              "       -2.25595951e-01, -3.59119028e-01,  6.04874194e-01,  4.60839450e-01,\n",
              "        2.81679928e-01,  3.14862639e-01, -6.50490701e-01, -3.89084697e-01,\n",
              "        1.05050549e-01, -4.58748378e-02, -2.15760306e-01,  8.76139998e-02,\n",
              "        4.26572144e-01,  6.24342822e-02,  2.42406785e-01, -4.00421709e-01,\n",
              "       -1.18587449e-01, -1.26688927e-01, -1.91118103e-02, -3.82968932e-01,\n",
              "        2.20001861e-01,  3.09041977e-01,  3.10441524e-01, -4.91309971e-01,\n",
              "        5.63147515e-02,  4.39367890e-01, -1.93778202e-01, -7.04109550e-01,\n",
              "        4.01639253e-01,  4.51196507e-02, -3.56832713e-01, -2.24232271e-01,\n",
              "       -2.22066849e-01,  3.38870287e-01, -1.36448503e-01,  2.23150611e-01,\n",
              "        5.53143978e-01,  1.04989320e-01, -4.68278080e-01,  2.38364056e-01,\n",
              "        4.29147370e-02,  6.17209136e-01, -2.17473671e-01,  1.71464518e-01,\n",
              "       -3.72820765e-01,  2.08820522e-01, -2.08787784e-01,  4.72360820e-01,\n",
              "       -1.43472746e-01,  2.63939947e-02,  9.19788331e-02,  2.68388003e-01,\n",
              "        2.64121920e-01,  6.72529042e-02, -7.92491555e-01, -4.30820584e-01,\n",
              "       -4.42338675e-01, -4.70690191e-01,  5.29983401e-01,  2.64413655e-02,\n",
              "       -1.76988337e-02,  9.33236107e-02, -2.06656381e-02,  1.85287255e-03,\n",
              "        1.97376817e-01,  5.12748994e-02,  3.78452301e-01,  1.44841624e-02,\n",
              "        5.63625455e-01,  1.48565128e-01, -1.37292251e-01,  5.70055842e-02,\n",
              "        1.09597286e-02, -3.04794639e-01,  1.60964698e-01, -2.30415612e-01,\n",
              "       -8.70169550e-02, -2.13728800e-01,  9.85299274e-02, -1.65585969e-02,\n",
              "        4.32869606e-02, -2.88631529e-01,  3.12449664e-01,  3.59335065e-01,\n",
              "       -1.02891900e-01, -4.66039330e-01, -6.23579212e-02, -1.41045526e-01,\n",
              "       -7.94533789e-02, -5.02971232e-01, -3.34206343e-01,  8.24911818e-02,\n",
              "        2.91541576e-01,  4.84837711e-01, -2.60546774e-01,  2.65442990e-02,\n",
              "        2.31026560e-02,  3.47521454e-01,  3.08763117e-01,  6.41243672e-03,\n",
              "       -3.33285362e-01,  7.58699328e-02, -2.51959056e-01,  4.51170474e-01,\n",
              "        3.70877534e-01,  8.53636190e-02, -4.92773235e-01,  1.24299027e-01,\n",
              "        4.21262890e-01, -1.95770159e-01,  1.82251781e-01, -5.21014690e-01,\n",
              "       -1.00699753e-01, -7.58132786e-02, -3.98170024e-01, -3.35718513e-01,\n",
              "        1.43519193e-01,  1.70270666e-01,  2.37119153e-01,  2.70388305e-01,\n",
              "       -1.43996432e-01,  2.25346595e-01,  2.85282165e-01,  4.55349565e-01,\n",
              "       -1.37503698e-01, -1.84814245e-01,  2.21427903e-02, -3.34068775e-01,\n",
              "       -9.64584202e-02, -1.97108090e-01,  4.01415229e-01,  1.53242245e-01,\n",
              "        4.41374630e-02,  3.78160238e-01, -1.31562695e-01, -3.66762638e-01,\n",
              "        3.50223258e-02, -1.57522559e-01, -9.71089303e-03, -4.76742536e-01,\n",
              "       -7.07150772e-02,  5.36042377e-02,  2.74751633e-01, -4.40674238e-02,\n",
              "       -2.36492440e-01,  3.16882968e-01, -3.24594140e-01, -2.56745189e-01,\n",
              "       -3.09350818e-01,  9.31577906e-02, -2.66336262e-01,  2.63117570e-02,\n",
              "       -2.12571383e-01,  1.99899524e-01,  2.26465791e-01,  2.42610779e-02,\n",
              "        3.29254180e-01,  3.42011958e-01,  1.13015488e-01,  3.50603908e-01,\n",
              "        1.45116970e-01, -2.92918175e-01,  1.75713524e-01, -5.54255359e-02,\n",
              "        5.62137604e-01, -3.60178761e-02,  1.74081147e-01, -1.35670125e-01,\n",
              "        6.39669299e-02, -7.08494559e-02,  1.96734443e-01,  2.72245198e-01,\n",
              "        1.16873518e-01,  1.19611077e-01, -7.58153200e-02,  1.64046377e-01,\n",
              "        1.23367481e-01, -5.92763722e-02,  8.10838956e-03,  2.20262662e-01,\n",
              "       -3.60353023e-01,  2.44839579e-01,  4.18592244e-01, -2.42562279e-01,\n",
              "       -7.85631463e-02, -3.86103272e-01, -4.22100304e-03,  1.47909716e-01,\n",
              "       -5.22261322e-01, -1.12058952e-01, -3.26567918e-01,  2.78709114e-01,\n",
              "       -1.68352485e-01, -2.41268590e-01,  1.60101742e-01,  1.35618865e-01,\n",
              "       -3.40486348e-01, -2.02977464e-01,  4.42581683e-01, -9.22054276e-02,\n",
              "        4.28311855e-01,  2.92121232e-01,  2.52649248e-01, -2.69188106e-01,\n",
              "       -1.83481559e-01, -1.30114913e-01, -3.32336903e-01, -2.35942990e-01,\n",
              "        2.53752232e-01, -1.03506297e-01, -5.14966428e-01, -4.40949127e-02,\n",
              "       -2.86430150e-01, -2.95100361e-01, -2.23814156e-02, -2.89651245e-01,\n",
              "       -4.47914451e-01,  3.17957580e-01, -6.07093573e-01,  1.27844185e-01,\n",
              "        6.93046814e-03,  2.73906648e-01, -1.81405467e-03, -2.70149916e-01,\n",
              "       -1.21502034e-01, -3.12280089e-01,  1.77332833e-01,  2.01398283e-01,\n",
              "       -2.95545030e-02,  2.13124141e-01, -3.54878038e-01, -1.32991090e-01,\n",
              "        9.51128304e-02, -2.27065504e-01, -3.90881151e-01, -5.04264329e-03,\n",
              "        1.76160157e-01,  5.45669645e-02,  1.77103460e-01,  2.69860715e-01,\n",
              "        6.16380811e-01,  6.92218542e-01, -3.86791006e-02,  3.26281488e-01,\n",
              "        1.57076284e-01, -7.19579905e-02,  1.31625250e-01, -3.83440971e-01,\n",
              "        1.34398356e-01, -2.75102466e-01,  9.01507139e-02,  4.21005040e-01,\n",
              "        3.69226523e-02, -5.59884533e-02,  1.23609647e-01,  4.60244000e-01,\n",
              "        1.22174127e-02,  9.08545703e-02, -2.94118524e-01, -2.07099468e-01,\n",
              "       -5.94952583e-01, -1.88152641e-01, -5.77742718e-02,  3.24551761e-01,\n",
              "        4.52708788e-02,  3.07753921e-01, -4.17936206e-01,  4.68686134e-01,\n",
              "       -1.64882079e-01, -2.09283575e-01,  4.40102369e-02,  1.61223039e-01,\n",
              "        1.06447957e-01,  2.69270182e-01, -2.76051134e-01,  1.12080954e-01,\n",
              "       -2.13855982e-01, -7.15051368e-02, -7.75440112e-02, -2.92261779e-01,\n",
              "       -8.64739995e-03,  1.72172576e-01,  3.19407672e-01, -2.60974079e-01,\n",
              "       -2.81992629e-02, -2.34156265e-03, -4.46310818e-01,  2.57717490e-01,\n",
              "       -4.63941507e-02,  3.41178566e-01,  5.00140935e-02,  1.98316529e-01,\n",
              "       -2.19616726e-01,  6.76402330e-01,  9.91572812e-02,  2.29551703e-01,\n",
              "       -2.29103044e-01,  2.43303478e-01,  4.03147787e-01,  2.70652007e-02,\n",
              "       -3.25533956e-01,  3.09155375e-01,  1.68132812e-01, -3.07945043e-01,\n",
              "       -3.74755502e-01, -2.33996332e-01, -1.09999530e-01,  1.36689991e-01,\n",
              "        3.96013528e-01,  2.17056379e-01,  5.57557285e-01,  8.17203778e-04,\n",
              "        6.06192499e-02, -1.62608847e-01, -2.26990893e-01,  2.33034939e-01,\n",
              "       -1.49475679e-01, -1.00336172e-01])"
            ]
          },
          "execution_count": 28,
          "metadata": {},
          "output_type": "execute_result"
        }
      ],
      "source": [
        "h_train_X[0]"
      ]
    },
    {
      "cell_type": "code",
      "execution_count": 23,
      "metadata": {
        "colab": {
          "base_uri": "https://localhost:8080/"
        },
        "id": "er7ibX98msMk",
        "outputId": "5e76430f-3828-442a-e255-680cc6c442f1"
      },
      "outputs": [
        {
          "name": "stderr",
          "output_type": "stream",
          "text": [
            "\u001b[32m[I 2021-10-08 14:41:03,291]\u001b[0m A new study created in memory with name: no-name-47321b27-c1f8-46c1-bef4-6b52e2c9d64e\u001b[0m\n",
            "/home/kok/anaconda3/envs/rjs/lib/python3.8/site-packages/lightgbm/sklearn.py:726: UserWarning: 'early_stopping_rounds' argument is deprecated and will be removed in a future release of LightGBM. Pass 'early_stopping()' callback via 'callbacks' argument instead.\n",
            "  _log_warning(\"'early_stopping_rounds' argument is deprecated and will be removed in a future release of LightGBM. \"\n",
            "/home/kok/anaconda3/envs/rjs/lib/python3.8/site-packages/lightgbm/sklearn.py:736: UserWarning: 'verbose' argument is deprecated and will be removed in a future release of LightGBM. Pass 'log_evaluation()' callback via 'callbacks' argument instead.\n",
            "  _log_warning(\"'verbose' argument is deprecated and will be removed in a future release of LightGBM. \"\n"
          ]
        },
        {
          "ename": "KeyboardInterrupt",
          "evalue": "",
          "output_type": "error",
          "traceback": [
            "\u001b[0;31m---------------------------------------------------------------------------\u001b[0m",
            "\u001b[0;31mKeyboardInterrupt\u001b[0m                         Traceback (most recent call last)",
            "\u001b[0;32m/tmp/ipykernel_107023/598363990.py\u001b[0m in \u001b[0;36m<module>\u001b[0;34m\u001b[0m\n\u001b[1;32m     25\u001b[0m \u001b[0;34m\u001b[0m\u001b[0m\n\u001b[1;32m     26\u001b[0m \u001b[0mstudy_lgb\u001b[0m \u001b[0;34m=\u001b[0m \u001b[0moptuna\u001b[0m\u001b[0;34m.\u001b[0m\u001b[0mcreate_study\u001b[0m\u001b[0;34m(\u001b[0m\u001b[0mdirection\u001b[0m\u001b[0;34m=\u001b[0m\u001b[0;34m'minimize'\u001b[0m\u001b[0;34m,\u001b[0m \u001b[0msampler\u001b[0m\u001b[0;34m=\u001b[0m\u001b[0msampler\u001b[0m\u001b[0;34m)\u001b[0m\u001b[0;34m\u001b[0m\u001b[0;34m\u001b[0m\u001b[0m\n\u001b[0;32m---> 27\u001b[0;31m \u001b[0mstudy_lgb\u001b[0m\u001b[0;34m.\u001b[0m\u001b[0moptimize\u001b[0m\u001b[0;34m(\u001b[0m\u001b[0mobjective\u001b[0m\u001b[0;34m,\u001b[0m \u001b[0mn_trials\u001b[0m\u001b[0;34m=\u001b[0m\u001b[0;36m100\u001b[0m\u001b[0;34m)\u001b[0m\u001b[0;34m\u001b[0m\u001b[0;34m\u001b[0m\u001b[0m\n\u001b[0m",
            "\u001b[0;32m~/anaconda3/envs/rjs/lib/python3.8/site-packages/optuna/study/study.py\u001b[0m in \u001b[0;36moptimize\u001b[0;34m(self, func, n_trials, timeout, n_jobs, catch, callbacks, gc_after_trial, show_progress_bar)\u001b[0m\n\u001b[1;32m    398\u001b[0m             )\n\u001b[1;32m    399\u001b[0m \u001b[0;34m\u001b[0m\u001b[0m\n\u001b[0;32m--> 400\u001b[0;31m         _optimize(\n\u001b[0m\u001b[1;32m    401\u001b[0m             \u001b[0mstudy\u001b[0m\u001b[0;34m=\u001b[0m\u001b[0mself\u001b[0m\u001b[0;34m,\u001b[0m\u001b[0;34m\u001b[0m\u001b[0;34m\u001b[0m\u001b[0m\n\u001b[1;32m    402\u001b[0m             \u001b[0mfunc\u001b[0m\u001b[0;34m=\u001b[0m\u001b[0mfunc\u001b[0m\u001b[0;34m,\u001b[0m\u001b[0;34m\u001b[0m\u001b[0;34m\u001b[0m\u001b[0m\n",
            "\u001b[0;32m~/anaconda3/envs/rjs/lib/python3.8/site-packages/optuna/study/_optimize.py\u001b[0m in \u001b[0;36m_optimize\u001b[0;34m(study, func, n_trials, timeout, n_jobs, catch, callbacks, gc_after_trial, show_progress_bar)\u001b[0m\n\u001b[1;32m     64\u001b[0m     \u001b[0;32mtry\u001b[0m\u001b[0;34m:\u001b[0m\u001b[0;34m\u001b[0m\u001b[0;34m\u001b[0m\u001b[0m\n\u001b[1;32m     65\u001b[0m         \u001b[0;32mif\u001b[0m \u001b[0mn_jobs\u001b[0m \u001b[0;34m==\u001b[0m \u001b[0;36m1\u001b[0m\u001b[0;34m:\u001b[0m\u001b[0;34m\u001b[0m\u001b[0;34m\u001b[0m\u001b[0m\n\u001b[0;32m---> 66\u001b[0;31m             _optimize_sequential(\n\u001b[0m\u001b[1;32m     67\u001b[0m                 \u001b[0mstudy\u001b[0m\u001b[0;34m,\u001b[0m\u001b[0;34m\u001b[0m\u001b[0;34m\u001b[0m\u001b[0m\n\u001b[1;32m     68\u001b[0m                 \u001b[0mfunc\u001b[0m\u001b[0;34m,\u001b[0m\u001b[0;34m\u001b[0m\u001b[0;34m\u001b[0m\u001b[0m\n",
            "\u001b[0;32m~/anaconda3/envs/rjs/lib/python3.8/site-packages/optuna/study/_optimize.py\u001b[0m in \u001b[0;36m_optimize_sequential\u001b[0;34m(study, func, n_trials, timeout, catch, callbacks, gc_after_trial, reseed_sampler_rng, time_start, progress_bar)\u001b[0m\n\u001b[1;32m    161\u001b[0m \u001b[0;34m\u001b[0m\u001b[0m\n\u001b[1;32m    162\u001b[0m         \u001b[0;32mtry\u001b[0m\u001b[0;34m:\u001b[0m\u001b[0;34m\u001b[0m\u001b[0;34m\u001b[0m\u001b[0m\n\u001b[0;32m--> 163\u001b[0;31m             \u001b[0mtrial\u001b[0m \u001b[0;34m=\u001b[0m \u001b[0m_run_trial\u001b[0m\u001b[0;34m(\u001b[0m\u001b[0mstudy\u001b[0m\u001b[0;34m,\u001b[0m \u001b[0mfunc\u001b[0m\u001b[0;34m,\u001b[0m \u001b[0mcatch\u001b[0m\u001b[0;34m)\u001b[0m\u001b[0;34m\u001b[0m\u001b[0;34m\u001b[0m\u001b[0m\n\u001b[0m\u001b[1;32m    164\u001b[0m         \u001b[0;32mexcept\u001b[0m \u001b[0mException\u001b[0m\u001b[0;34m:\u001b[0m\u001b[0;34m\u001b[0m\u001b[0;34m\u001b[0m\u001b[0m\n\u001b[1;32m    165\u001b[0m             \u001b[0;32mraise\u001b[0m\u001b[0;34m\u001b[0m\u001b[0;34m\u001b[0m\u001b[0m\n",
            "\u001b[0;32m~/anaconda3/envs/rjs/lib/python3.8/site-packages/optuna/study/_optimize.py\u001b[0m in \u001b[0;36m_run_trial\u001b[0;34m(study, func, catch)\u001b[0m\n\u001b[1;32m    211\u001b[0m \u001b[0;34m\u001b[0m\u001b[0m\n\u001b[1;32m    212\u001b[0m     \u001b[0;32mtry\u001b[0m\u001b[0;34m:\u001b[0m\u001b[0;34m\u001b[0m\u001b[0;34m\u001b[0m\u001b[0m\n\u001b[0;32m--> 213\u001b[0;31m         \u001b[0mvalue_or_values\u001b[0m \u001b[0;34m=\u001b[0m \u001b[0mfunc\u001b[0m\u001b[0;34m(\u001b[0m\u001b[0mtrial\u001b[0m\u001b[0;34m)\u001b[0m\u001b[0;34m\u001b[0m\u001b[0;34m\u001b[0m\u001b[0m\n\u001b[0m\u001b[1;32m    214\u001b[0m     \u001b[0;32mexcept\u001b[0m \u001b[0mexceptions\u001b[0m\u001b[0;34m.\u001b[0m\u001b[0mTrialPruned\u001b[0m \u001b[0;32mas\u001b[0m \u001b[0me\u001b[0m\u001b[0;34m:\u001b[0m\u001b[0;34m\u001b[0m\u001b[0;34m\u001b[0m\u001b[0m\n\u001b[1;32m    215\u001b[0m         \u001b[0;31m# TODO(mamu): Handle multi-objective cases.\u001b[0m\u001b[0;34m\u001b[0m\u001b[0;34m\u001b[0m\u001b[0;34m\u001b[0m\u001b[0m\n",
            "\u001b[0;32m/tmp/ipykernel_107023/598363990.py\u001b[0m in \u001b[0;36mobjective\u001b[0;34m(trial)\u001b[0m\n\u001b[1;32m     20\u001b[0m \u001b[0;34m\u001b[0m\u001b[0m\n\u001b[1;32m     21\u001b[0m     \u001b[0mmodel\u001b[0m \u001b[0;34m=\u001b[0m \u001b[0mlgb\u001b[0m\u001b[0;34m.\u001b[0m\u001b[0mLGBMRegressor\u001b[0m\u001b[0;34m(\u001b[0m\u001b[0;34m**\u001b[0m\u001b[0mparam\u001b[0m\u001b[0;34m)\u001b[0m\u001b[0;34m\u001b[0m\u001b[0;34m\u001b[0m\u001b[0m\n\u001b[0;32m---> 22\u001b[0;31m     \u001b[0mlgb_model\u001b[0m \u001b[0;34m=\u001b[0m \u001b[0mmodel\u001b[0m\u001b[0;34m.\u001b[0m\u001b[0mfit\u001b[0m\u001b[0;34m(\u001b[0m\u001b[0mh_train_X\u001b[0m\u001b[0;34m,\u001b[0m \u001b[0mh_train_y\u001b[0m\u001b[0;34m,\u001b[0m \u001b[0meval_set\u001b[0m\u001b[0;34m=\u001b[0m\u001b[0;34m[\u001b[0m\u001b[0;34m(\u001b[0m\u001b[0mh_valid_X\u001b[0m\u001b[0;34m,\u001b[0m \u001b[0mh_valid_y\u001b[0m\u001b[0;34m)\u001b[0m\u001b[0;34m]\u001b[0m\u001b[0;34m,\u001b[0m \u001b[0mverbose\u001b[0m\u001b[0;34m=\u001b[0m\u001b[0;36m0\u001b[0m\u001b[0;34m,\u001b[0m \u001b[0mearly_stopping_rounds\u001b[0m\u001b[0;34m=\u001b[0m\u001b[0;36m25\u001b[0m\u001b[0;34m)\u001b[0m\u001b[0;34m\u001b[0m\u001b[0;34m\u001b[0m\u001b[0m\n\u001b[0m\u001b[1;32m     23\u001b[0m     \u001b[0mrmse\u001b[0m \u001b[0;34m=\u001b[0m \u001b[0mRMSE\u001b[0m\u001b[0;34m(\u001b[0m\u001b[0mh_valid_y\u001b[0m\u001b[0;34m,\u001b[0m \u001b[0mlgb_model\u001b[0m\u001b[0;34m.\u001b[0m\u001b[0mpredict\u001b[0m\u001b[0;34m(\u001b[0m\u001b[0mh_valid_X\u001b[0m\u001b[0;34m)\u001b[0m\u001b[0;34m)\u001b[0m\u001b[0;34m\u001b[0m\u001b[0;34m\u001b[0m\u001b[0m\n\u001b[1;32m     24\u001b[0m     \u001b[0;32mreturn\u001b[0m \u001b[0mrmse\u001b[0m\u001b[0;34m\u001b[0m\u001b[0;34m\u001b[0m\u001b[0m\n",
            "\u001b[0;32m~/anaconda3/envs/rjs/lib/python3.8/site-packages/lightgbm/sklearn.py\u001b[0m in \u001b[0;36mfit\u001b[0;34m(self, X, y, sample_weight, init_score, eval_set, eval_names, eval_sample_weight, eval_init_score, eval_metric, early_stopping_rounds, verbose, feature_name, categorical_feature, callbacks, init_model)\u001b[0m\n\u001b[1;32m    893\u001b[0m             callbacks=None, init_model=None):\n\u001b[1;32m    894\u001b[0m         \u001b[0;34m\"\"\"Docstring is inherited from the LGBMModel.\"\"\"\u001b[0m\u001b[0;34m\u001b[0m\u001b[0;34m\u001b[0m\u001b[0m\n\u001b[0;32m--> 895\u001b[0;31m         super().fit(X, y, sample_weight=sample_weight, init_score=init_score,\n\u001b[0m\u001b[1;32m    896\u001b[0m                     \u001b[0meval_set\u001b[0m\u001b[0;34m=\u001b[0m\u001b[0meval_set\u001b[0m\u001b[0;34m,\u001b[0m \u001b[0meval_names\u001b[0m\u001b[0;34m=\u001b[0m\u001b[0meval_names\u001b[0m\u001b[0;34m,\u001b[0m \u001b[0meval_sample_weight\u001b[0m\u001b[0;34m=\u001b[0m\u001b[0meval_sample_weight\u001b[0m\u001b[0;34m,\u001b[0m\u001b[0;34m\u001b[0m\u001b[0;34m\u001b[0m\u001b[0m\n\u001b[1;32m    897\u001b[0m                     \u001b[0meval_init_score\u001b[0m\u001b[0;34m=\u001b[0m\u001b[0meval_init_score\u001b[0m\u001b[0;34m,\u001b[0m \u001b[0meval_metric\u001b[0m\u001b[0;34m=\u001b[0m\u001b[0meval_metric\u001b[0m\u001b[0;34m,\u001b[0m\u001b[0;34m\u001b[0m\u001b[0;34m\u001b[0m\u001b[0m\n",
            "\u001b[0;32m~/anaconda3/envs/rjs/lib/python3.8/site-packages/lightgbm/sklearn.py\u001b[0m in \u001b[0;36mfit\u001b[0;34m(self, X, y, sample_weight, init_score, group, eval_set, eval_names, eval_sample_weight, eval_class_weight, eval_init_score, eval_group, eval_metric, early_stopping_rounds, verbose, feature_name, categorical_feature, callbacks, init_model)\u001b[0m\n\u001b[1;32m    746\u001b[0m         \u001b[0mcallbacks\u001b[0m\u001b[0;34m.\u001b[0m\u001b[0mappend\u001b[0m\u001b[0;34m(\u001b[0m\u001b[0mrecord_evaluation\u001b[0m\u001b[0;34m(\u001b[0m\u001b[0mevals_result\u001b[0m\u001b[0;34m)\u001b[0m\u001b[0;34m)\u001b[0m\u001b[0;34m\u001b[0m\u001b[0;34m\u001b[0m\u001b[0m\n\u001b[1;32m    747\u001b[0m \u001b[0;34m\u001b[0m\u001b[0m\n\u001b[0;32m--> 748\u001b[0;31m         self._Booster = train(\n\u001b[0m\u001b[1;32m    749\u001b[0m             \u001b[0mparams\u001b[0m\u001b[0;34m=\u001b[0m\u001b[0mparams\u001b[0m\u001b[0;34m,\u001b[0m\u001b[0;34m\u001b[0m\u001b[0;34m\u001b[0m\u001b[0m\n\u001b[1;32m    750\u001b[0m             \u001b[0mtrain_set\u001b[0m\u001b[0;34m=\u001b[0m\u001b[0mtrain_set\u001b[0m\u001b[0;34m,\u001b[0m\u001b[0;34m\u001b[0m\u001b[0;34m\u001b[0m\u001b[0m\n",
            "\u001b[0;32m~/anaconda3/envs/rjs/lib/python3.8/site-packages/lightgbm/engine.py\u001b[0m in \u001b[0;36mtrain\u001b[0;34m(params, train_set, num_boost_round, valid_sets, valid_names, fobj, feval, init_model, feature_name, categorical_feature, early_stopping_rounds, evals_result, verbose_eval, learning_rates, keep_training_booster, callbacks)\u001b[0m\n\u001b[1;32m    291\u001b[0m                                     evaluation_result_list=None))\n\u001b[1;32m    292\u001b[0m \u001b[0;34m\u001b[0m\u001b[0m\n\u001b[0;32m--> 293\u001b[0;31m         \u001b[0mbooster\u001b[0m\u001b[0;34m.\u001b[0m\u001b[0mupdate\u001b[0m\u001b[0;34m(\u001b[0m\u001b[0mfobj\u001b[0m\u001b[0;34m=\u001b[0m\u001b[0mfobj\u001b[0m\u001b[0;34m)\u001b[0m\u001b[0;34m\u001b[0m\u001b[0;34m\u001b[0m\u001b[0m\n\u001b[0m\u001b[1;32m    294\u001b[0m \u001b[0;34m\u001b[0m\u001b[0m\n\u001b[1;32m    295\u001b[0m         \u001b[0mevaluation_result_list\u001b[0m \u001b[0;34m=\u001b[0m \u001b[0;34m[\u001b[0m\u001b[0;34m]\u001b[0m\u001b[0;34m\u001b[0m\u001b[0;34m\u001b[0m\u001b[0m\n",
            "\u001b[0;32m~/anaconda3/envs/rjs/lib/python3.8/site-packages/lightgbm/basic.py\u001b[0m in \u001b[0;36mupdate\u001b[0;34m(self, train_set, fobj)\u001b[0m\n\u001b[1;32m   3019\u001b[0m             \u001b[0;32mif\u001b[0m \u001b[0mself\u001b[0m\u001b[0;34m.\u001b[0m\u001b[0m__set_objective_to_none\u001b[0m\u001b[0;34m:\u001b[0m\u001b[0;34m\u001b[0m\u001b[0;34m\u001b[0m\u001b[0m\n\u001b[1;32m   3020\u001b[0m                 \u001b[0;32mraise\u001b[0m \u001b[0mLightGBMError\u001b[0m\u001b[0;34m(\u001b[0m\u001b[0;34m'Cannot update due to null objective function.'\u001b[0m\u001b[0;34m)\u001b[0m\u001b[0;34m\u001b[0m\u001b[0;34m\u001b[0m\u001b[0m\n\u001b[0;32m-> 3021\u001b[0;31m             _safe_call(_LIB.LGBM_BoosterUpdateOneIter(\n\u001b[0m\u001b[1;32m   3022\u001b[0m                 \u001b[0mself\u001b[0m\u001b[0;34m.\u001b[0m\u001b[0mhandle\u001b[0m\u001b[0;34m,\u001b[0m\u001b[0;34m\u001b[0m\u001b[0;34m\u001b[0m\u001b[0m\n\u001b[1;32m   3023\u001b[0m                 ctypes.byref(is_finished)))\n",
            "\u001b[0;31mKeyboardInterrupt\u001b[0m: "
          ]
        }
      ],
      "source": [
        "from optuna.samplers import TPESampler\n",
        "\n",
        "sampler = TPESampler(seed=10)\n",
        "\n",
        "def objective(trial):\n",
        "    dtrain = lgb.Dataset(h_train_X, label=h_train_y)\n",
        "    dtest = lgb.Dataset(h_valid_X, label=h_valid_y)\n",
        "\n",
        "    param = {\n",
        "        'objective': 'regression', # 회귀\n",
        "        'verbose': -1,\n",
        "        'device': 'gpu',\n",
        "        'metric': 'rmse', \n",
        "        'max_depth': trial.suggest_int('max_depth',3, 15),\n",
        "        'learning_rate': trial.suggest_loguniform(\"learning_rate\", 1e-8, 1e-2),\n",
        "        'n_estimators': trial.suggest_int('n_estimators', 100, 3000),\n",
        "        'min_child_samples': trial.suggest_int('min_child_samples', 5, 100),\n",
        "        'subsample': trial.suggest_loguniform('subsample', 0.4, 1),\n",
        "    }\n",
        "\n",
        "    model = lgb.LGBMRegressor(**param)\n",
        "    lgb_model = model.fit(h_train_X, h_train_y, eval_set=[(h_valid_X, h_valid_y)], verbose=0, early_stopping_rounds=25)\n",
        "    rmse = RMSE(h_valid_y, lgb_model.predict(h_valid_X))\n",
        "    return rmse\n",
        "        \n",
        "study_lgb = optuna.create_study(direction='minimize', sampler=sampler)\n",
        "study_lgb.optimize(objective, n_trials=100)"
      ]
    },
    {
      "cell_type": "code",
      "execution_count": null,
      "metadata": {
        "colab": {
          "base_uri": "https://localhost:8080/"
        },
        "id": "B0jauzQWMOy9",
        "outputId": "11910d0a-eb80-4040-b047-f37873542c07"
      },
      "outputs": [],
      "source": [
        "trial = study_lgb.best_trial\n",
        "trial_params = trial.params\n",
        "print('Best Trial: score {},\\nparams {}'.format(trial.value, trial_params))"
      ]
    },
    {
      "cell_type": "markdown",
      "metadata": {},
      "source": [
        "- 처음에 LightGBM 평균 RMSLE가 0.2390임을 감안했을때, 매우 성능이 향상됐음을 알 수 있습니다."
      ]
    },
    {
      "cell_type": "markdown",
      "metadata": {
        "id": "DYUFSMYQ384-"
      },
      "source": [
        "## LightGBM Submission\n",
        "- 이제 test 셋을 사용해서 inference를 해보고 실제 점수를 Dacon에서 확인해볼시간입니다.\n",
        "- 먼저 train 데이터에서 진행한 모든 전처리를 test 데이터에도 적용합니다."
      ]
    },
    {
      "cell_type": "code",
      "execution_count": null,
      "metadata": {},
      "outputs": [],
      "source": [
        "train_df.head()"
      ]
    },
    {
      "cell_type": "code",
      "execution_count": null,
      "metadata": {},
      "outputs": [],
      "source": [
        "test_df.head()"
      ]
    },
    {
      "cell_type": "code",
      "execution_count": null,
      "metadata": {
        "colab": {
          "base_uri": "https://localhost:8080/"
        },
        "id": "sZLpXN1eeG-6",
        "outputId": "45762c6a-d450-4f07-e187-529c0fa8e506"
      },
      "outputs": [],
      "source": [
        "final_lgb_model = lgb.LGBMRegressor(**trial_params)\n",
        "final_lgb_model.fit(train_X, train_y)\n",
        "final_lgb_pred = final_lgb_model.predict(test_df)"
      ]
    },
    {
      "cell_type": "code",
      "execution_count": null,
      "metadata": {
        "colab": {
          "base_uri": "https://localhost:8080/"
        },
        "id": "MavLjMu6kHFz",
        "outputId": "15feb884-080e-4cd1-b432-89cc69ecb030"
      },
      "outputs": [],
      "source": [
        "final_lgb_pred"
      ]
    },
    {
      "cell_type": "code",
      "execution_count": null,
      "metadata": {
        "colab": {
          "base_uri": "https://localhost:8080/",
          "height": 1000
        },
        "id": "hDinjAqWzZLd",
        "outputId": "3a9d6958-e61a-401c-fd09-03640f2fe117"
      },
      "outputs": [],
      "source": [
        "plt.barh(train_X.columns, final_lgb_model.feature_importances_)"
      ]
    },
    {
      "cell_type": "markdown",
      "metadata": {},
      "source": [
        "- 동, 완공연도, 면적, 아파트명 순으로 중요도가 높다고 나옵니다.\n",
        "- top 시공사는 별로 중요하지 않다고 하네요.."
      ]
    },
    {
      "cell_type": "markdown",
      "metadata": {},
      "source": [
        "## Submission\n",
        "- 이제 제출을 해봅시다.\n",
        "- 가격을 다시 역변환합니다."
      ]
    },
    {
      "cell_type": "code",
      "execution_count": null,
      "metadata": {
        "colab": {
          "base_uri": "https://localhost:8080/"
        },
        "id": "wSyQzIK6gX_D",
        "outputId": "86a54ed9-5393-489e-9795-732d3405dfbd"
      },
      "outputs": [],
      "source": [
        "final_pred_sub = np.expm1(final_lgb_pred)\n",
        "final_pred_sub"
      ]
    },
    {
      "cell_type": "code",
      "execution_count": null,
      "metadata": {
        "colab": {
          "base_uri": "https://localhost:8080/",
          "height": 419
        },
        "id": "pGjPIU4PiK74",
        "outputId": "ba4ad473-91fe-42c2-95d8-e0a47fbb57c4"
      },
      "outputs": [],
      "source": [
        "sub = pd.read_csv('./input/test.csv')\n",
        "sub_df = pd.DataFrame({'transaction_id': sub['transaction_id'], 'transaction_real_price': final_pred_sub})\n",
        "sub_df"
      ]
    },
    {
      "cell_type": "code",
      "execution_count": null,
      "metadata": {
        "id": "-phPm_bkkRDe"
      },
      "outputs": [],
      "source": [
        "sub_df.to_csv('submission_lgb.csv', index=False)"
      ]
    },
    {
      "cell_type": "markdown",
      "metadata": {},
      "source": [
        "여기까지 따라오시느라 고생하셨습니다.\n",
        "\n",
        "긴 글 봐주셔서 감사합니다:)"
      ]
    },
    {
      "cell_type": "code",
      "execution_count": null,
      "metadata": {
        "id": "gUwouTkEyuR3"
      },
      "outputs": [],
      "source": [
        "import pandas as pd\n",
        "import numpy as np\n",
        "import matplotlib.pyplot as plt\n",
        "import seaborn as sns\n",
        "from tqdm import tqdm\n",
        "from sklearn.linear_model import LinearRegression, ElasticNet, Lasso, Ridge\n",
        "from sklearn.tree import DecisionTreeRegressor\n",
        "from sklearn.ensemble import RandomForestRegressor\n",
        "from sklearn.preprocessing import  LabelEncoder\n",
        "from sklearn.model_selection import TimeSeriesSplit\n",
        "from sklearn.metrics import mean_squared_error\n",
        "import xgboost as xgb\n",
        "import lightgbm as lgb\n",
        "import re\n",
        "import optuna\n",
        "\n",
        "sns.set_theme(style=\"darkgrid\")\n"
      ]
    },
    {
      "cell_type": "markdown",
      "metadata": {
        "id": "1TRIEY3TyuR4"
      },
      "source": [
        "## Data Load"
      ]
    },
    {
      "cell_type": "code",
      "execution_count": null,
      "metadata": {
        "id": "nWFpn1T3yuR5"
      },
      "outputs": [],
      "source": [
        "train_df = pd.read_csv('./input/train.csv')\n",
        "test_df = pd.read_csv('./input/test.csv')"
      ]
    },
    {
      "cell_type": "code",
      "execution_count": null,
      "metadata": {},
      "outputs": [],
      "source": [
        "train_df.head(3)"
      ]
    },
    {
      "cell_type": "code",
      "execution_count": null,
      "metadata": {},
      "outputs": [],
      "source": [
        "test_df.head(3)"
      ]
    },
    {
      "cell_type": "markdown",
      "metadata": {
        "id": "rFlOm3HTyuR6"
      },
      "source": [
        "- exclusive_use_area: 전용면적(한 세대만 독점적으로 사용하는 공간)\n",
        "- transaction_real_price: 실거래가(단위:만원, 타겟 값, train만 존재)\n",
        "- transaction_year_month: 거래년월\n",
        "- transaction_date: 거래일\n",
        "- floor: 층 \n",
        "\n",
        "- 데이터가 거래시간 순으로 이루어져 있습니다."
      ]
    },
    {
      "cell_type": "code",
      "execution_count": null,
      "metadata": {},
      "outputs": [],
      "source": [
        "print(train_df.shape)\n",
        "print(test_df.shape)"
      ]
    },
    {
      "cell_type": "markdown",
      "metadata": {},
      "source": [
        "- 처음부터 train 데이터와 test데이터가 분리되어 있습니다. (id가 겹치지 않습니다.)\n",
        "    - train data: 1216552행 13열로 구성\n",
        "    - test data: 5463행 12열로 구성 (예측변수 'transaction_real_price'는 제외됨)"
      ]
    },
    {
      "cell_type": "code",
      "execution_count": null,
      "metadata": {
        "colab": {
          "base_uri": "https://localhost:8080/",
          "height": 240
        },
        "id": "jxDarwA4f4GE",
        "outputId": "e41306ce-b636-45f9-f5bb-bff6aaf4bd92"
      },
      "outputs": [],
      "source": [
        "train_df.head(5)"
      ]
    },
    {
      "cell_type": "code",
      "execution_count": null,
      "metadata": {
        "colab": {
          "base_uri": "https://localhost:8080/",
          "height": 289
        },
        "id": "ptHosUTEyuR7",
        "outputId": "7d304bfd-f974-44c9-9f5d-bc1071455dc1",
        "scrolled": false
      },
      "outputs": [],
      "source": [
        "train_df.describe() "
      ]
    },
    {
      "cell_type": "code",
      "execution_count": null,
      "metadata": {
        "colab": {
          "base_uri": "https://localhost:8080/"
        },
        "id": "GqBnjIEryuR8",
        "outputId": "e3c511d5-76a7-4fec-e586-e07e6db5d3bd"
      },
      "outputs": [],
      "source": [
        "train_df.info()"
      ]
    },
    {
      "cell_type": "markdown",
      "metadata": {
        "id": "cPo0KrA4yuR8"
      },
      "source": [
        "- train_df 결측치는 없습니다.\n",
        "- 건물들은 1961년 ~ 2017년에 완공됐습니다.\n",
        "- 9.26m^2 ~ 424.32m^2 전용면적을 가지고 있습니다.\n",
        "- Floor의 경우 음의 값이 존재합니다.\n",
        "- 실거래가는 100만원부터 820억까지 존재합니다."
      ]
    },
    {
      "cell_type": "code",
      "execution_count": null,
      "metadata": {
        "colab": {
          "base_uri": "https://localhost:8080/",
          "height": 147
        },
        "id": "1FwiQwyXyuR8",
        "outputId": "d84ed6be-d755-47f7-d954-2ad31dbfed2e",
        "scrolled": true
      },
      "outputs": [],
      "source": [
        "train_df.loc[train_df['transaction_real_price']==820000]"
      ]
    },
    {
      "cell_type": "code",
      "execution_count": null,
      "metadata": {
        "colab": {
          "base_uri": "https://localhost:8080/",
          "height": 302
        },
        "id": "qr4bAphkZtqZ",
        "outputId": "5aa2b1ec-f7e4-4009-d09e-237baab0cf95"
      },
      "outputs": [],
      "source": [
        "test_df.describe()"
      ]
    },
    {
      "cell_type": "markdown",
      "metadata": {},
      "source": [
        "- test 데이터는 거래 연월이 2017년 데이터만 존재합니다.\n",
        "- 완공연도는 train과 동일합니다.\n",
        "- 층은 -1층부터 존재합니다."
      ]
    },
    {
      "cell_type": "code",
      "execution_count": null,
      "metadata": {
        "colab": {
          "base_uri": "https://localhost:8080/"
        },
        "id": "7WgJSSXUZtkJ",
        "outputId": "f9ccd750-b449-4469-c658-c2014af3f399"
      },
      "outputs": [],
      "source": [
        "test_df.info()"
      ]
    },
    {
      "cell_type": "markdown",
      "metadata": {},
      "source": [
        "- 마찬가지로 결측치는 없습니다."
      ]
    },
    {
      "cell_type": "markdown",
      "metadata": {
        "id": "23AHCSypXODz"
      },
      "source": [
        "## Preprocessing"
      ]
    },
    {
      "cell_type": "markdown",
      "metadata": {
        "id": "11SmTN0zVJAp"
      },
      "source": [
        "### apart"
      ]
    },
    {
      "cell_type": "code",
      "execution_count": null,
      "metadata": {},
      "outputs": [],
      "source": [
        "rain_df.head(1)"
      ]
    },
    {
      "cell_type": "markdown",
      "metadata": {},
      "source": [
        "- 신현(101동)과 신현(102동)의 가격차이가 클까요?\n",
        "- apt 이름에 존재하는 괄호 + 괄호안 내용을 제거해서 통일하겠습니다."
      ]
    },
    {
      "cell_type": "code",
      "execution_count": null,
      "metadata": {
        "id": "hqTsDvMvXNr7"
      },
      "outputs": [],
      "source": [
        "#괄호와 괄호안내용 제거\n",
        "regex = \"\\(.*\\)|\\s-\\s.*\"\n",
        "for i in tqdm(range(len(train_df))):\n",
        "   train_df.at[i, 'apt'] = re.sub(regex, '', train_df.at[i, 'apt'])\n",
        "for i in tqdm(range(len(test_df))):\n",
        "   test_df.at[i, 'apt'] = re.sub(regex, '', test_df.at[i, 'apt'])   "
      ]
    },
    {
      "cell_type": "code",
      "execution_count": null,
      "metadata": {
        "colab": {
          "base_uri": "https://localhost:8080/"
        },
        "id": "SV_-tgUVk8lo",
        "outputId": "4c83ff90-512c-4405-fbaf-3ae7abf61b74"
      },
      "outputs": [],
      "source": [
        "train_df['apt'].value_counts()[:20]"
      ]
    },
    {
      "cell_type": "code",
      "execution_count": null,
      "metadata": {},
      "outputs": [],
      "source": [
        "train_df['apt'].nunique()"
      ]
    },
    {
      "cell_type": "code",
      "execution_count": null,
      "metadata": {
        "id": "Tv03aoj2pLdG"
      },
      "outputs": [],
      "source": [
        "# top 10 시공사 아파트 여부를 나타내는 컬럼 생성\n",
        "train_df['top10'] = 0\n",
        "test_df['top10'] = 0\n",
        "top10 = ['자이', '푸르지오', '더샵', '롯데캐슬', '이편한|e편한|e-편한',\n",
        "         '힐스테이트', '아이파크', '래미안', 'sk|SK|에스케이', '데시앙']\n",
        "\n",
        "train_df['apt'] = train_df['apt'].fillna('others')\n",
        "# top 10 시공사면 1, 아니면 0\n",
        "for i, brand in enumerate(top10):\n",
        "    train_df.loc[train_df['apt'].str.contains(brand), 'top10'] = 1\n",
        "    test_df.loc[test_df['apt'].str.contains(brand), 'top10'] = 1\n"
      ]
    },
    {
      "cell_type": "code",
      "execution_count": null,
      "metadata": {
        "colab": {
          "base_uri": "https://localhost:8080/",
          "height": 78
        },
        "id": "RNPils0FGIHT",
        "outputId": "5caf5500-9d12-48d2-dfd4-37be1a8d97b6"
      },
      "outputs": [],
      "source": [
        "train_df.head(1)"
      ]
    },
    {
      "cell_type": "code",
      "execution_count": null,
      "metadata": {
        "id": "6e_NdtpjTRhZ"
      },
      "outputs": [],
      "source": [
        "from gensim.models.word2vec import Word2Vec\n",
        "model = Word2Vec([train_df['apt'].values.tolist()], min_count=1, vector_size=1024, sg=1, epochs=100)\n",
        "model.save('apt_w2v_1024_sg_100.model')"
      ]
    },
    {
      "cell_type": "code",
      "execution_count": null,
      "metadata": {},
      "outputs": [],
      "source": [
        "apt_w2v = Word2Vec.load('apt_w2v_1024_sg_100.model')"
      ]
    },
    {
      "cell_type": "code",
      "execution_count": null,
      "metadata": {},
      "outputs": [],
      "source": [
        "apt_w2v.wv.most_similar('현대')"
      ]
    },
    {
      "cell_type": "code",
      "execution_count": null,
      "metadata": {},
      "outputs": [],
      "source": [
        "dong_w2v.wv.most_similar('신교동')[-1]"
      ]
    },
    {
      "cell_type": "code",
      "execution_count": null,
      "metadata": {},
      "outputs": [],
      "source": [
        "train_df['apt_embedded'] = train_df['apt'].apply(lambda x: apt_w2v.wv[x])"
      ]
    },
    {
      "cell_type": "code",
      "execution_count": null,
      "metadata": {},
      "outputs": [],
      "source": [
        "train_df.head()"
      ]
    },
    {
      "cell_type": "markdown",
      "metadata": {
        "id": "wawdc1-NzQD3"
      },
      "source": [
        "### date\n",
        "apt 전처리는 마쳤으니, 이번에는 date로 넘어가봅시다."
      ]
    },
    {
      "cell_type": "code",
      "execution_count": null,
      "metadata": {},
      "outputs": [],
      "source": [
        "train_df.head(1)"
      ]
    },
    {
      "cell_type": "code",
      "execution_count": null,
      "metadata": {},
      "outputs": [],
      "source": [
        "train_df.describe()"
      ]
    },
    {
      "cell_type": "markdown",
      "metadata": {},
      "source": [
        "- 날짜 관련 컬럼은 `year_of_completion`, `transaction_year_month`, `transaction_date`가 있습니다.\n",
        "- `transaction_date`는 0~10, 11~20, 21~30 총 세가지로 이루어져 있는데, 가격에 크게 영향을 미칠 것 같지 않아 제외합니다.\n",
        "각 컬럼의 최대/최소가\n",
        "- `year_of_completion`\n",
        "    - 최소연도: 1961년\n",
        "    - 최대연도: 2017년\n",
        "- `transaction_year_month`\n",
        "    - 최소연도: 2008년 1월\n",
        "    - 최대연도: 2017년 11월\n",
        "임을 확인합니다.\n",
        "- 최대연도에서 최소연도를 빼면 정수형 라벨인코딩이 완성되겠죠?\n",
        "- 사용하지 않을 열도 미리 제거하겠습니다.\n",
        "\n",
        "주의할 점은 test 데이터의 라벨인코딩입니다.\n",
        "- test 완공연도는 train 데이터와 동일하기 때문에 상관없습니다.\n",
        "- 대신 거래연월이 2017년 01월부터 12월까지로만 이루어져 있기 때문에, 최소값을 빼면 train 라벨인코딩과 다른 값이 됩니다.\n",
        "- 따라서 test의 거래연월에서 2017을 뺀 값에서 201701의 인코딩 값을 더해줍니다.\n"
      ]
    },
    {
      "cell_type": "code",
      "execution_count": null,
      "metadata": {},
      "outputs": [],
      "source": [
        "# test 시작 거래연월인 인덱스 저장\n",
        "test_start = train_df.loc[train_df['transaction_year_month'] == 201701, 'transaction_year_month'].index[0]"
      ]
    },
    {
      "cell_type": "code",
      "execution_count": null,
      "metadata": {
        "colab": {
          "base_uri": "https://localhost:8080/"
        },
        "id": "OFOkDMGoCd35",
        "outputId": "496a9a09-1774-4670-a8d0-deb85e4728d3"
      },
      "outputs": [],
      "source": [
        "# 완공연도에서 최소연도를 뺌으로써 완공연도 라벨인코딩\n",
        "print('변환전\\n', train_df['year_of_completion'].unique()[:5])\n",
        "train_df['year_of_completion'] = train_df['year_of_completion'] - train_df['year_of_completion'].min()\n",
        "test_df['year_of_completion'] = test_df['year_of_completion'] - test_df['year_of_completion'].min()\n",
        "print('변환후\\n', train_df['year_of_completion'].unique()[:5])\n",
        "\n",
        "# 연월 증가하는 순으로 라벨 인코딩\n",
        "print('train 변환전\\n', train_df['transaction_year_month'].unique()[:5])\n",
        "print('test 변환전\\n', test_df['transaction_year_month'].unique()[:5])\n",
        "le = LabelEncoder()\n",
        "train_df['transaction_year_month'] = le.fit_transform(train_df['transaction_year_month'])\n",
        "# test는 다음과 같이 처리\n",
        "test_df['transaction_year_month'] = test_df['transaction_year_month'] - test_df['transaction_year_month'].min() + train_df.at[test_start, 'transaction_year_month']\n",
        "print('train 변환후\\n', train_df['transaction_year_month'].unique()[:5])\n",
        "print('test 변환후\\n', test_df['transaction_year_month'].unique()[:5])\n",
        "\n",
        "# 필요없는 열 제거\n",
        "train_df = train_df.drop(['jibun', 'transaction_date', 'addr_kr'], axis=1)\n",
        "test_df = test_df.drop(['jibun', 'transaction_date', 'addr_kr'], axis=1)"
      ]
    },
    {
      "cell_type": "code",
      "execution_count": null,
      "metadata": {
        "colab": {
          "base_uri": "https://localhost:8080/",
          "height": 289
        },
        "id": "I36E-yHw6cVd",
        "outputId": "884eb0d1-9774-424a-af6e-723110db99d5"
      },
      "outputs": [],
      "source": [
        "train_df.head(5)"
      ]
    },
    {
      "cell_type": "code",
      "execution_count": null,
      "metadata": {},
      "outputs": [],
      "source": [
        "test_df"
      ]
    },
    {
      "cell_type": "code",
      "execution_count": null,
      "metadata": {},
      "outputs": [],
      "source": [
        "train_df.describe()"
      ]
    },
    {
      "cell_type": "code",
      "execution_count": null,
      "metadata": {},
      "outputs": [],
      "source": [
        "test_df.describe()"
      ]
    },
    {
      "cell_type": "markdown",
      "metadata": {
        "id": "A2MobnpAFtge"
      },
      "source": [
        "### dong\n",
        "- 이번에는 주소의 동입니다.\n",
        "- 먼저 서울과 부산에서 같은 이름을 가진 동이 있는지 확인해보겠습니다."
      ]
    },
    {
      "cell_type": "code",
      "execution_count": null,
      "metadata": {
        "colab": {
          "base_uri": "https://localhost:8080/"
        },
        "id": "vQCgXMAfxAiq",
        "outputId": "007f59c5-b780-4061-abbd-100513827d8f"
      },
      "outputs": [],
      "source": [
        "seoul_set = set(train_df.loc[train_df['city']=='서울특별시', 'dong'])\n",
        "busan_set = set(train_df.loc[train_df['city']=='부산광역시', 'dong'])\n",
        "same_dong = seoul_set & busan_set \n",
        "print(same_dong)\n",
        "\n",
        "seoul_set = set(test_df.loc[test_df['city']=='서울특별시', 'dong'])\n",
        "busan_set = set(test_df.loc[test_df['city']=='부산광역시', 'dong'])\n",
        "same_dong = seoul_set & busan_set \n",
        "print(same_dong)"
      ]
    },
    {
      "cell_type": "markdown",
      "metadata": {
        "id": "blkoRsDFLwGu"
      },
      "source": [
        "- 서울과 부산에 중동, 부암동, 송정동, 사직동 총 네 동이 겹칩니다.\n",
        "- 접두사에 서울 또는 부산을 붙여 같은동을 분리하겠습니다."
      ]
    },
    {
      "cell_type": "code",
      "execution_count": null,
      "metadata": {
        "colab": {
          "base_uri": "https://localhost:8080/"
        },
        "id": "K0CXRKKrFzTY",
        "outputId": "de28ff2e-871c-46dd-ba81-514f005b597c"
      },
      "outputs": [],
      "source": [
        "for d in same_dong:\n",
        "    train_df.loc[(train_df['city']=='서울특별시') & (train_df['dong']==d), 'dong'] = '서울' + d\n",
        "    train_df.loc[(train_df['city']=='부산광역시') & (train_df['dong']==d), 'dong'] = '부산' + d\n",
        "    test_df.loc[(test_df['city']=='서울특별시') & (test_df['dong']==d), 'dong'] = '서울' + d\n",
        "    test_df.loc[(test_df['city']=='부산광역시') & (test_df['dong']==d), 'dong'] = '부산' + d\n",
        "    \n",
        "\n",
        "seoul_set = set(train_df.loc[train_df['city']=='서울특별시', 'dong'])\n",
        "busan_set = set(train_df.loc[train_df['city']=='부산광역시', 'dong'])\n",
        "same_dong = seoul_set & busan_set\n",
        "print(same_dong)  "
      ]
    },
    {
      "cell_type": "markdown",
      "metadata": {
        "id": "WnFIELvHLs39"
      },
      "source": [
        "- 더 이상 겹치는 동이 없습니다.\n",
        "- 이번에는 동별로 평균 가격을 확인해보겠습니다.\n",
        "- 아파트 평균 가격을 확인하는 방법과 동일합니다."
      ]
    },
    {
      "cell_type": "code",
      "execution_count": null,
      "metadata": {
        "colab": {
          "base_uri": "https://localhost:8080/"
        },
        "id": "QXlhPfyKINGd",
        "outputId": "569b0615-54b9-4fa9-b902-1df3c1868092"
      },
      "outputs": [],
      "source": [
        "model = Word2Vec([train_df['dong'].values.tolist()], min_count=1, vector_size=1024, sg=1, epochs=100)\n",
        "model.save('dong_w2v_1024_sg_100.model')\n",
        "dong_w2v = Word2Vec.load('dong_w2v_1024_sg_100.model')\n",
        "train_df['dong_embedded'] = train_df['dong'].apply(lambda x: dong_w2v.wv[x])\n",
        "train_df"
      ]
    },
    {
      "cell_type": "markdown",
      "metadata": {
        "id": "Clo1cRwm9Q96"
      },
      "source": [
        "### Floor"
      ]
    },
    {
      "cell_type": "code",
      "execution_count": null,
      "metadata": {
        "colab": {
          "base_uri": "https://localhost:8080/",
          "height": 289
        },
        "id": "E52JpjJGEXsQ",
        "outputId": "d09ccb38-9ef0-4e58-e9f1-1b48c39f5ce6"
      },
      "outputs": [],
      "source": [
        "train_df.describe()"
      ]
    },
    {
      "cell_type": "markdown",
      "metadata": {},
      "source": [
        "- 최소층이 -4층임을 확인할 수 있습니다.\n",
        "- 4를 더해서 라벨인코딩을 진행해줍니다.\n",
        "- test는 최소층이 -1층이었으니 맞게 변환합니다."
      ]
    },
    {
      "cell_type": "code",
      "execution_count": null,
      "metadata": {
        "colab": {
          "base_uri": "https://localhost:8080/"
        },
        "id": "nK9SRgPE9SXB",
        "outputId": "b5dd85c9-727d-45b3-bbe2-517823be3018"
      },
      "outputs": [],
      "source": [
        "# 최소값이 -4이므로 4를 더해서 음수를 없애고 순서형범주처리\n",
        "print('변환전\\n', train_df['floor'].values[:5])\n",
        "train_df['floor'] = train_df['floor'].map(lambda x: x+4)\n",
        "test_df['floor'] = test_df['floor'].map(lambda x: x+1)\n",
        "print('변환후\\n', train_df['floor'].values[:5])"
      ]
    },
    {
      "cell_type": "markdown",
      "metadata": {
        "id": "VF5P_T3_yuR9"
      },
      "source": [
        "### Price\n",
        "- 이제 타겟데이터를 살펴보겠습니다."
      ]
    },
    {
      "cell_type": "code",
      "execution_count": null,
      "metadata": {
        "colab": {
          "base_uri": "https://localhost:8080/",
          "height": 293
        },
        "id": "LBVn1yB1yuR9",
        "outputId": "b74d57ee-f27b-4005-b2d3-96ad4b93897d",
        "scrolled": true
      },
      "outputs": [],
      "source": [
        "# train price\n",
        "plt.figure()\n",
        "sns.displot(train_df['transaction_real_price'], bins=30)\n",
        "plt.xlabel('Price(10000 won)')\n",
        "plt.title('Distribution of Price')\n",
        "plt.show()"
      ]
    },
    {
      "cell_type": "markdown",
      "metadata": {
        "id": "ZLsEvIOVyuR-"
      },
      "source": [
        "- 가격의 분포가 매우 왼쪽으로 치우친 것을 확인할 수 있습니다.\n",
        "- 타겟 변수의 이상치가 회귀모형을 사용한 예측에 큰 영향을 줄 수 있으니,\n",
        "    - 로그 변환으로 정규화한뒤, 나중에 다시 역변환하겠습니다!"
      ]
    },
    {
      "cell_type": "code",
      "execution_count": null,
      "metadata": {
        "colab": {
          "base_uri": "https://localhost:8080/",
          "height": 78
        },
        "id": "m6K6o48uJ-K8",
        "outputId": "3458fa07-891c-4fbb-966b-7018d9757965"
      },
      "outputs": [],
      "source": [
        "# 가격 로그 변환 후 원래 가격 따로 저장\n",
        "train_df['log_price'] = np.log1p(train_df['transaction_real_price'])\n",
        "real_price = train_df['transaction_real_price'] # 원래 가격\n",
        "train_df.drop('transaction_real_price', axis=1, inplace=True)\n",
        "train_df.head(1)"
      ]
    },
    {
      "cell_type": "markdown",
      "metadata": {},
      "source": [
        "- 잘 변환이 됐는지 그래프를 그려보겠습니다."
      ]
    },
    {
      "cell_type": "code",
      "execution_count": null,
      "metadata": {
        "colab": {
          "base_uri": "https://localhost:8080/",
          "height": 423
        },
        "id": "fZzNvGO7xHRX",
        "outputId": "64de9d88-9350-4265-f17f-51359260bd09"
      },
      "outputs": [],
      "source": [
        "f, (ax1, ax2) = plt.subplots(1,2,figsize=(12,6))\n",
        "\n",
        "ax1.hist(real_price, bins=30)\n",
        "ax1.set_title('Price Distribution')\n",
        "ax1.set_xlabel('Price')\n",
        "\n",
        "ax2.hist(train_df['log_price'], bins=30)\n",
        "ax2.set_title('Log Price Distribution')\n",
        "ax2.set_xlabel('Log Price')\n",
        "\n",
        "plt.show()"
      ]
    },
    {
      "cell_type": "markdown",
      "metadata": {},
      "source": [
        "- 가격이 정규분포처럼 잘 근사됐네요 :)"
      ]
    },
    {
      "cell_type": "markdown",
      "metadata": {
        "id": "AVTeTEfRr15R"
      },
      "source": [
        "### Area\n",
        "- 면적도 가격과 동일하게!"
      ]
    },
    {
      "cell_type": "code",
      "execution_count": null,
      "metadata": {
        "colab": {
          "base_uri": "https://localhost:8080/",
          "height": 295
        },
        "id": "EKSc4UJ6yuR-",
        "outputId": "7342cd98-a018-4468-9a09-8f238f27bb84",
        "scrolled": false
      },
      "outputs": [],
      "source": [
        "# train area\n",
        "plt.figure()\n",
        "sns.displot(train_df['exclusive_use_area'], bins=30)\n",
        "plt.xlabel('Area(Square meter)')\n",
        "plt.title('Distribution of Area')\n",
        "plt.show()"
      ]
    },
    {
      "cell_type": "code",
      "execution_count": null,
      "metadata": {
        "colab": {
          "base_uri": "https://localhost:8080/",
          "height": 78
        },
        "id": "Mww8qNfzrmeU",
        "outputId": "cbfe2e36-0168-41be-d5c5-846eb3cf59e3"
      },
      "outputs": [],
      "source": [
        "# 면적 로그 변환 후 원래 면적 따로 저장\n",
        "train_df['log_area'] = np.log1p(train_df['exclusive_use_area'])\n",
        "test_df['log_area'] = np.log1p(test_df['exclusive_use_area'])\n",
        "area = train_df['exclusive_use_area'] # 원래 가격\n",
        "train_df.drop('exclusive_use_area', axis=1, inplace=True)\n",
        "test_df.drop('exclusive_use_area', axis=1, inplace=True)\n",
        "train_df.head(1)"
      ]
    },
    {
      "cell_type": "code",
      "execution_count": null,
      "metadata": {
        "colab": {
          "base_uri": "https://localhost:8080/",
          "height": 296
        },
        "id": "XWFge8LqCf_8",
        "outputId": "7e6948d7-c682-4345-cb3a-f6bfecbe9530"
      },
      "outputs": [],
      "source": [
        "f, (ax1, ax2) = plt.subplots(1,2,figsize=(12,6))\n",
        "\n",
        "ax1.hist(area, bins=30)\n",
        "ax1.set_title('Distribution of Area')\n",
        "ax1.set_xlabel('Area')\n",
        "\n",
        "ax2.hist(train_df['log_area'], bins=30)\n",
        "ax2.set_title('Distribution of Log Area')\n",
        "ax2.set_xlabel('Area')\n",
        "\n",
        "plt.show()"
      ]
    },
    {
      "cell_type": "markdown",
      "metadata": {},
      "source": [
        "- 가격만큼 만족스럽진 않지만.. 그냥 쓰겠습니다 ㅎㅎ"
      ]
    },
    {
      "cell_type": "markdown",
      "metadata": {
        "id": "RlvQNiQdEzQs"
      },
      "source": [
        "### Encoding\n",
        "- 인코딩은 이제 `city`만 진행하면 됩니다.\n",
        "- `city`는 서울특별시면 1, 부산광역시면 0으로 변환하겠습니다.\n",
        "- 학습에 사용하지 않을 피쳐들도 제거하겠습니다."
      ]
    },
    {
      "cell_type": "code",
      "execution_count": null,
      "metadata": {
        "id": "jANAQVK291VZ"
      },
      "outputs": [],
      "source": [
        "drop_col = ['transaction_id', 'apartment_id', 'dong', 'apt']\n",
        "\n",
        "train_df['city'] = train_df['city'].map(lambda x: 1 if x == '서울특별시' else 0)\n",
        "test_df['city'] = test_df['city'].map(lambda x: 1 if x == '서울특별시' else 0)"
      ]
    },
    {
      "cell_type": "code",
      "execution_count": null,
      "metadata": {
        "colab": {
          "base_uri": "https://localhost:8080/",
          "height": 199
        },
        "id": "iM8tGHMMtPgt",
        "outputId": "fb0dee39-a1e7-46e0-c0e6-a60ca19a7d3c"
      },
      "outputs": [],
      "source": [
        "train_df.drop(drop_col, axis=1, inplace=True)\n",
        "test_df.drop(drop_col, axis=1, inplace=True)\n",
        "train_df.head(1)"
      ]
    },
    {
      "cell_type": "code",
      "execution_count": null,
      "metadata": {},
      "outputs": [],
      "source": [
        "test_df.head(1)"
      ]
    },
    {
      "cell_type": "code",
      "execution_count": null,
      "metadata": {},
      "outputs": [],
      "source": [
        "train_df.info()"
      ]
    },
    {
      "cell_type": "code",
      "execution_count": null,
      "metadata": {
        "colab": {
          "base_uri": "https://localhost:8080/"
        },
        "id": "3X4UMl3AZQO0",
        "outputId": "82d5c3a6-8df3-42ae-8e9a-18167794a97e"
      },
      "outputs": [],
      "source": [
        "print(train_df.shape, test_df.shape)"
      ]
    },
    {
      "cell_type": "code",
      "execution_count": 116,
      "metadata": {},
      "outputs": [],
      "source": [
        "import tensorflow as tf\n",
        "train_df['apt_embedded'] = train_df['apt_embedded'].apply(lambda x: tf.reshape(x, [-1]).numpy())\n",
        "train_df['dong_embedded'] = train_df['dong_embedded'].apply(lambda x: tf.reshape(x, [-1]).numpy())\n",
        "train_X, train_y = train_df.drop(['log_price', 'dong', 'apt'], axis=1), train_df['log_price']\n",
        "print(train_X.shape, train_y.shape)"
      ]
    },
    {
      "cell_type": "code",
      "execution_count": null,
      "metadata": {
        "id": "b1QCDF4M0A_K"
      },
      "outputs": [],
      "source": [
        "def RMSE(y, y_pred):\n",
        "    rmse = mean_squared_error(y, y_pred) ** 0.5\n",
        "    return rmse"
      ]
    },
    {
      "cell_type": "markdown",
      "metadata": {},
      "source": [
        "- 간단하게 모델을 정의합니다."
      ]
    },
    {
      "cell_type": "code",
      "execution_count": null,
      "metadata": {
        "id": "NFaDSJHXcJUm"
      },
      "outputs": [],
      "source": [
        "reg = LinearRegression(n_jobs=-1)\n",
        "ridge = Ridge(alpha=0.8, random_state=1)\n",
        "lasso = Lasso(alpha = 0.01, random_state=1)\n",
        "Enet = ElasticNet(alpha=0.03, l1_ratio=0.01, random_state=1)\n",
        "DTree = DecisionTreeRegressor(max_depth=6, min_samples_split=10, min_samples_leaf=15, random_state=1)\n",
        "rf = RandomForestRegressor(n_estimators=500, criterion='mse', max_depth=9, min_samples_split=50,\n",
        "                           min_samples_leaf=5, random_state=1, n_jobs=-1)\n",
        "model_xgb = xgb.XGBRegressor(n_estimators=500, max_depth=9, min_child_weight=5, gamma=0.1, n_jobs=-1)\n",
        "model_lgb = lgb.LGBMRegressor(n_estimators=500, max_depth=9, min_child_weight=5, n_jobs=-1)"
      ]
    },
    {
      "cell_type": "markdown",
      "metadata": {},
      "source": [
        "- 학습을 시키고 성능을 테스트합니다.\n",
        "- i9-10980XE CPU를 사용했을 때, 아래의 CV 시간은 약 800초 정도 소요됩니다."
      ]
    },
    {
      "cell_type": "code",
      "execution_count": null,
      "metadata": {},
      "outputs": [],
      "source": [
        "import tensorflow as tf\n",
        "for e in train_X['dong_embedded']:\n",
        "    print(tf.reshape(e, [-1]).numpy())\n",
        "    break"
      ]
    },
    {
      "cell_type": "code",
      "execution_count": null,
      "metadata": {},
      "outputs": [],
      "source": [
        "train_X['dong_embedded'][0"
      ]
    },
    {
      "cell_type": "code",
      "execution_count": null,
      "metadata": {
        "colab": {
          "base_uri": "https://localhost:8080/"
        },
        "id": "x_OHU1WM1aAY",
        "outputId": "d3c6ad96-0560-4592-f9e3-d81501ab1fd9"
      },
      "outputs": [],
      "source": [
        "models = []\n",
        "scores = []\n",
        "train_data = lgb.Dataset(train_X, label=train_y)\n",
        "for model in [model_lgb]:\n",
        "    model_name, mean_score = print_rmse_score(model)\n",
        "    models.append(model_name)\n",
        "    scores.append(mean_score)"
      ]
    },
    {
      "cell_type": "code",
      "execution_count": null,
      "metadata": {
        "colab": {
          "base_uri": "https://localhost:8080/",
          "height": 297
        },
        "id": "XhBskjS8SfGR",
        "outputId": "d3ba7e4d-712c-449d-9390-4849ba909674"
      },
      "outputs": [],
      "source": [
        "result_df = pd.DataFrame({'Model': models, 'Score': scores}).reset_index(drop=True)\n",
        "result_df"
      ]
    },
    {
      "cell_type": "code",
      "execution_count": null,
      "metadata": {
        "colab": {
          "base_uri": "https://localhost:8080/",
          "height": 490
        },
        "id": "KCjf4sknda7P",
        "outputId": "c7c3d4b1-d57a-480a-aaa9-ec4bd2bf9884"
      },
      "outputs": [],
      "source": [
        "f, ax = plt.subplots(figsize=(10, 6))\n",
        "plt.xticks(rotation='90')\n",
        "sns.barplot(x=result_df['Model'], y=result_df['Score'])\n",
        "plt.xlabel('Models', fontsize=15)\n",
        "plt.ylabel('Model Performance', fontsize=15)\n",
        "plt.ylim(0.22, 0.32)\n",
        "plt.title('RMSLE', fontsize=15)\n",
        "plt.show()"
      ]
    },
    {
      "cell_type": "markdown",
      "metadata": {
        "id": "z47Xwazyz4Hv"
      },
      "source": [
        "- CV 결과 LightGBM의 평균 RMSLE가 0.2395로 가장 작은 것을 알 수 있습니다.\n",
        "- 이제, LightGBM을 이용하여 하이퍼 파라미터 튜닝을 진행하겠습니다. "
      ]
    },
    {
      "cell_type": "markdown",
      "metadata": {
        "id": "Ln1OZScO0avm"
      },
      "source": [
        "### Hyperparameter Tuning\n",
        "- 시간적 비용을 고려하여, 하이퍼 파라미터 튜닝에서는 TimeSeries CV를 사용하지 않겠습니다.\n",
        "- 대신 train 데이터를 8:2 비율로 분할하여 학습과 검증에 사용하겠습니다.\n",
        "- 마찬가지로 데이터가 섞이지 않게, 검증 데이터는 train 데이터의 마지막 20%을 사용하겠습니다."
      ]
    },
    {
      "cell_type": "code",
      "execution_count": null,
      "metadata": {
        "colab": {
          "base_uri": "https://localhost:8080/"
        },
        "id": "bjpjn-b-19G3",
        "outputId": "cea54506-8190-4da8-f15f-88b13ece2a05"
      },
      "outputs": [],
      "source": [
        "cut = int(len(train_df)*0.8)\n",
        "h_train = train_df[:cut]\n",
        "h_valid = train_df[cut:]\n",
        "\n",
        "h_train_X = h_train.drop('log_price', axis=1)\n",
        "h_train_y = h_train['log_price']\n",
        "h_valid_X = h_valid.drop('log_price', axis=1)\n",
        "h_valid_y = h_valid['log_price']\n",
        "print(h_train_X.shape, h_train_y.shape, h_valid_X.shape, h_valid_y.shape)"
      ]
    },
    {
      "cell_type": "code",
      "execution_count": null,
      "metadata": {
        "colab": {
          "base_uri": "https://localhost:8080/",
          "height": 204
        },
        "id": "1iyD2ucAheDo",
        "outputId": "008f6dd8-ac0b-4d1e-dd57-82139dfa5a08"
      },
      "outputs": [],
      "source": [
        "h_train_X.head()"
      ]
    },
    {
      "cell_type": "markdown",
      "metadata": {
        "id": "DXHdIn-8muf7"
      },
      "source": [
        "- optuna를 사용하여 하이퍼 파라미터 튜닝을 진행합니다.\n",
        "- 약 20분 정도 진행됩니다."
      ]
    },
    {
      "cell_type": "code",
      "execution_count": null,
      "metadata": {
        "colab": {
          "base_uri": "https://localhost:8080/"
        },
        "id": "er7ibX98msMk",
        "outputId": "5e76430f-3828-442a-e255-680cc6c442f1"
      },
      "outputs": [],
      "source": [
        "from optuna.samplers import TPESampler\n",
        "\n",
        "sampler = TPESampler(seed=10)\n",
        "\n",
        "def objective(trial):\n",
        "    dtrain = lgb.Dataset(h_train_X, label=h_train_y)\n",
        "    dtest = lgb.Dataset(h_valid_X, label=h_valid_y)\n",
        "\n",
        "    param = {\n",
        "        'objective': 'regression', # 회귀\n",
        "        'verbose': -1,\n",
        "        'metric': 'rmse', \n",
        "        'max_depth': trial.suggest_int('max_depth',3, 15),\n",
        "        'learning_rate': trial.suggest_loguniform(\"learning_rate\", 1e-8, 1e-2),\n",
        "        'n_estimators': trial.suggest_int('n_estimators', 100, 3000),\n",
        "        'min_child_samples': trial.suggest_int('min_child_samples', 5, 100),\n",
        "        'subsample': trial.suggest_loguniform('subsample', 0.4, 1),\n",
        "    }\n",
        "\n",
        "    model = lgb.LGBMRegressor(**param)\n",
        "    lgb_model = model.fit(h_train_X, h_train_y, eval_set=[(h_valid_X, h_valid_y)], verbose=0, early_stopping_rounds=25)\n",
        "    rmse = RMSE(h_valid_y, lgb_model.predict(h_valid_X))\n",
        "    return rmse\n",
        "        \n",
        "study_lgb = optuna.create_study(direction='minimize', sampler=sampler)\n",
        "study_lgb.optimize(objective, n_trials=100)"
      ]
    },
    {
      "cell_type": "code",
      "execution_count": null,
      "metadata": {
        "colab": {
          "base_uri": "https://localhost:8080/"
        },
        "id": "B0jauzQWMOy9",
        "outputId": "11910d0a-eb80-4040-b047-f37873542c07"
      },
      "outputs": [],
      "source": [
        "trial = study_lgb.best_trial\n",
        "trial_params = trial.params\n",
        "print('Best Trial: score {},\\nparams {}'.format(trial.value, trial_params))"
      ]
    },
    {
      "cell_type": "markdown",
      "metadata": {},
      "source": [
        "- 처음에 LightGBM 평균 RMSLE가 0.2390임을 감안했을때, 매우 성능이 향상됐음을 알 수 있습니다."
      ]
    },
    {
      "cell_type": "markdown",
      "metadata": {
        "id": "DYUFSMYQ384-"
      },
      "source": [
        "## LightGBM Submission\n",
        "- 이제 test 셋을 사용해서 inference를 해보고 실제 점수를 Dacon에서 확인해볼시간입니다.\n",
        "- 먼저 train 데이터에서 진행한 모든 전처리를 test 데이터에도 적용합니다."
      ]
    },
    {
      "cell_type": "code",
      "execution_count": null,
      "metadata": {},
      "outputs": [],
      "source": [
        "train_df.head()"
      ]
    },
    {
      "cell_type": "code",
      "execution_count": null,
      "metadata": {},
      "outputs": [],
      "source": [
        "test_df.head()"
      ]
    },
    {
      "cell_type": "code",
      "execution_count": null,
      "metadata": {
        "colab": {
          "base_uri": "https://localhost:8080/"
        },
        "id": "sZLpXN1eeG-6",
        "outputId": "45762c6a-d450-4f07-e187-529c0fa8e506"
      },
      "outputs": [],
      "source": [
        "final_lgb_model = lgb.LGBMRegressor(**trial_params)\n",
        "final_lgb_model.fit(train_X, train_y)\n",
        "final_lgb_pred = final_lgb_model.predict(test_df)"
      ]
    },
    {
      "cell_type": "code",
      "execution_count": null,
      "metadata": {
        "colab": {
          "base_uri": "https://localhost:8080/"
        },
        "id": "MavLjMu6kHFz",
        "outputId": "15feb884-080e-4cd1-b432-89cc69ecb030"
      },
      "outputs": [],
      "source": [
        "final_lgb_pred"
      ]
    },
    {
      "cell_type": "code",
      "execution_count": null,
      "metadata": {
        "colab": {
          "base_uri": "https://localhost:8080/",
          "height": 1000
        },
        "id": "hDinjAqWzZLd",
        "outputId": "3a9d6958-e61a-401c-fd09-03640f2fe117"
      },
      "outputs": [],
      "source": [
        "plt.barh(train_X.columns, final_lgb_model.feature_importances_)"
      ]
    },
    {
      "cell_type": "markdown",
      "metadata": {},
      "source": [
        "- 동, 완공연도, 면적, 아파트명 순으로 중요도가 높다고 나옵니다.\n",
        "- top 시공사는 별로 중요하지 않다고 하네요.."
      ]
    },
    {
      "cell_type": "markdown",
      "metadata": {},
      "source": [
        "## Submission\n",
        "- 이제 제출을 해봅시다.\n",
        "- 가격을 다시 역변환합니다."
      ]
    },
    {
      "cell_type": "code",
      "execution_count": null,
      "metadata": {
        "colab": {
          "base_uri": "https://localhost:8080/"
        },
        "id": "wSyQzIK6gX_D",
        "outputId": "86a54ed9-5393-489e-9795-732d3405dfbd"
      },
      "outputs": [],
      "source": [
        "final_pred_sub = np.expm1(final_lgb_pred)\n",
        "final_pred_sub"
      ]
    },
    {
      "cell_type": "code",
      "execution_count": null,
      "metadata": {
        "colab": {
          "base_uri": "https://localhost:8080/",
          "height": 419
        },
        "id": "pGjPIU4PiK74",
        "outputId": "ba4ad473-91fe-42c2-95d8-e0a47fbb57c4"
      },
      "outputs": [],
      "source": [
        "sub = pd.read_csv('./input/test.csv')\n",
        "sub_df = pd.DataFrame({'transaction_id': sub['transaction_id'], 'transaction_real_price': final_pred_sub})\n",
        "sub_df"
      ]
    },
    {
      "cell_type": "code",
      "execution_count": null,
      "metadata": {
        "id": "-phPm_bkkRDe"
      },
      "outputs": [],
      "source": [
        "sub_df.to_csv('submission_lgb.csv', index=False)"
      ]
    },
    {
      "cell_type": "markdown",
      "metadata": {},
      "source": [
        "여기까지 따라오시느라 고생하셨습니다.\n",
        "\n",
        "긴 글 봐주셔서 감사합니다:)"
      ]
    },
    {
      "cell_type": "code",
      "execution_count": null,
      "metadata": {
        "colab": {
          "base_uri": "https://localhost:8080/"
        },
        "id": "B0jauzQWMOy9",
        "outputId": "11910d0a-eb80-4040-b047-f37873542c07"
      },
      "outputs": [],
      "source": [
        "trial = study_lgb.best_trial\n",
        "trial_params = trial.params\n",
        "print('Best Trial: score {},\\nparams {}'.format(trial.value, trial_params))"
      ]
    },
    {
      "cell_type": "markdown",
      "metadata": {},
      "source": [
        "- 처음에 LightGBM 평균 RMSLE가 0.2390임을 감안했을때, 매우 성능이 향상됐음을 알 수 있습니다."
      ]
    },
    {
      "cell_type": "markdown",
      "metadata": {
        "id": "DYUFSMYQ384-"
      },
      "source": [
        "## LightGBM Submission\n",
        "- 이제 test 셋을 사용해서 inference를 해보고 실제 점수를 Dacon에서 확인해볼시간입니다.\n",
        "- 먼저 train 데이터에서 진행한 모든 전처리를 test 데이터에도 적용합니다."
      ]
    },
    {
      "cell_type": "code",
      "execution_count": null,
      "metadata": {},
      "outputs": [],
      "source": [
        "train_df.head()"
      ]
    },
    {
      "cell_type": "code",
      "execution_count": null,
      "metadata": {},
      "outputs": [],
      "source": [
        "test_df.head()"
      ]
    },
    {
      "cell_type": "code",
      "execution_count": null,
      "metadata": {
        "colab": {
          "base_uri": "https://localhost:8080/"
        },
        "id": "sZLpXN1eeG-6",
        "outputId": "45762c6a-d450-4f07-e187-529c0fa8e506"
      },
      "outputs": [],
      "source": [
        "final_lgb_model = lgb.LGBMRegressor(**trial_params)\n",
        "final_lgb_model.fit(train_X, train_y)\n",
        "final_lgb_pred = final_lgb_model.predict(test_df)"
      ]
    },
    {
      "cell_type": "code",
      "execution_count": null,
      "metadata": {
        "colab": {
          "base_uri": "https://localhost:8080/"
        },
        "id": "MavLjMu6kHFz",
        "outputId": "15feb884-080e-4cd1-b432-89cc69ecb030"
      },
      "outputs": [],
      "source": [
        "final_lgb_pred"
      ]
    },
    {
      "cell_type": "code",
      "execution_count": null,
      "metadata": {
        "colab": {
          "base_uri": "https://localhost:8080/",
          "height": 1000
        },
        "id": "hDinjAqWzZLd",
        "outputId": "3a9d6958-e61a-401c-fd09-03640f2fe117"
      },
      "outputs": [],
      "source": [
        "plt.barh(train_X.columns, final_lgb_model.feature_importances_)"
      ]
    },
    {
      "cell_type": "markdown",
      "metadata": {},
      "source": [
        "- 동, 완공연도, 면적, 아파트명 순으로 중요도가 높다고 나옵니다.\n",
        "- top 시공사는 별로 중요하지 않다고 하네요.."
      ]
    },
    {
      "cell_type": "markdown",
      "metadata": {},
      "source": [
        "## Submission\n",
        "- 이제 제출을 해봅시다.\n",
        "- 가격을 다시 역변환합니다."
      ]
    },
    {
      "cell_type": "code",
      "execution_count": null,
      "metadata": {
        "colab": {
          "base_uri": "https://localhost:8080/"
        },
        "id": "wSyQzIK6gX_D",
        "outputId": "86a54ed9-5393-489e-9795-732d3405dfbd"
      },
      "outputs": [],
      "source": [
        "final_pred_sub = np.expm1(final_lgb_pred)\n",
        "final_pred_sub"
      ]
    },
    {
      "cell_type": "code",
      "execution_count": null,
      "metadata": {
        "colab": {
          "base_uri": "https://localhost:8080/",
          "height": 419
        },
        "id": "pGjPIU4PiK74",
        "outputId": "ba4ad473-91fe-42c2-95d8-e0a47fbb57c4"
      },
      "outputs": [],
      "source": [
        "sub = pd.read_csv('./input/test.csv')\n",
        "sub_df = pd.DataFrame({'transaction_id': sub['transaction_id'], 'transaction_real_price': final_pred_sub})\n",
        "sub_df"
      ]
    },
    {
      "cell_type": "code",
      "execution_count": null,
      "metadata": {
        "id": "-phPm_bkkRDe"
      },
      "outputs": [],
      "source": [
        "sub_df.to_csv('submission_lgb.csv', index=False)"
      ]
    },
    {
      "cell_type": "markdown",
      "metadata": {},
      "source": [
        "여기까지 따라오시느라 고생하셨습니다.\n",
        "\n",
        "긴 글 봐주셔서 감사합니다:)"
      ]
    }
  ],
  "metadata": {
    "accelerator": "GPU",
    "colab": {
      "collapsed_sections": [],
      "include_colab_link": true,
      "machine_shape": "hm",
      "name": "TermProject.ipynb",
      "provenance": []
    },
    "interpreter": {
      "hash": "ace3e1ad7af0847684bd297f2968649b4d96ae2f627f328ee2eafd305163f7dc"
    },
    "kernelspec": {
      "display_name": "Python 3.8.11 64-bit ('rjs': conda)",
      "name": "python3"
    },
    "language_info": {
      "codemirror_mode": {
        "name": "ipython",
        "version": 3
      },
      "file_extension": ".py",
      "mimetype": "text/x-python",
      "name": "python",
      "nbconvert_exporter": "python",
      "pygments_lexer": "ipython3",
      "version": "3.8.11"
    },
    "toc": {
      "base_numbering": 1,
      "nav_menu": {},
      "number_sections": false,
      "sideBar": true,
      "skip_h1_title": false,
      "title_cell": "Table of Contents",
      "title_sidebar": "Contents",
      "toc_cell": false,
      "toc_position": {
        "height": "calc(100% - 180px)",
        "left": "10px",
        "top": "150px",
        "width": "383.997px"
      },
      "toc_section_display": true,
      "toc_window_display": false
    },
    "varInspector": {
      "cols": {
        "lenName": 16,
        "lenType": 16,
        "lenVar": 40
      },
      "kernels_config": {
        "python": {
          "delete_cmd_postfix": "",
          "delete_cmd_prefix": "del ",
          "library": "var_list.py",
          "varRefreshCmd": "print(var_dic_list())"
        },
        "r": {
          "delete_cmd_postfix": ") ",
          "delete_cmd_prefix": "rm(",
          "library": "var_list.r",
          "varRefreshCmd": "cat(var_dic_list()) "
        }
      },
      "types_to_exclude": [
        "module",
        "function",
        "builtin_function_or_method",
        "instance",
        "_Feature"
      ],
      "window_display": false
    }
  },
  "nbformat": 4,
  "nbformat_minor": 2
}
