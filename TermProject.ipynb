{
  "nbformat": 4,
  "nbformat_minor": 0,
  "metadata": {
    "kernelspec": {
      "display_name": "Python 3",
      "language": "python",
      "name": "python3"
    },
    "language_info": {
      "codemirror_mode": {
        "name": "ipython",
        "version": 3
      },
      "file_extension": ".py",
      "mimetype": "text/x-python",
      "name": "python",
      "nbconvert_exporter": "python",
      "pygments_lexer": "ipython3",
      "version": "3.7.10"
    },
    "toc": {
      "base_numbering": 1,
      "nav_menu": {},
      "number_sections": false,
      "sideBar": true,
      "skip_h1_title": false,
      "title_cell": "Table of Contents",
      "title_sidebar": "Contents",
      "toc_cell": false,
      "toc_position": {
        "height": "calc(100% - 180px)",
        "left": "10px",
        "top": "150px",
        "width": "383.997px"
      },
      "toc_section_display": true,
      "toc_window_display": false
    },
    "varInspector": {
      "cols": {
        "lenName": 16,
        "lenType": 16,
        "lenVar": 40
      },
      "kernels_config": {
        "python": {
          "delete_cmd_postfix": "",
          "delete_cmd_prefix": "del ",
          "library": "var_list.py",
          "varRefreshCmd": "print(var_dic_list())"
        },
        "r": {
          "delete_cmd_postfix": ") ",
          "delete_cmd_prefix": "rm(",
          "library": "var_list.r",
          "varRefreshCmd": "cat(var_dic_list()) "
        }
      },
      "types_to_exclude": [
        "module",
        "function",
        "builtin_function_or_method",
        "instance",
        "_Feature"
      ],
      "window_display": false
    },
    "colab": {
      "name": "TermProject.ipynb",
      "provenance": [],
      "collapsed_sections": [],
      "machine_shape": "hm",
      "include_colab_link": true
    }
  },
  "cells": [
    {
      "cell_type": "markdown",
      "metadata": {
        "id": "view-in-github",
        "colab_type": "text"
      },
      "source": [
        "<a href=\"https://colab.research.google.com/github/Haebuk/dataminingTP/blob/main/TermProject.ipynb\" target=\"_parent\"><img src=\"https://colab.research.google.com/assets/colab-badge.svg\" alt=\"Open In Colab\"/></a>"
      ]
    },
    {
      "cell_type": "markdown",
      "metadata": {
        "id": "smxWmS7tyuRz"
      },
      "source": [
        "# 아파트 실거래가 예측"
      ]
    },
    {
      "cell_type": "code",
      "metadata": {
        "ExecuteTime": {
          "end_time": "2021-05-07T07:45:27.255997Z",
          "start_time": "2021-05-07T07:45:27.249992Z"
        },
        "id": "gUwouTkEyuR3",
        "colab": {
          "base_uri": "https://localhost:8080/"
        },
        "outputId": "d055fc3f-bc86-4f2e-f490-072e56b525f3"
      },
      "source": [
        "import pandas as pd\n",
        "import numpy as np\n",
        "import matplotlib.pyplot as plt\n",
        "import warnings\n",
        "import seaborn as sns\n",
        "import statsmodels.api as sm\n",
        "import statsmodels.formula.api as smf\n",
        "from tqdm.notebook import tqdm\n",
        "from sklearn.linear_model import LinearRegression, ElasticNet, Lasso,  BayesianRidge, LassoLarsIC\n",
        "from sklearn.ensemble import RandomForestRegressor,  GradientBoostingRegressor\n",
        "from sklearn.kernel_ridge import KernelRidge\n",
        "from sklearn.pipeline import make_pipeline\n",
        "from sklearn.preprocessing import RobustScaler, LabelEncoder\n",
        "from sklearn.base import BaseEstimator, TransformerMixin, RegressorMixin, clone\n",
        "from sklearn.model_selection import KFold, cross_val_score, train_test_split, TimeSeriesSplit\n",
        "from sklearn.metrics import mean_squared_error\n",
        "import xgboost as xgb\n",
        "import lightgbm as lgb\n",
        "import re\n",
        "from gensim.models.word2vec import Word2Vec\n",
        "!pip install konlpy -q\n",
        "from konlpy.tag import Okt\n",
        "\n",
        "import matplotlib as mpl  # 기본 설정 만지는 용도\n",
        "import matplotlib.pyplot as plt  # 그래프 그리는 용도\n",
        "import matplotlib.font_manager as fm\n",
        "!apt-get update -qq\n",
        "!apt-get install fonts-nanum* -qq\n",
        "path = '/usr/share/fonts/truetype/nanum/NanumGothicEco.ttf'  # 설치된 나눔글꼴중 원하는 녀석의 전체 경로를 가져오자\n",
        "font_name = fm.FontProperties(fname=path, size=10).get_name()\n",
        "print(font_name)\n",
        "plt.rc('font', family=font_name)\n",
        "fm._rebuild()\n",
        "mpl.rcParams['axes.unicode_minus'] = False"
      ],
      "execution_count": 1,
      "outputs": [
        {
          "output_type": "stream",
          "text": [
            "/usr/local/lib/python3.7/dist-packages/statsmodels/tools/_testing.py:19: FutureWarning: pandas.util.testing is deprecated. Use the functions in the public API at pandas.testing instead.\n",
            "  import pandas.util.testing as tm\n"
          ],
          "name": "stderr"
        },
        {
          "output_type": "stream",
          "text": [
            "NanumGothic Eco\n"
          ],
          "name": "stdout"
        }
      ]
    },
    {
      "cell_type": "markdown",
      "metadata": {
        "id": "1TRIEY3TyuR4"
      },
      "source": [
        "## Data Load"
      ]
    },
    {
      "cell_type": "code",
      "metadata": {
        "id": "A3u9N6k6y0QQ",
        "colab": {
          "base_uri": "https://localhost:8080/"
        },
        "outputId": "8d573356-108f-4023-e53a-08a15d83b444"
      },
      "source": [
        "from google.colab import drive\n",
        "drive.mount('/content/drive')"
      ],
      "execution_count": 2,
      "outputs": [
        {
          "output_type": "stream",
          "text": [
            "Drive already mounted at /content/drive; to attempt to forcibly remount, call drive.mount(\"/content/drive\", force_remount=True).\n"
          ],
          "name": "stdout"
        }
      ]
    },
    {
      "cell_type": "code",
      "metadata": {
        "ExecuteTime": {
          "end_time": "2021-05-07T07:45:29.061641Z",
          "start_time": "2021-05-07T07:45:27.256998Z"
        },
        "id": "nWFpn1T3yuR5"
      },
      "source": [
        "PATH = '/content/drive/MyDrive/input/dataminingTP/'\n",
        "train_df = pd.read_csv(PATH + 'train_df_regex.csv')\n",
        "test_df = pd.read_csv(PATH + 'test_df_regex.csv')\n",
        "o_train_df = pd.read_csv(PATH + 'train.csv')"
      ],
      "execution_count": 3,
      "outputs": []
    },
    {
      "cell_type": "markdown",
      "metadata": {
        "id": "rFlOm3HTyuR6"
      },
      "source": [
        "- exclusive_use_area: 전용면적(한 세대만 독점적으로 사용하는 공간)\n",
        "- transaction_real_price: 실거래가(단위:만원, 타겟 값, train만 존재)\n",
        "- transaction_year_month: 거래년월\n",
        "- transaction_date: 거래일\n",
        "- floor: 층 \n",
        "\n",
        "- 데이터가 거래시간 순으로 이루어져 있음"
      ]
    },
    {
      "cell_type": "markdown",
      "metadata": {
        "id": "23AHCSypXODz"
      },
      "source": [
        "### regex preprocessing\n",
        "- apt 이름에 존재하는 괄호 + 괄호안 내용 제거"
      ]
    },
    {
      "cell_type": "code",
      "metadata": {
        "id": "hqTsDvMvXNr7"
      },
      "source": [
        "# 괄호와 괄호안내용 제거\n",
        "#regex = \"\\(.*\\)|\\s-\\s.*\"\n",
        "#for i in tqdm(range(len(train_df)), position=0, leave=True):\n",
        "#    train_df['apt'][i] = re.sub(regex, '', train_df['apt'][i])\n",
        "\n",
        "#train_df.to_csv('train_df_regex.csv', index=False)\n"
      ],
      "execution_count": null,
      "outputs": []
    },
    {
      "cell_type": "code",
      "metadata": {
        "id": "YV3DXdi_cPqm"
      },
      "source": [
        "# 괄호와 괄호안내용 제거\n",
        "#regex = \"\\(.*\\)|\\s-\\s.*\"\n",
        "#for j in tqdm(range(len(test_df)),position=0, leave=True):\n",
        "#    test_df['apt'][i] = re.sub(regex, '', test_df['apt'][i])\n",
        "    \n",
        "#test_df.to_csv('test_df_regex.csv', index=False)"
      ],
      "execution_count": null,
      "outputs": []
    },
    {
      "cell_type": "markdown",
      "metadata": {
        "id": "1oGM0cPpyuR7"
      },
      "source": [
        "## Preprocessing\n",
        "### Train and Test set"
      ]
    },
    {
      "cell_type": "code",
      "metadata": {
        "ExecuteTime": {
          "end_time": "2021-05-07T07:45:29.365917Z",
          "start_time": "2021-05-07T07:45:29.094671Z"
        },
        "scrolled": false,
        "colab": {
          "base_uri": "https://localhost:8080/",
          "height": 302
        },
        "id": "ptHosUTEyuR7",
        "outputId": "5cbd2475-585c-42bd-e2fa-b08a76c4df4a"
      },
      "source": [
        "train_df.describe() "
      ],
      "execution_count": null,
      "outputs": [
        {
          "output_type": "execute_result",
          "data": {
            "text/html": [
              "<div>\n",
              "<style scoped>\n",
              "    .dataframe tbody tr th:only-of-type {\n",
              "        vertical-align: middle;\n",
              "    }\n",
              "\n",
              "    .dataframe tbody tr th {\n",
              "        vertical-align: top;\n",
              "    }\n",
              "\n",
              "    .dataframe thead th {\n",
              "        text-align: right;\n",
              "    }\n",
              "</style>\n",
              "<table border=\"1\" class=\"dataframe\">\n",
              "  <thead>\n",
              "    <tr style=\"text-align: right;\">\n",
              "      <th></th>\n",
              "      <th>transaction_id</th>\n",
              "      <th>apartment_id</th>\n",
              "      <th>exclusive_use_area</th>\n",
              "      <th>year_of_completion</th>\n",
              "      <th>transaction_year_month</th>\n",
              "      <th>floor</th>\n",
              "      <th>transaction_real_price</th>\n",
              "    </tr>\n",
              "  </thead>\n",
              "  <tbody>\n",
              "    <tr>\n",
              "      <th>count</th>\n",
              "      <td>1.216553e+06</td>\n",
              "      <td>1.216553e+06</td>\n",
              "      <td>1.216553e+06</td>\n",
              "      <td>1.216553e+06</td>\n",
              "      <td>1.216553e+06</td>\n",
              "      <td>1.216553e+06</td>\n",
              "      <td>1.216553e+06</td>\n",
              "    </tr>\n",
              "    <tr>\n",
              "      <th>mean</th>\n",
              "      <td>6.091530e+05</td>\n",
              "      <td>6.299685e+03</td>\n",
              "      <td>7.816549e+01</td>\n",
              "      <td>1.998297e+03</td>\n",
              "      <td>2.012984e+05</td>\n",
              "      <td>9.343291e+00</td>\n",
              "      <td>3.822769e+04</td>\n",
              "    </tr>\n",
              "    <tr>\n",
              "      <th>std</th>\n",
              "      <td>3.526198e+05</td>\n",
              "      <td>3.581169e+03</td>\n",
              "      <td>2.915113e+01</td>\n",
              "      <td>8.941347e+00</td>\n",
              "      <td>2.905732e+02</td>\n",
              "      <td>6.606500e+00</td>\n",
              "      <td>3.104898e+04</td>\n",
              "    </tr>\n",
              "    <tr>\n",
              "      <th>min</th>\n",
              "      <td>0.000000e+00</td>\n",
              "      <td>0.000000e+00</td>\n",
              "      <td>9.260000e+00</td>\n",
              "      <td>1.961000e+03</td>\n",
              "      <td>2.008010e+05</td>\n",
              "      <td>-4.000000e+00</td>\n",
              "      <td>1.000000e+02</td>\n",
              "    </tr>\n",
              "    <tr>\n",
              "      <th>25%</th>\n",
              "      <td>3.041380e+05</td>\n",
              "      <td>3.345000e+03</td>\n",
              "      <td>5.976000e+01</td>\n",
              "      <td>1.993000e+03</td>\n",
              "      <td>2.010100e+05</td>\n",
              "      <td>4.000000e+00</td>\n",
              "      <td>1.900000e+04</td>\n",
              "    </tr>\n",
              "    <tr>\n",
              "      <th>50%</th>\n",
              "      <td>6.082760e+05</td>\n",
              "      <td>5.964000e+03</td>\n",
              "      <td>8.241000e+01</td>\n",
              "      <td>1.999000e+03</td>\n",
              "      <td>2.013120e+05</td>\n",
              "      <td>8.000000e+00</td>\n",
              "      <td>3.090000e+04</td>\n",
              "    </tr>\n",
              "    <tr>\n",
              "      <th>75%</th>\n",
              "      <td>9.124140e+05</td>\n",
              "      <td>9.436000e+03</td>\n",
              "      <td>8.497000e+01</td>\n",
              "      <td>2.005000e+03</td>\n",
              "      <td>2.015110e+05</td>\n",
              "      <td>1.300000e+01</td>\n",
              "      <td>4.700000e+04</td>\n",
              "    </tr>\n",
              "    <tr>\n",
              "      <th>max</th>\n",
              "      <td>1.234827e+06</td>\n",
              "      <td>1.265800e+04</td>\n",
              "      <td>4.243200e+02</td>\n",
              "      <td>2.017000e+03</td>\n",
              "      <td>2.017110e+05</td>\n",
              "      <td>8.000000e+01</td>\n",
              "      <td>8.200000e+05</td>\n",
              "    </tr>\n",
              "  </tbody>\n",
              "</table>\n",
              "</div>"
            ],
            "text/plain": [
              "       transaction_id  apartment_id  ...         floor  transaction_real_price\n",
              "count    1.216553e+06  1.216553e+06  ...  1.216553e+06            1.216553e+06\n",
              "mean     6.091530e+05  6.299685e+03  ...  9.343291e+00            3.822769e+04\n",
              "std      3.526198e+05  3.581169e+03  ...  6.606500e+00            3.104898e+04\n",
              "min      0.000000e+00  0.000000e+00  ... -4.000000e+00            1.000000e+02\n",
              "25%      3.041380e+05  3.345000e+03  ...  4.000000e+00            1.900000e+04\n",
              "50%      6.082760e+05  5.964000e+03  ...  8.000000e+00            3.090000e+04\n",
              "75%      9.124140e+05  9.436000e+03  ...  1.300000e+01            4.700000e+04\n",
              "max      1.234827e+06  1.265800e+04  ...  8.000000e+01            8.200000e+05\n",
              "\n",
              "[8 rows x 7 columns]"
            ]
          },
          "metadata": {
            "tags": []
          },
          "execution_count": 7
        }
      ]
    },
    {
      "cell_type": "code",
      "metadata": {
        "ExecuteTime": {
          "end_time": "2021-05-07T07:45:29.573106Z",
          "start_time": "2021-05-07T07:45:29.366919Z"
        },
        "colab": {
          "base_uri": "https://localhost:8080/"
        },
        "id": "GqBnjIEryuR8",
        "outputId": "e3c511d5-76a7-4fec-e586-e07e6db5d3bd"
      },
      "source": [
        "train_df.info()"
      ],
      "execution_count": null,
      "outputs": [
        {
          "output_type": "stream",
          "text": [
            "<class 'pandas.core.frame.DataFrame'>\n",
            "RangeIndex: 1216553 entries, 0 to 1216552\n",
            "Data columns (total 13 columns):\n",
            " #   Column                  Non-Null Count    Dtype  \n",
            "---  ------                  --------------    -----  \n",
            " 0   transaction_id          1216553 non-null  int64  \n",
            " 1   apartment_id            1216553 non-null  int64  \n",
            " 2   city                    1216553 non-null  object \n",
            " 3   dong                    1216553 non-null  object \n",
            " 4   jibun                   1216553 non-null  object \n",
            " 5   apt                     1215092 non-null  object \n",
            " 6   addr_kr                 1216553 non-null  object \n",
            " 7   exclusive_use_area      1216553 non-null  float64\n",
            " 8   year_of_completion      1216553 non-null  int64  \n",
            " 9   transaction_year_month  1216553 non-null  int64  \n",
            " 10  transaction_date        1216553 non-null  object \n",
            " 11  floor                   1216553 non-null  int64  \n",
            " 12  transaction_real_price  1216553 non-null  int64  \n",
            "dtypes: float64(1), int64(6), object(6)\n",
            "memory usage: 120.7+ MB\n"
          ],
          "name": "stdout"
        }
      ]
    },
    {
      "cell_type": "markdown",
      "metadata": {
        "id": "cPo0KrA4yuR8"
      },
      "source": [
        "- train_df 결측치는 없음\n",
        "- 1961년 ~ 2017년 완공 건물\n",
        "- 9.26m^2 ~ 424.32m^2 전용면적\n",
        "- Floor의 경우 음의 값 존재.\n",
        "- 실거래가는 100만원부터 820억까지 존재"
      ]
    },
    {
      "cell_type": "code",
      "metadata": {
        "ExecuteTime": {
          "end_time": "2021-05-07T07:45:29.589121Z",
          "start_time": "2021-05-07T07:45:29.574107Z"
        },
        "scrolled": true,
        "colab": {
          "base_uri": "https://localhost:8080/",
          "height": 147
        },
        "id": "1FwiQwyXyuR8",
        "outputId": "d84ed6be-d755-47f7-d954-2ad31dbfed2e"
      },
      "source": [
        "train_df.loc[train_df['transaction_real_price']==820000]"
      ],
      "execution_count": null,
      "outputs": [
        {
          "output_type": "execute_result",
          "data": {
            "text/html": [
              "<div>\n",
              "<style scoped>\n",
              "    .dataframe tbody tr th:only-of-type {\n",
              "        vertical-align: middle;\n",
              "    }\n",
              "\n",
              "    .dataframe tbody tr th {\n",
              "        vertical-align: top;\n",
              "    }\n",
              "\n",
              "    .dataframe thead th {\n",
              "        text-align: right;\n",
              "    }\n",
              "</style>\n",
              "<table border=\"1\" class=\"dataframe\">\n",
              "  <thead>\n",
              "    <tr style=\"text-align: right;\">\n",
              "      <th></th>\n",
              "      <th>transaction_id</th>\n",
              "      <th>apartment_id</th>\n",
              "      <th>city</th>\n",
              "      <th>dong</th>\n",
              "      <th>jibun</th>\n",
              "      <th>apt</th>\n",
              "      <th>addr_kr</th>\n",
              "      <th>exclusive_use_area</th>\n",
              "      <th>year_of_completion</th>\n",
              "      <th>transaction_year_month</th>\n",
              "      <th>transaction_date</th>\n",
              "      <th>floor</th>\n",
              "      <th>transaction_real_price</th>\n",
              "    </tr>\n",
              "  </thead>\n",
              "  <tbody>\n",
              "    <tr>\n",
              "      <th>23603</th>\n",
              "      <td>23603</td>\n",
              "      <td>11320</td>\n",
              "      <td>서울특별시</td>\n",
              "      <td>한남동</td>\n",
              "      <td>810</td>\n",
              "      <td>한남더힐</td>\n",
              "      <td>한남동 810 한남더힐</td>\n",
              "      <td>244.749</td>\n",
              "      <td>2011</td>\n",
              "      <td>201612</td>\n",
              "      <td>21~31</td>\n",
              "      <td>3</td>\n",
              "      <td>820000</td>\n",
              "    </tr>\n",
              "  </tbody>\n",
              "</table>\n",
              "</div>"
            ],
            "text/plain": [
              "       transaction_id  apartment_id  ... floor transaction_real_price\n",
              "23603           23603         11320  ...     3                 820000\n",
              "\n",
              "[1 rows x 13 columns]"
            ]
          },
          "metadata": {
            "tags": []
          },
          "execution_count": 9
        }
      ]
    },
    {
      "cell_type": "code",
      "metadata": {
        "colab": {
          "base_uri": "https://localhost:8080/",
          "height": 302
        },
        "id": "qr4bAphkZtqZ",
        "outputId": "5aa2b1ec-f7e4-4009-d09e-237baab0cf95"
      },
      "source": [
        "test_df.describe()"
      ],
      "execution_count": null,
      "outputs": [
        {
          "output_type": "execute_result",
          "data": {
            "text/html": [
              "<div>\n",
              "<style scoped>\n",
              "    .dataframe tbody tr th:only-of-type {\n",
              "        vertical-align: middle;\n",
              "    }\n",
              "\n",
              "    .dataframe tbody tr th {\n",
              "        vertical-align: top;\n",
              "    }\n",
              "\n",
              "    .dataframe thead th {\n",
              "        text-align: right;\n",
              "    }\n",
              "</style>\n",
              "<table border=\"1\" class=\"dataframe\">\n",
              "  <thead>\n",
              "    <tr style=\"text-align: right;\">\n",
              "      <th></th>\n",
              "      <th>transaction_id</th>\n",
              "      <th>apartment_id</th>\n",
              "      <th>exclusive_use_area</th>\n",
              "      <th>year_of_completion</th>\n",
              "      <th>transaction_year_month</th>\n",
              "      <th>floor</th>\n",
              "    </tr>\n",
              "  </thead>\n",
              "  <tbody>\n",
              "    <tr>\n",
              "      <th>count</th>\n",
              "      <td>5.463000e+03</td>\n",
              "      <td>5463.000000</td>\n",
              "      <td>5463.000000</td>\n",
              "      <td>5463.000000</td>\n",
              "      <td>5463.000000</td>\n",
              "      <td>5463.000000</td>\n",
              "    </tr>\n",
              "    <tr>\n",
              "      <th>mean</th>\n",
              "      <td>1.167126e+06</td>\n",
              "      <td>6287.570932</td>\n",
              "      <td>79.495250</td>\n",
              "      <td>2000.431082</td>\n",
              "      <td>201710.228446</td>\n",
              "      <td>8.266886</td>\n",
              "    </tr>\n",
              "    <tr>\n",
              "      <th>std</th>\n",
              "      <td>4.075365e+04</td>\n",
              "      <td>3624.756304</td>\n",
              "      <td>32.935434</td>\n",
              "      <td>9.982040</td>\n",
              "      <td>2.798195</td>\n",
              "      <td>6.082475</td>\n",
              "    </tr>\n",
              "    <tr>\n",
              "      <th>min</th>\n",
              "      <td>1.092791e+06</td>\n",
              "      <td>12.000000</td>\n",
              "      <td>10.321500</td>\n",
              "      <td>1961.000000</td>\n",
              "      <td>201701.000000</td>\n",
              "      <td>-1.000000</td>\n",
              "    </tr>\n",
              "    <tr>\n",
              "      <th>25%</th>\n",
              "      <td>1.134296e+06</td>\n",
              "      <td>3278.000000</td>\n",
              "      <td>59.760000</td>\n",
              "      <td>1995.000000</td>\n",
              "      <td>201709.000000</td>\n",
              "      <td>4.000000</td>\n",
              "    </tr>\n",
              "    <tr>\n",
              "      <th>50%</th>\n",
              "      <td>1.167937e+06</td>\n",
              "      <td>6091.000000</td>\n",
              "      <td>81.720000</td>\n",
              "      <td>2002.000000</td>\n",
              "      <td>201712.000000</td>\n",
              "      <td>7.000000</td>\n",
              "    </tr>\n",
              "    <tr>\n",
              "      <th>75%</th>\n",
              "      <td>1.202560e+06</td>\n",
              "      <td>9416.500000</td>\n",
              "      <td>84.970000</td>\n",
              "      <td>2007.000000</td>\n",
              "      <td>201712.000000</td>\n",
              "      <td>11.000000</td>\n",
              "    </tr>\n",
              "    <tr>\n",
              "      <th>max</th>\n",
              "      <td>1.234930e+06</td>\n",
              "      <td>12652.000000</td>\n",
              "      <td>273.860000</td>\n",
              "      <td>2017.000000</td>\n",
              "      <td>201712.000000</td>\n",
              "      <td>55.000000</td>\n",
              "    </tr>\n",
              "  </tbody>\n",
              "</table>\n",
              "</div>"
            ],
            "text/plain": [
              "       transaction_id  apartment_id  ...  transaction_year_month        floor\n",
              "count    5.463000e+03   5463.000000  ...             5463.000000  5463.000000\n",
              "mean     1.167126e+06   6287.570932  ...           201710.228446     8.266886\n",
              "std      4.075365e+04   3624.756304  ...                2.798195     6.082475\n",
              "min      1.092791e+06     12.000000  ...           201701.000000    -1.000000\n",
              "25%      1.134296e+06   3278.000000  ...           201709.000000     4.000000\n",
              "50%      1.167937e+06   6091.000000  ...           201712.000000     7.000000\n",
              "75%      1.202560e+06   9416.500000  ...           201712.000000    11.000000\n",
              "max      1.234930e+06  12652.000000  ...           201712.000000    55.000000\n",
              "\n",
              "[8 rows x 6 columns]"
            ]
          },
          "metadata": {
            "tags": []
          },
          "execution_count": 10
        }
      ]
    },
    {
      "cell_type": "code",
      "metadata": {
        "colab": {
          "base_uri": "https://localhost:8080/"
        },
        "id": "7WgJSSXUZtkJ",
        "outputId": "f9ccd750-b449-4469-c658-c2014af3f399"
      },
      "source": [
        "test_df.info()"
      ],
      "execution_count": null,
      "outputs": [
        {
          "output_type": "stream",
          "text": [
            "<class 'pandas.core.frame.DataFrame'>\n",
            "RangeIndex: 5463 entries, 0 to 5462\n",
            "Data columns (total 12 columns):\n",
            " #   Column                  Non-Null Count  Dtype  \n",
            "---  ------                  --------------  -----  \n",
            " 0   transaction_id          5463 non-null   int64  \n",
            " 1   apartment_id            5463 non-null   int64  \n",
            " 2   city                    5463 non-null   object \n",
            " 3   dong                    5463 non-null   object \n",
            " 4   jibun                   5463 non-null   object \n",
            " 5   apt                     5463 non-null   object \n",
            " 6   addr_kr                 5463 non-null   object \n",
            " 7   exclusive_use_area      5463 non-null   float64\n",
            " 8   year_of_completion      5463 non-null   int64  \n",
            " 9   transaction_year_month  5463 non-null   int64  \n",
            " 10  transaction_date        5463 non-null   object \n",
            " 11  floor                   5463 non-null   int64  \n",
            "dtypes: float64(1), int64(5), object(6)\n",
            "memory usage: 512.3+ KB\n"
          ],
          "name": "stdout"
        }
      ]
    },
    {
      "cell_type": "markdown",
      "metadata": {
        "id": "11SmTN0zVJAp"
      },
      "source": [
        "### apart"
      ]
    },
    {
      "cell_type": "code",
      "metadata": {
        "colab": {
          "base_uri": "https://localhost:8080/"
        },
        "id": "SV_-tgUVk8lo",
        "outputId": "d2d2339f-2f47-4429-8611-3194e9018127"
      },
      "source": [
        "train_df['apt'].value_counts()"
      ],
      "execution_count": null,
      "outputs": [
        {
          "output_type": "execute_result",
          "data": {
            "text/plain": [
              "현대         17716\n",
              "한신         10135\n",
              "삼성          6771\n",
              "대우          6390\n",
              "신동아         6386\n",
              "           ...  \n",
              "현진타워           1\n",
              "도올탑스텔          1\n",
              "체리빌            1\n",
              "연세7차 B동        1\n",
              "세경더빌           1\n",
              "Name: apt, Length: 9373, dtype: int64"
            ]
          },
          "metadata": {
            "tags": []
          },
          "execution_count": 12
        }
      ]
    },
    {
      "cell_type": "code",
      "metadata": {
        "id": "vpJP6NDV35UF",
        "colab": {
          "base_uri": "https://localhost:8080/",
          "height": 375
        },
        "outputId": "580261b2-3b2e-4ee3-c53a-2b6a0c5db02f"
      },
      "source": [
        "# 같은 아파트 이름을 같는 수를 저장하는 apt_counts 열 생성\n",
        "train_df['apt_counts'] = 0\n",
        "train_df.groupby('apt')['apt_counts'].count()\n",
        "train_df = pd.merge(train_df, train_df.groupby('apt')['apt_counts'].count(), on='apt', how='left').drop('apt_counts_x', axis=1).rename(columns={'apt_counts_y':'apt_counts'})\n",
        "\n",
        "test_df['apt_counts'] = 0\n",
        "test_df.groupby('apt')['apt_counts'].count()\n",
        "test_df = pd.merge(test_df, test_df.groupby('apt')['apt_counts'].count(), on='apt', how='left').drop('apt_counts_x', axis=1).rename(columns={'apt_counts_y':'apt_counts'})\n",
        "\n",
        "train_df.head(3)"
      ],
      "execution_count": null,
      "outputs": [
        {
          "output_type": "execute_result",
          "data": {
            "text/html": [
              "<div>\n",
              "<style scoped>\n",
              "    .dataframe tbody tr th:only-of-type {\n",
              "        vertical-align: middle;\n",
              "    }\n",
              "\n",
              "    .dataframe tbody tr th {\n",
              "        vertical-align: top;\n",
              "    }\n",
              "\n",
              "    .dataframe thead th {\n",
              "        text-align: right;\n",
              "    }\n",
              "</style>\n",
              "<table border=\"1\" class=\"dataframe\">\n",
              "  <thead>\n",
              "    <tr style=\"text-align: right;\">\n",
              "      <th></th>\n",
              "      <th>transaction_id</th>\n",
              "      <th>apartment_id</th>\n",
              "      <th>city</th>\n",
              "      <th>dong</th>\n",
              "      <th>jibun</th>\n",
              "      <th>apt</th>\n",
              "      <th>addr_kr</th>\n",
              "      <th>exclusive_use_area</th>\n",
              "      <th>year_of_completion</th>\n",
              "      <th>transaction_year_month</th>\n",
              "      <th>transaction_date</th>\n",
              "      <th>floor</th>\n",
              "      <th>transaction_real_price</th>\n",
              "      <th>apt_counts</th>\n",
              "    </tr>\n",
              "  </thead>\n",
              "  <tbody>\n",
              "    <tr>\n",
              "      <th>0</th>\n",
              "      <td>0</td>\n",
              "      <td>7622</td>\n",
              "      <td>서울특별시</td>\n",
              "      <td>신교동</td>\n",
              "      <td>6-13</td>\n",
              "      <td>신현</td>\n",
              "      <td>신교동 6-13 신현(101동)</td>\n",
              "      <td>84.82</td>\n",
              "      <td>2002</td>\n",
              "      <td>200801</td>\n",
              "      <td>21~31</td>\n",
              "      <td>2</td>\n",
              "      <td>37500</td>\n",
              "      <td>13.0</td>\n",
              "    </tr>\n",
              "    <tr>\n",
              "      <th>1</th>\n",
              "      <td>1</td>\n",
              "      <td>5399</td>\n",
              "      <td>서울특별시</td>\n",
              "      <td>필운동</td>\n",
              "      <td>142</td>\n",
              "      <td>사직파크맨션</td>\n",
              "      <td>필운동 142 사직파크맨션</td>\n",
              "      <td>99.17</td>\n",
              "      <td>1973</td>\n",
              "      <td>200801</td>\n",
              "      <td>1~10</td>\n",
              "      <td>6</td>\n",
              "      <td>20000</td>\n",
              "      <td>1.0</td>\n",
              "    </tr>\n",
              "    <tr>\n",
              "      <th>2</th>\n",
              "      <td>2</td>\n",
              "      <td>3578</td>\n",
              "      <td>서울특별시</td>\n",
              "      <td>필운동</td>\n",
              "      <td>174-1</td>\n",
              "      <td>두레엘리시안</td>\n",
              "      <td>필운동 174-1 두레엘리시안</td>\n",
              "      <td>84.74</td>\n",
              "      <td>2007</td>\n",
              "      <td>200801</td>\n",
              "      <td>1~10</td>\n",
              "      <td>6</td>\n",
              "      <td>38500</td>\n",
              "      <td>13.0</td>\n",
              "    </tr>\n",
              "  </tbody>\n",
              "</table>\n",
              "</div>"
            ],
            "text/plain": [
              "   transaction_id  apartment_id  ... transaction_real_price apt_counts\n",
              "0               0          7622  ...                  37500       13.0\n",
              "1               1          5399  ...                  20000        1.0\n",
              "2               2          3578  ...                  38500       13.0\n",
              "\n",
              "[3 rows x 14 columns]"
            ]
          },
          "metadata": {
            "tags": []
          },
          "execution_count": 13
        }
      ]
    },
    {
      "cell_type": "code",
      "metadata": {
        "colab": {
          "base_uri": "https://localhost:8080/"
        },
        "id": "53mYsLa0Yd-H",
        "outputId": "59274331-a36e-4909-856c-89797622d696"
      },
      "source": [
        "train_df.shape"
      ],
      "execution_count": null,
      "outputs": [
        {
          "output_type": "execute_result",
          "data": {
            "text/plain": [
              "(1216553, 14)"
            ]
          },
          "metadata": {
            "tags": []
          },
          "execution_count": 14
        }
      ]
    },
    {
      "cell_type": "code",
      "metadata": {
        "colab": {
          "base_uri": "https://localhost:8080/"
        },
        "id": "6GKqsbPEeKoG",
        "outputId": "1e01ca6d-3e05-4341-a78e-cf56bfe75156"
      },
      "source": [
        "train_df['apt'].value_counts()[:10]"
      ],
      "execution_count": null,
      "outputs": [
        {
          "output_type": "execute_result",
          "data": {
            "text/plain": [
              "현대       17716\n",
              "한신       10135\n",
              "삼성        6771\n",
              "대우        6390\n",
              "신동아       6386\n",
              "두산        5801\n",
              "우성        5781\n",
              "주공2       5669\n",
              "삼성래미안     5483\n",
              "벽산        4651\n",
              "Name: apt, dtype: int64"
            ]
          },
          "metadata": {
            "tags": []
          },
          "execution_count": 15
        }
      ]
    },
    {
      "cell_type": "markdown",
      "metadata": {
        "id": "zpVvyOkDBmx0"
      },
      "source": [
        "- top10 시공사 + 데이터에서 가장 많이 나오는 아파트 20개의 이름을 통일"
      ]
    },
    {
      "cell_type": "code",
      "metadata": {
        "id": "Tv03aoj2pLdG"
      },
      "source": [
        "train_df['top10'] = 0\n",
        "test_df['top10'] = 0\n",
        "top10 = ['자이', '푸르지오', '더샵', '롯데캐슬', '이편한|e편한|e-편한',\n",
        "         '힐스테이트', '아이파크', '래미안', 'sk|SK|에스케이', '데시앙']\n",
        "\n",
        "train_df['apt'] = train_df['apt'].fillna('others')\n",
        "for i, brand in enumerate(top10):\n",
        "    train_df.loc[train_df['apt'].str.contains(brand), 'top10'] = 1\n",
        "    test_df.loc[test_df['apt'].str.contains(brand), 'top10'] = 1\n"
      ],
      "execution_count": 4,
      "outputs": []
    },
    {
      "cell_type": "code",
      "metadata": {
        "id": "6e_NdtpjTRhZ"
      },
      "source": [
        "apt_names = ['그레이스', '양지', '쌍용', '현대', '한신', '삼성', '대우', '신동아', '두산', '주공',\n",
        "             '우성', '벽산', '동원로얄듀크','경남', '삼환', '쌍용', '삼익', '대림', '코오롱', '파크리오',\n",
        "             '엘지', '성원', '잠실', '동궁리치웰', '동성']\n",
        "apt_names = top10 + apt_names\n",
        "for a in apt_names:\n",
        "    train_df.loc[train_df['apt'].str.contains(a), 'apt'] = a\n",
        "    test_df.loc[test_df['apt'].str.contains(a), 'apt'] = a\n",
        "\n",
        "#top10에 해당하는 아파트가 아니면서 50채가 안될 경우 others로 변경\n",
        "train_df.loc[(train_df['top10']==0) & (train_df['apt_counts'] < 50), 'apt'] = 'others'\n",
        "test_df.loc[(test_df['top10']==0) & (test_df['apt_counts'] < 10), 'apt'] = 'others'"
      ],
      "execution_count": null,
      "outputs": []
    },
    {
      "cell_type": "code",
      "metadata": {
        "colab": {
          "base_uri": "https://localhost:8080/",
          "height": 1000
        },
        "id": "4rbjAtMjPVD3",
        "outputId": "8f42cfc3-8e00-4435-cfde-123f28fd1648"
      },
      "source": [
        "apt_list_tr = train_df.groupby(['apt'])['apt_counts'].agg('count').reset_index().sort_values('apt_counts', ascending=False).reset_index(drop=True)\n",
        "apt_list_tr\n",
        "apt_list_te = test_df.groupby(['apt'])['apt_counts'].agg('count').reset_index().sort_values('apt_counts', ascending=False).reset_index(drop=True)\n",
        "apt_list_te"
      ],
      "execution_count": null,
      "outputs": [
        {
          "output_type": "execute_result",
          "data": {
            "text/html": [
              "<div>\n",
              "<style scoped>\n",
              "    .dataframe tbody tr th:only-of-type {\n",
              "        vertical-align: middle;\n",
              "    }\n",
              "\n",
              "    .dataframe tbody tr th {\n",
              "        vertical-align: top;\n",
              "    }\n",
              "\n",
              "    .dataframe thead th {\n",
              "        text-align: right;\n",
              "    }\n",
              "</style>\n",
              "<table border=\"1\" class=\"dataframe\">\n",
              "  <thead>\n",
              "    <tr style=\"text-align: right;\">\n",
              "      <th></th>\n",
              "      <th>apt</th>\n",
              "      <th>apt_counts</th>\n",
              "    </tr>\n",
              "  </thead>\n",
              "  <tbody>\n",
              "    <tr>\n",
              "      <th>0</th>\n",
              "      <td>others</td>\n",
              "      <td>4377</td>\n",
              "    </tr>\n",
              "    <tr>\n",
              "      <th>1</th>\n",
              "      <td>래미안</td>\n",
              "      <td>187</td>\n",
              "    </tr>\n",
              "    <tr>\n",
              "      <th>2</th>\n",
              "      <td>이편한|e편한|e-편한</td>\n",
              "      <td>93</td>\n",
              "    </tr>\n",
              "    <tr>\n",
              "      <th>3</th>\n",
              "      <td>푸르지오</td>\n",
              "      <td>86</td>\n",
              "    </tr>\n",
              "    <tr>\n",
              "      <th>4</th>\n",
              "      <td>롯데캐슬</td>\n",
              "      <td>78</td>\n",
              "    </tr>\n",
              "    <tr>\n",
              "      <th>5</th>\n",
              "      <td>힐스테이트</td>\n",
              "      <td>61</td>\n",
              "    </tr>\n",
              "    <tr>\n",
              "      <th>6</th>\n",
              "      <td>자이</td>\n",
              "      <td>60</td>\n",
              "    </tr>\n",
              "    <tr>\n",
              "      <th>7</th>\n",
              "      <td>현대</td>\n",
              "      <td>46</td>\n",
              "    </tr>\n",
              "    <tr>\n",
              "      <th>8</th>\n",
              "      <td>아이파크</td>\n",
              "      <td>46</td>\n",
              "    </tr>\n",
              "    <tr>\n",
              "      <th>9</th>\n",
              "      <td>sk|SK|에스케이</td>\n",
              "      <td>37</td>\n",
              "    </tr>\n",
              "    <tr>\n",
              "      <th>10</th>\n",
              "      <td>더샵</td>\n",
              "      <td>29</td>\n",
              "    </tr>\n",
              "    <tr>\n",
              "      <th>11</th>\n",
              "      <td>신동아</td>\n",
              "      <td>27</td>\n",
              "    </tr>\n",
              "    <tr>\n",
              "      <th>12</th>\n",
              "      <td>두산</td>\n",
              "      <td>26</td>\n",
              "    </tr>\n",
              "    <tr>\n",
              "      <th>13</th>\n",
              "      <td>경남</td>\n",
              "      <td>24</td>\n",
              "    </tr>\n",
              "    <tr>\n",
              "      <th>14</th>\n",
              "      <td>주공</td>\n",
              "      <td>24</td>\n",
              "    </tr>\n",
              "    <tr>\n",
              "      <th>15</th>\n",
              "      <td>삼성</td>\n",
              "      <td>22</td>\n",
              "    </tr>\n",
              "    <tr>\n",
              "      <th>16</th>\n",
              "      <td>우성</td>\n",
              "      <td>17</td>\n",
              "    </tr>\n",
              "    <tr>\n",
              "      <th>17</th>\n",
              "      <td>대우</td>\n",
              "      <td>17</td>\n",
              "    </tr>\n",
              "    <tr>\n",
              "      <th>18</th>\n",
              "      <td>한신</td>\n",
              "      <td>15</td>\n",
              "    </tr>\n",
              "    <tr>\n",
              "      <th>19</th>\n",
              "      <td>파크리오</td>\n",
              "      <td>15</td>\n",
              "    </tr>\n",
              "    <tr>\n",
              "      <th>20</th>\n",
              "      <td>벽산</td>\n",
              "      <td>14</td>\n",
              "    </tr>\n",
              "    <tr>\n",
              "      <th>21</th>\n",
              "      <td>삼환</td>\n",
              "      <td>14</td>\n",
              "    </tr>\n",
              "    <tr>\n",
              "      <th>22</th>\n",
              "      <td>동아</td>\n",
              "      <td>14</td>\n",
              "    </tr>\n",
              "    <tr>\n",
              "      <th>23</th>\n",
              "      <td>삼익</td>\n",
              "      <td>13</td>\n",
              "    </tr>\n",
              "    <tr>\n",
              "      <th>24</th>\n",
              "      <td>동부센트레빌</td>\n",
              "      <td>13</td>\n",
              "    </tr>\n",
              "    <tr>\n",
              "      <th>25</th>\n",
              "      <td>리센츠</td>\n",
              "      <td>13</td>\n",
              "    </tr>\n",
              "    <tr>\n",
              "      <th>26</th>\n",
              "      <td>대림</td>\n",
              "      <td>12</td>\n",
              "    </tr>\n",
              "    <tr>\n",
              "      <th>27</th>\n",
              "      <td>위례22단지(비발디)</td>\n",
              "      <td>12</td>\n",
              "    </tr>\n",
              "    <tr>\n",
              "      <th>28</th>\n",
              "      <td>시범</td>\n",
              "      <td>11</td>\n",
              "    </tr>\n",
              "    <tr>\n",
              "      <th>29</th>\n",
              "      <td>남산타운</td>\n",
              "      <td>10</td>\n",
              "    </tr>\n",
              "    <tr>\n",
              "      <th>30</th>\n",
              "      <td>미성</td>\n",
              "      <td>10</td>\n",
              "    </tr>\n",
              "    <tr>\n",
              "      <th>31</th>\n",
              "      <td>무지개</td>\n",
              "      <td>10</td>\n",
              "    </tr>\n",
              "    <tr>\n",
              "      <th>32</th>\n",
              "      <td>데시앙</td>\n",
              "      <td>10</td>\n",
              "    </tr>\n",
              "    <tr>\n",
              "      <th>33</th>\n",
              "      <td>훼밀리</td>\n",
              "      <td>10</td>\n",
              "    </tr>\n",
              "    <tr>\n",
              "      <th>34</th>\n",
              "      <td>성원</td>\n",
              "      <td>10</td>\n",
              "    </tr>\n",
              "  </tbody>\n",
              "</table>\n",
              "</div>"
            ],
            "text/plain": [
              "             apt  apt_counts\n",
              "0         others        4377\n",
              "1            래미안         187\n",
              "2   이편한|e편한|e-편한          93\n",
              "3           푸르지오          86\n",
              "4           롯데캐슬          78\n",
              "5          힐스테이트          61\n",
              "6             자이          60\n",
              "7             현대          46\n",
              "8           아이파크          46\n",
              "9     sk|SK|에스케이          37\n",
              "10            더샵          29\n",
              "11           신동아          27\n",
              "12            두산          26\n",
              "13            경남          24\n",
              "14            주공          24\n",
              "15            삼성          22\n",
              "16            우성          17\n",
              "17            대우          17\n",
              "18            한신          15\n",
              "19          파크리오          15\n",
              "20            벽산          14\n",
              "21            삼환          14\n",
              "22            동아          14\n",
              "23            삼익          13\n",
              "24        동부센트레빌          13\n",
              "25           리센츠          13\n",
              "26            대림          12\n",
              "27   위례22단지(비발디)          12\n",
              "28            시범          11\n",
              "29          남산타운          10\n",
              "30            미성          10\n",
              "31           무지개          10\n",
              "32           데시앙          10\n",
              "33           훼밀리          10\n",
              "34            성원          10"
            ]
          },
          "metadata": {
            "tags": []
          },
          "execution_count": 18
        }
      ]
    },
    {
      "cell_type": "code",
      "metadata": {
        "colab": {
          "base_uri": "https://localhost:8080/",
          "height": 399
        },
        "id": "akRs3xpK7Uij",
        "outputId": "bc3d7500-3ab5-46e7-85c3-09dbc86785c0"
      },
      "source": [
        "apt_list_tr"
      ],
      "execution_count": null,
      "outputs": [
        {
          "output_type": "execute_result",
          "data": {
            "text/html": [
              "<div>\n",
              "<style scoped>\n",
              "    .dataframe tbody tr th:only-of-type {\n",
              "        vertical-align: middle;\n",
              "    }\n",
              "\n",
              "    .dataframe tbody tr th {\n",
              "        vertical-align: top;\n",
              "    }\n",
              "\n",
              "    .dataframe thead th {\n",
              "        text-align: right;\n",
              "    }\n",
              "</style>\n",
              "<table border=\"1\" class=\"dataframe\">\n",
              "  <thead>\n",
              "    <tr style=\"text-align: right;\">\n",
              "      <th></th>\n",
              "      <th>apt</th>\n",
              "      <th>apt_counts</th>\n",
              "    </tr>\n",
              "  </thead>\n",
              "  <tbody>\n",
              "    <tr>\n",
              "      <th>0</th>\n",
              "      <td>others</td>\n",
              "      <td>89942</td>\n",
              "    </tr>\n",
              "    <tr>\n",
              "      <th>1</th>\n",
              "      <td>현대</td>\n",
              "      <td>80218</td>\n",
              "    </tr>\n",
              "    <tr>\n",
              "      <th>2</th>\n",
              "      <td>주공</td>\n",
              "      <td>65937</td>\n",
              "    </tr>\n",
              "    <tr>\n",
              "      <th>3</th>\n",
              "      <td>래미안</td>\n",
              "      <td>32743</td>\n",
              "    </tr>\n",
              "    <tr>\n",
              "      <th>4</th>\n",
              "      <td>한신</td>\n",
              "      <td>27120</td>\n",
              "    </tr>\n",
              "    <tr>\n",
              "      <th>...</th>\n",
              "      <td>...</td>\n",
              "      <td>...</td>\n",
              "    </tr>\n",
              "    <tr>\n",
              "      <th>2154</th>\n",
              "      <td>KCC엠파이어리버</td>\n",
              "      <td>50</td>\n",
              "    </tr>\n",
              "    <tr>\n",
              "      <th>2155</th>\n",
              "      <td>청계천대성스카이렉스2</td>\n",
              "      <td>50</td>\n",
              "    </tr>\n",
              "    <tr>\n",
              "      <th>2156</th>\n",
              "      <td>평생골드타운</td>\n",
              "      <td>50</td>\n",
              "    </tr>\n",
              "    <tr>\n",
              "      <th>2157</th>\n",
              "      <td>문래우정</td>\n",
              "      <td>50</td>\n",
              "    </tr>\n",
              "    <tr>\n",
              "      <th>2158</th>\n",
              "      <td>장안뉴시티</td>\n",
              "      <td>50</td>\n",
              "    </tr>\n",
              "  </tbody>\n",
              "</table>\n",
              "<p>2159 rows × 2 columns</p>\n",
              "</div>"
            ],
            "text/plain": [
              "              apt  apt_counts\n",
              "0          others       89942\n",
              "1              현대       80218\n",
              "2              주공       65937\n",
              "3             래미안       32743\n",
              "4              한신       27120\n",
              "...           ...         ...\n",
              "2154    KCC엠파이어리버          50\n",
              "2155  청계천대성스카이렉스2          50\n",
              "2156       평생골드타운          50\n",
              "2157         문래우정          50\n",
              "2158        장안뉴시티          50\n",
              "\n",
              "[2159 rows x 2 columns]"
            ]
          },
          "metadata": {
            "tags": []
          },
          "execution_count": 19
        }
      ]
    },
    {
      "cell_type": "code",
      "metadata": {
        "id": "L1xviIyiRfeV"
      },
      "source": [
        "for i, a in enumerate(apt_list_tr['apt']):\n",
        "    train_df.loc[train_df['apt']==a, 'apt'] = i\n",
        "\n",
        "for i, a in enumerate(apt_list_te['apt']):\n",
        "    test_df.loc[test_df['apt']==a, 'apt'] = i"
      ],
      "execution_count": null,
      "outputs": []
    },
    {
      "cell_type": "code",
      "metadata": {
        "id": "ZqexdFHHunXZ"
      },
      "source": [
        "all_df = pd.concat([train_df, test_df], axis=0).reset_index(drop=True)"
      ],
      "execution_count": 5,
      "outputs": []
    },
    {
      "cell_type": "code",
      "metadata": {
        "id": "OFOkDMGoCd35",
        "colab": {
          "base_uri": "https://localhost:8080/",
          "height": 134
        },
        "outputId": "45976237-f526-4a08-97d1-834585bbe0ee"
      },
      "source": [
        "# 완공연도에서 최소연도를 뺌으로써 완공연도 라벨인코딩\n",
        "all_df['year_of_completion'] = all_df['year_of_completion'] - all_df['year_of_completion'].min()\n",
        "# 연월 증가하는 순으로 라벨 인코딩\n",
        "le = LabelEncoder()\n",
        "all_df['transaction_year_month'] = le.fit_transform(all_df['transaction_year_month'])\n",
        "# 필요없는 열 제거\n",
        "all_df = all_df.drop(['jibun', 'transaction_date', 'addr_kr'], axis=1)\n",
        "all_df.head(1)"
      ],
      "execution_count": 6,
      "outputs": [
        {
          "output_type": "execute_result",
          "data": {
            "text/html": [
              "<div>\n",
              "<style scoped>\n",
              "    .dataframe tbody tr th:only-of-type {\n",
              "        vertical-align: middle;\n",
              "    }\n",
              "\n",
              "    .dataframe tbody tr th {\n",
              "        vertical-align: top;\n",
              "    }\n",
              "\n",
              "    .dataframe thead th {\n",
              "        text-align: right;\n",
              "    }\n",
              "</style>\n",
              "<table border=\"1\" class=\"dataframe\">\n",
              "  <thead>\n",
              "    <tr style=\"text-align: right;\">\n",
              "      <th></th>\n",
              "      <th>transaction_id</th>\n",
              "      <th>apartment_id</th>\n",
              "      <th>city</th>\n",
              "      <th>dong</th>\n",
              "      <th>apt</th>\n",
              "      <th>exclusive_use_area</th>\n",
              "      <th>year_of_completion</th>\n",
              "      <th>transaction_year_month</th>\n",
              "      <th>floor</th>\n",
              "      <th>transaction_real_price</th>\n",
              "      <th>top10</th>\n",
              "    </tr>\n",
              "  </thead>\n",
              "  <tbody>\n",
              "    <tr>\n",
              "      <th>0</th>\n",
              "      <td>0</td>\n",
              "      <td>7622</td>\n",
              "      <td>서울특별시</td>\n",
              "      <td>신교동</td>\n",
              "      <td>신현</td>\n",
              "      <td>84.82</td>\n",
              "      <td>41</td>\n",
              "      <td>0</td>\n",
              "      <td>2</td>\n",
              "      <td>37500.0</td>\n",
              "      <td>0</td>\n",
              "    </tr>\n",
              "  </tbody>\n",
              "</table>\n",
              "</div>"
            ],
            "text/plain": [
              "   transaction_id  apartment_id   city  ... floor transaction_real_price  top10\n",
              "0               0          7622  서울특별시  ...     2                37500.0      0\n",
              "\n",
              "[1 rows x 11 columns]"
            ]
          },
          "metadata": {
            "tags": []
          },
          "execution_count": 6
        }
      ]
    },
    {
      "cell_type": "code",
      "metadata": {
        "colab": {
          "base_uri": "https://localhost:8080/",
          "height": 134
        },
        "id": "I36E-yHw6cVd",
        "outputId": "4a82b9b9-d58c-4292-8110-cad7e285c006"
      },
      "source": [
        "all_df.head(1)"
      ],
      "execution_count": 7,
      "outputs": [
        {
          "output_type": "execute_result",
          "data": {
            "text/html": [
              "<div>\n",
              "<style scoped>\n",
              "    .dataframe tbody tr th:only-of-type {\n",
              "        vertical-align: middle;\n",
              "    }\n",
              "\n",
              "    .dataframe tbody tr th {\n",
              "        vertical-align: top;\n",
              "    }\n",
              "\n",
              "    .dataframe thead th {\n",
              "        text-align: right;\n",
              "    }\n",
              "</style>\n",
              "<table border=\"1\" class=\"dataframe\">\n",
              "  <thead>\n",
              "    <tr style=\"text-align: right;\">\n",
              "      <th></th>\n",
              "      <th>transaction_id</th>\n",
              "      <th>apartment_id</th>\n",
              "      <th>city</th>\n",
              "      <th>dong</th>\n",
              "      <th>apt</th>\n",
              "      <th>exclusive_use_area</th>\n",
              "      <th>year_of_completion</th>\n",
              "      <th>transaction_year_month</th>\n",
              "      <th>floor</th>\n",
              "      <th>transaction_real_price</th>\n",
              "      <th>top10</th>\n",
              "    </tr>\n",
              "  </thead>\n",
              "  <tbody>\n",
              "    <tr>\n",
              "      <th>0</th>\n",
              "      <td>0</td>\n",
              "      <td>7622</td>\n",
              "      <td>서울특별시</td>\n",
              "      <td>신교동</td>\n",
              "      <td>신현</td>\n",
              "      <td>84.82</td>\n",
              "      <td>41</td>\n",
              "      <td>0</td>\n",
              "      <td>2</td>\n",
              "      <td>37500.0</td>\n",
              "      <td>0</td>\n",
              "    </tr>\n",
              "  </tbody>\n",
              "</table>\n",
              "</div>"
            ],
            "text/plain": [
              "   transaction_id  apartment_id   city  ... floor transaction_real_price  top10\n",
              "0               0          7622  서울특별시  ...     2                37500.0      0\n",
              "\n",
              "[1 rows x 11 columns]"
            ]
          },
          "metadata": {
            "tags": []
          },
          "execution_count": 7
        }
      ]
    },
    {
      "cell_type": "markdown",
      "metadata": {
        "id": "A2MobnpAFtge"
      },
      "source": [
        "### dong"
      ]
    },
    {
      "cell_type": "code",
      "metadata": {
        "colab": {
          "base_uri": "https://localhost:8080/"
        },
        "id": "vQCgXMAfxAiq",
        "outputId": "babc9cbd-2b15-4b38-fde9-c2b76148c510"
      },
      "source": [
        "seoul_set = set(all_df.loc[all_df['city']=='서울특별시', 'dong'])\n",
        "busan_set = set(all_df.loc[all_df['city']=='부산광역시', 'dong'])\n",
        "same_dong = seoul_set & busan_set \n",
        "print(same_dong)"
      ],
      "execution_count": 8,
      "outputs": [
        {
          "output_type": "stream",
          "text": [
            "{'중동', '송정동', '사직동', '부암동'}\n"
          ],
          "name": "stdout"
        }
      ]
    },
    {
      "cell_type": "markdown",
      "metadata": {
        "id": "blkoRsDFLwGu"
      },
      "source": [
        "- 서울과 부산에 중동, 부암동, 송정동, 사직동이 겹침을 알 수 있음"
      ]
    },
    {
      "cell_type": "code",
      "metadata": {
        "colab": {
          "base_uri": "https://localhost:8080/"
        },
        "id": "K0CXRKKrFzTY",
        "outputId": "5590ec74-943d-400d-fae5-1b37f0941753"
      },
      "source": [
        "for d in same_dong:\n",
        "    all_df.loc[(all_df['city']=='서울특별시') & (all_df['dong']==d), 'dong'] = '서울' + d\n",
        "    all_df.loc[(all_df['city']=='부산광역시') & (all_df['dong']==d), 'dong'] = '부산' + d\n",
        "\n",
        "seoul_set = set(all_df.loc[all_df['city']=='서울특별시', 'dong'])\n",
        "busan_set = set(all_df.loc[all_df['city']=='부산광역시', 'dong'])\n",
        "same_dong = seoul_set & busan_set\n",
        "print(same_dong)  "
      ],
      "execution_count": 9,
      "outputs": [
        {
          "output_type": "stream",
          "text": [
            "set()\n"
          ],
          "name": "stdout"
        }
      ]
    },
    {
      "cell_type": "markdown",
      "metadata": {
        "id": "WnFIELvHLs39"
      },
      "source": [
        "- 더 이상 겹치는 동이 없음"
      ]
    },
    {
      "cell_type": "code",
      "metadata": {
        "colab": {
          "base_uri": "https://localhost:8080/"
        },
        "id": "QXlhPfyKINGd",
        "outputId": "3f9c8330-578a-4cc9-c2a8-1f65eb1e9914"
      },
      "source": [
        "train_df.loc[train_df['dong'].str.contains('장충동')].groupby('dong')['transaction_real_price'].\\\n",
        "agg('mean')"
      ],
      "execution_count": null,
      "outputs": [
        {
          "output_type": "execute_result",
          "data": {
            "text/plain": [
              "dong\n",
              "장충동1가    269888.888889\n",
              "장충동2가      6628.421053\n",
              "Name: transaction_real_price, dtype: float64"
            ]
          },
          "metadata": {
            "tags": []
          },
          "execution_count": 26
        }
      ]
    },
    {
      "cell_type": "markdown",
      "metadata": {
        "id": "hLD96KxjIzZk"
      },
      "source": [
        "- 같은 동이어도 숫자가 다르면 가격차이가 많이 남\n",
        "- 따라서 따로 숫자처리를 진행하지 않고 다른 동처럼 취급"
      ]
    },
    {
      "cell_type": "code",
      "metadata": {
        "colab": {
          "base_uri": "https://localhost:8080/"
        },
        "id": "4wo7TbfvG9vV",
        "outputId": "3d90a739-e7ca-436f-cd71-e59714c7bcf3"
      },
      "source": [
        "dong_price = train_df.groupby('dong')['transaction_real_price'].agg('mean').sort_values(ascending=False)\n",
        "dong_price[:10]"
      ],
      "execution_count": null,
      "outputs": [
        {
          "output_type": "execute_result",
          "data": {
            "text/plain": [
              "dong\n",
              "장충동1가     269888.888889\n",
              "압구정동      164534.722914\n",
              "청암동       161403.700000\n",
              "용산동5가     153497.331633\n",
              "회현동2가     139906.140351\n",
              "반포동       132489.395651\n",
              "한남동       122593.293264\n",
              "서빙고동      116547.239777\n",
              "대치동       116320.538909\n",
              "남대문로5가    113153.604651\n",
              "Name: transaction_real_price, dtype: float64"
            ]
          },
          "metadata": {
            "tags": []
          },
          "execution_count": 27
        }
      ]
    },
    {
      "cell_type": "markdown",
      "metadata": {
        "id": "7MsbFQ_oL2EE"
      },
      "source": [
        "- 동별로 그룹화 후 가격의 평균 계산\n",
        "- 가격의 평균의 내림차 순으로 정렬"
      ]
    },
    {
      "cell_type": "code",
      "metadata": {
        "colab": {
          "base_uri": "https://localhost:8080/",
          "height": 383
        },
        "id": "jJ12S7V-KA9u",
        "outputId": "c0c66d86-4fa2-4cb5-e3a7-8db3e2cf646c"
      },
      "source": [
        "# 가격기준으로 동을 정렬한 리스트를 바탕으로 dong에 대해 라벨 인코딩 진행\n",
        "for i, d in enumerate(list(dong_price.index)):\n",
        "    all_df.loc[all_df['dong'] == d, 'dong'] = i\n",
        "all_df.head()"
      ],
      "execution_count": null,
      "outputs": [
        {
          "output_type": "execute_result",
          "data": {
            "text/html": [
              "<div>\n",
              "<style scoped>\n",
              "    .dataframe tbody tr th:only-of-type {\n",
              "        vertical-align: middle;\n",
              "    }\n",
              "\n",
              "    .dataframe tbody tr th {\n",
              "        vertical-align: top;\n",
              "    }\n",
              "\n",
              "    .dataframe thead th {\n",
              "        text-align: right;\n",
              "    }\n",
              "</style>\n",
              "<table border=\"1\" class=\"dataframe\">\n",
              "  <thead>\n",
              "    <tr style=\"text-align: right;\">\n",
              "      <th></th>\n",
              "      <th>transaction_id</th>\n",
              "      <th>apartment_id</th>\n",
              "      <th>city</th>\n",
              "      <th>dong</th>\n",
              "      <th>apt</th>\n",
              "      <th>exclusive_use_area</th>\n",
              "      <th>year_of_completion</th>\n",
              "      <th>transaction_year_month</th>\n",
              "      <th>floor</th>\n",
              "      <th>transaction_real_price</th>\n",
              "      <th>top10</th>\n",
              "    </tr>\n",
              "  </thead>\n",
              "  <tbody>\n",
              "    <tr>\n",
              "      <th>0</th>\n",
              "      <td>0</td>\n",
              "      <td>7622</td>\n",
              "      <td>서울특별시</td>\n",
              "      <td>137</td>\n",
              "      <td>0</td>\n",
              "      <td>84.82</td>\n",
              "      <td>41</td>\n",
              "      <td>0</td>\n",
              "      <td>2</td>\n",
              "      <td>37500.0</td>\n",
              "      <td>0</td>\n",
              "    </tr>\n",
              "    <tr>\n",
              "      <th>1</th>\n",
              "      <td>1</td>\n",
              "      <td>5399</td>\n",
              "      <td>서울특별시</td>\n",
              "      <td>64</td>\n",
              "      <td>0</td>\n",
              "      <td>99.17</td>\n",
              "      <td>12</td>\n",
              "      <td>0</td>\n",
              "      <td>6</td>\n",
              "      <td>20000.0</td>\n",
              "      <td>0</td>\n",
              "    </tr>\n",
              "    <tr>\n",
              "      <th>2</th>\n",
              "      <td>2</td>\n",
              "      <td>3578</td>\n",
              "      <td>서울특별시</td>\n",
              "      <td>64</td>\n",
              "      <td>0</td>\n",
              "      <td>84.74</td>\n",
              "      <td>46</td>\n",
              "      <td>0</td>\n",
              "      <td>6</td>\n",
              "      <td>38500.0</td>\n",
              "      <td>0</td>\n",
              "    </tr>\n",
              "    <tr>\n",
              "      <th>3</th>\n",
              "      <td>3</td>\n",
              "      <td>10957</td>\n",
              "      <td>서울특별시</td>\n",
              "      <td>13</td>\n",
              "      <td>2032</td>\n",
              "      <td>146.39</td>\n",
              "      <td>42</td>\n",
              "      <td>0</td>\n",
              "      <td>15</td>\n",
              "      <td>118000.0</td>\n",
              "      <td>0</td>\n",
              "    </tr>\n",
              "    <tr>\n",
              "      <th>4</th>\n",
              "      <td>4</td>\n",
              "      <td>10639</td>\n",
              "      <td>서울특별시</td>\n",
              "      <td>13</td>\n",
              "      <td>0</td>\n",
              "      <td>194.43</td>\n",
              "      <td>43</td>\n",
              "      <td>0</td>\n",
              "      <td>3</td>\n",
              "      <td>120000.0</td>\n",
              "      <td>0</td>\n",
              "    </tr>\n",
              "  </tbody>\n",
              "</table>\n",
              "</div>"
            ],
            "text/plain": [
              "   transaction_id  apartment_id   city  ... floor transaction_real_price  top10\n",
              "0               0          7622  서울특별시  ...     2                37500.0      0\n",
              "1               1          5399  서울특별시  ...     6                20000.0      0\n",
              "2               2          3578  서울특별시  ...     6                38500.0      0\n",
              "3               3         10957  서울특별시  ...    15               118000.0      0\n",
              "4               4         10639  서울특별시  ...     3               120000.0      0\n",
              "\n",
              "[5 rows x 11 columns]"
            ]
          },
          "metadata": {
            "tags": []
          },
          "execution_count": 28
        }
      ]
    },
    {
      "cell_type": "markdown",
      "metadata": {
        "id": "VF5P_T3_yuR9"
      },
      "source": [
        "#### Price"
      ]
    },
    {
      "cell_type": "code",
      "metadata": {
        "ExecuteTime": {
          "end_time": "2021-05-07T07:45:29.733252Z",
          "start_time": "2021-05-07T07:45:29.590122Z"
        },
        "scrolled": true,
        "id": "LBVn1yB1yuR9",
        "colab": {
          "base_uri": "https://localhost:8080/",
          "height": 293
        },
        "outputId": "b74d57ee-f27b-4005-b2d3-96ad4b93897d"
      },
      "source": [
        "# train price\n",
        "plt.figure()\n",
        "plt.hist(train_df['transaction_real_price'], bins=30)\n",
        "plt.xlabel('Price(10000 won)')\n",
        "plt.title('Distribution of Price')\n",
        "plt.show()"
      ],
      "execution_count": null,
      "outputs": [
        {
          "output_type": "display_data",
          "data": {
            "image/png": "[encoded data removed]",
            "text/plain": [
              "<Figure size 432x288 with 1 Axes>"
            ]
          },
          "metadata": {
            "tags": [],
            "needs_background": "light"
          }
        }
      ]
    },
    {
      "cell_type": "markdown",
      "metadata": {
        "id": "ZLsEvIOVyuR-"
      },
      "source": [
        "- 가격의 분포가 매우 왼쪽으로 치우친 것을 확인할 수 있음\n",
        "- 타겟 변수의 이상치가 회귀모형을 사용한 예측에 큰 영향을 줄 수 있음\n",
        "    - 로그 변환으로 정규화한뒤, 나중에 다시 역변환"
      ]
    },
    {
      "cell_type": "code",
      "metadata": {
        "id": "m6K6o48uJ-K8",
        "colab": {
          "base_uri": "https://localhost:8080/",
          "height": 80
        },
        "outputId": "e7ba434e-a03a-4001-b870-13b3c2c3252f"
      },
      "source": [
        "# 가격 로그 변환 후 원래 가격 따로 저장\n",
        "all_df['log_price'] = np.log1p(all_df['transaction_real_price'])\n",
        "real_price = all_df['transaction_real_price'] # 원래 가격\n",
        "#train_y = real_price[:train_df.shape[0]] # train 데이터의 가격\n",
        "#test_y = real_price[train_df.shape[0]:] # test 데이터의 가격\n",
        "all_df.drop('transaction_real_price', axis=1, inplace=True)\n",
        "all_df.head(1)"
      ],
      "execution_count": 10,
      "outputs": [
        {
          "output_type": "execute_result",
          "data": {
            "text/html": [
              "<div>\n",
              "<style scoped>\n",
              "    .dataframe tbody tr th:only-of-type {\n",
              "        vertical-align: middle;\n",
              "    }\n",
              "\n",
              "    .dataframe tbody tr th {\n",
              "        vertical-align: top;\n",
              "    }\n",
              "\n",
              "    .dataframe thead th {\n",
              "        text-align: right;\n",
              "    }\n",
              "</style>\n",
              "<table border=\"1\" class=\"dataframe\">\n",
              "  <thead>\n",
              "    <tr style=\"text-align: right;\">\n",
              "      <th></th>\n",
              "      <th>transaction_id</th>\n",
              "      <th>apartment_id</th>\n",
              "      <th>city</th>\n",
              "      <th>dong</th>\n",
              "      <th>apt</th>\n",
              "      <th>exclusive_use_area</th>\n",
              "      <th>year_of_completion</th>\n",
              "      <th>transaction_year_month</th>\n",
              "      <th>floor</th>\n",
              "      <th>top10</th>\n",
              "      <th>log_price</th>\n",
              "    </tr>\n",
              "  </thead>\n",
              "  <tbody>\n",
              "    <tr>\n",
              "      <th>0</th>\n",
              "      <td>0</td>\n",
              "      <td>7622</td>\n",
              "      <td>서울특별시</td>\n",
              "      <td>신교동</td>\n",
              "      <td>신현</td>\n",
              "      <td>84.82</td>\n",
              "      <td>41</td>\n",
              "      <td>0</td>\n",
              "      <td>2</td>\n",
              "      <td>0</td>\n",
              "      <td>10.532123</td>\n",
              "    </tr>\n",
              "  </tbody>\n",
              "</table>\n",
              "</div>"
            ],
            "text/plain": [
              "   transaction_id  apartment_id   city  ... floor top10  log_price\n",
              "0               0          7622  서울특별시  ...     2     0  10.532123\n",
              "\n",
              "[1 rows x 11 columns]"
            ]
          },
          "metadata": {
            "tags": []
          },
          "execution_count": 10
        }
      ]
    },
    {
      "cell_type": "code",
      "metadata": {
        "colab": {
          "base_uri": "https://localhost:8080/",
          "height": 292
        },
        "id": "Bcpz4ldU-M-P",
        "outputId": "83fa7849-71d0-4f6f-e10a-b3cdb9320be9"
      },
      "source": [
        "# train price\n",
        "plt.figure()\n",
        "plt.hist(all_df['log_price'], bins=30)\n",
        "plt.xlabel('log_price')\n",
        "plt.title('Distribution of Price')\n",
        "plt.show()"
      ],
      "execution_count": null,
      "outputs": [
        {
          "output_type": "display_data",
          "data": {
            "image/png": "[encoded data removed]",
            "text/plain": [
              "<Figure size 432x288 with 1 Axes>"
            ]
          },
          "metadata": {
            "tags": [],
            "needs_background": "light"
          }
        }
      ]
    },
    {
      "cell_type": "markdown",
      "metadata": {
        "id": "AVTeTEfRr15R"
      },
      "source": [
        "### Area"
      ]
    },
    {
      "cell_type": "code",
      "metadata": {
        "ExecuteTime": {
          "end_time": "2021-05-07T07:45:30.037529Z",
          "start_time": "2021-05-07T07:45:29.735254Z"
        },
        "scrolled": false,
        "id": "EKSc4UJ6yuR-",
        "colab": {
          "base_uri": "https://localhost:8080/",
          "height": 293
        },
        "outputId": "555d7b0a-656d-4aa5-f0b2-9c2c5926c178"
      },
      "source": [
        "# train area\n",
        "plt.figure()\n",
        "plt.hist(train_df['exclusive_use_area'], bins=30)\n",
        "plt.xlabel('Area(Square meter)')\n",
        "plt.title('Distribution of Area')\n",
        "plt.show()"
      ],
      "execution_count": 11,
      "outputs": [
        {
          "output_type": "display_data",
          "data": {
            "image/png": "[encoded data removed]",
            "text/plain": [
              "<Figure size 432x288 with 1 Axes>"
            ]
          },
          "metadata": {
            "tags": [],
            "needs_background": "light"
          }
        }
      ]
    },
    {
      "cell_type": "code",
      "metadata": {
        "colab": {
          "base_uri": "https://localhost:8080/",
          "height": 80
        },
        "id": "Mww8qNfzrmeU",
        "outputId": "b58e250b-f030-43ba-8fcf-3a4004e70cc7"
      },
      "source": [
        "# 면적 로그 변환 후 원래 면적 따로 저장\n",
        "all_df['log_area'] = np.log1p(all_df['exclusive_use_area'])\n",
        "area = all_df['exclusive_use_area'] # 원래 가격\n",
        "all_df.drop('exclusive_use_area', axis=1, inplace=True)\n",
        "all_df.head(1)"
      ],
      "execution_count": 12,
      "outputs": [
        {
          "output_type": "execute_result",
          "data": {
            "text/html": [
              "<div>\n",
              "<style scoped>\n",
              "    .dataframe tbody tr th:only-of-type {\n",
              "        vertical-align: middle;\n",
              "    }\n",
              "\n",
              "    .dataframe tbody tr th {\n",
              "        vertical-align: top;\n",
              "    }\n",
              "\n",
              "    .dataframe thead th {\n",
              "        text-align: right;\n",
              "    }\n",
              "</style>\n",
              "<table border=\"1\" class=\"dataframe\">\n",
              "  <thead>\n",
              "    <tr style=\"text-align: right;\">\n",
              "      <th></th>\n",
              "      <th>transaction_id</th>\n",
              "      <th>apartment_id</th>\n",
              "      <th>city</th>\n",
              "      <th>dong</th>\n",
              "      <th>apt</th>\n",
              "      <th>year_of_completion</th>\n",
              "      <th>transaction_year_month</th>\n",
              "      <th>floor</th>\n",
              "      <th>top10</th>\n",
              "      <th>log_price</th>\n",
              "      <th>log_area</th>\n",
              "    </tr>\n",
              "  </thead>\n",
              "  <tbody>\n",
              "    <tr>\n",
              "      <th>0</th>\n",
              "      <td>0</td>\n",
              "      <td>7622</td>\n",
              "      <td>서울특별시</td>\n",
              "      <td>신교동</td>\n",
              "      <td>신현</td>\n",
              "      <td>41</td>\n",
              "      <td>0</td>\n",
              "      <td>2</td>\n",
              "      <td>0</td>\n",
              "      <td>10.532123</td>\n",
              "      <td>4.452252</td>\n",
              "    </tr>\n",
              "  </tbody>\n",
              "</table>\n",
              "</div>"
            ],
            "text/plain": [
              "   transaction_id  apartment_id   city dong  ... floor  top10  log_price  log_area\n",
              "0               0          7622  서울특별시  신교동  ...     2      0  10.532123  4.452252\n",
              "\n",
              "[1 rows x 11 columns]"
            ]
          },
          "metadata": {
            "tags": []
          },
          "execution_count": 12
        }
      ]
    },
    {
      "cell_type": "code",
      "metadata": {
        "colab": {
          "base_uri": "https://localhost:8080/",
          "height": 292
        },
        "id": "XWFge8LqCf_8",
        "outputId": "236407e0-766e-4591-b832-132609d275ac"
      },
      "source": [
        "\n",
        "plt.figure()\n",
        "plt.hist(all_df['log_area'], bins=30)\n",
        "plt.xlabel('log_area')\n",
        "plt.title('Distribution of Area')\n",
        "plt.show()"
      ],
      "execution_count": null,
      "outputs": [
        {
          "output_type": "display_data",
          "data": {
            "image/png": "[encoded data removed]",
            "text/plain": [
              "<Figure size 432x288 with 1 Axes>"
            ]
          },
          "metadata": {
            "tags": [],
            "needs_background": "light"
          }
        }
      ]
    },
    {
      "cell_type": "markdown",
      "metadata": {
        "id": "RlvQNiQdEzQs"
      },
      "source": [
        "### Encoding"
      ]
    },
    {
      "cell_type": "code",
      "metadata": {
        "id": "jANAQVK291VZ"
      },
      "source": [
        "def label_encoder(col):\n",
        "    le = LabelEncoder()\n",
        "    return le.fit_transform(col)\n",
        "ohe_col = ['city']\n",
        "drop_col = ['transaction_id', 'apartment_id', 'city', 'dong', 'apt']\n",
        "\n",
        "ohe_columns = pd.get_dummies(all_df[ohe_col])\n"
      ],
      "execution_count": null,
      "outputs": []
    },
    {
      "cell_type": "code",
      "metadata": {
        "colab": {
          "base_uri": "https://localhost:8080/",
          "height": 228
        },
        "id": "iM8tGHMMtPgt",
        "outputId": "cce67d8a-84e0-4f7b-fe96-2e7ec519f766"
      },
      "source": [
        "all_df = pd.concat([all_df.drop(drop_col, axis=1), ohe_columns], axis=1)\n",
        "all_df.head()"
      ],
      "execution_count": null,
      "outputs": [
        {
          "output_type": "execute_result",
          "data": {
            "text/html": [
              "<div>\n",
              "<style scoped>\n",
              "    .dataframe tbody tr th:only-of-type {\n",
              "        vertical-align: middle;\n",
              "    }\n",
              "\n",
              "    .dataframe tbody tr th {\n",
              "        vertical-align: top;\n",
              "    }\n",
              "\n",
              "    .dataframe thead th {\n",
              "        text-align: right;\n",
              "    }\n",
              "</style>\n",
              "<table border=\"1\" class=\"dataframe\">\n",
              "  <thead>\n",
              "    <tr style=\"text-align: right;\">\n",
              "      <th></th>\n",
              "      <th>year_of_completion</th>\n",
              "      <th>transaction_year_month</th>\n",
              "      <th>floor</th>\n",
              "      <th>top10</th>\n",
              "      <th>log_price</th>\n",
              "      <th>log_area</th>\n",
              "      <th>city_부산광역시</th>\n",
              "      <th>city_서울특별시</th>\n",
              "    </tr>\n",
              "  </thead>\n",
              "  <tbody>\n",
              "    <tr>\n",
              "      <th>0</th>\n",
              "      <td>41</td>\n",
              "      <td>0</td>\n",
              "      <td>2</td>\n",
              "      <td>0</td>\n",
              "      <td>10.532123</td>\n",
              "      <td>4.452252</td>\n",
              "      <td>0</td>\n",
              "      <td>1</td>\n",
              "    </tr>\n",
              "    <tr>\n",
              "      <th>1</th>\n",
              "      <td>12</td>\n",
              "      <td>0</td>\n",
              "      <td>6</td>\n",
              "      <td>0</td>\n",
              "      <td>9.903538</td>\n",
              "      <td>4.606869</td>\n",
              "      <td>0</td>\n",
              "      <td>1</td>\n",
              "    </tr>\n",
              "    <tr>\n",
              "      <th>2</th>\n",
              "      <td>46</td>\n",
              "      <td>0</td>\n",
              "      <td>6</td>\n",
              "      <td>0</td>\n",
              "      <td>10.558439</td>\n",
              "      <td>4.451319</td>\n",
              "      <td>0</td>\n",
              "      <td>1</td>\n",
              "    </tr>\n",
              "    <tr>\n",
              "      <th>3</th>\n",
              "      <td>42</td>\n",
              "      <td>0</td>\n",
              "      <td>15</td>\n",
              "      <td>0</td>\n",
              "      <td>11.678448</td>\n",
              "      <td>4.993082</td>\n",
              "      <td>0</td>\n",
              "      <td>1</td>\n",
              "    </tr>\n",
              "    <tr>\n",
              "      <th>4</th>\n",
              "      <td>43</td>\n",
              "      <td>0</td>\n",
              "      <td>3</td>\n",
              "      <td>0</td>\n",
              "      <td>11.695255</td>\n",
              "      <td>5.275202</td>\n",
              "      <td>0</td>\n",
              "      <td>1</td>\n",
              "    </tr>\n",
              "  </tbody>\n",
              "</table>\n",
              "</div>"
            ],
            "text/plain": [
              "   year_of_completion  transaction_year_month  ...  city_부산광역시  city_서울특별시\n",
              "0                  41                       0  ...           0           1\n",
              "1                  12                       0  ...           0           1\n",
              "2                  46                       0  ...           0           1\n",
              "3                  42                       0  ...           0           1\n",
              "4                  43                       0  ...           0           1\n",
              "\n",
              "[5 rows x 8 columns]"
            ]
          },
          "metadata": {
            "tags": []
          },
          "execution_count": 36
        }
      ]
    },
    {
      "cell_type": "code",
      "metadata": {
        "colab": {
          "base_uri": "https://localhost:8080/"
        },
        "id": "3X4UMl3AZQO0",
        "outputId": "663b9ae7-9902-4ffd-a24c-f04c336d1263"
      },
      "source": [
        "all_df.shape"
      ],
      "execution_count": null,
      "outputs": [
        {
          "output_type": "execute_result",
          "data": {
            "text/plain": [
              "(1222016, 8)"
            ]
          },
          "metadata": {
            "tags": []
          },
          "execution_count": 37
        }
      ]
    },
    {
      "cell_type": "code",
      "metadata": {
        "id": "N08p100o8Pi5"
      },
      "source": [
        "all_df.to_csv('all_df.csv', index=False)"
      ],
      "execution_count": null,
      "outputs": []
    },
    {
      "cell_type": "markdown",
      "metadata": {
        "id": "2lc7YDr98TjE"
      },
      "source": [
        "## 전처리 생략 \n"
      ]
    },
    {
      "cell_type": "code",
      "metadata": {
        "colab": {
          "base_uri": "https://localhost:8080/"
        },
        "id": "wGPkNHiB815h",
        "outputId": "9153240c-dc7c-40ab-9a94-6af4b0f76679"
      },
      "source": [
        "from google.colab import drive\n",
        "drive.mount('/content/drive')"
      ],
      "execution_count": 1,
      "outputs": [
        {
          "output_type": "stream",
          "text": [
            "Drive already mounted at /content/drive; to attempt to forcibly remount, call drive.mount(\"/content/drive\", force_remount=True).\n"
          ],
          "name": "stdout"
        }
      ]
    },
    {
      "cell_type": "code",
      "metadata": {
        "colab": {
          "base_uri": "https://localhost:8080/"
        },
        "id": "UfPZ8om08go4",
        "outputId": "e19b7238-089f-40d4-af4d-82022270556e"
      },
      "source": [
        "import pandas as pd\n",
        "import numpy as np\n",
        "import matplotlib.pyplot as plt\n",
        "import warnings\n",
        "import seaborn as sns\n",
        "import statsmodels.api as sm\n",
        "import statsmodels.formula.api as smf\n",
        "from tqdm import tqdm\n",
        "from sklearn.linear_model import LinearRegression, ElasticNet, Lasso,  Ridge, LassoLarsIC\n",
        "from sklearn.tree import DecisionTreeRegressor\n",
        "from sklearn.ensemble import RandomForestRegressor,  GradientBoostingRegressor\n",
        "from sklearn.pipeline import make_pipeline\n",
        "from sklearn.preprocessing import RobustScaler, LabelEncoder\n",
        "from sklearn.model_selection import KFold, cross_val_score, train_test_split, TimeSeriesSplit\n",
        "from sklearn.metrics import mean_squared_error\n",
        "import xgboost as xgb\n",
        "import lightgbm as lgb\n",
        "import re\n",
        "!pip install optuna -q\n",
        "import optuna\n",
        "\n",
        "import matplotlib as mpl  # 기본 설정 만지는 용도\n",
        "import matplotlib.pyplot as plt  # 그래프 그리는 용도\n",
        "import matplotlib.font_manager as fm\n",
        "!apt-get update -qq\n",
        "!apt-get install fonts-nanum* -qq\n",
        "path = '/usr/share/fonts/truetype/nanum/NanumGothicEco.ttf'  # 설치된 나눔글꼴중 원하는 녀석의 전체 경로를 가져오자\n",
        "font_name = fm.FontProperties(fname=path, size=10).get_name()\n",
        "print(font_name)\n",
        "plt.rc('font', family=font_name)\n",
        "fm._rebuild()\n",
        "mpl.rcParams['axes.unicode_minus'] = False"
      ],
      "execution_count": 2,
      "outputs": [
        {
          "output_type": "stream",
          "text": [
            "/usr/local/lib/python3.7/dist-packages/statsmodels/tools/_testing.py:19: FutureWarning: pandas.util.testing is deprecated. Use the functions in the public API at pandas.testing instead.\n",
            "  import pandas.util.testing as tm\n"
          ],
          "name": "stderr"
        },
        {
          "output_type": "stream",
          "text": [
            "NanumGothic Eco\n"
          ],
          "name": "stdout"
        }
      ]
    },
    {
      "cell_type": "code",
      "metadata": {
        "id": "va3JyIr-829r"
      },
      "source": [
        "PATH = '/content/drive/MyDrive/input/dataminingTP/'\n",
        "train_df = pd.read_csv(PATH + 'train_df_regex.csv')\n",
        "all_df = pd.read_csv(PATH + 'all_df.csv')"
      ],
      "execution_count": 3,
      "outputs": []
    },
    {
      "cell_type": "code",
      "metadata": {
        "id": "vlBocCnAvuKG",
        "colab": {
          "base_uri": "https://localhost:8080/"
        },
        "outputId": "ec11cd55-2433-4008-9a02-c0783308808a"
      },
      "source": [
        "train_df = all_df[:train_df.shape[0]]\n",
        "train_y = train_df['log_price']\n",
        "train_X = train_df.drop('log_price', axis=1)\n",
        "test_df = all_df[train_df.shape[0]:].drop('log_price', axis=1)\n",
        "print(train_df.shape, test_df.shape, train_X.shape, train_y.shape)"
      ],
      "execution_count": 4,
      "outputs": [
        {
          "output_type": "stream",
          "text": [
            "(1216553, 8) (5463, 7) (1216553, 7) (1216553,)\n"
          ],
          "name": "stdout"
        }
      ]
    },
    {
      "cell_type": "markdown",
      "metadata": {
        "id": "Jnko_Hx30Bqm"
      },
      "source": [
        "\n",
        "## Modeling"
      ]
    },
    {
      "cell_type": "markdown",
      "metadata": {
        "id": "_AtMPso6-EhM"
      },
      "source": [
        "### Linear Regression"
      ]
    },
    {
      "cell_type": "code",
      "metadata": {
        "id": "BjHHIyWBymgd",
        "colab": {
          "base_uri": "https://localhost:8080/"
        },
        "outputId": "f2350185-4438-4ad5-a062-e16944aa199c"
      },
      "source": [
        "reg = LinearRegression().fit(train_X, train_y)\n",
        "reg.score(train_X, train_y) # R^2"
      ],
      "execution_count": 5,
      "outputs": [
        {
          "output_type": "execute_result",
          "data": {
            "text/plain": [
              "0.7329833327398763"
            ]
          },
          "metadata": {
            "tags": []
          },
          "execution_count": 5
        }
      ]
    },
    {
      "cell_type": "code",
      "metadata": {
        "colab": {
          "base_uri": "https://localhost:8080/",
          "height": 371
        },
        "id": "qy9eV3imtopU",
        "outputId": "d05ca196-2ced-49fb-c516-666d1548f668"
      },
      "source": [
        "sns.heatmap(train_df.corr(), annot=True, fmt='.2f', annot_kws={\"fontsize\":11})\n",
        "plt.show()"
      ],
      "execution_count": 6,
      "outputs": [
        {
          "output_type": "display_data",
          "data": {
            "image/png": "[encoded data removed]",
            "text/plain": [
              "<Figure size 432x288 with 2 Axes>"
            ]
          },
          "metadata": {
            "tags": [],
            "needs_background": "light"
          }
        }
      ]
    },
    {
      "cell_type": "markdown",
      "metadata": {
        "id": "bqs_8Onq-HgH"
      },
      "source": [
        "### Set RMSE Score"
      ]
    },
    {
      "cell_type": "code",
      "metadata": {
        "id": "b1QCDF4M0A_K"
      },
      "source": [
        "def RMSE(y, y_pred):\n",
        "    rmse = mean_squared_error(y, y_pred) ** 0.5\n",
        "    return rmse\n",
        "\n",
        "def rmse_cv(model):\n",
        "    tscv = TimeSeriesSplit(n_splits=10)\n",
        "    rmse_list = []\n",
        "    for i, (train_index, test_index) in enumerate(tscv.split(train_X), start=1):\n",
        "        X_train, X_test = train_X.iloc[train_index], train_X.iloc[test_index]\n",
        "        y_train, y_test = train_y.iloc[train_index], train_y.iloc[test_index]\n",
        "        clf = model.fit(X_train, y_train)\n",
        "        pred = clf.predict(X_test)\n",
        "        rmse = RMSE(y_test, pred) \n",
        "        rmse_list.append(rmse)\n",
        "    return type(model).__name__, rmse_list\n",
        "\n",
        "def print_rmse_score(model):\n",
        "    model_name, score = rmse_cv(model)\n",
        "    for i, r in tqdm(enumerate(score, start=1), leave=True):\n",
        "        if i == 1:\n",
        "            print('\\n')\n",
        "            print(f'{i} FOLDS: {model_name} RMSE: {r:.4f}')\n",
        "        else:\n",
        "            print(f'{i} FOLDS: {model_name} RMSE: {r:.4f}')\n",
        "    print(f'\\n{model_name} mean RMSE: {np.mean(score):.4f}')\n",
        "    print('='*40)"
      ],
      "execution_count": 5,
      "outputs": []
    },
    {
      "cell_type": "code",
      "metadata": {
        "id": "NFaDSJHXcJUm"
      },
      "source": [
        "#ridge = Ridge(alpha=0.8, random_state=1)\n",
        "#lasso = Lasso(alpha = 0.01, random_state=1)\n",
        "#Enet = ElasticNet(alpha=0.03, l1_ratio=0.01, random_state=1)\n",
        "\n",
        "# DTree의 스코어가 가장 높았으므로 DTree 부터 시작\n",
        "DTree = DecisionTreeRegressor(max_depth=6, min_samples_split=10, min_samples_leaf=15, random_state=1)\n",
        "GBoost = GradientBoostingRegressor(n_estimators=3000, learning_rate=0.05, max_depth=4,\n",
        "                                   max_features='sqrt', min_samples_leaf=15, min_samples_split=10,\n",
        "                                   loss='huber', random_state=1)\n",
        "model_xgb = xgb.XGBRegressor(colsample_bytree=0.4603, gamma=0.0468, learning_rate=0.05,\n",
        "                             max_depth=3, min_child_weight=1.7817, n_estimators=2200,\n",
        "                             reg_alpha=0.4640, reg_lambda=0.8571, subsample=0.5213,\n",
        "                             silent=1, random_state=1, nthread=-1)\n",
        "model_lgb = lgb.LGBMRegressor(objective='regression', num_leaves=5, learning_rate=0.05, \n",
        "                              n_estimators=720, max_bin=55, bagging_fraction=0.8,\n",
        "                              bagging_freq=5, feature_fraction=0.2319, feature_fraction_seed=9,\n",
        "                              bagging_seed=9, min_data_in_leaf=6, min_sum_hessian_in_leaf=11)"
      ],
      "execution_count": 10,
      "outputs": []
    },
    {
      "cell_type": "code",
      "metadata": {
        "colab": {
          "base_uri": "https://localhost:8080/"
        },
        "id": "x_OHU1WM1aAY",
        "outputId": "b3eb4b8a-e487-4140-e39c-a8fbd1dffbbd"
      },
      "source": [
        "#for model in [ridge, lasso, Enet, DTree]:\n",
        "#    print_rmse_score(model)"
      ],
      "execution_count": null,
      "outputs": [
        {
          "output_type": "stream",
          "text": [
            "10it [00:00, 1772.37it/s]\n"
          ],
          "name": "stderr"
        },
        {
          "output_type": "stream",
          "text": [
            "\n",
            "\n",
            "1 FOLDS: Ridge RMSE: 0.2900\n",
            "2 FOLDS: Ridge RMSE: 0.3195\n",
            "3 FOLDS: Ridge RMSE: 0.2598\n",
            "4 FOLDS: Ridge RMSE: 0.5896\n",
            "5 FOLDS: Ridge RMSE: 0.6073\n",
            "6 FOLDS: Ridge RMSE: 0.3746\n",
            "7 FOLDS: Ridge RMSE: 0.3501\n",
            "8 FOLDS: Ridge RMSE: 0.3575\n",
            "9 FOLDS: Ridge RMSE: 0.3185\n",
            "10 FOLDS: Ridge RMSE: 0.4028\n",
            "\n",
            "Ridge mean RMSE: 0.3870\n",
            "========================================\n"
          ],
          "name": "stdout"
        },
        {
          "output_type": "stream",
          "text": [
            "10it [00:00, 11676.79it/s]\n"
          ],
          "name": "stderr"
        },
        {
          "output_type": "stream",
          "text": [
            "\n",
            "\n",
            "1 FOLDS: Lasso RMSE: 0.2960\n",
            "2 FOLDS: Lasso RMSE: 0.3244\n",
            "3 FOLDS: Lasso RMSE: 0.2644\n",
            "4 FOLDS: Lasso RMSE: 0.6048\n",
            "5 FOLDS: Lasso RMSE: 0.6075\n",
            "6 FOLDS: Lasso RMSE: 0.5447\n",
            "7 FOLDS: Lasso RMSE: 0.3531\n",
            "8 FOLDS: Lasso RMSE: 0.3633\n",
            "9 FOLDS: Lasso RMSE: 0.3199\n",
            "10 FOLDS: Lasso RMSE: 0.4007\n",
            "\n",
            "Lasso mean RMSE: 0.4079\n",
            "========================================\n"
          ],
          "name": "stdout"
        },
        {
          "output_type": "stream",
          "text": [
            "10it [00:00, 1885.00it/s]\n"
          ],
          "name": "stderr"
        },
        {
          "output_type": "stream",
          "text": [
            "\n",
            "\n",
            "1 FOLDS: ElasticNet RMSE: 0.3105\n",
            "2 FOLDS: ElasticNet RMSE: 0.3251\n",
            "3 FOLDS: ElasticNet RMSE: 0.2647\n",
            "4 FOLDS: ElasticNet RMSE: 0.6173\n",
            "5 FOLDS: ElasticNet RMSE: 0.6075\n",
            "6 FOLDS: ElasticNet RMSE: 0.4888\n",
            "7 FOLDS: ElasticNet RMSE: 0.3639\n",
            "8 FOLDS: ElasticNet RMSE: 0.3705\n",
            "9 FOLDS: ElasticNet RMSE: 0.3253\n",
            "10 FOLDS: ElasticNet RMSE: 0.4020\n",
            "\n",
            "ElasticNet mean RMSE: 0.4075\n",
            "========================================\n"
          ],
          "name": "stdout"
        },
        {
          "output_type": "stream",
          "text": [
            "10it [00:00, 1875.64it/s]"
          ],
          "name": "stderr"
        },
        {
          "output_type": "stream",
          "text": [
            "\n",
            "\n",
            "1 FOLDS: DecisionTreeRegressor RMSE: 0.2624\n",
            "2 FOLDS: DecisionTreeRegressor RMSE: 0.3234\n",
            "3 FOLDS: DecisionTreeRegressor RMSE: 0.2562\n",
            "4 FOLDS: DecisionTreeRegressor RMSE: 0.5516\n",
            "5 FOLDS: DecisionTreeRegressor RMSE: 0.5551\n",
            "6 FOLDS: DecisionTreeRegressor RMSE: 0.3847\n",
            "7 FOLDS: DecisionTreeRegressor RMSE: 0.3207\n",
            "8 FOLDS: DecisionTreeRegressor RMSE: 0.3126\n",
            "9 FOLDS: DecisionTreeRegressor RMSE: 0.3233\n",
            "10 FOLDS: DecisionTreeRegressor RMSE: 0.3936\n",
            "\n",
            "DecisionTreeRegressor mean RMSE: 0.3683\n",
            "========================================\n"
          ],
          "name": "stdout"
        },
        {
          "output_type": "stream",
          "text": [
            "\n"
          ],
          "name": "stderr"
        }
      ]
    },
    {
      "cell_type": "code",
      "metadata": {
        "id": "BpcW6NXaKzSO",
        "colab": {
          "base_uri": "https://localhost:8080/"
        },
        "outputId": "53432608-5fef-4014-c225-004e21a1ad3c"
      },
      "source": [
        "for model in [DTree, model_xgb, model_lgb]:\n",
        "    print_rmse_score(model)"
      ],
      "execution_count": 11,
      "outputs": [
        {
          "output_type": "stream",
          "text": [
            "10it [00:00, 16584.83it/s]\n"
          ],
          "name": "stderr"
        },
        {
          "output_type": "stream",
          "text": [
            "\n",
            "\n",
            "1 FOLDS: DecisionTreeRegressor RMSE: 0.2624\n",
            "2 FOLDS: DecisionTreeRegressor RMSE: 0.3234\n",
            "3 FOLDS: DecisionTreeRegressor RMSE: 0.2562\n",
            "4 FOLDS: DecisionTreeRegressor RMSE: 0.5516\n",
            "5 FOLDS: DecisionTreeRegressor RMSE: 0.5551\n",
            "6 FOLDS: DecisionTreeRegressor RMSE: 0.3847\n",
            "7 FOLDS: DecisionTreeRegressor RMSE: 0.3207\n",
            "8 FOLDS: DecisionTreeRegressor RMSE: 0.3126\n",
            "9 FOLDS: DecisionTreeRegressor RMSE: 0.3233\n",
            "10 FOLDS: DecisionTreeRegressor RMSE: 0.3936\n",
            "\n",
            "DecisionTreeRegressor mean RMSE: 0.3683\n",
            "========================================\n"
          ],
          "name": "stdout"
        },
        {
          "output_type": "stream",
          "text": [
            "10it [00:00, 17339.00it/s]\n"
          ],
          "name": "stderr"
        },
        {
          "output_type": "stream",
          "text": [
            "\n",
            "\n",
            "1 FOLDS: XGBRegressor RMSE: 0.2485\n",
            "2 FOLDS: XGBRegressor RMSE: 0.3103\n",
            "3 FOLDS: XGBRegressor RMSE: 0.2326\n",
            "4 FOLDS: XGBRegressor RMSE: 0.5425\n",
            "5 FOLDS: XGBRegressor RMSE: 0.5298\n",
            "6 FOLDS: XGBRegressor RMSE: 0.2785\n",
            "7 FOLDS: XGBRegressor RMSE: 0.2859\n",
            "8 FOLDS: XGBRegressor RMSE: 0.2609\n",
            "9 FOLDS: XGBRegressor RMSE: 0.2737\n",
            "10 FOLDS: XGBRegressor RMSE: 0.3258\n",
            "\n",
            "XGBRegressor mean RMSE: 0.3288\n",
            "========================================\n"
          ],
          "name": "stdout"
        },
        {
          "output_type": "stream",
          "text": [
            "10it [00:00, 1756.48it/s]"
          ],
          "name": "stderr"
        },
        {
          "output_type": "stream",
          "text": [
            "\n",
            "\n",
            "1 FOLDS: LGBMRegressor RMSE: 0.2507\n",
            "2 FOLDS: LGBMRegressor RMSE: 0.3088\n",
            "3 FOLDS: LGBMRegressor RMSE: 0.2475\n",
            "4 FOLDS: LGBMRegressor RMSE: 0.5487\n",
            "5 FOLDS: LGBMRegressor RMSE: 0.5416\n",
            "6 FOLDS: LGBMRegressor RMSE: 0.3730\n",
            "7 FOLDS: LGBMRegressor RMSE: 0.3537\n",
            "8 FOLDS: LGBMRegressor RMSE: 0.3500\n",
            "9 FOLDS: LGBMRegressor RMSE: 0.2919\n",
            "10 FOLDS: LGBMRegressor RMSE: 0.3496\n",
            "\n",
            "LGBMRegressor mean RMSE: 0.3616\n",
            "========================================\n"
          ],
          "name": "stdout"
        },
        {
          "output_type": "stream",
          "text": [
            "\n"
          ],
          "name": "stderr"
        }
      ]
    },
    {
      "cell_type": "markdown",
      "metadata": {
        "id": "z47Xwazyz4Hv"
      },
      "source": [
        "- xgboost 성능이 제일 좋으나 너무 오래걸려서 lgbm 하이퍼 파라미터 튜닝 진행"
      ]
    },
    {
      "cell_type": "markdown",
      "metadata": {
        "id": "Ln1OZScO0avm"
      },
      "source": [
        "### Hyperparameter Tuning"
      ]
    },
    {
      "cell_type": "code",
      "metadata": {
        "colab": {
          "base_uri": "https://localhost:8080/"
        },
        "id": "bjpjn-b-19G3",
        "outputId": "18edafe2-fd16-4f15-ad0e-153947ffcd3d"
      },
      "source": [
        "cut = int(len(train_df)*0.8)\n",
        "h_train = train_df[:cut]\n",
        "h_valid = train_df[cut:]\n",
        "\n",
        "h_train_X = h_train.drop('log_price', axis=1)\n",
        "h_train_y = h_train['log_price']\n",
        "h_valid_X = h_valid.drop('log_price', axis=1)\n",
        "h_valid_y = h_valid['log_price']\n",
        "print(h_train_X.shape, h_train_y.shape, h_valid_X.shape, h_valid_y.shape)"
      ],
      "execution_count": 9,
      "outputs": [
        {
          "output_type": "stream",
          "text": [
            "(973242, 7) (973242,) (243311, 7) (243311,)\n"
          ],
          "name": "stdout"
        }
      ]
    },
    {
      "cell_type": "code",
      "metadata": {
        "colab": {
          "base_uri": "https://localhost:8080/"
        },
        "id": "WdV_83xTnEsx",
        "outputId": "d3c734d0-a37c-46f7-8154-95c5e168c0ec"
      },
      "source": [
        " from optuna.samplers import TPESampler\n",
        "\n",
        " sampler = TPESampler(seed=10)\n",
        " def objective(trial):\n",
        "\n",
        "     param = {\n",
        "         'objective': 'regression', # 회귀\n",
        "         'metric': 'rmse', \n",
        "         'verbosity': -1,\n",
        "         'boosting_type': 'gbdt', # gradient boosting decision tree\n",
        "         'lambda_l1': trial.suggest_loguniform('lambda_l1', 1e-8, 1),\n",
        "         'lambda_l2': trial.suggest_loguniform('lambda_l2', 1e-8, 1),\n",
        "         'num_leaves': trial.suggest_int('num_leaves', 2, 400),\n",
        "         'max_depth': trial.suggest_int('max_depth',3, 9),\n",
        "         'learning_rate': 0.01,\n",
        "         'n_estimators': trial.suggest_int('n_estimators', 700, 5000),\n",
        "         'feature_fraction': trial.suggest_uniform('feature_fraction', 0.4, 1.0),\n",
        "         'bagging_fraction': trial.suggest_uniform('bagging_fraction', 0.4, 1.0),\n",
        "         'bagging_freq': trial.suggest_int('bagging_freq', 1, 7),\n",
        "         'min_child_samples': trial.suggest_int('min_child_samples', 5, 100),\n",
        "     }\n",
        "\n",
        "     lgbm_regr = lgb.LGBMRegressor(**param)\n",
        "     gbm_2 = lgbm_regr.fit(h_train_X, h_train_y , eval_set = [(h_valid_X, h_valid_y)], verbose=False)\n",
        "     rmse = RMSE(h_valid_y, gbm_2.predict(h_valid_X))\n",
        "     return rmse\n",
        "\n",
        "study = optuna.create_study(direction='minimize', sampler=sampler)\n",
        "study.optimize(objective, n_trials=100)"
      ],
      "execution_count": null,
      "outputs": [
        {
          "output_type": "stream",
          "text": [
            "\u001b[32m[I 2021-06-04 09:21:07,591]\u001b[0m A new study created in memory with name: no-name-c53ab493-a2a2-46c6-8d95-2aeaa14b8c2a\u001b[0m\n",
            "\u001b[32m[I 2021-06-04 09:24:34,328]\u001b[0m Trial 0 finished with value: 0.2771212520232542 and parameters: {'lambda_l1': 0.014810344004555135, 'lambda_l2': 1.4656004675652718e-08, 'num_leaves': 254, 'max_depth': 8, 'n_estimators': 2844, 'feature_fraction': 0.5348779873185086, 'bagging_fraction': 0.5188377188557745, 'bagging_freq': 6, 'min_child_samples': 21}. Best is trial 0 with value: 0.2771212520232542.\u001b[0m\n",
            "\u001b[32m[I 2021-06-04 09:26:09,926]\u001b[0m Trial 1 finished with value: 0.29685155243488826 and parameters: {'lambda_l1': 5.090008568091192e-08, 'lambda_l2': 0.003040034742832493, 'num_leaves': 382, 'max_depth': 3, 'n_estimators': 2902, 'feature_fraction': 0.8875725769912681, 'bagging_fraction': 0.7675156400976328, 'bagging_freq': 6, 'min_child_samples': 33}. Best is trial 0 with value: 0.2771212520232542.\u001b[0m\n",
            "\u001b[32m[I 2021-06-04 09:27:21,525]\u001b[0m Trial 2 finished with value: 0.2969761603138836 and parameters: {'lambda_l1': 0.21988367156694333, 'lambda_l2': 0.005207224083783965, 'num_leaves': 218, 'max_depth': 3, 'n_estimators': 2305, 'feature_fraction': 0.8044801690398071, 'bagging_fraction': 0.6650999046537976, 'bagging_freq': 4, 'min_child_samples': 64}. Best is trial 0 with value: 0.2771212520232542.\u001b[0m\n",
            "\u001b[32m[I 2021-06-04 09:30:33,786]\u001b[0m Trial 3 finished with value: 0.2672982432263315 and parameters: {'lambda_l1': 0.00012738137732610437, 'lambda_l2': 0.0015965313667163816, 'num_leaves': 241, 'max_depth': 8, 'n_estimators': 2943, 'feature_fraction': 0.945189328485201, 'bagging_fraction': 0.5915416533931271, 'bagging_freq': 1, 'min_child_samples': 33}. Best is trial 3 with value: 0.2672982432263315.\u001b[0m\n",
            "\u001b[32m[I 2021-06-04 09:32:20,656]\u001b[0m Trial 4 finished with value: 0.28337435726123267 and parameters: {'lambda_l1': 8.163471763379958e-08, 'lambda_l2': 0.042604022999246406, 'num_leaves': 20, 'max_depth': 7, 'n_estimators': 3055, 'feature_fraction': 0.8915721974020412, 'bagging_fraction': 0.5193685238072874, 'bagging_freq': 6, 'min_child_samples': 38}. Best is trial 3 with value: 0.2672982432263315.\u001b[0m\n",
            "\u001b[32m[I 2021-06-04 09:33:23,820]\u001b[0m Trial 5 finished with value: 0.2880902421799047 and parameters: {'lambda_l1': 0.010893853540963833, 'lambda_l2': 2.3318126555538504e-06, 'num_leaves': 354, 'max_depth': 5, 'n_estimators': 1409, 'feature_fraction': 0.6355175463679523, 'bagging_fraction': 0.4560762247351902, 'bagging_freq': 6, 'min_child_samples': 19}. Best is trial 3 with value: 0.2672982432263315.\u001b[0m\n",
            "\u001b[32m[I 2021-06-04 09:37:30,070]\u001b[0m Trial 6 finished with value: 0.28150657437870724 and parameters: {'lambda_l1': 1.1828116394242723e-05, 'lambda_l2': 0.3581671060741645, 'num_leaves': 396, 'max_depth': 6, 'n_estimators': 4253, 'feature_fraction': 0.5508244805242356, 'bagging_fraction': 0.7584229889385306, 'bagging_freq': 7, 'min_child_samples': 56}. Best is trial 3 with value: 0.2672982432263315.\u001b[0m\n",
            "\u001b[32m[I 2021-06-04 09:38:25,945]\u001b[0m Trial 7 finished with value: 0.29821125170009793 and parameters: {'lambda_l1': 0.0005267577135346555, 'lambda_l2': 2.0618360930258403e-08, 'num_leaves': 144, 'max_depth': 3, 'n_estimators': 2013, 'feature_fraction': 0.5984315871892792, 'bagging_fraction': 0.8642981777263575, 'bagging_freq': 1, 'min_child_samples': 46}. Best is trial 3 with value: 0.2672982432263315.\u001b[0m\n",
            "\u001b[32m[I 2021-06-04 09:41:10,606]\u001b[0m Trial 8 finished with value: 0.2949631537260666 and parameters: {'lambda_l1': 3.3068536483753737e-06, 'lambda_l2': 0.0012357458041729475, 'num_leaves': 140, 'max_depth': 3, 'n_estimators': 4484, 'feature_fraction': 0.8579443522862087, 'bagging_fraction': 0.926857985634915, 'bagging_freq': 3, 'min_child_samples': 63}. Best is trial 3 with value: 0.2672982432263315.\u001b[0m\n",
            "\u001b[32m[I 2021-06-04 09:41:49,244]\u001b[0m Trial 9 finished with value: 0.2923555136499609 and parameters: {'lambda_l1': 0.0001281542517497079, 'lambda_l2': 0.0006063078395671604, 'num_leaves': 106, 'max_depth': 5, 'n_estimators': 809, 'feature_fraction': 0.5818375363906209, 'bagging_fraction': 0.5452455252421164, 'bagging_freq': 4, 'min_child_samples': 59}. Best is trial 3 with value: 0.2672982432263315.\u001b[0m\n",
            "\u001b[32m[I 2021-06-04 09:46:22,068]\u001b[0m Trial 10 finished with value: 0.26578430886329896 and parameters: {'lambda_l1': 2.8850899106925093e-06, 'lambda_l2': 2.1915803658880983e-05, 'num_leaves': 296, 'max_depth': 9, 'n_estimators': 3584, 'feature_fraction': 0.9829499664972009, 'bagging_fraction': 0.6332740884655743, 'bagging_freq': 1, 'min_child_samples': 90}. Best is trial 10 with value: 0.26578430886329896.\u001b[0m\n",
            "\u001b[32m[I 2021-06-04 09:51:08,123]\u001b[0m Trial 11 finished with value: 0.2658877432114492 and parameters: {'lambda_l1': 2.43147820991882e-06, 'lambda_l2': 9.299914558177969e-06, 'num_leaves': 287, 'max_depth': 9, 'n_estimators': 3715, 'feature_fraction': 0.9991122238129395, 'bagging_fraction': 0.635455888183523, 'bagging_freq': 1, 'min_child_samples': 99}. Best is trial 10 with value: 0.26578430886329896.\u001b[0m\n",
            "\u001b[32m[I 2021-06-04 09:57:26,816]\u001b[0m Trial 12 finished with value: 0.2655709906176749 and parameters: {'lambda_l1': 1.2139262891327981e-06, 'lambda_l2': 6.004414374739026e-06, 'num_leaves': 311, 'max_depth': 9, 'n_estimators': 3879, 'feature_fraction': 0.9943071015136323, 'bagging_fraction': 0.6646334986681111, 'bagging_freq': 2, 'min_child_samples': 99}. Best is trial 12 with value: 0.2655709906176749.\u001b[0m\n",
            "\u001b[32m[I 2021-06-04 10:04:53,743]\u001b[0m Trial 13 finished with value: 0.28659462107795886 and parameters: {'lambda_l1': 3.0098971456471477e-07, 'lambda_l2': 9.930087746181152e-07, 'num_leaves': 330, 'max_depth': 9, 'n_estimators': 4990, 'feature_fraction': 0.41844661211798795, 'bagging_fraction': 0.7431164233406272, 'bagging_freq': 2, 'min_child_samples': 93}. Best is trial 12 with value: 0.2655709906176749.\u001b[0m\n",
            "\u001b[32m[I 2021-06-04 10:10:36,560]\u001b[0m Trial 14 finished with value: 0.2681264112552887 and parameters: {'lambda_l1': 1.1761335055684152e-08, 'lambda_l2': 3.280208566412269e-05, 'num_leaves': 304, 'max_depth': 9, 'n_estimators': 3694, 'feature_fraction': 0.7594280101689121, 'bagging_fraction': 0.42905083800916544, 'bagging_freq': 2, 'min_child_samples': 82}. Best is trial 12 with value: 0.2655709906176749.\u001b[0m\n",
            "\u001b[32m[I 2021-06-04 10:15:43,888]\u001b[0m Trial 15 finished with value: 0.26751252618956206 and parameters: {'lambda_l1': 1.1190913401416027e-06, 'lambda_l2': 2.438045180218331e-07, 'num_leaves': 281, 'max_depth': 8, 'n_estimators': 3787, 'feature_fraction': 0.9970265533727153, 'bagging_fraction': 0.6894971004501609, 'bagging_freq': 2, 'min_child_samples': 82}. Best is trial 12 with value: 0.2655709906176749.\u001b[0m\n",
            "\u001b[32m[I 2021-06-04 10:21:39,287]\u001b[0m Trial 16 finished with value: 0.26950363544139777 and parameters: {'lambda_l1': 1.4759756666230795e-05, 'lambda_l2': 0.00010773572182940973, 'num_leaves': 183, 'max_depth': 7, 'n_estimators': 4888, 'feature_fraction': 0.9592124084612702, 'bagging_fraction': 0.8265480478376499, 'bagging_freq': 3, 'min_child_samples': 80}. Best is trial 12 with value: 0.2655709906176749.\u001b[0m\n",
            "\u001b[32m[I 2021-06-04 10:28:32,717]\u001b[0m Trial 17 finished with value: 0.2692911945550466 and parameters: {'lambda_l1': 3.112222922517442e-07, 'lambda_l2': 1.2262708032177313e-07, 'num_leaves': 349, 'max_depth': 9, 'n_estimators': 4250, 'feature_fraction': 0.711080089903149, 'bagging_fraction': 0.6031603115116247, 'bagging_freq': 3, 'min_child_samples': 99}. Best is trial 12 with value: 0.2655709906176749.\u001b[0m\n",
            "\u001b[32m[I 2021-06-04 10:31:37,024]\u001b[0m Trial 18 finished with value: 0.2730251306055265 and parameters: {'lambda_l1': 1.127060082176947e-08, 'lambda_l2': 9.658819067629666e-05, 'num_leaves': 316, 'max_depth': 7, 'n_estimators': 3445, 'feature_fraction': 0.8254834073659074, 'bagging_fraction': 0.7058520599435056, 'bagging_freq': 1, 'min_child_samples': 74}. Best is trial 12 with value: 0.2655709906176749.\u001b[0m\n",
            "\u001b[32m[I 2021-06-04 10:38:30,464]\u001b[0m Trial 19 finished with value: 0.2664503709667477 and parameters: {'lambda_l1': 0.0013085645371755219, 'lambda_l2': 8.401286298176106e-06, 'num_leaves': 397, 'max_depth': 8, 'n_estimators': 4566, 'feature_fraction': 0.9331925137014487, 'bagging_fraction': 0.8463114713253793, 'bagging_freq': 2, 'min_child_samples': 91}. Best is trial 12 with value: 0.2655709906176749.\u001b[0m\n",
            "\u001b[32m[I 2021-06-04 10:40:35,722]\u001b[0m Trial 20 finished with value: 0.2909932659380939 and parameters: {'lambda_l1': 2.0842754793459605e-05, 'lambda_l2': 6.1107591319229e-07, 'num_leaves': 258, 'max_depth': 6, 'n_estimators': 2437, 'feature_fraction': 0.4141756869358541, 'bagging_fraction': 0.5919542621024723, 'bagging_freq': 5, 'min_child_samples': 70}. Best is trial 12 with value: 0.2655709906176749.\u001b[0m\n",
            "\u001b[32m[I 2021-06-04 10:45:22,668]\u001b[0m Trial 21 finished with value: 0.2655734612302427 and parameters: {'lambda_l1': 1.0047138227847937e-06, 'lambda_l2': 7.555550757322599e-06, 'num_leaves': 288, 'max_depth': 9, 'n_estimators': 3832, 'feature_fraction': 0.9761268156162289, 'bagging_fraction': 0.6821246746966043, 'bagging_freq': 1, 'min_child_samples': 96}. Best is trial 12 with value: 0.2655709906176749.\u001b[0m\n",
            "\u001b[32m[I 2021-06-04 10:49:18,991]\u001b[0m Trial 22 finished with value: 0.2661875435928779 and parameters: {'lambda_l1': 5.551742591583532e-07, 'lambda_l2': 6.072750755991096e-06, 'num_leaves': 198, 'max_depth': 9, 'n_estimators': 3397, 'feature_fraction': 0.9398002286072079, 'bagging_fraction': 0.6511551447066224, 'bagging_freq': 1, 'min_child_samples': 92}. Best is trial 12 with value: 0.2655709906176749.\u001b[0m\n",
            "\u001b[32m[I 2021-06-04 10:54:58,463]\u001b[0m Trial 23 finished with value: 0.2682785373436077 and parameters: {'lambda_l1': 5.945779724721092e-08, 'lambda_l2': 4.421406204594713e-05, 'num_leaves': 369, 'max_depth': 8, 'n_estimators': 4003, 'feature_fraction': 0.9904199293855999, 'bagging_fraction': 0.7123229955538015, 'bagging_freq': 2, 'min_child_samples': 98}. Best is trial 12 with value: 0.2655709906176749.\u001b[0m\n",
            "\u001b[32m[I 2021-06-04 10:59:25,759]\u001b[0m Trial 24 finished with value: 0.26315324087274405 and parameters: {'lambda_l1': 3.883403904530345e-06, 'lambda_l2': 0.0003588340776638644, 'num_leaves': 314, 'max_depth': 9, 'n_estimators': 3232, 'feature_fraction': 0.8952039546155488, 'bagging_fraction': 0.7932163463597408, 'bagging_freq': 1, 'min_child_samples': 6}. Best is trial 24 with value: 0.26315324087274405.\u001b[0m\n",
            "\u001b[32m[I 2021-06-04 11:04:12,060]\u001b[0m Trial 25 finished with value: 0.2651269289586199 and parameters: {'lambda_l1': 3.352892443276366e-05, 'lambda_l2': 0.0001506044938532256, 'num_leaves': 329, 'max_depth': 8, 'n_estimators': 3274, 'feature_fraction': 0.9035447179961108, 'bagging_fraction': 0.8110574022734958, 'bagging_freq': 3, 'min_child_samples': 7}. Best is trial 24 with value: 0.26315324087274405.\u001b[0m\n",
            "\u001b[32m[I 2021-06-04 11:08:14,586]\u001b[0m Trial 26 finished with value: 0.2728062244570027 and parameters: {'lambda_l1': 4.7242927080919926e-05, 'lambda_l2': 0.00028660974647547074, 'num_leaves': 334, 'max_depth': 7, 'n_estimators': 3186, 'feature_fraction': 0.776811215476513, 'bagging_fraction': 0.9578790095742291, 'bagging_freq': 3, 'min_child_samples': 11}. Best is trial 24 with value: 0.26315324087274405.\u001b[0m\n",
            "\u001b[32m[I 2021-06-04 11:12:01,964]\u001b[0m Trial 27 finished with value: 0.2669001864997411 and parameters: {'lambda_l1': 0.00046462853849755685, 'lambda_l2': 0.04798435562177242, 'num_leaves': 371, 'max_depth': 8, 'n_estimators': 2583, 'feature_fraction': 0.9013592729854308, 'bagging_fraction': 0.7984031945629668, 'bagging_freq': 3, 'min_child_samples': 6}. Best is trial 24 with value: 0.26315324087274405.\u001b[0m\n",
            "\u001b[32m[I 2021-06-04 11:15:22,271]\u001b[0m Trial 28 finished with value: 0.2715446298528831 and parameters: {'lambda_l1': 8.313719137541918e-06, 'lambda_l2': 0.00023700968841527126, 'num_leaves': 328, 'max_depth': 8, 'n_estimators': 2110, 'feature_fraction': 0.8480017245902195, 'bagging_fraction': 0.8948944106692018, 'bagging_freq': 2, 'min_child_samples': 5}. Best is trial 24 with value: 0.26315324087274405.\u001b[0m\n",
            "\u001b[32m[I 2021-06-04 11:19:17,587]\u001b[0m Trial 29 finished with value: 0.2747933773871398 and parameters: {'lambda_l1': 0.003648782837459826, 'lambda_l2': 0.008259478625178006, 'num_leaves': 254, 'max_depth': 7, 'n_estimators': 3251, 'feature_fraction': 0.6941645403963725, 'bagging_fraction': 0.7876209659202518, 'bagging_freq': 4, 'min_child_samples': 17}. Best is trial 24 with value: 0.26315324087274405.\u001b[0m\n",
            "\u001b[32m[I 2021-06-04 11:23:24,967]\u001b[0m Trial 30 finished with value: 0.2773883437545004 and parameters: {'lambda_l1': 5.912380476460724e-05, 'lambda_l2': 0.02183103491722591, 'num_leaves': 266, 'max_depth': 8, 'n_estimators': 2728, 'feature_fraction': 0.4656551354255699, 'bagging_fraction': 0.9875579169262594, 'bagging_freq': 3, 'min_child_samples': 26}. Best is trial 24 with value: 0.26315324087274405.\u001b[0m\n",
            "\u001b[32m[I 2021-06-04 11:30:01,070]\u001b[0m Trial 31 finished with value: 0.26398385367705485 and parameters: {'lambda_l1': 1.2156290895874906e-06, 'lambda_l2': 2.3015264196018107e-06, 'num_leaves': 224, 'max_depth': 9, 'n_estimators': 3981, 'feature_fraction': 0.9097964217499075, 'bagging_fraction': 0.7221705179231144, 'bagging_freq': 2, 'min_child_samples': 48}. Best is trial 24 with value: 0.26315324087274405.\u001b[0m\n",
            "\u001b[32m[I 2021-06-04 11:37:06,549]\u001b[0m Trial 32 finished with value: 0.2640596353200332 and parameters: {'lambda_l1': 1.8012812569618854e-07, 'lambda_l2': 3.934735028395169e-08, 'num_leaves': 225, 'max_depth': 9, 'n_estimators': 4140, 'feature_fraction': 0.908462490277179, 'bagging_fraction': 0.7342931382358926, 'bagging_freq': 2, 'min_child_samples': 48}. Best is trial 24 with value: 0.26315324087274405.\u001b[0m\n",
            "\u001b[32m[I 2021-06-04 11:44:08,583]\u001b[0m Trial 33 finished with value: 0.2639971505804038 and parameters: {'lambda_l1': 1.3991274867546995e-07, 'lambda_l2': 1.602018547877341e-08, 'num_leaves': 227, 'max_depth': 9, 'n_estimators': 4187, 'feature_fraction': 0.905353314769164, 'bagging_fraction': 0.7335344407941858, 'bagging_freq': 2, 'min_child_samples': 43}. Best is trial 24 with value: 0.26315324087274405.\u001b[0m\n",
            "\u001b[32m[I 2021-06-04 11:52:25,417]\u001b[0m Trial 34 finished with value: 0.26385696966843847 and parameters: {'lambda_l1': 1.3711841424716362e-07, 'lambda_l2': 1.4980516862143176e-08, 'num_leaves': 220, 'max_depth': 9, 'n_estimators': 4722, 'feature_fraction': 0.8611417538446641, 'bagging_fraction': 0.7373311780649178, 'bagging_freq': 2, 'min_child_samples': 48}. Best is trial 24 with value: 0.26315324087274405.\u001b[0m\n",
            "\u001b[32m[I 2021-06-04 11:59:44,365]\u001b[0m Trial 35 finished with value: 0.2636624977460685 and parameters: {'lambda_l1': 2.3470814237602207e-08, 'lambda_l2': 1.4608189943996093e-08, 'num_leaves': 178, 'max_depth': 9, 'n_estimators': 4697, 'feature_fraction': 0.8700437830848348, 'bagging_fraction': 0.773263700645117, 'bagging_freq': 5, 'min_child_samples': 41}. Best is trial 24 with value: 0.26315324087274405.\u001b[0m\n",
            "\u001b[32m[I 2021-06-04 12:06:48,281]\u001b[0m Trial 36 finished with value: 0.2676780349642286 and parameters: {'lambda_l1': 2.400141702764495e-08, 'lambda_l2': 7.836188623607858e-08, 'num_leaves': 172, 'max_depth': 8, 'n_estimators': 4706, 'feature_fraction': 0.8015520901638679, 'bagging_fraction': 0.774260496794419, 'bagging_freq': 5, 'min_child_samples': 31}. Best is trial 24 with value: 0.26315324087274405.\u001b[0m\n",
            "\u001b[32m[I 2021-06-04 12:09:50,780]\u001b[0m Trial 37 finished with value: 0.2880449226797178 and parameters: {'lambda_l1': 3.9536274731887234e-08, 'lambda_l2': 1.2261426807843967e-08, 'num_leaves': 53, 'max_depth': 4, 'n_estimators': 4436, 'feature_fraction': 0.8568420800039546, 'bagging_fraction': 0.8800443716984242, 'bagging_freq': 5, 'min_child_samples': 38}. Best is trial 24 with value: 0.26315324087274405.\u001b[0m\n",
            "\u001b[32m[I 2021-06-04 12:13:48,203]\u001b[0m Trial 38 finished with value: 0.2693088501080038 and parameters: {'lambda_l1': 5.310684998401958e-06, 'lambda_l2': 3.976443240112186e-07, 'num_leaves': 141, 'max_depth': 9, 'n_estimators': 2904, 'feature_fraction': 0.7364222475549085, 'bagging_fraction': 0.8382605479138953, 'bagging_freq': 6, 'min_child_samples': 51}. Best is trial 24 with value: 0.26315324087274405.\u001b[0m\n",
            "\u001b[32m[I 2021-06-04 12:20:02,638]\u001b[0m Trial 39 finished with value: 0.26664694160462804 and parameters: {'lambda_l1': 0.8003555742065401, 'lambda_l2': 1.617353874983462e-06, 'num_leaves': 112, 'max_depth': 8, 'n_estimators': 4891, 'feature_fraction': 0.8709014423982042, 'bagging_fraction': 0.7728466337366194, 'bagging_freq': 7, 'min_child_samples': 40}. Best is trial 24 with value: 0.26315324087274405.\u001b[0m\n",
            "\u001b[32m[I 2021-06-04 12:28:25,650]\u001b[0m Trial 40 finished with value: 0.2652708972002139 and parameters: {'lambda_l1': 2.1181479798278624e-08, 'lambda_l2': 5.109138668818411e-08, 'num_leaves': 203, 'max_depth': 9, 'n_estimators': 4771, 'feature_fraction': 0.8230369688212167, 'bagging_fraction': 0.9011565929882825, 'bagging_freq': 5, 'min_child_samples': 55}. Best is trial 24 with value: 0.26315324087274405.\u001b[0m\n",
            "\u001b[32m[I 2021-06-04 12:34:34,411]\u001b[0m Trial 41 finished with value: 0.2636348370109244 and parameters: {'lambda_l1': 1.0642834536263679e-07, 'lambda_l2': 1.1774540961677871e-08, 'num_leaves': 231, 'max_depth': 9, 'n_estimators': 4360, 'feature_fraction': 0.9235606362928457, 'bagging_fraction': 0.725452098725048, 'bagging_freq': 1, 'min_child_samples': 43}. Best is trial 24 with value: 0.26315324087274405.\u001b[0m\n",
            "\u001b[32m[I 2021-06-04 12:40:08,190]\u001b[0m Trial 42 finished with value: 0.2632082726901008 and parameters: {'lambda_l1': 8.784441243670471e-08, 'lambda_l2': 1.5889673262268428e-07, 'num_leaves': 169, 'max_depth': 9, 'n_estimators': 4508, 'feature_fraction': 0.9284244148112355, 'bagging_fraction': 0.7289849882410995, 'bagging_freq': 1, 'min_child_samples': 33}. Best is trial 24 with value: 0.26315324087274405.\u001b[0m\n",
            "\u001b[32m[I 2021-06-04 12:45:21,791]\u001b[0m Trial 43 finished with value: 0.2628542075379881 and parameters: {'lambda_l1': 5.729316363107868e-08, 'lambda_l2': 2.8776720882656268e-08, 'num_leaves': 164, 'max_depth': 9, 'n_estimators': 4439, 'feature_fraction': 0.9462604581153061, 'bagging_fraction': 0.7614679435604069, 'bagging_freq': 1, 'min_child_samples': 30}. Best is trial 43 with value: 0.2628542075379881.\u001b[0m\n",
            "\u001b[32m[I 2021-06-04 12:50:44,075]\u001b[0m Trial 44 finished with value: 0.26300504999587465 and parameters: {'lambda_l1': 3.4518197708953704e-08, 'lambda_l2': 1.926425088758376e-07, 'num_leaves': 168, 'max_depth': 9, 'n_estimators': 4517, 'feature_fraction': 0.9408450374583223, 'bagging_fraction': 0.7631032842805084, 'bagging_freq': 1, 'min_child_samples': 31}. Best is trial 43 with value: 0.2628542075379881.\u001b[0m\n",
            "\u001b[32m[I 2021-06-04 12:54:53,277]\u001b[0m Trial 45 finished with value: 0.2657914573693799 and parameters: {'lambda_l1': 6.92683974663336e-08, 'lambda_l2': 1.752788201888273e-07, 'num_leaves': 111, 'max_depth': 8, 'n_estimators': 4452, 'feature_fraction': 0.9571155282741006, 'bagging_fraction': 0.8103264105778792, 'bagging_freq': 1, 'min_child_samples': 28}. Best is trial 43 with value: 0.2628542075379881.\u001b[0m\n",
            "\u001b[32m[I 2021-06-04 12:59:48,359]\u001b[0m Trial 46 finished with value: 0.2638119664504002 and parameters: {'lambda_l1': 5.173542093904346e-07, 'lambda_l2': 3.97599646142645e-08, 'num_leaves': 152, 'max_depth': 9, 'n_estimators': 4337, 'feature_fraction': 0.9330174622047355, 'bagging_fraction': 0.7559033155093908, 'bagging_freq': 1, 'min_child_samples': 35}. Best is trial 43 with value: 0.2628542075379881.\u001b[0m\n",
            "\u001b[32m[I 2021-06-04 13:00:47,162]\u001b[0m Trial 47 finished with value: 0.28901976585305544 and parameters: {'lambda_l1': 1.0165571221953885e-08, 'lambda_l2': 0.0012997738239144078, 'num_leaves': 75, 'max_depth': 5, 'n_estimators': 1417, 'feature_fraction': 0.9619849176425237, 'bagging_fraction': 0.6888661189820673, 'bagging_freq': 1, 'min_child_samples': 22}. Best is trial 43 with value: 0.2628542075379881.\u001b[0m\n",
            "\u001b[32m[I 2021-06-04 13:05:48,325]\u001b[0m Trial 48 finished with value: 0.2639220253281114 and parameters: {'lambda_l1': 9.121031410463699e-08, 'lambda_l2': 1.0949996592965701e-07, 'num_leaves': 158, 'max_depth': 8, 'n_estimators': 4534, 'feature_fraction': 0.9428973875883688, 'bagging_fraction': 0.8563765212089463, 'bagging_freq': 1, 'min_child_samples': 16}. Best is trial 43 with value: 0.2628542075379881.\u001b[0m\n",
            "\u001b[32m[I 2021-06-04 13:09:49,163]\u001b[0m Trial 49 finished with value: 0.2649164295278876 and parameters: {'lambda_l1': 2.9218120009347646e-07, 'lambda_l2': 3.0300520153058013e-07, 'num_leaves': 126, 'max_depth': 9, 'n_estimators': 4041, 'feature_fraction': 0.9243960797037715, 'bagging_fraction': 0.6213052671705357, 'bagging_freq': 1, 'min_child_samples': 24}. Best is trial 43 with value: 0.2628542075379881.\u001b[0m\n",
            "\u001b[32m[I 2021-06-04 13:14:27,033]\u001b[0m Trial 50 finished with value: 0.26419902165165815 and parameters: {'lambda_l1': 3.534796433996805e-08, 'lambda_l2': 3.094799393418603e-08, 'num_leaves': 201, 'max_depth': 9, 'n_estimators': 3615, 'feature_fraction': 0.8841565676283611, 'bagging_fraction': 0.56438495257417, 'bagging_freq': 1, 'min_child_samples': 30}. Best is trial 43 with value: 0.2628542075379881.\u001b[0m\n",
            "\u001b[32m[I 2021-06-04 13:21:43,700]\u001b[0m Trial 51 finished with value: 0.26586769782839376 and parameters: {'lambda_l1': 2.0244207940306752e-08, 'lambda_l2': 1.3995624893778167e-08, 'num_leaves': 178, 'max_depth': 9, 'n_estimators': 4666, 'feature_fraction': 0.8321482398927984, 'bagging_fraction': 0.7609837347516999, 'bagging_freq': 6, 'min_child_samples': 35}. Best is trial 43 with value: 0.2628542075379881.\u001b[0m\n",
            "\u001b[32m[I 2021-06-04 13:25:46,239]\u001b[0m Trial 52 finished with value: 0.26582196405616054 and parameters: {'lambda_l1': 5.704391307328521e-08, 'lambda_l2': 1.0482241909635743e-08, 'num_leaves': 88, 'max_depth': 9, 'n_estimators': 4936, 'feature_fraction': 0.8832386193930193, 'bagging_fraction': 0.7808921337938318, 'bagging_freq': 1, 'min_child_samples': 43}. Best is trial 43 with value: 0.2628542075379881.\u001b[0m\n",
            "\u001b[32m[I 2021-06-04 13:32:16,977]\u001b[0m Trial 53 finished with value: 0.2637554217719676 and parameters: {'lambda_l1': 1.4352608008591548e-08, 'lambda_l2': 0.0026421385164258297, 'num_leaves': 166, 'max_depth': 9, 'n_estimators': 4298, 'feature_fraction': 0.9695509540174652, 'bagging_fraction': 0.6654266844784406, 'bagging_freq': 4, 'min_child_samples': 40}. Best is trial 43 with value: 0.2628542075379881.\u001b[0m\n",
            "\u001b[32m[I 2021-06-04 13:38:57,581]\u001b[0m Trial 54 finished with value: 0.2623861406579762 and parameters: {'lambda_l1': 1.970758991133385e-07, 'lambda_l2': 0.0006053492878255306, 'num_leaves': 190, 'max_depth': 9, 'n_estimators': 4988, 'feature_fraction': 0.9265582346305439, 'bagging_fraction': 0.825530486138829, 'bagging_freq': 1, 'min_child_samples': 33}. Best is trial 54 with value: 0.2623861406579762.\u001b[0m\n",
            "\u001b[32m[I 2021-06-04 13:45:15,240]\u001b[0m Trial 55 finished with value: 0.26417447781792514 and parameters: {'lambda_l1': 2.5437172967972824e-06, 'lambda_l2': 0.0007548339765829024, 'num_leaves': 199, 'max_depth': 8, 'n_estimators': 4987, 'feature_fraction': 0.9986739987836967, 'bagging_fraction': 0.8244197390041851, 'bagging_freq': 1, 'min_child_samples': 34}. Best is trial 54 with value: 0.2623861406579762.\u001b[0m\n",
            "\u001b[32m[I 2021-06-04 13:49:25,706]\u001b[0m Trial 56 finished with value: 0.2636639557521121 and parameters: {'lambda_l1': 5.659228005376026e-07, 'lambda_l2': 0.00035909827479888473, 'num_leaves': 131, 'max_depth': 9, 'n_estimators': 4370, 'feature_fraction': 0.9251747239725527, 'bagging_fraction': 0.7070323838567089, 'bagging_freq': 1, 'min_child_samples': 13}. Best is trial 54 with value: 0.2623861406579762.\u001b[0m\n",
            "\u001b[32m[I 2021-06-04 13:54:54,054]\u001b[0m Trial 57 finished with value: 0.2655821796101823 and parameters: {'lambda_l1': 1.6024914771513448e-07, 'lambda_l2': 0.005010973178681982, 'num_leaves': 239, 'max_depth': 8, 'n_estimators': 4605, 'feature_fraction': 0.9806748177129556, 'bagging_fraction': 0.8073462118821763, 'bagging_freq': 1, 'min_child_samples': 60}. Best is trial 54 with value: 0.2623861406579762.\u001b[0m\n",
            "\u001b[32m[I 2021-06-04 13:56:36,957]\u001b[0m Trial 58 finished with value: 0.26925188858062404 and parameters: {'lambda_l1': 2.5775730141260987e-07, 'lambda_l2': 1.909523138000698e-05, 'num_leaves': 194, 'max_depth': 9, 'n_estimators': 1469, 'feature_fraction': 0.9516827982115312, 'bagging_fraction': 0.750068854682394, 'bagging_freq': 1, 'min_child_samples': 21}. Best is trial 54 with value: 0.2623861406579762.\u001b[0m\n",
            "\u001b[32m[I 2021-06-04 14:03:39,862]\u001b[0m Trial 59 finished with value: 0.26534489268349437 and parameters: {'lambda_l1': 8.202177345410546e-08, 'lambda_l2': 5.748513557458173e-07, 'num_leaves': 211, 'max_depth': 9, 'n_estimators': 4130, 'feature_fraction': 0.8003672785211946, 'bagging_fraction': 0.8313508260507335, 'bagging_freq': 2, 'min_child_samples': 27}. Best is trial 54 with value: 0.2623861406579762.\u001b[0m\n",
            "\u001b[32m[I 2021-06-04 14:07:42,911]\u001b[0m Trial 60 finished with value: 0.26530277626049836 and parameters: {'lambda_l1': 7.859117256043055e-07, 'lambda_l2': 8.130673498486901e-05, 'num_leaves': 156, 'max_depth': 8, 'n_estimators': 3869, 'feature_fraction': 0.920241115516142, 'bagging_fraction': 0.8756898002095826, 'bagging_freq': 1, 'min_child_samples': 31}. Best is trial 54 with value: 0.2623861406579762.\u001b[0m\n",
            "\u001b[32m[I 2021-06-04 14:14:05,097]\u001b[0m Trial 61 finished with value: 0.2631056345110855 and parameters: {'lambda_l1': 3.742437907144224e-08, 'lambda_l2': 0.0005378990410817629, 'num_leaves': 190, 'max_depth': 9, 'n_estimators': 4785, 'feature_fraction': 0.8820822505251382, 'bagging_fraction': 0.7942088690119717, 'bagging_freq': 1, 'min_child_samples': 43}. Best is trial 54 with value: 0.2623861406579762.\u001b[0m\n"
          ],
          "name": "stderr"
        }
      ]
    },
    {
      "cell_type": "code",
      "metadata": {
        "id": "_EGLWEtB33Qw"
      },
      "source": [
        "print('Best Trial: score {},\\nparams {}'.format(study.best_trial.value, study.best_trial.params))"
      ],
      "execution_count": null,
      "outputs": []
    },
    {
      "cell_type": "code",
      "metadata": {
        "id": "Piv0WnvoMZ-F"
      },
      "source": [
        "optuna.visualization.plot_param_importances(study)"
      ],
      "execution_count": null,
      "outputs": []
    },
    {
      "cell_type": "code",
      "metadata": {
        "id": "-yI06xHHnI74"
      },
      "source": [
        "optuna.visualization.plot_optimization_history(study)"
      ],
      "execution_count": null,
      "outputs": []
    },
    {
      "cell_type": "code",
      "metadata": {
        "id": "YgTiq-9cnMnb"
      },
      "source": [
        ""
      ],
      "execution_count": null,
      "outputs": []
    },
    {
      "cell_type": "code",
      "metadata": {
        "colab": {
          "base_uri": "https://localhost:8080/"
        },
        "id": "zzbrfIRrCpq5",
        "outputId": "8a7f67e2-e88c-48f2-8558-8a505224d79e"
      },
      "source": [
        "'lambda_l1': 5.053283684347473e-08, 'lambda_l2': 1.539868437981998e-08, 'num_leaves': 511, 'n_estimators': 9729, 'feature_fraction': 0.8747648706381312, 'bagging_fraction': 0.9320244715674311, 'bagging_freq': 4, 'min_child_samples': 13}. Best is trial 76 with value: 12933.169959971665."
      ],
      "execution_count": null,
      "outputs": [
        {
          "output_type": "stream",
          "text": [
            "\u001b[32m[I 2021-06-03 14:06:02,019]\u001b[0m A new study created in memory with name: no-name-b310a7b3-76a2-410d-b7ba-d5cf920cd3ce\u001b[0m\n",
            "\u001b[32m[I 2021-06-03 14:21:39,377]\u001b[0m Trial 0 finished with value: 13802.002824527683 and parameters: {'lambda_l1': 0.08747537025773001, 'lambda_l2': 1.537331564587801e-08, 'num_leaves': 325, 'n_estimators': 7664, 'feature_fraction': 0.6991042073815543, 'bagging_fraction': 0.5348779873185086, 'bagging_freq': 2, 'min_child_samples': 78}. Best is trial 0 with value: 13802.002824527683.\u001b[0m\n",
            "\u001b[32m[I 2021-06-03 14:39:31,506]\u001b[0m Trial 1 finished with value: 15409.857156590153 and parameters: {'lambda_l1': 3.32657660618516e-07, 'lambda_l2': 6.238186113062485e-08, 'num_leaves': 352, 'n_estimators': 9567, 'feature_fraction': 0.4023689597967487, 'bagging_fraction': 0.707315358031466, 'bagging_freq': 6, 'min_child_samples': 63}. Best is trial 0 with value: 13802.002824527683.\u001b[0m\n",
            "\u001b[32m[I 2021-06-03 14:55:54,488]\u001b[0m Trial 2 finished with value: 13530.140547303346 and parameters: {'lambda_l1': 0.03131827670437561, 'lambda_l2': 4.235304245072407e-06, 'num_leaves': 470, 'n_estimators': 7346, 'feature_fraction': 0.7255266208067568, 'bagging_fraction': 0.4853020285609162, 'bagging_freq': 3, 'min_child_samples': 69}. Best is trial 2 with value: 13530.140547303346.\u001b[0m\n",
            "\u001b[32m[I 2021-06-03 15:06:02,369]\u001b[0m Trial 3 finished with value: 13601.88110378459 and parameters: {'lambda_l1': 9.473240648272395e-05, 'lambda_l2': 8.056120247993029e-05, 'num_leaves': 317, 'n_estimators': 5472, 'feature_fraction': 0.7902383091588803, 'bagging_fraction': 0.7606233720427267, 'bagging_freq': 6, 'min_child_samples': 55}. Best is trial 2 with value: 13530.140547303346.\u001b[0m\n",
            "\u001b[32m[I 2021-06-03 15:08:43,265]\u001b[0m Trial 4 finished with value: 16762.1660177717 and parameters: {'lambda_l1': 1.5060518616773197, 'lambda_l2': 7.4666329224550155e-06, 'num_leaves': 48, 'n_estimators': 3496, 'feature_fraction': 0.4683906171181299, 'bagging_fraction': 0.897208795784606, 'bagging_freq': 1, 'min_child_samples': 65}. Best is trial 2 with value: 13530.140547303346.\u001b[0m\n",
            "\u001b[32m[I 2021-06-03 15:19:05,661]\u001b[0m Trial 5 finished with value: 14506.343832290855 and parameters: {'lambda_l1': 0.0008477648448701759, 'lambda_l2': 0.23636488716609746, 'num_leaves': 103, 'n_estimators': 8669, 'feature_fraction': 0.6109915836592528, 'bagging_fraction': 0.8527886149179144, 'bagging_freq': 3, 'min_child_samples': 89}. Best is trial 2 with value: 13530.140547303346.\u001b[0m\n",
            "\u001b[32m[I 2021-06-03 15:21:12,865]\u001b[0m Trial 6 finished with value: 15077.662324901767 and parameters: {'lambda_l1': 8.503637539944912e-06, 'lambda_l2': 3.055927730910031e-07, 'num_leaves': 202, 'n_estimators': 1569, 'feature_fraction': 0.892663394702157, 'bagging_fraction': 0.4906912117855383, 'bagging_freq': 3, 'min_child_samples': 95}. Best is trial 2 with value: 13530.140547303346.\u001b[0m\n",
            "\u001b[32m[I 2021-06-03 15:28:25,255]\u001b[0m Trial 7 finished with value: 14148.577947949583 and parameters: {'lambda_l1': 7.738009776978926, 'lambda_l2': 0.00012786183233975197, 'num_leaves': 424, 'n_estimators': 3038, 'feature_fraction': 0.7584229889385306, 'bagging_fraction': 0.9416990561989764, 'bagging_freq': 4, 'min_child_samples': 61}. Best is trial 2 with value: 13530.140547303346.\u001b[0m\n",
            "\u001b[32m[I 2021-06-03 15:30:46,526]\u001b[0m Trial 8 finished with value: 16299.688822283912 and parameters: {'lambda_l1': 2.2570225857344917e-08, 'lambda_l2': 1.6392146534756105e-05, 'num_leaves': 42, 'n_estimators': 3541, 'feature_fraction': 0.5984315871892792, 'bagging_fraction': 0.8642981777263575, 'bagging_freq': 1, 'min_child_samples': 46}. Best is trial 2 with value: 13530.140547303346.\u001b[0m\n",
            "\u001b[32m[I 2021-06-03 15:32:23,624]\u001b[0m Trial 9 finished with value: 15480.046688094528 and parameters: {'lambda_l1': 6.828759954126584e-06, 'lambda_l2': 0.005350819333765382, 'num_leaves': 178, 'n_estimators': 1100, 'feature_fraction': 0.9279491047107497, 'bagging_fraction': 0.8579443522862087, 'bagging_freq': 7, 'min_child_samples': 45}. Best is trial 2 with value: 13530.140547303346.\u001b[0m\n",
            "\u001b[32m[I 2021-06-03 15:46:18,175]\u001b[0m Trial 10 finished with value: 13900.986692192462 and parameters: {'lambda_l1': 0.024459109888817828, 'lambda_l2': 0.01883010285692816, 'num_leaves': 506, 'n_estimators': 6377, 'feature_fraction': 0.5590416336684327, 'bagging_fraction': 0.4060026776049922, 'bagging_freq': 4, 'min_child_samples': 15}. Best is trial 2 with value: 13530.140547303346.\u001b[0m\n",
            "\u001b[32m[I 2021-06-03 15:57:43,415]\u001b[0m Trial 11 finished with value: 13290.06105795862 and parameters: {'lambda_l1': 0.0009368541313293527, 'lambda_l2': 1.3427200755557916e-06, 'num_leaves': 505, 'n_estimators': 5652, 'feature_fraction': 0.7999700663944492, 'bagging_fraction': 0.6895755106816878, 'bagging_freq': 6, 'min_child_samples': 27}. Best is trial 11 with value: 13290.06105795862.\u001b[0m\n",
            "\u001b[32m[I 2021-06-03 16:10:54,083]\u001b[0m Trial 12 finished with value: 13222.190070414192 and parameters: {'lambda_l1': 0.005506291536270366, 'lambda_l2': 9.181391226570549e-07, 'num_leaves': 511, 'n_estimators': 6830, 'feature_fraction': 0.83417034653684, 'bagging_fraction': 0.6065596083215524, 'bagging_freq': 5, 'min_child_samples': 20}. Best is trial 12 with value: 13222.190070414192.\u001b[0m\n",
            "\u001b[32m[I 2021-06-03 16:19:42,568]\u001b[0m Trial 13 finished with value: 13378.156663053636 and parameters: {'lambda_l1': 0.001086797382766752, 'lambda_l2': 9.103223868451635e-07, 'num_leaves': 422, 'n_estimators': 5001, 'feature_fraction': 0.8498311065668508, 'bagging_fraction': 0.6175387613040415, 'bagging_freq': 5, 'min_child_samples': 16}. Best is trial 12 with value: 13222.190070414192.\u001b[0m\n",
            "\u001b[32m[I 2021-06-03 16:29:07,229]\u001b[0m Trial 14 finished with value: 13410.575831408003 and parameters: {'lambda_l1': 0.00522270085431064, 'lambda_l2': 1.0455951184580141e-08, 'num_leaves': 492, 'n_estimators': 5277, 'feature_fraction': 0.9865476153447565, 'bagging_fraction': 0.6131667734656334, 'bagging_freq': 7, 'min_child_samples': 30}. Best is trial 12 with value: 13222.190070414192.\u001b[0m\n",
            "\u001b[32m[I 2021-06-03 16:41:56,353]\u001b[0m Trial 15 finished with value: 13419.229221963107 and parameters: {'lambda_l1': 0.4034571094582441, 'lambda_l2': 1.4828818573972893e-07, 'num_leaves': 399, 'n_estimators': 6814, 'feature_fraction': 0.9923846386175773, 'bagging_fraction': 0.6277243677315315, 'bagging_freq': 5, 'min_child_samples': 31}. Best is trial 12 with value: 13222.190070414192.\u001b[0m\n",
            "\u001b[32m[I 2021-06-03 16:56:06,246]\u001b[0m Trial 16 finished with value: 13075.632914849122 and parameters: {'lambda_l1': 5.9762396153440016e-05, 'lambda_l2': 0.0010569315703720596, 'num_leaves': 503, 'n_estimators': 8545, 'feature_fraction': 0.830535172461503, 'bagging_fraction': 0.7607105571302295, 'bagging_freq': 6, 'min_child_samples': 8}. Best is trial 16 with value: 13075.632914849122.\u001b[0m\n",
            "\u001b[32m[I 2021-06-03 17:07:14,224]\u001b[0m Trial 17 finished with value: 13119.682622894685 and parameters: {'lambda_l1': 1.500622051946085e-05, 'lambda_l2': 0.0014190541329557227, 'num_leaves': 260, 'n_estimators': 9959, 'feature_fraction': 0.8608485612230176, 'bagging_fraction': 0.7424090705720054, 'bagging_freq': 5, 'min_child_samples': 7}. Best is trial 16 with value: 13075.632914849122.\u001b[0m\n",
            "\u001b[32m[I 2021-06-03 17:17:35,866]\u001b[0m Trial 18 finished with value: 13095.294047022353 and parameters: {'lambda_l1': 1.7083268809412886e-05, 'lambda_l2': 0.0014688029621515502, 'num_leaves': 237, 'n_estimators': 9888, 'feature_fraction': 0.8976814300180829, 'bagging_fraction': 0.7771767731936533, 'bagging_freq': 7, 'min_child_samples': 5}. Best is trial 16 with value: 13075.632914849122.\u001b[0m\n",
            "\u001b[32m[I 2021-06-03 17:27:17,281]\u001b[0m Trial 19 finished with value: 13204.602056791227 and parameters: {'lambda_l1': 1.0296641844203625e-06, 'lambda_l2': 4.383201228497211, 'num_leaves': 244, 'n_estimators': 8610, 'feature_fraction': 0.9395384887227995, 'bagging_fraction': 0.7983863644452005, 'bagging_freq': 7, 'min_child_samples': 7}. Best is trial 16 with value: 13075.632914849122.\u001b[0m\n",
            "\u001b[32m[I 2021-06-03 17:36:55,939]\u001b[0m Trial 20 finished with value: 13547.37459304972 and parameters: {'lambda_l1': 7.9469694823115e-05, 'lambda_l2': 0.14312385909719832, 'num_leaves': 149, 'n_estimators': 8992, 'feature_fraction': 0.9454314245295135, 'bagging_fraction': 0.7884094325606109, 'bagging_freq': 7, 'min_child_samples': 39}. Best is trial 16 with value: 13075.632914849122.\u001b[0m\n",
            "\u001b[32m[I 2021-06-03 17:47:28,043]\u001b[0m Trial 21 finished with value: 13126.837969996597 and parameters: {'lambda_l1': 1.1562695267651745e-05, 'lambda_l2': 0.0015763086777667277, 'num_leaves': 247, 'n_estimators': 9621, 'feature_fraction': 0.8714709298757984, 'bagging_fraction': 0.7281876945504818, 'bagging_freq': 6, 'min_child_samples': 5}. Best is trial 16 with value: 13075.632914849122.\u001b[0m\n",
            "\u001b[32m[I 2021-06-03 17:59:09,412]\u001b[0m Trial 22 finished with value: 13042.700405719375 and parameters: {'lambda_l1': 2.1401580400427662e-07, 'lambda_l2': 0.0006752287573430073, 'num_leaves': 299, 'n_estimators': 9925, 'feature_fraction': 0.8838527037388626, 'bagging_fraction': 0.6744499722432834, 'bagging_freq': 5, 'min_child_samples': 5}. Best is trial 22 with value: 13042.700405719375.\u001b[0m\n",
            "\u001b[32m[I 2021-06-03 18:13:11,073]\u001b[0m Trial 23 finished with value: 13572.426285371424 and parameters: {'lambda_l1': 2.7328593823031073e-08, 'lambda_l2': 0.00044937345141142276, 'num_leaves': 287, 'n_estimators': 8165, 'feature_fraction': 0.6879019459151559, 'bagging_fraction': 0.6785879753357733, 'bagging_freq': 6, 'min_child_samples': 11}. Best is trial 22 with value: 13042.700405719375.\u001b[0m\n",
            "\u001b[32m[I 2021-06-03 18:23:16,282]\u001b[0m Trial 24 finished with value: 13799.125823579761 and parameters: {'lambda_l1': 2.66234454875723e-07, 'lambda_l2': 0.02439698026212129, 'num_leaves': 116, 'n_estimators': 9615, 'feature_fraction': 0.8093277481946307, 'bagging_fraction': 0.9941890269642149, 'bagging_freq': 5, 'min_child_samples': 22}. Best is trial 22 with value: 13042.700405719375.\u001b[0m\n",
            "\u001b[32m[I 2021-06-03 18:34:37,570]\u001b[0m Trial 25 finished with value: 13026.020874195781 and parameters: {'lambda_l1': 1.40730082146714e-06, 'lambda_l2': 5.796114669193187e-05, 'num_leaves': 387, 'n_estimators': 8899, 'feature_fraction': 0.9061952198350458, 'bagging_fraction': 0.8066475461951896, 'bagging_freq': 7, 'min_child_samples': 5}. Best is trial 25 with value: 13026.020874195781.\u001b[0m\n",
            "\u001b[32m[I 2021-06-03 18:44:48,128]\u001b[0m Trial 26 finished with value: 13062.836340345639 and parameters: {'lambda_l1': 1.0770253336031344e-06, 'lambda_l2': 4.2106018034294286e-05, 'num_leaves': 364, 'n_estimators': 8007, 'feature_fraction': 0.9629778811009746, 'bagging_fraction': 0.8200714987610643, 'bagging_freq': 6, 'min_child_samples': 13}. Best is trial 25 with value: 13026.020874195781.\u001b[0m\n",
            "\u001b[32m[I 2021-06-03 18:55:37,872]\u001b[0m Trial 27 finished with value: 13123.223472280855 and parameters: {'lambda_l1': 1.0270283575162594e-07, 'lambda_l2': 4.297909986852499e-05, 'num_leaves': 373, 'n_estimators': 7757, 'feature_fraction': 0.9752684165742291, 'bagging_fraction': 0.8324753041193602, 'bagging_freq': 4, 'min_child_samples': 22}. Best is trial 25 with value: 13026.020874195781.\u001b[0m\n",
            "\u001b[32m[I 2021-06-03 19:09:48,670]\u001b[0m Trial 28 finished with value: 13075.305630970352 and parameters: {'lambda_l1': 1.661931620768854e-06, 'lambda_l2': 0.0002114551528032196, 'num_leaves': 457, 'n_estimators': 9037, 'feature_fraction': 0.9164843851657171, 'bagging_fraction': 0.9166305843438749, 'bagging_freq': 5, 'min_child_samples': 35}. Best is trial 25 with value: 13026.020874195781.\u001b[0m\n",
            "\u001b[32m[I 2021-06-03 19:19:24,937]\u001b[0m Trial 29 finished with value: 13068.651659320625 and parameters: {'lambda_l1': 1.2918631355172884e-08, 'lambda_l2': 2.9591237378001843e-05, 'num_leaves': 318, 'n_estimators': 7692, 'feature_fraction': 0.9702081628055987, 'bagging_fraction': 0.9826638731235792, 'bagging_freq': 6, 'min_child_samples': 14}. Best is trial 25 with value: 13026.020874195781.\u001b[0m\n",
            "\u001b[32m[I 2021-06-03 19:37:56,867]\u001b[0m Trial 30 finished with value: 13606.797987606826 and parameters: {'lambda_l1': 1.375205464049951e-06, 'lambda_l2': 4.046144217675325e-06, 'num_leaves': 362, 'n_estimators': 9093, 'feature_fraction': 0.6774533049695235, 'bagging_fraction': 0.669560970006668, 'bagging_freq': 7, 'min_child_samples': 81}. Best is trial 25 with value: 13026.020874195781.\u001b[0m\n",
            "\u001b[32m[I 2021-06-03 19:47:12,244]\u001b[0m Trial 31 finished with value: 13066.235200500916 and parameters: {'lambda_l1': 5.782548728228587e-08, 'lambda_l2': 3.1387300384136404e-05, 'num_leaves': 319, 'n_estimators': 7737, 'feature_fraction': 0.9988825298321997, 'bagging_fraction': 0.9489890892222652, 'bagging_freq': 6, 'min_child_samples': 13}. Best is trial 25 with value: 13026.020874195781.\u001b[0m\n",
            "\u001b[32m[I 2021-06-03 19:56:08,209]\u001b[0m Trial 32 finished with value: 13085.997517090542 and parameters: {'lambda_l1': 8.398367157070672e-08, 'lambda_l2': 0.00039465817755768756, 'num_leaves': 287, 'n_estimators': 8088, 'feature_fraction': 0.9418136708567628, 'bagging_fraction': 0.9485639040314328, 'bagging_freq': 6, 'min_child_samples': 19}. Best is trial 25 with value: 13026.020874195781.\u001b[0m\n",
            "\u001b[32m[I 2021-06-03 20:06:20,181]\u001b[0m Trial 33 finished with value: 13131.930665658148 and parameters: {'lambda_l1': 3.1687580515104656e-07, 'lambda_l2': 1.4936049289348953e-05, 'num_leaves': 350, 'n_estimators': 7275, 'feature_fraction': 0.8958662957934046, 'bagging_fraction': 0.8115283860784736, 'bagging_freq': 5, 'min_child_samples': 25}. Best is trial 25 with value: 13026.020874195781.\u001b[0m\n",
            "\u001b[32m[I 2021-06-03 20:14:19,528]\u001b[0m Trial 34 finished with value: 13385.881974291426 and parameters: {'lambda_l1': 1.430916808381114e-07, 'lambda_l2': 6.0801123314068805e-05, 'num_leaves': 328, 'n_estimators': 6252, 'feature_fraction': 0.990090055477624, 'bagging_fraction': 0.5701350179831992, 'bagging_freq': 6, 'min_child_samples': 12}. Best is trial 25 with value: 13026.020874195781.\u001b[0m\n",
            "\u001b[32m[I 2021-06-03 20:25:25,924]\u001b[0m Trial 35 finished with value: 13010.098615088837 and parameters: {'lambda_l1': 2.4199911716117187e-06, 'lambda_l2': 4.319243101810217e-06, 'num_leaves': 392, 'n_estimators': 9368, 'feature_fraction': 0.9597278157581388, 'bagging_fraction': 0.8909081883938689, 'bagging_freq': 6, 'min_child_samples': 11}. Best is trial 35 with value: 13010.098615088837.\u001b[0m\n",
            "\u001b[32m[I 2021-06-03 20:38:38,634]\u001b[0m Trial 36 finished with value: 13036.529395353464 and parameters: {'lambda_l1': 8.781268991784053e-07, 'lambda_l2': 4.636526449066065e-08, 'num_leaves': 394, 'n_estimators': 9954, 'feature_fraction': 0.7328256747464614, 'bagging_fraction': 0.8959425267933913, 'bagging_freq': 7, 'min_child_samples': 5}. Best is trial 35 with value: 13010.098615088837.\u001b[0m\n",
            "\u001b[32m[I 2021-06-03 20:52:08,890]\u001b[0m Trial 37 finished with value: 13009.723248916587 and parameters: {'lambda_l1': 2.7251988776101926e-06, 'lambda_l2': 3.8332828450591585e-08, 'num_leaves': 447, 'n_estimators': 9321, 'feature_fraction': 0.7569665497599964, 'bagging_fraction': 0.894761862102827, 'bagging_freq': 7, 'min_child_samples': 8}. Best is trial 37 with value: 13009.723248916587.\u001b[0m\n",
            "\u001b[32m[I 2021-06-03 21:06:32,127]\u001b[0m Trial 38 finished with value: 12994.590828925508 and parameters: {'lambda_l1': 3.341516877242539e-06, 'lambda_l2': 3.68393857346776e-08, 'num_leaves': 457, 'n_estimators': 9271, 'feature_fraction': 0.7479922257031685, 'bagging_fraction': 0.9072981432188478, 'bagging_freq': 7, 'min_child_samples': 18}. Best is trial 38 with value: 12994.590828925508.\u001b[0m\n",
            "\u001b[32m[I 2021-06-03 21:24:05,072]\u001b[0m Trial 39 finished with value: 13213.602427801527 and parameters: {'lambda_l1': 5.10262607841404e-06, 'lambda_l2': 2.5973386331037408e-08, 'num_leaves': 458, 'n_estimators': 9356, 'feature_fraction': 0.6509827237955823, 'bagging_fraction': 0.8876949015478978, 'bagging_freq': 7, 'min_child_samples': 18}. Best is trial 38 with value: 12994.590828925508.\u001b[0m\n",
            "\u001b[32m[I 2021-06-03 21:39:24,252]\u001b[0m Trial 40 finished with value: 13117.918676088271 and parameters: {'lambda_l1': 3.532101766994055e-05, 'lambda_l2': 1.201322957193868e-07, 'num_leaves': 433, 'n_estimators': 8495, 'feature_fraction': 0.7311216743833462, 'bagging_fraction': 0.9243188985707191, 'bagging_freq': 7, 'min_child_samples': 40}. Best is trial 38 with value: 12994.590828925508.\u001b[0m\n",
            "\u001b[32m[I 2021-06-03 21:52:44,195]\u001b[0m Trial 41 finished with value: 13077.05766901936 and parameters: {'lambda_l1': 2.981502670840724e-06, 'lambda_l2': 2.2740290342919115e-08, 'num_leaves': 390, 'n_estimators': 9166, 'feature_fraction': 0.7654411687847917, 'bagging_fraction': 0.8880856135584133, 'bagging_freq': 7, 'min_child_samples': 5}. Best is trial 38 with value: 12994.590828925508.\u001b[0m\n",
            "\u001b[32m[I 2021-06-03 22:07:22,312]\u001b[0m Trial 42 finished with value: 13006.026439851805 and parameters: {'lambda_l1': 6.038317132984418e-07, 'lambda_l2': 5.6885532447845073e-08, 'num_leaves': 475, 'n_estimators': 9946, 'feature_fraction': 0.7369150500730204, 'bagging_fraction': 0.9678897030264924, 'bagging_freq': 7, 'min_child_samples': 10}. Best is trial 38 with value: 12994.590828925508.\u001b[0m\n",
            "\u001b[32m[I 2021-06-03 22:20:37,214]\u001b[0m Trial 43 finished with value: 12990.839212856565 and parameters: {'lambda_l1': 0.00021574258182490932, 'lambda_l2': 3.096133833860932e-07, 'num_leaves': 473, 'n_estimators': 9415, 'feature_fraction': 0.7749771574426887, 'bagging_fraction': 0.9754622202614446, 'bagging_freq': 7, 'min_child_samples': 9}. Best is trial 43 with value: 12990.839212856565.\u001b[0m\n",
            "\u001b[32m[I 2021-06-03 22:34:14,030]\u001b[0m Trial 44 finished with value: 13015.22593928997 and parameters: {'lambda_l1': 0.00026308900682698997, 'lambda_l2': 3.438860767808518e-07, 'num_leaves': 470, 'n_estimators': 9501, 'feature_fraction': 0.7671369799076178, 'bagging_fraction': 0.965403057612284, 'bagging_freq': 7, 'min_child_samples': 10}. Best is trial 43 with value: 12990.839212856565.\u001b[0m\n",
            "\u001b[32m[I 2021-06-03 22:50:56,340]\u001b[0m Trial 45 finished with value: 13331.981839775113 and parameters: {'lambda_l1': 0.0001654289932918901, 'lambda_l2': 1.0048850467005979e-08, 'num_leaves': 435, 'n_estimators': 9953, 'feature_fraction': 0.651525886732114, 'bagging_fraction': 0.9969112459776724, 'bagging_freq': 7, 'min_child_samples': 26}. Best is trial 43 with value: 12990.839212856565.\u001b[0m\n",
            "\u001b[32m[I 2021-06-03 23:06:59,894]\u001b[0m Trial 46 finished with value: 13242.429513070298 and parameters: {'lambda_l1': 4.2803165221926965e-06, 'lambda_l2': 3.121575972170498e-06, 'num_leaves': 482, 'n_estimators': 8382, 'feature_fraction': 0.7150189403623429, 'bagging_fraction': 0.8533338307036284, 'bagging_freq': 2, 'min_child_samples': 55}. Best is trial 43 with value: 12990.839212856565.\u001b[0m\n",
            "\u001b[32m[I 2021-06-03 23:16:42,678]\u001b[0m Trial 47 finished with value: 14391.783441289566 and parameters: {'lambda_l1': 3.583705586055893e-05, 'lambda_l2': 2.9267548355236837e-07, 'num_leaves': 448, 'n_estimators': 4542, 'feature_fraction': 0.5445500761127817, 'bagging_fraction': 0.9216505789372575, 'bagging_freq': 7, 'min_child_samples': 19}. Best is trial 43 with value: 12990.839212856565.\u001b[0m\n",
            "\u001b[32m[I 2021-06-03 23:30:30,662]\u001b[0m Trial 48 finished with value: 13029.957594491176 and parameters: {'lambda_l1': 5.917842701300651e-07, 'lambda_l2': 6.100864700864574e-08, 'num_leaves': 411, 'n_estimators': 9465, 'feature_fraction': 0.7964453348695939, 'bagging_fraction': 0.9708246694665406, 'bagging_freq': 6, 'min_child_samples': 16}. Best is trial 43 with value: 12990.839212856565.\u001b[0m\n",
            "\u001b[32m[I 2021-06-03 23:45:23,017]\u001b[0m Trial 49 finished with value: 15458.739309412469 and parameters: {'lambda_l1': 0.00036966410896807633, 'lambda_l2': 4.6503680729747294e-07, 'num_leaves': 482, 'n_estimators': 7223, 'feature_fraction': 0.40074639154358144, 'bagging_fraction': 0.8774318100189529, 'bagging_freq': 7, 'min_child_samples': 30}. Best is trial 43 with value: 12990.839212856565.\u001b[0m\n",
            "\u001b[32m[I 2021-06-04 00:01:01,686]\u001b[0m Trial 50 finished with value: 13295.31191932533 and parameters: {'lambda_l1': 0.006549619850021894, 'lambda_l2': 1.3941470605127927e-07, 'num_leaves': 416, 'n_estimators': 8692, 'feature_fraction': 0.7498907677118858, 'bagging_fraction': 0.9157697112324302, 'bagging_freq': 6, 'min_child_samples': 70}. Best is trial 43 with value: 12990.839212856565.\u001b[0m\n",
            "\u001b[32m[I 2021-06-04 00:14:19,987]\u001b[0m Trial 51 finished with value: 13030.763974875046 and parameters: {'lambda_l1': 0.00019679321539927425, 'lambda_l2': 1.9080930146196692e-06, 'num_leaves': 470, 'n_estimators': 9570, 'feature_fraction': 0.7717433182900387, 'bagging_fraction': 0.9671042159549432, 'bagging_freq': 7, 'min_child_samples': 10}. Best is trial 43 with value: 12990.839212856565.\u001b[0m\n",
            "\u001b[32m[I 2021-06-04 00:31:53,433]\u001b[0m Trial 52 finished with value: 13274.235321652628 and parameters: {'lambda_l1': 0.0018569030086934494, 'lambda_l2': 4.182568116304113e-07, 'num_leaves': 444, 'n_estimators': 9481, 'feature_fraction': 0.7039504690036108, 'bagging_fraction': 0.9510759532642274, 'bagging_freq': 7, 'min_child_samples': 10}. Best is trial 43 with value: 12990.839212856565.\u001b[0m\n",
            "\u001b[32m[I 2021-06-04 00:36:30,895]\u001b[0m Trial 53 finished with value: 14161.504231738145 and parameters: {'lambda_l1': 0.00039119009944739577, 'lambda_l2': 3.897523002401446e-08, 'num_leaves': 512, 'n_estimators': 2005, 'feature_fraction': 0.6674978057597956, 'bagging_fraction': 0.8392531805994059, 'bagging_freq': 7, 'min_child_samples': 23}. Best is trial 43 with value: 12990.839212856565.\u001b[0m\n",
            "\u001b[32m[I 2021-06-04 00:53:35,065]\u001b[0m Trial 54 finished with value: 13005.092462314458 and parameters: {'lambda_l1': 3.536316269749609e-05, 'lambda_l2': 1.0439661982534878e-07, 'num_leaves': 473, 'n_estimators': 9973, 'feature_fraction': 0.7775264888171215, 'bagging_fraction': 0.9945479829244133, 'bagging_freq': 7, 'min_child_samples': 16}. Best is trial 43 with value: 12990.839212856565.\u001b[0m\n",
            "\u001b[32m[I 2021-06-04 00:59:15,603]\u001b[0m Trial 55 finished with value: 17067.89385430531 and parameters: {'lambda_l1': 2.242322819260006e-05, 'lambda_l2': 1.0453599178148757e-08, 'num_leaves': 8, 'n_estimators': 8921, 'feature_fraction': 0.8191061730728683, 'bagging_fraction': 0.9986767681796487, 'bagging_freq': 6, 'min_child_samples': 17}. Best is trial 43 with value: 12990.839212856565.\u001b[0m\n",
            "\u001b[32m[I 2021-06-04 01:18:08,864]\u001b[0m Trial 56 finished with value: 12968.169705042135 and parameters: {'lambda_l1': 2.931573225719007e-06, 'lambda_l2': 9.935193042596577e-08, 'num_leaves': 492, 'n_estimators': 9970, 'feature_fraction': 0.7833222064244333, 'bagging_fraction': 0.9275192201320186, 'bagging_freq': 7, 'min_child_samples': 9}. Best is trial 56 with value: 12968.169705042135.\u001b[0m\n",
            "\u001b[32m[I 2021-06-04 01:33:31,283]\u001b[0m Trial 57 finished with value: 12989.239013281865 and parameters: {'lambda_l1': 8.391451178090319e-06, 'lambda_l2': 8.70216006247678e-08, 'num_leaves': 499, 'n_estimators': 9977, 'feature_fraction': 0.7848240062709321, 'bagging_fraction': 0.9287625196021153, 'bagging_freq': 7, 'min_child_samples': 8}. Best is trial 56 with value: 12968.169705042135.\u001b[0m\n",
            "\u001b[32m[I 2021-06-04 01:53:42,338]\u001b[0m Trial 58 finished with value: 13118.410878016384 and parameters: {'lambda_l1': 7.426235779123898e-06, 'lambda_l2': 1.211973062661795e-07, 'num_leaves': 499, 'n_estimators': 9940, 'feature_fraction': 0.8433873152132747, 'bagging_fraction': 0.9276546451053489, 'bagging_freq': 7, 'min_child_samples': 50}. Best is trial 56 with value: 12968.169705042135.\u001b[0m\n",
            "\u001b[32m[I 2021-06-04 02:09:57,769]\u001b[0m Trial 59 finished with value: 13091.906342729064 and parameters: {'lambda_l1': 7.394656389197397e-05, 'lambda_l2': 1.9454235837736875e-08, 'num_leaves': 486, 'n_estimators': 9786, 'feature_fraction': 0.782903300461846, 'bagging_fraction': 0.9990843983288248, 'bagging_freq': 7, 'min_child_samples': 15}. Best is trial 56 with value: 12968.169705042135.\u001b[0m\n",
            "\u001b[32m[I 2021-06-04 02:29:04,830]\u001b[0m Trial 60 finished with value: 13057.469144957517 and parameters: {'lambda_l1': 6.100298662785448e-06, 'lambda_l2': 9.24476807443041e-07, 'num_leaves': 508, 'n_estimators': 9996, 'feature_fraction': 0.7378740613637099, 'bagging_fraction': 0.8669633594842276, 'bagging_freq': 3, 'min_child_samples': 29}. Best is trial 56 with value: 12968.169705042135.\u001b[0m\n",
            "\u001b[32m[I 2021-06-04 02:41:55,758]\u001b[0m Trial 61 finished with value: 13002.90091568124 and parameters: {'lambda_l1': 5.870350901413714e-07, 'lambda_l2': 6.871328753959793e-08, 'num_leaves': 467, 'n_estimators': 9162, 'feature_fraction': 0.7910326850076287, 'bagging_fraction': 0.9395852217207775, 'bagging_freq': 7, 'min_child_samples': 7}. Best is trial 56 with value: 12968.169705042135.\u001b[0m\n",
            "\u001b[32m[I 2021-06-04 02:55:18,637]\u001b[0m Trial 62 finished with value: 13005.680183704879 and parameters: {'lambda_l1': 4.963378972932442e-07, 'lambda_l2': 1.0423874771125363e-07, 'num_leaves': 467, 'n_estimators': 8715, 'feature_fraction': 0.815021532313937, 'bagging_fraction': 0.9782392810606579, 'bagging_freq': 7, 'min_child_samples': 21}. Best is trial 56 with value: 12968.169705042135.\u001b[0m\n",
            "\u001b[32m[I 2021-06-04 03:10:09,862]\u001b[0m Trial 63 finished with value: 13029.671005396502 and parameters: {'lambda_l1': 1.5199384227957212e-05, 'lambda_l2': 1.0723018166190467e-07, 'num_leaves': 466, 'n_estimators': 8824, 'feature_fraction': 0.8177913427965484, 'bagging_fraction': 0.9377170056969997, 'bagging_freq': 7, 'min_child_samples': 22}. Best is trial 56 with value: 12968.169705042135.\u001b[0m\n",
            "\u001b[32m[I 2021-06-04 03:26:54,777]\u001b[0m Trial 64 finished with value: 13031.701741454717 and parameters: {'lambda_l1': 4.350493861376485e-05, 'lambda_l2': 2.418748506892144e-07, 'num_leaves': 497, 'n_estimators': 8433, 'feature_fraction': 0.7890606828937777, 'bagging_fraction': 0.9807640183241305, 'bagging_freq': 7, 'min_child_samples': 34}. Best is trial 56 with value: 12968.169705042135.\u001b[0m\n",
            "\u001b[32m[I 2021-06-04 03:42:19,614]\u001b[0m Trial 65 finished with value: 13025.37552733618 and parameters: {'lambda_l1': 0.00012603168608117289, 'lambda_l2': 6.756613721401217e-07, 'num_leaves': 421, 'n_estimators': 9698, 'feature_fraction': 0.868939292796613, 'bagging_fraction': 0.9120827543591752, 'bagging_freq': 7, 'min_child_samples': 15}. Best is trial 56 with value: 12968.169705042135.\u001b[0m\n",
            "\u001b[32m[I 2021-06-04 03:59:36,037]\u001b[0m Trial 66 finished with value: 12975.312318276861 and parameters: {'lambda_l1': 3.814489311418623e-08, 'lambda_l2': 1.0895522999161848e-08, 'num_leaves': 488, 'n_estimators': 9133, 'feature_fraction': 0.8467185270901337, 'bagging_fraction': 0.9493450105905901, 'bagging_freq': 6, 'min_child_samples': 20}. Best is trial 56 with value: 12968.169705042135.\u001b[0m\n",
            "\u001b[32m[I 2021-06-04 04:16:43,332]\u001b[0m Trial 67 finished with value: 13257.125516473096 and parameters: {'lambda_l1': 3.224027285460313e-08, 'lambda_l2': 1.7902900896482886e-08, 'num_leaves': 510, 'n_estimators': 9134, 'feature_fraction': 0.8478926501158575, 'bagging_fraction': 0.42098545957901845, 'bagging_freq': 6, 'min_child_samples': 7}. Best is trial 56 with value: 12968.169705042135.\u001b[0m\n",
            "\u001b[32m[I 2021-06-04 04:29:54,948]\u001b[0m Trial 68 finished with value: 13038.11441234441 and parameters: {'lambda_l1': 1.0710227725010802e-05, 'lambda_l2': 1.0510731911225808e-08, 'num_leaves': 492, 'n_estimators': 8240, 'feature_fraction': 0.8334896466426653, 'bagging_fraction': 0.9434085226734259, 'bagging_freq': 6, 'min_child_samples': 25}. Best is trial 56 with value: 12968.169705042135.\u001b[0m\n",
            "\u001b[32m[I 2021-06-04 04:42:42,529]\u001b[0m Trial 69 finished with value: 13008.63560761223 and parameters: {'lambda_l1': 2.4400267696196082e-05, 'lambda_l2': 2.1398499289175374e-07, 'num_leaves': 438, 'n_estimators': 9192, 'feature_fraction': 0.7975223940728049, 'bagging_fraction': 0.9558102449849686, 'bagging_freq': 6, 'min_child_samples': 18}. Best is trial 56 with value: 12968.169705042135.\u001b[0m\n",
            "\u001b[32m[I 2021-06-04 04:59:05,031]\u001b[0m Trial 70 finished with value: 13285.348871456787 and parameters: {'lambda_l1': 0.001403650771565919, 'lambda_l2': 1.911009670821296e-06, 'num_leaves': 457, 'n_estimators': 7960, 'feature_fraction': 0.7017966276900963, 'bagging_fraction': 0.8699055947960246, 'bagging_freq': 7, 'min_child_samples': 15}. Best is trial 56 with value: 12968.169705042135.\u001b[0m\n",
            "\u001b[32m[I 2021-06-04 05:14:24,241]\u001b[0m Trial 71 finished with value: 12991.983244545483 and parameters: {'lambda_l1': 1.1368936757001476e-08, 'lambda_l2': 7.150354363798569e-08, 'num_leaves': 480, 'n_estimators': 8729, 'feature_fraction': 0.8130765014385506, 'bagging_fraction': 0.9764620340745146, 'bagging_freq': 7, 'min_child_samples': 20}. Best is trial 56 with value: 12968.169705042135.\u001b[0m\n",
            "\u001b[32m[I 2021-06-04 05:27:28,497]\u001b[0m Trial 72 finished with value: 13075.02415488935 and parameters: {'lambda_l1': 1.3626927057299264e-08, 'lambda_l2': 3.305160326383002e-08, 'num_leaves': 485, 'n_estimators': 8861, 'feature_fraction': 0.7815012803751474, 'bagging_fraction': 0.9992033344465181, 'bagging_freq': 7, 'min_child_samples': 8}. Best is trial 56 with value: 12968.169705042135.\u001b[0m\n",
            "\u001b[32m[I 2021-06-04 05:42:01,020]\u001b[0m Trial 73 finished with value: 12966.448236473667 and parameters: {'lambda_l1': 1.7804291981914044e-07, 'lambda_l2': 6.642353794232408e-08, 'num_leaves': 509, 'n_estimators': 9689, 'feature_fraction': 0.8058668955952224, 'bagging_fraction': 0.9088774659224543, 'bagging_freq': 7, 'min_child_samples': 12}. Best is trial 73 with value: 12966.448236473667.\u001b[0m\n",
            "\u001b[32m[I 2021-06-04 05:55:41,751]\u001b[0m Trial 74 finished with value: 12968.08089358475 and parameters: {'lambda_l1': 1.6917578659082708e-07, 'lambda_l2': 7.84193161217224e-08, 'num_leaves': 510, 'n_estimators': 9228, 'feature_fraction': 0.8564267252593398, 'bagging_fraction': 0.9314139117165706, 'bagging_freq': 7, 'min_child_samples': 13}. Best is trial 73 with value: 12966.448236473667.\u001b[0m\n",
            "\u001b[32m[I 2021-06-04 06:07:52,616]\u001b[0m Trial 75 finished with value: 12943.9781702926 and parameters: {'lambda_l1': 5.2037459883158494e-08, 'lambda_l2': 1.4833846930343556e-08, 'num_leaves': 499, 'n_estimators': 9573, 'feature_fraction': 0.8642510735386643, 'bagging_fraction': 0.9079914192609845, 'bagging_freq': 6, 'min_child_samples': 13}. Best is trial 75 with value: 12943.9781702926.\u001b[0m\n",
            "\u001b[32m[I 2021-06-04 06:21:46,015]\u001b[0m Trial 76 finished with value: 12933.169959971665 and parameters: {'lambda_l1': 5.053283684347473e-08, 'lambda_l2': 1.539868437981998e-08, 'num_leaves': 511, 'n_estimators': 9729, 'feature_fraction': 0.8747648706381312, 'bagging_fraction': 0.9320244715674311, 'bagging_freq': 4, 'min_child_samples': 13}. Best is trial 76 with value: 12933.169959971665.\u001b[0m\n",
            "\u001b[32m[I 2021-06-04 06:37:52,646]\u001b[0m Trial 77 finished with value: 12994.702235476852 and parameters: {'lambda_l1': 4.8999747393994216e-08, 'lambda_l2': 1.4677176195692925e-08, 'num_leaves': 511, 'n_estimators': 9705, 'feature_fraction': 0.8754121287110914, 'bagging_fraction': 0.8402460365416616, 'bagging_freq': 2, 'min_child_samples': 13}. Best is trial 76 with value: 12933.169959971665.\u001b[0m\n",
            "\u001b[32m[I 2021-06-04 06:53:43,930]\u001b[0m Trial 78 finished with value: 12977.134270432354 and parameters: {'lambda_l1': 1.3041708949605677e-07, 'lambda_l2': 1.0119611535860424e-08, 'num_leaves': 500, 'n_estimators': 9711, 'feature_fraction': 0.8539080226698657, 'bagging_fraction': 0.8996751857060744, 'bagging_freq': 4, 'min_child_samples': 13}. Best is trial 76 with value: 12933.169959971665.\u001b[0m\n",
            "\u001b[32m[I 2021-06-04 07:14:46,580]\u001b[0m Trial 79 finished with value: 13225.15613693192 and parameters: {'lambda_l1': 1.922272884816922e-07, 'lambda_l2': 1.0713690328386708e-08, 'num_leaves': 512, 'n_estimators': 9717, 'feature_fraction': 0.8578633179655468, 'bagging_fraction': 0.9073619340266244, 'bagging_freq': 4, 'min_child_samples': 98}. Best is trial 76 with value: 12933.169959971665.\u001b[0m\n",
            "\u001b[32m[I 2021-06-04 07:27:56,852]\u001b[0m Trial 80 finished with value: 12947.986925740603 and parameters: {'lambda_l1': 1.0796534798627494e-07, 'lambda_l2': 2.0103494628193535e-08, 'num_leaves': 505, 'n_estimators': 9683, 'feature_fraction': 0.9278861223389026, 'bagging_fraction': 0.9318806061133169, 'bagging_freq': 3, 'min_child_samples': 13}. Best is trial 76 with value: 12933.169959971665.\u001b[0m\n",
            "\u001b[32m[I 2021-06-04 07:40:13,592]\u001b[0m Trial 81 finished with value: 12945.665806092124 and parameters: {'lambda_l1': 1.016217628112718e-07, 'lambda_l2': 1.6932272846459724e-08, 'num_leaves': 500, 'n_estimators': 9719, 'feature_fraction': 0.916840822066629, 'bagging_fraction': 0.9340347730850432, 'bagging_freq': 3, 'min_child_samples': 12}. Best is trial 76 with value: 12933.169959971665.\u001b[0m\n"
          ],
          "name": "stderr"
        }
      ]
    }
  ]
}