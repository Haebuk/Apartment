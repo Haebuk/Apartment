{
 "cells": [
  {
   "cell_type": "markdown",
   "metadata": {},
   "source": [
    "# 아파트 실거래가 예측"
   ]
  },
  {
   "cell_type": "code",
   "execution_count": 90,
   "metadata": {
    "ExecuteTime": {
     "end_time": "2021-03-31T02:31:00.315310Z",
     "start_time": "2021-03-31T02:30:58.418889Z"
    }
   },
   "outputs": [],
   "source": [
    "import pandas as pd\n",
    "import numpy as np\n",
    "import matplotlib.pyplot as plt\n",
    "import warnings\n",
    "import seaborn as sns\n",
    "import statsmodels.api as sm\n",
    "import statsmodels.formula.api as smf\n",
    "warnings.filterwarnings('ignore')"
   ]
  },
  {
   "cell_type": "code",
   "execution_count": 2,
   "metadata": {
    "ExecuteTime": {
     "end_time": "2021-03-31T01:05:44.359046Z",
     "start_time": "2021-03-31T01:05:42.589468Z"
    }
   },
   "outputs": [],
   "source": [
    "train_df = pd.read_csv('./input/train.csv')\n",
    "test_df = pd.read_csv('./input/test.csv')\n",
    "park_df = pd.read_csv('./input/park.csv')\n",
    "center_df = pd.read_csv('./input/day_care_center.csv')"
   ]
  },
  {
   "cell_type": "code",
   "execution_count": 3,
   "metadata": {
    "ExecuteTime": {
     "end_time": "2021-03-31T01:05:44.391045Z",
     "start_time": "2021-03-31T01:05:44.360046Z"
    },
    "scrolled": true
   },
   "outputs": [
    {
     "data": {
      "text/html": [
       "<div>\n",
       "<style scoped>\n",
       "    .dataframe tbody tr th:only-of-type {\n",
       "        vertical-align: middle;\n",
       "    }\n",
       "\n",
       "    .dataframe tbody tr th {\n",
       "        vertical-align: top;\n",
       "    }\n",
       "\n",
       "    .dataframe thead th {\n",
       "        text-align: right;\n",
       "    }\n",
       "</style>\n",
       "<table border=\"1\" class=\"dataframe\">\n",
       "  <thead>\n",
       "    <tr style=\"text-align: right;\">\n",
       "      <th></th>\n",
       "      <th>transaction_id</th>\n",
       "      <th>apartment_id</th>\n",
       "      <th>city</th>\n",
       "      <th>dong</th>\n",
       "      <th>jibun</th>\n",
       "      <th>apt</th>\n",
       "      <th>addr_kr</th>\n",
       "      <th>exclusive_use_area</th>\n",
       "      <th>year_of_completion</th>\n",
       "      <th>transaction_year_month</th>\n",
       "      <th>transaction_date</th>\n",
       "      <th>floor</th>\n",
       "      <th>transaction_real_price</th>\n",
       "    </tr>\n",
       "  </thead>\n",
       "  <tbody>\n",
       "    <tr>\n",
       "      <th>0</th>\n",
       "      <td>0</td>\n",
       "      <td>7622</td>\n",
       "      <td>서울특별시</td>\n",
       "      <td>신교동</td>\n",
       "      <td>6-13</td>\n",
       "      <td>신현(101동)</td>\n",
       "      <td>신교동 6-13 신현(101동)</td>\n",
       "      <td>84.82</td>\n",
       "      <td>2002</td>\n",
       "      <td>200801</td>\n",
       "      <td>21~31</td>\n",
       "      <td>2</td>\n",
       "      <td>37500</td>\n",
       "    </tr>\n",
       "    <tr>\n",
       "      <th>1</th>\n",
       "      <td>1</td>\n",
       "      <td>5399</td>\n",
       "      <td>서울특별시</td>\n",
       "      <td>필운동</td>\n",
       "      <td>142</td>\n",
       "      <td>사직파크맨션</td>\n",
       "      <td>필운동 142 사직파크맨션</td>\n",
       "      <td>99.17</td>\n",
       "      <td>1973</td>\n",
       "      <td>200801</td>\n",
       "      <td>1~10</td>\n",
       "      <td>6</td>\n",
       "      <td>20000</td>\n",
       "    </tr>\n",
       "    <tr>\n",
       "      <th>2</th>\n",
       "      <td>2</td>\n",
       "      <td>3578</td>\n",
       "      <td>서울특별시</td>\n",
       "      <td>필운동</td>\n",
       "      <td>174-1</td>\n",
       "      <td>두레엘리시안</td>\n",
       "      <td>필운동 174-1 두레엘리시안</td>\n",
       "      <td>84.74</td>\n",
       "      <td>2007</td>\n",
       "      <td>200801</td>\n",
       "      <td>1~10</td>\n",
       "      <td>6</td>\n",
       "      <td>38500</td>\n",
       "    </tr>\n",
       "    <tr>\n",
       "      <th>3</th>\n",
       "      <td>3</td>\n",
       "      <td>10957</td>\n",
       "      <td>서울특별시</td>\n",
       "      <td>내수동</td>\n",
       "      <td>95</td>\n",
       "      <td>파크팰리스</td>\n",
       "      <td>내수동 95 파크팰리스</td>\n",
       "      <td>146.39</td>\n",
       "      <td>2003</td>\n",
       "      <td>200801</td>\n",
       "      <td>11~20</td>\n",
       "      <td>15</td>\n",
       "      <td>118000</td>\n",
       "    </tr>\n",
       "    <tr>\n",
       "      <th>4</th>\n",
       "      <td>4</td>\n",
       "      <td>10639</td>\n",
       "      <td>서울특별시</td>\n",
       "      <td>내수동</td>\n",
       "      <td>110-15</td>\n",
       "      <td>킹스매너</td>\n",
       "      <td>내수동 110-15 킹스매너</td>\n",
       "      <td>194.43</td>\n",
       "      <td>2004</td>\n",
       "      <td>200801</td>\n",
       "      <td>21~31</td>\n",
       "      <td>3</td>\n",
       "      <td>120000</td>\n",
       "    </tr>\n",
       "  </tbody>\n",
       "</table>\n",
       "</div>"
      ],
      "text/plain": [
       "   transaction_id  apartment_id   city dong   jibun       apt  \\\n",
       "0               0          7622  서울특별시  신교동    6-13  신현(101동)   \n",
       "1               1          5399  서울특별시  필운동     142    사직파크맨션   \n",
       "2               2          3578  서울특별시  필운동   174-1    두레엘리시안   \n",
       "3               3         10957  서울특별시  내수동      95     파크팰리스   \n",
       "4               4         10639  서울특별시  내수동  110-15      킹스매너   \n",
       "\n",
       "             addr_kr  exclusive_use_area  year_of_completion  \\\n",
       "0  신교동 6-13 신현(101동)               84.82                2002   \n",
       "1     필운동 142 사직파크맨션               99.17                1973   \n",
       "2   필운동 174-1 두레엘리시안               84.74                2007   \n",
       "3       내수동 95 파크팰리스              146.39                2003   \n",
       "4    내수동 110-15 킹스매너              194.43                2004   \n",
       "\n",
       "   transaction_year_month transaction_date  floor  transaction_real_price  \n",
       "0                  200801            21~31      2                   37500  \n",
       "1                  200801             1~10      6                   20000  \n",
       "2                  200801             1~10      6                   38500  \n",
       "3                  200801            11~20     15                  118000  \n",
       "4                  200801            21~31      3                  120000  "
      ]
     },
     "execution_count": 3,
     "metadata": {},
     "output_type": "execute_result"
    }
   ],
   "source": [
    "train_df.head()"
   ]
  },
  {
   "cell_type": "markdown",
   "metadata": {},
   "source": [
    "- exclusive_use_area: 전용면적(한 세대만 독점적으로 사용하는 공간)\n",
    "- transaction_real_price: 실거래가(단위:만원, 타겟 값, train만 존재)\n",
    "- transaction_year_month: 거래년월\n",
    "- transaction_date: 거래일\n",
    "- floor: 층 "
   ]
  },
  {
   "cell_type": "code",
   "execution_count": 4,
   "metadata": {
    "ExecuteTime": {
     "end_time": "2021-03-31T01:05:44.647047Z",
     "start_time": "2021-03-31T01:05:44.392046Z"
    },
    "scrolled": false
   },
   "outputs": [
    {
     "data": {
      "text/html": [
       "<div>\n",
       "<style scoped>\n",
       "    .dataframe tbody tr th:only-of-type {\n",
       "        vertical-align: middle;\n",
       "    }\n",
       "\n",
       "    .dataframe tbody tr th {\n",
       "        vertical-align: top;\n",
       "    }\n",
       "\n",
       "    .dataframe thead th {\n",
       "        text-align: right;\n",
       "    }\n",
       "</style>\n",
       "<table border=\"1\" class=\"dataframe\">\n",
       "  <thead>\n",
       "    <tr style=\"text-align: right;\">\n",
       "      <th></th>\n",
       "      <th>transaction_id</th>\n",
       "      <th>apartment_id</th>\n",
       "      <th>exclusive_use_area</th>\n",
       "      <th>year_of_completion</th>\n",
       "      <th>transaction_year_month</th>\n",
       "      <th>floor</th>\n",
       "      <th>transaction_real_price</th>\n",
       "    </tr>\n",
       "  </thead>\n",
       "  <tbody>\n",
       "    <tr>\n",
       "      <th>count</th>\n",
       "      <td>1.216553e+06</td>\n",
       "      <td>1.216553e+06</td>\n",
       "      <td>1.216553e+06</td>\n",
       "      <td>1.216553e+06</td>\n",
       "      <td>1.216553e+06</td>\n",
       "      <td>1.216553e+06</td>\n",
       "      <td>1.216553e+06</td>\n",
       "    </tr>\n",
       "    <tr>\n",
       "      <th>mean</th>\n",
       "      <td>6.091530e+05</td>\n",
       "      <td>6.299685e+03</td>\n",
       "      <td>7.816549e+01</td>\n",
       "      <td>1.998297e+03</td>\n",
       "      <td>2.012984e+05</td>\n",
       "      <td>9.343291e+00</td>\n",
       "      <td>3.822769e+04</td>\n",
       "    </tr>\n",
       "    <tr>\n",
       "      <th>std</th>\n",
       "      <td>3.526198e+05</td>\n",
       "      <td>3.581169e+03</td>\n",
       "      <td>2.915113e+01</td>\n",
       "      <td>8.941347e+00</td>\n",
       "      <td>2.905732e+02</td>\n",
       "      <td>6.606500e+00</td>\n",
       "      <td>3.104898e+04</td>\n",
       "    </tr>\n",
       "    <tr>\n",
       "      <th>min</th>\n",
       "      <td>0.000000e+00</td>\n",
       "      <td>0.000000e+00</td>\n",
       "      <td>9.260000e+00</td>\n",
       "      <td>1.961000e+03</td>\n",
       "      <td>2.008010e+05</td>\n",
       "      <td>-4.000000e+00</td>\n",
       "      <td>1.000000e+02</td>\n",
       "    </tr>\n",
       "    <tr>\n",
       "      <th>25%</th>\n",
       "      <td>3.041380e+05</td>\n",
       "      <td>3.345000e+03</td>\n",
       "      <td>5.976000e+01</td>\n",
       "      <td>1.993000e+03</td>\n",
       "      <td>2.010100e+05</td>\n",
       "      <td>4.000000e+00</td>\n",
       "      <td>1.900000e+04</td>\n",
       "    </tr>\n",
       "    <tr>\n",
       "      <th>50%</th>\n",
       "      <td>6.082760e+05</td>\n",
       "      <td>5.964000e+03</td>\n",
       "      <td>8.241000e+01</td>\n",
       "      <td>1.999000e+03</td>\n",
       "      <td>2.013120e+05</td>\n",
       "      <td>8.000000e+00</td>\n",
       "      <td>3.090000e+04</td>\n",
       "    </tr>\n",
       "    <tr>\n",
       "      <th>75%</th>\n",
       "      <td>9.124140e+05</td>\n",
       "      <td>9.436000e+03</td>\n",
       "      <td>8.497000e+01</td>\n",
       "      <td>2.005000e+03</td>\n",
       "      <td>2.015110e+05</td>\n",
       "      <td>1.300000e+01</td>\n",
       "      <td>4.700000e+04</td>\n",
       "    </tr>\n",
       "    <tr>\n",
       "      <th>max</th>\n",
       "      <td>1.234827e+06</td>\n",
       "      <td>1.265800e+04</td>\n",
       "      <td>4.243200e+02</td>\n",
       "      <td>2.017000e+03</td>\n",
       "      <td>2.017110e+05</td>\n",
       "      <td>8.000000e+01</td>\n",
       "      <td>8.200000e+05</td>\n",
       "    </tr>\n",
       "  </tbody>\n",
       "</table>\n",
       "</div>"
      ],
      "text/plain": [
       "       transaction_id  apartment_id  exclusive_use_area  year_of_completion  \\\n",
       "count    1.216553e+06  1.216553e+06        1.216553e+06        1.216553e+06   \n",
       "mean     6.091530e+05  6.299685e+03        7.816549e+01        1.998297e+03   \n",
       "std      3.526198e+05  3.581169e+03        2.915113e+01        8.941347e+00   \n",
       "min      0.000000e+00  0.000000e+00        9.260000e+00        1.961000e+03   \n",
       "25%      3.041380e+05  3.345000e+03        5.976000e+01        1.993000e+03   \n",
       "50%      6.082760e+05  5.964000e+03        8.241000e+01        1.999000e+03   \n",
       "75%      9.124140e+05  9.436000e+03        8.497000e+01        2.005000e+03   \n",
       "max      1.234827e+06  1.265800e+04        4.243200e+02        2.017000e+03   \n",
       "\n",
       "       transaction_year_month         floor  transaction_real_price  \n",
       "count            1.216553e+06  1.216553e+06            1.216553e+06  \n",
       "mean             2.012984e+05  9.343291e+00            3.822769e+04  \n",
       "std              2.905732e+02  6.606500e+00            3.104898e+04  \n",
       "min              2.008010e+05 -4.000000e+00            1.000000e+02  \n",
       "25%              2.010100e+05  4.000000e+00            1.900000e+04  \n",
       "50%              2.013120e+05  8.000000e+00            3.090000e+04  \n",
       "75%              2.015110e+05  1.300000e+01            4.700000e+04  \n",
       "max              2.017110e+05  8.000000e+01            8.200000e+05  "
      ]
     },
     "execution_count": 4,
     "metadata": {},
     "output_type": "execute_result"
    }
   ],
   "source": [
    "train_df.describe() "
   ]
  },
  {
   "cell_type": "code",
   "execution_count": 5,
   "metadata": {
    "ExecuteTime": {
     "end_time": "2021-03-31T01:05:44.694045Z",
     "start_time": "2021-03-31T01:05:44.648047Z"
    },
    "scrolled": true
   },
   "outputs": [
    {
     "data": {
      "text/html": [
       "<div>\n",
       "<style scoped>\n",
       "    .dataframe tbody tr th:only-of-type {\n",
       "        vertical-align: middle;\n",
       "    }\n",
       "\n",
       "    .dataframe tbody tr th {\n",
       "        vertical-align: top;\n",
       "    }\n",
       "\n",
       "    .dataframe thead th {\n",
       "        text-align: right;\n",
       "    }\n",
       "</style>\n",
       "<table border=\"1\" class=\"dataframe\">\n",
       "  <thead>\n",
       "    <tr style=\"text-align: right;\">\n",
       "      <th></th>\n",
       "      <th>transaction_id</th>\n",
       "      <th>apartment_id</th>\n",
       "      <th>city</th>\n",
       "      <th>dong</th>\n",
       "      <th>jibun</th>\n",
       "      <th>apt</th>\n",
       "      <th>addr_kr</th>\n",
       "      <th>exclusive_use_area</th>\n",
       "      <th>year_of_completion</th>\n",
       "      <th>transaction_year_month</th>\n",
       "      <th>transaction_date</th>\n",
       "      <th>floor</th>\n",
       "      <th>transaction_real_price</th>\n",
       "    </tr>\n",
       "  </thead>\n",
       "  <tbody>\n",
       "    <tr>\n",
       "      <th>1656</th>\n",
       "      <td>1656</td>\n",
       "      <td>3876</td>\n",
       "      <td>서울특별시</td>\n",
       "      <td>구기동</td>\n",
       "      <td>95-1</td>\n",
       "      <td>렉스팰리스</td>\n",
       "      <td>구기동 95-1 렉스팰리스</td>\n",
       "      <td>140.040</td>\n",
       "      <td>2005</td>\n",
       "      <td>201109</td>\n",
       "      <td>1~10</td>\n",
       "      <td>-1</td>\n",
       "      <td>39000</td>\n",
       "    </tr>\n",
       "    <tr>\n",
       "      <th>2010</th>\n",
       "      <td>2010</td>\n",
       "      <td>3876</td>\n",
       "      <td>서울특별시</td>\n",
       "      <td>구기동</td>\n",
       "      <td>95-1</td>\n",
       "      <td>렉스팰리스</td>\n",
       "      <td>구기동 95-1 렉스팰리스</td>\n",
       "      <td>151.620</td>\n",
       "      <td>2005</td>\n",
       "      <td>201207</td>\n",
       "      <td>11~20</td>\n",
       "      <td>-1</td>\n",
       "      <td>40000</td>\n",
       "    </tr>\n",
       "    <tr>\n",
       "      <th>2220</th>\n",
       "      <td>2220</td>\n",
       "      <td>2966</td>\n",
       "      <td>서울특별시</td>\n",
       "      <td>숭인동</td>\n",
       "      <td>820-1</td>\n",
       "      <td>도시그린빌라트18차</td>\n",
       "      <td>숭인동 820-1 도시그린빌라트18차</td>\n",
       "      <td>59.760</td>\n",
       "      <td>1997</td>\n",
       "      <td>201302</td>\n",
       "      <td>11~20</td>\n",
       "      <td>-1</td>\n",
       "      <td>15800</td>\n",
       "    </tr>\n",
       "    <tr>\n",
       "      <th>2938</th>\n",
       "      <td>2938</td>\n",
       "      <td>1</td>\n",
       "      <td>서울특별시</td>\n",
       "      <td>명륜3가</td>\n",
       "      <td>1-102</td>\n",
       "      <td>(1-102)</td>\n",
       "      <td>명륜3가 1-102 (1-102)</td>\n",
       "      <td>69.540</td>\n",
       "      <td>1997</td>\n",
       "      <td>201405</td>\n",
       "      <td>1~10</td>\n",
       "      <td>-1</td>\n",
       "      <td>17000</td>\n",
       "    </tr>\n",
       "    <tr>\n",
       "      <th>5071</th>\n",
       "      <td>5071</td>\n",
       "      <td>8643</td>\n",
       "      <td>서울특별시</td>\n",
       "      <td>신당동</td>\n",
       "      <td>432-2013</td>\n",
       "      <td>우석</td>\n",
       "      <td>신당동 432-2013 우석</td>\n",
       "      <td>59.990</td>\n",
       "      <td>2001</td>\n",
       "      <td>200801</td>\n",
       "      <td>11~20</td>\n",
       "      <td>-1</td>\n",
       "      <td>17000</td>\n",
       "    </tr>\n",
       "    <tr>\n",
       "      <th>...</th>\n",
       "      <td>...</td>\n",
       "      <td>...</td>\n",
       "      <td>...</td>\n",
       "      <td>...</td>\n",
       "      <td>...</td>\n",
       "      <td>...</td>\n",
       "      <td>...</td>\n",
       "      <td>...</td>\n",
       "      <td>...</td>\n",
       "      <td>...</td>\n",
       "      <td>...</td>\n",
       "      <td>...</td>\n",
       "      <td>...</td>\n",
       "    </tr>\n",
       "    <tr>\n",
       "      <th>1095417</th>\n",
       "      <td>1095753</td>\n",
       "      <td>11320</td>\n",
       "      <td>서울특별시</td>\n",
       "      <td>한남동</td>\n",
       "      <td>810</td>\n",
       "      <td>한남더힐</td>\n",
       "      <td>한남동 810 한남더힐</td>\n",
       "      <td>212.524</td>\n",
       "      <td>2011</td>\n",
       "      <td>201705</td>\n",
       "      <td>21~31</td>\n",
       "      <td>-1</td>\n",
       "      <td>480000</td>\n",
       "    </tr>\n",
       "    <tr>\n",
       "      <th>1128345</th>\n",
       "      <td>1132486</td>\n",
       "      <td>9125</td>\n",
       "      <td>서울특별시</td>\n",
       "      <td>진관동</td>\n",
       "      <td>84</td>\n",
       "      <td>은평뉴타운 우물골(두산위브7단지)</td>\n",
       "      <td>진관동 84 은평뉴타운 우물골(두산위브7단지)</td>\n",
       "      <td>134.480</td>\n",
       "      <td>2010</td>\n",
       "      <td>201704</td>\n",
       "      <td>1~10</td>\n",
       "      <td>-1</td>\n",
       "      <td>74000</td>\n",
       "    </tr>\n",
       "    <tr>\n",
       "      <th>1129887</th>\n",
       "      <td>1134281</td>\n",
       "      <td>9125</td>\n",
       "      <td>서울특별시</td>\n",
       "      <td>진관동</td>\n",
       "      <td>84</td>\n",
       "      <td>은평뉴타운 우물골(두산위브7단지)</td>\n",
       "      <td>진관동 84 은평뉴타운 우물골(두산위브7단지)</td>\n",
       "      <td>134.510</td>\n",
       "      <td>2010</td>\n",
       "      <td>201711</td>\n",
       "      <td>11~20</td>\n",
       "      <td>-3</td>\n",
       "      <td>70500</td>\n",
       "    </tr>\n",
       "    <tr>\n",
       "      <th>1145606</th>\n",
       "      <td>1152790</td>\n",
       "      <td>10171</td>\n",
       "      <td>서울특별시</td>\n",
       "      <td>천왕동</td>\n",
       "      <td>281</td>\n",
       "      <td>천왕연지타운2단지</td>\n",
       "      <td>천왕동 281 천왕연지타운2단지</td>\n",
       "      <td>84.720</td>\n",
       "      <td>2014</td>\n",
       "      <td>201702</td>\n",
       "      <td>1~10</td>\n",
       "      <td>-1</td>\n",
       "      <td>48500</td>\n",
       "    </tr>\n",
       "    <tr>\n",
       "      <th>1190044</th>\n",
       "      <td>1204017</td>\n",
       "      <td>7401</td>\n",
       "      <td>부산광역시</td>\n",
       "      <td>부암동</td>\n",
       "      <td>669-6</td>\n",
       "      <td>신서면</td>\n",
       "      <td>부암동 669-6 신서면</td>\n",
       "      <td>89.420</td>\n",
       "      <td>1973</td>\n",
       "      <td>201708</td>\n",
       "      <td>1~10</td>\n",
       "      <td>-1</td>\n",
       "      <td>7000</td>\n",
       "    </tr>\n",
       "  </tbody>\n",
       "</table>\n",
       "<p>168 rows × 13 columns</p>\n",
       "</div>"
      ],
      "text/plain": [
       "         transaction_id  apartment_id   city  dong     jibun  \\\n",
       "1656               1656          3876  서울특별시   구기동      95-1   \n",
       "2010               2010          3876  서울특별시   구기동      95-1   \n",
       "2220               2220          2966  서울특별시   숭인동     820-1   \n",
       "2938               2938             1  서울특별시  명륜3가     1-102   \n",
       "5071               5071          8643  서울특별시   신당동  432-2013   \n",
       "...                 ...           ...    ...   ...       ...   \n",
       "1095417         1095753         11320  서울특별시   한남동       810   \n",
       "1128345         1132486          9125  서울특별시   진관동        84   \n",
       "1129887         1134281          9125  서울특별시   진관동        84   \n",
       "1145606         1152790         10171  서울특별시   천왕동       281   \n",
       "1190044         1204017          7401  부산광역시   부암동     669-6   \n",
       "\n",
       "                        apt                    addr_kr  exclusive_use_area  \\\n",
       "1656                  렉스팰리스             구기동 95-1 렉스팰리스             140.040   \n",
       "2010                  렉스팰리스             구기동 95-1 렉스팰리스             151.620   \n",
       "2220             도시그린빌라트18차       숭인동 820-1 도시그린빌라트18차              59.760   \n",
       "2938                (1-102)         명륜3가 1-102 (1-102)              69.540   \n",
       "5071                     우석            신당동 432-2013 우석              59.990   \n",
       "...                     ...                        ...                 ...   \n",
       "1095417                한남더힐               한남동 810 한남더힐             212.524   \n",
       "1128345  은평뉴타운 우물골(두산위브7단지)  진관동 84 은평뉴타운 우물골(두산위브7단지)             134.480   \n",
       "1129887  은평뉴타운 우물골(두산위브7단지)  진관동 84 은평뉴타운 우물골(두산위브7단지)             134.510   \n",
       "1145606           천왕연지타운2단지          천왕동 281 천왕연지타운2단지              84.720   \n",
       "1190044                 신서면              부암동 669-6 신서면              89.420   \n",
       "\n",
       "         year_of_completion  transaction_year_month transaction_date  floor  \\\n",
       "1656                   2005                  201109             1~10     -1   \n",
       "2010                   2005                  201207            11~20     -1   \n",
       "2220                   1997                  201302            11~20     -1   \n",
       "2938                   1997                  201405             1~10     -1   \n",
       "5071                   2001                  200801            11~20     -1   \n",
       "...                     ...                     ...              ...    ...   \n",
       "1095417                2011                  201705            21~31     -1   \n",
       "1128345                2010                  201704             1~10     -1   \n",
       "1129887                2010                  201711            11~20     -3   \n",
       "1145606                2014                  201702             1~10     -1   \n",
       "1190044                1973                  201708             1~10     -1   \n",
       "\n",
       "         transaction_real_price  \n",
       "1656                      39000  \n",
       "2010                      40000  \n",
       "2220                      15800  \n",
       "2938                      17000  \n",
       "5071                      17000  \n",
       "...                         ...  \n",
       "1095417                  480000  \n",
       "1128345                   74000  \n",
       "1129887                   70500  \n",
       "1145606                   48500  \n",
       "1190044                    7000  \n",
       "\n",
       "[168 rows x 13 columns]"
      ]
     },
     "execution_count": 5,
     "metadata": {},
     "output_type": "execute_result"
    }
   ],
   "source": [
    "train_df.loc[train_df['floor']<=0]"
   ]
  },
  {
   "cell_type": "code",
   "execution_count": 6,
   "metadata": {
    "ExecuteTime": {
     "end_time": "2021-03-31T01:05:44.710046Z",
     "start_time": "2021-03-31T01:05:44.695046Z"
    },
    "scrolled": true
   },
   "outputs": [
    {
     "data": {
      "text/html": [
       "<div>\n",
       "<style scoped>\n",
       "    .dataframe tbody tr th:only-of-type {\n",
       "        vertical-align: middle;\n",
       "    }\n",
       "\n",
       "    .dataframe tbody tr th {\n",
       "        vertical-align: top;\n",
       "    }\n",
       "\n",
       "    .dataframe thead th {\n",
       "        text-align: right;\n",
       "    }\n",
       "</style>\n",
       "<table border=\"1\" class=\"dataframe\">\n",
       "  <thead>\n",
       "    <tr style=\"text-align: right;\">\n",
       "      <th></th>\n",
       "      <th>transaction_id</th>\n",
       "      <th>apartment_id</th>\n",
       "      <th>city</th>\n",
       "      <th>dong</th>\n",
       "      <th>jibun</th>\n",
       "      <th>apt</th>\n",
       "      <th>addr_kr</th>\n",
       "      <th>exclusive_use_area</th>\n",
       "      <th>year_of_completion</th>\n",
       "      <th>transaction_year_month</th>\n",
       "      <th>transaction_date</th>\n",
       "      <th>floor</th>\n",
       "      <th>transaction_real_price</th>\n",
       "    </tr>\n",
       "  </thead>\n",
       "  <tbody>\n",
       "    <tr>\n",
       "      <th>23603</th>\n",
       "      <td>23603</td>\n",
       "      <td>11320</td>\n",
       "      <td>서울특별시</td>\n",
       "      <td>한남동</td>\n",
       "      <td>810</td>\n",
       "      <td>한남더힐</td>\n",
       "      <td>한남동 810 한남더힐</td>\n",
       "      <td>244.749</td>\n",
       "      <td>2011</td>\n",
       "      <td>201612</td>\n",
       "      <td>21~31</td>\n",
       "      <td>3</td>\n",
       "      <td>820000</td>\n",
       "    </tr>\n",
       "  </tbody>\n",
       "</table>\n",
       "</div>"
      ],
      "text/plain": [
       "       transaction_id  apartment_id   city dong jibun   apt       addr_kr  \\\n",
       "23603           23603         11320  서울특별시  한남동   810  한남더힐  한남동 810 한남더힐   \n",
       "\n",
       "       exclusive_use_area  year_of_completion  transaction_year_month  \\\n",
       "23603             244.749                2011                  201612   \n",
       "\n",
       "      transaction_date  floor  transaction_real_price  \n",
       "23603            21~31      3                  820000  "
      ]
     },
     "execution_count": 6,
     "metadata": {},
     "output_type": "execute_result"
    }
   ],
   "source": [
    "train_df.loc[train_df['transaction_real_price']==820000]"
   ]
  },
  {
   "cell_type": "code",
   "execution_count": 7,
   "metadata": {
    "ExecuteTime": {
     "end_time": "2021-03-31T01:05:44.884566Z",
     "start_time": "2021-03-31T01:05:44.711046Z"
    }
   },
   "outputs": [
    {
     "data": {
      "image/png": "[encoded data removed]",
      "text/plain": [
       "<Figure size 432x288 with 1 Axes>"
      ]
     },
     "metadata": {
      "needs_background": "light"
     },
     "output_type": "display_data"
    }
   ],
   "source": [
    "# train price\n",
    "plt.figure()\n",
    "plt.hist(train_df['transaction_real_price'], bins=30)\n",
    "plt.xlabel('Price(10000 won)')\n",
    "plt.ylabel('Count')\n",
    "plt.title('Distribution of Price')\n",
    "plt.show()"
   ]
  },
  {
   "cell_type": "code",
   "execution_count": 8,
   "metadata": {
    "ExecuteTime": {
     "end_time": "2021-03-31T01:05:45.026566Z",
     "start_time": "2021-03-31T01:05:44.886569Z"
    },
    "scrolled": true
   },
   "outputs": [
    {
     "data": {
      "image/png": "[encoded data removed]",
      "text/plain": [
       "<Figure size 432x288 with 1 Axes>"
      ]
     },
     "metadata": {
      "needs_background": "light"
     },
     "output_type": "display_data"
    }
   ],
   "source": [
    "# train area\n",
    "plt.figure()\n",
    "plt.hist(train_df['exclusive_use_area'], bins=30)\n",
    "plt.xlabel('Area(Square meter)')\n",
    "plt.ylabel('Count')\n",
    "plt.title('Distribution of Area')\n",
    "plt.show()"
   ]
  },
  {
   "cell_type": "code",
   "execution_count": 45,
   "metadata": {
    "ExecuteTime": {
     "end_time": "2021-03-31T01:33:46.231912Z",
     "start_time": "2021-03-31T01:33:46.224912Z"
    }
   },
   "outputs": [
    {
     "data": {
      "text/plain": [
       "(168, 13)"
      ]
     },
     "execution_count": 45,
     "metadata": {},
     "output_type": "execute_result"
    }
   ],
   "source": [
    "under_floor = train_df.loc[train_df['floor']<=0]\n",
    "under_floor.shape"
   ]
  },
  {
   "cell_type": "code",
   "execution_count": 49,
   "metadata": {
    "ExecuteTime": {
     "end_time": "2021-03-31T01:37:11.156749Z",
     "start_time": "2021-03-31T01:37:11.144751Z"
    }
   },
   "outputs": [
    {
     "data": {
      "text/html": [
       "<div>\n",
       "<style scoped>\n",
       "    .dataframe tbody tr th:only-of-type {\n",
       "        vertical-align: middle;\n",
       "    }\n",
       "\n",
       "    .dataframe tbody tr th {\n",
       "        vertical-align: top;\n",
       "    }\n",
       "\n",
       "    .dataframe thead th {\n",
       "        text-align: right;\n",
       "    }\n",
       "</style>\n",
       "<table border=\"1\" class=\"dataframe\">\n",
       "  <thead>\n",
       "    <tr style=\"text-align: right;\">\n",
       "      <th></th>\n",
       "      <th>floor</th>\n",
       "      <th>transaction_real_price</th>\n",
       "    </tr>\n",
       "  </thead>\n",
       "  <tbody>\n",
       "    <tr>\n",
       "      <th>floor</th>\n",
       "      <td>1.000000</td>\n",
       "      <td>-0.126958</td>\n",
       "    </tr>\n",
       "    <tr>\n",
       "      <th>transaction_real_price</th>\n",
       "      <td>-0.126958</td>\n",
       "      <td>1.000000</td>\n",
       "    </tr>\n",
       "  </tbody>\n",
       "</table>\n",
       "</div>"
      ],
      "text/plain": [
       "                           floor  transaction_real_price\n",
       "floor                   1.000000               -0.126958\n",
       "transaction_real_price -0.126958                1.000000"
      ]
     },
     "execution_count": 49,
     "metadata": {},
     "output_type": "execute_result"
    }
   ],
   "source": [
    "under_floor[['floor', 'transaction_real_price']].corr()"
   ]
  },
  {
   "cell_type": "code",
   "execution_count": 44,
   "metadata": {
    "ExecuteTime": {
     "end_time": "2021-03-31T01:32:13.464597Z",
     "start_time": "2021-03-31T01:32:13.377599Z"
    }
   },
   "outputs": [
    {
     "data": {
      "image/png": "[encoded data removed]",
      "text/plain": [
       "<Figure size 432x288 with 1 Axes>"
      ]
     },
     "metadata": {
      "needs_background": "light"
     },
     "output_type": "display_data"
    }
   ],
   "source": [
    "plt.figure()\n",
    "sns.countplot(under_floor['floor'])\n",
    "plt.title('')\n",
    "plt.show()"
   ]
  },
  {
   "cell_type": "code",
   "execution_count": 9,
   "metadata": {
    "ExecuteTime": {
     "end_time": "2021-03-31T01:05:45.041568Z",
     "start_time": "2021-03-31T01:05:45.028568Z"
    },
    "scrolled": true
   },
   "outputs": [
    {
     "data": {
      "text/html": [
       "<div>\n",
       "<style scoped>\n",
       "    .dataframe tbody tr th:only-of-type {\n",
       "        vertical-align: middle;\n",
       "    }\n",
       "\n",
       "    .dataframe tbody tr th {\n",
       "        vertical-align: top;\n",
       "    }\n",
       "\n",
       "    .dataframe thead th {\n",
       "        text-align: right;\n",
       "    }\n",
       "</style>\n",
       "<table border=\"1\" class=\"dataframe\">\n",
       "  <thead>\n",
       "    <tr style=\"text-align: right;\">\n",
       "      <th></th>\n",
       "      <th>transaction_id</th>\n",
       "      <th>apartment_id</th>\n",
       "      <th>city</th>\n",
       "      <th>dong</th>\n",
       "      <th>jibun</th>\n",
       "      <th>apt</th>\n",
       "      <th>addr_kr</th>\n",
       "      <th>exclusive_use_area</th>\n",
       "      <th>year_of_completion</th>\n",
       "      <th>transaction_year_month</th>\n",
       "      <th>transaction_date</th>\n",
       "      <th>floor</th>\n",
       "    </tr>\n",
       "  </thead>\n",
       "  <tbody>\n",
       "    <tr>\n",
       "      <th>0</th>\n",
       "      <td>1145756</td>\n",
       "      <td>10453</td>\n",
       "      <td>서울특별시</td>\n",
       "      <td>목동</td>\n",
       "      <td>938</td>\n",
       "      <td>청학</td>\n",
       "      <td>목동 938 청학</td>\n",
       "      <td>35.5500</td>\n",
       "      <td>2002</td>\n",
       "      <td>201711</td>\n",
       "      <td>11~20</td>\n",
       "      <td>2</td>\n",
       "    </tr>\n",
       "    <tr>\n",
       "      <th>1</th>\n",
       "      <td>1198704</td>\n",
       "      <td>989</td>\n",
       "      <td>부산광역시</td>\n",
       "      <td>초량동</td>\n",
       "      <td>1143-8</td>\n",
       "      <td>고관맨션</td>\n",
       "      <td>초량동 1143-8 고관맨션</td>\n",
       "      <td>68.7200</td>\n",
       "      <td>1977</td>\n",
       "      <td>201708</td>\n",
       "      <td>21~31</td>\n",
       "      <td>2</td>\n",
       "    </tr>\n",
       "    <tr>\n",
       "      <th>2</th>\n",
       "      <td>1222384</td>\n",
       "      <td>8597</td>\n",
       "      <td>부산광역시</td>\n",
       "      <td>괴정동</td>\n",
       "      <td>447-13</td>\n",
       "      <td>우림그린</td>\n",
       "      <td>괴정동 447-13 우림그린</td>\n",
       "      <td>72.5400</td>\n",
       "      <td>1989</td>\n",
       "      <td>201710</td>\n",
       "      <td>11~20</td>\n",
       "      <td>2</td>\n",
       "    </tr>\n",
       "    <tr>\n",
       "      <th>3</th>\n",
       "      <td>1179897</td>\n",
       "      <td>11086</td>\n",
       "      <td>서울특별시</td>\n",
       "      <td>대치동</td>\n",
       "      <td>1007-2</td>\n",
       "      <td>풍림아이원4차(1007-2)</td>\n",
       "      <td>대치동 1007-2 풍림아이원4차(1007-2)</td>\n",
       "      <td>111.5400</td>\n",
       "      <td>2004</td>\n",
       "      <td>201707</td>\n",
       "      <td>1~10</td>\n",
       "      <td>10</td>\n",
       "    </tr>\n",
       "    <tr>\n",
       "      <th>4</th>\n",
       "      <td>1223091</td>\n",
       "      <td>2121</td>\n",
       "      <td>부산광역시</td>\n",
       "      <td>다대동</td>\n",
       "      <td>1670</td>\n",
       "      <td>다대롯데캐슬블루</td>\n",
       "      <td>다대동 1670 다대롯데캐슬블루</td>\n",
       "      <td>119.6398</td>\n",
       "      <td>2014</td>\n",
       "      <td>201712</td>\n",
       "      <td>11~20</td>\n",
       "      <td>21</td>\n",
       "    </tr>\n",
       "  </tbody>\n",
       "</table>\n",
       "</div>"
      ],
      "text/plain": [
       "   transaction_id  apartment_id   city dong   jibun              apt  \\\n",
       "0         1145756         10453  서울특별시   목동     938               청학   \n",
       "1         1198704           989  부산광역시  초량동  1143-8             고관맨션   \n",
       "2         1222384          8597  부산광역시  괴정동  447-13             우림그린   \n",
       "3         1179897         11086  서울특별시  대치동  1007-2  풍림아이원4차(1007-2)   \n",
       "4         1223091          2121  부산광역시  다대동    1670         다대롯데캐슬블루   \n",
       "\n",
       "                      addr_kr  exclusive_use_area  year_of_completion  \\\n",
       "0                   목동 938 청학             35.5500                2002   \n",
       "1             초량동 1143-8 고관맨션             68.7200                1977   \n",
       "2             괴정동 447-13 우림그린             72.5400                1989   \n",
       "3  대치동 1007-2 풍림아이원4차(1007-2)            111.5400                2004   \n",
       "4           다대동 1670 다대롯데캐슬블루            119.6398                2014   \n",
       "\n",
       "   transaction_year_month transaction_date  floor  \n",
       "0                  201711            11~20      2  \n",
       "1                  201708            21~31      2  \n",
       "2                  201710            11~20      2  \n",
       "3                  201707             1~10     10  \n",
       "4                  201712            11~20     21  "
      ]
     },
     "execution_count": 9,
     "metadata": {},
     "output_type": "execute_result"
    }
   ],
   "source": [
    "test_df.head()"
   ]
  },
  {
   "cell_type": "code",
   "execution_count": 10,
   "metadata": {
    "ExecuteTime": {
     "end_time": "2021-03-31T01:05:45.073567Z",
     "start_time": "2021-03-31T01:05:45.042567Z"
    }
   },
   "outputs": [
    {
     "data": {
      "text/html": [
       "<div>\n",
       "<style scoped>\n",
       "    .dataframe tbody tr th:only-of-type {\n",
       "        vertical-align: middle;\n",
       "    }\n",
       "\n",
       "    .dataframe tbody tr th {\n",
       "        vertical-align: top;\n",
       "    }\n",
       "\n",
       "    .dataframe thead th {\n",
       "        text-align: right;\n",
       "    }\n",
       "</style>\n",
       "<table border=\"1\" class=\"dataframe\">\n",
       "  <thead>\n",
       "    <tr style=\"text-align: right;\">\n",
       "      <th></th>\n",
       "      <th>transaction_id</th>\n",
       "      <th>apartment_id</th>\n",
       "      <th>exclusive_use_area</th>\n",
       "      <th>year_of_completion</th>\n",
       "      <th>transaction_year_month</th>\n",
       "      <th>floor</th>\n",
       "    </tr>\n",
       "  </thead>\n",
       "  <tbody>\n",
       "    <tr>\n",
       "      <th>count</th>\n",
       "      <td>5.463000e+03</td>\n",
       "      <td>5463.000000</td>\n",
       "      <td>5463.000000</td>\n",
       "      <td>5463.000000</td>\n",
       "      <td>5463.000000</td>\n",
       "      <td>5463.000000</td>\n",
       "    </tr>\n",
       "    <tr>\n",
       "      <th>mean</th>\n",
       "      <td>1.167126e+06</td>\n",
       "      <td>6287.570932</td>\n",
       "      <td>79.495250</td>\n",
       "      <td>2000.431082</td>\n",
       "      <td>201710.228446</td>\n",
       "      <td>8.266886</td>\n",
       "    </tr>\n",
       "    <tr>\n",
       "      <th>std</th>\n",
       "      <td>4.075365e+04</td>\n",
       "      <td>3624.756304</td>\n",
       "      <td>32.935434</td>\n",
       "      <td>9.982040</td>\n",
       "      <td>2.798195</td>\n",
       "      <td>6.082475</td>\n",
       "    </tr>\n",
       "    <tr>\n",
       "      <th>min</th>\n",
       "      <td>1.092791e+06</td>\n",
       "      <td>12.000000</td>\n",
       "      <td>10.321500</td>\n",
       "      <td>1961.000000</td>\n",
       "      <td>201701.000000</td>\n",
       "      <td>-1.000000</td>\n",
       "    </tr>\n",
       "    <tr>\n",
       "      <th>25%</th>\n",
       "      <td>1.134296e+06</td>\n",
       "      <td>3278.000000</td>\n",
       "      <td>59.760000</td>\n",
       "      <td>1995.000000</td>\n",
       "      <td>201709.000000</td>\n",
       "      <td>4.000000</td>\n",
       "    </tr>\n",
       "    <tr>\n",
       "      <th>50%</th>\n",
       "      <td>1.167937e+06</td>\n",
       "      <td>6091.000000</td>\n",
       "      <td>81.720000</td>\n",
       "      <td>2002.000000</td>\n",
       "      <td>201712.000000</td>\n",
       "      <td>7.000000</td>\n",
       "    </tr>\n",
       "    <tr>\n",
       "      <th>75%</th>\n",
       "      <td>1.202560e+06</td>\n",
       "      <td>9416.500000</td>\n",
       "      <td>84.970000</td>\n",
       "      <td>2007.000000</td>\n",
       "      <td>201712.000000</td>\n",
       "      <td>11.000000</td>\n",
       "    </tr>\n",
       "    <tr>\n",
       "      <th>max</th>\n",
       "      <td>1.234930e+06</td>\n",
       "      <td>12652.000000</td>\n",
       "      <td>273.860000</td>\n",
       "      <td>2017.000000</td>\n",
       "      <td>201712.000000</td>\n",
       "      <td>55.000000</td>\n",
       "    </tr>\n",
       "  </tbody>\n",
       "</table>\n",
       "</div>"
      ],
      "text/plain": [
       "       transaction_id  apartment_id  exclusive_use_area  year_of_completion  \\\n",
       "count    5.463000e+03   5463.000000         5463.000000         5463.000000   \n",
       "mean     1.167126e+06   6287.570932           79.495250         2000.431082   \n",
       "std      4.075365e+04   3624.756304           32.935434            9.982040   \n",
       "min      1.092791e+06     12.000000           10.321500         1961.000000   \n",
       "25%      1.134296e+06   3278.000000           59.760000         1995.000000   \n",
       "50%      1.167937e+06   6091.000000           81.720000         2002.000000   \n",
       "75%      1.202560e+06   9416.500000           84.970000         2007.000000   \n",
       "max      1.234930e+06  12652.000000          273.860000         2017.000000   \n",
       "\n",
       "       transaction_year_month        floor  \n",
       "count             5463.000000  5463.000000  \n",
       "mean            201710.228446     8.266886  \n",
       "std                  2.798195     6.082475  \n",
       "min             201701.000000    -1.000000  \n",
       "25%             201709.000000     4.000000  \n",
       "50%             201712.000000     7.000000  \n",
       "75%             201712.000000    11.000000  \n",
       "max             201712.000000    55.000000  "
      ]
     },
     "execution_count": 10,
     "metadata": {},
     "output_type": "execute_result"
    }
   ],
   "source": [
    "test_df.describe()"
   ]
  },
  {
   "cell_type": "code",
   "execution_count": 11,
   "metadata": {
    "ExecuteTime": {
     "end_time": "2021-03-31T01:05:45.089568Z",
     "start_time": "2021-03-31T01:05:45.074566Z"
    }
   },
   "outputs": [
    {
     "data": {
      "text/plain": [
       "transaction_id            False\n",
       "apartment_id              False\n",
       "city                      False\n",
       "dong                      False\n",
       "jibun                     False\n",
       "apt                       False\n",
       "addr_kr                   False\n",
       "exclusive_use_area        False\n",
       "year_of_completion        False\n",
       "transaction_year_month    False\n",
       "transaction_date          False\n",
       "floor                     False\n",
       "dtype: bool"
      ]
     },
     "execution_count": 11,
     "metadata": {},
     "output_type": "execute_result"
    }
   ],
   "source": [
    "test_df.isnull().any()"
   ]
  },
  {
   "cell_type": "code",
   "execution_count": 12,
   "metadata": {
    "ExecuteTime": {
     "end_time": "2021-03-31T01:05:45.105568Z",
     "start_time": "2021-03-31T01:05:45.091568Z"
    }
   },
   "outputs": [
    {
     "data": {
      "text/html": [
       "<div>\n",
       "<style scoped>\n",
       "    .dataframe tbody tr th:only-of-type {\n",
       "        vertical-align: middle;\n",
       "    }\n",
       "\n",
       "    .dataframe tbody tr th {\n",
       "        vertical-align: top;\n",
       "    }\n",
       "\n",
       "    .dataframe thead th {\n",
       "        text-align: right;\n",
       "    }\n",
       "</style>\n",
       "<table border=\"1\" class=\"dataframe\">\n",
       "  <thead>\n",
       "    <tr style=\"text-align: right;\">\n",
       "      <th></th>\n",
       "      <th>city</th>\n",
       "      <th>gu</th>\n",
       "      <th>dong</th>\n",
       "      <th>park_name</th>\n",
       "      <th>park_type</th>\n",
       "      <th>park_area</th>\n",
       "      <th>park_exercise_facility</th>\n",
       "      <th>park_entertainment_facility</th>\n",
       "      <th>park_benefit_facility</th>\n",
       "      <th>park_cultural_facitiy</th>\n",
       "      <th>park_facility_other</th>\n",
       "      <th>park_open_year</th>\n",
       "      <th>reference_date</th>\n",
       "    </tr>\n",
       "  </thead>\n",
       "  <tbody>\n",
       "    <tr>\n",
       "      <th>0</th>\n",
       "      <td>부산광역시</td>\n",
       "      <td>남구</td>\n",
       "      <td>대연동</td>\n",
       "      <td>대연공원</td>\n",
       "      <td>근린공원</td>\n",
       "      <td>55227.0</td>\n",
       "      <td>NaN</td>\n",
       "      <td>NaN</td>\n",
       "      <td>NaN</td>\n",
       "      <td>NaN</td>\n",
       "      <td>NaN</td>\n",
       "      <td>1944.0</td>\n",
       "      <td>2018-08-14</td>\n",
       "    </tr>\n",
       "    <tr>\n",
       "      <th>1</th>\n",
       "      <td>부산광역시</td>\n",
       "      <td>남구</td>\n",
       "      <td>대연동</td>\n",
       "      <td>당곡공원</td>\n",
       "      <td>역사공원</td>\n",
       "      <td>75465.0</td>\n",
       "      <td>NaN</td>\n",
       "      <td>NaN</td>\n",
       "      <td>NaN</td>\n",
       "      <td>NaN</td>\n",
       "      <td>NaN</td>\n",
       "      <td>1944.0</td>\n",
       "      <td>2018-08-14</td>\n",
       "    </tr>\n",
       "    <tr>\n",
       "      <th>2</th>\n",
       "      <td>부산광역시</td>\n",
       "      <td>남구</td>\n",
       "      <td>대연동</td>\n",
       "      <td>대일어린이공원</td>\n",
       "      <td>어린이공원</td>\n",
       "      <td>422.1</td>\n",
       "      <td>NaN</td>\n",
       "      <td>NaN</td>\n",
       "      <td>NaN</td>\n",
       "      <td>NaN</td>\n",
       "      <td>NaN</td>\n",
       "      <td>1965.0</td>\n",
       "      <td>2018-08-14</td>\n",
       "    </tr>\n",
       "    <tr>\n",
       "      <th>3</th>\n",
       "      <td>부산광역시</td>\n",
       "      <td>남구</td>\n",
       "      <td>대연동</td>\n",
       "      <td>못골어린이공원</td>\n",
       "      <td>어린이공원</td>\n",
       "      <td>499.8</td>\n",
       "      <td>NaN</td>\n",
       "      <td>NaN</td>\n",
       "      <td>NaN</td>\n",
       "      <td>NaN</td>\n",
       "      <td>NaN</td>\n",
       "      <td>1968.0</td>\n",
       "      <td>2018-08-14</td>\n",
       "    </tr>\n",
       "    <tr>\n",
       "      <th>4</th>\n",
       "      <td>부산광역시</td>\n",
       "      <td>남구</td>\n",
       "      <td>용호동</td>\n",
       "      <td>솔밭어린이공원</td>\n",
       "      <td>어린이공원</td>\n",
       "      <td>1500.2</td>\n",
       "      <td>NaN</td>\n",
       "      <td>NaN</td>\n",
       "      <td>NaN</td>\n",
       "      <td>NaN</td>\n",
       "      <td>NaN</td>\n",
       "      <td>1970.0</td>\n",
       "      <td>2018-08-14</td>\n",
       "    </tr>\n",
       "  </tbody>\n",
       "</table>\n",
       "</div>"
      ],
      "text/plain": [
       "    city  gu dong park_name park_type  park_area park_exercise_facility  \\\n",
       "0  부산광역시  남구  대연동      대연공원      근린공원    55227.0                    NaN   \n",
       "1  부산광역시  남구  대연동      당곡공원      역사공원    75465.0                    NaN   \n",
       "2  부산광역시  남구  대연동   대일어린이공원     어린이공원      422.1                    NaN   \n",
       "3  부산광역시  남구  대연동   못골어린이공원     어린이공원      499.8                    NaN   \n",
       "4  부산광역시  남구  용호동   솔밭어린이공원     어린이공원     1500.2                    NaN   \n",
       "\n",
       "  park_entertainment_facility park_benefit_facility park_cultural_facitiy  \\\n",
       "0                         NaN                   NaN                   NaN   \n",
       "1                         NaN                   NaN                   NaN   \n",
       "2                         NaN                   NaN                   NaN   \n",
       "3                         NaN                   NaN                   NaN   \n",
       "4                         NaN                   NaN                   NaN   \n",
       "\n",
       "  park_facility_other  park_open_year reference_date  \n",
       "0                 NaN          1944.0     2018-08-14  \n",
       "1                 NaN          1944.0     2018-08-14  \n",
       "2                 NaN          1965.0     2018-08-14  \n",
       "3                 NaN          1968.0     2018-08-14  \n",
       "4                 NaN          1970.0     2018-08-14  "
      ]
     },
     "execution_count": 12,
     "metadata": {},
     "output_type": "execute_result"
    }
   ],
   "source": [
    "park_df.head()"
   ]
  },
  {
   "cell_type": "code",
   "execution_count": 13,
   "metadata": {
    "ExecuteTime": {
     "end_time": "2021-03-31T01:05:45.137566Z",
     "start_time": "2021-03-31T01:05:45.106568Z"
    }
   },
   "outputs": [
    {
     "data": {
      "text/html": [
       "<div>\n",
       "<style scoped>\n",
       "    .dataframe tbody tr th:only-of-type {\n",
       "        vertical-align: middle;\n",
       "    }\n",
       "\n",
       "    .dataframe tbody tr th {\n",
       "        vertical-align: top;\n",
       "    }\n",
       "\n",
       "    .dataframe thead th {\n",
       "        text-align: right;\n",
       "    }\n",
       "</style>\n",
       "<table border=\"1\" class=\"dataframe\">\n",
       "  <thead>\n",
       "    <tr style=\"text-align: right;\">\n",
       "      <th></th>\n",
       "      <th>city</th>\n",
       "      <th>gu</th>\n",
       "      <th>dong</th>\n",
       "      <th>park_name</th>\n",
       "      <th>park_type</th>\n",
       "      <th>park_area</th>\n",
       "      <th>park_exercise_facility</th>\n",
       "      <th>park_entertainment_facility</th>\n",
       "      <th>park_benefit_facility</th>\n",
       "      <th>park_cultural_facitiy</th>\n",
       "      <th>park_facility_other</th>\n",
       "      <th>park_open_year</th>\n",
       "      <th>reference_date</th>\n",
       "    </tr>\n",
       "  </thead>\n",
       "  <tbody>\n",
       "    <tr>\n",
       "      <th>0</th>\n",
       "      <td>부산광역시</td>\n",
       "      <td>남구</td>\n",
       "      <td>대연동</td>\n",
       "      <td>대연공원</td>\n",
       "      <td>근린공원</td>\n",
       "      <td>55227.0</td>\n",
       "      <td>0</td>\n",
       "      <td>0</td>\n",
       "      <td>0</td>\n",
       "      <td>0</td>\n",
       "      <td>0</td>\n",
       "      <td>1944.0</td>\n",
       "      <td>2018-08-14</td>\n",
       "    </tr>\n",
       "    <tr>\n",
       "      <th>1</th>\n",
       "      <td>부산광역시</td>\n",
       "      <td>남구</td>\n",
       "      <td>대연동</td>\n",
       "      <td>당곡공원</td>\n",
       "      <td>역사공원</td>\n",
       "      <td>75465.0</td>\n",
       "      <td>0</td>\n",
       "      <td>0</td>\n",
       "      <td>0</td>\n",
       "      <td>0</td>\n",
       "      <td>0</td>\n",
       "      <td>1944.0</td>\n",
       "      <td>2018-08-14</td>\n",
       "    </tr>\n",
       "    <tr>\n",
       "      <th>2</th>\n",
       "      <td>부산광역시</td>\n",
       "      <td>남구</td>\n",
       "      <td>대연동</td>\n",
       "      <td>대일어린이공원</td>\n",
       "      <td>어린이공원</td>\n",
       "      <td>422.1</td>\n",
       "      <td>0</td>\n",
       "      <td>0</td>\n",
       "      <td>0</td>\n",
       "      <td>0</td>\n",
       "      <td>0</td>\n",
       "      <td>1965.0</td>\n",
       "      <td>2018-08-14</td>\n",
       "    </tr>\n",
       "    <tr>\n",
       "      <th>3</th>\n",
       "      <td>부산광역시</td>\n",
       "      <td>남구</td>\n",
       "      <td>대연동</td>\n",
       "      <td>못골어린이공원</td>\n",
       "      <td>어린이공원</td>\n",
       "      <td>499.8</td>\n",
       "      <td>0</td>\n",
       "      <td>0</td>\n",
       "      <td>0</td>\n",
       "      <td>0</td>\n",
       "      <td>0</td>\n",
       "      <td>1968.0</td>\n",
       "      <td>2018-08-14</td>\n",
       "    </tr>\n",
       "    <tr>\n",
       "      <th>4</th>\n",
       "      <td>부산광역시</td>\n",
       "      <td>남구</td>\n",
       "      <td>용호동</td>\n",
       "      <td>솔밭어린이공원</td>\n",
       "      <td>어린이공원</td>\n",
       "      <td>1500.2</td>\n",
       "      <td>0</td>\n",
       "      <td>0</td>\n",
       "      <td>0</td>\n",
       "      <td>0</td>\n",
       "      <td>0</td>\n",
       "      <td>1970.0</td>\n",
       "      <td>2018-08-14</td>\n",
       "    </tr>\n",
       "    <tr>\n",
       "      <th>...</th>\n",
       "      <td>...</td>\n",
       "      <td>...</td>\n",
       "      <td>...</td>\n",
       "      <td>...</td>\n",
       "      <td>...</td>\n",
       "      <td>...</td>\n",
       "      <td>...</td>\n",
       "      <td>...</td>\n",
       "      <td>...</td>\n",
       "      <td>...</td>\n",
       "      <td>...</td>\n",
       "      <td>...</td>\n",
       "      <td>...</td>\n",
       "    </tr>\n",
       "    <tr>\n",
       "      <th>1354</th>\n",
       "      <td>서울특별시</td>\n",
       "      <td>구로구</td>\n",
       "      <td>천왕동</td>\n",
       "      <td>이펜시아어린이공원</td>\n",
       "      <td>어린이공원</td>\n",
       "      <td>1500.0</td>\n",
       "      <td>0</td>\n",
       "      <td>1</td>\n",
       "      <td>0</td>\n",
       "      <td>0</td>\n",
       "      <td>0</td>\n",
       "      <td>2006.0</td>\n",
       "      <td>2019-02-25</td>\n",
       "    </tr>\n",
       "    <tr>\n",
       "      <th>1355</th>\n",
       "      <td>서울특별시</td>\n",
       "      <td>구로구</td>\n",
       "      <td>천왕동</td>\n",
       "      <td>개명소공원</td>\n",
       "      <td>소공원</td>\n",
       "      <td>5415.0</td>\n",
       "      <td>0</td>\n",
       "      <td>0</td>\n",
       "      <td>0</td>\n",
       "      <td>0</td>\n",
       "      <td>0</td>\n",
       "      <td>2006.0</td>\n",
       "      <td>2019-02-25</td>\n",
       "    </tr>\n",
       "    <tr>\n",
       "      <th>1356</th>\n",
       "      <td>서울특별시</td>\n",
       "      <td>구로구</td>\n",
       "      <td>천왕동</td>\n",
       "      <td>봉화대근린공원</td>\n",
       "      <td>근린공원</td>\n",
       "      <td>60975.0</td>\n",
       "      <td>0</td>\n",
       "      <td>0</td>\n",
       "      <td>0</td>\n",
       "      <td>0</td>\n",
       "      <td>0</td>\n",
       "      <td>2006.0</td>\n",
       "      <td>2019-02-25</td>\n",
       "    </tr>\n",
       "    <tr>\n",
       "      <th>1357</th>\n",
       "      <td>서울특별시</td>\n",
       "      <td>구로구</td>\n",
       "      <td>항동</td>\n",
       "      <td>푸른수목원</td>\n",
       "      <td>근린공원</td>\n",
       "      <td>100809.0</td>\n",
       "      <td>0</td>\n",
       "      <td>0</td>\n",
       "      <td>0</td>\n",
       "      <td>0</td>\n",
       "      <td>0</td>\n",
       "      <td>2005.0</td>\n",
       "      <td>2019-02-25</td>\n",
       "    </tr>\n",
       "    <tr>\n",
       "      <th>1358</th>\n",
       "      <td>서울특별시</td>\n",
       "      <td>구로구</td>\n",
       "      <td>오류동</td>\n",
       "      <td>오류동역문화공원</td>\n",
       "      <td>문화공원</td>\n",
       "      <td>7510.0</td>\n",
       "      <td>0</td>\n",
       "      <td>0</td>\n",
       "      <td>0</td>\n",
       "      <td>0</td>\n",
       "      <td>0</td>\n",
       "      <td>2013.0</td>\n",
       "      <td>2019-02-25</td>\n",
       "    </tr>\n",
       "  </tbody>\n",
       "</table>\n",
       "<p>1359 rows × 13 columns</p>\n",
       "</div>"
      ],
      "text/plain": [
       "       city   gu dong  park_name park_type  park_area  park_exercise_facility  \\\n",
       "0     부산광역시   남구  대연동       대연공원      근린공원    55227.0                       0   \n",
       "1     부산광역시   남구  대연동       당곡공원      역사공원    75465.0                       0   \n",
       "2     부산광역시   남구  대연동    대일어린이공원     어린이공원      422.1                       0   \n",
       "3     부산광역시   남구  대연동    못골어린이공원     어린이공원      499.8                       0   \n",
       "4     부산광역시   남구  용호동    솔밭어린이공원     어린이공원     1500.2                       0   \n",
       "...     ...  ...  ...        ...       ...        ...                     ...   \n",
       "1354  서울특별시  구로구  천왕동  이펜시아어린이공원     어린이공원     1500.0                       0   \n",
       "1355  서울특별시  구로구  천왕동      개명소공원       소공원     5415.0                       0   \n",
       "1356  서울특별시  구로구  천왕동    봉화대근린공원      근린공원    60975.0                       0   \n",
       "1357  서울특별시  구로구   항동      푸른수목원      근린공원   100809.0                       0   \n",
       "1358  서울특별시  구로구  오류동   오류동역문화공원      문화공원     7510.0                       0   \n",
       "\n",
       "      park_entertainment_facility  park_benefit_facility  \\\n",
       "0                               0                      0   \n",
       "1                               0                      0   \n",
       "2                               0                      0   \n",
       "3                               0                      0   \n",
       "4                               0                      0   \n",
       "...                           ...                    ...   \n",
       "1354                            1                      0   \n",
       "1355                            0                      0   \n",
       "1356                            0                      0   \n",
       "1357                            0                      0   \n",
       "1358                            0                      0   \n",
       "\n",
       "      park_cultural_facitiy  park_facility_other  park_open_year  \\\n",
       "0                         0                    0          1944.0   \n",
       "1                         0                    0          1944.0   \n",
       "2                         0                    0          1965.0   \n",
       "3                         0                    0          1968.0   \n",
       "4                         0                    0          1970.0   \n",
       "...                     ...                  ...             ...   \n",
       "1354                      0                    0          2006.0   \n",
       "1355                      0                    0          2006.0   \n",
       "1356                      0                    0          2006.0   \n",
       "1357                      0                    0          2005.0   \n",
       "1358                      0                    0          2013.0   \n",
       "\n",
       "     reference_date  \n",
       "0        2018-08-14  \n",
       "1        2018-08-14  \n",
       "2        2018-08-14  \n",
       "3        2018-08-14  \n",
       "4        2018-08-14  \n",
       "...             ...  \n",
       "1354     2019-02-25  \n",
       "1355     2019-02-25  \n",
       "1356     2019-02-25  \n",
       "1357     2019-02-25  \n",
       "1358     2019-02-25  \n",
       "\n",
       "[1359 rows x 13 columns]"
      ]
     },
     "execution_count": 13,
     "metadata": {},
     "output_type": "execute_result"
    }
   ],
   "source": [
    "park_df.iloc[:,6:11] = park_df.iloc[:,6:11].notnull().astype(int)\n",
    "park_df"
   ]
  },
  {
   "cell_type": "code",
   "execution_count": 14,
   "metadata": {
    "ExecuteTime": {
     "end_time": "2021-03-31T01:05:45.281135Z",
     "start_time": "2021-03-31T01:05:45.138567Z"
    }
   },
   "outputs": [
    {
     "data": {
      "image/png": "[encoded data removed]",
      "text/plain": [
       "<Figure size 432x288 with 1 Axes>"
      ]
     },
     "metadata": {
      "needs_background": "light"
     },
     "output_type": "display_data"
    }
   ],
   "source": [
    "plt.figure()\n",
    "plt.hist(park_df['park_area'], bins=30)\n",
    "plt.xlabel('Area(Square meter)')\n",
    "plt.ylabel('Count')\n",
    "plt.title('Park Area Distribution')\n",
    "plt.show()"
   ]
  },
  {
   "cell_type": "code",
   "execution_count": 32,
   "metadata": {
    "ExecuteTime": {
     "end_time": "2021-03-31T01:14:08.232539Z",
     "start_time": "2021-03-31T01:14:08.020277Z"
    }
   },
   "outputs": [
    {
     "data": {
      "text/plain": [
       "Text(0.5, 1.0, 'Facility Corr. Heatmap')"
      ]
     },
     "execution_count": 32,
     "metadata": {},
     "output_type": "execute_result"
    },
    {
     "data": {
      "image/png": "[encoded data removed]",
      "text/plain": [
       "<Figure size 432x288 with 2 Axes>"
      ]
     },
     "metadata": {
      "needs_background": "light"
     },
     "output_type": "display_data"
    }
   ],
   "source": [
    "facility = park_df.iloc[:,6:11]\n",
    "plt.figure()\n",
    "sns.heatmap(facility.corr(), annot=True)\n",
    "plt.title('Facility Corr. Heatmap')"
   ]
  },
  {
   "cell_type": "code",
   "execution_count": 15,
   "metadata": {
    "ExecuteTime": {
     "end_time": "2021-03-31T01:05:45.297137Z",
     "start_time": "2021-03-31T01:05:45.282136Z"
    },
    "scrolled": true
   },
   "outputs": [
    {
     "data": {
      "text/html": [
       "<div>\n",
       "<style scoped>\n",
       "    .dataframe tbody tr th:only-of-type {\n",
       "        vertical-align: middle;\n",
       "    }\n",
       "\n",
       "    .dataframe tbody tr th {\n",
       "        vertical-align: top;\n",
       "    }\n",
       "\n",
       "    .dataframe thead th {\n",
       "        text-align: right;\n",
       "    }\n",
       "</style>\n",
       "<table border=\"1\" class=\"dataframe\">\n",
       "  <thead>\n",
       "    <tr style=\"text-align: right;\">\n",
       "      <th></th>\n",
       "      <th>city</th>\n",
       "      <th>gu</th>\n",
       "      <th>day_care_name</th>\n",
       "      <th>day_care_type</th>\n",
       "      <th>day_care_baby_num</th>\n",
       "      <th>teacher_num</th>\n",
       "      <th>nursing_room_num</th>\n",
       "      <th>playground_num</th>\n",
       "      <th>CCTV_num</th>\n",
       "      <th>is_commuting_vehicle</th>\n",
       "      <th>reference_date</th>\n",
       "    </tr>\n",
       "  </thead>\n",
       "  <tbody>\n",
       "    <tr>\n",
       "      <th>0</th>\n",
       "      <td>서울특별시</td>\n",
       "      <td>서대문구</td>\n",
       "      <td>가람어린이집</td>\n",
       "      <td>국공립</td>\n",
       "      <td>70</td>\n",
       "      <td>11.0</td>\n",
       "      <td>5.0</td>\n",
       "      <td>1.0</td>\n",
       "      <td>7.0</td>\n",
       "      <td>N</td>\n",
       "      <td>2018-07-31</td>\n",
       "    </tr>\n",
       "    <tr>\n",
       "      <th>1</th>\n",
       "      <td>서울특별시</td>\n",
       "      <td>서대문구</td>\n",
       "      <td>가좌제일어린이집</td>\n",
       "      <td>국공립</td>\n",
       "      <td>88</td>\n",
       "      <td>22.0</td>\n",
       "      <td>5.0</td>\n",
       "      <td>2.0</td>\n",
       "      <td>10.0</td>\n",
       "      <td>N</td>\n",
       "      <td>2018-07-31</td>\n",
       "    </tr>\n",
       "    <tr>\n",
       "      <th>2</th>\n",
       "      <td>서울특별시</td>\n",
       "      <td>서대문구</td>\n",
       "      <td>경찰청어린이집</td>\n",
       "      <td>직장</td>\n",
       "      <td>90</td>\n",
       "      <td>23.0</td>\n",
       "      <td>6.0</td>\n",
       "      <td>1.0</td>\n",
       "      <td>32.0</td>\n",
       "      <td>N</td>\n",
       "      <td>2018-07-31</td>\n",
       "    </tr>\n",
       "    <tr>\n",
       "      <th>3</th>\n",
       "      <td>서울특별시</td>\n",
       "      <td>서대문구</td>\n",
       "      <td>고운햇살어린이집</td>\n",
       "      <td>가정</td>\n",
       "      <td>18</td>\n",
       "      <td>5.0</td>\n",
       "      <td>3.0</td>\n",
       "      <td>0.0</td>\n",
       "      <td>4.0</td>\n",
       "      <td>N</td>\n",
       "      <td>2018-07-31</td>\n",
       "    </tr>\n",
       "    <tr>\n",
       "      <th>4</th>\n",
       "      <td>서울특별시</td>\n",
       "      <td>서대문구</td>\n",
       "      <td>고은어린이집</td>\n",
       "      <td>국공립</td>\n",
       "      <td>93</td>\n",
       "      <td>20.0</td>\n",
       "      <td>7.0</td>\n",
       "      <td>2.0</td>\n",
       "      <td>10.0</td>\n",
       "      <td>N</td>\n",
       "      <td>2018-07-31</td>\n",
       "    </tr>\n",
       "  </tbody>\n",
       "</table>\n",
       "</div>"
      ],
      "text/plain": [
       "    city    gu day_care_name day_care_type  day_care_baby_num  teacher_num  \\\n",
       "0  서울특별시  서대문구        가람어린이집           국공립                 70         11.0   \n",
       "1  서울특별시  서대문구      가좌제일어린이집           국공립                 88         22.0   \n",
       "2  서울특별시  서대문구       경찰청어린이집            직장                 90         23.0   \n",
       "3  서울특별시  서대문구      고운햇살어린이집            가정                 18          5.0   \n",
       "4  서울특별시  서대문구        고은어린이집           국공립                 93         20.0   \n",
       "\n",
       "   nursing_room_num  playground_num  CCTV_num is_commuting_vehicle  \\\n",
       "0               5.0             1.0       7.0                    N   \n",
       "1               5.0             2.0      10.0                    N   \n",
       "2               6.0             1.0      32.0                    N   \n",
       "3               3.0             0.0       4.0                    N   \n",
       "4               7.0             2.0      10.0                    N   \n",
       "\n",
       "  reference_date  \n",
       "0     2018-07-31  \n",
       "1     2018-07-31  \n",
       "2     2018-07-31  \n",
       "3     2018-07-31  \n",
       "4     2018-07-31  "
      ]
     },
     "execution_count": 15,
     "metadata": {},
     "output_type": "execute_result"
    }
   ],
   "source": [
    "center_df.head()"
   ]
  },
  {
   "cell_type": "code",
   "execution_count": 16,
   "metadata": {
    "ExecuteTime": {
     "end_time": "2021-03-31T01:05:45.329136Z",
     "start_time": "2021-03-31T01:05:45.298137Z"
    }
   },
   "outputs": [
    {
     "data": {
      "text/html": [
       "<div>\n",
       "<style scoped>\n",
       "    .dataframe tbody tr th:only-of-type {\n",
       "        vertical-align: middle;\n",
       "    }\n",
       "\n",
       "    .dataframe tbody tr th {\n",
       "        vertical-align: top;\n",
       "    }\n",
       "\n",
       "    .dataframe thead th {\n",
       "        text-align: right;\n",
       "    }\n",
       "</style>\n",
       "<table border=\"1\" class=\"dataframe\">\n",
       "  <thead>\n",
       "    <tr style=\"text-align: right;\">\n",
       "      <th></th>\n",
       "      <th>day_care_baby_num</th>\n",
       "      <th>teacher_num</th>\n",
       "      <th>nursing_room_num</th>\n",
       "      <th>playground_num</th>\n",
       "      <th>CCTV_num</th>\n",
       "    </tr>\n",
       "  </thead>\n",
       "  <tbody>\n",
       "    <tr>\n",
       "      <th>count</th>\n",
       "      <td>7551.000000</td>\n",
       "      <td>7326.000000</td>\n",
       "      <td>4352.000000</td>\n",
       "      <td>3626.000000</td>\n",
       "      <td>5280.000000</td>\n",
       "    </tr>\n",
       "    <tr>\n",
       "      <th>mean</th>\n",
       "      <td>44.396636</td>\n",
       "      <td>9.013514</td>\n",
       "      <td>4.528033</td>\n",
       "      <td>0.398235</td>\n",
       "      <td>6.676136</td>\n",
       "    </tr>\n",
       "    <tr>\n",
       "      <th>std</th>\n",
       "      <td>37.022079</td>\n",
       "      <td>5.809909</td>\n",
       "      <td>2.075709</td>\n",
       "      <td>0.730602</td>\n",
       "      <td>4.482168</td>\n",
       "    </tr>\n",
       "    <tr>\n",
       "      <th>min</th>\n",
       "      <td>5.000000</td>\n",
       "      <td>0.000000</td>\n",
       "      <td>0.000000</td>\n",
       "      <td>0.000000</td>\n",
       "      <td>0.000000</td>\n",
       "    </tr>\n",
       "    <tr>\n",
       "      <th>25%</th>\n",
       "      <td>19.000000</td>\n",
       "      <td>6.000000</td>\n",
       "      <td>3.000000</td>\n",
       "      <td>0.000000</td>\n",
       "      <td>4.000000</td>\n",
       "    </tr>\n",
       "    <tr>\n",
       "      <th>50%</th>\n",
       "      <td>29.000000</td>\n",
       "      <td>7.000000</td>\n",
       "      <td>4.000000</td>\n",
       "      <td>0.000000</td>\n",
       "      <td>5.000000</td>\n",
       "    </tr>\n",
       "    <tr>\n",
       "      <th>75%</th>\n",
       "      <td>60.000000</td>\n",
       "      <td>11.000000</td>\n",
       "      <td>5.000000</td>\n",
       "      <td>1.000000</td>\n",
       "      <td>8.000000</td>\n",
       "    </tr>\n",
       "    <tr>\n",
       "      <th>max</th>\n",
       "      <td>489.000000</td>\n",
       "      <td>98.000000</td>\n",
       "      <td>22.000000</td>\n",
       "      <td>16.000000</td>\n",
       "      <td>53.000000</td>\n",
       "    </tr>\n",
       "  </tbody>\n",
       "</table>\n",
       "</div>"
      ],
      "text/plain": [
       "       day_care_baby_num  teacher_num  nursing_room_num  playground_num  \\\n",
       "count        7551.000000  7326.000000       4352.000000     3626.000000   \n",
       "mean           44.396636     9.013514          4.528033        0.398235   \n",
       "std            37.022079     5.809909          2.075709        0.730602   \n",
       "min             5.000000     0.000000          0.000000        0.000000   \n",
       "25%            19.000000     6.000000          3.000000        0.000000   \n",
       "50%            29.000000     7.000000          4.000000        0.000000   \n",
       "75%            60.000000    11.000000          5.000000        1.000000   \n",
       "max           489.000000    98.000000         22.000000       16.000000   \n",
       "\n",
       "          CCTV_num  \n",
       "count  5280.000000  \n",
       "mean      6.676136  \n",
       "std       4.482168  \n",
       "min       0.000000  \n",
       "25%       4.000000  \n",
       "50%       5.000000  \n",
       "75%       8.000000  \n",
       "max      53.000000  "
      ]
     },
     "execution_count": 16,
     "metadata": {},
     "output_type": "execute_result"
    }
   ],
   "source": [
    "center_df.describe()"
   ]
  },
  {
   "cell_type": "code",
   "execution_count": 17,
   "metadata": {
    "ExecuteTime": {
     "end_time": "2021-03-31T01:05:45.345135Z",
     "start_time": "2021-03-31T01:05:45.330137Z"
    }
   },
   "outputs": [
    {
     "data": {
      "text/plain": [
       "city                       0\n",
       "gu                         0\n",
       "day_care_name              0\n",
       "day_care_type              0\n",
       "day_care_baby_num          0\n",
       "teacher_num              225\n",
       "nursing_room_num        3199\n",
       "playground_num          3925\n",
       "CCTV_num                2271\n",
       "is_commuting_vehicle     496\n",
       "reference_date             0\n",
       "dtype: int64"
      ]
     },
     "execution_count": 17,
     "metadata": {},
     "output_type": "execute_result"
    }
   ],
   "source": [
    "center_df.isna().sum()"
   ]
  },
  {
   "cell_type": "code",
   "execution_count": 18,
   "metadata": {
    "ExecuteTime": {
     "end_time": "2021-03-31T01:05:45.361136Z",
     "start_time": "2021-03-31T01:05:45.346137Z"
    },
    "scrolled": true
   },
   "outputs": [
    {
     "name": "stdout",
     "output_type": "stream",
     "text": [
      "<class 'pandas.core.frame.DataFrame'>\n",
      "RangeIndex: 7551 entries, 0 to 7550\n",
      "Data columns (total 11 columns):\n",
      " #   Column                Non-Null Count  Dtype  \n",
      "---  ------                --------------  -----  \n",
      " 0   city                  7551 non-null   object \n",
      " 1   gu                    7551 non-null   object \n",
      " 2   day_care_name         7551 non-null   object \n",
      " 3   day_care_type         7551 non-null   object \n",
      " 4   day_care_baby_num     7551 non-null   int64  \n",
      " 5   teacher_num           7326 non-null   float64\n",
      " 6   nursing_room_num      4352 non-null   float64\n",
      " 7   playground_num        3626 non-null   float64\n",
      " 8   CCTV_num              5280 non-null   float64\n",
      " 9   is_commuting_vehicle  7055 non-null   object \n",
      " 10  reference_date        7551 non-null   object \n",
      "dtypes: float64(4), int64(1), object(6)\n",
      "memory usage: 649.0+ KB\n"
     ]
    }
   ],
   "source": [
    "center_df.info()"
   ]
  },
  {
   "cell_type": "code",
   "execution_count": 19,
   "metadata": {
    "ExecuteTime": {
     "end_time": "2021-03-31T01:05:45.377135Z",
     "start_time": "2021-03-31T01:05:45.362136Z"
    },
    "scrolled": false
   },
   "outputs": [
    {
     "data": {
      "text/plain": [
       "N    4102\n",
       "Y    2446\n",
       "      401\n",
       "y      88\n",
       "n      18\n",
       "Name: is_commuting_vehicle, dtype: int64"
      ]
     },
     "execution_count": 19,
     "metadata": {},
     "output_type": "execute_result"
    }
   ],
   "source": [
    "center_df['is_commuting_vehicle'].value_counts()"
   ]
  },
  {
   "cell_type": "code",
   "execution_count": 20,
   "metadata": {
    "ExecuteTime": {
     "end_time": "2021-03-31T01:05:45.393134Z",
     "start_time": "2021-03-31T01:05:45.378135Z"
    }
   },
   "outputs": [],
   "source": [
    "center_df.replace('y','Y',inplace=True)\n",
    "center_df.replace('n','N',inplace=True)"
   ]
  },
  {
   "cell_type": "code",
   "execution_count": 52,
   "metadata": {
    "ExecuteTime": {
     "end_time": "2021-03-31T01:53:41.370074Z",
     "start_time": "2021-03-31T01:53:41.262074Z"
    }
   },
   "outputs": [
    {
     "data": {
      "text/plain": [
       "Text(0.5, 1.0, 'Day Care Type Count Plot')"
      ]
     },
     "execution_count": 52,
     "metadata": {},
     "output_type": "execute_result"
    },
    {
     "data": {
      "image/png": "[encoded data removed]",
      "text/plain": [
       "<Figure size 432x288 with 1 Axes>"
      ]
     },
     "metadata": {
      "needs_background": "light"
     },
     "output_type": "display_data"
    }
   ],
   "source": [
    "plt.figure()\n",
    "sns.countplot(center_df['day_care_type'])\n",
    "plt.title('Day Care Type Count Plot')"
   ]
  },
  {
   "cell_type": "code",
   "execution_count": 58,
   "metadata": {
    "ExecuteTime": {
     "end_time": "2021-03-31T01:58:25.761953Z",
     "start_time": "2021-03-31T01:58:25.742951Z"
    }
   },
   "outputs": [
    {
     "data": {
      "text/html": [
       "<div>\n",
       "<style scoped>\n",
       "    .dataframe tbody tr th:only-of-type {\n",
       "        vertical-align: middle;\n",
       "    }\n",
       "\n",
       "    .dataframe tbody tr th {\n",
       "        vertical-align: top;\n",
       "    }\n",
       "\n",
       "    .dataframe thead th {\n",
       "        text-align: right;\n",
       "    }\n",
       "</style>\n",
       "<table border=\"1\" class=\"dataframe\">\n",
       "  <thead>\n",
       "    <tr style=\"text-align: right;\">\n",
       "      <th></th>\n",
       "      <th>mean_baby_num</th>\n",
       "    </tr>\n",
       "    <tr>\n",
       "      <th>day_care_type</th>\n",
       "      <th></th>\n",
       "    </tr>\n",
       "  </thead>\n",
       "  <tbody>\n",
       "    <tr>\n",
       "      <th>가정</th>\n",
       "      <td>18.394551</td>\n",
       "    </tr>\n",
       "    <tr>\n",
       "      <th>국공립</th>\n",
       "      <td>64.024858</td>\n",
       "    </tr>\n",
       "    <tr>\n",
       "      <th>민간</th>\n",
       "      <td>60.483949</td>\n",
       "    </tr>\n",
       "    <tr>\n",
       "      <th>법인·단체</th>\n",
       "      <td>64.575221</td>\n",
       "    </tr>\n",
       "    <tr>\n",
       "      <th>사회복지법인</th>\n",
       "      <td>85.392523</td>\n",
       "    </tr>\n",
       "    <tr>\n",
       "      <th>직장</th>\n",
       "      <td>71.334559</td>\n",
       "    </tr>\n",
       "    <tr>\n",
       "      <th>협동</th>\n",
       "      <td>29.179487</td>\n",
       "    </tr>\n",
       "  </tbody>\n",
       "</table>\n",
       "</div>"
      ],
      "text/plain": [
       "               mean_baby_num\n",
       "day_care_type               \n",
       "가정                 18.394551\n",
       "국공립                64.024858\n",
       "민간                 60.483949\n",
       "법인·단체              64.575221\n",
       "사회복지법인             85.392523\n",
       "직장                 71.334559\n",
       "협동                 29.179487"
      ]
     },
     "execution_count": 58,
     "metadata": {},
     "output_type": "execute_result"
    }
   ],
   "source": [
    "pd.DataFrame(center_df.groupby('day_care_type')['day_care_baby_num'].mean()).rename(columns={'day_care_baby_num': 'mean_baby_num'})"
   ]
  },
  {
   "cell_type": "code",
   "execution_count": 21,
   "metadata": {
    "ExecuteTime": {
     "end_time": "2021-03-31T01:05:45.601136Z",
     "start_time": "2021-03-31T01:05:45.394136Z"
    },
    "scrolled": true
   },
   "outputs": [
    {
     "data": {
      "text/plain": [
       "Text(0.5, 1.0, 'Commuting Vehicle Count Plot')"
      ]
     },
     "execution_count": 21,
     "metadata": {},
     "output_type": "execute_result"
    },
    {
     "data": {
      "image/png": "[encoded data removed]",
      "text/plain": [
       "<Figure size 432x288 with 1 Axes>"
      ]
     },
     "metadata": {
      "needs_background": "light"
     },
     "output_type": "display_data"
    }
   ],
   "source": [
    "plt.figure()\n",
    "plt.rcParams['font.family'] = 'Malgun Gothic'\n",
    "sns.countplot(center_df['is_commuting_vehicle'], hue='day_care_type', data=center_df)\n",
    "plt.title('Commuting Vehicle Count Plot')"
   ]
  },
  {
   "cell_type": "code",
   "execution_count": 66,
   "metadata": {
    "ExecuteTime": {
     "end_time": "2021-03-31T02:09:55.118189Z",
     "start_time": "2021-03-31T02:09:54.988187Z"
    }
   },
   "outputs": [
    {
     "data": {
      "text/plain": [
       "Text(0.5, 0, 'Number of Baby')"
      ]
     },
     "execution_count": 66,
     "metadata": {},
     "output_type": "execute_result"
    },
    {
     "data": {
      "image/png": "[encoded data removed]",
      "text/plain": [
       "<Figure size 432x288 with 1 Axes>"
      ]
     },
     "metadata": {
      "needs_background": "light"
     },
     "output_type": "display_data"
    }
   ],
   "source": [
    "plt.figure()\n",
    "plt.hist(center_df['day_care_baby_num'], bins=30)\n",
    "plt.title('Number of Baby Histogram')\n",
    "plt.xlabel('Number of Baby')"
   ]
  },
  {
   "cell_type": "code",
   "execution_count": 70,
   "metadata": {
    "ExecuteTime": {
     "end_time": "2021-03-31T02:22:16.822181Z",
     "start_time": "2021-03-31T02:22:16.810179Z"
    }
   },
   "outputs": [
    {
     "data": {
      "text/plain": [
       "CCTV_num\n",
       "0.0      26.200000\n",
       "1.0      22.833333\n",
       "2.0      25.739130\n",
       "3.0      18.270335\n",
       "4.0      22.315408\n",
       "5.0      31.706468\n",
       "6.0      43.994764\n",
       "7.0      52.978261\n",
       "8.0      57.987234\n",
       "9.0      71.549383\n",
       "10.0     73.013072\n",
       "11.0     76.471545\n",
       "12.0     82.456522\n",
       "13.0     80.691358\n",
       "14.0     89.188406\n",
       "15.0     86.791045\n",
       "16.0     97.120482\n",
       "17.0    128.714286\n",
       "18.0    110.647059\n",
       "19.0    120.416667\n",
       "20.0    137.894737\n",
       "21.0    123.000000\n",
       "22.0    134.000000\n",
       "23.0    123.750000\n",
       "24.0    161.647059\n",
       "25.0    175.600000\n",
       "26.0    177.750000\n",
       "27.0    200.000000\n",
       "28.0    140.750000\n",
       "29.0    153.000000\n",
       "31.0     94.000000\n",
       "32.0    165.222222\n",
       "33.0    200.000000\n",
       "36.0     88.333333\n",
       "39.0    195.000000\n",
       "40.0    280.000000\n",
       "41.0    200.000000\n",
       "53.0    222.000000\n",
       "Name: day_care_baby_num, dtype: float64"
      ]
     },
     "execution_count": 70,
     "metadata": {},
     "output_type": "execute_result"
    }
   ],
   "source": [
    "cctv_baby = center_df.groupby('CCTV_num')['day_care_baby_num'].mean()  \n",
    "cctv_baby"
   ]
  },
  {
   "cell_type": "code",
   "execution_count": 95,
   "metadata": {
    "ExecuteTime": {
     "end_time": "2021-03-31T02:35:06.788662Z",
     "start_time": "2021-03-31T02:35:06.697172Z"
    }
   },
   "outputs": [
    {
     "data": {
      "text/plain": [
       "Text(0.5, 0, 'Number of CCTV')"
      ]
     },
     "execution_count": 95,
     "metadata": {},
     "output_type": "execute_result"
    },
    {
     "data": {
      "image/png": "[encoded data removed]",
      "text/plain": [
       "<Figure size 432x288 with 1 Axes>"
      ]
     },
     "metadata": {
      "needs_background": "light"
     },
     "output_type": "display_data"
    }
   ],
   "source": [
    "plt.figure()\n",
    "plt.plot(cctv_baby)\n",
    "plt.ylabel('Number of Baby')\n",
    "plt.xlabel('Number of CCTV')"
   ]
  },
  {
   "cell_type": "code",
   "execution_count": 91,
   "metadata": {
    "ExecuteTime": {
     "end_time": "2021-03-31T02:31:40.371910Z",
     "start_time": "2021-03-31T02:31:40.336912Z"
    }
   },
   "outputs": [
    {
     "data": {
      "text/html": [
       "<table class=\"simpletable\">\n",
       "<caption>OLS Regression Results</caption>\n",
       "<tr>\n",
       "  <th>Dep. Variable:</th>    <td>day_care_baby_num</td> <th>  R-squared:         </th> <td>   0.558</td> \n",
       "</tr>\n",
       "<tr>\n",
       "  <th>Model:</th>                   <td>OLS</td>        <th>  Adj. R-squared:    </th> <td>   0.558</td> \n",
       "</tr>\n",
       "<tr>\n",
       "  <th>Method:</th>             <td>Least Squares</td>   <th>  F-statistic:       </th> <td>   6652.</td> \n",
       "</tr>\n",
       "<tr>\n",
       "  <th>Date:</th>             <td>Wed, 31 Mar 2021</td>  <th>  Prob (F-statistic):</th>  <td>  0.00</td>  \n",
       "</tr>\n",
       "<tr>\n",
       "  <th>Time:</th>                 <td>11:31:40</td>      <th>  Log-Likelihood:    </th> <td> -24430.</td> \n",
       "</tr>\n",
       "<tr>\n",
       "  <th>No. Observations:</th>      <td>  5280</td>       <th>  AIC:               </th> <td>4.886e+04</td>\n",
       "</tr>\n",
       "<tr>\n",
       "  <th>Df Residuals:</th>          <td>  5278</td>       <th>  BIC:               </th> <td>4.888e+04</td>\n",
       "</tr>\n",
       "<tr>\n",
       "  <th>Df Model:</th>              <td>     1</td>       <th>                     </th>     <td> </td>    \n",
       "</tr>\n",
       "<tr>\n",
       "  <th>Covariance Type:</th>      <td>nonrobust</td>     <th>                     </th>     <td> </td>    \n",
       "</tr>\n",
       "</table>\n",
       "<table class=\"simpletable\">\n",
       "<tr>\n",
       "      <td></td>         <th>coef</th>     <th>std err</th>      <th>t</th>      <th>P>|t|</th>  <th>[0.025</th>    <th>0.975]</th>  \n",
       "</tr>\n",
       "<tr>\n",
       "  <th>Intercept</th> <td>    2.2859</td> <td>    0.611</td> <td>    3.743</td> <td> 0.000</td> <td>    1.089</td> <td>    3.483</td>\n",
       "</tr>\n",
       "<tr>\n",
       "  <th>CCTV_num</th>  <td>    6.1941</td> <td>    0.076</td> <td>   81.561</td> <td> 0.000</td> <td>    6.045</td> <td>    6.343</td>\n",
       "</tr>\n",
       "</table>\n",
       "<table class=\"simpletable\">\n",
       "<tr>\n",
       "  <th>Omnibus:</th>       <td>2679.170</td> <th>  Durbin-Watson:     </th> <td>   1.919</td> \n",
       "</tr>\n",
       "<tr>\n",
       "  <th>Prob(Omnibus):</th>  <td> 0.000</td>  <th>  Jarque-Bera (JB):  </th> <td>58677.008</td>\n",
       "</tr>\n",
       "<tr>\n",
       "  <th>Skew:</th>           <td> 1.935</td>  <th>  Prob(JB):          </th> <td>    0.00</td> \n",
       "</tr>\n",
       "<tr>\n",
       "  <th>Kurtosis:</th>       <td>18.866</td>  <th>  Cond. No.          </th> <td>    14.6</td> \n",
       "</tr>\n",
       "</table><br/><br/>Notes:<br/>[1] Standard Errors assume that the covariance matrix of the errors is correctly specified."
      ],
      "text/plain": [
       "<class 'statsmodels.iolib.summary.Summary'>\n",
       "\"\"\"\n",
       "                            OLS Regression Results                            \n",
       "==============================================================================\n",
       "Dep. Variable:      day_care_baby_num   R-squared:                       0.558\n",
       "Model:                            OLS   Adj. R-squared:                  0.558\n",
       "Method:                 Least Squares   F-statistic:                     6652.\n",
       "Date:                Wed, 31 Mar 2021   Prob (F-statistic):               0.00\n",
       "Time:                        11:31:40   Log-Likelihood:                -24430.\n",
       "No. Observations:                5280   AIC:                         4.886e+04\n",
       "Df Residuals:                    5278   BIC:                         4.888e+04\n",
       "Df Model:                           1                                         \n",
       "Covariance Type:            nonrobust                                         \n",
       "==============================================================================\n",
       "                 coef    std err          t      P>|t|      [0.025      0.975]\n",
       "------------------------------------------------------------------------------\n",
       "Intercept      2.2859      0.611      3.743      0.000       1.089       3.483\n",
       "CCTV_num       6.1941      0.076     81.561      0.000       6.045       6.343\n",
       "==============================================================================\n",
       "Omnibus:                     2679.170   Durbin-Watson:                   1.919\n",
       "Prob(Omnibus):                  0.000   Jarque-Bera (JB):            58677.008\n",
       "Skew:                           1.935   Prob(JB):                         0.00\n",
       "Kurtosis:                      18.866   Cond. No.                         14.6\n",
       "==============================================================================\n",
       "\n",
       "Notes:\n",
       "[1] Standard Errors assume that the covariance matrix of the errors is correctly specified.\n",
       "\"\"\""
      ]
     },
     "execution_count": 91,
     "metadata": {},
     "output_type": "execute_result"
    }
   ],
   "source": [
    "model = smf.ols(formula = 'day_care_baby_num ~ CCTV_num', data = center_df)\n",
    "result = model.fit()\n",
    "result.summary()"
   ]
  },
  {
   "cell_type": "markdown",
   "metadata": {},
   "source": [
    "국공립과 직장, 가정, 협동,의 경우 N이 많고 민간은 Y가 많으므로 해당 분류에 맞게 결측치를 채우고\n",
    "나머지 분류는 일반적으로 N이 많으로 N으로 채운다"
   ]
  },
  {
   "cell_type": "code",
   "execution_count": 22,
   "metadata": {
    "ExecuteTime": {
     "end_time": "2021-03-31T01:05:45.617136Z",
     "start_time": "2021-03-31T01:05:45.603138Z"
    }
   },
   "outputs": [
    {
     "data": {
      "text/html": [
       "<div>\n",
       "<style scoped>\n",
       "    .dataframe tbody tr th:only-of-type {\n",
       "        vertical-align: middle;\n",
       "    }\n",
       "\n",
       "    .dataframe tbody tr th {\n",
       "        vertical-align: top;\n",
       "    }\n",
       "\n",
       "    .dataframe thead th {\n",
       "        text-align: right;\n",
       "    }\n",
       "</style>\n",
       "<table border=\"1\" class=\"dataframe\">\n",
       "  <thead>\n",
       "    <tr style=\"text-align: right;\">\n",
       "      <th></th>\n",
       "      <th>is_commuting_vehicle</th>\n",
       "      <th>day_care_baby_num</th>\n",
       "    </tr>\n",
       "  </thead>\n",
       "  <tbody>\n",
       "    <tr>\n",
       "      <th>0</th>\n",
       "      <td>N</td>\n",
       "      <td>70</td>\n",
       "    </tr>\n",
       "    <tr>\n",
       "      <th>1</th>\n",
       "      <td>N</td>\n",
       "      <td>88</td>\n",
       "    </tr>\n",
       "    <tr>\n",
       "      <th>2</th>\n",
       "      <td>N</td>\n",
       "      <td>90</td>\n",
       "    </tr>\n",
       "    <tr>\n",
       "      <th>3</th>\n",
       "      <td>N</td>\n",
       "      <td>18</td>\n",
       "    </tr>\n",
       "    <tr>\n",
       "      <th>4</th>\n",
       "      <td>N</td>\n",
       "      <td>93</td>\n",
       "    </tr>\n",
       "    <tr>\n",
       "      <th>...</th>\n",
       "      <td>...</td>\n",
       "      <td>...</td>\n",
       "    </tr>\n",
       "    <tr>\n",
       "      <th>7546</th>\n",
       "      <td>Y</td>\n",
       "      <td>46</td>\n",
       "    </tr>\n",
       "    <tr>\n",
       "      <th>7547</th>\n",
       "      <td>Y</td>\n",
       "      <td>19</td>\n",
       "    </tr>\n",
       "    <tr>\n",
       "      <th>7548</th>\n",
       "      <td>Y</td>\n",
       "      <td>92</td>\n",
       "    </tr>\n",
       "    <tr>\n",
       "      <th>7549</th>\n",
       "      <td>Y</td>\n",
       "      <td>43</td>\n",
       "    </tr>\n",
       "    <tr>\n",
       "      <th>7550</th>\n",
       "      <td>Y</td>\n",
       "      <td>32</td>\n",
       "    </tr>\n",
       "  </tbody>\n",
       "</table>\n",
       "<p>7551 rows × 2 columns</p>\n",
       "</div>"
      ],
      "text/plain": [
       "     is_commuting_vehicle  day_care_baby_num\n",
       "0                       N                 70\n",
       "1                       N                 88\n",
       "2                       N                 90\n",
       "3                       N                 18\n",
       "4                       N                 93\n",
       "...                   ...                ...\n",
       "7546                    Y                 46\n",
       "7547                    Y                 19\n",
       "7548                    Y                 92\n",
       "7549                    Y                 43\n",
       "7550                    Y                 32\n",
       "\n",
       "[7551 rows x 2 columns]"
      ]
     },
     "execution_count": 22,
     "metadata": {},
     "output_type": "execute_result"
    }
   ],
   "source": [
    "center_df[['is_commuting_vehicle', 'day_care_baby_num']]"
   ]
  },
  {
   "cell_type": "code",
   "execution_count": 23,
   "metadata": {
    "ExecuteTime": {
     "end_time": "2021-03-31T01:05:45.633138Z",
     "start_time": "2021-03-31T01:05:45.620136Z"
    }
   },
   "outputs": [
    {
     "data": {
      "text/plain": [
       "array(['국공립', '직장', '가정', '민간', '법인·단체', '협동', '사회복지법인'], dtype=object)"
      ]
     },
     "execution_count": 23,
     "metadata": {},
     "output_type": "execute_result"
    }
   ],
   "source": [
    "center_df['day_care_type'].unique()"
   ]
  },
  {
   "cell_type": "code",
   "execution_count": 123,
   "metadata": {
    "ExecuteTime": {
     "end_time": "2021-03-31T02:54:09.088529Z",
     "start_time": "2021-03-31T02:54:08.789970Z"
    }
   },
   "outputs": [
    {
     "data": {
      "image/png": "[encoded data removed]",
      "text/plain": [
       "<Figure size 864x576 with 3 Axes>"
      ]
     },
     "metadata": {
      "needs_background": "light"
     },
     "output_type": "display_data"
    }
   ],
   "source": [
    "plt.subplots(1,3, figsize=(12,8))\n",
    "\n",
    "ax1 = plt.subplot(311)\n",
    "ax1.plot(teacher_baby)\n",
    "plt.ylabel('Number of Baby')\n",
    "plt.xlabel('Number of Teacher')\n",
    "\n",
    "ax2 = plt.subplot(312)\n",
    "ax2.plot(nursing_baby)\n",
    "plt.ylabel('Number of Baby')\n",
    "plt.xlabel('Number of Nursing Room')\n",
    "\n",
    "ax3 = plt.subplot(313)\n",
    "ax3.plot(ground_baby)\n",
    "plt.ylabel('Number of Baby')\n",
    "plt.xlabel('Number of Playground')\n",
    "\n",
    "plt.subplots_adjust(hspace=0.3)\n",
    "plt.show()\n"
   ]
  },
  {
   "cell_type": "code",
   "execution_count": 113,
   "metadata": {
    "ExecuteTime": {
     "end_time": "2021-03-31T02:47:56.997262Z",
     "start_time": "2021-03-31T02:47:56.977258Z"
    }
   },
   "outputs": [],
   "source": [
    "teacher_baby = center_df.groupby('teacher_num')['day_care_baby_num'].mean()\n",
    "nursing_baby = center_df.groupby('nursing_room_num')['day_care_baby_num'].mean()\n",
    "ground_baby = center_df.groupby('playground_num')['day_care_baby_num'].mean()"
   ]
  },
  {
   "cell_type": "code",
   "execution_count": 124,
   "metadata": {
    "ExecuteTime": {
     "end_time": "2021-03-31T02:55:22.017033Z",
     "start_time": "2021-03-31T02:55:21.989513Z"
    },
    "scrolled": true
   },
   "outputs": [
    {
     "data": {
      "text/html": [
       "<div>\n",
       "<style scoped>\n",
       "    .dataframe tbody tr th:only-of-type {\n",
       "        vertical-align: middle;\n",
       "    }\n",
       "\n",
       "    .dataframe tbody tr th {\n",
       "        vertical-align: top;\n",
       "    }\n",
       "\n",
       "    .dataframe thead th {\n",
       "        text-align: right;\n",
       "    }\n",
       "</style>\n",
       "<table border=\"1\" class=\"dataframe\">\n",
       "  <thead>\n",
       "    <tr style=\"text-align: right;\">\n",
       "      <th></th>\n",
       "      <th>city</th>\n",
       "      <th>gu</th>\n",
       "      <th>day_care_name</th>\n",
       "      <th>day_care_type</th>\n",
       "      <th>day_care_baby_num</th>\n",
       "      <th>teacher_num</th>\n",
       "      <th>nursing_room_num</th>\n",
       "      <th>playground_num</th>\n",
       "      <th>CCTV_num</th>\n",
       "      <th>is_commuting_vehicle</th>\n",
       "      <th>reference_date</th>\n",
       "    </tr>\n",
       "  </thead>\n",
       "  <tbody>\n",
       "    <tr>\n",
       "      <th>0</th>\n",
       "      <td>서울특별시</td>\n",
       "      <td>서대문구</td>\n",
       "      <td>가람어린이집</td>\n",
       "      <td>국공립</td>\n",
       "      <td>70</td>\n",
       "      <td>11.0</td>\n",
       "      <td>5.0</td>\n",
       "      <td>1.0</td>\n",
       "      <td>7.0</td>\n",
       "      <td>N</td>\n",
       "      <td>2018-07-31</td>\n",
       "    </tr>\n",
       "    <tr>\n",
       "      <th>1</th>\n",
       "      <td>서울특별시</td>\n",
       "      <td>서대문구</td>\n",
       "      <td>가좌제일어린이집</td>\n",
       "      <td>국공립</td>\n",
       "      <td>88</td>\n",
       "      <td>22.0</td>\n",
       "      <td>5.0</td>\n",
       "      <td>2.0</td>\n",
       "      <td>10.0</td>\n",
       "      <td>N</td>\n",
       "      <td>2018-07-31</td>\n",
       "    </tr>\n",
       "    <tr>\n",
       "      <th>2</th>\n",
       "      <td>서울특별시</td>\n",
       "      <td>서대문구</td>\n",
       "      <td>경찰청어린이집</td>\n",
       "      <td>직장</td>\n",
       "      <td>90</td>\n",
       "      <td>23.0</td>\n",
       "      <td>6.0</td>\n",
       "      <td>1.0</td>\n",
       "      <td>32.0</td>\n",
       "      <td>N</td>\n",
       "      <td>2018-07-31</td>\n",
       "    </tr>\n",
       "    <tr>\n",
       "      <th>3</th>\n",
       "      <td>서울특별시</td>\n",
       "      <td>서대문구</td>\n",
       "      <td>고운햇살어린이집</td>\n",
       "      <td>가정</td>\n",
       "      <td>18</td>\n",
       "      <td>5.0</td>\n",
       "      <td>3.0</td>\n",
       "      <td>0.0</td>\n",
       "      <td>4.0</td>\n",
       "      <td>N</td>\n",
       "      <td>2018-07-31</td>\n",
       "    </tr>\n",
       "    <tr>\n",
       "      <th>4</th>\n",
       "      <td>서울특별시</td>\n",
       "      <td>서대문구</td>\n",
       "      <td>고은어린이집</td>\n",
       "      <td>국공립</td>\n",
       "      <td>93</td>\n",
       "      <td>20.0</td>\n",
       "      <td>7.0</td>\n",
       "      <td>2.0</td>\n",
       "      <td>10.0</td>\n",
       "      <td>N</td>\n",
       "      <td>2018-07-31</td>\n",
       "    </tr>\n",
       "    <tr>\n",
       "      <th>...</th>\n",
       "      <td>...</td>\n",
       "      <td>...</td>\n",
       "      <td>...</td>\n",
       "      <td>...</td>\n",
       "      <td>...</td>\n",
       "      <td>...</td>\n",
       "      <td>...</td>\n",
       "      <td>...</td>\n",
       "      <td>...</td>\n",
       "      <td>...</td>\n",
       "      <td>...</td>\n",
       "    </tr>\n",
       "    <tr>\n",
       "      <th>7546</th>\n",
       "      <td>부산광역시</td>\n",
       "      <td>금정구</td>\n",
       "      <td>해바라기어린이집</td>\n",
       "      <td>민간</td>\n",
       "      <td>46</td>\n",
       "      <td>13.0</td>\n",
       "      <td>NaN</td>\n",
       "      <td>NaN</td>\n",
       "      <td>NaN</td>\n",
       "      <td>Y</td>\n",
       "      <td>2019-01-21</td>\n",
       "    </tr>\n",
       "    <tr>\n",
       "      <th>7547</th>\n",
       "      <td>부산광역시</td>\n",
       "      <td>금정구</td>\n",
       "      <td>해수어린이집</td>\n",
       "      <td>가정</td>\n",
       "      <td>19</td>\n",
       "      <td>6.0</td>\n",
       "      <td>NaN</td>\n",
       "      <td>NaN</td>\n",
       "      <td>NaN</td>\n",
       "      <td>Y</td>\n",
       "      <td>2019-01-21</td>\n",
       "    </tr>\n",
       "    <tr>\n",
       "      <th>7548</th>\n",
       "      <td>부산광역시</td>\n",
       "      <td>금정구</td>\n",
       "      <td>행복한그림동산어린이집</td>\n",
       "      <td>민간</td>\n",
       "      <td>92</td>\n",
       "      <td>16.0</td>\n",
       "      <td>NaN</td>\n",
       "      <td>NaN</td>\n",
       "      <td>NaN</td>\n",
       "      <td>Y</td>\n",
       "      <td>2019-01-21</td>\n",
       "    </tr>\n",
       "    <tr>\n",
       "      <th>7549</th>\n",
       "      <td>부산광역시</td>\n",
       "      <td>금정구</td>\n",
       "      <td>행복한어린이집</td>\n",
       "      <td>민간</td>\n",
       "      <td>43</td>\n",
       "      <td>12.0</td>\n",
       "      <td>NaN</td>\n",
       "      <td>NaN</td>\n",
       "      <td>NaN</td>\n",
       "      <td>Y</td>\n",
       "      <td>2019-01-21</td>\n",
       "    </tr>\n",
       "    <tr>\n",
       "      <th>7550</th>\n",
       "      <td>부산광역시</td>\n",
       "      <td>금정구</td>\n",
       "      <td>혜인어린이집</td>\n",
       "      <td>민간</td>\n",
       "      <td>32</td>\n",
       "      <td>7.0</td>\n",
       "      <td>NaN</td>\n",
       "      <td>NaN</td>\n",
       "      <td>NaN</td>\n",
       "      <td>Y</td>\n",
       "      <td>2019-01-21</td>\n",
       "    </tr>\n",
       "  </tbody>\n",
       "</table>\n",
       "<p>7551 rows × 11 columns</p>\n",
       "</div>"
      ],
      "text/plain": [
       "       city    gu day_care_name day_care_type  day_care_baby_num  teacher_num  \\\n",
       "0     서울특별시  서대문구        가람어린이집           국공립                 70         11.0   \n",
       "1     서울특별시  서대문구      가좌제일어린이집           국공립                 88         22.0   \n",
       "2     서울특별시  서대문구       경찰청어린이집            직장                 90         23.0   \n",
       "3     서울특별시  서대문구      고운햇살어린이집            가정                 18          5.0   \n",
       "4     서울특별시  서대문구        고은어린이집           국공립                 93         20.0   \n",
       "...     ...   ...           ...           ...                ...          ...   \n",
       "7546  부산광역시   금정구      해바라기어린이집            민간                 46         13.0   \n",
       "7547  부산광역시   금정구        해수어린이집            가정                 19          6.0   \n",
       "7548  부산광역시   금정구   행복한그림동산어린이집            민간                 92         16.0   \n",
       "7549  부산광역시   금정구       행복한어린이집            민간                 43         12.0   \n",
       "7550  부산광역시   금정구        혜인어린이집            민간                 32          7.0   \n",
       "\n",
       "      nursing_room_num  playground_num  CCTV_num is_commuting_vehicle  \\\n",
       "0                  5.0             1.0       7.0                    N   \n",
       "1                  5.0             2.0      10.0                    N   \n",
       "2                  6.0             1.0      32.0                    N   \n",
       "3                  3.0             0.0       4.0                    N   \n",
       "4                  7.0             2.0      10.0                    N   \n",
       "...                ...             ...       ...                  ...   \n",
       "7546               NaN             NaN       NaN                    Y   \n",
       "7547               NaN             NaN       NaN                    Y   \n",
       "7548               NaN             NaN       NaN                    Y   \n",
       "7549               NaN             NaN       NaN                    Y   \n",
       "7550               NaN             NaN       NaN                    Y   \n",
       "\n",
       "     reference_date  \n",
       "0        2018-07-31  \n",
       "1        2018-07-31  \n",
       "2        2018-07-31  \n",
       "3        2018-07-31  \n",
       "4        2018-07-31  \n",
       "...             ...  \n",
       "7546     2019-01-21  \n",
       "7547     2019-01-21  \n",
       "7548     2019-01-21  \n",
       "7549     2019-01-21  \n",
       "7550     2019-01-21  \n",
       "\n",
       "[7551 rows x 11 columns]"
      ]
     },
     "execution_count": 124,
     "metadata": {},
     "output_type": "execute_result"
    }
   ],
   "source": [
    "center_df"
   ]
  },
  {
   "cell_type": "code",
   "execution_count": null,
   "metadata": {},
   "outputs": [],
   "source": []
  }
 ],
 "metadata": {
  "kernelspec": {
   "display_name": "Python 3",
   "language": "python",
   "name": "python3"
  },
  "language_info": {
   "codemirror_mode": {
    "name": "ipython",
    "version": 3
   },
   "file_extension": ".py",
   "mimetype": "text/x-python",
   "name": "python",
   "nbconvert_exporter": "python",
   "pygments_lexer": "ipython3",
   "version": "3.7.10"
  },
  "toc": {
   "base_numbering": 1,
   "nav_menu": {},
   "number_sections": false,
   "sideBar": true,
   "skip_h1_title": false,
   "title_cell": "Table of Contents",
   "title_sidebar": "Contents",
   "toc_cell": false,
   "toc_position": {},
   "toc_section_display": true,
   "toc_window_display": false
  }
 },
 "nbformat": 4,
 "nbformat_minor": 4
}
