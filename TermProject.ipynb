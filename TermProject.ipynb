{
  "nbformat": 4,
  "nbformat_minor": 0,
  "metadata": {
    "kernelspec": {
      "display_name": "Python 3",
      "language": "python",
      "name": "python3"
    },
    "language_info": {
      "codemirror_mode": {
        "name": "ipython",
        "version": 3
      },
      "file_extension": ".py",
      "mimetype": "text/x-python",
      "name": "python",
      "nbconvert_exporter": "python",
      "pygments_lexer": "ipython3",
      "version": "3.7.10"
    },
    "toc": {
      "base_numbering": 1,
      "nav_menu": {},
      "number_sections": false,
      "sideBar": true,
      "skip_h1_title": false,
      "title_cell": "Table of Contents",
      "title_sidebar": "Contents",
      "toc_cell": false,
      "toc_position": {
        "height": "calc(100% - 180px)",
        "left": "10px",
        "top": "150px",
        "width": "383.997px"
      },
      "toc_section_display": true,
      "toc_window_display": false
    },
    "varInspector": {
      "cols": {
        "lenName": 16,
        "lenType": 16,
        "lenVar": 40
      },
      "kernels_config": {
        "python": {
          "delete_cmd_postfix": "",
          "delete_cmd_prefix": "del ",
          "library": "var_list.py",
          "varRefreshCmd": "print(var_dic_list())"
        },
        "r": {
          "delete_cmd_postfix": ") ",
          "delete_cmd_prefix": "rm(",
          "library": "var_list.r",
          "varRefreshCmd": "cat(var_dic_list()) "
        }
      },
      "types_to_exclude": [
        "module",
        "function",
        "builtin_function_or_method",
        "instance",
        "_Feature"
      ],
      "window_display": false
    },
    "colab": {
      "name": "TermProject.ipynb",
      "provenance": [],
      "collapsed_sections": [],
      "machine_shape": "hm",
      "include_colab_link": true
    },
    "accelerator": "GPU"
  },
  "cells": [
    {
      "cell_type": "markdown",
      "metadata": {
        "id": "view-in-github",
        "colab_type": "text"
      },
      "source": [
        "<a href=\"https://colab.research.google.com/github/Haebuk/dataminingTP/blob/main/TermProject.ipynb\" target=\"_parent\"><img src=\"https://colab.research.google.com/assets/colab-badge.svg\" alt=\"Open In Colab\"/></a>"
      ]
    },
    {
      "cell_type": "markdown",
      "metadata": {
        "id": "smxWmS7tyuRz"
      },
      "source": [
        "# 아파트 실거래가 예측"
      ]
    },
    {
      "cell_type": "code",
      "metadata": {
        "ExecuteTime": {
          "end_time": "2021-05-07T07:45:27.255997Z",
          "start_time": "2021-05-07T07:45:27.249992Z"
        },
        "id": "gUwouTkEyuR3",
        "colab": {
          "base_uri": "https://localhost:8080/"
        },
        "outputId": "d055fc3f-bc86-4f2e-f490-072e56b525f3"
      },
      "source": [
        "import pandas as pd\n",
        "import numpy as np\n",
        "import matplotlib.pyplot as plt\n",
        "import warnings\n",
        "import seaborn as sns\n",
        "import statsmodels.api as sm\n",
        "import statsmodels.formula.api as smf\n",
        "from tqdm.notebook import tqdm\n",
        "from sklearn.linear_model import LinearRegression, ElasticNet, Lasso,  BayesianRidge, LassoLarsIC\n",
        "from sklearn.ensemble import RandomForestRegressor,  GradientBoostingRegressor\n",
        "from sklearn.kernel_ridge import KernelRidge\n",
        "from sklearn.pipeline import make_pipeline\n",
        "from sklearn.preprocessing import RobustScaler, LabelEncoder\n",
        "from sklearn.base import BaseEstimator, TransformerMixin, RegressorMixin, clone\n",
        "from sklearn.model_selection import KFold, cross_val_score, train_test_split, TimeSeriesSplit\n",
        "from sklearn.metrics import mean_squared_error\n",
        "import xgboost as xgb\n",
        "import lightgbm as lgb\n",
        "import re\n",
        "from gensim.models.word2vec import Word2Vec\n",
        "!pip install konlpy -q\n",
        "from konlpy.tag import Okt\n",
        "\n",
        "import matplotlib as mpl  # 기본 설정 만지는 용도\n",
        "import matplotlib.pyplot as plt  # 그래프 그리는 용도\n",
        "import matplotlib.font_manager as fm\n",
        "!apt-get update -qq\n",
        "!apt-get install fonts-nanum* -qq\n",
        "path = '/usr/share/fonts/truetype/nanum/NanumGothicEco.ttf'  # 설치된 나눔글꼴중 원하는 녀석의 전체 경로를 가져오자\n",
        "font_name = fm.FontProperties(fname=path, size=10).get_name()\n",
        "print(font_name)\n",
        "plt.rc('font', family=font_name)\n",
        "fm._rebuild()\n",
        "mpl.rcParams['axes.unicode_minus'] = False"
      ],
      "execution_count": null,
      "outputs": [
        {
          "output_type": "stream",
          "text": [
            "/usr/local/lib/python3.7/dist-packages/statsmodels/tools/_testing.py:19: FutureWarning: pandas.util.testing is deprecated. Use the functions in the public API at pandas.testing instead.\n",
            "  import pandas.util.testing as tm\n"
          ],
          "name": "stderr"
        },
        {
          "output_type": "stream",
          "text": [
            "NanumGothic Eco\n"
          ],
          "name": "stdout"
        }
      ]
    },
    {
      "cell_type": "markdown",
      "metadata": {
        "id": "1TRIEY3TyuR4"
      },
      "source": [
        "## Data Load"
      ]
    },
    {
      "cell_type": "code",
      "metadata": {
        "id": "A3u9N6k6y0QQ",
        "colab": {
          "base_uri": "https://localhost:8080/"
        },
        "outputId": "8d573356-108f-4023-e53a-08a15d83b444"
      },
      "source": [
        "from google.colab import drive\n",
        "drive.mount('/content/drive')"
      ],
      "execution_count": null,
      "outputs": [
        {
          "output_type": "stream",
          "text": [
            "Drive already mounted at /content/drive; to attempt to forcibly remount, call drive.mount(\"/content/drive\", force_remount=True).\n"
          ],
          "name": "stdout"
        }
      ]
    },
    {
      "cell_type": "code",
      "metadata": {
        "ExecuteTime": {
          "end_time": "2021-05-07T07:45:29.061641Z",
          "start_time": "2021-05-07T07:45:27.256998Z"
        },
        "id": "nWFpn1T3yuR5"
      },
      "source": [
        "PATH = '/content/drive/MyDrive/input/dataminingTP/'\n",
        "train_df = pd.read_csv(PATH + 'train_df_regex.csv')\n",
        "test_df = pd.read_csv(PATH + 'test_df_regex.csv')\n",
        "o_train_df = pd.read_csv(PATH + 'train.csv')"
      ],
      "execution_count": null,
      "outputs": []
    },
    {
      "cell_type": "markdown",
      "metadata": {
        "id": "rFlOm3HTyuR6"
      },
      "source": [
        "- exclusive_use_area: 전용면적(한 세대만 독점적으로 사용하는 공간)\n",
        "- transaction_real_price: 실거래가(단위:만원, 타겟 값, train만 존재)\n",
        "- transaction_year_month: 거래년월\n",
        "- transaction_date: 거래일\n",
        "- floor: 층 \n",
        "\n",
        "- 데이터가 거래시간 순으로 이루어져 있음"
      ]
    },
    {
      "cell_type": "markdown",
      "metadata": {
        "id": "23AHCSypXODz"
      },
      "source": [
        "### regex preprocessing\n",
        "- apt 이름에 존재하는 괄호 + 괄호안 내용 제거"
      ]
    },
    {
      "cell_type": "code",
      "metadata": {
        "id": "hqTsDvMvXNr7"
      },
      "source": [
        "# 괄호와 괄호안내용 제거\n",
        "#regex = \"\\(.*\\)|\\s-\\s.*\"\n",
        "#for i in tqdm(range(len(train_df)), position=0, leave=True):\n",
        "#    train_df['apt'][i] = re.sub(regex, '', train_df['apt'][i])\n",
        "\n",
        "#train_df.to_csv('train_df_regex.csv', index=False)\n"
      ],
      "execution_count": null,
      "outputs": []
    },
    {
      "cell_type": "code",
      "metadata": {
        "id": "YV3DXdi_cPqm"
      },
      "source": [
        "# 괄호와 괄호안내용 제거\n",
        "#regex = \"\\(.*\\)|\\s-\\s.*\"\n",
        "#for j in tqdm(range(len(test_df)),position=0, leave=True):\n",
        "#    test_df['apt'][i] = re.sub(regex, '', test_df['apt'][i])\n",
        "    \n",
        "#test_df.to_csv('test_df_regex.csv', index=False)"
      ],
      "execution_count": null,
      "outputs": []
    },
    {
      "cell_type": "markdown",
      "metadata": {
        "id": "1oGM0cPpyuR7"
      },
      "source": [
        "## Preprocessing\n",
        "### Train and Test set"
      ]
    },
    {
      "cell_type": "code",
      "metadata": {
        "ExecuteTime": {
          "end_time": "2021-05-07T07:45:29.365917Z",
          "start_time": "2021-05-07T07:45:29.094671Z"
        },
        "scrolled": false,
        "colab": {
          "base_uri": "https://localhost:8080/",
          "height": 302
        },
        "id": "ptHosUTEyuR7",
        "outputId": "5cbd2475-585c-42bd-e2fa-b08a76c4df4a"
      },
      "source": [
        "train_df.describe() "
      ],
      "execution_count": null,
      "outputs": [
        {
          "output_type": "execute_result",
          "data": {
            "text/html": [
              "<div>\n",
              "<style scoped>\n",
              "    .dataframe tbody tr th:only-of-type {\n",
              "        vertical-align: middle;\n",
              "    }\n",
              "\n",
              "    .dataframe tbody tr th {\n",
              "        vertical-align: top;\n",
              "    }\n",
              "\n",
              "    .dataframe thead th {\n",
              "        text-align: right;\n",
              "    }\n",
              "</style>\n",
              "<table border=\"1\" class=\"dataframe\">\n",
              "  <thead>\n",
              "    <tr style=\"text-align: right;\">\n",
              "      <th></th>\n",
              "      <th>transaction_id</th>\n",
              "      <th>apartment_id</th>\n",
              "      <th>exclusive_use_area</th>\n",
              "      <th>year_of_completion</th>\n",
              "      <th>transaction_year_month</th>\n",
              "      <th>floor</th>\n",
              "      <th>transaction_real_price</th>\n",
              "    </tr>\n",
              "  </thead>\n",
              "  <tbody>\n",
              "    <tr>\n",
              "      <th>count</th>\n",
              "      <td>1.216553e+06</td>\n",
              "      <td>1.216553e+06</td>\n",
              "      <td>1.216553e+06</td>\n",
              "      <td>1.216553e+06</td>\n",
              "      <td>1.216553e+06</td>\n",
              "      <td>1.216553e+06</td>\n",
              "      <td>1.216553e+06</td>\n",
              "    </tr>\n",
              "    <tr>\n",
              "      <th>mean</th>\n",
              "      <td>6.091530e+05</td>\n",
              "      <td>6.299685e+03</td>\n",
              "      <td>7.816549e+01</td>\n",
              "      <td>1.998297e+03</td>\n",
              "      <td>2.012984e+05</td>\n",
              "      <td>9.343291e+00</td>\n",
              "      <td>3.822769e+04</td>\n",
              "    </tr>\n",
              "    <tr>\n",
              "      <th>std</th>\n",
              "      <td>3.526198e+05</td>\n",
              "      <td>3.581169e+03</td>\n",
              "      <td>2.915113e+01</td>\n",
              "      <td>8.941347e+00</td>\n",
              "      <td>2.905732e+02</td>\n",
              "      <td>6.606500e+00</td>\n",
              "      <td>3.104898e+04</td>\n",
              "    </tr>\n",
              "    <tr>\n",
              "      <th>min</th>\n",
              "      <td>0.000000e+00</td>\n",
              "      <td>0.000000e+00</td>\n",
              "      <td>9.260000e+00</td>\n",
              "      <td>1.961000e+03</td>\n",
              "      <td>2.008010e+05</td>\n",
              "      <td>-4.000000e+00</td>\n",
              "      <td>1.000000e+02</td>\n",
              "    </tr>\n",
              "    <tr>\n",
              "      <th>25%</th>\n",
              "      <td>3.041380e+05</td>\n",
              "      <td>3.345000e+03</td>\n",
              "      <td>5.976000e+01</td>\n",
              "      <td>1.993000e+03</td>\n",
              "      <td>2.010100e+05</td>\n",
              "      <td>4.000000e+00</td>\n",
              "      <td>1.900000e+04</td>\n",
              "    </tr>\n",
              "    <tr>\n",
              "      <th>50%</th>\n",
              "      <td>6.082760e+05</td>\n",
              "      <td>5.964000e+03</td>\n",
              "      <td>8.241000e+01</td>\n",
              "      <td>1.999000e+03</td>\n",
              "      <td>2.013120e+05</td>\n",
              "      <td>8.000000e+00</td>\n",
              "      <td>3.090000e+04</td>\n",
              "    </tr>\n",
              "    <tr>\n",
              "      <th>75%</th>\n",
              "      <td>9.124140e+05</td>\n",
              "      <td>9.436000e+03</td>\n",
              "      <td>8.497000e+01</td>\n",
              "      <td>2.005000e+03</td>\n",
              "      <td>2.015110e+05</td>\n",
              "      <td>1.300000e+01</td>\n",
              "      <td>4.700000e+04</td>\n",
              "    </tr>\n",
              "    <tr>\n",
              "      <th>max</th>\n",
              "      <td>1.234827e+06</td>\n",
              "      <td>1.265800e+04</td>\n",
              "      <td>4.243200e+02</td>\n",
              "      <td>2.017000e+03</td>\n",
              "      <td>2.017110e+05</td>\n",
              "      <td>8.000000e+01</td>\n",
              "      <td>8.200000e+05</td>\n",
              "    </tr>\n",
              "  </tbody>\n",
              "</table>\n",
              "</div>"
            ],
            "text/plain": [
              "       transaction_id  apartment_id  ...         floor  transaction_real_price\n",
              "count    1.216553e+06  1.216553e+06  ...  1.216553e+06            1.216553e+06\n",
              "mean     6.091530e+05  6.299685e+03  ...  9.343291e+00            3.822769e+04\n",
              "std      3.526198e+05  3.581169e+03  ...  6.606500e+00            3.104898e+04\n",
              "min      0.000000e+00  0.000000e+00  ... -4.000000e+00            1.000000e+02\n",
              "25%      3.041380e+05  3.345000e+03  ...  4.000000e+00            1.900000e+04\n",
              "50%      6.082760e+05  5.964000e+03  ...  8.000000e+00            3.090000e+04\n",
              "75%      9.124140e+05  9.436000e+03  ...  1.300000e+01            4.700000e+04\n",
              "max      1.234827e+06  1.265800e+04  ...  8.000000e+01            8.200000e+05\n",
              "\n",
              "[8 rows x 7 columns]"
            ]
          },
          "metadata": {
            "tags": []
          },
          "execution_count": 7
        }
      ]
    },
    {
      "cell_type": "code",
      "metadata": {
        "ExecuteTime": {
          "end_time": "2021-05-07T07:45:29.573106Z",
          "start_time": "2021-05-07T07:45:29.366919Z"
        },
        "colab": {
          "base_uri": "https://localhost:8080/"
        },
        "id": "GqBnjIEryuR8",
        "outputId": "e3c511d5-76a7-4fec-e586-e07e6db5d3bd"
      },
      "source": [
        "train_df.info()"
      ],
      "execution_count": null,
      "outputs": [
        {
          "output_type": "stream",
          "text": [
            "<class 'pandas.core.frame.DataFrame'>\n",
            "RangeIndex: 1216553 entries, 0 to 1216552\n",
            "Data columns (total 13 columns):\n",
            " #   Column                  Non-Null Count    Dtype  \n",
            "---  ------                  --------------    -----  \n",
            " 0   transaction_id          1216553 non-null  int64  \n",
            " 1   apartment_id            1216553 non-null  int64  \n",
            " 2   city                    1216553 non-null  object \n",
            " 3   dong                    1216553 non-null  object \n",
            " 4   jibun                   1216553 non-null  object \n",
            " 5   apt                     1215092 non-null  object \n",
            " 6   addr_kr                 1216553 non-null  object \n",
            " 7   exclusive_use_area      1216553 non-null  float64\n",
            " 8   year_of_completion      1216553 non-null  int64  \n",
            " 9   transaction_year_month  1216553 non-null  int64  \n",
            " 10  transaction_date        1216553 non-null  object \n",
            " 11  floor                   1216553 non-null  int64  \n",
            " 12  transaction_real_price  1216553 non-null  int64  \n",
            "dtypes: float64(1), int64(6), object(6)\n",
            "memory usage: 120.7+ MB\n"
          ],
          "name": "stdout"
        }
      ]
    },
    {
      "cell_type": "markdown",
      "metadata": {
        "id": "cPo0KrA4yuR8"
      },
      "source": [
        "- train_df 결측치는 없음\n",
        "- 1961년 ~ 2017년 완공 건물\n",
        "- 9.26m^2 ~ 424.32m^2 전용면적\n",
        "- Floor의 경우 음의 값 존재.\n",
        "- 실거래가는 100만원부터 820억까지 존재"
      ]
    },
    {
      "cell_type": "code",
      "metadata": {
        "ExecuteTime": {
          "end_time": "2021-05-07T07:45:29.589121Z",
          "start_time": "2021-05-07T07:45:29.574107Z"
        },
        "scrolled": true,
        "colab": {
          "base_uri": "https://localhost:8080/",
          "height": 147
        },
        "id": "1FwiQwyXyuR8",
        "outputId": "d84ed6be-d755-47f7-d954-2ad31dbfed2e"
      },
      "source": [
        "train_df.loc[train_df['transaction_real_price']==820000]"
      ],
      "execution_count": null,
      "outputs": [
        {
          "output_type": "execute_result",
          "data": {
            "text/html": [
              "<div>\n",
              "<style scoped>\n",
              "    .dataframe tbody tr th:only-of-type {\n",
              "        vertical-align: middle;\n",
              "    }\n",
              "\n",
              "    .dataframe tbody tr th {\n",
              "        vertical-align: top;\n",
              "    }\n",
              "\n",
              "    .dataframe thead th {\n",
              "        text-align: right;\n",
              "    }\n",
              "</style>\n",
              "<table border=\"1\" class=\"dataframe\">\n",
              "  <thead>\n",
              "    <tr style=\"text-align: right;\">\n",
              "      <th></th>\n",
              "      <th>transaction_id</th>\n",
              "      <th>apartment_id</th>\n",
              "      <th>city</th>\n",
              "      <th>dong</th>\n",
              "      <th>jibun</th>\n",
              "      <th>apt</th>\n",
              "      <th>addr_kr</th>\n",
              "      <th>exclusive_use_area</th>\n",
              "      <th>year_of_completion</th>\n",
              "      <th>transaction_year_month</th>\n",
              "      <th>transaction_date</th>\n",
              "      <th>floor</th>\n",
              "      <th>transaction_real_price</th>\n",
              "    </tr>\n",
              "  </thead>\n",
              "  <tbody>\n",
              "    <tr>\n",
              "      <th>23603</th>\n",
              "      <td>23603</td>\n",
              "      <td>11320</td>\n",
              "      <td>서울특별시</td>\n",
              "      <td>한남동</td>\n",
              "      <td>810</td>\n",
              "      <td>한남더힐</td>\n",
              "      <td>한남동 810 한남더힐</td>\n",
              "      <td>244.749</td>\n",
              "      <td>2011</td>\n",
              "      <td>201612</td>\n",
              "      <td>21~31</td>\n",
              "      <td>3</td>\n",
              "      <td>820000</td>\n",
              "    </tr>\n",
              "  </tbody>\n",
              "</table>\n",
              "</div>"
            ],
            "text/plain": [
              "       transaction_id  apartment_id  ... floor transaction_real_price\n",
              "23603           23603         11320  ...     3                 820000\n",
              "\n",
              "[1 rows x 13 columns]"
            ]
          },
          "metadata": {
            "tags": []
          },
          "execution_count": 9
        }
      ]
    },
    {
      "cell_type": "code",
      "metadata": {
        "colab": {
          "base_uri": "https://localhost:8080/",
          "height": 302
        },
        "id": "qr4bAphkZtqZ",
        "outputId": "5aa2b1ec-f7e4-4009-d09e-237baab0cf95"
      },
      "source": [
        "test_df.describe()"
      ],
      "execution_count": null,
      "outputs": [
        {
          "output_type": "execute_result",
          "data": {
            "text/html": [
              "<div>\n",
              "<style scoped>\n",
              "    .dataframe tbody tr th:only-of-type {\n",
              "        vertical-align: middle;\n",
              "    }\n",
              "\n",
              "    .dataframe tbody tr th {\n",
              "        vertical-align: top;\n",
              "    }\n",
              "\n",
              "    .dataframe thead th {\n",
              "        text-align: right;\n",
              "    }\n",
              "</style>\n",
              "<table border=\"1\" class=\"dataframe\">\n",
              "  <thead>\n",
              "    <tr style=\"text-align: right;\">\n",
              "      <th></th>\n",
              "      <th>transaction_id</th>\n",
              "      <th>apartment_id</th>\n",
              "      <th>exclusive_use_area</th>\n",
              "      <th>year_of_completion</th>\n",
              "      <th>transaction_year_month</th>\n",
              "      <th>floor</th>\n",
              "    </tr>\n",
              "  </thead>\n",
              "  <tbody>\n",
              "    <tr>\n",
              "      <th>count</th>\n",
              "      <td>5.463000e+03</td>\n",
              "      <td>5463.000000</td>\n",
              "      <td>5463.000000</td>\n",
              "      <td>5463.000000</td>\n",
              "      <td>5463.000000</td>\n",
              "      <td>5463.000000</td>\n",
              "    </tr>\n",
              "    <tr>\n",
              "      <th>mean</th>\n",
              "      <td>1.167126e+06</td>\n",
              "      <td>6287.570932</td>\n",
              "      <td>79.495250</td>\n",
              "      <td>2000.431082</td>\n",
              "      <td>201710.228446</td>\n",
              "      <td>8.266886</td>\n",
              "    </tr>\n",
              "    <tr>\n",
              "      <th>std</th>\n",
              "      <td>4.075365e+04</td>\n",
              "      <td>3624.756304</td>\n",
              "      <td>32.935434</td>\n",
              "      <td>9.982040</td>\n",
              "      <td>2.798195</td>\n",
              "      <td>6.082475</td>\n",
              "    </tr>\n",
              "    <tr>\n",
              "      <th>min</th>\n",
              "      <td>1.092791e+06</td>\n",
              "      <td>12.000000</td>\n",
              "      <td>10.321500</td>\n",
              "      <td>1961.000000</td>\n",
              "      <td>201701.000000</td>\n",
              "      <td>-1.000000</td>\n",
              "    </tr>\n",
              "    <tr>\n",
              "      <th>25%</th>\n",
              "      <td>1.134296e+06</td>\n",
              "      <td>3278.000000</td>\n",
              "      <td>59.760000</td>\n",
              "      <td>1995.000000</td>\n",
              "      <td>201709.000000</td>\n",
              "      <td>4.000000</td>\n",
              "    </tr>\n",
              "    <tr>\n",
              "      <th>50%</th>\n",
              "      <td>1.167937e+06</td>\n",
              "      <td>6091.000000</td>\n",
              "      <td>81.720000</td>\n",
              "      <td>2002.000000</td>\n",
              "      <td>201712.000000</td>\n",
              "      <td>7.000000</td>\n",
              "    </tr>\n",
              "    <tr>\n",
              "      <th>75%</th>\n",
              "      <td>1.202560e+06</td>\n",
              "      <td>9416.500000</td>\n",
              "      <td>84.970000</td>\n",
              "      <td>2007.000000</td>\n",
              "      <td>201712.000000</td>\n",
              "      <td>11.000000</td>\n",
              "    </tr>\n",
              "    <tr>\n",
              "      <th>max</th>\n",
              "      <td>1.234930e+06</td>\n",
              "      <td>12652.000000</td>\n",
              "      <td>273.860000</td>\n",
              "      <td>2017.000000</td>\n",
              "      <td>201712.000000</td>\n",
              "      <td>55.000000</td>\n",
              "    </tr>\n",
              "  </tbody>\n",
              "</table>\n",
              "</div>"
            ],
            "text/plain": [
              "       transaction_id  apartment_id  ...  transaction_year_month        floor\n",
              "count    5.463000e+03   5463.000000  ...             5463.000000  5463.000000\n",
              "mean     1.167126e+06   6287.570932  ...           201710.228446     8.266886\n",
              "std      4.075365e+04   3624.756304  ...                2.798195     6.082475\n",
              "min      1.092791e+06     12.000000  ...           201701.000000    -1.000000\n",
              "25%      1.134296e+06   3278.000000  ...           201709.000000     4.000000\n",
              "50%      1.167937e+06   6091.000000  ...           201712.000000     7.000000\n",
              "75%      1.202560e+06   9416.500000  ...           201712.000000    11.000000\n",
              "max      1.234930e+06  12652.000000  ...           201712.000000    55.000000\n",
              "\n",
              "[8 rows x 6 columns]"
            ]
          },
          "metadata": {
            "tags": []
          },
          "execution_count": 10
        }
      ]
    },
    {
      "cell_type": "code",
      "metadata": {
        "colab": {
          "base_uri": "https://localhost:8080/"
        },
        "id": "7WgJSSXUZtkJ",
        "outputId": "f9ccd750-b449-4469-c658-c2014af3f399"
      },
      "source": [
        "test_df.info()"
      ],
      "execution_count": null,
      "outputs": [
        {
          "output_type": "stream",
          "text": [
            "<class 'pandas.core.frame.DataFrame'>\n",
            "RangeIndex: 5463 entries, 0 to 5462\n",
            "Data columns (total 12 columns):\n",
            " #   Column                  Non-Null Count  Dtype  \n",
            "---  ------                  --------------  -----  \n",
            " 0   transaction_id          5463 non-null   int64  \n",
            " 1   apartment_id            5463 non-null   int64  \n",
            " 2   city                    5463 non-null   object \n",
            " 3   dong                    5463 non-null   object \n",
            " 4   jibun                   5463 non-null   object \n",
            " 5   apt                     5463 non-null   object \n",
            " 6   addr_kr                 5463 non-null   object \n",
            " 7   exclusive_use_area      5463 non-null   float64\n",
            " 8   year_of_completion      5463 non-null   int64  \n",
            " 9   transaction_year_month  5463 non-null   int64  \n",
            " 10  transaction_date        5463 non-null   object \n",
            " 11  floor                   5463 non-null   int64  \n",
            "dtypes: float64(1), int64(5), object(6)\n",
            "memory usage: 512.3+ KB\n"
          ],
          "name": "stdout"
        }
      ]
    },
    {
      "cell_type": "markdown",
      "metadata": {
        "id": "11SmTN0zVJAp"
      },
      "source": [
        "### apart"
      ]
    },
    {
      "cell_type": "code",
      "metadata": {
        "colab": {
          "base_uri": "https://localhost:8080/"
        },
        "id": "SV_-tgUVk8lo",
        "outputId": "d2d2339f-2f47-4429-8611-3194e9018127"
      },
      "source": [
        "train_df['apt'].value_counts()"
      ],
      "execution_count": null,
      "outputs": [
        {
          "output_type": "execute_result",
          "data": {
            "text/plain": [
              "현대         17716\n",
              "한신         10135\n",
              "삼성          6771\n",
              "대우          6390\n",
              "신동아         6386\n",
              "           ...  \n",
              "현진타워           1\n",
              "도올탑스텔          1\n",
              "체리빌            1\n",
              "연세7차 B동        1\n",
              "세경더빌           1\n",
              "Name: apt, Length: 9373, dtype: int64"
            ]
          },
          "metadata": {
            "tags": []
          },
          "execution_count": 12
        }
      ]
    },
    {
      "cell_type": "code",
      "metadata": {
        "id": "vpJP6NDV35UF",
        "colab": {
          "base_uri": "https://localhost:8080/",
          "height": 375
        },
        "outputId": "580261b2-3b2e-4ee3-c53a-2b6a0c5db02f"
      },
      "source": [
        "# 같은 아파트 이름을 같는 수를 저장하는 apt_counts 열 생성\n",
        "train_df['apt_counts'] = 0\n",
        "train_df.groupby('apt')['apt_counts'].count()\n",
        "train_df = pd.merge(train_df, train_df.groupby('apt')['apt_counts'].count(), on='apt', how='left').drop('apt_counts_x', axis=1).rename(columns={'apt_counts_y':'apt_counts'})\n",
        "\n",
        "test_df['apt_counts'] = 0\n",
        "test_df.groupby('apt')['apt_counts'].count()\n",
        "test_df = pd.merge(test_df, test_df.groupby('apt')['apt_counts'].count(), on='apt', how='left').drop('apt_counts_x', axis=1).rename(columns={'apt_counts_y':'apt_counts'})\n",
        "\n",
        "train_df.head(3)"
      ],
      "execution_count": null,
      "outputs": [
        {
          "output_type": "execute_result",
          "data": {
            "text/html": [
              "<div>\n",
              "<style scoped>\n",
              "    .dataframe tbody tr th:only-of-type {\n",
              "        vertical-align: middle;\n",
              "    }\n",
              "\n",
              "    .dataframe tbody tr th {\n",
              "        vertical-align: top;\n",
              "    }\n",
              "\n",
              "    .dataframe thead th {\n",
              "        text-align: right;\n",
              "    }\n",
              "</style>\n",
              "<table border=\"1\" class=\"dataframe\">\n",
              "  <thead>\n",
              "    <tr style=\"text-align: right;\">\n",
              "      <th></th>\n",
              "      <th>transaction_id</th>\n",
              "      <th>apartment_id</th>\n",
              "      <th>city</th>\n",
              "      <th>dong</th>\n",
              "      <th>jibun</th>\n",
              "      <th>apt</th>\n",
              "      <th>addr_kr</th>\n",
              "      <th>exclusive_use_area</th>\n",
              "      <th>year_of_completion</th>\n",
              "      <th>transaction_year_month</th>\n",
              "      <th>transaction_date</th>\n",
              "      <th>floor</th>\n",
              "      <th>transaction_real_price</th>\n",
              "      <th>apt_counts</th>\n",
              "    </tr>\n",
              "  </thead>\n",
              "  <tbody>\n",
              "    <tr>\n",
              "      <th>0</th>\n",
              "      <td>0</td>\n",
              "      <td>7622</td>\n",
              "      <td>서울특별시</td>\n",
              "      <td>신교동</td>\n",
              "      <td>6-13</td>\n",
              "      <td>신현</td>\n",
              "      <td>신교동 6-13 신현(101동)</td>\n",
              "      <td>84.82</td>\n",
              "      <td>2002</td>\n",
              "      <td>200801</td>\n",
              "      <td>21~31</td>\n",
              "      <td>2</td>\n",
              "      <td>37500</td>\n",
              "      <td>13.0</td>\n",
              "    </tr>\n",
              "    <tr>\n",
              "      <th>1</th>\n",
              "      <td>1</td>\n",
              "      <td>5399</td>\n",
              "      <td>서울특별시</td>\n",
              "      <td>필운동</td>\n",
              "      <td>142</td>\n",
              "      <td>사직파크맨션</td>\n",
              "      <td>필운동 142 사직파크맨션</td>\n",
              "      <td>99.17</td>\n",
              "      <td>1973</td>\n",
              "      <td>200801</td>\n",
              "      <td>1~10</td>\n",
              "      <td>6</td>\n",
              "      <td>20000</td>\n",
              "      <td>1.0</td>\n",
              "    </tr>\n",
              "    <tr>\n",
              "      <th>2</th>\n",
              "      <td>2</td>\n",
              "      <td>3578</td>\n",
              "      <td>서울특별시</td>\n",
              "      <td>필운동</td>\n",
              "      <td>174-1</td>\n",
              "      <td>두레엘리시안</td>\n",
              "      <td>필운동 174-1 두레엘리시안</td>\n",
              "      <td>84.74</td>\n",
              "      <td>2007</td>\n",
              "      <td>200801</td>\n",
              "      <td>1~10</td>\n",
              "      <td>6</td>\n",
              "      <td>38500</td>\n",
              "      <td>13.0</td>\n",
              "    </tr>\n",
              "  </tbody>\n",
              "</table>\n",
              "</div>"
            ],
            "text/plain": [
              "   transaction_id  apartment_id  ... transaction_real_price apt_counts\n",
              "0               0          7622  ...                  37500       13.0\n",
              "1               1          5399  ...                  20000        1.0\n",
              "2               2          3578  ...                  38500       13.0\n",
              "\n",
              "[3 rows x 14 columns]"
            ]
          },
          "metadata": {
            "tags": []
          },
          "execution_count": 13
        }
      ]
    },
    {
      "cell_type": "code",
      "metadata": {
        "colab": {
          "base_uri": "https://localhost:8080/"
        },
        "id": "53mYsLa0Yd-H",
        "outputId": "59274331-a36e-4909-856c-89797622d696"
      },
      "source": [
        "train_df.shape"
      ],
      "execution_count": null,
      "outputs": [
        {
          "output_type": "execute_result",
          "data": {
            "text/plain": [
              "(1216553, 14)"
            ]
          },
          "metadata": {
            "tags": []
          },
          "execution_count": 14
        }
      ]
    },
    {
      "cell_type": "code",
      "metadata": {
        "colab": {
          "base_uri": "https://localhost:8080/"
        },
        "id": "6GKqsbPEeKoG",
        "outputId": "1e01ca6d-3e05-4341-a78e-cf56bfe75156"
      },
      "source": [
        "train_df['apt'].value_counts()[:10]"
      ],
      "execution_count": null,
      "outputs": [
        {
          "output_type": "execute_result",
          "data": {
            "text/plain": [
              "현대       17716\n",
              "한신       10135\n",
              "삼성        6771\n",
              "대우        6390\n",
              "신동아       6386\n",
              "두산        5801\n",
              "우성        5781\n",
              "주공2       5669\n",
              "삼성래미안     5483\n",
              "벽산        4651\n",
              "Name: apt, dtype: int64"
            ]
          },
          "metadata": {
            "tags": []
          },
          "execution_count": 15
        }
      ]
    },
    {
      "cell_type": "markdown",
      "metadata": {
        "id": "zpVvyOkDBmx0"
      },
      "source": [
        "- top10 시공사 + 데이터에서 가장 많이 나오는 아파트 20개의 이름을 통일"
      ]
    },
    {
      "cell_type": "code",
      "metadata": {
        "id": "Tv03aoj2pLdG"
      },
      "source": [
        "train_df['top10'] = 0\n",
        "test_df['top10'] = 0\n",
        "top10 = ['자이', '푸르지오', '더샵', '롯데캐슬', '이편한|e편한|e-편한',\n",
        "         '힐스테이트', '아이파크', '래미안', 'sk|SK|에스케이', '데시앙']\n",
        "\n",
        "train_df['apt'] = train_df['apt'].fillna('others')\n",
        "for i, brand in enumerate(top10):\n",
        "    train_df.loc[train_df['apt'].str.contains(brand), 'top10'] = 1\n",
        "    test_df.loc[test_df['apt'].str.contains(brand), 'top10'] = 1\n"
      ],
      "execution_count": null,
      "outputs": []
    },
    {
      "cell_type": "code",
      "metadata": {
        "id": "6e_NdtpjTRhZ"
      },
      "source": [
        "apt_names = ['그레이스', '양지', '쌍용', '현대', '한신', '삼성', '대우', '신동아', '두산', '주공',\n",
        "             '우성', '벽산', '동원로얄듀크','경남', '삼환', '쌍용', '삼익', '대림', '코오롱', '파크리오',\n",
        "             '엘지', '성원', '잠실', '동궁리치웰', '동성']\n",
        "apt_names = top10 + apt_names\n",
        "for a in apt_names:\n",
        "    train_df.loc[train_df['apt'].str.contains(a), 'apt'] = a\n",
        "    test_df.loc[test_df['apt'].str.contains(a), 'apt'] = a\n",
        "\n",
        "#top10에 해당하는 아파트가 아니면서 50채가 안될 경우 others로 변경\n",
        "train_df.loc[(train_df['top10']==0) & (train_df['apt_counts'] < 50), 'apt'] = 'others'\n",
        "test_df.loc[(test_df['top10']==0) & (test_df['apt_counts'] < 10), 'apt'] = 'others'"
      ],
      "execution_count": null,
      "outputs": []
    },
    {
      "cell_type": "code",
      "metadata": {
        "colab": {
          "base_uri": "https://localhost:8080/",
          "height": 1000
        },
        "id": "4rbjAtMjPVD3",
        "outputId": "8f42cfc3-8e00-4435-cfde-123f28fd1648"
      },
      "source": [
        "apt_list_tr = train_df.groupby(['apt'])['apt_counts'].agg('count').reset_index().sort_values('apt_counts', ascending=False).reset_index(drop=True)\n",
        "apt_list_tr\n",
        "apt_list_te = test_df.groupby(['apt'])['apt_counts'].agg('count').reset_index().sort_values('apt_counts', ascending=False).reset_index(drop=True)\n",
        "apt_list_te"
      ],
      "execution_count": null,
      "outputs": [
        {
          "output_type": "execute_result",
          "data": {
            "text/html": [
              "<div>\n",
              "<style scoped>\n",
              "    .dataframe tbody tr th:only-of-type {\n",
              "        vertical-align: middle;\n",
              "    }\n",
              "\n",
              "    .dataframe tbody tr th {\n",
              "        vertical-align: top;\n",
              "    }\n",
              "\n",
              "    .dataframe thead th {\n",
              "        text-align: right;\n",
              "    }\n",
              "</style>\n",
              "<table border=\"1\" class=\"dataframe\">\n",
              "  <thead>\n",
              "    <tr style=\"text-align: right;\">\n",
              "      <th></th>\n",
              "      <th>apt</th>\n",
              "      <th>apt_counts</th>\n",
              "    </tr>\n",
              "  </thead>\n",
              "  <tbody>\n",
              "    <tr>\n",
              "      <th>0</th>\n",
              "      <td>others</td>\n",
              "      <td>4377</td>\n",
              "    </tr>\n",
              "    <tr>\n",
              "      <th>1</th>\n",
              "      <td>래미안</td>\n",
              "      <td>187</td>\n",
              "    </tr>\n",
              "    <tr>\n",
              "      <th>2</th>\n",
              "      <td>이편한|e편한|e-편한</td>\n",
              "      <td>93</td>\n",
              "    </tr>\n",
              "    <tr>\n",
              "      <th>3</th>\n",
              "      <td>푸르지오</td>\n",
              "      <td>86</td>\n",
              "    </tr>\n",
              "    <tr>\n",
              "      <th>4</th>\n",
              "      <td>롯데캐슬</td>\n",
              "      <td>78</td>\n",
              "    </tr>\n",
              "    <tr>\n",
              "      <th>5</th>\n",
              "      <td>힐스테이트</td>\n",
              "      <td>61</td>\n",
              "    </tr>\n",
              "    <tr>\n",
              "      <th>6</th>\n",
              "      <td>자이</td>\n",
              "      <td>60</td>\n",
              "    </tr>\n",
              "    <tr>\n",
              "      <th>7</th>\n",
              "      <td>현대</td>\n",
              "      <td>46</td>\n",
              "    </tr>\n",
              "    <tr>\n",
              "      <th>8</th>\n",
              "      <td>아이파크</td>\n",
              "      <td>46</td>\n",
              "    </tr>\n",
              "    <tr>\n",
              "      <th>9</th>\n",
              "      <td>sk|SK|에스케이</td>\n",
              "      <td>37</td>\n",
              "    </tr>\n",
              "    <tr>\n",
              "      <th>10</th>\n",
              "      <td>더샵</td>\n",
              "      <td>29</td>\n",
              "    </tr>\n",
              "    <tr>\n",
              "      <th>11</th>\n",
              "      <td>신동아</td>\n",
              "      <td>27</td>\n",
              "    </tr>\n",
              "    <tr>\n",
              "      <th>12</th>\n",
              "      <td>두산</td>\n",
              "      <td>26</td>\n",
              "    </tr>\n",
              "    <tr>\n",
              "      <th>13</th>\n",
              "      <td>경남</td>\n",
              "      <td>24</td>\n",
              "    </tr>\n",
              "    <tr>\n",
              "      <th>14</th>\n",
              "      <td>주공</td>\n",
              "      <td>24</td>\n",
              "    </tr>\n",
              "    <tr>\n",
              "      <th>15</th>\n",
              "      <td>삼성</td>\n",
              "      <td>22</td>\n",
              "    </tr>\n",
              "    <tr>\n",
              "      <th>16</th>\n",
              "      <td>우성</td>\n",
              "      <td>17</td>\n",
              "    </tr>\n",
              "    <tr>\n",
              "      <th>17</th>\n",
              "      <td>대우</td>\n",
              "      <td>17</td>\n",
              "    </tr>\n",
              "    <tr>\n",
              "      <th>18</th>\n",
              "      <td>한신</td>\n",
              "      <td>15</td>\n",
              "    </tr>\n",
              "    <tr>\n",
              "      <th>19</th>\n",
              "      <td>파크리오</td>\n",
              "      <td>15</td>\n",
              "    </tr>\n",
              "    <tr>\n",
              "      <th>20</th>\n",
              "      <td>벽산</td>\n",
              "      <td>14</td>\n",
              "    </tr>\n",
              "    <tr>\n",
              "      <th>21</th>\n",
              "      <td>삼환</td>\n",
              "      <td>14</td>\n",
              "    </tr>\n",
              "    <tr>\n",
              "      <th>22</th>\n",
              "      <td>동아</td>\n",
              "      <td>14</td>\n",
              "    </tr>\n",
              "    <tr>\n",
              "      <th>23</th>\n",
              "      <td>삼익</td>\n",
              "      <td>13</td>\n",
              "    </tr>\n",
              "    <tr>\n",
              "      <th>24</th>\n",
              "      <td>동부센트레빌</td>\n",
              "      <td>13</td>\n",
              "    </tr>\n",
              "    <tr>\n",
              "      <th>25</th>\n",
              "      <td>리센츠</td>\n",
              "      <td>13</td>\n",
              "    </tr>\n",
              "    <tr>\n",
              "      <th>26</th>\n",
              "      <td>대림</td>\n",
              "      <td>12</td>\n",
              "    </tr>\n",
              "    <tr>\n",
              "      <th>27</th>\n",
              "      <td>위례22단지(비발디)</td>\n",
              "      <td>12</td>\n",
              "    </tr>\n",
              "    <tr>\n",
              "      <th>28</th>\n",
              "      <td>시범</td>\n",
              "      <td>11</td>\n",
              "    </tr>\n",
              "    <tr>\n",
              "      <th>29</th>\n",
              "      <td>남산타운</td>\n",
              "      <td>10</td>\n",
              "    </tr>\n",
              "    <tr>\n",
              "      <th>30</th>\n",
              "      <td>미성</td>\n",
              "      <td>10</td>\n",
              "    </tr>\n",
              "    <tr>\n",
              "      <th>31</th>\n",
              "      <td>무지개</td>\n",
              "      <td>10</td>\n",
              "    </tr>\n",
              "    <tr>\n",
              "      <th>32</th>\n",
              "      <td>데시앙</td>\n",
              "      <td>10</td>\n",
              "    </tr>\n",
              "    <tr>\n",
              "      <th>33</th>\n",
              "      <td>훼밀리</td>\n",
              "      <td>10</td>\n",
              "    </tr>\n",
              "    <tr>\n",
              "      <th>34</th>\n",
              "      <td>성원</td>\n",
              "      <td>10</td>\n",
              "    </tr>\n",
              "  </tbody>\n",
              "</table>\n",
              "</div>"
            ],
            "text/plain": [
              "             apt  apt_counts\n",
              "0         others        4377\n",
              "1            래미안         187\n",
              "2   이편한|e편한|e-편한          93\n",
              "3           푸르지오          86\n",
              "4           롯데캐슬          78\n",
              "5          힐스테이트          61\n",
              "6             자이          60\n",
              "7             현대          46\n",
              "8           아이파크          46\n",
              "9     sk|SK|에스케이          37\n",
              "10            더샵          29\n",
              "11           신동아          27\n",
              "12            두산          26\n",
              "13            경남          24\n",
              "14            주공          24\n",
              "15            삼성          22\n",
              "16            우성          17\n",
              "17            대우          17\n",
              "18            한신          15\n",
              "19          파크리오          15\n",
              "20            벽산          14\n",
              "21            삼환          14\n",
              "22            동아          14\n",
              "23            삼익          13\n",
              "24        동부센트레빌          13\n",
              "25           리센츠          13\n",
              "26            대림          12\n",
              "27   위례22단지(비발디)          12\n",
              "28            시범          11\n",
              "29          남산타운          10\n",
              "30            미성          10\n",
              "31           무지개          10\n",
              "32           데시앙          10\n",
              "33           훼밀리          10\n",
              "34            성원          10"
            ]
          },
          "metadata": {
            "tags": []
          },
          "execution_count": 18
        }
      ]
    },
    {
      "cell_type": "code",
      "metadata": {
        "colab": {
          "base_uri": "https://localhost:8080/",
          "height": 399
        },
        "id": "akRs3xpK7Uij",
        "outputId": "bc3d7500-3ab5-46e7-85c3-09dbc86785c0"
      },
      "source": [
        "apt_list_tr"
      ],
      "execution_count": null,
      "outputs": [
        {
          "output_type": "execute_result",
          "data": {
            "text/html": [
              "<div>\n",
              "<style scoped>\n",
              "    .dataframe tbody tr th:only-of-type {\n",
              "        vertical-align: middle;\n",
              "    }\n",
              "\n",
              "    .dataframe tbody tr th {\n",
              "        vertical-align: top;\n",
              "    }\n",
              "\n",
              "    .dataframe thead th {\n",
              "        text-align: right;\n",
              "    }\n",
              "</style>\n",
              "<table border=\"1\" class=\"dataframe\">\n",
              "  <thead>\n",
              "    <tr style=\"text-align: right;\">\n",
              "      <th></th>\n",
              "      <th>apt</th>\n",
              "      <th>apt_counts</th>\n",
              "    </tr>\n",
              "  </thead>\n",
              "  <tbody>\n",
              "    <tr>\n",
              "      <th>0</th>\n",
              "      <td>others</td>\n",
              "      <td>89942</td>\n",
              "    </tr>\n",
              "    <tr>\n",
              "      <th>1</th>\n",
              "      <td>현대</td>\n",
              "      <td>80218</td>\n",
              "    </tr>\n",
              "    <tr>\n",
              "      <th>2</th>\n",
              "      <td>주공</td>\n",
              "      <td>65937</td>\n",
              "    </tr>\n",
              "    <tr>\n",
              "      <th>3</th>\n",
              "      <td>래미안</td>\n",
              "      <td>32743</td>\n",
              "    </tr>\n",
              "    <tr>\n",
              "      <th>4</th>\n",
              "      <td>한신</td>\n",
              "      <td>27120</td>\n",
              "    </tr>\n",
              "    <tr>\n",
              "      <th>...</th>\n",
              "      <td>...</td>\n",
              "      <td>...</td>\n",
              "    </tr>\n",
              "    <tr>\n",
              "      <th>2154</th>\n",
              "      <td>KCC엠파이어리버</td>\n",
              "      <td>50</td>\n",
              "    </tr>\n",
              "    <tr>\n",
              "      <th>2155</th>\n",
              "      <td>청계천대성스카이렉스2</td>\n",
              "      <td>50</td>\n",
              "    </tr>\n",
              "    <tr>\n",
              "      <th>2156</th>\n",
              "      <td>평생골드타운</td>\n",
              "      <td>50</td>\n",
              "    </tr>\n",
              "    <tr>\n",
              "      <th>2157</th>\n",
              "      <td>문래우정</td>\n",
              "      <td>50</td>\n",
              "    </tr>\n",
              "    <tr>\n",
              "      <th>2158</th>\n",
              "      <td>장안뉴시티</td>\n",
              "      <td>50</td>\n",
              "    </tr>\n",
              "  </tbody>\n",
              "</table>\n",
              "<p>2159 rows × 2 columns</p>\n",
              "</div>"
            ],
            "text/plain": [
              "              apt  apt_counts\n",
              "0          others       89942\n",
              "1              현대       80218\n",
              "2              주공       65937\n",
              "3             래미안       32743\n",
              "4              한신       27120\n",
              "...           ...         ...\n",
              "2154    KCC엠파이어리버          50\n",
              "2155  청계천대성스카이렉스2          50\n",
              "2156       평생골드타운          50\n",
              "2157         문래우정          50\n",
              "2158        장안뉴시티          50\n",
              "\n",
              "[2159 rows x 2 columns]"
            ]
          },
          "metadata": {
            "tags": []
          },
          "execution_count": 19
        }
      ]
    },
    {
      "cell_type": "code",
      "metadata": {
        "id": "L1xviIyiRfeV"
      },
      "source": [
        "for i, a in enumerate(apt_list_tr['apt']):\n",
        "    train_df.loc[train_df['apt']==a, 'apt'] = i\n",
        "\n",
        "for i, a in enumerate(apt_list_te['apt']):\n",
        "    test_df.loc[test_df['apt']==a, 'apt'] = i"
      ],
      "execution_count": null,
      "outputs": []
    },
    {
      "cell_type": "code",
      "metadata": {
        "id": "ZqexdFHHunXZ"
      },
      "source": [
        "all_df = pd.concat([train_df, test_df], axis=0).reset_index(drop=True)"
      ],
      "execution_count": null,
      "outputs": []
    },
    {
      "cell_type": "code",
      "metadata": {
        "id": "OFOkDMGoCd35",
        "colab": {
          "base_uri": "https://localhost:8080/",
          "height": 134
        },
        "outputId": "45976237-f526-4a08-97d1-834585bbe0ee"
      },
      "source": [
        "# 완공연도에서 최소연도를 뺌으로써 완공연도 라벨인코딩\n",
        "all_df['year_of_completion'] = all_df['year_of_completion'] - all_df['year_of_completion'].min()\n",
        "# 연월 증가하는 순으로 라벨 인코딩\n",
        "le = LabelEncoder()\n",
        "all_df['transaction_year_month'] = le.fit_transform(all_df['transaction_year_month'])\n",
        "# 필요없는 열 제거\n",
        "all_df = all_df.drop(['jibun', 'transaction_date', 'addr_kr'], axis=1)\n",
        "all_df.head(1)"
      ],
      "execution_count": null,
      "outputs": [
        {
          "output_type": "execute_result",
          "data": {
            "text/html": [
              "<div>\n",
              "<style scoped>\n",
              "    .dataframe tbody tr th:only-of-type {\n",
              "        vertical-align: middle;\n",
              "    }\n",
              "\n",
              "    .dataframe tbody tr th {\n",
              "        vertical-align: top;\n",
              "    }\n",
              "\n",
              "    .dataframe thead th {\n",
              "        text-align: right;\n",
              "    }\n",
              "</style>\n",
              "<table border=\"1\" class=\"dataframe\">\n",
              "  <thead>\n",
              "    <tr style=\"text-align: right;\">\n",
              "      <th></th>\n",
              "      <th>transaction_id</th>\n",
              "      <th>apartment_id</th>\n",
              "      <th>city</th>\n",
              "      <th>dong</th>\n",
              "      <th>apt</th>\n",
              "      <th>exclusive_use_area</th>\n",
              "      <th>year_of_completion</th>\n",
              "      <th>transaction_year_month</th>\n",
              "      <th>floor</th>\n",
              "      <th>transaction_real_price</th>\n",
              "      <th>top10</th>\n",
              "    </tr>\n",
              "  </thead>\n",
              "  <tbody>\n",
              "    <tr>\n",
              "      <th>0</th>\n",
              "      <td>0</td>\n",
              "      <td>7622</td>\n",
              "      <td>서울특별시</td>\n",
              "      <td>신교동</td>\n",
              "      <td>신현</td>\n",
              "      <td>84.82</td>\n",
              "      <td>41</td>\n",
              "      <td>0</td>\n",
              "      <td>2</td>\n",
              "      <td>37500.0</td>\n",
              "      <td>0</td>\n",
              "    </tr>\n",
              "  </tbody>\n",
              "</table>\n",
              "</div>"
            ],
            "text/plain": [
              "   transaction_id  apartment_id   city  ... floor transaction_real_price  top10\n",
              "0               0          7622  서울특별시  ...     2                37500.0      0\n",
              "\n",
              "[1 rows x 11 columns]"
            ]
          },
          "metadata": {
            "tags": []
          },
          "execution_count": 6
        }
      ]
    },
    {
      "cell_type": "code",
      "metadata": {
        "colab": {
          "base_uri": "https://localhost:8080/",
          "height": 134
        },
        "id": "I36E-yHw6cVd",
        "outputId": "4a82b9b9-d58c-4292-8110-cad7e285c006"
      },
      "source": [
        "all_df.head(1)"
      ],
      "execution_count": null,
      "outputs": [
        {
          "output_type": "execute_result",
          "data": {
            "text/html": [
              "<div>\n",
              "<style scoped>\n",
              "    .dataframe tbody tr th:only-of-type {\n",
              "        vertical-align: middle;\n",
              "    }\n",
              "\n",
              "    .dataframe tbody tr th {\n",
              "        vertical-align: top;\n",
              "    }\n",
              "\n",
              "    .dataframe thead th {\n",
              "        text-align: right;\n",
              "    }\n",
              "</style>\n",
              "<table border=\"1\" class=\"dataframe\">\n",
              "  <thead>\n",
              "    <tr style=\"text-align: right;\">\n",
              "      <th></th>\n",
              "      <th>transaction_id</th>\n",
              "      <th>apartment_id</th>\n",
              "      <th>city</th>\n",
              "      <th>dong</th>\n",
              "      <th>apt</th>\n",
              "      <th>exclusive_use_area</th>\n",
              "      <th>year_of_completion</th>\n",
              "      <th>transaction_year_month</th>\n",
              "      <th>floor</th>\n",
              "      <th>transaction_real_price</th>\n",
              "      <th>top10</th>\n",
              "    </tr>\n",
              "  </thead>\n",
              "  <tbody>\n",
              "    <tr>\n",
              "      <th>0</th>\n",
              "      <td>0</td>\n",
              "      <td>7622</td>\n",
              "      <td>서울특별시</td>\n",
              "      <td>신교동</td>\n",
              "      <td>신현</td>\n",
              "      <td>84.82</td>\n",
              "      <td>41</td>\n",
              "      <td>0</td>\n",
              "      <td>2</td>\n",
              "      <td>37500.0</td>\n",
              "      <td>0</td>\n",
              "    </tr>\n",
              "  </tbody>\n",
              "</table>\n",
              "</div>"
            ],
            "text/plain": [
              "   transaction_id  apartment_id   city  ... floor transaction_real_price  top10\n",
              "0               0          7622  서울특별시  ...     2                37500.0      0\n",
              "\n",
              "[1 rows x 11 columns]"
            ]
          },
          "metadata": {
            "tags": []
          },
          "execution_count": 7
        }
      ]
    },
    {
      "cell_type": "markdown",
      "metadata": {
        "id": "A2MobnpAFtge"
      },
      "source": [
        "### dong"
      ]
    },
    {
      "cell_type": "code",
      "metadata": {
        "colab": {
          "base_uri": "https://localhost:8080/"
        },
        "id": "vQCgXMAfxAiq",
        "outputId": "babc9cbd-2b15-4b38-fde9-c2b76148c510"
      },
      "source": [
        "seoul_set = set(all_df.loc[all_df['city']=='서울특별시', 'dong'])\n",
        "busan_set = set(all_df.loc[all_df['city']=='부산광역시', 'dong'])\n",
        "same_dong = seoul_set & busan_set \n",
        "print(same_dong)"
      ],
      "execution_count": null,
      "outputs": [
        {
          "output_type": "stream",
          "text": [
            "{'중동', '송정동', '사직동', '부암동'}\n"
          ],
          "name": "stdout"
        }
      ]
    },
    {
      "cell_type": "markdown",
      "metadata": {
        "id": "blkoRsDFLwGu"
      },
      "source": [
        "- 서울과 부산에 중동, 부암동, 송정동, 사직동이 겹침을 알 수 있음"
      ]
    },
    {
      "cell_type": "code",
      "metadata": {
        "colab": {
          "base_uri": "https://localhost:8080/"
        },
        "id": "K0CXRKKrFzTY",
        "outputId": "5590ec74-943d-400d-fae5-1b37f0941753"
      },
      "source": [
        "for d in same_dong:\n",
        "    all_df.loc[(all_df['city']=='서울특별시') & (all_df['dong']==d), 'dong'] = '서울' + d\n",
        "    all_df.loc[(all_df['city']=='부산광역시') & (all_df['dong']==d), 'dong'] = '부산' + d\n",
        "\n",
        "seoul_set = set(all_df.loc[all_df['city']=='서울특별시', 'dong'])\n",
        "busan_set = set(all_df.loc[all_df['city']=='부산광역시', 'dong'])\n",
        "same_dong = seoul_set & busan_set\n",
        "print(same_dong)  "
      ],
      "execution_count": null,
      "outputs": [
        {
          "output_type": "stream",
          "text": [
            "set()\n"
          ],
          "name": "stdout"
        }
      ]
    },
    {
      "cell_type": "markdown",
      "metadata": {
        "id": "WnFIELvHLs39"
      },
      "source": [
        "- 더 이상 겹치는 동이 없음"
      ]
    },
    {
      "cell_type": "code",
      "metadata": {
        "colab": {
          "base_uri": "https://localhost:8080/"
        },
        "id": "QXlhPfyKINGd",
        "outputId": "3f9c8330-578a-4cc9-c2a8-1f65eb1e9914"
      },
      "source": [
        "train_df.loc[train_df['dong'].str.contains('장충동')].groupby('dong')['transaction_real_price'].\\\n",
        "agg('mean')"
      ],
      "execution_count": null,
      "outputs": [
        {
          "output_type": "execute_result",
          "data": {
            "text/plain": [
              "dong\n",
              "장충동1가    269888.888889\n",
              "장충동2가      6628.421053\n",
              "Name: transaction_real_price, dtype: float64"
            ]
          },
          "metadata": {
            "tags": []
          },
          "execution_count": 26
        }
      ]
    },
    {
      "cell_type": "markdown",
      "metadata": {
        "id": "hLD96KxjIzZk"
      },
      "source": [
        "- 같은 동이어도 숫자가 다르면 가격차이가 많이 남\n",
        "- 따라서 따로 숫자처리를 진행하지 않고 다른 동처럼 취급"
      ]
    },
    {
      "cell_type": "code",
      "metadata": {
        "colab": {
          "base_uri": "https://localhost:8080/"
        },
        "id": "4wo7TbfvG9vV",
        "outputId": "3d90a739-e7ca-436f-cd71-e59714c7bcf3"
      },
      "source": [
        "dong_price = train_df.groupby('dong')['transaction_real_price'].agg('mean').sort_values(ascending=False)\n",
        "dong_price[:10]"
      ],
      "execution_count": null,
      "outputs": [
        {
          "output_type": "execute_result",
          "data": {
            "text/plain": [
              "dong\n",
              "장충동1가     269888.888889\n",
              "압구정동      164534.722914\n",
              "청암동       161403.700000\n",
              "용산동5가     153497.331633\n",
              "회현동2가     139906.140351\n",
              "반포동       132489.395651\n",
              "한남동       122593.293264\n",
              "서빙고동      116547.239777\n",
              "대치동       116320.538909\n",
              "남대문로5가    113153.604651\n",
              "Name: transaction_real_price, dtype: float64"
            ]
          },
          "metadata": {
            "tags": []
          },
          "execution_count": 27
        }
      ]
    },
    {
      "cell_type": "markdown",
      "metadata": {
        "id": "7MsbFQ_oL2EE"
      },
      "source": [
        "- 동별로 그룹화 후 가격의 평균 계산\n",
        "- 가격의 평균의 내림차 순으로 정렬"
      ]
    },
    {
      "cell_type": "code",
      "metadata": {
        "colab": {
          "base_uri": "https://localhost:8080/",
          "height": 383
        },
        "id": "jJ12S7V-KA9u",
        "outputId": "c0c66d86-4fa2-4cb5-e3a7-8db3e2cf646c"
      },
      "source": [
        "# 가격기준으로 동을 정렬한 리스트를 바탕으로 dong에 대해 라벨 인코딩 진행\n",
        "for i, d in enumerate(list(dong_price.index)):\n",
        "    all_df.loc[all_df['dong'] == d, 'dong'] = i\n",
        "all_df.head()"
      ],
      "execution_count": null,
      "outputs": [
        {
          "output_type": "execute_result",
          "data": {
            "text/html": [
              "<div>\n",
              "<style scoped>\n",
              "    .dataframe tbody tr th:only-of-type {\n",
              "        vertical-align: middle;\n",
              "    }\n",
              "\n",
              "    .dataframe tbody tr th {\n",
              "        vertical-align: top;\n",
              "    }\n",
              "\n",
              "    .dataframe thead th {\n",
              "        text-align: right;\n",
              "    }\n",
              "</style>\n",
              "<table border=\"1\" class=\"dataframe\">\n",
              "  <thead>\n",
              "    <tr style=\"text-align: right;\">\n",
              "      <th></th>\n",
              "      <th>transaction_id</th>\n",
              "      <th>apartment_id</th>\n",
              "      <th>city</th>\n",
              "      <th>dong</th>\n",
              "      <th>apt</th>\n",
              "      <th>exclusive_use_area</th>\n",
              "      <th>year_of_completion</th>\n",
              "      <th>transaction_year_month</th>\n",
              "      <th>floor</th>\n",
              "      <th>transaction_real_price</th>\n",
              "      <th>top10</th>\n",
              "    </tr>\n",
              "  </thead>\n",
              "  <tbody>\n",
              "    <tr>\n",
              "      <th>0</th>\n",
              "      <td>0</td>\n",
              "      <td>7622</td>\n",
              "      <td>서울특별시</td>\n",
              "      <td>137</td>\n",
              "      <td>0</td>\n",
              "      <td>84.82</td>\n",
              "      <td>41</td>\n",
              "      <td>0</td>\n",
              "      <td>2</td>\n",
              "      <td>37500.0</td>\n",
              "      <td>0</td>\n",
              "    </tr>\n",
              "    <tr>\n",
              "      <th>1</th>\n",
              "      <td>1</td>\n",
              "      <td>5399</td>\n",
              "      <td>서울특별시</td>\n",
              "      <td>64</td>\n",
              "      <td>0</td>\n",
              "      <td>99.17</td>\n",
              "      <td>12</td>\n",
              "      <td>0</td>\n",
              "      <td>6</td>\n",
              "      <td>20000.0</td>\n",
              "      <td>0</td>\n",
              "    </tr>\n",
              "    <tr>\n",
              "      <th>2</th>\n",
              "      <td>2</td>\n",
              "      <td>3578</td>\n",
              "      <td>서울특별시</td>\n",
              "      <td>64</td>\n",
              "      <td>0</td>\n",
              "      <td>84.74</td>\n",
              "      <td>46</td>\n",
              "      <td>0</td>\n",
              "      <td>6</td>\n",
              "      <td>38500.0</td>\n",
              "      <td>0</td>\n",
              "    </tr>\n",
              "    <tr>\n",
              "      <th>3</th>\n",
              "      <td>3</td>\n",
              "      <td>10957</td>\n",
              "      <td>서울특별시</td>\n",
              "      <td>13</td>\n",
              "      <td>2032</td>\n",
              "      <td>146.39</td>\n",
              "      <td>42</td>\n",
              "      <td>0</td>\n",
              "      <td>15</td>\n",
              "      <td>118000.0</td>\n",
              "      <td>0</td>\n",
              "    </tr>\n",
              "    <tr>\n",
              "      <th>4</th>\n",
              "      <td>4</td>\n",
              "      <td>10639</td>\n",
              "      <td>서울특별시</td>\n",
              "      <td>13</td>\n",
              "      <td>0</td>\n",
              "      <td>194.43</td>\n",
              "      <td>43</td>\n",
              "      <td>0</td>\n",
              "      <td>3</td>\n",
              "      <td>120000.0</td>\n",
              "      <td>0</td>\n",
              "    </tr>\n",
              "  </tbody>\n",
              "</table>\n",
              "</div>"
            ],
            "text/plain": [
              "   transaction_id  apartment_id   city  ... floor transaction_real_price  top10\n",
              "0               0          7622  서울특별시  ...     2                37500.0      0\n",
              "1               1          5399  서울특별시  ...     6                20000.0      0\n",
              "2               2          3578  서울특별시  ...     6                38500.0      0\n",
              "3               3         10957  서울특별시  ...    15               118000.0      0\n",
              "4               4         10639  서울특별시  ...     3               120000.0      0\n",
              "\n",
              "[5 rows x 11 columns]"
            ]
          },
          "metadata": {
            "tags": []
          },
          "execution_count": 28
        }
      ]
    },
    {
      "cell_type": "markdown",
      "metadata": {
        "id": "VF5P_T3_yuR9"
      },
      "source": [
        "#### Price"
      ]
    },
    {
      "cell_type": "code",
      "metadata": {
        "ExecuteTime": {
          "end_time": "2021-05-07T07:45:29.733252Z",
          "start_time": "2021-05-07T07:45:29.590122Z"
        },
        "scrolled": true,
        "id": "LBVn1yB1yuR9",
        "colab": {
          "base_uri": "https://localhost:8080/",
          "height": 293
        },
        "outputId": "b74d57ee-f27b-4005-b2d3-96ad4b93897d"
      },
      "source": [
        "# train price\n",
        "plt.figure()\n",
        "plt.hist(train_df['transaction_real_price'], bins=30)\n",
        "plt.xlabel('Price(10000 won)')\n",
        "plt.title('Distribution of Price')\n",
        "plt.show()"
      ],
      "execution_count": null,
      "outputs": [
        {
          "output_type": "display_data",
          "data": {
            "image/png": "[encoded data removed]",
            "text/plain": [
              "<Figure size 432x288 with 1 Axes>"
            ]
          },
          "metadata": {
            "tags": [],
            "needs_background": "light"
          }
        }
      ]
    },
    {
      "cell_type": "markdown",
      "metadata": {
        "id": "ZLsEvIOVyuR-"
      },
      "source": [
        "- 가격의 분포가 매우 왼쪽으로 치우친 것을 확인할 수 있음\n",
        "- 타겟 변수의 이상치가 회귀모형을 사용한 예측에 큰 영향을 줄 수 있음\n",
        "    - 로그 변환으로 정규화한뒤, 나중에 다시 역변환"
      ]
    },
    {
      "cell_type": "code",
      "metadata": {
        "id": "m6K6o48uJ-K8",
        "colab": {
          "base_uri": "https://localhost:8080/",
          "height": 80
        },
        "outputId": "e7ba434e-a03a-4001-b870-13b3c2c3252f"
      },
      "source": [
        "# 가격 로그 변환 후 원래 가격 따로 저장\n",
        "all_df['log_price'] = np.log1p(all_df['transaction_real_price'])\n",
        "real_price = all_df['transaction_real_price'] # 원래 가격\n",
        "#train_y = real_price[:train_df.shape[0]] # train 데이터의 가격\n",
        "#test_y = real_price[train_df.shape[0]:] # test 데이터의 가격\n",
        "all_df.drop('transaction_real_price', axis=1, inplace=True)\n",
        "all_df.head(1)"
      ],
      "execution_count": null,
      "outputs": [
        {
          "output_type": "execute_result",
          "data": {
            "text/html": [
              "<div>\n",
              "<style scoped>\n",
              "    .dataframe tbody tr th:only-of-type {\n",
              "        vertical-align: middle;\n",
              "    }\n",
              "\n",
              "    .dataframe tbody tr th {\n",
              "        vertical-align: top;\n",
              "    }\n",
              "\n",
              "    .dataframe thead th {\n",
              "        text-align: right;\n",
              "    }\n",
              "</style>\n",
              "<table border=\"1\" class=\"dataframe\">\n",
              "  <thead>\n",
              "    <tr style=\"text-align: right;\">\n",
              "      <th></th>\n",
              "      <th>transaction_id</th>\n",
              "      <th>apartment_id</th>\n",
              "      <th>city</th>\n",
              "      <th>dong</th>\n",
              "      <th>apt</th>\n",
              "      <th>exclusive_use_area</th>\n",
              "      <th>year_of_completion</th>\n",
              "      <th>transaction_year_month</th>\n",
              "      <th>floor</th>\n",
              "      <th>top10</th>\n",
              "      <th>log_price</th>\n",
              "    </tr>\n",
              "  </thead>\n",
              "  <tbody>\n",
              "    <tr>\n",
              "      <th>0</th>\n",
              "      <td>0</td>\n",
              "      <td>7622</td>\n",
              "      <td>서울특별시</td>\n",
              "      <td>신교동</td>\n",
              "      <td>신현</td>\n",
              "      <td>84.82</td>\n",
              "      <td>41</td>\n",
              "      <td>0</td>\n",
              "      <td>2</td>\n",
              "      <td>0</td>\n",
              "      <td>10.532123</td>\n",
              "    </tr>\n",
              "  </tbody>\n",
              "</table>\n",
              "</div>"
            ],
            "text/plain": [
              "   transaction_id  apartment_id   city  ... floor top10  log_price\n",
              "0               0          7622  서울특별시  ...     2     0  10.532123\n",
              "\n",
              "[1 rows x 11 columns]"
            ]
          },
          "metadata": {
            "tags": []
          },
          "execution_count": 10
        }
      ]
    },
    {
      "cell_type": "code",
      "metadata": {
        "colab": {
          "base_uri": "https://localhost:8080/",
          "height": 292
        },
        "id": "Bcpz4ldU-M-P",
        "outputId": "83fa7849-71d0-4f6f-e10a-b3cdb9320be9"
      },
      "source": [
        "# train price\n",
        "plt.figure()\n",
        "plt.hist(all_df['log_price'], bins=30)\n",
        "plt.xlabel('log_price')\n",
        "plt.title('Distribution of Price')\n",
        "plt.show()"
      ],
      "execution_count": null,
      "outputs": [
        {
          "output_type": "display_data",
          "data": {
            "image/png": "[encoded data removed]",
            "text/plain": [
              "<Figure size 432x288 with 1 Axes>"
            ]
          },
          "metadata": {
            "tags": [],
            "needs_background": "light"
          }
        }
      ]
    },
    {
      "cell_type": "markdown",
      "metadata": {
        "id": "AVTeTEfRr15R"
      },
      "source": [
        "### Area"
      ]
    },
    {
      "cell_type": "code",
      "metadata": {
        "ExecuteTime": {
          "end_time": "2021-05-07T07:45:30.037529Z",
          "start_time": "2021-05-07T07:45:29.735254Z"
        },
        "scrolled": false,
        "id": "EKSc4UJ6yuR-",
        "colab": {
          "base_uri": "https://localhost:8080/",
          "height": 293
        },
        "outputId": "555d7b0a-656d-4aa5-f0b2-9c2c5926c178"
      },
      "source": [
        "# train area\n",
        "plt.figure()\n",
        "plt.hist(train_df['exclusive_use_area'], bins=30)\n",
        "plt.xlabel('Area(Square meter)')\n",
        "plt.title('Distribution of Area')\n",
        "plt.show()"
      ],
      "execution_count": null,
      "outputs": [
        {
          "output_type": "display_data",
          "data": {
            "image/png": "[encoded data removed]",
            "text/plain": [
              "<Figure size 432x288 with 1 Axes>"
            ]
          },
          "metadata": {
            "tags": [],
            "needs_background": "light"
          }
        }
      ]
    },
    {
      "cell_type": "code",
      "metadata": {
        "colab": {
          "base_uri": "https://localhost:8080/",
          "height": 80
        },
        "id": "Mww8qNfzrmeU",
        "outputId": "b58e250b-f030-43ba-8fcf-3a4004e70cc7"
      },
      "source": [
        "# 면적 로그 변환 후 원래 면적 따로 저장\n",
        "all_df['log_area'] = np.log1p(all_df['exclusive_use_area'])\n",
        "area = all_df['exclusive_use_area'] # 원래 가격\n",
        "all_df.drop('exclusive_use_area', axis=1, inplace=True)\n",
        "all_df.head(1)"
      ],
      "execution_count": null,
      "outputs": [
        {
          "output_type": "execute_result",
          "data": {
            "text/html": [
              "<div>\n",
              "<style scoped>\n",
              "    .dataframe tbody tr th:only-of-type {\n",
              "        vertical-align: middle;\n",
              "    }\n",
              "\n",
              "    .dataframe tbody tr th {\n",
              "        vertical-align: top;\n",
              "    }\n",
              "\n",
              "    .dataframe thead th {\n",
              "        text-align: right;\n",
              "    }\n",
              "</style>\n",
              "<table border=\"1\" class=\"dataframe\">\n",
              "  <thead>\n",
              "    <tr style=\"text-align: right;\">\n",
              "      <th></th>\n",
              "      <th>transaction_id</th>\n",
              "      <th>apartment_id</th>\n",
              "      <th>city</th>\n",
              "      <th>dong</th>\n",
              "      <th>apt</th>\n",
              "      <th>year_of_completion</th>\n",
              "      <th>transaction_year_month</th>\n",
              "      <th>floor</th>\n",
              "      <th>top10</th>\n",
              "      <th>log_price</th>\n",
              "      <th>log_area</th>\n",
              "    </tr>\n",
              "  </thead>\n",
              "  <tbody>\n",
              "    <tr>\n",
              "      <th>0</th>\n",
              "      <td>0</td>\n",
              "      <td>7622</td>\n",
              "      <td>서울특별시</td>\n",
              "      <td>신교동</td>\n",
              "      <td>신현</td>\n",
              "      <td>41</td>\n",
              "      <td>0</td>\n",
              "      <td>2</td>\n",
              "      <td>0</td>\n",
              "      <td>10.532123</td>\n",
              "      <td>4.452252</td>\n",
              "    </tr>\n",
              "  </tbody>\n",
              "</table>\n",
              "</div>"
            ],
            "text/plain": [
              "   transaction_id  apartment_id   city dong  ... floor  top10  log_price  log_area\n",
              "0               0          7622  서울특별시  신교동  ...     2      0  10.532123  4.452252\n",
              "\n",
              "[1 rows x 11 columns]"
            ]
          },
          "metadata": {
            "tags": []
          },
          "execution_count": 12
        }
      ]
    },
    {
      "cell_type": "code",
      "metadata": {
        "colab": {
          "base_uri": "https://localhost:8080/",
          "height": 292
        },
        "id": "XWFge8LqCf_8",
        "outputId": "236407e0-766e-4591-b832-132609d275ac"
      },
      "source": [
        "\n",
        "plt.figure()\n",
        "plt.hist(all_df['log_area'], bins=30)\n",
        "plt.xlabel('log_area')\n",
        "plt.title('Distribution of Area')\n",
        "plt.show()"
      ],
      "execution_count": null,
      "outputs": [
        {
          "output_type": "display_data",
          "data": {
            "image/png": "[encoded data removed]",
            "text/plain": [
              "<Figure size 432x288 with 1 Axes>"
            ]
          },
          "metadata": {
            "tags": [],
            "needs_background": "light"
          }
        }
      ]
    },
    {
      "cell_type": "markdown",
      "metadata": {
        "id": "RlvQNiQdEzQs"
      },
      "source": [
        "### Encoding"
      ]
    },
    {
      "cell_type": "code",
      "metadata": {
        "id": "jANAQVK291VZ"
      },
      "source": [
        "def label_encoder(col):\n",
        "    le = LabelEncoder()\n",
        "    return le.fit_transform(col)\n",
        "ohe_col = ['city']\n",
        "drop_col = ['transaction_id', 'apartment_id', 'city', 'dong', 'apt']\n",
        "\n",
        "ohe_columns = pd.get_dummies(all_df[ohe_col])\n"
      ],
      "execution_count": null,
      "outputs": []
    },
    {
      "cell_type": "code",
      "metadata": {
        "colab": {
          "base_uri": "https://localhost:8080/",
          "height": 228
        },
        "id": "iM8tGHMMtPgt",
        "outputId": "cce67d8a-84e0-4f7b-fe96-2e7ec519f766"
      },
      "source": [
        "all_df = pd.concat([all_df.drop(drop_col, axis=1), ohe_columns], axis=1)\n",
        "all_df.head()"
      ],
      "execution_count": null,
      "outputs": [
        {
          "output_type": "execute_result",
          "data": {
            "text/html": [
              "<div>\n",
              "<style scoped>\n",
              "    .dataframe tbody tr th:only-of-type {\n",
              "        vertical-align: middle;\n",
              "    }\n",
              "\n",
              "    .dataframe tbody tr th {\n",
              "        vertical-align: top;\n",
              "    }\n",
              "\n",
              "    .dataframe thead th {\n",
              "        text-align: right;\n",
              "    }\n",
              "</style>\n",
              "<table border=\"1\" class=\"dataframe\">\n",
              "  <thead>\n",
              "    <tr style=\"text-align: right;\">\n",
              "      <th></th>\n",
              "      <th>year_of_completion</th>\n",
              "      <th>transaction_year_month</th>\n",
              "      <th>floor</th>\n",
              "      <th>top10</th>\n",
              "      <th>log_price</th>\n",
              "      <th>log_area</th>\n",
              "      <th>city_부산광역시</th>\n",
              "      <th>city_서울특별시</th>\n",
              "    </tr>\n",
              "  </thead>\n",
              "  <tbody>\n",
              "    <tr>\n",
              "      <th>0</th>\n",
              "      <td>41</td>\n",
              "      <td>0</td>\n",
              "      <td>2</td>\n",
              "      <td>0</td>\n",
              "      <td>10.532123</td>\n",
              "      <td>4.452252</td>\n",
              "      <td>0</td>\n",
              "      <td>1</td>\n",
              "    </tr>\n",
              "    <tr>\n",
              "      <th>1</th>\n",
              "      <td>12</td>\n",
              "      <td>0</td>\n",
              "      <td>6</td>\n",
              "      <td>0</td>\n",
              "      <td>9.903538</td>\n",
              "      <td>4.606869</td>\n",
              "      <td>0</td>\n",
              "      <td>1</td>\n",
              "    </tr>\n",
              "    <tr>\n",
              "      <th>2</th>\n",
              "      <td>46</td>\n",
              "      <td>0</td>\n",
              "      <td>6</td>\n",
              "      <td>0</td>\n",
              "      <td>10.558439</td>\n",
              "      <td>4.451319</td>\n",
              "      <td>0</td>\n",
              "      <td>1</td>\n",
              "    </tr>\n",
              "    <tr>\n",
              "      <th>3</th>\n",
              "      <td>42</td>\n",
              "      <td>0</td>\n",
              "      <td>15</td>\n",
              "      <td>0</td>\n",
              "      <td>11.678448</td>\n",
              "      <td>4.993082</td>\n",
              "      <td>0</td>\n",
              "      <td>1</td>\n",
              "    </tr>\n",
              "    <tr>\n",
              "      <th>4</th>\n",
              "      <td>43</td>\n",
              "      <td>0</td>\n",
              "      <td>3</td>\n",
              "      <td>0</td>\n",
              "      <td>11.695255</td>\n",
              "      <td>5.275202</td>\n",
              "      <td>0</td>\n",
              "      <td>1</td>\n",
              "    </tr>\n",
              "  </tbody>\n",
              "</table>\n",
              "</div>"
            ],
            "text/plain": [
              "   year_of_completion  transaction_year_month  ...  city_부산광역시  city_서울특별시\n",
              "0                  41                       0  ...           0           1\n",
              "1                  12                       0  ...           0           1\n",
              "2                  46                       0  ...           0           1\n",
              "3                  42                       0  ...           0           1\n",
              "4                  43                       0  ...           0           1\n",
              "\n",
              "[5 rows x 8 columns]"
            ]
          },
          "metadata": {
            "tags": []
          },
          "execution_count": 36
        }
      ]
    },
    {
      "cell_type": "code",
      "metadata": {
        "colab": {
          "base_uri": "https://localhost:8080/"
        },
        "id": "3X4UMl3AZQO0",
        "outputId": "663b9ae7-9902-4ffd-a24c-f04c336d1263"
      },
      "source": [
        "all_df.shape"
      ],
      "execution_count": null,
      "outputs": [
        {
          "output_type": "execute_result",
          "data": {
            "text/plain": [
              "(1222016, 8)"
            ]
          },
          "metadata": {
            "tags": []
          },
          "execution_count": 37
        }
      ]
    },
    {
      "cell_type": "code",
      "metadata": {
        "id": "N08p100o8Pi5"
      },
      "source": [
        "all_df.to_csv('all_df.csv', index=False)"
      ],
      "execution_count": null,
      "outputs": []
    },
    {
      "cell_type": "markdown",
      "metadata": {
        "id": "2lc7YDr98TjE"
      },
      "source": [
        "## 전처리 생략 \n"
      ]
    },
    {
      "cell_type": "code",
      "metadata": {
        "colab": {
          "base_uri": "https://localhost:8080/"
        },
        "id": "wGPkNHiB815h",
        "outputId": "c4694d38-2f47-48fc-b07f-44dd639aa286"
      },
      "source": [
        "from google.colab import drive\n",
        "drive.mount('/content/drive')"
      ],
      "execution_count": 1,
      "outputs": [
        {
          "output_type": "stream",
          "text": [
            "Drive already mounted at /content/drive; to attempt to forcibly remount, call drive.mount(\"/content/drive\", force_remount=True).\n"
          ],
          "name": "stdout"
        }
      ]
    },
    {
      "cell_type": "code",
      "metadata": {
        "colab": {
          "base_uri": "https://localhost:8080/",
          "height": 1000
        },
        "id": "UfPZ8om08go4",
        "outputId": "f191250e-e0f7-47e1-96b7-7c6d79df407b"
      },
      "source": [
        "import pandas as pd\n",
        "import numpy as np\n",
        "import matplotlib.pyplot as plt\n",
        "import warnings\n",
        "import seaborn as sns\n",
        "import statsmodels.api as sm\n",
        "import statsmodels.formula.api as smf\n",
        "!pip install https://s3-us-west-2.amazonaws.com/xgboost-nightly-builds/xgboost-1.4.0_SNAPSHOT%2B4224c08cacceba3f83f90e387c07aa6205a83bfa-py3-none-manylinux2010_x86_64.whl\n",
        "from tqdm import tqdm\n",
        "from sklearn.linear_model import LinearRegression, ElasticNet, Lasso,  Ridge, LassoLarsIC\n",
        "from sklearn.tree import DecisionTreeRegressor\n",
        "from sklearn.ensemble import RandomForestRegressor,  GradientBoostingRegressor\n",
        "from sklearn.pipeline import make_pipeline\n",
        "from sklearn.preprocessing import RobustScaler, LabelEncoder\n",
        "from sklearn.model_selection import KFold, cross_val_score, train_test_split, TimeSeriesSplit\n",
        "from sklearn.metrics import mean_squared_error\n",
        "import xgboost as xgb\n",
        "# After running\n",
        "! git clone --recursive https://github.com/Microsoft/LightGBM\n",
        "#You can run this oneliner which will build and compile LightGBM with GPU enabled in colab:\n",
        "! cd LightGBM && rm -rf build && mkdir build && cd build && cmake -DUSE_GPU=1 ../../LightGBM && make -j4 && cd ../python-package && python3 setup.py install --precompile --gpu;    \n",
        "import lightgbm as lgb\n",
        "import re\n",
        "!pip install optuna -q\n",
        "import optuna\n",
        "from optuna.integration import XGBoostPruningCallback\n",
        "from sklearn.externals import joblib\n",
        "import pickle\n",
        "\n",
        "import matplotlib as mpl  # 기본 설정 만지는 용도\n",
        "import matplotlib.pyplot as plt  # 그래프 그리는 용도\n",
        "import matplotlib.font_manager as fm\n",
        "!apt-get update -qq\n",
        "!apt-get install fonts-nanum* -qq\n",
        "path = '/usr/share/fonts/truetype/nanum/NanumGothicEco.ttf'  # 설치된 나눔글꼴중 원하는 녀석의 전체 경로를 가져오자\n",
        "font_name = fm.FontProperties(fname=path, size=10).get_name()\n",
        "print(font_name)\n",
        "plt.rc('font', family=font_name)\n",
        "fm._rebuild()\n",
        "mpl.rcParams['axes.unicode_minus'] = False"
      ],
      "execution_count": 53,
      "outputs": [
        {
          "output_type": "stream",
          "text": [
            "Collecting xgboost==1.4.0-SNAPSHOT+4224c08cacceba3f83f90e387c07aa6205a83bfa\n",
            "  Using cached https://s3-us-west-2.amazonaws.com/xgboost-nightly-builds/xgboost-1.4.0_SNAPSHOT%2B4224c08cacceba3f83f90e387c07aa6205a83bfa-py3-none-manylinux2010_x86_64.whl\n",
            "Requirement already satisfied: numpy in /usr/local/lib/python3.7/dist-packages (from xgboost==1.4.0-SNAPSHOT+4224c08cacceba3f83f90e387c07aa6205a83bfa) (1.19.5)\n",
            "Requirement already satisfied: scipy in /usr/local/lib/python3.7/dist-packages (from xgboost==1.4.0-SNAPSHOT+4224c08cacceba3f83f90e387c07aa6205a83bfa) (1.4.1)\n",
            "Installing collected packages: xgboost\n",
            "  Found existing installation: xgboost 1.4.0-SNAPSHOT\n",
            "    Uninstalling xgboost-1.4.0-SNAPSHOT:\n",
            "      Successfully uninstalled xgboost-1.4.0-SNAPSHOT\n",
            "Successfully installed xgboost-1.4.0-SNAPSHOT\n"
          ],
          "name": "stdout"
        },
        {
          "output_type": "display_data",
          "data": {
            "application/vnd.colab-display-data+json": {
              "pip_warning": {
                "packages": [
                  "xgboost"
                ]
              }
            }
          },
          "metadata": {
            "tags": []
          }
        },
        {
          "output_type": "stream",
          "text": [
            "Cloning into 'LightGBM'...\n",
            "remote: Enumerating objects: 22280, done.\u001b[K\n",
            "remote: Counting objects: 100% (1028/1028), done.\u001b[K\n",
            "remote: Compressing objects: 100% (599/599), done.\u001b[K\n",
            "remote: Total 22280 (delta 642), reused 673 (delta 409), pack-reused 21252\u001b[K\n",
            "Receiving objects: 100% (22280/22280), 17.54 MiB | 32.42 MiB/s, done.\n",
            "Resolving deltas: 100% (16208/16208), done.\n",
            "Submodule 'include/boost/compute' (https://github.com/boostorg/compute) registered for path 'external_libs/compute'\n",
            "Submodule 'eigen' (https://gitlab.com/libeigen/eigen.git) registered for path 'external_libs/eigen'\n",
            "Submodule 'external_libs/fast_double_parser' (https://github.com/lemire/fast_double_parser.git) registered for path 'external_libs/fast_double_parser'\n",
            "Submodule 'external_libs/fmt' (https://github.com/fmtlib/fmt.git) registered for path 'external_libs/fmt'\n",
            "Cloning into '/content/LightGBM/external_libs/compute'...\n",
            "remote: Enumerating objects: 21731, done.        \n",
            "remote: Counting objects: 100% (3/3), done.        \n",
            "remote: Compressing objects: 100% (3/3), done.        \n",
            "remote: Total 21731 (delta 0), reused 1 (delta 0), pack-reused 21728        \n",
            "Receiving objects: 100% (21731/21731), 8.51 MiB | 13.14 MiB/s, done.\n",
            "Resolving deltas: 100% (17566/17566), done.\n",
            "Cloning into '/content/LightGBM/external_libs/eigen'...\n",
            "remote: Enumerating objects: 1146, done.        \n",
            "remote: Counting objects: 100% (1146/1146), done.        \n",
            "remote: Compressing objects: 100% (377/377), done.        \n",
            "remote: Total 109780 (delta 876), reused 1005 (delta 765), pack-reused 108634        \n",
            "Receiving objects: 100% (109780/109780), 101.91 MiB | 30.92 MiB/s, done.\n",
            "Resolving deltas: 100% (90143/90143), done.\n",
            "Cloning into '/content/LightGBM/external_libs/fast_double_parser'...\n",
            "remote: Enumerating objects: 686, done.        \n",
            "remote: Counting objects: 100% (186/186), done.        \n",
            "remote: Compressing objects: 100% (117/117), done.        \n",
            "remote: Total 686 (delta 91), reused 101 (delta 42), pack-reused 500        \n",
            "Receiving objects: 100% (686/686), 801.53 KiB | 16.03 MiB/s, done.\n",
            "Resolving deltas: 100% (345/345), done.\n",
            "Cloning into '/content/LightGBM/external_libs/fmt'...\n",
            "remote: Enumerating objects: 26403, done.        \n",
            "remote: Counting objects: 100% (105/105), done.        \n",
            "remote: Compressing objects: 100% (63/63), done.        \n",
            "remote: Total 26403 (delta 50), reused 73 (delta 31), pack-reused 26298        \n",
            "Receiving objects: 100% (26403/26403), 13.08 MiB | 4.05 MiB/s, done.\n",
            "Resolving deltas: 100% (17856/17856), done.\n",
            "Submodule path 'external_libs/compute': checked out '36c89134d4013b2e5e45bc55656a18bd6141995a'\n",
            "Submodule path 'external_libs/eigen': checked out '8ba1b0f41a7950dc3e1d4ed75859e36c73311235'\n",
            "Submodule path 'external_libs/fast_double_parser': checked out 'ace60646c02dc54c57f19d644e49a61e7e7758ec'\n",
            "Submodule 'benchmark/dependencies/abseil-cpp' (https://github.com/abseil/abseil-cpp.git) registered for path 'external_libs/fast_double_parser/benchmarks/dependencies/abseil-cpp'\n",
            "Submodule 'benchmark/dependencies/double-conversion' (https://github.com/google/double-conversion.git) registered for path 'external_libs/fast_double_parser/benchmarks/dependencies/double-conversion'\n",
            "Cloning into '/content/LightGBM/external_libs/fast_double_parser/benchmarks/dependencies/abseil-cpp'...\n",
            "remote: Enumerating objects: 14609, done.        \n",
            "remote: Counting objects: 100% (544/544), done.        \n",
            "remote: Compressing objects: 100% (243/243), done.        \n",
            "remote: Total 14609 (delta 341), reused 465 (delta 301), pack-reused 14065        \n",
            "Receiving objects: 100% (14609/14609), 9.68 MiB | 20.40 MiB/s, done.\n",
            "Resolving deltas: 100% (11082/11082), done.\n",
            "Cloning into '/content/LightGBM/external_libs/fast_double_parser/benchmarks/dependencies/double-conversion'...\n",
            "remote: Enumerating objects: 1225, done.        \n",
            "remote: Counting objects: 100% (69/69), done.        \n",
            "remote: Compressing objects: 100% (49/49), done.        \n",
            "remote: Total 1225 (delta 38), reused 34 (delta 20), pack-reused 1156        \n",
            "Receiving objects: 100% (1225/1225), 7.08 MiB | 26.95 MiB/s, done.\n",
            "Resolving deltas: 100% (810/810), done.\n",
            "Submodule path 'external_libs/fast_double_parser/benchmarks/dependencies/abseil-cpp': checked out 'd936052d32a5b7ca08b0199a6724724aea432309'\n",
            "Submodule path 'external_libs/fast_double_parser/benchmarks/dependencies/double-conversion': checked out 'f4cb2384efa55dee0e6652f8674b05763441ab09'\n",
            "Submodule path 'external_libs/fmt': checked out 'cc09f1a6798c085c325569ef466bcdcffdc266d4'\n",
            "-- The C compiler identification is GNU 7.5.0\n",
            "-- The CXX compiler identification is GNU 7.5.0\n",
            "-- Check for working C compiler: /usr/bin/cc\n",
            "-- Check for working C compiler: /usr/bin/cc -- works\n",
            "-- Detecting C compiler ABI info\n",
            "-- Detecting C compiler ABI info - done\n",
            "-- Detecting C compile features\n",
            "-- Detecting C compile features - done\n",
            "-- Check for working CXX compiler: /usr/bin/c++\n",
            "-- Check for working CXX compiler: /usr/bin/c++ -- works\n",
            "-- Detecting CXX compiler ABI info\n",
            "-- Detecting CXX compiler ABI info - done\n",
            "-- Detecting CXX compile features\n",
            "-- Detecting CXX compile features - done\n",
            "-- Found OpenMP_C: -fopenmp (found version \"4.5\") \n",
            "-- Found OpenMP_CXX: -fopenmp (found version \"4.5\") \n",
            "-- Found OpenMP: TRUE (found version \"4.5\")  \n",
            "-- Looking for CL_VERSION_2_2\n",
            "-- Looking for CL_VERSION_2_2 - found\n",
            "-- Found OpenCL: /usr/lib/x86_64-linux-gnu/libOpenCL.so (found version \"2.2\") \n",
            "-- OpenCL include directory: /usr/include\n",
            "-- Boost version: 1.65.1\n",
            "-- Found the following Boost libraries:\n",
            "--   filesystem\n",
            "--   system\n",
            "-- Performing Test MM_PREFETCH\n",
            "-- Performing Test MM_PREFETCH - Success\n",
            "-- Using _mm_prefetch\n",
            "-- Performing Test MM_MALLOC\n",
            "-- Performing Test MM_MALLOC - Success\n",
            "-- Using _mm_malloc\n",
            "-- Configuring done\n",
            "-- Generating done\n",
            "-- Build files have been written to: /content/LightGBM/build\n",
            "\u001b[35m\u001b[1mScanning dependencies of target _lightgbm\u001b[0m\n",
            "\u001b[35m\u001b[1mScanning dependencies of target lightgbm\u001b[0m\n",
            "[  1%] \u001b[32mBuilding CXX object CMakeFiles/_lightgbm.dir/src/boosting/boosting.cpp.o\u001b[0m\n",
            "[  2%] \u001b[32mBuilding CXX object CMakeFiles/_lightgbm.dir/src/boosting/gbdt.cpp.o\u001b[0m\n",
            "[  4%] \u001b[32mBuilding CXX object CMakeFiles/lightgbm.dir/src/application/application.cpp.o\u001b[0m\n",
            "[  5%] \u001b[32mBuilding CXX object CMakeFiles/lightgbm.dir/src/main.cpp.o\u001b[0m\n",
            "[  7%] \u001b[32mBuilding CXX object CMakeFiles/_lightgbm.dir/src/boosting/gbdt_model_text.cpp.o\u001b[0m\n",
            "[  8%] \u001b[32mBuilding CXX object CMakeFiles/lightgbm.dir/src/boosting/boosting.cpp.o\u001b[0m\n",
            "[ 10%] \u001b[32mBuilding CXX object CMakeFiles/_lightgbm.dir/src/boosting/gbdt_prediction.cpp.o\u001b[0m\n",
            "[ 11%] \u001b[32mBuilding CXX object CMakeFiles/_lightgbm.dir/src/boosting/prediction_early_stop.cpp.o\u001b[0m\n",
            "[ 13%] \u001b[32mBuilding CXX object CMakeFiles/lightgbm.dir/src/boosting/gbdt.cpp.o\u001b[0m\n",
            "[ 14%] \u001b[32mBuilding CXX object CMakeFiles/_lightgbm.dir/src/io/bin.cpp.o\u001b[0m\n",
            "[ 15%] \u001b[32mBuilding CXX object CMakeFiles/_lightgbm.dir/src/io/config.cpp.o\u001b[0m\n",
            "[ 17%] \u001b[32mBuilding CXX object CMakeFiles/lightgbm.dir/src/boosting/gbdt_model_text.cpp.o\u001b[0m\n",
            "[ 18%] \u001b[32mBuilding CXX object CMakeFiles/_lightgbm.dir/src/io/config_auto.cpp.o\u001b[0m\n",
            "[ 20%] \u001b[32mBuilding CXX object CMakeFiles/lightgbm.dir/src/boosting/gbdt_prediction.cpp.o\u001b[0m\n",
            "[ 21%] \u001b[32mBuilding CXX object CMakeFiles/lightgbm.dir/src/boosting/prediction_early_stop.cpp.o\u001b[0m\n",
            "[ 23%] \u001b[32mBuilding CXX object CMakeFiles/lightgbm.dir/src/io/bin.cpp.o\u001b[0m\n",
            "[ 24%] \u001b[32mBuilding CXX object CMakeFiles/_lightgbm.dir/src/io/dataset.cpp.o\u001b[0m\n",
            "[ 26%] \u001b[32mBuilding CXX object CMakeFiles/lightgbm.dir/src/io/config.cpp.o\u001b[0m\n",
            "[ 27%] \u001b[32mBuilding CXX object CMakeFiles/lightgbm.dir/src/io/config_auto.cpp.o\u001b[0m\n",
            "[ 28%] \u001b[32mBuilding CXX object CMakeFiles/_lightgbm.dir/src/io/dataset_loader.cpp.o\u001b[0m\n",
            "[ 30%] \u001b[32mBuilding CXX object CMakeFiles/_lightgbm.dir/src/io/file_io.cpp.o\u001b[0m\n",
            "[ 31%] \u001b[32mBuilding CXX object CMakeFiles/lightgbm.dir/src/io/dataset.cpp.o\u001b[0m\n",
            "[ 33%] \u001b[32mBuilding CXX object CMakeFiles/_lightgbm.dir/src/io/json11.cpp.o\u001b[0m\n",
            "[ 34%] \u001b[32mBuilding CXX object CMakeFiles/_lightgbm.dir/src/io/metadata.cpp.o\u001b[0m\n",
            "[ 36%] \u001b[32mBuilding CXX object CMakeFiles/_lightgbm.dir/src/io/parser.cpp.o\u001b[0m\n",
            "[ 37%] \u001b[32mBuilding CXX object CMakeFiles/_lightgbm.dir/src/io/train_share_states.cpp.o\u001b[0m\n",
            "[ 39%] \u001b[32mBuilding CXX object CMakeFiles/lightgbm.dir/src/io/dataset_loader.cpp.o\u001b[0m\n",
            "[ 40%] \u001b[32mBuilding CXX object CMakeFiles/lightgbm.dir/src/io/file_io.cpp.o\u001b[0m\n",
            "[ 42%] \u001b[32mBuilding CXX object CMakeFiles/_lightgbm.dir/src/io/tree.cpp.o\u001b[0m\n",
            "[ 43%] \u001b[32mBuilding CXX object CMakeFiles/lightgbm.dir/src/io/json11.cpp.o\u001b[0m\n",
            "[ 44%] \u001b[32mBuilding CXX object CMakeFiles/_lightgbm.dir/src/metric/dcg_calculator.cpp.o\u001b[0m\n",
            "[ 46%] \u001b[32mBuilding CXX object CMakeFiles/_lightgbm.dir/src/metric/metric.cpp.o\u001b[0m\n",
            "[ 47%] \u001b[32mBuilding CXX object CMakeFiles/lightgbm.dir/src/io/metadata.cpp.o\u001b[0m\n",
            "[ 49%] \u001b[32mBuilding CXX object CMakeFiles/lightgbm.dir/src/io/parser.cpp.o\u001b[0m\n",
            "[ 50%] \u001b[32mBuilding CXX object CMakeFiles/lightgbm.dir/src/io/train_share_states.cpp.o\u001b[0m\n",
            "[ 52%] \u001b[32mBuilding CXX object CMakeFiles/lightgbm.dir/src/io/tree.cpp.o\u001b[0m\n",
            "[ 53%] \u001b[32mBuilding CXX object CMakeFiles/lightgbm.dir/src/metric/dcg_calculator.cpp.o\u001b[0m\n",
            "[ 55%] \u001b[32mBuilding CXX object CMakeFiles/_lightgbm.dir/src/network/ifaddrs_patch.cpp.o\u001b[0m\n",
            "[ 56%] \u001b[32mBuilding CXX object CMakeFiles/_lightgbm.dir/src/network/linker_topo.cpp.o\u001b[0m\n",
            "[ 57%] \u001b[32mBuilding CXX object CMakeFiles/_lightgbm.dir/src/network/linkers_mpi.cpp.o\u001b[0m\n",
            "[ 59%] \u001b[32mBuilding CXX object CMakeFiles/_lightgbm.dir/src/network/linkers_socket.cpp.o\u001b[0m\n",
            "[ 60%] \u001b[32mBuilding CXX object CMakeFiles/_lightgbm.dir/src/network/network.cpp.o\u001b[0m\n",
            "[ 62%] \u001b[32mBuilding CXX object CMakeFiles/lightgbm.dir/src/metric/metric.cpp.o\u001b[0m\n",
            "[ 63%] \u001b[32mBuilding CXX object CMakeFiles/_lightgbm.dir/src/objective/objective_function.cpp.o\u001b[0m\n",
            "[ 65%] \u001b[32mBuilding CXX object CMakeFiles/_lightgbm.dir/src/treelearner/cuda_tree_learner.cpp.o\u001b[0m\n",
            "[ 66%] \u001b[32mBuilding CXX object CMakeFiles/_lightgbm.dir/src/treelearner/data_parallel_tree_learner.cpp.o\u001b[0m\n",
            "[ 68%] \u001b[32mBuilding CXX object CMakeFiles/lightgbm.dir/src/network/ifaddrs_patch.cpp.o\u001b[0m\n",
            "[ 69%] \u001b[32mBuilding CXX object CMakeFiles/lightgbm.dir/src/network/linker_topo.cpp.o\u001b[0m\n",
            "[ 71%] \u001b[32mBuilding CXX object CMakeFiles/lightgbm.dir/src/network/linkers_mpi.cpp.o\u001b[0m\n",
            "[ 72%] \u001b[32mBuilding CXX object CMakeFiles/lightgbm.dir/src/network/linkers_socket.cpp.o\u001b[0m\n",
            "[ 73%] \u001b[32mBuilding CXX object CMakeFiles/lightgbm.dir/src/network/network.cpp.o\u001b[0m\n",
            "[ 75%] \u001b[32mBuilding CXX object CMakeFiles/_lightgbm.dir/src/treelearner/feature_parallel_tree_learner.cpp.o\u001b[0m\n",
            "[ 76%] \u001b[32mBuilding CXX object CMakeFiles/lightgbm.dir/src/objective/objective_function.cpp.o\u001b[0m\n",
            "[ 78%] \u001b[32mBuilding CXX object CMakeFiles/lightgbm.dir/src/treelearner/cuda_tree_learner.cpp.o\u001b[0m\n",
            "[ 79%] \u001b[32mBuilding CXX object CMakeFiles/lightgbm.dir/src/treelearner/data_parallel_tree_learner.cpp.o\u001b[0m\n",
            "[ 81%] \u001b[32mBuilding CXX object CMakeFiles/_lightgbm.dir/src/treelearner/gpu_tree_learner.cpp.o\u001b[0m\n",
            "[ 82%] \u001b[32mBuilding CXX object CMakeFiles/_lightgbm.dir/src/treelearner/linear_tree_learner.cpp.o\u001b[0m\n",
            "[ 84%] \u001b[32mBuilding CXX object CMakeFiles/lightgbm.dir/src/treelearner/feature_parallel_tree_learner.cpp.o\u001b[0m\n",
            "[ 85%] \u001b[32mBuilding CXX object CMakeFiles/lightgbm.dir/src/treelearner/gpu_tree_learner.cpp.o\u001b[0m\n",
            "[ 86%] \u001b[32mBuilding CXX object CMakeFiles/lightgbm.dir/src/treelearner/linear_tree_learner.cpp.o\u001b[0m\n",
            "[ 88%] \u001b[32mBuilding CXX object CMakeFiles/_lightgbm.dir/src/treelearner/serial_tree_learner.cpp.o\u001b[0m\n",
            "[ 89%] \u001b[32mBuilding CXX object CMakeFiles/_lightgbm.dir/src/treelearner/tree_learner.cpp.o\u001b[0m\n",
            "[ 91%] \u001b[32mBuilding CXX object CMakeFiles/lightgbm.dir/src/treelearner/serial_tree_learner.cpp.o\u001b[0m\n",
            "[ 92%] \u001b[32mBuilding CXX object CMakeFiles/_lightgbm.dir/src/treelearner/voting_parallel_tree_learner.cpp.o\u001b[0m\n",
            "[ 94%] \u001b[32mBuilding CXX object CMakeFiles/lightgbm.dir/src/treelearner/tree_learner.cpp.o\u001b[0m\n",
            "[ 95%] \u001b[32mBuilding CXX object CMakeFiles/lightgbm.dir/src/treelearner/voting_parallel_tree_learner.cpp.o\u001b[0m\n",
            "[ 97%] \u001b[32mBuilding CXX object CMakeFiles/_lightgbm.dir/src/c_api.cpp.o\u001b[0m\n",
            "[ 98%] \u001b[32m\u001b[1mLinking CXX shared library ../lib_lightgbm.so\u001b[0m\n",
            "[ 98%] Built target _lightgbm\n",
            "[100%] \u001b[32m\u001b[1mLinking CXX executable ../lightgbm\u001b[0m\n",
            "[100%] Built target lightgbm\n",
            "running install\n",
            "running build\n",
            "running build_py\n",
            "INFO:root:Generating grammar tables from /usr/lib/python3.7/lib2to3/Grammar.txt\n",
            "INFO:root:Generating grammar tables from /usr/lib/python3.7/lib2to3/PatternGrammar.txt\n",
            "creating build\n",
            "creating build/lib\n",
            "creating build/lib/lightgbm\n",
            "copying lightgbm/plotting.py -> build/lib/lightgbm\n",
            "copying lightgbm/sklearn.py -> build/lib/lightgbm\n",
            "copying lightgbm/libpath.py -> build/lib/lightgbm\n",
            "copying lightgbm/compat.py -> build/lib/lightgbm\n",
            "copying lightgbm/__init__.py -> build/lib/lightgbm\n",
            "copying lightgbm/basic.py -> build/lib/lightgbm\n",
            "copying lightgbm/dask.py -> build/lib/lightgbm\n",
            "copying lightgbm/callback.py -> build/lib/lightgbm\n",
            "copying lightgbm/engine.py -> build/lib/lightgbm\n",
            "running egg_info\n",
            "creating lightgbm.egg-info\n",
            "writing lightgbm.egg-info/PKG-INFO\n",
            "writing dependency_links to lightgbm.egg-info/dependency_links.txt\n",
            "writing requirements to lightgbm.egg-info/requires.txt\n",
            "writing top-level names to lightgbm.egg-info/top_level.txt\n",
            "writing manifest file 'lightgbm.egg-info/SOURCES.txt'\n",
            "reading manifest template 'MANIFEST.in'\n",
            "no previously-included directories found matching 'build'\n",
            "warning: no files found matching 'LICENSE'\n",
            "warning: no files found matching '*.txt'\n",
            "warning: no files found matching '*.so' under directory 'lightgbm'\n",
            "warning: no files found matching 'compile/CMakeLists.txt'\n",
            "warning: no files found matching 'compile/cmake/IntegratedOpenCL.cmake'\n",
            "warning: no files found matching '*.so' under directory 'compile'\n",
            "warning: no files found matching '*.dll' under directory 'compile/Release'\n",
            "warning: no files found matching 'compile/external_libs/compute/CMakeLists.txt'\n",
            "warning: no files found matching '*' under directory 'compile/external_libs/compute/cmake'\n",
            "warning: no files found matching '*' under directory 'compile/external_libs/compute/include'\n",
            "warning: no files found matching '*' under directory 'compile/external_libs/compute/meta'\n",
            "warning: no files found matching 'compile/external_libs/eigen/CMakeLists.txt'\n",
            "warning: no files found matching 'compile/external_libs/eigen/Eigen/Cholesky'\n",
            "warning: no files found matching 'compile/external_libs/eigen/Eigen/Core'\n",
            "warning: no files found matching 'compile/external_libs/eigen/Eigen/Dense'\n",
            "warning: no files found matching 'compile/external_libs/eigen/Eigen/Eigenvalues'\n",
            "warning: no files found matching 'compile/external_libs/eigen/Eigen/Geometry'\n",
            "warning: no files found matching 'compile/external_libs/eigen/Eigen/Householder'\n",
            "warning: no files found matching 'compile/external_libs/eigen/Eigen/Jacobi'\n",
            "warning: no files found matching 'compile/external_libs/eigen/Eigen/LU'\n",
            "warning: no files found matching 'compile/external_libs/eigen/Eigen/QR'\n",
            "warning: no files found matching 'compile/external_libs/eigen/Eigen/SVD'\n",
            "warning: no files found matching '*' under directory 'compile/external_libs/eigen/Eigen/src/Cholesky'\n",
            "warning: no files found matching '*' under directory 'compile/external_libs/eigen/Eigen/src/Core'\n",
            "warning: no files found matching '*' under directory 'compile/external_libs/eigen/Eigen/src/Eigenvalues'\n",
            "warning: no files found matching '*' under directory 'compile/external_libs/eigen/Eigen/src/Geometry'\n",
            "warning: no files found matching '*' under directory 'compile/external_libs/eigen/Eigen/src/Householder'\n",
            "warning: no files found matching '*' under directory 'compile/external_libs/eigen/Eigen/src/Jacobi'\n",
            "warning: no files found matching '*' under directory 'compile/external_libs/eigen/Eigen/src/LU'\n",
            "warning: no files found matching '*' under directory 'compile/external_libs/eigen/Eigen/src/misc'\n",
            "warning: no files found matching '*' under directory 'compile/external_libs/eigen/Eigen/src/plugins'\n",
            "warning: no files found matching '*' under directory 'compile/external_libs/eigen/Eigen/src/QR'\n",
            "warning: no files found matching '*' under directory 'compile/external_libs/eigen/Eigen/src/SVD'\n",
            "warning: no files found matching 'compile/external_libs/fast_double_parser/CMakeLists.txt'\n",
            "warning: no files found matching 'compile/external_libs/fast_double_parser/LICENSE'\n",
            "warning: no files found matching 'compile/external_libs/fast_double_parser/LICENSE.BSL'\n",
            "warning: no files found matching '*' under directory 'compile/external_libs/fast_double_parser/include'\n",
            "warning: no files found matching 'compile/external_libs/fmt/CMakeLists.txt'\n",
            "warning: no files found matching 'compile/external_libs/fmt/LICENSE.rst'\n",
            "warning: no files found matching '*' under directory 'compile/external_libs/fmt/include'\n",
            "warning: no files found matching '*' under directory 'compile/include'\n",
            "warning: no files found matching '*' under directory 'compile/src'\n",
            "warning: no files found matching 'LightGBM.sln' under directory 'compile/windows'\n",
            "warning: no files found matching 'LightGBM.vcxproj' under directory 'compile/windows'\n",
            "warning: no files found matching '*.dll' under directory 'compile/windows/x64/DLL'\n",
            "warning: no previously-included files matching '*.py[co]' found anywhere in distribution\n",
            "warning: no previously-included files found matching 'compile/external_libs/compute/.git'\n",
            "writing manifest file 'lightgbm.egg-info/SOURCES.txt'\n",
            "copying lightgbm/VERSION.txt -> build/lib/lightgbm\n",
            "running install_lib\n",
            "copying build/lib/lightgbm/VERSION.txt -> /usr/local/lib/python3.7/dist-packages/lightgbm\n",
            "copying build/lib/lightgbm/plotting.py -> /usr/local/lib/python3.7/dist-packages/lightgbm\n",
            "copying build/lib/lightgbm/sklearn.py -> /usr/local/lib/python3.7/dist-packages/lightgbm\n",
            "copying build/lib/lightgbm/libpath.py -> /usr/local/lib/python3.7/dist-packages/lightgbm\n",
            "copying build/lib/lightgbm/compat.py -> /usr/local/lib/python3.7/dist-packages/lightgbm\n",
            "copying build/lib/lightgbm/__init__.py -> /usr/local/lib/python3.7/dist-packages/lightgbm\n",
            "copying build/lib/lightgbm/basic.py -> /usr/local/lib/python3.7/dist-packages/lightgbm\n",
            "copying build/lib/lightgbm/dask.py -> /usr/local/lib/python3.7/dist-packages/lightgbm\n",
            "copying build/lib/lightgbm/callback.py -> /usr/local/lib/python3.7/dist-packages/lightgbm\n",
            "copying build/lib/lightgbm/engine.py -> /usr/local/lib/python3.7/dist-packages/lightgbm\n",
            "INFO:LightGBM:Installing lib_lightgbm from: ['../lib_lightgbm.so']\n",
            "copying ../lib_lightgbm.so -> /usr/local/lib/python3.7/dist-packages/lightgbm\n",
            "byte-compiling /usr/local/lib/python3.7/dist-packages/lightgbm/plotting.py to plotting.cpython-37.pyc\n",
            "byte-compiling /usr/local/lib/python3.7/dist-packages/lightgbm/sklearn.py to sklearn.cpython-37.pyc\n",
            "byte-compiling /usr/local/lib/python3.7/dist-packages/lightgbm/libpath.py to libpath.cpython-37.pyc\n",
            "byte-compiling /usr/local/lib/python3.7/dist-packages/lightgbm/compat.py to compat.cpython-37.pyc\n",
            "byte-compiling /usr/local/lib/python3.7/dist-packages/lightgbm/__init__.py to __init__.cpython-37.pyc\n",
            "byte-compiling /usr/local/lib/python3.7/dist-packages/lightgbm/basic.py to basic.cpython-37.pyc\n",
            "byte-compiling /usr/local/lib/python3.7/dist-packages/lightgbm/dask.py to dask.cpython-37.pyc\n",
            "byte-compiling /usr/local/lib/python3.7/dist-packages/lightgbm/callback.py to callback.cpython-37.pyc\n",
            "byte-compiling /usr/local/lib/python3.7/dist-packages/lightgbm/engine.py to engine.cpython-37.pyc\n",
            "running install_egg_info\n",
            "Copying lightgbm.egg-info to /usr/local/lib/python3.7/dist-packages/lightgbm-3.2.1.99-py3.7.egg-info\n",
            "running install_scripts\n",
            "NanumGothic Eco\n"
          ],
          "name": "stdout"
        }
      ]
    },
    {
      "cell_type": "code",
      "metadata": {
        "id": "va3JyIr-829r"
      },
      "source": [
        "PATH = '/content/drive/MyDrive/input/dataminingTP/'\n",
        "train_df = pd.read_csv(PATH + 'train_df_regex.csv')\n",
        "all_df = pd.read_csv(PATH + 'all_df.csv')"
      ],
      "execution_count": 3,
      "outputs": []
    },
    {
      "cell_type": "code",
      "metadata": {
        "id": "vlBocCnAvuKG",
        "colab": {
          "base_uri": "https://localhost:8080/"
        },
        "outputId": "a8530422-e1b6-486a-ad70-3dca8c4ade23"
      },
      "source": [
        "train_df = all_df[:train_df.shape[0]]\n",
        "train_y = train_df['log_price']\n",
        "train_X = train_df.drop('log_price', axis=1)\n",
        "test_df = all_df[train_df.shape[0]:].drop('log_price', axis=1)\n",
        "print(train_df.shape, test_df.shape, train_X.shape, train_y.shape)"
      ],
      "execution_count": 4,
      "outputs": [
        {
          "output_type": "stream",
          "text": [
            "(1216553, 8) (5463, 7) (1216553, 7) (1216553,)\n"
          ],
          "name": "stdout"
        }
      ]
    },
    {
      "cell_type": "markdown",
      "metadata": {
        "id": "Jnko_Hx30Bqm"
      },
      "source": [
        "\n",
        "## Modeling"
      ]
    },
    {
      "cell_type": "markdown",
      "metadata": {
        "id": "_AtMPso6-EhM"
      },
      "source": [
        "### Linear Regression"
      ]
    },
    {
      "cell_type": "code",
      "metadata": {
        "id": "BjHHIyWBymgd",
        "colab": {
          "base_uri": "https://localhost:8080/"
        },
        "outputId": "e99ff381-a629-4e12-9f88-46546a2682db"
      },
      "source": [
        "reg = LinearRegression().fit(train_X, train_y)\n",
        "reg.score(train_X, train_y) # R^2"
      ],
      "execution_count": 11,
      "outputs": [
        {
          "output_type": "execute_result",
          "data": {
            "text/plain": [
              "0.7329833327398763"
            ]
          },
          "metadata": {
            "tags": []
          },
          "execution_count": 11
        }
      ]
    },
    {
      "cell_type": "code",
      "metadata": {
        "colab": {
          "base_uri": "https://localhost:8080/",
          "height": 371
        },
        "id": "qy9eV3imtopU",
        "outputId": "7dcd9265-5b6a-4d11-e27a-659f14203d51"
      },
      "source": [
        "sns.heatmap(train_df.corr(), annot=True, fmt='.2f', annot_kws={\"fontsize\":11})\n",
        "plt.show()"
      ],
      "execution_count": 12,
      "outputs": [
        {
          "output_type": "display_data",
          "data": {
            "image/png": "[encoded data removed]",
            "text/plain": [
              "<Figure size 432x288 with 2 Axes>"
            ]
          },
          "metadata": {
            "tags": [],
            "needs_background": "light"
          }
        }
      ]
    },
    {
      "cell_type": "markdown",
      "metadata": {
        "id": "bqs_8Onq-HgH"
      },
      "source": [
        "### Set RMSE Score"
      ]
    },
    {
      "cell_type": "code",
      "metadata": {
        "id": "b1QCDF4M0A_K"
      },
      "source": [
        "def RMSE(y, y_pred):\n",
        "    rmse = mean_squared_error(y, y_pred) ** 0.5\n",
        "    return rmse\n",
        "\n",
        "def rmse_cv(model):\n",
        "    tscv = TimeSeriesSplit(n_splits=10)\n",
        "    rmse_list = []\n",
        "    for i, (train_index, test_index) in enumerate(tscv.split(train_X), start=1):\n",
        "        X_train, X_test = train_X.iloc[train_index], train_X.iloc[test_index]\n",
        "        y_train, y_test = train_y.iloc[train_index], train_y.iloc[test_index]\n",
        "        clf = model.fit(X_train, y_train)\n",
        "        pred = clf.predict(X_test)\n",
        "        rmse = RMSE(y_test, pred) \n",
        "        rmse_list.append(rmse)\n",
        "    return type(model).__name__, rmse_list\n",
        "\n",
        "def print_rmse_score(model):\n",
        "    model_name, score = rmse_cv(model)\n",
        "    for i, r in tqdm(enumerate(score, start=1), leave=True):\n",
        "        if i == 1:\n",
        "            print('\\n')\n",
        "            print(f'{i} FOLDS: {model_name} RMSE: {r:.4f}')\n",
        "        else:\n",
        "            print(f'{i} FOLDS: {model_name} RMSE: {r:.4f}')\n",
        "    print(f'\\n{model_name} mean RMSE: {np.mean(score):.4f}')\n",
        "    print('='*40)"
      ],
      "execution_count": 5,
      "outputs": []
    },
    {
      "cell_type": "code",
      "metadata": {
        "id": "NFaDSJHXcJUm"
      },
      "source": [
        "ridge = Ridge(alpha=0.8, random_state=1)\n",
        "lasso = Lasso(alpha = 0.01, random_state=1)\n",
        "Enet = ElasticNet(alpha=0.03, l1_ratio=0.01, random_state=1)\n",
        "\n",
        "# DTree의 스코어가 가장 높았으므로 DTree 부터 시작\n",
        "DTree = DecisionTreeRegressor(max_depth=6, min_samples_split=10, min_samples_leaf=15, random_state=1)\n",
        "GBoost = GradientBoostingRegressor(n_estimators=3000, learning_rate=0.05, max_depth=4,\n",
        "                                   max_features='sqrt', min_samples_leaf=15, min_samples_split=10,\n",
        "                                   loss='huber', random_state=1)\n",
        "rf = RandomForestRegressor(n_estimators=500, criterion='mse', max_depth=9, min_samples_split=50,\n",
        "                           min_samples_leaf=5, random_state=1)\n",
        "model_xgb = xgb.XGBRegressor(colsample_bytree=0.4603, gamma=0.0468, learning_rate=0.05,\n",
        "                             max_depth=3, min_child_weight=1.7817, n_estimators=1000,\n",
        "                             reg_alpha=0.4640, reg_lambda=0.8571, subsample=0.5213,\n",
        "                             silent=1, random_state=1, nthread=-1)\n",
        "model_lgb = lgb.LGBMRegressor(objective='regression', num_leaves=5, learning_rate=0.05, \n",
        "                              n_estimators=720, max_bin=55, bagging_fraction=0.8,\n",
        "                              bagging_freq=5, feature_fraction=0.2319, feature_fraction_seed=9,\n",
        "                              bagging_seed=9, min_data_in_leaf=6, min_sum_hessian_in_leaf=11)"
      ],
      "execution_count": 55,
      "outputs": []
    },
    {
      "cell_type": "code",
      "metadata": {
        "colab": {
          "base_uri": "https://localhost:8080/"
        },
        "id": "x_OHU1WM1aAY",
        "outputId": "b4611dcf-cd5a-4fa4-99c0-4911b21291a0"
      },
      "source": [
        "score = []\n",
        "for model in [reg, ridge, lasso, Enet, DTree]:\n",
        "    print_rmse_score(model)"
      ],
      "execution_count": 14,
      "outputs": [
        {
          "output_type": "stream",
          "text": [
            "10it [00:00, 1389.49it/s]\n"
          ],
          "name": "stderr"
        },
        {
          "output_type": "stream",
          "text": [
            "\n",
            "\n",
            "1 FOLDS: LinearRegression RMSE: 0.2900\n",
            "2 FOLDS: LinearRegression RMSE: 0.3195\n",
            "3 FOLDS: LinearRegression RMSE: 0.2598\n",
            "4 FOLDS: LinearRegression RMSE: 0.5896\n",
            "5 FOLDS: LinearRegression RMSE: 0.6073\n",
            "6 FOLDS: LinearRegression RMSE: 0.3746\n",
            "7 FOLDS: LinearRegression RMSE: 0.3501\n",
            "8 FOLDS: LinearRegression RMSE: 0.3575\n",
            "9 FOLDS: LinearRegression RMSE: 0.3185\n",
            "10 FOLDS: LinearRegression RMSE: 0.4028\n",
            "\n",
            "LinearRegression mean RMSE: 0.3870\n",
            "========================================\n"
          ],
          "name": "stdout"
        },
        {
          "output_type": "stream",
          "text": [
            "10it [00:00, 2335.10it/s]\n"
          ],
          "name": "stderr"
        },
        {
          "output_type": "stream",
          "text": [
            "\n",
            "\n",
            "1 FOLDS: Ridge RMSE: 0.2900\n",
            "2 FOLDS: Ridge RMSE: 0.3195\n",
            "3 FOLDS: Ridge RMSE: 0.2598\n",
            "4 FOLDS: Ridge RMSE: 0.5896\n",
            "5 FOLDS: Ridge RMSE: 0.6073\n",
            "6 FOLDS: Ridge RMSE: 0.3746\n",
            "7 FOLDS: Ridge RMSE: 0.3501\n",
            "8 FOLDS: Ridge RMSE: 0.3575\n",
            "9 FOLDS: Ridge RMSE: 0.3185\n",
            "10 FOLDS: Ridge RMSE: 0.4028\n",
            "\n",
            "Ridge mean RMSE: 0.3870\n",
            "========================================\n"
          ],
          "name": "stdout"
        },
        {
          "output_type": "stream",
          "text": [
            "10it [00:00, 1543.39it/s]\n"
          ],
          "name": "stderr"
        },
        {
          "output_type": "stream",
          "text": [
            "\n",
            "\n",
            "1 FOLDS: Lasso RMSE: 0.2960\n",
            "2 FOLDS: Lasso RMSE: 0.3244\n",
            "3 FOLDS: Lasso RMSE: 0.2644\n",
            "4 FOLDS: Lasso RMSE: 0.6048\n",
            "5 FOLDS: Lasso RMSE: 0.6075\n",
            "6 FOLDS: Lasso RMSE: 0.5447\n",
            "7 FOLDS: Lasso RMSE: 0.3531\n",
            "8 FOLDS: Lasso RMSE: 0.3633\n",
            "9 FOLDS: Lasso RMSE: 0.3199\n",
            "10 FOLDS: Lasso RMSE: 0.4007\n",
            "\n",
            "Lasso mean RMSE: 0.4079\n",
            "========================================\n"
          ],
          "name": "stdout"
        },
        {
          "output_type": "stream",
          "text": [
            "10it [00:00, 1905.90it/s]\n"
          ],
          "name": "stderr"
        },
        {
          "output_type": "stream",
          "text": [
            "\n",
            "\n",
            "1 FOLDS: ElasticNet RMSE: 0.3105\n",
            "2 FOLDS: ElasticNet RMSE: 0.3251\n",
            "3 FOLDS: ElasticNet RMSE: 0.2647\n",
            "4 FOLDS: ElasticNet RMSE: 0.6173\n",
            "5 FOLDS: ElasticNet RMSE: 0.6075\n",
            "6 FOLDS: ElasticNet RMSE: 0.4888\n",
            "7 FOLDS: ElasticNet RMSE: 0.3639\n",
            "8 FOLDS: ElasticNet RMSE: 0.3705\n",
            "9 FOLDS: ElasticNet RMSE: 0.3253\n",
            "10 FOLDS: ElasticNet RMSE: 0.4020\n",
            "\n",
            "ElasticNet mean RMSE: 0.4075\n",
            "========================================\n"
          ],
          "name": "stdout"
        },
        {
          "output_type": "stream",
          "text": [
            "10it [00:00, 1445.07it/s]"
          ],
          "name": "stderr"
        },
        {
          "output_type": "stream",
          "text": [
            "\n",
            "\n",
            "1 FOLDS: DecisionTreeRegressor RMSE: 0.2624\n",
            "2 FOLDS: DecisionTreeRegressor RMSE: 0.3234\n",
            "3 FOLDS: DecisionTreeRegressor RMSE: 0.2562\n",
            "4 FOLDS: DecisionTreeRegressor RMSE: 0.5516\n",
            "5 FOLDS: DecisionTreeRegressor RMSE: 0.5551\n",
            "6 FOLDS: DecisionTreeRegressor RMSE: 0.3847\n",
            "7 FOLDS: DecisionTreeRegressor RMSE: 0.3207\n",
            "8 FOLDS: DecisionTreeRegressor RMSE: 0.3126\n",
            "9 FOLDS: DecisionTreeRegressor RMSE: 0.3233\n",
            "10 FOLDS: DecisionTreeRegressor RMSE: 0.3936\n",
            "\n",
            "DecisionTreeRegressor mean RMSE: 0.3683\n",
            "========================================\n"
          ],
          "name": "stdout"
        },
        {
          "output_type": "stream",
          "text": [
            "\n"
          ],
          "name": "stderr"
        }
      ]
    },
    {
      "cell_type": "code",
      "metadata": {
        "id": "BpcW6NXaKzSO",
        "colab": {
          "base_uri": "https://localhost:8080/"
        },
        "outputId": "3d0179da-1a1b-48a5-bba6-264a04e26af1"
      },
      "source": [
        "for model in [rf, model_xgb, model_lgb]:\n",
        "    print_rmse_score(model)"
      ],
      "execution_count": 18,
      "outputs": [
        {
          "output_type": "stream",
          "text": [
            "10it [00:00, 13530.01it/s]\n"
          ],
          "name": "stderr"
        },
        {
          "output_type": "stream",
          "text": [
            "\n",
            "\n",
            "1 FOLDS: RandomForestRegressor RMSE: 0.2558\n",
            "2 FOLDS: RandomForestRegressor RMSE: 0.3119\n",
            "3 FOLDS: RandomForestRegressor RMSE: 0.2528\n",
            "4 FOLDS: RandomForestRegressor RMSE: 0.5473\n",
            "5 FOLDS: RandomForestRegressor RMSE: 0.5483\n",
            "6 FOLDS: RandomForestRegressor RMSE: 0.3247\n",
            "7 FOLDS: RandomForestRegressor RMSE: 0.2966\n",
            "8 FOLDS: RandomForestRegressor RMSE: 0.2702\n",
            "9 FOLDS: RandomForestRegressor RMSE: 0.2906\n",
            "10 FOLDS: RandomForestRegressor RMSE: 0.3434\n",
            "\n",
            "RandomForestRegressor mean RMSE: 0.3441\n",
            "========================================\n"
          ],
          "name": "stdout"
        },
        {
          "output_type": "stream",
          "text": [
            "10it [00:00, 2433.60it/s]\n"
          ],
          "name": "stderr"
        },
        {
          "output_type": "stream",
          "text": [
            "\n",
            "\n",
            "1 FOLDS: XGBRegressor RMSE: 0.2499\n",
            "2 FOLDS: XGBRegressor RMSE: 0.3087\n",
            "3 FOLDS: XGBRegressor RMSE: 0.2340\n",
            "4 FOLDS: XGBRegressor RMSE: 0.5407\n",
            "5 FOLDS: XGBRegressor RMSE: 0.5327\n",
            "6 FOLDS: XGBRegressor RMSE: 0.2711\n",
            "7 FOLDS: XGBRegressor RMSE: 0.2861\n",
            "8 FOLDS: XGBRegressor RMSE: 0.2604\n",
            "9 FOLDS: XGBRegressor RMSE: 0.2745\n",
            "10 FOLDS: XGBRegressor RMSE: 0.3252\n",
            "\n",
            "XGBRegressor mean RMSE: 0.3283\n",
            "========================================\n"
          ],
          "name": "stdout"
        },
        {
          "output_type": "stream",
          "text": [
            "10it [00:00, 2404.72it/s]"
          ],
          "name": "stderr"
        },
        {
          "output_type": "stream",
          "text": [
            "\n",
            "\n",
            "1 FOLDS: LGBMRegressor RMSE: 0.2507\n",
            "2 FOLDS: LGBMRegressor RMSE: 0.3088\n",
            "3 FOLDS: LGBMRegressor RMSE: 0.2475\n",
            "4 FOLDS: LGBMRegressor RMSE: 0.5487\n",
            "5 FOLDS: LGBMRegressor RMSE: 0.5416\n",
            "6 FOLDS: LGBMRegressor RMSE: 0.3730\n",
            "7 FOLDS: LGBMRegressor RMSE: 0.3537\n",
            "8 FOLDS: LGBMRegressor RMSE: 0.3500\n",
            "9 FOLDS: LGBMRegressor RMSE: 0.2919\n",
            "10 FOLDS: LGBMRegressor RMSE: 0.3496\n",
            "\n",
            "LGBMRegressor mean RMSE: 0.3616\n",
            "========================================\n"
          ],
          "name": "stdout"
        },
        {
          "output_type": "stream",
          "text": [
            "\n"
          ],
          "name": "stderr"
        }
      ]
    },
    {
      "cell_type": "code",
      "metadata": {
        "colab": {
          "base_uri": "https://localhost:8080/",
          "height": 297
        },
        "id": "XhBskjS8SfGR",
        "outputId": "1666f20b-caa2-4ba1-e06a-a017fcd6da7f"
      },
      "source": [
        "score = [0.3870, 0.3870, 0.4079, 0.4075, 0.3683, 0.3441, 0.3283, 0.3616]\n",
        "model = ['Linear Regression', 'Ridge', 'Lasso', \"ElasticNet\", 'DecisionTree','RandomForest', 'XGBoost', 'LightGBM']\n",
        "\n",
        "result_df = pd.DataFrame({'Model': model, 'Score': score}).sort_values(by='Score', ascending=True).reset_index(drop=True)\n",
        "result_df.head(8)\n"
      ],
      "execution_count": 16,
      "outputs": [
        {
          "output_type": "execute_result",
          "data": {
            "text/html": [
              "<div>\n",
              "<style scoped>\n",
              "    .dataframe tbody tr th:only-of-type {\n",
              "        vertical-align: middle;\n",
              "    }\n",
              "\n",
              "    .dataframe tbody tr th {\n",
              "        vertical-align: top;\n",
              "    }\n",
              "\n",
              "    .dataframe thead th {\n",
              "        text-align: right;\n",
              "    }\n",
              "</style>\n",
              "<table border=\"1\" class=\"dataframe\">\n",
              "  <thead>\n",
              "    <tr style=\"text-align: right;\">\n",
              "      <th></th>\n",
              "      <th>Model</th>\n",
              "      <th>Score</th>\n",
              "    </tr>\n",
              "  </thead>\n",
              "  <tbody>\n",
              "    <tr>\n",
              "      <th>0</th>\n",
              "      <td>XGBoost</td>\n",
              "      <td>0.3283</td>\n",
              "    </tr>\n",
              "    <tr>\n",
              "      <th>1</th>\n",
              "      <td>RandomForest</td>\n",
              "      <td>0.3441</td>\n",
              "    </tr>\n",
              "    <tr>\n",
              "      <th>2</th>\n",
              "      <td>LightGBM</td>\n",
              "      <td>0.3616</td>\n",
              "    </tr>\n",
              "    <tr>\n",
              "      <th>3</th>\n",
              "      <td>DecisionTree</td>\n",
              "      <td>0.3683</td>\n",
              "    </tr>\n",
              "    <tr>\n",
              "      <th>4</th>\n",
              "      <td>Linear Regression</td>\n",
              "      <td>0.3870</td>\n",
              "    </tr>\n",
              "    <tr>\n",
              "      <th>5</th>\n",
              "      <td>Ridge</td>\n",
              "      <td>0.3870</td>\n",
              "    </tr>\n",
              "    <tr>\n",
              "      <th>6</th>\n",
              "      <td>ElasticNet</td>\n",
              "      <td>0.4075</td>\n",
              "    </tr>\n",
              "    <tr>\n",
              "      <th>7</th>\n",
              "      <td>Lasso</td>\n",
              "      <td>0.4079</td>\n",
              "    </tr>\n",
              "  </tbody>\n",
              "</table>\n",
              "</div>"
            ],
            "text/plain": [
              "               Model   Score\n",
              "0            XGBoost  0.3283\n",
              "1       RandomForest  0.3441\n",
              "2           LightGBM  0.3616\n",
              "3       DecisionTree  0.3683\n",
              "4  Linear Regression  0.3870\n",
              "5              Ridge  0.3870\n",
              "6         ElasticNet  0.4075\n",
              "7              Lasso  0.4079"
            ]
          },
          "metadata": {
            "tags": []
          },
          "execution_count": 16
        }
      ]
    },
    {
      "cell_type": "code",
      "metadata": {
        "colab": {
          "base_uri": "https://localhost:8080/",
          "height": 482
        },
        "id": "KCjf4sknda7P",
        "outputId": "2b676dff-972c-453e-e824-075175031f42"
      },
      "source": [
        "f, ax = plt.subplots(figsize=(10, 6))\n",
        "plt.xticks(rotation='90')\n",
        "sns.barplot(x=result_df['Model'], y=result_df['Score'])\n",
        "plt.xlabel('Models', fontsize=15)\n",
        "plt.ylabel('Model Performance', fontsize=15)\n",
        "plt.ylim(0.30, 0.410)\n",
        "plt.title('RMSE', fontsize=15)\n",
        "plt.show()"
      ],
      "execution_count": 20,
      "outputs": [
        {
          "output_type": "display_data",
          "data": {
            "image/png": "[encoded data removed]",
            "text/plain": [
              "<Figure size 720x432 with 1 Axes>"
            ]
          },
          "metadata": {
            "tags": [],
            "needs_background": "light"
          }
        }
      ]
    },
    {
      "cell_type": "markdown",
      "metadata": {
        "id": "z47Xwazyz4Hv"
      },
      "source": [
        "- xgboost 하이퍼 파라미터 튜닝 진행"
      ]
    },
    {
      "cell_type": "markdown",
      "metadata": {
        "id": "Ln1OZScO0avm"
      },
      "source": [
        "### Hyperparameter Tuning"
      ]
    },
    {
      "cell_type": "code",
      "metadata": {
        "colab": {
          "base_uri": "https://localhost:8080/"
        },
        "id": "bjpjn-b-19G3",
        "outputId": "05775364-d036-415f-f7d9-38e508900b52"
      },
      "source": [
        "cut = int(len(train_df)*0.8)\n",
        "h_train = train_df[:cut]\n",
        "h_valid = train_df[cut:]\n",
        "\n",
        "h_train_X = h_train.drop('log_price', axis=1)\n",
        "h_train_y = h_train['log_price']\n",
        "h_valid_X = h_valid.drop('log_price', axis=1)\n",
        "h_valid_y = h_valid['log_price']\n",
        "print(h_train_X.shape, h_train_y.shape, h_valid_X.shape, h_valid_y.shape)"
      ],
      "execution_count": 6,
      "outputs": [
        {
          "output_type": "stream",
          "text": [
            "(973242, 7) (973242,) (243311, 7) (243311,)\n"
          ],
          "name": "stdout"
        }
      ]
    },
    {
      "cell_type": "markdown",
      "metadata": {
        "id": "DXHdIn-8muf7"
      },
      "source": [
        "#### XGBoost optuna"
      ]
    },
    {
      "cell_type": "code",
      "metadata": {
        "colab": {
          "base_uri": "https://localhost:8080/"
        },
        "id": "er7ibX98msMk",
        "outputId": "8335dff4-50c5-4354-d05c-90d915a91370"
      },
      "source": [
        "from optuna.samplers import TPESampler\n",
        "\n",
        "sampler = TPESampler(seed=10)\n",
        "n_repeats=3\n",
        "\n",
        "def objective(trial):\n",
        "    dtrain = xgb.DMatrix(h_train_X, label=h_train_y)\n",
        "    dtest = xgb.DMatrix(h_valid_X, label=h_valid_y)\n",
        "\n",
        "    param = {\n",
        "        'objective': 'reg:squarederror', # 회귀\n",
        "         'metric': 'rmse',\n",
        "         \"xgb_gpu_hist\": 1,\n",
        "         'verbosity': 0,\n",
        "         'booster': 'gbtree', # gradient boosting decision tree\n",
        "         'lambda': trial.suggest_loguniform('lambda_l1', 1e-8, 1),\n",
        "         'alpha': trial.suggest_loguniform('lambda_l2', 1e-8, 1),\n",
        "         'num_leaves': trial.suggest_int('num_leaves', 2, 400),\n",
        "         'max_depth': trial.suggest_int('max_depth',3, 9),\n",
        "         'learning_rate': 0.01,\n",
        "         \"eta\": trial.suggest_loguniform(\"eta\", 1e-8, 1.0),\n",
        "         \"gamma\": trial.suggest_loguniform(\"gamma\", 1e-8, 1.0),\n",
        "         'n_estimators': trial.suggest_int('n_estimators', 700, 1500),\n",
        "         'min_child_samples': trial.suggest_int('min_child_samples', 5, 100),\n",
        "    }\n",
        "\n",
        "    model = xgb.XGBRegressor(**param)\n",
        "    pruning_callback = XGBoostPruningCallback(trial, \"validation_0-rmse\")\n",
        "    xgb_2 = model.fit(h_train_X, h_train_y, eval_set=[(h_valid_X, h_valid_y)], verbose=0,\n",
        "                      eval_metric='rmse', callbacks=[pruning_callback])\n",
        "\n",
        "    rmse = RMSE(h_valid_y, xgb_2.predict(h_valid_X))\n",
        "    return rmse\n",
        "        \n",
        "study_xgb = optuna.create_study(direction='minimize', sampler=sampler)\n",
        "study_xgb.optimize(objective, n_trials=50)"
      ],
      "execution_count": 7,
      "outputs": [
        {
          "output_type": "stream",
          "text": [
            "\u001b[32m[I 2021-06-05 10:53:36,327]\u001b[0m A new study created in memory with name: no-name-6a7d101f-2331-4502-9542-a31d5b39bb96\u001b[0m\n",
            "/usr/local/lib/python3.7/dist-packages/xgboost/data.py:114: UserWarning:\n",
            "\n",
            "Use subset (sliced data) of np.ndarray is not recommended because it will generate extra copies and increase memory consumption\n",
            "\n",
            "\u001b[32m[I 2021-06-05 10:58:22,318]\u001b[0m Trial 0 finished with value: 0.27503322922102363 and parameters: {'lambda_l1': 0.014810344004555135, 'lambda_l2': 1.4656004675652718e-08, 'num_leaves': 254, 'max_depth': 8, 'eta': 9.728728830009641e-05, 'gamma': 6.285982451182996e-07, 'n_estimators': 858, 'min_child_samples': 78}. Best is trial 0 with value: 0.27503322922102363.\u001b[0m\n",
            "/usr/local/lib/python3.7/dist-packages/xgboost/data.py:114: UserWarning:\n",
            "\n",
            "Use subset (sliced data) of np.ndarray is not recommended because it will generate extra copies and increase memory consumption\n",
            "\n",
            "\u001b[32m[I 2021-06-05 11:06:34,706]\u001b[0m Trial 1 finished with value: 0.2634446140625026 and parameters: {'lambda_l1': 2.2536511574969237e-07, 'lambda_l2': 5.090008568091192e-08, 'num_leaves': 275, 'max_depth': 9, 'eta': 1.075439863800637e-08, 'gamma': 0.00012518091079635779, 'n_estimators': 1350, 'min_child_samples': 63}. Best is trial 1 with value: 0.2634446140625026.\u001b[0m\n",
            "/usr/local/lib/python3.7/dist-packages/xgboost/data.py:114: UserWarning:\n",
            "\n",
            "Use subset (sliced data) of np.ndarray is not recommended because it will generate extra copies and increase memory consumption\n",
            "\n",
            "\u001b[32m[I 2021-06-05 11:12:07,348]\u001b[0m Trial 2 finished with value: 0.27339038292493933 and parameters: {'lambda_l1': 0.005943503728075847, 'lambda_l2': 2.1627610787257848e-06, 'num_leaves': 368, 'max_depth': 8, 'eta': 0.00021895503882644017, 'gamma': 1.372019806228628e-07, 'n_estimators': 999, 'min_child_samples': 69}. Best is trial 1 with value: 0.2634446140625026.\u001b[0m\n",
            "/usr/local/lib/python3.7/dist-packages/xgboost/data.py:114: UserWarning:\n",
            "\n",
            "Use subset (sliced data) of np.ndarray is not recommended because it will generate extra copies and increase memory consumption\n",
            "\n",
            "\u001b[32m[I 2021-06-05 11:17:31,055]\u001b[0m Trial 3 finished with value: 0.2823082294726009 and parameters: {'lambda_l1': 3.4250380089316126e-05, 'lambda_l2': 2.965595722907858e-05, 'num_leaves': 248, 'max_depth': 6, 'eta': 0.0015965313667163816, 'gamma': 0.0006431490422420297, 'n_estimators': 1344, 'min_child_samples': 55}. Best is trial 1 with value: 0.2634446140625026.\u001b[0m\n",
            "/usr/local/lib/python3.7/dist-packages/xgboost/data.py:114: UserWarning:\n",
            "\n",
            "Use subset (sliced data) of np.ndarray is not recommended because it will generate extra copies and increase memory consumption\n",
            "\n",
            "\u001b[32m[I 2021-06-05 11:19:59,373]\u001b[0m Trial 4 finished with value: 0.2950404398068728 and parameters: {'lambda_l1': 0.18586218844499916, 'lambda_l2': 3.5800468653895747e-06, 'num_leaves': 38, 'max_depth': 5, 'eta': 8.163471763379958e-08, 'gamma': 0.042604022999246406, 'n_estimators': 737, 'min_child_samples': 65}. Best is trial 1 with value: 0.2634446140625026.\u001b[0m\n",
            "\u001b[32m[I 2021-06-05 11:20:04,881]\u001b[0m Trial 5 pruned. Trial was pruned at iteration 15.\u001b[0m\n",
            "\u001b[32m[I 2021-06-05 11:20:05,306]\u001b[0m Trial 6 pruned. Trial was pruned at iteration 0.\u001b[0m\n",
            "\u001b[32m[I 2021-06-05 11:20:05,750]\u001b[0m Trial 7 pruned. Trial was pruned at iteration 0.\u001b[0m\n",
            "\u001b[32m[I 2021-06-05 11:20:06,261]\u001b[0m Trial 8 pruned. Trial was pruned at iteration 0.\u001b[0m\n",
            "\u001b[32m[I 2021-06-05 11:20:06,706]\u001b[0m Trial 9 pruned. Trial was pruned at iteration 0.\u001b[0m\n",
            "/usr/local/lib/python3.7/dist-packages/xgboost/data.py:114: UserWarning:\n",
            "\n",
            "Use subset (sliced data) of np.ndarray is not recommended because it will generate extra copies and increase memory consumption\n",
            "\n",
            "\u001b[32m[I 2021-06-05 11:27:48,837]\u001b[0m Trial 10 finished with value: 0.2647696762540492 and parameters: {'lambda_l1': 1.7376185092580588e-08, 'lambda_l2': 1.3248762038733909e-08, 'num_leaves': 296, 'max_depth': 9, 'eta': 1.626366378648039e-08, 'gamma': 2.059873489826734e-05, 'n_estimators': 1229, 'min_child_samples': 15}. Best is trial 1 with value: 0.2634446140625026.\u001b[0m\n",
            "\u001b[32m[I 2021-06-05 11:34:03,056]\u001b[0m Trial 11 pruned. Trial was pruned at iteration 999.\u001b[0m\n",
            "/usr/local/lib/python3.7/dist-packages/xgboost/data.py:114: UserWarning:\n",
            "\n",
            "Use subset (sliced data) of np.ndarray is not recommended because it will generate extra copies and increase memory consumption\n",
            "\n",
            "\u001b[32m[I 2021-06-05 11:43:14,727]\u001b[0m Trial 12 finished with value: 0.26201234027143055 and parameters: {'lambda_l1': 1.5576980240722998e-07, 'lambda_l2': 9.258036814767957e-08, 'num_leaves': 398, 'max_depth': 9, 'eta': 1.5114871644970053e-08, 'gamma': 1.2734402303736767e-05, 'n_estimators': 1481, 'min_child_samples': 19}. Best is trial 12 with value: 0.26201234027143055.\u001b[0m\n",
            "\u001b[32m[I 2021-06-05 11:43:15,321]\u001b[0m Trial 13 pruned. Trial was pruned at iteration 0.\u001b[0m\n",
            "\u001b[32m[I 2021-06-05 11:48:35,921]\u001b[0m Trial 14 pruned. Trial was pruned at iteration 858.\u001b[0m\n",
            "\u001b[32m[I 2021-06-05 11:48:36,509]\u001b[0m Trial 15 pruned. Trial was pruned at iteration 0.\u001b[0m\n",
            "\u001b[32m[I 2021-06-05 11:53:54,041]\u001b[0m Trial 16 pruned. Trial was pruned at iteration 858.\u001b[0m\n",
            "\u001b[32m[I 2021-06-05 11:53:54,643]\u001b[0m Trial 17 pruned. Trial was pruned at iteration 0.\u001b[0m\n",
            "\u001b[32m[I 2021-06-05 11:53:56,249]\u001b[0m Trial 18 pruned. Trial was pruned at iteration 3.\u001b[0m\n",
            "\u001b[32m[I 2021-06-05 11:53:56,767]\u001b[0m Trial 19 pruned. Trial was pruned at iteration 0.\u001b[0m\n",
            "\u001b[32m[I 2021-06-05 12:00:01,913]\u001b[0m Trial 20 pruned. Trial was pruned at iteration 1009.\u001b[0m\n",
            "\u001b[32m[I 2021-06-05 12:06:53,981]\u001b[0m Trial 21 pruned. Trial was pruned at iteration 1139.\u001b[0m\n",
            "\u001b[32m[I 2021-06-05 12:06:55,542]\u001b[0m Trial 22 pruned. Trial was pruned at iteration 3.\u001b[0m\n",
            "\u001b[32m[I 2021-06-05 12:13:03,527]\u001b[0m Trial 23 pruned. Trial was pruned at iteration 999.\u001b[0m\n",
            "\u001b[32m[I 2021-06-05 12:13:05,134]\u001b[0m Trial 24 pruned. Trial was pruned at iteration 3.\u001b[0m\n",
            "\u001b[32m[I 2021-06-05 12:13:05,707]\u001b[0m Trial 25 pruned. Trial was pruned at iteration 0.\u001b[0m\n",
            "\u001b[32m[I 2021-06-05 12:19:28,546]\u001b[0m Trial 26 pruned. Trial was pruned at iteration 1093.\u001b[0m\n",
            "\u001b[32m[I 2021-06-05 12:19:30,058]\u001b[0m Trial 27 pruned. Trial was pruned at iteration 3.\u001b[0m\n",
            "\u001b[32m[I 2021-06-05 12:25:26,598]\u001b[0m Trial 28 pruned. Trial was pruned at iteration 999.\u001b[0m\n",
            "\u001b[32m[I 2021-06-05 12:25:28,151]\u001b[0m Trial 29 pruned. Trial was pruned at iteration 3.\u001b[0m\n",
            "\u001b[32m[I 2021-06-05 12:25:28,776]\u001b[0m Trial 30 pruned. Trial was pruned at iteration 0.\u001b[0m\n",
            "\u001b[32m[I 2021-06-05 12:30:41,993]\u001b[0m Trial 31 pruned. Trial was pruned at iteration 858.\u001b[0m\n",
            "\u001b[32m[I 2021-06-05 12:30:42,594]\u001b[0m Trial 32 pruned. Trial was pruned at iteration 0.\u001b[0m\n",
            "\u001b[32m[I 2021-06-05 12:35:57,973]\u001b[0m Trial 33 pruned. Trial was pruned at iteration 858.\u001b[0m\n",
            "\u001b[32m[I 2021-06-05 12:35:59,219]\u001b[0m Trial 34 pruned. Trial was pruned at iteration 2.\u001b[0m\n",
            "\u001b[32m[I 2021-06-05 12:35:59,819]\u001b[0m Trial 35 pruned. Trial was pruned at iteration 0.\u001b[0m\n",
            "\u001b[32m[I 2021-06-05 12:36:00,470]\u001b[0m Trial 36 pruned. Trial was pruned at iteration 0.\u001b[0m\n",
            "\u001b[32m[I 2021-06-05 12:36:01,031]\u001b[0m Trial 37 pruned. Trial was pruned at iteration 0.\u001b[0m\n",
            "\u001b[32m[I 2021-06-05 12:36:01,499]\u001b[0m Trial 38 pruned. Trial was pruned at iteration 0.\u001b[0m\n",
            "\u001b[32m[I 2021-06-05 12:36:03,047]\u001b[0m Trial 39 pruned. Trial was pruned at iteration 3.\u001b[0m\n",
            "\u001b[32m[I 2021-06-05 12:41:12,786]\u001b[0m Trial 40 pruned. Trial was pruned at iteration 858.\u001b[0m\n",
            "\u001b[32m[I 2021-06-05 12:41:13,380]\u001b[0m Trial 41 pruned. Trial was pruned at iteration 0.\u001b[0m\n",
            "\u001b[32m[I 2021-06-05 12:41:13,929]\u001b[0m Trial 42 pruned. Trial was pruned at iteration 0.\u001b[0m\n",
            "/usr/local/lib/python3.7/dist-packages/xgboost/data.py:114: UserWarning:\n",
            "\n",
            "Use subset (sliced data) of np.ndarray is not recommended because it will generate extra copies and increase memory consumption\n",
            "\n",
            "\u001b[32m[I 2021-06-05 12:46:55,677]\u001b[0m Trial 43 finished with value: 0.26822668994015675 and parameters: {'lambda_l1': 0.005161872272727806, 'lambda_l2': 1.3208983038059353e-07, 'num_leaves': 249, 'max_depth': 9, 'eta': 8.548980008736435e-08, 'gamma': 8.275514817447175e-07, 'n_estimators': 925, 'min_child_samples': 75}. Best is trial 12 with value: 0.26201234027143055.\u001b[0m\n",
            "\u001b[32m[I 2021-06-05 12:51:27,657]\u001b[0m Trial 44 pruned. Trial was pruned at iteration 737.\u001b[0m\n",
            "\u001b[32m[I 2021-06-05 12:57:29,791]\u001b[0m Trial 45 pruned. Trial was pruned at iteration 999.\u001b[0m\n",
            "\u001b[32m[I 2021-06-05 13:01:52,908]\u001b[0m Trial 46 pruned. Trial was pruned at iteration 737.\u001b[0m\n",
            "\u001b[32m[I 2021-06-05 13:01:53,333]\u001b[0m Trial 47 pruned. Trial was pruned at iteration 0.\u001b[0m\n",
            "/usr/local/lib/python3.7/dist-packages/xgboost/data.py:114: UserWarning:\n",
            "\n",
            "Use subset (sliced data) of np.ndarray is not recommended because it will generate extra copies and increase memory consumption\n",
            "\n",
            "\u001b[32m[I 2021-06-05 13:07:30,277]\u001b[0m Trial 48 finished with value: 0.2677559673865329 and parameters: {'lambda_l1': 5.962718454765077e-08, 'lambda_l2': 0.0001551841620511884, 'num_leaves': 193, 'max_depth': 9, 'eta': 1.977298274380386e-06, 'gamma': 0.0003518332630836999, 'n_estimators': 935, 'min_child_samples': 62}. Best is trial 12 with value: 0.26201234027143055.\u001b[0m\n",
            "\u001b[32m[I 2021-06-05 13:07:31,284]\u001b[0m Trial 49 pruned. Trial was pruned at iteration 1.\u001b[0m\n"
          ],
          "name": "stderr"
        }
      ]
    },
    {
      "cell_type": "code",
      "metadata": {
        "colab": {
          "base_uri": "https://localhost:8080/"
        },
        "id": "B0jauzQWMOy9",
        "outputId": "d3ef7ec0-0c15-4cfb-9d97-6eb51e83b345"
      },
      "source": [
        "print('Best Trial: score {},\\nparams {}'.format(study_xgb.best_trial.value, study_xgb.best_trial.params))"
      ],
      "execution_count": 10,
      "outputs": [
        {
          "output_type": "stream",
          "text": [
            "Best Trial: score 0.26201234027143055,\n",
            "params {'lambda_l1': 1.5576980240722998e-07, 'lambda_l2': 9.258036814767957e-08, 'num_leaves': 398, 'max_depth': 9, 'eta': 1.5114871644970053e-08, 'gamma': 1.2734402303736767e-05, 'n_estimators': 1481, 'min_child_samples': 19}\n"
          ],
          "name": "stdout"
        }
      ]
    },
    {
      "cell_type": "code",
      "metadata": {
        "colab": {
          "base_uri": "https://localhost:8080/",
          "height": 542
        },
        "id": "vKlC15kvMTUW",
        "outputId": "2b8e7bdc-d041-4c91-964f-2e9e83dcbee5"
      },
      "source": [
        "optuna.visualization.plot_param_importances(study_xgb)"
      ],
      "execution_count": 11,
      "outputs": [
        {
          "output_type": "display_data",
          "data": {
            "text/html": [
              "<html>\n",
              "<head><meta charset=\"utf-8\" /></head>\n",
              "<body>\n",
              "    <div>\n",
              "            <script src=\"https://cdnjs.cloudflare.com/ajax/libs/mathjax/2.7.5/MathJax.js?config=TeX-AMS-MML_SVG\"></script><script type=\"text/javascript\">if (window.MathJax) {MathJax.Hub.Config({SVG: {font: \"STIX-Web\"}});}</script>\n",
              "                <script type=\"text/javascript\">window.PlotlyConfig = {MathJaxConfig: 'local'};</script>\n",
              "        <script src=\"https://cdn.plot.ly/plotly-latest.min.js\"></script>    \n",
              "            <div id=\"e2ed1cdd-fb08-47f6-9295-60b3dc7479e9\" class=\"plotly-graph-div\" style=\"height:525px; width:100%;\"></div>\n",
              "            <script type=\"text/javascript\">\n",
              "                \n",
              "                    window.PLOTLYENV=window.PLOTLYENV || {};\n",
              "                    \n",
              "                if (document.getElementById(\"e2ed1cdd-fb08-47f6-9295-60b3dc7479e9\")) {\n",
              "                    Plotly.newPlot(\n",
              "                        'e2ed1cdd-fb08-47f6-9295-60b3dc7479e9',\n",
              "                        [{\"cliponaxis\": false, \"hovertemplate\": [\"lambda_l2 (LogUniformDistribution): 0.01867688035600905<extra></extra>\", \"min_child_samples (IntUniformDistribution): 0.035048159637290355<extra></extra>\", \"eta (LogUniformDistribution): 0.08366866151916512<extra></extra>\", \"num_leaves (IntUniformDistribution): 0.10362671574739703<extra></extra>\", \"n_estimators (IntUniformDistribution): 0.12026066924892923<extra></extra>\", \"lambda_l1 (LogUniformDistribution): 0.12665849127765394<extra></extra>\", \"gamma (LogUniformDistribution): 0.21078696250571266<extra></extra>\", \"max_depth (IntUniformDistribution): 0.30127345970784253<extra></extra>\"], \"marker\": {\"color\": [\"rgb(8,48,107)\", \"rgb(8,81,156)\", \"rgb(8,48,107)\", \"rgb(8,81,156)\", \"rgb(8,81,156)\", \"rgb(8,48,107)\", \"rgb(8,48,107)\", \"rgb(8,81,156)\"]}, \"orientation\": \"h\", \"text\": [\"0.01867688035600905\", \"0.035048159637290355\", \"0.08366866151916512\", \"0.10362671574739703\", \"0.12026066924892923\", \"0.12665849127765394\", \"0.21078696250571266\", \"0.30127345970784253\"], \"textposition\": \"outside\", \"texttemplate\": \"%{text:.2f}\", \"type\": \"bar\", \"x\": [0.01867688035600905, 0.035048159637290355, 0.08366866151916512, 0.10362671574739703, 0.12026066924892923, 0.12665849127765394, 0.21078696250571266, 0.30127345970784253], \"y\": [\"lambda_l2\", \"min_child_samples\", \"eta\", \"num_leaves\", \"n_estimators\", \"lambda_l1\", \"gamma\", \"max_depth\"]}],\n",
              "                        {\"showlegend\": false, \"template\": {\"data\": {\"bar\": [{\"error_x\": {\"color\": \"#2a3f5f\"}, \"error_y\": {\"color\": \"#2a3f5f\"}, \"marker\": {\"line\": {\"color\": \"#E5ECF6\", \"width\": 0.5}}, \"type\": \"bar\"}], \"barpolar\": [{\"marker\": {\"line\": {\"color\": \"#E5ECF6\", \"width\": 0.5}}, \"type\": \"barpolar\"}], \"carpet\": [{\"aaxis\": {\"endlinecolor\": \"#2a3f5f\", \"gridcolor\": \"white\", \"linecolor\": \"white\", \"minorgridcolor\": \"white\", \"startlinecolor\": \"#2a3f5f\"}, \"baxis\": {\"endlinecolor\": \"#2a3f5f\", \"gridcolor\": \"white\", \"linecolor\": \"white\", \"minorgridcolor\": \"white\", \"startlinecolor\": \"#2a3f5f\"}, \"type\": \"carpet\"}], \"choropleth\": [{\"colorbar\": {\"outlinewidth\": 0, \"ticks\": \"\"}, \"type\": \"choropleth\"}], \"contour\": [{\"colorbar\": {\"outlinewidth\": 0, \"ticks\": \"\"}, \"colorscale\": [[0.0, \"#0d0887\"], [0.1111111111111111, \"#46039f\"], [0.2222222222222222, \"#7201a8\"], [0.3333333333333333, \"#9c179e\"], [0.4444444444444444, \"#bd3786\"], [0.5555555555555556, \"#d8576b\"], [0.6666666666666666, \"#ed7953\"], [0.7777777777777778, \"#fb9f3a\"], [0.8888888888888888, \"#fdca26\"], [1.0, \"#f0f921\"]], \"type\": \"contour\"}], \"contourcarpet\": [{\"colorbar\": {\"outlinewidth\": 0, \"ticks\": \"\"}, \"type\": \"contourcarpet\"}], \"heatmap\": [{\"colorbar\": {\"outlinewidth\": 0, \"ticks\": \"\"}, \"colorscale\": [[0.0, \"#0d0887\"], [0.1111111111111111, \"#46039f\"], [0.2222222222222222, \"#7201a8\"], [0.3333333333333333, \"#9c179e\"], [0.4444444444444444, \"#bd3786\"], [0.5555555555555556, \"#d8576b\"], [0.6666666666666666, \"#ed7953\"], [0.7777777777777778, \"#fb9f3a\"], [0.8888888888888888, \"#fdca26\"], [1.0, \"#f0f921\"]], \"type\": \"heatmap\"}], \"heatmapgl\": [{\"colorbar\": {\"outlinewidth\": 0, \"ticks\": \"\"}, \"colorscale\": [[0.0, \"#0d0887\"], [0.1111111111111111, \"#46039f\"], [0.2222222222222222, \"#7201a8\"], [0.3333333333333333, \"#9c179e\"], [0.4444444444444444, \"#bd3786\"], [0.5555555555555556, \"#d8576b\"], [0.6666666666666666, \"#ed7953\"], [0.7777777777777778, \"#fb9f3a\"], [0.8888888888888888, \"#fdca26\"], [1.0, \"#f0f921\"]], \"type\": \"heatmapgl\"}], \"histogram\": [{\"marker\": {\"colorbar\": {\"outlinewidth\": 0, \"ticks\": \"\"}}, \"type\": \"histogram\"}], \"histogram2d\": [{\"colorbar\": {\"outlinewidth\": 0, \"ticks\": \"\"}, \"colorscale\": [[0.0, \"#0d0887\"], [0.1111111111111111, \"#46039f\"], [0.2222222222222222, \"#7201a8\"], [0.3333333333333333, \"#9c179e\"], [0.4444444444444444, \"#bd3786\"], [0.5555555555555556, \"#d8576b\"], [0.6666666666666666, \"#ed7953\"], [0.7777777777777778, \"#fb9f3a\"], [0.8888888888888888, \"#fdca26\"], [1.0, \"#f0f921\"]], \"type\": \"histogram2d\"}], \"histogram2dcontour\": [{\"colorbar\": {\"outlinewidth\": 0, \"ticks\": \"\"}, \"colorscale\": [[0.0, \"#0d0887\"], [0.1111111111111111, \"#46039f\"], [0.2222222222222222, \"#7201a8\"], [0.3333333333333333, \"#9c179e\"], [0.4444444444444444, \"#bd3786\"], [0.5555555555555556, \"#d8576b\"], [0.6666666666666666, \"#ed7953\"], [0.7777777777777778, \"#fb9f3a\"], [0.8888888888888888, \"#fdca26\"], [1.0, \"#f0f921\"]], \"type\": \"histogram2dcontour\"}], \"mesh3d\": [{\"colorbar\": {\"outlinewidth\": 0, \"ticks\": \"\"}, \"type\": \"mesh3d\"}], \"parcoords\": [{\"line\": {\"colorbar\": {\"outlinewidth\": 0, \"ticks\": \"\"}}, \"type\": \"parcoords\"}], \"pie\": [{\"automargin\": true, \"type\": \"pie\"}], \"scatter\": [{\"marker\": {\"colorbar\": {\"outlinewidth\": 0, \"ticks\": \"\"}}, \"type\": \"scatter\"}], \"scatter3d\": [{\"line\": {\"colorbar\": {\"outlinewidth\": 0, \"ticks\": \"\"}}, \"marker\": {\"colorbar\": {\"outlinewidth\": 0, \"ticks\": \"\"}}, \"type\": \"scatter3d\"}], \"scattercarpet\": [{\"marker\": {\"colorbar\": {\"outlinewidth\": 0, \"ticks\": \"\"}}, \"type\": \"scattercarpet\"}], \"scattergeo\": [{\"marker\": {\"colorbar\": {\"outlinewidth\": 0, \"ticks\": \"\"}}, \"type\": \"scattergeo\"}], \"scattergl\": [{\"marker\": {\"colorbar\": {\"outlinewidth\": 0, \"ticks\": \"\"}}, \"type\": \"scattergl\"}], \"scattermapbox\": [{\"marker\": {\"colorbar\": {\"outlinewidth\": 0, \"ticks\": \"\"}}, \"type\": \"scattermapbox\"}], \"scatterpolar\": [{\"marker\": {\"colorbar\": {\"outlinewidth\": 0, \"ticks\": \"\"}}, \"type\": \"scatterpolar\"}], \"scatterpolargl\": [{\"marker\": {\"colorbar\": {\"outlinewidth\": 0, \"ticks\": \"\"}}, \"type\": \"scatterpolargl\"}], \"scatterternary\": [{\"marker\": {\"colorbar\": {\"outlinewidth\": 0, \"ticks\": \"\"}}, \"type\": \"scatterternary\"}], \"surface\": [{\"colorbar\": {\"outlinewidth\": 0, \"ticks\": \"\"}, \"colorscale\": [[0.0, \"#0d0887\"], [0.1111111111111111, \"#46039f\"], [0.2222222222222222, \"#7201a8\"], [0.3333333333333333, \"#9c179e\"], [0.4444444444444444, \"#bd3786\"], [0.5555555555555556, \"#d8576b\"], [0.6666666666666666, \"#ed7953\"], [0.7777777777777778, \"#fb9f3a\"], [0.8888888888888888, \"#fdca26\"], [1.0, \"#f0f921\"]], \"type\": \"surface\"}], \"table\": [{\"cells\": {\"fill\": {\"color\": \"#EBF0F8\"}, \"line\": {\"color\": \"white\"}}, \"header\": {\"fill\": {\"color\": \"#C8D4E3\"}, \"line\": {\"color\": \"white\"}}, \"type\": \"table\"}]}, \"layout\": {\"annotationdefaults\": {\"arrowcolor\": \"#2a3f5f\", \"arrowhead\": 0, \"arrowwidth\": 1}, \"coloraxis\": {\"colorbar\": {\"outlinewidth\": 0, \"ticks\": \"\"}}, \"colorscale\": {\"diverging\": [[0, \"#8e0152\"], [0.1, \"#c51b7d\"], [0.2, \"#de77ae\"], [0.3, \"#f1b6da\"], [0.4, \"#fde0ef\"], [0.5, \"#f7f7f7\"], [0.6, \"#e6f5d0\"], [0.7, \"#b8e186\"], [0.8, \"#7fbc41\"], [0.9, \"#4d9221\"], [1, \"#276419\"]], \"sequential\": [[0.0, \"#0d0887\"], [0.1111111111111111, \"#46039f\"], [0.2222222222222222, \"#7201a8\"], [0.3333333333333333, \"#9c179e\"], [0.4444444444444444, \"#bd3786\"], [0.5555555555555556, \"#d8576b\"], [0.6666666666666666, \"#ed7953\"], [0.7777777777777778, \"#fb9f3a\"], [0.8888888888888888, \"#fdca26\"], [1.0, \"#f0f921\"]], \"sequentialminus\": [[0.0, \"#0d0887\"], [0.1111111111111111, \"#46039f\"], [0.2222222222222222, \"#7201a8\"], [0.3333333333333333, \"#9c179e\"], [0.4444444444444444, \"#bd3786\"], [0.5555555555555556, \"#d8576b\"], [0.6666666666666666, \"#ed7953\"], [0.7777777777777778, \"#fb9f3a\"], [0.8888888888888888, \"#fdca26\"], [1.0, \"#f0f921\"]]}, \"colorway\": [\"#636efa\", \"#EF553B\", \"#00cc96\", \"#ab63fa\", \"#FFA15A\", \"#19d3f3\", \"#FF6692\", \"#B6E880\", \"#FF97FF\", \"#FECB52\"], \"font\": {\"color\": \"#2a3f5f\"}, \"geo\": {\"bgcolor\": \"white\", \"lakecolor\": \"white\", \"landcolor\": \"#E5ECF6\", \"showlakes\": true, \"showland\": true, \"subunitcolor\": \"white\"}, \"hoverlabel\": {\"align\": \"left\"}, \"hovermode\": \"closest\", \"mapbox\": {\"style\": \"light\"}, \"paper_bgcolor\": \"white\", \"plot_bgcolor\": \"#E5ECF6\", \"polar\": {\"angularaxis\": {\"gridcolor\": \"white\", \"linecolor\": \"white\", \"ticks\": \"\"}, \"bgcolor\": \"#E5ECF6\", \"radialaxis\": {\"gridcolor\": \"white\", \"linecolor\": \"white\", \"ticks\": \"\"}}, \"scene\": {\"xaxis\": {\"backgroundcolor\": \"#E5ECF6\", \"gridcolor\": \"white\", \"gridwidth\": 2, \"linecolor\": \"white\", \"showbackground\": true, \"ticks\": \"\", \"zerolinecolor\": \"white\"}, \"yaxis\": {\"backgroundcolor\": \"#E5ECF6\", \"gridcolor\": \"white\", \"gridwidth\": 2, \"linecolor\": \"white\", \"showbackground\": true, \"ticks\": \"\", \"zerolinecolor\": \"white\"}, \"zaxis\": {\"backgroundcolor\": \"#E5ECF6\", \"gridcolor\": \"white\", \"gridwidth\": 2, \"linecolor\": \"white\", \"showbackground\": true, \"ticks\": \"\", \"zerolinecolor\": \"white\"}}, \"shapedefaults\": {\"line\": {\"color\": \"#2a3f5f\"}}, \"ternary\": {\"aaxis\": {\"gridcolor\": \"white\", \"linecolor\": \"white\", \"ticks\": \"\"}, \"baxis\": {\"gridcolor\": \"white\", \"linecolor\": \"white\", \"ticks\": \"\"}, \"bgcolor\": \"#E5ECF6\", \"caxis\": {\"gridcolor\": \"white\", \"linecolor\": \"white\", \"ticks\": \"\"}}, \"title\": {\"x\": 0.05}, \"xaxis\": {\"automargin\": true, \"gridcolor\": \"white\", \"linecolor\": \"white\", \"ticks\": \"\", \"title\": {\"standoff\": 15}, \"zerolinecolor\": \"white\", \"zerolinewidth\": 2}, \"yaxis\": {\"automargin\": true, \"gridcolor\": \"white\", \"linecolor\": \"white\", \"ticks\": \"\", \"title\": {\"standoff\": 15}, \"zerolinecolor\": \"white\", \"zerolinewidth\": 2}}}, \"title\": {\"text\": \"Hyperparameter Importances\"}, \"xaxis\": {\"title\": {\"text\": \"Importance for Objective Value\"}}, \"yaxis\": {\"title\": {\"text\": \"Hyperparameter\"}}},\n",
              "                        {\"responsive\": true}\n",
              "                    ).then(function(){\n",
              "                            \n",
              "var gd = document.getElementById('e2ed1cdd-fb08-47f6-9295-60b3dc7479e9');\n",
              "var x = new MutationObserver(function (mutations, observer) {{\n",
              "        var display = window.getComputedStyle(gd).display;\n",
              "        if (!display || display === 'none') {{\n",
              "            console.log([gd, 'removed!']);\n",
              "            Plotly.purge(gd);\n",
              "            observer.disconnect();\n",
              "        }}\n",
              "}});\n",
              "\n",
              "// Listen for the removal of the full notebook cells\n",
              "var notebookContainer = gd.closest('#notebook-container');\n",
              "if (notebookContainer) {{\n",
              "    x.observe(notebookContainer, {childList: true});\n",
              "}}\n",
              "\n",
              "// Listen for the clearing of the current output cell\n",
              "var outputEl = gd.closest('.output');\n",
              "if (outputEl) {{\n",
              "    x.observe(outputEl, {childList: true});\n",
              "}}\n",
              "\n",
              "                        })\n",
              "                };\n",
              "                \n",
              "            </script>\n",
              "        </div>\n",
              "</body>\n",
              "</html>"
            ]
          },
          "metadata": {
            "tags": []
          }
        }
      ]
    },
    {
      "cell_type": "markdown",
      "metadata": {
        "id": "DYUFSMYQ384-"
      },
      "source": [
        "#### XGBoost Submission"
      ]
    },
    {
      "cell_type": "code",
      "metadata": {
        "colab": {
          "base_uri": "https://localhost:8080/"
        },
        "id": "fOjCyZLUeGME",
        "outputId": "188a9501-7f32-4f23-9b8b-b86c415fec81"
      },
      "source": [
        "trial = study_xgb.best_trial\n",
        "xgb_params = trial.params\n",
        "xgb_params"
      ],
      "execution_count": 49,
      "outputs": [
        {
          "output_type": "execute_result",
          "data": {
            "text/plain": [
              "{'eta': 1.5114871644970053e-08,\n",
              " 'gamma': 1.2734402303736767e-05,\n",
              " 'lambda_l1': 1.5576980240722998e-07,\n",
              " 'lambda_l2': 9.258036814767957e-08,\n",
              " 'max_depth': 9,\n",
              " 'min_child_samples': 19,\n",
              " 'n_estimators': 1481,\n",
              " 'num_leaves': 398}"
            ]
          },
          "metadata": {
            "tags": []
          },
          "execution_count": 49
        }
      ]
    },
    {
      "cell_type": "code",
      "metadata": {
        "colab": {
          "base_uri": "https://localhost:8080/"
        },
        "id": "sZLpXN1eeG-6",
        "outputId": "1259b2b1-eec2-4714-bad7-cde9feecb9ea"
      },
      "source": [
        "final_xgb_model = xgb.XGBRegressor(params=xgb_params)\n",
        "final_xgb_model.fit(train_X, train_y, eval_metric='rmse')\n",
        "final_xgb_pred = final_xgb_model.predict(test_df)"
      ],
      "execution_count": 50,
      "outputs": [
        {
          "output_type": "stream",
          "text": [
            "/usr/local/lib/python3.7/dist-packages/xgboost/data.py:114: UserWarning:\n",
            "\n",
            "Use subset (sliced data) of np.ndarray is not recommended because it will generate extra copies and increase memory consumption\n",
            "\n"
          ],
          "name": "stderr"
        }
      ]
    },
    {
      "cell_type": "code",
      "metadata": {
        "colab": {
          "base_uri": "https://localhost:8080/"
        },
        "id": "wSyQzIK6gX_D",
        "outputId": "9b74c416-5055-4ee6-d11b-b1c233fc8a35"
      },
      "source": [
        "final_pred_sub = np.expm1(final_pred)\n",
        "final_pred_sub"
      ],
      "execution_count": 38,
      "outputs": [
        {
          "output_type": "execute_result",
          "data": {
            "text/plain": [
              "array([28068.592, 23201.21 , 17185.88 , ..., 78389.71 , 50780.29 ,\n",
              "       20352.965], dtype=float32)"
            ]
          },
          "metadata": {
            "tags": []
          },
          "execution_count": 38
        }
      ]
    },
    {
      "cell_type": "code",
      "metadata": {
        "colab": {
          "base_uri": "https://localhost:8080/",
          "height": 419
        },
        "id": "pGjPIU4PiK74",
        "outputId": "f339aa4f-ae26-450f-97e3-6721718a6ab9"
      },
      "source": [
        "sub = pd.read_csv(PATH + 'test.csv')\n",
        "sub_df = pd.DataFrame({'transaction_id': sub['transaction_id'], 'transaction_real_price': final_pred_sub})\n",
        "sub_df"
      ],
      "execution_count": 45,
      "outputs": [
        {
          "output_type": "execute_result",
          "data": {
            "text/html": [
              "<div>\n",
              "<style scoped>\n",
              "    .dataframe tbody tr th:only-of-type {\n",
              "        vertical-align: middle;\n",
              "    }\n",
              "\n",
              "    .dataframe tbody tr th {\n",
              "        vertical-align: top;\n",
              "    }\n",
              "\n",
              "    .dataframe thead th {\n",
              "        text-align: right;\n",
              "    }\n",
              "</style>\n",
              "<table border=\"1\" class=\"dataframe\">\n",
              "  <thead>\n",
              "    <tr style=\"text-align: right;\">\n",
              "      <th></th>\n",
              "      <th>transaction_id</th>\n",
              "      <th>transaction_real_price</th>\n",
              "    </tr>\n",
              "  </thead>\n",
              "  <tbody>\n",
              "    <tr>\n",
              "      <th>0</th>\n",
              "      <td>1145756</td>\n",
              "      <td>28068.591797</td>\n",
              "    </tr>\n",
              "    <tr>\n",
              "      <th>1</th>\n",
              "      <td>1198704</td>\n",
              "      <td>23201.210938</td>\n",
              "    </tr>\n",
              "    <tr>\n",
              "      <th>2</th>\n",
              "      <td>1222384</td>\n",
              "      <td>17185.880859</td>\n",
              "    </tr>\n",
              "    <tr>\n",
              "      <th>3</th>\n",
              "      <td>1179897</td>\n",
              "      <td>61900.191406</td>\n",
              "    </tr>\n",
              "    <tr>\n",
              "      <th>4</th>\n",
              "      <td>1223091</td>\n",
              "      <td>60110.347656</td>\n",
              "    </tr>\n",
              "    <tr>\n",
              "      <th>...</th>\n",
              "      <td>...</td>\n",
              "      <td>...</td>\n",
              "    </tr>\n",
              "    <tr>\n",
              "      <th>5458</th>\n",
              "      <td>1174640</td>\n",
              "      <td>47889.222656</td>\n",
              "    </tr>\n",
              "    <tr>\n",
              "      <th>5459</th>\n",
              "      <td>1175575</td>\n",
              "      <td>87057.226562</td>\n",
              "    </tr>\n",
              "    <tr>\n",
              "      <th>5460</th>\n",
              "      <td>1157024</td>\n",
              "      <td>78389.710938</td>\n",
              "    </tr>\n",
              "    <tr>\n",
              "      <th>5461</th>\n",
              "      <td>1136863</td>\n",
              "      <td>50780.289062</td>\n",
              "    </tr>\n",
              "    <tr>\n",
              "      <th>5462</th>\n",
              "      <td>1218921</td>\n",
              "      <td>20352.964844</td>\n",
              "    </tr>\n",
              "  </tbody>\n",
              "</table>\n",
              "<p>5463 rows × 2 columns</p>\n",
              "</div>"
            ],
            "text/plain": [
              "      transaction_id  transaction_real_price\n",
              "0            1145756            28068.591797\n",
              "1            1198704            23201.210938\n",
              "2            1222384            17185.880859\n",
              "3            1179897            61900.191406\n",
              "4            1223091            60110.347656\n",
              "...              ...                     ...\n",
              "5458         1174640            47889.222656\n",
              "5459         1175575            87057.226562\n",
              "5460         1157024            78389.710938\n",
              "5461         1136863            50780.289062\n",
              "5462         1218921            20352.964844\n",
              "\n",
              "[5463 rows x 2 columns]"
            ]
          },
          "metadata": {
            "tags": []
          },
          "execution_count": 45
        }
      ]
    },
    {
      "cell_type": "code",
      "metadata": {
        "id": "-phPm_bkkRDe"
      },
      "source": [
        "sub_df.to_csv('submission.csv', index=False)"
      ],
      "execution_count": 46,
      "outputs": []
    },
    {
      "cell_type": "markdown",
      "metadata": {
        "id": "YxIelELmni_g"
      },
      "source": [
        "![image](https://user-images.githubusercontent.com/68543150/120895433-e0266880-c657-11eb-8380-58ccf01a6c06.png)"
      ]
    },
    {
      "cell_type": "markdown",
      "metadata": {
        "id": "BzwJihDpmsiA"
      },
      "source": [
        "#### LGBM optuna"
      ]
    },
    {
      "cell_type": "code",
      "metadata": {
        "colab": {
          "base_uri": "https://localhost:8080/"
        },
        "id": "WdV_83xTnEsx",
        "outputId": "82b40e69-8afb-4819-d5ad-d26f2a5d91aa"
      },
      "source": [
        " from optuna.samplers import TPESampler\n",
        "\n",
        " sampler = TPESampler(seed=10)\n",
        " def objective(trial):\n",
        "\n",
        "     param = {\n",
        "         'objective': 'regression', # 회귀\n",
        "         'metric': 'rmse', \n",
        "         'verbosity': -1,\n",
        "         'boosting_type': 'gbdt', # gradient boosting decision tree\n",
        "         'lambda_l1': trial.suggest_loguniform('lambda_l1', 1e-8, 1),\n",
        "         'lambda_l2': trial.suggest_loguniform('lambda_l2', 1e-8, 1),\n",
        "         'num_leaves': trial.suggest_int('num_leaves', 2, 400),\n",
        "         'max_depth': trial.suggest_int('max_depth',3, 9),\n",
        "         'learning_rate': 0.01,\n",
        "         'n_estimators': trial.suggest_int('n_estimators', 700, 5000),\n",
        "         'feature_fraction': trial.suggest_uniform('feature_fraction', 0.4, 1.0),\n",
        "         'bagging_fraction': trial.suggest_uniform('bagging_fraction', 0.4, 1.0),\n",
        "         'bagging_freq': trial.suggest_int('bagging_freq', 1, 7),\n",
        "         'min_child_samples': trial.suggest_int('min_child_samples', 5, 100),\n",
        "     }\n",
        "\n",
        "     lgbm_regr = lgb.LGBMRegressor(**param)\n",
        "     gbm_2 = lgbm_regr.fit(h_train_X, h_train_y , eval_set = [(h_valid_X, h_valid_y)], verbose=False)\n",
        "     rmse = RMSE(h_valid_y, gbm_2.predict(h_valid_X))\n",
        "     return rmse\n",
        "\n",
        "study = optuna.create_study(direction='minimize', sampler=sampler)\n",
        "study.optimize(objective, n_trials=100)"
      ],
      "execution_count": 7,
      "outputs": [
        {
          "output_type": "stream",
          "text": [
            "\u001b[32m[I 2021-06-04 17:25:53,792]\u001b[0m A new study created in memory with name: no-name-a74d6023-680f-4e05-a3b1-89331791093c\u001b[0m\n",
            "\u001b[32m[I 2021-06-04 17:29:37,852]\u001b[0m Trial 0 finished with value: 0.2771212520232543 and parameters: {'lambda_l1': 0.014810344004555135, 'lambda_l2': 1.4656004675652718e-08, 'num_leaves': 254, 'max_depth': 8, 'n_estimators': 2844, 'feature_fraction': 0.5348779873185086, 'bagging_fraction': 0.5188377188557745, 'bagging_freq': 6, 'min_child_samples': 21}. Best is trial 0 with value: 0.2771212520232543.\u001b[0m\n",
            "\u001b[32m[I 2021-06-04 17:31:22,474]\u001b[0m Trial 1 finished with value: 0.29685155243488826 and parameters: {'lambda_l1': 5.090008568091192e-08, 'lambda_l2': 0.003040034742832493, 'num_leaves': 382, 'max_depth': 3, 'n_estimators': 2902, 'feature_fraction': 0.8875725769912681, 'bagging_fraction': 0.7675156400976328, 'bagging_freq': 6, 'min_child_samples': 33}. Best is trial 0 with value: 0.2771212520232543.\u001b[0m\n",
            "\u001b[32m[I 2021-06-04 17:32:36,488]\u001b[0m Trial 2 finished with value: 0.2969761603138836 and parameters: {'lambda_l1': 0.21988367156694333, 'lambda_l2': 0.005207224083783965, 'num_leaves': 218, 'max_depth': 3, 'n_estimators': 2305, 'feature_fraction': 0.8044801690398071, 'bagging_fraction': 0.6650999046537976, 'bagging_freq': 4, 'min_child_samples': 64}. Best is trial 0 with value: 0.2771212520232543.\u001b[0m\n",
            "\u001b[32m[I 2021-06-04 17:35:59,110]\u001b[0m Trial 3 finished with value: 0.2672982432263322 and parameters: {'lambda_l1': 0.00012738137732610437, 'lambda_l2': 0.0015965313667163816, 'num_leaves': 241, 'max_depth': 8, 'n_estimators': 2943, 'feature_fraction': 0.945189328485201, 'bagging_fraction': 0.5915416533931271, 'bagging_freq': 1, 'min_child_samples': 33}. Best is trial 3 with value: 0.2672982432263322.\u001b[0m\n",
            "\u001b[32m[I 2021-06-04 17:37:50,757]\u001b[0m Trial 4 finished with value: 0.28337435726123267 and parameters: {'lambda_l1': 8.163471763379958e-08, 'lambda_l2': 0.042604022999246406, 'num_leaves': 20, 'max_depth': 7, 'n_estimators': 3055, 'feature_fraction': 0.8915721974020412, 'bagging_fraction': 0.5193685238072874, 'bagging_freq': 6, 'min_child_samples': 38}. Best is trial 3 with value: 0.2672982432263322.\u001b[0m\n",
            "\u001b[32m[I 2021-06-04 17:38:55,553]\u001b[0m Trial 5 finished with value: 0.28809024217990364 and parameters: {'lambda_l1': 0.010893853540963833, 'lambda_l2': 2.3318126555538504e-06, 'num_leaves': 354, 'max_depth': 5, 'n_estimators': 1409, 'feature_fraction': 0.6355175463679523, 'bagging_fraction': 0.4560762247351902, 'bagging_freq': 6, 'min_child_samples': 19}. Best is trial 3 with value: 0.2672982432263322.\u001b[0m\n",
            "\u001b[32m[I 2021-06-04 17:43:22,528]\u001b[0m Trial 6 finished with value: 0.2815065743787156 and parameters: {'lambda_l1': 1.1828116394242723e-05, 'lambda_l2': 0.3581671060741645, 'num_leaves': 396, 'max_depth': 6, 'n_estimators': 4253, 'feature_fraction': 0.5508244805242356, 'bagging_fraction': 0.7584229889385306, 'bagging_freq': 7, 'min_child_samples': 56}. Best is trial 3 with value: 0.2672982432263322.\u001b[0m\n",
            "\u001b[32m[I 2021-06-04 17:44:21,293]\u001b[0m Trial 7 finished with value: 0.29821125170009805 and parameters: {'lambda_l1': 0.0005267577135346555, 'lambda_l2': 2.0618360930258403e-08, 'num_leaves': 144, 'max_depth': 3, 'n_estimators': 2013, 'feature_fraction': 0.5984315871892792, 'bagging_fraction': 0.8642981777263575, 'bagging_freq': 1, 'min_child_samples': 46}. Best is trial 3 with value: 0.2672982432263322.\u001b[0m\n",
            "\u001b[32m[I 2021-06-04 17:47:12,493]\u001b[0m Trial 8 finished with value: 0.2949631537260671 and parameters: {'lambda_l1': 3.3068536483753737e-06, 'lambda_l2': 0.0012357458041729475, 'num_leaves': 140, 'max_depth': 3, 'n_estimators': 4484, 'feature_fraction': 0.8579443522862087, 'bagging_fraction': 0.926857985634915, 'bagging_freq': 3, 'min_child_samples': 63}. Best is trial 3 with value: 0.2672982432263322.\u001b[0m\n",
            "\u001b[32m[I 2021-06-04 17:47:52,883]\u001b[0m Trial 9 finished with value: 0.2923555136499609 and parameters: {'lambda_l1': 0.0001281542517497079, 'lambda_l2': 0.0006063078395671604, 'num_leaves': 106, 'max_depth': 5, 'n_estimators': 809, 'feature_fraction': 0.5818375363906209, 'bagging_fraction': 0.5452455252421164, 'bagging_freq': 4, 'min_child_samples': 59}. Best is trial 3 with value: 0.2672982432263322.\u001b[0m\n",
            "\u001b[32m[I 2021-06-04 17:53:31,570]\u001b[0m Trial 10 finished with value: 0.26578430886330784 and parameters: {'lambda_l1': 2.8850899106925093e-06, 'lambda_l2': 2.1915803658880983e-05, 'num_leaves': 296, 'max_depth': 9, 'n_estimators': 3584, 'feature_fraction': 0.9829499664972009, 'bagging_fraction': 0.6332740884655743, 'bagging_freq': 1, 'min_child_samples': 90}. Best is trial 10 with value: 0.26578430886330784.\u001b[0m\n",
            "\u001b[32m[I 2021-06-04 17:59:31,889]\u001b[0m Trial 11 finished with value: 0.2658877432114473 and parameters: {'lambda_l1': 2.43147820991882e-06, 'lambda_l2': 9.299914558177969e-06, 'num_leaves': 287, 'max_depth': 9, 'n_estimators': 3715, 'feature_fraction': 0.9991122238129395, 'bagging_fraction': 0.635455888183523, 'bagging_freq': 1, 'min_child_samples': 99}. Best is trial 10 with value: 0.26578430886330784.\u001b[0m\n",
            "\u001b[32m[I 2021-06-04 18:06:24,723]\u001b[0m Trial 12 finished with value: 0.26557099061767536 and parameters: {'lambda_l1': 1.2139262891327981e-06, 'lambda_l2': 6.004414374739026e-06, 'num_leaves': 311, 'max_depth': 9, 'n_estimators': 3879, 'feature_fraction': 0.9943071015136323, 'bagging_fraction': 0.6646334986681111, 'bagging_freq': 2, 'min_child_samples': 99}. Best is trial 12 with value: 0.26557099061767536.\u001b[0m\n",
            "\u001b[32m[I 2021-06-04 18:14:28,719]\u001b[0m Trial 13 finished with value: 0.28659462107795725 and parameters: {'lambda_l1': 3.0098971456471477e-07, 'lambda_l2': 9.930087746181152e-07, 'num_leaves': 330, 'max_depth': 9, 'n_estimators': 4990, 'feature_fraction': 0.41844661211798795, 'bagging_fraction': 0.7431164233406272, 'bagging_freq': 2, 'min_child_samples': 93}. Best is trial 12 with value: 0.26557099061767536.\u001b[0m\n",
            "\u001b[32m[I 2021-06-04 18:20:43,154]\u001b[0m Trial 14 finished with value: 0.2681264112552864 and parameters: {'lambda_l1': 1.1761335055684152e-08, 'lambda_l2': 3.280208566412269e-05, 'num_leaves': 304, 'max_depth': 9, 'n_estimators': 3694, 'feature_fraction': 0.7594280101689121, 'bagging_fraction': 0.42905083800916544, 'bagging_freq': 2, 'min_child_samples': 82}. Best is trial 12 with value: 0.26557099061767536.\u001b[0m\n",
            "\u001b[32m[I 2021-06-04 18:26:30,175]\u001b[0m Trial 15 finished with value: 0.26751252618956156 and parameters: {'lambda_l1': 1.1190913401416027e-06, 'lambda_l2': 2.438045180218331e-07, 'num_leaves': 281, 'max_depth': 8, 'n_estimators': 3787, 'feature_fraction': 0.9970265533727153, 'bagging_fraction': 0.6894971004501609, 'bagging_freq': 2, 'min_child_samples': 82}. Best is trial 12 with value: 0.26557099061767536.\u001b[0m\n",
            "\u001b[32m[I 2021-06-04 18:33:13,439]\u001b[0m Trial 16 finished with value: 0.2695036354413971 and parameters: {'lambda_l1': 1.4759756666230795e-05, 'lambda_l2': 0.00010773572182940973, 'num_leaves': 183, 'max_depth': 7, 'n_estimators': 4888, 'feature_fraction': 0.9592124084612702, 'bagging_fraction': 0.8265480478376499, 'bagging_freq': 3, 'min_child_samples': 80}. Best is trial 12 with value: 0.26557099061767536.\u001b[0m\n",
            "\u001b[32m[I 2021-06-04 18:41:16,852]\u001b[0m Trial 17 finished with value: 0.26929119455504763 and parameters: {'lambda_l1': 3.112222922517442e-07, 'lambda_l2': 1.2262708032177313e-07, 'num_leaves': 349, 'max_depth': 9, 'n_estimators': 4250, 'feature_fraction': 0.711080089903149, 'bagging_fraction': 0.6031603115116247, 'bagging_freq': 3, 'min_child_samples': 99}. Best is trial 12 with value: 0.26557099061767536.\u001b[0m\n",
            "\u001b[32m[I 2021-06-04 18:44:40,573]\u001b[0m Trial 18 finished with value: 0.2730251306055265 and parameters: {'lambda_l1': 1.127060082176947e-08, 'lambda_l2': 9.658819067629666e-05, 'num_leaves': 316, 'max_depth': 7, 'n_estimators': 3445, 'feature_fraction': 0.8254834073659074, 'bagging_fraction': 0.7058520599435056, 'bagging_freq': 1, 'min_child_samples': 74}. Best is trial 12 with value: 0.26557099061767536.\u001b[0m\n",
            "\u001b[32m[I 2021-06-04 18:52:29,379]\u001b[0m Trial 19 finished with value: 0.2664503709667477 and parameters: {'lambda_l1': 0.0013085645371755219, 'lambda_l2': 8.401286298176106e-06, 'num_leaves': 397, 'max_depth': 8, 'n_estimators': 4566, 'feature_fraction': 0.9331925137014487, 'bagging_fraction': 0.8463114713253793, 'bagging_freq': 2, 'min_child_samples': 91}. Best is trial 12 with value: 0.26557099061767536.\u001b[0m\n",
            "\u001b[32m[I 2021-06-04 18:54:43,303]\u001b[0m Trial 20 finished with value: 0.29099326593809355 and parameters: {'lambda_l1': 2.0842754793459605e-05, 'lambda_l2': 6.1107591319229e-07, 'num_leaves': 258, 'max_depth': 6, 'n_estimators': 2437, 'feature_fraction': 0.4141756869358541, 'bagging_fraction': 0.5919542621024723, 'bagging_freq': 5, 'min_child_samples': 70}. Best is trial 12 with value: 0.26557099061767536.\u001b[0m\n",
            "\u001b[32m[I 2021-06-04 19:00:31,941]\u001b[0m Trial 21 finished with value: 0.2655734612302414 and parameters: {'lambda_l1': 1.0047138227847937e-06, 'lambda_l2': 7.555550757322599e-06, 'num_leaves': 288, 'max_depth': 9, 'n_estimators': 3832, 'feature_fraction': 0.9761268156162289, 'bagging_fraction': 0.6821246746966043, 'bagging_freq': 1, 'min_child_samples': 96}. Best is trial 12 with value: 0.26557099061767536.\u001b[0m\n",
            "\u001b[32m[I 2021-06-04 19:05:15,049]\u001b[0m Trial 22 finished with value: 0.26618754359288627 and parameters: {'lambda_l1': 5.551742591583532e-07, 'lambda_l2': 6.072750755991096e-06, 'num_leaves': 198, 'max_depth': 9, 'n_estimators': 3397, 'feature_fraction': 0.9398002286072079, 'bagging_fraction': 0.6511551447066224, 'bagging_freq': 1, 'min_child_samples': 92}. Best is trial 12 with value: 0.26557099061767536.\u001b[0m\n",
            "\u001b[32m[I 2021-06-04 19:11:28,661]\u001b[0m Trial 23 finished with value: 0.2682785373436108 and parameters: {'lambda_l1': 5.945779724721092e-08, 'lambda_l2': 4.421406204594713e-05, 'num_leaves': 369, 'max_depth': 8, 'n_estimators': 4003, 'feature_fraction': 0.9904199293855999, 'bagging_fraction': 0.7123229955538015, 'bagging_freq': 2, 'min_child_samples': 98}. Best is trial 12 with value: 0.26557099061767536.\u001b[0m\n",
            "\u001b[32m[I 2021-06-04 19:16:40,306]\u001b[0m Trial 24 finished with value: 0.26317994372014325 and parameters: {'lambda_l1': 3.883403904530345e-06, 'lambda_l2': 0.0003588340776638644, 'num_leaves': 314, 'max_depth': 9, 'n_estimators': 3232, 'feature_fraction': 0.8952039546155488, 'bagging_fraction': 0.7932163463597408, 'bagging_freq': 1, 'min_child_samples': 6}. Best is trial 24 with value: 0.26317994372014325.\u001b[0m\n",
            "\u001b[32m[I 2021-06-04 19:21:57,653]\u001b[0m Trial 25 finished with value: 0.26512692895861945 and parameters: {'lambda_l1': 3.352892443276366e-05, 'lambda_l2': 0.0001506044938532256, 'num_leaves': 329, 'max_depth': 8, 'n_estimators': 3274, 'feature_fraction': 0.9035447179961108, 'bagging_fraction': 0.8110574022734958, 'bagging_freq': 3, 'min_child_samples': 7}. Best is trial 24 with value: 0.26317994372014325.\u001b[0m\n",
            "\u001b[32m[I 2021-06-04 19:26:10,835]\u001b[0m Trial 26 finished with value: 0.27280622445699965 and parameters: {'lambda_l1': 4.7242927080919926e-05, 'lambda_l2': 0.00028660974647547074, 'num_leaves': 334, 'max_depth': 7, 'n_estimators': 3186, 'feature_fraction': 0.776811215476513, 'bagging_fraction': 0.9578790095742291, 'bagging_freq': 3, 'min_child_samples': 11}. Best is trial 24 with value: 0.26317994372014325.\u001b[0m\n",
            "\u001b[32m[I 2021-06-04 19:30:02,230]\u001b[0m Trial 27 finished with value: 0.2669001864997411 and parameters: {'lambda_l1': 0.00046462853849755685, 'lambda_l2': 0.04798435562177242, 'num_leaves': 371, 'max_depth': 8, 'n_estimators': 2583, 'feature_fraction': 0.9013592729854308, 'bagging_fraction': 0.7984031945629668, 'bagging_freq': 3, 'min_child_samples': 6}. Best is trial 24 with value: 0.26317994372014325.\u001b[0m\n",
            "\u001b[32m[I 2021-06-04 19:33:20,878]\u001b[0m Trial 28 finished with value: 0.27154462985288347 and parameters: {'lambda_l1': 8.313719137541918e-06, 'lambda_l2': 0.00023700968841527126, 'num_leaves': 328, 'max_depth': 8, 'n_estimators': 2110, 'feature_fraction': 0.8480017245902195, 'bagging_fraction': 0.8948944106692018, 'bagging_freq': 2, 'min_child_samples': 5}. Best is trial 24 with value: 0.26317994372014325.\u001b[0m\n",
            "\u001b[32m[I 2021-06-04 19:37:17,109]\u001b[0m Trial 29 finished with value: 0.2747933773871399 and parameters: {'lambda_l1': 0.003648782837459826, 'lambda_l2': 0.008259478625178006, 'num_leaves': 254, 'max_depth': 7, 'n_estimators': 3251, 'feature_fraction': 0.6941645403963725, 'bagging_fraction': 0.7876209659202518, 'bagging_freq': 4, 'min_child_samples': 17}. Best is trial 24 with value: 0.26317994372014325.\u001b[0m\n",
            "\u001b[32m[I 2021-06-04 19:41:33,392]\u001b[0m Trial 30 finished with value: 0.2773883437545022 and parameters: {'lambda_l1': 5.912380476460724e-05, 'lambda_l2': 0.02183103491722591, 'num_leaves': 266, 'max_depth': 8, 'n_estimators': 2728, 'feature_fraction': 0.4656551354255699, 'bagging_fraction': 0.9875579169262594, 'bagging_freq': 3, 'min_child_samples': 26}. Best is trial 24 with value: 0.26317994372014325.\u001b[0m\n",
            "\u001b[32m[I 2021-06-04 19:48:38,941]\u001b[0m Trial 31 finished with value: 0.2639838411873809 and parameters: {'lambda_l1': 1.2156290895874906e-06, 'lambda_l2': 2.3015264196018107e-06, 'num_leaves': 224, 'max_depth': 9, 'n_estimators': 3981, 'feature_fraction': 0.9097964217499075, 'bagging_fraction': 0.7221705179231144, 'bagging_freq': 2, 'min_child_samples': 48}. Best is trial 24 with value: 0.26317994372014325.\u001b[0m\n",
            "\u001b[32m[I 2021-06-04 19:56:32,101]\u001b[0m Trial 32 finished with value: 0.2640596353200332 and parameters: {'lambda_l1': 1.8012812569618854e-07, 'lambda_l2': 3.934735028395169e-08, 'num_leaves': 225, 'max_depth': 9, 'n_estimators': 4140, 'feature_fraction': 0.908462490277179, 'bagging_fraction': 0.7342931382358926, 'bagging_freq': 2, 'min_child_samples': 48}. Best is trial 24 with value: 0.26317994372014325.\u001b[0m\n",
            "\u001b[32m[I 2021-06-04 20:03:49,102]\u001b[0m Trial 33 finished with value: 0.2639971578191263 and parameters: {'lambda_l1': 1.3991274867546995e-07, 'lambda_l2': 1.602018547877341e-08, 'num_leaves': 227, 'max_depth': 9, 'n_estimators': 4187, 'feature_fraction': 0.905353314769164, 'bagging_fraction': 0.7335344407941858, 'bagging_freq': 2, 'min_child_samples': 43}. Best is trial 24 with value: 0.26317994372014325.\u001b[0m\n",
            "\u001b[32m[I 2021-06-04 20:12:18,770]\u001b[0m Trial 34 finished with value: 0.26385696966844807 and parameters: {'lambda_l1': 1.3711841424716362e-07, 'lambda_l2': 1.4980516862143176e-08, 'num_leaves': 220, 'max_depth': 9, 'n_estimators': 4722, 'feature_fraction': 0.8611417538446641, 'bagging_fraction': 0.7373311780649178, 'bagging_freq': 2, 'min_child_samples': 48}. Best is trial 24 with value: 0.26317994372014325.\u001b[0m\n",
            "\u001b[32m[I 2021-06-04 20:20:27,399]\u001b[0m Trial 35 finished with value: 0.26366249496083227 and parameters: {'lambda_l1': 2.3470814237602207e-08, 'lambda_l2': 1.4608189943996093e-08, 'num_leaves': 178, 'max_depth': 9, 'n_estimators': 4697, 'feature_fraction': 0.8700437830848348, 'bagging_fraction': 0.773263700645117, 'bagging_freq': 5, 'min_child_samples': 41}. Best is trial 24 with value: 0.26317994372014325.\u001b[0m\n",
            "\u001b[32m[I 2021-06-04 20:28:25,823]\u001b[0m Trial 36 finished with value: 0.2676780362858132 and parameters: {'lambda_l1': 2.400141702764495e-08, 'lambda_l2': 7.836188623607858e-08, 'num_leaves': 172, 'max_depth': 8, 'n_estimators': 4706, 'feature_fraction': 0.8015520901638679, 'bagging_fraction': 0.774260496794419, 'bagging_freq': 5, 'min_child_samples': 31}. Best is trial 24 with value: 0.26317994372014325.\u001b[0m\n",
            "\u001b[32m[I 2021-06-04 20:31:38,830]\u001b[0m Trial 37 finished with value: 0.288044922679718 and parameters: {'lambda_l1': 3.9536274731887234e-08, 'lambda_l2': 1.2261426807843967e-08, 'num_leaves': 53, 'max_depth': 4, 'n_estimators': 4436, 'feature_fraction': 0.8568420800039546, 'bagging_fraction': 0.8800443716984242, 'bagging_freq': 5, 'min_child_samples': 38}. Best is trial 24 with value: 0.26317994372014325.\u001b[0m\n",
            "\u001b[32m[I 2021-06-04 20:35:44,230]\u001b[0m Trial 38 finished with value: 0.2693088501080038 and parameters: {'lambda_l1': 5.310684998401958e-06, 'lambda_l2': 3.976443240112186e-07, 'num_leaves': 141, 'max_depth': 9, 'n_estimators': 2904, 'feature_fraction': 0.7364222475549085, 'bagging_fraction': 0.8382605479138953, 'bagging_freq': 6, 'min_child_samples': 51}. Best is trial 24 with value: 0.26317994372014325.\u001b[0m\n",
            "\u001b[32m[I 2021-06-04 20:42:58,712]\u001b[0m Trial 39 finished with value: 0.26664694160462804 and parameters: {'lambda_l1': 0.8003555742065401, 'lambda_l2': 1.617353874983462e-06, 'num_leaves': 112, 'max_depth': 8, 'n_estimators': 4891, 'feature_fraction': 0.8709014423982042, 'bagging_fraction': 0.7728466337366194, 'bagging_freq': 7, 'min_child_samples': 40}. Best is trial 24 with value: 0.26317994372014325.\u001b[0m\n",
            "\u001b[32m[I 2021-06-04 20:52:14,835]\u001b[0m Trial 40 finished with value: 0.2652708972002085 and parameters: {'lambda_l1': 2.1181479798278624e-08, 'lambda_l2': 5.109138668818411e-08, 'num_leaves': 203, 'max_depth': 9, 'n_estimators': 4771, 'feature_fraction': 0.8230369688212167, 'bagging_fraction': 0.9011565929882825, 'bagging_freq': 5, 'min_child_samples': 55}. Best is trial 24 with value: 0.26317994372014325.\u001b[0m\n",
            "\u001b[32m[I 2021-06-04 20:59:17,815]\u001b[0m Trial 41 finished with value: 0.2636348370109209 and parameters: {'lambda_l1': 1.0642834536263679e-07, 'lambda_l2': 1.1774540961677871e-08, 'num_leaves': 231, 'max_depth': 9, 'n_estimators': 4360, 'feature_fraction': 0.9235606362928457, 'bagging_fraction': 0.725452098725048, 'bagging_freq': 1, 'min_child_samples': 43}. Best is trial 24 with value: 0.26317994372014325.\u001b[0m\n",
            "\u001b[32m[I 2021-06-04 21:05:32,669]\u001b[0m Trial 42 finished with value: 0.26320829179327787 and parameters: {'lambda_l1': 8.784441243670471e-08, 'lambda_l2': 1.5889673262268428e-07, 'num_leaves': 169, 'max_depth': 9, 'n_estimators': 4508, 'feature_fraction': 0.9284244148112355, 'bagging_fraction': 0.7289849882410995, 'bagging_freq': 1, 'min_child_samples': 33}. Best is trial 24 with value: 0.26317994372014325.\u001b[0m\n",
            "\u001b[32m[I 2021-06-04 21:11:30,447]\u001b[0m Trial 43 finished with value: 0.2628542277182625 and parameters: {'lambda_l1': 5.729316363107868e-08, 'lambda_l2': 2.8776720882656268e-08, 'num_leaves': 164, 'max_depth': 9, 'n_estimators': 4439, 'feature_fraction': 0.9462604581153061, 'bagging_fraction': 0.7614679435604069, 'bagging_freq': 1, 'min_child_samples': 30}. Best is trial 43 with value: 0.2628542277182625.\u001b[0m\n",
            "\u001b[32m[I 2021-06-04 21:17:29,480]\u001b[0m Trial 44 finished with value: 0.2630050499958738 and parameters: {'lambda_l1': 3.4518197708953704e-08, 'lambda_l2': 1.926425088758376e-07, 'num_leaves': 168, 'max_depth': 9, 'n_estimators': 4517, 'feature_fraction': 0.9408450374583223, 'bagging_fraction': 0.7631032842805084, 'bagging_freq': 1, 'min_child_samples': 31}. Best is trial 43 with value: 0.2628542277182625.\u001b[0m\n",
            "\u001b[32m[I 2021-06-04 21:22:03,145]\u001b[0m Trial 45 finished with value: 0.26579145736937926 and parameters: {'lambda_l1': 6.92683974663336e-08, 'lambda_l2': 1.752788201888273e-07, 'num_leaves': 111, 'max_depth': 8, 'n_estimators': 4452, 'feature_fraction': 0.9571155282741006, 'bagging_fraction': 0.8103264105778792, 'bagging_freq': 1, 'min_child_samples': 28}. Best is trial 43 with value: 0.2628542277182625.\u001b[0m\n",
            "\u001b[32m[I 2021-06-04 21:27:24,248]\u001b[0m Trial 46 finished with value: 0.26381196645039934 and parameters: {'lambda_l1': 5.173542093904346e-07, 'lambda_l2': 3.97599646142645e-08, 'num_leaves': 152, 'max_depth': 9, 'n_estimators': 4337, 'feature_fraction': 0.9330174622047355, 'bagging_fraction': 0.7559033155093908, 'bagging_freq': 1, 'min_child_samples': 35}. Best is trial 43 with value: 0.2628542277182625.\u001b[0m\n",
            "\u001b[32m[I 2021-06-04 21:28:25,851]\u001b[0m Trial 47 finished with value: 0.2890197658530555 and parameters: {'lambda_l1': 1.0165571221953885e-08, 'lambda_l2': 0.0012997738239144078, 'num_leaves': 75, 'max_depth': 5, 'n_estimators': 1417, 'feature_fraction': 0.9619849176425237, 'bagging_fraction': 0.6888661189820673, 'bagging_freq': 1, 'min_child_samples': 22}. Best is trial 43 with value: 0.2628542277182625.\u001b[0m\n",
            "\u001b[32m[I 2021-06-04 21:34:03,487]\u001b[0m Trial 48 finished with value: 0.26392212003334425 and parameters: {'lambda_l1': 9.121031410463699e-08, 'lambda_l2': 1.0949996592965701e-07, 'num_leaves': 158, 'max_depth': 8, 'n_estimators': 4534, 'feature_fraction': 0.9428973875883688, 'bagging_fraction': 0.8563765212089463, 'bagging_freq': 1, 'min_child_samples': 16}. Best is trial 43 with value: 0.2628542277182625.\u001b[0m\n",
            "\u001b[32m[I 2021-06-04 21:38:45,198]\u001b[0m Trial 49 finished with value: 0.2649164212286743 and parameters: {'lambda_l1': 2.9218120009347646e-07, 'lambda_l2': 3.0300520153058013e-07, 'num_leaves': 126, 'max_depth': 9, 'n_estimators': 4041, 'feature_fraction': 0.9243960797037715, 'bagging_fraction': 0.6213052671705357, 'bagging_freq': 1, 'min_child_samples': 24}. Best is trial 43 with value: 0.2628542277182625.\u001b[0m\n",
            "\u001b[32m[I 2021-06-04 21:44:17,507]\u001b[0m Trial 50 finished with value: 0.2641981629170827 and parameters: {'lambda_l1': 3.534796433996805e-08, 'lambda_l2': 3.094799393418603e-08, 'num_leaves': 201, 'max_depth': 9, 'n_estimators': 3615, 'feature_fraction': 0.8841565676283611, 'bagging_fraction': 0.56438495257417, 'bagging_freq': 1, 'min_child_samples': 30}. Best is trial 43 with value: 0.2628542277182625.\u001b[0m\n",
            "\u001b[32m[I 2021-06-04 21:52:30,399]\u001b[0m Trial 51 finished with value: 0.2658676978283969 and parameters: {'lambda_l1': 2.0244207940306752e-08, 'lambda_l2': 1.3995624893778167e-08, 'num_leaves': 178, 'max_depth': 9, 'n_estimators': 4666, 'feature_fraction': 0.8321482398927984, 'bagging_fraction': 0.7609837347516999, 'bagging_freq': 6, 'min_child_samples': 35}. Best is trial 43 with value: 0.2628542277182625.\u001b[0m\n",
            "\u001b[32m[I 2021-06-04 21:57:17,360]\u001b[0m Trial 52 finished with value: 0.2658219640561615 and parameters: {'lambda_l1': 5.704391307328521e-08, 'lambda_l2': 1.0482241909635743e-08, 'num_leaves': 88, 'max_depth': 9, 'n_estimators': 4936, 'feature_fraction': 0.8832386193930193, 'bagging_fraction': 0.7808921337938318, 'bagging_freq': 1, 'min_child_samples': 43}. Best is trial 43 with value: 0.2628542277182625.\u001b[0m\n",
            "\u001b[32m[I 2021-06-04 22:04:43,208]\u001b[0m Trial 53 finished with value: 0.2637554390929974 and parameters: {'lambda_l1': 1.4352608008591548e-08, 'lambda_l2': 0.0026421385164258297, 'num_leaves': 166, 'max_depth': 9, 'n_estimators': 4298, 'feature_fraction': 0.9695509540174652, 'bagging_fraction': 0.6654266844784406, 'bagging_freq': 4, 'min_child_samples': 40}. Best is trial 43 with value: 0.2628542277182625.\u001b[0m\n",
            "\u001b[32m[I 2021-06-04 22:12:09,260]\u001b[0m Trial 54 finished with value: 0.26238613430633484 and parameters: {'lambda_l1': 1.970758991133385e-07, 'lambda_l2': 0.0006053492878255306, 'num_leaves': 190, 'max_depth': 9, 'n_estimators': 4988, 'feature_fraction': 0.9265582346305439, 'bagging_fraction': 0.825530486138829, 'bagging_freq': 1, 'min_child_samples': 33}. Best is trial 54 with value: 0.26238613430633484.\u001b[0m\n",
            "\u001b[32m[I 2021-06-04 22:19:10,335]\u001b[0m Trial 55 finished with value: 0.26417447781792647 and parameters: {'lambda_l1': 2.5437172967972824e-06, 'lambda_l2': 0.0007548339765829024, 'num_leaves': 199, 'max_depth': 8, 'n_estimators': 4987, 'feature_fraction': 0.9986739987836967, 'bagging_fraction': 0.8244197390041851, 'bagging_freq': 1, 'min_child_samples': 34}. Best is trial 54 with value: 0.26238613430633484.\u001b[0m\n",
            "\u001b[32m[I 2021-06-04 22:23:44,449]\u001b[0m Trial 56 finished with value: 0.2636639557521123 and parameters: {'lambda_l1': 5.659228005376026e-07, 'lambda_l2': 0.00035909827479888473, 'num_leaves': 131, 'max_depth': 9, 'n_estimators': 4370, 'feature_fraction': 0.9251747239725527, 'bagging_fraction': 0.7070323838567089, 'bagging_freq': 1, 'min_child_samples': 13}. Best is trial 54 with value: 0.26238613430633484.\u001b[0m\n",
            "\u001b[32m[I 2021-06-04 22:29:42,659]\u001b[0m Trial 57 finished with value: 0.26558217961018843 and parameters: {'lambda_l1': 1.6024914771513448e-07, 'lambda_l2': 0.005010973178681982, 'num_leaves': 239, 'max_depth': 8, 'n_estimators': 4605, 'feature_fraction': 0.9806748177129556, 'bagging_fraction': 0.8073462118821763, 'bagging_freq': 1, 'min_child_samples': 60}. Best is trial 54 with value: 0.26238613430633484.\u001b[0m\n",
            "\u001b[32m[I 2021-06-04 22:31:29,040]\u001b[0m Trial 58 finished with value: 0.2692518885806241 and parameters: {'lambda_l1': 2.5775730141260987e-07, 'lambda_l2': 1.909523138000698e-05, 'num_leaves': 194, 'max_depth': 9, 'n_estimators': 1469, 'feature_fraction': 0.9516827982115312, 'bagging_fraction': 0.750068854682394, 'bagging_freq': 1, 'min_child_samples': 21}. Best is trial 54 with value: 0.26238613430633484.\u001b[0m\n",
            "\u001b[32m[I 2021-06-04 22:38:43,022]\u001b[0m Trial 59 finished with value: 0.26534489268349376 and parameters: {'lambda_l1': 8.202177345410546e-08, 'lambda_l2': 5.748513557458173e-07, 'num_leaves': 211, 'max_depth': 9, 'n_estimators': 4130, 'feature_fraction': 0.8003672785211946, 'bagging_fraction': 0.8313508260507335, 'bagging_freq': 2, 'min_child_samples': 27}. Best is trial 54 with value: 0.26238613430633484.\u001b[0m\n",
            "\u001b[32m[I 2021-06-04 22:43:05,349]\u001b[0m Trial 60 finished with value: 0.2653027762604984 and parameters: {'lambda_l1': 7.859117256043055e-07, 'lambda_l2': 8.130673498486901e-05, 'num_leaves': 156, 'max_depth': 8, 'n_estimators': 3869, 'feature_fraction': 0.920241115516142, 'bagging_fraction': 0.8756898002095826, 'bagging_freq': 1, 'min_child_samples': 31}. Best is trial 54 with value: 0.26238613430633484.\u001b[0m\n",
            "\u001b[32m[I 2021-06-04 22:49:55,897]\u001b[0m Trial 61 finished with value: 0.26310563451108554 and parameters: {'lambda_l1': 3.742437907144224e-08, 'lambda_l2': 0.0005378990410817629, 'num_leaves': 190, 'max_depth': 9, 'n_estimators': 4785, 'feature_fraction': 0.8820822505251382, 'bagging_fraction': 0.7942088690119717, 'bagging_freq': 1, 'min_child_samples': 43}. Best is trial 54 with value: 0.26238613430633484.\u001b[0m\n",
            "\u001b[32m[I 2021-06-04 22:57:08,161]\u001b[0m Trial 62 finished with value: 0.2630764047551124 and parameters: {'lambda_l1': 4.0278948947793826e-08, 'lambda_l2': 0.0005753924030601329, 'num_leaves': 188, 'max_depth': 9, 'n_estimators': 4987, 'feature_fraction': 0.8899114161768225, 'bagging_fraction': 0.7949208929936383, 'bagging_freq': 1, 'min_child_samples': 45}. Best is trial 54 with value: 0.26238613430633484.\u001b[0m\n",
            "\u001b[32m[I 2021-06-04 23:03:59,987]\u001b[0m Trial 63 finished with value: 0.2636377641367275 and parameters: {'lambda_l1': 3.476781755482069e-08, 'lambda_l2': 0.00048556452519985855, 'num_leaves': 181, 'max_depth': 9, 'n_estimators': 4839, 'feature_fraction': 0.8872413941882731, 'bagging_fraction': 0.790453871129462, 'bagging_freq': 1, 'min_child_samples': 52}. Best is trial 54 with value: 0.26238613430633484.\u001b[0m\n",
            "\u001b[32m[I 2021-06-04 23:12:25,430]\u001b[0m Trial 64 finished with value: 0.26544967423607674 and parameters: {'lambda_l1': 1.2872261039296059e-08, 'lambda_l2': 0.0019347705560372073, 'num_leaves': 164, 'max_depth': 9, 'n_estimators': 4967, 'feature_fraction': 0.8299284210183807, 'bagging_fraction': 0.8518046662762079, 'bagging_freq': 2, 'min_child_samples': 36}. Best is trial 54 with value: 0.26238613430633484.\u001b[0m\n",
            "\u001b[32m[I 2021-06-04 23:14:21,293]\u001b[0m Trial 65 finished with value: 0.2731975192939555 and parameters: {'lambda_l1': 4.8054392995437766e-08, 'lambda_l2': 0.0009354342041900012, 'num_leaves': 190, 'max_depth': 8, 'n_estimators': 1755, 'feature_fraction': 0.8452265912944653, 'bagging_fraction': 0.8142342096213058, 'bagging_freq': 1, 'min_child_samples': 45}. Best is trial 54 with value: 0.26238613430633484.\u001b[0m\n",
            "\u001b[32m[I 2021-06-04 23:15:26,623]\u001b[0m Trial 66 finished with value: 0.27472578083087795 and parameters: {'lambda_l1': 0.04474148686145409, 'lambda_l2': 0.00016891595047502156, 'num_leaves': 147, 'max_depth': 9, 'n_estimators': 976, 'feature_fraction': 0.9424073689455695, 'bagging_fraction': 0.9172736997841671, 'bagging_freq': 1, 'min_child_samples': 30}. Best is trial 54 with value: 0.26238613430633484.\u001b[0m\n",
            "\u001b[32m[I 2021-06-04 23:22:03,513]\u001b[0m Trial 67 finished with value: 0.26444751432518676 and parameters: {'lambda_l1': 1.9779771420809952e-06, 'lambda_l2': 5.668808230632165e-05, 'num_leaves': 128, 'max_depth': 9, 'n_estimators': 4862, 'feature_fraction': 0.8900437561693054, 'bagging_fraction': 0.793327868325187, 'bagging_freq': 2, 'min_child_samples': 37}. Best is trial 54 with value: 0.26238613430633484.\u001b[0m\n",
            "\u001b[32m[I 2021-06-04 23:28:11,146]\u001b[0m Trial 68 finished with value: 0.26479349382009537 and parameters: {'lambda_l1': 3.313191801299921e-07, 'lambda_l2': 0.006024303181697428, 'num_leaves': 208, 'max_depth': 8, 'n_estimators': 4569, 'feature_fraction': 0.9700426102678756, 'bagging_fraction': 0.7481269036473531, 'bagging_freq': 1, 'min_child_samples': 24}. Best is trial 54 with value: 0.26238613430633484.\u001b[0m\n",
            "\u001b[32m[I 2021-06-04 23:36:41,861]\u001b[0m Trial 69 finished with value: 0.2624441501899238 and parameters: {'lambda_l1': 2.0976359959853775e-07, 'lambda_l2': 0.000419629676735087, 'num_leaves': 244, 'max_depth': 9, 'n_estimators': 4492, 'feature_fraction': 0.875299125827466, 'bagging_fraction': 0.8656467504898445, 'bagging_freq': 2, 'min_child_samples': 33}. Best is trial 54 with value: 0.26238613430633484.\u001b[0m\n",
            "\u001b[32m[I 2021-06-04 23:43:57,121]\u001b[0m Trial 70 finished with value: 0.27277172667152283 and parameters: {'lambda_l1': 0.0001868671035043167, 'lambda_l2': 0.016950169260662607, 'num_leaves': 266, 'max_depth': 7, 'n_estimators': 4989, 'feature_fraction': 0.6532567360042916, 'bagging_fraction': 0.9368614650638127, 'bagging_freq': 2, 'min_child_samples': 19}. Best is trial 54 with value: 0.26238613430633484.\u001b[0m\n",
            "\u001b[32m[I 2021-06-04 23:50:33,782]\u001b[0m Trial 71 finished with value: 0.26298290607494895 and parameters: {'lambda_l1': 2.3207773639692214e-07, 'lambda_l2': 0.0005673611454453519, 'num_leaves': 242, 'max_depth': 9, 'n_estimators': 4481, 'feature_fraction': 0.8762448940552596, 'bagging_fraction': 0.8397879092124292, 'bagging_freq': 1, 'min_child_samples': 39}. Best is trial 54 with value: 0.26238613430633484.\u001b[0m\n",
            "\u001b[32m[I 2021-06-04 23:57:34,969]\u001b[0m Trial 72 finished with value: 0.26305507945705814 and parameters: {'lambda_l1': 2.4289156238421904e-07, 'lambda_l2': 0.0004879534757215328, 'num_leaves': 243, 'max_depth': 9, 'n_estimators': 4780, 'feature_fraction': 0.8797099384725331, 'bagging_fraction': 0.8658963644257108, 'bagging_freq': 1, 'min_child_samples': 46}. Best is trial 54 with value: 0.26238613430633484.\u001b[0m\n",
            "\u001b[32m[I 2021-06-05 00:04:35,080]\u001b[0m Trial 73 finished with value: 0.2627026649152832 and parameters: {'lambda_l1': 3.824196822751275e-07, 'lambda_l2': 0.00019848191508773543, 'num_leaves': 245, 'max_depth': 9, 'n_estimators': 4755, 'feature_fraction': 0.8646200983294536, 'bagging_fraction': 0.8726443790863894, 'bagging_freq': 1, 'min_child_samples': 39}. Best is trial 54 with value: 0.26238613430633484.\u001b[0m\n",
            "\u001b[32m[I 2021-06-05 00:14:08,462]\u001b[0m Trial 74 finished with value: 0.2652515363790255 and parameters: {'lambda_l1': 2.1605706519893904e-07, 'lambda_l2': 0.0001623466366641637, 'num_leaves': 245, 'max_depth': 9, 'n_estimators': 4633, 'feature_fraction': 0.8434803821702517, 'bagging_fraction': 0.8692911228353076, 'bagging_freq': 2, 'min_child_samples': 39}. Best is trial 54 with value: 0.26238613430633484.\u001b[0m\n",
            "\u001b[32m[I 2021-06-05 00:20:42,291]\u001b[0m Trial 75 finished with value: 0.2656841819890812 and parameters: {'lambda_l1': 4.289355659246118e-07, 'lambda_l2': 1.743153095381489e-05, 'num_leaves': 244, 'max_depth': 9, 'n_estimators': 4222, 'feature_fraction': 0.7757750492687041, 'bagging_fraction': 0.890006760083466, 'bagging_freq': 1, 'min_child_samples': 50}. Best is trial 54 with value: 0.26238613430633484.\u001b[0m\n",
            "\u001b[32m[I 2021-06-05 00:30:21,504]\u001b[0m Trial 76 finished with value: 0.26325012437441997 and parameters: {'lambda_l1': 7.715510324759333e-07, 'lambda_l2': 0.0034017891812031516, 'num_leaves': 278, 'max_depth': 9, 'n_estimators': 4805, 'feature_fraction': 0.869206540186316, 'bagging_fraction': 0.9113233057164118, 'bagging_freq': 2, 'min_child_samples': 46}. Best is trial 54 with value: 0.26238613430633484.\u001b[0m\n",
            "\u001b[32m[I 2021-06-05 00:35:56,326]\u001b[0m Trial 77 finished with value: 0.26793017112539735 and parameters: {'lambda_l1': 1.7042121883741945e-07, 'lambda_l2': 0.00024413663381963517, 'num_leaves': 269, 'max_depth': 8, 'n_estimators': 4513, 'feature_fraction': 0.8171993206115767, 'bagging_fraction': 0.9522038229581017, 'bagging_freq': 1, 'min_child_samples': 55}. Best is trial 54 with value: 0.26238613430633484.\u001b[0m\n",
            "\u001b[32m[I 2021-06-05 00:43:22,390]\u001b[0m Trial 78 finished with value: 0.26232009623663294 and parameters: {'lambda_l1': 1.225561971813908e-07, 'lambda_l2': 0.0015218635671398445, 'num_leaves': 237, 'max_depth': 9, 'n_estimators': 4992, 'feature_fraction': 0.9052354188666817, 'bagging_fraction': 0.8376499537995431, 'bagging_freq': 1, 'min_child_samples': 33}. Best is trial 78 with value: 0.26232009623663294.\u001b[0m\n",
            "\u001b[32m[I 2021-06-05 00:51:31,007]\u001b[0m Trial 79 finished with value: 0.2626325640959173 and parameters: {'lambda_l1': 1.4200055793039745e-06, 'lambda_l2': 0.0017290300844728017, 'num_leaves': 298, 'max_depth': 9, 'n_estimators': 4450, 'feature_fraction': 0.906704726316637, 'bagging_fraction': 0.8385488290079472, 'bagging_freq': 2, 'min_child_samples': 32}. Best is trial 78 with value: 0.26232009623663294.\u001b[0m\n",
            "\u001b[32m[I 2021-06-05 00:58:52,414]\u001b[0m Trial 80 finished with value: 0.26270356907499665 and parameters: {'lambda_l1': 1.7902394476114314e-06, 'lambda_l2': 0.0017304397670199895, 'num_leaves': 286, 'max_depth': 9, 'n_estimators': 4111, 'feature_fraction': 0.9124796688563424, 'bagging_fraction': 0.8485649504332039, 'bagging_freq': 2, 'min_child_samples': 28}. Best is trial 78 with value: 0.26232009623663294.\u001b[0m\n",
            "\u001b[32m[I 2021-06-05 01:06:29,877]\u001b[0m Trial 81 finished with value: 0.26226981450845094 and parameters: {'lambda_l1': 8.181119779520876e-06, 'lambda_l2': 0.0016235067963037198, 'num_leaves': 294, 'max_depth': 9, 'n_estimators': 4055, 'feature_fraction': 0.908217019753265, 'bagging_fraction': 0.8448723506556448, 'bagging_freq': 2, 'min_child_samples': 28}. Best is trial 81 with value: 0.26226981450845094.\u001b[0m\n",
            "\u001b[32m[I 2021-06-05 01:13:56,409]\u001b[0m Trial 82 finished with value: 0.26274281798406346 and parameters: {'lambda_l1': 1.4099665688506478e-06, 'lambda_l2': 0.0017943183980514402, 'num_leaves': 285, 'max_depth': 9, 'n_estimators': 4028, 'feature_fraction': 0.9065013814518238, 'bagging_fraction': 0.8415869278202399, 'bagging_freq': 3, 'min_child_samples': 28}. Best is trial 81 with value: 0.26226981450845094.\u001b[0m\n",
            "\u001b[32m[I 2021-06-05 01:21:30,130]\u001b[0m Trial 83 finished with value: 0.2630642367129597 and parameters: {'lambda_l1': 6.2865017170510634e-06, 'lambda_l2': 0.0016000744097631138, 'num_leaves': 298, 'max_depth': 9, 'n_estimators': 4037, 'feature_fraction': 0.9016744003685845, 'bagging_fraction': 0.8501094128419052, 'bagging_freq': 3, 'min_child_samples': 25}. Best is trial 81 with value: 0.26226981450845094.\u001b[0m\n",
            "\u001b[32m[I 2021-06-05 01:28:33,827]\u001b[0m Trial 84 finished with value: 0.26305584170827556 and parameters: {'lambda_l1': 1.4643884350998005e-05, 'lambda_l2': 0.017219662314674065, 'num_leaves': 289, 'max_depth': 9, 'n_estimators': 3949, 'feature_fraction': 0.9112249874896655, 'bagging_fraction': 0.8902349445446854, 'bagging_freq': 3, 'min_child_samples': 28}. Best is trial 81 with value: 0.26226981450845094.\u001b[0m\n",
            "\u001b[32m[I 2021-06-05 01:32:10,094]\u001b[0m Trial 85 finished with value: 0.2751150519728382 and parameters: {'lambda_l1': 1.6568063605425796e-06, 'lambda_l2': 0.009550675105861663, 'num_leaves': 307, 'max_depth': 6, 'n_estimators': 3516, 'feature_fraction': 0.9138879375460945, 'bagging_fraction': 0.8280006578345763, 'bagging_freq': 3, 'min_child_samples': 32}. Best is trial 81 with value: 0.26226981450845094.\u001b[0m\n",
            "\u001b[32m[I 2021-06-05 01:38:38,404]\u001b[0m Trial 86 finished with value: 0.26275675891174816 and parameters: {'lambda_l1': 4.2955858242973215e-06, 'lambda_l2': 0.0010485447669083996, 'num_leaves': 257, 'max_depth': 9, 'n_estimators': 3740, 'feature_fraction': 0.857747059177109, 'bagging_fraction': 0.8600938924160872, 'bagging_freq': 2, 'min_child_samples': 23}. Best is trial 81 with value: 0.26226981450845094.\u001b[0m\n",
            "\u001b[32m[I 2021-06-05 01:44:11,442]\u001b[0m Trial 87 finished with value: 0.2650476149604603 and parameters: {'lambda_l1': 3.900015824235535e-06, 'lambda_l2': 0.0025584194246841005, 'num_leaves': 255, 'max_depth': 8, 'n_estimators': 3733, 'feature_fraction': 0.8641550105249619, 'bagging_fraction': 0.8591411734134213, 'bagging_freq': 2, 'min_child_samples': 19}. Best is trial 81 with value: 0.26226981450845094.\u001b[0m\n",
            "\u001b[32m[I 2021-06-05 01:51:46,282]\u001b[0m Trial 88 finished with value: 0.26628683819044024 and parameters: {'lambda_l1': 2.6220911348061794e-05, 'lambda_l2': 0.0009436171557092637, 'num_leaves': 317, 'max_depth': 9, 'n_estimators': 4108, 'feature_fraction': 0.8441711772760551, 'bagging_fraction': 0.9837437107152113, 'bagging_freq': 2, 'min_child_samples': 27}. Best is trial 81 with value: 0.26226981450845094.\u001b[0m\n",
            "\u001b[32m[I 2021-06-05 01:59:39,244]\u001b[0m Trial 89 finished with value: 0.2625989781359934 and parameters: {'lambda_l1': 1.0107207974406482e-05, 'lambda_l2': 0.044623937788886785, 'num_leaves': 275, 'max_depth': 9, 'n_estimators': 4263, 'feature_fraction': 0.8577497089843464, 'bagging_fraction': 0.9327731942479426, 'bagging_freq': 2, 'min_child_samples': 22}. Best is trial 81 with value: 0.26226981450845094.\u001b[0m\n",
            "\u001b[32m[I 2021-06-05 02:02:47,432]\u001b[0m Trial 90 finished with value: 0.2875846951012216 and parameters: {'lambda_l1': 1.5049329115496473e-06, 'lambda_l2': 0.048208164725524194, 'num_leaves': 342, 'max_depth': 4, 'n_estimators': 4268, 'feature_fraction': 0.897620209457895, 'bagging_fraction': 0.9293568758897052, 'bagging_freq': 3, 'min_child_samples': 15}. Best is trial 81 with value: 0.26226981450845094.\u001b[0m\n",
            "\u001b[32m[I 2021-06-05 02:09:26,761]\u001b[0m Trial 91 finished with value: 0.2652051526509505 and parameters: {'lambda_l1': 8.317037197866053e-06, 'lambda_l2': 0.2973064290170661, 'num_leaves': 279, 'max_depth': 9, 'n_estimators': 3796, 'feature_fraction': 0.8497997653400581, 'bagging_fraction': 0.8856503234414583, 'bagging_freq': 2, 'min_child_samples': 22}. Best is trial 81 with value: 0.26226981450845094.\u001b[0m\n",
            "\u001b[32m[I 2021-06-05 02:16:29,909]\u001b[0m Trial 92 finished with value: 0.26266013743859024 and parameters: {'lambda_l1': 3.7525574058492173e-06, 'lambda_l2': 0.0013849566908452134, 'num_leaves': 271, 'max_depth': 9, 'n_estimators': 3912, 'feature_fraction': 0.8623458474648048, 'bagging_fraction': 0.9022293714391109, 'bagging_freq': 2, 'min_child_samples': 23}. Best is trial 81 with value: 0.26226981450845094.\u001b[0m\n",
            "\u001b[32m[I 2021-06-05 02:23:35,278]\u001b[0m Trial 93 finished with value: 0.2655068620652828 and parameters: {'lambda_l1': 1.0730831950109568e-05, 'lambda_l2': 0.0037732494773198527, 'num_leaves': 295, 'max_depth': 9, 'n_estimators': 3909, 'feature_fraction': 0.8111311343787593, 'bagging_fraction': 0.905469044409285, 'bagging_freq': 2, 'min_child_samples': 34}. Best is trial 81 with value: 0.26226981450845094.\u001b[0m\n",
            "\u001b[32m[I 2021-06-05 02:31:47,430]\u001b[0m Trial 94 finished with value: 0.2651752365650468 and parameters: {'lambda_l1': 2.688392789375536e-06, 'lambda_l2': 0.14003032916424857, 'num_leaves': 271, 'max_depth': 9, 'n_estimators': 4370, 'feature_fraction': 0.7959307470946123, 'bagging_fraction': 0.9698226436048736, 'bagging_freq': 2, 'min_child_samples': 26}. Best is trial 81 with value: 0.26226981450845094.\u001b[0m\n",
            "\u001b[32m[I 2021-06-05 02:39:45,245]\u001b[0m Trial 95 finished with value: 0.2630198938025167 and parameters: {'lambda_l1': 9.410540920371374e-07, 'lambda_l2': 0.001779793173078752, 'num_leaves': 323, 'max_depth': 9, 'n_estimators': 4193, 'feature_fraction': 0.9162173019072085, 'bagging_fraction': 0.9454917997753874, 'bagging_freq': 4, 'min_child_samples': 9}. Best is trial 81 with value: 0.26226981450845094.\u001b[0m\n",
            "\u001b[32m[I 2021-06-05 02:48:16,971]\u001b[0m Trial 96 finished with value: 0.2633759807738823 and parameters: {'lambda_l1': 1.9190857068295354e-05, 'lambda_l2': 0.00709032638964186, 'num_leaves': 287, 'max_depth': 9, 'n_estimators': 4054, 'feature_fraction': 0.8990523712097356, 'bagging_fraction': 0.9142270907670978, 'bagging_freq': 3, 'min_child_samples': 20}. Best is trial 81 with value: 0.26226981450845094.\u001b[0m\n",
            "\u001b[32m[I 2021-06-05 02:52:53,556]\u001b[0m Trial 97 finished with value: 0.2666521159209565 and parameters: {'lambda_l1': 4.546059716166822e-07, 'lambda_l2': 0.00031468347498160023, 'num_leaves': 302, 'max_depth': 8, 'n_estimators': 3101, 'feature_fraction': 0.9305158354360782, 'bagging_fraction': 0.8766850459027934, 'bagging_freq': 2, 'min_child_samples': 33}. Best is trial 81 with value: 0.26226981450845094.\u001b[0m\n",
            "\u001b[32m[I 2021-06-05 02:58:39,152]\u001b[0m Trial 98 finished with value: 0.2658356307488386 and parameters: {'lambda_l1': 5.953379253855677e-05, 'lambda_l2': 0.011524136117366211, 'num_leaves': 232, 'max_depth': 9, 'n_estimators': 3611, 'feature_fraction': 0.8314372029822639, 'bagging_fraction': 0.8255565348388759, 'bagging_freq': 3, 'min_child_samples': 29}. Best is trial 81 with value: 0.26226981450845094.\u001b[0m\n",
            "\u001b[32m[I 2021-06-05 03:05:39,858]\u001b[0m Trial 99 finished with value: 0.26257749861108814 and parameters: {'lambda_l1': 6.370320263192548e-07, 'lambda_l2': 0.8418585829699493, 'num_leaves': 214, 'max_depth': 9, 'n_estimators': 4281, 'feature_fraction': 0.8682202508622067, 'bagging_fraction': 0.8402236217020658, 'bagging_freq': 2, 'min_child_samples': 25}. Best is trial 81 with value: 0.26226981450845094.\u001b[0m\n"
          ],
          "name": "stderr"
        }
      ]
    },
    {
      "cell_type": "code",
      "metadata": {
        "id": "_EGLWEtB33Qw",
        "colab": {
          "base_uri": "https://localhost:8080/"
        },
        "outputId": "74008d08-5a7e-40a2-a5cc-26cf0a099aec"
      },
      "source": [
        "print('Best Trial: score {},\\nparams {}'.format(study.best_trial.value, study.best_trial.params))"
      ],
      "execution_count": 8,
      "outputs": [
        {
          "output_type": "stream",
          "text": [
            "Best Trial: score 0.26226981450845094,\n",
            "params {'lambda_l1': 8.181119779520876e-06, 'lambda_l2': 0.0016235067963037198, 'num_leaves': 294, 'max_depth': 9, 'n_estimators': 4055, 'feature_fraction': 0.908217019753265, 'bagging_fraction': 0.8448723506556448, 'bagging_freq': 2, 'min_child_samples': 28}\n"
          ],
          "name": "stdout"
        }
      ]
    },
    {
      "cell_type": "code",
      "metadata": {
        "id": "pP-wVBg7tahT"
      },
      "source": [
        "lgb_params = {'lambda_l1': 8.181119779520876e-06, \n",
        "              'lambda_l2': 0.0016235067963037198,\n",
        "              'num_leaves': 294, \n",
        "              'max_depth': 9, \n",
        "              'n_estimators': 4055, \n",
        "              'feature_fraction': 0.908217019753265, \n",
        "              'bagging_fraction': 0.8448723506556448,\n",
        "              'bagging_freq': 2,\n",
        "              'min_child_samples': 28}"
      ],
      "execution_count": 47,
      "outputs": []
    },
    {
      "cell_type": "code",
      "metadata": {
        "id": "-yI06xHHnI74",
        "colab": {
          "base_uri": "https://localhost:8080/",
          "height": 542
        },
        "outputId": "a7ab705e-4b25-4b11-c5d1-4ac82141f9e3"
      },
      "source": [
        "optuna.visualization.plot_optimization_history(study)"
      ],
      "execution_count": 10,
      "outputs": [
        {
          "output_type": "display_data",
          "data": {
            "text/html": [
              "<html>\n",
              "<head><meta charset=\"utf-8\" /></head>\n",
              "<body>\n",
              "    <div>\n",
              "            <script src=\"https://cdnjs.cloudflare.com/ajax/libs/mathjax/2.7.5/MathJax.js?config=TeX-AMS-MML_SVG\"></script><script type=\"text/javascript\">if (window.MathJax) {MathJax.Hub.Config({SVG: {font: \"STIX-Web\"}});}</script>\n",
              "                <script type=\"text/javascript\">window.PlotlyConfig = {MathJaxConfig: 'local'};</script>\n",
              "        <script src=\"https://cdn.plot.ly/plotly-latest.min.js\"></script>    \n",
              "            <div id=\"98357132-af4e-4a5e-95ef-f2eae3ba249b\" class=\"plotly-graph-div\" style=\"height:525px; width:100%;\"></div>\n",
              "            <script type=\"text/javascript\">\n",
              "                \n",
              "                    window.PLOTLYENV=window.PLOTLYENV || {};\n",
              "                    \n",
              "                if (document.getElementById(\"98357132-af4e-4a5e-95ef-f2eae3ba249b\")) {\n",
              "                    Plotly.newPlot(\n",
              "                        '98357132-af4e-4a5e-95ef-f2eae3ba249b',\n",
              "                        [{\"mode\": \"markers\", \"name\": \"Objective Value\", \"type\": \"scatter\", \"x\": [0, 1, 2, 3, 4, 5, 6, 7, 8, 9, 10, 11, 12, 13, 14, 15, 16, 17, 18, 19, 20, 21, 22, 23, 24, 25, 26, 27, 28, 29, 30, 31, 32, 33, 34, 35, 36, 37, 38, 39, 40, 41, 42, 43, 44, 45, 46, 47, 48, 49, 50, 51, 52, 53, 54, 55, 56, 57, 58, 59, 60, 61, 62, 63, 64, 65, 66, 67, 68, 69, 70, 71, 72, 73, 74, 75, 76, 77, 78, 79, 80, 81, 82, 83, 84, 85, 86, 87, 88, 89, 90, 91, 92, 93, 94, 95, 96, 97, 98, 99], \"y\": [0.2771212520232543, 0.29685155243488826, 0.2969761603138836, 0.2672982432263322, 0.28337435726123267, 0.28809024217990364, 0.2815065743787156, 0.29821125170009805, 0.2949631537260671, 0.2923555136499609, 0.26578430886330784, 0.2658877432114473, 0.26557099061767536, 0.28659462107795725, 0.2681264112552864, 0.26751252618956156, 0.2695036354413971, 0.26929119455504763, 0.2730251306055265, 0.2664503709667477, 0.29099326593809355, 0.2655734612302414, 0.26618754359288627, 0.2682785373436108, 0.26317994372014325, 0.26512692895861945, 0.27280622445699965, 0.2669001864997411, 0.27154462985288347, 0.2747933773871399, 0.2773883437545022, 0.2639838411873809, 0.2640596353200332, 0.2639971578191263, 0.26385696966844807, 0.26366249496083227, 0.2676780362858132, 0.288044922679718, 0.2693088501080038, 0.26664694160462804, 0.2652708972002085, 0.2636348370109209, 0.26320829179327787, 0.2628542277182625, 0.2630050499958738, 0.26579145736937926, 0.26381196645039934, 0.2890197658530555, 0.26392212003334425, 0.2649164212286743, 0.2641981629170827, 0.2658676978283969, 0.2658219640561615, 0.2637554390929974, 0.26238613430633484, 0.26417447781792647, 0.2636639557521123, 0.26558217961018843, 0.2692518885806241, 0.26534489268349376, 0.2653027762604984, 0.26310563451108554, 0.2630764047551124, 0.2636377641367275, 0.26544967423607674, 0.2731975192939555, 0.27472578083087795, 0.26444751432518676, 0.26479349382009537, 0.2624441501899238, 0.27277172667152283, 0.26298290607494895, 0.26305507945705814, 0.2627026649152832, 0.2652515363790255, 0.2656841819890812, 0.26325012437441997, 0.26793017112539735, 0.26232009623663294, 0.2626325640959173, 0.26270356907499665, 0.26226981450845094, 0.26274281798406346, 0.2630642367129597, 0.26305584170827556, 0.2751150519728382, 0.26275675891174816, 0.2650476149604603, 0.26628683819044024, 0.2625989781359934, 0.2875846951012216, 0.2652051526509505, 0.26266013743859024, 0.2655068620652828, 0.2651752365650468, 0.2630198938025167, 0.2633759807738823, 0.2666521159209565, 0.2658356307488386, 0.26257749861108814]}, {\"name\": \"Best Value\", \"type\": \"scatter\", \"x\": [0, 1, 2, 3, 4, 5, 6, 7, 8, 9, 10, 11, 12, 13, 14, 15, 16, 17, 18, 19, 20, 21, 22, 23, 24, 25, 26, 27, 28, 29, 30, 31, 32, 33, 34, 35, 36, 37, 38, 39, 40, 41, 42, 43, 44, 45, 46, 47, 48, 49, 50, 51, 52, 53, 54, 55, 56, 57, 58, 59, 60, 61, 62, 63, 64, 65, 66, 67, 68, 69, 70, 71, 72, 73, 74, 75, 76, 77, 78, 79, 80, 81, 82, 83, 84, 85, 86, 87, 88, 89, 90, 91, 92, 93, 94, 95, 96, 97, 98, 99], \"y\": [0.2771212520232543, 0.2771212520232543, 0.2771212520232543, 0.2672982432263322, 0.2672982432263322, 0.2672982432263322, 0.2672982432263322, 0.2672982432263322, 0.2672982432263322, 0.2672982432263322, 0.26578430886330784, 0.26578430886330784, 0.26557099061767536, 0.26557099061767536, 0.26557099061767536, 0.26557099061767536, 0.26557099061767536, 0.26557099061767536, 0.26557099061767536, 0.26557099061767536, 0.26557099061767536, 0.26557099061767536, 0.26557099061767536, 0.26557099061767536, 0.26317994372014325, 0.26317994372014325, 0.26317994372014325, 0.26317994372014325, 0.26317994372014325, 0.26317994372014325, 0.26317994372014325, 0.26317994372014325, 0.26317994372014325, 0.26317994372014325, 0.26317994372014325, 0.26317994372014325, 0.26317994372014325, 0.26317994372014325, 0.26317994372014325, 0.26317994372014325, 0.26317994372014325, 0.26317994372014325, 0.26317994372014325, 0.2628542277182625, 0.2628542277182625, 0.2628542277182625, 0.2628542277182625, 0.2628542277182625, 0.2628542277182625, 0.2628542277182625, 0.2628542277182625, 0.2628542277182625, 0.2628542277182625, 0.2628542277182625, 0.26238613430633484, 0.26238613430633484, 0.26238613430633484, 0.26238613430633484, 0.26238613430633484, 0.26238613430633484, 0.26238613430633484, 0.26238613430633484, 0.26238613430633484, 0.26238613430633484, 0.26238613430633484, 0.26238613430633484, 0.26238613430633484, 0.26238613430633484, 0.26238613430633484, 0.26238613430633484, 0.26238613430633484, 0.26238613430633484, 0.26238613430633484, 0.26238613430633484, 0.26238613430633484, 0.26238613430633484, 0.26238613430633484, 0.26238613430633484, 0.26232009623663294, 0.26232009623663294, 0.26232009623663294, 0.26226981450845094, 0.26226981450845094, 0.26226981450845094, 0.26226981450845094, 0.26226981450845094, 0.26226981450845094, 0.26226981450845094, 0.26226981450845094, 0.26226981450845094, 0.26226981450845094, 0.26226981450845094, 0.26226981450845094, 0.26226981450845094, 0.26226981450845094, 0.26226981450845094, 0.26226981450845094, 0.26226981450845094, 0.26226981450845094, 0.26226981450845094]}],\n",
              "                        {\"template\": {\"data\": {\"bar\": [{\"error_x\": {\"color\": \"#2a3f5f\"}, \"error_y\": {\"color\": \"#2a3f5f\"}, \"marker\": {\"line\": {\"color\": \"#E5ECF6\", \"width\": 0.5}}, \"type\": \"bar\"}], \"barpolar\": [{\"marker\": {\"line\": {\"color\": \"#E5ECF6\", \"width\": 0.5}}, \"type\": \"barpolar\"}], \"carpet\": [{\"aaxis\": {\"endlinecolor\": \"#2a3f5f\", \"gridcolor\": \"white\", \"linecolor\": \"white\", \"minorgridcolor\": \"white\", \"startlinecolor\": \"#2a3f5f\"}, \"baxis\": {\"endlinecolor\": \"#2a3f5f\", \"gridcolor\": \"white\", \"linecolor\": \"white\", \"minorgridcolor\": \"white\", \"startlinecolor\": \"#2a3f5f\"}, \"type\": \"carpet\"}], \"choropleth\": [{\"colorbar\": {\"outlinewidth\": 0, \"ticks\": \"\"}, \"type\": \"choropleth\"}], \"contour\": [{\"colorbar\": {\"outlinewidth\": 0, \"ticks\": \"\"}, \"colorscale\": [[0.0, \"#0d0887\"], [0.1111111111111111, \"#46039f\"], [0.2222222222222222, \"#7201a8\"], [0.3333333333333333, \"#9c179e\"], [0.4444444444444444, \"#bd3786\"], [0.5555555555555556, \"#d8576b\"], [0.6666666666666666, \"#ed7953\"], [0.7777777777777778, \"#fb9f3a\"], [0.8888888888888888, \"#fdca26\"], [1.0, \"#f0f921\"]], \"type\": \"contour\"}], \"contourcarpet\": [{\"colorbar\": {\"outlinewidth\": 0, \"ticks\": \"\"}, \"type\": \"contourcarpet\"}], \"heatmap\": [{\"colorbar\": {\"outlinewidth\": 0, \"ticks\": \"\"}, \"colorscale\": [[0.0, \"#0d0887\"], [0.1111111111111111, \"#46039f\"], [0.2222222222222222, \"#7201a8\"], [0.3333333333333333, \"#9c179e\"], [0.4444444444444444, \"#bd3786\"], [0.5555555555555556, \"#d8576b\"], [0.6666666666666666, \"#ed7953\"], [0.7777777777777778, \"#fb9f3a\"], [0.8888888888888888, \"#fdca26\"], [1.0, \"#f0f921\"]], \"type\": \"heatmap\"}], \"heatmapgl\": [{\"colorbar\": {\"outlinewidth\": 0, \"ticks\": \"\"}, \"colorscale\": [[0.0, \"#0d0887\"], [0.1111111111111111, \"#46039f\"], [0.2222222222222222, \"#7201a8\"], [0.3333333333333333, \"#9c179e\"], [0.4444444444444444, \"#bd3786\"], [0.5555555555555556, \"#d8576b\"], [0.6666666666666666, \"#ed7953\"], [0.7777777777777778, \"#fb9f3a\"], [0.8888888888888888, \"#fdca26\"], [1.0, \"#f0f921\"]], \"type\": \"heatmapgl\"}], \"histogram\": [{\"marker\": {\"colorbar\": {\"outlinewidth\": 0, \"ticks\": \"\"}}, \"type\": \"histogram\"}], \"histogram2d\": [{\"colorbar\": {\"outlinewidth\": 0, \"ticks\": \"\"}, \"colorscale\": [[0.0, \"#0d0887\"], [0.1111111111111111, \"#46039f\"], [0.2222222222222222, \"#7201a8\"], [0.3333333333333333, \"#9c179e\"], [0.4444444444444444, \"#bd3786\"], [0.5555555555555556, \"#d8576b\"], [0.6666666666666666, \"#ed7953\"], [0.7777777777777778, \"#fb9f3a\"], [0.8888888888888888, \"#fdca26\"], [1.0, \"#f0f921\"]], \"type\": \"histogram2d\"}], \"histogram2dcontour\": [{\"colorbar\": {\"outlinewidth\": 0, \"ticks\": \"\"}, \"colorscale\": [[0.0, \"#0d0887\"], [0.1111111111111111, \"#46039f\"], [0.2222222222222222, \"#7201a8\"], [0.3333333333333333, \"#9c179e\"], [0.4444444444444444, \"#bd3786\"], [0.5555555555555556, \"#d8576b\"], [0.6666666666666666, \"#ed7953\"], [0.7777777777777778, \"#fb9f3a\"], [0.8888888888888888, \"#fdca26\"], [1.0, \"#f0f921\"]], \"type\": \"histogram2dcontour\"}], \"mesh3d\": [{\"colorbar\": {\"outlinewidth\": 0, \"ticks\": \"\"}, \"type\": \"mesh3d\"}], \"parcoords\": [{\"line\": {\"colorbar\": {\"outlinewidth\": 0, \"ticks\": \"\"}}, \"type\": \"parcoords\"}], \"pie\": [{\"automargin\": true, \"type\": \"pie\"}], \"scatter\": [{\"marker\": {\"colorbar\": {\"outlinewidth\": 0, \"ticks\": \"\"}}, \"type\": \"scatter\"}], \"scatter3d\": [{\"line\": {\"colorbar\": {\"outlinewidth\": 0, \"ticks\": \"\"}}, \"marker\": {\"colorbar\": {\"outlinewidth\": 0, \"ticks\": \"\"}}, \"type\": \"scatter3d\"}], \"scattercarpet\": [{\"marker\": {\"colorbar\": {\"outlinewidth\": 0, \"ticks\": \"\"}}, \"type\": \"scattercarpet\"}], \"scattergeo\": [{\"marker\": {\"colorbar\": {\"outlinewidth\": 0, \"ticks\": \"\"}}, \"type\": \"scattergeo\"}], \"scattergl\": [{\"marker\": {\"colorbar\": {\"outlinewidth\": 0, \"ticks\": \"\"}}, \"type\": \"scattergl\"}], \"scattermapbox\": [{\"marker\": {\"colorbar\": {\"outlinewidth\": 0, \"ticks\": \"\"}}, \"type\": \"scattermapbox\"}], \"scatterpolar\": [{\"marker\": {\"colorbar\": {\"outlinewidth\": 0, \"ticks\": \"\"}}, \"type\": \"scatterpolar\"}], \"scatterpolargl\": [{\"marker\": {\"colorbar\": {\"outlinewidth\": 0, \"ticks\": \"\"}}, \"type\": \"scatterpolargl\"}], \"scatterternary\": [{\"marker\": {\"colorbar\": {\"outlinewidth\": 0, \"ticks\": \"\"}}, \"type\": \"scatterternary\"}], \"surface\": [{\"colorbar\": {\"outlinewidth\": 0, \"ticks\": \"\"}, \"colorscale\": [[0.0, \"#0d0887\"], [0.1111111111111111, \"#46039f\"], [0.2222222222222222, \"#7201a8\"], [0.3333333333333333, \"#9c179e\"], [0.4444444444444444, \"#bd3786\"], [0.5555555555555556, \"#d8576b\"], [0.6666666666666666, \"#ed7953\"], [0.7777777777777778, \"#fb9f3a\"], [0.8888888888888888, \"#fdca26\"], [1.0, \"#f0f921\"]], \"type\": \"surface\"}], \"table\": [{\"cells\": {\"fill\": {\"color\": \"#EBF0F8\"}, \"line\": {\"color\": \"white\"}}, \"header\": {\"fill\": {\"color\": \"#C8D4E3\"}, \"line\": {\"color\": \"white\"}}, \"type\": \"table\"}]}, \"layout\": {\"annotationdefaults\": {\"arrowcolor\": \"#2a3f5f\", \"arrowhead\": 0, \"arrowwidth\": 1}, \"coloraxis\": {\"colorbar\": {\"outlinewidth\": 0, \"ticks\": \"\"}}, \"colorscale\": {\"diverging\": [[0, \"#8e0152\"], [0.1, \"#c51b7d\"], [0.2, \"#de77ae\"], [0.3, \"#f1b6da\"], [0.4, \"#fde0ef\"], [0.5, \"#f7f7f7\"], [0.6, \"#e6f5d0\"], [0.7, \"#b8e186\"], [0.8, \"#7fbc41\"], [0.9, \"#4d9221\"], [1, \"#276419\"]], \"sequential\": [[0.0, \"#0d0887\"], [0.1111111111111111, \"#46039f\"], [0.2222222222222222, \"#7201a8\"], [0.3333333333333333, \"#9c179e\"], [0.4444444444444444, \"#bd3786\"], [0.5555555555555556, \"#d8576b\"], [0.6666666666666666, \"#ed7953\"], [0.7777777777777778, \"#fb9f3a\"], [0.8888888888888888, \"#fdca26\"], [1.0, \"#f0f921\"]], \"sequentialminus\": [[0.0, \"#0d0887\"], [0.1111111111111111, \"#46039f\"], [0.2222222222222222, \"#7201a8\"], [0.3333333333333333, \"#9c179e\"], [0.4444444444444444, \"#bd3786\"], [0.5555555555555556, \"#d8576b\"], [0.6666666666666666, \"#ed7953\"], [0.7777777777777778, \"#fb9f3a\"], [0.8888888888888888, \"#fdca26\"], [1.0, \"#f0f921\"]]}, \"colorway\": [\"#636efa\", \"#EF553B\", \"#00cc96\", \"#ab63fa\", \"#FFA15A\", \"#19d3f3\", \"#FF6692\", \"#B6E880\", \"#FF97FF\", \"#FECB52\"], \"font\": {\"color\": \"#2a3f5f\"}, \"geo\": {\"bgcolor\": \"white\", \"lakecolor\": \"white\", \"landcolor\": \"#E5ECF6\", \"showlakes\": true, \"showland\": true, \"subunitcolor\": \"white\"}, \"hoverlabel\": {\"align\": \"left\"}, \"hovermode\": \"closest\", \"mapbox\": {\"style\": \"light\"}, \"paper_bgcolor\": \"white\", \"plot_bgcolor\": \"#E5ECF6\", \"polar\": {\"angularaxis\": {\"gridcolor\": \"white\", \"linecolor\": \"white\", \"ticks\": \"\"}, \"bgcolor\": \"#E5ECF6\", \"radialaxis\": {\"gridcolor\": \"white\", \"linecolor\": \"white\", \"ticks\": \"\"}}, \"scene\": {\"xaxis\": {\"backgroundcolor\": \"#E5ECF6\", \"gridcolor\": \"white\", \"gridwidth\": 2, \"linecolor\": \"white\", \"showbackground\": true, \"ticks\": \"\", \"zerolinecolor\": \"white\"}, \"yaxis\": {\"backgroundcolor\": \"#E5ECF6\", \"gridcolor\": \"white\", \"gridwidth\": 2, \"linecolor\": \"white\", \"showbackground\": true, \"ticks\": \"\", \"zerolinecolor\": \"white\"}, \"zaxis\": {\"backgroundcolor\": \"#E5ECF6\", \"gridcolor\": \"white\", \"gridwidth\": 2, \"linecolor\": \"white\", \"showbackground\": true, \"ticks\": \"\", \"zerolinecolor\": \"white\"}}, \"shapedefaults\": {\"line\": {\"color\": \"#2a3f5f\"}}, \"ternary\": {\"aaxis\": {\"gridcolor\": \"white\", \"linecolor\": \"white\", \"ticks\": \"\"}, \"baxis\": {\"gridcolor\": \"white\", \"linecolor\": \"white\", \"ticks\": \"\"}, \"bgcolor\": \"#E5ECF6\", \"caxis\": {\"gridcolor\": \"white\", \"linecolor\": \"white\", \"ticks\": \"\"}}, \"title\": {\"x\": 0.05}, \"xaxis\": {\"automargin\": true, \"gridcolor\": \"white\", \"linecolor\": \"white\", \"ticks\": \"\", \"title\": {\"standoff\": 15}, \"zerolinecolor\": \"white\", \"zerolinewidth\": 2}, \"yaxis\": {\"automargin\": true, \"gridcolor\": \"white\", \"linecolor\": \"white\", \"ticks\": \"\", \"title\": {\"standoff\": 15}, \"zerolinecolor\": \"white\", \"zerolinewidth\": 2}}}, \"title\": {\"text\": \"Optimization History Plot\"}, \"xaxis\": {\"title\": {\"text\": \"#Trials\"}}, \"yaxis\": {\"title\": {\"text\": \"Objective Value\"}}},\n",
              "                        {\"responsive\": true}\n",
              "                    ).then(function(){\n",
              "                            \n",
              "var gd = document.getElementById('98357132-af4e-4a5e-95ef-f2eae3ba249b');\n",
              "var x = new MutationObserver(function (mutations, observer) {{\n",
              "        var display = window.getComputedStyle(gd).display;\n",
              "        if (!display || display === 'none') {{\n",
              "            console.log([gd, 'removed!']);\n",
              "            Plotly.purge(gd);\n",
              "            observer.disconnect();\n",
              "        }}\n",
              "}});\n",
              "\n",
              "// Listen for the removal of the full notebook cells\n",
              "var notebookContainer = gd.closest('#notebook-container');\n",
              "if (notebookContainer) {{\n",
              "    x.observe(notebookContainer, {childList: true});\n",
              "}}\n",
              "\n",
              "// Listen for the clearing of the current output cell\n",
              "var outputEl = gd.closest('.output');\n",
              "if (outputEl) {{\n",
              "    x.observe(outputEl, {childList: true});\n",
              "}}\n",
              "\n",
              "                        })\n",
              "                };\n",
              "                \n",
              "            </script>\n",
              "        </div>\n",
              "</body>\n",
              "</html>"
            ]
          },
          "metadata": {
            "tags": []
          }
        }
      ]
    },
    {
      "cell_type": "markdown",
      "metadata": {
        "id": "2QkSLWXS4BfE"
      },
      "source": [
        "#### LightGBM Submission"
      ]
    },
    {
      "cell_type": "code",
      "metadata": {
        "id": "YgTiq-9cnMnb"
      },
      "source": [
        "final_lgb_model = lgb.LGBMRegressor(**lgb_params)\n",
        "final_lgb_model.fit(train_X, train_y, eval_metric='rmse')\n",
        "final_lgb_pred = final_lgb_model.predict(test_df)"
      ],
      "execution_count": 54,
      "outputs": []
    },
    {
      "cell_type": "code",
      "metadata": {
        "colab": {
          "base_uri": "https://localhost:8080/"
        },
        "id": "OxUagnJayu7m",
        "outputId": "3a8934a9-69be-4bd3-ffa2-b998e1efea5c"
      },
      "source": [
        "final_lgb_pred"
      ],
      "execution_count": 56,
      "outputs": [
        {
          "output_type": "execute_result",
          "data": {
            "text/plain": [
              "array([10.38371968,  9.85678031,  9.85657804, ..., 11.12323493,\n",
              "       10.96614626,  9.66338673])"
            ]
          },
          "metadata": {
            "tags": []
          },
          "execution_count": 56
        }
      ]
    },
    {
      "cell_type": "code",
      "metadata": {
        "id": "0Gs8UTidy0lt"
      },
      "source": [
        "final_pred_lgb_sub = np.expm1(final_lgb_pred)\n",
        "\n",
        "sub = pd.read_csv(PATH + 'test.csv')\n",
        "sub_df = pd.DataFrame({'transaction_id': sub['transaction_id'], 'transaction_real_price': final_pred_lgb_sub})\n",
        "sub_df.to_csv('submission_lgb.csv', index=False)"
      ],
      "execution_count": 57,
      "outputs": []
    },
    {
      "cell_type": "markdown",
      "metadata": {
        "id": "wTQskRWdzk2S"
      },
      "source": [
        "![image](https://user-images.githubusercontent.com/68543150/120896946-be7caf80-c65e-11eb-857c-46fe0bfb2948.png)\n"
      ]
    },
    {
      "cell_type": "markdown",
      "metadata": {
        "id": "ic_ptkfa4of9"
      },
      "source": [
        "## Ensemble"
      ]
    },
    {
      "cell_type": "code",
      "metadata": {
        "id": "beZY97bmuely"
      },
      "source": [
        "final_Dtree_model = DecisionTreeRegressor(max_depth=6, min_samples_split=10, \n",
        "                                          min_samples_leaf=15, random_state=1)\n",
        "final_rf_model = RandomForestRegressor(n_estimators=500, criterion='mse', max_depth=9, min_samples_split=50,\n",
        "                           min_samples_leaf=5, random_state=1)\n",
        "\n",
        "final_Dtree_model.fit(train_X, train_y)\n",
        "final_rf_model.fit(train_X, train_y)\n",
        "\n",
        "final_Dtree_pred = final_Dtree_model.predict(test_df)\n",
        "final_rf_pred = final_rf_model.predict(test_df)\n",
        "\n",
        "final_pred_Dtree_sub = np.expm1(final_Dtree_pred)\n",
        "final_pred_rf_sub = np.expm1(final_rf_pred)"
      ],
      "execution_count": 62,
      "outputs": []
    },
    {
      "cell_type": "code",
      "metadata": {
        "colab": {
          "base_uri": "https://localhost:8080/"
        },
        "id": "V5HTeWrhzxIM",
        "outputId": "38385583-0596-4d6e-906d-42e1d031320b"
      },
      "source": [
        "en_sub = (final_pred_sub + final_pred_Dtree_sub + final_pred_lgb_sub + final_pred_rf_sub)/4\n",
        "en_sub"
      ],
      "execution_count": 68,
      "outputs": [
        {
          "output_type": "execute_result",
          "data": {
            "text/plain": [
              "array([28043.87458366, 18961.53876671, 17193.53846848, ...,\n",
              "       69435.36542374, 50668.31090745, 18828.14104306])"
            ]
          },
          "metadata": {
            "tags": []
          },
          "execution_count": 68
        }
      ]
    },
    {
      "cell_type": "code",
      "metadata": {
        "id": "935gDdMB28vj"
      },
      "source": [
        "sub = pd.read_csv(PATH + 'test.csv')\n",
        "sub_df = pd.DataFrame({'transaction_id': sub['transaction_id'], 'transaction_real_price': en_sub})\n",
        "sub_df.to_csv('submission_ensemble.csv', index=False)"
      ],
      "execution_count": 70,
      "outputs": []
    },
    {
      "cell_type": "markdown",
      "metadata": {
        "id": "Cs7bt4uF3MQc"
      },
      "source": [
        "![image](https://user-images.githubusercontent.com/68543150/120897463-419f0500-c661-11eb-8995-ea566e0f4033.png)"
      ]
    },
    {
      "cell_type": "markdown",
      "metadata": {
        "id": "BDeQrEwa4sWT"
      },
      "source": [
        ""
      ]
    },
    {
      "cell_type": "code",
      "metadata": {
        "id": "RxOWsWIO3s8z"
      },
      "source": [
        ""
      ],
      "execution_count": null,
      "outputs": []
    }
  ]
}