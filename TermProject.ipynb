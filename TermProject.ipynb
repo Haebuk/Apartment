{
  "nbformat": 4,
  "nbformat_minor": 0,
  "metadata": {
    "kernelspec": {
      "display_name": "Python 3",
      "language": "python",
      "name": "python3"
    },
    "language_info": {
      "codemirror_mode": {
        "name": "ipython",
        "version": 3
      },
      "file_extension": ".py",
      "mimetype": "text/x-python",
      "name": "python",
      "nbconvert_exporter": "python",
      "pygments_lexer": "ipython3",
      "version": "3.7.10"
    },
    "toc": {
      "base_numbering": 1,
      "nav_menu": {},
      "number_sections": false,
      "sideBar": true,
      "skip_h1_title": false,
      "title_cell": "Table of Contents",
      "title_sidebar": "Contents",
      "toc_cell": false,
      "toc_position": {
        "height": "calc(100% - 180px)",
        "left": "10px",
        "top": "150px",
        "width": "383.997px"
      },
      "toc_section_display": true,
      "toc_window_display": false
    },
    "varInspector": {
      "cols": {
        "lenName": 16,
        "lenType": 16,
        "lenVar": 40
      },
      "kernels_config": {
        "python": {
          "delete_cmd_postfix": "",
          "delete_cmd_prefix": "del ",
          "library": "var_list.py",
          "varRefreshCmd": "print(var_dic_list())"
        },
        "r": {
          "delete_cmd_postfix": ") ",
          "delete_cmd_prefix": "rm(",
          "library": "var_list.r",
          "varRefreshCmd": "cat(var_dic_list()) "
        }
      },
      "types_to_exclude": [
        "module",
        "function",
        "builtin_function_or_method",
        "instance",
        "_Feature"
      ],
      "window_display": false
    },
    "colab": {
      "name": "TermProject.ipynb",
      "provenance": [],
      "collapsed_sections": [],
      "include_colab_link": true
    }
  },
  "cells": [
    {
      "cell_type": "markdown",
      "metadata": {
        "id": "view-in-github",
        "colab_type": "text"
      },
      "source": [
        "<a href=\"https://colab.research.google.com/github/Haebuk/dataminingTP/blob/main/TermProject.ipynb\" target=\"_parent\"><img src=\"https://colab.research.google.com/assets/colab-badge.svg\" alt=\"Open In Colab\"/></a>"
      ]
    },
    {
      "cell_type": "markdown",
      "metadata": {
        "id": "smxWmS7tyuRz"
      },
      "source": [
        "# 아파트 실거래가 예측"
      ]
    },
    {
      "cell_type": "code",
      "metadata": {
        "ExecuteTime": {
          "end_time": "2021-05-07T07:45:27.255997Z",
          "start_time": "2021-05-07T07:45:27.249992Z"
        },
        "id": "gUwouTkEyuR3"
      },
      "source": [
        "import pandas as pd\n",
        "import numpy as np\n",
        "import matplotlib.pyplot as plt\n",
        "import warnings\n",
        "import seaborn as sns\n",
        "import statsmodels.api as sm\n",
        "import statsmodels.formula.api as smf\n",
        "from tqdm import tqdm\n",
        "\n",
        "warnings.filterwarnings('ignore')\n",
        "plt.rcParams['font.family'] = 'Malgun Gothic'\n",
        "plt.style.use('ggplot')"
      ],
      "execution_count": null,
      "outputs": []
    },
    {
      "cell_type": "markdown",
      "metadata": {
        "id": "1TRIEY3TyuR4"
      },
      "source": [
        "## Data Load"
      ]
    },
    {
      "cell_type": "code",
      "metadata": {
        "colab": {
          "base_uri": "https://localhost:8080/"
        },
        "id": "A3u9N6k6y0QQ",
        "outputId": "0500ca03-9923-4dce-b339-2052552b1e16"
      },
      "source": [
        "from google.colab import drive\n",
        "drive.mount('/content/drive')"
      ],
      "execution_count": null,
      "outputs": [
        {
          "output_type": "stream",
          "text": [
            "Drive already mounted at /content/drive; to attempt to forcibly remount, call drive.mount(\"/content/drive\", force_remount=True).\n"
          ],
          "name": "stdout"
        }
      ]
    },
    {
      "cell_type": "code",
      "metadata": {
        "ExecuteTime": {
          "end_time": "2021-05-07T07:45:29.061641Z",
          "start_time": "2021-05-07T07:45:27.256998Z"
        },
        "id": "nWFpn1T3yuR5"
      },
      "source": [
        "PATH = '/content/drive/MyDrive/input/dataminingTP/'\n",
        "train_df = pd.read_csv(PATH + 'train.csv')\n",
        "test_df = pd.read_csv(PATH + 'test.csv')\n",
        "park_df = pd.read_csv(PATH + 'park.csv')\n",
        "center_df = pd.read_csv(PATH + 'day_care_center.csv')"
      ],
      "execution_count": null,
      "outputs": []
    },
    {
      "cell_type": "code",
      "metadata": {
        "ExecuteTime": {
          "end_time": "2021-05-07T07:45:29.093670Z",
          "start_time": "2021-05-07T07:45:29.062642Z"
        },
        "scrolled": true,
        "id": "tFwiJ6ShyuR5"
      },
      "source": [
        "seoul_df = train_df[train_df['city'] == '서울특별시']\n",
        "busan_df = train_df[train_df['city'] == '부산광역시']\n",
        "seoul_te = test_df[train_df['city'] == '서울특별시']\n",
        "busan_te = test_df[train_df['city'] == '부산광역시']"
      ],
      "execution_count": null,
      "outputs": []
    },
    {
      "cell_type": "code",
      "metadata": {
        "colab": {
          "base_uri": "https://localhost:8080/",
          "height": 310
        },
        "id": "KxkiBnKkeV2i",
        "outputId": "4529f401-da7b-4b75-efca-3cbda143f10f"
      },
      "source": [
        "seoul_df.head(3)"
      ],
      "execution_count": null,
      "outputs": [
        {
          "output_type": "execute_result",
          "data": {
            "text/html": [
              "<div>\n",
              "<style scoped>\n",
              "    .dataframe tbody tr th:only-of-type {\n",
              "        vertical-align: middle;\n",
              "    }\n",
              "\n",
              "    .dataframe tbody tr th {\n",
              "        vertical-align: top;\n",
              "    }\n",
              "\n",
              "    .dataframe thead th {\n",
              "        text-align: right;\n",
              "    }\n",
              "</style>\n",
              "<table border=\"1\" class=\"dataframe\">\n",
              "  <thead>\n",
              "    <tr style=\"text-align: right;\">\n",
              "      <th></th>\n",
              "      <th>transaction_id</th>\n",
              "      <th>apartment_id</th>\n",
              "      <th>city</th>\n",
              "      <th>dong</th>\n",
              "      <th>jibun</th>\n",
              "      <th>apt</th>\n",
              "      <th>addr_kr</th>\n",
              "      <th>exclusive_use_area</th>\n",
              "      <th>year_of_completion</th>\n",
              "      <th>transaction_year_month</th>\n",
              "      <th>transaction_date</th>\n",
              "      <th>floor</th>\n",
              "      <th>transaction_real_price</th>\n",
              "    </tr>\n",
              "  </thead>\n",
              "  <tbody>\n",
              "    <tr>\n",
              "      <th>0</th>\n",
              "      <td>0</td>\n",
              "      <td>7622</td>\n",
              "      <td>서울특별시</td>\n",
              "      <td>신교동</td>\n",
              "      <td>6-13</td>\n",
              "      <td>신현(101동)</td>\n",
              "      <td>신교동 6-13 신현(101동)</td>\n",
              "      <td>84.82</td>\n",
              "      <td>2002</td>\n",
              "      <td>200801</td>\n",
              "      <td>21~31</td>\n",
              "      <td>2</td>\n",
              "      <td>37500</td>\n",
              "    </tr>\n",
              "    <tr>\n",
              "      <th>1</th>\n",
              "      <td>1</td>\n",
              "      <td>5399</td>\n",
              "      <td>서울특별시</td>\n",
              "      <td>필운동</td>\n",
              "      <td>142</td>\n",
              "      <td>사직파크맨션</td>\n",
              "      <td>필운동 142 사직파크맨션</td>\n",
              "      <td>99.17</td>\n",
              "      <td>1973</td>\n",
              "      <td>200801</td>\n",
              "      <td>1~10</td>\n",
              "      <td>6</td>\n",
              "      <td>20000</td>\n",
              "    </tr>\n",
              "    <tr>\n",
              "      <th>2</th>\n",
              "      <td>2</td>\n",
              "      <td>3578</td>\n",
              "      <td>서울특별시</td>\n",
              "      <td>필운동</td>\n",
              "      <td>174-1</td>\n",
              "      <td>두레엘리시안</td>\n",
              "      <td>필운동 174-1 두레엘리시안</td>\n",
              "      <td>84.74</td>\n",
              "      <td>2007</td>\n",
              "      <td>200801</td>\n",
              "      <td>1~10</td>\n",
              "      <td>6</td>\n",
              "      <td>38500</td>\n",
              "    </tr>\n",
              "  </tbody>\n",
              "</table>\n",
              "</div>"
            ],
            "text/plain": [
              "   transaction_id  apartment_id  ... floor transaction_real_price\n",
              "0               0          7622  ...     2                  37500\n",
              "1               1          5399  ...     6                  20000\n",
              "2               2          3578  ...     6                  38500\n",
              "\n",
              "[3 rows x 13 columns]"
            ]
          },
          "metadata": {
            "tags": []
          },
          "execution_count": 253
        }
      ]
    },
    {
      "cell_type": "markdown",
      "metadata": {
        "id": "rFlOm3HTyuR6"
      },
      "source": [
        "- exclusive_use_area: 전용면적(한 세대만 독점적으로 사용하는 공간)\n",
        "- transaction_real_price: 실거래가(단위:만원, 타겟 값, train만 존재)\n",
        "- transaction_year_month: 거래년월\n",
        "- transaction_date: 거래일\n",
        "- floor: 층 \n",
        "\n",
        "- 데이터가 거래시간 순으로 이루어져 있음"
      ]
    },
    {
      "cell_type": "markdown",
      "metadata": {
        "id": "1oGM0cPpyuR7"
      },
      "source": [
        "## Preprocessing\n",
        "### Train and Test set"
      ]
    },
    {
      "cell_type": "code",
      "metadata": {
        "ExecuteTime": {
          "end_time": "2021-05-07T07:45:29.365917Z",
          "start_time": "2021-05-07T07:45:29.094671Z"
        },
        "scrolled": false,
        "colab": {
          "base_uri": "https://localhost:8080/",
          "height": 310
        },
        "id": "ptHosUTEyuR7",
        "outputId": "9ae9cf54-05c0-4c91-b301-cb9f8d55f2db"
      },
      "source": [
        "train_df.describe() "
      ],
      "execution_count": null,
      "outputs": [
        {
          "output_type": "execute_result",
          "data": {
            "text/html": [
              "<div>\n",
              "<style scoped>\n",
              "    .dataframe tbody tr th:only-of-type {\n",
              "        vertical-align: middle;\n",
              "    }\n",
              "\n",
              "    .dataframe tbody tr th {\n",
              "        vertical-align: top;\n",
              "    }\n",
              "\n",
              "    .dataframe thead th {\n",
              "        text-align: right;\n",
              "    }\n",
              "</style>\n",
              "<table border=\"1\" class=\"dataframe\">\n",
              "  <thead>\n",
              "    <tr style=\"text-align: right;\">\n",
              "      <th></th>\n",
              "      <th>transaction_id</th>\n",
              "      <th>apartment_id</th>\n",
              "      <th>exclusive_use_area</th>\n",
              "      <th>year_of_completion</th>\n",
              "      <th>transaction_year_month</th>\n",
              "      <th>floor</th>\n",
              "      <th>transaction_real_price</th>\n",
              "    </tr>\n",
              "  </thead>\n",
              "  <tbody>\n",
              "    <tr>\n",
              "      <th>count</th>\n",
              "      <td>1.216553e+06</td>\n",
              "      <td>1.216553e+06</td>\n",
              "      <td>1.216553e+06</td>\n",
              "      <td>1.216553e+06</td>\n",
              "      <td>1.216553e+06</td>\n",
              "      <td>1.216553e+06</td>\n",
              "      <td>1.216553e+06</td>\n",
              "    </tr>\n",
              "    <tr>\n",
              "      <th>mean</th>\n",
              "      <td>6.091530e+05</td>\n",
              "      <td>6.299685e+03</td>\n",
              "      <td>7.816549e+01</td>\n",
              "      <td>1.998297e+03</td>\n",
              "      <td>2.012984e+05</td>\n",
              "      <td>9.343291e+00</td>\n",
              "      <td>3.822769e+04</td>\n",
              "    </tr>\n",
              "    <tr>\n",
              "      <th>std</th>\n",
              "      <td>3.526198e+05</td>\n",
              "      <td>3.581169e+03</td>\n",
              "      <td>2.915113e+01</td>\n",
              "      <td>8.941347e+00</td>\n",
              "      <td>2.905732e+02</td>\n",
              "      <td>6.606500e+00</td>\n",
              "      <td>3.104898e+04</td>\n",
              "    </tr>\n",
              "    <tr>\n",
              "      <th>min</th>\n",
              "      <td>0.000000e+00</td>\n",
              "      <td>0.000000e+00</td>\n",
              "      <td>9.260000e+00</td>\n",
              "      <td>1.961000e+03</td>\n",
              "      <td>2.008010e+05</td>\n",
              "      <td>-4.000000e+00</td>\n",
              "      <td>1.000000e+02</td>\n",
              "    </tr>\n",
              "    <tr>\n",
              "      <th>25%</th>\n",
              "      <td>3.041380e+05</td>\n",
              "      <td>3.345000e+03</td>\n",
              "      <td>5.976000e+01</td>\n",
              "      <td>1.993000e+03</td>\n",
              "      <td>2.010100e+05</td>\n",
              "      <td>4.000000e+00</td>\n",
              "      <td>1.900000e+04</td>\n",
              "    </tr>\n",
              "    <tr>\n",
              "      <th>50%</th>\n",
              "      <td>6.082760e+05</td>\n",
              "      <td>5.964000e+03</td>\n",
              "      <td>8.241000e+01</td>\n",
              "      <td>1.999000e+03</td>\n",
              "      <td>2.013120e+05</td>\n",
              "      <td>8.000000e+00</td>\n",
              "      <td>3.090000e+04</td>\n",
              "    </tr>\n",
              "    <tr>\n",
              "      <th>75%</th>\n",
              "      <td>9.124140e+05</td>\n",
              "      <td>9.436000e+03</td>\n",
              "      <td>8.497000e+01</td>\n",
              "      <td>2.005000e+03</td>\n",
              "      <td>2.015110e+05</td>\n",
              "      <td>1.300000e+01</td>\n",
              "      <td>4.700000e+04</td>\n",
              "    </tr>\n",
              "    <tr>\n",
              "      <th>max</th>\n",
              "      <td>1.234827e+06</td>\n",
              "      <td>1.265800e+04</td>\n",
              "      <td>4.243200e+02</td>\n",
              "      <td>2.017000e+03</td>\n",
              "      <td>2.017110e+05</td>\n",
              "      <td>8.000000e+01</td>\n",
              "      <td>8.200000e+05</td>\n",
              "    </tr>\n",
              "  </tbody>\n",
              "</table>\n",
              "</div>"
            ],
            "text/plain": [
              "       transaction_id  apartment_id  ...         floor  transaction_real_price\n",
              "count    1.216553e+06  1.216553e+06  ...  1.216553e+06            1.216553e+06\n",
              "mean     6.091530e+05  6.299685e+03  ...  9.343291e+00            3.822769e+04\n",
              "std      3.526198e+05  3.581169e+03  ...  6.606500e+00            3.104898e+04\n",
              "min      0.000000e+00  0.000000e+00  ... -4.000000e+00            1.000000e+02\n",
              "25%      3.041380e+05  3.345000e+03  ...  4.000000e+00            1.900000e+04\n",
              "50%      6.082760e+05  5.964000e+03  ...  8.000000e+00            3.090000e+04\n",
              "75%      9.124140e+05  9.436000e+03  ...  1.300000e+01            4.700000e+04\n",
              "max      1.234827e+06  1.265800e+04  ...  8.000000e+01            8.200000e+05\n",
              "\n",
              "[8 rows x 7 columns]"
            ]
          },
          "metadata": {
            "tags": []
          },
          "execution_count": 254
        }
      ]
    },
    {
      "cell_type": "code",
      "metadata": {
        "ExecuteTime": {
          "end_time": "2021-05-07T07:45:29.573106Z",
          "start_time": "2021-05-07T07:45:29.366919Z"
        },
        "colab": {
          "base_uri": "https://localhost:8080/"
        },
        "id": "GqBnjIEryuR8",
        "outputId": "21d4bf51-8963-4573-bf9c-31a700d52280"
      },
      "source": [
        "train_df.info()"
      ],
      "execution_count": null,
      "outputs": [
        {
          "output_type": "stream",
          "text": [
            "<class 'pandas.core.frame.DataFrame'>\n",
            "RangeIndex: 1216553 entries, 0 to 1216552\n",
            "Data columns (total 13 columns):\n",
            " #   Column                  Non-Null Count    Dtype  \n",
            "---  ------                  --------------    -----  \n",
            " 0   transaction_id          1216553 non-null  int64  \n",
            " 1   apartment_id            1216553 non-null  int64  \n",
            " 2   city                    1216553 non-null  object \n",
            " 3   dong                    1216553 non-null  object \n",
            " 4   jibun                   1216553 non-null  object \n",
            " 5   apt                     1216553 non-null  object \n",
            " 6   addr_kr                 1216553 non-null  object \n",
            " 7   exclusive_use_area      1216553 non-null  float64\n",
            " 8   year_of_completion      1216553 non-null  int64  \n",
            " 9   transaction_year_month  1216553 non-null  int64  \n",
            " 10  transaction_date        1216553 non-null  object \n",
            " 11  floor                   1216553 non-null  int64  \n",
            " 12  transaction_real_price  1216553 non-null  int64  \n",
            "dtypes: float64(1), int64(6), object(6)\n",
            "memory usage: 120.7+ MB\n"
          ],
          "name": "stdout"
        }
      ]
    },
    {
      "cell_type": "markdown",
      "metadata": {
        "id": "cPo0KrA4yuR8"
      },
      "source": [
        "- train_df 결측치는 없음\n",
        "- 1961년 ~ 2017년 완공 건물\n",
        "- 9.26m^2 ~ 424.32m^2 전용면적\n",
        "- Floor의 경우 음의 값 존재.\n",
        "- 실거래가는 100만원부터 820억까지 존재"
      ]
    },
    {
      "cell_type": "code",
      "metadata": {
        "ExecuteTime": {
          "end_time": "2021-05-07T07:45:29.589121Z",
          "start_time": "2021-05-07T07:45:29.574107Z"
        },
        "scrolled": true,
        "colab": {
          "base_uri": "https://localhost:8080/",
          "height": 149
        },
        "id": "1FwiQwyXyuR8",
        "outputId": "f46440f5-b949-409c-a2f9-33075d7e0839"
      },
      "source": [
        "train_df.loc[train_df['transaction_real_price']==820000]"
      ],
      "execution_count": null,
      "outputs": [
        {
          "output_type": "execute_result",
          "data": {
            "text/html": [
              "<div>\n",
              "<style scoped>\n",
              "    .dataframe tbody tr th:only-of-type {\n",
              "        vertical-align: middle;\n",
              "    }\n",
              "\n",
              "    .dataframe tbody tr th {\n",
              "        vertical-align: top;\n",
              "    }\n",
              "\n",
              "    .dataframe thead th {\n",
              "        text-align: right;\n",
              "    }\n",
              "</style>\n",
              "<table border=\"1\" class=\"dataframe\">\n",
              "  <thead>\n",
              "    <tr style=\"text-align: right;\">\n",
              "      <th></th>\n",
              "      <th>transaction_id</th>\n",
              "      <th>apartment_id</th>\n",
              "      <th>city</th>\n",
              "      <th>dong</th>\n",
              "      <th>jibun</th>\n",
              "      <th>apt</th>\n",
              "      <th>addr_kr</th>\n",
              "      <th>exclusive_use_area</th>\n",
              "      <th>year_of_completion</th>\n",
              "      <th>transaction_year_month</th>\n",
              "      <th>transaction_date</th>\n",
              "      <th>floor</th>\n",
              "      <th>transaction_real_price</th>\n",
              "    </tr>\n",
              "  </thead>\n",
              "  <tbody>\n",
              "    <tr>\n",
              "      <th>23603</th>\n",
              "      <td>23603</td>\n",
              "      <td>11320</td>\n",
              "      <td>서울특별시</td>\n",
              "      <td>한남동</td>\n",
              "      <td>810</td>\n",
              "      <td>한남더힐</td>\n",
              "      <td>한남동 810 한남더힐</td>\n",
              "      <td>244.749</td>\n",
              "      <td>2011</td>\n",
              "      <td>201612</td>\n",
              "      <td>21~31</td>\n",
              "      <td>3</td>\n",
              "      <td>820000</td>\n",
              "    </tr>\n",
              "  </tbody>\n",
              "</table>\n",
              "</div>"
            ],
            "text/plain": [
              "       transaction_id  apartment_id  ... floor transaction_real_price\n",
              "23603           23603         11320  ...     3                 820000\n",
              "\n",
              "[1 rows x 13 columns]"
            ]
          },
          "metadata": {
            "tags": []
          },
          "execution_count": 256
        }
      ]
    },
    {
      "cell_type": "markdown",
      "metadata": {
        "id": "VF5P_T3_yuR9"
      },
      "source": [
        "#### Price"
      ]
    },
    {
      "cell_type": "code",
      "metadata": {
        "ExecuteTime": {
          "end_time": "2021-05-07T07:45:29.733252Z",
          "start_time": "2021-05-07T07:45:29.590122Z"
        },
        "scrolled": true,
        "colab": {
          "base_uri": "https://localhost:8080/",
          "height": 299
        },
        "id": "LBVn1yB1yuR9",
        "outputId": "30a2676b-1736-464f-8a19-d70c384f5d15"
      },
      "source": [
        "# train price\n",
        "plt.figure()\n",
        "plt.hist(train_df['transaction_real_price'], bins=30)\n",
        "plt.xlabel('Price(10000 won)')\n",
        "plt.ylabel('Count')\n",
        "plt.title('Distribution of Price')\n",
        "plt.show()"
      ],
      "execution_count": null,
      "outputs": [
        {
          "output_type": "display_data",
          "data": {
            "image/png": "[encoded data removed]",
            "text/plain": [
              "<Figure size 432x288 with 1 Axes>"
            ]
          },
          "metadata": {
            "tags": []
          }
        }
      ]
    },
    {
      "cell_type": "markdown",
      "metadata": {
        "id": "ZLsEvIOVyuR-"
      },
      "source": [
        "- 가격의 분포가 매우 왼쪽으로 치우친 것을 확인할 수 있음\n",
        "- 타겟 변수의 이상치가 회귀모형을 사용한 예측에 큰 영향을 줄 수 있음\n",
        "    - 로그 변환으로 정규화한뒤, 나중에 다시 역변환"
      ]
    },
    {
      "cell_type": "code",
      "metadata": {
        "colab": {
          "base_uri": "https://localhost:8080/",
          "height": 265
        },
        "id": "jANAQVK291VZ",
        "outputId": "e7468cfc-fa68-4e42-acc8-7e8ca233d8df"
      },
      "source": [
        "fig, ax = plt.subplots()\n",
        "ax.scatter(train_df['exclusive_use_area'], train_df['transaction_real_price'])\n",
        "plt.show()"
      ],
      "execution_count": null,
      "outputs": [
        {
          "output_type": "display_data",
          "data": {
            "image/png": "[encoded data removed]",
            "text/plain": [
              "<Figure size 432x288 with 1 Axes>"
            ]
          },
          "metadata": {
            "tags": []
          }
        }
      ]
    },
    {
      "cell_type": "markdown",
      "metadata": {
        "id": "RHedg_p5yuR-"
      },
      "source": [
        "#### Area"
      ]
    },
    {
      "cell_type": "code",
      "metadata": {
        "ExecuteTime": {
          "end_time": "2021-05-07T07:45:30.037529Z",
          "start_time": "2021-05-07T07:45:29.735254Z"
        },
        "scrolled": false,
        "colab": {
          "base_uri": "https://localhost:8080/",
          "height": 299
        },
        "id": "EKSc4UJ6yuR-",
        "outputId": "6d9c8add-cdf0-4654-80e9-c2b2be6277f4"
      },
      "source": [
        "# train area\n",
        "plt.figure()\n",
        "plt.hist(train_df['exclusive_use_area'], bins=30)\n",
        "plt.xlabel('Area(Square meter)')\n",
        "plt.ylabel('Count')\n",
        "plt.title('Distribution of Area')\n",
        "plt.show()"
      ],
      "execution_count": null,
      "outputs": [
        {
          "output_type": "display_data",
          "data": {
            "image/png": "[encoded data removed]",
            "text/plain": [
              "<Figure size 432x288 with 1 Axes>"
            ]
          },
          "metadata": {
            "tags": []
          }
        }
      ]
    },
    {
      "cell_type": "markdown",
      "metadata": {
        "id": "cYJjrc0nyuR_"
      },
      "source": [
        "- 면적도 마찬가지로 정규화"
      ]
    },
    {
      "cell_type": "markdown",
      "metadata": {
        "id": "yXr3AT8wyuR_"
      },
      "source": [
        "#### What is Underground Floor ?"
      ]
    },
    {
      "cell_type": "code",
      "metadata": {
        "ExecuteTime": {
          "end_time": "2021-05-07T07:45:30.053544Z",
          "start_time": "2021-05-07T07:45:30.038530Z"
        },
        "colab": {
          "base_uri": "https://localhost:8080/"
        },
        "id": "7v-CwYKuyuR_",
        "outputId": "0098ad17-c89f-4380-eb36-649447df5d67"
      },
      "source": [
        "under_floor = train_df.loc[train_df['floor']<0]\n",
        "print(f'총 {under_floor.shape[0]}개의 음수 층 있음')\n",
        "print(under_floor['floor'].value_counts())"
      ],
      "execution_count": null,
      "outputs": [
        {
          "output_type": "stream",
          "text": [
            "총 168개의 음수 층 있음\n",
            "-1    140\n",
            "-2     17\n",
            "-3      7\n",
            "-4      4\n",
            "Name: floor, dtype: int64\n"
          ],
          "name": "stdout"
        }
      ]
    },
    {
      "cell_type": "markdown",
      "metadata": {
        "id": "-sc_6uJByuSA"
      },
      "source": [
        "- 168개의 지하층이 존재함"
      ]
    },
    {
      "cell_type": "code",
      "metadata": {
        "ExecuteTime": {
          "end_time": "2021-05-07T07:45:30.148630Z",
          "start_time": "2021-05-07T07:45:30.054545Z"
        },
        "colab": {
          "base_uri": "https://localhost:8080/",
          "height": 282
        },
        "id": "N9tHsIn7yuSA",
        "outputId": "d99de0b0-69e0-490c-a223-1a4497f00161"
      },
      "source": [
        "plt.figure()\n",
        "sns.countplot(under_floor['floor'])\n",
        "plt.title('')\n",
        "plt.show()"
      ],
      "execution_count": null,
      "outputs": [
        {
          "output_type": "display_data",
          "data": {
            "image/png": "[encoded data removed]",
            "text/plain": [
              "<Figure size 432x288 with 1 Axes>"
            ]
          },
          "metadata": {
            "tags": []
          }
        }
      ]
    },
    {
      "cell_type": "code",
      "metadata": {
        "ExecuteTime": {
          "end_time": "2021-05-07T07:45:30.164645Z",
          "start_time": "2021-05-07T07:45:30.149631Z"
        },
        "scrolled": true,
        "colab": {
          "base_uri": "https://localhost:8080/",
          "height": 109
        },
        "id": "4XHFHbTwyuSA",
        "outputId": "851107c6-9504-4717-c891-a0e0acd5fe41"
      },
      "source": [
        "under_floor[['floor', 'transaction_real_price']].corr()"
      ],
      "execution_count": null,
      "outputs": [
        {
          "output_type": "execute_result",
          "data": {
            "text/html": [
              "<div>\n",
              "<style scoped>\n",
              "    .dataframe tbody tr th:only-of-type {\n",
              "        vertical-align: middle;\n",
              "    }\n",
              "\n",
              "    .dataframe tbody tr th {\n",
              "        vertical-align: top;\n",
              "    }\n",
              "\n",
              "    .dataframe thead th {\n",
              "        text-align: right;\n",
              "    }\n",
              "</style>\n",
              "<table border=\"1\" class=\"dataframe\">\n",
              "  <thead>\n",
              "    <tr style=\"text-align: right;\">\n",
              "      <th></th>\n",
              "      <th>floor</th>\n",
              "      <th>transaction_real_price</th>\n",
              "    </tr>\n",
              "  </thead>\n",
              "  <tbody>\n",
              "    <tr>\n",
              "      <th>floor</th>\n",
              "      <td>1.000000</td>\n",
              "      <td>-0.126958</td>\n",
              "    </tr>\n",
              "    <tr>\n",
              "      <th>transaction_real_price</th>\n",
              "      <td>-0.126958</td>\n",
              "      <td>1.000000</td>\n",
              "    </tr>\n",
              "  </tbody>\n",
              "</table>\n",
              "</div>"
            ],
            "text/plain": [
              "                           floor  transaction_real_price\n",
              "floor                   1.000000               -0.126958\n",
              "transaction_real_price -0.126958                1.000000"
            ]
          },
          "metadata": {
            "tags": []
          },
          "execution_count": 261
        }
      ]
    },
    {
      "cell_type": "markdown",
      "metadata": {
        "id": "RIiUZVrAyuSB"
      },
      "source": [
        "층수와 가격간의 선형 설명력이 어느정도 존재하기 때문에 제거하지 않는다."
      ]
    },
    {
      "cell_type": "code",
      "metadata": {
        "ExecuteTime": {
          "end_time": "2021-05-07T07:45:30.180659Z",
          "start_time": "2021-05-07T07:45:30.165646Z"
        },
        "scrolled": false,
        "colab": {
          "base_uri": "https://localhost:8080/",
          "height": 284
        },
        "id": "76cWMq-FyuSB",
        "outputId": "f7568e77-2b9b-435e-ec8b-bf1e76ef225e"
      },
      "source": [
        "test_df.head()"
      ],
      "execution_count": null,
      "outputs": [
        {
          "output_type": "execute_result",
          "data": {
            "text/html": [
              "<div>\n",
              "<style scoped>\n",
              "    .dataframe tbody tr th:only-of-type {\n",
              "        vertical-align: middle;\n",
              "    }\n",
              "\n",
              "    .dataframe tbody tr th {\n",
              "        vertical-align: top;\n",
              "    }\n",
              "\n",
              "    .dataframe thead th {\n",
              "        text-align: right;\n",
              "    }\n",
              "</style>\n",
              "<table border=\"1\" class=\"dataframe\">\n",
              "  <thead>\n",
              "    <tr style=\"text-align: right;\">\n",
              "      <th></th>\n",
              "      <th>transaction_id</th>\n",
              "      <th>apartment_id</th>\n",
              "      <th>city</th>\n",
              "      <th>dong</th>\n",
              "      <th>jibun</th>\n",
              "      <th>apt</th>\n",
              "      <th>addr_kr</th>\n",
              "      <th>exclusive_use_area</th>\n",
              "      <th>year_of_completion</th>\n",
              "      <th>transaction_year_month</th>\n",
              "      <th>transaction_date</th>\n",
              "      <th>floor</th>\n",
              "    </tr>\n",
              "  </thead>\n",
              "  <tbody>\n",
              "    <tr>\n",
              "      <th>0</th>\n",
              "      <td>1145756</td>\n",
              "      <td>10453</td>\n",
              "      <td>서울특별시</td>\n",
              "      <td>목동</td>\n",
              "      <td>938</td>\n",
              "      <td>청학</td>\n",
              "      <td>목동 938 청학</td>\n",
              "      <td>35.5500</td>\n",
              "      <td>2002</td>\n",
              "      <td>201711</td>\n",
              "      <td>11~20</td>\n",
              "      <td>2</td>\n",
              "    </tr>\n",
              "    <tr>\n",
              "      <th>1</th>\n",
              "      <td>1198704</td>\n",
              "      <td>989</td>\n",
              "      <td>부산광역시</td>\n",
              "      <td>초량동</td>\n",
              "      <td>1143-8</td>\n",
              "      <td>고관맨션</td>\n",
              "      <td>초량동 1143-8 고관맨션</td>\n",
              "      <td>68.7200</td>\n",
              "      <td>1977</td>\n",
              "      <td>201708</td>\n",
              "      <td>21~31</td>\n",
              "      <td>2</td>\n",
              "    </tr>\n",
              "    <tr>\n",
              "      <th>2</th>\n",
              "      <td>1222384</td>\n",
              "      <td>8597</td>\n",
              "      <td>부산광역시</td>\n",
              "      <td>괴정동</td>\n",
              "      <td>447-13</td>\n",
              "      <td>우림그린</td>\n",
              "      <td>괴정동 447-13 우림그린</td>\n",
              "      <td>72.5400</td>\n",
              "      <td>1989</td>\n",
              "      <td>201710</td>\n",
              "      <td>11~20</td>\n",
              "      <td>2</td>\n",
              "    </tr>\n",
              "    <tr>\n",
              "      <th>3</th>\n",
              "      <td>1179897</td>\n",
              "      <td>11086</td>\n",
              "      <td>서울특별시</td>\n",
              "      <td>대치동</td>\n",
              "      <td>1007-2</td>\n",
              "      <td>풍림아이원4차(1007-2)</td>\n",
              "      <td>대치동 1007-2 풍림아이원4차(1007-2)</td>\n",
              "      <td>111.5400</td>\n",
              "      <td>2004</td>\n",
              "      <td>201707</td>\n",
              "      <td>1~10</td>\n",
              "      <td>10</td>\n",
              "    </tr>\n",
              "    <tr>\n",
              "      <th>4</th>\n",
              "      <td>1223091</td>\n",
              "      <td>2121</td>\n",
              "      <td>부산광역시</td>\n",
              "      <td>다대동</td>\n",
              "      <td>1670</td>\n",
              "      <td>다대롯데캐슬블루</td>\n",
              "      <td>다대동 1670 다대롯데캐슬블루</td>\n",
              "      <td>119.6398</td>\n",
              "      <td>2014</td>\n",
              "      <td>201712</td>\n",
              "      <td>11~20</td>\n",
              "      <td>21</td>\n",
              "    </tr>\n",
              "  </tbody>\n",
              "</table>\n",
              "</div>"
            ],
            "text/plain": [
              "   transaction_id  apartment_id  ... transaction_date floor\n",
              "0         1145756         10453  ...            11~20     2\n",
              "1         1198704           989  ...            21~31     2\n",
              "2         1222384          8597  ...            11~20     2\n",
              "3         1179897         11086  ...             1~10    10\n",
              "4         1223091          2121  ...            11~20    21\n",
              "\n",
              "[5 rows x 12 columns]"
            ]
          },
          "metadata": {
            "tags": []
          },
          "execution_count": 262
        }
      ]
    },
    {
      "cell_type": "code",
      "metadata": {
        "ExecuteTime": {
          "end_time": "2021-05-07T07:45:30.212688Z",
          "start_time": "2021-05-07T07:45:30.181661Z"
        },
        "colab": {
          "base_uri": "https://localhost:8080/",
          "height": 290
        },
        "id": "wNN4kadZyuSB",
        "outputId": "4436c846-5f90-434d-eee5-001e482cff1f"
      },
      "source": [
        "test_df.describe()"
      ],
      "execution_count": null,
      "outputs": [
        {
          "output_type": "execute_result",
          "data": {
            "text/html": [
              "<div>\n",
              "<style scoped>\n",
              "    .dataframe tbody tr th:only-of-type {\n",
              "        vertical-align: middle;\n",
              "    }\n",
              "\n",
              "    .dataframe tbody tr th {\n",
              "        vertical-align: top;\n",
              "    }\n",
              "\n",
              "    .dataframe thead th {\n",
              "        text-align: right;\n",
              "    }\n",
              "</style>\n",
              "<table border=\"1\" class=\"dataframe\">\n",
              "  <thead>\n",
              "    <tr style=\"text-align: right;\">\n",
              "      <th></th>\n",
              "      <th>transaction_id</th>\n",
              "      <th>apartment_id</th>\n",
              "      <th>exclusive_use_area</th>\n",
              "      <th>year_of_completion</th>\n",
              "      <th>transaction_year_month</th>\n",
              "      <th>floor</th>\n",
              "    </tr>\n",
              "  </thead>\n",
              "  <tbody>\n",
              "    <tr>\n",
              "      <th>count</th>\n",
              "      <td>5.463000e+03</td>\n",
              "      <td>5463.000000</td>\n",
              "      <td>5463.000000</td>\n",
              "      <td>5463.000000</td>\n",
              "      <td>5463.000000</td>\n",
              "      <td>5463.000000</td>\n",
              "    </tr>\n",
              "    <tr>\n",
              "      <th>mean</th>\n",
              "      <td>1.167126e+06</td>\n",
              "      <td>6287.570932</td>\n",
              "      <td>79.495250</td>\n",
              "      <td>2000.431082</td>\n",
              "      <td>201710.228446</td>\n",
              "      <td>8.266886</td>\n",
              "    </tr>\n",
              "    <tr>\n",
              "      <th>std</th>\n",
              "      <td>4.075365e+04</td>\n",
              "      <td>3624.756304</td>\n",
              "      <td>32.935434</td>\n",
              "      <td>9.982040</td>\n",
              "      <td>2.798195</td>\n",
              "      <td>6.082475</td>\n",
              "    </tr>\n",
              "    <tr>\n",
              "      <th>min</th>\n",
              "      <td>1.092791e+06</td>\n",
              "      <td>12.000000</td>\n",
              "      <td>10.321500</td>\n",
              "      <td>1961.000000</td>\n",
              "      <td>201701.000000</td>\n",
              "      <td>-1.000000</td>\n",
              "    </tr>\n",
              "    <tr>\n",
              "      <th>25%</th>\n",
              "      <td>1.134296e+06</td>\n",
              "      <td>3278.000000</td>\n",
              "      <td>59.760000</td>\n",
              "      <td>1995.000000</td>\n",
              "      <td>201709.000000</td>\n",
              "      <td>4.000000</td>\n",
              "    </tr>\n",
              "    <tr>\n",
              "      <th>50%</th>\n",
              "      <td>1.167937e+06</td>\n",
              "      <td>6091.000000</td>\n",
              "      <td>81.720000</td>\n",
              "      <td>2002.000000</td>\n",
              "      <td>201712.000000</td>\n",
              "      <td>7.000000</td>\n",
              "    </tr>\n",
              "    <tr>\n",
              "      <th>75%</th>\n",
              "      <td>1.202560e+06</td>\n",
              "      <td>9416.500000</td>\n",
              "      <td>84.970000</td>\n",
              "      <td>2007.000000</td>\n",
              "      <td>201712.000000</td>\n",
              "      <td>11.000000</td>\n",
              "    </tr>\n",
              "    <tr>\n",
              "      <th>max</th>\n",
              "      <td>1.234930e+06</td>\n",
              "      <td>12652.000000</td>\n",
              "      <td>273.860000</td>\n",
              "      <td>2017.000000</td>\n",
              "      <td>201712.000000</td>\n",
              "      <td>55.000000</td>\n",
              "    </tr>\n",
              "  </tbody>\n",
              "</table>\n",
              "</div>"
            ],
            "text/plain": [
              "       transaction_id  apartment_id  ...  transaction_year_month        floor\n",
              "count    5.463000e+03   5463.000000  ...             5463.000000  5463.000000\n",
              "mean     1.167126e+06   6287.570932  ...           201710.228446     8.266886\n",
              "std      4.075365e+04   3624.756304  ...                2.798195     6.082475\n",
              "min      1.092791e+06     12.000000  ...           201701.000000    -1.000000\n",
              "25%      1.134296e+06   3278.000000  ...           201709.000000     4.000000\n",
              "50%      1.167937e+06   6091.000000  ...           201712.000000     7.000000\n",
              "75%      1.202560e+06   9416.500000  ...           201712.000000    11.000000\n",
              "max      1.234930e+06  12652.000000  ...           201712.000000    55.000000\n",
              "\n",
              "[8 rows x 6 columns]"
            ]
          },
          "metadata": {
            "tags": []
          },
          "execution_count": 263
        }
      ]
    },
    {
      "cell_type": "code",
      "metadata": {
        "ExecuteTime": {
          "end_time": "2021-05-07T07:45:30.228703Z",
          "start_time": "2021-05-07T07:45:30.213689Z"
        },
        "scrolled": true,
        "colab": {
          "base_uri": "https://localhost:8080/"
        },
        "id": "Mvj0e9OzyuSB",
        "outputId": "009bb3b3-b9ae-46a3-f197-7c197dd8a2a6"
      },
      "source": [
        "test_df.info()"
      ],
      "execution_count": null,
      "outputs": [
        {
          "output_type": "stream",
          "text": [
            "<class 'pandas.core.frame.DataFrame'>\n",
            "RangeIndex: 5463 entries, 0 to 5462\n",
            "Data columns (total 12 columns):\n",
            " #   Column                  Non-Null Count  Dtype  \n",
            "---  ------                  --------------  -----  \n",
            " 0   transaction_id          5463 non-null   int64  \n",
            " 1   apartment_id            5463 non-null   int64  \n",
            " 2   city                    5463 non-null   object \n",
            " 3   dong                    5463 non-null   object \n",
            " 4   jibun                   5463 non-null   object \n",
            " 5   apt                     5463 non-null   object \n",
            " 6   addr_kr                 5463 non-null   object \n",
            " 7   exclusive_use_area      5463 non-null   float64\n",
            " 8   year_of_completion      5463 non-null   int64  \n",
            " 9   transaction_year_month  5463 non-null   int64  \n",
            " 10  transaction_date        5463 non-null   object \n",
            " 11  floor                   5463 non-null   int64  \n",
            "dtypes: float64(1), int64(5), object(6)\n",
            "memory usage: 512.3+ KB\n"
          ],
          "name": "stdout"
        }
      ]
    },
    {
      "cell_type": "markdown",
      "metadata": {
        "id": "b3IlaU5nyuSC"
      },
      "source": [
        "- test셋에도 널값은 존재하지 않음.\n",
        "- 실거래가 변수 없음(타겟 변수)\n",
        "- 완공연도 1961년부터 2017년\n",
        "- 실거래연도는 2017년도만 존재함\n",
        "- 전용면적은 10.32m^2부터 273.86m^2까지 존재"
      ]
    },
    {
      "cell_type": "code",
      "metadata": {
        "ExecuteTime": {
          "end_time": "2021-05-07T07:45:30.355819Z",
          "start_time": "2021-05-07T07:45:30.230706Z"
        },
        "colab": {
          "base_uri": "https://localhost:8080/",
          "height": 528
        },
        "id": "sqtCxmfDyuSC",
        "outputId": "dea014d7-dc6b-415d-f979-ded95d20ca39"
      },
      "source": [
        "plt.figure(figsize=(8, 8))\n",
        "sns.countplot(test_df['transaction_year_month'])\n",
        "plt.xticks(rotation=60)\n",
        "plt.show()"
      ],
      "execution_count": null,
      "outputs": [
        {
          "output_type": "display_data",
          "data": {
            "image/png": "[encoded data removed]",
            "text/plain": [
              "<Figure size 576x576 with 1 Axes>"
            ]
          },
          "metadata": {
            "tags": []
          }
        }
      ]
    },
    {
      "cell_type": "markdown",
      "metadata": {
        "id": "3ZsGFv_jyuSC"
      },
      "source": [
        "2017년 데이터만 존재하며, 12월 데이터가 가장 많음"
      ]
    },
    {
      "cell_type": "markdown",
      "metadata": {
        "id": "1oykRqvFyuSD"
      },
      "source": [
        "### Park Data"
      ]
    },
    {
      "cell_type": "code",
      "metadata": {
        "ExecuteTime": {
          "end_time": "2021-05-07T07:45:30.371834Z",
          "start_time": "2021-05-07T07:45:30.356820Z"
        },
        "scrolled": false,
        "colab": {
          "base_uri": "https://localhost:8080/",
          "height": 368
        },
        "id": "bWf6GQvlyuSD",
        "outputId": "8b20b53b-a03b-4e08-d559-b31354af79c1"
      },
      "source": [
        "park_df.head()"
      ],
      "execution_count": null,
      "outputs": [
        {
          "output_type": "execute_result",
          "data": {
            "text/html": [
              "<div>\n",
              "<style scoped>\n",
              "    .dataframe tbody tr th:only-of-type {\n",
              "        vertical-align: middle;\n",
              "    }\n",
              "\n",
              "    .dataframe tbody tr th {\n",
              "        vertical-align: top;\n",
              "    }\n",
              "\n",
              "    .dataframe thead th {\n",
              "        text-align: right;\n",
              "    }\n",
              "</style>\n",
              "<table border=\"1\" class=\"dataframe\">\n",
              "  <thead>\n",
              "    <tr style=\"text-align: right;\">\n",
              "      <th></th>\n",
              "      <th>city</th>\n",
              "      <th>gu</th>\n",
              "      <th>dong</th>\n",
              "      <th>park_name</th>\n",
              "      <th>park_type</th>\n",
              "      <th>park_area</th>\n",
              "      <th>park_exercise_facility</th>\n",
              "      <th>park_entertainment_facility</th>\n",
              "      <th>park_benefit_facility</th>\n",
              "      <th>park_cultural_facitiy</th>\n",
              "      <th>park_facility_other</th>\n",
              "      <th>park_open_year</th>\n",
              "      <th>reference_date</th>\n",
              "    </tr>\n",
              "  </thead>\n",
              "  <tbody>\n",
              "    <tr>\n",
              "      <th>0</th>\n",
              "      <td>부산광역시</td>\n",
              "      <td>남구</td>\n",
              "      <td>대연동</td>\n",
              "      <td>대연공원</td>\n",
              "      <td>근린공원</td>\n",
              "      <td>55227.0</td>\n",
              "      <td>NaN</td>\n",
              "      <td>NaN</td>\n",
              "      <td>NaN</td>\n",
              "      <td>NaN</td>\n",
              "      <td>NaN</td>\n",
              "      <td>1944.0</td>\n",
              "      <td>2018-08-14</td>\n",
              "    </tr>\n",
              "    <tr>\n",
              "      <th>1</th>\n",
              "      <td>부산광역시</td>\n",
              "      <td>남구</td>\n",
              "      <td>대연동</td>\n",
              "      <td>당곡공원</td>\n",
              "      <td>역사공원</td>\n",
              "      <td>75465.0</td>\n",
              "      <td>NaN</td>\n",
              "      <td>NaN</td>\n",
              "      <td>NaN</td>\n",
              "      <td>NaN</td>\n",
              "      <td>NaN</td>\n",
              "      <td>1944.0</td>\n",
              "      <td>2018-08-14</td>\n",
              "    </tr>\n",
              "    <tr>\n",
              "      <th>2</th>\n",
              "      <td>부산광역시</td>\n",
              "      <td>남구</td>\n",
              "      <td>대연동</td>\n",
              "      <td>대일어린이공원</td>\n",
              "      <td>어린이공원</td>\n",
              "      <td>422.1</td>\n",
              "      <td>NaN</td>\n",
              "      <td>NaN</td>\n",
              "      <td>NaN</td>\n",
              "      <td>NaN</td>\n",
              "      <td>NaN</td>\n",
              "      <td>1965.0</td>\n",
              "      <td>2018-08-14</td>\n",
              "    </tr>\n",
              "    <tr>\n",
              "      <th>3</th>\n",
              "      <td>부산광역시</td>\n",
              "      <td>남구</td>\n",
              "      <td>대연동</td>\n",
              "      <td>못골어린이공원</td>\n",
              "      <td>어린이공원</td>\n",
              "      <td>499.8</td>\n",
              "      <td>NaN</td>\n",
              "      <td>NaN</td>\n",
              "      <td>NaN</td>\n",
              "      <td>NaN</td>\n",
              "      <td>NaN</td>\n",
              "      <td>1968.0</td>\n",
              "      <td>2018-08-14</td>\n",
              "    </tr>\n",
              "    <tr>\n",
              "      <th>4</th>\n",
              "      <td>부산광역시</td>\n",
              "      <td>남구</td>\n",
              "      <td>용호동</td>\n",
              "      <td>솔밭어린이공원</td>\n",
              "      <td>어린이공원</td>\n",
              "      <td>1500.2</td>\n",
              "      <td>NaN</td>\n",
              "      <td>NaN</td>\n",
              "      <td>NaN</td>\n",
              "      <td>NaN</td>\n",
              "      <td>NaN</td>\n",
              "      <td>1970.0</td>\n",
              "      <td>2018-08-14</td>\n",
              "    </tr>\n",
              "  </tbody>\n",
              "</table>\n",
              "</div>"
            ],
            "text/plain": [
              "    city  gu dong  ... park_facility_other park_open_year  reference_date\n",
              "0  부산광역시  남구  대연동  ...                 NaN         1944.0      2018-08-14\n",
              "1  부산광역시  남구  대연동  ...                 NaN         1944.0      2018-08-14\n",
              "2  부산광역시  남구  대연동  ...                 NaN         1965.0      2018-08-14\n",
              "3  부산광역시  남구  대연동  ...                 NaN         1968.0      2018-08-14\n",
              "4  부산광역시  남구  용호동  ...                 NaN         1970.0      2018-08-14\n",
              "\n",
              "[5 rows x 13 columns]"
            ]
          },
          "metadata": {
            "tags": []
          },
          "execution_count": 266
        }
      ]
    },
    {
      "cell_type": "markdown",
      "metadata": {
        "id": "803uhxGhyuSD"
      },
      "source": [
        "- 시설에 매우 많은 결측치가 존재함\n",
        "- 시설이 존재하면 1 없으면 0으로 값 대체\n"
      ]
    },
    {
      "cell_type": "markdown",
      "metadata": {
        "id": "zftkPUQ8yuSD"
      },
      "source": [
        "#### Null Data Replace"
      ]
    },
    {
      "cell_type": "code",
      "metadata": {
        "ExecuteTime": {
          "end_time": "2021-05-07T07:45:30.403862Z",
          "start_time": "2021-05-07T07:45:30.372834Z"
        },
        "colab": {
          "base_uri": "https://localhost:8080/",
          "height": 767
        },
        "id": "NqSa0tnFyuSE",
        "outputId": "c90d97d7-63f4-4466-f2ac-b21002dd6b14"
      },
      "source": [
        "park_df.iloc[:,6:11] = park_df.iloc[:,6:11].notnull().astype(int)\n",
        "park_df"
      ],
      "execution_count": null,
      "outputs": [
        {
          "output_type": "execute_result",
          "data": {
            "text/html": [
              "<div>\n",
              "<style scoped>\n",
              "    .dataframe tbody tr th:only-of-type {\n",
              "        vertical-align: middle;\n",
              "    }\n",
              "\n",
              "    .dataframe tbody tr th {\n",
              "        vertical-align: top;\n",
              "    }\n",
              "\n",
              "    .dataframe thead th {\n",
              "        text-align: right;\n",
              "    }\n",
              "</style>\n",
              "<table border=\"1\" class=\"dataframe\">\n",
              "  <thead>\n",
              "    <tr style=\"text-align: right;\">\n",
              "      <th></th>\n",
              "      <th>city</th>\n",
              "      <th>gu</th>\n",
              "      <th>dong</th>\n",
              "      <th>park_name</th>\n",
              "      <th>park_type</th>\n",
              "      <th>park_area</th>\n",
              "      <th>park_exercise_facility</th>\n",
              "      <th>park_entertainment_facility</th>\n",
              "      <th>park_benefit_facility</th>\n",
              "      <th>park_cultural_facitiy</th>\n",
              "      <th>park_facility_other</th>\n",
              "      <th>park_open_year</th>\n",
              "      <th>reference_date</th>\n",
              "    </tr>\n",
              "  </thead>\n",
              "  <tbody>\n",
              "    <tr>\n",
              "      <th>0</th>\n",
              "      <td>부산광역시</td>\n",
              "      <td>남구</td>\n",
              "      <td>대연동</td>\n",
              "      <td>대연공원</td>\n",
              "      <td>근린공원</td>\n",
              "      <td>55227.0</td>\n",
              "      <td>0</td>\n",
              "      <td>0</td>\n",
              "      <td>0</td>\n",
              "      <td>0</td>\n",
              "      <td>0</td>\n",
              "      <td>1944.0</td>\n",
              "      <td>2018-08-14</td>\n",
              "    </tr>\n",
              "    <tr>\n",
              "      <th>1</th>\n",
              "      <td>부산광역시</td>\n",
              "      <td>남구</td>\n",
              "      <td>대연동</td>\n",
              "      <td>당곡공원</td>\n",
              "      <td>역사공원</td>\n",
              "      <td>75465.0</td>\n",
              "      <td>0</td>\n",
              "      <td>0</td>\n",
              "      <td>0</td>\n",
              "      <td>0</td>\n",
              "      <td>0</td>\n",
              "      <td>1944.0</td>\n",
              "      <td>2018-08-14</td>\n",
              "    </tr>\n",
              "    <tr>\n",
              "      <th>2</th>\n",
              "      <td>부산광역시</td>\n",
              "      <td>남구</td>\n",
              "      <td>대연동</td>\n",
              "      <td>대일어린이공원</td>\n",
              "      <td>어린이공원</td>\n",
              "      <td>422.1</td>\n",
              "      <td>0</td>\n",
              "      <td>0</td>\n",
              "      <td>0</td>\n",
              "      <td>0</td>\n",
              "      <td>0</td>\n",
              "      <td>1965.0</td>\n",
              "      <td>2018-08-14</td>\n",
              "    </tr>\n",
              "    <tr>\n",
              "      <th>3</th>\n",
              "      <td>부산광역시</td>\n",
              "      <td>남구</td>\n",
              "      <td>대연동</td>\n",
              "      <td>못골어린이공원</td>\n",
              "      <td>어린이공원</td>\n",
              "      <td>499.8</td>\n",
              "      <td>0</td>\n",
              "      <td>0</td>\n",
              "      <td>0</td>\n",
              "      <td>0</td>\n",
              "      <td>0</td>\n",
              "      <td>1968.0</td>\n",
              "      <td>2018-08-14</td>\n",
              "    </tr>\n",
              "    <tr>\n",
              "      <th>4</th>\n",
              "      <td>부산광역시</td>\n",
              "      <td>남구</td>\n",
              "      <td>용호동</td>\n",
              "      <td>솔밭어린이공원</td>\n",
              "      <td>어린이공원</td>\n",
              "      <td>1500.2</td>\n",
              "      <td>0</td>\n",
              "      <td>0</td>\n",
              "      <td>0</td>\n",
              "      <td>0</td>\n",
              "      <td>0</td>\n",
              "      <td>1970.0</td>\n",
              "      <td>2018-08-14</td>\n",
              "    </tr>\n",
              "    <tr>\n",
              "      <th>...</th>\n",
              "      <td>...</td>\n",
              "      <td>...</td>\n",
              "      <td>...</td>\n",
              "      <td>...</td>\n",
              "      <td>...</td>\n",
              "      <td>...</td>\n",
              "      <td>...</td>\n",
              "      <td>...</td>\n",
              "      <td>...</td>\n",
              "      <td>...</td>\n",
              "      <td>...</td>\n",
              "      <td>...</td>\n",
              "      <td>...</td>\n",
              "    </tr>\n",
              "    <tr>\n",
              "      <th>1354</th>\n",
              "      <td>서울특별시</td>\n",
              "      <td>구로구</td>\n",
              "      <td>천왕동</td>\n",
              "      <td>이펜시아어린이공원</td>\n",
              "      <td>어린이공원</td>\n",
              "      <td>1500.0</td>\n",
              "      <td>0</td>\n",
              "      <td>1</td>\n",
              "      <td>0</td>\n",
              "      <td>0</td>\n",
              "      <td>0</td>\n",
              "      <td>2006.0</td>\n",
              "      <td>2019-02-25</td>\n",
              "    </tr>\n",
              "    <tr>\n",
              "      <th>1355</th>\n",
              "      <td>서울특별시</td>\n",
              "      <td>구로구</td>\n",
              "      <td>천왕동</td>\n",
              "      <td>개명소공원</td>\n",
              "      <td>소공원</td>\n",
              "      <td>5415.0</td>\n",
              "      <td>0</td>\n",
              "      <td>0</td>\n",
              "      <td>0</td>\n",
              "      <td>0</td>\n",
              "      <td>0</td>\n",
              "      <td>2006.0</td>\n",
              "      <td>2019-02-25</td>\n",
              "    </tr>\n",
              "    <tr>\n",
              "      <th>1356</th>\n",
              "      <td>서울특별시</td>\n",
              "      <td>구로구</td>\n",
              "      <td>천왕동</td>\n",
              "      <td>봉화대근린공원</td>\n",
              "      <td>근린공원</td>\n",
              "      <td>60975.0</td>\n",
              "      <td>0</td>\n",
              "      <td>0</td>\n",
              "      <td>0</td>\n",
              "      <td>0</td>\n",
              "      <td>0</td>\n",
              "      <td>2006.0</td>\n",
              "      <td>2019-02-25</td>\n",
              "    </tr>\n",
              "    <tr>\n",
              "      <th>1357</th>\n",
              "      <td>서울특별시</td>\n",
              "      <td>구로구</td>\n",
              "      <td>항동</td>\n",
              "      <td>푸른수목원</td>\n",
              "      <td>근린공원</td>\n",
              "      <td>100809.0</td>\n",
              "      <td>0</td>\n",
              "      <td>0</td>\n",
              "      <td>0</td>\n",
              "      <td>0</td>\n",
              "      <td>0</td>\n",
              "      <td>2005.0</td>\n",
              "      <td>2019-02-25</td>\n",
              "    </tr>\n",
              "    <tr>\n",
              "      <th>1358</th>\n",
              "      <td>서울특별시</td>\n",
              "      <td>구로구</td>\n",
              "      <td>오류동</td>\n",
              "      <td>오류동역문화공원</td>\n",
              "      <td>문화공원</td>\n",
              "      <td>7510.0</td>\n",
              "      <td>0</td>\n",
              "      <td>0</td>\n",
              "      <td>0</td>\n",
              "      <td>0</td>\n",
              "      <td>0</td>\n",
              "      <td>2013.0</td>\n",
              "      <td>2019-02-25</td>\n",
              "    </tr>\n",
              "  </tbody>\n",
              "</table>\n",
              "<p>1359 rows × 13 columns</p>\n",
              "</div>"
            ],
            "text/plain": [
              "       city   gu dong  ... park_facility_other park_open_year  reference_date\n",
              "0     부산광역시   남구  대연동  ...                   0         1944.0      2018-08-14\n",
              "1     부산광역시   남구  대연동  ...                   0         1944.0      2018-08-14\n",
              "2     부산광역시   남구  대연동  ...                   0         1965.0      2018-08-14\n",
              "3     부산광역시   남구  대연동  ...                   0         1968.0      2018-08-14\n",
              "4     부산광역시   남구  용호동  ...                   0         1970.0      2018-08-14\n",
              "...     ...  ...  ...  ...                 ...            ...             ...\n",
              "1354  서울특별시  구로구  천왕동  ...                   0         2006.0      2019-02-25\n",
              "1355  서울특별시  구로구  천왕동  ...                   0         2006.0      2019-02-25\n",
              "1356  서울특별시  구로구  천왕동  ...                   0         2006.0      2019-02-25\n",
              "1357  서울특별시  구로구   항동  ...                   0         2005.0      2019-02-25\n",
              "1358  서울특별시  구로구  오류동  ...                   0         2013.0      2019-02-25\n",
              "\n",
              "[1359 rows x 13 columns]"
            ]
          },
          "metadata": {
            "tags": []
          },
          "execution_count": 267
        }
      ]
    },
    {
      "cell_type": "markdown",
      "metadata": {
        "id": "KthzNmRbyuSE"
      },
      "source": [
        "#### Park Area"
      ]
    },
    {
      "cell_type": "code",
      "metadata": {
        "ExecuteTime": {
          "end_time": "2021-05-07T07:45:30.547994Z",
          "start_time": "2021-05-07T07:45:30.404864Z"
        },
        "scrolled": false,
        "colab": {
          "base_uri": "https://localhost:8080/",
          "height": 299
        },
        "id": "64y2AA46yuSE",
        "outputId": "0e974305-78ce-41d0-bf27-65198d643216"
      },
      "source": [
        "plt.figure()\n",
        "plt.hist(park_df['park_area'], bins=30)\n",
        "plt.xlabel('Area(Square meter)')\n",
        "plt.ylabel('Count')\n",
        "plt.title('Park Area Distribution')\n",
        "plt.show()"
      ],
      "execution_count": null,
      "outputs": [
        {
          "output_type": "display_data",
          "data": {
            "image/png": "[encoded data removed]",
            "text/plain": [
              "<Figure size 432x288 with 1 Axes>"
            ]
          },
          "metadata": {
            "tags": []
          }
        }
      ]
    },
    {
      "cell_type": "markdown",
      "metadata": {
        "id": "NYItBOkPyuSF"
      },
      "source": [
        "- 분포가 매우 왼쪽으로 치우친 형태\n",
        "- 공원 면적이 집 값에 영향을 미치는가?"
      ]
    },
    {
      "cell_type": "markdown",
      "metadata": {
        "id": "0ygTMhOwyuSF"
      },
      "source": [
        "#### Facility Correlation "
      ]
    },
    {
      "cell_type": "code",
      "metadata": {
        "ExecuteTime": {
          "end_time": "2021-05-07T07:45:30.756183Z",
          "start_time": "2021-05-07T07:45:30.548994Z"
        },
        "colab": {
          "base_uri": "https://localhost:8080/",
          "height": 410
        },
        "id": "YgmI9SsbyuSF",
        "outputId": "40273f0e-e93e-469e-dc53-27ff5635fb55"
      },
      "source": [
        "facility = park_df.iloc[:,6:11]\n",
        "plt.figure()\n",
        "sns.heatmap(facility.corr(), annot=True)\n",
        "plt.title('Facility Corr. Heatmap')\n",
        "plt.show()"
      ],
      "execution_count": null,
      "outputs": [
        {
          "output_type": "display_data",
          "data": {
            "image/png": "[encoded data removed]",
            "text/plain": [
              "<Figure size 432x288 with 2 Axes>"
            ]
          },
          "metadata": {
            "tags": []
          }
        }
      ]
    },
    {
      "cell_type": "markdown",
      "metadata": {
        "id": "m5s1s81fyuSG"
      },
      "source": [
        "- 공원 시설 간 어느정도 관계는 있으나 다중공선성은 없다고 판단됨."
      ]
    },
    {
      "cell_type": "code",
      "metadata": {
        "id": "o4tSQ1m5T3D-"
      },
      "source": [
        "park_seoul = park_df[park_df['city']=='서울특별시']\n",
        "park_busan = park_df[park_df['city']=='부산광역시']"
      ],
      "execution_count": null,
      "outputs": []
    },
    {
      "cell_type": "code",
      "metadata": {
        "id": "ezTO3EL3U0qy"
      },
      "source": [
        "dong_list =  list(park_seoul['dong'].value_counts().index)\n",
        "dong_counts =  list(park_seoul['dong'].value_counts().values)\n",
        "\n",
        "def fill_dong(df, park_df):\n",
        "    df['count'] = 0\n",
        "    dong_dict = {}\n",
        "    dong_list = list(park_df['dong'].value_counts().index)\n",
        "    dong_counts = list(park_df['dong'].value_counts().values)\n",
        "    for i, j in zip(dong_list, dong_counts):\n",
        "        dong_dict[i] = j\n",
        "    dong_df = pd.Series(dong_dict).to_frame().reset_index().rename(columns = {'index':'dong', 0: 'count'})\n",
        "    df = pd.merge(df, dong_df, on = 'dong', how = 'left').drop('count_x', axis=1)\n",
        "    df.rename(columns = {'count_y': 'count'}, inplace = True)\n",
        "    df['count'].fillna(0, inplace = True)\n",
        "    return df"
      ],
      "execution_count": null,
      "outputs": []
    },
    {
      "cell_type": "code",
      "metadata": {
        "id": "_7GCuMsOmUXo"
      },
      "source": [
        "seoul_df = fill_dong(seoul_df, park_seoul)\n",
        "seoul_te = fill_dong(seoul_te, park_seoul)\n",
        "busan_df = fill_dong(busan_df, park_busan)\n",
        "busan_te = fill_dong(busan_te, park_busan)"
      ],
      "execution_count": null,
      "outputs": []
    },
    {
      "cell_type": "code",
      "metadata": {
        "colab": {
          "base_uri": "https://localhost:8080/",
          "height": 284
        },
        "id": "Qy5qWIlbV0sj",
        "outputId": "c5f50e13-3323-4e1a-91c2-a912be370817"
      },
      "source": [
        ""
      ],
      "execution_count": null,
      "outputs": [
        {
          "output_type": "execute_result",
          "data": {
            "text/html": [
              "<div>\n",
              "<style scoped>\n",
              "    .dataframe tbody tr th:only-of-type {\n",
              "        vertical-align: middle;\n",
              "    }\n",
              "\n",
              "    .dataframe tbody tr th {\n",
              "        vertical-align: top;\n",
              "    }\n",
              "\n",
              "    .dataframe thead th {\n",
              "        text-align: right;\n",
              "    }\n",
              "</style>\n",
              "<table border=\"1\" class=\"dataframe\">\n",
              "  <thead>\n",
              "    <tr style=\"text-align: right;\">\n",
              "      <th></th>\n",
              "      <th>transaction_id</th>\n",
              "      <th>apartment_id</th>\n",
              "      <th>city</th>\n",
              "      <th>dong</th>\n",
              "      <th>jibun</th>\n",
              "      <th>apt</th>\n",
              "      <th>addr_kr</th>\n",
              "      <th>exclusive_use_area</th>\n",
              "      <th>year_of_completion</th>\n",
              "      <th>transaction_year_month</th>\n",
              "      <th>transaction_date</th>\n",
              "      <th>floor</th>\n",
              "      <th>transaction_real_price</th>\n",
              "      <th>count</th>\n",
              "    </tr>\n",
              "  </thead>\n",
              "  <tbody>\n",
              "    <tr>\n",
              "      <th>0</th>\n",
              "      <td>650921</td>\n",
              "      <td>3310</td>\n",
              "      <td>부산광역시</td>\n",
              "      <td>영주동</td>\n",
              "      <td>160</td>\n",
              "      <td>동아(160-0)</td>\n",
              "      <td>영주동 160 동아(160-0)</td>\n",
              "      <td>57.09</td>\n",
              "      <td>1998</td>\n",
              "      <td>200801</td>\n",
              "      <td>1~10</td>\n",
              "      <td>4</td>\n",
              "      <td>7900</td>\n",
              "      <td>3.0</td>\n",
              "    </tr>\n",
              "    <tr>\n",
              "      <th>1</th>\n",
              "      <td>650922</td>\n",
              "      <td>2939</td>\n",
              "      <td>부산광역시</td>\n",
              "      <td>영주동</td>\n",
              "      <td>587</td>\n",
              "      <td>도경오벨리스</td>\n",
              "      <td>영주동 587 도경오벨리스</td>\n",
              "      <td>84.97</td>\n",
              "      <td>2005</td>\n",
              "      <td>200801</td>\n",
              "      <td>1~10</td>\n",
              "      <td>12</td>\n",
              "      <td>13000</td>\n",
              "      <td>3.0</td>\n",
              "    </tr>\n",
              "    <tr>\n",
              "      <th>2</th>\n",
              "      <td>650923</td>\n",
              "      <td>1704</td>\n",
              "      <td>부산광역시</td>\n",
              "      <td>영주동</td>\n",
              "      <td>161</td>\n",
              "      <td>금호</td>\n",
              "      <td>영주동 161 금호</td>\n",
              "      <td>84.86</td>\n",
              "      <td>1997</td>\n",
              "      <td>200801</td>\n",
              "      <td>11~20</td>\n",
              "      <td>7</td>\n",
              "      <td>12400</td>\n",
              "      <td>3.0</td>\n",
              "    </tr>\n",
              "    <tr>\n",
              "      <th>3</th>\n",
              "      <td>650924</td>\n",
              "      <td>3310</td>\n",
              "      <td>부산광역시</td>\n",
              "      <td>영주동</td>\n",
              "      <td>160</td>\n",
              "      <td>동아(160-0)</td>\n",
              "      <td>영주동 160 동아(160-0)</td>\n",
              "      <td>84.72</td>\n",
              "      <td>1998</td>\n",
              "      <td>200801</td>\n",
              "      <td>11~20</td>\n",
              "      <td>14</td>\n",
              "      <td>10600</td>\n",
              "      <td>3.0</td>\n",
              "    </tr>\n",
              "    <tr>\n",
              "      <th>4</th>\n",
              "      <td>650925</td>\n",
              "      <td>1704</td>\n",
              "      <td>부산광역시</td>\n",
              "      <td>영주동</td>\n",
              "      <td>161</td>\n",
              "      <td>금호</td>\n",
              "      <td>영주동 161 금호</td>\n",
              "      <td>84.59</td>\n",
              "      <td>1997</td>\n",
              "      <td>200801</td>\n",
              "      <td>21~31</td>\n",
              "      <td>5</td>\n",
              "      <td>10000</td>\n",
              "      <td>3.0</td>\n",
              "    </tr>\n",
              "  </tbody>\n",
              "</table>\n",
              "</div>"
            ],
            "text/plain": [
              "   transaction_id  apartment_id   city  ... floor transaction_real_price count\n",
              "0          650921          3310  부산광역시  ...     4                   7900   3.0\n",
              "1          650922          2939  부산광역시  ...    12                  13000   3.0\n",
              "2          650923          1704  부산광역시  ...     7                  12400   3.0\n",
              "3          650924          3310  부산광역시  ...    14                  10600   3.0\n",
              "4          650925          1704  부산광역시  ...     5                  10000   3.0\n",
              "\n",
              "[5 rows x 14 columns]"
            ]
          },
          "metadata": {
            "tags": []
          },
          "execution_count": 351
        }
      ]
    },
    {
      "cell_type": "code",
      "metadata": {
        "colab": {
          "base_uri": "https://localhost:8080/",
          "height": 578
        },
        "id": "RrO7DuZpgvDm",
        "outputId": "e0ba7d55-4876-4389-aaea-2c4008833e21"
      },
      "source": [
        "seoul_df[seoul_df['dong']=='중곡동']"
      ],
      "execution_count": null,
      "outputs": [
        {
          "output_type": "execute_result",
          "data": {
            "text/html": [
              "<div>\n",
              "<style scoped>\n",
              "    .dataframe tbody tr th:only-of-type {\n",
              "        vertical-align: middle;\n",
              "    }\n",
              "\n",
              "    .dataframe tbody tr th {\n",
              "        vertical-align: top;\n",
              "    }\n",
              "\n",
              "    .dataframe thead th {\n",
              "        text-align: right;\n",
              "    }\n",
              "</style>\n",
              "<table border=\"1\" class=\"dataframe\">\n",
              "  <thead>\n",
              "    <tr style=\"text-align: right;\">\n",
              "      <th></th>\n",
              "      <th>transaction_id</th>\n",
              "      <th>apartment_id</th>\n",
              "      <th>city</th>\n",
              "      <th>dong</th>\n",
              "      <th>jibun</th>\n",
              "      <th>apt</th>\n",
              "      <th>addr_kr</th>\n",
              "      <th>exclusive_use_area</th>\n",
              "      <th>year_of_completion</th>\n",
              "      <th>transaction_year_month</th>\n",
              "      <th>transaction_date</th>\n",
              "      <th>floor</th>\n",
              "      <th>transaction_real_price</th>\n",
              "      <th>count</th>\n",
              "    </tr>\n",
              "  </thead>\n",
              "  <tbody>\n",
              "    <tr>\n",
              "      <th>45740</th>\n",
              "      <td>45740</td>\n",
              "      <td>2616</td>\n",
              "      <td>서울특별시</td>\n",
              "      <td>중곡동</td>\n",
              "      <td>68-6</td>\n",
              "      <td>대영</td>\n",
              "      <td>중곡동 68-6 대영</td>\n",
              "      <td>57.94</td>\n",
              "      <td>2002</td>\n",
              "      <td>200801</td>\n",
              "      <td>11~20</td>\n",
              "      <td>5</td>\n",
              "      <td>13500</td>\n",
              "      <td>0.0</td>\n",
              "    </tr>\n",
              "    <tr>\n",
              "      <th>45741</th>\n",
              "      <td>45741</td>\n",
              "      <td>8035</td>\n",
              "      <td>서울특별시</td>\n",
              "      <td>중곡동</td>\n",
              "      <td>292</td>\n",
              "      <td>에스케이</td>\n",
              "      <td>중곡동 292 에스케이</td>\n",
              "      <td>84.60</td>\n",
              "      <td>1999</td>\n",
              "      <td>200801</td>\n",
              "      <td>21~31</td>\n",
              "      <td>3</td>\n",
              "      <td>37100</td>\n",
              "      <td>0.0</td>\n",
              "    </tr>\n",
              "    <tr>\n",
              "      <th>45847</th>\n",
              "      <td>45847</td>\n",
              "      <td>9901</td>\n",
              "      <td>서울특별시</td>\n",
              "      <td>중곡동</td>\n",
              "      <td>191-77</td>\n",
              "      <td>중곡1단지</td>\n",
              "      <td>중곡동 191-77 중곡1단지</td>\n",
              "      <td>48.46</td>\n",
              "      <td>1976</td>\n",
              "      <td>200802</td>\n",
              "      <td>1~10</td>\n",
              "      <td>4</td>\n",
              "      <td>15000</td>\n",
              "      <td>0.0</td>\n",
              "    </tr>\n",
              "    <tr>\n",
              "      <th>45848</th>\n",
              "      <td>45848</td>\n",
              "      <td>6638</td>\n",
              "      <td>서울특별시</td>\n",
              "      <td>중곡동</td>\n",
              "      <td>681</td>\n",
              "      <td>성원</td>\n",
              "      <td>중곡동 681 성원</td>\n",
              "      <td>59.82</td>\n",
              "      <td>1998</td>\n",
              "      <td>200802</td>\n",
              "      <td>1~10</td>\n",
              "      <td>4</td>\n",
              "      <td>18800</td>\n",
              "      <td>0.0</td>\n",
              "    </tr>\n",
              "    <tr>\n",
              "      <th>45849</th>\n",
              "      <td>45849</td>\n",
              "      <td>8346</td>\n",
              "      <td>서울특별시</td>\n",
              "      <td>중곡동</td>\n",
              "      <td>110-33</td>\n",
              "      <td>예다움</td>\n",
              "      <td>중곡동 110-33 예다움</td>\n",
              "      <td>84.71</td>\n",
              "      <td>2004</td>\n",
              "      <td>200802</td>\n",
              "      <td>11~20</td>\n",
              "      <td>3</td>\n",
              "      <td>26000</td>\n",
              "      <td>0.0</td>\n",
              "    </tr>\n",
              "    <tr>\n",
              "      <th>...</th>\n",
              "      <td>...</td>\n",
              "      <td>...</td>\n",
              "      <td>...</td>\n",
              "      <td>...</td>\n",
              "      <td>...</td>\n",
              "      <td>...</td>\n",
              "      <td>...</td>\n",
              "      <td>...</td>\n",
              "      <td>...</td>\n",
              "      <td>...</td>\n",
              "      <td>...</td>\n",
              "      <td>...</td>\n",
              "      <td>...</td>\n",
              "      <td>...</td>\n",
              "    </tr>\n",
              "    <tr>\n",
              "      <th>660403</th>\n",
              "      <td>1103397</td>\n",
              "      <td>9902</td>\n",
              "      <td>서울특별시</td>\n",
              "      <td>중곡동</td>\n",
              "      <td>190-26</td>\n",
              "      <td>중곡2단지</td>\n",
              "      <td>중곡동 190-26 중곡2단지</td>\n",
              "      <td>55.87</td>\n",
              "      <td>1976</td>\n",
              "      <td>201710</td>\n",
              "      <td>11~20</td>\n",
              "      <td>5</td>\n",
              "      <td>25000</td>\n",
              "      <td>0.0</td>\n",
              "    </tr>\n",
              "    <tr>\n",
              "      <th>660404</th>\n",
              "      <td>1103398</td>\n",
              "      <td>9901</td>\n",
              "      <td>서울특별시</td>\n",
              "      <td>중곡동</td>\n",
              "      <td>191-77</td>\n",
              "      <td>중곡1단지</td>\n",
              "      <td>중곡동 191-77 중곡1단지</td>\n",
              "      <td>48.50</td>\n",
              "      <td>1976</td>\n",
              "      <td>201710</td>\n",
              "      <td>21~31</td>\n",
              "      <td>3</td>\n",
              "      <td>20000</td>\n",
              "      <td>0.0</td>\n",
              "    </tr>\n",
              "    <tr>\n",
              "      <th>660405</th>\n",
              "      <td>1103399</td>\n",
              "      <td>6638</td>\n",
              "      <td>서울특별시</td>\n",
              "      <td>중곡동</td>\n",
              "      <td>681</td>\n",
              "      <td>성원</td>\n",
              "      <td>중곡동 681 성원</td>\n",
              "      <td>59.82</td>\n",
              "      <td>1998</td>\n",
              "      <td>201710</td>\n",
              "      <td>21~31</td>\n",
              "      <td>7</td>\n",
              "      <td>29400</td>\n",
              "      <td>0.0</td>\n",
              "    </tr>\n",
              "    <tr>\n",
              "      <th>660558</th>\n",
              "      <td>1103561</td>\n",
              "      <td>9902</td>\n",
              "      <td>서울특별시</td>\n",
              "      <td>중곡동</td>\n",
              "      <td>190-26</td>\n",
              "      <td>중곡2단지</td>\n",
              "      <td>중곡동 190-26 중곡2단지</td>\n",
              "      <td>55.87</td>\n",
              "      <td>1976</td>\n",
              "      <td>201711</td>\n",
              "      <td>11~20</td>\n",
              "      <td>5</td>\n",
              "      <td>24850</td>\n",
              "      <td>0.0</td>\n",
              "    </tr>\n",
              "    <tr>\n",
              "      <th>660559</th>\n",
              "      <td>1103563</td>\n",
              "      <td>8035</td>\n",
              "      <td>서울특별시</td>\n",
              "      <td>중곡동</td>\n",
              "      <td>292</td>\n",
              "      <td>에스케이</td>\n",
              "      <td>중곡동 292 에스케이</td>\n",
              "      <td>58.43</td>\n",
              "      <td>1999</td>\n",
              "      <td>201711</td>\n",
              "      <td>21~30</td>\n",
              "      <td>19</td>\n",
              "      <td>31000</td>\n",
              "      <td>0.0</td>\n",
              "    </tr>\n",
              "  </tbody>\n",
              "</table>\n",
              "<p>618 rows × 14 columns</p>\n",
              "</div>"
            ],
            "text/plain": [
              "        transaction_id  apartment_id  ... transaction_real_price count\n",
              "45740            45740          2616  ...                  13500   0.0\n",
              "45741            45741          8035  ...                  37100   0.0\n",
              "45847            45847          9901  ...                  15000   0.0\n",
              "45848            45848          6638  ...                  18800   0.0\n",
              "45849            45849          8346  ...                  26000   0.0\n",
              "...                ...           ...  ...                    ...   ...\n",
              "660403         1103397          9902  ...                  25000   0.0\n",
              "660404         1103398          9901  ...                  20000   0.0\n",
              "660405         1103399          6638  ...                  29400   0.0\n",
              "660558         1103561          9902  ...                  24850   0.0\n",
              "660559         1103563          8035  ...                  31000   0.0\n",
              "\n",
              "[618 rows x 14 columns]"
            ]
          },
          "metadata": {
            "tags": []
          },
          "execution_count": 357
        }
      ]
    },
    {
      "cell_type": "markdown",
      "metadata": {
        "id": "FM_vjmdbyuSG"
      },
      "source": [
        "### Center"
      ]
    },
    {
      "cell_type": "markdown",
      "metadata": {
        "id": "hoqaEFX3-h__"
      },
      "source": [
        "center의 경우 '동'으로 매핑할 수 없음.\n",
        "1. center 수용인원을 4분위 수로 나눠서 해당하는지 안하는지 - 원핫?\n",
        "2. 여기서는 '구'로 count sum?\n",
        "3. 통학버스가 없는 경우 0.8정도 count?"
      ]
    },
    {
      "cell_type": "code",
      "metadata": {
        "ExecuteTime": {
          "end_time": "2021-05-07T07:45:30.772198Z",
          "start_time": "2021-05-07T07:45:30.757184Z"
        },
        "scrolled": true,
        "colab": {
          "base_uri": "https://localhost:8080/",
          "height": 472
        },
        "id": "kiYwU0XeyuSG",
        "outputId": "2cfe471d-b837-4a60-88ca-f61b56225c82"
      },
      "source": [
        "center_df.head()"
      ],
      "execution_count": null,
      "outputs": [
        {
          "output_type": "execute_result",
          "data": {
            "text/html": [
              "<div>\n",
              "<style scoped>\n",
              "    .dataframe tbody tr th:only-of-type {\n",
              "        vertical-align: middle;\n",
              "    }\n",
              "\n",
              "    .dataframe tbody tr th {\n",
              "        vertical-align: top;\n",
              "    }\n",
              "\n",
              "    .dataframe thead th {\n",
              "        text-align: right;\n",
              "    }\n",
              "</style>\n",
              "<table border=\"1\" class=\"dataframe\">\n",
              "  <thead>\n",
              "    <tr style=\"text-align: right;\">\n",
              "      <th></th>\n",
              "      <th>city</th>\n",
              "      <th>gu</th>\n",
              "      <th>day_care_name</th>\n",
              "      <th>day_care_type</th>\n",
              "      <th>day_care_baby_num</th>\n",
              "      <th>teacher_num</th>\n",
              "      <th>nursing_room_num</th>\n",
              "      <th>playground_num</th>\n",
              "      <th>CCTV_num</th>\n",
              "      <th>is_commuting_vehicle</th>\n",
              "      <th>reference_date</th>\n",
              "    </tr>\n",
              "  </thead>\n",
              "  <tbody>\n",
              "    <tr>\n",
              "      <th>0</th>\n",
              "      <td>서울특별시</td>\n",
              "      <td>서대문구</td>\n",
              "      <td>가람어린이집</td>\n",
              "      <td>국공립</td>\n",
              "      <td>70</td>\n",
              "      <td>11.0</td>\n",
              "      <td>5.0</td>\n",
              "      <td>1.0</td>\n",
              "      <td>7.0</td>\n",
              "      <td>N</td>\n",
              "      <td>2018-07-31</td>\n",
              "    </tr>\n",
              "    <tr>\n",
              "      <th>1</th>\n",
              "      <td>서울특별시</td>\n",
              "      <td>서대문구</td>\n",
              "      <td>가좌제일어린이집</td>\n",
              "      <td>국공립</td>\n",
              "      <td>88</td>\n",
              "      <td>22.0</td>\n",
              "      <td>5.0</td>\n",
              "      <td>2.0</td>\n",
              "      <td>10.0</td>\n",
              "      <td>N</td>\n",
              "      <td>2018-07-31</td>\n",
              "    </tr>\n",
              "    <tr>\n",
              "      <th>2</th>\n",
              "      <td>서울특별시</td>\n",
              "      <td>서대문구</td>\n",
              "      <td>경찰청어린이집</td>\n",
              "      <td>직장</td>\n",
              "      <td>90</td>\n",
              "      <td>23.0</td>\n",
              "      <td>6.0</td>\n",
              "      <td>1.0</td>\n",
              "      <td>32.0</td>\n",
              "      <td>N</td>\n",
              "      <td>2018-07-31</td>\n",
              "    </tr>\n",
              "    <tr>\n",
              "      <th>3</th>\n",
              "      <td>서울특별시</td>\n",
              "      <td>서대문구</td>\n",
              "      <td>고운햇살어린이집</td>\n",
              "      <td>가정</td>\n",
              "      <td>18</td>\n",
              "      <td>5.0</td>\n",
              "      <td>3.0</td>\n",
              "      <td>0.0</td>\n",
              "      <td>4.0</td>\n",
              "      <td>N</td>\n",
              "      <td>2018-07-31</td>\n",
              "    </tr>\n",
              "    <tr>\n",
              "      <th>4</th>\n",
              "      <td>서울특별시</td>\n",
              "      <td>서대문구</td>\n",
              "      <td>고은어린이집</td>\n",
              "      <td>국공립</td>\n",
              "      <td>93</td>\n",
              "      <td>20.0</td>\n",
              "      <td>7.0</td>\n",
              "      <td>2.0</td>\n",
              "      <td>10.0</td>\n",
              "      <td>N</td>\n",
              "      <td>2018-07-31</td>\n",
              "    </tr>\n",
              "  </tbody>\n",
              "</table>\n",
              "</div>"
            ],
            "text/plain": [
              "    city    gu day_care_name  ... CCTV_num  is_commuting_vehicle  reference_date\n",
              "0  서울특별시  서대문구        가람어린이집  ...      7.0                     N      2018-07-31\n",
              "1  서울특별시  서대문구      가좌제일어린이집  ...     10.0                     N      2018-07-31\n",
              "2  서울특별시  서대문구       경찰청어린이집  ...     32.0                     N      2018-07-31\n",
              "3  서울특별시  서대문구      고운햇살어린이집  ...      4.0                     N      2018-07-31\n",
              "4  서울특별시  서대문구        고은어린이집  ...     10.0                     N      2018-07-31\n",
              "\n",
              "[5 rows x 11 columns]"
            ]
          },
          "metadata": {
            "tags": []
          },
          "execution_count": 78
        }
      ]
    },
    {
      "cell_type": "code",
      "metadata": {
        "ExecuteTime": {
          "end_time": "2021-05-07T07:45:30.804227Z",
          "start_time": "2021-05-07T07:45:30.773199Z"
        },
        "scrolled": true,
        "colab": {
          "base_uri": "https://localhost:8080/",
          "height": 290
        },
        "id": "PUGBcCsGyuSG",
        "outputId": "90deb955-74bc-4f3d-d738-db157ecdb4dc"
      },
      "source": [
        "center_df.describe()"
      ],
      "execution_count": null,
      "outputs": [
        {
          "output_type": "execute_result",
          "data": {
            "text/html": [
              "<div>\n",
              "<style scoped>\n",
              "    .dataframe tbody tr th:only-of-type {\n",
              "        vertical-align: middle;\n",
              "    }\n",
              "\n",
              "    .dataframe tbody tr th {\n",
              "        vertical-align: top;\n",
              "    }\n",
              "\n",
              "    .dataframe thead th {\n",
              "        text-align: right;\n",
              "    }\n",
              "</style>\n",
              "<table border=\"1\" class=\"dataframe\">\n",
              "  <thead>\n",
              "    <tr style=\"text-align: right;\">\n",
              "      <th></th>\n",
              "      <th>day_care_baby_num</th>\n",
              "      <th>teacher_num</th>\n",
              "      <th>nursing_room_num</th>\n",
              "      <th>playground_num</th>\n",
              "      <th>CCTV_num</th>\n",
              "    </tr>\n",
              "  </thead>\n",
              "  <tbody>\n",
              "    <tr>\n",
              "      <th>count</th>\n",
              "      <td>7551.000000</td>\n",
              "      <td>7326.000000</td>\n",
              "      <td>4352.000000</td>\n",
              "      <td>3626.000000</td>\n",
              "      <td>5280.000000</td>\n",
              "    </tr>\n",
              "    <tr>\n",
              "      <th>mean</th>\n",
              "      <td>44.396636</td>\n",
              "      <td>9.013514</td>\n",
              "      <td>4.528033</td>\n",
              "      <td>0.398235</td>\n",
              "      <td>6.676136</td>\n",
              "    </tr>\n",
              "    <tr>\n",
              "      <th>std</th>\n",
              "      <td>37.022079</td>\n",
              "      <td>5.809909</td>\n",
              "      <td>2.075709</td>\n",
              "      <td>0.730602</td>\n",
              "      <td>4.482168</td>\n",
              "    </tr>\n",
              "    <tr>\n",
              "      <th>min</th>\n",
              "      <td>5.000000</td>\n",
              "      <td>0.000000</td>\n",
              "      <td>0.000000</td>\n",
              "      <td>0.000000</td>\n",
              "      <td>0.000000</td>\n",
              "    </tr>\n",
              "    <tr>\n",
              "      <th>25%</th>\n",
              "      <td>19.000000</td>\n",
              "      <td>6.000000</td>\n",
              "      <td>3.000000</td>\n",
              "      <td>0.000000</td>\n",
              "      <td>4.000000</td>\n",
              "    </tr>\n",
              "    <tr>\n",
              "      <th>50%</th>\n",
              "      <td>29.000000</td>\n",
              "      <td>7.000000</td>\n",
              "      <td>4.000000</td>\n",
              "      <td>0.000000</td>\n",
              "      <td>5.000000</td>\n",
              "    </tr>\n",
              "    <tr>\n",
              "      <th>75%</th>\n",
              "      <td>60.000000</td>\n",
              "      <td>11.000000</td>\n",
              "      <td>5.000000</td>\n",
              "      <td>1.000000</td>\n",
              "      <td>8.000000</td>\n",
              "    </tr>\n",
              "    <tr>\n",
              "      <th>max</th>\n",
              "      <td>489.000000</td>\n",
              "      <td>98.000000</td>\n",
              "      <td>22.000000</td>\n",
              "      <td>16.000000</td>\n",
              "      <td>53.000000</td>\n",
              "    </tr>\n",
              "  </tbody>\n",
              "</table>\n",
              "</div>"
            ],
            "text/plain": [
              "       day_care_baby_num  teacher_num  ...  playground_num     CCTV_num\n",
              "count        7551.000000  7326.000000  ...     3626.000000  5280.000000\n",
              "mean           44.396636     9.013514  ...        0.398235     6.676136\n",
              "std            37.022079     5.809909  ...        0.730602     4.482168\n",
              "min             5.000000     0.000000  ...        0.000000     0.000000\n",
              "25%            19.000000     6.000000  ...        0.000000     4.000000\n",
              "50%            29.000000     7.000000  ...        0.000000     5.000000\n",
              "75%            60.000000    11.000000  ...        1.000000     8.000000\n",
              "max           489.000000    98.000000  ...       16.000000    53.000000\n",
              "\n",
              "[8 rows x 5 columns]"
            ]
          },
          "metadata": {
            "tags": []
          },
          "execution_count": 79
        }
      ]
    },
    {
      "cell_type": "code",
      "metadata": {
        "ExecuteTime": {
          "end_time": "2021-05-07T07:45:30.820242Z",
          "start_time": "2021-05-07T07:45:30.805228Z"
        },
        "colab": {
          "base_uri": "https://localhost:8080/"
        },
        "id": "9T-zwcnayuSH",
        "outputId": "d76d1693-f3ca-4bfa-e3ed-191d790521d7"
      },
      "source": [
        "center_df.isna().sum()"
      ],
      "execution_count": null,
      "outputs": [
        {
          "output_type": "execute_result",
          "data": {
            "text/plain": [
              "city                       0\n",
              "gu                         0\n",
              "day_care_name              0\n",
              "day_care_type              0\n",
              "day_care_baby_num          0\n",
              "teacher_num              225\n",
              "nursing_room_num        3199\n",
              "playground_num          3925\n",
              "CCTV_num                2271\n",
              "is_commuting_vehicle     496\n",
              "reference_date             0\n",
              "dtype: int64"
            ]
          },
          "metadata": {
            "tags": []
          },
          "execution_count": 80
        }
      ]
    },
    {
      "cell_type": "code",
      "metadata": {
        "ExecuteTime": {
          "end_time": "2021-05-07T07:45:30.836256Z",
          "start_time": "2021-05-07T07:45:30.823245Z"
        },
        "scrolled": true,
        "colab": {
          "base_uri": "https://localhost:8080/"
        },
        "id": "_Lndv-2KyuSH",
        "outputId": "5f276b7b-6a0b-4ad6-af80-16e702aaf7a2"
      },
      "source": [
        "center_df.info()"
      ],
      "execution_count": null,
      "outputs": [
        {
          "output_type": "stream",
          "text": [
            "<class 'pandas.core.frame.DataFrame'>\n",
            "RangeIndex: 7551 entries, 0 to 7550\n",
            "Data columns (total 11 columns):\n",
            " #   Column                Non-Null Count  Dtype  \n",
            "---  ------                --------------  -----  \n",
            " 0   city                  7551 non-null   object \n",
            " 1   gu                    7551 non-null   object \n",
            " 2   day_care_name         7551 non-null   object \n",
            " 3   day_care_type         7551 non-null   object \n",
            " 4   day_care_baby_num     7551 non-null   int64  \n",
            " 5   teacher_num           7326 non-null   float64\n",
            " 6   nursing_room_num      4352 non-null   float64\n",
            " 7   playground_num        3626 non-null   float64\n",
            " 8   CCTV_num              5280 non-null   float64\n",
            " 9   is_commuting_vehicle  7055 non-null   object \n",
            " 10  reference_date        7551 non-null   object \n",
            "dtypes: float64(4), int64(1), object(6)\n",
            "memory usage: 649.0+ KB\n"
          ],
          "name": "stdout"
        }
      ]
    },
    {
      "cell_type": "code",
      "metadata": {
        "ExecuteTime": {
          "end_time": "2021-05-07T07:45:30.852271Z",
          "start_time": "2021-05-07T07:45:30.838258Z"
        },
        "scrolled": false,
        "colab": {
          "base_uri": "https://localhost:8080/"
        },
        "id": "4-_alD9iyuSH",
        "outputId": "f04120a1-c674-4aaf-c06b-f84897ae2aef"
      },
      "source": [
        "center_df['is_commuting_vehicle'].value_counts()"
      ],
      "execution_count": null,
      "outputs": [
        {
          "output_type": "execute_result",
          "data": {
            "text/plain": [
              "N    4102\n",
              "Y    2446\n",
              "      401\n",
              "y      88\n",
              "n      18\n",
              "Name: is_commuting_vehicle, dtype: int64"
            ]
          },
          "metadata": {
            "tags": []
          },
          "execution_count": 82
        }
      ]
    },
    {
      "cell_type": "markdown",
      "metadata": {
        "id": "23rRRnkayuSI"
      },
      "source": [
        "- is_commuting_vehicle에는 nan값과 공백값이 각각 496개, 401개 존재함\n",
        "- 먼저 소문자를 대문자로 바꿈"
      ]
    },
    {
      "cell_type": "code",
      "metadata": {
        "ExecuteTime": {
          "end_time": "2021-05-07T07:45:30.868285Z",
          "start_time": "2021-05-07T07:45:30.854273Z"
        },
        "id": "YYeBkYDgyuSI"
      },
      "source": [
        "center_df.replace('y','Y',inplace=True)\n",
        "center_df.replace('n','N',inplace=True)"
      ],
      "execution_count": null,
      "outputs": []
    },
    {
      "cell_type": "code",
      "metadata": {
        "ExecuteTime": {
          "end_time": "2021-05-07T07:45:30.980387Z",
          "start_time": "2021-05-07T07:45:30.869286Z"
        },
        "scrolled": true,
        "colab": {
          "base_uri": "https://localhost:8080/",
          "height": 317
        },
        "id": "ksoQZcCsyuSI",
        "outputId": "cc100d24-34b0-444c-ef79-f97f31bf05ef"
      },
      "source": [
        "plt.figure()\n",
        "sns.countplot(center_df['day_care_type'])\n",
        "plt.title('Day Care Type Count Plot')\n",
        "plt.show()"
      ],
      "execution_count": null,
      "outputs": [
        {
          "output_type": "execute_result",
          "data": {
            "text/plain": [
              "Text(0.5, 1.0, 'Day Care Type Count Plot')"
            ]
          },
          "metadata": {
            "tags": []
          },
          "execution_count": 84
        },
        {
          "output_type": "display_data",
          "data": {
            "image/png": "[encoded data removed]",
            "text/plain": [
              "<Figure size 432x288 with 1 Axes>"
            ]
          },
          "metadata": {
            "tags": []
          }
        }
      ]
    },
    {
      "cell_type": "markdown",
      "metadata": {
        "id": "kwEczr09yuSJ"
      },
      "source": [
        "- 통근 차량 결측치를 처리하기 위해 각 day_care_type의 Y값 보다 작으면 N, 크면 Y로 대체"
      ]
    },
    {
      "cell_type": "code",
      "metadata": {
        "ExecuteTime": {
          "end_time": "2021-05-07T07:45:30.996401Z",
          "start_time": "2021-05-07T07:45:30.981388Z"
        },
        "scrolled": false,
        "colab": {
          "base_uri": "https://localhost:8080/"
        },
        "id": "x4-7uKpayuSJ",
        "outputId": "47de078d-a1d6-47b3-883d-6e05e58cf9c9"
      },
      "source": [
        "center_df.groupby(['day_care_type','is_commuting_vehicle'])['day_care_baby_num'].mean()"
      ],
      "execution_count": null,
      "outputs": [
        {
          "output_type": "execute_result",
          "data": {
            "text/plain": [
              "day_care_type  is_commuting_vehicle\n",
              "가정                                     18.390071\n",
              "               N                       18.166359\n",
              "               Y                       19.014129\n",
              "국공립                                    62.319149\n",
              "               N                       60.781800\n",
              "               Y                       79.366279\n",
              "민간                                     63.326531\n",
              "               N                       44.377634\n",
              "               Y                       66.266496\n",
              "법인·단체                                  51.600000\n",
              "               N                       50.313725\n",
              "               Y                       78.272727\n",
              "사회복지법인                                 44.250000\n",
              "               N                       83.476190\n",
              "               Y                       87.901235\n",
              "직장                                     43.375000\n",
              "               N                       73.267943\n",
              "               Y                       70.409091\n",
              "협동                                     38.000000\n",
              "               N                       26.333333\n",
              "               Y                       33.833333\n",
              "Name: day_care_baby_num, dtype: float64"
            ]
          },
          "metadata": {
            "tags": []
          },
          "execution_count": 85
        }
      ]
    },
    {
      "cell_type": "code",
      "metadata": {
        "ExecuteTime": {
          "end_time": "2021-05-07T07:45:31.044446Z",
          "start_time": "2021-05-07T07:45:30.997403Z"
        },
        "scrolled": false,
        "colab": {
          "base_uri": "https://localhost:8080/"
        },
        "id": "y-a0rK_JyuSK",
        "outputId": "f1847ca8-b2f4-4def-a0e2-a6f8843ff126"
      },
      "source": [
        "# 결측치 중 평균 \n",
        "center_df.loc[(center_df['is_commuting_vehicle'].isnull()) & (center_df['day_care_type']=='가정') & (center_df['day_care_baby_num'] < 19), 'is_commuting_vehicle'] = 'N'\n",
        "center_df.loc[(center_df['is_commuting_vehicle'].isnull()) & (center_df['day_care_type']=='국공립') & (center_df['day_care_baby_num'] < 79), 'is_commuting_vehicle'] = 'N'\n",
        "center_df.loc[(center_df['is_commuting_vehicle'].isnull()) & (center_df['day_care_type']=='민간') & (center_df['day_care_baby_num'] < 66), 'is_commuting_vehicle'] = 'N'\n",
        "center_df.loc[(center_df['is_commuting_vehicle'].isnull()) & (center_df['day_care_type']=='법인·단체') & (center_df['day_care_baby_num'] < 78), 'is_commuting_vehicle'] = 'N'\n",
        "center_df.loc[(center_df['is_commuting_vehicle'].isnull()) & (center_df['day_care_type']=='사회복지법인') & (center_df['day_care_baby_num'] < 87), 'is_commuting_vehicle'] = 'N'\n",
        "center_df.loc[(center_df['is_commuting_vehicle'].isnull()) & (center_df['day_care_type']=='직장') & (center_df['day_care_baby_num'] < 70), 'is_commuting_vehicle'] = 'N'\n",
        "center_df.loc[(center_df['is_commuting_vehicle'].isnull()) & (center_df['day_care_type']=='협동') & (center_df['day_care_baby_num'] < 33), 'is_commuting_vehicle'] = 'N'\n",
        "# 공백값 중 평균\n",
        "center_df.loc[(center_df['is_commuting_vehicle'] == ' ') & (center_df['day_care_type']=='가정') & (center_df['day_care_baby_num'] < 19), 'is_commuting_vehicle'] = 'N'\n",
        "center_df.loc[(center_df['is_commuting_vehicle'] == ' ') & (center_df['day_care_type']=='국공립') & (center_df['day_care_baby_num'] < 79), 'is_commuting_vehicle'] = 'N'\n",
        "center_df.loc[(center_df['is_commuting_vehicle'] == ' ') & (center_df['day_care_type']=='민간') & (center_df['day_care_baby_num'] < 66), 'is_commuting_vehicle'] = 'N'\n",
        "center_df.loc[(center_df['is_commuting_vehicle'] == ' ') & (center_df['day_care_type']=='법인·단체') & (center_df['day_care_baby_num'] < 78), 'is_commuting_vehicle'] = 'N'\n",
        "center_df.loc[(center_df['is_commuting_vehicle'] == ' ') & (center_df['day_care_type']=='사회복지법인') & (center_df['day_care_baby_num'] < 87), 'is_commuting_vehicle'] = 'N'\n",
        "center_df.loc[(center_df['is_commuting_vehicle'] == ' ') & (center_df['day_care_type']=='직장') & (center_df['day_care_baby_num'] < 70), 'is_commuting_vehicle'] = 'N'\n",
        "center_df.loc[(center_df['is_commuting_vehicle'] == ' ') & (center_df['day_care_type']=='협동') & (center_df['day_care_baby_num'] < 33), 'is_commuting_vehicle'] = 'N'\n",
        "# 나머지 nan값을 Y로 대체\n",
        "center_df['is_commuting_vehicle'].replace(' ', 'Y', inplace=True)\n",
        "center_df['is_commuting_vehicle'].replace(np.nan, 'Y', inplace=True)\n",
        "# N을 0으로, Y를 1로 대체\n",
        "center_df['is_commuting_vehicle'].replace('N', 0, inplace=True)\n",
        "center_df['is_commuting_vehicle'].replace('Y', 1, inplace=True)\n",
        "\n",
        "\n",
        "print(center_df['is_commuting_vehicle'].value_counts(),'\\n', center_df['is_commuting_vehicle'].notnull().sum())"
      ],
      "execution_count": null,
      "outputs": [
        {
          "output_type": "stream",
          "text": [
            "0    4557\n",
            "1    2994\n",
            "Name: is_commuting_vehicle, dtype: int64 \n",
            " 7551\n"
          ],
          "name": "stdout"
        }
      ]
    },
    {
      "cell_type": "code",
      "metadata": {
        "ExecuteTime": {
          "end_time": "2021-05-07T07:45:31.188577Z",
          "start_time": "2021-05-07T07:45:31.045447Z"
        },
        "scrolled": true,
        "colab": {
          "base_uri": "https://localhost:8080/",
          "height": 317
        },
        "id": "SZIaWkFTyuSL",
        "outputId": "6363fd6f-ea5a-4229-9740-67a86e392c5e"
      },
      "source": [
        "plt.figure()\n",
        "sns.countplot(center_df['is_commuting_vehicle'], hue='day_care_type', data=center_df)\n",
        "plt.title('Commuting Vehicle Count Plot')\n",
        "plt.show()"
      ],
      "execution_count": null,
      "outputs": [
        {
          "output_type": "execute_result",
          "data": {
            "text/plain": [
              "Text(0.5, 1.0, 'Commuting Vehicle Count Plot')"
            ]
          },
          "metadata": {
            "tags": []
          },
          "execution_count": 87
        },
        {
          "output_type": "display_data",
          "data": {
            "image/png": "[encoded data removed]",
            "text/plain": [
              "<Figure size 432x288 with 1 Axes>"
            ]
          },
          "metadata": {
            "tags": []
          }
        }
      ]
    },
    {
      "cell_type": "code",
      "metadata": {
        "ExecuteTime": {
          "end_time": "2021-05-07T07:45:31.615966Z",
          "start_time": "2021-05-07T07:45:31.333709Z"
        },
        "colab": {
          "base_uri": "https://localhost:8080/",
          "height": 388
        },
        "id": "TCs6BSMSyuSM",
        "outputId": "0a766296-b1a5-4fef-9c02-f957ae132d26"
      },
      "source": [
        "sns.heatmap(center_df.corr(), annot=True)\n",
        "plt.show()"
      ],
      "execution_count": null,
      "outputs": [
        {
          "output_type": "execute_result",
          "data": {
            "text/plain": [
              "<matplotlib.axes._subplots.AxesSubplot at 0x7efdc48f4b10>"
            ]
          },
          "metadata": {
            "tags": []
          },
          "execution_count": 88
        },
        {
          "output_type": "display_data",
          "data": {
            "image/png": "[encoded data removed]",
            "text/plain": [
              "<Figure size 432x288 with 2 Axes>"
            ]
          },
          "metadata": {
            "tags": []
          }
        }
      ]
    },
    {
      "cell_type": "markdown",
      "metadata": {
        "id": "t5dOO-VryuSM"
      },
      "source": [
        "#### CCTV_num, playground_num, nursing_room_num 결측치\n",
        "결측치를 처리하기 까다롭고, 다중공선성이 우려되어 피쳐를 삭제하기로 결정"
      ]
    },
    {
      "cell_type": "code",
      "metadata": {
        "ExecuteTime": {
          "end_time": "2021-05-07T07:45:31.631981Z",
          "start_time": "2021-05-07T07:45:31.616967Z"
        },
        "colab": {
          "base_uri": "https://localhost:8080/",
          "height": 851
        },
        "id": "V_dEYK4lyuSM",
        "outputId": "b9d4d4a2-9b27-4a4e-938e-19d480355578"
      },
      "source": [
        "center_df.drop(columns=['playground_num', 'nursing_room_num', 'CCTV_num'], inplace=True)\n",
        "center_df"
      ],
      "execution_count": null,
      "outputs": [
        {
          "output_type": "execute_result",
          "data": {
            "text/html": [
              "<div>\n",
              "<style scoped>\n",
              "    .dataframe tbody tr th:only-of-type {\n",
              "        vertical-align: middle;\n",
              "    }\n",
              "\n",
              "    .dataframe tbody tr th {\n",
              "        vertical-align: top;\n",
              "    }\n",
              "\n",
              "    .dataframe thead th {\n",
              "        text-align: right;\n",
              "    }\n",
              "</style>\n",
              "<table border=\"1\" class=\"dataframe\">\n",
              "  <thead>\n",
              "    <tr style=\"text-align: right;\">\n",
              "      <th></th>\n",
              "      <th>city</th>\n",
              "      <th>gu</th>\n",
              "      <th>day_care_name</th>\n",
              "      <th>day_care_type</th>\n",
              "      <th>day_care_baby_num</th>\n",
              "      <th>teacher_num</th>\n",
              "      <th>is_commuting_vehicle</th>\n",
              "      <th>reference_date</th>\n",
              "    </tr>\n",
              "  </thead>\n",
              "  <tbody>\n",
              "    <tr>\n",
              "      <th>0</th>\n",
              "      <td>서울특별시</td>\n",
              "      <td>서대문구</td>\n",
              "      <td>가람어린이집</td>\n",
              "      <td>국공립</td>\n",
              "      <td>70</td>\n",
              "      <td>11.0</td>\n",
              "      <td>0</td>\n",
              "      <td>2018-07-31</td>\n",
              "    </tr>\n",
              "    <tr>\n",
              "      <th>1</th>\n",
              "      <td>서울특별시</td>\n",
              "      <td>서대문구</td>\n",
              "      <td>가좌제일어린이집</td>\n",
              "      <td>국공립</td>\n",
              "      <td>88</td>\n",
              "      <td>22.0</td>\n",
              "      <td>0</td>\n",
              "      <td>2018-07-31</td>\n",
              "    </tr>\n",
              "    <tr>\n",
              "      <th>2</th>\n",
              "      <td>서울특별시</td>\n",
              "      <td>서대문구</td>\n",
              "      <td>경찰청어린이집</td>\n",
              "      <td>직장</td>\n",
              "      <td>90</td>\n",
              "      <td>23.0</td>\n",
              "      <td>0</td>\n",
              "      <td>2018-07-31</td>\n",
              "    </tr>\n",
              "    <tr>\n",
              "      <th>3</th>\n",
              "      <td>서울특별시</td>\n",
              "      <td>서대문구</td>\n",
              "      <td>고운햇살어린이집</td>\n",
              "      <td>가정</td>\n",
              "      <td>18</td>\n",
              "      <td>5.0</td>\n",
              "      <td>0</td>\n",
              "      <td>2018-07-31</td>\n",
              "    </tr>\n",
              "    <tr>\n",
              "      <th>4</th>\n",
              "      <td>서울특별시</td>\n",
              "      <td>서대문구</td>\n",
              "      <td>고은어린이집</td>\n",
              "      <td>국공립</td>\n",
              "      <td>93</td>\n",
              "      <td>20.0</td>\n",
              "      <td>0</td>\n",
              "      <td>2018-07-31</td>\n",
              "    </tr>\n",
              "    <tr>\n",
              "      <th>...</th>\n",
              "      <td>...</td>\n",
              "      <td>...</td>\n",
              "      <td>...</td>\n",
              "      <td>...</td>\n",
              "      <td>...</td>\n",
              "      <td>...</td>\n",
              "      <td>...</td>\n",
              "      <td>...</td>\n",
              "    </tr>\n",
              "    <tr>\n",
              "      <th>7546</th>\n",
              "      <td>부산광역시</td>\n",
              "      <td>금정구</td>\n",
              "      <td>해바라기어린이집</td>\n",
              "      <td>민간</td>\n",
              "      <td>46</td>\n",
              "      <td>13.0</td>\n",
              "      <td>1</td>\n",
              "      <td>2019-01-21</td>\n",
              "    </tr>\n",
              "    <tr>\n",
              "      <th>7547</th>\n",
              "      <td>부산광역시</td>\n",
              "      <td>금정구</td>\n",
              "      <td>해수어린이집</td>\n",
              "      <td>가정</td>\n",
              "      <td>19</td>\n",
              "      <td>6.0</td>\n",
              "      <td>1</td>\n",
              "      <td>2019-01-21</td>\n",
              "    </tr>\n",
              "    <tr>\n",
              "      <th>7548</th>\n",
              "      <td>부산광역시</td>\n",
              "      <td>금정구</td>\n",
              "      <td>행복한그림동산어린이집</td>\n",
              "      <td>민간</td>\n",
              "      <td>92</td>\n",
              "      <td>16.0</td>\n",
              "      <td>1</td>\n",
              "      <td>2019-01-21</td>\n",
              "    </tr>\n",
              "    <tr>\n",
              "      <th>7549</th>\n",
              "      <td>부산광역시</td>\n",
              "      <td>금정구</td>\n",
              "      <td>행복한어린이집</td>\n",
              "      <td>민간</td>\n",
              "      <td>43</td>\n",
              "      <td>12.0</td>\n",
              "      <td>1</td>\n",
              "      <td>2019-01-21</td>\n",
              "    </tr>\n",
              "    <tr>\n",
              "      <th>7550</th>\n",
              "      <td>부산광역시</td>\n",
              "      <td>금정구</td>\n",
              "      <td>혜인어린이집</td>\n",
              "      <td>민간</td>\n",
              "      <td>32</td>\n",
              "      <td>7.0</td>\n",
              "      <td>1</td>\n",
              "      <td>2019-01-21</td>\n",
              "    </tr>\n",
              "  </tbody>\n",
              "</table>\n",
              "<p>7551 rows × 8 columns</p>\n",
              "</div>"
            ],
            "text/plain": [
              "       city    gu  ... is_commuting_vehicle reference_date\n",
              "0     서울특별시  서대문구  ...                    0     2018-07-31\n",
              "1     서울특별시  서대문구  ...                    0     2018-07-31\n",
              "2     서울특별시  서대문구  ...                    0     2018-07-31\n",
              "3     서울특별시  서대문구  ...                    0     2018-07-31\n",
              "4     서울특별시  서대문구  ...                    0     2018-07-31\n",
              "...     ...   ...  ...                  ...            ...\n",
              "7546  부산광역시   금정구  ...                    1     2019-01-21\n",
              "7547  부산광역시   금정구  ...                    1     2019-01-21\n",
              "7548  부산광역시   금정구  ...                    1     2019-01-21\n",
              "7549  부산광역시   금정구  ...                    1     2019-01-21\n",
              "7550  부산광역시   금정구  ...                    1     2019-01-21\n",
              "\n",
              "[7551 rows x 8 columns]"
            ]
          },
          "metadata": {
            "tags": []
          },
          "execution_count": 89
        }
      ]
    },
    {
      "cell_type": "markdown",
      "metadata": {
        "ExecuteTime": {
          "end_time": "2021-05-07T07:30:34.981400Z",
          "start_time": "2021-05-07T07:30:34.957377Z"
        },
        "id": "cWGIQ1S_yuSN"
      },
      "source": [
        "#### 보육시설 원핫인코딩"
      ]
    },
    {
      "cell_type": "code",
      "metadata": {
        "ExecuteTime": {
          "end_time": "2021-05-07T07:45:31.647995Z",
          "start_time": "2021-05-07T07:45:31.632981Z"
        },
        "colab": {
          "base_uri": "https://localhost:8080/",
          "height": 410
        },
        "id": "iLGxCOz8yuSN",
        "outputId": "226dfc87-02a7-472d-f21d-0bc934ef2224"
      },
      "source": [
        "center_oh = pd.get_dummies(center_df['day_care_type'])\n",
        "center_oh"
      ],
      "execution_count": null,
      "outputs": [
        {
          "output_type": "execute_result",
          "data": {
            "text/html": [
              "<div>\n",
              "<style scoped>\n",
              "    .dataframe tbody tr th:only-of-type {\n",
              "        vertical-align: middle;\n",
              "    }\n",
              "\n",
              "    .dataframe tbody tr th {\n",
              "        vertical-align: top;\n",
              "    }\n",
              "\n",
              "    .dataframe thead th {\n",
              "        text-align: right;\n",
              "    }\n",
              "</style>\n",
              "<table border=\"1\" class=\"dataframe\">\n",
              "  <thead>\n",
              "    <tr style=\"text-align: right;\">\n",
              "      <th></th>\n",
              "      <th>가정</th>\n",
              "      <th>국공립</th>\n",
              "      <th>민간</th>\n",
              "      <th>법인·단체</th>\n",
              "      <th>사회복지법인</th>\n",
              "      <th>직장</th>\n",
              "      <th>협동</th>\n",
              "    </tr>\n",
              "  </thead>\n",
              "  <tbody>\n",
              "    <tr>\n",
              "      <th>0</th>\n",
              "      <td>0</td>\n",
              "      <td>1</td>\n",
              "      <td>0</td>\n",
              "      <td>0</td>\n",
              "      <td>0</td>\n",
              "      <td>0</td>\n",
              "      <td>0</td>\n",
              "    </tr>\n",
              "    <tr>\n",
              "      <th>1</th>\n",
              "      <td>0</td>\n",
              "      <td>1</td>\n",
              "      <td>0</td>\n",
              "      <td>0</td>\n",
              "      <td>0</td>\n",
              "      <td>0</td>\n",
              "      <td>0</td>\n",
              "    </tr>\n",
              "    <tr>\n",
              "      <th>2</th>\n",
              "      <td>0</td>\n",
              "      <td>0</td>\n",
              "      <td>0</td>\n",
              "      <td>0</td>\n",
              "      <td>0</td>\n",
              "      <td>1</td>\n",
              "      <td>0</td>\n",
              "    </tr>\n",
              "    <tr>\n",
              "      <th>3</th>\n",
              "      <td>1</td>\n",
              "      <td>0</td>\n",
              "      <td>0</td>\n",
              "      <td>0</td>\n",
              "      <td>0</td>\n",
              "      <td>0</td>\n",
              "      <td>0</td>\n",
              "    </tr>\n",
              "    <tr>\n",
              "      <th>4</th>\n",
              "      <td>0</td>\n",
              "      <td>1</td>\n",
              "      <td>0</td>\n",
              "      <td>0</td>\n",
              "      <td>0</td>\n",
              "      <td>0</td>\n",
              "      <td>0</td>\n",
              "    </tr>\n",
              "    <tr>\n",
              "      <th>...</th>\n",
              "      <td>...</td>\n",
              "      <td>...</td>\n",
              "      <td>...</td>\n",
              "      <td>...</td>\n",
              "      <td>...</td>\n",
              "      <td>...</td>\n",
              "      <td>...</td>\n",
              "    </tr>\n",
              "    <tr>\n",
              "      <th>7546</th>\n",
              "      <td>0</td>\n",
              "      <td>0</td>\n",
              "      <td>1</td>\n",
              "      <td>0</td>\n",
              "      <td>0</td>\n",
              "      <td>0</td>\n",
              "      <td>0</td>\n",
              "    </tr>\n",
              "    <tr>\n",
              "      <th>7547</th>\n",
              "      <td>1</td>\n",
              "      <td>0</td>\n",
              "      <td>0</td>\n",
              "      <td>0</td>\n",
              "      <td>0</td>\n",
              "      <td>0</td>\n",
              "      <td>0</td>\n",
              "    </tr>\n",
              "    <tr>\n",
              "      <th>7548</th>\n",
              "      <td>0</td>\n",
              "      <td>0</td>\n",
              "      <td>1</td>\n",
              "      <td>0</td>\n",
              "      <td>0</td>\n",
              "      <td>0</td>\n",
              "      <td>0</td>\n",
              "    </tr>\n",
              "    <tr>\n",
              "      <th>7549</th>\n",
              "      <td>0</td>\n",
              "      <td>0</td>\n",
              "      <td>1</td>\n",
              "      <td>0</td>\n",
              "      <td>0</td>\n",
              "      <td>0</td>\n",
              "      <td>0</td>\n",
              "    </tr>\n",
              "    <tr>\n",
              "      <th>7550</th>\n",
              "      <td>0</td>\n",
              "      <td>0</td>\n",
              "      <td>1</td>\n",
              "      <td>0</td>\n",
              "      <td>0</td>\n",
              "      <td>0</td>\n",
              "      <td>0</td>\n",
              "    </tr>\n",
              "  </tbody>\n",
              "</table>\n",
              "<p>7551 rows × 7 columns</p>\n",
              "</div>"
            ],
            "text/plain": [
              "      가정  국공립  민간  법인·단체  사회복지법인  직장  협동\n",
              "0      0    1   0      0       0   0   0\n",
              "1      0    1   0      0       0   0   0\n",
              "2      0    0   0      0       0   1   0\n",
              "3      1    0   0      0       0   0   0\n",
              "4      0    1   0      0       0   0   0\n",
              "...   ..  ...  ..    ...     ...  ..  ..\n",
              "7546   0    0   1      0       0   0   0\n",
              "7547   1    0   0      0       0   0   0\n",
              "7548   0    0   1      0       0   0   0\n",
              "7549   0    0   1      0       0   0   0\n",
              "7550   0    0   1      0       0   0   0\n",
              "\n",
              "[7551 rows x 7 columns]"
            ]
          },
          "metadata": {
            "tags": []
          },
          "execution_count": 94
        }
      ]
    },
    {
      "cell_type": "code",
      "metadata": {
        "ExecuteTime": {
          "end_time": "2021-05-07T07:45:31.680024Z",
          "start_time": "2021-05-07T07:45:31.648996Z"
        },
        "colab": {
          "base_uri": "https://localhost:8080/",
          "height": 935
        },
        "id": "BNb_-dy6yuSN",
        "outputId": "cfdd66f8-5741-47a0-e913-913f57a04077"
      },
      "source": [
        "center_df = pd.concat([center_df, center_oh], axis=1)\n",
        "center_df.drop(columns='day_care_type', inplace=True)\n",
        "center_df"
      ],
      "execution_count": null,
      "outputs": [
        {
          "output_type": "execute_result",
          "data": {
            "text/html": [
              "<div>\n",
              "<style scoped>\n",
              "    .dataframe tbody tr th:only-of-type {\n",
              "        vertical-align: middle;\n",
              "    }\n",
              "\n",
              "    .dataframe tbody tr th {\n",
              "        vertical-align: top;\n",
              "    }\n",
              "\n",
              "    .dataframe thead th {\n",
              "        text-align: right;\n",
              "    }\n",
              "</style>\n",
              "<table border=\"1\" class=\"dataframe\">\n",
              "  <thead>\n",
              "    <tr style=\"text-align: right;\">\n",
              "      <th></th>\n",
              "      <th>city</th>\n",
              "      <th>gu</th>\n",
              "      <th>day_care_name</th>\n",
              "      <th>day_care_baby_num</th>\n",
              "      <th>teacher_num</th>\n",
              "      <th>is_commuting_vehicle</th>\n",
              "      <th>reference_date</th>\n",
              "      <th>가정</th>\n",
              "      <th>국공립</th>\n",
              "      <th>민간</th>\n",
              "      <th>법인·단체</th>\n",
              "      <th>사회복지법인</th>\n",
              "      <th>직장</th>\n",
              "      <th>협동</th>\n",
              "    </tr>\n",
              "  </thead>\n",
              "  <tbody>\n",
              "    <tr>\n",
              "      <th>0</th>\n",
              "      <td>서울특별시</td>\n",
              "      <td>서대문구</td>\n",
              "      <td>가람어린이집</td>\n",
              "      <td>70</td>\n",
              "      <td>11.0</td>\n",
              "      <td>0</td>\n",
              "      <td>2018-07-31</td>\n",
              "      <td>0</td>\n",
              "      <td>1</td>\n",
              "      <td>0</td>\n",
              "      <td>0</td>\n",
              "      <td>0</td>\n",
              "      <td>0</td>\n",
              "      <td>0</td>\n",
              "    </tr>\n",
              "    <tr>\n",
              "      <th>1</th>\n",
              "      <td>서울특별시</td>\n",
              "      <td>서대문구</td>\n",
              "      <td>가좌제일어린이집</td>\n",
              "      <td>88</td>\n",
              "      <td>22.0</td>\n",
              "      <td>0</td>\n",
              "      <td>2018-07-31</td>\n",
              "      <td>0</td>\n",
              "      <td>1</td>\n",
              "      <td>0</td>\n",
              "      <td>0</td>\n",
              "      <td>0</td>\n",
              "      <td>0</td>\n",
              "      <td>0</td>\n",
              "    </tr>\n",
              "    <tr>\n",
              "      <th>2</th>\n",
              "      <td>서울특별시</td>\n",
              "      <td>서대문구</td>\n",
              "      <td>경찰청어린이집</td>\n",
              "      <td>90</td>\n",
              "      <td>23.0</td>\n",
              "      <td>0</td>\n",
              "      <td>2018-07-31</td>\n",
              "      <td>0</td>\n",
              "      <td>0</td>\n",
              "      <td>0</td>\n",
              "      <td>0</td>\n",
              "      <td>0</td>\n",
              "      <td>1</td>\n",
              "      <td>0</td>\n",
              "    </tr>\n",
              "    <tr>\n",
              "      <th>3</th>\n",
              "      <td>서울특별시</td>\n",
              "      <td>서대문구</td>\n",
              "      <td>고운햇살어린이집</td>\n",
              "      <td>18</td>\n",
              "      <td>5.0</td>\n",
              "      <td>0</td>\n",
              "      <td>2018-07-31</td>\n",
              "      <td>1</td>\n",
              "      <td>0</td>\n",
              "      <td>0</td>\n",
              "      <td>0</td>\n",
              "      <td>0</td>\n",
              "      <td>0</td>\n",
              "      <td>0</td>\n",
              "    </tr>\n",
              "    <tr>\n",
              "      <th>4</th>\n",
              "      <td>서울특별시</td>\n",
              "      <td>서대문구</td>\n",
              "      <td>고은어린이집</td>\n",
              "      <td>93</td>\n",
              "      <td>20.0</td>\n",
              "      <td>0</td>\n",
              "      <td>2018-07-31</td>\n",
              "      <td>0</td>\n",
              "      <td>1</td>\n",
              "      <td>0</td>\n",
              "      <td>0</td>\n",
              "      <td>0</td>\n",
              "      <td>0</td>\n",
              "      <td>0</td>\n",
              "    </tr>\n",
              "    <tr>\n",
              "      <th>...</th>\n",
              "      <td>...</td>\n",
              "      <td>...</td>\n",
              "      <td>...</td>\n",
              "      <td>...</td>\n",
              "      <td>...</td>\n",
              "      <td>...</td>\n",
              "      <td>...</td>\n",
              "      <td>...</td>\n",
              "      <td>...</td>\n",
              "      <td>...</td>\n",
              "      <td>...</td>\n",
              "      <td>...</td>\n",
              "      <td>...</td>\n",
              "      <td>...</td>\n",
              "    </tr>\n",
              "    <tr>\n",
              "      <th>7546</th>\n",
              "      <td>부산광역시</td>\n",
              "      <td>금정구</td>\n",
              "      <td>해바라기어린이집</td>\n",
              "      <td>46</td>\n",
              "      <td>13.0</td>\n",
              "      <td>1</td>\n",
              "      <td>2019-01-21</td>\n",
              "      <td>0</td>\n",
              "      <td>0</td>\n",
              "      <td>1</td>\n",
              "      <td>0</td>\n",
              "      <td>0</td>\n",
              "      <td>0</td>\n",
              "      <td>0</td>\n",
              "    </tr>\n",
              "    <tr>\n",
              "      <th>7547</th>\n",
              "      <td>부산광역시</td>\n",
              "      <td>금정구</td>\n",
              "      <td>해수어린이집</td>\n",
              "      <td>19</td>\n",
              "      <td>6.0</td>\n",
              "      <td>1</td>\n",
              "      <td>2019-01-21</td>\n",
              "      <td>1</td>\n",
              "      <td>0</td>\n",
              "      <td>0</td>\n",
              "      <td>0</td>\n",
              "      <td>0</td>\n",
              "      <td>0</td>\n",
              "      <td>0</td>\n",
              "    </tr>\n",
              "    <tr>\n",
              "      <th>7548</th>\n",
              "      <td>부산광역시</td>\n",
              "      <td>금정구</td>\n",
              "      <td>행복한그림동산어린이집</td>\n",
              "      <td>92</td>\n",
              "      <td>16.0</td>\n",
              "      <td>1</td>\n",
              "      <td>2019-01-21</td>\n",
              "      <td>0</td>\n",
              "      <td>0</td>\n",
              "      <td>1</td>\n",
              "      <td>0</td>\n",
              "      <td>0</td>\n",
              "      <td>0</td>\n",
              "      <td>0</td>\n",
              "    </tr>\n",
              "    <tr>\n",
              "      <th>7549</th>\n",
              "      <td>부산광역시</td>\n",
              "      <td>금정구</td>\n",
              "      <td>행복한어린이집</td>\n",
              "      <td>43</td>\n",
              "      <td>12.0</td>\n",
              "      <td>1</td>\n",
              "      <td>2019-01-21</td>\n",
              "      <td>0</td>\n",
              "      <td>0</td>\n",
              "      <td>1</td>\n",
              "      <td>0</td>\n",
              "      <td>0</td>\n",
              "      <td>0</td>\n",
              "      <td>0</td>\n",
              "    </tr>\n",
              "    <tr>\n",
              "      <th>7550</th>\n",
              "      <td>부산광역시</td>\n",
              "      <td>금정구</td>\n",
              "      <td>혜인어린이집</td>\n",
              "      <td>32</td>\n",
              "      <td>7.0</td>\n",
              "      <td>1</td>\n",
              "      <td>2019-01-21</td>\n",
              "      <td>0</td>\n",
              "      <td>0</td>\n",
              "      <td>1</td>\n",
              "      <td>0</td>\n",
              "      <td>0</td>\n",
              "      <td>0</td>\n",
              "      <td>0</td>\n",
              "    </tr>\n",
              "  </tbody>\n",
              "</table>\n",
              "<p>7551 rows × 14 columns</p>\n",
              "</div>"
            ],
            "text/plain": [
              "       city    gu day_care_name  day_care_baby_num  ...  법인·단체  사회복지법인 직장  협동\n",
              "0     서울특별시  서대문구        가람어린이집                 70  ...      0       0  0   0\n",
              "1     서울특별시  서대문구      가좌제일어린이집                 88  ...      0       0  0   0\n",
              "2     서울특별시  서대문구       경찰청어린이집                 90  ...      0       0  1   0\n",
              "3     서울특별시  서대문구      고운햇살어린이집                 18  ...      0       0  0   0\n",
              "4     서울특별시  서대문구        고은어린이집                 93  ...      0       0  0   0\n",
              "...     ...   ...           ...                ...  ...    ...     ... ..  ..\n",
              "7546  부산광역시   금정구      해바라기어린이집                 46  ...      0       0  0   0\n",
              "7547  부산광역시   금정구        해수어린이집                 19  ...      0       0  0   0\n",
              "7548  부산광역시   금정구   행복한그림동산어린이집                 92  ...      0       0  0   0\n",
              "7549  부산광역시   금정구       행복한어린이집                 43  ...      0       0  0   0\n",
              "7550  부산광역시   금정구        혜인어린이집                 32  ...      0       0  0   0\n",
              "\n",
              "[7551 rows x 14 columns]"
            ]
          },
          "metadata": {
            "tags": []
          },
          "execution_count": 95
        }
      ]
    },
    {
      "cell_type": "code",
      "metadata": {
        "id": "9CorFIL5yuSO"
      },
      "source": [
        "drop_cols = ['city', 'transaction_id', 'jibun', 'apt', 'addr_kr', 'transaction_date']\n",
        "seoul_df2 = seoul_df.drop(drop_cols, axis=1)\n",
        "busan_df2 = busan_df.drop(drop_cols, axis=1)\n",
        "seoul_te_df2 = seoul_te.drop(drop_cols, axis=1)\n",
        "busan_te_df2 = busan_te.drop(drop_cols, axis=1)"
      ],
      "execution_count": null,
      "outputs": []
    },
    {
      "cell_type": "code",
      "metadata": {
        "id": "XWKOkqtzyuSO",
        "colab": {
          "base_uri": "https://localhost:8080/",
          "height": 514
        },
        "outputId": "24267b7f-432c-4b77-cc62-bf8d53e4486c"
      },
      "source": [
        "pd.get_dummies(seoul_df2['dong'])"
      ],
      "execution_count": null,
      "outputs": [
        {
          "output_type": "execute_result",
          "data": {
            "text/html": [
              "<div>\n",
              "<style scoped>\n",
              "    .dataframe tbody tr th:only-of-type {\n",
              "        vertical-align: middle;\n",
              "    }\n",
              "\n",
              "    .dataframe tbody tr th {\n",
              "        vertical-align: top;\n",
              "    }\n",
              "\n",
              "    .dataframe thead th {\n",
              "        text-align: right;\n",
              "    }\n",
              "</style>\n",
              "<table border=\"1\" class=\"dataframe\">\n",
              "  <thead>\n",
              "    <tr style=\"text-align: right;\">\n",
              "      <th></th>\n",
              "      <th>가락동</th>\n",
              "      <th>가리봉동</th>\n",
              "      <th>가산동</th>\n",
              "      <th>가양동</th>\n",
              "      <th>갈월동</th>\n",
              "      <th>갈현동</th>\n",
              "      <th>강일동</th>\n",
              "      <th>개봉동</th>\n",
              "      <th>개포동</th>\n",
              "      <th>거여동</th>\n",
              "      <th>견지동</th>\n",
              "      <th>고덕동</th>\n",
              "      <th>고척동</th>\n",
              "      <th>공덕동</th>\n",
              "      <th>공릉동</th>\n",
              "      <th>공항동</th>\n",
              "      <th>광장동</th>\n",
              "      <th>교남동</th>\n",
              "      <th>교북동</th>\n",
              "      <th>구기동</th>\n",
              "      <th>구로동</th>\n",
              "      <th>구산동</th>\n",
              "      <th>구수동</th>\n",
              "      <th>구의동</th>\n",
              "      <th>군자동</th>\n",
              "      <th>궁동</th>\n",
              "      <th>금호동1가</th>\n",
              "      <th>금호동2가</th>\n",
              "      <th>금호동3가</th>\n",
              "      <th>금호동4가</th>\n",
              "      <th>길동</th>\n",
              "      <th>길음동</th>\n",
              "      <th>낙원동</th>\n",
              "      <th>남가좌동</th>\n",
              "      <th>남대문로5가</th>\n",
              "      <th>남산동2가</th>\n",
              "      <th>남창동</th>\n",
              "      <th>남현동</th>\n",
              "      <th>내곡동</th>\n",
              "      <th>내발산동</th>\n",
              "      <th>...</th>\n",
              "      <th>충정로2가</th>\n",
              "      <th>충정로3가</th>\n",
              "      <th>토정동</th>\n",
              "      <th>통인동</th>\n",
              "      <th>평창동</th>\n",
              "      <th>풍납동</th>\n",
              "      <th>필동1가</th>\n",
              "      <th>필동3가</th>\n",
              "      <th>필운동</th>\n",
              "      <th>하계동</th>\n",
              "      <th>하왕십리동</th>\n",
              "      <th>하월곡동</th>\n",
              "      <th>하중동</th>\n",
              "      <th>한강로1가</th>\n",
              "      <th>한강로2가</th>\n",
              "      <th>한강로3가</th>\n",
              "      <th>한남동</th>\n",
              "      <th>합동</th>\n",
              "      <th>합정동</th>\n",
              "      <th>항동</th>\n",
              "      <th>행당동</th>\n",
              "      <th>행촌동</th>\n",
              "      <th>현석동</th>\n",
              "      <th>현저동</th>\n",
              "      <th>혜화동</th>\n",
              "      <th>홍은동</th>\n",
              "      <th>홍익동</th>\n",
              "      <th>홍제동</th>\n",
              "      <th>화곡동</th>\n",
              "      <th>화양동</th>\n",
              "      <th>황학동</th>\n",
              "      <th>회기동</th>\n",
              "      <th>회현동1가</th>\n",
              "      <th>회현동2가</th>\n",
              "      <th>효제동</th>\n",
              "      <th>효창동</th>\n",
              "      <th>후암동</th>\n",
              "      <th>휘경동</th>\n",
              "      <th>흑석동</th>\n",
              "      <th>흥인동</th>\n",
              "    </tr>\n",
              "  </thead>\n",
              "  <tbody>\n",
              "    <tr>\n",
              "      <th>0</th>\n",
              "      <td>0</td>\n",
              "      <td>0</td>\n",
              "      <td>0</td>\n",
              "      <td>0</td>\n",
              "      <td>0</td>\n",
              "      <td>0</td>\n",
              "      <td>0</td>\n",
              "      <td>0</td>\n",
              "      <td>0</td>\n",
              "      <td>0</td>\n",
              "      <td>0</td>\n",
              "      <td>0</td>\n",
              "      <td>0</td>\n",
              "      <td>0</td>\n",
              "      <td>0</td>\n",
              "      <td>0</td>\n",
              "      <td>0</td>\n",
              "      <td>0</td>\n",
              "      <td>0</td>\n",
              "      <td>0</td>\n",
              "      <td>0</td>\n",
              "      <td>0</td>\n",
              "      <td>0</td>\n",
              "      <td>0</td>\n",
              "      <td>0</td>\n",
              "      <td>0</td>\n",
              "      <td>0</td>\n",
              "      <td>0</td>\n",
              "      <td>0</td>\n",
              "      <td>0</td>\n",
              "      <td>0</td>\n",
              "      <td>0</td>\n",
              "      <td>0</td>\n",
              "      <td>0</td>\n",
              "      <td>0</td>\n",
              "      <td>0</td>\n",
              "      <td>0</td>\n",
              "      <td>0</td>\n",
              "      <td>0</td>\n",
              "      <td>0</td>\n",
              "      <td>...</td>\n",
              "      <td>0</td>\n",
              "      <td>0</td>\n",
              "      <td>0</td>\n",
              "      <td>0</td>\n",
              "      <td>0</td>\n",
              "      <td>0</td>\n",
              "      <td>0</td>\n",
              "      <td>0</td>\n",
              "      <td>0</td>\n",
              "      <td>0</td>\n",
              "      <td>0</td>\n",
              "      <td>0</td>\n",
              "      <td>0</td>\n",
              "      <td>0</td>\n",
              "      <td>0</td>\n",
              "      <td>0</td>\n",
              "      <td>0</td>\n",
              "      <td>0</td>\n",
              "      <td>0</td>\n",
              "      <td>0</td>\n",
              "      <td>0</td>\n",
              "      <td>0</td>\n",
              "      <td>0</td>\n",
              "      <td>0</td>\n",
              "      <td>0</td>\n",
              "      <td>0</td>\n",
              "      <td>0</td>\n",
              "      <td>0</td>\n",
              "      <td>0</td>\n",
              "      <td>0</td>\n",
              "      <td>0</td>\n",
              "      <td>0</td>\n",
              "      <td>0</td>\n",
              "      <td>0</td>\n",
              "      <td>0</td>\n",
              "      <td>0</td>\n",
              "      <td>0</td>\n",
              "      <td>0</td>\n",
              "      <td>0</td>\n",
              "      <td>0</td>\n",
              "    </tr>\n",
              "    <tr>\n",
              "      <th>1</th>\n",
              "      <td>0</td>\n",
              "      <td>0</td>\n",
              "      <td>0</td>\n",
              "      <td>0</td>\n",
              "      <td>0</td>\n",
              "      <td>0</td>\n",
              "      <td>0</td>\n",
              "      <td>0</td>\n",
              "      <td>0</td>\n",
              "      <td>0</td>\n",
              "      <td>0</td>\n",
              "      <td>0</td>\n",
              "      <td>0</td>\n",
              "      <td>0</td>\n",
              "      <td>0</td>\n",
              "      <td>0</td>\n",
              "      <td>0</td>\n",
              "      <td>0</td>\n",
              "      <td>0</td>\n",
              "      <td>0</td>\n",
              "      <td>0</td>\n",
              "      <td>0</td>\n",
              "      <td>0</td>\n",
              "      <td>0</td>\n",
              "      <td>0</td>\n",
              "      <td>0</td>\n",
              "      <td>0</td>\n",
              "      <td>0</td>\n",
              "      <td>0</td>\n",
              "      <td>0</td>\n",
              "      <td>0</td>\n",
              "      <td>0</td>\n",
              "      <td>0</td>\n",
              "      <td>0</td>\n",
              "      <td>0</td>\n",
              "      <td>0</td>\n",
              "      <td>0</td>\n",
              "      <td>0</td>\n",
              "      <td>0</td>\n",
              "      <td>0</td>\n",
              "      <td>...</td>\n",
              "      <td>0</td>\n",
              "      <td>0</td>\n",
              "      <td>0</td>\n",
              "      <td>0</td>\n",
              "      <td>0</td>\n",
              "      <td>0</td>\n",
              "      <td>0</td>\n",
              "      <td>0</td>\n",
              "      <td>1</td>\n",
              "      <td>0</td>\n",
              "      <td>0</td>\n",
              "      <td>0</td>\n",
              "      <td>0</td>\n",
              "      <td>0</td>\n",
              "      <td>0</td>\n",
              "      <td>0</td>\n",
              "      <td>0</td>\n",
              "      <td>0</td>\n",
              "      <td>0</td>\n",
              "      <td>0</td>\n",
              "      <td>0</td>\n",
              "      <td>0</td>\n",
              "      <td>0</td>\n",
              "      <td>0</td>\n",
              "      <td>0</td>\n",
              "      <td>0</td>\n",
              "      <td>0</td>\n",
              "      <td>0</td>\n",
              "      <td>0</td>\n",
              "      <td>0</td>\n",
              "      <td>0</td>\n",
              "      <td>0</td>\n",
              "      <td>0</td>\n",
              "      <td>0</td>\n",
              "      <td>0</td>\n",
              "      <td>0</td>\n",
              "      <td>0</td>\n",
              "      <td>0</td>\n",
              "      <td>0</td>\n",
              "      <td>0</td>\n",
              "    </tr>\n",
              "    <tr>\n",
              "      <th>2</th>\n",
              "      <td>0</td>\n",
              "      <td>0</td>\n",
              "      <td>0</td>\n",
              "      <td>0</td>\n",
              "      <td>0</td>\n",
              "      <td>0</td>\n",
              "      <td>0</td>\n",
              "      <td>0</td>\n",
              "      <td>0</td>\n",
              "      <td>0</td>\n",
              "      <td>0</td>\n",
              "      <td>0</td>\n",
              "      <td>0</td>\n",
              "      <td>0</td>\n",
              "      <td>0</td>\n",
              "      <td>0</td>\n",
              "      <td>0</td>\n",
              "      <td>0</td>\n",
              "      <td>0</td>\n",
              "      <td>0</td>\n",
              "      <td>0</td>\n",
              "      <td>0</td>\n",
              "      <td>0</td>\n",
              "      <td>0</td>\n",
              "      <td>0</td>\n",
              "      <td>0</td>\n",
              "      <td>0</td>\n",
              "      <td>0</td>\n",
              "      <td>0</td>\n",
              "      <td>0</td>\n",
              "      <td>0</td>\n",
              "      <td>0</td>\n",
              "      <td>0</td>\n",
              "      <td>0</td>\n",
              "      <td>0</td>\n",
              "      <td>0</td>\n",
              "      <td>0</td>\n",
              "      <td>0</td>\n",
              "      <td>0</td>\n",
              "      <td>0</td>\n",
              "      <td>...</td>\n",
              "      <td>0</td>\n",
              "      <td>0</td>\n",
              "      <td>0</td>\n",
              "      <td>0</td>\n",
              "      <td>0</td>\n",
              "      <td>0</td>\n",
              "      <td>0</td>\n",
              "      <td>0</td>\n",
              "      <td>1</td>\n",
              "      <td>0</td>\n",
              "      <td>0</td>\n",
              "      <td>0</td>\n",
              "      <td>0</td>\n",
              "      <td>0</td>\n",
              "      <td>0</td>\n",
              "      <td>0</td>\n",
              "      <td>0</td>\n",
              "      <td>0</td>\n",
              "      <td>0</td>\n",
              "      <td>0</td>\n",
              "      <td>0</td>\n",
              "      <td>0</td>\n",
              "      <td>0</td>\n",
              "      <td>0</td>\n",
              "      <td>0</td>\n",
              "      <td>0</td>\n",
              "      <td>0</td>\n",
              "      <td>0</td>\n",
              "      <td>0</td>\n",
              "      <td>0</td>\n",
              "      <td>0</td>\n",
              "      <td>0</td>\n",
              "      <td>0</td>\n",
              "      <td>0</td>\n",
              "      <td>0</td>\n",
              "      <td>0</td>\n",
              "      <td>0</td>\n",
              "      <td>0</td>\n",
              "      <td>0</td>\n",
              "      <td>0</td>\n",
              "    </tr>\n",
              "    <tr>\n",
              "      <th>3</th>\n",
              "      <td>0</td>\n",
              "      <td>0</td>\n",
              "      <td>0</td>\n",
              "      <td>0</td>\n",
              "      <td>0</td>\n",
              "      <td>0</td>\n",
              "      <td>0</td>\n",
              "      <td>0</td>\n",
              "      <td>0</td>\n",
              "      <td>0</td>\n",
              "      <td>0</td>\n",
              "      <td>0</td>\n",
              "      <td>0</td>\n",
              "      <td>0</td>\n",
              "      <td>0</td>\n",
              "      <td>0</td>\n",
              "      <td>0</td>\n",
              "      <td>0</td>\n",
              "      <td>0</td>\n",
              "      <td>0</td>\n",
              "      <td>0</td>\n",
              "      <td>0</td>\n",
              "      <td>0</td>\n",
              "      <td>0</td>\n",
              "      <td>0</td>\n",
              "      <td>0</td>\n",
              "      <td>0</td>\n",
              "      <td>0</td>\n",
              "      <td>0</td>\n",
              "      <td>0</td>\n",
              "      <td>0</td>\n",
              "      <td>0</td>\n",
              "      <td>0</td>\n",
              "      <td>0</td>\n",
              "      <td>0</td>\n",
              "      <td>0</td>\n",
              "      <td>0</td>\n",
              "      <td>0</td>\n",
              "      <td>0</td>\n",
              "      <td>0</td>\n",
              "      <td>...</td>\n",
              "      <td>0</td>\n",
              "      <td>0</td>\n",
              "      <td>0</td>\n",
              "      <td>0</td>\n",
              "      <td>0</td>\n",
              "      <td>0</td>\n",
              "      <td>0</td>\n",
              "      <td>0</td>\n",
              "      <td>0</td>\n",
              "      <td>0</td>\n",
              "      <td>0</td>\n",
              "      <td>0</td>\n",
              "      <td>0</td>\n",
              "      <td>0</td>\n",
              "      <td>0</td>\n",
              "      <td>0</td>\n",
              "      <td>0</td>\n",
              "      <td>0</td>\n",
              "      <td>0</td>\n",
              "      <td>0</td>\n",
              "      <td>0</td>\n",
              "      <td>0</td>\n",
              "      <td>0</td>\n",
              "      <td>0</td>\n",
              "      <td>0</td>\n",
              "      <td>0</td>\n",
              "      <td>0</td>\n",
              "      <td>0</td>\n",
              "      <td>0</td>\n",
              "      <td>0</td>\n",
              "      <td>0</td>\n",
              "      <td>0</td>\n",
              "      <td>0</td>\n",
              "      <td>0</td>\n",
              "      <td>0</td>\n",
              "      <td>0</td>\n",
              "      <td>0</td>\n",
              "      <td>0</td>\n",
              "      <td>0</td>\n",
              "      <td>0</td>\n",
              "    </tr>\n",
              "    <tr>\n",
              "      <th>4</th>\n",
              "      <td>0</td>\n",
              "      <td>0</td>\n",
              "      <td>0</td>\n",
              "      <td>0</td>\n",
              "      <td>0</td>\n",
              "      <td>0</td>\n",
              "      <td>0</td>\n",
              "      <td>0</td>\n",
              "      <td>0</td>\n",
              "      <td>0</td>\n",
              "      <td>0</td>\n",
              "      <td>0</td>\n",
              "      <td>0</td>\n",
              "      <td>0</td>\n",
              "      <td>0</td>\n",
              "      <td>0</td>\n",
              "      <td>0</td>\n",
              "      <td>0</td>\n",
              "      <td>0</td>\n",
              "      <td>0</td>\n",
              "      <td>0</td>\n",
              "      <td>0</td>\n",
              "      <td>0</td>\n",
              "      <td>0</td>\n",
              "      <td>0</td>\n",
              "      <td>0</td>\n",
              "      <td>0</td>\n",
              "      <td>0</td>\n",
              "      <td>0</td>\n",
              "      <td>0</td>\n",
              "      <td>0</td>\n",
              "      <td>0</td>\n",
              "      <td>0</td>\n",
              "      <td>0</td>\n",
              "      <td>0</td>\n",
              "      <td>0</td>\n",
              "      <td>0</td>\n",
              "      <td>0</td>\n",
              "      <td>0</td>\n",
              "      <td>0</td>\n",
              "      <td>...</td>\n",
              "      <td>0</td>\n",
              "      <td>0</td>\n",
              "      <td>0</td>\n",
              "      <td>0</td>\n",
              "      <td>0</td>\n",
              "      <td>0</td>\n",
              "      <td>0</td>\n",
              "      <td>0</td>\n",
              "      <td>0</td>\n",
              "      <td>0</td>\n",
              "      <td>0</td>\n",
              "      <td>0</td>\n",
              "      <td>0</td>\n",
              "      <td>0</td>\n",
              "      <td>0</td>\n",
              "      <td>0</td>\n",
              "      <td>0</td>\n",
              "      <td>0</td>\n",
              "      <td>0</td>\n",
              "      <td>0</td>\n",
              "      <td>0</td>\n",
              "      <td>0</td>\n",
              "      <td>0</td>\n",
              "      <td>0</td>\n",
              "      <td>0</td>\n",
              "      <td>0</td>\n",
              "      <td>0</td>\n",
              "      <td>0</td>\n",
              "      <td>0</td>\n",
              "      <td>0</td>\n",
              "      <td>0</td>\n",
              "      <td>0</td>\n",
              "      <td>0</td>\n",
              "      <td>0</td>\n",
              "      <td>0</td>\n",
              "      <td>0</td>\n",
              "      <td>0</td>\n",
              "      <td>0</td>\n",
              "      <td>0</td>\n",
              "      <td>0</td>\n",
              "    </tr>\n",
              "    <tr>\n",
              "      <th>...</th>\n",
              "      <td>...</td>\n",
              "      <td>...</td>\n",
              "      <td>...</td>\n",
              "      <td>...</td>\n",
              "      <td>...</td>\n",
              "      <td>...</td>\n",
              "      <td>...</td>\n",
              "      <td>...</td>\n",
              "      <td>...</td>\n",
              "      <td>...</td>\n",
              "      <td>...</td>\n",
              "      <td>...</td>\n",
              "      <td>...</td>\n",
              "      <td>...</td>\n",
              "      <td>...</td>\n",
              "      <td>...</td>\n",
              "      <td>...</td>\n",
              "      <td>...</td>\n",
              "      <td>...</td>\n",
              "      <td>...</td>\n",
              "      <td>...</td>\n",
              "      <td>...</td>\n",
              "      <td>...</td>\n",
              "      <td>...</td>\n",
              "      <td>...</td>\n",
              "      <td>...</td>\n",
              "      <td>...</td>\n",
              "      <td>...</td>\n",
              "      <td>...</td>\n",
              "      <td>...</td>\n",
              "      <td>...</td>\n",
              "      <td>...</td>\n",
              "      <td>...</td>\n",
              "      <td>...</td>\n",
              "      <td>...</td>\n",
              "      <td>...</td>\n",
              "      <td>...</td>\n",
              "      <td>...</td>\n",
              "      <td>...</td>\n",
              "      <td>...</td>\n",
              "      <td>...</td>\n",
              "      <td>...</td>\n",
              "      <td>...</td>\n",
              "      <td>...</td>\n",
              "      <td>...</td>\n",
              "      <td>...</td>\n",
              "      <td>...</td>\n",
              "      <td>...</td>\n",
              "      <td>...</td>\n",
              "      <td>...</td>\n",
              "      <td>...</td>\n",
              "      <td>...</td>\n",
              "      <td>...</td>\n",
              "      <td>...</td>\n",
              "      <td>...</td>\n",
              "      <td>...</td>\n",
              "      <td>...</td>\n",
              "      <td>...</td>\n",
              "      <td>...</td>\n",
              "      <td>...</td>\n",
              "      <td>...</td>\n",
              "      <td>...</td>\n",
              "      <td>...</td>\n",
              "      <td>...</td>\n",
              "      <td>...</td>\n",
              "      <td>...</td>\n",
              "      <td>...</td>\n",
              "      <td>...</td>\n",
              "      <td>...</td>\n",
              "      <td>...</td>\n",
              "      <td>...</td>\n",
              "      <td>...</td>\n",
              "      <td>...</td>\n",
              "      <td>...</td>\n",
              "      <td>...</td>\n",
              "      <td>...</td>\n",
              "      <td>...</td>\n",
              "      <td>...</td>\n",
              "      <td>...</td>\n",
              "      <td>...</td>\n",
              "      <td>...</td>\n",
              "    </tr>\n",
              "    <tr>\n",
              "      <th>742280</th>\n",
              "      <td>0</td>\n",
              "      <td>0</td>\n",
              "      <td>0</td>\n",
              "      <td>0</td>\n",
              "      <td>0</td>\n",
              "      <td>0</td>\n",
              "      <td>1</td>\n",
              "      <td>0</td>\n",
              "      <td>0</td>\n",
              "      <td>0</td>\n",
              "      <td>0</td>\n",
              "      <td>0</td>\n",
              "      <td>0</td>\n",
              "      <td>0</td>\n",
              "      <td>0</td>\n",
              "      <td>0</td>\n",
              "      <td>0</td>\n",
              "      <td>0</td>\n",
              "      <td>0</td>\n",
              "      <td>0</td>\n",
              "      <td>0</td>\n",
              "      <td>0</td>\n",
              "      <td>0</td>\n",
              "      <td>0</td>\n",
              "      <td>0</td>\n",
              "      <td>0</td>\n",
              "      <td>0</td>\n",
              "      <td>0</td>\n",
              "      <td>0</td>\n",
              "      <td>0</td>\n",
              "      <td>0</td>\n",
              "      <td>0</td>\n",
              "      <td>0</td>\n",
              "      <td>0</td>\n",
              "      <td>0</td>\n",
              "      <td>0</td>\n",
              "      <td>0</td>\n",
              "      <td>0</td>\n",
              "      <td>0</td>\n",
              "      <td>0</td>\n",
              "      <td>...</td>\n",
              "      <td>0</td>\n",
              "      <td>0</td>\n",
              "      <td>0</td>\n",
              "      <td>0</td>\n",
              "      <td>0</td>\n",
              "      <td>0</td>\n",
              "      <td>0</td>\n",
              "      <td>0</td>\n",
              "      <td>0</td>\n",
              "      <td>0</td>\n",
              "      <td>0</td>\n",
              "      <td>0</td>\n",
              "      <td>0</td>\n",
              "      <td>0</td>\n",
              "      <td>0</td>\n",
              "      <td>0</td>\n",
              "      <td>0</td>\n",
              "      <td>0</td>\n",
              "      <td>0</td>\n",
              "      <td>0</td>\n",
              "      <td>0</td>\n",
              "      <td>0</td>\n",
              "      <td>0</td>\n",
              "      <td>0</td>\n",
              "      <td>0</td>\n",
              "      <td>0</td>\n",
              "      <td>0</td>\n",
              "      <td>0</td>\n",
              "      <td>0</td>\n",
              "      <td>0</td>\n",
              "      <td>0</td>\n",
              "      <td>0</td>\n",
              "      <td>0</td>\n",
              "      <td>0</td>\n",
              "      <td>0</td>\n",
              "      <td>0</td>\n",
              "      <td>0</td>\n",
              "      <td>0</td>\n",
              "      <td>0</td>\n",
              "      <td>0</td>\n",
              "    </tr>\n",
              "    <tr>\n",
              "      <th>742281</th>\n",
              "      <td>0</td>\n",
              "      <td>0</td>\n",
              "      <td>0</td>\n",
              "      <td>0</td>\n",
              "      <td>0</td>\n",
              "      <td>0</td>\n",
              "      <td>1</td>\n",
              "      <td>0</td>\n",
              "      <td>0</td>\n",
              "      <td>0</td>\n",
              "      <td>0</td>\n",
              "      <td>0</td>\n",
              "      <td>0</td>\n",
              "      <td>0</td>\n",
              "      <td>0</td>\n",
              "      <td>0</td>\n",
              "      <td>0</td>\n",
              "      <td>0</td>\n",
              "      <td>0</td>\n",
              "      <td>0</td>\n",
              "      <td>0</td>\n",
              "      <td>0</td>\n",
              "      <td>0</td>\n",
              "      <td>0</td>\n",
              "      <td>0</td>\n",
              "      <td>0</td>\n",
              "      <td>0</td>\n",
              "      <td>0</td>\n",
              "      <td>0</td>\n",
              "      <td>0</td>\n",
              "      <td>0</td>\n",
              "      <td>0</td>\n",
              "      <td>0</td>\n",
              "      <td>0</td>\n",
              "      <td>0</td>\n",
              "      <td>0</td>\n",
              "      <td>0</td>\n",
              "      <td>0</td>\n",
              "      <td>0</td>\n",
              "      <td>0</td>\n",
              "      <td>...</td>\n",
              "      <td>0</td>\n",
              "      <td>0</td>\n",
              "      <td>0</td>\n",
              "      <td>0</td>\n",
              "      <td>0</td>\n",
              "      <td>0</td>\n",
              "      <td>0</td>\n",
              "      <td>0</td>\n",
              "      <td>0</td>\n",
              "      <td>0</td>\n",
              "      <td>0</td>\n",
              "      <td>0</td>\n",
              "      <td>0</td>\n",
              "      <td>0</td>\n",
              "      <td>0</td>\n",
              "      <td>0</td>\n",
              "      <td>0</td>\n",
              "      <td>0</td>\n",
              "      <td>0</td>\n",
              "      <td>0</td>\n",
              "      <td>0</td>\n",
              "      <td>0</td>\n",
              "      <td>0</td>\n",
              "      <td>0</td>\n",
              "      <td>0</td>\n",
              "      <td>0</td>\n",
              "      <td>0</td>\n",
              "      <td>0</td>\n",
              "      <td>0</td>\n",
              "      <td>0</td>\n",
              "      <td>0</td>\n",
              "      <td>0</td>\n",
              "      <td>0</td>\n",
              "      <td>0</td>\n",
              "      <td>0</td>\n",
              "      <td>0</td>\n",
              "      <td>0</td>\n",
              "      <td>0</td>\n",
              "      <td>0</td>\n",
              "      <td>0</td>\n",
              "    </tr>\n",
              "    <tr>\n",
              "      <th>742282</th>\n",
              "      <td>0</td>\n",
              "      <td>0</td>\n",
              "      <td>0</td>\n",
              "      <td>0</td>\n",
              "      <td>0</td>\n",
              "      <td>0</td>\n",
              "      <td>1</td>\n",
              "      <td>0</td>\n",
              "      <td>0</td>\n",
              "      <td>0</td>\n",
              "      <td>0</td>\n",
              "      <td>0</td>\n",
              "      <td>0</td>\n",
              "      <td>0</td>\n",
              "      <td>0</td>\n",
              "      <td>0</td>\n",
              "      <td>0</td>\n",
              "      <td>0</td>\n",
              "      <td>0</td>\n",
              "      <td>0</td>\n",
              "      <td>0</td>\n",
              "      <td>0</td>\n",
              "      <td>0</td>\n",
              "      <td>0</td>\n",
              "      <td>0</td>\n",
              "      <td>0</td>\n",
              "      <td>0</td>\n",
              "      <td>0</td>\n",
              "      <td>0</td>\n",
              "      <td>0</td>\n",
              "      <td>0</td>\n",
              "      <td>0</td>\n",
              "      <td>0</td>\n",
              "      <td>0</td>\n",
              "      <td>0</td>\n",
              "      <td>0</td>\n",
              "      <td>0</td>\n",
              "      <td>0</td>\n",
              "      <td>0</td>\n",
              "      <td>0</td>\n",
              "      <td>...</td>\n",
              "      <td>0</td>\n",
              "      <td>0</td>\n",
              "      <td>0</td>\n",
              "      <td>0</td>\n",
              "      <td>0</td>\n",
              "      <td>0</td>\n",
              "      <td>0</td>\n",
              "      <td>0</td>\n",
              "      <td>0</td>\n",
              "      <td>0</td>\n",
              "      <td>0</td>\n",
              "      <td>0</td>\n",
              "      <td>0</td>\n",
              "      <td>0</td>\n",
              "      <td>0</td>\n",
              "      <td>0</td>\n",
              "      <td>0</td>\n",
              "      <td>0</td>\n",
              "      <td>0</td>\n",
              "      <td>0</td>\n",
              "      <td>0</td>\n",
              "      <td>0</td>\n",
              "      <td>0</td>\n",
              "      <td>0</td>\n",
              "      <td>0</td>\n",
              "      <td>0</td>\n",
              "      <td>0</td>\n",
              "      <td>0</td>\n",
              "      <td>0</td>\n",
              "      <td>0</td>\n",
              "      <td>0</td>\n",
              "      <td>0</td>\n",
              "      <td>0</td>\n",
              "      <td>0</td>\n",
              "      <td>0</td>\n",
              "      <td>0</td>\n",
              "      <td>0</td>\n",
              "      <td>0</td>\n",
              "      <td>0</td>\n",
              "      <td>0</td>\n",
              "    </tr>\n",
              "    <tr>\n",
              "      <th>742283</th>\n",
              "      <td>0</td>\n",
              "      <td>0</td>\n",
              "      <td>0</td>\n",
              "      <td>0</td>\n",
              "      <td>0</td>\n",
              "      <td>0</td>\n",
              "      <td>1</td>\n",
              "      <td>0</td>\n",
              "      <td>0</td>\n",
              "      <td>0</td>\n",
              "      <td>0</td>\n",
              "      <td>0</td>\n",
              "      <td>0</td>\n",
              "      <td>0</td>\n",
              "      <td>0</td>\n",
              "      <td>0</td>\n",
              "      <td>0</td>\n",
              "      <td>0</td>\n",
              "      <td>0</td>\n",
              "      <td>0</td>\n",
              "      <td>0</td>\n",
              "      <td>0</td>\n",
              "      <td>0</td>\n",
              "      <td>0</td>\n",
              "      <td>0</td>\n",
              "      <td>0</td>\n",
              "      <td>0</td>\n",
              "      <td>0</td>\n",
              "      <td>0</td>\n",
              "      <td>0</td>\n",
              "      <td>0</td>\n",
              "      <td>0</td>\n",
              "      <td>0</td>\n",
              "      <td>0</td>\n",
              "      <td>0</td>\n",
              "      <td>0</td>\n",
              "      <td>0</td>\n",
              "      <td>0</td>\n",
              "      <td>0</td>\n",
              "      <td>0</td>\n",
              "      <td>...</td>\n",
              "      <td>0</td>\n",
              "      <td>0</td>\n",
              "      <td>0</td>\n",
              "      <td>0</td>\n",
              "      <td>0</td>\n",
              "      <td>0</td>\n",
              "      <td>0</td>\n",
              "      <td>0</td>\n",
              "      <td>0</td>\n",
              "      <td>0</td>\n",
              "      <td>0</td>\n",
              "      <td>0</td>\n",
              "      <td>0</td>\n",
              "      <td>0</td>\n",
              "      <td>0</td>\n",
              "      <td>0</td>\n",
              "      <td>0</td>\n",
              "      <td>0</td>\n",
              "      <td>0</td>\n",
              "      <td>0</td>\n",
              "      <td>0</td>\n",
              "      <td>0</td>\n",
              "      <td>0</td>\n",
              "      <td>0</td>\n",
              "      <td>0</td>\n",
              "      <td>0</td>\n",
              "      <td>0</td>\n",
              "      <td>0</td>\n",
              "      <td>0</td>\n",
              "      <td>0</td>\n",
              "      <td>0</td>\n",
              "      <td>0</td>\n",
              "      <td>0</td>\n",
              "      <td>0</td>\n",
              "      <td>0</td>\n",
              "      <td>0</td>\n",
              "      <td>0</td>\n",
              "      <td>0</td>\n",
              "      <td>0</td>\n",
              "      <td>0</td>\n",
              "    </tr>\n",
              "    <tr>\n",
              "      <th>742284</th>\n",
              "      <td>0</td>\n",
              "      <td>0</td>\n",
              "      <td>0</td>\n",
              "      <td>0</td>\n",
              "      <td>0</td>\n",
              "      <td>0</td>\n",
              "      <td>1</td>\n",
              "      <td>0</td>\n",
              "      <td>0</td>\n",
              "      <td>0</td>\n",
              "      <td>0</td>\n",
              "      <td>0</td>\n",
              "      <td>0</td>\n",
              "      <td>0</td>\n",
              "      <td>0</td>\n",
              "      <td>0</td>\n",
              "      <td>0</td>\n",
              "      <td>0</td>\n",
              "      <td>0</td>\n",
              "      <td>0</td>\n",
              "      <td>0</td>\n",
              "      <td>0</td>\n",
              "      <td>0</td>\n",
              "      <td>0</td>\n",
              "      <td>0</td>\n",
              "      <td>0</td>\n",
              "      <td>0</td>\n",
              "      <td>0</td>\n",
              "      <td>0</td>\n",
              "      <td>0</td>\n",
              "      <td>0</td>\n",
              "      <td>0</td>\n",
              "      <td>0</td>\n",
              "      <td>0</td>\n",
              "      <td>0</td>\n",
              "      <td>0</td>\n",
              "      <td>0</td>\n",
              "      <td>0</td>\n",
              "      <td>0</td>\n",
              "      <td>0</td>\n",
              "      <td>...</td>\n",
              "      <td>0</td>\n",
              "      <td>0</td>\n",
              "      <td>0</td>\n",
              "      <td>0</td>\n",
              "      <td>0</td>\n",
              "      <td>0</td>\n",
              "      <td>0</td>\n",
              "      <td>0</td>\n",
              "      <td>0</td>\n",
              "      <td>0</td>\n",
              "      <td>0</td>\n",
              "      <td>0</td>\n",
              "      <td>0</td>\n",
              "      <td>0</td>\n",
              "      <td>0</td>\n",
              "      <td>0</td>\n",
              "      <td>0</td>\n",
              "      <td>0</td>\n",
              "      <td>0</td>\n",
              "      <td>0</td>\n",
              "      <td>0</td>\n",
              "      <td>0</td>\n",
              "      <td>0</td>\n",
              "      <td>0</td>\n",
              "      <td>0</td>\n",
              "      <td>0</td>\n",
              "      <td>0</td>\n",
              "      <td>0</td>\n",
              "      <td>0</td>\n",
              "      <td>0</td>\n",
              "      <td>0</td>\n",
              "      <td>0</td>\n",
              "      <td>0</td>\n",
              "      <td>0</td>\n",
              "      <td>0</td>\n",
              "      <td>0</td>\n",
              "      <td>0</td>\n",
              "      <td>0</td>\n",
              "      <td>0</td>\n",
              "      <td>0</td>\n",
              "    </tr>\n",
              "  </tbody>\n",
              "</table>\n",
              "<p>742285 rows × 330 columns</p>\n",
              "</div>"
            ],
            "text/plain": [
              "        가락동  가리봉동  가산동  가양동  갈월동  갈현동  강일동  ...  회현동2가  효제동  효창동  후암동  휘경동  흑석동  흥인동\n",
              "0         0     0    0    0    0    0    0  ...      0    0    0    0    0    0    0\n",
              "1         0     0    0    0    0    0    0  ...      0    0    0    0    0    0    0\n",
              "2         0     0    0    0    0    0    0  ...      0    0    0    0    0    0    0\n",
              "3         0     0    0    0    0    0    0  ...      0    0    0    0    0    0    0\n",
              "4         0     0    0    0    0    0    0  ...      0    0    0    0    0    0    0\n",
              "...     ...   ...  ...  ...  ...  ...  ...  ...    ...  ...  ...  ...  ...  ...  ...\n",
              "742280    0     0    0    0    0    0    1  ...      0    0    0    0    0    0    0\n",
              "742281    0     0    0    0    0    0    1  ...      0    0    0    0    0    0    0\n",
              "742282    0     0    0    0    0    0    1  ...      0    0    0    0    0    0    0\n",
              "742283    0     0    0    0    0    0    1  ...      0    0    0    0    0    0    0\n",
              "742284    0     0    0    0    0    0    1  ...      0    0    0    0    0    0    0\n",
              "\n",
              "[742285 rows x 330 columns]"
            ]
          },
          "metadata": {
            "tags": []
          },
          "execution_count": 363
        }
      ]
    },
    {
      "cell_type": "code",
      "metadata": {
        "id": "O_AG7w_AF21x"
      },
      "source": [
        "from sklearn.linear_model import ElasticNet, Lasso,  BayesianRidge, LassoLarsIC\n",
        "from sklearn.ensemble import RandomForestRegressor,  GradientBoostingRegressor\n",
        "from sklearn.kernel_ridge import KernelRidge\n",
        "from sklearn.pipeline import make_pipeline\n",
        "from sklearn.preprocessing import RobustScaler\n",
        "from sklearn.base import BaseEstimator, TransformerMixin, RegressorMixin, clone\n",
        "from sklearn.model_selection import KFold, cross_val_score, train_test_split\n",
        "from sklearn.metrics import mean_squared_error\n",
        "import xgboost as xgb\n",
        "import lightgbm as lgb"
      ],
      "execution_count": null,
      "outputs": []
    },
    {
      "cell_type": "code",
      "metadata": {
        "id": "djK0_BXhyuSO"
      },
      "source": [
        "lasso = make_pipeline(RobustScaler(), Lasso(alpha=0.0005, random_state=1))"
      ],
      "execution_count": null,
      "outputs": []
    },
    {
      "cell_type": "code",
      "metadata": {
        "id": "yZFLTT0SyuSO"
      },
      "source": [
        "n_folds = 5\n"
      ],
      "execution_count": null,
      "outputs": []
    },
    {
      "cell_type": "code",
      "metadata": {
        "id": "0_Dju9fDPBcg"
      },
      "source": [
        ""
      ],
      "execution_count": null,
      "outputs": []
    },
    {
      "cell_type": "code",
      "metadata": {
        "id": "xTI-y2gmyuSO"
      },
      "source": [
        ""
      ],
      "execution_count": null,
      "outputs": []
    },
    {
      "cell_type": "code",
      "metadata": {
        "id": "DYLKLEpZyuSP"
      },
      "source": [
        ""
      ],
      "execution_count": null,
      "outputs": []
    },
    {
      "cell_type": "code",
      "metadata": {
        "id": "8KfLZ4bPyuSP"
      },
      "source": [
        ""
      ],
      "execution_count": null,
      "outputs": []
    }
  ]
}