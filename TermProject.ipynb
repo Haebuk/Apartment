{
  "nbformat": 4,
  "nbformat_minor": 0,
  "metadata": {
    "kernelspec": {
      "display_name": "Python 3",
      "language": "python",
      "name": "python3"
    },
    "language_info": {
      "codemirror_mode": {
        "name": "ipython",
        "version": 3
      },
      "file_extension": ".py",
      "mimetype": "text/x-python",
      "name": "python",
      "nbconvert_exporter": "python",
      "pygments_lexer": "ipython3",
      "version": "3.7.10"
    },
    "toc": {
      "base_numbering": 1,
      "nav_menu": {},
      "number_sections": false,
      "sideBar": true,
      "skip_h1_title": false,
      "title_cell": "Table of Contents",
      "title_sidebar": "Contents",
      "toc_cell": false,
      "toc_position": {
        "height": "calc(100% - 180px)",
        "left": "10px",
        "top": "150px",
        "width": "383.997px"
      },
      "toc_section_display": true,
      "toc_window_display": false
    },
    "varInspector": {
      "cols": {
        "lenName": 16,
        "lenType": 16,
        "lenVar": 40
      },
      "kernels_config": {
        "python": {
          "delete_cmd_postfix": "",
          "delete_cmd_prefix": "del ",
          "library": "var_list.py",
          "varRefreshCmd": "print(var_dic_list())"
        },
        "r": {
          "delete_cmd_postfix": ") ",
          "delete_cmd_prefix": "rm(",
          "library": "var_list.r",
          "varRefreshCmd": "cat(var_dic_list()) "
        }
      },
      "types_to_exclude": [
        "module",
        "function",
        "builtin_function_or_method",
        "instance",
        "_Feature"
      ],
      "window_display": false
    },
    "colab": {
      "name": "TermProject.ipynb",
      "provenance": [],
      "collapsed_sections": [],
      "machine_shape": "hm",
      "include_colab_link": true
    }
  },
  "cells": [
    {
      "cell_type": "markdown",
      "metadata": {
        "id": "view-in-github",
        "colab_type": "text"
      },
      "source": [
        "<a href=\"https://colab.research.google.com/github/Haebuk/dataminingTP/blob/main/TermProject.ipynb\" target=\"_parent\"><img src=\"https://colab.research.google.com/assets/colab-badge.svg\" alt=\"Open In Colab\"/></a>"
      ]
    },
    {
      "cell_type": "markdown",
      "metadata": {
        "id": "smxWmS7tyuRz"
      },
      "source": [
        "# 아파트 실거래가 예측"
      ]
    },
    {
      "cell_type": "code",
      "metadata": {
        "ExecuteTime": {
          "end_time": "2021-05-07T07:45:27.255997Z",
          "start_time": "2021-05-07T07:45:27.249992Z"
        },
        "id": "gUwouTkEyuR3",
        "colab": {
          "base_uri": "https://localhost:8080/"
        },
        "outputId": "30ce92e3-5e73-4c2f-bc31-af6f9e6c51a8"
      },
      "source": [
        "import pandas as pd\n",
        "import numpy as np\n",
        "import matplotlib.pyplot as plt\n",
        "import warnings\n",
        "import seaborn as sns\n",
        "import statsmodels.api as sm\n",
        "import statsmodels.formula.api as smf\n",
        "from tqdm import tqdm\n",
        "from sklearn.linear_model import ElasticNet, Lasso,  BayesianRidge, LassoLarsIC\n",
        "from sklearn.ensemble import RandomForestRegressor,  GradientBoostingRegressor\n",
        "from sklearn.kernel_ridge import KernelRidge\n",
        "from sklearn.pipeline import make_pipeline\n",
        "from sklearn.preprocessing import RobustScaler\n",
        "from sklearn.base import BaseEstimator, TransformerMixin, RegressorMixin, clone\n",
        "from sklearn.model_selection import KFold, cross_val_score, train_test_split\n",
        "from sklearn.metrics import mean_squared_error\n",
        "import xgboost as xgb\n",
        "import lightgbm as lgb"
      ],
      "execution_count": null,
      "outputs": [
        {
          "output_type": "stream",
          "text": [
            "/usr/local/lib/python3.7/dist-packages/statsmodels/tools/_testing.py:19: FutureWarning: pandas.util.testing is deprecated. Use the functions in the public API at pandas.testing instead.\n",
            "  import pandas.util.testing as tm\n"
          ],
          "name": "stderr"
        }
      ]
    },
    {
      "cell_type": "code",
      "metadata": {
        "colab": {
          "base_uri": "https://localhost:8080/"
        },
        "id": "d8ZRFEH7AmAh",
        "outputId": "182ba38b-f3f8-4dc5-b184-2204f74d4bd2"
      },
      "source": [
        "import matplotlib as mpl  # 기본 설정 만지는 용도\n",
        "import matplotlib.pyplot as plt  # 그래프 그리는 용도\n",
        "import matplotlib.font_manager as fm\n",
        "!apt-get update -qq\n",
        "!apt-get install fonts-nanum* -qq\n",
        "path = '/usr/share/fonts/truetype/nanum/NanumGothicEco.ttf'  # 설치된 나눔글꼴중 원하는 녀석의 전체 경로를 가져오자\n",
        "font_name = fm.FontProperties(fname=path, size=10).get_name()\n",
        "print(font_name)\n",
        "plt.rc('font', family=font_name)\n",
        "fm._rebuild()\n",
        "mpl.rcParams['axes.unicode_minus'] = False"
      ],
      "execution_count": null,
      "outputs": [
        {
          "output_type": "stream",
          "text": [
            "NanumGothic Eco\n"
          ],
          "name": "stdout"
        }
      ]
    },
    {
      "cell_type": "markdown",
      "metadata": {
        "id": "1TRIEY3TyuR4"
      },
      "source": [
        "## Data Load"
      ]
    },
    {
      "cell_type": "code",
      "metadata": {
        "colab": {
          "base_uri": "https://localhost:8080/"
        },
        "id": "A3u9N6k6y0QQ",
        "outputId": "7b6422f0-58ba-4ca2-f4e6-b7e2935babff"
      },
      "source": [
        "from google.colab import drive\n",
        "drive.mount('/content/drive')"
      ],
      "execution_count": null,
      "outputs": [
        {
          "output_type": "stream",
          "text": [
            "Drive already mounted at /content/drive; to attempt to forcibly remount, call drive.mount(\"/content/drive\", force_remount=True).\n"
          ],
          "name": "stdout"
        }
      ]
    },
    {
      "cell_type": "code",
      "metadata": {
        "ExecuteTime": {
          "end_time": "2021-05-07T07:45:29.061641Z",
          "start_time": "2021-05-07T07:45:27.256998Z"
        },
        "id": "nWFpn1T3yuR5"
      },
      "source": [
        "PATH = '/content/drive/MyDrive/input/dataminingTP/'\n",
        "train_df = pd.read_csv(PATH + 'train.csv')\n",
        "test_df = pd.read_csv(PATH + 'test.csv')"
      ],
      "execution_count": null,
      "outputs": []
    },
    {
      "cell_type": "markdown",
      "metadata": {
        "id": "rFlOm3HTyuR6"
      },
      "source": [
        "- exclusive_use_area: 전용면적(한 세대만 독점적으로 사용하는 공간)\n",
        "- transaction_real_price: 실거래가(단위:만원, 타겟 값, train만 존재)\n",
        "- transaction_year_month: 거래년월\n",
        "- transaction_date: 거래일\n",
        "- floor: 층 \n",
        "\n",
        "- 데이터가 거래시간 순으로 이루어져 있음"
      ]
    },
    {
      "cell_type": "markdown",
      "metadata": {
        "id": "1oGM0cPpyuR7"
      },
      "source": [
        "## Preprocessing\n",
        "### Train and Test set"
      ]
    },
    {
      "cell_type": "code",
      "metadata": {
        "ExecuteTime": {
          "end_time": "2021-05-07T07:45:29.365917Z",
          "start_time": "2021-05-07T07:45:29.094671Z"
        },
        "scrolled": false,
        "colab": {
          "base_uri": "https://localhost:8080/",
          "height": 290
        },
        "id": "ptHosUTEyuR7",
        "outputId": "abf1f6ce-27d1-4f55-eb11-86664803de16"
      },
      "source": [
        "train_df.describe() "
      ],
      "execution_count": null,
      "outputs": [
        {
          "output_type": "execute_result",
          "data": {
            "text/html": [
              "<div>\n",
              "<style scoped>\n",
              "    .dataframe tbody tr th:only-of-type {\n",
              "        vertical-align: middle;\n",
              "    }\n",
              "\n",
              "    .dataframe tbody tr th {\n",
              "        vertical-align: top;\n",
              "    }\n",
              "\n",
              "    .dataframe thead th {\n",
              "        text-align: right;\n",
              "    }\n",
              "</style>\n",
              "<table border=\"1\" class=\"dataframe\">\n",
              "  <thead>\n",
              "    <tr style=\"text-align: right;\">\n",
              "      <th></th>\n",
              "      <th>transaction_id</th>\n",
              "      <th>apartment_id</th>\n",
              "      <th>exclusive_use_area</th>\n",
              "      <th>year_of_completion</th>\n",
              "      <th>transaction_year_month</th>\n",
              "      <th>floor</th>\n",
              "      <th>transaction_real_price</th>\n",
              "    </tr>\n",
              "  </thead>\n",
              "  <tbody>\n",
              "    <tr>\n",
              "      <th>count</th>\n",
              "      <td>1.216553e+06</td>\n",
              "      <td>1.216553e+06</td>\n",
              "      <td>1.216553e+06</td>\n",
              "      <td>1.216553e+06</td>\n",
              "      <td>1.216553e+06</td>\n",
              "      <td>1.216553e+06</td>\n",
              "      <td>1.216553e+06</td>\n",
              "    </tr>\n",
              "    <tr>\n",
              "      <th>mean</th>\n",
              "      <td>6.091530e+05</td>\n",
              "      <td>6.299685e+03</td>\n",
              "      <td>7.816549e+01</td>\n",
              "      <td>1.998297e+03</td>\n",
              "      <td>2.012984e+05</td>\n",
              "      <td>9.343291e+00</td>\n",
              "      <td>3.822769e+04</td>\n",
              "    </tr>\n",
              "    <tr>\n",
              "      <th>std</th>\n",
              "      <td>3.526198e+05</td>\n",
              "      <td>3.581169e+03</td>\n",
              "      <td>2.915113e+01</td>\n",
              "      <td>8.941347e+00</td>\n",
              "      <td>2.905732e+02</td>\n",
              "      <td>6.606500e+00</td>\n",
              "      <td>3.104898e+04</td>\n",
              "    </tr>\n",
              "    <tr>\n",
              "      <th>min</th>\n",
              "      <td>0.000000e+00</td>\n",
              "      <td>0.000000e+00</td>\n",
              "      <td>9.260000e+00</td>\n",
              "      <td>1.961000e+03</td>\n",
              "      <td>2.008010e+05</td>\n",
              "      <td>-4.000000e+00</td>\n",
              "      <td>1.000000e+02</td>\n",
              "    </tr>\n",
              "    <tr>\n",
              "      <th>25%</th>\n",
              "      <td>3.041380e+05</td>\n",
              "      <td>3.345000e+03</td>\n",
              "      <td>5.976000e+01</td>\n",
              "      <td>1.993000e+03</td>\n",
              "      <td>2.010100e+05</td>\n",
              "      <td>4.000000e+00</td>\n",
              "      <td>1.900000e+04</td>\n",
              "    </tr>\n",
              "    <tr>\n",
              "      <th>50%</th>\n",
              "      <td>6.082760e+05</td>\n",
              "      <td>5.964000e+03</td>\n",
              "      <td>8.241000e+01</td>\n",
              "      <td>1.999000e+03</td>\n",
              "      <td>2.013120e+05</td>\n",
              "      <td>8.000000e+00</td>\n",
              "      <td>3.090000e+04</td>\n",
              "    </tr>\n",
              "    <tr>\n",
              "      <th>75%</th>\n",
              "      <td>9.124140e+05</td>\n",
              "      <td>9.436000e+03</td>\n",
              "      <td>8.497000e+01</td>\n",
              "      <td>2.005000e+03</td>\n",
              "      <td>2.015110e+05</td>\n",
              "      <td>1.300000e+01</td>\n",
              "      <td>4.700000e+04</td>\n",
              "    </tr>\n",
              "    <tr>\n",
              "      <th>max</th>\n",
              "      <td>1.234827e+06</td>\n",
              "      <td>1.265800e+04</td>\n",
              "      <td>4.243200e+02</td>\n",
              "      <td>2.017000e+03</td>\n",
              "      <td>2.017110e+05</td>\n",
              "      <td>8.000000e+01</td>\n",
              "      <td>8.200000e+05</td>\n",
              "    </tr>\n",
              "  </tbody>\n",
              "</table>\n",
              "</div>"
            ],
            "text/plain": [
              "       transaction_id  apartment_id  ...         floor  transaction_real_price\n",
              "count    1.216553e+06  1.216553e+06  ...  1.216553e+06            1.216553e+06\n",
              "mean     6.091530e+05  6.299685e+03  ...  9.343291e+00            3.822769e+04\n",
              "std      3.526198e+05  3.581169e+03  ...  6.606500e+00            3.104898e+04\n",
              "min      0.000000e+00  0.000000e+00  ... -4.000000e+00            1.000000e+02\n",
              "25%      3.041380e+05  3.345000e+03  ...  4.000000e+00            1.900000e+04\n",
              "50%      6.082760e+05  5.964000e+03  ...  8.000000e+00            3.090000e+04\n",
              "75%      9.124140e+05  9.436000e+03  ...  1.300000e+01            4.700000e+04\n",
              "max      1.234827e+06  1.265800e+04  ...  8.000000e+01            8.200000e+05\n",
              "\n",
              "[8 rows x 7 columns]"
            ]
          },
          "metadata": {
            "tags": []
          },
          "execution_count": 5
        }
      ]
    },
    {
      "cell_type": "code",
      "metadata": {
        "colab": {
          "base_uri": "https://localhost:8080/"
        },
        "id": "SV_-tgUVk8lo",
        "outputId": "30edddff-57f3-41fe-c946-f83ca1a04157"
      },
      "source": [
        "train_df['apt'].value_counts()"
      ],
      "execution_count": null,
      "outputs": [
        {
          "output_type": "execute_result",
          "data": {
            "text/plain": [
              "현대          13154\n",
              "한신           9766\n",
              "삼성           6729\n",
              "대우           6216\n",
              "신동아          5851\n",
              "            ...  \n",
              "(750-6)         1\n",
              "(740-62)        1\n",
              "로미아트빌           1\n",
              "금강빌리지           1\n",
              "양지쉐르빌아파트        1\n",
              "Name: apt, Length: 10440, dtype: int64"
            ]
          },
          "metadata": {
            "tags": []
          },
          "execution_count": 6
        }
      ]
    },
    {
      "cell_type": "code",
      "metadata": {
        "ExecuteTime": {
          "end_time": "2021-05-07T07:45:29.573106Z",
          "start_time": "2021-05-07T07:45:29.366919Z"
        },
        "colab": {
          "base_uri": "https://localhost:8080/"
        },
        "id": "GqBnjIEryuR8",
        "outputId": "e0fe00de-7f2c-468c-9400-daa5fca16594"
      },
      "source": [
        "train_df.info()"
      ],
      "execution_count": null,
      "outputs": [
        {
          "output_type": "stream",
          "text": [
            "<class 'pandas.core.frame.DataFrame'>\n",
            "RangeIndex: 1216553 entries, 0 to 1216552\n",
            "Data columns (total 13 columns):\n",
            " #   Column                  Non-Null Count    Dtype  \n",
            "---  ------                  --------------    -----  \n",
            " 0   transaction_id          1216553 non-null  int64  \n",
            " 1   apartment_id            1216553 non-null  int64  \n",
            " 2   city                    1216553 non-null  object \n",
            " 3   dong                    1216553 non-null  object \n",
            " 4   jibun                   1216553 non-null  object \n",
            " 5   apt                     1216553 non-null  object \n",
            " 6   addr_kr                 1216553 non-null  object \n",
            " 7   exclusive_use_area      1216553 non-null  float64\n",
            " 8   year_of_completion      1216553 non-null  int64  \n",
            " 9   transaction_year_month  1216553 non-null  int64  \n",
            " 10  transaction_date        1216553 non-null  object \n",
            " 11  floor                   1216553 non-null  int64  \n",
            " 12  transaction_real_price  1216553 non-null  int64  \n",
            "dtypes: float64(1), int64(6), object(6)\n",
            "memory usage: 120.7+ MB\n"
          ],
          "name": "stdout"
        }
      ]
    },
    {
      "cell_type": "markdown",
      "metadata": {
        "id": "cPo0KrA4yuR8"
      },
      "source": [
        "- train_df 결측치는 없음\n",
        "- 1961년 ~ 2017년 완공 건물\n",
        "- 9.26m^2 ~ 424.32m^2 전용면적\n",
        "- Floor의 경우 음의 값 존재.\n",
        "- 실거래가는 100만원부터 820억까지 존재"
      ]
    },
    {
      "cell_type": "code",
      "metadata": {
        "ExecuteTime": {
          "end_time": "2021-05-07T07:45:29.589121Z",
          "start_time": "2021-05-07T07:45:29.574107Z"
        },
        "scrolled": true,
        "colab": {
          "base_uri": "https://localhost:8080/",
          "height": 95
        },
        "id": "1FwiQwyXyuR8",
        "outputId": "08dbafd2-cae5-4d7f-b98f-7dcf933fbfc1"
      },
      "source": [
        "train_df.loc[train_df['transaction_real_price']==820000]"
      ],
      "execution_count": null,
      "outputs": [
        {
          "output_type": "execute_result",
          "data": {
            "text/html": [
              "<div>\n",
              "<style scoped>\n",
              "    .dataframe tbody tr th:only-of-type {\n",
              "        vertical-align: middle;\n",
              "    }\n",
              "\n",
              "    .dataframe tbody tr th {\n",
              "        vertical-align: top;\n",
              "    }\n",
              "\n",
              "    .dataframe thead th {\n",
              "        text-align: right;\n",
              "    }\n",
              "</style>\n",
              "<table border=\"1\" class=\"dataframe\">\n",
              "  <thead>\n",
              "    <tr style=\"text-align: right;\">\n",
              "      <th></th>\n",
              "      <th>transaction_id</th>\n",
              "      <th>apartment_id</th>\n",
              "      <th>city</th>\n",
              "      <th>dong</th>\n",
              "      <th>jibun</th>\n",
              "      <th>apt</th>\n",
              "      <th>addr_kr</th>\n",
              "      <th>exclusive_use_area</th>\n",
              "      <th>year_of_completion</th>\n",
              "      <th>transaction_year_month</th>\n",
              "      <th>transaction_date</th>\n",
              "      <th>floor</th>\n",
              "      <th>transaction_real_price</th>\n",
              "    </tr>\n",
              "  </thead>\n",
              "  <tbody>\n",
              "    <tr>\n",
              "      <th>23603</th>\n",
              "      <td>23603</td>\n",
              "      <td>11320</td>\n",
              "      <td>서울특별시</td>\n",
              "      <td>한남동</td>\n",
              "      <td>810</td>\n",
              "      <td>한남더힐</td>\n",
              "      <td>한남동 810 한남더힐</td>\n",
              "      <td>244.749</td>\n",
              "      <td>2011</td>\n",
              "      <td>201612</td>\n",
              "      <td>21~31</td>\n",
              "      <td>3</td>\n",
              "      <td>820000</td>\n",
              "    </tr>\n",
              "  </tbody>\n",
              "</table>\n",
              "</div>"
            ],
            "text/plain": [
              "       transaction_id  apartment_id  ... floor transaction_real_price\n",
              "23603           23603         11320  ...     3                 820000\n",
              "\n",
              "[1 rows x 13 columns]"
            ]
          },
          "metadata": {
            "tags": []
          },
          "execution_count": 8
        }
      ]
    },
    {
      "cell_type": "code",
      "metadata": {
        "id": "vpJP6NDV35UF",
        "colab": {
          "base_uri": "https://localhost:8080/",
          "height": 189
        },
        "outputId": "3a894ee9-7071-4642-9450-dc171aba0488"
      },
      "source": [
        "# 같은 아파트 이름을 같는 수를 저장하는 apt_counts 열 생성\n",
        "train_df['apt_counts'] = 0\n",
        "train_df.groupby('apt')['apt_counts'].count()\n",
        "train_df = pd.merge(train_df, train_df.groupby('apt')['apt_counts'].count(), on='apt', how='left').drop('apt_counts_x', axis=1).rename(columns={'apt_counts_y':'apt_counts'})\n",
        "\n",
        "test_df['apt_counts'] = 0\n",
        "test_df.groupby('apt')['apt_counts'].count()\n",
        "test_df = pd.merge(test_df, test_df.groupby('apt')['apt_counts'].count(), on='apt', how='left').drop('apt_counts_x', axis=1).rename(columns={'apt_counts_y':'apt_counts'})\n",
        "\n",
        "train_df.head(3)"
      ],
      "execution_count": null,
      "outputs": [
        {
          "output_type": "execute_result",
          "data": {
            "text/html": [
              "<div>\n",
              "<style scoped>\n",
              "    .dataframe tbody tr th:only-of-type {\n",
              "        vertical-align: middle;\n",
              "    }\n",
              "\n",
              "    .dataframe tbody tr th {\n",
              "        vertical-align: top;\n",
              "    }\n",
              "\n",
              "    .dataframe thead th {\n",
              "        text-align: right;\n",
              "    }\n",
              "</style>\n",
              "<table border=\"1\" class=\"dataframe\">\n",
              "  <thead>\n",
              "    <tr style=\"text-align: right;\">\n",
              "      <th></th>\n",
              "      <th>transaction_id</th>\n",
              "      <th>apartment_id</th>\n",
              "      <th>city</th>\n",
              "      <th>dong</th>\n",
              "      <th>jibun</th>\n",
              "      <th>apt</th>\n",
              "      <th>addr_kr</th>\n",
              "      <th>exclusive_use_area</th>\n",
              "      <th>year_of_completion</th>\n",
              "      <th>transaction_year_month</th>\n",
              "      <th>transaction_date</th>\n",
              "      <th>floor</th>\n",
              "      <th>transaction_real_price</th>\n",
              "      <th>apt_counts</th>\n",
              "    </tr>\n",
              "  </thead>\n",
              "  <tbody>\n",
              "    <tr>\n",
              "      <th>0</th>\n",
              "      <td>0</td>\n",
              "      <td>7622</td>\n",
              "      <td>서울특별시</td>\n",
              "      <td>신교동</td>\n",
              "      <td>6-13</td>\n",
              "      <td>신현(101동)</td>\n",
              "      <td>신교동 6-13 신현(101동)</td>\n",
              "      <td>84.82</td>\n",
              "      <td>2002</td>\n",
              "      <td>200801</td>\n",
              "      <td>21~31</td>\n",
              "      <td>2</td>\n",
              "      <td>37500</td>\n",
              "      <td>5</td>\n",
              "    </tr>\n",
              "    <tr>\n",
              "      <th>1</th>\n",
              "      <td>1</td>\n",
              "      <td>5399</td>\n",
              "      <td>서울특별시</td>\n",
              "      <td>필운동</td>\n",
              "      <td>142</td>\n",
              "      <td>사직파크맨션</td>\n",
              "      <td>필운동 142 사직파크맨션</td>\n",
              "      <td>99.17</td>\n",
              "      <td>1973</td>\n",
              "      <td>200801</td>\n",
              "      <td>1~10</td>\n",
              "      <td>6</td>\n",
              "      <td>20000</td>\n",
              "      <td>1</td>\n",
              "    </tr>\n",
              "    <tr>\n",
              "      <th>2</th>\n",
              "      <td>2</td>\n",
              "      <td>3578</td>\n",
              "      <td>서울특별시</td>\n",
              "      <td>필운동</td>\n",
              "      <td>174-1</td>\n",
              "      <td>두레엘리시안</td>\n",
              "      <td>필운동 174-1 두레엘리시안</td>\n",
              "      <td>84.74</td>\n",
              "      <td>2007</td>\n",
              "      <td>200801</td>\n",
              "      <td>1~10</td>\n",
              "      <td>6</td>\n",
              "      <td>38500</td>\n",
              "      <td>13</td>\n",
              "    </tr>\n",
              "  </tbody>\n",
              "</table>\n",
              "</div>"
            ],
            "text/plain": [
              "   transaction_id  apartment_id  ... transaction_real_price apt_counts\n",
              "0               0          7622  ...                  37500          5\n",
              "1               1          5399  ...                  20000          1\n",
              "2               2          3578  ...                  38500         13\n",
              "\n",
              "[3 rows x 14 columns]"
            ]
          },
          "metadata": {
            "tags": []
          },
          "execution_count": 9
        }
      ]
    },
    {
      "cell_type": "code",
      "metadata": {
        "id": "Tv03aoj2pLdG"
      },
      "source": [
        "train_df['top30'] = 0\n",
        "top30 = ['자이', '푸르지오', '더샵', '롯데캐슬', '이편한|e편한|e-편한', '힐스테이트', '아이파크', '래미안', 'sk|SK|에스케이', '데시앙',\n",
        "         '현대', '한신', '삼성', '대우', '신동아', '두신', '주공', '우성', '벽산', '동원로얄듀크',\n",
        "         '경남', '삼환', '쌍용', '삼익', '대림', '코오롱', '파크리오', '엘지', '성원', '잠실']\n",
        "for i, brand in enumerate(top30):\n",
        "    train_df.loc[train_df['apt'].str.contains(brand), 'top30'] = 1\n",
        "    train_df.loc[train_df['apt'].str.contains(brand), 'apt'] = str(i)\n",
        "    test_df.loc[test_df['apt'].str.contains(brand), 'top30'] = 1\n",
        "    test_df.loc[test_df['apt'].str.contains(brand), 'apt'] = str(i)\n",
        "\n",
        "train_df.loc[(train_df['top30'] == 0), 'apt'] = 'others'\n",
        "test_df.loc[(test_df['top30'] == 0), 'apt'] = 'others'"
      ],
      "execution_count": null,
      "outputs": []
    },
    {
      "cell_type": "code",
      "metadata": {
        "colab": {
          "base_uri": "https://localhost:8080/",
          "height": 523
        },
        "id": "ZqexdFHHunXZ",
        "outputId": "eb551ab5-05ea-418a-dc7d-80772b1cd7fc"
      },
      "source": [
        "all_df = pd.concat([train_df, test_df], axis=1).reset_index(drop=True)\n",
        "all_df.head()"
      ],
      "execution_count": null,
      "outputs": [
        {
          "output_type": "execute_result",
          "data": {
            "text/html": [
              "<div>\n",
              "<style scoped>\n",
              "    .dataframe tbody tr th:only-of-type {\n",
              "        vertical-align: middle;\n",
              "    }\n",
              "\n",
              "    .dataframe tbody tr th {\n",
              "        vertical-align: top;\n",
              "    }\n",
              "\n",
              "    .dataframe thead th {\n",
              "        text-align: right;\n",
              "    }\n",
              "</style>\n",
              "<table border=\"1\" class=\"dataframe\">\n",
              "  <thead>\n",
              "    <tr style=\"text-align: right;\">\n",
              "      <th></th>\n",
              "      <th>transaction_id</th>\n",
              "      <th>apartment_id</th>\n",
              "      <th>city</th>\n",
              "      <th>dong</th>\n",
              "      <th>jibun</th>\n",
              "      <th>apt</th>\n",
              "      <th>addr_kr</th>\n",
              "      <th>exclusive_use_area</th>\n",
              "      <th>year_of_completion</th>\n",
              "      <th>transaction_year_month</th>\n",
              "      <th>transaction_date</th>\n",
              "      <th>floor</th>\n",
              "      <th>transaction_real_price</th>\n",
              "      <th>apt_counts</th>\n",
              "      <th>top30</th>\n",
              "      <th>transaction_id</th>\n",
              "      <th>apartment_id</th>\n",
              "      <th>city</th>\n",
              "      <th>dong</th>\n",
              "      <th>jibun</th>\n",
              "      <th>apt</th>\n",
              "      <th>addr_kr</th>\n",
              "      <th>exclusive_use_area</th>\n",
              "      <th>year_of_completion</th>\n",
              "      <th>transaction_year_month</th>\n",
              "      <th>transaction_date</th>\n",
              "      <th>floor</th>\n",
              "      <th>apt_counts</th>\n",
              "      <th>top30</th>\n",
              "    </tr>\n",
              "  </thead>\n",
              "  <tbody>\n",
              "    <tr>\n",
              "      <th>0</th>\n",
              "      <td>0</td>\n",
              "      <td>7622</td>\n",
              "      <td>서울특별시</td>\n",
              "      <td>신교동</td>\n",
              "      <td>6-13</td>\n",
              "      <td>others</td>\n",
              "      <td>신교동 6-13 신현(101동)</td>\n",
              "      <td>84.82</td>\n",
              "      <td>2002</td>\n",
              "      <td>200801</td>\n",
              "      <td>21~31</td>\n",
              "      <td>2</td>\n",
              "      <td>37500</td>\n",
              "      <td>5</td>\n",
              "      <td>0</td>\n",
              "      <td>1145756.0</td>\n",
              "      <td>10453.0</td>\n",
              "      <td>서울특별시</td>\n",
              "      <td>목동</td>\n",
              "      <td>938</td>\n",
              "      <td>청학</td>\n",
              "      <td>목동 938 청학</td>\n",
              "      <td>35.5500</td>\n",
              "      <td>2002.0</td>\n",
              "      <td>201711.0</td>\n",
              "      <td>11~20</td>\n",
              "      <td>2.0</td>\n",
              "      <td>1.0</td>\n",
              "      <td>NaN</td>\n",
              "    </tr>\n",
              "    <tr>\n",
              "      <th>1</th>\n",
              "      <td>1</td>\n",
              "      <td>5399</td>\n",
              "      <td>서울특별시</td>\n",
              "      <td>필운동</td>\n",
              "      <td>142</td>\n",
              "      <td>others</td>\n",
              "      <td>필운동 142 사직파크맨션</td>\n",
              "      <td>99.17</td>\n",
              "      <td>1973</td>\n",
              "      <td>200801</td>\n",
              "      <td>1~10</td>\n",
              "      <td>6</td>\n",
              "      <td>20000</td>\n",
              "      <td>1</td>\n",
              "      <td>0</td>\n",
              "      <td>1198704.0</td>\n",
              "      <td>989.0</td>\n",
              "      <td>부산광역시</td>\n",
              "      <td>초량동</td>\n",
              "      <td>1143-8</td>\n",
              "      <td>고관맨션</td>\n",
              "      <td>초량동 1143-8 고관맨션</td>\n",
              "      <td>68.7200</td>\n",
              "      <td>1977.0</td>\n",
              "      <td>201708.0</td>\n",
              "      <td>21~31</td>\n",
              "      <td>2.0</td>\n",
              "      <td>1.0</td>\n",
              "      <td>NaN</td>\n",
              "    </tr>\n",
              "    <tr>\n",
              "      <th>2</th>\n",
              "      <td>2</td>\n",
              "      <td>3578</td>\n",
              "      <td>서울특별시</td>\n",
              "      <td>필운동</td>\n",
              "      <td>174-1</td>\n",
              "      <td>others</td>\n",
              "      <td>필운동 174-1 두레엘리시안</td>\n",
              "      <td>84.74</td>\n",
              "      <td>2007</td>\n",
              "      <td>200801</td>\n",
              "      <td>1~10</td>\n",
              "      <td>6</td>\n",
              "      <td>38500</td>\n",
              "      <td>13</td>\n",
              "      <td>0</td>\n",
              "      <td>1222384.0</td>\n",
              "      <td>8597.0</td>\n",
              "      <td>부산광역시</td>\n",
              "      <td>괴정동</td>\n",
              "      <td>447-13</td>\n",
              "      <td>우림그린</td>\n",
              "      <td>괴정동 447-13 우림그린</td>\n",
              "      <td>72.5400</td>\n",
              "      <td>1989.0</td>\n",
              "      <td>201710.0</td>\n",
              "      <td>11~20</td>\n",
              "      <td>2.0</td>\n",
              "      <td>1.0</td>\n",
              "      <td>NaN</td>\n",
              "    </tr>\n",
              "    <tr>\n",
              "      <th>3</th>\n",
              "      <td>3</td>\n",
              "      <td>10957</td>\n",
              "      <td>서울특별시</td>\n",
              "      <td>내수동</td>\n",
              "      <td>95</td>\n",
              "      <td>others</td>\n",
              "      <td>내수동 95 파크팰리스</td>\n",
              "      <td>146.39</td>\n",
              "      <td>2003</td>\n",
              "      <td>200801</td>\n",
              "      <td>11~20</td>\n",
              "      <td>15</td>\n",
              "      <td>118000</td>\n",
              "      <td>55</td>\n",
              "      <td>0</td>\n",
              "      <td>1179897.0</td>\n",
              "      <td>11086.0</td>\n",
              "      <td>서울특별시</td>\n",
              "      <td>대치동</td>\n",
              "      <td>1007-2</td>\n",
              "      <td>풍림아이원4차(1007-2)</td>\n",
              "      <td>대치동 1007-2 풍림아이원4차(1007-2)</td>\n",
              "      <td>111.5400</td>\n",
              "      <td>2004.0</td>\n",
              "      <td>201707.0</td>\n",
              "      <td>1~10</td>\n",
              "      <td>10.0</td>\n",
              "      <td>2.0</td>\n",
              "      <td>NaN</td>\n",
              "    </tr>\n",
              "    <tr>\n",
              "      <th>4</th>\n",
              "      <td>4</td>\n",
              "      <td>10639</td>\n",
              "      <td>서울특별시</td>\n",
              "      <td>내수동</td>\n",
              "      <td>110-15</td>\n",
              "      <td>others</td>\n",
              "      <td>내수동 110-15 킹스매너</td>\n",
              "      <td>194.43</td>\n",
              "      <td>2004</td>\n",
              "      <td>200801</td>\n",
              "      <td>21~31</td>\n",
              "      <td>3</td>\n",
              "      <td>120000</td>\n",
              "      <td>15</td>\n",
              "      <td>0</td>\n",
              "      <td>1223091.0</td>\n",
              "      <td>2121.0</td>\n",
              "      <td>부산광역시</td>\n",
              "      <td>다대동</td>\n",
              "      <td>1670</td>\n",
              "      <td>3</td>\n",
              "      <td>다대동 1670 다대롯데캐슬블루</td>\n",
              "      <td>119.6398</td>\n",
              "      <td>2014.0</td>\n",
              "      <td>201712.0</td>\n",
              "      <td>11~20</td>\n",
              "      <td>21.0</td>\n",
              "      <td>3.0</td>\n",
              "      <td>1.0</td>\n",
              "    </tr>\n",
              "  </tbody>\n",
              "</table>\n",
              "</div>"
            ],
            "text/plain": [
              "   transaction_id  apartment_id   city  ... floor apt_counts top30\n",
              "0               0          7622  서울특별시  ...   2.0        1.0   NaN\n",
              "1               1          5399  서울특별시  ...   2.0        1.0   NaN\n",
              "2               2          3578  서울특별시  ...   2.0        1.0   NaN\n",
              "3               3         10957  서울특별시  ...  10.0        2.0   NaN\n",
              "4               4         10639  서울특별시  ...  21.0        3.0   1.0\n",
              "\n",
              "[5 rows x 29 columns]"
            ]
          },
          "metadata": {
            "tags": []
          },
          "execution_count": 11
        }
      ]
    },
    {
      "cell_type": "code",
      "metadata": {
        "colab": {
          "base_uri": "https://localhost:8080/",
          "height": 1000
        },
        "id": "zJB6rx5z4Tbv",
        "outputId": "c823b2fe-2cb6-4507-bfd1-3a933e2d657d"
      },
      "source": [
        "train_df"
      ],
      "execution_count": null,
      "outputs": [
        {
          "output_type": "execute_result",
          "data": {
            "text/html": [
              "<div>\n",
              "<style scoped>\n",
              "    .dataframe tbody tr th:only-of-type {\n",
              "        vertical-align: middle;\n",
              "    }\n",
              "\n",
              "    .dataframe tbody tr th {\n",
              "        vertical-align: top;\n",
              "    }\n",
              "\n",
              "    .dataframe thead th {\n",
              "        text-align: right;\n",
              "    }\n",
              "</style>\n",
              "<table border=\"1\" class=\"dataframe\">\n",
              "  <thead>\n",
              "    <tr style=\"text-align: right;\">\n",
              "      <th></th>\n",
              "      <th>transaction_id</th>\n",
              "      <th>apartment_id</th>\n",
              "      <th>city</th>\n",
              "      <th>dong</th>\n",
              "      <th>jibun</th>\n",
              "      <th>apt</th>\n",
              "      <th>addr_kr</th>\n",
              "      <th>exclusive_use_area</th>\n",
              "      <th>year_of_completion</th>\n",
              "      <th>transaction_year_month</th>\n",
              "      <th>transaction_date</th>\n",
              "      <th>floor</th>\n",
              "      <th>transaction_real_price</th>\n",
              "      <th>apt_counts</th>\n",
              "      <th>top30</th>\n",
              "    </tr>\n",
              "  </thead>\n",
              "  <tbody>\n",
              "    <tr>\n",
              "      <th>0</th>\n",
              "      <td>0</td>\n",
              "      <td>7622</td>\n",
              "      <td>서울특별시</td>\n",
              "      <td>신교동</td>\n",
              "      <td>6-13</td>\n",
              "      <td>others</td>\n",
              "      <td>신교동 6-13 신현(101동)</td>\n",
              "      <td>84.8200</td>\n",
              "      <td>2002</td>\n",
              "      <td>200801</td>\n",
              "      <td>21~31</td>\n",
              "      <td>2</td>\n",
              "      <td>37500</td>\n",
              "      <td>5</td>\n",
              "      <td>0</td>\n",
              "    </tr>\n",
              "    <tr>\n",
              "      <th>1</th>\n",
              "      <td>1</td>\n",
              "      <td>5399</td>\n",
              "      <td>서울특별시</td>\n",
              "      <td>필운동</td>\n",
              "      <td>142</td>\n",
              "      <td>others</td>\n",
              "      <td>필운동 142 사직파크맨션</td>\n",
              "      <td>99.1700</td>\n",
              "      <td>1973</td>\n",
              "      <td>200801</td>\n",
              "      <td>1~10</td>\n",
              "      <td>6</td>\n",
              "      <td>20000</td>\n",
              "      <td>1</td>\n",
              "      <td>0</td>\n",
              "    </tr>\n",
              "    <tr>\n",
              "      <th>2</th>\n",
              "      <td>2</td>\n",
              "      <td>3578</td>\n",
              "      <td>서울특별시</td>\n",
              "      <td>필운동</td>\n",
              "      <td>174-1</td>\n",
              "      <td>others</td>\n",
              "      <td>필운동 174-1 두레엘리시안</td>\n",
              "      <td>84.7400</td>\n",
              "      <td>2007</td>\n",
              "      <td>200801</td>\n",
              "      <td>1~10</td>\n",
              "      <td>6</td>\n",
              "      <td>38500</td>\n",
              "      <td>13</td>\n",
              "      <td>0</td>\n",
              "    </tr>\n",
              "    <tr>\n",
              "      <th>3</th>\n",
              "      <td>3</td>\n",
              "      <td>10957</td>\n",
              "      <td>서울특별시</td>\n",
              "      <td>내수동</td>\n",
              "      <td>95</td>\n",
              "      <td>others</td>\n",
              "      <td>내수동 95 파크팰리스</td>\n",
              "      <td>146.3900</td>\n",
              "      <td>2003</td>\n",
              "      <td>200801</td>\n",
              "      <td>11~20</td>\n",
              "      <td>15</td>\n",
              "      <td>118000</td>\n",
              "      <td>55</td>\n",
              "      <td>0</td>\n",
              "    </tr>\n",
              "    <tr>\n",
              "      <th>4</th>\n",
              "      <td>4</td>\n",
              "      <td>10639</td>\n",
              "      <td>서울특별시</td>\n",
              "      <td>내수동</td>\n",
              "      <td>110-15</td>\n",
              "      <td>others</td>\n",
              "      <td>내수동 110-15 킹스매너</td>\n",
              "      <td>194.4300</td>\n",
              "      <td>2004</td>\n",
              "      <td>200801</td>\n",
              "      <td>21~31</td>\n",
              "      <td>3</td>\n",
              "      <td>120000</td>\n",
              "      <td>15</td>\n",
              "      <td>0</td>\n",
              "    </tr>\n",
              "    <tr>\n",
              "      <th>...</th>\n",
              "      <td>...</td>\n",
              "      <td>...</td>\n",
              "      <td>...</td>\n",
              "      <td>...</td>\n",
              "      <td>...</td>\n",
              "      <td>...</td>\n",
              "      <td>...</td>\n",
              "      <td>...</td>\n",
              "      <td>...</td>\n",
              "      <td>...</td>\n",
              "      <td>...</td>\n",
              "      <td>...</td>\n",
              "      <td>...</td>\n",
              "      <td>...</td>\n",
              "      <td>...</td>\n",
              "    </tr>\n",
              "    <tr>\n",
              "      <th>1216548</th>\n",
              "      <td>1234823</td>\n",
              "      <td>9578</td>\n",
              "      <td>부산광역시</td>\n",
              "      <td>정관읍 용수리</td>\n",
              "      <td>1387</td>\n",
              "      <td>others</td>\n",
              "      <td>정관읍 용수리 1387 정관 동일스위트1차</td>\n",
              "      <td>59.8245</td>\n",
              "      <td>2012</td>\n",
              "      <td>201711</td>\n",
              "      <td>11~20</td>\n",
              "      <td>3</td>\n",
              "      <td>22000</td>\n",
              "      <td>837</td>\n",
              "      <td>0</td>\n",
              "    </tr>\n",
              "    <tr>\n",
              "      <th>1216549</th>\n",
              "      <td>1234824</td>\n",
              "      <td>9578</td>\n",
              "      <td>부산광역시</td>\n",
              "      <td>정관읍 용수리</td>\n",
              "      <td>1387</td>\n",
              "      <td>others</td>\n",
              "      <td>정관읍 용수리 1387 정관 동일스위트1차</td>\n",
              "      <td>84.9923</td>\n",
              "      <td>2012</td>\n",
              "      <td>201711</td>\n",
              "      <td>21~30</td>\n",
              "      <td>7</td>\n",
              "      <td>30750</td>\n",
              "      <td>837</td>\n",
              "      <td>0</td>\n",
              "    </tr>\n",
              "    <tr>\n",
              "      <th>1216550</th>\n",
              "      <td>1234825</td>\n",
              "      <td>9578</td>\n",
              "      <td>부산광역시</td>\n",
              "      <td>정관읍 용수리</td>\n",
              "      <td>1387</td>\n",
              "      <td>others</td>\n",
              "      <td>정관읍 용수리 1387 정관 동일스위트1차</td>\n",
              "      <td>84.9923</td>\n",
              "      <td>2012</td>\n",
              "      <td>201711</td>\n",
              "      <td>21~30</td>\n",
              "      <td>9</td>\n",
              "      <td>29500</td>\n",
              "      <td>837</td>\n",
              "      <td>0</td>\n",
              "    </tr>\n",
              "    <tr>\n",
              "      <th>1216551</th>\n",
              "      <td>1234826</td>\n",
              "      <td>9586</td>\n",
              "      <td>부산광역시</td>\n",
              "      <td>정관읍 용수리</td>\n",
              "      <td>1364</td>\n",
              "      <td>3</td>\n",
              "      <td>정관읍 용수리 1364 정관신도시롯데캐슬</td>\n",
              "      <td>101.7400</td>\n",
              "      <td>2008</td>\n",
              "      <td>201711</td>\n",
              "      <td>21~30</td>\n",
              "      <td>7</td>\n",
              "      <td>26700</td>\n",
              "      <td>1020</td>\n",
              "      <td>1</td>\n",
              "    </tr>\n",
              "    <tr>\n",
              "      <th>1216552</th>\n",
              "      <td>1234827</td>\n",
              "      <td>9578</td>\n",
              "      <td>부산광역시</td>\n",
              "      <td>정관읍 용수리</td>\n",
              "      <td>1387</td>\n",
              "      <td>others</td>\n",
              "      <td>정관읍 용수리 1387 정관 동일스위트1차</td>\n",
              "      <td>84.9923</td>\n",
              "      <td>2012</td>\n",
              "      <td>201711</td>\n",
              "      <td>21~30</td>\n",
              "      <td>16</td>\n",
              "      <td>28800</td>\n",
              "      <td>837</td>\n",
              "      <td>0</td>\n",
              "    </tr>\n",
              "  </tbody>\n",
              "</table>\n",
              "<p>1216553 rows × 15 columns</p>\n",
              "</div>"
            ],
            "text/plain": [
              "         transaction_id  apartment_id  ... apt_counts top30\n",
              "0                     0          7622  ...          5     0\n",
              "1                     1          5399  ...          1     0\n",
              "2                     2          3578  ...         13     0\n",
              "3                     3         10957  ...         55     0\n",
              "4                     4         10639  ...         15     0\n",
              "...                 ...           ...  ...        ...   ...\n",
              "1216548         1234823          9578  ...        837     0\n",
              "1216549         1234824          9578  ...        837     0\n",
              "1216550         1234825          9578  ...        837     0\n",
              "1216551         1234826          9586  ...       1020     1\n",
              "1216552         1234827          9578  ...        837     0\n",
              "\n",
              "[1216553 rows x 15 columns]"
            ]
          },
          "metadata": {
            "tags": []
          },
          "execution_count": 13
        }
      ]
    },
    {
      "cell_type": "code",
      "metadata": {
        "colab": {
          "base_uri": "https://localhost:8080/",
          "height": 129
        },
        "id": "_Ijl86RY4jhc",
        "outputId": "db4665ff-38ac-4d50-c288-5985cd369d7a"
      },
      "source": [
        "all_df[all_df['apt'].str.contains('송천')]"
      ],
      "execution_count": null,
      "outputs": [
        {
          "output_type": "execute_result",
          "data": {
            "text/html": [
              "<div>\n",
              "<style scoped>\n",
              "    .dataframe tbody tr th:only-of-type {\n",
              "        vertical-align: middle;\n",
              "    }\n",
              "\n",
              "    .dataframe tbody tr th {\n",
              "        vertical-align: top;\n",
              "    }\n",
              "\n",
              "    .dataframe thead th {\n",
              "        text-align: right;\n",
              "    }\n",
              "</style>\n",
              "<table border=\"1\" class=\"dataframe\">\n",
              "  <thead>\n",
              "    <tr style=\"text-align: right;\">\n",
              "      <th></th>\n",
              "      <th>transaction_id</th>\n",
              "      <th>apartment_id</th>\n",
              "      <th>city</th>\n",
              "      <th>dong</th>\n",
              "      <th>jibun</th>\n",
              "      <th>apt</th>\n",
              "      <th>addr_kr</th>\n",
              "      <th>exclusive_use_area</th>\n",
              "      <th>year_of_completion</th>\n",
              "      <th>transaction_year_month</th>\n",
              "      <th>transaction_date</th>\n",
              "      <th>floor</th>\n",
              "      <th>transaction_real_price</th>\n",
              "      <th>apt_counts</th>\n",
              "      <th>top30</th>\n",
              "    </tr>\n",
              "  </thead>\n",
              "  <tbody>\n",
              "    <tr>\n",
              "      <th>1218968</th>\n",
              "      <td>1197684</td>\n",
              "      <td>6960</td>\n",
              "      <td>부산광역시</td>\n",
              "      <td>서대신동3가</td>\n",
              "      <td>544-2</td>\n",
              "      <td>송천</td>\n",
              "      <td>서대신동3가 544-2 송천</td>\n",
              "      <td>76.99</td>\n",
              "      <td>1976</td>\n",
              "      <td>201703</td>\n",
              "      <td>1~10</td>\n",
              "      <td>4</td>\n",
              "      <td>NaN</td>\n",
              "      <td>1</td>\n",
              "      <td>NaN</td>\n",
              "    </tr>\n",
              "  </tbody>\n",
              "</table>\n",
              "</div>"
            ],
            "text/plain": [
              "         transaction_id  apartment_id  ... apt_counts top30\n",
              "1218968         1197684          6960  ...          1   NaN\n",
              "\n",
              "[1 rows x 15 columns]"
            ]
          },
          "metadata": {
            "tags": []
          },
          "execution_count": 15
        }
      ]
    },
    {
      "cell_type": "code",
      "metadata": {
        "id": "OFOkDMGoCd35"
      },
      "source": [
        "# 완공연도에서 최소연도를 뺌으로써 완공연도 라벨인코딩\n",
        "all_df['year_of_completion'] = all_df['year_of_completion'] - all_df['year_of_completion'].min()\n",
        "all_df.head(1)"
      ],
      "execution_count": null,
      "outputs": []
    },
    {
      "cell_type": "code",
      "metadata": {
        "id": "OYuJvdXSN5xo"
      },
      "source": [
        "# 거래연월에서 최소연월을 뺌으로써 거래연월 라벨 인코딩\n",
        "all_df['transaction_year_month'] -= all_df['transaction_year_month'].min()\n",
        "all_df.head(1)"
      ],
      "execution_count": null,
      "outputs": []
    },
    {
      "cell_type": "code",
      "metadata": {
        "id": "niMTTODoIb1I"
      },
      "source": [
        "# 필요없는 열 제거\n",
        "all_df = all_df.drop(['jibun', 'transaction_date', 'addr_kr', 'apt_counts', 'top30'], axis=1)\n",
        "all_df.head(1)"
      ],
      "execution_count": null,
      "outputs": []
    },
    {
      "cell_type": "markdown",
      "metadata": {
        "id": "VF5P_T3_yuR9"
      },
      "source": [
        "#### Price"
      ]
    },
    {
      "cell_type": "code",
      "metadata": {
        "ExecuteTime": {
          "end_time": "2021-05-07T07:45:29.733252Z",
          "start_time": "2021-05-07T07:45:29.590122Z"
        },
        "scrolled": true,
        "id": "LBVn1yB1yuR9"
      },
      "source": [
        "# train price\n",
        "plt.figure()\n",
        "plt.hist(train_df['transaction_real_price'], bins=30)\n",
        "plt.xlabel('Price(10000 won)')\n",
        "plt.ylabel('Count')\n",
        "plt.title('Distribution of Price')\n",
        "plt.show()"
      ],
      "execution_count": null,
      "outputs": []
    },
    {
      "cell_type": "markdown",
      "metadata": {
        "id": "ZLsEvIOVyuR-"
      },
      "source": [
        "- 가격의 분포가 매우 왼쪽으로 치우친 것을 확인할 수 있음\n",
        "- 타겟 변수의 이상치가 회귀모형을 사용한 예측에 큰 영향을 줄 수 있음\n",
        "    - 로그 변환으로 정규화한뒤, 나중에 다시 역변환"
      ]
    },
    {
      "cell_type": "code",
      "metadata": {
        "id": "m6K6o48uJ-K8"
      },
      "source": [
        "# 가격 로그 변환 후 원래 가격 따로 저장\n",
        "all_df['log_price'] = np.log1p(all_df['transaction_real_price'])\n",
        "real_price = all_df['transaction_real_price']\n",
        "train_y = real_price[:train_df.shape[0]]\n",
        "test_y = real_price[train_df.shape[0]:]\n",
        "all_df.drop('transaction_real_price', axis=1, inplace=True)\n",
        "all_df.head(1)"
      ],
      "execution_count": null,
      "outputs": []
    },
    {
      "cell_type": "code",
      "metadata": {
        "id": "XQBjw9dAaloA"
      },
      "source": [
        "def reduce_mem_usage(df):\n",
        "    start_mem = df.memory_usage().sum()\n",
        "    print(\"Memory usage of dataframe in {:.2f} MB\",format(start_mem))\n",
        "\n",
        "    for col in df.columns:\n",
        "        col_type = df[col].dtype\n",
        "\n",
        "        if col_type != object:\n",
        "            c_min = df[col].min()\n",
        "            c_max = df[col].max()\n",
        "            if str(col_type)[:3] == 'int':\n",
        "                # np.iinfo: 정수형 타입의 데이터에 명시한 데이터 타입만큼의 메모리 할당\n",
        "                if c_min > np.iinfo(np.int8).min and c_max < np.iinfo(np.int8).max:\n",
        "                    df[col] = df[col].astype(np.int8)\n",
        "                elif c_min > np.iinfo(np.int16).min and c_max < np.iinfo(np.int16).max:\n",
        "                    df[col] = df[col].astype(np.int16)\n",
        "                elif c_min > np.iinfo(np.int32).min and c_max < np.iinfo(np.int32).max:\n",
        "                    df[col] = df[col].astype(np.int32)\n",
        "                elif c_min > np.iinfo(np.int64).min and c_max < np.iinfo(np.int64).max:\n",
        "                    df[col] = df[col].astype(np.int64)\n",
        "                # np.finfo\n",
        "                elif c_min > np.finfo(np.float16).min and c_max < np.finfo(np.float16).max:\n",
        "                    df[col] = df[col].astype(np.float16)\n",
        "                elif c_min > np.finfo(np.float32).min and c_max < np.finfo(np.float32).max:\n",
        "                    df[col] = df[col].astype(np.float32)\n",
        "                elif c_min > np.finfo(np.float64).min and c_max < np.finfo(np.float64).max:\n",
        "                    df[col] = df[col].astype(np.float64)\n",
        "            else:\n",
        "                df[col] = df[col].astype('category')\n",
        "\n",
        "    end_mem = df.memory_usage().sum()\n",
        "    print('Memory Usage after optimization is: {:.2f} MB'.format(end_mem))\n",
        "    print('Decreased by {:.1f}%'.format(100 * (start_mem - end_mem) / start_mem))\n",
        "\n",
        "    return df\n",
        "\n",
        "train_df = reduce_mem_usage(train_df)\n",
        "test_df = reduce_mem_usage(test_df)"
      ],
      "execution_count": null,
      "outputs": []
    },
    {
      "cell_type": "code",
      "metadata": {
        "id": "jANAQVK291VZ"
      },
      "source": [
        "ohe_col = ['city', 'dong', 'apt']\n",
        "onehot_columns = pd.get_dummies(all_df[ohe_col])\n",
        "all_df = pd.concat([all_df, onehot_columns], axis=1)"
      ],
      "execution_count": null,
      "outputs": []
    },
    {
      "cell_type": "code",
      "metadata": {
        "id": "53JFP6ghwEr2"
      },
      "source": [
        "apt_id = all_df['apartment_id']\n",
        "all_df.drop(['transaction_id', 'apartment_id', 'city', 'dong'], axis=1, inplace=True)\n",
        "all_df.head(1)"
      ],
      "execution_count": null,
      "outputs": []
    },
    {
      "cell_type": "code",
      "metadata": {
        "id": "vlBocCnAvuKG"
      },
      "source": [
        "train_df = all_df[:train_df.shape[0]]\n",
        "test_df = all_df[train_df.shape[0]:]\n",
        "del all_df"
      ],
      "execution_count": null,
      "outputs": []
    },
    {
      "cell_type": "markdown",
      "metadata": {
        "id": "Jnko_Hx30Bqm"
      },
      "source": [
        "## Modeling"
      ]
    },
    {
      "cell_type": "code",
      "metadata": {
        "id": "b1QCDF4M0A_K"
      },
      "source": [
        "NFOLDS = 5\n",
        "\n",
        "def rmsle_cv(model):\n",
        "    rmse = np.sqrt(-cross_val_score(model, train_df.values, train_y, scoring='neg_mean_squared_error'))\n",
        "    return(rmse)"
      ],
      "execution_count": null,
      "outputs": []
    },
    {
      "cell_type": "code",
      "metadata": {
        "id": "BjHHIyWBymgd"
      },
      "source": [
        "lasso = make_pipeline(RobustScaler(), Lasso(alpha=0.0005, random_state=1))\n",
        "score = rmsle_cv(lasso)\n",
        "print('\\nLasso score: {:.4f} ({:.4f})\\n'.format(score.mean(), score.std()))"
      ],
      "execution_count": null,
      "outputs": []
    },
    {
      "cell_type": "markdown",
      "metadata": {
        "id": "RHedg_p5yuR-"
      },
      "source": [
        "#### Area"
      ]
    },
    {
      "cell_type": "code",
      "metadata": {
        "ExecuteTime": {
          "end_time": "2021-05-07T07:45:30.037529Z",
          "start_time": "2021-05-07T07:45:29.735254Z"
        },
        "scrolled": false,
        "id": "EKSc4UJ6yuR-"
      },
      "source": [
        "# train area\n",
        "plt.figure()\n",
        "plt.hist(train_df['exclusive_use_area'], bins=30)\n",
        "plt.xlabel('Area(Square meter)')\n",
        "plt.ylabel('Count')\n",
        "plt.title('Distribution of Area')\n",
        "plt.show()"
      ],
      "execution_count": null,
      "outputs": []
    },
    {
      "cell_type": "markdown",
      "metadata": {
        "id": "cYJjrc0nyuR_"
      },
      "source": [
        "- 면적도 마찬가지로 정규화"
      ]
    },
    {
      "cell_type": "markdown",
      "metadata": {
        "id": "yXr3AT8wyuR_"
      },
      "source": [
        "#### What is Underground Floor ?"
      ]
    },
    {
      "cell_type": "code",
      "metadata": {
        "ExecuteTime": {
          "end_time": "2021-05-07T07:45:30.053544Z",
          "start_time": "2021-05-07T07:45:30.038530Z"
        },
        "id": "7v-CwYKuyuR_"
      },
      "source": [
        "under_floor = train_df.loc[train_df['floor']<0]\n",
        "print(f'총 {under_floor.shape[0]}개의 음수 층 있음')\n",
        "print(under_floor['floor'].value_counts())"
      ],
      "execution_count": null,
      "outputs": []
    },
    {
      "cell_type": "markdown",
      "metadata": {
        "id": "-sc_6uJByuSA"
      },
      "source": [
        "- 168개의 지하층이 존재함"
      ]
    },
    {
      "cell_type": "code",
      "metadata": {
        "ExecuteTime": {
          "end_time": "2021-05-07T07:45:30.148630Z",
          "start_time": "2021-05-07T07:45:30.054545Z"
        },
        "id": "N9tHsIn7yuSA"
      },
      "source": [
        "plt.figure()\n",
        "sns.countplot(under_floor['floor'])\n",
        "plt.title('')\n",
        "plt.show()"
      ],
      "execution_count": null,
      "outputs": []
    },
    {
      "cell_type": "code",
      "metadata": {
        "ExecuteTime": {
          "end_time": "2021-05-07T07:45:30.164645Z",
          "start_time": "2021-05-07T07:45:30.149631Z"
        },
        "scrolled": true,
        "id": "4XHFHbTwyuSA"
      },
      "source": [
        "under_floor[['floor', 'transaction_real_price']].corr()"
      ],
      "execution_count": null,
      "outputs": []
    },
    {
      "cell_type": "markdown",
      "metadata": {
        "id": "RIiUZVrAyuSB"
      },
      "source": [
        "층수와 가격간의 선형 설명력이 어느정도 존재하기 때문에 제거하지 않는다."
      ]
    },
    {
      "cell_type": "code",
      "metadata": {
        "ExecuteTime": {
          "end_time": "2021-05-07T07:45:30.180659Z",
          "start_time": "2021-05-07T07:45:30.165646Z"
        },
        "scrolled": false,
        "id": "76cWMq-FyuSB"
      },
      "source": [
        "test_df.head()"
      ],
      "execution_count": null,
      "outputs": []
    },
    {
      "cell_type": "code",
      "metadata": {
        "ExecuteTime": {
          "end_time": "2021-05-07T07:45:30.212688Z",
          "start_time": "2021-05-07T07:45:30.181661Z"
        },
        "id": "wNN4kadZyuSB"
      },
      "source": [
        "test_df.describe()"
      ],
      "execution_count": null,
      "outputs": []
    },
    {
      "cell_type": "code",
      "metadata": {
        "ExecuteTime": {
          "end_time": "2021-05-07T07:45:30.228703Z",
          "start_time": "2021-05-07T07:45:30.213689Z"
        },
        "scrolled": true,
        "id": "Mvj0e9OzyuSB"
      },
      "source": [
        "test_df.info()"
      ],
      "execution_count": null,
      "outputs": []
    },
    {
      "cell_type": "markdown",
      "metadata": {
        "id": "b3IlaU5nyuSC"
      },
      "source": [
        "- test셋에도 널값은 존재하지 않음.\n",
        "- 실거래가 변수 없음(타겟 변수)\n",
        "- 완공연도 1961년부터 2017년\n",
        "- 실거래연도는 2017년도만 존재함\n",
        "- 전용면적은 10.32m^2부터 273.86m^2까지 존재"
      ]
    },
    {
      "cell_type": "code",
      "metadata": {
        "ExecuteTime": {
          "end_time": "2021-05-07T07:45:30.355819Z",
          "start_time": "2021-05-07T07:45:30.230706Z"
        },
        "id": "sqtCxmfDyuSC"
      },
      "source": [
        "plt.figure(figsize=(8, 8))\n",
        "sns.countplot(test_df['transaction_year_month'])\n",
        "plt.xticks(rotation=60)\n",
        "plt.show()"
      ],
      "execution_count": null,
      "outputs": []
    },
    {
      "cell_type": "markdown",
      "metadata": {
        "id": "3ZsGFv_jyuSC"
      },
      "source": [
        "2017년 데이터만 존재하며, 12월 데이터가 가장 많음"
      ]
    },
    {
      "cell_type": "markdown",
      "metadata": {
        "id": "803uhxGhyuSD"
      },
      "source": [
        "- 시설에 매우 많은 결측치가 존재함\n",
        "- 시설이 존재하면 1 없으면 0으로 값 대체\n"
      ]
    },
    {
      "cell_type": "markdown",
      "metadata": {
        "id": "NYItBOkPyuSF"
      },
      "source": [
        "- 분포가 매우 왼쪽으로 치우친 형태\n",
        "- 공원 면적이 집 값에 영향을 미치는가?"
      ]
    },
    {
      "cell_type": "code",
      "metadata": {
        "id": "xTI-y2gmyuSO"
      },
      "source": [
        ""
      ],
      "execution_count": null,
      "outputs": []
    },
    {
      "cell_type": "code",
      "metadata": {
        "id": "DYLKLEpZyuSP"
      },
      "source": [
        ""
      ],
      "execution_count": null,
      "outputs": []
    },
    {
      "cell_type": "code",
      "metadata": {
        "id": "8KfLZ4bPyuSP"
      },
      "source": [
        ""
      ],
      "execution_count": null,
      "outputs": []
    },
    {
      "cell_type": "code",
      "metadata": {
        "id": "TJUZ1zRd2ShQ"
      },
      "source": [
        ""
      ],
      "execution_count": null,
      "outputs": []
    },
    {
      "cell_type": "code",
      "metadata": {
        "id": "qYUNGMSg2ScG"
      },
      "source": [
        ""
      ],
      "execution_count": null,
      "outputs": []
    },
    {
      "cell_type": "code",
      "metadata": {
        "id": "-X9_B7uQ2SY3"
      },
      "source": [
        ""
      ],
      "execution_count": null,
      "outputs": []
    },
    {
      "cell_type": "code",
      "metadata": {
        "id": "wPnAsMjI2SV0"
      },
      "source": [
        ""
      ],
      "execution_count": null,
      "outputs": []
    },
    {
      "cell_type": "code",
      "metadata": {
        "id": "7dqgyUsa2SSW"
      },
      "source": [
        ""
      ],
      "execution_count": null,
      "outputs": []
    },
    {
      "cell_type": "code",
      "metadata": {
        "id": "bhiHA1L02SN6"
      },
      "source": [
        ""
      ],
      "execution_count": null,
      "outputs": []
    }
  ]
}