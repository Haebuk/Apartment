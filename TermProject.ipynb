{
  "nbformat": 4,
  "nbformat_minor": 0,
  "metadata": {
    "accelerator": "GPU",
    "colab": {
      "name": "TermProject.ipynb",
      "provenance": [],
      "collapsed_sections": [],
      "machine_shape": "hm",
      "include_colab_link": true
    },
    "kernelspec": {
      "display_name": "Python 3",
      "language": "python",
      "name": "python3"
    },
    "language_info": {
      "codemirror_mode": {
        "name": "ipython",
        "version": 3
      },
      "file_extension": ".py",
      "mimetype": "text/x-python",
      "name": "python",
      "nbconvert_exporter": "python",
      "pygments_lexer": "ipython3",
      "version": "3.7.10"
    },
    "toc": {
      "base_numbering": 1,
      "nav_menu": {},
      "number_sections": false,
      "sideBar": true,
      "skip_h1_title": false,
      "title_cell": "Table of Contents",
      "title_sidebar": "Contents",
      "toc_cell": false,
      "toc_position": {
        "height": "calc(100% - 180px)",
        "left": "10px",
        "top": "150px",
        "width": "383.997px"
      },
      "toc_section_display": true,
      "toc_window_display": false
    },
    "varInspector": {
      "cols": {
        "lenName": 16,
        "lenType": 16,
        "lenVar": 40
      },
      "kernels_config": {
        "python": {
          "delete_cmd_postfix": "",
          "delete_cmd_prefix": "del ",
          "library": "var_list.py",
          "varRefreshCmd": "print(var_dic_list())"
        },
        "r": {
          "delete_cmd_postfix": ") ",
          "delete_cmd_prefix": "rm(",
          "library": "var_list.r",
          "varRefreshCmd": "cat(var_dic_list()) "
        }
      },
      "types_to_exclude": [
        "module",
        "function",
        "builtin_function_or_method",
        "instance",
        "_Feature"
      ],
      "window_display": false
    }
  },
  "cells": [
    {
      "cell_type": "markdown",
      "metadata": {
        "id": "view-in-github",
        "colab_type": "text"
      },
      "source": [
        "<a href=\"https://colab.research.google.com/github/Haebuk/dataminingTP/blob/main/TermProject.ipynb\" target=\"_parent\"><img src=\"https://colab.research.google.com/assets/colab-badge.svg\" alt=\"Open In Colab\"/></a>"
      ]
    },
    {
      "cell_type": "markdown",
      "metadata": {
        "id": "smxWmS7tyuRz"
      },
      "source": [
        "# 아파트 실거래가 예측"
      ]
    },
    {
      "cell_type": "code",
      "metadata": {
        "id": "gUwouTkEyuR3"
      },
      "source": [
        "import pandas as pd\n",
        "import numpy as np\n",
        "import matplotlib.pyplot as plt\n",
        "import warnings\n",
        "import seaborn as sns\n",
        "from tqdm.notebook import tqdm\n",
        "from sklearn.linear_model import LinearRegression, ElasticNet, Lasso\n",
        "from sklearn.ensemble import RandomForestRegressor,  GradientBoostingRegressor\n",
        "from sklearn.preprocessing import  LabelEncoder\n",
        "from sklearn.model_selection import KFold, cross_val_score, train_test_split, TimeSeriesSplit\n",
        "from sklearn.metrics import mean_squared_error\n",
        "import xgboost as xgb\n",
        "import lightgbm as lgb\n",
        "import re"
      ],
      "execution_count": null,
      "outputs": []
    },
    {
      "cell_type": "markdown",
      "metadata": {
        "id": "1TRIEY3TyuR4"
      },
      "source": [
        "## Data Load"
      ]
    },
    {
      "cell_type": "code",
      "metadata": {
        "colab": {
          "base_uri": "https://localhost:8080/"
        },
        "id": "A3u9N6k6y0QQ",
        "outputId": "7fff98ab-5031-4489-b6e4-ff9586bd19d8"
      },
      "source": [
        "from google.colab import drive\n",
        "drive.mount('/content/drive')"
      ],
      "execution_count": 27,
      "outputs": [
        {
          "output_type": "stream",
          "text": [
            "Drive already mounted at /content/drive; to attempt to forcibly remount, call drive.mount(\"/content/drive\", force_remount=True).\n"
          ],
          "name": "stdout"
        }
      ]
    },
    {
      "cell_type": "code",
      "metadata": {
        "id": "nWFpn1T3yuR5"
      },
      "source": [
        "PATH = '/content/drive/MyDrive/input/dataminingTP/'\n",
        "train_df = pd.read_csv(PATH + 'train_df_regex.csv')\n",
        "test_df = pd.read_csv(PATH + 'test_df_regex.csv')"
      ],
      "execution_count": 49,
      "outputs": []
    },
    {
      "cell_type": "markdown",
      "metadata": {
        "id": "rFlOm3HTyuR6"
      },
      "source": [
        "- exclusive_use_area: 전용면적(한 세대만 독점적으로 사용하는 공간)\n",
        "- transaction_real_price: 실거래가(단위:만원, 타겟 값, train만 존재)\n",
        "- transaction_year_month: 거래년월\n",
        "- transaction_date: 거래일\n",
        "- floor: 층 \n",
        "\n",
        "- 데이터가 거래시간 순으로 이루어져 있음"
      ]
    },
    {
      "cell_type": "markdown",
      "metadata": {
        "id": "23AHCSypXODz"
      },
      "source": [
        "### regex preprocessing\n",
        "- apt 이름에 존재하는 괄호 + 괄호안 내용 제거"
      ]
    },
    {
      "cell_type": "code",
      "metadata": {
        "id": "hqTsDvMvXNr7"
      },
      "source": [
        "# 괄호와 괄호안내용 제거\n",
        "#regex = \"\\(.*\\)|\\s-\\s.*\"\n",
        "#for i in tqdm(range(len(train_df)), position=0, leave=True):\n",
        "#    train_df['apt'][i] = re.sub(regex, '', train_df['apt'][i])\n",
        "\n",
        "# 처리시간이 길어서 과정을 생략하기 위해 따로 csv 파일 생성\n",
        "# 추후에 로드할 때는 train_df 대신 train_df_regex를 로드함(test도 마찬가지)\n",
        "#train_df.to_csv('train_df_regex.csv', index=False)\n"
      ],
      "execution_count": null,
      "outputs": []
    },
    {
      "cell_type": "code",
      "metadata": {
        "id": "jxDarwA4f4GE",
        "colab": {
          "base_uri": "https://localhost:8080/",
          "height": 240
        },
        "outputId": "e41306ce-b636-45f9-f5bb-bff6aaf4bd92"
      },
      "source": [
        "o_train_df.head(3)"
      ],
      "execution_count": null,
      "outputs": [
        {
          "output_type": "execute_result",
          "data": {
            "text/html": [
              "<div>\n",
              "<style scoped>\n",
              "    .dataframe tbody tr th:only-of-type {\n",
              "        vertical-align: middle;\n",
              "    }\n",
              "\n",
              "    .dataframe tbody tr th {\n",
              "        vertical-align: top;\n",
              "    }\n",
              "\n",
              "    .dataframe thead th {\n",
              "        text-align: right;\n",
              "    }\n",
              "</style>\n",
              "<table border=\"1\" class=\"dataframe\">\n",
              "  <thead>\n",
              "    <tr style=\"text-align: right;\">\n",
              "      <th></th>\n",
              "      <th>transaction_id</th>\n",
              "      <th>apartment_id</th>\n",
              "      <th>city</th>\n",
              "      <th>dong</th>\n",
              "      <th>jibun</th>\n",
              "      <th>apt</th>\n",
              "      <th>addr_kr</th>\n",
              "      <th>exclusive_use_area</th>\n",
              "      <th>year_of_completion</th>\n",
              "      <th>transaction_year_month</th>\n",
              "      <th>transaction_date</th>\n",
              "      <th>floor</th>\n",
              "      <th>transaction_real_price</th>\n",
              "    </tr>\n",
              "  </thead>\n",
              "  <tbody>\n",
              "    <tr>\n",
              "      <th>0</th>\n",
              "      <td>0</td>\n",
              "      <td>7622</td>\n",
              "      <td>서울특별시</td>\n",
              "      <td>신교동</td>\n",
              "      <td>6-13</td>\n",
              "      <td>신현(101동)</td>\n",
              "      <td>신교동 6-13 신현(101동)</td>\n",
              "      <td>84.82</td>\n",
              "      <td>2002</td>\n",
              "      <td>200801</td>\n",
              "      <td>21~31</td>\n",
              "      <td>2</td>\n",
              "      <td>37500</td>\n",
              "    </tr>\n",
              "    <tr>\n",
              "      <th>1</th>\n",
              "      <td>1</td>\n",
              "      <td>5399</td>\n",
              "      <td>서울특별시</td>\n",
              "      <td>필운동</td>\n",
              "      <td>142</td>\n",
              "      <td>사직파크맨션</td>\n",
              "      <td>필운동 142 사직파크맨션</td>\n",
              "      <td>99.17</td>\n",
              "      <td>1973</td>\n",
              "      <td>200801</td>\n",
              "      <td>1~10</td>\n",
              "      <td>6</td>\n",
              "      <td>20000</td>\n",
              "    </tr>\n",
              "    <tr>\n",
              "      <th>2</th>\n",
              "      <td>2</td>\n",
              "      <td>3578</td>\n",
              "      <td>서울특별시</td>\n",
              "      <td>필운동</td>\n",
              "      <td>174-1</td>\n",
              "      <td>두레엘리시안</td>\n",
              "      <td>필운동 174-1 두레엘리시안</td>\n",
              "      <td>84.74</td>\n",
              "      <td>2007</td>\n",
              "      <td>200801</td>\n",
              "      <td>1~10</td>\n",
              "      <td>6</td>\n",
              "      <td>38500</td>\n",
              "    </tr>\n",
              "  </tbody>\n",
              "</table>\n",
              "</div>"
            ],
            "text/plain": [
              "   transaction_id  apartment_id  ... floor transaction_real_price\n",
              "0               0          7622  ...     2                  37500\n",
              "1               1          5399  ...     6                  20000\n",
              "2               2          3578  ...     6                  38500\n",
              "\n",
              "[3 rows x 13 columns]"
            ]
          },
          "metadata": {
            "tags": []
          },
          "execution_count": 4
        }
      ]
    },
    {
      "cell_type": "markdown",
      "metadata": {
        "id": "1oGM0cPpyuR7"
      },
      "source": [
        "## Preprocessing\n",
        "### Train and Test set"
      ]
    },
    {
      "cell_type": "code",
      "metadata": {
        "colab": {
          "base_uri": "https://localhost:8080/",
          "height": 138
        },
        "id": "w7bzVKJAF7GB",
        "outputId": "de9e817e-c1be-48e7-dd6f-0beb134b2c0a"
      },
      "source": [
        "train_df.head(3)"
      ],
      "execution_count": null,
      "outputs": [
        {
          "output_type": "execute_result",
          "data": {
            "text/html": [
              "<div>\n",
              "<style scoped>\n",
              "    .dataframe tbody tr th:only-of-type {\n",
              "        vertical-align: middle;\n",
              "    }\n",
              "\n",
              "    .dataframe tbody tr th {\n",
              "        vertical-align: top;\n",
              "    }\n",
              "\n",
              "    .dataframe thead th {\n",
              "        text-align: right;\n",
              "    }\n",
              "</style>\n",
              "<table border=\"1\" class=\"dataframe\">\n",
              "  <thead>\n",
              "    <tr style=\"text-align: right;\">\n",
              "      <th></th>\n",
              "      <th>transaction_id</th>\n",
              "      <th>apartment_id</th>\n",
              "      <th>city</th>\n",
              "      <th>dong</th>\n",
              "      <th>jibun</th>\n",
              "      <th>apt</th>\n",
              "      <th>addr_kr</th>\n",
              "      <th>exclusive_use_area</th>\n",
              "      <th>year_of_completion</th>\n",
              "      <th>transaction_year_month</th>\n",
              "      <th>transaction_date</th>\n",
              "      <th>floor</th>\n",
              "      <th>transaction_real_price</th>\n",
              "    </tr>\n",
              "  </thead>\n",
              "  <tbody>\n",
              "    <tr>\n",
              "      <th>0</th>\n",
              "      <td>0</td>\n",
              "      <td>7622</td>\n",
              "      <td>서울특별시</td>\n",
              "      <td>신교동</td>\n",
              "      <td>6-13</td>\n",
              "      <td>신현</td>\n",
              "      <td>신교동 6-13 신현(101동)</td>\n",
              "      <td>84.82</td>\n",
              "      <td>2002</td>\n",
              "      <td>200801</td>\n",
              "      <td>21~31</td>\n",
              "      <td>2</td>\n",
              "      <td>37500</td>\n",
              "    </tr>\n",
              "    <tr>\n",
              "      <th>1</th>\n",
              "      <td>1</td>\n",
              "      <td>5399</td>\n",
              "      <td>서울특별시</td>\n",
              "      <td>필운동</td>\n",
              "      <td>142</td>\n",
              "      <td>사직파크맨션</td>\n",
              "      <td>필운동 142 사직파크맨션</td>\n",
              "      <td>99.17</td>\n",
              "      <td>1973</td>\n",
              "      <td>200801</td>\n",
              "      <td>1~10</td>\n",
              "      <td>6</td>\n",
              "      <td>20000</td>\n",
              "    </tr>\n",
              "    <tr>\n",
              "      <th>2</th>\n",
              "      <td>2</td>\n",
              "      <td>3578</td>\n",
              "      <td>서울특별시</td>\n",
              "      <td>필운동</td>\n",
              "      <td>174-1</td>\n",
              "      <td>두레엘리시안</td>\n",
              "      <td>필운동 174-1 두레엘리시안</td>\n",
              "      <td>84.74</td>\n",
              "      <td>2007</td>\n",
              "      <td>200801</td>\n",
              "      <td>1~10</td>\n",
              "      <td>6</td>\n",
              "      <td>38500</td>\n",
              "    </tr>\n",
              "  </tbody>\n",
              "</table>\n",
              "</div>"
            ],
            "text/plain": [
              "   transaction_id  apartment_id  ... floor transaction_real_price\n",
              "0               0          7622  ...     2                  37500\n",
              "1               1          5399  ...     6                  20000\n",
              "2               2          3578  ...     6                  38500\n",
              "\n",
              "[3 rows x 13 columns]"
            ]
          },
          "metadata": {
            "tags": []
          },
          "execution_count": 25
        }
      ]
    },
    {
      "cell_type": "code",
      "metadata": {
        "colab": {
          "base_uri": "https://localhost:8080/",
          "height": 138
        },
        "id": "FLw_w_vpF8oB",
        "outputId": "757d5f66-69b9-42f9-f4ba-b287c13c42ba"
      },
      "source": [
        "test_df.head(3)"
      ],
      "execution_count": null,
      "outputs": [
        {
          "output_type": "execute_result",
          "data": {
            "text/html": [
              "<div>\n",
              "<style scoped>\n",
              "    .dataframe tbody tr th:only-of-type {\n",
              "        vertical-align: middle;\n",
              "    }\n",
              "\n",
              "    .dataframe tbody tr th {\n",
              "        vertical-align: top;\n",
              "    }\n",
              "\n",
              "    .dataframe thead th {\n",
              "        text-align: right;\n",
              "    }\n",
              "</style>\n",
              "<table border=\"1\" class=\"dataframe\">\n",
              "  <thead>\n",
              "    <tr style=\"text-align: right;\">\n",
              "      <th></th>\n",
              "      <th>transaction_id</th>\n",
              "      <th>apartment_id</th>\n",
              "      <th>city</th>\n",
              "      <th>dong</th>\n",
              "      <th>jibun</th>\n",
              "      <th>apt</th>\n",
              "      <th>addr_kr</th>\n",
              "      <th>exclusive_use_area</th>\n",
              "      <th>year_of_completion</th>\n",
              "      <th>transaction_year_month</th>\n",
              "      <th>transaction_date</th>\n",
              "      <th>floor</th>\n",
              "    </tr>\n",
              "  </thead>\n",
              "  <tbody>\n",
              "    <tr>\n",
              "      <th>0</th>\n",
              "      <td>1145756</td>\n",
              "      <td>10453</td>\n",
              "      <td>서울특별시</td>\n",
              "      <td>목동</td>\n",
              "      <td>938</td>\n",
              "      <td>청학</td>\n",
              "      <td>목동 938 청학</td>\n",
              "      <td>35.55</td>\n",
              "      <td>2002</td>\n",
              "      <td>201711</td>\n",
              "      <td>11~20</td>\n",
              "      <td>2</td>\n",
              "    </tr>\n",
              "    <tr>\n",
              "      <th>1</th>\n",
              "      <td>1198704</td>\n",
              "      <td>989</td>\n",
              "      <td>부산광역시</td>\n",
              "      <td>초량동</td>\n",
              "      <td>1143-8</td>\n",
              "      <td>고관맨션</td>\n",
              "      <td>초량동 1143-8 고관맨션</td>\n",
              "      <td>68.72</td>\n",
              "      <td>1977</td>\n",
              "      <td>201708</td>\n",
              "      <td>21~31</td>\n",
              "      <td>2</td>\n",
              "    </tr>\n",
              "    <tr>\n",
              "      <th>2</th>\n",
              "      <td>1222384</td>\n",
              "      <td>8597</td>\n",
              "      <td>부산광역시</td>\n",
              "      <td>괴정동</td>\n",
              "      <td>447-13</td>\n",
              "      <td>우림그린</td>\n",
              "      <td>괴정동 447-13 우림그린</td>\n",
              "      <td>72.54</td>\n",
              "      <td>1989</td>\n",
              "      <td>201710</td>\n",
              "      <td>11~20</td>\n",
              "      <td>2</td>\n",
              "    </tr>\n",
              "  </tbody>\n",
              "</table>\n",
              "</div>"
            ],
            "text/plain": [
              "   transaction_id  apartment_id  ... transaction_date floor\n",
              "0         1145756         10453  ...            11~20     2\n",
              "1         1198704           989  ...            21~31     2\n",
              "2         1222384          8597  ...            11~20     2\n",
              "\n",
              "[3 rows x 12 columns]"
            ]
          },
          "metadata": {
            "tags": []
          },
          "execution_count": 26
        }
      ]
    },
    {
      "cell_type": "code",
      "metadata": {
        "colab": {
          "base_uri": "https://localhost:8080/",
          "height": 289
        },
        "id": "ptHosUTEyuR7",
        "scrolled": false,
        "outputId": "7d304bfd-f974-44c9-9f5d-bc1071455dc1"
      },
      "source": [
        "train_df.describe() "
      ],
      "execution_count": null,
      "outputs": [
        {
          "output_type": "execute_result",
          "data": {
            "text/html": [
              "<div>\n",
              "<style scoped>\n",
              "    .dataframe tbody tr th:only-of-type {\n",
              "        vertical-align: middle;\n",
              "    }\n",
              "\n",
              "    .dataframe tbody tr th {\n",
              "        vertical-align: top;\n",
              "    }\n",
              "\n",
              "    .dataframe thead th {\n",
              "        text-align: right;\n",
              "    }\n",
              "</style>\n",
              "<table border=\"1\" class=\"dataframe\">\n",
              "  <thead>\n",
              "    <tr style=\"text-align: right;\">\n",
              "      <th></th>\n",
              "      <th>transaction_id</th>\n",
              "      <th>apartment_id</th>\n",
              "      <th>exclusive_use_area</th>\n",
              "      <th>year_of_completion</th>\n",
              "      <th>transaction_year_month</th>\n",
              "      <th>floor</th>\n",
              "      <th>transaction_real_price</th>\n",
              "    </tr>\n",
              "  </thead>\n",
              "  <tbody>\n",
              "    <tr>\n",
              "      <th>count</th>\n",
              "      <td>1.216553e+06</td>\n",
              "      <td>1.216553e+06</td>\n",
              "      <td>1.216553e+06</td>\n",
              "      <td>1.216553e+06</td>\n",
              "      <td>1.216553e+06</td>\n",
              "      <td>1.216553e+06</td>\n",
              "      <td>1.216553e+06</td>\n",
              "    </tr>\n",
              "    <tr>\n",
              "      <th>mean</th>\n",
              "      <td>6.091530e+05</td>\n",
              "      <td>6.299685e+03</td>\n",
              "      <td>7.816549e+01</td>\n",
              "      <td>1.998297e+03</td>\n",
              "      <td>2.012984e+05</td>\n",
              "      <td>9.343291e+00</td>\n",
              "      <td>3.822769e+04</td>\n",
              "    </tr>\n",
              "    <tr>\n",
              "      <th>std</th>\n",
              "      <td>3.526198e+05</td>\n",
              "      <td>3.581169e+03</td>\n",
              "      <td>2.915113e+01</td>\n",
              "      <td>8.941347e+00</td>\n",
              "      <td>2.905732e+02</td>\n",
              "      <td>6.606500e+00</td>\n",
              "      <td>3.104898e+04</td>\n",
              "    </tr>\n",
              "    <tr>\n",
              "      <th>min</th>\n",
              "      <td>0.000000e+00</td>\n",
              "      <td>0.000000e+00</td>\n",
              "      <td>9.260000e+00</td>\n",
              "      <td>1.961000e+03</td>\n",
              "      <td>2.008010e+05</td>\n",
              "      <td>-4.000000e+00</td>\n",
              "      <td>1.000000e+02</td>\n",
              "    </tr>\n",
              "    <tr>\n",
              "      <th>25%</th>\n",
              "      <td>3.041380e+05</td>\n",
              "      <td>3.345000e+03</td>\n",
              "      <td>5.976000e+01</td>\n",
              "      <td>1.993000e+03</td>\n",
              "      <td>2.010100e+05</td>\n",
              "      <td>4.000000e+00</td>\n",
              "      <td>1.900000e+04</td>\n",
              "    </tr>\n",
              "    <tr>\n",
              "      <th>50%</th>\n",
              "      <td>6.082760e+05</td>\n",
              "      <td>5.964000e+03</td>\n",
              "      <td>8.241000e+01</td>\n",
              "      <td>1.999000e+03</td>\n",
              "      <td>2.013120e+05</td>\n",
              "      <td>8.000000e+00</td>\n",
              "      <td>3.090000e+04</td>\n",
              "    </tr>\n",
              "    <tr>\n",
              "      <th>75%</th>\n",
              "      <td>9.124140e+05</td>\n",
              "      <td>9.436000e+03</td>\n",
              "      <td>8.497000e+01</td>\n",
              "      <td>2.005000e+03</td>\n",
              "      <td>2.015110e+05</td>\n",
              "      <td>1.300000e+01</td>\n",
              "      <td>4.700000e+04</td>\n",
              "    </tr>\n",
              "    <tr>\n",
              "      <th>max</th>\n",
              "      <td>1.234827e+06</td>\n",
              "      <td>1.265800e+04</td>\n",
              "      <td>4.243200e+02</td>\n",
              "      <td>2.017000e+03</td>\n",
              "      <td>2.017110e+05</td>\n",
              "      <td>8.000000e+01</td>\n",
              "      <td>8.200000e+05</td>\n",
              "    </tr>\n",
              "  </tbody>\n",
              "</table>\n",
              "</div>"
            ],
            "text/plain": [
              "       transaction_id  apartment_id  ...         floor  transaction_real_price\n",
              "count    1.216553e+06  1.216553e+06  ...  1.216553e+06            1.216553e+06\n",
              "mean     6.091530e+05  6.299685e+03  ...  9.343291e+00            3.822769e+04\n",
              "std      3.526198e+05  3.581169e+03  ...  6.606500e+00            3.104898e+04\n",
              "min      0.000000e+00  0.000000e+00  ... -4.000000e+00            1.000000e+02\n",
              "25%      3.041380e+05  3.345000e+03  ...  4.000000e+00            1.900000e+04\n",
              "50%      6.082760e+05  5.964000e+03  ...  8.000000e+00            3.090000e+04\n",
              "75%      9.124140e+05  9.436000e+03  ...  1.300000e+01            4.700000e+04\n",
              "max      1.234827e+06  1.265800e+04  ...  8.000000e+01            8.200000e+05\n",
              "\n",
              "[8 rows x 7 columns]"
            ]
          },
          "metadata": {
            "tags": []
          },
          "execution_count": 4
        }
      ]
    },
    {
      "cell_type": "code",
      "metadata": {
        "colab": {
          "base_uri": "https://localhost:8080/"
        },
        "id": "GqBnjIEryuR8",
        "outputId": "e3c511d5-76a7-4fec-e586-e07e6db5d3bd"
      },
      "source": [
        "train_df.info()"
      ],
      "execution_count": null,
      "outputs": [
        {
          "output_type": "stream",
          "text": [
            "<class 'pandas.core.frame.DataFrame'>\n",
            "RangeIndex: 1216553 entries, 0 to 1216552\n",
            "Data columns (total 13 columns):\n",
            " #   Column                  Non-Null Count    Dtype  \n",
            "---  ------                  --------------    -----  \n",
            " 0   transaction_id          1216553 non-null  int64  \n",
            " 1   apartment_id            1216553 non-null  int64  \n",
            " 2   city                    1216553 non-null  object \n",
            " 3   dong                    1216553 non-null  object \n",
            " 4   jibun                   1216553 non-null  object \n",
            " 5   apt                     1215092 non-null  object \n",
            " 6   addr_kr                 1216553 non-null  object \n",
            " 7   exclusive_use_area      1216553 non-null  float64\n",
            " 8   year_of_completion      1216553 non-null  int64  \n",
            " 9   transaction_year_month  1216553 non-null  int64  \n",
            " 10  transaction_date        1216553 non-null  object \n",
            " 11  floor                   1216553 non-null  int64  \n",
            " 12  transaction_real_price  1216553 non-null  int64  \n",
            "dtypes: float64(1), int64(6), object(6)\n",
            "memory usage: 120.7+ MB\n"
          ],
          "name": "stdout"
        }
      ]
    },
    {
      "cell_type": "markdown",
      "metadata": {
        "id": "cPo0KrA4yuR8"
      },
      "source": [
        "- train_df 결측치는 없음\n",
        "- 1961년 ~ 2017년 완공 건물\n",
        "- 9.26m^2 ~ 424.32m^2 전용면적\n",
        "- Floor의 경우 음의 값 존재.\n",
        "- 실거래가는 100만원부터 820억까지 존재"
      ]
    },
    {
      "cell_type": "code",
      "metadata": {
        "colab": {
          "base_uri": "https://localhost:8080/",
          "height": 147
        },
        "id": "1FwiQwyXyuR8",
        "scrolled": true,
        "outputId": "d84ed6be-d755-47f7-d954-2ad31dbfed2e"
      },
      "source": [
        "train_df.loc[train_df['transaction_real_price']==820000]"
      ],
      "execution_count": null,
      "outputs": [
        {
          "output_type": "execute_result",
          "data": {
            "text/html": [
              "<div>\n",
              "<style scoped>\n",
              "    .dataframe tbody tr th:only-of-type {\n",
              "        vertical-align: middle;\n",
              "    }\n",
              "\n",
              "    .dataframe tbody tr th {\n",
              "        vertical-align: top;\n",
              "    }\n",
              "\n",
              "    .dataframe thead th {\n",
              "        text-align: right;\n",
              "    }\n",
              "</style>\n",
              "<table border=\"1\" class=\"dataframe\">\n",
              "  <thead>\n",
              "    <tr style=\"text-align: right;\">\n",
              "      <th></th>\n",
              "      <th>transaction_id</th>\n",
              "      <th>apartment_id</th>\n",
              "      <th>city</th>\n",
              "      <th>dong</th>\n",
              "      <th>jibun</th>\n",
              "      <th>apt</th>\n",
              "      <th>addr_kr</th>\n",
              "      <th>exclusive_use_area</th>\n",
              "      <th>year_of_completion</th>\n",
              "      <th>transaction_year_month</th>\n",
              "      <th>transaction_date</th>\n",
              "      <th>floor</th>\n",
              "      <th>transaction_real_price</th>\n",
              "    </tr>\n",
              "  </thead>\n",
              "  <tbody>\n",
              "    <tr>\n",
              "      <th>23603</th>\n",
              "      <td>23603</td>\n",
              "      <td>11320</td>\n",
              "      <td>서울특별시</td>\n",
              "      <td>한남동</td>\n",
              "      <td>810</td>\n",
              "      <td>한남더힐</td>\n",
              "      <td>한남동 810 한남더힐</td>\n",
              "      <td>244.749</td>\n",
              "      <td>2011</td>\n",
              "      <td>201612</td>\n",
              "      <td>21~31</td>\n",
              "      <td>3</td>\n",
              "      <td>820000</td>\n",
              "    </tr>\n",
              "  </tbody>\n",
              "</table>\n",
              "</div>"
            ],
            "text/plain": [
              "       transaction_id  apartment_id  ... floor transaction_real_price\n",
              "23603           23603         11320  ...     3                 820000\n",
              "\n",
              "[1 rows x 13 columns]"
            ]
          },
          "metadata": {
            "tags": []
          },
          "execution_count": 9
        }
      ]
    },
    {
      "cell_type": "code",
      "metadata": {
        "colab": {
          "base_uri": "https://localhost:8080/",
          "height": 302
        },
        "id": "qr4bAphkZtqZ",
        "outputId": "5aa2b1ec-f7e4-4009-d09e-237baab0cf95"
      },
      "source": [
        "test_df.describe()"
      ],
      "execution_count": null,
      "outputs": [
        {
          "output_type": "execute_result",
          "data": {
            "text/html": [
              "<div>\n",
              "<style scoped>\n",
              "    .dataframe tbody tr th:only-of-type {\n",
              "        vertical-align: middle;\n",
              "    }\n",
              "\n",
              "    .dataframe tbody tr th {\n",
              "        vertical-align: top;\n",
              "    }\n",
              "\n",
              "    .dataframe thead th {\n",
              "        text-align: right;\n",
              "    }\n",
              "</style>\n",
              "<table border=\"1\" class=\"dataframe\">\n",
              "  <thead>\n",
              "    <tr style=\"text-align: right;\">\n",
              "      <th></th>\n",
              "      <th>transaction_id</th>\n",
              "      <th>apartment_id</th>\n",
              "      <th>exclusive_use_area</th>\n",
              "      <th>year_of_completion</th>\n",
              "      <th>transaction_year_month</th>\n",
              "      <th>floor</th>\n",
              "    </tr>\n",
              "  </thead>\n",
              "  <tbody>\n",
              "    <tr>\n",
              "      <th>count</th>\n",
              "      <td>5.463000e+03</td>\n",
              "      <td>5463.000000</td>\n",
              "      <td>5463.000000</td>\n",
              "      <td>5463.000000</td>\n",
              "      <td>5463.000000</td>\n",
              "      <td>5463.000000</td>\n",
              "    </tr>\n",
              "    <tr>\n",
              "      <th>mean</th>\n",
              "      <td>1.167126e+06</td>\n",
              "      <td>6287.570932</td>\n",
              "      <td>79.495250</td>\n",
              "      <td>2000.431082</td>\n",
              "      <td>201710.228446</td>\n",
              "      <td>8.266886</td>\n",
              "    </tr>\n",
              "    <tr>\n",
              "      <th>std</th>\n",
              "      <td>4.075365e+04</td>\n",
              "      <td>3624.756304</td>\n",
              "      <td>32.935434</td>\n",
              "      <td>9.982040</td>\n",
              "      <td>2.798195</td>\n",
              "      <td>6.082475</td>\n",
              "    </tr>\n",
              "    <tr>\n",
              "      <th>min</th>\n",
              "      <td>1.092791e+06</td>\n",
              "      <td>12.000000</td>\n",
              "      <td>10.321500</td>\n",
              "      <td>1961.000000</td>\n",
              "      <td>201701.000000</td>\n",
              "      <td>-1.000000</td>\n",
              "    </tr>\n",
              "    <tr>\n",
              "      <th>25%</th>\n",
              "      <td>1.134296e+06</td>\n",
              "      <td>3278.000000</td>\n",
              "      <td>59.760000</td>\n",
              "      <td>1995.000000</td>\n",
              "      <td>201709.000000</td>\n",
              "      <td>4.000000</td>\n",
              "    </tr>\n",
              "    <tr>\n",
              "      <th>50%</th>\n",
              "      <td>1.167937e+06</td>\n",
              "      <td>6091.000000</td>\n",
              "      <td>81.720000</td>\n",
              "      <td>2002.000000</td>\n",
              "      <td>201712.000000</td>\n",
              "      <td>7.000000</td>\n",
              "    </tr>\n",
              "    <tr>\n",
              "      <th>75%</th>\n",
              "      <td>1.202560e+06</td>\n",
              "      <td>9416.500000</td>\n",
              "      <td>84.970000</td>\n",
              "      <td>2007.000000</td>\n",
              "      <td>201712.000000</td>\n",
              "      <td>11.000000</td>\n",
              "    </tr>\n",
              "    <tr>\n",
              "      <th>max</th>\n",
              "      <td>1.234930e+06</td>\n",
              "      <td>12652.000000</td>\n",
              "      <td>273.860000</td>\n",
              "      <td>2017.000000</td>\n",
              "      <td>201712.000000</td>\n",
              "      <td>55.000000</td>\n",
              "    </tr>\n",
              "  </tbody>\n",
              "</table>\n",
              "</div>"
            ],
            "text/plain": [
              "       transaction_id  apartment_id  ...  transaction_year_month        floor\n",
              "count    5.463000e+03   5463.000000  ...             5463.000000  5463.000000\n",
              "mean     1.167126e+06   6287.570932  ...           201710.228446     8.266886\n",
              "std      4.075365e+04   3624.756304  ...                2.798195     6.082475\n",
              "min      1.092791e+06     12.000000  ...           201701.000000    -1.000000\n",
              "25%      1.134296e+06   3278.000000  ...           201709.000000     4.000000\n",
              "50%      1.167937e+06   6091.000000  ...           201712.000000     7.000000\n",
              "75%      1.202560e+06   9416.500000  ...           201712.000000    11.000000\n",
              "max      1.234930e+06  12652.000000  ...           201712.000000    55.000000\n",
              "\n",
              "[8 rows x 6 columns]"
            ]
          },
          "metadata": {
            "tags": []
          },
          "execution_count": 10
        }
      ]
    },
    {
      "cell_type": "code",
      "metadata": {
        "colab": {
          "base_uri": "https://localhost:8080/"
        },
        "id": "7WgJSSXUZtkJ",
        "outputId": "f9ccd750-b449-4469-c658-c2014af3f399"
      },
      "source": [
        "test_df.info()"
      ],
      "execution_count": null,
      "outputs": [
        {
          "output_type": "stream",
          "text": [
            "<class 'pandas.core.frame.DataFrame'>\n",
            "RangeIndex: 5463 entries, 0 to 5462\n",
            "Data columns (total 12 columns):\n",
            " #   Column                  Non-Null Count  Dtype  \n",
            "---  ------                  --------------  -----  \n",
            " 0   transaction_id          5463 non-null   int64  \n",
            " 1   apartment_id            5463 non-null   int64  \n",
            " 2   city                    5463 non-null   object \n",
            " 3   dong                    5463 non-null   object \n",
            " 4   jibun                   5463 non-null   object \n",
            " 5   apt                     5463 non-null   object \n",
            " 6   addr_kr                 5463 non-null   object \n",
            " 7   exclusive_use_area      5463 non-null   float64\n",
            " 8   year_of_completion      5463 non-null   int64  \n",
            " 9   transaction_year_month  5463 non-null   int64  \n",
            " 10  transaction_date        5463 non-null   object \n",
            " 11  floor                   5463 non-null   int64  \n",
            "dtypes: float64(1), int64(5), object(6)\n",
            "memory usage: 512.3+ KB\n"
          ],
          "name": "stdout"
        }
      ]
    },
    {
      "cell_type": "markdown",
      "metadata": {
        "id": "11SmTN0zVJAp"
      },
      "source": [
        "### apart"
      ]
    },
    {
      "cell_type": "code",
      "metadata": {
        "colab": {
          "base_uri": "https://localhost:8080/"
        },
        "id": "SV_-tgUVk8lo",
        "outputId": "4c83ff90-512c-4405-fbaf-3ae7abf61b74"
      },
      "source": [
        "train_df['apt'].value_counts()[:20]"
      ],
      "execution_count": null,
      "outputs": [
        {
          "output_type": "execute_result",
          "data": {
            "text/plain": [
              "현대        17716\n",
              "한신        10135\n",
              "삼성         6771\n",
              "대우         6390\n",
              "신동아        6386\n",
              "두산         5801\n",
              "우성         5781\n",
              "주공2        5669\n",
              "삼성래미안      5483\n",
              "벽산         4651\n",
              "대림         4582\n",
              "동원로얄듀크     4430\n",
              "경남         4030\n",
              "삼환         3896\n",
              "극동         3771\n",
              "삼익         3583\n",
              "롯데캐슬       3570\n",
              "쌍용         3409\n",
              "코오롱        3320\n",
              "한양         3231\n",
              "Name: apt, dtype: int64"
            ]
          },
          "metadata": {
            "tags": []
          },
          "execution_count": 5
        }
      ]
    },
    {
      "cell_type": "code",
      "metadata": {
        "colab": {
          "base_uri": "https://localhost:8080/",
          "height": 138
        },
        "id": "vpJP6NDV35UF",
        "outputId": "87a1ffc9-e547-4dc4-9413-90dc07ca7cf7"
      },
      "source": [
        "# 같은 아파트 이름을 갖는 수를 저장하는 apt_counts 열 생성\n",
        "train_df['apt_counts'] = 0\n",
        "train_df.groupby('apt')['apt_counts'].count()\n",
        "train_df = pd.merge(train_df, train_df.groupby('apt')['apt_counts'].count(), on='apt', how='left').drop('apt_counts_x', axis=1).rename(columns={'apt_counts_y':'apt_counts'})\n",
        "\n",
        "test_df['apt_counts'] = 0\n",
        "test_df.groupby('apt')['apt_counts'].count()\n",
        "test_df = pd.merge(test_df, test_df.groupby('apt')['apt_counts'].count(), on='apt', how='left').drop('apt_counts_x', axis=1).rename(columns={'apt_counts_y':'apt_counts'})\n",
        "\n",
        "train_df.head(3)"
      ],
      "execution_count": null,
      "outputs": [
        {
          "output_type": "execute_result",
          "data": {
            "text/html": [
              "<div>\n",
              "<style scoped>\n",
              "    .dataframe tbody tr th:only-of-type {\n",
              "        vertical-align: middle;\n",
              "    }\n",
              "\n",
              "    .dataframe tbody tr th {\n",
              "        vertical-align: top;\n",
              "    }\n",
              "\n",
              "    .dataframe thead th {\n",
              "        text-align: right;\n",
              "    }\n",
              "</style>\n",
              "<table border=\"1\" class=\"dataframe\">\n",
              "  <thead>\n",
              "    <tr style=\"text-align: right;\">\n",
              "      <th></th>\n",
              "      <th>transaction_id</th>\n",
              "      <th>apartment_id</th>\n",
              "      <th>city</th>\n",
              "      <th>dong</th>\n",
              "      <th>jibun</th>\n",
              "      <th>apt</th>\n",
              "      <th>addr_kr</th>\n",
              "      <th>exclusive_use_area</th>\n",
              "      <th>year_of_completion</th>\n",
              "      <th>transaction_year_month</th>\n",
              "      <th>transaction_date</th>\n",
              "      <th>floor</th>\n",
              "      <th>transaction_real_price</th>\n",
              "      <th>apt_counts</th>\n",
              "    </tr>\n",
              "  </thead>\n",
              "  <tbody>\n",
              "    <tr>\n",
              "      <th>0</th>\n",
              "      <td>0</td>\n",
              "      <td>7622</td>\n",
              "      <td>서울특별시</td>\n",
              "      <td>신교동</td>\n",
              "      <td>6-13</td>\n",
              "      <td>신현</td>\n",
              "      <td>신교동 6-13 신현(101동)</td>\n",
              "      <td>84.82</td>\n",
              "      <td>2002</td>\n",
              "      <td>200801</td>\n",
              "      <td>21~31</td>\n",
              "      <td>2</td>\n",
              "      <td>37500</td>\n",
              "      <td>13.0</td>\n",
              "    </tr>\n",
              "    <tr>\n",
              "      <th>1</th>\n",
              "      <td>1</td>\n",
              "      <td>5399</td>\n",
              "      <td>서울특별시</td>\n",
              "      <td>필운동</td>\n",
              "      <td>142</td>\n",
              "      <td>사직파크맨션</td>\n",
              "      <td>필운동 142 사직파크맨션</td>\n",
              "      <td>99.17</td>\n",
              "      <td>1973</td>\n",
              "      <td>200801</td>\n",
              "      <td>1~10</td>\n",
              "      <td>6</td>\n",
              "      <td>20000</td>\n",
              "      <td>1.0</td>\n",
              "    </tr>\n",
              "    <tr>\n",
              "      <th>2</th>\n",
              "      <td>2</td>\n",
              "      <td>3578</td>\n",
              "      <td>서울특별시</td>\n",
              "      <td>필운동</td>\n",
              "      <td>174-1</td>\n",
              "      <td>두레엘리시안</td>\n",
              "      <td>필운동 174-1 두레엘리시안</td>\n",
              "      <td>84.74</td>\n",
              "      <td>2007</td>\n",
              "      <td>200801</td>\n",
              "      <td>1~10</td>\n",
              "      <td>6</td>\n",
              "      <td>38500</td>\n",
              "      <td>13.0</td>\n",
              "    </tr>\n",
              "  </tbody>\n",
              "</table>\n",
              "</div>"
            ],
            "text/plain": [
              "   transaction_id  apartment_id  ... transaction_real_price apt_counts\n",
              "0               0          7622  ...                  37500       13.0\n",
              "1               1          5399  ...                  20000        1.0\n",
              "2               2          3578  ...                  38500       13.0\n",
              "\n",
              "[3 rows x 14 columns]"
            ]
          },
          "metadata": {
            "tags": []
          },
          "execution_count": 67
        }
      ]
    },
    {
      "cell_type": "code",
      "metadata": {
        "colab": {
          "base_uri": "https://localhost:8080/"
        },
        "id": "53mYsLa0Yd-H",
        "outputId": "59274331-a36e-4909-856c-89797622d696"
      },
      "source": [
        "train_df.shape"
      ],
      "execution_count": null,
      "outputs": [
        {
          "output_type": "execute_result",
          "data": {
            "text/plain": [
              "(1216553, 14)"
            ]
          },
          "metadata": {
            "tags": []
          },
          "execution_count": 14
        }
      ]
    },
    {
      "cell_type": "code",
      "metadata": {
        "colab": {
          "base_uri": "https://localhost:8080/"
        },
        "id": "6GKqsbPEeKoG",
        "outputId": "1e01ca6d-3e05-4341-a78e-cf56bfe75156"
      },
      "source": [
        "train_df['apt'].value_counts()[:10]"
      ],
      "execution_count": null,
      "outputs": [
        {
          "output_type": "execute_result",
          "data": {
            "text/plain": [
              "현대       17716\n",
              "한신       10135\n",
              "삼성        6771\n",
              "대우        6390\n",
              "신동아       6386\n",
              "두산        5801\n",
              "우성        5781\n",
              "주공2       5669\n",
              "삼성래미안     5483\n",
              "벽산        4651\n",
              "Name: apt, dtype: int64"
            ]
          },
          "metadata": {
            "tags": []
          },
          "execution_count": 15
        }
      ]
    },
    {
      "cell_type": "markdown",
      "metadata": {
        "id": "zpVvyOkDBmx0"
      },
      "source": [
        "- top10 시공사 + 데이터에서 가장 많이 나오는 아파트 20개의 이름을 통일"
      ]
    },
    {
      "cell_type": "code",
      "metadata": {
        "id": "Tv03aoj2pLdG"
      },
      "source": [
        "train_df['top10'] = 0\n",
        "test_df['top10'] = 0\n",
        "top10 = ['자이', '푸르지오', '더샵', '롯데캐슬', '이편한|e편한|e-편한',\n",
        "         '힐스테이트', '아이파크', '래미안', 'sk|SK|에스케이', '데시앙']\n",
        "\n",
        "train_df['apt'] = train_df['apt'].fillna('others')\n",
        "for i, brand in enumerate(top10):\n",
        "    train_df.loc[train_df['apt'].str.contains(brand), 'top10'] = 1\n",
        "    test_df.loc[test_df['apt'].str.contains(brand), 'top10'] = 1\n"
      ],
      "execution_count": null,
      "outputs": []
    },
    {
      "cell_type": "code",
      "metadata": {
        "colab": {
          "base_uri": "https://localhost:8080/",
          "height": 78
        },
        "id": "RNPils0FGIHT",
        "outputId": "5caf5500-9d12-48d2-dfd4-37be1a8d97b6"
      },
      "source": [
        "train_df.head(1)"
      ],
      "execution_count": null,
      "outputs": [
        {
          "output_type": "execute_result",
          "data": {
            "text/html": [
              "<div>\n",
              "<style scoped>\n",
              "    .dataframe tbody tr th:only-of-type {\n",
              "        vertical-align: middle;\n",
              "    }\n",
              "\n",
              "    .dataframe tbody tr th {\n",
              "        vertical-align: top;\n",
              "    }\n",
              "\n",
              "    .dataframe thead th {\n",
              "        text-align: right;\n",
              "    }\n",
              "</style>\n",
              "<table border=\"1\" class=\"dataframe\">\n",
              "  <thead>\n",
              "    <tr style=\"text-align: right;\">\n",
              "      <th></th>\n",
              "      <th>transaction_id</th>\n",
              "      <th>apartment_id</th>\n",
              "      <th>city</th>\n",
              "      <th>dong</th>\n",
              "      <th>jibun</th>\n",
              "      <th>apt</th>\n",
              "      <th>addr_kr</th>\n",
              "      <th>exclusive_use_area</th>\n",
              "      <th>year_of_completion</th>\n",
              "      <th>transaction_year_month</th>\n",
              "      <th>transaction_date</th>\n",
              "      <th>floor</th>\n",
              "      <th>transaction_real_price</th>\n",
              "      <th>apt_counts</th>\n",
              "      <th>top10</th>\n",
              "    </tr>\n",
              "  </thead>\n",
              "  <tbody>\n",
              "    <tr>\n",
              "      <th>0</th>\n",
              "      <td>0</td>\n",
              "      <td>7622</td>\n",
              "      <td>서울특별시</td>\n",
              "      <td>신교동</td>\n",
              "      <td>6-13</td>\n",
              "      <td>신현</td>\n",
              "      <td>신교동 6-13 신현(101동)</td>\n",
              "      <td>84.82</td>\n",
              "      <td>2002</td>\n",
              "      <td>200801</td>\n",
              "      <td>21~31</td>\n",
              "      <td>2</td>\n",
              "      <td>37500</td>\n",
              "      <td>13.0</td>\n",
              "      <td>0</td>\n",
              "    </tr>\n",
              "  </tbody>\n",
              "</table>\n",
              "</div>"
            ],
            "text/plain": [
              "   transaction_id  apartment_id  ... apt_counts top10\n",
              "0               0          7622  ...       13.0     0\n",
              "\n",
              "[1 rows x 15 columns]"
            ]
          },
          "metadata": {
            "tags": []
          },
          "execution_count": 29
        }
      ]
    },
    {
      "cell_type": "code",
      "metadata": {
        "id": "6e_NdtpjTRhZ"
      },
      "source": [
        "apt_names = ['그레이스', '양지', '쌍용', '현대', '한신', '삼성', '대우', '신동아', '두산', '주공',\n",
        "             '우성', '벽산', '동원로얄듀크','경남', '삼환', '쌍용', '삼익', '대림', '코오롱', '파크리오',\n",
        "             '엘지', '성원', '잠실', '동궁리치웰', '동성']\n",
        "apt_names_list = top10 + apt_names\n",
        "\n",
        "train_df['transformed'] = False\n",
        "test_df['transformed'] = False\n",
        "\n",
        "for a in apt_names_list:\n",
        "    train_df.loc[train_df['apt'].str.contains(a), 'apt'] = a\n",
        "    test_df.loc[test_df['apt'].str.contains(a), 'apt'] = a\n",
        "    train_df.loc[train_df['apt'].str.contains(a), 'transformed'] = True\n",
        "    test_df.loc[test_df['apt'].str.contains(a), 'transformed'] = True\n",
        "\n",
        "#아파트 이름이 변경되지 않았을 경우 others로 변경\n",
        "for a in apt_names:\n",
        "    train_df.loc[~train_df['transformed'], 'apt'] = 'others'\n",
        "    test_df.loc[~test_df['transformed'] , 'apt'] = 'others'"
      ],
      "execution_count": null,
      "outputs": []
    },
    {
      "cell_type": "code",
      "metadata": {
        "colab": {
          "base_uri": "https://localhost:8080/"
        },
        "id": "yOrr7w7CFjAh",
        "outputId": "1b1d5e77-a4e7-4a8c-ecd7-51d71a966358"
      },
      "source": [
        "train_df['apt'].value_counts()"
      ],
      "execution_count": null,
      "outputs": [
        {
          "output_type": "execute_result",
          "data": {
            "text/plain": [
              "others          653503\n",
              "현대               81824\n",
              "주공               65937\n",
              "래미안              32743\n",
              "한신               27481\n",
              "벽산               26968\n",
              "우성               24524\n",
              "롯데캐슬             24053\n",
              "삼성               20067\n",
              "sk|SK|에스케이       19709\n",
              "두산               19501\n",
              "삼익               18708\n",
              "푸르지오             18416\n",
              "쌍용               18256\n",
              "대림               18194\n",
              "대우               17786\n",
              "이편한|e편한|e-편한     14337\n",
              "신동아              14049\n",
              "힐스테이트            11985\n",
              "자이               11719\n",
              "엘지               10938\n",
              "경남               10875\n",
              "코오롱               8602\n",
              "아이파크              7989\n",
              "성원                7601\n",
              "더샵                6977\n",
              "삼환                6073\n",
              "동원로얄듀크            6070\n",
              "파크리오              3094\n",
              "잠실                2606\n",
              "동성                2228\n",
              "데시앙               2222\n",
              "양지                1033\n",
              "그레이스               393\n",
              "동궁리치웰               92\n",
              "Name: apt, dtype: int64"
            ]
          },
          "metadata": {
            "tags": []
          },
          "execution_count": 37
        }
      ]
    },
    {
      "cell_type": "code",
      "metadata": {
        "colab": {
          "base_uri": "https://localhost:8080/"
        },
        "id": "G0ZzfLbuKHsE",
        "outputId": "90de9464-dce2-4096-ccc1-55de6d62adba"
      },
      "source": [
        "print(train_df['apt'].nunique(), test_df['apt'].nunique())"
      ],
      "execution_count": null,
      "outputs": [
        {
          "output_type": "stream",
          "text": [
            "35 35\n"
          ],
          "name": "stdout"
        }
      ]
    },
    {
      "cell_type": "code",
      "metadata": {
        "id": "ZqexdFHHunXZ",
        "colab": {
          "base_uri": "https://localhost:8080/",
          "height": 538
        },
        "outputId": "1f6e0b67-ea9a-4ed4-cae6-bfd10bf45c3f"
      },
      "source": [
        "# 아파트별 가격의 평균 내림차순 정렬, 라벨인코딩\n",
        "all_df = pd.concat([train_df, test_df], axis=0).reset_index(drop=True)\n",
        "apt_price = all_df.groupby('apt')['transaction_real_price'].agg('mean').sort_values(ascending=False)\n",
        "print('변환전\\n', apt_price[:5])\n",
        "\n",
        "for i, a in enumerate(list(apt_price.index)):\n",
        "    all_df.loc[all_df['apt'] == a, 'apt'] = i\n",
        "apt_price = all_df.groupby('apt')['transaction_real_price'].agg('mean').sort_values(ascending=False)\n",
        "print('변환후\\n', apt_price[:5])"
      ],
      "execution_count": 104,
      "outputs": [
        {
          "output_type": "stream",
          "text": [
            "변환전\n",
            " apt\n",
            "상지리츠빌카일룸2차     530000.000000\n",
            "트라움하우스3        490000.000000\n",
            "아펠바움           465860.500000\n",
            "상지리츠빌카일룸3차     427125.000000\n",
            "삼성동상지리츠빌카일룸    418992.666667\n",
            "Name: transaction_real_price, dtype: float64\n"
          ],
          "name": "stdout"
        },
        {
          "output_type": "error",
          "ename": "KeyboardInterrupt",
          "evalue": "ignored",
          "traceback": [
            "\u001b[0;31m---------------------------------------------------------------------------\u001b[0m",
            "\u001b[0;31mKeyboardInterrupt\u001b[0m                         Traceback (most recent call last)",
            "\u001b[0;32m<ipython-input-104-7fb473bc5d32>\u001b[0m in \u001b[0;36m<module>\u001b[0;34m()\u001b[0m\n\u001b[1;32m      5\u001b[0m \u001b[0;34m\u001b[0m\u001b[0m\n\u001b[1;32m      6\u001b[0m \u001b[0;32mfor\u001b[0m \u001b[0mi\u001b[0m\u001b[0;34m,\u001b[0m \u001b[0ma\u001b[0m \u001b[0;32min\u001b[0m \u001b[0menumerate\u001b[0m\u001b[0;34m(\u001b[0m\u001b[0mlist\u001b[0m\u001b[0;34m(\u001b[0m\u001b[0mapt_price\u001b[0m\u001b[0;34m.\u001b[0m\u001b[0mindex\u001b[0m\u001b[0;34m)\u001b[0m\u001b[0;34m)\u001b[0m\u001b[0;34m:\u001b[0m\u001b[0;34m\u001b[0m\u001b[0;34m\u001b[0m\u001b[0m\n\u001b[0;32m----> 7\u001b[0;31m     \u001b[0mall_df\u001b[0m\u001b[0;34m.\u001b[0m\u001b[0mloc\u001b[0m\u001b[0;34m[\u001b[0m\u001b[0mall_df\u001b[0m\u001b[0;34m[\u001b[0m\u001b[0;34m'apt'\u001b[0m\u001b[0;34m]\u001b[0m \u001b[0;34m==\u001b[0m \u001b[0ma\u001b[0m\u001b[0;34m,\u001b[0m \u001b[0;34m'apt'\u001b[0m\u001b[0;34m]\u001b[0m \u001b[0;34m=\u001b[0m \u001b[0mi\u001b[0m\u001b[0;34m\u001b[0m\u001b[0;34m\u001b[0m\u001b[0m\n\u001b[0m\u001b[1;32m      8\u001b[0m \u001b[0mapt_price\u001b[0m \u001b[0;34m=\u001b[0m \u001b[0mall_df\u001b[0m\u001b[0;34m.\u001b[0m\u001b[0mgroupby\u001b[0m\u001b[0;34m(\u001b[0m\u001b[0;34m'apt'\u001b[0m\u001b[0;34m)\u001b[0m\u001b[0;34m[\u001b[0m\u001b[0;34m'transaction_real_price'\u001b[0m\u001b[0;34m]\u001b[0m\u001b[0;34m.\u001b[0m\u001b[0magg\u001b[0m\u001b[0;34m(\u001b[0m\u001b[0;34m'mean'\u001b[0m\u001b[0;34m)\u001b[0m\u001b[0;34m.\u001b[0m\u001b[0msort_values\u001b[0m\u001b[0;34m(\u001b[0m\u001b[0mascending\u001b[0m\u001b[0;34m=\u001b[0m\u001b[0;32mFalse\u001b[0m\u001b[0;34m)\u001b[0m\u001b[0;34m\u001b[0m\u001b[0;34m\u001b[0m\u001b[0m\n\u001b[1;32m      9\u001b[0m \u001b[0mprint\u001b[0m\u001b[0;34m(\u001b[0m\u001b[0;34m'변환후\\n'\u001b[0m\u001b[0;34m,\u001b[0m \u001b[0mapt_price\u001b[0m\u001b[0;34m[\u001b[0m\u001b[0;34m:\u001b[0m\u001b[0;36m5\u001b[0m\u001b[0;34m]\u001b[0m\u001b[0;34m)\u001b[0m\u001b[0;34m\u001b[0m\u001b[0;34m\u001b[0m\u001b[0m\n",
            "\u001b[0;32m/usr/local/lib/python3.7/dist-packages/pandas/core/ops/common.py\u001b[0m in \u001b[0;36mnew_method\u001b[0;34m(self, other)\u001b[0m\n\u001b[1;32m     63\u001b[0m         \u001b[0mother\u001b[0m \u001b[0;34m=\u001b[0m \u001b[0mitem_from_zerodim\u001b[0m\u001b[0;34m(\u001b[0m\u001b[0mother\u001b[0m\u001b[0;34m)\u001b[0m\u001b[0;34m\u001b[0m\u001b[0;34m\u001b[0m\u001b[0m\n\u001b[1;32m     64\u001b[0m \u001b[0;34m\u001b[0m\u001b[0m\n\u001b[0;32m---> 65\u001b[0;31m         \u001b[0;32mreturn\u001b[0m \u001b[0mmethod\u001b[0m\u001b[0;34m(\u001b[0m\u001b[0mself\u001b[0m\u001b[0;34m,\u001b[0m \u001b[0mother\u001b[0m\u001b[0;34m)\u001b[0m\u001b[0;34m\u001b[0m\u001b[0;34m\u001b[0m\u001b[0m\n\u001b[0m\u001b[1;32m     66\u001b[0m \u001b[0;34m\u001b[0m\u001b[0m\n\u001b[1;32m     67\u001b[0m     \u001b[0;32mreturn\u001b[0m \u001b[0mnew_method\u001b[0m\u001b[0;34m\u001b[0m\u001b[0;34m\u001b[0m\u001b[0m\n",
            "\u001b[0;32m/usr/local/lib/python3.7/dist-packages/pandas/core/ops/__init__.py\u001b[0m in \u001b[0;36mwrapper\u001b[0;34m(self, other)\u001b[0m\n\u001b[1;32m    368\u001b[0m         \u001b[0mrvalues\u001b[0m \u001b[0;34m=\u001b[0m \u001b[0mextract_array\u001b[0m\u001b[0;34m(\u001b[0m\u001b[0mother\u001b[0m\u001b[0;34m,\u001b[0m \u001b[0mextract_numpy\u001b[0m\u001b[0;34m=\u001b[0m\u001b[0;32mTrue\u001b[0m\u001b[0;34m)\u001b[0m\u001b[0;34m\u001b[0m\u001b[0;34m\u001b[0m\u001b[0m\n\u001b[1;32m    369\u001b[0m \u001b[0;34m\u001b[0m\u001b[0m\n\u001b[0;32m--> 370\u001b[0;31m         \u001b[0mres_values\u001b[0m \u001b[0;34m=\u001b[0m \u001b[0mcomparison_op\u001b[0m\u001b[0;34m(\u001b[0m\u001b[0mlvalues\u001b[0m\u001b[0;34m,\u001b[0m \u001b[0mrvalues\u001b[0m\u001b[0;34m,\u001b[0m \u001b[0mop\u001b[0m\u001b[0;34m)\u001b[0m\u001b[0;34m\u001b[0m\u001b[0;34m\u001b[0m\u001b[0m\n\u001b[0m\u001b[1;32m    371\u001b[0m \u001b[0;34m\u001b[0m\u001b[0m\n\u001b[1;32m    372\u001b[0m         \u001b[0;32mreturn\u001b[0m \u001b[0mself\u001b[0m\u001b[0;34m.\u001b[0m\u001b[0m_construct_result\u001b[0m\u001b[0;34m(\u001b[0m\u001b[0mres_values\u001b[0m\u001b[0;34m,\u001b[0m \u001b[0mname\u001b[0m\u001b[0;34m=\u001b[0m\u001b[0mres_name\u001b[0m\u001b[0;34m)\u001b[0m\u001b[0;34m\u001b[0m\u001b[0;34m\u001b[0m\u001b[0m\n",
            "\u001b[0;32m/usr/local/lib/python3.7/dist-packages/pandas/core/ops/array_ops.py\u001b[0m in \u001b[0;36mcomparison_op\u001b[0;34m(left, right, op)\u001b[0m\n\u001b[1;32m    242\u001b[0m \u001b[0;34m\u001b[0m\u001b[0m\n\u001b[1;32m    243\u001b[0m     \u001b[0;32melif\u001b[0m \u001b[0mis_object_dtype\u001b[0m\u001b[0;34m(\u001b[0m\u001b[0mlvalues\u001b[0m\u001b[0;34m.\u001b[0m\u001b[0mdtype\u001b[0m\u001b[0;34m)\u001b[0m\u001b[0;34m:\u001b[0m\u001b[0;34m\u001b[0m\u001b[0;34m\u001b[0m\u001b[0m\n\u001b[0;32m--> 244\u001b[0;31m         \u001b[0mres_values\u001b[0m \u001b[0;34m=\u001b[0m \u001b[0mcomp_method_OBJECT_ARRAY\u001b[0m\u001b[0;34m(\u001b[0m\u001b[0mop\u001b[0m\u001b[0;34m,\u001b[0m \u001b[0mlvalues\u001b[0m\u001b[0;34m,\u001b[0m \u001b[0mrvalues\u001b[0m\u001b[0;34m)\u001b[0m\u001b[0;34m\u001b[0m\u001b[0;34m\u001b[0m\u001b[0m\n\u001b[0m\u001b[1;32m    245\u001b[0m \u001b[0;34m\u001b[0m\u001b[0m\n\u001b[1;32m    246\u001b[0m     \u001b[0;32melse\u001b[0m\u001b[0;34m:\u001b[0m\u001b[0;34m\u001b[0m\u001b[0;34m\u001b[0m\u001b[0m\n",
            "\u001b[0;32m/usr/local/lib/python3.7/dist-packages/pandas/core/ops/array_ops.py\u001b[0m in \u001b[0;36mcomp_method_OBJECT_ARRAY\u001b[0;34m(op, x, y)\u001b[0m\n\u001b[1;32m     54\u001b[0m         \u001b[0mresult\u001b[0m \u001b[0;34m=\u001b[0m \u001b[0mlibops\u001b[0m\u001b[0;34m.\u001b[0m\u001b[0mvec_compare\u001b[0m\u001b[0;34m(\u001b[0m\u001b[0mx\u001b[0m\u001b[0;34m.\u001b[0m\u001b[0mravel\u001b[0m\u001b[0;34m(\u001b[0m\u001b[0;34m)\u001b[0m\u001b[0;34m,\u001b[0m \u001b[0my\u001b[0m\u001b[0;34m.\u001b[0m\u001b[0mravel\u001b[0m\u001b[0;34m(\u001b[0m\u001b[0;34m)\u001b[0m\u001b[0;34m,\u001b[0m \u001b[0mop\u001b[0m\u001b[0;34m)\u001b[0m\u001b[0;34m\u001b[0m\u001b[0;34m\u001b[0m\u001b[0m\n\u001b[1;32m     55\u001b[0m     \u001b[0;32melse\u001b[0m\u001b[0;34m:\u001b[0m\u001b[0;34m\u001b[0m\u001b[0;34m\u001b[0m\u001b[0m\n\u001b[0;32m---> 56\u001b[0;31m         \u001b[0mresult\u001b[0m \u001b[0;34m=\u001b[0m \u001b[0mlibops\u001b[0m\u001b[0;34m.\u001b[0m\u001b[0mscalar_compare\u001b[0m\u001b[0;34m(\u001b[0m\u001b[0mx\u001b[0m\u001b[0;34m.\u001b[0m\u001b[0mravel\u001b[0m\u001b[0;34m(\u001b[0m\u001b[0;34m)\u001b[0m\u001b[0;34m,\u001b[0m \u001b[0my\u001b[0m\u001b[0;34m,\u001b[0m \u001b[0mop\u001b[0m\u001b[0;34m)\u001b[0m\u001b[0;34m\u001b[0m\u001b[0;34m\u001b[0m\u001b[0m\n\u001b[0m\u001b[1;32m     57\u001b[0m     \u001b[0;32mreturn\u001b[0m \u001b[0mresult\u001b[0m\u001b[0;34m.\u001b[0m\u001b[0mreshape\u001b[0m\u001b[0;34m(\u001b[0m\u001b[0mx\u001b[0m\u001b[0;34m.\u001b[0m\u001b[0mshape\u001b[0m\u001b[0;34m)\u001b[0m\u001b[0;34m\u001b[0m\u001b[0;34m\u001b[0m\u001b[0m\n\u001b[1;32m     58\u001b[0m \u001b[0;34m\u001b[0m\u001b[0m\n",
            "\u001b[0;31mKeyboardInterrupt\u001b[0m: "
          ]
        }
      ]
    },
    {
      "cell_type": "markdown",
      "metadata": {
        "id": "wawdc1-NzQD3"
      },
      "source": [
        "### date"
      ]
    },
    {
      "cell_type": "code",
      "metadata": {
        "id": "OFOkDMGoCd35",
        "colab": {
          "base_uri": "https://localhost:8080/"
        },
        "outputId": "496a9a09-1774-4670-a8d0-deb85e4728d3"
      },
      "source": [
        "# 완공연도에서 최소연도를 뺌으로써 완공연도 라벨인코딩\n",
        "print('변환전\\n', all_df['year_of_completion'].unique()[:5])\n",
        "all_df['year_of_completion'] = all_df['year_of_completion'] - all_df['year_of_completion'].min()\n",
        "print('변환후\\n', all_df['year_of_completion'].unique()[:5])\n",
        "# 연월 증가하는 순으로 라벨 인코딩\n",
        "print('변환전\\n', all_df['transaction_year_month'].unique()[:5])\n",
        "le = LabelEncoder()\n",
        "all_df['transaction_year_month'] = le.fit_transform(all_df['transaction_year_month'])\n",
        "print('변환후\\n', all_df['transaction_year_month'].unique()[:5])\n",
        "# 필요없는 열 제거\n",
        "all_df = all_df.drop(['jibun', 'transaction_date', 'addr_kr'], axis=1)"
      ],
      "execution_count": null,
      "outputs": [
        {
          "output_type": "stream",
          "text": [
            "변환전\n",
            " [2002 1973 2007 2003 2004]\n",
            "변환후\n",
            " [41 12 46 42 43]\n",
            "변환전\n",
            " [200801 200802 200803 200804 200805]\n",
            "변환후\n",
            " [0 1 2 3 4]\n"
          ],
          "name": "stdout"
        }
      ]
    },
    {
      "cell_type": "code",
      "metadata": {
        "colab": {
          "base_uri": "https://localhost:8080/",
          "height": 289
        },
        "id": "I36E-yHw6cVd",
        "outputId": "884eb0d1-9774-424a-af6e-723110db99d5"
      },
      "source": [
        "all_df.head(5)"
      ],
      "execution_count": 105,
      "outputs": [
        {
          "output_type": "execute_result",
          "data": {
            "text/html": [
              "<div>\n",
              "<style scoped>\n",
              "    .dataframe tbody tr th:only-of-type {\n",
              "        vertical-align: middle;\n",
              "    }\n",
              "\n",
              "    .dataframe tbody tr th {\n",
              "        vertical-align: top;\n",
              "    }\n",
              "\n",
              "    .dataframe thead th {\n",
              "        text-align: right;\n",
              "    }\n",
              "</style>\n",
              "<table border=\"1\" class=\"dataframe\">\n",
              "  <thead>\n",
              "    <tr style=\"text-align: right;\">\n",
              "      <th></th>\n",
              "      <th>transaction_id</th>\n",
              "      <th>apartment_id</th>\n",
              "      <th>city</th>\n",
              "      <th>dong</th>\n",
              "      <th>jibun</th>\n",
              "      <th>apt</th>\n",
              "      <th>addr_kr</th>\n",
              "      <th>exclusive_use_area</th>\n",
              "      <th>year_of_completion</th>\n",
              "      <th>transaction_year_month</th>\n",
              "      <th>transaction_date</th>\n",
              "      <th>floor</th>\n",
              "      <th>transaction_real_price</th>\n",
              "    </tr>\n",
              "  </thead>\n",
              "  <tbody>\n",
              "    <tr>\n",
              "      <th>0</th>\n",
              "      <td>0</td>\n",
              "      <td>7622</td>\n",
              "      <td>서울특별시</td>\n",
              "      <td>신교동</td>\n",
              "      <td>6-13</td>\n",
              "      <td>신현</td>\n",
              "      <td>신교동 6-13 신현(101동)</td>\n",
              "      <td>84.82</td>\n",
              "      <td>2002</td>\n",
              "      <td>200801</td>\n",
              "      <td>21~31</td>\n",
              "      <td>2</td>\n",
              "      <td>37500.0</td>\n",
              "    </tr>\n",
              "    <tr>\n",
              "      <th>1</th>\n",
              "      <td>1</td>\n",
              "      <td>5399</td>\n",
              "      <td>서울특별시</td>\n",
              "      <td>필운동</td>\n",
              "      <td>142</td>\n",
              "      <td>사직파크맨션</td>\n",
              "      <td>필운동 142 사직파크맨션</td>\n",
              "      <td>99.17</td>\n",
              "      <td>1973</td>\n",
              "      <td>200801</td>\n",
              "      <td>1~10</td>\n",
              "      <td>6</td>\n",
              "      <td>20000.0</td>\n",
              "    </tr>\n",
              "    <tr>\n",
              "      <th>2</th>\n",
              "      <td>2</td>\n",
              "      <td>3578</td>\n",
              "      <td>서울특별시</td>\n",
              "      <td>필운동</td>\n",
              "      <td>174-1</td>\n",
              "      <td>두레엘리시안</td>\n",
              "      <td>필운동 174-1 두레엘리시안</td>\n",
              "      <td>84.74</td>\n",
              "      <td>2007</td>\n",
              "      <td>200801</td>\n",
              "      <td>1~10</td>\n",
              "      <td>6</td>\n",
              "      <td>38500.0</td>\n",
              "    </tr>\n",
              "    <tr>\n",
              "      <th>3</th>\n",
              "      <td>3</td>\n",
              "      <td>10957</td>\n",
              "      <td>서울특별시</td>\n",
              "      <td>내수동</td>\n",
              "      <td>95</td>\n",
              "      <td>401</td>\n",
              "      <td>내수동 95 파크팰리스</td>\n",
              "      <td>146.39</td>\n",
              "      <td>2003</td>\n",
              "      <td>200801</td>\n",
              "      <td>11~20</td>\n",
              "      <td>15</td>\n",
              "      <td>118000.0</td>\n",
              "    </tr>\n",
              "    <tr>\n",
              "      <th>4</th>\n",
              "      <td>4</td>\n",
              "      <td>10639</td>\n",
              "      <td>서울특별시</td>\n",
              "      <td>내수동</td>\n",
              "      <td>110-15</td>\n",
              "      <td>345</td>\n",
              "      <td>내수동 110-15 킹스매너</td>\n",
              "      <td>194.43</td>\n",
              "      <td>2004</td>\n",
              "      <td>200801</td>\n",
              "      <td>21~31</td>\n",
              "      <td>3</td>\n",
              "      <td>120000.0</td>\n",
              "    </tr>\n",
              "  </tbody>\n",
              "</table>\n",
              "</div>"
            ],
            "text/plain": [
              "   transaction_id  apartment_id  ... floor transaction_real_price\n",
              "0               0          7622  ...     2                37500.0\n",
              "1               1          5399  ...     6                20000.0\n",
              "2               2          3578  ...     6                38500.0\n",
              "3               3         10957  ...    15               118000.0\n",
              "4               4         10639  ...     3               120000.0\n",
              "\n",
              "[5 rows x 13 columns]"
            ]
          },
          "metadata": {
            "tags": []
          },
          "execution_count": 105
        }
      ]
    },
    {
      "cell_type": "markdown",
      "metadata": {
        "id": "A2MobnpAFtge"
      },
      "source": [
        "### dong"
      ]
    },
    {
      "cell_type": "code",
      "metadata": {
        "colab": {
          "base_uri": "https://localhost:8080/"
        },
        "id": "vQCgXMAfxAiq",
        "outputId": "007f59c5-b780-4061-abbd-100513827d8f"
      },
      "source": [
        "seoul_set = set(all_df.loc[all_df['city']=='서울특별시', 'dong'])\n",
        "busan_set = set(all_df.loc[all_df['city']=='부산광역시', 'dong'])\n",
        "same_dong = seoul_set & busan_set \n",
        "print(same_dong)"
      ],
      "execution_count": 106,
      "outputs": [
        {
          "output_type": "stream",
          "text": [
            "{'송정동', '사직동', '중동', '부암동'}\n"
          ],
          "name": "stdout"
        }
      ]
    },
    {
      "cell_type": "markdown",
      "metadata": {
        "id": "blkoRsDFLwGu"
      },
      "source": [
        "- 서울과 부산에 중동, 부암동, 송정동, 사직동이 겹침을 알 수 있음"
      ]
    },
    {
      "cell_type": "code",
      "metadata": {
        "colab": {
          "base_uri": "https://localhost:8080/"
        },
        "id": "K0CXRKKrFzTY",
        "outputId": "de28ff2e-871c-46dd-ba81-514f005b597c"
      },
      "source": [
        "for d in same_dong:\n",
        "    all_df.loc[(all_df['city']=='서울특별시') & (all_df['dong']==d), 'dong'] = '서울' + d\n",
        "    all_df.loc[(all_df['city']=='부산광역시') & (all_df['dong']==d), 'dong'] = '부산' + d\n",
        "\n",
        "seoul_set = set(all_df.loc[all_df['city']=='서울특별시', 'dong'])\n",
        "busan_set = set(all_df.loc[all_df['city']=='부산광역시', 'dong'])\n",
        "same_dong = seoul_set & busan_set\n",
        "print(same_dong)  "
      ],
      "execution_count": 107,
      "outputs": [
        {
          "output_type": "stream",
          "text": [
            "set()\n"
          ],
          "name": "stdout"
        }
      ]
    },
    {
      "cell_type": "markdown",
      "metadata": {
        "id": "WnFIELvHLs39"
      },
      "source": [
        "- 더 이상 겹치는 동이 없음"
      ]
    },
    {
      "cell_type": "code",
      "metadata": {
        "colab": {
          "base_uri": "https://localhost:8080/"
        },
        "id": "QXlhPfyKINGd",
        "outputId": "569b0615-54b9-4fa9-b902-1df3c1868092"
      },
      "source": [
        "train_df.loc[train_df['dong'].str.contains('장충동')].groupby('dong')['transaction_real_price'].\\\n",
        "agg('mean')"
      ],
      "execution_count": null,
      "outputs": [
        {
          "output_type": "execute_result",
          "data": {
            "text/plain": [
              "dong\n",
              "장충동1가    269888.888889\n",
              "장충동2가      6628.421053\n",
              "Name: transaction_real_price, dtype: float64"
            ]
          },
          "metadata": {
            "tags": []
          },
          "execution_count": 16
        }
      ]
    },
    {
      "cell_type": "markdown",
      "metadata": {
        "id": "hLD96KxjIzZk"
      },
      "source": [
        "- 같은 동이어도 숫자가 다르면 가격차이가 많이 남\n",
        "- 따라서 따로 숫자처리를 진행하지 않고 다른 동처럼 취급"
      ]
    },
    {
      "cell_type": "code",
      "metadata": {
        "colab": {
          "base_uri": "https://localhost:8080/"
        },
        "id": "4wo7TbfvG9vV",
        "outputId": "82933b69-13de-4b06-c91d-c5d0b41a5db6"
      },
      "source": [
        "dong_price = all_df.groupby('dong')['transaction_real_price'].agg('mean').sort_values(ascending=False)\n",
        "dong_price[:41]"
      ],
      "execution_count": 108,
      "outputs": [
        {
          "output_type": "execute_result",
          "data": {
            "text/plain": [
              "dong\n",
              "장충동1가     269888.888889\n",
              "압구정동      164534.722914\n",
              "청암동       161403.700000\n",
              "용산동5가     153497.331633\n",
              "회현동2가     139906.140351\n",
              "반포동       132489.395651\n",
              "한남동       122593.293264\n",
              "서빙고동      116547.239777\n",
              "대치동       116320.538909\n",
              "남대문로5가    113153.604651\n",
              "도곡동       110655.655354\n",
              "청담동       110289.411168\n",
              "교남동       108600.000000\n",
              "내수동       107899.014778\n",
              "주성동       106000.000000\n",
              "하중동       105900.477833\n",
              "삼성동       101379.971621\n",
              "잠실동       101166.337275\n",
              "동자동        99472.876033\n",
              "동빙고동       99057.552239\n",
              "회현동1가      98753.660066\n",
              "한강로3가      96027.903297\n",
              "여의도동       93456.214326\n",
              "서울사직동      93144.310145\n",
              "이촌동        89409.952902\n",
              "서교동        88442.874302\n",
              "견지동        87004.741935\n",
              "잠원동        86980.647308\n",
              "방배동        85883.661956\n",
              "신천동        85334.022796\n",
              "신계동        84490.522184\n",
              "자곡동        83905.484615\n",
              "서초동        83858.755537\n",
              "한강로1가      82761.069620\n",
              "원효로1가      81194.484429\n",
              "방이동        80720.686653\n",
              "내곡동        79034.412121\n",
              "상수동        77964.221557\n",
              "일원동        77417.897626\n",
              "상왕십리동      77258.186364\n",
              "신원동        77225.606936\n",
              "Name: transaction_real_price, dtype: float64"
            ]
          },
          "metadata": {
            "tags": []
          },
          "execution_count": 108
        }
      ]
    },
    {
      "cell_type": "markdown",
      "metadata": {
        "id": "7MsbFQ_oL2EE"
      },
      "source": [
        "- 동별로 그룹화 후 가격의 평균 계산\n",
        "- 가격의 평균의 내림차 순으로 정렬"
      ]
    },
    {
      "cell_type": "code",
      "metadata": {
        "colab": {
          "base_uri": "https://localhost:8080/",
          "height": 199
        },
        "id": "jJ12S7V-KA9u",
        "outputId": "7e83a258-541c-4fc4-e97a-799e6d45d790"
      },
      "source": [
        "# 가격기준으로 동을 정렬한 리스트를 바탕으로 dong에 대해 라벨 인코딩 진행\n",
        "for i, d in enumerate(list(dong_price.index)):\n",
        "    all_df.loc[all_df['dong'] == d, 'dong'] = i\n",
        "all_df.head()"
      ],
      "execution_count": null,
      "outputs": [
        {
          "output_type": "execute_result",
          "data": {
            "text/html": [
              "<div>\n",
              "<style scoped>\n",
              "    .dataframe tbody tr th:only-of-type {\n",
              "        vertical-align: middle;\n",
              "    }\n",
              "\n",
              "    .dataframe tbody tr th {\n",
              "        vertical-align: top;\n",
              "    }\n",
              "\n",
              "    .dataframe thead th {\n",
              "        text-align: right;\n",
              "    }\n",
              "</style>\n",
              "<table border=\"1\" class=\"dataframe\">\n",
              "  <thead>\n",
              "    <tr style=\"text-align: right;\">\n",
              "      <th></th>\n",
              "      <th>transaction_id</th>\n",
              "      <th>apartment_id</th>\n",
              "      <th>city</th>\n",
              "      <th>dong</th>\n",
              "      <th>apt</th>\n",
              "      <th>exclusive_use_area</th>\n",
              "      <th>year_of_completion</th>\n",
              "      <th>transaction_year_month</th>\n",
              "      <th>floor</th>\n",
              "      <th>transaction_real_price</th>\n",
              "      <th>apt_counts</th>\n",
              "      <th>top10</th>\n",
              "      <th>transformed</th>\n",
              "    </tr>\n",
              "  </thead>\n",
              "  <tbody>\n",
              "    <tr>\n",
              "      <th>0</th>\n",
              "      <td>0</td>\n",
              "      <td>7622</td>\n",
              "      <td>서울특별시</td>\n",
              "      <td>138</td>\n",
              "      <td>23</td>\n",
              "      <td>84.82</td>\n",
              "      <td>41</td>\n",
              "      <td>0</td>\n",
              "      <td>2</td>\n",
              "      <td>37500.0</td>\n",
              "      <td>13.0</td>\n",
              "      <td>0</td>\n",
              "      <td>False</td>\n",
              "    </tr>\n",
              "    <tr>\n",
              "      <th>1</th>\n",
              "      <td>1</td>\n",
              "      <td>5399</td>\n",
              "      <td>서울특별시</td>\n",
              "      <td>65</td>\n",
              "      <td>23</td>\n",
              "      <td>99.17</td>\n",
              "      <td>12</td>\n",
              "      <td>0</td>\n",
              "      <td>6</td>\n",
              "      <td>20000.0</td>\n",
              "      <td>1.0</td>\n",
              "      <td>0</td>\n",
              "      <td>False</td>\n",
              "    </tr>\n",
              "    <tr>\n",
              "      <th>2</th>\n",
              "      <td>2</td>\n",
              "      <td>3578</td>\n",
              "      <td>서울특별시</td>\n",
              "      <td>65</td>\n",
              "      <td>23</td>\n",
              "      <td>84.74</td>\n",
              "      <td>46</td>\n",
              "      <td>0</td>\n",
              "      <td>6</td>\n",
              "      <td>38500.0</td>\n",
              "      <td>13.0</td>\n",
              "      <td>0</td>\n",
              "      <td>False</td>\n",
              "    </tr>\n",
              "    <tr>\n",
              "      <th>3</th>\n",
              "      <td>3</td>\n",
              "      <td>10957</td>\n",
              "      <td>서울특별시</td>\n",
              "      <td>13</td>\n",
              "      <td>23</td>\n",
              "      <td>146.39</td>\n",
              "      <td>42</td>\n",
              "      <td>0</td>\n",
              "      <td>15</td>\n",
              "      <td>118000.0</td>\n",
              "      <td>55.0</td>\n",
              "      <td>0</td>\n",
              "      <td>False</td>\n",
              "    </tr>\n",
              "    <tr>\n",
              "      <th>4</th>\n",
              "      <td>4</td>\n",
              "      <td>10639</td>\n",
              "      <td>서울특별시</td>\n",
              "      <td>13</td>\n",
              "      <td>23</td>\n",
              "      <td>194.43</td>\n",
              "      <td>43</td>\n",
              "      <td>0</td>\n",
              "      <td>3</td>\n",
              "      <td>120000.0</td>\n",
              "      <td>15.0</td>\n",
              "      <td>0</td>\n",
              "      <td>False</td>\n",
              "    </tr>\n",
              "  </tbody>\n",
              "</table>\n",
              "</div>"
            ],
            "text/plain": [
              "   transaction_id  apartment_id   city  ... apt_counts top10  transformed\n",
              "0               0          7622  서울특별시  ...       13.0     0        False\n",
              "1               1          5399  서울특별시  ...        1.0     0        False\n",
              "2               2          3578  서울특별시  ...       13.0     0        False\n",
              "3               3         10957  서울특별시  ...       55.0     0        False\n",
              "4               4         10639  서울특별시  ...       15.0     0        False\n",
              "\n",
              "[5 rows x 13 columns]"
            ]
          },
          "metadata": {
            "tags": []
          },
          "execution_count": 75
        }
      ]
    },
    {
      "cell_type": "code",
      "metadata": {
        "colab": {
          "base_uri": "https://localhost:8080/",
          "height": 289
        },
        "id": "E52JpjJGEXsQ",
        "outputId": "d09ccb38-9ef0-4e58-e9f1-1b48c39f5ce6"
      },
      "source": [
        "all_df.describe()"
      ],
      "execution_count": null,
      "outputs": [
        {
          "output_type": "execute_result",
          "data": {
            "text/html": [
              "<div>\n",
              "<style scoped>\n",
              "    .dataframe tbody tr th:only-of-type {\n",
              "        vertical-align: middle;\n",
              "    }\n",
              "\n",
              "    .dataframe tbody tr th {\n",
              "        vertical-align: top;\n",
              "    }\n",
              "\n",
              "    .dataframe thead th {\n",
              "        text-align: right;\n",
              "    }\n",
              "</style>\n",
              "<table border=\"1\" class=\"dataframe\">\n",
              "  <thead>\n",
              "    <tr style=\"text-align: right;\">\n",
              "      <th></th>\n",
              "      <th>transaction_id</th>\n",
              "      <th>apartment_id</th>\n",
              "      <th>exclusive_use_area</th>\n",
              "      <th>year_of_completion</th>\n",
              "      <th>transaction_year_month</th>\n",
              "      <th>floor</th>\n",
              "      <th>transaction_real_price</th>\n",
              "      <th>apt_counts</th>\n",
              "      <th>top10</th>\n",
              "    </tr>\n",
              "  </thead>\n",
              "  <tbody>\n",
              "    <tr>\n",
              "      <th>count</th>\n",
              "      <td>1.222016e+06</td>\n",
              "      <td>1.222016e+06</td>\n",
              "      <td>1.222016e+06</td>\n",
              "      <td>1.222016e+06</td>\n",
              "      <td>1.222016e+06</td>\n",
              "      <td>1.222016e+06</td>\n",
              "      <td>1.216553e+06</td>\n",
              "      <td>1.220555e+06</td>\n",
              "      <td>1.222016e+06</td>\n",
              "    </tr>\n",
              "    <tr>\n",
              "      <th>mean</th>\n",
              "      <td>6.116474e+05</td>\n",
              "      <td>6.299630e+03</td>\n",
              "      <td>7.817144e+01</td>\n",
              "      <td>3.730611e+01</td>\n",
              "      <td>6.461461e+01</td>\n",
              "      <td>9.338479e+00</td>\n",
              "      <td>3.822769e+04</td>\n",
              "      <td>1.351963e+03</td>\n",
              "      <td>1.234329e-01</td>\n",
              "    </tr>\n",
              "    <tr>\n",
              "      <th>std</th>\n",
              "      <td>3.538049e+05</td>\n",
              "      <td>3.581363e+03</td>\n",
              "      <td>2.916926e+01</td>\n",
              "      <td>8.947398e+00</td>\n",
              "      <td>3.519266e+01</td>\n",
              "      <td>6.604638e+00</td>\n",
              "      <td>3.104898e+04</td>\n",
              "      <td>2.518944e+03</td>\n",
              "      <td>3.289336e-01</td>\n",
              "    </tr>\n",
              "    <tr>\n",
              "      <th>min</th>\n",
              "      <td>0.000000e+00</td>\n",
              "      <td>0.000000e+00</td>\n",
              "      <td>9.260000e+00</td>\n",
              "      <td>0.000000e+00</td>\n",
              "      <td>0.000000e+00</td>\n",
              "      <td>-4.000000e+00</td>\n",
              "      <td>1.000000e+02</td>\n",
              "      <td>1.000000e+00</td>\n",
              "      <td>0.000000e+00</td>\n",
              "    </tr>\n",
              "    <tr>\n",
              "      <th>25%</th>\n",
              "      <td>3.055038e+05</td>\n",
              "      <td>3.345000e+03</td>\n",
              "      <td>5.976000e+01</td>\n",
              "      <td>3.200000e+01</td>\n",
              "      <td>3.300000e+01</td>\n",
              "      <td>4.000000e+00</td>\n",
              "      <td>1.900000e+04</td>\n",
              "      <td>2.090000e+02</td>\n",
              "      <td>0.000000e+00</td>\n",
              "    </tr>\n",
              "    <tr>\n",
              "      <th>50%</th>\n",
              "      <td>6.110075e+05</td>\n",
              "      <td>5.964000e+03</td>\n",
              "      <td>8.240000e+01</td>\n",
              "      <td>3.800000e+01</td>\n",
              "      <td>7.200000e+01</td>\n",
              "      <td>8.000000e+00</td>\n",
              "      <td>3.090000e+04</td>\n",
              "      <td>5.910000e+02</td>\n",
              "      <td>0.000000e+00</td>\n",
              "    </tr>\n",
              "    <tr>\n",
              "      <th>75%</th>\n",
              "      <td>9.165112e+05</td>\n",
              "      <td>9.436000e+03</td>\n",
              "      <td>8.497000e+01</td>\n",
              "      <td>4.400000e+01</td>\n",
              "      <td>9.400000e+01</td>\n",
              "      <td>1.300000e+01</td>\n",
              "      <td>4.700000e+04</td>\n",
              "      <td>1.342000e+03</td>\n",
              "      <td>0.000000e+00</td>\n",
              "    </tr>\n",
              "    <tr>\n",
              "      <th>max</th>\n",
              "      <td>1.234930e+06</td>\n",
              "      <td>1.265800e+04</td>\n",
              "      <td>4.243200e+02</td>\n",
              "      <td>5.600000e+01</td>\n",
              "      <td>1.190000e+02</td>\n",
              "      <td>8.000000e+01</td>\n",
              "      <td>8.200000e+05</td>\n",
              "      <td>1.771600e+04</td>\n",
              "      <td>1.000000e+00</td>\n",
              "    </tr>\n",
              "  </tbody>\n",
              "</table>\n",
              "</div>"
            ],
            "text/plain": [
              "       transaction_id  apartment_id  ...    apt_counts         top10\n",
              "count    1.222016e+06  1.222016e+06  ...  1.220555e+06  1.222016e+06\n",
              "mean     6.116474e+05  6.299630e+03  ...  1.351963e+03  1.234329e-01\n",
              "std      3.538049e+05  3.581363e+03  ...  2.518944e+03  3.289336e-01\n",
              "min      0.000000e+00  0.000000e+00  ...  1.000000e+00  0.000000e+00\n",
              "25%      3.055038e+05  3.345000e+03  ...  2.090000e+02  0.000000e+00\n",
              "50%      6.110075e+05  5.964000e+03  ...  5.910000e+02  0.000000e+00\n",
              "75%      9.165112e+05  9.436000e+03  ...  1.342000e+03  0.000000e+00\n",
              "max      1.234930e+06  1.265800e+04  ...  1.771600e+04  1.000000e+00\n",
              "\n",
              "[8 rows x 9 columns]"
            ]
          },
          "metadata": {
            "tags": []
          },
          "execution_count": 61
        }
      ]
    },
    {
      "cell_type": "markdown",
      "metadata": {
        "id": "Clo1cRwm9Q96"
      },
      "source": [
        "### Floor"
      ]
    },
    {
      "cell_type": "code",
      "metadata": {
        "colab": {
          "base_uri": "https://localhost:8080/"
        },
        "id": "nK9SRgPE9SXB",
        "outputId": "b5dd85c9-727d-45b3-bbe2-517823be3018"
      },
      "source": [
        "# 최소값이 -4이므로 4를 더해서 음수를 없애고 순서형범주처리\n",
        "print('변환전\\n', all_df['floor'].values[:5])\n",
        "all_df['floor'] = all_df['floor'].map(lambda x: x+4)\n",
        "print('변환후\\n', all_df['floor'].values[:5])"
      ],
      "execution_count": null,
      "outputs": [
        {
          "output_type": "stream",
          "text": [
            "변환전\n",
            " [ 2  6  6 15  3]\n",
            "변환후\n",
            " [ 6 10 10 19  7]\n"
          ],
          "name": "stdout"
        }
      ]
    },
    {
      "cell_type": "code",
      "metadata": {
        "colab": {
          "base_uri": "https://localhost:8080/",
          "height": 289
        },
        "id": "DujpUbAUCdB6",
        "outputId": "724cc9e6-21e5-48bb-ab95-72c3f0360588"
      },
      "source": [
        "all_df.describe()"
      ],
      "execution_count": null,
      "outputs": [
        {
          "output_type": "execute_result",
          "data": {
            "text/html": [
              "<div>\n",
              "<style scoped>\n",
              "    .dataframe tbody tr th:only-of-type {\n",
              "        vertical-align: middle;\n",
              "    }\n",
              "\n",
              "    .dataframe tbody tr th {\n",
              "        vertical-align: top;\n",
              "    }\n",
              "\n",
              "    .dataframe thead th {\n",
              "        text-align: right;\n",
              "    }\n",
              "</style>\n",
              "<table border=\"1\" class=\"dataframe\">\n",
              "  <thead>\n",
              "    <tr style=\"text-align: right;\">\n",
              "      <th></th>\n",
              "      <th>transaction_id</th>\n",
              "      <th>apartment_id</th>\n",
              "      <th>exclusive_use_area</th>\n",
              "      <th>year_of_completion</th>\n",
              "      <th>transaction_year_month</th>\n",
              "      <th>floor</th>\n",
              "      <th>transaction_real_price</th>\n",
              "      <th>apt_counts</th>\n",
              "      <th>top10</th>\n",
              "    </tr>\n",
              "  </thead>\n",
              "  <tbody>\n",
              "    <tr>\n",
              "      <th>count</th>\n",
              "      <td>1.222016e+06</td>\n",
              "      <td>1.222016e+06</td>\n",
              "      <td>1.222016e+06</td>\n",
              "      <td>1.222016e+06</td>\n",
              "      <td>1.222016e+06</td>\n",
              "      <td>1.222016e+06</td>\n",
              "      <td>1.216553e+06</td>\n",
              "      <td>1.220555e+06</td>\n",
              "      <td>1.222016e+06</td>\n",
              "    </tr>\n",
              "    <tr>\n",
              "      <th>mean</th>\n",
              "      <td>6.116474e+05</td>\n",
              "      <td>6.299630e+03</td>\n",
              "      <td>7.817144e+01</td>\n",
              "      <td>3.730611e+01</td>\n",
              "      <td>6.461461e+01</td>\n",
              "      <td>1.333848e+01</td>\n",
              "      <td>3.822769e+04</td>\n",
              "      <td>1.351963e+03</td>\n",
              "      <td>1.234329e-01</td>\n",
              "    </tr>\n",
              "    <tr>\n",
              "      <th>std</th>\n",
              "      <td>3.538049e+05</td>\n",
              "      <td>3.581363e+03</td>\n",
              "      <td>2.916926e+01</td>\n",
              "      <td>8.947398e+00</td>\n",
              "      <td>3.519266e+01</td>\n",
              "      <td>6.604638e+00</td>\n",
              "      <td>3.104898e+04</td>\n",
              "      <td>2.518944e+03</td>\n",
              "      <td>3.289336e-01</td>\n",
              "    </tr>\n",
              "    <tr>\n",
              "      <th>min</th>\n",
              "      <td>0.000000e+00</td>\n",
              "      <td>0.000000e+00</td>\n",
              "      <td>9.260000e+00</td>\n",
              "      <td>0.000000e+00</td>\n",
              "      <td>0.000000e+00</td>\n",
              "      <td>0.000000e+00</td>\n",
              "      <td>1.000000e+02</td>\n",
              "      <td>1.000000e+00</td>\n",
              "      <td>0.000000e+00</td>\n",
              "    </tr>\n",
              "    <tr>\n",
              "      <th>25%</th>\n",
              "      <td>3.055038e+05</td>\n",
              "      <td>3.345000e+03</td>\n",
              "      <td>5.976000e+01</td>\n",
              "      <td>3.200000e+01</td>\n",
              "      <td>3.300000e+01</td>\n",
              "      <td>8.000000e+00</td>\n",
              "      <td>1.900000e+04</td>\n",
              "      <td>2.090000e+02</td>\n",
              "      <td>0.000000e+00</td>\n",
              "    </tr>\n",
              "    <tr>\n",
              "      <th>50%</th>\n",
              "      <td>6.110075e+05</td>\n",
              "      <td>5.964000e+03</td>\n",
              "      <td>8.240000e+01</td>\n",
              "      <td>3.800000e+01</td>\n",
              "      <td>7.200000e+01</td>\n",
              "      <td>1.200000e+01</td>\n",
              "      <td>3.090000e+04</td>\n",
              "      <td>5.910000e+02</td>\n",
              "      <td>0.000000e+00</td>\n",
              "    </tr>\n",
              "    <tr>\n",
              "      <th>75%</th>\n",
              "      <td>9.165112e+05</td>\n",
              "      <td>9.436000e+03</td>\n",
              "      <td>8.497000e+01</td>\n",
              "      <td>4.400000e+01</td>\n",
              "      <td>9.400000e+01</td>\n",
              "      <td>1.700000e+01</td>\n",
              "      <td>4.700000e+04</td>\n",
              "      <td>1.342000e+03</td>\n",
              "      <td>0.000000e+00</td>\n",
              "    </tr>\n",
              "    <tr>\n",
              "      <th>max</th>\n",
              "      <td>1.234930e+06</td>\n",
              "      <td>1.265800e+04</td>\n",
              "      <td>4.243200e+02</td>\n",
              "      <td>5.600000e+01</td>\n",
              "      <td>1.190000e+02</td>\n",
              "      <td>8.400000e+01</td>\n",
              "      <td>8.200000e+05</td>\n",
              "      <td>1.771600e+04</td>\n",
              "      <td>1.000000e+00</td>\n",
              "    </tr>\n",
              "  </tbody>\n",
              "</table>\n",
              "</div>"
            ],
            "text/plain": [
              "       transaction_id  apartment_id  ...    apt_counts         top10\n",
              "count    1.222016e+06  1.222016e+06  ...  1.220555e+06  1.222016e+06\n",
              "mean     6.116474e+05  6.299630e+03  ...  1.351963e+03  1.234329e-01\n",
              "std      3.538049e+05  3.581363e+03  ...  2.518944e+03  3.289336e-01\n",
              "min      0.000000e+00  0.000000e+00  ...  1.000000e+00  0.000000e+00\n",
              "25%      3.055038e+05  3.345000e+03  ...  2.090000e+02  0.000000e+00\n",
              "50%      6.110075e+05  5.964000e+03  ...  5.910000e+02  0.000000e+00\n",
              "75%      9.165112e+05  9.436000e+03  ...  1.342000e+03  0.000000e+00\n",
              "max      1.234930e+06  1.265800e+04  ...  1.771600e+04  1.000000e+00\n",
              "\n",
              "[8 rows x 9 columns]"
            ]
          },
          "metadata": {
            "tags": []
          },
          "execution_count": 77
        }
      ]
    },
    {
      "cell_type": "markdown",
      "metadata": {
        "id": "VF5P_T3_yuR9"
      },
      "source": [
        "### Price"
      ]
    },
    {
      "cell_type": "code",
      "metadata": {
        "colab": {
          "base_uri": "https://localhost:8080/",
          "height": 293
        },
        "id": "LBVn1yB1yuR9",
        "scrolled": true,
        "outputId": "b74d57ee-f27b-4005-b2d3-96ad4b93897d"
      },
      "source": [
        "# train price\n",
        "plt.figure()\n",
        "plt.hist(train_df['transaction_real_price'], bins=30)\n",
        "plt.xlabel('Price(10000 won)')\n",
        "plt.title('Distribution of Price')\n",
        "plt.show()"
      ],
      "execution_count": null,
      "outputs": [
        {
          "output_type": "display_data",
          "data": {
            "image/png": "[encoded data removed]",
            "text/plain": [
              "<Figure size 432x288 with 1 Axes>"
            ]
          },
          "metadata": {
            "tags": []
          }
        }
      ]
    },
    {
      "cell_type": "markdown",
      "metadata": {
        "id": "ZLsEvIOVyuR-"
      },
      "source": [
        "- 가격의 분포가 매우 왼쪽으로 치우친 것을 확인할 수 있음\n",
        "- 타겟 변수의 이상치가 회귀모형을 사용한 예측에 큰 영향을 줄 수 있음\n",
        "    - 로그 변환으로 정규화한뒤, 나중에 다시 역변환"
      ]
    },
    {
      "cell_type": "code",
      "metadata": {
        "colab": {
          "base_uri": "https://localhost:8080/",
          "height": 78
        },
        "id": "m6K6o48uJ-K8",
        "outputId": "3458fa07-891c-4fbb-966b-7018d9757965"
      },
      "source": [
        "# 가격 로그 변환 후 원래 가격 따로 저장\n",
        "all_df['log_price'] = np.log1p(all_df['transaction_real_price'])\n",
        "real_price = all_df['transaction_real_price'] # 원래 가격\n",
        "#train_y = real_price[:train_df.shape[0]] # train 데이터의 가격\n",
        "#test_y = real_price[train_df.shape[0]:] # test 데이터의 가격\n",
        "all_df.drop('transaction_real_price', axis=1, inplace=True)\n",
        "all_df.head(1)"
      ],
      "execution_count": null,
      "outputs": [
        {
          "output_type": "execute_result",
          "data": {
            "text/html": [
              "<div>\n",
              "<style scoped>\n",
              "    .dataframe tbody tr th:only-of-type {\n",
              "        vertical-align: middle;\n",
              "    }\n",
              "\n",
              "    .dataframe tbody tr th {\n",
              "        vertical-align: top;\n",
              "    }\n",
              "\n",
              "    .dataframe thead th {\n",
              "        text-align: right;\n",
              "    }\n",
              "</style>\n",
              "<table border=\"1\" class=\"dataframe\">\n",
              "  <thead>\n",
              "    <tr style=\"text-align: right;\">\n",
              "      <th></th>\n",
              "      <th>transaction_id</th>\n",
              "      <th>apartment_id</th>\n",
              "      <th>city</th>\n",
              "      <th>dong</th>\n",
              "      <th>apt</th>\n",
              "      <th>exclusive_use_area</th>\n",
              "      <th>year_of_completion</th>\n",
              "      <th>transaction_year_month</th>\n",
              "      <th>floor</th>\n",
              "      <th>apt_counts</th>\n",
              "      <th>top10</th>\n",
              "      <th>transformed</th>\n",
              "      <th>log_price</th>\n",
              "    </tr>\n",
              "  </thead>\n",
              "  <tbody>\n",
              "    <tr>\n",
              "      <th>0</th>\n",
              "      <td>0</td>\n",
              "      <td>7622</td>\n",
              "      <td>서울특별시</td>\n",
              "      <td>138</td>\n",
              "      <td>23</td>\n",
              "      <td>84.82</td>\n",
              "      <td>41</td>\n",
              "      <td>0</td>\n",
              "      <td>6</td>\n",
              "      <td>13.0</td>\n",
              "      <td>0</td>\n",
              "      <td>False</td>\n",
              "      <td>10.532123</td>\n",
              "    </tr>\n",
              "  </tbody>\n",
              "</table>\n",
              "</div>"
            ],
            "text/plain": [
              "   transaction_id  apartment_id   city  ... top10 transformed  log_price\n",
              "0               0          7622  서울특별시  ...     0       False  10.532123\n",
              "\n",
              "[1 rows x 13 columns]"
            ]
          },
          "metadata": {
            "tags": []
          },
          "execution_count": 78
        }
      ]
    },
    {
      "cell_type": "code",
      "metadata": {
        "colab": {
          "base_uri": "https://localhost:8080/",
          "height": 423
        },
        "id": "fZzNvGO7xHRX",
        "outputId": "64de9d88-9350-4265-f17f-51359260bd09"
      },
      "source": [
        "f, (ax1, ax2) = plt.subplots(1,2,figsize=(12,6))\n",
        "\n",
        "ax1.hist(train_df['transaction_real_price'], bins=30)\n",
        "ax1.set_title('Price Distribution')\n",
        "ax1.set_xlabel('Price')\n",
        "\n",
        "ax2.hist(np.log1p(train_df['transaction_real_price']), bins=30)\n",
        "ax2.set_title('Log Price Distribution')\n",
        "ax2.set_xlabel('Log Price')\n",
        "\n",
        "plt.show()"
      ],
      "execution_count": null,
      "outputs": [
        {
          "output_type": "stream",
          "text": [
            "findfont: Font family ['NanumGothic Eco'] not found. Falling back to DejaVu Sans.\n"
          ],
          "name": "stderr"
        },
        {
          "output_type": "display_data",
          "data": {
            "image/png": "[encoded data removed]",
            "text/plain": [
              "<Figure size 864x432 with 2 Axes>"
            ]
          },
          "metadata": {
            "tags": [],
            "needs_background": "light"
          }
        }
      ]
    },
    {
      "cell_type": "code",
      "metadata": {
        "colab": {
          "base_uri": "https://localhost:8080/",
          "height": 292
        },
        "id": "Bcpz4ldU-M-P",
        "outputId": "83fa7849-71d0-4f6f-e10a-b3cdb9320be9"
      },
      "source": [
        "# train price\n",
        "plt.figure()\n",
        "plt.hist(all_df['log_price'], bins=30)\n",
        "plt.xlabel('log_price')\n",
        "plt.title('Distribution of Price')\n",
        "plt.show()"
      ],
      "execution_count": null,
      "outputs": [
        {
          "output_type": "display_data",
          "data": {
            "image/png": "[encoded data removed]",
            "text/plain": [
              "<Figure size 432x288 with 1 Axes>"
            ]
          },
          "metadata": {
            "tags": []
          }
        }
      ]
    },
    {
      "cell_type": "markdown",
      "metadata": {
        "id": "AVTeTEfRr15R"
      },
      "source": [
        "### Area"
      ]
    },
    {
      "cell_type": "code",
      "metadata": {
        "colab": {
          "base_uri": "https://localhost:8080/",
          "height": 295
        },
        "id": "EKSc4UJ6yuR-",
        "scrolled": false,
        "outputId": "7342cd98-a018-4468-9a09-8f238f27bb84"
      },
      "source": [
        "# train area\n",
        "plt.figure()\n",
        "plt.hist(train_df['exclusive_use_area'], bins=30)\n",
        "plt.xlabel('Area(Square meter)')\n",
        "plt.title('Distribution of Area')\n",
        "plt.show()"
      ],
      "execution_count": null,
      "outputs": [
        {
          "output_type": "display_data",
          "data": {
            "image/png": "[encoded data removed]",
            "text/plain": [
              "<Figure size 432x288 with 1 Axes>"
            ]
          },
          "metadata": {
            "tags": [],
            "needs_background": "light"
          }
        }
      ]
    },
    {
      "cell_type": "code",
      "metadata": {
        "colab": {
          "base_uri": "https://localhost:8080/",
          "height": 78
        },
        "id": "Mww8qNfzrmeU",
        "outputId": "cbfe2e36-0168-41be-d5c5-846eb3cf59e3"
      },
      "source": [
        "# 면적 로그 변환 후 원래 면적 따로 저장\n",
        "all_df['log_area'] = np.log1p(all_df['exclusive_use_area'])\n",
        "area = all_df['exclusive_use_area'] # 원래 가격\n",
        "all_df.drop('exclusive_use_area', axis=1, inplace=True)\n",
        "all_df.head(1)"
      ],
      "execution_count": null,
      "outputs": [
        {
          "output_type": "execute_result",
          "data": {
            "text/html": [
              "<div>\n",
              "<style scoped>\n",
              "    .dataframe tbody tr th:only-of-type {\n",
              "        vertical-align: middle;\n",
              "    }\n",
              "\n",
              "    .dataframe tbody tr th {\n",
              "        vertical-align: top;\n",
              "    }\n",
              "\n",
              "    .dataframe thead th {\n",
              "        text-align: right;\n",
              "    }\n",
              "</style>\n",
              "<table border=\"1\" class=\"dataframe\">\n",
              "  <thead>\n",
              "    <tr style=\"text-align: right;\">\n",
              "      <th></th>\n",
              "      <th>transaction_id</th>\n",
              "      <th>apartment_id</th>\n",
              "      <th>city</th>\n",
              "      <th>dong</th>\n",
              "      <th>apt</th>\n",
              "      <th>year_of_completion</th>\n",
              "      <th>transaction_year_month</th>\n",
              "      <th>floor</th>\n",
              "      <th>apt_counts</th>\n",
              "      <th>top10</th>\n",
              "      <th>transformed</th>\n",
              "      <th>log_price</th>\n",
              "      <th>log_area</th>\n",
              "    </tr>\n",
              "  </thead>\n",
              "  <tbody>\n",
              "    <tr>\n",
              "      <th>0</th>\n",
              "      <td>0</td>\n",
              "      <td>7622</td>\n",
              "      <td>서울특별시</td>\n",
              "      <td>138</td>\n",
              "      <td>23</td>\n",
              "      <td>41</td>\n",
              "      <td>0</td>\n",
              "      <td>6</td>\n",
              "      <td>13.0</td>\n",
              "      <td>0</td>\n",
              "      <td>False</td>\n",
              "      <td>10.532123</td>\n",
              "      <td>4.452252</td>\n",
              "    </tr>\n",
              "  </tbody>\n",
              "</table>\n",
              "</div>"
            ],
            "text/plain": [
              "   transaction_id  apartment_id   city  ... transformed  log_price  log_area\n",
              "0               0          7622  서울특별시  ...       False  10.532123  4.452252\n",
              "\n",
              "[1 rows x 13 columns]"
            ]
          },
          "metadata": {
            "tags": []
          },
          "execution_count": 79
        }
      ]
    },
    {
      "cell_type": "code",
      "metadata": {
        "colab": {
          "base_uri": "https://localhost:8080/",
          "height": 296
        },
        "id": "XWFge8LqCf_8",
        "outputId": "7e6948d7-c682-4345-cb3a-f6bfecbe9530"
      },
      "source": [
        "\n",
        "plt.figure()\n",
        "plt.hist(all_df['log_area'], bins=30)\n",
        "plt.xlabel('log_area')\n",
        "plt.title('Distribution of Area')\n",
        "plt.show()"
      ],
      "execution_count": null,
      "outputs": [
        {
          "output_type": "display_data",
          "data": {
            "image/png": "[encoded data removed]",
            "text/plain": [
              "<Figure size 432x288 with 1 Axes>"
            ]
          },
          "metadata": {
            "tags": [],
            "needs_background": "light"
          }
        }
      ]
    },
    {
      "cell_type": "code",
      "metadata": {
        "colab": {
          "base_uri": "https://localhost:8080/",
          "height": 404
        },
        "id": "qan7SVC8yvVg",
        "outputId": "8d9cf92e-7993-4cb5-b49f-0822a3bf94fa"
      },
      "source": [
        "f, (ax1, ax2) = plt.subplots(1,2,figsize=(12,6))\n",
        "\n",
        "ax1.hist(train_df['exclusive_use_area'], bins=30)\n",
        "ax1.set_title('Area Distribution')\n",
        "ax1.set_xlabel('Area')\n",
        "\n",
        "ax2.hist(np.log1p(train_df['exclusive_use_area']), bins=30)\n",
        "ax2.set_title('Log Area Distribution')\n",
        "ax2.set_xlabel('Log Area')\n",
        "\n",
        "plt.show()"
      ],
      "execution_count": null,
      "outputs": [
        {
          "output_type": "display_data",
          "data": {
            "image/png": "[encoded data removed]",
            "text/plain": [
              "<Figure size 864x432 with 2 Axes>"
            ]
          },
          "metadata": {
            "tags": [],
            "needs_background": "light"
          }
        }
      ]
    },
    {
      "cell_type": "markdown",
      "metadata": {
        "id": "RlvQNiQdEzQs"
      },
      "source": [
        "### Encoding"
      ]
    },
    {
      "cell_type": "code",
      "metadata": {
        "id": "jANAQVK291VZ"
      },
      "source": [
        "ohe_col = ['city']\n",
        "drop_col = ['transaction_id', 'apartment_id', 'city', 'apt_counts', 'transformed']\n",
        "\n",
        "ohe_columns = pd.get_dummies(all_df[ohe_col])\n"
      ],
      "execution_count": null,
      "outputs": []
    },
    {
      "cell_type": "code",
      "metadata": {
        "colab": {
          "base_uri": "https://localhost:8080/",
          "height": 78
        },
        "id": "LvnAduUlK7LZ",
        "outputId": "7fa42be6-f01e-45f3-ded3-6ec406d90535"
      },
      "source": [
        "all_df.head(1)"
      ],
      "execution_count": null,
      "outputs": [
        {
          "output_type": "execute_result",
          "data": {
            "text/html": [
              "<div>\n",
              "<style scoped>\n",
              "    .dataframe tbody tr th:only-of-type {\n",
              "        vertical-align: middle;\n",
              "    }\n",
              "\n",
              "    .dataframe tbody tr th {\n",
              "        vertical-align: top;\n",
              "    }\n",
              "\n",
              "    .dataframe thead th {\n",
              "        text-align: right;\n",
              "    }\n",
              "</style>\n",
              "<table border=\"1\" class=\"dataframe\">\n",
              "  <thead>\n",
              "    <tr style=\"text-align: right;\">\n",
              "      <th></th>\n",
              "      <th>transaction_id</th>\n",
              "      <th>apartment_id</th>\n",
              "      <th>city</th>\n",
              "      <th>dong</th>\n",
              "      <th>apt</th>\n",
              "      <th>year_of_completion</th>\n",
              "      <th>transaction_year_month</th>\n",
              "      <th>floor</th>\n",
              "      <th>apt_counts</th>\n",
              "      <th>top10</th>\n",
              "      <th>transformed</th>\n",
              "      <th>log_price</th>\n",
              "      <th>log_area</th>\n",
              "    </tr>\n",
              "  </thead>\n",
              "  <tbody>\n",
              "    <tr>\n",
              "      <th>0</th>\n",
              "      <td>0</td>\n",
              "      <td>7622</td>\n",
              "      <td>서울특별시</td>\n",
              "      <td>138</td>\n",
              "      <td>23</td>\n",
              "      <td>41</td>\n",
              "      <td>0</td>\n",
              "      <td>6</td>\n",
              "      <td>13.0</td>\n",
              "      <td>0</td>\n",
              "      <td>False</td>\n",
              "      <td>10.532123</td>\n",
              "      <td>4.452252</td>\n",
              "    </tr>\n",
              "  </tbody>\n",
              "</table>\n",
              "</div>"
            ],
            "text/plain": [
              "   transaction_id  apartment_id   city  ... transformed  log_price  log_area\n",
              "0               0          7622  서울특별시  ...       False  10.532123  4.452252\n",
              "\n",
              "[1 rows x 13 columns]"
            ]
          },
          "metadata": {
            "tags": []
          },
          "execution_count": 81
        }
      ]
    },
    {
      "cell_type": "code",
      "metadata": {
        "colab": {
          "base_uri": "https://localhost:8080/",
          "height": 199
        },
        "id": "iM8tGHMMtPgt",
        "outputId": "fb0dee39-a1e7-46e0-c0e6-a60ca19a7d3c"
      },
      "source": [
        "all_df = pd.concat([all_df.drop(drop_col, axis=1), ohe_columns], axis=1)\n",
        "all_df.head()"
      ],
      "execution_count": null,
      "outputs": [
        {
          "output_type": "execute_result",
          "data": {
            "text/html": [
              "<div>\n",
              "<style scoped>\n",
              "    .dataframe tbody tr th:only-of-type {\n",
              "        vertical-align: middle;\n",
              "    }\n",
              "\n",
              "    .dataframe tbody tr th {\n",
              "        vertical-align: top;\n",
              "    }\n",
              "\n",
              "    .dataframe thead th {\n",
              "        text-align: right;\n",
              "    }\n",
              "</style>\n",
              "<table border=\"1\" class=\"dataframe\">\n",
              "  <thead>\n",
              "    <tr style=\"text-align: right;\">\n",
              "      <th></th>\n",
              "      <th>dong</th>\n",
              "      <th>apt</th>\n",
              "      <th>year_of_completion</th>\n",
              "      <th>transaction_year_month</th>\n",
              "      <th>floor</th>\n",
              "      <th>top10</th>\n",
              "      <th>log_price</th>\n",
              "      <th>log_area</th>\n",
              "      <th>city_부산광역시</th>\n",
              "      <th>city_서울특별시</th>\n",
              "    </tr>\n",
              "  </thead>\n",
              "  <tbody>\n",
              "    <tr>\n",
              "      <th>0</th>\n",
              "      <td>138</td>\n",
              "      <td>23</td>\n",
              "      <td>41</td>\n",
              "      <td>0</td>\n",
              "      <td>6</td>\n",
              "      <td>0</td>\n",
              "      <td>10.532123</td>\n",
              "      <td>4.452252</td>\n",
              "      <td>0</td>\n",
              "      <td>1</td>\n",
              "    </tr>\n",
              "    <tr>\n",
              "      <th>1</th>\n",
              "      <td>65</td>\n",
              "      <td>23</td>\n",
              "      <td>12</td>\n",
              "      <td>0</td>\n",
              "      <td>10</td>\n",
              "      <td>0</td>\n",
              "      <td>9.903538</td>\n",
              "      <td>4.606869</td>\n",
              "      <td>0</td>\n",
              "      <td>1</td>\n",
              "    </tr>\n",
              "    <tr>\n",
              "      <th>2</th>\n",
              "      <td>65</td>\n",
              "      <td>23</td>\n",
              "      <td>46</td>\n",
              "      <td>0</td>\n",
              "      <td>10</td>\n",
              "      <td>0</td>\n",
              "      <td>10.558439</td>\n",
              "      <td>4.451319</td>\n",
              "      <td>0</td>\n",
              "      <td>1</td>\n",
              "    </tr>\n",
              "    <tr>\n",
              "      <th>3</th>\n",
              "      <td>13</td>\n",
              "      <td>23</td>\n",
              "      <td>42</td>\n",
              "      <td>0</td>\n",
              "      <td>19</td>\n",
              "      <td>0</td>\n",
              "      <td>11.678448</td>\n",
              "      <td>4.993082</td>\n",
              "      <td>0</td>\n",
              "      <td>1</td>\n",
              "    </tr>\n",
              "    <tr>\n",
              "      <th>4</th>\n",
              "      <td>13</td>\n",
              "      <td>23</td>\n",
              "      <td>43</td>\n",
              "      <td>0</td>\n",
              "      <td>7</td>\n",
              "      <td>0</td>\n",
              "      <td>11.695255</td>\n",
              "      <td>5.275202</td>\n",
              "      <td>0</td>\n",
              "      <td>1</td>\n",
              "    </tr>\n",
              "  </tbody>\n",
              "</table>\n",
              "</div>"
            ],
            "text/plain": [
              "  dong apt  year_of_completion  ...  log_area  city_부산광역시  city_서울특별시\n",
              "0  138  23                  41  ...  4.452252           0           1\n",
              "1   65  23                  12  ...  4.606869           0           1\n",
              "2   65  23                  46  ...  4.451319           0           1\n",
              "3   13  23                  42  ...  4.993082           0           1\n",
              "4   13  23                  43  ...  5.275202           0           1\n",
              "\n",
              "[5 rows x 10 columns]"
            ]
          },
          "metadata": {
            "tags": []
          },
          "execution_count": 82
        }
      ]
    },
    {
      "cell_type": "code",
      "metadata": {
        "colab": {
          "base_uri": "https://localhost:8080/"
        },
        "id": "3X4UMl3AZQO0",
        "outputId": "82d5c3a6-8df3-42ae-8e9a-18167794a97e"
      },
      "source": [
        "all_df.shape"
      ],
      "execution_count": null,
      "outputs": [
        {
          "output_type": "execute_result",
          "data": {
            "text/plain": [
              "(1222016, 10)"
            ]
          },
          "metadata": {
            "tags": []
          },
          "execution_count": 67
        }
      ]
    },
    {
      "cell_type": "code",
      "metadata": {
        "id": "N08p100o8Pi5"
      },
      "source": [
        "all_df.to_csv(PATH + 'all_df.csv', index=False)"
      ],
      "execution_count": null,
      "outputs": []
    },
    {
      "cell_type": "markdown",
      "metadata": {
        "id": "2lc7YDr98TjE"
      },
      "source": [
        "## 전처리 생략 \n"
      ]
    },
    {
      "cell_type": "code",
      "metadata": {
        "colab": {
          "base_uri": "https://localhost:8080/"
        },
        "id": "wGPkNHiB815h",
        "outputId": "85d3bee7-f0e5-4411-d5cb-172b33b262eb"
      },
      "source": [
        "from google.colab import drive\n",
        "drive.mount('/content/drive')"
      ],
      "execution_count": 1,
      "outputs": [
        {
          "output_type": "stream",
          "text": [
            "Mounted at /content/drive\n"
          ],
          "name": "stdout"
        }
      ]
    },
    {
      "cell_type": "code",
      "metadata": {
        "colab": {
          "base_uri": "https://localhost:8080/"
        },
        "id": "UfPZ8om08go4",
        "outputId": "e107c20c-ed6b-4b9d-8513-102e621cc546"
      },
      "source": [
        "import pandas as pd\n",
        "import numpy as np\n",
        "import matplotlib.pyplot as plt\n",
        "import warnings\n",
        "import seaborn as sns\n",
        "!pip install https://s3-us-west-2.amazonaws.com/xgboost-nightly-builds/xgboost-1.4.0_SNAPSHOT%2B4224c08cacceba3f83f90e387c07aa6205a83bfa-py3-none-manylinux2010_x86_64.whl\n",
        "from tqdm import tqdm\n",
        "from sklearn.linear_model import LinearRegression, ElasticNet, Lasso,  Ridge \n",
        "from sklearn.tree import DecisionTreeRegressor\n",
        "from sklearn.ensemble import RandomForestRegressor\n",
        "from sklearn.preprocessing import  LabelEncoder\n",
        "from sklearn.model_selection import KFold, cross_val_score, train_test_split, TimeSeriesSplit\n",
        "from sklearn.metrics import mean_squared_error\n",
        "import xgboost as xgb\n",
        "# After running\n",
        "! git clone --recursive https://github.com/Microsoft/LightGBM\n",
        "#You can run this oneliner which will build and compile LightGBM with GPU enabled in colab:\n",
        "! cd LightGBM && rm -rf build && mkdir build && cd build && cmake -DUSE_GPU=1 ../../LightGBM && make -j4 && cd ../python-package && python3 setup.py install --precompile --gpu;    \n",
        "import lightgbm as lgb\n",
        "import re\n",
        "!pip install optuna -q\n",
        "import optuna\n",
        "from optuna.integration import XGBoostPruningCallback\n",
        "from sklearn.externals import joblib\n",
        "import pickle\n",
        "\n",
        "import matplotlib as mpl  # 기본 설정 만지는 용도\n",
        "import matplotlib.pyplot as plt  # 그래프 그리는 용도\n",
        "import matplotlib.font_manager as fm\n",
        "!apt-get update -qq\n",
        "!apt-get install fonts-nanum* -qq\n",
        "path = '/usr/share/fonts/truetype/nanum/NanumGothicEco.ttf'  # 설치된 나눔글꼴중 원하는 녀석의 전체 경로를 가져오자\n",
        "font_name = fm.FontProperties(fname=path, size=10).get_name()\n",
        "print(font_name)\n",
        "plt.rc('font', family=font_name)\n",
        "fm._rebuild()\n",
        "mpl.rcParams['axes.unicode_minus'] = False"
      ],
      "execution_count": 2,
      "outputs": [
        {
          "output_type": "stream",
          "text": [
            "Collecting xgboost==1.4.0-SNAPSHOT+4224c08cacceba3f83f90e387c07aa6205a83bfa\n",
            "\u001b[?25l  Downloading https://s3-us-west-2.amazonaws.com/xgboost-nightly-builds/xgboost-1.4.0_SNAPSHOT%2B4224c08cacceba3f83f90e387c07aa6205a83bfa-py3-none-manylinux2010_x86_64.whl (166.7MB)\n",
            "\u001b[K     |████████████████████████████████| 166.7MB 35kB/s \n",
            "\u001b[?25hRequirement already satisfied: numpy in /usr/local/lib/python3.7/dist-packages (from xgboost==1.4.0-SNAPSHOT+4224c08cacceba3f83f90e387c07aa6205a83bfa) (1.19.5)\n",
            "Requirement already satisfied: scipy in /usr/local/lib/python3.7/dist-packages (from xgboost==1.4.0-SNAPSHOT+4224c08cacceba3f83f90e387c07aa6205a83bfa) (1.4.1)\n",
            "Installing collected packages: xgboost\n",
            "  Found existing installation: xgboost 0.90\n",
            "    Uninstalling xgboost-0.90:\n",
            "      Successfully uninstalled xgboost-0.90\n",
            "Successfully installed xgboost-1.4.0-SNAPSHOT\n",
            "Cloning into 'LightGBM'...\n",
            "remote: Enumerating objects: 22545, done.\u001b[K\n",
            "remote: Counting objects: 100% (140/140), done.\u001b[K\n",
            "remote: Compressing objects: 100% (111/111), done.\u001b[K\n",
            "remote: Total 22545 (delta 68), reused 46 (delta 26), pack-reused 22405\u001b[K\n",
            "Receiving objects: 100% (22545/22545), 17.53 MiB | 3.35 MiB/s, done.\n",
            "Resolving deltas: 100% (16523/16523), done.\n",
            "Submodule 'include/boost/compute' (https://github.com/boostorg/compute) registered for path 'external_libs/compute'\n",
            "Submodule 'eigen' (https://gitlab.com/libeigen/eigen.git) registered for path 'external_libs/eigen'\n",
            "Submodule 'external_libs/fast_double_parser' (https://github.com/lemire/fast_double_parser.git) registered for path 'external_libs/fast_double_parser'\n",
            "Submodule 'external_libs/fmt' (https://github.com/fmtlib/fmt.git) registered for path 'external_libs/fmt'\n",
            "Cloning into '/content/LightGBM/external_libs/compute'...\n",
            "remote: Enumerating objects: 21731, done.        \n",
            "remote: Counting objects: 100% (3/3), done.        \n",
            "remote: Compressing objects: 100% (3/3), done.        \n",
            "remote: Total 21731 (delta 0), reused 1 (delta 0), pack-reused 21728        \n",
            "Receiving objects: 100% (21731/21731), 8.51 MiB | 8.84 MiB/s, done.\n",
            "Resolving deltas: 100% (17566/17566), done.\n",
            "Cloning into '/content/LightGBM/external_libs/eigen'...\n",
            "remote: Enumerating objects: 110028, done.        \n",
            "remote: Counting objects: 100% (1394/1394), done.        \n",
            "remote: Compressing objects: 100% (405/405), done.        \n",
            "remote: Total 110028 (delta 1050), reused 1307 (delta 981), pack-reused 108634        \n",
            "Receiving objects: 100% (110028/110028), 102.08 MiB | 22.78 MiB/s, done.\n",
            "Resolving deltas: 100% (90317/90317), done.\n",
            "Cloning into '/content/LightGBM/external_libs/fast_double_parser'...\n",
            "remote: Enumerating objects: 686, done.        \n",
            "remote: Counting objects: 100% (186/186), done.        \n",
            "remote: Compressing objects: 100% (117/117), done.        \n",
            "remote: Total 686 (delta 91), reused 101 (delta 42), pack-reused 500        \n",
            "Receiving objects: 100% (686/686), 801.53 KiB | 9.66 MiB/s, done.\n",
            "Resolving deltas: 100% (345/345), done.\n",
            "Cloning into '/content/LightGBM/external_libs/fmt'...\n",
            "remote: Enumerating objects: 26585, done.        \n",
            "remote: Counting objects: 100% (293/293), done.        \n",
            "remote: Compressing objects: 100% (105/105), done.        \n",
            "remote: Total 26585 (delta 162), reused 274 (delta 159), pack-reused 26292        \n",
            "Receiving objects: 100% (26585/26585), 13.23 MiB | 20.18 MiB/s, done.\n",
            "Resolving deltas: 100% (17961/17961), done.\n",
            "Submodule path 'external_libs/compute': checked out '36c89134d4013b2e5e45bc55656a18bd6141995a'\n",
            "Submodule path 'external_libs/eigen': checked out '8ba1b0f41a7950dc3e1d4ed75859e36c73311235'\n",
            "Submodule path 'external_libs/fast_double_parser': checked out 'ace60646c02dc54c57f19d644e49a61e7e7758ec'\n",
            "Submodule 'benchmark/dependencies/abseil-cpp' (https://github.com/abseil/abseil-cpp.git) registered for path 'external_libs/fast_double_parser/benchmarks/dependencies/abseil-cpp'\n",
            "Submodule 'benchmark/dependencies/double-conversion' (https://github.com/google/double-conversion.git) registered for path 'external_libs/fast_double_parser/benchmarks/dependencies/double-conversion'\n",
            "Cloning into '/content/LightGBM/external_libs/fast_double_parser/benchmarks/dependencies/abseil-cpp'...\n",
            "remote: Enumerating objects: 14742, done.        \n",
            "remote: Counting objects: 100% (749/749), done.        \n",
            "remote: Compressing objects: 100% (363/363), done.        \n",
            "remote: Total 14742 (delta 468), reused 615 (delta 386), pack-reused 13993        \n",
            "Receiving objects: 100% (14742/14742), 9.93 MiB | 8.79 MiB/s, done.\n",
            "Resolving deltas: 100% (11146/11146), done.\n",
            "Cloning into '/content/LightGBM/external_libs/fast_double_parser/benchmarks/dependencies/double-conversion'...\n",
            "remote: Enumerating objects: 1225, done.        \n",
            "remote: Counting objects: 100% (69/69), done.        \n",
            "remote: Compressing objects: 100% (49/49), done.        \n",
            "remote: Total 1225 (delta 38), reused 34 (delta 20), pack-reused 1156        \n",
            "Receiving objects: 100% (1225/1225), 7.08 MiB | 11.38 MiB/s, done.\n",
            "Resolving deltas: 100% (810/810), done.\n",
            "Submodule path 'external_libs/fast_double_parser/benchmarks/dependencies/abseil-cpp': checked out 'd936052d32a5b7ca08b0199a6724724aea432309'\n",
            "Submodule path 'external_libs/fast_double_parser/benchmarks/dependencies/double-conversion': checked out 'f4cb2384efa55dee0e6652f8674b05763441ab09'\n",
            "Submodule path 'external_libs/fmt': checked out 'cc09f1a6798c085c325569ef466bcdcffdc266d4'\n",
            "-- The C compiler identification is GNU 7.5.0\n",
            "-- The CXX compiler identification is GNU 7.5.0\n",
            "-- Check for working C compiler: /usr/bin/cc\n",
            "-- Check for working C compiler: /usr/bin/cc -- works\n",
            "-- Detecting C compiler ABI info\n",
            "-- Detecting C compiler ABI info - done\n",
            "-- Detecting C compile features\n",
            "-- Detecting C compile features - done\n",
            "-- Check for working CXX compiler: /usr/bin/c++\n",
            "-- Check for working CXX compiler: /usr/bin/c++ -- works\n",
            "-- Detecting CXX compiler ABI info\n",
            "-- Detecting CXX compiler ABI info - done\n",
            "-- Detecting CXX compile features\n",
            "-- Detecting CXX compile features - done\n",
            "-- Found OpenMP_C: -fopenmp (found version \"4.5\") \n",
            "-- Found OpenMP_CXX: -fopenmp (found version \"4.5\") \n",
            "-- Found OpenMP: TRUE (found version \"4.5\")  \n",
            "-- Looking for CL_VERSION_2_2\n",
            "-- Looking for CL_VERSION_2_2 - found\n",
            "-- Found OpenCL: /usr/lib/x86_64-linux-gnu/libOpenCL.so (found version \"2.2\") \n",
            "-- OpenCL include directory: /usr/include\n",
            "-- Boost version: 1.65.1\n",
            "-- Found the following Boost libraries:\n",
            "--   filesystem\n",
            "--   system\n",
            "-- Performing Test MM_PREFETCH\n",
            "-- Performing Test MM_PREFETCH - Success\n",
            "-- Using _mm_prefetch\n",
            "-- Performing Test MM_MALLOC\n",
            "-- Performing Test MM_MALLOC - Success\n",
            "-- Using _mm_malloc\n",
            "-- Configuring done\n",
            "-- Generating done\n",
            "-- Build files have been written to: /content/LightGBM/build\n",
            "\u001b[35m\u001b[1mScanning dependencies of target lightgbm\u001b[0m\n",
            "\u001b[35m\u001b[1mScanning dependencies of target _lightgbm\u001b[0m\n",
            "[  1%] \u001b[32mBuilding CXX object CMakeFiles/_lightgbm.dir/src/boosting/boosting.cpp.o\u001b[0m\n",
            "[  2%] \u001b[32mBuilding CXX object CMakeFiles/lightgbm.dir/src/main.cpp.o\u001b[0m\n",
            "[  4%] \u001b[32mBuilding CXX object CMakeFiles/lightgbm.dir/src/application/application.cpp.o\u001b[0m\n",
            "[  5%] \u001b[32mBuilding CXX object CMakeFiles/_lightgbm.dir/src/boosting/gbdt.cpp.o\u001b[0m\n",
            "[  7%] \u001b[32mBuilding CXX object CMakeFiles/lightgbm.dir/src/boosting/boosting.cpp.o\u001b[0m\n",
            "[  8%] \u001b[32mBuilding CXX object CMakeFiles/lightgbm.dir/src/boosting/gbdt.cpp.o\u001b[0m\n",
            "[ 10%] \u001b[32mBuilding CXX object CMakeFiles/_lightgbm.dir/src/boosting/gbdt_model_text.cpp.o\u001b[0m\n",
            "[ 11%] \u001b[32mBuilding CXX object CMakeFiles/_lightgbm.dir/src/boosting/gbdt_prediction.cpp.o\u001b[0m\n",
            "[ 13%] \u001b[32mBuilding CXX object CMakeFiles/lightgbm.dir/src/boosting/gbdt_model_text.cpp.o\u001b[0m\n",
            "[ 14%] \u001b[32mBuilding CXX object CMakeFiles/_lightgbm.dir/src/boosting/prediction_early_stop.cpp.o\u001b[0m\n",
            "[ 15%] \u001b[32mBuilding CXX object CMakeFiles/_lightgbm.dir/src/io/bin.cpp.o\u001b[0m\n",
            "[ 17%] \u001b[32mBuilding CXX object CMakeFiles/_lightgbm.dir/src/io/config.cpp.o\u001b[0m\n",
            "[ 18%] \u001b[32mBuilding CXX object CMakeFiles/lightgbm.dir/src/boosting/gbdt_prediction.cpp.o\u001b[0m\n",
            "[ 20%] \u001b[32mBuilding CXX object CMakeFiles/lightgbm.dir/src/boosting/prediction_early_stop.cpp.o\u001b[0m\n",
            "[ 21%] \u001b[32mBuilding CXX object CMakeFiles/lightgbm.dir/src/io/bin.cpp.o\u001b[0m\n",
            "[ 23%] \u001b[32mBuilding CXX object CMakeFiles/lightgbm.dir/src/io/config.cpp.o\u001b[0m\n",
            "[ 24%] \u001b[32mBuilding CXX object CMakeFiles/_lightgbm.dir/src/io/config_auto.cpp.o\u001b[0m\n",
            "[ 26%] \u001b[32mBuilding CXX object CMakeFiles/lightgbm.dir/src/io/config_auto.cpp.o\u001b[0m\n",
            "[ 27%] \u001b[32mBuilding CXX object CMakeFiles/_lightgbm.dir/src/io/dataset.cpp.o\u001b[0m\n",
            "[ 28%] \u001b[32mBuilding CXX object CMakeFiles/lightgbm.dir/src/io/dataset.cpp.o\u001b[0m\n",
            "[ 30%] \u001b[32mBuilding CXX object CMakeFiles/_lightgbm.dir/src/io/dataset_loader.cpp.o\u001b[0m\n",
            "[ 31%] \u001b[32mBuilding CXX object CMakeFiles/_lightgbm.dir/src/io/file_io.cpp.o\u001b[0m\n",
            "[ 33%] \u001b[32mBuilding CXX object CMakeFiles/_lightgbm.dir/src/io/json11.cpp.o\u001b[0m\n",
            "[ 34%] \u001b[32mBuilding CXX object CMakeFiles/lightgbm.dir/src/io/dataset_loader.cpp.o\u001b[0m\n",
            "[ 36%] \u001b[32mBuilding CXX object CMakeFiles/_lightgbm.dir/src/io/metadata.cpp.o\u001b[0m\n",
            "[ 37%] \u001b[32mBuilding CXX object CMakeFiles/lightgbm.dir/src/io/file_io.cpp.o\u001b[0m\n",
            "[ 39%] \u001b[32mBuilding CXX object CMakeFiles/lightgbm.dir/src/io/json11.cpp.o\u001b[0m\n",
            "[ 40%] \u001b[32mBuilding CXX object CMakeFiles/_lightgbm.dir/src/io/parser.cpp.o\u001b[0m\n",
            "[ 42%] \u001b[32mBuilding CXX object CMakeFiles/_lightgbm.dir/src/io/train_share_states.cpp.o\u001b[0m\n",
            "[ 43%] \u001b[32mBuilding CXX object CMakeFiles/lightgbm.dir/src/io/metadata.cpp.o\u001b[0m\n",
            "[ 44%] \u001b[32mBuilding CXX object CMakeFiles/_lightgbm.dir/src/io/tree.cpp.o\u001b[0m\n",
            "[ 46%] \u001b[32mBuilding CXX object CMakeFiles/lightgbm.dir/src/io/parser.cpp.o\u001b[0m\n",
            "[ 47%] \u001b[32mBuilding CXX object CMakeFiles/_lightgbm.dir/src/metric/dcg_calculator.cpp.o\u001b[0m\n",
            "[ 49%] \u001b[32mBuilding CXX object CMakeFiles/lightgbm.dir/src/io/train_share_states.cpp.o\u001b[0m\n",
            "[ 50%] \u001b[32mBuilding CXX object CMakeFiles/_lightgbm.dir/src/metric/metric.cpp.o\u001b[0m\n",
            "[ 52%] \u001b[32mBuilding CXX object CMakeFiles/lightgbm.dir/src/io/tree.cpp.o\u001b[0m\n",
            "[ 53%] \u001b[32mBuilding CXX object CMakeFiles/lightgbm.dir/src/metric/dcg_calculator.cpp.o\u001b[0m\n",
            "[ 55%] \u001b[32mBuilding CXX object CMakeFiles/lightgbm.dir/src/metric/metric.cpp.o\u001b[0m\n",
            "[ 56%] \u001b[32mBuilding CXX object CMakeFiles/_lightgbm.dir/src/network/ifaddrs_patch.cpp.o\u001b[0m\n",
            "[ 57%] \u001b[32mBuilding CXX object CMakeFiles/_lightgbm.dir/src/network/linker_topo.cpp.o\u001b[0m\n",
            "[ 59%] \u001b[32mBuilding CXX object CMakeFiles/_lightgbm.dir/src/network/linkers_mpi.cpp.o\u001b[0m\n",
            "[ 60%] \u001b[32mBuilding CXX object CMakeFiles/_lightgbm.dir/src/network/linkers_socket.cpp.o\u001b[0m\n",
            "[ 62%] \u001b[32mBuilding CXX object CMakeFiles/_lightgbm.dir/src/network/network.cpp.o\u001b[0m\n",
            "[ 63%] \u001b[32mBuilding CXX object CMakeFiles/lightgbm.dir/src/network/ifaddrs_patch.cpp.o\u001b[0m\n",
            "[ 65%] \u001b[32mBuilding CXX object CMakeFiles/lightgbm.dir/src/network/linker_topo.cpp.o\u001b[0m\n",
            "[ 66%] \u001b[32mBuilding CXX object CMakeFiles/_lightgbm.dir/src/objective/objective_function.cpp.o\u001b[0m\n",
            "[ 68%] \u001b[32mBuilding CXX object CMakeFiles/_lightgbm.dir/src/treelearner/cuda_tree_learner.cpp.o\u001b[0m\n",
            "[ 69%] \u001b[32mBuilding CXX object CMakeFiles/_lightgbm.dir/src/treelearner/data_parallel_tree_learner.cpp.o\u001b[0m\n",
            "[ 71%] \u001b[32mBuilding CXX object CMakeFiles/lightgbm.dir/src/network/linkers_mpi.cpp.o\u001b[0m\n",
            "[ 72%] \u001b[32mBuilding CXX object CMakeFiles/lightgbm.dir/src/network/linkers_socket.cpp.o\u001b[0m\n",
            "[ 73%] \u001b[32mBuilding CXX object CMakeFiles/lightgbm.dir/src/network/network.cpp.o\u001b[0m\n",
            "[ 75%] \u001b[32mBuilding CXX object CMakeFiles/lightgbm.dir/src/objective/objective_function.cpp.o\u001b[0m\n",
            "[ 76%] \u001b[32mBuilding CXX object CMakeFiles/lightgbm.dir/src/treelearner/cuda_tree_learner.cpp.o\u001b[0m\n",
            "[ 78%] \u001b[32mBuilding CXX object CMakeFiles/lightgbm.dir/src/treelearner/data_parallel_tree_learner.cpp.o\u001b[0m\n",
            "[ 79%] \u001b[32mBuilding CXX object CMakeFiles/_lightgbm.dir/src/treelearner/feature_parallel_tree_learner.cpp.o\u001b[0m\n",
            "[ 81%] \u001b[32mBuilding CXX object CMakeFiles/lightgbm.dir/src/treelearner/feature_parallel_tree_learner.cpp.o\u001b[0m\n",
            "[ 82%] \u001b[32mBuilding CXX object CMakeFiles/_lightgbm.dir/src/treelearner/gpu_tree_learner.cpp.o\u001b[0m\n",
            "[ 84%] \u001b[32mBuilding CXX object CMakeFiles/lightgbm.dir/src/treelearner/gpu_tree_learner.cpp.o\u001b[0m\n",
            "[ 85%] \u001b[32mBuilding CXX object CMakeFiles/_lightgbm.dir/src/treelearner/linear_tree_learner.cpp.o\u001b[0m\n",
            "[ 86%] \u001b[32mBuilding CXX object CMakeFiles/lightgbm.dir/src/treelearner/linear_tree_learner.cpp.o\u001b[0m\n",
            "[ 88%] \u001b[32mBuilding CXX object CMakeFiles/_lightgbm.dir/src/treelearner/serial_tree_learner.cpp.o\u001b[0m\n",
            "[ 89%] \u001b[32mBuilding CXX object CMakeFiles/lightgbm.dir/src/treelearner/serial_tree_learner.cpp.o\u001b[0m\n",
            "[ 91%] \u001b[32mBuilding CXX object CMakeFiles/_lightgbm.dir/src/treelearner/tree_learner.cpp.o\u001b[0m\n",
            "[ 92%] \u001b[32mBuilding CXX object CMakeFiles/lightgbm.dir/src/treelearner/tree_learner.cpp.o\u001b[0m\n",
            "[ 94%] \u001b[32mBuilding CXX object CMakeFiles/lightgbm.dir/src/treelearner/voting_parallel_tree_learner.cpp.o\u001b[0m\n",
            "[ 95%] \u001b[32mBuilding CXX object CMakeFiles/_lightgbm.dir/src/treelearner/voting_parallel_tree_learner.cpp.o\u001b[0m\n",
            "[ 97%] \u001b[32mBuilding CXX object CMakeFiles/_lightgbm.dir/src/c_api.cpp.o\u001b[0m\n",
            "[ 98%] \u001b[32m\u001b[1mLinking CXX executable ../lightgbm\u001b[0m\n",
            "[ 98%] Built target lightgbm\n",
            "[100%] \u001b[32m\u001b[1mLinking CXX shared library ../lib_lightgbm.so\u001b[0m\n",
            "[100%] Built target _lightgbm\n",
            "running install\n",
            "running build\n",
            "running build_py\n",
            "INFO:root:Generating grammar tables from /usr/lib/python3.7/lib2to3/Grammar.txt\n",
            "INFO:root:Generating grammar tables from /usr/lib/python3.7/lib2to3/PatternGrammar.txt\n",
            "creating build\n",
            "creating build/lib\n",
            "creating build/lib/lightgbm\n",
            "copying lightgbm/callback.py -> build/lib/lightgbm\n",
            "copying lightgbm/plotting.py -> build/lib/lightgbm\n",
            "copying lightgbm/__init__.py -> build/lib/lightgbm\n",
            "copying lightgbm/dask.py -> build/lib/lightgbm\n",
            "copying lightgbm/basic.py -> build/lib/lightgbm\n",
            "copying lightgbm/libpath.py -> build/lib/lightgbm\n",
            "copying lightgbm/compat.py -> build/lib/lightgbm\n",
            "copying lightgbm/sklearn.py -> build/lib/lightgbm\n",
            "copying lightgbm/engine.py -> build/lib/lightgbm\n",
            "running egg_info\n",
            "creating lightgbm.egg-info\n",
            "writing lightgbm.egg-info/PKG-INFO\n",
            "writing dependency_links to lightgbm.egg-info/dependency_links.txt\n",
            "writing requirements to lightgbm.egg-info/requires.txt\n",
            "writing top-level names to lightgbm.egg-info/top_level.txt\n",
            "writing manifest file 'lightgbm.egg-info/SOURCES.txt'\n",
            "reading manifest template 'MANIFEST.in'\n",
            "no previously-included directories found matching 'build'\n",
            "warning: no files found matching 'LICENSE'\n",
            "warning: no files found matching '*.txt'\n",
            "warning: no files found matching '*.so' under directory 'lightgbm'\n",
            "warning: no files found matching 'compile/CMakeLists.txt'\n",
            "warning: no files found matching 'compile/cmake/IntegratedOpenCL.cmake'\n",
            "warning: no files found matching '*.so' under directory 'compile'\n",
            "warning: no files found matching '*.dll' under directory 'compile/Release'\n",
            "warning: no files found matching 'compile/external_libs/compute/CMakeLists.txt'\n",
            "warning: no files found matching '*' under directory 'compile/external_libs/compute/cmake'\n",
            "warning: no files found matching '*' under directory 'compile/external_libs/compute/include'\n",
            "warning: no files found matching '*' under directory 'compile/external_libs/compute/meta'\n",
            "warning: no files found matching 'compile/external_libs/eigen/CMakeLists.txt'\n",
            "warning: no files found matching 'compile/external_libs/eigen/Eigen/Cholesky'\n",
            "warning: no files found matching 'compile/external_libs/eigen/Eigen/Core'\n",
            "warning: no files found matching 'compile/external_libs/eigen/Eigen/Dense'\n",
            "warning: no files found matching 'compile/external_libs/eigen/Eigen/Eigenvalues'\n",
            "warning: no files found matching 'compile/external_libs/eigen/Eigen/Geometry'\n",
            "warning: no files found matching 'compile/external_libs/eigen/Eigen/Householder'\n",
            "warning: no files found matching 'compile/external_libs/eigen/Eigen/Jacobi'\n",
            "warning: no files found matching 'compile/external_libs/eigen/Eigen/LU'\n",
            "warning: no files found matching 'compile/external_libs/eigen/Eigen/QR'\n",
            "warning: no files found matching 'compile/external_libs/eigen/Eigen/SVD'\n",
            "warning: no files found matching '*' under directory 'compile/external_libs/eigen/Eigen/src/Cholesky'\n",
            "warning: no files found matching '*' under directory 'compile/external_libs/eigen/Eigen/src/Core'\n",
            "warning: no files found matching '*' under directory 'compile/external_libs/eigen/Eigen/src/Eigenvalues'\n",
            "warning: no files found matching '*' under directory 'compile/external_libs/eigen/Eigen/src/Geometry'\n",
            "warning: no files found matching '*' under directory 'compile/external_libs/eigen/Eigen/src/Householder'\n",
            "warning: no files found matching '*' under directory 'compile/external_libs/eigen/Eigen/src/Jacobi'\n",
            "warning: no files found matching '*' under directory 'compile/external_libs/eigen/Eigen/src/LU'\n",
            "warning: no files found matching '*' under directory 'compile/external_libs/eigen/Eigen/src/misc'\n",
            "warning: no files found matching '*' under directory 'compile/external_libs/eigen/Eigen/src/plugins'\n",
            "warning: no files found matching '*' under directory 'compile/external_libs/eigen/Eigen/src/QR'\n",
            "warning: no files found matching '*' under directory 'compile/external_libs/eigen/Eigen/src/SVD'\n",
            "warning: no files found matching 'compile/external_libs/fast_double_parser/CMakeLists.txt'\n",
            "warning: no files found matching 'compile/external_libs/fast_double_parser/LICENSE'\n",
            "warning: no files found matching 'compile/external_libs/fast_double_parser/LICENSE.BSL'\n",
            "warning: no files found matching '*' under directory 'compile/external_libs/fast_double_parser/include'\n",
            "warning: no files found matching 'compile/external_libs/fmt/CMakeLists.txt'\n",
            "warning: no files found matching 'compile/external_libs/fmt/LICENSE.rst'\n",
            "warning: no files found matching '*' under directory 'compile/external_libs/fmt/include'\n",
            "warning: no files found matching '*' under directory 'compile/include'\n",
            "warning: no files found matching '*' under directory 'compile/src'\n",
            "warning: no files found matching 'LightGBM.sln' under directory 'compile/windows'\n",
            "warning: no files found matching 'LightGBM.vcxproj' under directory 'compile/windows'\n",
            "warning: no files found matching '*.dll' under directory 'compile/windows/x64/DLL'\n",
            "warning: no previously-included files matching '*.py[co]' found anywhere in distribution\n",
            "warning: no previously-included files found matching 'compile/external_libs/compute/.git'\n",
            "writing manifest file 'lightgbm.egg-info/SOURCES.txt'\n",
            "copying lightgbm/VERSION.txt -> build/lib/lightgbm\n",
            "running install_lib\n",
            "copying build/lib/lightgbm/callback.py -> /usr/local/lib/python3.7/dist-packages/lightgbm\n",
            "copying build/lib/lightgbm/plotting.py -> /usr/local/lib/python3.7/dist-packages/lightgbm\n",
            "copying build/lib/lightgbm/__init__.py -> /usr/local/lib/python3.7/dist-packages/lightgbm\n",
            "copying build/lib/lightgbm/dask.py -> /usr/local/lib/python3.7/dist-packages/lightgbm\n",
            "copying build/lib/lightgbm/basic.py -> /usr/local/lib/python3.7/dist-packages/lightgbm\n",
            "copying build/lib/lightgbm/libpath.py -> /usr/local/lib/python3.7/dist-packages/lightgbm\n",
            "copying build/lib/lightgbm/VERSION.txt -> /usr/local/lib/python3.7/dist-packages/lightgbm\n",
            "copying build/lib/lightgbm/compat.py -> /usr/local/lib/python3.7/dist-packages/lightgbm\n",
            "copying build/lib/lightgbm/sklearn.py -> /usr/local/lib/python3.7/dist-packages/lightgbm\n",
            "copying build/lib/lightgbm/engine.py -> /usr/local/lib/python3.7/dist-packages/lightgbm\n",
            "INFO:LightGBM:Installing lib_lightgbm from: ['../lib_lightgbm.so']\n",
            "copying ../lib_lightgbm.so -> /usr/local/lib/python3.7/dist-packages/lightgbm\n",
            "byte-compiling /usr/local/lib/python3.7/dist-packages/lightgbm/callback.py to callback.cpython-37.pyc\n",
            "byte-compiling /usr/local/lib/python3.7/dist-packages/lightgbm/plotting.py to plotting.cpython-37.pyc\n",
            "byte-compiling /usr/local/lib/python3.7/dist-packages/lightgbm/__init__.py to __init__.cpython-37.pyc\n",
            "byte-compiling /usr/local/lib/python3.7/dist-packages/lightgbm/dask.py to dask.cpython-37.pyc\n",
            "byte-compiling /usr/local/lib/python3.7/dist-packages/lightgbm/basic.py to basic.cpython-37.pyc\n",
            "byte-compiling /usr/local/lib/python3.7/dist-packages/lightgbm/libpath.py to libpath.cpython-37.pyc\n",
            "byte-compiling /usr/local/lib/python3.7/dist-packages/lightgbm/compat.py to compat.cpython-37.pyc\n",
            "byte-compiling /usr/local/lib/python3.7/dist-packages/lightgbm/sklearn.py to sklearn.cpython-37.pyc\n",
            "byte-compiling /usr/local/lib/python3.7/dist-packages/lightgbm/engine.py to engine.cpython-37.pyc\n",
            "running install_egg_info\n",
            "Copying lightgbm.egg-info to /usr/local/lib/python3.7/dist-packages/lightgbm-3.2.1.99-py3.7.egg-info\n",
            "running install_scripts\n",
            "\u001b[K     |████████████████████████████████| 307kB 12.9MB/s \n",
            "\u001b[K     |████████████████████████████████| 81kB 9.0MB/s \n",
            "\u001b[K     |████████████████████████████████| 174kB 25.7MB/s \n",
            "\u001b[K     |████████████████████████████████| 143kB 29.4MB/s \n",
            "\u001b[K     |████████████████████████████████| 112kB 22.4MB/s \n",
            "\u001b[K     |████████████████████████████████| 51kB 6.5MB/s \n",
            "\u001b[K     |████████████████████████████████| 81kB 9.0MB/s \n",
            "\u001b[?25h  Building wheel for pyperclip (setup.py) ... \u001b[?25l\u001b[?25hdone\n"
          ],
          "name": "stdout"
        },
        {
          "output_type": "stream",
          "text": [
            "/usr/local/lib/python3.7/dist-packages/sklearn/externals/joblib/__init__.py:15: FutureWarning:\n",
            "\n",
            "sklearn.externals.joblib is deprecated in 0.21 and will be removed in 0.23. Please import this functionality directly from joblib, which can be installed with: pip install joblib. If this warning is raised when loading pickled models, you may need to re-serialize those models with scikit-learn 0.21+.\n",
            "\n"
          ],
          "name": "stderr"
        },
        {
          "output_type": "stream",
          "text": [
            "Selecting previously unselected package fonts-nanum.\n",
            "(Reading database ... 160772 files and directories currently installed.)\n",
            "Preparing to unpack .../fonts-nanum_20170925-1_all.deb ...\n",
            "Unpacking fonts-nanum (20170925-1) ...\n",
            "Selecting previously unselected package fonts-nanum-eco.\n",
            "Preparing to unpack .../fonts-nanum-eco_1.000-6_all.deb ...\n",
            "Unpacking fonts-nanum-eco (1.000-6) ...\n",
            "Selecting previously unselected package fonts-nanum-extra.\n",
            "Preparing to unpack .../fonts-nanum-extra_20170925-1_all.deb ...\n",
            "Unpacking fonts-nanum-extra (20170925-1) ...\n",
            "Selecting previously unselected package fonts-nanum-coding.\n",
            "Preparing to unpack .../fonts-nanum-coding_2.5-1_all.deb ...\n",
            "Unpacking fonts-nanum-coding (2.5-1) ...\n",
            "Setting up fonts-nanum-extra (20170925-1) ...\n",
            "Setting up fonts-nanum (20170925-1) ...\n",
            "Setting up fonts-nanum-coding (2.5-1) ...\n",
            "Setting up fonts-nanum-eco (1.000-6) ...\n",
            "Processing triggers for fontconfig (2.12.6-0ubuntu2) ...\n",
            "NanumGothic Eco\n"
          ],
          "name": "stdout"
        }
      ]
    },
    {
      "cell_type": "code",
      "metadata": {
        "id": "va3JyIr-829r"
      },
      "source": [
        "PATH = '/content/drive/MyDrive/input/dataminingTP/'\n",
        "train_df = pd.read_csv(PATH + 'train_df_regex.csv')\n",
        "all_df = pd.read_csv(PATH + 'all_df.csv')\n",
        "all_df = all_df.drop('apt', axis=1)"
      ],
      "execution_count": 156,
      "outputs": []
    },
    {
      "cell_type": "code",
      "metadata": {
        "colab": {
          "base_uri": "https://localhost:8080/",
          "height": 204
        },
        "id": "SehiDrzN8IVh",
        "outputId": "ff2301a4-fdb7-4083-a59d-2edd49742f4d"
      },
      "source": [
        "all_df.head()"
      ],
      "execution_count": 157,
      "outputs": [
        {
          "output_type": "execute_result",
          "data": {
            "text/html": [
              "<div>\n",
              "<style scoped>\n",
              "    .dataframe tbody tr th:only-of-type {\n",
              "        vertical-align: middle;\n",
              "    }\n",
              "\n",
              "    .dataframe tbody tr th {\n",
              "        vertical-align: top;\n",
              "    }\n",
              "\n",
              "    .dataframe thead th {\n",
              "        text-align: right;\n",
              "    }\n",
              "</style>\n",
              "<table border=\"1\" class=\"dataframe\">\n",
              "  <thead>\n",
              "    <tr style=\"text-align: right;\">\n",
              "      <th></th>\n",
              "      <th>dong</th>\n",
              "      <th>year_of_completion</th>\n",
              "      <th>transaction_year_month</th>\n",
              "      <th>floor</th>\n",
              "      <th>top10</th>\n",
              "      <th>log_price</th>\n",
              "      <th>log_area</th>\n",
              "      <th>city_부산광역시</th>\n",
              "      <th>city_서울특별시</th>\n",
              "    </tr>\n",
              "  </thead>\n",
              "  <tbody>\n",
              "    <tr>\n",
              "      <th>0</th>\n",
              "      <td>138</td>\n",
              "      <td>41</td>\n",
              "      <td>0</td>\n",
              "      <td>6</td>\n",
              "      <td>0</td>\n",
              "      <td>10.532123</td>\n",
              "      <td>4.452252</td>\n",
              "      <td>0</td>\n",
              "      <td>1</td>\n",
              "    </tr>\n",
              "    <tr>\n",
              "      <th>1</th>\n",
              "      <td>65</td>\n",
              "      <td>12</td>\n",
              "      <td>0</td>\n",
              "      <td>10</td>\n",
              "      <td>0</td>\n",
              "      <td>9.903538</td>\n",
              "      <td>4.606869</td>\n",
              "      <td>0</td>\n",
              "      <td>1</td>\n",
              "    </tr>\n",
              "    <tr>\n",
              "      <th>2</th>\n",
              "      <td>65</td>\n",
              "      <td>46</td>\n",
              "      <td>0</td>\n",
              "      <td>10</td>\n",
              "      <td>0</td>\n",
              "      <td>10.558439</td>\n",
              "      <td>4.451319</td>\n",
              "      <td>0</td>\n",
              "      <td>1</td>\n",
              "    </tr>\n",
              "    <tr>\n",
              "      <th>3</th>\n",
              "      <td>13</td>\n",
              "      <td>42</td>\n",
              "      <td>0</td>\n",
              "      <td>19</td>\n",
              "      <td>0</td>\n",
              "      <td>11.678448</td>\n",
              "      <td>4.993082</td>\n",
              "      <td>0</td>\n",
              "      <td>1</td>\n",
              "    </tr>\n",
              "    <tr>\n",
              "      <th>4</th>\n",
              "      <td>13</td>\n",
              "      <td>43</td>\n",
              "      <td>0</td>\n",
              "      <td>7</td>\n",
              "      <td>0</td>\n",
              "      <td>11.695255</td>\n",
              "      <td>5.275202</td>\n",
              "      <td>0</td>\n",
              "      <td>1</td>\n",
              "    </tr>\n",
              "  </tbody>\n",
              "</table>\n",
              "</div>"
            ],
            "text/plain": [
              "   dong  year_of_completion  ...  city_부산광역시  city_서울특별시\n",
              "0   138                  41  ...           0           1\n",
              "1    65                  12  ...           0           1\n",
              "2    65                  46  ...           0           1\n",
              "3    13                  42  ...           0           1\n",
              "4    13                  43  ...           0           1\n",
              "\n",
              "[5 rows x 9 columns]"
            ]
          },
          "metadata": {
            "tags": []
          },
          "execution_count": 157
        }
      ]
    },
    {
      "cell_type": "code",
      "metadata": {
        "colab": {
          "base_uri": "https://localhost:8080/"
        },
        "id": "yO6fdjlQ4LUg",
        "outputId": "c089b0cb-bcb1-4ef4-81ba-93c57a59ce65"
      },
      "source": [
        "all_df.info()"
      ],
      "execution_count": 164,
      "outputs": [
        {
          "output_type": "stream",
          "text": [
            "<class 'pandas.core.frame.DataFrame'>\n",
            "RangeIndex: 1222016 entries, 0 to 1222015\n",
            "Data columns (total 9 columns):\n",
            " #   Column                  Non-Null Count    Dtype  \n",
            "---  ------                  --------------    -----  \n",
            " 0   dong                    1222016 non-null  int64  \n",
            " 1   year_of_completion      1222016 non-null  int64  \n",
            " 2   transaction_year_month  1222016 non-null  int64  \n",
            " 3   floor                   1222016 non-null  int64  \n",
            " 4   top10                   1222016 non-null  int64  \n",
            " 5   log_price               1216553 non-null  float64\n",
            " 6   log_area                1222016 non-null  float64\n",
            " 7   city_부산광역시              1222016 non-null  int64  \n",
            " 8   city_서울특별시              1222016 non-null  int64  \n",
            "dtypes: float64(2), int64(7)\n",
            "memory usage: 83.9 MB\n"
          ],
          "name": "stdout"
        }
      ]
    },
    {
      "cell_type": "code",
      "metadata": {
        "colab": {
          "base_uri": "https://localhost:8080/",
          "height": 289
        },
        "id": "vhtIsoCYLQjP",
        "outputId": "15e4fbab-c2cb-498d-ccf7-7b7aa05b6fb4"
      },
      "source": [
        "all_df.describe()"
      ],
      "execution_count": null,
      "outputs": [
        {
          "output_type": "execute_result",
          "data": {
            "text/html": [
              "<div>\n",
              "<style scoped>\n",
              "    .dataframe tbody tr th:only-of-type {\n",
              "        vertical-align: middle;\n",
              "    }\n",
              "\n",
              "    .dataframe tbody tr th {\n",
              "        vertical-align: top;\n",
              "    }\n",
              "\n",
              "    .dataframe thead th {\n",
              "        text-align: right;\n",
              "    }\n",
              "</style>\n",
              "<table border=\"1\" class=\"dataframe\">\n",
              "  <thead>\n",
              "    <tr style=\"text-align: right;\">\n",
              "      <th></th>\n",
              "      <th>dong</th>\n",
              "      <th>apt</th>\n",
              "      <th>year_of_completion</th>\n",
              "      <th>transaction_year_month</th>\n",
              "      <th>floor</th>\n",
              "      <th>top10</th>\n",
              "      <th>log_price</th>\n",
              "      <th>log_area</th>\n",
              "      <th>city_부산광역시</th>\n",
              "      <th>city_서울특별시</th>\n",
              "    </tr>\n",
              "  </thead>\n",
              "  <tbody>\n",
              "    <tr>\n",
              "      <th>count</th>\n",
              "      <td>1.222016e+06</td>\n",
              "      <td>1.222016e+06</td>\n",
              "      <td>1.222016e+06</td>\n",
              "      <td>1.222016e+06</td>\n",
              "      <td>1.222016e+06</td>\n",
              "      <td>1.222016e+06</td>\n",
              "      <td>1.216553e+06</td>\n",
              "      <td>1.222016e+06</td>\n",
              "      <td>1.222016e+06</td>\n",
              "      <td>1.222016e+06</td>\n",
              "    </tr>\n",
              "    <tr>\n",
              "      <th>mean</th>\n",
              "      <td>2.407773e+02</td>\n",
              "      <td>2.036411e+01</td>\n",
              "      <td>3.730611e+01</td>\n",
              "      <td>6.461461e+01</td>\n",
              "      <td>1.333848e+01</td>\n",
              "      <td>1.234329e-01</td>\n",
              "      <td>1.030509e+01</td>\n",
              "      <td>4.306129e+00</td>\n",
              "      <td>3.893730e-01</td>\n",
              "      <td>6.106270e-01</td>\n",
              "    </tr>\n",
              "    <tr>\n",
              "      <th>std</th>\n",
              "      <td>1.267679e+02</td>\n",
              "      <td>6.551806e+00</td>\n",
              "      <td>8.947398e+00</td>\n",
              "      <td>3.519266e+01</td>\n",
              "      <td>6.604638e+00</td>\n",
              "      <td>3.289336e-01</td>\n",
              "      <td>7.054740e-01</td>\n",
              "      <td>3.688630e-01</td>\n",
              "      <td>4.876083e-01</td>\n",
              "      <td>4.876083e-01</td>\n",
              "    </tr>\n",
              "    <tr>\n",
              "      <th>min</th>\n",
              "      <td>0.000000e+00</td>\n",
              "      <td>0.000000e+00</td>\n",
              "      <td>0.000000e+00</td>\n",
              "      <td>0.000000e+00</td>\n",
              "      <td>0.000000e+00</td>\n",
              "      <td>0.000000e+00</td>\n",
              "      <td>4.615121e+00</td>\n",
              "      <td>2.328253e+00</td>\n",
              "      <td>0.000000e+00</td>\n",
              "      <td>0.000000e+00</td>\n",
              "    </tr>\n",
              "    <tr>\n",
              "      <th>25%</th>\n",
              "      <td>1.300000e+02</td>\n",
              "      <td>1.700000e+01</td>\n",
              "      <td>3.200000e+01</td>\n",
              "      <td>3.300000e+01</td>\n",
              "      <td>8.000000e+00</td>\n",
              "      <td>0.000000e+00</td>\n",
              "      <td>9.852247e+00</td>\n",
              "      <td>4.106932e+00</td>\n",
              "      <td>0.000000e+00</td>\n",
              "      <td>0.000000e+00</td>\n",
              "    </tr>\n",
              "    <tr>\n",
              "      <th>50%</th>\n",
              "      <td>2.580000e+02</td>\n",
              "      <td>2.300000e+01</td>\n",
              "      <td>3.800000e+01</td>\n",
              "      <td>7.200000e+01</td>\n",
              "      <td>1.200000e+01</td>\n",
              "      <td>0.000000e+00</td>\n",
              "      <td>1.033854e+01</td>\n",
              "      <td>4.423648e+00</td>\n",
              "      <td>0.000000e+00</td>\n",
              "      <td>1.000000e+00</td>\n",
              "    </tr>\n",
              "    <tr>\n",
              "      <th>75%</th>\n",
              "      <td>3.380000e+02</td>\n",
              "      <td>2.300000e+01</td>\n",
              "      <td>4.400000e+01</td>\n",
              "      <td>9.400000e+01</td>\n",
              "      <td>1.700000e+01</td>\n",
              "      <td>0.000000e+00</td>\n",
              "      <td>1.075792e+01</td>\n",
              "      <td>4.453998e+00</td>\n",
              "      <td>1.000000e+00</td>\n",
              "      <td>1.000000e+00</td>\n",
              "    </tr>\n",
              "    <tr>\n",
              "      <th>max</th>\n",
              "      <td>4.760000e+02</td>\n",
              "      <td>3.400000e+01</td>\n",
              "      <td>5.600000e+01</td>\n",
              "      <td>1.190000e+02</td>\n",
              "      <td>8.400000e+01</td>\n",
              "      <td>1.000000e+00</td>\n",
              "      <td>1.361706e+01</td>\n",
              "      <td>6.052842e+00</td>\n",
              "      <td>1.000000e+00</td>\n",
              "      <td>1.000000e+00</td>\n",
              "    </tr>\n",
              "  </tbody>\n",
              "</table>\n",
              "</div>"
            ],
            "text/plain": [
              "               dong           apt  ...    city_부산광역시    city_서울특별시\n",
              "count  1.222016e+06  1.222016e+06  ...  1.222016e+06  1.222016e+06\n",
              "mean   2.407773e+02  2.036411e+01  ...  3.893730e-01  6.106270e-01\n",
              "std    1.267679e+02  6.551806e+00  ...  4.876083e-01  4.876083e-01\n",
              "min    0.000000e+00  0.000000e+00  ...  0.000000e+00  0.000000e+00\n",
              "25%    1.300000e+02  1.700000e+01  ...  0.000000e+00  0.000000e+00\n",
              "50%    2.580000e+02  2.300000e+01  ...  0.000000e+00  1.000000e+00\n",
              "75%    3.380000e+02  2.300000e+01  ...  1.000000e+00  1.000000e+00\n",
              "max    4.760000e+02  3.400000e+01  ...  1.000000e+00  1.000000e+00\n",
              "\n",
              "[8 rows x 10 columns]"
            ]
          },
          "metadata": {
            "tags": []
          },
          "execution_count": 7
        }
      ]
    },
    {
      "cell_type": "code",
      "metadata": {
        "colab": {
          "base_uri": "https://localhost:8080/"
        },
        "id": "vlBocCnAvuKG",
        "outputId": "e3efa26a-f824-49f8-d937-68813fa9da7c"
      },
      "source": [
        "train_df = all_df[:train_df.shape[0]]\n",
        "train_y = train_df['log_price']\n",
        "train_X = train_df.drop('log_price', axis=1)\n",
        "test_df = all_df[train_df.shape[0]:].drop('log_price', axis=1)\n",
        "print(train_df.shape, test_df.shape, train_X.shape, train_y.shape)"
      ],
      "execution_count": 158,
      "outputs": [
        {
          "output_type": "stream",
          "text": [
            "(1216553, 9) (5463, 8) (1216553, 8) (1216553,)\n"
          ],
          "name": "stdout"
        }
      ]
    },
    {
      "cell_type": "code",
      "metadata": {
        "colab": {
          "base_uri": "https://localhost:8080/",
          "height": 80
        },
        "id": "Etde4YVznAuO",
        "outputId": "3fd15702-27c0-47bd-f9fa-1fdb827e1758"
      },
      "source": [
        "train_X.head(1)"
      ],
      "execution_count": 5,
      "outputs": [
        {
          "output_type": "execute_result",
          "data": {
            "text/html": [
              "<div>\n",
              "<style scoped>\n",
              "    .dataframe tbody tr th:only-of-type {\n",
              "        vertical-align: middle;\n",
              "    }\n",
              "\n",
              "    .dataframe tbody tr th {\n",
              "        vertical-align: top;\n",
              "    }\n",
              "\n",
              "    .dataframe thead th {\n",
              "        text-align: right;\n",
              "    }\n",
              "</style>\n",
              "<table border=\"1\" class=\"dataframe\">\n",
              "  <thead>\n",
              "    <tr style=\"text-align: right;\">\n",
              "      <th></th>\n",
              "      <th>dong</th>\n",
              "      <th>year_of_completion</th>\n",
              "      <th>transaction_year_month</th>\n",
              "      <th>floor</th>\n",
              "      <th>top10</th>\n",
              "      <th>log_area</th>\n",
              "      <th>city_부산광역시</th>\n",
              "      <th>city_서울특별시</th>\n",
              "    </tr>\n",
              "  </thead>\n",
              "  <tbody>\n",
              "    <tr>\n",
              "      <th>0</th>\n",
              "      <td>138</td>\n",
              "      <td>41</td>\n",
              "      <td>0</td>\n",
              "      <td>6</td>\n",
              "      <td>0</td>\n",
              "      <td>4.452252</td>\n",
              "      <td>0</td>\n",
              "      <td>1</td>\n",
              "    </tr>\n",
              "  </tbody>\n",
              "</table>\n",
              "</div>"
            ],
            "text/plain": [
              "   dong  year_of_completion  ...  city_부산광역시  city_서울특별시\n",
              "0   138                  41  ...           0           1\n",
              "\n",
              "[1 rows x 8 columns]"
            ]
          },
          "metadata": {
            "tags": []
          },
          "execution_count": 5
        }
      ]
    },
    {
      "cell_type": "code",
      "metadata": {
        "colab": {
          "base_uri": "https://localhost:8080/"
        },
        "id": "6VMsZ61SnJjx",
        "outputId": "bb40b07c-d0f3-41ab-bddd-7bc8b5f5c71b"
      },
      "source": [
        "train_y.head(1)"
      ],
      "execution_count": 6,
      "outputs": [
        {
          "output_type": "execute_result",
          "data": {
            "text/plain": [
              "0    10.532123\n",
              "Name: log_price, dtype: float64"
            ]
          },
          "metadata": {
            "tags": []
          },
          "execution_count": 6
        }
      ]
    },
    {
      "cell_type": "code",
      "metadata": {
        "colab": {
          "base_uri": "https://localhost:8080/",
          "height": 80
        },
        "id": "yFIg3tJKnMn5",
        "outputId": "4a55bbf4-c6cb-4129-cd61-4ec5bbb47572"
      },
      "source": [
        "train_df.head(1)"
      ],
      "execution_count": 159,
      "outputs": [
        {
          "output_type": "execute_result",
          "data": {
            "text/html": [
              "<div>\n",
              "<style scoped>\n",
              "    .dataframe tbody tr th:only-of-type {\n",
              "        vertical-align: middle;\n",
              "    }\n",
              "\n",
              "    .dataframe tbody tr th {\n",
              "        vertical-align: top;\n",
              "    }\n",
              "\n",
              "    .dataframe thead th {\n",
              "        text-align: right;\n",
              "    }\n",
              "</style>\n",
              "<table border=\"1\" class=\"dataframe\">\n",
              "  <thead>\n",
              "    <tr style=\"text-align: right;\">\n",
              "      <th></th>\n",
              "      <th>dong</th>\n",
              "      <th>year_of_completion</th>\n",
              "      <th>transaction_year_month</th>\n",
              "      <th>floor</th>\n",
              "      <th>top10</th>\n",
              "      <th>log_price</th>\n",
              "      <th>log_area</th>\n",
              "      <th>city_부산광역시</th>\n",
              "      <th>city_서울특별시</th>\n",
              "    </tr>\n",
              "  </thead>\n",
              "  <tbody>\n",
              "    <tr>\n",
              "      <th>0</th>\n",
              "      <td>138</td>\n",
              "      <td>41</td>\n",
              "      <td>0</td>\n",
              "      <td>6</td>\n",
              "      <td>0</td>\n",
              "      <td>10.532123</td>\n",
              "      <td>4.452252</td>\n",
              "      <td>0</td>\n",
              "      <td>1</td>\n",
              "    </tr>\n",
              "  </tbody>\n",
              "</table>\n",
              "</div>"
            ],
            "text/plain": [
              "   dong  year_of_completion  ...  city_부산광역시  city_서울특별시\n",
              "0   138                  41  ...           0           1\n",
              "\n",
              "[1 rows x 9 columns]"
            ]
          },
          "metadata": {
            "tags": []
          },
          "execution_count": 159
        }
      ]
    },
    {
      "cell_type": "code",
      "metadata": {
        "colab": {
          "base_uri": "https://localhost:8080/",
          "height": 80
        },
        "id": "ce4BzkLgnOjk",
        "outputId": "31acbf94-a612-4ab3-e65c-324bcf85cf1b"
      },
      "source": [
        "test_df.head(1)"
      ],
      "execution_count": 160,
      "outputs": [
        {
          "output_type": "execute_result",
          "data": {
            "text/html": [
              "<div>\n",
              "<style scoped>\n",
              "    .dataframe tbody tr th:only-of-type {\n",
              "        vertical-align: middle;\n",
              "    }\n",
              "\n",
              "    .dataframe tbody tr th {\n",
              "        vertical-align: top;\n",
              "    }\n",
              "\n",
              "    .dataframe thead th {\n",
              "        text-align: right;\n",
              "    }\n",
              "</style>\n",
              "<table border=\"1\" class=\"dataframe\">\n",
              "  <thead>\n",
              "    <tr style=\"text-align: right;\">\n",
              "      <th></th>\n",
              "      <th>dong</th>\n",
              "      <th>year_of_completion</th>\n",
              "      <th>transaction_year_month</th>\n",
              "      <th>floor</th>\n",
              "      <th>top10</th>\n",
              "      <th>log_area</th>\n",
              "      <th>city_부산광역시</th>\n",
              "      <th>city_서울특별시</th>\n",
              "    </tr>\n",
              "  </thead>\n",
              "  <tbody>\n",
              "    <tr>\n",
              "      <th>1216553</th>\n",
              "      <td>51</td>\n",
              "      <td>41</td>\n",
              "      <td>118</td>\n",
              "      <td>6</td>\n",
              "      <td>0</td>\n",
              "      <td>3.598681</td>\n",
              "      <td>0</td>\n",
              "      <td>1</td>\n",
              "    </tr>\n",
              "  </tbody>\n",
              "</table>\n",
              "</div>"
            ],
            "text/plain": [
              "         dong  year_of_completion  ...  city_부산광역시  city_서울특별시\n",
              "1216553    51                  41  ...           0           1\n",
              "\n",
              "[1 rows x 8 columns]"
            ]
          },
          "metadata": {
            "tags": []
          },
          "execution_count": 160
        }
      ]
    },
    {
      "cell_type": "markdown",
      "metadata": {
        "id": "Jnko_Hx30Bqm"
      },
      "source": [
        "\n",
        "## Modeling"
      ]
    },
    {
      "cell_type": "markdown",
      "metadata": {
        "id": "_AtMPso6-EhM"
      },
      "source": [
        "### Linear Regression"
      ]
    },
    {
      "cell_type": "code",
      "metadata": {
        "colab": {
          "base_uri": "https://localhost:8080/"
        },
        "id": "BjHHIyWBymgd",
        "outputId": "d233d548-9863-4a24-fe78-c6762230acc9"
      },
      "source": [
        "reg = LinearRegression().fit(train_X, train_y)\n",
        "reg.score(train_X, train_y) # R^2"
      ],
      "execution_count": 9,
      "outputs": [
        {
          "output_type": "execute_result",
          "data": {
            "text/plain": [
              "0.84983133093988"
            ]
          },
          "metadata": {
            "tags": []
          },
          "execution_count": 9
        }
      ]
    },
    {
      "cell_type": "markdown",
      "metadata": {
        "id": "y_3_Myhh0Kad"
      },
      "source": [
        "- wo_apt: 0.8498313309398801\n",
        "- apt: 0.8498336379444464"
      ]
    },
    {
      "cell_type": "code",
      "metadata": {
        "colab": {
          "base_uri": "https://localhost:8080/",
          "height": 371
        },
        "id": "qy9eV3imtopU",
        "outputId": "e7d551dd-2d02-4673-8a39-94101be7dc57"
      },
      "source": [
        "sns.heatmap(train_df.corr(), annot=True, fmt='.2f', annot_kws={\"fontsize\":11})\n",
        "plt.show()"
      ],
      "execution_count": null,
      "outputs": [
        {
          "output_type": "display_data",
          "data": {
            "image/png": "[encoded data removed]",
            "text/plain": [
              "<Figure size 432x288 with 2 Axes>"
            ]
          },
          "metadata": {
            "tags": [],
            "needs_background": "light"
          }
        }
      ]
    },
    {
      "cell_type": "markdown",
      "metadata": {
        "id": "bqs_8Onq-HgH"
      },
      "source": [
        "### Set RMSE Score"
      ]
    },
    {
      "cell_type": "code",
      "metadata": {
        "id": "b1QCDF4M0A_K"
      },
      "source": [
        "def RMSE(y, y_pred):\n",
        "    rmse = mean_squared_error(y, y_pred) ** 0.5\n",
        "    return rmse\n",
        "\n",
        "def rmse_cv(model):\n",
        "    tscv = TimeSeriesSplit(n_splits=10)\n",
        "    rmse_list = []\n",
        "    for i, (train_index, test_index) in enumerate(tscv.split(train_X), start=1):\n",
        "        X_train, X_test = train_X.iloc[train_index], train_X.iloc[test_index]\n",
        "        y_train, y_test = train_y.iloc[train_index], train_y.iloc[test_index]\n",
        "        clf = model.fit(X_train, y_train)\n",
        "        pred = clf.predict(X_test)\n",
        "        rmse = RMSE(y_test, pred) \n",
        "        rmse_list.append(rmse)\n",
        "    return type(model).__name__, rmse_list\n",
        "\n",
        "def print_rmse_score(model):\n",
        "    model_name, score = rmse_cv(model)\n",
        "    for i, r in tqdm(enumerate(score, start=1), leave=True):\n",
        "        if i == 1:\n",
        "            print('\\n')\n",
        "            print(f'{i} FOLDS: {model_name} RMSLE: {r:.4f}')\n",
        "        else:\n",
        "            print(f'{i} FOLDS: {model_name} RMSLE: {r:.4f}')\n",
        "    print(f'\\n{model_name} mean RMSLE: {np.mean(score):.4f}')\n",
        "    print('='*40)"
      ],
      "execution_count": 10,
      "outputs": []
    },
    {
      "cell_type": "code",
      "metadata": {
        "id": "NFaDSJHXcJUm"
      },
      "source": [
        "ridge = Ridge(alpha=0.8, random_state=1)\n",
        "lasso = Lasso(alpha = 0.01, random_state=1)\n",
        "Enet = ElasticNet(alpha=0.03, l1_ratio=0.01, random_state=1)\n",
        "\n",
        "# DTree의 스코어가 가장 높았으므로 DTree 부터 시작\n",
        "DTree = DecisionTreeRegressor(max_depth=6, min_samples_split=10, min_samples_leaf=15, random_state=1)\n",
        "rf = RandomForestRegressor(n_estimators=500, criterion='mse', max_depth=9, min_samples_split=50,\n",
        "                           min_samples_leaf=5, random_state=1)\n",
        "model_xgb = xgb.XGBRegressor(colsample_bytree=0.4603, gamma=0.0468, learning_rate=0.05,\n",
        "                             max_depth=3, min_child_weight=1.7817, n_estimators=1000,\n",
        "                             reg_alpha=0.4640, reg_lambda=0.8571, subsample=0.5213,\n",
        "                             silent=1, random_state=1, nthread=-1)\n",
        "model_lgb = lgb.LGBMRegressor(objective='regression', num_leaves=5, learning_rate=0.05, \n",
        "                              n_estimators=720, max_bin=55, bagging_fraction=0.8,\n",
        "                              bagging_freq=5, feature_fraction=0.2319, feature_fraction_seed=9,\n",
        "                              bagging_seed=9, min_data_in_leaf=6, min_sum_hessian_in_leaf=11)"
      ],
      "execution_count": 11,
      "outputs": []
    },
    {
      "cell_type": "code",
      "metadata": {
        "colab": {
          "base_uri": "https://localhost:8080/"
        },
        "id": "x_OHU1WM1aAY",
        "outputId": "d3c6ad96-0560-4592-f9e3-d81501ab1fd9"
      },
      "source": [
        "score = []\n",
        "for model in [reg, ridge, lasso, Enet, DTree]:\n",
        "    print_rmse_score(model)"
      ],
      "execution_count": null,
      "outputs": [
        {
          "output_type": "stream",
          "text": [
            "10it [00:00, 2316.02it/s]\n"
          ],
          "name": "stderr"
        },
        {
          "output_type": "stream",
          "text": [
            "\n",
            "\n",
            "1 FOLDS: LinearRegression RMSE: 0.1970\n",
            "2 FOLDS: LinearRegression RMSE: 0.2509\n",
            "3 FOLDS: LinearRegression RMSE: 0.2142\n",
            "4 FOLDS: LinearRegression RMSE: 0.3582\n",
            "5 FOLDS: LinearRegression RMSE: 0.3423\n",
            "6 FOLDS: LinearRegression RMSE: 0.3490\n",
            "7 FOLDS: LinearRegression RMSE: 0.3382\n",
            "8 FOLDS: LinearRegression RMSE: 0.2909\n",
            "9 FOLDS: LinearRegression RMSE: 0.2620\n",
            "10 FOLDS: LinearRegression RMSE: 0.2850\n",
            "\n",
            "LinearRegression mean RMSE: 0.2888\n",
            "========================================\n"
          ],
          "name": "stdout"
        },
        {
          "output_type": "stream",
          "text": [
            "10it [00:00, 1848.93it/s]\n"
          ],
          "name": "stderr"
        },
        {
          "output_type": "stream",
          "text": [
            "\n",
            "\n",
            "1 FOLDS: Ridge RMSE: 0.1970\n",
            "2 FOLDS: Ridge RMSE: 0.2509\n",
            "3 FOLDS: Ridge RMSE: 0.2142\n",
            "4 FOLDS: Ridge RMSE: 0.3582\n",
            "5 FOLDS: Ridge RMSE: 0.3423\n",
            "6 FOLDS: Ridge RMSE: 0.3490\n",
            "7 FOLDS: Ridge RMSE: 0.3382\n",
            "8 FOLDS: Ridge RMSE: 0.2909\n",
            "9 FOLDS: Ridge RMSE: 0.2620\n",
            "10 FOLDS: Ridge RMSE: 0.2850\n",
            "\n",
            "Ridge mean RMSE: 0.2888\n",
            "========================================\n"
          ],
          "name": "stdout"
        },
        {
          "output_type": "stream",
          "text": [
            "10it [00:00, 918.05it/s]\n"
          ],
          "name": "stderr"
        },
        {
          "output_type": "stream",
          "text": [
            "\n",
            "\n",
            "1 FOLDS: Lasso RMSE: 0.1993\n",
            "2 FOLDS: Lasso RMSE: 0.2505\n",
            "3 FOLDS: Lasso RMSE: 0.2148\n",
            "4 FOLDS: Lasso RMSE: 0.3627\n",
            "5 FOLDS: Lasso RMSE: 0.3373\n",
            "6 FOLDS: Lasso RMSE: 0.4183\n",
            "7 FOLDS: Lasso RMSE: 0.3587\n",
            "8 FOLDS: Lasso RMSE: 0.3056\n",
            "9 FOLDS: Lasso RMSE: 0.2639\n",
            "10 FOLDS: Lasso RMSE: 0.2792\n",
            "\n",
            "Lasso mean RMSE: 0.2990\n",
            "========================================\n"
          ],
          "name": "stdout"
        },
        {
          "output_type": "stream",
          "text": [
            "10it [00:00, 1501.88it/s]\n"
          ],
          "name": "stderr"
        },
        {
          "output_type": "stream",
          "text": [
            "\n",
            "\n",
            "1 FOLDS: ElasticNet RMSE: 0.2063\n",
            "2 FOLDS: ElasticNet RMSE: 0.2532\n",
            "3 FOLDS: ElasticNet RMSE: 0.2177\n",
            "4 FOLDS: ElasticNet RMSE: 0.3678\n",
            "5 FOLDS: ElasticNet RMSE: 0.3343\n",
            "6 FOLDS: ElasticNet RMSE: 0.3701\n",
            "7 FOLDS: ElasticNet RMSE: 0.3572\n",
            "8 FOLDS: ElasticNet RMSE: 0.3053\n",
            "9 FOLDS: ElasticNet RMSE: 0.2678\n",
            "10 FOLDS: ElasticNet RMSE: 0.2805\n",
            "\n",
            "ElasticNet mean RMSE: 0.2960\n",
            "========================================\n"
          ],
          "name": "stdout"
        },
        {
          "output_type": "stream",
          "text": [
            "10it [00:00, 26083.98it/s]"
          ],
          "name": "stderr"
        },
        {
          "output_type": "stream",
          "text": [
            "\n",
            "\n",
            "1 FOLDS: DecisionTreeRegressor RMSE: 0.1892\n",
            "2 FOLDS: DecisionTreeRegressor RMSE: 0.2700\n",
            "3 FOLDS: DecisionTreeRegressor RMSE: 0.2172\n",
            "4 FOLDS: DecisionTreeRegressor RMSE: 0.3591\n",
            "5 FOLDS: DecisionTreeRegressor RMSE: 0.3873\n",
            "6 FOLDS: DecisionTreeRegressor RMSE: 0.3512\n",
            "7 FOLDS: DecisionTreeRegressor RMSE: 0.3719\n",
            "8 FOLDS: DecisionTreeRegressor RMSE: 0.3128\n",
            "9 FOLDS: DecisionTreeRegressor RMSE: 0.2985\n",
            "10 FOLDS: DecisionTreeRegressor RMSE: 0.3348\n",
            "\n",
            "DecisionTreeRegressor mean RMSE: 0.3092\n",
            "========================================\n"
          ],
          "name": "stdout"
        },
        {
          "output_type": "stream",
          "text": [
            "\n"
          ],
          "name": "stderr"
        }
      ]
    },
    {
      "cell_type": "code",
      "metadata": {
        "id": "BpcW6NXaKzSO"
      },
      "source": [
        "for model in [rf, model_xgb, model_lgb]:\n",
        "    print_rmse_score(model)"
      ],
      "execution_count": null,
      "outputs": []
    },
    {
      "cell_type": "code",
      "metadata": {
        "colab": {
          "base_uri": "https://localhost:8080/",
          "height": 297
        },
        "id": "XhBskjS8SfGR",
        "outputId": "d3ba7e4d-712c-449d-9390-4849ba909674"
      },
      "source": [
        "score = [0.2888, 0.2888, 0.2990, 0.2960, 0.3102, 0.2749, 0.2390, 0.2419]\n",
        "model = ['Linear Regression', 'Ridge', 'Lasso', \"ElasticNet\", 'DecisionTree','RandomForest', 'XGBoost', 'LightGBM']\n",
        "\n",
        "result_df = pd.DataFrame({'Model': model, 'Score': score}).sort_values(by='Score', ascending=True).reset_index(drop=True)\n",
        "result_df.head(8)\n"
      ],
      "execution_count": null,
      "outputs": [
        {
          "output_type": "execute_result",
          "data": {
            "text/html": [
              "<div>\n",
              "<style scoped>\n",
              "    .dataframe tbody tr th:only-of-type {\n",
              "        vertical-align: middle;\n",
              "    }\n",
              "\n",
              "    .dataframe tbody tr th {\n",
              "        vertical-align: top;\n",
              "    }\n",
              "\n",
              "    .dataframe thead th {\n",
              "        text-align: right;\n",
              "    }\n",
              "</style>\n",
              "<table border=\"1\" class=\"dataframe\">\n",
              "  <thead>\n",
              "    <tr style=\"text-align: right;\">\n",
              "      <th></th>\n",
              "      <th>Model</th>\n",
              "      <th>Score</th>\n",
              "    </tr>\n",
              "  </thead>\n",
              "  <tbody>\n",
              "    <tr>\n",
              "      <th>0</th>\n",
              "      <td>XGBoost</td>\n",
              "      <td>0.2300</td>\n",
              "    </tr>\n",
              "    <tr>\n",
              "      <th>1</th>\n",
              "      <td>LightGBM</td>\n",
              "      <td>0.2340</td>\n",
              "    </tr>\n",
              "    <tr>\n",
              "      <th>2</th>\n",
              "      <td>RandomForest</td>\n",
              "      <td>0.2749</td>\n",
              "    </tr>\n",
              "    <tr>\n",
              "      <th>3</th>\n",
              "      <td>Linear Regression</td>\n",
              "      <td>0.2871</td>\n",
              "    </tr>\n",
              "    <tr>\n",
              "      <th>4</th>\n",
              "      <td>Ridge</td>\n",
              "      <td>0.2871</td>\n",
              "    </tr>\n",
              "    <tr>\n",
              "      <th>5</th>\n",
              "      <td>ElasticNet</td>\n",
              "      <td>0.2941</td>\n",
              "    </tr>\n",
              "    <tr>\n",
              "      <th>6</th>\n",
              "      <td>Lasso</td>\n",
              "      <td>0.2977</td>\n",
              "    </tr>\n",
              "    <tr>\n",
              "      <th>7</th>\n",
              "      <td>DecisionTree</td>\n",
              "      <td>0.3100</td>\n",
              "    </tr>\n",
              "  </tbody>\n",
              "</table>\n",
              "</div>"
            ],
            "text/plain": [
              "               Model   Score\n",
              "0            XGBoost  0.2300\n",
              "1           LightGBM  0.2340\n",
              "2       RandomForest  0.2749\n",
              "3  Linear Regression  0.2871\n",
              "4              Ridge  0.2871\n",
              "5         ElasticNet  0.2941\n",
              "6              Lasso  0.2977\n",
              "7       DecisionTree  0.3100"
            ]
          },
          "metadata": {
            "tags": []
          },
          "execution_count": 12
        }
      ]
    },
    {
      "cell_type": "code",
      "metadata": {
        "id": "dyy3G0SD1JC6"
      },
      "source": [
        "- wo_apt: score = [0.2886, 0.2886, 0.2998, 0.2958, 0.3102, 0.2749, 0.2390, 0.2419]\n",
        "- apt: "
      ],
      "execution_count": null,
      "outputs": []
    },
    {
      "cell_type": "code",
      "metadata": {
        "colab": {
          "base_uri": "https://localhost:8080/",
          "height": 490
        },
        "id": "KCjf4sknda7P",
        "outputId": "c7c3d4b1-d57a-480a-aaa9-ec4bd2bf9884"
      },
      "source": [
        "f, ax = plt.subplots(figsize=(10, 6))\n",
        "plt.xticks(rotation='90')\n",
        "sns.barplot(x=result_df['Model'], y=result_df['Score'])\n",
        "plt.xlabel('Models', fontsize=15)\n",
        "plt.ylabel('Model Performance', fontsize=15)\n",
        "plt.ylim(0.22, 0.32)\n",
        "plt.title('RMSLE', fontsize=15)\n",
        "plt.show()"
      ],
      "execution_count": null,
      "outputs": [
        {
          "output_type": "display_data",
          "data": {
            "image/png": "[encoded data removed]",
            "text/plain": [
              "<Figure size 720x432 with 1 Axes>"
            ]
          },
          "metadata": {
            "tags": []
          }
        }
      ]
    },
    {
      "cell_type": "markdown",
      "metadata": {
        "id": "z47Xwazyz4Hv"
      },
      "source": [
        "- xgboost 하이퍼 파라미터 튜닝 진행"
      ]
    },
    {
      "cell_type": "markdown",
      "metadata": {
        "id": "Ln1OZScO0avm"
      },
      "source": [
        "### Hyperparameter Tuning"
      ]
    },
    {
      "cell_type": "code",
      "metadata": {
        "colab": {
          "base_uri": "https://localhost:8080/"
        },
        "id": "bjpjn-b-19G3",
        "outputId": "cea54506-8190-4da8-f15f-88b13ece2a05"
      },
      "source": [
        "cut = int(len(train_df)*0.8)\n",
        "h_train = train_df[:cut]\n",
        "h_valid = train_df[cut:]\n",
        "\n",
        "h_train_X = h_train.drop('log_price', axis=1)\n",
        "h_train_y = h_train['log_price']\n",
        "h_valid_X = h_valid.drop('log_price', axis=1)\n",
        "h_valid_y = h_valid['log_price']\n",
        "print(h_train_X.shape, h_train_y.shape, h_valid_X.shape, h_valid_y.shape)"
      ],
      "execution_count": 12,
      "outputs": [
        {
          "output_type": "stream",
          "text": [
            "(973242, 8) (973242,) (243311, 8) (243311,)\n"
          ],
          "name": "stdout"
        }
      ]
    },
    {
      "cell_type": "code",
      "metadata": {
        "colab": {
          "base_uri": "https://localhost:8080/",
          "height": 204
        },
        "id": "1iyD2ucAheDo",
        "outputId": "008f6dd8-ac0b-4d1e-dd57-82139dfa5a08"
      },
      "source": [
        "h_train_X.head()"
      ],
      "execution_count": 13,
      "outputs": [
        {
          "output_type": "execute_result",
          "data": {
            "text/html": [
              "<div>\n",
              "<style scoped>\n",
              "    .dataframe tbody tr th:only-of-type {\n",
              "        vertical-align: middle;\n",
              "    }\n",
              "\n",
              "    .dataframe tbody tr th {\n",
              "        vertical-align: top;\n",
              "    }\n",
              "\n",
              "    .dataframe thead th {\n",
              "        text-align: right;\n",
              "    }\n",
              "</style>\n",
              "<table border=\"1\" class=\"dataframe\">\n",
              "  <thead>\n",
              "    <tr style=\"text-align: right;\">\n",
              "      <th></th>\n",
              "      <th>dong</th>\n",
              "      <th>year_of_completion</th>\n",
              "      <th>transaction_year_month</th>\n",
              "      <th>floor</th>\n",
              "      <th>top10</th>\n",
              "      <th>log_area</th>\n",
              "      <th>city_부산광역시</th>\n",
              "      <th>city_서울특별시</th>\n",
              "    </tr>\n",
              "  </thead>\n",
              "  <tbody>\n",
              "    <tr>\n",
              "      <th>0</th>\n",
              "      <td>138</td>\n",
              "      <td>41</td>\n",
              "      <td>0</td>\n",
              "      <td>6</td>\n",
              "      <td>0</td>\n",
              "      <td>4.452252</td>\n",
              "      <td>0</td>\n",
              "      <td>1</td>\n",
              "    </tr>\n",
              "    <tr>\n",
              "      <th>1</th>\n",
              "      <td>65</td>\n",
              "      <td>12</td>\n",
              "      <td>0</td>\n",
              "      <td>10</td>\n",
              "      <td>0</td>\n",
              "      <td>4.606869</td>\n",
              "      <td>0</td>\n",
              "      <td>1</td>\n",
              "    </tr>\n",
              "    <tr>\n",
              "      <th>2</th>\n",
              "      <td>65</td>\n",
              "      <td>46</td>\n",
              "      <td>0</td>\n",
              "      <td>10</td>\n",
              "      <td>0</td>\n",
              "      <td>4.451319</td>\n",
              "      <td>0</td>\n",
              "      <td>1</td>\n",
              "    </tr>\n",
              "    <tr>\n",
              "      <th>3</th>\n",
              "      <td>13</td>\n",
              "      <td>42</td>\n",
              "      <td>0</td>\n",
              "      <td>19</td>\n",
              "      <td>0</td>\n",
              "      <td>4.993082</td>\n",
              "      <td>0</td>\n",
              "      <td>1</td>\n",
              "    </tr>\n",
              "    <tr>\n",
              "      <th>4</th>\n",
              "      <td>13</td>\n",
              "      <td>43</td>\n",
              "      <td>0</td>\n",
              "      <td>7</td>\n",
              "      <td>0</td>\n",
              "      <td>5.275202</td>\n",
              "      <td>0</td>\n",
              "      <td>1</td>\n",
              "    </tr>\n",
              "  </tbody>\n",
              "</table>\n",
              "</div>"
            ],
            "text/plain": [
              "   dong  year_of_completion  ...  city_부산광역시  city_서울특별시\n",
              "0   138                  41  ...           0           1\n",
              "1    65                  12  ...           0           1\n",
              "2    65                  46  ...           0           1\n",
              "3    13                  42  ...           0           1\n",
              "4    13                  43  ...           0           1\n",
              "\n",
              "[5 rows x 8 columns]"
            ]
          },
          "metadata": {
            "tags": []
          },
          "execution_count": 13
        }
      ]
    },
    {
      "cell_type": "markdown",
      "metadata": {
        "id": "DXHdIn-8muf7"
      },
      "source": [
        "#### XGBoost optuna"
      ]
    },
    {
      "cell_type": "code",
      "metadata": {
        "colab": {
          "base_uri": "https://localhost:8080/"
        },
        "id": "er7ibX98msMk",
        "outputId": "5e76430f-3828-442a-e255-680cc6c442f1"
      },
      "source": [
        "from optuna.samplers import TPESampler\n",
        "\n",
        "sampler = TPESampler(seed=10)\n",
        "n_repeats=3\n",
        "\n",
        "def objective(trial):\n",
        "    dtrain = xgb.DMatrix(h_train_X, label=h_train_y)\n",
        "    dtest = xgb.DMatrix(h_valid_X, label=h_valid_y)\n",
        "\n",
        "    param = {\n",
        "        'objective': 'reg:squarederror', # 회귀\n",
        "         'eval_metric': 'rmse',\n",
        "         \"xgb_gpu_hist\": 1,\n",
        "         'verbosity': 0,\n",
        "         'booster': 'gbtree', # gradient boosting decision tree\n",
        "         'lambda': trial.suggest_loguniform('lambda', 1e-8, 1),\n",
        "         'alpha': trial.suggest_loguniform('alpha', 1e-8, 1),\n",
        "         'max_depth': trial.suggest_int('max_depth',3, 9),\n",
        "         'learning_rate': 0.01,\n",
        "         \"eta\": trial.suggest_loguniform(\"eta\", 1e-8, 1.0),\n",
        "         \"gamma\": trial.suggest_loguniform(\"gamma\", 1e-8, 1.0),\n",
        "         'n_estimators': trial.suggest_int('n_estimators', 700, 1500),\n",
        "         'min_child_weight': trial.suggest_int('min_child_weight', 0, 10),\n",
        "         'subsample': trial.suggest_loguniform('subsample', 0.4, 1)\n",
        "    }\n",
        "\n",
        "    model = xgb.XGBRegressor(**param)\n",
        "    pruning_callback = XGBoostPruningCallback(trial, \"validation_0-rmse\")\n",
        "    xgb_2 = model.fit(h_train_X, h_train_y, eval_set=[(h_valid_X, h_valid_y)], verbose=0,\n",
        "                      eval_metric='rmse', callbacks=[pruning_callback])\n",
        "\n",
        "    rmse = RMSE(h_valid_y, xgb_2.predict(h_valid_X))\n",
        "    return rmse\n",
        "        \n",
        "study_xgb = optuna.create_study(direction='minimize', sampler=sampler)\n",
        "study_xgb.optimize(objective, n_trials=50)"
      ],
      "execution_count": 14,
      "outputs": [
        {
          "output_type": "stream",
          "text": [
            "\u001b[32m[I 2021-06-22 11:41:50,234]\u001b[0m A new study created in memory with name: no-name-ec80f1a8-cacf-4179-b2b8-5f62eea32fa7\u001b[0m\n",
            "/usr/local/lib/python3.7/dist-packages/xgboost/data.py:114: UserWarning:\n",
            "\n",
            "Use subset (sliced data) of np.ndarray is not recommended because it will generate extra copies and increase memory consumption\n",
            "\n",
            "\u001b[32m[I 2021-06-22 11:47:48,803]\u001b[0m Trial 0 finished with value: 0.20655606098580012 and parameters: {'lambda': 0.014810344004555135, 'alpha': 1.4656004675652718e-08, 'max_depth': 7, 'eta': 0.00978207662259244, 'gamma': 9.728728830009641e-05, 'n_estimators': 880, 'min_child_weight': 2, 'subsample': 0.8029815922829752}. Best is trial 0 with value: 0.20655606098580012.\u001b[0m\n",
            "/usr/local/lib/python3.7/dist-packages/xgboost/data.py:114: UserWarning:\n",
            "\n",
            "Use subset (sliced data) of np.ndarray is not recommended because it will generate extra copies and increase memory consumption\n",
            "\n",
            "\u001b[32m[I 2021-06-22 11:55:23,488]\u001b[0m Trial 1 finished with value: 0.20419357744162184 and parameters: {'lambda': 2.2536511574969237e-07, 'alpha': 5.090008568091192e-08, 'max_depth': 7, 'eta': 0.4237861601304585, 'gamma': 1.075439863800637e-08, 'n_estimators': 1110, 'min_child_weight': 8, 'subsample': 0.7011462565718398}. Best is trial 1 with value: 0.20419357744162184.\u001b[0m\n",
            "/usr/local/lib/python3.7/dist-packages/xgboost/data.py:114: UserWarning:\n",
            "\n",
            "Use subset (sliced data) of np.ndarray is not recommended because it will generate extra copies and increase memory consumption\n",
            "\n",
            "\u001b[32m[I 2021-06-22 12:02:39,031]\u001b[0m Trial 2 finished with value: 0.2022684541436199 and parameters: {'lambda': 0.005943503728075847, 'alpha': 2.1627610787257848e-06, 'max_depth': 9, 'eta': 0.005207224083783965, 'gamma': 0.00021895503882644017, 'n_estimators': 813, 'min_child_weight': 4, 'subsample': 0.7418647364337652}. Best is trial 2 with value: 0.2022684541436199.\u001b[0m\n",
            "/usr/local/lib/python3.7/dist-packages/xgboost/data.py:114: UserWarning:\n",
            "\n",
            "Use subset (sliced data) of np.ndarray is not recommended because it will generate extra copies and increase memory consumption\n",
            "\n",
            "\u001b[32m[I 2021-06-22 12:10:58,476]\u001b[0m Trial 3 finished with value: 0.20374562064767668 and parameters: {'lambda': 3.4250380089316126e-05, 'alpha': 2.965595722907858e-05, 'max_depth': 7, 'eta': 0.00012738137732610437, 'gamma': 0.0015965313667163816, 'n_estimators': 1181, 'min_child_weight': 8, 'subsample': 0.6451255817003931}. Best is trial 2 with value: 0.2022684541436199.\u001b[0m\n",
            "/usr/local/lib/python3.7/dist-packages/xgboost/data.py:114: UserWarning:\n",
            "\n",
            "Use subset (sliced data) of np.ndarray is not recommended because it will generate extra copies and increase memory consumption\n",
            "\n",
            "\u001b[32m[I 2021-06-22 12:15:07,921]\u001b[0m Trial 4 finished with value: 0.22739123730129862 and parameters: {'lambda': 0.18586218844499916, 'alpha': 3.5800468653895747e-06, 'max_depth': 3, 'eta': 2.544488269752405e-06, 'gamma': 8.163471763379958e-08, 'n_estimators': 1363, 'min_child_weight': 0, 'subsample': 0.7100430887666348}. Best is trial 2 with value: 0.2022684541436199.\u001b[0m\n",
            "\u001b[32m[I 2021-06-22 12:15:08,530]\u001b[0m Trial 5 pruned. Trial was pruned at iteration 0.\u001b[0m\n",
            "\u001b[32m[I 2021-06-22 12:15:09,191]\u001b[0m Trial 6 pruned. Trial was pruned at iteration 0.\u001b[0m\n",
            "\u001b[32m[I 2021-06-22 12:15:10,512]\u001b[0m Trial 7 pruned. Trial was pruned at iteration 1.\u001b[0m\n",
            "\u001b[32m[I 2021-06-22 12:15:11,083]\u001b[0m Trial 8 pruned. Trial was pruned at iteration 0.\u001b[0m\n",
            "\u001b[32m[I 2021-06-22 12:15:11,770]\u001b[0m Trial 9 pruned. Trial was pruned at iteration 0.\u001b[0m\n",
            "/usr/local/lib/python3.7/dist-packages/xgboost/data.py:114: UserWarning:\n",
            "\n",
            "Use subset (sliced data) of np.ndarray is not recommended because it will generate extra copies and increase memory consumption\n",
            "\n",
            "\u001b[32m[I 2021-06-22 12:21:40,040]\u001b[0m Trial 10 finished with value: 0.2038921190417617 and parameters: {'lambda': 0.004771049358447906, 'alpha': 0.0037813496541665645, 'max_depth': 9, 'eta': 0.0007646719579318215, 'gamma': 1.3199428127910152e-06, 'n_estimators': 708, 'min_child_weight': 6, 'subsample': 0.4409150937815634}. Best is trial 2 with value: 0.2022684541436199.\u001b[0m\n",
            "/usr/local/lib/python3.7/dist-packages/xgboost/data.py:114: UserWarning:\n",
            "\n",
            "Use subset (sliced data) of np.ndarray is not recommended because it will generate extra copies and increase memory consumption\n",
            "\n",
            "\u001b[32m[I 2021-06-22 12:31:49,650]\u001b[0m Trial 11 finished with value: 0.20103845128152212 and parameters: {'lambda': 0.0002625814117274362, 'alpha': 7.79009315246418e-07, 'max_depth': 9, 'eta': 0.00018180387821097786, 'gamma': 0.0021524556834071544, 'n_estimators': 1086, 'min_child_weight': 7, 'subsample': 0.4923943391270141}. Best is trial 11 with value: 0.20103845128152212.\u001b[0m\n",
            "/usr/local/lib/python3.7/dist-packages/xgboost/data.py:114: UserWarning:\n",
            "\n",
            "Use subset (sliced data) of np.ndarray is not recommended because it will generate extra copies and increase memory consumption\n",
            "\n",
            "\u001b[32m[I 2021-06-22 12:40:56,573]\u001b[0m Trial 12 finished with value: 0.20147126153325068 and parameters: {'lambda': 0.0012676108772836075, 'alpha': 5.556579722329643e-07, 'max_depth': 9, 'eta': 0.0018738005478542213, 'gamma': 0.006150889907603086, 'n_estimators': 975, 'min_child_weight': 6, 'subsample': 0.46404388682535375}. Best is trial 11 with value: 0.20103845128152212.\u001b[0m\n",
            "/usr/local/lib/python3.7/dist-packages/xgboost/data.py:114: UserWarning:\n",
            "\n",
            "Use subset (sliced data) of np.ndarray is not recommended because it will generate extra copies and increase memory consumption\n",
            "\n",
            "\u001b[32m[I 2021-06-22 12:50:01,811]\u001b[0m Trial 13 finished with value: 0.20166501388598232 and parameters: {'lambda': 0.00029962394578808316, 'alpha': 5.514509192351489e-07, 'max_depth': 9, 'eta': 5.0034355185362224e-05, 'gamma': 0.009948282000283571, 'n_estimators': 990, 'min_child_weight': 7, 'subsample': 0.4475437888618223}. Best is trial 11 with value: 0.20103845128152212.\u001b[0m\n",
            "\u001b[32m[I 2021-06-22 12:50:02,636]\u001b[0m Trial 14 pruned. Trial was pruned at iteration 0.\u001b[0m\n",
            "\u001b[32m[I 2021-06-22 12:50:03,485]\u001b[0m Trial 15 pruned. Trial was pruned at iteration 0.\u001b[0m\n",
            "/usr/local/lib/python3.7/dist-packages/xgboost/data.py:114: UserWarning:\n",
            "\n",
            "Use subset (sliced data) of np.ndarray is not recommended because it will generate extra copies and increase memory consumption\n",
            "\n",
            "\u001b[32m[I 2021-06-22 13:00:09,428]\u001b[0m Trial 16 finished with value: 0.20019178035912613 and parameters: {'lambda': 2.2741802872089376e-05, 'alpha': 0.00029229369026373484, 'max_depth': 9, 'eta': 0.05598548865779304, 'gamma': 0.005501346075473814, 'n_estimators': 1181, 'min_child_weight': 10, 'subsample': 0.4150834316309578}. Best is trial 16 with value: 0.20019178035912613.\u001b[0m\n",
            "\u001b[32m[I 2021-06-22 13:00:10,135]\u001b[0m Trial 17 pruned. Trial was pruned at iteration 0.\u001b[0m\n",
            "\u001b[32m[I 2021-06-22 13:00:10,968]\u001b[0m Trial 18 pruned. Trial was pruned at iteration 0.\u001b[0m\n",
            "\u001b[32m[I 2021-06-22 13:00:11,686]\u001b[0m Trial 19 pruned. Trial was pruned at iteration 0.\u001b[0m\n",
            "\u001b[32m[I 2021-06-22 13:00:12,584]\u001b[0m Trial 20 pruned. Trial was pruned at iteration 0.\u001b[0m\n",
            "/usr/local/lib/python3.7/dist-packages/xgboost/data.py:114: UserWarning:\n",
            "\n",
            "Use subset (sliced data) of np.ndarray is not recommended because it will generate extra copies and increase memory consumption\n",
            "\n",
            "\u001b[32m[I 2021-06-22 13:09:46,518]\u001b[0m Trial 21 finished with value: 0.200805925524151 and parameters: {'lambda': 0.0008747352176716063, 'alpha': 1.1160127154929169e-05, 'max_depth': 9, 'eta': 0.0006248483543262878, 'gamma': 0.009555974936915849, 'n_estimators': 1058, 'min_child_weight': 6, 'subsample': 0.449857504156255}. Best is trial 16 with value: 0.20019178035912613.\u001b[0m\n",
            "\u001b[32m[I 2021-06-22 13:09:47,380]\u001b[0m Trial 22 pruned. Trial was pruned at iteration 0.\u001b[0m\n",
            "\u001b[32m[I 2021-06-22 13:09:48,296]\u001b[0m Trial 23 pruned. Trial was pruned at iteration 0.\u001b[0m\n",
            "\u001b[32m[I 2021-06-22 13:09:49,141]\u001b[0m Trial 24 pruned. Trial was pruned at iteration 0.\u001b[0m\n",
            "\u001b[32m[I 2021-06-22 13:09:49,953]\u001b[0m Trial 25 pruned. Trial was pruned at iteration 0.\u001b[0m\n",
            "\u001b[32m[I 2021-06-22 13:10:56,613]\u001b[0m Trial 26 pruned. Trial was pruned at iteration 120.\u001b[0m\n",
            "\u001b[32m[I 2021-06-22 13:10:57,500]\u001b[0m Trial 27 pruned. Trial was pruned at iteration 0.\u001b[0m\n",
            "\u001b[32m[I 2021-06-22 13:10:58,438]\u001b[0m Trial 28 pruned. Trial was pruned at iteration 0.\u001b[0m\n",
            "\u001b[32m[I 2021-06-22 13:10:59,233]\u001b[0m Trial 29 pruned. Trial was pruned at iteration 0.\u001b[0m\n",
            "\u001b[32m[I 2021-06-22 13:11:00,059]\u001b[0m Trial 30 pruned. Trial was pruned at iteration 0.\u001b[0m\n",
            "\u001b[32m[I 2021-06-22 13:11:00,968]\u001b[0m Trial 31 pruned. Trial was pruned at iteration 0.\u001b[0m\n",
            "\u001b[32m[I 2021-06-22 13:11:01,905]\u001b[0m Trial 32 pruned. Trial was pruned at iteration 0.\u001b[0m\n",
            "\u001b[32m[I 2021-06-22 13:11:07,896]\u001b[0m Trial 33 pruned. Trial was pruned at iteration 9.\u001b[0m\n",
            "\u001b[32m[I 2021-06-22 13:11:08,876]\u001b[0m Trial 34 pruned. Trial was pruned at iteration 0.\u001b[0m\n",
            "\u001b[32m[I 2021-06-22 13:11:09,664]\u001b[0m Trial 35 pruned. Trial was pruned at iteration 0.\u001b[0m\n",
            "\u001b[32m[I 2021-06-22 13:11:10,512]\u001b[0m Trial 36 pruned. Trial was pruned at iteration 0.\u001b[0m\n",
            "\u001b[32m[I 2021-06-22 13:11:11,993]\u001b[0m Trial 37 pruned. Trial was pruned at iteration 1.\u001b[0m\n",
            "\u001b[32m[I 2021-06-22 13:11:12,781]\u001b[0m Trial 38 pruned. Trial was pruned at iteration 0.\u001b[0m\n",
            "\u001b[32m[I 2021-06-22 13:11:13,637]\u001b[0m Trial 39 pruned. Trial was pruned at iteration 0.\u001b[0m\n",
            "\u001b[32m[I 2021-06-22 13:11:14,269]\u001b[0m Trial 40 pruned. Trial was pruned at iteration 0.\u001b[0m\n",
            "\u001b[32m[I 2021-06-22 13:11:15,780]\u001b[0m Trial 41 pruned. Trial was pruned at iteration 1.\u001b[0m\n",
            "\u001b[32m[I 2021-06-22 13:11:16,686]\u001b[0m Trial 42 pruned. Trial was pruned at iteration 0.\u001b[0m\n",
            "\u001b[32m[I 2021-06-22 13:11:22,632]\u001b[0m Trial 43 pruned. Trial was pruned at iteration 9.\u001b[0m\n",
            "\u001b[32m[I 2021-06-22 13:11:23,561]\u001b[0m Trial 44 pruned. Trial was pruned at iteration 0.\u001b[0m\n",
            "\u001b[32m[I 2021-06-22 13:11:24,425]\u001b[0m Trial 45 pruned. Trial was pruned at iteration 0.\u001b[0m\n",
            "\u001b[32m[I 2021-06-22 13:11:25,349]\u001b[0m Trial 46 pruned. Trial was pruned at iteration 0.\u001b[0m\n",
            "\u001b[32m[I 2021-06-22 13:11:26,188]\u001b[0m Trial 47 pruned. Trial was pruned at iteration 0.\u001b[0m\n",
            "\u001b[32m[I 2021-06-22 13:11:34,759]\u001b[0m Trial 48 pruned. Trial was pruned at iteration 14.\u001b[0m\n",
            "\u001b[32m[I 2021-06-22 13:11:35,610]\u001b[0m Trial 49 pruned. Trial was pruned at iteration 0.\u001b[0m\n"
          ],
          "name": "stderr"
        }
      ]
    },
    {
      "cell_type": "code",
      "metadata": {
        "colab": {
          "base_uri": "https://localhost:8080/"
        },
        "id": "B0jauzQWMOy9",
        "outputId": "11910d0a-eb80-4040-b047-f37873542c07"
      },
      "source": [
        "print('Best Trial: score {},\\nparams {}'.format(study_xgb.best_trial.value, study_xgb.best_trial.params))"
      ],
      "execution_count": 16,
      "outputs": [
        {
          "output_type": "stream",
          "text": [
            "Best Trial: score 0.20019178035912613,\n",
            "params {'lambda': 2.2741802872089376e-05, 'alpha': 0.00029229369026373484, 'max_depth': 9, 'eta': 0.05598548865779304, 'gamma': 0.005501346075473814, 'n_estimators': 1181, 'min_child_weight': 10, 'subsample': 0.4150834316309578}\n"
          ],
          "name": "stdout"
        }
      ]
    },
    {
      "cell_type": "code",
      "metadata": {
        "colab": {
          "base_uri": "https://localhost:8080/",
          "height": 542
        },
        "id": "vKlC15kvMTUW",
        "outputId": "0c26b2cc-331d-421b-c728-e829ee31b147"
      },
      "source": [
        "optuna.visualization.plot_param_importances(study_xgb)"
      ],
      "execution_count": 17,
      "outputs": [
        {
          "output_type": "display_data",
          "data": {
            "text/html": [
              "<html>\n",
              "<head><meta charset=\"utf-8\" /></head>\n",
              "<body>\n",
              "    <div>\n",
              "            <script src=\"https://cdnjs.cloudflare.com/ajax/libs/mathjax/2.7.5/MathJax.js?config=TeX-AMS-MML_SVG\"></script><script type=\"text/javascript\">if (window.MathJax) {MathJax.Hub.Config({SVG: {font: \"STIX-Web\"}});}</script>\n",
              "                <script type=\"text/javascript\">window.PlotlyConfig = {MathJaxConfig: 'local'};</script>\n",
              "        <script src=\"https://cdn.plot.ly/plotly-latest.min.js\"></script>    \n",
              "            <div id=\"3306d924-d242-48e7-b478-ebd57e3cc415\" class=\"plotly-graph-div\" style=\"height:525px; width:100%;\"></div>\n",
              "            <script type=\"text/javascript\">\n",
              "                \n",
              "                    window.PLOTLYENV=window.PLOTLYENV || {};\n",
              "                    \n",
              "                if (document.getElementById(\"3306d924-d242-48e7-b478-ebd57e3cc415\")) {\n",
              "                    Plotly.newPlot(\n",
              "                        '3306d924-d242-48e7-b478-ebd57e3cc415',\n",
              "                        [{\"cliponaxis\": false, \"hovertemplate\": [\"alpha (LogUniformDistribution): 6.333938144537882e-05<extra></extra>\", \"subsample (LogUniformDistribution): 0.05959074504050658<extra></extra>\", \"eta (LogUniformDistribution): 0.07949120111814621<extra></extra>\", \"gamma (LogUniformDistribution): 0.10959017068137687<extra></extra>\", \"lambda (LogUniformDistribution): 0.1291677903448072<extra></extra>\", \"min_child_weight (IntUniformDistribution): 0.15957789857198684<extra></extra>\", \"n_estimators (IntUniformDistribution): 0.1905611062582532<extra></extra>\", \"max_depth (IntUniformDistribution): 0.27195774860347766<extra></extra>\"], \"marker\": {\"color\": \"rgb(66,146,198)\"}, \"orientation\": \"h\", \"text\": [\"6.333938144537882e-05\", \"0.05959074504050658\", \"0.07949120111814621\", \"0.10959017068137687\", \"0.1291677903448072\", \"0.15957789857198684\", \"0.1905611062582532\", \"0.27195774860347766\"], \"textposition\": \"outside\", \"texttemplate\": \"%{text:.2f}\", \"type\": \"bar\", \"x\": [6.333938144537882e-05, 0.05959074504050658, 0.07949120111814621, 0.10959017068137687, 0.1291677903448072, 0.15957789857198684, 0.1905611062582532, 0.27195774860347766], \"y\": [\"alpha\", \"subsample\", \"eta\", \"gamma\", \"lambda\", \"min_child_weight\", \"n_estimators\", \"max_depth\"]}],\n",
              "                        {\"showlegend\": false, \"template\": {\"data\": {\"bar\": [{\"error_x\": {\"color\": \"#2a3f5f\"}, \"error_y\": {\"color\": \"#2a3f5f\"}, \"marker\": {\"line\": {\"color\": \"#E5ECF6\", \"width\": 0.5}}, \"type\": \"bar\"}], \"barpolar\": [{\"marker\": {\"line\": {\"color\": \"#E5ECF6\", \"width\": 0.5}}, \"type\": \"barpolar\"}], \"carpet\": [{\"aaxis\": {\"endlinecolor\": \"#2a3f5f\", \"gridcolor\": \"white\", \"linecolor\": \"white\", \"minorgridcolor\": \"white\", \"startlinecolor\": \"#2a3f5f\"}, \"baxis\": {\"endlinecolor\": \"#2a3f5f\", \"gridcolor\": \"white\", \"linecolor\": \"white\", \"minorgridcolor\": \"white\", \"startlinecolor\": \"#2a3f5f\"}, \"type\": \"carpet\"}], \"choropleth\": [{\"colorbar\": {\"outlinewidth\": 0, \"ticks\": \"\"}, \"type\": \"choropleth\"}], \"contour\": [{\"colorbar\": {\"outlinewidth\": 0, \"ticks\": \"\"}, \"colorscale\": [[0.0, \"#0d0887\"], [0.1111111111111111, \"#46039f\"], [0.2222222222222222, \"#7201a8\"], [0.3333333333333333, \"#9c179e\"], [0.4444444444444444, \"#bd3786\"], [0.5555555555555556, \"#d8576b\"], [0.6666666666666666, \"#ed7953\"], [0.7777777777777778, \"#fb9f3a\"], [0.8888888888888888, \"#fdca26\"], [1.0, \"#f0f921\"]], \"type\": \"contour\"}], \"contourcarpet\": [{\"colorbar\": {\"outlinewidth\": 0, \"ticks\": \"\"}, \"type\": \"contourcarpet\"}], \"heatmap\": [{\"colorbar\": {\"outlinewidth\": 0, \"ticks\": \"\"}, \"colorscale\": [[0.0, \"#0d0887\"], [0.1111111111111111, \"#46039f\"], [0.2222222222222222, \"#7201a8\"], [0.3333333333333333, \"#9c179e\"], [0.4444444444444444, \"#bd3786\"], [0.5555555555555556, \"#d8576b\"], [0.6666666666666666, \"#ed7953\"], [0.7777777777777778, \"#fb9f3a\"], [0.8888888888888888, \"#fdca26\"], [1.0, \"#f0f921\"]], \"type\": \"heatmap\"}], \"heatmapgl\": [{\"colorbar\": {\"outlinewidth\": 0, \"ticks\": \"\"}, \"colorscale\": [[0.0, \"#0d0887\"], [0.1111111111111111, \"#46039f\"], [0.2222222222222222, \"#7201a8\"], [0.3333333333333333, \"#9c179e\"], [0.4444444444444444, \"#bd3786\"], [0.5555555555555556, \"#d8576b\"], [0.6666666666666666, \"#ed7953\"], [0.7777777777777778, \"#fb9f3a\"], [0.8888888888888888, \"#fdca26\"], [1.0, \"#f0f921\"]], \"type\": \"heatmapgl\"}], \"histogram\": [{\"marker\": {\"colorbar\": {\"outlinewidth\": 0, \"ticks\": \"\"}}, \"type\": \"histogram\"}], \"histogram2d\": [{\"colorbar\": {\"outlinewidth\": 0, \"ticks\": \"\"}, \"colorscale\": [[0.0, \"#0d0887\"], [0.1111111111111111, \"#46039f\"], [0.2222222222222222, \"#7201a8\"], [0.3333333333333333, \"#9c179e\"], [0.4444444444444444, \"#bd3786\"], [0.5555555555555556, \"#d8576b\"], [0.6666666666666666, \"#ed7953\"], [0.7777777777777778, \"#fb9f3a\"], [0.8888888888888888, \"#fdca26\"], [1.0, \"#f0f921\"]], \"type\": \"histogram2d\"}], \"histogram2dcontour\": [{\"colorbar\": {\"outlinewidth\": 0, \"ticks\": \"\"}, \"colorscale\": [[0.0, \"#0d0887\"], [0.1111111111111111, \"#46039f\"], [0.2222222222222222, \"#7201a8\"], [0.3333333333333333, \"#9c179e\"], [0.4444444444444444, \"#bd3786\"], [0.5555555555555556, \"#d8576b\"], [0.6666666666666666, \"#ed7953\"], [0.7777777777777778, \"#fb9f3a\"], [0.8888888888888888, \"#fdca26\"], [1.0, \"#f0f921\"]], \"type\": \"histogram2dcontour\"}], \"mesh3d\": [{\"colorbar\": {\"outlinewidth\": 0, \"ticks\": \"\"}, \"type\": \"mesh3d\"}], \"parcoords\": [{\"line\": {\"colorbar\": {\"outlinewidth\": 0, \"ticks\": \"\"}}, \"type\": \"parcoords\"}], \"pie\": [{\"automargin\": true, \"type\": \"pie\"}], \"scatter\": [{\"marker\": {\"colorbar\": {\"outlinewidth\": 0, \"ticks\": \"\"}}, \"type\": \"scatter\"}], \"scatter3d\": [{\"line\": {\"colorbar\": {\"outlinewidth\": 0, \"ticks\": \"\"}}, \"marker\": {\"colorbar\": {\"outlinewidth\": 0, \"ticks\": \"\"}}, \"type\": \"scatter3d\"}], \"scattercarpet\": [{\"marker\": {\"colorbar\": {\"outlinewidth\": 0, \"ticks\": \"\"}}, \"type\": \"scattercarpet\"}], \"scattergeo\": [{\"marker\": {\"colorbar\": {\"outlinewidth\": 0, \"ticks\": \"\"}}, \"type\": \"scattergeo\"}], \"scattergl\": [{\"marker\": {\"colorbar\": {\"outlinewidth\": 0, \"ticks\": \"\"}}, \"type\": \"scattergl\"}], \"scattermapbox\": [{\"marker\": {\"colorbar\": {\"outlinewidth\": 0, \"ticks\": \"\"}}, \"type\": \"scattermapbox\"}], \"scatterpolar\": [{\"marker\": {\"colorbar\": {\"outlinewidth\": 0, \"ticks\": \"\"}}, \"type\": \"scatterpolar\"}], \"scatterpolargl\": [{\"marker\": {\"colorbar\": {\"outlinewidth\": 0, \"ticks\": \"\"}}, \"type\": \"scatterpolargl\"}], \"scatterternary\": [{\"marker\": {\"colorbar\": {\"outlinewidth\": 0, \"ticks\": \"\"}}, \"type\": \"scatterternary\"}], \"surface\": [{\"colorbar\": {\"outlinewidth\": 0, \"ticks\": \"\"}, \"colorscale\": [[0.0, \"#0d0887\"], [0.1111111111111111, \"#46039f\"], [0.2222222222222222, \"#7201a8\"], [0.3333333333333333, \"#9c179e\"], [0.4444444444444444, \"#bd3786\"], [0.5555555555555556, \"#d8576b\"], [0.6666666666666666, \"#ed7953\"], [0.7777777777777778, \"#fb9f3a\"], [0.8888888888888888, \"#fdca26\"], [1.0, \"#f0f921\"]], \"type\": \"surface\"}], \"table\": [{\"cells\": {\"fill\": {\"color\": \"#EBF0F8\"}, \"line\": {\"color\": \"white\"}}, \"header\": {\"fill\": {\"color\": \"#C8D4E3\"}, \"line\": {\"color\": \"white\"}}, \"type\": \"table\"}]}, \"layout\": {\"annotationdefaults\": {\"arrowcolor\": \"#2a3f5f\", \"arrowhead\": 0, \"arrowwidth\": 1}, \"coloraxis\": {\"colorbar\": {\"outlinewidth\": 0, \"ticks\": \"\"}}, \"colorscale\": {\"diverging\": [[0, \"#8e0152\"], [0.1, \"#c51b7d\"], [0.2, \"#de77ae\"], [0.3, \"#f1b6da\"], [0.4, \"#fde0ef\"], [0.5, \"#f7f7f7\"], [0.6, \"#e6f5d0\"], [0.7, \"#b8e186\"], [0.8, \"#7fbc41\"], [0.9, \"#4d9221\"], [1, \"#276419\"]], \"sequential\": [[0.0, \"#0d0887\"], [0.1111111111111111, \"#46039f\"], [0.2222222222222222, \"#7201a8\"], [0.3333333333333333, \"#9c179e\"], [0.4444444444444444, \"#bd3786\"], [0.5555555555555556, \"#d8576b\"], [0.6666666666666666, \"#ed7953\"], [0.7777777777777778, \"#fb9f3a\"], [0.8888888888888888, \"#fdca26\"], [1.0, \"#f0f921\"]], \"sequentialminus\": [[0.0, \"#0d0887\"], [0.1111111111111111, \"#46039f\"], [0.2222222222222222, \"#7201a8\"], [0.3333333333333333, \"#9c179e\"], [0.4444444444444444, \"#bd3786\"], [0.5555555555555556, \"#d8576b\"], [0.6666666666666666, \"#ed7953\"], [0.7777777777777778, \"#fb9f3a\"], [0.8888888888888888, \"#fdca26\"], [1.0, \"#f0f921\"]]}, \"colorway\": [\"#636efa\", \"#EF553B\", \"#00cc96\", \"#ab63fa\", \"#FFA15A\", \"#19d3f3\", \"#FF6692\", \"#B6E880\", \"#FF97FF\", \"#FECB52\"], \"font\": {\"color\": \"#2a3f5f\"}, \"geo\": {\"bgcolor\": \"white\", \"lakecolor\": \"white\", \"landcolor\": \"#E5ECF6\", \"showlakes\": true, \"showland\": true, \"subunitcolor\": \"white\"}, \"hoverlabel\": {\"align\": \"left\"}, \"hovermode\": \"closest\", \"mapbox\": {\"style\": \"light\"}, \"paper_bgcolor\": \"white\", \"plot_bgcolor\": \"#E5ECF6\", \"polar\": {\"angularaxis\": {\"gridcolor\": \"white\", \"linecolor\": \"white\", \"ticks\": \"\"}, \"bgcolor\": \"#E5ECF6\", \"radialaxis\": {\"gridcolor\": \"white\", \"linecolor\": \"white\", \"ticks\": \"\"}}, \"scene\": {\"xaxis\": {\"backgroundcolor\": \"#E5ECF6\", \"gridcolor\": \"white\", \"gridwidth\": 2, \"linecolor\": \"white\", \"showbackground\": true, \"ticks\": \"\", \"zerolinecolor\": \"white\"}, \"yaxis\": {\"backgroundcolor\": \"#E5ECF6\", \"gridcolor\": \"white\", \"gridwidth\": 2, \"linecolor\": \"white\", \"showbackground\": true, \"ticks\": \"\", \"zerolinecolor\": \"white\"}, \"zaxis\": {\"backgroundcolor\": \"#E5ECF6\", \"gridcolor\": \"white\", \"gridwidth\": 2, \"linecolor\": \"white\", \"showbackground\": true, \"ticks\": \"\", \"zerolinecolor\": \"white\"}}, \"shapedefaults\": {\"line\": {\"color\": \"#2a3f5f\"}}, \"ternary\": {\"aaxis\": {\"gridcolor\": \"white\", \"linecolor\": \"white\", \"ticks\": \"\"}, \"baxis\": {\"gridcolor\": \"white\", \"linecolor\": \"white\", \"ticks\": \"\"}, \"bgcolor\": \"#E5ECF6\", \"caxis\": {\"gridcolor\": \"white\", \"linecolor\": \"white\", \"ticks\": \"\"}}, \"title\": {\"x\": 0.05}, \"xaxis\": {\"automargin\": true, \"gridcolor\": \"white\", \"linecolor\": \"white\", \"ticks\": \"\", \"title\": {\"standoff\": 15}, \"zerolinecolor\": \"white\", \"zerolinewidth\": 2}, \"yaxis\": {\"automargin\": true, \"gridcolor\": \"white\", \"linecolor\": \"white\", \"ticks\": \"\", \"title\": {\"standoff\": 15}, \"zerolinecolor\": \"white\", \"zerolinewidth\": 2}}}, \"title\": {\"text\": \"Hyperparameter Importances\"}, \"xaxis\": {\"title\": {\"text\": \"Importance for Objective Value\"}}, \"yaxis\": {\"title\": {\"text\": \"Hyperparameter\"}}},\n",
              "                        {\"responsive\": true}\n",
              "                    ).then(function(){\n",
              "                            \n",
              "var gd = document.getElementById('3306d924-d242-48e7-b478-ebd57e3cc415');\n",
              "var x = new MutationObserver(function (mutations, observer) {{\n",
              "        var display = window.getComputedStyle(gd).display;\n",
              "        if (!display || display === 'none') {{\n",
              "            console.log([gd, 'removed!']);\n",
              "            Plotly.purge(gd);\n",
              "            observer.disconnect();\n",
              "        }}\n",
              "}});\n",
              "\n",
              "// Listen for the removal of the full notebook cells\n",
              "var notebookContainer = gd.closest('#notebook-container');\n",
              "if (notebookContainer) {{\n",
              "    x.observe(notebookContainer, {childList: true});\n",
              "}}\n",
              "\n",
              "// Listen for the clearing of the current output cell\n",
              "var outputEl = gd.closest('.output');\n",
              "if (outputEl) {{\n",
              "    x.observe(outputEl, {childList: true});\n",
              "}}\n",
              "\n",
              "                        })\n",
              "                };\n",
              "                \n",
              "            </script>\n",
              "        </div>\n",
              "</body>\n",
              "</html>"
            ]
          },
          "metadata": {
            "tags": []
          }
        }
      ]
    },
    {
      "cell_type": "markdown",
      "metadata": {
        "id": "DYUFSMYQ384-"
      },
      "source": [
        "## XGBoost Submission"
      ]
    },
    {
      "cell_type": "code",
      "metadata": {
        "colab": {
          "base_uri": "https://localhost:8080/"
        },
        "id": "fOjCyZLUeGME",
        "outputId": "ec00733c-1924-4ae4-b415-27974de8c54f"
      },
      "source": [
        "trial = study_xgb.best_trial\n",
        "xgb_params = trial.params\n",
        "xgb_params"
      ],
      "execution_count": 18,
      "outputs": [
        {
          "output_type": "execute_result",
          "data": {
            "text/plain": [
              "{'alpha': 0.00029229369026373484,\n",
              " 'eta': 0.05598548865779304,\n",
              " 'gamma': 0.005501346075473814,\n",
              " 'lambda': 2.2741802872089376e-05,\n",
              " 'max_depth': 9,\n",
              " 'min_child_weight': 10,\n",
              " 'n_estimators': 1181,\n",
              " 'subsample': 0.4150834316309578}"
            ]
          },
          "metadata": {
            "tags": []
          },
          "execution_count": 18
        }
      ]
    },
    {
      "cell_type": "code",
      "metadata": {
        "colab": {
          "base_uri": "https://localhost:8080/"
        },
        "id": "sZLpXN1eeG-6",
        "outputId": "45762c6a-d450-4f07-e187-529c0fa8e506"
      },
      "source": [
        "final_xgb_model = xgb.XGBRegressor(**xgb_params)\n",
        "final_xgb_model.fit(train_X, train_y, eval_metric='rmse')\n",
        "final_xgb_pred = final_xgb_model.predict(test_df)"
      ],
      "execution_count": 19,
      "outputs": [
        {
          "output_type": "stream",
          "text": [
            "/usr/local/lib/python3.7/dist-packages/xgboost/data.py:114: UserWarning:\n",
            "\n",
            "Use subset (sliced data) of np.ndarray is not recommended because it will generate extra copies and increase memory consumption\n",
            "\n"
          ],
          "name": "stderr"
        }
      ]
    },
    {
      "cell_type": "code",
      "metadata": {
        "colab": {
          "base_uri": "https://localhost:8080/"
        },
        "id": "MavLjMu6kHFz",
        "outputId": "15feb884-080e-4cd1-b432-89cc69ecb030"
      },
      "source": [
        "final_xgb_pred"
      ],
      "execution_count": 20,
      "outputs": [
        {
          "output_type": "execute_result",
          "data": {
            "text/plain": [
              "array([10.310147 ,  9.4687805,  9.453366 , ..., 10.989199 , 10.569776 ,\n",
              "        9.7787075], dtype=float32)"
            ]
          },
          "metadata": {
            "tags": []
          },
          "execution_count": 20
        }
      ]
    },
    {
      "cell_type": "code",
      "metadata": {
        "colab": {
          "base_uri": "https://localhost:8080/",
          "height": 1000
        },
        "id": "hDinjAqWzZLd",
        "outputId": "3a9d6958-e61a-401c-fd09-03640f2fe117"
      },
      "source": [
        "plt.barh(train_X.columns, final_xgb_model.feature_importances_)"
      ],
      "execution_count": 21,
      "outputs": [
        {
          "output_type": "execute_result",
          "data": {
            "text/plain": [
              "<BarContainer object of 8 artists>"
            ]
          },
          "metadata": {
            "tags": []
          },
          "execution_count": 21
        },
        {
          "output_type": "stream",
          "text": [
            "findfont: Font family ['NanumGothic Eco'] not found. Falling back to DejaVu Sans.\n",
            "/usr/local/lib/python3.7/dist-packages/matplotlib/backends/backend_agg.py:214: RuntimeWarning:\n",
            "\n",
            "Glyph 48512 missing from current font.\n",
            "\n",
            "/usr/local/lib/python3.7/dist-packages/matplotlib/backends/backend_agg.py:214: RuntimeWarning:\n",
            "\n",
            "Glyph 49328 missing from current font.\n",
            "\n",
            "/usr/local/lib/python3.7/dist-packages/matplotlib/backends/backend_agg.py:214: RuntimeWarning:\n",
            "\n",
            "Glyph 44305 missing from current font.\n",
            "\n",
            "/usr/local/lib/python3.7/dist-packages/matplotlib/backends/backend_agg.py:214: RuntimeWarning:\n",
            "\n",
            "Glyph 50669 missing from current font.\n",
            "\n",
            "/usr/local/lib/python3.7/dist-packages/matplotlib/backends/backend_agg.py:214: RuntimeWarning:\n",
            "\n",
            "Glyph 49884 missing from current font.\n",
            "\n",
            "/usr/local/lib/python3.7/dist-packages/matplotlib/backends/backend_agg.py:214: RuntimeWarning:\n",
            "\n",
            "Glyph 49436 missing from current font.\n",
            "\n",
            "/usr/local/lib/python3.7/dist-packages/matplotlib/backends/backend_agg.py:214: RuntimeWarning:\n",
            "\n",
            "Glyph 50872 missing from current font.\n",
            "\n",
            "/usr/local/lib/python3.7/dist-packages/matplotlib/backends/backend_agg.py:214: RuntimeWarning:\n",
            "\n",
            "Glyph 53945 missing from current font.\n",
            "\n",
            "/usr/local/lib/python3.7/dist-packages/matplotlib/backends/backend_agg.py:214: RuntimeWarning:\n",
            "\n",
            "Glyph 48324 missing from current font.\n",
            "\n",
            "/usr/local/lib/python3.7/dist-packages/matplotlib/backends/backend_agg.py:183: RuntimeWarning:\n",
            "\n",
            "Glyph 48512 missing from current font.\n",
            "\n",
            "/usr/local/lib/python3.7/dist-packages/matplotlib/backends/backend_agg.py:183: RuntimeWarning:\n",
            "\n",
            "Glyph 49328 missing from current font.\n",
            "\n",
            "/usr/local/lib/python3.7/dist-packages/matplotlib/backends/backend_agg.py:183: RuntimeWarning:\n",
            "\n",
            "Glyph 44305 missing from current font.\n",
            "\n",
            "/usr/local/lib/python3.7/dist-packages/matplotlib/backends/backend_agg.py:183: RuntimeWarning:\n",
            "\n",
            "Glyph 50669 missing from current font.\n",
            "\n",
            "/usr/local/lib/python3.7/dist-packages/matplotlib/backends/backend_agg.py:183: RuntimeWarning:\n",
            "\n",
            "Glyph 49884 missing from current font.\n",
            "\n",
            "/usr/local/lib/python3.7/dist-packages/matplotlib/backends/backend_agg.py:183: RuntimeWarning:\n",
            "\n",
            "Glyph 49436 missing from current font.\n",
            "\n",
            "/usr/local/lib/python3.7/dist-packages/matplotlib/backends/backend_agg.py:183: RuntimeWarning:\n",
            "\n",
            "Glyph 50872 missing from current font.\n",
            "\n",
            "/usr/local/lib/python3.7/dist-packages/matplotlib/backends/backend_agg.py:183: RuntimeWarning:\n",
            "\n",
            "Glyph 53945 missing from current font.\n",
            "\n",
            "/usr/local/lib/python3.7/dist-packages/matplotlib/backends/backend_agg.py:183: RuntimeWarning:\n",
            "\n",
            "Glyph 48324 missing from current font.\n",
            "\n"
          ],
          "name": "stderr"
        },
        {
          "output_type": "display_data",
          "data": {
            "image/png": "[encoded data removed]",
            "text/plain": [
              "<Figure size 432x288 with 1 Axes>"
            ]
          },
          "metadata": {
            "tags": [],
            "needs_background": "light"
          }
        }
      ]
    },
    {
      "cell_type": "code",
      "metadata": {
        "colab": {
          "base_uri": "https://localhost:8080/"
        },
        "id": "wSyQzIK6gX_D",
        "outputId": "86a54ed9-5393-489e-9795-732d3405dfbd"
      },
      "source": [
        "final_pred_sub = np.expm1(final_xgb_pred)\n",
        "final_pred_sub"
      ],
      "execution_count": 22,
      "outputs": [
        {
          "output_type": "execute_result",
          "data": {
            "text/plain": [
              "array([30034.86 , 12948.086, 12750.017, ..., 59229.902, 38938.934,\n",
              "       17652.82 ], dtype=float32)"
            ]
          },
          "metadata": {
            "tags": []
          },
          "execution_count": 22
        }
      ]
    },
    {
      "cell_type": "code",
      "metadata": {
        "colab": {
          "base_uri": "https://localhost:8080/",
          "height": 419
        },
        "id": "pGjPIU4PiK74",
        "outputId": "ba4ad473-91fe-42c2-95d8-e0a47fbb57c4"
      },
      "source": [
        "sub = pd.read_csv(PATH + 'test.csv')\n",
        "sub_df = pd.DataFrame({'transaction_id': sub['transaction_id'], 'transaction_real_price': final_pred_sub})\n",
        "sub_df"
      ],
      "execution_count": 23,
      "outputs": [
        {
          "output_type": "execute_result",
          "data": {
            "text/html": [
              "<div>\n",
              "<style scoped>\n",
              "    .dataframe tbody tr th:only-of-type {\n",
              "        vertical-align: middle;\n",
              "    }\n",
              "\n",
              "    .dataframe tbody tr th {\n",
              "        vertical-align: top;\n",
              "    }\n",
              "\n",
              "    .dataframe thead th {\n",
              "        text-align: right;\n",
              "    }\n",
              "</style>\n",
              "<table border=\"1\" class=\"dataframe\">\n",
              "  <thead>\n",
              "    <tr style=\"text-align: right;\">\n",
              "      <th></th>\n",
              "      <th>transaction_id</th>\n",
              "      <th>transaction_real_price</th>\n",
              "    </tr>\n",
              "  </thead>\n",
              "  <tbody>\n",
              "    <tr>\n",
              "      <th>0</th>\n",
              "      <td>1145756</td>\n",
              "      <td>30034.859375</td>\n",
              "    </tr>\n",
              "    <tr>\n",
              "      <th>1</th>\n",
              "      <td>1198704</td>\n",
              "      <td>12948.085938</td>\n",
              "    </tr>\n",
              "    <tr>\n",
              "      <th>2</th>\n",
              "      <td>1222384</td>\n",
              "      <td>12750.016602</td>\n",
              "    </tr>\n",
              "    <tr>\n",
              "      <th>3</th>\n",
              "      <td>1179897</td>\n",
              "      <td>118555.234375</td>\n",
              "    </tr>\n",
              "    <tr>\n",
              "      <th>4</th>\n",
              "      <td>1223091</td>\n",
              "      <td>45606.089844</td>\n",
              "    </tr>\n",
              "    <tr>\n",
              "      <th>...</th>\n",
              "      <td>...</td>\n",
              "      <td>...</td>\n",
              "    </tr>\n",
              "    <tr>\n",
              "      <th>5458</th>\n",
              "      <td>1174640</td>\n",
              "      <td>69404.226562</td>\n",
              "    </tr>\n",
              "    <tr>\n",
              "      <th>5459</th>\n",
              "      <td>1175575</td>\n",
              "      <td>197598.281250</td>\n",
              "    </tr>\n",
              "    <tr>\n",
              "      <th>5460</th>\n",
              "      <td>1157024</td>\n",
              "      <td>59229.902344</td>\n",
              "    </tr>\n",
              "    <tr>\n",
              "      <th>5461</th>\n",
              "      <td>1136863</td>\n",
              "      <td>38938.933594</td>\n",
              "    </tr>\n",
              "    <tr>\n",
              "      <th>5462</th>\n",
              "      <td>1218921</td>\n",
              "      <td>17652.820312</td>\n",
              "    </tr>\n",
              "  </tbody>\n",
              "</table>\n",
              "<p>5463 rows × 2 columns</p>\n",
              "</div>"
            ],
            "text/plain": [
              "      transaction_id  transaction_real_price\n",
              "0            1145756            30034.859375\n",
              "1            1198704            12948.085938\n",
              "2            1222384            12750.016602\n",
              "3            1179897           118555.234375\n",
              "4            1223091            45606.089844\n",
              "...              ...                     ...\n",
              "5458         1174640            69404.226562\n",
              "5459         1175575           197598.281250\n",
              "5460         1157024            59229.902344\n",
              "5461         1136863            38938.933594\n",
              "5462         1218921            17652.820312\n",
              "\n",
              "[5463 rows x 2 columns]"
            ]
          },
          "metadata": {
            "tags": []
          },
          "execution_count": 23
        }
      ]
    },
    {
      "cell_type": "code",
      "metadata": {
        "id": "-phPm_bkkRDe"
      },
      "source": [
        "sub_df.to_csv(PATH + 'submission_xgb_wo_apt2.csv', index=False)"
      ],
      "execution_count": 24,
      "outputs": []
    },
    {
      "cell_type": "markdown",
      "metadata": {
        "id": "BDeQrEwa4sWT"
      },
      "source": [
        "## Extra Predict\n",
        "- 공공데이터를 이용하여 추가로 분석"
      ]
    },
    {
      "cell_type": "code",
      "metadata": {
        "colab": {
          "base_uri": "https://localhost:8080/",
          "height": 80
        },
        "id": "TA2JvdlW_NkG",
        "outputId": "f9c3d675-cbb7-45ac-b859-76b80ee4111d"
      },
      "source": [
        "o_train_df = pd.read_csv(PATH + 'train_df_regex.csv')\n",
        "o_test_df = pd.read_csv(PATH + 'test_df_regex.csv')\n",
        "o_train_df.head(1)"
      ],
      "execution_count": 170,
      "outputs": [
        {
          "output_type": "execute_result",
          "data": {
            "text/html": [
              "<div>\n",
              "<style scoped>\n",
              "    .dataframe tbody tr th:only-of-type {\n",
              "        vertical-align: middle;\n",
              "    }\n",
              "\n",
              "    .dataframe tbody tr th {\n",
              "        vertical-align: top;\n",
              "    }\n",
              "\n",
              "    .dataframe thead th {\n",
              "        text-align: right;\n",
              "    }\n",
              "</style>\n",
              "<table border=\"1\" class=\"dataframe\">\n",
              "  <thead>\n",
              "    <tr style=\"text-align: right;\">\n",
              "      <th></th>\n",
              "      <th>transaction_id</th>\n",
              "      <th>apartment_id</th>\n",
              "      <th>city</th>\n",
              "      <th>dong</th>\n",
              "      <th>jibun</th>\n",
              "      <th>apt</th>\n",
              "      <th>addr_kr</th>\n",
              "      <th>exclusive_use_area</th>\n",
              "      <th>year_of_completion</th>\n",
              "      <th>transaction_year_month</th>\n",
              "      <th>transaction_date</th>\n",
              "      <th>floor</th>\n",
              "      <th>transaction_real_price</th>\n",
              "    </tr>\n",
              "  </thead>\n",
              "  <tbody>\n",
              "    <tr>\n",
              "      <th>0</th>\n",
              "      <td>0</td>\n",
              "      <td>7622</td>\n",
              "      <td>서울특별시</td>\n",
              "      <td>신교동</td>\n",
              "      <td>6-13</td>\n",
              "      <td>신현</td>\n",
              "      <td>신교동 6-13 신현(101동)</td>\n",
              "      <td>84.82</td>\n",
              "      <td>2002</td>\n",
              "      <td>200801</td>\n",
              "      <td>21~31</td>\n",
              "      <td>2</td>\n",
              "      <td>37500</td>\n",
              "    </tr>\n",
              "  </tbody>\n",
              "</table>\n",
              "</div>"
            ],
            "text/plain": [
              "   transaction_id  apartment_id  ... floor transaction_real_price\n",
              "0               0          7622  ...     2                  37500\n",
              "\n",
              "[1 rows x 13 columns]"
            ]
          },
          "metadata": {
            "tags": []
          },
          "execution_count": 170
        }
      ]
    },
    {
      "cell_type": "code",
      "metadata": {
        "id": "RxOWsWIO3s8z",
        "colab": {
          "base_uri": "https://localhost:8080/",
          "height": 204
        },
        "outputId": "1a93be49-fcd7-4030-f566-aa19560f17ff"
      },
      "source": [
        "extra_df = pd.read_csv(PATH + 'extra_test_data.csv')\n",
        "extra_df.head()"
      ],
      "execution_count": 188,
      "outputs": [
        {
          "output_type": "execute_result",
          "data": {
            "text/html": [
              "<div>\n",
              "<style scoped>\n",
              "    .dataframe tbody tr th:only-of-type {\n",
              "        vertical-align: middle;\n",
              "    }\n",
              "\n",
              "    .dataframe tbody tr th {\n",
              "        vertical-align: top;\n",
              "    }\n",
              "\n",
              "    .dataframe thead th {\n",
              "        text-align: right;\n",
              "    }\n",
              "</style>\n",
              "<table border=\"1\" class=\"dataframe\">\n",
              "  <thead>\n",
              "    <tr style=\"text-align: right;\">\n",
              "      <th></th>\n",
              "      <th>city</th>\n",
              "      <th>dong</th>\n",
              "      <th>apt</th>\n",
              "      <th>exclusive_use_area</th>\n",
              "      <th>transaction_year</th>\n",
              "      <th>transaction_real_price</th>\n",
              "      <th>floor</th>\n",
              "      <th>year_of_completion</th>\n",
              "      <th>Unnamed: 8</th>\n",
              "    </tr>\n",
              "  </thead>\n",
              "  <tbody>\n",
              "    <tr>\n",
              "      <th>0</th>\n",
              "      <td>서울특별시</td>\n",
              "      <td>개포동</td>\n",
              "      <td>개포6차우성아파트1동~8동</td>\n",
              "      <td>79.97</td>\n",
              "      <td>120</td>\n",
              "      <td>130000</td>\n",
              "      <td>4</td>\n",
              "      <td>1987</td>\n",
              "      <td>NaN</td>\n",
              "    </tr>\n",
              "    <tr>\n",
              "      <th>1</th>\n",
              "      <td>서울특별시</td>\n",
              "      <td>개포동</td>\n",
              "      <td>성원대치2단지아파트</td>\n",
              "      <td>39.53</td>\n",
              "      <td>121</td>\n",
              "      <td>88400</td>\n",
              "      <td>10</td>\n",
              "      <td>1992</td>\n",
              "      <td>NaN</td>\n",
              "    </tr>\n",
              "    <tr>\n",
              "      <th>2</th>\n",
              "      <td>서울특별시</td>\n",
              "      <td>대치동</td>\n",
              "      <td>한보미도맨션2</td>\n",
              "      <td>115.05</td>\n",
              "      <td>123</td>\n",
              "      <td>228000</td>\n",
              "      <td>13</td>\n",
              "      <td>1985</td>\n",
              "      <td>NaN</td>\n",
              "    </tr>\n",
              "    <tr>\n",
              "      <th>3</th>\n",
              "      <td>서울특별시</td>\n",
              "      <td>대치동</td>\n",
              "      <td>한티</td>\n",
              "      <td>102.43</td>\n",
              "      <td>125</td>\n",
              "      <td>96700</td>\n",
              "      <td>4</td>\n",
              "      <td>2004</td>\n",
              "      <td>NaN</td>\n",
              "    </tr>\n",
              "    <tr>\n",
              "      <th>4</th>\n",
              "      <td>서울특별시</td>\n",
              "      <td>대치동</td>\n",
              "      <td>해암프리존</td>\n",
              "      <td>204.38</td>\n",
              "      <td>120</td>\n",
              "      <td>140000</td>\n",
              "      <td>4</td>\n",
              "      <td>1996</td>\n",
              "      <td>NaN</td>\n",
              "    </tr>\n",
              "  </tbody>\n",
              "</table>\n",
              "</div>"
            ],
            "text/plain": [
              "    city dong             apt  ...  floor  year_of_completion  Unnamed: 8\n",
              "0  서울특별시  개포동  개포6차우성아파트1동~8동  ...      4                1987         NaN\n",
              "1  서울특별시  개포동      성원대치2단지아파트  ...     10                1992         NaN\n",
              "2  서울특별시  대치동         한보미도맨션2  ...     13                1985         NaN\n",
              "3  서울특별시  대치동              한티  ...      4                2004         NaN\n",
              "4  서울특별시  대치동           해암프리존  ...      4                1996         NaN\n",
              "\n",
              "[5 rows x 9 columns]"
            ]
          },
          "metadata": {
            "tags": []
          },
          "execution_count": 188
        }
      ]
    },
    {
      "cell_type": "markdown",
      "metadata": {
        "id": "r-dyMT6OOU7o"
      },
      "source": [
        "### top10"
      ]
    },
    {
      "cell_type": "code",
      "metadata": {
        "id": "3qscoWnFOV-y"
      },
      "source": [
        "extra_df['top10'] = 0\n",
        "top10 = ['자이', '푸르지오', '더샵', '롯데캐슬', '이편한|e편한|e-편한',\n",
        "         '힐스테이트', '아이파크', '래미안', 'sk|SK|에스케이', '데시앙']\n",
        "\n",
        "for i, brand in enumerate(top10):\n",
        "    extra_df.loc[extra_df['apt'].str.contains(brand), 'top10'] = 1"
      ],
      "execution_count": 189,
      "outputs": []
    },
    {
      "cell_type": "markdown",
      "metadata": {
        "id": "uLCrwWOxEy6C"
      },
      "source": [
        "### city"
      ]
    },
    {
      "cell_type": "code",
      "metadata": {
        "colab": {
          "base_uri": "https://localhost:8080/",
          "height": 80
        },
        "id": "7x1GNv268zW_",
        "outputId": "5beb1256-a9d1-4ced-9737-2e452004da56"
      },
      "source": [
        "extra_df['city_서울특별시'] = 0\n",
        "extra_df['city_부산광역시'] = 0\n",
        "extra_df.loc[extra_df['city'] == '서울특별시', 'city_서울특별시'] = 1\n",
        "extra_df.head(1)"
      ],
      "execution_count": 190,
      "outputs": [
        {
          "output_type": "execute_result",
          "data": {
            "text/html": [
              "<div>\n",
              "<style scoped>\n",
              "    .dataframe tbody tr th:only-of-type {\n",
              "        vertical-align: middle;\n",
              "    }\n",
              "\n",
              "    .dataframe tbody tr th {\n",
              "        vertical-align: top;\n",
              "    }\n",
              "\n",
              "    .dataframe thead th {\n",
              "        text-align: right;\n",
              "    }\n",
              "</style>\n",
              "<table border=\"1\" class=\"dataframe\">\n",
              "  <thead>\n",
              "    <tr style=\"text-align: right;\">\n",
              "      <th></th>\n",
              "      <th>city</th>\n",
              "      <th>dong</th>\n",
              "      <th>apt</th>\n",
              "      <th>exclusive_use_area</th>\n",
              "      <th>transaction_year</th>\n",
              "      <th>transaction_real_price</th>\n",
              "      <th>floor</th>\n",
              "      <th>year_of_completion</th>\n",
              "      <th>Unnamed: 8</th>\n",
              "      <th>top10</th>\n",
              "      <th>city_서울특별시</th>\n",
              "      <th>city_부산광역시</th>\n",
              "    </tr>\n",
              "  </thead>\n",
              "  <tbody>\n",
              "    <tr>\n",
              "      <th>0</th>\n",
              "      <td>서울특별시</td>\n",
              "      <td>개포동</td>\n",
              "      <td>개포6차우성아파트1동~8동</td>\n",
              "      <td>79.97</td>\n",
              "      <td>120</td>\n",
              "      <td>130000</td>\n",
              "      <td>4</td>\n",
              "      <td>1987</td>\n",
              "      <td>NaN</td>\n",
              "      <td>0</td>\n",
              "      <td>1</td>\n",
              "      <td>0</td>\n",
              "    </tr>\n",
              "  </tbody>\n",
              "</table>\n",
              "</div>"
            ],
            "text/plain": [
              "    city dong             apt  ...  top10  city_서울특별시  city_부산광역시\n",
              "0  서울특별시  개포동  개포6차우성아파트1동~8동  ...      0           1           0\n",
              "\n",
              "[1 rows x 12 columns]"
            ]
          },
          "metadata": {
            "tags": []
          },
          "execution_count": 190
        }
      ]
    },
    {
      "cell_type": "markdown",
      "metadata": {
        "id": "hnOYAc_NE0D3"
      },
      "source": [
        "### date"
      ]
    },
    {
      "cell_type": "code",
      "metadata": {
        "colab": {
          "base_uri": "https://localhost:8080/",
          "height": 80
        },
        "id": "-Qozm2-1E4QM",
        "outputId": "4dc418d3-0dbb-43d2-8912-158f47cf087c"
      },
      "source": [
        "# transaction_year는 이미 진행\n",
        "extra_df['year_of_completion'] -= 1961\n",
        "extra_df.head(1)"
      ],
      "execution_count": 191,
      "outputs": [
        {
          "output_type": "execute_result",
          "data": {
            "text/html": [
              "<div>\n",
              "<style scoped>\n",
              "    .dataframe tbody tr th:only-of-type {\n",
              "        vertical-align: middle;\n",
              "    }\n",
              "\n",
              "    .dataframe tbody tr th {\n",
              "        vertical-align: top;\n",
              "    }\n",
              "\n",
              "    .dataframe thead th {\n",
              "        text-align: right;\n",
              "    }\n",
              "</style>\n",
              "<table border=\"1\" class=\"dataframe\">\n",
              "  <thead>\n",
              "    <tr style=\"text-align: right;\">\n",
              "      <th></th>\n",
              "      <th>city</th>\n",
              "      <th>dong</th>\n",
              "      <th>apt</th>\n",
              "      <th>exclusive_use_area</th>\n",
              "      <th>transaction_year</th>\n",
              "      <th>transaction_real_price</th>\n",
              "      <th>floor</th>\n",
              "      <th>year_of_completion</th>\n",
              "      <th>Unnamed: 8</th>\n",
              "      <th>top10</th>\n",
              "      <th>city_서울특별시</th>\n",
              "      <th>city_부산광역시</th>\n",
              "    </tr>\n",
              "  </thead>\n",
              "  <tbody>\n",
              "    <tr>\n",
              "      <th>0</th>\n",
              "      <td>서울특별시</td>\n",
              "      <td>개포동</td>\n",
              "      <td>개포6차우성아파트1동~8동</td>\n",
              "      <td>79.97</td>\n",
              "      <td>120</td>\n",
              "      <td>130000</td>\n",
              "      <td>4</td>\n",
              "      <td>26</td>\n",
              "      <td>NaN</td>\n",
              "      <td>0</td>\n",
              "      <td>1</td>\n",
              "      <td>0</td>\n",
              "    </tr>\n",
              "  </tbody>\n",
              "</table>\n",
              "</div>"
            ],
            "text/plain": [
              "    city dong             apt  ...  top10  city_서울특별시  city_부산광역시\n",
              "0  서울특별시  개포동  개포6차우성아파트1동~8동  ...      0           1           0\n",
              "\n",
              "[1 rows x 12 columns]"
            ]
          },
          "metadata": {
            "tags": []
          },
          "execution_count": 191
        }
      ]
    },
    {
      "cell_type": "markdown",
      "metadata": {
        "id": "czHNJFTYCHpS"
      },
      "source": [
        "### dong"
      ]
    },
    {
      "cell_type": "code",
      "metadata": {
        "colab": {
          "base_uri": "https://localhost:8080/"
        },
        "id": "jyYoNORFA-C-",
        "outputId": "76ab2b16-f574-464d-f7d6-d907ae709912"
      },
      "source": [
        "seoul_set = set(extra_df.loc[extra_df['city']=='서울특별시', 'dong'])\n",
        "busan_set = set(extra_df.loc[extra_df['city']=='부산광역시', 'dong'])\n",
        "same_dong = seoul_set & busan_set\n",
        "print(same_dong)\n",
        "\n",
        "for d in same_dong:\n",
        "    if False:\n",
        "        pass\n",
        "    else:\n",
        "        extra_df.loc[(extra_df['city']=='서울특별시') & (extra_df['dong']==d), 'dong'] = '서울' + d\n",
        "        extra_df.loc[(extra_df['city']=='부산광역시') & (extra_df['dong']==d), 'dong'] = '부산' + d\n",
        "\n",
        "seoul_set = set(extra_df.loc[extra_df['city']=='서울특별시', 'dong'])\n",
        "busan_set = set(extra_df.loc[extra_df['city']=='부산광역시', 'dong'])\n",
        "same_dong = seoul_set & busan_set\n",
        "print(same_dong) "
      ],
      "execution_count": 192,
      "outputs": [
        {
          "output_type": "stream",
          "text": [
            "set()\n",
            "set()\n"
          ],
          "name": "stdout"
        }
      ]
    },
    {
      "cell_type": "code",
      "metadata": {
        "colab": {
          "base_uri": "https://localhost:8080/"
        },
        "id": "8w5oBdBzGe8w",
        "outputId": "e557b64e-c93c-4817-bfba-41bb811a4e08"
      },
      "source": [
        "all_df2 = pd.concat([o_train_df, o_test_df], axis=0).reset_index(drop=True)\n",
        "\n",
        "seoul_set = set(all_df2.loc[all_df2['city']=='서울특별시', 'dong'])\n",
        "busan_set = set(all_df2.loc[all_df2['city']=='부산광역시', 'dong'])\n",
        "same_dong = seoul_set & busan_set \n",
        "print(same_dong)\n",
        "\n",
        "for d in same_dong:\n",
        "    all_df2.loc[(all_df2['city']=='서울특별시') & (all_df2['dong']==d), 'dong'] = '서울' + d\n",
        "    all_df2.loc[(all_df2['city']=='부산광역시') & (all_df2['dong']==d), 'dong'] = '부산' + d\n",
        "\n",
        "dong_price = all_df2.groupby('dong')['transaction_real_price'].agg('mean').sort_values(ascending=False)\n",
        "\n",
        "# 가격기준으로 동을 정렬한 리스트를 바탕으로 dong에 대해 라벨 인코딩 진행\n",
        "for i, d in enumerate(list(dong_price.index)):\n",
        "    extra_df.loc[extra_df['dong'] == d, 'dong'] = i\n"
      ],
      "execution_count": 193,
      "outputs": [
        {
          "output_type": "stream",
          "text": [
            "{'송정동', '사직동', '중동', '부암동'}\n"
          ],
          "name": "stdout"
        }
      ]
    },
    {
      "cell_type": "markdown",
      "metadata": {
        "id": "m52QIrjrFd-M"
      },
      "source": [
        "### floor"
      ]
    },
    {
      "cell_type": "code",
      "metadata": {
        "id": "KByoTEtWFS9e"
      },
      "source": [
        "extra_df['floor'] += 4"
      ],
      "execution_count": 194,
      "outputs": []
    },
    {
      "cell_type": "markdown",
      "metadata": {
        "id": "cO1cNYbgCFul"
      },
      "source": [
        "### price, area"
      ]
    },
    {
      "cell_type": "code",
      "metadata": {
        "colab": {
          "base_uri": "https://localhost:8080/",
          "height": 80
        },
        "id": "plXikB7kEKka",
        "outputId": "863c2e9b-4bc1-4483-8280-9202d7350d5d"
      },
      "source": [
        "extra_df['log_price'] = np.log1p(extra_df['transaction_real_price'])\n",
        "extra_df['log_area'] = np.log1p(extra_df['exclusive_use_area'])\n",
        "extra_df.head(1)"
      ],
      "execution_count": 195,
      "outputs": [
        {
          "output_type": "execute_result",
          "data": {
            "text/html": [
              "<div>\n",
              "<style scoped>\n",
              "    .dataframe tbody tr th:only-of-type {\n",
              "        vertical-align: middle;\n",
              "    }\n",
              "\n",
              "    .dataframe tbody tr th {\n",
              "        vertical-align: top;\n",
              "    }\n",
              "\n",
              "    .dataframe thead th {\n",
              "        text-align: right;\n",
              "    }\n",
              "</style>\n",
              "<table border=\"1\" class=\"dataframe\">\n",
              "  <thead>\n",
              "    <tr style=\"text-align: right;\">\n",
              "      <th></th>\n",
              "      <th>city</th>\n",
              "      <th>dong</th>\n",
              "      <th>apt</th>\n",
              "      <th>exclusive_use_area</th>\n",
              "      <th>transaction_year</th>\n",
              "      <th>transaction_real_price</th>\n",
              "      <th>floor</th>\n",
              "      <th>year_of_completion</th>\n",
              "      <th>Unnamed: 8</th>\n",
              "      <th>top10</th>\n",
              "      <th>city_서울특별시</th>\n",
              "      <th>city_부산광역시</th>\n",
              "      <th>log_price</th>\n",
              "      <th>log_area</th>\n",
              "    </tr>\n",
              "  </thead>\n",
              "  <tbody>\n",
              "    <tr>\n",
              "      <th>0</th>\n",
              "      <td>서울특별시</td>\n",
              "      <td>41</td>\n",
              "      <td>개포6차우성아파트1동~8동</td>\n",
              "      <td>79.97</td>\n",
              "      <td>120</td>\n",
              "      <td>130000</td>\n",
              "      <td>8</td>\n",
              "      <td>26</td>\n",
              "      <td>NaN</td>\n",
              "      <td>0</td>\n",
              "      <td>1</td>\n",
              "      <td>0</td>\n",
              "      <td>11.775297</td>\n",
              "      <td>4.394079</td>\n",
              "    </tr>\n",
              "  </tbody>\n",
              "</table>\n",
              "</div>"
            ],
            "text/plain": [
              "    city dong             apt  ...  city_부산광역시  log_price  log_area\n",
              "0  서울특별시   41  개포6차우성아파트1동~8동  ...           0  11.775297  4.394079\n",
              "\n",
              "[1 rows x 14 columns]"
            ]
          },
          "metadata": {
            "tags": []
          },
          "execution_count": 195
        }
      ]
    },
    {
      "cell_type": "markdown",
      "metadata": {
        "id": "vslDmPV8FUcv"
      },
      "source": [
        "### drop"
      ]
    },
    {
      "cell_type": "code",
      "metadata": {
        "colab": {
          "base_uri": "https://localhost:8080/",
          "height": 390
        },
        "id": "RCAg1X6pFPrs",
        "outputId": "b948ce2e-4d09-48c0-82be-7208169abfd8"
      },
      "source": [
        "real_price = extra_df['transaction_real_price']\n",
        "extra_df.drop(['city', 'apt', 'exclusive_use_area', 'Unnamed: 8', 'transaction_real_price'], axis=1, inplace=True)\n",
        "extra_df\n"
      ],
      "execution_count": 196,
      "outputs": [
        {
          "output_type": "execute_result",
          "data": {
            "text/html": [
              "<div>\n",
              "<style scoped>\n",
              "    .dataframe tbody tr th:only-of-type {\n",
              "        vertical-align: middle;\n",
              "    }\n",
              "\n",
              "    .dataframe tbody tr th {\n",
              "        vertical-align: top;\n",
              "    }\n",
              "\n",
              "    .dataframe thead th {\n",
              "        text-align: right;\n",
              "    }\n",
              "</style>\n",
              "<table border=\"1\" class=\"dataframe\">\n",
              "  <thead>\n",
              "    <tr style=\"text-align: right;\">\n",
              "      <th></th>\n",
              "      <th>dong</th>\n",
              "      <th>transaction_year</th>\n",
              "      <th>floor</th>\n",
              "      <th>year_of_completion</th>\n",
              "      <th>top10</th>\n",
              "      <th>city_서울특별시</th>\n",
              "      <th>city_부산광역시</th>\n",
              "      <th>log_price</th>\n",
              "      <th>log_area</th>\n",
              "    </tr>\n",
              "  </thead>\n",
              "  <tbody>\n",
              "    <tr>\n",
              "      <th>0</th>\n",
              "      <td>41</td>\n",
              "      <td>120</td>\n",
              "      <td>8</td>\n",
              "      <td>26</td>\n",
              "      <td>0</td>\n",
              "      <td>1</td>\n",
              "      <td>0</td>\n",
              "      <td>11.775297</td>\n",
              "      <td>4.394079</td>\n",
              "    </tr>\n",
              "    <tr>\n",
              "      <th>1</th>\n",
              "      <td>41</td>\n",
              "      <td>121</td>\n",
              "      <td>14</td>\n",
              "      <td>31</td>\n",
              "      <td>0</td>\n",
              "      <td>1</td>\n",
              "      <td>0</td>\n",
              "      <td>11.389639</td>\n",
              "      <td>3.702042</td>\n",
              "    </tr>\n",
              "    <tr>\n",
              "      <th>2</th>\n",
              "      <td>8</td>\n",
              "      <td>123</td>\n",
              "      <td>17</td>\n",
              "      <td>24</td>\n",
              "      <td>0</td>\n",
              "      <td>1</td>\n",
              "      <td>0</td>\n",
              "      <td>12.337105</td>\n",
              "      <td>4.754021</td>\n",
              "    </tr>\n",
              "    <tr>\n",
              "      <th>3</th>\n",
              "      <td>8</td>\n",
              "      <td>125</td>\n",
              "      <td>8</td>\n",
              "      <td>43</td>\n",
              "      <td>0</td>\n",
              "      <td>1</td>\n",
              "      <td>0</td>\n",
              "      <td>11.479379</td>\n",
              "      <td>4.638895</td>\n",
              "    </tr>\n",
              "    <tr>\n",
              "      <th>4</th>\n",
              "      <td>8</td>\n",
              "      <td>120</td>\n",
              "      <td>8</td>\n",
              "      <td>35</td>\n",
              "      <td>0</td>\n",
              "      <td>1</td>\n",
              "      <td>0</td>\n",
              "      <td>11.849405</td>\n",
              "      <td>5.324862</td>\n",
              "    </tr>\n",
              "    <tr>\n",
              "      <th>5</th>\n",
              "      <td>8</td>\n",
              "      <td>122</td>\n",
              "      <td>8</td>\n",
              "      <td>29</td>\n",
              "      <td>0</td>\n",
              "      <td>1</td>\n",
              "      <td>0</td>\n",
              "      <td>11.674202</td>\n",
              "      <td>4.445823</td>\n",
              "    </tr>\n",
              "    <tr>\n",
              "      <th>6</th>\n",
              "      <td>8</td>\n",
              "      <td>127</td>\n",
              "      <td>12</td>\n",
              "      <td>29</td>\n",
              "      <td>0</td>\n",
              "      <td>1</td>\n",
              "      <td>0</td>\n",
              "      <td>11.904974</td>\n",
              "      <td>4.445823</td>\n",
              "    </tr>\n",
              "    <tr>\n",
              "      <th>7</th>\n",
              "      <td>8</td>\n",
              "      <td>128</td>\n",
              "      <td>6</td>\n",
              "      <td>29</td>\n",
              "      <td>0</td>\n",
              "      <td>1</td>\n",
              "      <td>0</td>\n",
              "      <td>11.931642</td>\n",
              "      <td>4.445823</td>\n",
              "    </tr>\n",
              "    <tr>\n",
              "      <th>8</th>\n",
              "      <td>8</td>\n",
              "      <td>121</td>\n",
              "      <td>11</td>\n",
              "      <td>55</td>\n",
              "      <td>0</td>\n",
              "      <td>1</td>\n",
              "      <td>0</td>\n",
              "      <td>11.082158</td>\n",
              "      <td>3.916812</td>\n",
              "    </tr>\n",
              "    <tr>\n",
              "      <th>9</th>\n",
              "      <td>8</td>\n",
              "      <td>123</td>\n",
              "      <td>10</td>\n",
              "      <td>55</td>\n",
              "      <td>0</td>\n",
              "      <td>1</td>\n",
              "      <td>0</td>\n",
              "      <td>10.783135</td>\n",
              "      <td>3.529004</td>\n",
              "    </tr>\n",
              "    <tr>\n",
              "      <th>10</th>\n",
              "      <td>8</td>\n",
              "      <td>124</td>\n",
              "      <td>11</td>\n",
              "      <td>55</td>\n",
              "      <td>0</td>\n",
              "      <td>1</td>\n",
              "      <td>0</td>\n",
              "      <td>11.126086</td>\n",
              "      <td>3.916812</td>\n",
              "    </tr>\n",
              "  </tbody>\n",
              "</table>\n",
              "</div>"
            ],
            "text/plain": [
              "   dong  transaction_year  floor  ...  city_부산광역시  log_price  log_area\n",
              "0    41               120      8  ...           0  11.775297  4.394079\n",
              "1    41               121     14  ...           0  11.389639  3.702042\n",
              "2     8               123     17  ...           0  12.337105  4.754021\n",
              "3     8               125      8  ...           0  11.479379  4.638895\n",
              "4     8               120      8  ...           0  11.849405  5.324862\n",
              "5     8               122      8  ...           0  11.674202  4.445823\n",
              "6     8               127     12  ...           0  11.904974  4.445823\n",
              "7     8               128      6  ...           0  11.931642  4.445823\n",
              "8     8               121     11  ...           0  11.082158  3.916812\n",
              "9     8               123     10  ...           0  10.783135  3.529004\n",
              "10    8               124     11  ...           0  11.126086  3.916812\n",
              "\n",
              "[11 rows x 9 columns]"
            ]
          },
          "metadata": {
            "tags": []
          },
          "execution_count": 196
        }
      ]
    },
    {
      "cell_type": "code",
      "metadata": {
        "id": "WrWKloLtYQRH"
      },
      "source": [
        "extra_df.to_csv(PATH + 'extra_df_final.csv', index=False)"
      ],
      "execution_count": 203,
      "outputs": []
    },
    {
      "cell_type": "code",
      "metadata": {
        "id": "rOQNHThRYRFM"
      },
      "source": [
        "extra_df2 = pd.read_csv(PATH + 'extra_df_final.csv')"
      ],
      "execution_count": 204,
      "outputs": []
    },
    {
      "cell_type": "code",
      "metadata": {
        "colab": {
          "base_uri": "https://localhost:8080/",
          "height": 390
        },
        "id": "C8ZFTWl8YsKq",
        "outputId": "8e19bbc5-13a1-4bd3-c16e-859409b90f54"
      },
      "source": [
        "extra_df2"
      ],
      "execution_count": 206,
      "outputs": [
        {
          "output_type": "execute_result",
          "data": {
            "text/html": [
              "<div>\n",
              "<style scoped>\n",
              "    .dataframe tbody tr th:only-of-type {\n",
              "        vertical-align: middle;\n",
              "    }\n",
              "\n",
              "    .dataframe tbody tr th {\n",
              "        vertical-align: top;\n",
              "    }\n",
              "\n",
              "    .dataframe thead th {\n",
              "        text-align: right;\n",
              "    }\n",
              "</style>\n",
              "<table border=\"1\" class=\"dataframe\">\n",
              "  <thead>\n",
              "    <tr style=\"text-align: right;\">\n",
              "      <th></th>\n",
              "      <th>dong</th>\n",
              "      <th>transaction_year</th>\n",
              "      <th>floor</th>\n",
              "      <th>year_of_completion</th>\n",
              "      <th>top10</th>\n",
              "      <th>city_서울특별시</th>\n",
              "      <th>city_부산광역시</th>\n",
              "      <th>log_price</th>\n",
              "      <th>log_area</th>\n",
              "    </tr>\n",
              "  </thead>\n",
              "  <tbody>\n",
              "    <tr>\n",
              "      <th>0</th>\n",
              "      <td>41</td>\n",
              "      <td>120</td>\n",
              "      <td>8</td>\n",
              "      <td>26</td>\n",
              "      <td>0</td>\n",
              "      <td>1</td>\n",
              "      <td>0</td>\n",
              "      <td>11.775297</td>\n",
              "      <td>4.394079</td>\n",
              "    </tr>\n",
              "    <tr>\n",
              "      <th>1</th>\n",
              "      <td>41</td>\n",
              "      <td>121</td>\n",
              "      <td>14</td>\n",
              "      <td>31</td>\n",
              "      <td>0</td>\n",
              "      <td>1</td>\n",
              "      <td>0</td>\n",
              "      <td>11.389639</td>\n",
              "      <td>3.702042</td>\n",
              "    </tr>\n",
              "    <tr>\n",
              "      <th>2</th>\n",
              "      <td>8</td>\n",
              "      <td>123</td>\n",
              "      <td>17</td>\n",
              "      <td>24</td>\n",
              "      <td>0</td>\n",
              "      <td>1</td>\n",
              "      <td>0</td>\n",
              "      <td>12.337105</td>\n",
              "      <td>4.754021</td>\n",
              "    </tr>\n",
              "    <tr>\n",
              "      <th>3</th>\n",
              "      <td>8</td>\n",
              "      <td>125</td>\n",
              "      <td>8</td>\n",
              "      <td>43</td>\n",
              "      <td>0</td>\n",
              "      <td>1</td>\n",
              "      <td>0</td>\n",
              "      <td>11.479379</td>\n",
              "      <td>4.638895</td>\n",
              "    </tr>\n",
              "    <tr>\n",
              "      <th>4</th>\n",
              "      <td>8</td>\n",
              "      <td>120</td>\n",
              "      <td>8</td>\n",
              "      <td>35</td>\n",
              "      <td>0</td>\n",
              "      <td>1</td>\n",
              "      <td>0</td>\n",
              "      <td>11.849405</td>\n",
              "      <td>5.324862</td>\n",
              "    </tr>\n",
              "    <tr>\n",
              "      <th>5</th>\n",
              "      <td>8</td>\n",
              "      <td>122</td>\n",
              "      <td>8</td>\n",
              "      <td>29</td>\n",
              "      <td>0</td>\n",
              "      <td>1</td>\n",
              "      <td>0</td>\n",
              "      <td>11.674202</td>\n",
              "      <td>4.445823</td>\n",
              "    </tr>\n",
              "    <tr>\n",
              "      <th>6</th>\n",
              "      <td>8</td>\n",
              "      <td>127</td>\n",
              "      <td>12</td>\n",
              "      <td>29</td>\n",
              "      <td>0</td>\n",
              "      <td>1</td>\n",
              "      <td>0</td>\n",
              "      <td>11.904974</td>\n",
              "      <td>4.445823</td>\n",
              "    </tr>\n",
              "    <tr>\n",
              "      <th>7</th>\n",
              "      <td>8</td>\n",
              "      <td>128</td>\n",
              "      <td>6</td>\n",
              "      <td>29</td>\n",
              "      <td>0</td>\n",
              "      <td>1</td>\n",
              "      <td>0</td>\n",
              "      <td>11.931642</td>\n",
              "      <td>4.445823</td>\n",
              "    </tr>\n",
              "    <tr>\n",
              "      <th>8</th>\n",
              "      <td>8</td>\n",
              "      <td>121</td>\n",
              "      <td>11</td>\n",
              "      <td>55</td>\n",
              "      <td>0</td>\n",
              "      <td>1</td>\n",
              "      <td>0</td>\n",
              "      <td>11.082158</td>\n",
              "      <td>3.916812</td>\n",
              "    </tr>\n",
              "    <tr>\n",
              "      <th>9</th>\n",
              "      <td>8</td>\n",
              "      <td>123</td>\n",
              "      <td>10</td>\n",
              "      <td>55</td>\n",
              "      <td>0</td>\n",
              "      <td>1</td>\n",
              "      <td>0</td>\n",
              "      <td>10.783135</td>\n",
              "      <td>3.529004</td>\n",
              "    </tr>\n",
              "    <tr>\n",
              "      <th>10</th>\n",
              "      <td>8</td>\n",
              "      <td>124</td>\n",
              "      <td>11</td>\n",
              "      <td>55</td>\n",
              "      <td>0</td>\n",
              "      <td>1</td>\n",
              "      <td>0</td>\n",
              "      <td>11.126086</td>\n",
              "      <td>3.916812</td>\n",
              "    </tr>\n",
              "  </tbody>\n",
              "</table>\n",
              "</div>"
            ],
            "text/plain": [
              "    dong  transaction_year  floor  ...  city_부산광역시  log_price  log_area\n",
              "0     41               120      8  ...           0  11.775297  4.394079\n",
              "1     41               121     14  ...           0  11.389639  3.702042\n",
              "2      8               123     17  ...           0  12.337105  4.754021\n",
              "3      8               125      8  ...           0  11.479379  4.638895\n",
              "4      8               120      8  ...           0  11.849405  5.324862\n",
              "5      8               122      8  ...           0  11.674202  4.445823\n",
              "6      8               127     12  ...           0  11.904974  4.445823\n",
              "7      8               128      6  ...           0  11.931642  4.445823\n",
              "8      8               121     11  ...           0  11.082158  3.916812\n",
              "9      8               123     10  ...           0  10.783135  3.529004\n",
              "10     8               124     11  ...           0  11.126086  3.916812\n",
              "\n",
              "[11 rows x 9 columns]"
            ]
          },
          "metadata": {
            "tags": []
          },
          "execution_count": 206
        }
      ]
    },
    {
      "cell_type": "code",
      "metadata": {
        "colab": {
          "base_uri": "https://localhost:8080/"
        },
        "id": "u-behuprPiOx",
        "outputId": "aedcdaaf-e5c4-4ab5-e032-5197ba458af3"
      },
      "source": [
        "extra_df2.info()"
      ],
      "execution_count": 205,
      "outputs": [
        {
          "output_type": "stream",
          "text": [
            "<class 'pandas.core.frame.DataFrame'>\n",
            "RangeIndex: 11 entries, 0 to 10\n",
            "Data columns (total 9 columns):\n",
            " #   Column              Non-Null Count  Dtype  \n",
            "---  ------              --------------  -----  \n",
            " 0   dong                11 non-null     int64  \n",
            " 1   transaction_year    11 non-null     int64  \n",
            " 2   floor               11 non-null     int64  \n",
            " 3   year_of_completion  11 non-null     int64  \n",
            " 4   top10               11 non-null     int64  \n",
            " 5   city_서울특별시          11 non-null     int64  \n",
            " 6   city_부산광역시          11 non-null     int64  \n",
            " 7   log_price           11 non-null     float64\n",
            " 8   log_area            11 non-null     float64\n",
            "dtypes: float64(2), int64(7)\n",
            "memory usage: 920.0 bytes\n"
          ],
          "name": "stdout"
        }
      ]
    },
    {
      "cell_type": "markdown",
      "metadata": {
        "id": "5gEevZqONFAv"
      },
      "source": [
        "### 예측"
      ]
    },
    {
      "cell_type": "code",
      "metadata": {
        "colab": {
          "base_uri": "https://localhost:8080/"
        },
        "id": "B8Xhs0-TNAim",
        "outputId": "0cbcd2dd-4ed9-46e2-8bb3-a5cab7320ae3"
      },
      "source": [
        "extra_predict_log = final_xgb_model.predict(extra_df2.drop('log_price', axis=1))\n",
        "extra_predict_exp = np.expm1(extra_predict_log)\n",
        "print(RMSE(real_price, extra_predict_exp))\n",
        "print(RMSE(np.log1p(real_price), extra_predict_log))"
      ],
      "execution_count": 208,
      "outputs": [
        {
          "output_type": "stream",
          "text": [
            "111075.80914935649\n",
            "1.8920496604357162\n"
          ],
          "name": "stdout"
        },
        {
          "output_type": "stream",
          "text": [
            "/usr/local/lib/python3.7/dist-packages/xgboost/data.py:114: UserWarning:\n",
            "\n",
            "Use subset (sliced data) of np.ndarray is not recommended because it will generate extra copies and increase memory consumption\n",
            "\n"
          ],
          "name": "stderr"
        }
      ]
    },
    {
      "cell_type": "code",
      "metadata": {
        "colab": {
          "base_uri": "https://localhost:8080/"
        },
        "id": "SPLmga94NBTF",
        "outputId": "06e61ed0-3a55-469a-d810-0f7b3c04ffd4"
      },
      "source": [
        "print(real_price)\n",
        "print(extra_predict_exp)\n",
        "print(np.log1p(real_price))\n",
        "print(extra_predict_log)"
      ],
      "execution_count": 209,
      "outputs": [
        {
          "output_type": "stream",
          "text": [
            "0     130000\n",
            "1      88400\n",
            "2     228000\n",
            "3      96700\n",
            "4     140000\n",
            "5     117500\n",
            "6     148000\n",
            "7     152000\n",
            "8      65000\n",
            "9      48200\n",
            "10     67919\n",
            "Name: transaction_real_price, dtype: int64\n",
            "[16815.758 16676.76  16558.133 17145.72  16866.225 16680.56  15863.19\n",
            " 16591.504 17978.535 18240.105 17978.535]\n",
            "0     11.775297\n",
            "1     11.389639\n",
            "2     12.337105\n",
            "3     11.479379\n",
            "4     11.849405\n",
            "5     11.674202\n",
            "6     11.904974\n",
            "7     11.931642\n",
            "8     11.082158\n",
            "9     10.783135\n",
            "10    11.126086\n",
            "Name: transaction_real_price, dtype: float64\n",
            "[9.730131 9.721831 9.714693 9.749562 9.733128 9.722059 9.67182  9.716706\n",
            " 9.796989 9.811433 9.796989]\n"
          ],
          "name": "stdout"
        }
      ]
    },
    {
      "cell_type": "code",
      "metadata": {
        "colab": {
          "base_uri": "https://localhost:8080/",
          "height": 419
        },
        "id": "0M5vCWcbTcCD",
        "outputId": "0ca8a11b-91f5-41e1-9c7f-3179a4919857"
      },
      "source": [
        "test_df"
      ],
      "execution_count": 210,
      "outputs": [
        {
          "output_type": "execute_result",
          "data": {
            "text/html": [
              "<div>\n",
              "<style scoped>\n",
              "    .dataframe tbody tr th:only-of-type {\n",
              "        vertical-align: middle;\n",
              "    }\n",
              "\n",
              "    .dataframe tbody tr th {\n",
              "        vertical-align: top;\n",
              "    }\n",
              "\n",
              "    .dataframe thead th {\n",
              "        text-align: right;\n",
              "    }\n",
              "</style>\n",
              "<table border=\"1\" class=\"dataframe\">\n",
              "  <thead>\n",
              "    <tr style=\"text-align: right;\">\n",
              "      <th></th>\n",
              "      <th>dong</th>\n",
              "      <th>year_of_completion</th>\n",
              "      <th>transaction_year_month</th>\n",
              "      <th>floor</th>\n",
              "      <th>top10</th>\n",
              "      <th>log_area</th>\n",
              "      <th>city_부산광역시</th>\n",
              "      <th>city_서울특별시</th>\n",
              "    </tr>\n",
              "  </thead>\n",
              "  <tbody>\n",
              "    <tr>\n",
              "      <th>1216553</th>\n",
              "      <td>51</td>\n",
              "      <td>41</td>\n",
              "      <td>118</td>\n",
              "      <td>6</td>\n",
              "      <td>0</td>\n",
              "      <td>3.598681</td>\n",
              "      <td>0</td>\n",
              "      <td>1</td>\n",
              "    </tr>\n",
              "    <tr>\n",
              "      <th>1216554</th>\n",
              "      <td>417</td>\n",
              "      <td>16</td>\n",
              "      <td>115</td>\n",
              "      <td>6</td>\n",
              "      <td>0</td>\n",
              "      <td>4.244487</td>\n",
              "      <td>1</td>\n",
              "      <td>0</td>\n",
              "    </tr>\n",
              "    <tr>\n",
              "      <th>1216555</th>\n",
              "      <td>409</td>\n",
              "      <td>28</td>\n",
              "      <td>117</td>\n",
              "      <td>6</td>\n",
              "      <td>0</td>\n",
              "      <td>4.297829</td>\n",
              "      <td>1</td>\n",
              "      <td>0</td>\n",
              "    </tr>\n",
              "    <tr>\n",
              "      <th>1216556</th>\n",
              "      <td>8</td>\n",
              "      <td>43</td>\n",
              "      <td>114</td>\n",
              "      <td>14</td>\n",
              "      <td>0</td>\n",
              "      <td>4.723309</td>\n",
              "      <td>0</td>\n",
              "      <td>1</td>\n",
              "    </tr>\n",
              "    <tr>\n",
              "      <th>1216557</th>\n",
              "      <td>415</td>\n",
              "      <td>53</td>\n",
              "      <td>119</td>\n",
              "      <td>25</td>\n",
              "      <td>1</td>\n",
              "      <td>4.792809</td>\n",
              "      <td>1</td>\n",
              "      <td>0</td>\n",
              "    </tr>\n",
              "    <tr>\n",
              "      <th>...</th>\n",
              "      <td>...</td>\n",
              "      <td>...</td>\n",
              "      <td>...</td>\n",
              "      <td>...</td>\n",
              "      <td>...</td>\n",
              "      <td>...</td>\n",
              "      <td>...</td>\n",
              "      <td>...</td>\n",
              "    </tr>\n",
              "    <tr>\n",
              "      <th>1222011</th>\n",
              "      <td>97</td>\n",
              "      <td>42</td>\n",
              "      <td>117</td>\n",
              "      <td>11</td>\n",
              "      <td>0</td>\n",
              "      <td>4.443239</td>\n",
              "      <td>0</td>\n",
              "      <td>1</td>\n",
              "    </tr>\n",
              "    <tr>\n",
              "      <th>1222012</th>\n",
              "      <td>5</td>\n",
              "      <td>48</td>\n",
              "      <td>119</td>\n",
              "      <td>8</td>\n",
              "      <td>1</td>\n",
              "      <td>4.453533</td>\n",
              "      <td>0</td>\n",
              "      <td>1</td>\n",
              "    </tr>\n",
              "    <tr>\n",
              "      <th>1222013</th>\n",
              "      <td>274</td>\n",
              "      <td>43</td>\n",
              "      <td>119</td>\n",
              "      <td>27</td>\n",
              "      <td>1</td>\n",
              "      <td>4.711222</td>\n",
              "      <td>0</td>\n",
              "      <td>1</td>\n",
              "    </tr>\n",
              "    <tr>\n",
              "      <th>1222014</th>\n",
              "      <td>223</td>\n",
              "      <td>44</td>\n",
              "      <td>117</td>\n",
              "      <td>5</td>\n",
              "      <td>0</td>\n",
              "      <td>4.537320</td>\n",
              "      <td>0</td>\n",
              "      <td>1</td>\n",
              "    </tr>\n",
              "    <tr>\n",
              "      <th>1222015</th>\n",
              "      <td>333</td>\n",
              "      <td>32</td>\n",
              "      <td>119</td>\n",
              "      <td>11</td>\n",
              "      <td>0</td>\n",
              "      <td>4.450152</td>\n",
              "      <td>1</td>\n",
              "      <td>0</td>\n",
              "    </tr>\n",
              "  </tbody>\n",
              "</table>\n",
              "<p>5463 rows × 8 columns</p>\n",
              "</div>"
            ],
            "text/plain": [
              "         dong  year_of_completion  ...  city_부산광역시  city_서울특별시\n",
              "1216553    51                  41  ...           0           1\n",
              "1216554   417                  16  ...           1           0\n",
              "1216555   409                  28  ...           1           0\n",
              "1216556     8                  43  ...           0           1\n",
              "1216557   415                  53  ...           1           0\n",
              "...       ...                 ...  ...         ...         ...\n",
              "1222011    97                  42  ...           0           1\n",
              "1222012     5                  48  ...           0           1\n",
              "1222013   274                  43  ...           0           1\n",
              "1222014   223                  44  ...           0           1\n",
              "1222015   333                  32  ...           1           0\n",
              "\n",
              "[5463 rows x 8 columns]"
            ]
          },
          "metadata": {
            "tags": []
          },
          "execution_count": 210
        }
      ]
    },
    {
      "cell_type": "code",
      "metadata": {
        "id": "5WsGB8swaCnh"
      },
      "source": [
        ""
      ],
      "execution_count": null,
      "outputs": []
    }
  ]
}